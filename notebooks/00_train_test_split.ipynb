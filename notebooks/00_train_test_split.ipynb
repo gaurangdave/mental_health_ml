{
 "cells": [
  {
   "cell_type": "markdown",
   "id": "254fab10",
   "metadata": {},
   "source": [
    "* This notebook focuses on following tasks,\n",
    "    * Create train/test dataset.\n",
    "    * EDA.\n",
    "    * Feature Engineering.\n",
    "    * Planning next steps to create a prediction model and data analysis."
   ]
  },
  {
   "cell_type": "markdown",
   "id": "0d02e2c2",
   "metadata": {},
   "source": [
    "## Import Libraries"
   ]
  },
  {
   "cell_type": "code",
   "execution_count": 1,
   "id": "8bde266d",
   "metadata": {},
   "outputs": [],
   "source": [
    "import pandas as pd\n",
    "import numpy as np\n",
    "import matplotlib as plt\n",
    "\n",
    "from pathlib import Path"
   ]
  },
  {
   "cell_type": "markdown",
   "id": "592615b4",
   "metadata": {},
   "source": [
    "## Initialize Helper Functions & Constants"
   ]
  },
  {
   "cell_type": "code",
   "execution_count": 2,
   "id": "98cb9a5a",
   "metadata": {},
   "outputs": [],
   "source": [
    "## root directory for all data files\n",
    "data_dir = Path(\"..\", \"data\")\n",
    "raw_data_file = Path(data_dir, \"student_depression_dataset.csv\")"
   ]
  },
  {
   "cell_type": "markdown",
   "id": "0771bda1",
   "metadata": {},
   "source": [
    "## Read Data"
   ]
  },
  {
   "cell_type": "code",
   "execution_count": 3,
   "id": "00d11431",
   "metadata": {},
   "outputs": [],
   "source": [
    "## read data from csv file\n",
    "data = pd.read_csv(raw_data_file)"
   ]
  },
  {
   "cell_type": "code",
   "execution_count": 4,
   "id": "65ac326e",
   "metadata": {},
   "outputs": [
    {
     "data": {
      "text/plain": [
       "(27901, 18)"
      ]
     },
     "execution_count": 4,
     "metadata": {},
     "output_type": "execute_result"
    }
   ],
   "source": [
    "## verify the data \n",
    "data.shape"
   ]
  },
  {
   "cell_type": "markdown",
   "id": "32a864e7",
   "metadata": {},
   "source": [
    "## Quick Look"
   ]
  },
  {
   "cell_type": "markdown",
   "id": "d44b241e",
   "metadata": {},
   "source": [
    "* Lets explore the data to,\n",
    "    * Check for missing data.\n",
    "    * Identify the column names and types.\n",
    "    * Identify the targer variable. "
   ]
  },
  {
   "cell_type": "markdown",
   "id": "a5c0652d",
   "metadata": {},
   "source": [
    "### Exploring Data Columns"
   ]
  },
  {
   "cell_type": "code",
   "execution_count": 5,
   "id": "12afa8db",
   "metadata": {},
   "outputs": [
    {
     "data": {
      "text/plain": [
       "id                                         int64\n",
       "Gender                                    object\n",
       "Age                                      float64\n",
       "City                                      object\n",
       "Profession                                object\n",
       "Academic Pressure                        float64\n",
       "Work Pressure                            float64\n",
       "CGPA                                     float64\n",
       "Study Satisfaction                       float64\n",
       "Job Satisfaction                         float64\n",
       "Sleep Duration                            object\n",
       "Dietary Habits                            object\n",
       "Degree                                    object\n",
       "Have you ever had suicidal thoughts ?     object\n",
       "Work/Study Hours                         float64\n",
       "Financial Stress                          object\n",
       "Family History of Mental Illness          object\n",
       "Depression                                 int64\n",
       "dtype: object"
      ]
     },
     "execution_count": 5,
     "metadata": {},
     "output_type": "execute_result"
    }
   ],
   "source": [
    "data.dtypes"
   ]
  },
  {
   "cell_type": "markdown",
   "id": "79bf72ff",
   "metadata": {},
   "source": [
    "* Looks like the `Depression` column is the target variable. \n",
    "* Before we confirm that lets change the column names to lower case and remove spaces for simplify management. "
   ]
  },
  {
   "cell_type": "markdown",
   "id": "24cc6cf9",
   "metadata": {},
   "source": [
    "#### Changing Column Names"
   ]
  },
  {
   "cell_type": "code",
   "execution_count": 6,
   "id": "54e14865",
   "metadata": {},
   "outputs": [
    {
     "data": {
      "text/plain": [
       "{'id': 'id',\n",
       " 'Gender': 'gender',\n",
       " 'Age': 'age',\n",
       " 'City': 'city',\n",
       " 'Profession': 'profession',\n",
       " 'Academic Pressure': 'academic_pressure',\n",
       " 'Work Pressure': 'work_pressure',\n",
       " 'CGPA': 'cgpa',\n",
       " 'Study Satisfaction': 'study_satisfaction',\n",
       " 'Job Satisfaction': 'job_satisfaction',\n",
       " 'Sleep Duration': 'sleep_duration',\n",
       " 'Dietary Habits': 'dietary_habits',\n",
       " 'Degree': 'degree',\n",
       " 'Have you ever had suicidal thoughts ?': 'have_you_ever_had_suicidal_thoughts_?',\n",
       " 'Work/Study Hours': 'work/study_hours',\n",
       " 'Financial Stress': 'financial_stress',\n",
       " 'Family History of Mental Illness': 'family_history_of_mental_illness',\n",
       " 'Depression': 'depression'}"
      ]
     },
     "execution_count": 6,
     "metadata": {},
     "output_type": "execute_result"
    }
   ],
   "source": [
    "column_mapping = {}\n",
    "\n",
    "for col in data.columns:\n",
    "    column_mapping[col] = \"_\".join(col.split(\" \")).lower()\n",
    "\n",
    "column_mapping"
   ]
  },
  {
   "cell_type": "code",
   "execution_count": 7,
   "id": "73433e74",
   "metadata": {},
   "outputs": [],
   "source": [
    "data.rename(columns={'id': 'id',\n",
    "                     'Gender': 'gender',\n",
    "                     'Age': 'age',\n",
    "                     'City': 'city',\n",
    "                     'Profession': 'profession',\n",
    "                     'Academic Pressure': 'academic_pressure',\n",
    "                     'Work Pressure': 'work_pressure',\n",
    "                     'CGPA': 'cgpa',\n",
    "                     'Study Satisfaction': 'study_satisfaction',\n",
    "                     'Job Satisfaction': 'job_satisfaction',\n",
    "                     'Sleep Duration': 'sleep_duration',\n",
    "                     'Dietary Habits': 'dietary_habits',\n",
    "                     'Degree': 'degree',\n",
    "                     'Have you ever had suicidal thoughts ?': 'suicidal_thoughts',\n",
    "                     'Work/Study Hours': 'work_study_hours',\n",
    "                     'Financial Stress': 'financial_stress',\n",
    "                     'Family History of Mental Illness': 'family_history',\n",
    "                     'Depression': 'depression'}, inplace=True)"
   ]
  },
  {
   "cell_type": "code",
   "execution_count": 8,
   "id": "6ea9125a",
   "metadata": {},
   "outputs": [
    {
     "data": {
      "application/vnd.microsoft.datawrangler.viewer.v0+json": {
       "columns": [
        {
         "name": "index",
         "rawType": "int64",
         "type": "integer"
        },
        {
         "name": "id",
         "rawType": "int64",
         "type": "integer"
        },
        {
         "name": "gender",
         "rawType": "object",
         "type": "string"
        },
        {
         "name": "age",
         "rawType": "float64",
         "type": "float"
        },
        {
         "name": "city",
         "rawType": "object",
         "type": "string"
        },
        {
         "name": "profession",
         "rawType": "object",
         "type": "string"
        },
        {
         "name": "academic_pressure",
         "rawType": "float64",
         "type": "float"
        },
        {
         "name": "work_pressure",
         "rawType": "float64",
         "type": "float"
        },
        {
         "name": "cgpa",
         "rawType": "float64",
         "type": "float"
        },
        {
         "name": "study_satisfaction",
         "rawType": "float64",
         "type": "float"
        },
        {
         "name": "job_satisfaction",
         "rawType": "float64",
         "type": "float"
        },
        {
         "name": "sleep_duration",
         "rawType": "object",
         "type": "string"
        },
        {
         "name": "dietary_habits",
         "rawType": "object",
         "type": "string"
        },
        {
         "name": "degree",
         "rawType": "object",
         "type": "string"
        },
        {
         "name": "suicidal_thoughts",
         "rawType": "object",
         "type": "string"
        },
        {
         "name": "work_study_hours",
         "rawType": "float64",
         "type": "float"
        },
        {
         "name": "financial_stress",
         "rawType": "object",
         "type": "string"
        },
        {
         "name": "family_history",
         "rawType": "object",
         "type": "string"
        },
        {
         "name": "depression",
         "rawType": "int64",
         "type": "integer"
        }
       ],
       "conversionMethod": "pd.DataFrame",
       "ref": "c9e8d36e-fbfd-42e5-8884-00ae4c7252f6",
       "rows": [
        [
         "0",
         "2",
         "Male",
         "33.0",
         "Visakhapatnam",
         "Student",
         "5.0",
         "0.0",
         "8.97",
         "2.0",
         "0.0",
         "'5-6 hours'",
         "Healthy",
         "B.Pharm",
         "Yes",
         "3.0",
         "1.0",
         "No",
         "1"
        ],
        [
         "1",
         "8",
         "Female",
         "24.0",
         "Bangalore",
         "Student",
         "2.0",
         "0.0",
         "5.9",
         "5.0",
         "0.0",
         "'5-6 hours'",
         "Moderate",
         "BSc",
         "No",
         "3.0",
         "2.0",
         "Yes",
         "0"
        ],
        [
         "2",
         "26",
         "Male",
         "31.0",
         "Srinagar",
         "Student",
         "3.0",
         "0.0",
         "7.03",
         "5.0",
         "0.0",
         "'Less than 5 hours'",
         "Healthy",
         "BA",
         "No",
         "9.0",
         "1.0",
         "Yes",
         "0"
        ],
        [
         "3",
         "30",
         "Female",
         "28.0",
         "Varanasi",
         "Student",
         "3.0",
         "0.0",
         "5.59",
         "2.0",
         "0.0",
         "'7-8 hours'",
         "Moderate",
         "BCA",
         "Yes",
         "4.0",
         "5.0",
         "Yes",
         "1"
        ],
        [
         "4",
         "32",
         "Female",
         "25.0",
         "Jaipur",
         "Student",
         "4.0",
         "0.0",
         "8.13",
         "3.0",
         "0.0",
         "'5-6 hours'",
         "Moderate",
         "M.Tech",
         "Yes",
         "1.0",
         "1.0",
         "No",
         "0"
        ]
       ],
       "shape": {
        "columns": 18,
        "rows": 5
       }
      },
      "text/html": [
       "<div>\n",
       "<style scoped>\n",
       "    .dataframe tbody tr th:only-of-type {\n",
       "        vertical-align: middle;\n",
       "    }\n",
       "\n",
       "    .dataframe tbody tr th {\n",
       "        vertical-align: top;\n",
       "    }\n",
       "\n",
       "    .dataframe thead th {\n",
       "        text-align: right;\n",
       "    }\n",
       "</style>\n",
       "<table border=\"1\" class=\"dataframe\">\n",
       "  <thead>\n",
       "    <tr style=\"text-align: right;\">\n",
       "      <th></th>\n",
       "      <th>id</th>\n",
       "      <th>gender</th>\n",
       "      <th>age</th>\n",
       "      <th>city</th>\n",
       "      <th>profession</th>\n",
       "      <th>academic_pressure</th>\n",
       "      <th>work_pressure</th>\n",
       "      <th>cgpa</th>\n",
       "      <th>study_satisfaction</th>\n",
       "      <th>job_satisfaction</th>\n",
       "      <th>sleep_duration</th>\n",
       "      <th>dietary_habits</th>\n",
       "      <th>degree</th>\n",
       "      <th>suicidal_thoughts</th>\n",
       "      <th>work_study_hours</th>\n",
       "      <th>financial_stress</th>\n",
       "      <th>family_history</th>\n",
       "      <th>depression</th>\n",
       "    </tr>\n",
       "  </thead>\n",
       "  <tbody>\n",
       "    <tr>\n",
       "      <th>0</th>\n",
       "      <td>2</td>\n",
       "      <td>Male</td>\n",
       "      <td>33.0</td>\n",
       "      <td>Visakhapatnam</td>\n",
       "      <td>Student</td>\n",
       "      <td>5.0</td>\n",
       "      <td>0.0</td>\n",
       "      <td>8.97</td>\n",
       "      <td>2.0</td>\n",
       "      <td>0.0</td>\n",
       "      <td>'5-6 hours'</td>\n",
       "      <td>Healthy</td>\n",
       "      <td>B.Pharm</td>\n",
       "      <td>Yes</td>\n",
       "      <td>3.0</td>\n",
       "      <td>1.0</td>\n",
       "      <td>No</td>\n",
       "      <td>1</td>\n",
       "    </tr>\n",
       "    <tr>\n",
       "      <th>1</th>\n",
       "      <td>8</td>\n",
       "      <td>Female</td>\n",
       "      <td>24.0</td>\n",
       "      <td>Bangalore</td>\n",
       "      <td>Student</td>\n",
       "      <td>2.0</td>\n",
       "      <td>0.0</td>\n",
       "      <td>5.90</td>\n",
       "      <td>5.0</td>\n",
       "      <td>0.0</td>\n",
       "      <td>'5-6 hours'</td>\n",
       "      <td>Moderate</td>\n",
       "      <td>BSc</td>\n",
       "      <td>No</td>\n",
       "      <td>3.0</td>\n",
       "      <td>2.0</td>\n",
       "      <td>Yes</td>\n",
       "      <td>0</td>\n",
       "    </tr>\n",
       "    <tr>\n",
       "      <th>2</th>\n",
       "      <td>26</td>\n",
       "      <td>Male</td>\n",
       "      <td>31.0</td>\n",
       "      <td>Srinagar</td>\n",
       "      <td>Student</td>\n",
       "      <td>3.0</td>\n",
       "      <td>0.0</td>\n",
       "      <td>7.03</td>\n",
       "      <td>5.0</td>\n",
       "      <td>0.0</td>\n",
       "      <td>'Less than 5 hours'</td>\n",
       "      <td>Healthy</td>\n",
       "      <td>BA</td>\n",
       "      <td>No</td>\n",
       "      <td>9.0</td>\n",
       "      <td>1.0</td>\n",
       "      <td>Yes</td>\n",
       "      <td>0</td>\n",
       "    </tr>\n",
       "    <tr>\n",
       "      <th>3</th>\n",
       "      <td>30</td>\n",
       "      <td>Female</td>\n",
       "      <td>28.0</td>\n",
       "      <td>Varanasi</td>\n",
       "      <td>Student</td>\n",
       "      <td>3.0</td>\n",
       "      <td>0.0</td>\n",
       "      <td>5.59</td>\n",
       "      <td>2.0</td>\n",
       "      <td>0.0</td>\n",
       "      <td>'7-8 hours'</td>\n",
       "      <td>Moderate</td>\n",
       "      <td>BCA</td>\n",
       "      <td>Yes</td>\n",
       "      <td>4.0</td>\n",
       "      <td>5.0</td>\n",
       "      <td>Yes</td>\n",
       "      <td>1</td>\n",
       "    </tr>\n",
       "    <tr>\n",
       "      <th>4</th>\n",
       "      <td>32</td>\n",
       "      <td>Female</td>\n",
       "      <td>25.0</td>\n",
       "      <td>Jaipur</td>\n",
       "      <td>Student</td>\n",
       "      <td>4.0</td>\n",
       "      <td>0.0</td>\n",
       "      <td>8.13</td>\n",
       "      <td>3.0</td>\n",
       "      <td>0.0</td>\n",
       "      <td>'5-6 hours'</td>\n",
       "      <td>Moderate</td>\n",
       "      <td>M.Tech</td>\n",
       "      <td>Yes</td>\n",
       "      <td>1.0</td>\n",
       "      <td>1.0</td>\n",
       "      <td>No</td>\n",
       "      <td>0</td>\n",
       "    </tr>\n",
       "  </tbody>\n",
       "</table>\n",
       "</div>"
      ],
      "text/plain": [
       "   id  gender   age           city profession  academic_pressure  \\\n",
       "0   2    Male  33.0  Visakhapatnam    Student                5.0   \n",
       "1   8  Female  24.0      Bangalore    Student                2.0   \n",
       "2  26    Male  31.0       Srinagar    Student                3.0   \n",
       "3  30  Female  28.0       Varanasi    Student                3.0   \n",
       "4  32  Female  25.0         Jaipur    Student                4.0   \n",
       "\n",
       "   work_pressure  cgpa  study_satisfaction  job_satisfaction  \\\n",
       "0            0.0  8.97                 2.0               0.0   \n",
       "1            0.0  5.90                 5.0               0.0   \n",
       "2            0.0  7.03                 5.0               0.0   \n",
       "3            0.0  5.59                 2.0               0.0   \n",
       "4            0.0  8.13                 3.0               0.0   \n",
       "\n",
       "        sleep_duration dietary_habits   degree suicidal_thoughts  \\\n",
       "0          '5-6 hours'        Healthy  B.Pharm               Yes   \n",
       "1          '5-6 hours'       Moderate      BSc                No   \n",
       "2  'Less than 5 hours'        Healthy       BA                No   \n",
       "3          '7-8 hours'       Moderate      BCA               Yes   \n",
       "4          '5-6 hours'       Moderate   M.Tech               Yes   \n",
       "\n",
       "   work_study_hours financial_stress family_history  depression  \n",
       "0               3.0              1.0             No           1  \n",
       "1               3.0              2.0            Yes           0  \n",
       "2               9.0              1.0            Yes           0  \n",
       "3               4.0              5.0            Yes           1  \n",
       "4               1.0              1.0             No           0  "
      ]
     },
     "execution_count": 8,
     "metadata": {},
     "output_type": "execute_result"
    }
   ],
   "source": [
    "data.head()"
   ]
  },
  {
   "cell_type": "markdown",
   "id": "b7fd0f91",
   "metadata": {},
   "source": [
    "#### Deleting Columns"
   ]
  },
  {
   "cell_type": "code",
   "execution_count": 9,
   "id": "d273e81b",
   "metadata": {},
   "outputs": [],
   "source": [
    "## Lets delete the Id column since that won't be useful for analysis or prediction. \n",
    "data.drop(columns=[\"id\"],inplace=True)"
   ]
  },
  {
   "cell_type": "code",
   "execution_count": 10,
   "id": "ee1bd7b0",
   "metadata": {},
   "outputs": [
    {
     "data": {
      "application/vnd.microsoft.datawrangler.viewer.v0+json": {
       "columns": [
        {
         "name": "index",
         "rawType": "int64",
         "type": "integer"
        },
        {
         "name": "gender",
         "rawType": "object",
         "type": "string"
        },
        {
         "name": "age",
         "rawType": "float64",
         "type": "float"
        },
        {
         "name": "city",
         "rawType": "object",
         "type": "string"
        },
        {
         "name": "profession",
         "rawType": "object",
         "type": "string"
        },
        {
         "name": "academic_pressure",
         "rawType": "float64",
         "type": "float"
        },
        {
         "name": "work_pressure",
         "rawType": "float64",
         "type": "float"
        },
        {
         "name": "cgpa",
         "rawType": "float64",
         "type": "float"
        },
        {
         "name": "study_satisfaction",
         "rawType": "float64",
         "type": "float"
        },
        {
         "name": "job_satisfaction",
         "rawType": "float64",
         "type": "float"
        },
        {
         "name": "sleep_duration",
         "rawType": "object",
         "type": "string"
        },
        {
         "name": "dietary_habits",
         "rawType": "object",
         "type": "string"
        },
        {
         "name": "degree",
         "rawType": "object",
         "type": "string"
        },
        {
         "name": "suicidal_thoughts",
         "rawType": "object",
         "type": "string"
        },
        {
         "name": "work_study_hours",
         "rawType": "float64",
         "type": "float"
        },
        {
         "name": "financial_stress",
         "rawType": "object",
         "type": "string"
        },
        {
         "name": "family_history",
         "rawType": "object",
         "type": "string"
        },
        {
         "name": "depression",
         "rawType": "int64",
         "type": "integer"
        }
       ],
       "conversionMethod": "pd.DataFrame",
       "ref": "60a75787-886f-493c-9277-ab29cbb31ac8",
       "rows": [
        [
         "0",
         "Male",
         "33.0",
         "Visakhapatnam",
         "Student",
         "5.0",
         "0.0",
         "8.97",
         "2.0",
         "0.0",
         "'5-6 hours'",
         "Healthy",
         "B.Pharm",
         "Yes",
         "3.0",
         "1.0",
         "No",
         "1"
        ],
        [
         "1",
         "Female",
         "24.0",
         "Bangalore",
         "Student",
         "2.0",
         "0.0",
         "5.9",
         "5.0",
         "0.0",
         "'5-6 hours'",
         "Moderate",
         "BSc",
         "No",
         "3.0",
         "2.0",
         "Yes",
         "0"
        ],
        [
         "2",
         "Male",
         "31.0",
         "Srinagar",
         "Student",
         "3.0",
         "0.0",
         "7.03",
         "5.0",
         "0.0",
         "'Less than 5 hours'",
         "Healthy",
         "BA",
         "No",
         "9.0",
         "1.0",
         "Yes",
         "0"
        ],
        [
         "3",
         "Female",
         "28.0",
         "Varanasi",
         "Student",
         "3.0",
         "0.0",
         "5.59",
         "2.0",
         "0.0",
         "'7-8 hours'",
         "Moderate",
         "BCA",
         "Yes",
         "4.0",
         "5.0",
         "Yes",
         "1"
        ],
        [
         "4",
         "Female",
         "25.0",
         "Jaipur",
         "Student",
         "4.0",
         "0.0",
         "8.13",
         "3.0",
         "0.0",
         "'5-6 hours'",
         "Moderate",
         "M.Tech",
         "Yes",
         "1.0",
         "1.0",
         "No",
         "0"
        ]
       ],
       "shape": {
        "columns": 17,
        "rows": 5
       }
      },
      "text/html": [
       "<div>\n",
       "<style scoped>\n",
       "    .dataframe tbody tr th:only-of-type {\n",
       "        vertical-align: middle;\n",
       "    }\n",
       "\n",
       "    .dataframe tbody tr th {\n",
       "        vertical-align: top;\n",
       "    }\n",
       "\n",
       "    .dataframe thead th {\n",
       "        text-align: right;\n",
       "    }\n",
       "</style>\n",
       "<table border=\"1\" class=\"dataframe\">\n",
       "  <thead>\n",
       "    <tr style=\"text-align: right;\">\n",
       "      <th></th>\n",
       "      <th>gender</th>\n",
       "      <th>age</th>\n",
       "      <th>city</th>\n",
       "      <th>profession</th>\n",
       "      <th>academic_pressure</th>\n",
       "      <th>work_pressure</th>\n",
       "      <th>cgpa</th>\n",
       "      <th>study_satisfaction</th>\n",
       "      <th>job_satisfaction</th>\n",
       "      <th>sleep_duration</th>\n",
       "      <th>dietary_habits</th>\n",
       "      <th>degree</th>\n",
       "      <th>suicidal_thoughts</th>\n",
       "      <th>work_study_hours</th>\n",
       "      <th>financial_stress</th>\n",
       "      <th>family_history</th>\n",
       "      <th>depression</th>\n",
       "    </tr>\n",
       "  </thead>\n",
       "  <tbody>\n",
       "    <tr>\n",
       "      <th>0</th>\n",
       "      <td>Male</td>\n",
       "      <td>33.0</td>\n",
       "      <td>Visakhapatnam</td>\n",
       "      <td>Student</td>\n",
       "      <td>5.0</td>\n",
       "      <td>0.0</td>\n",
       "      <td>8.97</td>\n",
       "      <td>2.0</td>\n",
       "      <td>0.0</td>\n",
       "      <td>'5-6 hours'</td>\n",
       "      <td>Healthy</td>\n",
       "      <td>B.Pharm</td>\n",
       "      <td>Yes</td>\n",
       "      <td>3.0</td>\n",
       "      <td>1.0</td>\n",
       "      <td>No</td>\n",
       "      <td>1</td>\n",
       "    </tr>\n",
       "    <tr>\n",
       "      <th>1</th>\n",
       "      <td>Female</td>\n",
       "      <td>24.0</td>\n",
       "      <td>Bangalore</td>\n",
       "      <td>Student</td>\n",
       "      <td>2.0</td>\n",
       "      <td>0.0</td>\n",
       "      <td>5.90</td>\n",
       "      <td>5.0</td>\n",
       "      <td>0.0</td>\n",
       "      <td>'5-6 hours'</td>\n",
       "      <td>Moderate</td>\n",
       "      <td>BSc</td>\n",
       "      <td>No</td>\n",
       "      <td>3.0</td>\n",
       "      <td>2.0</td>\n",
       "      <td>Yes</td>\n",
       "      <td>0</td>\n",
       "    </tr>\n",
       "    <tr>\n",
       "      <th>2</th>\n",
       "      <td>Male</td>\n",
       "      <td>31.0</td>\n",
       "      <td>Srinagar</td>\n",
       "      <td>Student</td>\n",
       "      <td>3.0</td>\n",
       "      <td>0.0</td>\n",
       "      <td>7.03</td>\n",
       "      <td>5.0</td>\n",
       "      <td>0.0</td>\n",
       "      <td>'Less than 5 hours'</td>\n",
       "      <td>Healthy</td>\n",
       "      <td>BA</td>\n",
       "      <td>No</td>\n",
       "      <td>9.0</td>\n",
       "      <td>1.0</td>\n",
       "      <td>Yes</td>\n",
       "      <td>0</td>\n",
       "    </tr>\n",
       "    <tr>\n",
       "      <th>3</th>\n",
       "      <td>Female</td>\n",
       "      <td>28.0</td>\n",
       "      <td>Varanasi</td>\n",
       "      <td>Student</td>\n",
       "      <td>3.0</td>\n",
       "      <td>0.0</td>\n",
       "      <td>5.59</td>\n",
       "      <td>2.0</td>\n",
       "      <td>0.0</td>\n",
       "      <td>'7-8 hours'</td>\n",
       "      <td>Moderate</td>\n",
       "      <td>BCA</td>\n",
       "      <td>Yes</td>\n",
       "      <td>4.0</td>\n",
       "      <td>5.0</td>\n",
       "      <td>Yes</td>\n",
       "      <td>1</td>\n",
       "    </tr>\n",
       "    <tr>\n",
       "      <th>4</th>\n",
       "      <td>Female</td>\n",
       "      <td>25.0</td>\n",
       "      <td>Jaipur</td>\n",
       "      <td>Student</td>\n",
       "      <td>4.0</td>\n",
       "      <td>0.0</td>\n",
       "      <td>8.13</td>\n",
       "      <td>3.0</td>\n",
       "      <td>0.0</td>\n",
       "      <td>'5-6 hours'</td>\n",
       "      <td>Moderate</td>\n",
       "      <td>M.Tech</td>\n",
       "      <td>Yes</td>\n",
       "      <td>1.0</td>\n",
       "      <td>1.0</td>\n",
       "      <td>No</td>\n",
       "      <td>0</td>\n",
       "    </tr>\n",
       "  </tbody>\n",
       "</table>\n",
       "</div>"
      ],
      "text/plain": [
       "   gender   age           city profession  academic_pressure  work_pressure  \\\n",
       "0    Male  33.0  Visakhapatnam    Student                5.0            0.0   \n",
       "1  Female  24.0      Bangalore    Student                2.0            0.0   \n",
       "2    Male  31.0       Srinagar    Student                3.0            0.0   \n",
       "3  Female  28.0       Varanasi    Student                3.0            0.0   \n",
       "4  Female  25.0         Jaipur    Student                4.0            0.0   \n",
       "\n",
       "   cgpa  study_satisfaction  job_satisfaction       sleep_duration  \\\n",
       "0  8.97                 2.0               0.0          '5-6 hours'   \n",
       "1  5.90                 5.0               0.0          '5-6 hours'   \n",
       "2  7.03                 5.0               0.0  'Less than 5 hours'   \n",
       "3  5.59                 2.0               0.0          '7-8 hours'   \n",
       "4  8.13                 3.0               0.0          '5-6 hours'   \n",
       "\n",
       "  dietary_habits   degree suicidal_thoughts  work_study_hours  \\\n",
       "0        Healthy  B.Pharm               Yes               3.0   \n",
       "1       Moderate      BSc                No               3.0   \n",
       "2        Healthy       BA                No               9.0   \n",
       "3       Moderate      BCA               Yes               4.0   \n",
       "4       Moderate   M.Tech               Yes               1.0   \n",
       "\n",
       "  financial_stress family_history  depression  \n",
       "0              1.0             No           1  \n",
       "1              2.0            Yes           0  \n",
       "2              1.0            Yes           0  \n",
       "3              5.0            Yes           1  \n",
       "4              1.0             No           0  "
      ]
     },
     "execution_count": 10,
     "metadata": {},
     "output_type": "execute_result"
    }
   ],
   "source": [
    "data.head()"
   ]
  },
  {
   "cell_type": "markdown",
   "id": "210c0c66",
   "metadata": {},
   "source": [
    "#### Saving the Data\n"
   ]
  },
  {
   "cell_type": "code",
   "execution_count": 11,
   "id": "1b6ebf87",
   "metadata": {},
   "outputs": [],
   "source": [
    "## lets save the dataset for future use.\n",
    "data.to_csv(Path(data_dir,\"processed_column_names.csv\"),index=False)"
   ]
  },
  {
   "cell_type": "code",
   "execution_count": 12,
   "id": "747f4823",
   "metadata": {},
   "outputs": [
    {
     "data": {
      "application/vnd.microsoft.datawrangler.viewer.v0+json": {
       "columns": [
        {
         "name": "index",
         "rawType": "int64",
         "type": "integer"
        },
        {
         "name": "gender",
         "rawType": "object",
         "type": "string"
        },
        {
         "name": "age",
         "rawType": "float64",
         "type": "float"
        },
        {
         "name": "city",
         "rawType": "object",
         "type": "string"
        },
        {
         "name": "profession",
         "rawType": "object",
         "type": "string"
        },
        {
         "name": "academic_pressure",
         "rawType": "float64",
         "type": "float"
        },
        {
         "name": "work_pressure",
         "rawType": "float64",
         "type": "float"
        },
        {
         "name": "cgpa",
         "rawType": "float64",
         "type": "float"
        },
        {
         "name": "study_satisfaction",
         "rawType": "float64",
         "type": "float"
        },
        {
         "name": "job_satisfaction",
         "rawType": "float64",
         "type": "float"
        },
        {
         "name": "sleep_duration",
         "rawType": "object",
         "type": "string"
        },
        {
         "name": "dietary_habits",
         "rawType": "object",
         "type": "string"
        },
        {
         "name": "degree",
         "rawType": "object",
         "type": "string"
        },
        {
         "name": "suicidal_thoughts",
         "rawType": "object",
         "type": "string"
        },
        {
         "name": "work_study_hours",
         "rawType": "float64",
         "type": "float"
        },
        {
         "name": "financial_stress",
         "rawType": "object",
         "type": "string"
        },
        {
         "name": "family_history",
         "rawType": "object",
         "type": "string"
        },
        {
         "name": "depression",
         "rawType": "int64",
         "type": "integer"
        }
       ],
       "conversionMethod": "pd.DataFrame",
       "ref": "e526fe58-300c-4fe1-8268-1a512f68b2bd",
       "rows": [
        [
         "0",
         "Male",
         "33.0",
         "Visakhapatnam",
         "Student",
         "5.0",
         "0.0",
         "8.97",
         "2.0",
         "0.0",
         "'5-6 hours'",
         "Healthy",
         "B.Pharm",
         "Yes",
         "3.0",
         "1.0",
         "No",
         "1"
        ],
        [
         "1",
         "Female",
         "24.0",
         "Bangalore",
         "Student",
         "2.0",
         "0.0",
         "5.9",
         "5.0",
         "0.0",
         "'5-6 hours'",
         "Moderate",
         "BSc",
         "No",
         "3.0",
         "2.0",
         "Yes",
         "0"
        ],
        [
         "2",
         "Male",
         "31.0",
         "Srinagar",
         "Student",
         "3.0",
         "0.0",
         "7.03",
         "5.0",
         "0.0",
         "'Less than 5 hours'",
         "Healthy",
         "BA",
         "No",
         "9.0",
         "1.0",
         "Yes",
         "0"
        ],
        [
         "3",
         "Female",
         "28.0",
         "Varanasi",
         "Student",
         "3.0",
         "0.0",
         "5.59",
         "2.0",
         "0.0",
         "'7-8 hours'",
         "Moderate",
         "BCA",
         "Yes",
         "4.0",
         "5.0",
         "Yes",
         "1"
        ],
        [
         "4",
         "Female",
         "25.0",
         "Jaipur",
         "Student",
         "4.0",
         "0.0",
         "8.13",
         "3.0",
         "0.0",
         "'5-6 hours'",
         "Moderate",
         "M.Tech",
         "Yes",
         "1.0",
         "1.0",
         "No",
         "0"
        ]
       ],
       "shape": {
        "columns": 17,
        "rows": 5
       }
      },
      "text/html": [
       "<div>\n",
       "<style scoped>\n",
       "    .dataframe tbody tr th:only-of-type {\n",
       "        vertical-align: middle;\n",
       "    }\n",
       "\n",
       "    .dataframe tbody tr th {\n",
       "        vertical-align: top;\n",
       "    }\n",
       "\n",
       "    .dataframe thead th {\n",
       "        text-align: right;\n",
       "    }\n",
       "</style>\n",
       "<table border=\"1\" class=\"dataframe\">\n",
       "  <thead>\n",
       "    <tr style=\"text-align: right;\">\n",
       "      <th></th>\n",
       "      <th>gender</th>\n",
       "      <th>age</th>\n",
       "      <th>city</th>\n",
       "      <th>profession</th>\n",
       "      <th>academic_pressure</th>\n",
       "      <th>work_pressure</th>\n",
       "      <th>cgpa</th>\n",
       "      <th>study_satisfaction</th>\n",
       "      <th>job_satisfaction</th>\n",
       "      <th>sleep_duration</th>\n",
       "      <th>dietary_habits</th>\n",
       "      <th>degree</th>\n",
       "      <th>suicidal_thoughts</th>\n",
       "      <th>work_study_hours</th>\n",
       "      <th>financial_stress</th>\n",
       "      <th>family_history</th>\n",
       "      <th>depression</th>\n",
       "    </tr>\n",
       "  </thead>\n",
       "  <tbody>\n",
       "    <tr>\n",
       "      <th>0</th>\n",
       "      <td>Male</td>\n",
       "      <td>33.0</td>\n",
       "      <td>Visakhapatnam</td>\n",
       "      <td>Student</td>\n",
       "      <td>5.0</td>\n",
       "      <td>0.0</td>\n",
       "      <td>8.97</td>\n",
       "      <td>2.0</td>\n",
       "      <td>0.0</td>\n",
       "      <td>'5-6 hours'</td>\n",
       "      <td>Healthy</td>\n",
       "      <td>B.Pharm</td>\n",
       "      <td>Yes</td>\n",
       "      <td>3.0</td>\n",
       "      <td>1.0</td>\n",
       "      <td>No</td>\n",
       "      <td>1</td>\n",
       "    </tr>\n",
       "    <tr>\n",
       "      <th>1</th>\n",
       "      <td>Female</td>\n",
       "      <td>24.0</td>\n",
       "      <td>Bangalore</td>\n",
       "      <td>Student</td>\n",
       "      <td>2.0</td>\n",
       "      <td>0.0</td>\n",
       "      <td>5.90</td>\n",
       "      <td>5.0</td>\n",
       "      <td>0.0</td>\n",
       "      <td>'5-6 hours'</td>\n",
       "      <td>Moderate</td>\n",
       "      <td>BSc</td>\n",
       "      <td>No</td>\n",
       "      <td>3.0</td>\n",
       "      <td>2.0</td>\n",
       "      <td>Yes</td>\n",
       "      <td>0</td>\n",
       "    </tr>\n",
       "    <tr>\n",
       "      <th>2</th>\n",
       "      <td>Male</td>\n",
       "      <td>31.0</td>\n",
       "      <td>Srinagar</td>\n",
       "      <td>Student</td>\n",
       "      <td>3.0</td>\n",
       "      <td>0.0</td>\n",
       "      <td>7.03</td>\n",
       "      <td>5.0</td>\n",
       "      <td>0.0</td>\n",
       "      <td>'Less than 5 hours'</td>\n",
       "      <td>Healthy</td>\n",
       "      <td>BA</td>\n",
       "      <td>No</td>\n",
       "      <td>9.0</td>\n",
       "      <td>1.0</td>\n",
       "      <td>Yes</td>\n",
       "      <td>0</td>\n",
       "    </tr>\n",
       "    <tr>\n",
       "      <th>3</th>\n",
       "      <td>Female</td>\n",
       "      <td>28.0</td>\n",
       "      <td>Varanasi</td>\n",
       "      <td>Student</td>\n",
       "      <td>3.0</td>\n",
       "      <td>0.0</td>\n",
       "      <td>5.59</td>\n",
       "      <td>2.0</td>\n",
       "      <td>0.0</td>\n",
       "      <td>'7-8 hours'</td>\n",
       "      <td>Moderate</td>\n",
       "      <td>BCA</td>\n",
       "      <td>Yes</td>\n",
       "      <td>4.0</td>\n",
       "      <td>5.0</td>\n",
       "      <td>Yes</td>\n",
       "      <td>1</td>\n",
       "    </tr>\n",
       "    <tr>\n",
       "      <th>4</th>\n",
       "      <td>Female</td>\n",
       "      <td>25.0</td>\n",
       "      <td>Jaipur</td>\n",
       "      <td>Student</td>\n",
       "      <td>4.0</td>\n",
       "      <td>0.0</td>\n",
       "      <td>8.13</td>\n",
       "      <td>3.0</td>\n",
       "      <td>0.0</td>\n",
       "      <td>'5-6 hours'</td>\n",
       "      <td>Moderate</td>\n",
       "      <td>M.Tech</td>\n",
       "      <td>Yes</td>\n",
       "      <td>1.0</td>\n",
       "      <td>1.0</td>\n",
       "      <td>No</td>\n",
       "      <td>0</td>\n",
       "    </tr>\n",
       "  </tbody>\n",
       "</table>\n",
       "</div>"
      ],
      "text/plain": [
       "   gender   age           city profession  academic_pressure  work_pressure  \\\n",
       "0    Male  33.0  Visakhapatnam    Student                5.0            0.0   \n",
       "1  Female  24.0      Bangalore    Student                2.0            0.0   \n",
       "2    Male  31.0       Srinagar    Student                3.0            0.0   \n",
       "3  Female  28.0       Varanasi    Student                3.0            0.0   \n",
       "4  Female  25.0         Jaipur    Student                4.0            0.0   \n",
       "\n",
       "   cgpa  study_satisfaction  job_satisfaction       sleep_duration  \\\n",
       "0  8.97                 2.0               0.0          '5-6 hours'   \n",
       "1  5.90                 5.0               0.0          '5-6 hours'   \n",
       "2  7.03                 5.0               0.0  'Less than 5 hours'   \n",
       "3  5.59                 2.0               0.0          '7-8 hours'   \n",
       "4  8.13                 3.0               0.0          '5-6 hours'   \n",
       "\n",
       "  dietary_habits   degree suicidal_thoughts  work_study_hours  \\\n",
       "0        Healthy  B.Pharm               Yes               3.0   \n",
       "1       Moderate      BSc                No               3.0   \n",
       "2        Healthy       BA                No               9.0   \n",
       "3       Moderate      BCA               Yes               4.0   \n",
       "4       Moderate   M.Tech               Yes               1.0   \n",
       "\n",
       "  financial_stress family_history  depression  \n",
       "0              1.0             No           1  \n",
       "1              2.0            Yes           0  \n",
       "2              1.0            Yes           0  \n",
       "3              5.0            Yes           1  \n",
       "4              1.0             No           0  "
      ]
     },
     "execution_count": 12,
     "metadata": {},
     "output_type": "execute_result"
    }
   ],
   "source": [
    "data.head()"
   ]
  },
  {
   "cell_type": "code",
   "execution_count": 13,
   "id": "01767916",
   "metadata": {},
   "outputs": [
    {
     "data": {
      "text/plain": [
       "gender                 object\n",
       "age                   float64\n",
       "city                   object\n",
       "profession             object\n",
       "academic_pressure     float64\n",
       "work_pressure         float64\n",
       "cgpa                  float64\n",
       "study_satisfaction    float64\n",
       "job_satisfaction      float64\n",
       "sleep_duration         object\n",
       "dietary_habits         object\n",
       "degree                 object\n",
       "suicidal_thoughts      object\n",
       "work_study_hours      float64\n",
       "financial_stress       object\n",
       "family_history         object\n",
       "depression              int64\n",
       "dtype: object"
      ]
     },
     "execution_count": 13,
     "metadata": {},
     "output_type": "execute_result"
    }
   ],
   "source": [
    "## lets check for column types and missing values\n",
    "data.dtypes"
   ]
  },
  {
   "cell_type": "markdown",
   "id": "89770db1",
   "metadata": {},
   "source": [
    "Observations:\n",
    "* So looks like financial stress needs to be `float` but is set to object, this could be because of some missing values. "
   ]
  },
  {
   "cell_type": "code",
   "execution_count": 14,
   "id": "f38b2e12",
   "metadata": {},
   "outputs": [
    {
     "data": {
      "text/plain": [
       "gender                0\n",
       "age                   0\n",
       "city                  0\n",
       "profession            0\n",
       "academic_pressure     0\n",
       "work_pressure         0\n",
       "cgpa                  0\n",
       "study_satisfaction    0\n",
       "job_satisfaction      0\n",
       "sleep_duration        0\n",
       "dietary_habits        0\n",
       "degree                0\n",
       "suicidal_thoughts     0\n",
       "work_study_hours      0\n",
       "financial_stress      0\n",
       "family_history        0\n",
       "depression            0\n",
       "dtype: int64"
      ]
     },
     "execution_count": 14,
     "metadata": {},
     "output_type": "execute_result"
    }
   ],
   "source": [
    "## lets check for missing values\n",
    "data.isnull().sum()"
   ]
  },
  {
   "cell_type": "code",
   "execution_count": 15,
   "id": "7626572f",
   "metadata": {},
   "outputs": [
    {
     "data": {
      "text/plain": [
       "gender                0\n",
       "age                   0\n",
       "city                  0\n",
       "profession            0\n",
       "academic_pressure     0\n",
       "work_pressure         0\n",
       "cgpa                  0\n",
       "study_satisfaction    0\n",
       "job_satisfaction      0\n",
       "sleep_duration        0\n",
       "dietary_habits        0\n",
       "degree                0\n",
       "suicidal_thoughts     0\n",
       "work_study_hours      0\n",
       "financial_stress      0\n",
       "family_history        0\n",
       "depression            0\n",
       "dtype: int64"
      ]
     },
     "execution_count": 15,
     "metadata": {},
     "output_type": "execute_result"
    }
   ],
   "source": [
    "data.isna().sum()"
   ]
  },
  {
   "cell_type": "code",
   "execution_count": 16,
   "id": "58f874f4",
   "metadata": {},
   "outputs": [
    {
     "data": {
      "text/plain": [
       "array(['1.0', '2.0', '5.0', '3.0', '4.0', '?'], dtype=object)"
      ]
     },
     "execution_count": 16,
     "metadata": {},
     "output_type": "execute_result"
    }
   ],
   "source": [
    "data[\"financial_stress\"].unique()"
   ]
  },
  {
   "cell_type": "markdown",
   "id": "158321dc",
   "metadata": {},
   "source": [
    "* So looks like \"?\" is the only non numeric character in this field"
   ]
  },
  {
   "cell_type": "code",
   "execution_count": 17,
   "id": "0dd018e3",
   "metadata": {},
   "outputs": [
    {
     "data": {
      "text/plain": [
       "financial_stress\n",
       "5.0    6715\n",
       "4.0    5775\n",
       "3.0    5226\n",
       "1.0    5121\n",
       "2.0    5061\n",
       "?         3\n",
       "Name: count, dtype: int64"
      ]
     },
     "execution_count": 17,
     "metadata": {},
     "output_type": "execute_result"
    }
   ],
   "source": [
    "data[\"financial_stress\"].value_counts()"
   ]
  },
  {
   "cell_type": "code",
   "execution_count": 18,
   "id": "f37568d1",
   "metadata": {},
   "outputs": [],
   "source": [
    "data.loc[data[\"financial_stress\"] == \"?\",[\"financial_stress\"]] = np.nan"
   ]
  },
  {
   "cell_type": "code",
   "execution_count": 19,
   "id": "d091c6d2",
   "metadata": {},
   "outputs": [
    {
     "data": {
      "text/plain": [
       "financial_stress\n",
       "5.0    6715\n",
       "4.0    5775\n",
       "3.0    5226\n",
       "1.0    5121\n",
       "2.0    5061\n",
       "Name: count, dtype: int64"
      ]
     },
     "execution_count": 19,
     "metadata": {},
     "output_type": "execute_result"
    }
   ],
   "source": [
    "data[\"financial_stress\"].value_counts()"
   ]
  },
  {
   "cell_type": "code",
   "execution_count": 20,
   "id": "5d8b16a4",
   "metadata": {},
   "outputs": [
    {
     "data": {
      "text/plain": [
       "gender                 object\n",
       "age                   float64\n",
       "city                   object\n",
       "profession             object\n",
       "academic_pressure     float64\n",
       "work_pressure         float64\n",
       "cgpa                  float64\n",
       "study_satisfaction    float64\n",
       "job_satisfaction      float64\n",
       "sleep_duration         object\n",
       "dietary_habits         object\n",
       "degree                 object\n",
       "suicidal_thoughts      object\n",
       "work_study_hours      float64\n",
       "financial_stress       object\n",
       "family_history         object\n",
       "depression              int64\n",
       "dtype: object"
      ]
     },
     "execution_count": 20,
     "metadata": {},
     "output_type": "execute_result"
    }
   ],
   "source": [
    "data.dtypes"
   ]
  },
  {
   "cell_type": "code",
   "execution_count": 21,
   "id": "a0dff7a7",
   "metadata": {},
   "outputs": [],
   "source": [
    "## converting to float\n",
    "data[\"financial_stress\"] = data[\"financial_stress\"].astype(\"float64\")"
   ]
  },
  {
   "cell_type": "code",
   "execution_count": 22,
   "id": "2c312f04",
   "metadata": {},
   "outputs": [
    {
     "data": {
      "application/vnd.microsoft.datawrangler.viewer.v0+json": {
       "columns": [
        {
         "name": "index",
         "rawType": "object",
         "type": "string"
        },
        {
         "name": "age",
         "rawType": "float64",
         "type": "float"
        },
        {
         "name": "academic_pressure",
         "rawType": "float64",
         "type": "float"
        },
        {
         "name": "work_pressure",
         "rawType": "float64",
         "type": "float"
        },
        {
         "name": "cgpa",
         "rawType": "float64",
         "type": "float"
        },
        {
         "name": "study_satisfaction",
         "rawType": "float64",
         "type": "float"
        },
        {
         "name": "job_satisfaction",
         "rawType": "float64",
         "type": "float"
        },
        {
         "name": "work_study_hours",
         "rawType": "float64",
         "type": "float"
        },
        {
         "name": "financial_stress",
         "rawType": "float64",
         "type": "float"
        },
        {
         "name": "depression",
         "rawType": "float64",
         "type": "float"
        }
       ],
       "conversionMethod": "pd.DataFrame",
       "ref": "0d5b3afc-96e7-47bb-ac6a-42402f67541f",
       "rows": [
        [
         "count",
         "27901.0",
         "27901.0",
         "27901.0",
         "27901.0",
         "27901.0",
         "27901.0",
         "27901.0",
         "27898.0",
         "27901.0"
        ],
        [
         "mean",
         "25.82230027597577",
         "3.1412135765743163",
         "0.00043009211139385684",
         "7.65610417189348",
         "2.943837138453819",
         "0.0006809791763736067",
         "7.156983620658758",
         "3.1398666571080365",
         "0.5854987276441704"
        ],
        [
         "std",
         "4.905687448924321",
         "1.3814648413275932",
         "0.043992032063924706",
         "1.4707073462076152",
         "1.3611479552669856",
         "0.04439439621860686",
         "3.7076420727787673",
         "1.4373466968345736",
         "0.49264456369310916"
        ],
        [
         "min",
         "18.0",
         "0.0",
         "0.0",
         "0.0",
         "0.0",
         "0.0",
         "0.0",
         "1.0",
         "0.0"
        ],
        [
         "25%",
         "21.0",
         "2.0",
         "0.0",
         "6.29",
         "2.0",
         "0.0",
         "4.0",
         "2.0",
         "0.0"
        ],
        [
         "50%",
         "25.0",
         "3.0",
         "0.0",
         "7.77",
         "3.0",
         "0.0",
         "8.0",
         "3.0",
         "1.0"
        ],
        [
         "75%",
         "30.0",
         "4.0",
         "0.0",
         "8.92",
         "4.0",
         "0.0",
         "10.0",
         "4.0",
         "1.0"
        ],
        [
         "max",
         "59.0",
         "5.0",
         "5.0",
         "10.0",
         "5.0",
         "4.0",
         "12.0",
         "5.0",
         "1.0"
        ]
       ],
       "shape": {
        "columns": 9,
        "rows": 8
       }
      },
      "text/html": [
       "<div>\n",
       "<style scoped>\n",
       "    .dataframe tbody tr th:only-of-type {\n",
       "        vertical-align: middle;\n",
       "    }\n",
       "\n",
       "    .dataframe tbody tr th {\n",
       "        vertical-align: top;\n",
       "    }\n",
       "\n",
       "    .dataframe thead th {\n",
       "        text-align: right;\n",
       "    }\n",
       "</style>\n",
       "<table border=\"1\" class=\"dataframe\">\n",
       "  <thead>\n",
       "    <tr style=\"text-align: right;\">\n",
       "      <th></th>\n",
       "      <th>age</th>\n",
       "      <th>academic_pressure</th>\n",
       "      <th>work_pressure</th>\n",
       "      <th>cgpa</th>\n",
       "      <th>study_satisfaction</th>\n",
       "      <th>job_satisfaction</th>\n",
       "      <th>work_study_hours</th>\n",
       "      <th>financial_stress</th>\n",
       "      <th>depression</th>\n",
       "    </tr>\n",
       "  </thead>\n",
       "  <tbody>\n",
       "    <tr>\n",
       "      <th>count</th>\n",
       "      <td>27901.000000</td>\n",
       "      <td>27901.000000</td>\n",
       "      <td>27901.000000</td>\n",
       "      <td>27901.000000</td>\n",
       "      <td>27901.000000</td>\n",
       "      <td>27901.000000</td>\n",
       "      <td>27901.000000</td>\n",
       "      <td>27898.000000</td>\n",
       "      <td>27901.000000</td>\n",
       "    </tr>\n",
       "    <tr>\n",
       "      <th>mean</th>\n",
       "      <td>25.822300</td>\n",
       "      <td>3.141214</td>\n",
       "      <td>0.000430</td>\n",
       "      <td>7.656104</td>\n",
       "      <td>2.943837</td>\n",
       "      <td>0.000681</td>\n",
       "      <td>7.156984</td>\n",
       "      <td>3.139867</td>\n",
       "      <td>0.585499</td>\n",
       "    </tr>\n",
       "    <tr>\n",
       "      <th>std</th>\n",
       "      <td>4.905687</td>\n",
       "      <td>1.381465</td>\n",
       "      <td>0.043992</td>\n",
       "      <td>1.470707</td>\n",
       "      <td>1.361148</td>\n",
       "      <td>0.044394</td>\n",
       "      <td>3.707642</td>\n",
       "      <td>1.437347</td>\n",
       "      <td>0.492645</td>\n",
       "    </tr>\n",
       "    <tr>\n",
       "      <th>min</th>\n",
       "      <td>18.000000</td>\n",
       "      <td>0.000000</td>\n",
       "      <td>0.000000</td>\n",
       "      <td>0.000000</td>\n",
       "      <td>0.000000</td>\n",
       "      <td>0.000000</td>\n",
       "      <td>0.000000</td>\n",
       "      <td>1.000000</td>\n",
       "      <td>0.000000</td>\n",
       "    </tr>\n",
       "    <tr>\n",
       "      <th>25%</th>\n",
       "      <td>21.000000</td>\n",
       "      <td>2.000000</td>\n",
       "      <td>0.000000</td>\n",
       "      <td>6.290000</td>\n",
       "      <td>2.000000</td>\n",
       "      <td>0.000000</td>\n",
       "      <td>4.000000</td>\n",
       "      <td>2.000000</td>\n",
       "      <td>0.000000</td>\n",
       "    </tr>\n",
       "    <tr>\n",
       "      <th>50%</th>\n",
       "      <td>25.000000</td>\n",
       "      <td>3.000000</td>\n",
       "      <td>0.000000</td>\n",
       "      <td>7.770000</td>\n",
       "      <td>3.000000</td>\n",
       "      <td>0.000000</td>\n",
       "      <td>8.000000</td>\n",
       "      <td>3.000000</td>\n",
       "      <td>1.000000</td>\n",
       "    </tr>\n",
       "    <tr>\n",
       "      <th>75%</th>\n",
       "      <td>30.000000</td>\n",
       "      <td>4.000000</td>\n",
       "      <td>0.000000</td>\n",
       "      <td>8.920000</td>\n",
       "      <td>4.000000</td>\n",
       "      <td>0.000000</td>\n",
       "      <td>10.000000</td>\n",
       "      <td>4.000000</td>\n",
       "      <td>1.000000</td>\n",
       "    </tr>\n",
       "    <tr>\n",
       "      <th>max</th>\n",
       "      <td>59.000000</td>\n",
       "      <td>5.000000</td>\n",
       "      <td>5.000000</td>\n",
       "      <td>10.000000</td>\n",
       "      <td>5.000000</td>\n",
       "      <td>4.000000</td>\n",
       "      <td>12.000000</td>\n",
       "      <td>5.000000</td>\n",
       "      <td>1.000000</td>\n",
       "    </tr>\n",
       "  </tbody>\n",
       "</table>\n",
       "</div>"
      ],
      "text/plain": [
       "                age  academic_pressure  work_pressure          cgpa  \\\n",
       "count  27901.000000       27901.000000   27901.000000  27901.000000   \n",
       "mean      25.822300           3.141214       0.000430      7.656104   \n",
       "std        4.905687           1.381465       0.043992      1.470707   \n",
       "min       18.000000           0.000000       0.000000      0.000000   \n",
       "25%       21.000000           2.000000       0.000000      6.290000   \n",
       "50%       25.000000           3.000000       0.000000      7.770000   \n",
       "75%       30.000000           4.000000       0.000000      8.920000   \n",
       "max       59.000000           5.000000       5.000000     10.000000   \n",
       "\n",
       "       study_satisfaction  job_satisfaction  work_study_hours  \\\n",
       "count        27901.000000      27901.000000      27901.000000   \n",
       "mean             2.943837          0.000681          7.156984   \n",
       "std              1.361148          0.044394          3.707642   \n",
       "min              0.000000          0.000000          0.000000   \n",
       "25%              2.000000          0.000000          4.000000   \n",
       "50%              3.000000          0.000000          8.000000   \n",
       "75%              4.000000          0.000000         10.000000   \n",
       "max              5.000000          4.000000         12.000000   \n",
       "\n",
       "       financial_stress    depression  \n",
       "count      27898.000000  27901.000000  \n",
       "mean           3.139867      0.585499  \n",
       "std            1.437347      0.492645  \n",
       "min            1.000000      0.000000  \n",
       "25%            2.000000      0.000000  \n",
       "50%            3.000000      1.000000  \n",
       "75%            4.000000      1.000000  \n",
       "max            5.000000      1.000000  "
      ]
     },
     "execution_count": 22,
     "metadata": {},
     "output_type": "execute_result"
    }
   ],
   "source": [
    "data.describe()"
   ]
  },
  {
   "cell_type": "markdown",
   "id": "3306301e",
   "metadata": {},
   "source": [
    "Observations:\n",
    "* Most of the data is not skewed and seems to be centrally aligned.\n",
    "* `work_pressure` and `job_satisfaction` `mean` and `std` values tell us that majority of the data is student data and these 2 fields are mostly zero might be safe to drop them in future. Lets explroe these two columns more. "
   ]
  },
  {
   "cell_type": "markdown",
   "id": "713a4137",
   "metadata": {},
   "source": [
    "### Exploring work_pressure and job_satisfaction"
   ]
  },
  {
   "cell_type": "code",
   "execution_count": 23,
   "id": "2b1354bc",
   "metadata": {},
   "outputs": [
    {
     "data": {
      "text/plain": [
       "work_pressure\n",
       "0.0    27898\n",
       "5.0        2\n",
       "2.0        1\n",
       "Name: count, dtype: int64"
      ]
     },
     "execution_count": 23,
     "metadata": {},
     "output_type": "execute_result"
    }
   ],
   "source": [
    "data[\"work_pressure\"].value_counts()"
   ]
  },
  {
   "cell_type": "code",
   "execution_count": 24,
   "id": "bfa08feb",
   "metadata": {},
   "outputs": [
    {
     "data": {
      "application/vnd.microsoft.datawrangler.viewer.v0+json": {
       "columns": [
        {
         "name": "index",
         "rawType": "int64",
         "type": "integer"
        },
        {
         "name": "age",
         "rawType": "float64",
         "type": "float"
        }
       ],
       "conversionMethod": "pd.DataFrame",
       "ref": "acdb885a-42f1-49df-b606-c232ad2bb42a",
       "rows": [
        [
         "4365",
         "38.0"
        ],
        [
         "25746",
         "18.0"
        ]
       ],
       "shape": {
        "columns": 1,
        "rows": 2
       }
      },
      "text/html": [
       "<div>\n",
       "<style scoped>\n",
       "    .dataframe tbody tr th:only-of-type {\n",
       "        vertical-align: middle;\n",
       "    }\n",
       "\n",
       "    .dataframe tbody tr th {\n",
       "        vertical-align: top;\n",
       "    }\n",
       "\n",
       "    .dataframe thead th {\n",
       "        text-align: right;\n",
       "    }\n",
       "</style>\n",
       "<table border=\"1\" class=\"dataframe\">\n",
       "  <thead>\n",
       "    <tr style=\"text-align: right;\">\n",
       "      <th></th>\n",
       "      <th>age</th>\n",
       "    </tr>\n",
       "  </thead>\n",
       "  <tbody>\n",
       "    <tr>\n",
       "      <th>4365</th>\n",
       "      <td>38.0</td>\n",
       "    </tr>\n",
       "    <tr>\n",
       "      <th>25746</th>\n",
       "      <td>18.0</td>\n",
       "    </tr>\n",
       "  </tbody>\n",
       "</table>\n",
       "</div>"
      ],
      "text/plain": [
       "        age\n",
       "4365   38.0\n",
       "25746  18.0"
      ]
     },
     "execution_count": 24,
     "metadata": {},
     "output_type": "execute_result"
    }
   ],
   "source": [
    "## lets explore the age of students with this work pressure\n",
    "data.loc[data[\"work_pressure\"] == 5.0,[\"age\"]]"
   ]
  },
  {
   "cell_type": "code",
   "execution_count": 25,
   "id": "b58e0852",
   "metadata": {},
   "outputs": [
    {
     "data": {
      "application/vnd.microsoft.datawrangler.viewer.v0+json": {
       "columns": [
        {
         "name": "index",
         "rawType": "int64",
         "type": "integer"
        },
        {
         "name": "age",
         "rawType": "float64",
         "type": "float"
        }
       ],
       "conversionMethod": "pd.DataFrame",
       "ref": "d144edf2-3718-431c-9208-8c3f85b3b2ed",
       "rows": [
        [
         "14855",
         "21.0"
        ]
       ],
       "shape": {
        "columns": 1,
        "rows": 1
       }
      },
      "text/html": [
       "<div>\n",
       "<style scoped>\n",
       "    .dataframe tbody tr th:only-of-type {\n",
       "        vertical-align: middle;\n",
       "    }\n",
       "\n",
       "    .dataframe tbody tr th {\n",
       "        vertical-align: top;\n",
       "    }\n",
       "\n",
       "    .dataframe thead th {\n",
       "        text-align: right;\n",
       "    }\n",
       "</style>\n",
       "<table border=\"1\" class=\"dataframe\">\n",
       "  <thead>\n",
       "    <tr style=\"text-align: right;\">\n",
       "      <th></th>\n",
       "      <th>age</th>\n",
       "    </tr>\n",
       "  </thead>\n",
       "  <tbody>\n",
       "    <tr>\n",
       "      <th>14855</th>\n",
       "      <td>21.0</td>\n",
       "    </tr>\n",
       "  </tbody>\n",
       "</table>\n",
       "</div>"
      ],
      "text/plain": [
       "        age\n",
       "14855  21.0"
      ]
     },
     "execution_count": 25,
     "metadata": {},
     "output_type": "execute_result"
    }
   ],
   "source": [
    "data.loc[data[\"work_pressure\"] == 2.0,[\"age\"]]"
   ]
  },
  {
   "cell_type": "markdown",
   "id": "3f452d41",
   "metadata": {},
   "source": [
    "Observations:\n",
    "* Based on my intuition these records do not make sense. The reason is in India students normally start working after the age of 26 27, normally after they graduate.  \n",
    "* Without additional context and source of dataset its hard to conclude. \n",
    "* But since there are just 3 such records we can safely ignore it for now. "
   ]
  },
  {
   "cell_type": "markdown",
   "id": "f5eecdaa",
   "metadata": {},
   "source": [
    "## Visualize Distributions"
   ]
  },
  {
   "cell_type": "code",
   "execution_count": 26,
   "id": "42ecb10a",
   "metadata": {},
   "outputs": [
    {
     "data": {
      "image/png": "[encoded data removed]",
      "text/plain": [
       "<Figure size 640x480 with 1 Axes>"
      ]
     },
     "metadata": {},
     "output_type": "display_data"
    },
    {
     "data": {
      "image/png": "[encoded data removed]",
      "text/plain": [
       "<Figure size 640x480 with 1 Axes>"
      ]
     },
     "metadata": {},
     "output_type": "display_data"
    },
    {
     "data": {
      "image/png": "[encoded data removed]",
      "text/plain": [
       "<Figure size 640x480 with 1 Axes>"
      ]
     },
     "metadata": {},
     "output_type": "display_data"
    },
    {
     "data": {
      "image/png": "[encoded data removed]",
      "text/plain": [
       "<Figure size 640x480 with 1 Axes>"
      ]
     },
     "metadata": {},
     "output_type": "display_data"
    },
    {
     "data": {
      "image/png": "[encoded data removed]",
      "text/plain": [
       "<Figure size 640x480 with 1 Axes>"
      ]
     },
     "metadata": {},
     "output_type": "display_data"
    },
    {
     "data": {
      "image/png": "[encoded data removed]",
      "text/plain": [
       "<Figure size 640x480 with 1 Axes>"
      ]
     },
     "metadata": {},
     "output_type": "display_data"
    },
    {
     "data": {
      "image/png": "[encoded data removed]",
      "text/plain": [
       "<Figure size 640x480 with 1 Axes>"
      ]
     },
     "metadata": {},
     "output_type": "display_data"
    },
    {
     "data": {
      "image/png": "[encoded data removed]",
      "text/plain": [
       "<Figure size 640x480 with 1 Axes>"
      ]
     },
     "metadata": {},
     "output_type": "display_data"
    },
    {
     "data": {
      "image/png": "[encoded data removed]",
      "text/plain": [
       "<Figure size 640x480 with 1 Axes>"
      ]
     },
     "metadata": {},
     "output_type": "display_data"
    }
   ],
   "source": [
    "import seaborn as sns\n",
    "import matplotlib.pyplot as pyt\n",
    "\n",
    "columns_to_visulize = [\"age\", \"academic_pressure\", \"work_pressure\", \"cgpa\",\"study_satisfaction\",\"job_satisfaction\",\"work_study_hours\", \"depression\", \"financial_stress\"]\n",
    "\n",
    "for col in columns_to_visulize:\n",
    "    pyt.figure()\n",
    "    sns.histplot(data[col], kde=True)"
   ]
  },
  {
   "cell_type": "markdown",
   "id": "2450713f",
   "metadata": {},
   "source": [
    "* So the visualizations align with our understanding of dataset,\n",
    "    * Negligible amout of instances have non-zero \"work_pressure\" and \"job_satisfaction\" values, indicating majority of the instances are of a student or unemployed graduates.\n",
    "    * We do have considerable amout of students above the age of 30 based on this I have a hypothesis there should be an older range of students with higher financial stress and younger range of students with higher academic pressure. \n",
    "* For now next step is to do a train/test split before detailed data exploration. We do this to avoid any data snooping. "
   ]
  },
  {
   "cell_type": "markdown",
   "id": "562ed68f",
   "metadata": {},
   "source": [
    "## Train/Test Split"
   ]
  },
  {
   "cell_type": "code",
   "execution_count": 27,
   "id": "3cd312d9",
   "metadata": {},
   "outputs": [
    {
     "data": {
      "text/plain": [
       "(27901, 17)"
      ]
     },
     "execution_count": 27,
     "metadata": {},
     "output_type": "execute_result"
    }
   ],
   "source": [
    "data.shape"
   ]
  },
  {
   "cell_type": "markdown",
   "id": "67642bbe",
   "metadata": {},
   "source": [
    "* Lets do a stratified 80/20 train test split, this will give us ~22K training data and 5K testing data. "
   ]
  },
  {
   "cell_type": "code",
   "execution_count": 28,
   "id": "21bac00a",
   "metadata": {},
   "outputs": [],
   "source": [
    "## split the dataset into features and target\n",
    "X = data.drop(columns=[\"depression\"])\n",
    "y = data[\"depression\"]"
   ]
  },
  {
   "cell_type": "code",
   "execution_count": 29,
   "id": "20a52db7",
   "metadata": {},
   "outputs": [
    {
     "data": {
      "text/plain": [
       "((27901, 16), (27901,))"
      ]
     },
     "execution_count": 29,
     "metadata": {},
     "output_type": "execute_result"
    }
   ],
   "source": [
    "X.shape,y.shape"
   ]
  },
  {
   "cell_type": "code",
   "execution_count": 30,
   "id": "a66f80bf",
   "metadata": {},
   "outputs": [
    {
     "data": {
      "application/vnd.microsoft.datawrangler.viewer.v0+json": {
       "columns": [
        {
         "name": "index",
         "rawType": "int64",
         "type": "integer"
        },
        {
         "name": "gender",
         "rawType": "object",
         "type": "string"
        },
        {
         "name": "age",
         "rawType": "float64",
         "type": "float"
        },
        {
         "name": "city",
         "rawType": "object",
         "type": "string"
        },
        {
         "name": "profession",
         "rawType": "object",
         "type": "string"
        },
        {
         "name": "academic_pressure",
         "rawType": "float64",
         "type": "float"
        },
        {
         "name": "work_pressure",
         "rawType": "float64",
         "type": "float"
        },
        {
         "name": "cgpa",
         "rawType": "float64",
         "type": "float"
        },
        {
         "name": "study_satisfaction",
         "rawType": "float64",
         "type": "float"
        },
        {
         "name": "job_satisfaction",
         "rawType": "float64",
         "type": "float"
        },
        {
         "name": "sleep_duration",
         "rawType": "object",
         "type": "string"
        },
        {
         "name": "dietary_habits",
         "rawType": "object",
         "type": "string"
        },
        {
         "name": "degree",
         "rawType": "object",
         "type": "string"
        },
        {
         "name": "suicidal_thoughts",
         "rawType": "object",
         "type": "string"
        },
        {
         "name": "work_study_hours",
         "rawType": "float64",
         "type": "float"
        },
        {
         "name": "financial_stress",
         "rawType": "float64",
         "type": "float"
        },
        {
         "name": "family_history",
         "rawType": "object",
         "type": "string"
        }
       ],
       "conversionMethod": "pd.DataFrame",
       "ref": "5bf42a2e-1efb-42ea-a537-e1808f4d2ebc",
       "rows": [
        [
         "0",
         "Male",
         "33.0",
         "Visakhapatnam",
         "Student",
         "5.0",
         "0.0",
         "8.97",
         "2.0",
         "0.0",
         "'5-6 hours'",
         "Healthy",
         "B.Pharm",
         "Yes",
         "3.0",
         "1.0",
         "No"
        ],
        [
         "1",
         "Female",
         "24.0",
         "Bangalore",
         "Student",
         "2.0",
         "0.0",
         "5.9",
         "5.0",
         "0.0",
         "'5-6 hours'",
         "Moderate",
         "BSc",
         "No",
         "3.0",
         "2.0",
         "Yes"
        ],
        [
         "2",
         "Male",
         "31.0",
         "Srinagar",
         "Student",
         "3.0",
         "0.0",
         "7.03",
         "5.0",
         "0.0",
         "'Less than 5 hours'",
         "Healthy",
         "BA",
         "No",
         "9.0",
         "1.0",
         "Yes"
        ],
        [
         "3",
         "Female",
         "28.0",
         "Varanasi",
         "Student",
         "3.0",
         "0.0",
         "5.59",
         "2.0",
         "0.0",
         "'7-8 hours'",
         "Moderate",
         "BCA",
         "Yes",
         "4.0",
         "5.0",
         "Yes"
        ],
        [
         "4",
         "Female",
         "25.0",
         "Jaipur",
         "Student",
         "4.0",
         "0.0",
         "8.13",
         "3.0",
         "0.0",
         "'5-6 hours'",
         "Moderate",
         "M.Tech",
         "Yes",
         "1.0",
         "1.0",
         "No"
        ]
       ],
       "shape": {
        "columns": 16,
        "rows": 5
       }
      },
      "text/html": [
       "<div>\n",
       "<style scoped>\n",
       "    .dataframe tbody tr th:only-of-type {\n",
       "        vertical-align: middle;\n",
       "    }\n",
       "\n",
       "    .dataframe tbody tr th {\n",
       "        vertical-align: top;\n",
       "    }\n",
       "\n",
       "    .dataframe thead th {\n",
       "        text-align: right;\n",
       "    }\n",
       "</style>\n",
       "<table border=\"1\" class=\"dataframe\">\n",
       "  <thead>\n",
       "    <tr style=\"text-align: right;\">\n",
       "      <th></th>\n",
       "      <th>gender</th>\n",
       "      <th>age</th>\n",
       "      <th>city</th>\n",
       "      <th>profession</th>\n",
       "      <th>academic_pressure</th>\n",
       "      <th>work_pressure</th>\n",
       "      <th>cgpa</th>\n",
       "      <th>study_satisfaction</th>\n",
       "      <th>job_satisfaction</th>\n",
       "      <th>sleep_duration</th>\n",
       "      <th>dietary_habits</th>\n",
       "      <th>degree</th>\n",
       "      <th>suicidal_thoughts</th>\n",
       "      <th>work_study_hours</th>\n",
       "      <th>financial_stress</th>\n",
       "      <th>family_history</th>\n",
       "    </tr>\n",
       "  </thead>\n",
       "  <tbody>\n",
       "    <tr>\n",
       "      <th>0</th>\n",
       "      <td>Male</td>\n",
       "      <td>33.0</td>\n",
       "      <td>Visakhapatnam</td>\n",
       "      <td>Student</td>\n",
       "      <td>5.0</td>\n",
       "      <td>0.0</td>\n",
       "      <td>8.97</td>\n",
       "      <td>2.0</td>\n",
       "      <td>0.0</td>\n",
       "      <td>'5-6 hours'</td>\n",
       "      <td>Healthy</td>\n",
       "      <td>B.Pharm</td>\n",
       "      <td>Yes</td>\n",
       "      <td>3.0</td>\n",
       "      <td>1.0</td>\n",
       "      <td>No</td>\n",
       "    </tr>\n",
       "    <tr>\n",
       "      <th>1</th>\n",
       "      <td>Female</td>\n",
       "      <td>24.0</td>\n",
       "      <td>Bangalore</td>\n",
       "      <td>Student</td>\n",
       "      <td>2.0</td>\n",
       "      <td>0.0</td>\n",
       "      <td>5.90</td>\n",
       "      <td>5.0</td>\n",
       "      <td>0.0</td>\n",
       "      <td>'5-6 hours'</td>\n",
       "      <td>Moderate</td>\n",
       "      <td>BSc</td>\n",
       "      <td>No</td>\n",
       "      <td>3.0</td>\n",
       "      <td>2.0</td>\n",
       "      <td>Yes</td>\n",
       "    </tr>\n",
       "    <tr>\n",
       "      <th>2</th>\n",
       "      <td>Male</td>\n",
       "      <td>31.0</td>\n",
       "      <td>Srinagar</td>\n",
       "      <td>Student</td>\n",
       "      <td>3.0</td>\n",
       "      <td>0.0</td>\n",
       "      <td>7.03</td>\n",
       "      <td>5.0</td>\n",
       "      <td>0.0</td>\n",
       "      <td>'Less than 5 hours'</td>\n",
       "      <td>Healthy</td>\n",
       "      <td>BA</td>\n",
       "      <td>No</td>\n",
       "      <td>9.0</td>\n",
       "      <td>1.0</td>\n",
       "      <td>Yes</td>\n",
       "    </tr>\n",
       "    <tr>\n",
       "      <th>3</th>\n",
       "      <td>Female</td>\n",
       "      <td>28.0</td>\n",
       "      <td>Varanasi</td>\n",
       "      <td>Student</td>\n",
       "      <td>3.0</td>\n",
       "      <td>0.0</td>\n",
       "      <td>5.59</td>\n",
       "      <td>2.0</td>\n",
       "      <td>0.0</td>\n",
       "      <td>'7-8 hours'</td>\n",
       "      <td>Moderate</td>\n",
       "      <td>BCA</td>\n",
       "      <td>Yes</td>\n",
       "      <td>4.0</td>\n",
       "      <td>5.0</td>\n",
       "      <td>Yes</td>\n",
       "    </tr>\n",
       "    <tr>\n",
       "      <th>4</th>\n",
       "      <td>Female</td>\n",
       "      <td>25.0</td>\n",
       "      <td>Jaipur</td>\n",
       "      <td>Student</td>\n",
       "      <td>4.0</td>\n",
       "      <td>0.0</td>\n",
       "      <td>8.13</td>\n",
       "      <td>3.0</td>\n",
       "      <td>0.0</td>\n",
       "      <td>'5-6 hours'</td>\n",
       "      <td>Moderate</td>\n",
       "      <td>M.Tech</td>\n",
       "      <td>Yes</td>\n",
       "      <td>1.0</td>\n",
       "      <td>1.0</td>\n",
       "      <td>No</td>\n",
       "    </tr>\n",
       "  </tbody>\n",
       "</table>\n",
       "</div>"
      ],
      "text/plain": [
       "   gender   age           city profession  academic_pressure  work_pressure  \\\n",
       "0    Male  33.0  Visakhapatnam    Student                5.0            0.0   \n",
       "1  Female  24.0      Bangalore    Student                2.0            0.0   \n",
       "2    Male  31.0       Srinagar    Student                3.0            0.0   \n",
       "3  Female  28.0       Varanasi    Student                3.0            0.0   \n",
       "4  Female  25.0         Jaipur    Student                4.0            0.0   \n",
       "\n",
       "   cgpa  study_satisfaction  job_satisfaction       sleep_duration  \\\n",
       "0  8.97                 2.0               0.0          '5-6 hours'   \n",
       "1  5.90                 5.0               0.0          '5-6 hours'   \n",
       "2  7.03                 5.0               0.0  'Less than 5 hours'   \n",
       "3  5.59                 2.0               0.0          '7-8 hours'   \n",
       "4  8.13                 3.0               0.0          '5-6 hours'   \n",
       "\n",
       "  dietary_habits   degree suicidal_thoughts  work_study_hours  \\\n",
       "0        Healthy  B.Pharm               Yes               3.0   \n",
       "1       Moderate      BSc                No               3.0   \n",
       "2        Healthy       BA                No               9.0   \n",
       "3       Moderate      BCA               Yes               4.0   \n",
       "4       Moderate   M.Tech               Yes               1.0   \n",
       "\n",
       "   financial_stress family_history  \n",
       "0               1.0             No  \n",
       "1               2.0            Yes  \n",
       "2               1.0            Yes  \n",
       "3               5.0            Yes  \n",
       "4               1.0             No  "
      ]
     },
     "execution_count": 30,
     "metadata": {},
     "output_type": "execute_result"
    }
   ],
   "source": [
    "X.head()"
   ]
  },
  {
   "cell_type": "code",
   "execution_count": 31,
   "id": "507440f4",
   "metadata": {},
   "outputs": [
    {
     "data": {
      "text/plain": [
       "0    1\n",
       "1    0\n",
       "2    0\n",
       "3    1\n",
       "4    0\n",
       "Name: depression, dtype: int64"
      ]
     },
     "execution_count": 31,
     "metadata": {},
     "output_type": "execute_result"
    }
   ],
   "source": [
    "y.head()"
   ]
  },
  {
   "cell_type": "code",
   "execution_count": 32,
   "id": "084dd6fe",
   "metadata": {},
   "outputs": [
    {
     "data": {
      "text/plain": [
       "((22320, 16), (22320,), (5581, 16), (5581,))"
      ]
     },
     "execution_count": 32,
     "metadata": {},
     "output_type": "execute_result"
    }
   ],
   "source": [
    "from sklearn.model_selection import StratifiedShuffleSplit\n",
    "\n",
    "sss = StratifiedShuffleSplit(n_splits=1, test_size=0.2, random_state=42)\n",
    "\n",
    "for i,(train_index,test_index) in enumerate(sss.split(X,y)):\n",
    "    X_train = X.loc[train_index]\n",
    "    y_train = y.loc[train_index]\n",
    "    X_test = X.loc[test_index]\n",
    "    y_test = y.loc[test_index]\n",
    "    \n",
    "\n",
    "X_train.shape,y_train.shape,X_test.shape,y_test.shape"
   ]
  },
  {
   "cell_type": "code",
   "execution_count": 33,
   "id": "3dce463b",
   "metadata": {},
   "outputs": [],
   "source": [
    "## saving the datasets to files for easier access\n",
    "\n",
    "X_train.to_csv(Path(data_dir,\"X_train.csv\"), index=False)\n",
    "y_train.to_csv(Path(data_dir, \"y_train.csv\"), index=False)\n",
    "X_test.to_csv(Path(data_dir,\"X_test.csv\"), index=False)\n",
    "y_test.to_csv(Path(data_dir, \"y_test.csv\"), index=False)"
   ]
  },
  {
   "cell_type": "markdown",
   "id": "01b0e4f6",
   "metadata": {},
   "source": [
    "## Data Exploration"
   ]
  },
  {
   "cell_type": "code",
   "execution_count": 34,
   "id": "eec743cf",
   "metadata": {},
   "outputs": [
    {
     "data": {
      "application/vnd.microsoft.datawrangler.viewer.v0+json": {
       "columns": [
        {
         "name": "index",
         "rawType": "int64",
         "type": "integer"
        },
        {
         "name": "gender",
         "rawType": "object",
         "type": "string"
        },
        {
         "name": "age",
         "rawType": "float64",
         "type": "float"
        },
        {
         "name": "city",
         "rawType": "object",
         "type": "string"
        },
        {
         "name": "profession",
         "rawType": "object",
         "type": "string"
        },
        {
         "name": "academic_pressure",
         "rawType": "float64",
         "type": "float"
        },
        {
         "name": "work_pressure",
         "rawType": "float64",
         "type": "float"
        },
        {
         "name": "cgpa",
         "rawType": "float64",
         "type": "float"
        },
        {
         "name": "study_satisfaction",
         "rawType": "float64",
         "type": "float"
        },
        {
         "name": "job_satisfaction",
         "rawType": "float64",
         "type": "float"
        },
        {
         "name": "sleep_duration",
         "rawType": "object",
         "type": "string"
        },
        {
         "name": "dietary_habits",
         "rawType": "object",
         "type": "string"
        },
        {
         "name": "degree",
         "rawType": "object",
         "type": "string"
        },
        {
         "name": "suicidal_thoughts",
         "rawType": "object",
         "type": "string"
        },
        {
         "name": "work_study_hours",
         "rawType": "float64",
         "type": "float"
        },
        {
         "name": "financial_stress",
         "rawType": "float64",
         "type": "float"
        },
        {
         "name": "family_history",
         "rawType": "object",
         "type": "string"
        }
       ],
       "conversionMethod": "pd.DataFrame",
       "ref": "8daf9852-e67c-4ff7-97c1-256708db3d1e",
       "rows": [
        [
         "1657",
         "Male",
         "18.0",
         "Jaipur",
         "Student",
         "4.0",
         "0.0",
         "6.02",
         "1.0",
         "0.0",
         "'7-8 hours'",
         "Moderate",
         "'Class 12'",
         "Yes",
         "3.0",
         "5.0",
         "No"
        ],
        [
         "24995",
         "Male",
         "25.0",
         "Vadodara",
         "Student",
         "3.0",
         "0.0",
         "6.37",
         "2.0",
         "0.0",
         "'7-8 hours'",
         "Moderate",
         "B.Arch",
         "No",
         "9.0",
         "1.0",
         "Yes"
        ],
        [
         "27613",
         "Male",
         "30.0",
         "Ahmedabad",
         "Student",
         "3.0",
         "0.0",
         "9.24",
         "2.0",
         "0.0",
         "'7-8 hours'",
         "Unhealthy",
         "M.Ed",
         "Yes",
         "5.0",
         "5.0",
         "Yes"
        ],
        [
         "13512",
         "Male",
         "34.0",
         "Bhopal",
         "Student",
         "3.0",
         "0.0",
         "7.37",
         "5.0",
         "0.0",
         "'7-8 hours'",
         "Moderate",
         "B.Com",
         "Yes",
         "12.0",
         "3.0",
         "No"
        ],
        [
         "27029",
         "Male",
         "25.0",
         "Patna",
         "Student",
         "3.0",
         "0.0",
         "7.47",
         "4.0",
         "0.0",
         "'5-6 hours'",
         "Unhealthy",
         "B.Com",
         "No",
         "11.0",
         "5.0",
         "No"
        ]
       ],
       "shape": {
        "columns": 16,
        "rows": 5
       }
      },
      "text/html": [
       "<div>\n",
       "<style scoped>\n",
       "    .dataframe tbody tr th:only-of-type {\n",
       "        vertical-align: middle;\n",
       "    }\n",
       "\n",
       "    .dataframe tbody tr th {\n",
       "        vertical-align: top;\n",
       "    }\n",
       "\n",
       "    .dataframe thead th {\n",
       "        text-align: right;\n",
       "    }\n",
       "</style>\n",
       "<table border=\"1\" class=\"dataframe\">\n",
       "  <thead>\n",
       "    <tr style=\"text-align: right;\">\n",
       "      <th></th>\n",
       "      <th>gender</th>\n",
       "      <th>age</th>\n",
       "      <th>city</th>\n",
       "      <th>profession</th>\n",
       "      <th>academic_pressure</th>\n",
       "      <th>work_pressure</th>\n",
       "      <th>cgpa</th>\n",
       "      <th>study_satisfaction</th>\n",
       "      <th>job_satisfaction</th>\n",
       "      <th>sleep_duration</th>\n",
       "      <th>dietary_habits</th>\n",
       "      <th>degree</th>\n",
       "      <th>suicidal_thoughts</th>\n",
       "      <th>work_study_hours</th>\n",
       "      <th>financial_stress</th>\n",
       "      <th>family_history</th>\n",
       "    </tr>\n",
       "  </thead>\n",
       "  <tbody>\n",
       "    <tr>\n",
       "      <th>1657</th>\n",
       "      <td>Male</td>\n",
       "      <td>18.0</td>\n",
       "      <td>Jaipur</td>\n",
       "      <td>Student</td>\n",
       "      <td>4.0</td>\n",
       "      <td>0.0</td>\n",
       "      <td>6.02</td>\n",
       "      <td>1.0</td>\n",
       "      <td>0.0</td>\n",
       "      <td>'7-8 hours'</td>\n",
       "      <td>Moderate</td>\n",
       "      <td>'Class 12'</td>\n",
       "      <td>Yes</td>\n",
       "      <td>3.0</td>\n",
       "      <td>5.0</td>\n",
       "      <td>No</td>\n",
       "    </tr>\n",
       "    <tr>\n",
       "      <th>24995</th>\n",
       "      <td>Male</td>\n",
       "      <td>25.0</td>\n",
       "      <td>Vadodara</td>\n",
       "      <td>Student</td>\n",
       "      <td>3.0</td>\n",
       "      <td>0.0</td>\n",
       "      <td>6.37</td>\n",
       "      <td>2.0</td>\n",
       "      <td>0.0</td>\n",
       "      <td>'7-8 hours'</td>\n",
       "      <td>Moderate</td>\n",
       "      <td>B.Arch</td>\n",
       "      <td>No</td>\n",
       "      <td>9.0</td>\n",
       "      <td>1.0</td>\n",
       "      <td>Yes</td>\n",
       "    </tr>\n",
       "    <tr>\n",
       "      <th>27613</th>\n",
       "      <td>Male</td>\n",
       "      <td>30.0</td>\n",
       "      <td>Ahmedabad</td>\n",
       "      <td>Student</td>\n",
       "      <td>3.0</td>\n",
       "      <td>0.0</td>\n",
       "      <td>9.24</td>\n",
       "      <td>2.0</td>\n",
       "      <td>0.0</td>\n",
       "      <td>'7-8 hours'</td>\n",
       "      <td>Unhealthy</td>\n",
       "      <td>M.Ed</td>\n",
       "      <td>Yes</td>\n",
       "      <td>5.0</td>\n",
       "      <td>5.0</td>\n",
       "      <td>Yes</td>\n",
       "    </tr>\n",
       "    <tr>\n",
       "      <th>13512</th>\n",
       "      <td>Male</td>\n",
       "      <td>34.0</td>\n",
       "      <td>Bhopal</td>\n",
       "      <td>Student</td>\n",
       "      <td>3.0</td>\n",
       "      <td>0.0</td>\n",
       "      <td>7.37</td>\n",
       "      <td>5.0</td>\n",
       "      <td>0.0</td>\n",
       "      <td>'7-8 hours'</td>\n",
       "      <td>Moderate</td>\n",
       "      <td>B.Com</td>\n",
       "      <td>Yes</td>\n",
       "      <td>12.0</td>\n",
       "      <td>3.0</td>\n",
       "      <td>No</td>\n",
       "    </tr>\n",
       "    <tr>\n",
       "      <th>27029</th>\n",
       "      <td>Male</td>\n",
       "      <td>25.0</td>\n",
       "      <td>Patna</td>\n",
       "      <td>Student</td>\n",
       "      <td>3.0</td>\n",
       "      <td>0.0</td>\n",
       "      <td>7.47</td>\n",
       "      <td>4.0</td>\n",
       "      <td>0.0</td>\n",
       "      <td>'5-6 hours'</td>\n",
       "      <td>Unhealthy</td>\n",
       "      <td>B.Com</td>\n",
       "      <td>No</td>\n",
       "      <td>11.0</td>\n",
       "      <td>5.0</td>\n",
       "      <td>No</td>\n",
       "    </tr>\n",
       "  </tbody>\n",
       "</table>\n",
       "</div>"
      ],
      "text/plain": [
       "      gender   age       city profession  academic_pressure  work_pressure  \\\n",
       "1657    Male  18.0     Jaipur    Student                4.0            0.0   \n",
       "24995   Male  25.0   Vadodara    Student                3.0            0.0   \n",
       "27613   Male  30.0  Ahmedabad    Student                3.0            0.0   \n",
       "13512   Male  34.0     Bhopal    Student                3.0            0.0   \n",
       "27029   Male  25.0      Patna    Student                3.0            0.0   \n",
       "\n",
       "       cgpa  study_satisfaction  job_satisfaction sleep_duration  \\\n",
       "1657   6.02                 1.0               0.0    '7-8 hours'   \n",
       "24995  6.37                 2.0               0.0    '7-8 hours'   \n",
       "27613  9.24                 2.0               0.0    '7-8 hours'   \n",
       "13512  7.37                 5.0               0.0    '7-8 hours'   \n",
       "27029  7.47                 4.0               0.0    '5-6 hours'   \n",
       "\n",
       "      dietary_habits      degree suicidal_thoughts  work_study_hours  \\\n",
       "1657        Moderate  'Class 12'               Yes               3.0   \n",
       "24995       Moderate      B.Arch                No               9.0   \n",
       "27613      Unhealthy        M.Ed               Yes               5.0   \n",
       "13512       Moderate       B.Com               Yes              12.0   \n",
       "27029      Unhealthy       B.Com                No              11.0   \n",
       "\n",
       "       financial_stress family_history  \n",
       "1657                5.0             No  \n",
       "24995               1.0            Yes  \n",
       "27613               5.0            Yes  \n",
       "13512               3.0             No  \n",
       "27029               5.0             No  "
      ]
     },
     "execution_count": 34,
     "metadata": {},
     "output_type": "execute_result"
    }
   ],
   "source": [
    "X_train.head()"
   ]
  },
  {
   "cell_type": "markdown",
   "id": "27c357ee",
   "metadata": {},
   "source": [
    "### Handling Missing Values"
   ]
  },
  {
   "cell_type": "code",
   "execution_count": 35,
   "id": "d7dfc16e",
   "metadata": {},
   "outputs": [
    {
     "data": {
      "text/plain": [
       "gender                0\n",
       "age                   0\n",
       "city                  0\n",
       "profession            0\n",
       "academic_pressure     0\n",
       "work_pressure         0\n",
       "cgpa                  0\n",
       "study_satisfaction    0\n",
       "job_satisfaction      0\n",
       "sleep_duration        0\n",
       "dietary_habits        0\n",
       "degree                0\n",
       "suicidal_thoughts     0\n",
       "work_study_hours      0\n",
       "financial_stress      2\n",
       "family_history        0\n",
       "dtype: int64"
      ]
     },
     "execution_count": 35,
     "metadata": {},
     "output_type": "execute_result"
    }
   ],
   "source": [
    "X_train.isna().sum()"
   ]
  },
  {
   "cell_type": "code",
   "execution_count": 36,
   "id": "152c7dd5",
   "metadata": {},
   "outputs": [
    {
     "data": {
      "text/plain": [
       "gender                0\n",
       "age                   0\n",
       "city                  0\n",
       "profession            0\n",
       "academic_pressure     0\n",
       "work_pressure         0\n",
       "cgpa                  0\n",
       "study_satisfaction    0\n",
       "job_satisfaction      0\n",
       "sleep_duration        0\n",
       "dietary_habits        0\n",
       "degree                0\n",
       "suicidal_thoughts     0\n",
       "work_study_hours      0\n",
       "financial_stress      2\n",
       "family_history        0\n",
       "dtype: int64"
      ]
     },
     "execution_count": 36,
     "metadata": {},
     "output_type": "execute_result"
    }
   ],
   "source": [
    "X_train.isnull().sum()"
   ]
  },
  {
   "cell_type": "markdown",
   "id": "f182edfc",
   "metadata": {},
   "source": [
    "* So far we only have \"financial_stress\" with couple NaN values, we can fix this with a SimpleImputer or KNNImputer"
   ]
  },
  {
   "cell_type": "markdown",
   "id": "d82a193b",
   "metadata": {},
   "source": [
    "### Exploring Categorical Values"
   ]
  },
  {
   "cell_type": "code",
   "execution_count": 37,
   "id": "0db7523a",
   "metadata": {},
   "outputs": [
    {
     "data": {
      "text/plain": [
       "gender\n",
       "Male      12437\n",
       "Female     9883\n",
       "Name: count, dtype: int64"
      ]
     },
     "execution_count": 37,
     "metadata": {},
     "output_type": "execute_result"
    }
   ],
   "source": [
    "## lets explore the \"gender\" column\n",
    "X_train[\"gender\"].value_counts()"
   ]
  },
  {
   "cell_type": "markdown",
   "id": "d2a29ca8",
   "metadata": {},
   "source": [
    "* Since the dataset has only 2 genders, we'll map them to 1 for \"Male\" and 0 for \"Female\"."
   ]
  },
  {
   "cell_type": "code",
   "execution_count": 38,
   "id": "e0e4e64c",
   "metadata": {},
   "outputs": [
    {
     "data": {
      "text/plain": [
       "city\n",
       "Kalyan                  1284\n",
       "Srinagar                1073\n",
       "Hyderabad               1063\n",
       "Vasai-Virar             1042\n",
       "Lucknow                  943\n",
       "Thane                    910\n",
       "Kolkata                  890\n",
       "Agra                     864\n",
       "Ludhiana                 848\n",
       "Surat                    842\n",
       "Jaipur                   840\n",
       "Patna                    823\n",
       "Visakhapatnam            763\n",
       "Pune                     751\n",
       "Bhopal                   748\n",
       "Ahmedabad                748\n",
       "Chennai                  707\n",
       "Meerut                   660\n",
       "Rajkot                   633\n",
       "Bangalore                625\n",
       "Delhi                    602\n",
       "Ghaziabad                588\n",
       "Mumbai                   563\n",
       "Vadodara                 561\n",
       "Varanasi                 550\n",
       "Nagpur                   533\n",
       "Indore                   519\n",
       "Kanpur                   493\n",
       "Nashik                   452\n",
       "Faridabad                381\n",
       "Harsha                     2\n",
       "Bhavna                     2\n",
       "Saanvi                     2\n",
       "City                       2\n",
       "Khaziabad                  1\n",
       "M.Com                      1\n",
       "3.0                        1\n",
       "Harsh                      1\n",
       "Mihir                      1\n",
       "'Less Delhi'               1\n",
       "Gaurav                     1\n",
       "Nalyan                     1\n",
       "Nandini                    1\n",
       "'Less than 5 Kalyan'       1\n",
       "Reyansh                    1\n",
       "M.Tech                     1\n",
       "Mira                       1\n",
       "Name: count, dtype: int64"
      ]
     },
     "execution_count": 38,
     "metadata": {},
     "output_type": "execute_result"
    }
   ],
   "source": [
    "## lets explore \"city\" column\n",
    "X_train[\"city\"].value_counts()"
   ]
  },
  {
   "cell_type": "markdown",
   "id": "89841122",
   "metadata": {},
   "source": [
    "* So city column needs some clearning, we can see there are some values which are obviously not a city but rather distances, person names and education degree names. \n",
    "* We also have access to a mapping between major Indian cities and their latlong in a different dataset.  We can use that dataset to validate the city names and map latlong to them. \n",
    "* Plan is to then use lat-long to create new features based on similarity. "
   ]
  },
  {
   "cell_type": "code",
   "execution_count": 39,
   "id": "87d88f05",
   "metadata": {},
   "outputs": [],
   "source": [
    "## lets add a temporary flag column is_city which will be set to 1 if its a valid city.\n",
    "## we'll also use this in test in case our test data cities are invalid.\n",
    "X_train[\"is_city\"] = 0"
   ]
  },
  {
   "cell_type": "code",
   "execution_count": 40,
   "id": "5fc4311e",
   "metadata": {},
   "outputs": [],
   "source": [
    "## we'll also add a default lat/long to all cities. \n",
    "## for now lets default it center of India\n",
    "## after searching I learnt that `Nagpur` is the geographical center of India so we'll set the default lat/long to that\n",
    "\n",
    "X_train[\"lat\"] = 21.122615\n",
    "X_train[\"long\"] = 79.041124"
   ]
  },
  {
   "cell_type": "code",
   "execution_count": 41,
   "id": "ab61a0ec",
   "metadata": {},
   "outputs": [
    {
     "data": {
      "application/vnd.microsoft.datawrangler.viewer.v0+json": {
       "columns": [
        {
         "name": "index",
         "rawType": "int64",
         "type": "integer"
        },
        {
         "name": "gender",
         "rawType": "object",
         "type": "string"
        },
        {
         "name": "age",
         "rawType": "float64",
         "type": "float"
        },
        {
         "name": "city",
         "rawType": "object",
         "type": "string"
        },
        {
         "name": "profession",
         "rawType": "object",
         "type": "string"
        },
        {
         "name": "academic_pressure",
         "rawType": "float64",
         "type": "float"
        },
        {
         "name": "work_pressure",
         "rawType": "float64",
         "type": "float"
        },
        {
         "name": "cgpa",
         "rawType": "float64",
         "type": "float"
        },
        {
         "name": "study_satisfaction",
         "rawType": "float64",
         "type": "float"
        },
        {
         "name": "job_satisfaction",
         "rawType": "float64",
         "type": "float"
        },
        {
         "name": "sleep_duration",
         "rawType": "object",
         "type": "string"
        },
        {
         "name": "dietary_habits",
         "rawType": "object",
         "type": "string"
        },
        {
         "name": "degree",
         "rawType": "object",
         "type": "string"
        },
        {
         "name": "suicidal_thoughts",
         "rawType": "object",
         "type": "string"
        },
        {
         "name": "work_study_hours",
         "rawType": "float64",
         "type": "float"
        },
        {
         "name": "financial_stress",
         "rawType": "float64",
         "type": "float"
        },
        {
         "name": "family_history",
         "rawType": "object",
         "type": "string"
        },
        {
         "name": "is_city",
         "rawType": "int64",
         "type": "integer"
        },
        {
         "name": "lat",
         "rawType": "float64",
         "type": "float"
        },
        {
         "name": "long",
         "rawType": "float64",
         "type": "float"
        }
       ],
       "conversionMethod": "pd.DataFrame",
       "ref": "4774d0f4-0f0c-49f2-96af-71d1d19b093b",
       "rows": [
        [
         "1657",
         "Male",
         "18.0",
         "Jaipur",
         "Student",
         "4.0",
         "0.0",
         "6.02",
         "1.0",
         "0.0",
         "'7-8 hours'",
         "Moderate",
         "'Class 12'",
         "Yes",
         "3.0",
         "5.0",
         "No",
         "0",
         "21.122615",
         "79.041124"
        ],
        [
         "24995",
         "Male",
         "25.0",
         "Vadodara",
         "Student",
         "3.0",
         "0.0",
         "6.37",
         "2.0",
         "0.0",
         "'7-8 hours'",
         "Moderate",
         "B.Arch",
         "No",
         "9.0",
         "1.0",
         "Yes",
         "0",
         "21.122615",
         "79.041124"
        ],
        [
         "27613",
         "Male",
         "30.0",
         "Ahmedabad",
         "Student",
         "3.0",
         "0.0",
         "9.24",
         "2.0",
         "0.0",
         "'7-8 hours'",
         "Unhealthy",
         "M.Ed",
         "Yes",
         "5.0",
         "5.0",
         "Yes",
         "0",
         "21.122615",
         "79.041124"
        ],
        [
         "13512",
         "Male",
         "34.0",
         "Bhopal",
         "Student",
         "3.0",
         "0.0",
         "7.37",
         "5.0",
         "0.0",
         "'7-8 hours'",
         "Moderate",
         "B.Com",
         "Yes",
         "12.0",
         "3.0",
         "No",
         "0",
         "21.122615",
         "79.041124"
        ],
        [
         "27029",
         "Male",
         "25.0",
         "Patna",
         "Student",
         "3.0",
         "0.0",
         "7.47",
         "4.0",
         "0.0",
         "'5-6 hours'",
         "Unhealthy",
         "B.Com",
         "No",
         "11.0",
         "5.0",
         "No",
         "0",
         "21.122615",
         "79.041124"
        ]
       ],
       "shape": {
        "columns": 19,
        "rows": 5
       }
      },
      "text/html": [
       "<div>\n",
       "<style scoped>\n",
       "    .dataframe tbody tr th:only-of-type {\n",
       "        vertical-align: middle;\n",
       "    }\n",
       "\n",
       "    .dataframe tbody tr th {\n",
       "        vertical-align: top;\n",
       "    }\n",
       "\n",
       "    .dataframe thead th {\n",
       "        text-align: right;\n",
       "    }\n",
       "</style>\n",
       "<table border=\"1\" class=\"dataframe\">\n",
       "  <thead>\n",
       "    <tr style=\"text-align: right;\">\n",
       "      <th></th>\n",
       "      <th>gender</th>\n",
       "      <th>age</th>\n",
       "      <th>city</th>\n",
       "      <th>profession</th>\n",
       "      <th>academic_pressure</th>\n",
       "      <th>work_pressure</th>\n",
       "      <th>cgpa</th>\n",
       "      <th>study_satisfaction</th>\n",
       "      <th>job_satisfaction</th>\n",
       "      <th>sleep_duration</th>\n",
       "      <th>dietary_habits</th>\n",
       "      <th>degree</th>\n",
       "      <th>suicidal_thoughts</th>\n",
       "      <th>work_study_hours</th>\n",
       "      <th>financial_stress</th>\n",
       "      <th>family_history</th>\n",
       "      <th>is_city</th>\n",
       "      <th>lat</th>\n",
       "      <th>long</th>\n",
       "    </tr>\n",
       "  </thead>\n",
       "  <tbody>\n",
       "    <tr>\n",
       "      <th>1657</th>\n",
       "      <td>Male</td>\n",
       "      <td>18.0</td>\n",
       "      <td>Jaipur</td>\n",
       "      <td>Student</td>\n",
       "      <td>4.0</td>\n",
       "      <td>0.0</td>\n",
       "      <td>6.02</td>\n",
       "      <td>1.0</td>\n",
       "      <td>0.0</td>\n",
       "      <td>'7-8 hours'</td>\n",
       "      <td>Moderate</td>\n",
       "      <td>'Class 12'</td>\n",
       "      <td>Yes</td>\n",
       "      <td>3.0</td>\n",
       "      <td>5.0</td>\n",
       "      <td>No</td>\n",
       "      <td>0</td>\n",
       "      <td>21.122615</td>\n",
       "      <td>79.041124</td>\n",
       "    </tr>\n",
       "    <tr>\n",
       "      <th>24995</th>\n",
       "      <td>Male</td>\n",
       "      <td>25.0</td>\n",
       "      <td>Vadodara</td>\n",
       "      <td>Student</td>\n",
       "      <td>3.0</td>\n",
       "      <td>0.0</td>\n",
       "      <td>6.37</td>\n",
       "      <td>2.0</td>\n",
       "      <td>0.0</td>\n",
       "      <td>'7-8 hours'</td>\n",
       "      <td>Moderate</td>\n",
       "      <td>B.Arch</td>\n",
       "      <td>No</td>\n",
       "      <td>9.0</td>\n",
       "      <td>1.0</td>\n",
       "      <td>Yes</td>\n",
       "      <td>0</td>\n",
       "      <td>21.122615</td>\n",
       "      <td>79.041124</td>\n",
       "    </tr>\n",
       "    <tr>\n",
       "      <th>27613</th>\n",
       "      <td>Male</td>\n",
       "      <td>30.0</td>\n",
       "      <td>Ahmedabad</td>\n",
       "      <td>Student</td>\n",
       "      <td>3.0</td>\n",
       "      <td>0.0</td>\n",
       "      <td>9.24</td>\n",
       "      <td>2.0</td>\n",
       "      <td>0.0</td>\n",
       "      <td>'7-8 hours'</td>\n",
       "      <td>Unhealthy</td>\n",
       "      <td>M.Ed</td>\n",
       "      <td>Yes</td>\n",
       "      <td>5.0</td>\n",
       "      <td>5.0</td>\n",
       "      <td>Yes</td>\n",
       "      <td>0</td>\n",
       "      <td>21.122615</td>\n",
       "      <td>79.041124</td>\n",
       "    </tr>\n",
       "    <tr>\n",
       "      <th>13512</th>\n",
       "      <td>Male</td>\n",
       "      <td>34.0</td>\n",
       "      <td>Bhopal</td>\n",
       "      <td>Student</td>\n",
       "      <td>3.0</td>\n",
       "      <td>0.0</td>\n",
       "      <td>7.37</td>\n",
       "      <td>5.0</td>\n",
       "      <td>0.0</td>\n",
       "      <td>'7-8 hours'</td>\n",
       "      <td>Moderate</td>\n",
       "      <td>B.Com</td>\n",
       "      <td>Yes</td>\n",
       "      <td>12.0</td>\n",
       "      <td>3.0</td>\n",
       "      <td>No</td>\n",
       "      <td>0</td>\n",
       "      <td>21.122615</td>\n",
       "      <td>79.041124</td>\n",
       "    </tr>\n",
       "    <tr>\n",
       "      <th>27029</th>\n",
       "      <td>Male</td>\n",
       "      <td>25.0</td>\n",
       "      <td>Patna</td>\n",
       "      <td>Student</td>\n",
       "      <td>3.0</td>\n",
       "      <td>0.0</td>\n",
       "      <td>7.47</td>\n",
       "      <td>4.0</td>\n",
       "      <td>0.0</td>\n",
       "      <td>'5-6 hours'</td>\n",
       "      <td>Unhealthy</td>\n",
       "      <td>B.Com</td>\n",
       "      <td>No</td>\n",
       "      <td>11.0</td>\n",
       "      <td>5.0</td>\n",
       "      <td>No</td>\n",
       "      <td>0</td>\n",
       "      <td>21.122615</td>\n",
       "      <td>79.041124</td>\n",
       "    </tr>\n",
       "  </tbody>\n",
       "</table>\n",
       "</div>"
      ],
      "text/plain": [
       "      gender   age       city profession  academic_pressure  work_pressure  \\\n",
       "1657    Male  18.0     Jaipur    Student                4.0            0.0   \n",
       "24995   Male  25.0   Vadodara    Student                3.0            0.0   \n",
       "27613   Male  30.0  Ahmedabad    Student                3.0            0.0   \n",
       "13512   Male  34.0     Bhopal    Student                3.0            0.0   \n",
       "27029   Male  25.0      Patna    Student                3.0            0.0   \n",
       "\n",
       "       cgpa  study_satisfaction  job_satisfaction sleep_duration  \\\n",
       "1657   6.02                 1.0               0.0    '7-8 hours'   \n",
       "24995  6.37                 2.0               0.0    '7-8 hours'   \n",
       "27613  9.24                 2.0               0.0    '7-8 hours'   \n",
       "13512  7.37                 5.0               0.0    '7-8 hours'   \n",
       "27029  7.47                 4.0               0.0    '5-6 hours'   \n",
       "\n",
       "      dietary_habits      degree suicidal_thoughts  work_study_hours  \\\n",
       "1657        Moderate  'Class 12'               Yes               3.0   \n",
       "24995       Moderate      B.Arch                No               9.0   \n",
       "27613      Unhealthy        M.Ed               Yes               5.0   \n",
       "13512       Moderate       B.Com               Yes              12.0   \n",
       "27029      Unhealthy       B.Com                No              11.0   \n",
       "\n",
       "       financial_stress family_history  is_city        lat       long  \n",
       "1657                5.0             No        0  21.122615  79.041124  \n",
       "24995               1.0            Yes        0  21.122615  79.041124  \n",
       "27613               5.0            Yes        0  21.122615  79.041124  \n",
       "13512               3.0             No        0  21.122615  79.041124  \n",
       "27029               5.0             No        0  21.122615  79.041124  "
      ]
     },
     "execution_count": 41,
     "metadata": {},
     "output_type": "execute_result"
    }
   ],
   "source": [
    "X_train.head()"
   ]
  },
  {
   "cell_type": "markdown",
   "id": "69f5e662",
   "metadata": {},
   "source": [
    "* Lets read the city list and try to clean up the cities column"
   ]
  },
  {
   "cell_type": "code",
   "execution_count": 42,
   "id": "bd66d45f",
   "metadata": {},
   "outputs": [
    {
     "data": {
      "application/vnd.microsoft.datawrangler.viewer.v0+json": {
       "columns": [
        {
         "name": "index",
         "rawType": "int64",
         "type": "integer"
        },
        {
         "name": "city",
         "rawType": "object",
         "type": "string"
        },
        {
         "name": "lat",
         "rawType": "float64",
         "type": "float"
        },
        {
         "name": "lng",
         "rawType": "float64",
         "type": "float"
        },
        {
         "name": "country",
         "rawType": "object",
         "type": "string"
        },
        {
         "name": "iso2",
         "rawType": "object",
         "type": "string"
        },
        {
         "name": "admin_name",
         "rawType": "object",
         "type": "string"
        },
        {
         "name": "capital",
         "rawType": "object",
         "type": "string"
        },
        {
         "name": "population",
         "rawType": "int64",
         "type": "integer"
        },
        {
         "name": "population_proper",
         "rawType": "int64",
         "type": "integer"
        }
       ],
       "conversionMethod": "pd.DataFrame",
       "ref": "03523c54-92e1-4333-9fd1-bc77d2f4bd19",
       "rows": [
        [
         "0",
         "Delhi",
         "28.61",
         "77.23",
         "India",
         "IN",
         "Delhi",
         "admin",
         "32226000",
         "16753235"
        ],
        [
         "1",
         "Mumbai",
         "19.0761",
         "72.8775",
         "India",
         "IN",
         "Mahārāshtra",
         "admin",
         "24973000",
         "12478447"
        ],
        [
         "2",
         "Kolkāta",
         "22.5675",
         "88.37",
         "India",
         "IN",
         "West Bengal",
         "admin",
         "18502000",
         "4496694"
        ],
        [
         "3",
         "Bangalore",
         "12.9789",
         "77.5917",
         "India",
         "IN",
         "Karnātaka",
         "admin",
         "15386000",
         "8443675"
        ],
        [
         "4",
         "Chennai",
         "13.0825",
         "80.275",
         "India",
         "IN",
         "Tamil Nādu",
         "admin",
         "12395000",
         "6727000"
        ]
       ],
       "shape": {
        "columns": 9,
        "rows": 5
       }
      },
      "text/html": [
       "<div>\n",
       "<style scoped>\n",
       "    .dataframe tbody tr th:only-of-type {\n",
       "        vertical-align: middle;\n",
       "    }\n",
       "\n",
       "    .dataframe tbody tr th {\n",
       "        vertical-align: top;\n",
       "    }\n",
       "\n",
       "    .dataframe thead th {\n",
       "        text-align: right;\n",
       "    }\n",
       "</style>\n",
       "<table border=\"1\" class=\"dataframe\">\n",
       "  <thead>\n",
       "    <tr style=\"text-align: right;\">\n",
       "      <th></th>\n",
       "      <th>city</th>\n",
       "      <th>lat</th>\n",
       "      <th>lng</th>\n",
       "      <th>country</th>\n",
       "      <th>iso2</th>\n",
       "      <th>admin_name</th>\n",
       "      <th>capital</th>\n",
       "      <th>population</th>\n",
       "      <th>population_proper</th>\n",
       "    </tr>\n",
       "  </thead>\n",
       "  <tbody>\n",
       "    <tr>\n",
       "      <th>0</th>\n",
       "      <td>Delhi</td>\n",
       "      <td>28.6100</td>\n",
       "      <td>77.2300</td>\n",
       "      <td>India</td>\n",
       "      <td>IN</td>\n",
       "      <td>Delhi</td>\n",
       "      <td>admin</td>\n",
       "      <td>32226000</td>\n",
       "      <td>16753235</td>\n",
       "    </tr>\n",
       "    <tr>\n",
       "      <th>1</th>\n",
       "      <td>Mumbai</td>\n",
       "      <td>19.0761</td>\n",
       "      <td>72.8775</td>\n",
       "      <td>India</td>\n",
       "      <td>IN</td>\n",
       "      <td>Mahārāshtra</td>\n",
       "      <td>admin</td>\n",
       "      <td>24973000</td>\n",
       "      <td>12478447</td>\n",
       "    </tr>\n",
       "    <tr>\n",
       "      <th>2</th>\n",
       "      <td>Kolkāta</td>\n",
       "      <td>22.5675</td>\n",
       "      <td>88.3700</td>\n",
       "      <td>India</td>\n",
       "      <td>IN</td>\n",
       "      <td>West Bengal</td>\n",
       "      <td>admin</td>\n",
       "      <td>18502000</td>\n",
       "      <td>4496694</td>\n",
       "    </tr>\n",
       "    <tr>\n",
       "      <th>3</th>\n",
       "      <td>Bangalore</td>\n",
       "      <td>12.9789</td>\n",
       "      <td>77.5917</td>\n",
       "      <td>India</td>\n",
       "      <td>IN</td>\n",
       "      <td>Karnātaka</td>\n",
       "      <td>admin</td>\n",
       "      <td>15386000</td>\n",
       "      <td>8443675</td>\n",
       "    </tr>\n",
       "    <tr>\n",
       "      <th>4</th>\n",
       "      <td>Chennai</td>\n",
       "      <td>13.0825</td>\n",
       "      <td>80.2750</td>\n",
       "      <td>India</td>\n",
       "      <td>IN</td>\n",
       "      <td>Tamil Nādu</td>\n",
       "      <td>admin</td>\n",
       "      <td>12395000</td>\n",
       "      <td>6727000</td>\n",
       "    </tr>\n",
       "  </tbody>\n",
       "</table>\n",
       "</div>"
      ],
      "text/plain": [
       "        city      lat      lng country iso2   admin_name capital  population  \\\n",
       "0      Delhi  28.6100  77.2300   India   IN        Delhi   admin    32226000   \n",
       "1     Mumbai  19.0761  72.8775   India   IN  Mahārāshtra   admin    24973000   \n",
       "2    Kolkāta  22.5675  88.3700   India   IN  West Bengal   admin    18502000   \n",
       "3  Bangalore  12.9789  77.5917   India   IN    Karnātaka   admin    15386000   \n",
       "4    Chennai  13.0825  80.2750   India   IN   Tamil Nādu   admin    12395000   \n",
       "\n",
       "   population_proper  \n",
       "0           16753235  \n",
       "1           12478447  \n",
       "2            4496694  \n",
       "3            8443675  \n",
       "4            6727000  "
      ]
     },
     "execution_count": 42,
     "metadata": {},
     "output_type": "execute_result"
    }
   ],
   "source": [
    "## read master city list\n",
    "city_list = pd.read_csv(Path(data_dir,\"in.csv\"))\n",
    "city_list.head()"
   ]
  },
  {
   "cell_type": "code",
   "execution_count": 43,
   "id": "8148c563",
   "metadata": {},
   "outputs": [
    {
     "data": {
      "text/plain": [
       "(162, 9)"
      ]
     },
     "execution_count": 43,
     "metadata": {},
     "output_type": "execute_result"
    }
   ],
   "source": [
    "city_list.shape"
   ]
  },
  {
   "cell_type": "markdown",
   "id": "5ad38e1b",
   "metadata": {},
   "source": [
    "* We only have ~162 cities, which means this might have just the major cities of India, lets see if its enough to cleanup our dataset."
   ]
  },
  {
   "cell_type": "code",
   "execution_count": 44,
   "id": "42021f96",
   "metadata": {},
   "outputs": [
    {
     "data": {
      "text/plain": [
       "['delhi',\n",
       " 'mumbai',\n",
       " 'kolkāta',\n",
       " 'bangalore',\n",
       " 'chennai',\n",
       " 'hyderābād',\n",
       " 'pune',\n",
       " 'ahmedabad',\n",
       " 'sūrat',\n",
       " 'lucknow',\n",
       " 'jaipur',\n",
       " 'kanpur',\n",
       " 'mirzāpur',\n",
       " 'nāgpur',\n",
       " 'ghāziābād',\n",
       " 'supaul',\n",
       " 'vadodara',\n",
       " 'rājkot',\n",
       " 'vishākhapatnam',\n",
       " 'indore',\n",
       " 'thāne',\n",
       " 'bhopāl',\n",
       " 'pimpri-chinchwad',\n",
       " 'patna',\n",
       " 'bilāspur',\n",
       " 'ludhiāna',\n",
       " 'āgra',\n",
       " 'madurai',\n",
       " 'jamshedpur',\n",
       " 'prayagraj',\n",
       " 'nāsik',\n",
       " 'farīdābād',\n",
       " 'meerut',\n",
       " 'jabalpur',\n",
       " 'kalyān',\n",
       " 'vasai-virar',\n",
       " 'najafgarh',\n",
       " 'vārānasi',\n",
       " 'srīnagar',\n",
       " 'aurangābād',\n",
       " 'dhanbād',\n",
       " 'amritsar',\n",
       " 'alīgarh',\n",
       " 'guwāhāti',\n",
       " 'hāora',\n",
       " 'rānchi',\n",
       " 'gwalior',\n",
       " 'chandīgarh',\n",
       " 'haldwāni',\n",
       " 'vijayavāda',\n",
       " 'jodhpur',\n",
       " 'raipur',\n",
       " 'kota',\n",
       " 'bhayandar',\n",
       " 'loni',\n",
       " 'ambattūr',\n",
       " 'salt lake city',\n",
       " 'bhātpāra',\n",
       " 'kūkatpalli',\n",
       " 'dāsarhalli',\n",
       " 'muzaffarpur',\n",
       " 'oulgaret',\n",
       " 'new delhi',\n",
       " 'tiruvottiyūr',\n",
       " 'puducherry',\n",
       " 'byatarayanpur',\n",
       " 'pallāvaram',\n",
       " 'secunderābād',\n",
       " 'shimla',\n",
       " 'puri',\n",
       " 'murtazābād',\n",
       " 'shrīrāmpur',\n",
       " 'chandannagar',\n",
       " 'sultānpur mazra',\n",
       " 'krishnanagar',\n",
       " 'bārākpur',\n",
       " 'bhālswa jahangirpur',\n",
       " 'nāngloi jāt',\n",
       " 'balasore',\n",
       " 'dalūpura',\n",
       " 'yelahanka',\n",
       " 'titāgarh',\n",
       " 'dam dam',\n",
       " 'bānsbāria',\n",
       " 'madhavaram',\n",
       " 'abbigeri',\n",
       " 'baj baj',\n",
       " 'garhi',\n",
       " 'mīrpeta',\n",
       " 'nerkunram',\n",
       " 'kendrāparha',\n",
       " 'sijua',\n",
       " 'manali',\n",
       " 'kānkuria',\n",
       " 'chakapara',\n",
       " 'pāppākurichchi',\n",
       " 'herohalli',\n",
       " 'madipakkam',\n",
       " 'sabalpur',\n",
       " 'bāuria',\n",
       " 'salua',\n",
       " 'chik bānavar',\n",
       " 'jālhalli',\n",
       " 'chinnasekkadu',\n",
       " 'jethuli',\n",
       " 'nagtala',\n",
       " 'pakri',\n",
       " 'hunasamaranhalli',\n",
       " 'hesarghatta',\n",
       " 'bommayapālaiyam',\n",
       " 'gundūr',\n",
       " 'punādih',\n",
       " 'harilādih',\n",
       " 'alāwalpur',\n",
       " 'mādnāikanhalli',\n",
       " 'bāgalūr',\n",
       " 'kādiganahalli',\n",
       " 'khānpur zabti',\n",
       " 'mahuli',\n",
       " 'zeyādah kot',\n",
       " 'arshakunti',\n",
       " 'mirchi',\n",
       " 'sonudih',\n",
       " 'bayandhalli',\n",
       " 'sondekoppa',\n",
       " 'babura',\n",
       " 'mādavar',\n",
       " 'kadabgeri',\n",
       " 'nanmangalam',\n",
       " 'taliganja',\n",
       " 'tarchha',\n",
       " 'belgharia',\n",
       " 'kammanhalli',\n",
       " 'ambāpuram',\n",
       " 'sonnappanhalli',\n",
       " 'kedihāti',\n",
       " 'doddajīvanhalli',\n",
       " 'simli murārpur',\n",
       " 'sonāwān',\n",
       " 'devanandapur',\n",
       " 'tribeni',\n",
       " 'huttanhalli',\n",
       " 'nathupur',\n",
       " 'bāli',\n",
       " 'vājarhalli',\n",
       " 'alija kotla',\n",
       " 'saino',\n",
       " 'shekhpura',\n",
       " 'cāchohalli',\n",
       " 'andheri',\n",
       " 'nārāyanpur kola',\n",
       " 'gyan chak',\n",
       " 'kasgatpur',\n",
       " 'kitanelli',\n",
       " 'harchandi',\n",
       " 'santoshpur',\n",
       " 'bendravādi',\n",
       " 'kodagihalli',\n",
       " 'harna buzurg',\n",
       " 'mailanhalli',\n",
       " 'sultānpur',\n",
       " 'adakimāranhalli']"
      ]
     },
     "execution_count": 44,
     "metadata": {},
     "output_type": "execute_result"
    }
   ],
   "source": [
    "## lower and strip the city list for accurate comparison\n",
    "cities = city_list[\"city\"].str.strip().str.lower().tolist()\n",
    "cities "
   ]
  },
  {
   "cell_type": "code",
   "execution_count": 45,
   "id": "c1ae1242",
   "metadata": {},
   "outputs": [],
   "source": [
    "def is_valid_city(row):\n",
    "    row.is_city = int(row.city.strip().lower() in cities)\n",
    "    return row\n",
    "    \n",
    "\n",
    "X_train = X_train.apply(is_valid_city, axis=1)\n",
    "    "
   ]
  },
  {
   "cell_type": "markdown",
   "id": "d217030e",
   "metadata": {},
   "source": [
    "* Lets check the number of valid vs invlid cities"
   ]
  },
  {
   "cell_type": "code",
   "execution_count": 46,
   "id": "3a7f4b1c",
   "metadata": {},
   "outputs": [
    {
     "data": {
      "text/plain": [
       "is_city\n",
       "0    12443\n",
       "1     9877\n",
       "Name: count, dtype: int64"
      ]
     },
     "execution_count": 46,
     "metadata": {},
     "output_type": "execute_result"
    }
   ],
   "source": [
    "X_train[\"is_city\"].value_counts()"
   ]
  },
  {
   "cell_type": "code",
   "execution_count": 47,
   "id": "99ec2d19",
   "metadata": {},
   "outputs": [
    {
     "data": {
      "text/plain": [
       "city\n",
       "Kalyan                  1284\n",
       "Srinagar                1073\n",
       "Hyderabad               1063\n",
       "Thane                    910\n",
       "Kolkata                  890\n",
       "Agra                     864\n",
       "Ludhiana                 848\n",
       "Surat                    842\n",
       "Visakhapatnam            763\n",
       "Bhopal                   748\n",
       "Rajkot                   633\n",
       "Ghaziabad                588\n",
       "Varanasi                 550\n",
       "Nagpur                   533\n",
       "Nashik                   452\n",
       "Faridabad                381\n",
       "Harsha                     2\n",
       "Bhavna                     2\n",
       "Saanvi                     2\n",
       "City                       2\n",
       "Khaziabad                  1\n",
       "M.Com                      1\n",
       "3.0                        1\n",
       "Harsh                      1\n",
       "Mihir                      1\n",
       "M.Tech                     1\n",
       "Gaurav                     1\n",
       "Nalyan                     1\n",
       "Nandini                    1\n",
       "'Less than 5 Kalyan'       1\n",
       "Reyansh                    1\n",
       "'Less Delhi'               1\n",
       "Mira                       1\n",
       "Name: count, dtype: int64"
      ]
     },
     "execution_count": 47,
     "metadata": {},
     "output_type": "execute_result"
    }
   ],
   "source": [
    "X_train.loc[X_train[\"is_city\"] == 0,\"city\"].value_counts()"
   ]
  },
  {
   "cell_type": "code",
   "execution_count": 48,
   "id": "15f28ad8",
   "metadata": {},
   "outputs": [
    {
     "data": {
      "text/plain": [
       "0        Delhi\n",
       "1       Mumbai\n",
       "2      Kolkāta\n",
       "3    Bangalore\n",
       "4      Chennai\n",
       "Name: city, dtype: object"
      ]
     },
     "execution_count": 48,
     "metadata": {},
     "output_type": "execute_result"
    }
   ],
   "source": [
    "city_list[\"city\"].head(5)"
   ]
  },
  {
   "cell_type": "markdown",
   "id": "4f2c0169",
   "metadata": {},
   "source": [
    "* So visually it seems the master cities list that we have has \"ā\" in them instead of \"a\" thats why a lot of cities are not matching. \n",
    "* Lets fix that and then try to update the dataset again. "
   ]
  },
  {
   "cell_type": "code",
   "execution_count": 49,
   "id": "37e7af64",
   "metadata": {},
   "outputs": [],
   "source": [
    "import unicodedata\n",
    "\n",
    "city_list[\"city\"] = city_list[\"city\"].map(lambda ct: unicodedata.normalize(\"NFKD\",ct).encode(\"ascii\",\"ignore\").decode())"
   ]
  },
  {
   "cell_type": "code",
   "execution_count": 50,
   "id": "40d3d0ee",
   "metadata": {},
   "outputs": [
    {
     "data": {
      "text/plain": [
       "0        Delhi\n",
       "1       Mumbai\n",
       "2      Kolkata\n",
       "3    Bangalore\n",
       "4      Chennai\n",
       "Name: city, dtype: object"
      ]
     },
     "execution_count": 50,
     "metadata": {},
     "output_type": "execute_result"
    }
   ],
   "source": [
    "city_list[\"city\"].head(5)"
   ]
  },
  {
   "cell_type": "markdown",
   "id": "56505114",
   "metadata": {},
   "source": [
    "* Looks like this fixed it, lets do the same thing even for our dataset before we map the is_city flag"
   ]
  },
  {
   "cell_type": "code",
   "execution_count": 51,
   "id": "87c3dd2f",
   "metadata": {},
   "outputs": [],
   "source": [
    "X_train[\"city\"] = X_train[\"city\"].map(lambda ct: unicodedata.normalize(\"NFKD\",ct).encode(\"ascii\",\"ignore\").decode())"
   ]
  },
  {
   "cell_type": "code",
   "execution_count": 52,
   "id": "65a518dd",
   "metadata": {},
   "outputs": [],
   "source": [
    "## lower and strip the city list for accurate comparison\n",
    "cities = city_list[\"city\"].str.strip().str.lower().tolist()\n",
    "\n",
    "def is_valid_city(row):\n",
    "    row.is_city = int(row.city.strip().lower() in cities)\n",
    "    return row\n",
    "    \n",
    "\n",
    "X_train = X_train.apply(is_valid_city, axis=1)"
   ]
  },
  {
   "cell_type": "code",
   "execution_count": 53,
   "id": "fd5f30f8",
   "metadata": {},
   "outputs": [
    {
     "data": {
      "text/plain": [
       "is_city\n",
       "1    21084\n",
       "0     1236\n",
       "Name: count, dtype: int64"
      ]
     },
     "execution_count": 53,
     "metadata": {},
     "output_type": "execute_result"
    }
   ],
   "source": [
    "X_train[\"is_city\"].value_counts()"
   ]
  },
  {
   "cell_type": "markdown",
   "id": "7ae1f4b7",
   "metadata": {},
   "source": [
    "This is much better now we have only 1236 invalid values. Lets take a look at them"
   ]
  },
  {
   "cell_type": "code",
   "execution_count": 54,
   "id": "fdd6d617",
   "metadata": {},
   "outputs": [
    {
     "data": {
      "text/plain": [
       "city\n",
       "Visakhapatnam           763\n",
       "Nashik                  452\n",
       "Harsha                    2\n",
       "Bhavna                    2\n",
       "Saanvi                    2\n",
       "City                      2\n",
       "Khaziabad                 1\n",
       "M.Com                     1\n",
       "3.0                       1\n",
       "Harsh                     1\n",
       "Mihir                     1\n",
       "Nalyan                    1\n",
       "Gaurav                    1\n",
       "Nandini                   1\n",
       "'Less than 5 Kalyan'      1\n",
       "Reyansh                   1\n",
       "'Less Delhi'              1\n",
       "M.Tech                    1\n",
       "Mira                      1\n",
       "Name: count, dtype: int64"
      ]
     },
     "execution_count": 54,
     "metadata": {},
     "output_type": "execute_result"
    }
   ],
   "source": [
    "X_train.loc[X_train[\"is_city\"] == 0, \"city\"].value_counts()"
   ]
  },
  {
   "cell_type": "markdown",
   "id": "5e26ba41",
   "metadata": {},
   "source": [
    "* So apart from Visakhapatnam, Nashik and Khaziabad rest seem to be wrong values. \n",
    "* Its surprising that these cities are missing from our master city list, these are few of the larger cities in India. \n",
    "* Just to future proof this we'll explore another dataset with a more detailed list of cities that we can rely on. "
   ]
  },
  {
   "cell_type": "code",
   "execution_count": 55,
   "id": "c916ebfd",
   "metadata": {},
   "outputs": [
    {
     "data": {
      "application/vnd.microsoft.datawrangler.viewer.v0+json": {
       "columns": [
        {
         "name": "index",
         "rawType": "int64",
         "type": "integer"
        },
        {
         "name": "name",
         "rawType": "object",
         "type": "string"
        },
        {
         "name": "ascii_name",
         "rawType": "object",
         "type": "string"
        },
        {
         "name": "lat",
         "rawType": "float64",
         "type": "float"
        },
        {
         "name": "long",
         "rawType": "float64",
         "type": "float"
        }
       ],
       "conversionMethod": "pd.DataFrame",
       "ref": "b26de432-b136-4863-842a-f3529670a532",
       "rows": [
        [
         "0",
         "Rāvi River",
         "Ravi River",
         "30.62123",
         "71.82683"
        ],
        [
         "1",
         "Punjab Plains",
         "Punjab Plains",
         "30.0",
         "75.0"
        ],
        [
         "2",
         "Jhelum River",
         "Jhelum River",
         "31.16853",
         "72.15066"
        ],
        [
         "3",
         "Hindustan",
         "Hindustan",
         "28.0",
         "76.0"
        ],
        [
         "4",
         "Basantar River",
         "Basantar River",
         "32.47452",
         "75.01449"
        ]
       ],
       "shape": {
        "columns": 4,
        "rows": 5
       }
      },
      "text/html": [
       "<div>\n",
       "<style scoped>\n",
       "    .dataframe tbody tr th:only-of-type {\n",
       "        vertical-align: middle;\n",
       "    }\n",
       "\n",
       "    .dataframe tbody tr th {\n",
       "        vertical-align: top;\n",
       "    }\n",
       "\n",
       "    .dataframe thead th {\n",
       "        text-align: right;\n",
       "    }\n",
       "</style>\n",
       "<table border=\"1\" class=\"dataframe\">\n",
       "  <thead>\n",
       "    <tr style=\"text-align: right;\">\n",
       "      <th></th>\n",
       "      <th>name</th>\n",
       "      <th>ascii_name</th>\n",
       "      <th>lat</th>\n",
       "      <th>long</th>\n",
       "    </tr>\n",
       "  </thead>\n",
       "  <tbody>\n",
       "    <tr>\n",
       "      <th>0</th>\n",
       "      <td>Rāvi River</td>\n",
       "      <td>Ravi River</td>\n",
       "      <td>30.62123</td>\n",
       "      <td>71.82683</td>\n",
       "    </tr>\n",
       "    <tr>\n",
       "      <th>1</th>\n",
       "      <td>Punjab Plains</td>\n",
       "      <td>Punjab Plains</td>\n",
       "      <td>30.00000</td>\n",
       "      <td>75.00000</td>\n",
       "    </tr>\n",
       "    <tr>\n",
       "      <th>2</th>\n",
       "      <td>Jhelum River</td>\n",
       "      <td>Jhelum River</td>\n",
       "      <td>31.16853</td>\n",
       "      <td>72.15066</td>\n",
       "    </tr>\n",
       "    <tr>\n",
       "      <th>3</th>\n",
       "      <td>Hindustan</td>\n",
       "      <td>Hindustan</td>\n",
       "      <td>28.00000</td>\n",
       "      <td>76.00000</td>\n",
       "    </tr>\n",
       "    <tr>\n",
       "      <th>4</th>\n",
       "      <td>Basantar River</td>\n",
       "      <td>Basantar River</td>\n",
       "      <td>32.47452</td>\n",
       "      <td>75.01449</td>\n",
       "    </tr>\n",
       "  </tbody>\n",
       "</table>\n",
       "</div>"
      ],
      "text/plain": [
       "             name      ascii_name       lat      long\n",
       "0      Rāvi River      Ravi River  30.62123  71.82683\n",
       "1   Punjab Plains   Punjab Plains  30.00000  75.00000\n",
       "2    Jhelum River    Jhelum River  31.16853  72.15066\n",
       "3       Hindustan       Hindustan  28.00000  76.00000\n",
       "4  Basantar River  Basantar River  32.47452  75.01449"
      ]
     },
     "execution_count": 55,
     "metadata": {},
     "output_type": "execute_result"
    }
   ],
   "source": [
    "## read master city list\n",
    "master_city_list = pd.read_csv(Path(data_dir,\"detailed_in.csv\"))\n",
    "master_city_list.head()"
   ]
  },
  {
   "cell_type": "code",
   "execution_count": 62,
   "id": "5ec165ec",
   "metadata": {},
   "outputs": [
    {
     "data": {
      "text/plain": [
       "['ravi river', 'punjab plains', 'jhelum river', 'hindustan', 'basantar river']"
      ]
     },
     "execution_count": 62,
     "metadata": {},
     "output_type": "execute_result"
    }
   ],
   "source": [
    "## extract cities and prepare for comparison\n",
    "master_cities = master_city_list[\"ascii_name\"].str.strip().str.lower().to_list()\n",
    "master_cities[:5]"
   ]
  },
  {
   "cell_type": "code",
   "execution_count": 63,
   "id": "e46fff9b",
   "metadata": {},
   "outputs": [],
   "source": [
    "## lets reset is_valid_city to 0 \n",
    "X_train[\"is_city\"] = 0\n",
    "\n",
    "\n",
    "def is_valid_city(row):    \n",
    "    row.is_city = int(row.city.strip().lower() in master_cities)\n",
    "    return row\n",
    "    \n",
    "\n",
    "X_train = X_train.apply(is_valid_city, axis=1)"
   ]
  },
  {
   "cell_type": "code",
   "execution_count": 64,
   "id": "c08216bb",
   "metadata": {},
   "outputs": [
    {
     "data": {
      "text/plain": [
       "is_city\n",
       "1    20634\n",
       "0     1686\n",
       "Name: count, dtype: int64"
      ]
     },
     "execution_count": 64,
     "metadata": {},
     "output_type": "execute_result"
    }
   ],
   "source": [
    "X_train[\"is_city\"].value_counts()"
   ]
  },
  {
   "cell_type": "code",
   "execution_count": 65,
   "id": "975b6c48",
   "metadata": {},
   "outputs": [
    {
     "data": {
      "text/plain": [
       "city\n",
       "Vasai-Virar             1042\n",
       "Bangalore                625\n",
       "Harsha                     2\n",
       "Bhavna                     2\n",
       "Saanvi                     2\n",
       "City                       2\n",
       "Khaziabad                  1\n",
       "3.0                        1\n",
       "Harsh                      1\n",
       "Mihir                      1\n",
       "Nalyan                     1\n",
       "Gaurav                     1\n",
       "'Less than 5 Kalyan'       1\n",
       "Reyansh                    1\n",
       "'Less Delhi'               1\n",
       "M.Tech                     1\n",
       "M.Com                      1\n",
       "Name: count, dtype: int64"
      ]
     },
     "execution_count": 65,
     "metadata": {},
     "output_type": "execute_result"
    }
   ],
   "source": [
    "X_train.loc[X_train[\"is_city\"] == 0, \"city\"].value_counts()"
   ]
  },
  {
   "cell_type": "markdown",
   "id": "9e26fc87",
   "metadata": {},
   "source": [
    "* So in our master city list has Vasai and virar as separate cities and Banglore is divided into separate regions like banglore urban, banglore rural etc. \n",
    "* Lets try fuzzy match and see if gives us better results"
   ]
  },
  {
   "cell_type": "code",
   "execution_count": null,
   "id": "0ceef7ef",
   "metadata": {},
   "outputs": [],
   "source": [
    "master_cities"
   ]
  }
 ],
 "metadata": {
  "kernelspec": {
   "display_name": "venv",
   "language": "python",
   "name": "python3"
  },
  "language_info": {
   "codemirror_mode": {
    "name": "ipython",
    "version": 3
   },
   "file_extension": ".py",
   "mimetype": "text/x-python",
   "name": "python",
   "nbconvert_exporter": "python",
   "pygments_lexer": "ipython3",
   "version": "3.12.9"
  }
 },
 "nbformat": 4,
 "nbformat_minor": 5
}
