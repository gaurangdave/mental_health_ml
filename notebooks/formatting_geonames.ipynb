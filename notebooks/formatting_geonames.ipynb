{
 "cells": [
  {
   "cell_type": "markdown",
   "id": "9ad7b6c0",
   "metadata": {},
   "source": [
    "# Formatting Geo Names\n",
    "* This worksheet reads the text file we got from `geonames.org`, converts the data in the format we need and saves it to csv for future use. \n",
    "* This data is downloaded from https://download.geonames.org/export/dump/\n"
   ]
  },
  {
   "cell_type": "code",
   "execution_count": 25,
   "id": "93623999",
   "metadata": {},
   "outputs": [],
   "source": [
    "import pandas as pd\n",
    "import numpy as np\n",
    "import matplotlib as plt\n",
    "\n",
    "from pathlib import Path"
   ]
  },
  {
   "cell_type": "code",
   "execution_count": null,
   "id": "af025eff",
   "metadata": {},
   "outputs": [],
   "source": []
  },
  {
   "cell_type": "code",
   "execution_count": 26,
   "id": "bc489015",
   "metadata": {},
   "outputs": [
    {
     "name": "stderr",
     "output_type": "stream",
     "text": [
      "/var/folders/cr/_sybcrvs2vsc1dxpm0cwh0nh0000gn/T/ipykernel_38673/3567607261.py:22: DtypeWarning: Columns (0,9,11,12) have mixed types. Specify dtype option on import or set low_memory=False.\n",
      "  tabbed_data = pd.read_csv(Path(data_dir, \"IN.txt\"), sep=\"\\t\", names=column_headers)\n"
     ]
    },
    {
     "data": {
      "application/vnd.microsoft.datawrangler.viewer.v0+json": {
       "columns": [
        {
         "name": "index",
         "rawType": "int64",
         "type": "integer"
        },
        {
         "name": "geonameid",
         "rawType": "object",
         "type": "string"
        },
        {
         "name": "name",
         "rawType": "object",
         "type": "string"
        },
        {
         "name": "asciiname",
         "rawType": "object",
         "type": "string"
        },
        {
         "name": "alternatenames",
         "rawType": "object",
         "type": "string"
        },
        {
         "name": "latitude",
         "rawType": "float64",
         "type": "float"
        },
        {
         "name": "longitude",
         "rawType": "float64",
         "type": "float"
        },
        {
         "name": "feature class",
         "rawType": "object",
         "type": "string"
        },
        {
         "name": "feature code",
         "rawType": "object",
         "type": "string"
        },
        {
         "name": "country code",
         "rawType": "object",
         "type": "string"
        },
        {
         "name": "cc2",
         "rawType": "object",
         "type": "unknown"
        },
        {
         "name": "admin1 code",
         "rawType": "float64",
         "type": "float"
        },
        {
         "name": "admin2 code",
         "rawType": "object",
         "type": "unknown"
        },
        {
         "name": "admin3 code",
         "rawType": "object",
         "type": "unknown"
        },
        {
         "name": "admin4 code",
         "rawType": "float64",
         "type": "float"
        },
        {
         "name": "population",
         "rawType": "int64",
         "type": "integer"
        },
        {
         "name": "elevation",
         "rawType": "float64",
         "type": "float"
        },
        {
         "name": "dem",
         "rawType": "int64",
         "type": "integer"
        },
        {
         "name": "timezone",
         "rawType": "object",
         "type": "string"
        },
        {
         "name": "modification date",
         "rawType": "object",
         "type": "string"
        }
       ],
       "conversionMethod": "pd.DataFrame",
       "ref": "7d86e8fe-1ee3-402e-838e-9daf2c706137",
       "rows": [
        [
         "0",
         "`1114940",
         "Rāvi River",
         "Ravi River",
         "Ravi,Ravi River,Rāvi,Rāvi River",
         "30.62123",
         "71.82683",
         "H",
         "STM",
         "IN",
         "IN,PK",
         "0.0",
         null,
         null,
         null,
         "0",
         null,
         "133",
         "Asia/Kolkata",
         "2023-11-07"
        ],
        [
         "1",
         "1114942",
         "Punjab Plains",
         "Punjab Plains",
         "Punjab Plains",
         "30.0",
         "75.0",
         "T",
         "PLN",
         "IN",
         null,
         "0.0",
         null,
         null,
         null,
         "0",
         null,
         "206",
         "Asia/Kolkata",
         "2012-01-16"
        ],
        [
         "2",
         "1114957",
         "Jhelum River",
         "Jhelum River",
         "Jhelum,Jhelum River,River Hydaspes,Veth River,jhelama,jہlm,جہلم,झेलम",
         "31.16853",
         "72.15066",
         "H",
         "STM",
         "IN",
         "PK",
         "0.0",
         null,
         null,
         null,
         "0",
         null,
         "147",
         "Asia/Kolkata",
         "2020-11-11"
        ],
        [
         "3",
         "1114958",
         "Hindustan",
         "Hindustan",
         "Hindustan,Hindustán",
         "28.0",
         "76.0",
         "L",
         "RGN",
         "IN",
         "IN,PK",
         "0.0",
         null,
         null,
         null,
         "0",
         null,
         "344",
         "Asia/Kolkata",
         "2006-06-23"
        ],
        [
         "4",
         "1114965",
         "Basantar River",
         "Basantar River",
         "Basantar,Basantar Nala,Basantar Nāla,Basantar River",
         "32.47452",
         "75.01449",
         "H",
         "STM",
         "IN",
         null,
         "0.0",
         null,
         null,
         null,
         "0",
         null,
         "300",
         "Asia/Kolkata",
         "2021-09-07"
        ]
       ],
       "shape": {
        "columns": 19,
        "rows": 5
       }
      },
      "text/html": [
       "<div>\n",
       "<style scoped>\n",
       "    .dataframe tbody tr th:only-of-type {\n",
       "        vertical-align: middle;\n",
       "    }\n",
       "\n",
       "    .dataframe tbody tr th {\n",
       "        vertical-align: top;\n",
       "    }\n",
       "\n",
       "    .dataframe thead th {\n",
       "        text-align: right;\n",
       "    }\n",
       "</style>\n",
       "<table border=\"1\" class=\"dataframe\">\n",
       "  <thead>\n",
       "    <tr style=\"text-align: right;\">\n",
       "      <th></th>\n",
       "      <th>geonameid</th>\n",
       "      <th>name</th>\n",
       "      <th>asciiname</th>\n",
       "      <th>alternatenames</th>\n",
       "      <th>latitude</th>\n",
       "      <th>longitude</th>\n",
       "      <th>feature class</th>\n",
       "      <th>feature code</th>\n",
       "      <th>country code</th>\n",
       "      <th>cc2</th>\n",
       "      <th>admin1 code</th>\n",
       "      <th>admin2 code</th>\n",
       "      <th>admin3 code</th>\n",
       "      <th>admin4 code</th>\n",
       "      <th>population</th>\n",
       "      <th>elevation</th>\n",
       "      <th>dem</th>\n",
       "      <th>timezone</th>\n",
       "      <th>modification date</th>\n",
       "    </tr>\n",
       "  </thead>\n",
       "  <tbody>\n",
       "    <tr>\n",
       "      <th>0</th>\n",
       "      <td>`1114940</td>\n",
       "      <td>Rāvi River</td>\n",
       "      <td>Ravi River</td>\n",
       "      <td>Ravi,Ravi River,Rāvi,Rāvi River</td>\n",
       "      <td>30.62123</td>\n",
       "      <td>71.82683</td>\n",
       "      <td>H</td>\n",
       "      <td>STM</td>\n",
       "      <td>IN</td>\n",
       "      <td>IN,PK</td>\n",
       "      <td>0.0</td>\n",
       "      <td>NaN</td>\n",
       "      <td>NaN</td>\n",
       "      <td>NaN</td>\n",
       "      <td>0</td>\n",
       "      <td>NaN</td>\n",
       "      <td>133</td>\n",
       "      <td>Asia/Kolkata</td>\n",
       "      <td>2023-11-07</td>\n",
       "    </tr>\n",
       "    <tr>\n",
       "      <th>1</th>\n",
       "      <td>1114942</td>\n",
       "      <td>Punjab Plains</td>\n",
       "      <td>Punjab Plains</td>\n",
       "      <td>Punjab Plains</td>\n",
       "      <td>30.00000</td>\n",
       "      <td>75.00000</td>\n",
       "      <td>T</td>\n",
       "      <td>PLN</td>\n",
       "      <td>IN</td>\n",
       "      <td>NaN</td>\n",
       "      <td>0.0</td>\n",
       "      <td>NaN</td>\n",
       "      <td>NaN</td>\n",
       "      <td>NaN</td>\n",
       "      <td>0</td>\n",
       "      <td>NaN</td>\n",
       "      <td>206</td>\n",
       "      <td>Asia/Kolkata</td>\n",
       "      <td>2012-01-16</td>\n",
       "    </tr>\n",
       "    <tr>\n",
       "      <th>2</th>\n",
       "      <td>1114957</td>\n",
       "      <td>Jhelum River</td>\n",
       "      <td>Jhelum River</td>\n",
       "      <td>Jhelum,Jhelum River,River Hydaspes,Veth River,...</td>\n",
       "      <td>31.16853</td>\n",
       "      <td>72.15066</td>\n",
       "      <td>H</td>\n",
       "      <td>STM</td>\n",
       "      <td>IN</td>\n",
       "      <td>PK</td>\n",
       "      <td>0.0</td>\n",
       "      <td>NaN</td>\n",
       "      <td>NaN</td>\n",
       "      <td>NaN</td>\n",
       "      <td>0</td>\n",
       "      <td>NaN</td>\n",
       "      <td>147</td>\n",
       "      <td>Asia/Kolkata</td>\n",
       "      <td>2020-11-11</td>\n",
       "    </tr>\n",
       "    <tr>\n",
       "      <th>3</th>\n",
       "      <td>1114958</td>\n",
       "      <td>Hindustan</td>\n",
       "      <td>Hindustan</td>\n",
       "      <td>Hindustan,Hindustán</td>\n",
       "      <td>28.00000</td>\n",
       "      <td>76.00000</td>\n",
       "      <td>L</td>\n",
       "      <td>RGN</td>\n",
       "      <td>IN</td>\n",
       "      <td>IN,PK</td>\n",
       "      <td>0.0</td>\n",
       "      <td>NaN</td>\n",
       "      <td>NaN</td>\n",
       "      <td>NaN</td>\n",
       "      <td>0</td>\n",
       "      <td>NaN</td>\n",
       "      <td>344</td>\n",
       "      <td>Asia/Kolkata</td>\n",
       "      <td>2006-06-23</td>\n",
       "    </tr>\n",
       "    <tr>\n",
       "      <th>4</th>\n",
       "      <td>1114965</td>\n",
       "      <td>Basantar River</td>\n",
       "      <td>Basantar River</td>\n",
       "      <td>Basantar,Basantar Nala,Basantar Nāla,Basantar ...</td>\n",
       "      <td>32.47452</td>\n",
       "      <td>75.01449</td>\n",
       "      <td>H</td>\n",
       "      <td>STM</td>\n",
       "      <td>IN</td>\n",
       "      <td>NaN</td>\n",
       "      <td>0.0</td>\n",
       "      <td>NaN</td>\n",
       "      <td>NaN</td>\n",
       "      <td>NaN</td>\n",
       "      <td>0</td>\n",
       "      <td>NaN</td>\n",
       "      <td>300</td>\n",
       "      <td>Asia/Kolkata</td>\n",
       "      <td>2021-09-07</td>\n",
       "    </tr>\n",
       "  </tbody>\n",
       "</table>\n",
       "</div>"
      ],
      "text/plain": [
       "  geonameid            name       asciiname  \\\n",
       "0  `1114940      Rāvi River      Ravi River   \n",
       "1   1114942   Punjab Plains   Punjab Plains   \n",
       "2   1114957    Jhelum River    Jhelum River   \n",
       "3   1114958       Hindustan       Hindustan   \n",
       "4   1114965  Basantar River  Basantar River   \n",
       "\n",
       "                                      alternatenames  latitude  longitude  \\\n",
       "0                    Ravi,Ravi River,Rāvi,Rāvi River  30.62123   71.82683   \n",
       "1                                      Punjab Plains  30.00000   75.00000   \n",
       "2  Jhelum,Jhelum River,River Hydaspes,Veth River,...  31.16853   72.15066   \n",
       "3                                Hindustan,Hindustán  28.00000   76.00000   \n",
       "4  Basantar,Basantar Nala,Basantar Nāla,Basantar ...  32.47452   75.01449   \n",
       "\n",
       "  feature class feature code country code    cc2  admin1 code admin2 code  \\\n",
       "0             H          STM           IN  IN,PK          0.0         NaN   \n",
       "1             T          PLN           IN    NaN          0.0         NaN   \n",
       "2             H          STM           IN     PK          0.0         NaN   \n",
       "3             L          RGN           IN  IN,PK          0.0         NaN   \n",
       "4             H          STM           IN    NaN          0.0         NaN   \n",
       "\n",
       "  admin3 code  admin4 code  population  elevation  dem      timezone  \\\n",
       "0         NaN          NaN           0        NaN  133  Asia/Kolkata   \n",
       "1         NaN          NaN           0        NaN  206  Asia/Kolkata   \n",
       "2         NaN          NaN           0        NaN  147  Asia/Kolkata   \n",
       "3         NaN          NaN           0        NaN  344  Asia/Kolkata   \n",
       "4         NaN          NaN           0        NaN  300  Asia/Kolkata   \n",
       "\n",
       "  modification date  \n",
       "0        2023-11-07  \n",
       "1        2012-01-16  \n",
       "2        2020-11-11  \n",
       "3        2006-06-23  \n",
       "4        2021-09-07  "
      ]
     },
     "execution_count": 26,
     "metadata": {},
     "output_type": "execute_result"
    }
   ],
   "source": [
    "data_dir = Path(\"..\", \"data\")\n",
    "column_headers = [\"geonameid\",\n",
    "                  \"name\",\n",
    "                  \"asciiname\",\n",
    "                  \"alternatenames\",\n",
    "                  \"latitude\",\n",
    "                  \"longitude\",\n",
    "                  \"feature class\",\n",
    "                  \"feature code\",\n",
    "                  \"country code\",\n",
    "                  \"cc2\",\n",
    "                  \"admin1 code\",\n",
    "                  \"admin2 code\",\n",
    "                  \"admin3 code\",\n",
    "                  \"admin4 code\",\n",
    "                  \"population\",\n",
    "                  \"elevation\",\n",
    "                  \"dem\",\n",
    "                  \"timezone\",\n",
    "                  \"modification date\",\n",
    "                  ]\n",
    "tabbed_data = pd.read_csv(Path(data_dir, \"IN.txt\"), sep=\"\\t\", names=column_headers)\n",
    "tabbed_data.head()"
   ]
  },
  {
   "cell_type": "markdown",
   "id": "53116e69",
   "metadata": {},
   "source": [
    "* We just need `asciiname`, `latitude`, `longitude`, we can drop rest of the colums"
   ]
  },
  {
   "cell_type": "code",
   "execution_count": 27,
   "id": "26ea3991",
   "metadata": {},
   "outputs": [],
   "source": [
    "tabbed_data.drop(columns=[\"geonameid\",\n",
    "                          \"alternatenames\",\n",
    "                          \"feature class\",\n",
    "                          \"feature code\",\n",
    "                          \"country code\",\n",
    "                          \"cc2\",\n",
    "                          \"admin1 code\",\n",
    "                          \"admin2 code\",\n",
    "                          \"admin3 code\",\n",
    "                          \"admin4 code\",\n",
    "                          \"population\",\n",
    "                          \"elevation\",\n",
    "                          \"dem\",\n",
    "                          \"timezone\",\n",
    "                          \"modification date\",\n",
    "                          ], inplace=True)"
   ]
  },
  {
   "cell_type": "code",
   "execution_count": 28,
   "id": "28414db6",
   "metadata": {},
   "outputs": [
    {
     "data": {
      "application/vnd.microsoft.datawrangler.viewer.v0+json": {
       "columns": [
        {
         "name": "index",
         "rawType": "int64",
         "type": "integer"
        },
        {
         "name": "name",
         "rawType": "object",
         "type": "string"
        },
        {
         "name": "asciiname",
         "rawType": "object",
         "type": "string"
        },
        {
         "name": "latitude",
         "rawType": "float64",
         "type": "float"
        },
        {
         "name": "longitude",
         "rawType": "float64",
         "type": "float"
        }
       ],
       "conversionMethod": "pd.DataFrame",
       "ref": "07b2ec52-e42f-4771-81f3-3f672789e9fa",
       "rows": [
        [
         "0",
         "Rāvi River",
         "Ravi River",
         "30.62123",
         "71.82683"
        ],
        [
         "1",
         "Punjab Plains",
         "Punjab Plains",
         "30.0",
         "75.0"
        ],
        [
         "2",
         "Jhelum River",
         "Jhelum River",
         "31.16853",
         "72.15066"
        ],
        [
         "3",
         "Hindustan",
         "Hindustan",
         "28.0",
         "76.0"
        ],
        [
         "4",
         "Basantar River",
         "Basantar River",
         "32.47452",
         "75.01449"
        ]
       ],
       "shape": {
        "columns": 4,
        "rows": 5
       }
      },
      "text/html": [
       "<div>\n",
       "<style scoped>\n",
       "    .dataframe tbody tr th:only-of-type {\n",
       "        vertical-align: middle;\n",
       "    }\n",
       "\n",
       "    .dataframe tbody tr th {\n",
       "        vertical-align: top;\n",
       "    }\n",
       "\n",
       "    .dataframe thead th {\n",
       "        text-align: right;\n",
       "    }\n",
       "</style>\n",
       "<table border=\"1\" class=\"dataframe\">\n",
       "  <thead>\n",
       "    <tr style=\"text-align: right;\">\n",
       "      <th></th>\n",
       "      <th>name</th>\n",
       "      <th>asciiname</th>\n",
       "      <th>latitude</th>\n",
       "      <th>longitude</th>\n",
       "    </tr>\n",
       "  </thead>\n",
       "  <tbody>\n",
       "    <tr>\n",
       "      <th>0</th>\n",
       "      <td>Rāvi River</td>\n",
       "      <td>Ravi River</td>\n",
       "      <td>30.62123</td>\n",
       "      <td>71.82683</td>\n",
       "    </tr>\n",
       "    <tr>\n",
       "      <th>1</th>\n",
       "      <td>Punjab Plains</td>\n",
       "      <td>Punjab Plains</td>\n",
       "      <td>30.00000</td>\n",
       "      <td>75.00000</td>\n",
       "    </tr>\n",
       "    <tr>\n",
       "      <th>2</th>\n",
       "      <td>Jhelum River</td>\n",
       "      <td>Jhelum River</td>\n",
       "      <td>31.16853</td>\n",
       "      <td>72.15066</td>\n",
       "    </tr>\n",
       "    <tr>\n",
       "      <th>3</th>\n",
       "      <td>Hindustan</td>\n",
       "      <td>Hindustan</td>\n",
       "      <td>28.00000</td>\n",
       "      <td>76.00000</td>\n",
       "    </tr>\n",
       "    <tr>\n",
       "      <th>4</th>\n",
       "      <td>Basantar River</td>\n",
       "      <td>Basantar River</td>\n",
       "      <td>32.47452</td>\n",
       "      <td>75.01449</td>\n",
       "    </tr>\n",
       "  </tbody>\n",
       "</table>\n",
       "</div>"
      ],
      "text/plain": [
       "             name       asciiname  latitude  longitude\n",
       "0      Rāvi River      Ravi River  30.62123   71.82683\n",
       "1   Punjab Plains   Punjab Plains  30.00000   75.00000\n",
       "2    Jhelum River    Jhelum River  31.16853   72.15066\n",
       "3       Hindustan       Hindustan  28.00000   76.00000\n",
       "4  Basantar River  Basantar River  32.47452   75.01449"
      ]
     },
     "execution_count": 28,
     "metadata": {},
     "output_type": "execute_result"
    }
   ],
   "source": [
    "tabbed_data.head()"
   ]
  },
  {
   "cell_type": "code",
   "execution_count": 29,
   "id": "6ab3cbbb",
   "metadata": {},
   "outputs": [],
   "source": [
    "## lets rename asciiname to name\n",
    "tabbed_data.rename(columns={\"asciiname\":\"ascii_name\", \"latitude\":\"lat\",\"longitude\":\"long\"}, inplace=True)"
   ]
  },
  {
   "cell_type": "code",
   "execution_count": 30,
   "id": "ec606bd7",
   "metadata": {},
   "outputs": [
    {
     "data": {
      "application/vnd.microsoft.datawrangler.viewer.v0+json": {
       "columns": [
        {
         "name": "index",
         "rawType": "int64",
         "type": "integer"
        },
        {
         "name": "name",
         "rawType": "object",
         "type": "string"
        },
        {
         "name": "ascii_name",
         "rawType": "object",
         "type": "string"
        },
        {
         "name": "lat",
         "rawType": "float64",
         "type": "float"
        },
        {
         "name": "long",
         "rawType": "float64",
         "type": "float"
        }
       ],
       "conversionMethod": "pd.DataFrame",
       "ref": "3c6c2f03-91f4-4758-adfc-b4efd702e339",
       "rows": [
        [
         "0",
         "Rāvi River",
         "Ravi River",
         "30.62123",
         "71.82683"
        ],
        [
         "1",
         "Punjab Plains",
         "Punjab Plains",
         "30.0",
         "75.0"
        ],
        [
         "2",
         "Jhelum River",
         "Jhelum River",
         "31.16853",
         "72.15066"
        ],
        [
         "3",
         "Hindustan",
         "Hindustan",
         "28.0",
         "76.0"
        ],
        [
         "4",
         "Basantar River",
         "Basantar River",
         "32.47452",
         "75.01449"
        ]
       ],
       "shape": {
        "columns": 4,
        "rows": 5
       }
      },
      "text/html": [
       "<div>\n",
       "<style scoped>\n",
       "    .dataframe tbody tr th:only-of-type {\n",
       "        vertical-align: middle;\n",
       "    }\n",
       "\n",
       "    .dataframe tbody tr th {\n",
       "        vertical-align: top;\n",
       "    }\n",
       "\n",
       "    .dataframe thead th {\n",
       "        text-align: right;\n",
       "    }\n",
       "</style>\n",
       "<table border=\"1\" class=\"dataframe\">\n",
       "  <thead>\n",
       "    <tr style=\"text-align: right;\">\n",
       "      <th></th>\n",
       "      <th>name</th>\n",
       "      <th>ascii_name</th>\n",
       "      <th>lat</th>\n",
       "      <th>long</th>\n",
       "    </tr>\n",
       "  </thead>\n",
       "  <tbody>\n",
       "    <tr>\n",
       "      <th>0</th>\n",
       "      <td>Rāvi River</td>\n",
       "      <td>Ravi River</td>\n",
       "      <td>30.62123</td>\n",
       "      <td>71.82683</td>\n",
       "    </tr>\n",
       "    <tr>\n",
       "      <th>1</th>\n",
       "      <td>Punjab Plains</td>\n",
       "      <td>Punjab Plains</td>\n",
       "      <td>30.00000</td>\n",
       "      <td>75.00000</td>\n",
       "    </tr>\n",
       "    <tr>\n",
       "      <th>2</th>\n",
       "      <td>Jhelum River</td>\n",
       "      <td>Jhelum River</td>\n",
       "      <td>31.16853</td>\n",
       "      <td>72.15066</td>\n",
       "    </tr>\n",
       "    <tr>\n",
       "      <th>3</th>\n",
       "      <td>Hindustan</td>\n",
       "      <td>Hindustan</td>\n",
       "      <td>28.00000</td>\n",
       "      <td>76.00000</td>\n",
       "    </tr>\n",
       "    <tr>\n",
       "      <th>4</th>\n",
       "      <td>Basantar River</td>\n",
       "      <td>Basantar River</td>\n",
       "      <td>32.47452</td>\n",
       "      <td>75.01449</td>\n",
       "    </tr>\n",
       "  </tbody>\n",
       "</table>\n",
       "</div>"
      ],
      "text/plain": [
       "             name      ascii_name       lat      long\n",
       "0      Rāvi River      Ravi River  30.62123  71.82683\n",
       "1   Punjab Plains   Punjab Plains  30.00000  75.00000\n",
       "2    Jhelum River    Jhelum River  31.16853  72.15066\n",
       "3       Hindustan       Hindustan  28.00000  76.00000\n",
       "4  Basantar River  Basantar River  32.47452  75.01449"
      ]
     },
     "execution_count": 30,
     "metadata": {},
     "output_type": "execute_result"
    }
   ],
   "source": [
    "tabbed_data.head()"
   ]
  },
  {
   "cell_type": "code",
   "execution_count": 31,
   "id": "3d1da789",
   "metadata": {},
   "outputs": [
    {
     "data": {
      "text/plain": [
       "name          1\n",
       "ascii_name    1\n",
       "lat           0\n",
       "long          0\n",
       "dtype: int64"
      ]
     },
     "execution_count": 31,
     "metadata": {},
     "output_type": "execute_result"
    }
   ],
   "source": [
    "## lets check for empty values\n",
    "tabbed_data.isnull().sum()"
   ]
  },
  {
   "cell_type": "code",
   "execution_count": 33,
   "id": "2a9ecc4f",
   "metadata": {},
   "outputs": [
    {
     "data": {
      "application/vnd.microsoft.datawrangler.viewer.v0+json": {
       "columns": [
        {
         "name": "index",
         "rawType": "int64",
         "type": "integer"
        },
        {
         "name": "name",
         "rawType": "object",
         "type": "unknown"
        },
        {
         "name": "ascii_name",
         "rawType": "object",
         "type": "unknown"
        },
        {
         "name": "lat",
         "rawType": "float64",
         "type": "float"
        },
        {
         "name": "long",
         "rawType": "float64",
         "type": "float"
        }
       ],
       "conversionMethod": "pd.DataFrame",
       "ref": "47e4add9-69e6-4d3d-9472-7013f55ac9a8",
       "rows": [
        [
         "506582",
         null,
         null,
         "31.52325",
         "74.98279"
        ]
       ],
       "shape": {
        "columns": 4,
        "rows": 1
       }
      },
      "text/html": [
       "<div>\n",
       "<style scoped>\n",
       "    .dataframe tbody tr th:only-of-type {\n",
       "        vertical-align: middle;\n",
       "    }\n",
       "\n",
       "    .dataframe tbody tr th {\n",
       "        vertical-align: top;\n",
       "    }\n",
       "\n",
       "    .dataframe thead th {\n",
       "        text-align: right;\n",
       "    }\n",
       "</style>\n",
       "<table border=\"1\" class=\"dataframe\">\n",
       "  <thead>\n",
       "    <tr style=\"text-align: right;\">\n",
       "      <th></th>\n",
       "      <th>name</th>\n",
       "      <th>ascii_name</th>\n",
       "      <th>lat</th>\n",
       "      <th>long</th>\n",
       "    </tr>\n",
       "  </thead>\n",
       "  <tbody>\n",
       "    <tr>\n",
       "      <th>506582</th>\n",
       "      <td>NaN</td>\n",
       "      <td>NaN</td>\n",
       "      <td>31.52325</td>\n",
       "      <td>74.98279</td>\n",
       "    </tr>\n",
       "  </tbody>\n",
       "</table>\n",
       "</div>"
      ],
      "text/plain": [
       "       name ascii_name       lat      long\n",
       "506582  NaN        NaN  31.52325  74.98279"
      ]
     },
     "execution_count": 33,
     "metadata": {},
     "output_type": "execute_result"
    }
   ],
   "source": [
    "tabbed_data[tabbed_data[\"name\"].isnull()]"
   ]
  },
  {
   "cell_type": "code",
   "execution_count": 35,
   "id": "31beb3fb",
   "metadata": {},
   "outputs": [],
   "source": [
    "## a manual reverse latlong lookup tells me this is `Bundala` so we'll just update that. \n",
    "tabbed_data.loc[tabbed_data[\"name\"].isnull(),\"name\"] = \"Bundala\"\n",
    "tabbed_data.loc[tabbed_data[\"ascii_name\"].isnull(),\"ascii_name\"] = \"Bundala\""
   ]
  },
  {
   "cell_type": "code",
   "execution_count": 36,
   "id": "4920d7a0",
   "metadata": {},
   "outputs": [
    {
     "data": {
      "text/plain": [
       "name          0\n",
       "ascii_name    0\n",
       "lat           0\n",
       "long          0\n",
       "dtype: int64"
      ]
     },
     "execution_count": 36,
     "metadata": {},
     "output_type": "execute_result"
    }
   ],
   "source": [
    "tabbed_data.isnull().sum()"
   ]
  },
  {
   "cell_type": "code",
   "execution_count": 37,
   "id": "7c83f44e",
   "metadata": {},
   "outputs": [],
   "source": [
    "## save it as csv\n",
    "tabbed_data.to_csv(Path(data_dir, \"detailed_in.csv\"), index=False)"
   ]
  },
  {
   "cell_type": "code",
   "execution_count": null,
   "id": "c640d086",
   "metadata": {},
   "outputs": [],
   "source": []
  }
 ],
 "metadata": {
  "kernelspec": {
   "display_name": "venv",
   "language": "python",
   "name": "python3"
  },
  "language_info": {
   "codemirror_mode": {
    "name": "ipython",
    "version": 3
   },
   "file_extension": ".py",
   "mimetype": "text/x-python",
   "name": "python",
   "nbconvert_exporter": "python",
   "pygments_lexer": "ipython3",
   "version": "3.12.9"
  }
 },
 "nbformat": 4,
 "nbformat_minor": 5
}
