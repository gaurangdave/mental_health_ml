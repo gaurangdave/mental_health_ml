{
 "cells": [
  {
   "cell_type": "markdown",
   "id": "ee871b93",
   "metadata": {},
   "source": [
    "# Model Performance Against Test Data\n"
   ]
  },
  {
   "cell_type": "markdown",
   "id": "5ac4aeb9",
   "metadata": {},
   "source": [
    "* In this notebook we are going to load all the models, classify test data and measure the model performance for final decisions."
   ]
  },
  {
   "cell_type": "markdown",
   "id": "84311381",
   "metadata": {},
   "source": [
    "## Install Libraries"
   ]
  },
  {
   "cell_type": "code",
   "execution_count": 1,
   "id": "c1c302b5",
   "metadata": {},
   "outputs": [],
   "source": [
    "# %pip install scikit-learn"
   ]
  },
  {
   "cell_type": "markdown",
   "id": "d0bbed84",
   "metadata": {},
   "source": [
    "## Import Libraries"
   ]
  },
  {
   "cell_type": "code",
   "execution_count": 2,
   "id": "56cbc3a6",
   "metadata": {},
   "outputs": [],
   "source": [
    "import os\n",
    "import sys\n",
    "import pandas as pd\n",
    "import numpy as np\n",
    "from sklearn.compose import ColumnTransformer\n",
    "from pathlib import Path\n",
    "import matplotlib.pyplot as plt\n",
    "from sklearn.linear_model import LogisticRegression\n",
    "from sklearn.metrics import f1_score,recall_score,precision_score,precision_recall_curve\n",
    "import seaborn as sns\n",
    "\n",
    "\n",
    "# Build an absolute path from this notebook's parent directory\n",
    "module_path = os.path.abspath(os.path.join('..'))\n",
    "\n",
    "# Add to sys.path if not already present\n",
    "if module_path not in sys.path:\n",
    "    sys.path.append(module_path)\n",
    "    \n",
    "from src.utils import preprocessing\n",
    "from src.utils import common\n",
    "from src.utils.training import refit_strategy"
   ]
  },
  {
   "cell_type": "markdown",
   "id": "db6d526a",
   "metadata": {},
   "source": [
    "## Initialize Directories"
   ]
  },
  {
   "cell_type": "code",
   "execution_count": 3,
   "id": "6db65590",
   "metadata": {},
   "outputs": [],
   "source": [
    "data_root_dir = Path(\"..\", \"data/\")\n",
    "models_root_dir = Path(\"..\", \"models/\")"
   ]
  },
  {
   "cell_type": "markdown",
   "id": "1bbb9f74",
   "metadata": {},
   "source": [
    "## Read Data"
   ]
  },
  {
   "cell_type": "code",
   "execution_count": 4,
   "id": "64eaa94d",
   "metadata": {},
   "outputs": [],
   "source": [
    "X_test = pd.read_csv(Path(data_root_dir,\"X_test.csv\"))\n",
    "y_test = pd.read_csv(Path(data_root_dir,\"y_test.csv\"))"
   ]
  },
  {
   "cell_type": "markdown",
   "id": "161ec2f9",
   "metadata": {},
   "source": [
    "## Visualize Model Performance\n",
    "* Before we validate against test data, lets visualize the model metrics from training. "
   ]
  },
  {
   "cell_type": "code",
   "execution_count": 5,
   "id": "98d705cf",
   "metadata": {},
   "outputs": [
    {
     "data": {
      "application/vnd.microsoft.datawrangler.viewer.v0+json": {
       "columns": [
        {
         "name": "index",
         "rawType": "int64",
         "type": "integer"
        },
        {
         "name": "model",
         "rawType": "object",
         "type": "string"
        },
        {
         "name": "version",
         "rawType": "object",
         "type": "string"
        },
        {
         "name": "recall",
         "rawType": "float64",
         "type": "float"
        },
        {
         "name": "precision",
         "rawType": "float64",
         "type": "float"
        },
        {
         "name": "f1",
         "rawType": "float64",
         "type": "float"
        },
        {
         "name": "file",
         "rawType": "object",
         "type": "unknown"
        }
       ],
       "ref": "6ce97274-d3ea-470a-adf1-80d154fa7902",
       "rows": [
        [
         "0",
         "Logistic Regression",
         "v0",
         "0.8853688399142944",
         "0.8853688399142944",
         "0.8709342550454688",
         null
        ],
        [
         "1",
         "Logistic Regression",
         "v1",
         "0.8856749311294766",
         "0.8571103546770557",
         "0.8711400483859387",
         "logistic_regression_v1.joblib"
        ],
        [
         "2",
         "Logistic Regression",
         "v2",
         "0.8867462503826141",
         "0.8573206526758974",
         "0.8717655491370842",
         "logistic_regression_v2.joblib"
        ],
        [
         "3",
         "Linear SVC",
         "v0",
         "0.8875114784205693",
         "0.8875114784205693",
         "0.8716673989116179",
         null
        ],
        [
         "4",
         "Linear SVC",
         "v1",
         "0.8874349556167737",
         "0.856400224418305",
         "0.8716248628750242",
         "linear_svc_v1.joblib"
        ],
        [
         "5",
         "Linear SVC",
         "v2",
         "0.887894092439547",
         "0.8568450952713432",
         "0.8720757855317863",
         "linear_svc_v2.joblib"
        ],
        [
         "6",
         "Random Forest",
         "v0",
         "0.8778696051423324",
         "0.8778696051423324",
         "0.8629451706016207",
         null
        ],
        [
         "7",
         "Random Forest",
         "v1",
         "0.8817722681359045",
         "0.8486746573102248",
         "0.8648932327504125",
         "random_forest_v1.joblib"
        ],
        [
         "8",
         "Random Forest",
         "v0",
         "0.877946127946128",
         "0.877946127946128",
         "0.8628618320927531",
         null
        ],
        [
         "9",
         "Random Forest",
         "v1",
         "0.882843587389042",
         "0.8490424292899217",
         "0.8655937899834956",
         "random_forest_v1.joblib"
        ],
        [
         "10",
         "Random Forest",
         "v2",
         "0.8835322926232018",
         "0.8503987121482556",
         "0.8666254719048757",
         "random_forest_v2.joblib"
        ],
        [
         "11",
         "Random Forest",
         "v2",
         "0.8835322926232018",
         "0.8503987121482556",
         "0.8666254719048757",
         "random_forest_v2.joblib"
        ],
        [
         "12",
         "SVC",
         "v0",
         "0.8846801346801346",
         "0.8846801346801346",
         "0.8668759337946622",
         null
        ],
        [
         "13",
         "SVC",
         "v1",
         "0.982399755127028",
         "0.663021027051853",
         "0.7917133197389316",
         "svc_v1.joblib"
        ],
        [
         "14",
         "SVC",
         "v2",
         "0.9617385981022344",
         "0.7193393327543665",
         "0.823056973426068",
         "svc_v2.joblib"
        ],
        [
         "15",
         "SVC",
         "v3",
         "0.9966329966329964",
         "0.5888686624256391",
         "0.7403153526678848",
         "svc_v3.joblib"
        ],
        [
         "16",
         "KNN",
         "v0",
         "0.8497857361493725",
         "0.8497857361493725",
         "0.820082069546663",
         null
        ],
        [
         "17",
         "KNN",
         "v0",
         "0.8497857361493725",
         "0.8497857361493725",
         "0.820082069546663",
         null
        ],
        [
         "18",
         "KNN",
         "v1",
         "0.8990664217936946",
         "0.8024758004402274",
         "0.8480084476468495",
         "knn_v1.joblib"
        ],
        [
         "19",
         "KNN",
         "v2",
         "0.8764156718702174",
         "0.8117210677437717",
         "0.8428168318383106",
         "knn_v2.joblib"
        ],
        [
         "20",
         "KNN",
         "v3",
         "0.9012090602999696",
         "0.8046516521086527",
         "0.8501819441954491",
         "knn_v3.joblib"
        ],
        [
         "21",
         "Hard Voting Classifier",
         "v0",
         "0.8900367309458218",
         "0.8900367309458218",
         "0.8701013067526144",
         "hard_voting_classifier_v0.joblib"
        ],
        [
         "22",
         "Soft Voting Classifier",
         "v0",
         "0.8962350780532599",
         "0.8962350780532599",
         "0.866660823395622",
         "soft_voting_classifier_v0.joblib"
        ]
       ],
       "shape": {
        "columns": 6,
        "rows": 23
       }
      },
      "text/html": [
       "<div>\n",
       "<style scoped>\n",
       "    .dataframe tbody tr th:only-of-type {\n",
       "        vertical-align: middle;\n",
       "    }\n",
       "\n",
       "    .dataframe tbody tr th {\n",
       "        vertical-align: top;\n",
       "    }\n",
       "\n",
       "    .dataframe thead th {\n",
       "        text-align: right;\n",
       "    }\n",
       "</style>\n",
       "<table border=\"1\" class=\"dataframe\">\n",
       "  <thead>\n",
       "    <tr style=\"text-align: right;\">\n",
       "      <th></th>\n",
       "      <th>model</th>\n",
       "      <th>version</th>\n",
       "      <th>recall</th>\n",
       "      <th>precision</th>\n",
       "      <th>f1</th>\n",
       "      <th>file</th>\n",
       "    </tr>\n",
       "  </thead>\n",
       "  <tbody>\n",
       "    <tr>\n",
       "      <th>0</th>\n",
       "      <td>Logistic Regression</td>\n",
       "      <td>v0</td>\n",
       "      <td>0.885369</td>\n",
       "      <td>0.885369</td>\n",
       "      <td>0.870934</td>\n",
       "      <td>NaN</td>\n",
       "    </tr>\n",
       "    <tr>\n",
       "      <th>1</th>\n",
       "      <td>Logistic Regression</td>\n",
       "      <td>v1</td>\n",
       "      <td>0.885675</td>\n",
       "      <td>0.857110</td>\n",
       "      <td>0.871140</td>\n",
       "      <td>logistic_regression_v1.joblib</td>\n",
       "    </tr>\n",
       "    <tr>\n",
       "      <th>2</th>\n",
       "      <td>Logistic Regression</td>\n",
       "      <td>v2</td>\n",
       "      <td>0.886746</td>\n",
       "      <td>0.857321</td>\n",
       "      <td>0.871766</td>\n",
       "      <td>logistic_regression_v2.joblib</td>\n",
       "    </tr>\n",
       "    <tr>\n",
       "      <th>3</th>\n",
       "      <td>Linear SVC</td>\n",
       "      <td>v0</td>\n",
       "      <td>0.887511</td>\n",
       "      <td>0.887511</td>\n",
       "      <td>0.871667</td>\n",
       "      <td>NaN</td>\n",
       "    </tr>\n",
       "    <tr>\n",
       "      <th>4</th>\n",
       "      <td>Linear SVC</td>\n",
       "      <td>v1</td>\n",
       "      <td>0.887435</td>\n",
       "      <td>0.856400</td>\n",
       "      <td>0.871625</td>\n",
       "      <td>linear_svc_v1.joblib</td>\n",
       "    </tr>\n",
       "    <tr>\n",
       "      <th>5</th>\n",
       "      <td>Linear SVC</td>\n",
       "      <td>v2</td>\n",
       "      <td>0.887894</td>\n",
       "      <td>0.856845</td>\n",
       "      <td>0.872076</td>\n",
       "      <td>linear_svc_v2.joblib</td>\n",
       "    </tr>\n",
       "    <tr>\n",
       "      <th>6</th>\n",
       "      <td>Random Forest</td>\n",
       "      <td>v0</td>\n",
       "      <td>0.877870</td>\n",
       "      <td>0.877870</td>\n",
       "      <td>0.862945</td>\n",
       "      <td>NaN</td>\n",
       "    </tr>\n",
       "    <tr>\n",
       "      <th>7</th>\n",
       "      <td>Random Forest</td>\n",
       "      <td>v1</td>\n",
       "      <td>0.881772</td>\n",
       "      <td>0.848675</td>\n",
       "      <td>0.864893</td>\n",
       "      <td>random_forest_v1.joblib</td>\n",
       "    </tr>\n",
       "    <tr>\n",
       "      <th>8</th>\n",
       "      <td>Random Forest</td>\n",
       "      <td>v0</td>\n",
       "      <td>0.877946</td>\n",
       "      <td>0.877946</td>\n",
       "      <td>0.862862</td>\n",
       "      <td>NaN</td>\n",
       "    </tr>\n",
       "    <tr>\n",
       "      <th>9</th>\n",
       "      <td>Random Forest</td>\n",
       "      <td>v1</td>\n",
       "      <td>0.882844</td>\n",
       "      <td>0.849042</td>\n",
       "      <td>0.865594</td>\n",
       "      <td>random_forest_v1.joblib</td>\n",
       "    </tr>\n",
       "    <tr>\n",
       "      <th>10</th>\n",
       "      <td>Random Forest</td>\n",
       "      <td>v2</td>\n",
       "      <td>0.883532</td>\n",
       "      <td>0.850399</td>\n",
       "      <td>0.866625</td>\n",
       "      <td>random_forest_v2.joblib</td>\n",
       "    </tr>\n",
       "    <tr>\n",
       "      <th>11</th>\n",
       "      <td>Random Forest</td>\n",
       "      <td>v2</td>\n",
       "      <td>0.883532</td>\n",
       "      <td>0.850399</td>\n",
       "      <td>0.866625</td>\n",
       "      <td>random_forest_v2.joblib</td>\n",
       "    </tr>\n",
       "    <tr>\n",
       "      <th>12</th>\n",
       "      <td>SVC</td>\n",
       "      <td>v0</td>\n",
       "      <td>0.884680</td>\n",
       "      <td>0.884680</td>\n",
       "      <td>0.866876</td>\n",
       "      <td>NaN</td>\n",
       "    </tr>\n",
       "    <tr>\n",
       "      <th>13</th>\n",
       "      <td>SVC</td>\n",
       "      <td>v1</td>\n",
       "      <td>0.982400</td>\n",
       "      <td>0.663021</td>\n",
       "      <td>0.791713</td>\n",
       "      <td>svc_v1.joblib</td>\n",
       "    </tr>\n",
       "    <tr>\n",
       "      <th>14</th>\n",
       "      <td>SVC</td>\n",
       "      <td>v2</td>\n",
       "      <td>0.961739</td>\n",
       "      <td>0.719339</td>\n",
       "      <td>0.823057</td>\n",
       "      <td>svc_v2.joblib</td>\n",
       "    </tr>\n",
       "    <tr>\n",
       "      <th>15</th>\n",
       "      <td>SVC</td>\n",
       "      <td>v3</td>\n",
       "      <td>0.996633</td>\n",
       "      <td>0.588869</td>\n",
       "      <td>0.740315</td>\n",
       "      <td>svc_v3.joblib</td>\n",
       "    </tr>\n",
       "    <tr>\n",
       "      <th>16</th>\n",
       "      <td>KNN</td>\n",
       "      <td>v0</td>\n",
       "      <td>0.849786</td>\n",
       "      <td>0.849786</td>\n",
       "      <td>0.820082</td>\n",
       "      <td>NaN</td>\n",
       "    </tr>\n",
       "    <tr>\n",
       "      <th>17</th>\n",
       "      <td>KNN</td>\n",
       "      <td>v0</td>\n",
       "      <td>0.849786</td>\n",
       "      <td>0.849786</td>\n",
       "      <td>0.820082</td>\n",
       "      <td>NaN</td>\n",
       "    </tr>\n",
       "    <tr>\n",
       "      <th>18</th>\n",
       "      <td>KNN</td>\n",
       "      <td>v1</td>\n",
       "      <td>0.899066</td>\n",
       "      <td>0.802476</td>\n",
       "      <td>0.848008</td>\n",
       "      <td>knn_v1.joblib</td>\n",
       "    </tr>\n",
       "    <tr>\n",
       "      <th>19</th>\n",
       "      <td>KNN</td>\n",
       "      <td>v2</td>\n",
       "      <td>0.876416</td>\n",
       "      <td>0.811721</td>\n",
       "      <td>0.842817</td>\n",
       "      <td>knn_v2.joblib</td>\n",
       "    </tr>\n",
       "    <tr>\n",
       "      <th>20</th>\n",
       "      <td>KNN</td>\n",
       "      <td>v3</td>\n",
       "      <td>0.901209</td>\n",
       "      <td>0.804652</td>\n",
       "      <td>0.850182</td>\n",
       "      <td>knn_v3.joblib</td>\n",
       "    </tr>\n",
       "    <tr>\n",
       "      <th>21</th>\n",
       "      <td>Hard Voting Classifier</td>\n",
       "      <td>v0</td>\n",
       "      <td>0.890037</td>\n",
       "      <td>0.890037</td>\n",
       "      <td>0.870101</td>\n",
       "      <td>hard_voting_classifier_v0.joblib</td>\n",
       "    </tr>\n",
       "    <tr>\n",
       "      <th>22</th>\n",
       "      <td>Soft Voting Classifier</td>\n",
       "      <td>v0</td>\n",
       "      <td>0.896235</td>\n",
       "      <td>0.896235</td>\n",
       "      <td>0.866661</td>\n",
       "      <td>soft_voting_classifier_v0.joblib</td>\n",
       "    </tr>\n",
       "  </tbody>\n",
       "</table>\n",
       "</div>"
      ],
      "text/plain": [
       "                     model version    recall  precision        f1  \\\n",
       "0      Logistic Regression      v0  0.885369   0.885369  0.870934   \n",
       "1      Logistic Regression      v1  0.885675   0.857110  0.871140   \n",
       "2      Logistic Regression      v2  0.886746   0.857321  0.871766   \n",
       "3               Linear SVC      v0  0.887511   0.887511  0.871667   \n",
       "4               Linear SVC      v1  0.887435   0.856400  0.871625   \n",
       "5               Linear SVC      v2  0.887894   0.856845  0.872076   \n",
       "6            Random Forest      v0  0.877870   0.877870  0.862945   \n",
       "7            Random Forest      v1  0.881772   0.848675  0.864893   \n",
       "8            Random Forest      v0  0.877946   0.877946  0.862862   \n",
       "9            Random Forest      v1  0.882844   0.849042  0.865594   \n",
       "10           Random Forest      v2  0.883532   0.850399  0.866625   \n",
       "11           Random Forest      v2  0.883532   0.850399  0.866625   \n",
       "12                     SVC      v0  0.884680   0.884680  0.866876   \n",
       "13                     SVC      v1  0.982400   0.663021  0.791713   \n",
       "14                     SVC      v2  0.961739   0.719339  0.823057   \n",
       "15                     SVC      v3  0.996633   0.588869  0.740315   \n",
       "16                     KNN      v0  0.849786   0.849786  0.820082   \n",
       "17                     KNN      v0  0.849786   0.849786  0.820082   \n",
       "18                     KNN      v1  0.899066   0.802476  0.848008   \n",
       "19                     KNN      v2  0.876416   0.811721  0.842817   \n",
       "20                     KNN      v3  0.901209   0.804652  0.850182   \n",
       "21  Hard Voting Classifier      v0  0.890037   0.890037  0.870101   \n",
       "22  Soft Voting Classifier      v0  0.896235   0.896235  0.866661   \n",
       "\n",
       "                                file  \n",
       "0                                NaN  \n",
       "1      logistic_regression_v1.joblib  \n",
       "2      logistic_regression_v2.joblib  \n",
       "3                                NaN  \n",
       "4               linear_svc_v1.joblib  \n",
       "5               linear_svc_v2.joblib  \n",
       "6                                NaN  \n",
       "7            random_forest_v1.joblib  \n",
       "8                                NaN  \n",
       "9            random_forest_v1.joblib  \n",
       "10           random_forest_v2.joblib  \n",
       "11           random_forest_v2.joblib  \n",
       "12                               NaN  \n",
       "13                     svc_v1.joblib  \n",
       "14                     svc_v2.joblib  \n",
       "15                     svc_v3.joblib  \n",
       "16                               NaN  \n",
       "17                               NaN  \n",
       "18                     knn_v1.joblib  \n",
       "19                     knn_v2.joblib  \n",
       "20                     knn_v3.joblib  \n",
       "21  hard_voting_classifier_v0.joblib  \n",
       "22  soft_voting_classifier_v0.joblib  "
      ]
     },
     "execution_count": 5,
     "metadata": {},
     "output_type": "execute_result"
    }
   ],
   "source": [
    "training_metrics = pd.read_csv(Path(data_root_dir,\"model_metrics.csv\"))\n",
    "training_metrics"
   ]
  },
  {
   "cell_type": "code",
   "execution_count": 6,
   "id": "dd36bc7b",
   "metadata": {},
   "outputs": [],
   "source": [
    "## lets combine model and version to help with visualization\n",
    "training_metrics[\"model_name\"] = training_metrics[\"model\"] +\" \"+ training_metrics[\"version\"]"
   ]
  },
  {
   "cell_type": "code",
   "execution_count": 7,
   "id": "204766f3",
   "metadata": {},
   "outputs": [
    {
     "data": {
      "application/vnd.microsoft.datawrangler.viewer.v0+json": {
       "columns": [
        {
         "name": "index",
         "rawType": "int64",
         "type": "integer"
        },
        {
         "name": "model_name",
         "rawType": "object",
         "type": "string"
        },
        {
         "name": "recall",
         "rawType": "float64",
         "type": "float"
        },
        {
         "name": "precision",
         "rawType": "float64",
         "type": "float"
        },
        {
         "name": "f1",
         "rawType": "float64",
         "type": "float"
        }
       ],
       "ref": "5e9666c0-be4f-429b-9991-ba092bebb6df",
       "rows": [
        [
         "0",
         "Logistic Regression v0",
         "0.8853688399142944",
         "0.8853688399142944",
         "0.8709342550454688"
        ],
        [
         "1",
         "Logistic Regression v1",
         "0.8856749311294766",
         "0.8571103546770557",
         "0.8711400483859387"
        ],
        [
         "2",
         "Logistic Regression v2",
         "0.8867462503826141",
         "0.8573206526758974",
         "0.8717655491370842"
        ],
        [
         "3",
         "Linear SVC v0",
         "0.8875114784205693",
         "0.8875114784205693",
         "0.8716673989116179"
        ],
        [
         "4",
         "Linear SVC v1",
         "0.8874349556167737",
         "0.856400224418305",
         "0.8716248628750242"
        ]
       ],
       "shape": {
        "columns": 4,
        "rows": 5
       }
      },
      "text/html": [
       "<div>\n",
       "<style scoped>\n",
       "    .dataframe tbody tr th:only-of-type {\n",
       "        vertical-align: middle;\n",
       "    }\n",
       "\n",
       "    .dataframe tbody tr th {\n",
       "        vertical-align: top;\n",
       "    }\n",
       "\n",
       "    .dataframe thead th {\n",
       "        text-align: right;\n",
       "    }\n",
       "</style>\n",
       "<table border=\"1\" class=\"dataframe\">\n",
       "  <thead>\n",
       "    <tr style=\"text-align: right;\">\n",
       "      <th></th>\n",
       "      <th>model_name</th>\n",
       "      <th>recall</th>\n",
       "      <th>precision</th>\n",
       "      <th>f1</th>\n",
       "    </tr>\n",
       "  </thead>\n",
       "  <tbody>\n",
       "    <tr>\n",
       "      <th>0</th>\n",
       "      <td>Logistic Regression v0</td>\n",
       "      <td>0.885369</td>\n",
       "      <td>0.885369</td>\n",
       "      <td>0.870934</td>\n",
       "    </tr>\n",
       "    <tr>\n",
       "      <th>1</th>\n",
       "      <td>Logistic Regression v1</td>\n",
       "      <td>0.885675</td>\n",
       "      <td>0.857110</td>\n",
       "      <td>0.871140</td>\n",
       "    </tr>\n",
       "    <tr>\n",
       "      <th>2</th>\n",
       "      <td>Logistic Regression v2</td>\n",
       "      <td>0.886746</td>\n",
       "      <td>0.857321</td>\n",
       "      <td>0.871766</td>\n",
       "    </tr>\n",
       "    <tr>\n",
       "      <th>3</th>\n",
       "      <td>Linear SVC v0</td>\n",
       "      <td>0.887511</td>\n",
       "      <td>0.887511</td>\n",
       "      <td>0.871667</td>\n",
       "    </tr>\n",
       "    <tr>\n",
       "      <th>4</th>\n",
       "      <td>Linear SVC v1</td>\n",
       "      <td>0.887435</td>\n",
       "      <td>0.856400</td>\n",
       "      <td>0.871625</td>\n",
       "    </tr>\n",
       "  </tbody>\n",
       "</table>\n",
       "</div>"
      ],
      "text/plain": [
       "               model_name    recall  precision        f1\n",
       "0  Logistic Regression v0  0.885369   0.885369  0.870934\n",
       "1  Logistic Regression v1  0.885675   0.857110  0.871140\n",
       "2  Logistic Regression v2  0.886746   0.857321  0.871766\n",
       "3           Linear SVC v0  0.887511   0.887511  0.871667\n",
       "4           Linear SVC v1  0.887435   0.856400  0.871625"
      ]
     },
     "execution_count": 7,
     "metadata": {},
     "output_type": "execute_result"
    }
   ],
   "source": [
    "training_metrics = training_metrics.loc[:,[\"model_name\",\"recall\",\"precision\",\"f1\"]]\n",
    "training_metrics.head()"
   ]
  },
  {
   "cell_type": "code",
   "execution_count": 8,
   "id": "562c1033",
   "metadata": {},
   "outputs": [
    {
     "data": {
      "application/vnd.microsoft.datawrangler.viewer.v0+json": {
       "columns": [
        {
         "name": "index",
         "rawType": "int64",
         "type": "integer"
        },
        {
         "name": "model_name",
         "rawType": "object",
         "type": "string"
        },
        {
         "name": "recall",
         "rawType": "float64",
         "type": "float"
        },
        {
         "name": "precision",
         "rawType": "float64",
         "type": "float"
        },
        {
         "name": "f1",
         "rawType": "float64",
         "type": "float"
        },
        {
         "name": "id",
         "rawType": "int64",
         "type": "integer"
        }
       ],
       "ref": "0ccbab87-9fb9-4873-ae16-390d04ec36cc",
       "rows": [
        [
         "0",
         "Logistic Regression v0",
         "0.8853688399142944",
         "0.8853688399142944",
         "0.8709342550454688",
         "0"
        ],
        [
         "1",
         "Logistic Regression v1",
         "0.8856749311294766",
         "0.8571103546770557",
         "0.8711400483859387",
         "1"
        ],
        [
         "2",
         "Logistic Regression v2",
         "0.8867462503826141",
         "0.8573206526758974",
         "0.8717655491370842",
         "2"
        ],
        [
         "3",
         "Linear SVC v0",
         "0.8875114784205693",
         "0.8875114784205693",
         "0.8716673989116179",
         "3"
        ],
        [
         "4",
         "Linear SVC v1",
         "0.8874349556167737",
         "0.856400224418305",
         "0.8716248628750242",
         "4"
        ]
       ],
       "shape": {
        "columns": 5,
        "rows": 5
       }
      },
      "text/html": [
       "<div>\n",
       "<style scoped>\n",
       "    .dataframe tbody tr th:only-of-type {\n",
       "        vertical-align: middle;\n",
       "    }\n",
       "\n",
       "    .dataframe tbody tr th {\n",
       "        vertical-align: top;\n",
       "    }\n",
       "\n",
       "    .dataframe thead th {\n",
       "        text-align: right;\n",
       "    }\n",
       "</style>\n",
       "<table border=\"1\" class=\"dataframe\">\n",
       "  <thead>\n",
       "    <tr style=\"text-align: right;\">\n",
       "      <th></th>\n",
       "      <th>model_name</th>\n",
       "      <th>recall</th>\n",
       "      <th>precision</th>\n",
       "      <th>f1</th>\n",
       "      <th>id</th>\n",
       "    </tr>\n",
       "  </thead>\n",
       "  <tbody>\n",
       "    <tr>\n",
       "      <th>0</th>\n",
       "      <td>Logistic Regression v0</td>\n",
       "      <td>0.885369</td>\n",
       "      <td>0.885369</td>\n",
       "      <td>0.870934</td>\n",
       "      <td>0</td>\n",
       "    </tr>\n",
       "    <tr>\n",
       "      <th>1</th>\n",
       "      <td>Logistic Regression v1</td>\n",
       "      <td>0.885675</td>\n",
       "      <td>0.857110</td>\n",
       "      <td>0.871140</td>\n",
       "      <td>1</td>\n",
       "    </tr>\n",
       "    <tr>\n",
       "      <th>2</th>\n",
       "      <td>Logistic Regression v2</td>\n",
       "      <td>0.886746</td>\n",
       "      <td>0.857321</td>\n",
       "      <td>0.871766</td>\n",
       "      <td>2</td>\n",
       "    </tr>\n",
       "    <tr>\n",
       "      <th>3</th>\n",
       "      <td>Linear SVC v0</td>\n",
       "      <td>0.887511</td>\n",
       "      <td>0.887511</td>\n",
       "      <td>0.871667</td>\n",
       "      <td>3</td>\n",
       "    </tr>\n",
       "    <tr>\n",
       "      <th>4</th>\n",
       "      <td>Linear SVC v1</td>\n",
       "      <td>0.887435</td>\n",
       "      <td>0.856400</td>\n",
       "      <td>0.871625</td>\n",
       "      <td>4</td>\n",
       "    </tr>\n",
       "  </tbody>\n",
       "</table>\n",
       "</div>"
      ],
      "text/plain": [
       "               model_name    recall  precision        f1  id\n",
       "0  Logistic Regression v0  0.885369   0.885369  0.870934   0\n",
       "1  Logistic Regression v1  0.885675   0.857110  0.871140   1\n",
       "2  Logistic Regression v2  0.886746   0.857321  0.871766   2\n",
       "3           Linear SVC v0  0.887511   0.887511  0.871667   3\n",
       "4           Linear SVC v1  0.887435   0.856400  0.871625   4"
      ]
     },
     "execution_count": 8,
     "metadata": {},
     "output_type": "execute_result"
    }
   ],
   "source": [
    "training_metrics[\"id\"] = training_metrics.index\n",
    "training_metrics.head()"
   ]
  },
  {
   "cell_type": "code",
   "execution_count": 9,
   "id": "7b4746f5",
   "metadata": {},
   "outputs": [],
   "source": [
    "training_metrics = training_metrics.drop_duplicates(subset=[\"model_name\"])"
   ]
  },
  {
   "cell_type": "code",
   "execution_count": 10,
   "id": "6db7c6ae",
   "metadata": {},
   "outputs": [
    {
     "data": {
      "application/vnd.microsoft.datawrangler.viewer.v0+json": {
       "columns": [
        {
         "name": "index",
         "rawType": "int64",
         "type": "integer"
        },
        {
         "name": "id",
         "rawType": "int64",
         "type": "integer"
        },
        {
         "name": "model_name",
         "rawType": "object",
         "type": "string"
        },
        {
         "name": "metric",
         "rawType": "object",
         "type": "string"
        },
        {
         "name": "score",
         "rawType": "float64",
         "type": "float"
        }
       ],
       "ref": "31dcfe8f-4f1b-43d2-8429-8bbab0c7fc2b",
       "rows": [
        [
         "0",
         "0",
         "Logistic Regression v0",
         "recall",
         "0.8853688399142944"
        ],
        [
         "1",
         "1",
         "Logistic Regression v1",
         "recall",
         "0.8856749311294766"
        ],
        [
         "2",
         "2",
         "Logistic Regression v2",
         "recall",
         "0.8867462503826141"
        ],
        [
         "3",
         "3",
         "Linear SVC v0",
         "recall",
         "0.8875114784205693"
        ],
        [
         "4",
         "4",
         "Linear SVC v1",
         "recall",
         "0.8874349556167737"
        ],
        [
         "5",
         "5",
         "Linear SVC v2",
         "recall",
         "0.887894092439547"
        ],
        [
         "6",
         "6",
         "Random Forest v0",
         "recall",
         "0.8778696051423324"
        ],
        [
         "7",
         "7",
         "Random Forest v1",
         "recall",
         "0.8817722681359045"
        ],
        [
         "8",
         "10",
         "Random Forest v2",
         "recall",
         "0.8835322926232018"
        ],
        [
         "9",
         "12",
         "SVC v0",
         "recall",
         "0.8846801346801346"
        ],
        [
         "10",
         "13",
         "SVC v1",
         "recall",
         "0.982399755127028"
        ],
        [
         "11",
         "14",
         "SVC v2",
         "recall",
         "0.9617385981022344"
        ],
        [
         "12",
         "15",
         "SVC v3",
         "recall",
         "0.9966329966329964"
        ],
        [
         "13",
         "16",
         "KNN v0",
         "recall",
         "0.8497857361493725"
        ],
        [
         "14",
         "18",
         "KNN v1",
         "recall",
         "0.8990664217936946"
        ],
        [
         "15",
         "19",
         "KNN v2",
         "recall",
         "0.8764156718702174"
        ],
        [
         "16",
         "20",
         "KNN v3",
         "recall",
         "0.9012090602999696"
        ],
        [
         "17",
         "21",
         "Hard Voting Classifier v0",
         "recall",
         "0.8900367309458218"
        ],
        [
         "18",
         "22",
         "Soft Voting Classifier v0",
         "recall",
         "0.8962350780532599"
        ],
        [
         "19",
         "0",
         "Logistic Regression v0",
         "precision",
         "0.8853688399142944"
        ],
        [
         "20",
         "1",
         "Logistic Regression v1",
         "precision",
         "0.8571103546770557"
        ],
        [
         "21",
         "2",
         "Logistic Regression v2",
         "precision",
         "0.8573206526758974"
        ],
        [
         "22",
         "3",
         "Linear SVC v0",
         "precision",
         "0.8875114784205693"
        ],
        [
         "23",
         "4",
         "Linear SVC v1",
         "precision",
         "0.856400224418305"
        ],
        [
         "24",
         "5",
         "Linear SVC v2",
         "precision",
         "0.8568450952713432"
        ],
        [
         "25",
         "6",
         "Random Forest v0",
         "precision",
         "0.8778696051423324"
        ],
        [
         "26",
         "7",
         "Random Forest v1",
         "precision",
         "0.8486746573102248"
        ],
        [
         "27",
         "10",
         "Random Forest v2",
         "precision",
         "0.8503987121482556"
        ],
        [
         "28",
         "12",
         "SVC v0",
         "precision",
         "0.8846801346801346"
        ],
        [
         "29",
         "13",
         "SVC v1",
         "precision",
         "0.663021027051853"
        ],
        [
         "30",
         "14",
         "SVC v2",
         "precision",
         "0.7193393327543665"
        ],
        [
         "31",
         "15",
         "SVC v3",
         "precision",
         "0.5888686624256391"
        ],
        [
         "32",
         "16",
         "KNN v0",
         "precision",
         "0.8497857361493725"
        ],
        [
         "33",
         "18",
         "KNN v1",
         "precision",
         "0.8024758004402274"
        ],
        [
         "34",
         "19",
         "KNN v2",
         "precision",
         "0.8117210677437717"
        ],
        [
         "35",
         "20",
         "KNN v3",
         "precision",
         "0.8046516521086527"
        ],
        [
         "36",
         "21",
         "Hard Voting Classifier v0",
         "precision",
         "0.8900367309458218"
        ],
        [
         "37",
         "22",
         "Soft Voting Classifier v0",
         "precision",
         "0.8962350780532599"
        ],
        [
         "38",
         "0",
         "Logistic Regression v0",
         "f1",
         "0.8709342550454688"
        ],
        [
         "39",
         "1",
         "Logistic Regression v1",
         "f1",
         "0.8711400483859387"
        ],
        [
         "40",
         "2",
         "Logistic Regression v2",
         "f1",
         "0.8717655491370842"
        ],
        [
         "41",
         "3",
         "Linear SVC v0",
         "f1",
         "0.8716673989116179"
        ],
        [
         "42",
         "4",
         "Linear SVC v1",
         "f1",
         "0.8716248628750242"
        ],
        [
         "43",
         "5",
         "Linear SVC v2",
         "f1",
         "0.8720757855317863"
        ],
        [
         "44",
         "6",
         "Random Forest v0",
         "f1",
         "0.8629451706016207"
        ],
        [
         "45",
         "7",
         "Random Forest v1",
         "f1",
         "0.8648932327504125"
        ],
        [
         "46",
         "10",
         "Random Forest v2",
         "f1",
         "0.8666254719048757"
        ],
        [
         "47",
         "12",
         "SVC v0",
         "f1",
         "0.8668759337946622"
        ],
        [
         "48",
         "13",
         "SVC v1",
         "f1",
         "0.7917133197389316"
        ],
        [
         "49",
         "14",
         "SVC v2",
         "f1",
         "0.823056973426068"
        ]
       ],
       "shape": {
        "columns": 4,
        "rows": 57
       }
      },
      "text/html": [
       "<div>\n",
       "<style scoped>\n",
       "    .dataframe tbody tr th:only-of-type {\n",
       "        vertical-align: middle;\n",
       "    }\n",
       "\n",
       "    .dataframe tbody tr th {\n",
       "        vertical-align: top;\n",
       "    }\n",
       "\n",
       "    .dataframe thead th {\n",
       "        text-align: right;\n",
       "    }\n",
       "</style>\n",
       "<table border=\"1\" class=\"dataframe\">\n",
       "  <thead>\n",
       "    <tr style=\"text-align: right;\">\n",
       "      <th></th>\n",
       "      <th>id</th>\n",
       "      <th>model_name</th>\n",
       "      <th>metric</th>\n",
       "      <th>score</th>\n",
       "    </tr>\n",
       "  </thead>\n",
       "  <tbody>\n",
       "    <tr>\n",
       "      <th>0</th>\n",
       "      <td>0</td>\n",
       "      <td>Logistic Regression v0</td>\n",
       "      <td>recall</td>\n",
       "      <td>0.885369</td>\n",
       "    </tr>\n",
       "    <tr>\n",
       "      <th>1</th>\n",
       "      <td>1</td>\n",
       "      <td>Logistic Regression v1</td>\n",
       "      <td>recall</td>\n",
       "      <td>0.885675</td>\n",
       "    </tr>\n",
       "    <tr>\n",
       "      <th>2</th>\n",
       "      <td>2</td>\n",
       "      <td>Logistic Regression v2</td>\n",
       "      <td>recall</td>\n",
       "      <td>0.886746</td>\n",
       "    </tr>\n",
       "    <tr>\n",
       "      <th>3</th>\n",
       "      <td>3</td>\n",
       "      <td>Linear SVC v0</td>\n",
       "      <td>recall</td>\n",
       "      <td>0.887511</td>\n",
       "    </tr>\n",
       "    <tr>\n",
       "      <th>4</th>\n",
       "      <td>4</td>\n",
       "      <td>Linear SVC v1</td>\n",
       "      <td>recall</td>\n",
       "      <td>0.887435</td>\n",
       "    </tr>\n",
       "    <tr>\n",
       "      <th>5</th>\n",
       "      <td>5</td>\n",
       "      <td>Linear SVC v2</td>\n",
       "      <td>recall</td>\n",
       "      <td>0.887894</td>\n",
       "    </tr>\n",
       "    <tr>\n",
       "      <th>6</th>\n",
       "      <td>6</td>\n",
       "      <td>Random Forest v0</td>\n",
       "      <td>recall</td>\n",
       "      <td>0.877870</td>\n",
       "    </tr>\n",
       "    <tr>\n",
       "      <th>7</th>\n",
       "      <td>7</td>\n",
       "      <td>Random Forest v1</td>\n",
       "      <td>recall</td>\n",
       "      <td>0.881772</td>\n",
       "    </tr>\n",
       "    <tr>\n",
       "      <th>8</th>\n",
       "      <td>10</td>\n",
       "      <td>Random Forest v2</td>\n",
       "      <td>recall</td>\n",
       "      <td>0.883532</td>\n",
       "    </tr>\n",
       "    <tr>\n",
       "      <th>9</th>\n",
       "      <td>12</td>\n",
       "      <td>SVC v0</td>\n",
       "      <td>recall</td>\n",
       "      <td>0.884680</td>\n",
       "    </tr>\n",
       "    <tr>\n",
       "      <th>10</th>\n",
       "      <td>13</td>\n",
       "      <td>SVC v1</td>\n",
       "      <td>recall</td>\n",
       "      <td>0.982400</td>\n",
       "    </tr>\n",
       "    <tr>\n",
       "      <th>11</th>\n",
       "      <td>14</td>\n",
       "      <td>SVC v2</td>\n",
       "      <td>recall</td>\n",
       "      <td>0.961739</td>\n",
       "    </tr>\n",
       "    <tr>\n",
       "      <th>12</th>\n",
       "      <td>15</td>\n",
       "      <td>SVC v3</td>\n",
       "      <td>recall</td>\n",
       "      <td>0.996633</td>\n",
       "    </tr>\n",
       "    <tr>\n",
       "      <th>13</th>\n",
       "      <td>16</td>\n",
       "      <td>KNN v0</td>\n",
       "      <td>recall</td>\n",
       "      <td>0.849786</td>\n",
       "    </tr>\n",
       "    <tr>\n",
       "      <th>14</th>\n",
       "      <td>18</td>\n",
       "      <td>KNN v1</td>\n",
       "      <td>recall</td>\n",
       "      <td>0.899066</td>\n",
       "    </tr>\n",
       "    <tr>\n",
       "      <th>15</th>\n",
       "      <td>19</td>\n",
       "      <td>KNN v2</td>\n",
       "      <td>recall</td>\n",
       "      <td>0.876416</td>\n",
       "    </tr>\n",
       "    <tr>\n",
       "      <th>16</th>\n",
       "      <td>20</td>\n",
       "      <td>KNN v3</td>\n",
       "      <td>recall</td>\n",
       "      <td>0.901209</td>\n",
       "    </tr>\n",
       "    <tr>\n",
       "      <th>17</th>\n",
       "      <td>21</td>\n",
       "      <td>Hard Voting Classifier v0</td>\n",
       "      <td>recall</td>\n",
       "      <td>0.890037</td>\n",
       "    </tr>\n",
       "    <tr>\n",
       "      <th>18</th>\n",
       "      <td>22</td>\n",
       "      <td>Soft Voting Classifier v0</td>\n",
       "      <td>recall</td>\n",
       "      <td>0.896235</td>\n",
       "    </tr>\n",
       "    <tr>\n",
       "      <th>19</th>\n",
       "      <td>0</td>\n",
       "      <td>Logistic Regression v0</td>\n",
       "      <td>precision</td>\n",
       "      <td>0.885369</td>\n",
       "    </tr>\n",
       "    <tr>\n",
       "      <th>20</th>\n",
       "      <td>1</td>\n",
       "      <td>Logistic Regression v1</td>\n",
       "      <td>precision</td>\n",
       "      <td>0.857110</td>\n",
       "    </tr>\n",
       "    <tr>\n",
       "      <th>21</th>\n",
       "      <td>2</td>\n",
       "      <td>Logistic Regression v2</td>\n",
       "      <td>precision</td>\n",
       "      <td>0.857321</td>\n",
       "    </tr>\n",
       "    <tr>\n",
       "      <th>22</th>\n",
       "      <td>3</td>\n",
       "      <td>Linear SVC v0</td>\n",
       "      <td>precision</td>\n",
       "      <td>0.887511</td>\n",
       "    </tr>\n",
       "    <tr>\n",
       "      <th>23</th>\n",
       "      <td>4</td>\n",
       "      <td>Linear SVC v1</td>\n",
       "      <td>precision</td>\n",
       "      <td>0.856400</td>\n",
       "    </tr>\n",
       "    <tr>\n",
       "      <th>24</th>\n",
       "      <td>5</td>\n",
       "      <td>Linear SVC v2</td>\n",
       "      <td>precision</td>\n",
       "      <td>0.856845</td>\n",
       "    </tr>\n",
       "    <tr>\n",
       "      <th>25</th>\n",
       "      <td>6</td>\n",
       "      <td>Random Forest v0</td>\n",
       "      <td>precision</td>\n",
       "      <td>0.877870</td>\n",
       "    </tr>\n",
       "    <tr>\n",
       "      <th>26</th>\n",
       "      <td>7</td>\n",
       "      <td>Random Forest v1</td>\n",
       "      <td>precision</td>\n",
       "      <td>0.848675</td>\n",
       "    </tr>\n",
       "    <tr>\n",
       "      <th>27</th>\n",
       "      <td>10</td>\n",
       "      <td>Random Forest v2</td>\n",
       "      <td>precision</td>\n",
       "      <td>0.850399</td>\n",
       "    </tr>\n",
       "    <tr>\n",
       "      <th>28</th>\n",
       "      <td>12</td>\n",
       "      <td>SVC v0</td>\n",
       "      <td>precision</td>\n",
       "      <td>0.884680</td>\n",
       "    </tr>\n",
       "    <tr>\n",
       "      <th>29</th>\n",
       "      <td>13</td>\n",
       "      <td>SVC v1</td>\n",
       "      <td>precision</td>\n",
       "      <td>0.663021</td>\n",
       "    </tr>\n",
       "    <tr>\n",
       "      <th>30</th>\n",
       "      <td>14</td>\n",
       "      <td>SVC v2</td>\n",
       "      <td>precision</td>\n",
       "      <td>0.719339</td>\n",
       "    </tr>\n",
       "    <tr>\n",
       "      <th>31</th>\n",
       "      <td>15</td>\n",
       "      <td>SVC v3</td>\n",
       "      <td>precision</td>\n",
       "      <td>0.588869</td>\n",
       "    </tr>\n",
       "    <tr>\n",
       "      <th>32</th>\n",
       "      <td>16</td>\n",
       "      <td>KNN v0</td>\n",
       "      <td>precision</td>\n",
       "      <td>0.849786</td>\n",
       "    </tr>\n",
       "    <tr>\n",
       "      <th>33</th>\n",
       "      <td>18</td>\n",
       "      <td>KNN v1</td>\n",
       "      <td>precision</td>\n",
       "      <td>0.802476</td>\n",
       "    </tr>\n",
       "    <tr>\n",
       "      <th>34</th>\n",
       "      <td>19</td>\n",
       "      <td>KNN v2</td>\n",
       "      <td>precision</td>\n",
       "      <td>0.811721</td>\n",
       "    </tr>\n",
       "    <tr>\n",
       "      <th>35</th>\n",
       "      <td>20</td>\n",
       "      <td>KNN v3</td>\n",
       "      <td>precision</td>\n",
       "      <td>0.804652</td>\n",
       "    </tr>\n",
       "    <tr>\n",
       "      <th>36</th>\n",
       "      <td>21</td>\n",
       "      <td>Hard Voting Classifier v0</td>\n",
       "      <td>precision</td>\n",
       "      <td>0.890037</td>\n",
       "    </tr>\n",
       "    <tr>\n",
       "      <th>37</th>\n",
       "      <td>22</td>\n",
       "      <td>Soft Voting Classifier v0</td>\n",
       "      <td>precision</td>\n",
       "      <td>0.896235</td>\n",
       "    </tr>\n",
       "    <tr>\n",
       "      <th>38</th>\n",
       "      <td>0</td>\n",
       "      <td>Logistic Regression v0</td>\n",
       "      <td>f1</td>\n",
       "      <td>0.870934</td>\n",
       "    </tr>\n",
       "    <tr>\n",
       "      <th>39</th>\n",
       "      <td>1</td>\n",
       "      <td>Logistic Regression v1</td>\n",
       "      <td>f1</td>\n",
       "      <td>0.871140</td>\n",
       "    </tr>\n",
       "    <tr>\n",
       "      <th>40</th>\n",
       "      <td>2</td>\n",
       "      <td>Logistic Regression v2</td>\n",
       "      <td>f1</td>\n",
       "      <td>0.871766</td>\n",
       "    </tr>\n",
       "    <tr>\n",
       "      <th>41</th>\n",
       "      <td>3</td>\n",
       "      <td>Linear SVC v0</td>\n",
       "      <td>f1</td>\n",
       "      <td>0.871667</td>\n",
       "    </tr>\n",
       "    <tr>\n",
       "      <th>42</th>\n",
       "      <td>4</td>\n",
       "      <td>Linear SVC v1</td>\n",
       "      <td>f1</td>\n",
       "      <td>0.871625</td>\n",
       "    </tr>\n",
       "    <tr>\n",
       "      <th>43</th>\n",
       "      <td>5</td>\n",
       "      <td>Linear SVC v2</td>\n",
       "      <td>f1</td>\n",
       "      <td>0.872076</td>\n",
       "    </tr>\n",
       "    <tr>\n",
       "      <th>44</th>\n",
       "      <td>6</td>\n",
       "      <td>Random Forest v0</td>\n",
       "      <td>f1</td>\n",
       "      <td>0.862945</td>\n",
       "    </tr>\n",
       "    <tr>\n",
       "      <th>45</th>\n",
       "      <td>7</td>\n",
       "      <td>Random Forest v1</td>\n",
       "      <td>f1</td>\n",
       "      <td>0.864893</td>\n",
       "    </tr>\n",
       "    <tr>\n",
       "      <th>46</th>\n",
       "      <td>10</td>\n",
       "      <td>Random Forest v2</td>\n",
       "      <td>f1</td>\n",
       "      <td>0.866625</td>\n",
       "    </tr>\n",
       "    <tr>\n",
       "      <th>47</th>\n",
       "      <td>12</td>\n",
       "      <td>SVC v0</td>\n",
       "      <td>f1</td>\n",
       "      <td>0.866876</td>\n",
       "    </tr>\n",
       "    <tr>\n",
       "      <th>48</th>\n",
       "      <td>13</td>\n",
       "      <td>SVC v1</td>\n",
       "      <td>f1</td>\n",
       "      <td>0.791713</td>\n",
       "    </tr>\n",
       "    <tr>\n",
       "      <th>49</th>\n",
       "      <td>14</td>\n",
       "      <td>SVC v2</td>\n",
       "      <td>f1</td>\n",
       "      <td>0.823057</td>\n",
       "    </tr>\n",
       "    <tr>\n",
       "      <th>50</th>\n",
       "      <td>15</td>\n",
       "      <td>SVC v3</td>\n",
       "      <td>f1</td>\n",
       "      <td>0.740315</td>\n",
       "    </tr>\n",
       "    <tr>\n",
       "      <th>51</th>\n",
       "      <td>16</td>\n",
       "      <td>KNN v0</td>\n",
       "      <td>f1</td>\n",
       "      <td>0.820082</td>\n",
       "    </tr>\n",
       "    <tr>\n",
       "      <th>52</th>\n",
       "      <td>18</td>\n",
       "      <td>KNN v1</td>\n",
       "      <td>f1</td>\n",
       "      <td>0.848008</td>\n",
       "    </tr>\n",
       "    <tr>\n",
       "      <th>53</th>\n",
       "      <td>19</td>\n",
       "      <td>KNN v2</td>\n",
       "      <td>f1</td>\n",
       "      <td>0.842817</td>\n",
       "    </tr>\n",
       "    <tr>\n",
       "      <th>54</th>\n",
       "      <td>20</td>\n",
       "      <td>KNN v3</td>\n",
       "      <td>f1</td>\n",
       "      <td>0.850182</td>\n",
       "    </tr>\n",
       "    <tr>\n",
       "      <th>55</th>\n",
       "      <td>21</td>\n",
       "      <td>Hard Voting Classifier v0</td>\n",
       "      <td>f1</td>\n",
       "      <td>0.870101</td>\n",
       "    </tr>\n",
       "    <tr>\n",
       "      <th>56</th>\n",
       "      <td>22</td>\n",
       "      <td>Soft Voting Classifier v0</td>\n",
       "      <td>f1</td>\n",
       "      <td>0.866661</td>\n",
       "    </tr>\n",
       "  </tbody>\n",
       "</table>\n",
       "</div>"
      ],
      "text/plain": [
       "    id                 model_name     metric     score\n",
       "0    0     Logistic Regression v0     recall  0.885369\n",
       "1    1     Logistic Regression v1     recall  0.885675\n",
       "2    2     Logistic Regression v2     recall  0.886746\n",
       "3    3              Linear SVC v0     recall  0.887511\n",
       "4    4              Linear SVC v1     recall  0.887435\n",
       "5    5              Linear SVC v2     recall  0.887894\n",
       "6    6           Random Forest v0     recall  0.877870\n",
       "7    7           Random Forest v1     recall  0.881772\n",
       "8   10           Random Forest v2     recall  0.883532\n",
       "9   12                     SVC v0     recall  0.884680\n",
       "10  13                     SVC v1     recall  0.982400\n",
       "11  14                     SVC v2     recall  0.961739\n",
       "12  15                     SVC v3     recall  0.996633\n",
       "13  16                     KNN v0     recall  0.849786\n",
       "14  18                     KNN v1     recall  0.899066\n",
       "15  19                     KNN v2     recall  0.876416\n",
       "16  20                     KNN v3     recall  0.901209\n",
       "17  21  Hard Voting Classifier v0     recall  0.890037\n",
       "18  22  Soft Voting Classifier v0     recall  0.896235\n",
       "19   0     Logistic Regression v0  precision  0.885369\n",
       "20   1     Logistic Regression v1  precision  0.857110\n",
       "21   2     Logistic Regression v2  precision  0.857321\n",
       "22   3              Linear SVC v0  precision  0.887511\n",
       "23   4              Linear SVC v1  precision  0.856400\n",
       "24   5              Linear SVC v2  precision  0.856845\n",
       "25   6           Random Forest v0  precision  0.877870\n",
       "26   7           Random Forest v1  precision  0.848675\n",
       "27  10           Random Forest v2  precision  0.850399\n",
       "28  12                     SVC v0  precision  0.884680\n",
       "29  13                     SVC v1  precision  0.663021\n",
       "30  14                     SVC v2  precision  0.719339\n",
       "31  15                     SVC v3  precision  0.588869\n",
       "32  16                     KNN v0  precision  0.849786\n",
       "33  18                     KNN v1  precision  0.802476\n",
       "34  19                     KNN v2  precision  0.811721\n",
       "35  20                     KNN v3  precision  0.804652\n",
       "36  21  Hard Voting Classifier v0  precision  0.890037\n",
       "37  22  Soft Voting Classifier v0  precision  0.896235\n",
       "38   0     Logistic Regression v0         f1  0.870934\n",
       "39   1     Logistic Regression v1         f1  0.871140\n",
       "40   2     Logistic Regression v2         f1  0.871766\n",
       "41   3              Linear SVC v0         f1  0.871667\n",
       "42   4              Linear SVC v1         f1  0.871625\n",
       "43   5              Linear SVC v2         f1  0.872076\n",
       "44   6           Random Forest v0         f1  0.862945\n",
       "45   7           Random Forest v1         f1  0.864893\n",
       "46  10           Random Forest v2         f1  0.866625\n",
       "47  12                     SVC v0         f1  0.866876\n",
       "48  13                     SVC v1         f1  0.791713\n",
       "49  14                     SVC v2         f1  0.823057\n",
       "50  15                     SVC v3         f1  0.740315\n",
       "51  16                     KNN v0         f1  0.820082\n",
       "52  18                     KNN v1         f1  0.848008\n",
       "53  19                     KNN v2         f1  0.842817\n",
       "54  20                     KNN v3         f1  0.850182\n",
       "55  21  Hard Voting Classifier v0         f1  0.870101\n",
       "56  22  Soft Voting Classifier v0         f1  0.866661"
      ]
     },
     "execution_count": 10,
     "metadata": {},
     "output_type": "execute_result"
    }
   ],
   "source": [
    "melted_training_metrics = pd.melt(training_metrics,id_vars=[\"id\",\"model_name\"],value_vars=[\"recall\",\"precision\",\"f1\"], var_name=\"metric\", value_name=\"score\")\n",
    "melted_training_metrics"
   ]
  },
  {
   "cell_type": "code",
   "execution_count": 11,
   "id": "932503fe",
   "metadata": {},
   "outputs": [
    {
     "data": {
      "image/png": "[encoded data removed]",
      "text/plain": [
       "<Figure size 824.25x700 with 1 Axes>"
      ]
     },
     "metadata": {},
     "output_type": "display_data"
    }
   ],
   "source": [
    "from matplotlib import pyplot as plt\n",
    "import seaborn as sns\n",
    "sns.set_theme(style=\"whitegrid\")\n",
    "\n",
    "# Draw a nested barplot by species and sex\n",
    "g = sns.catplot(\n",
    "    data=melted_training_metrics, kind=\"bar\",\n",
    "    x=\"model_name\", y=\"score\", hue=\"metric\",\n",
    "    palette=\"dark\", alpha=.6, height=7\n",
    ")    \n",
    "    \n",
    "plt.xticks(rotation=90)\n",
    "\n",
    "g.despine(left=True)\n",
    "g.set_axis_labels(\"\", \"Metrics\")\n",
    "g.legend.set_title(\"\")\n"
   ]
  },
  {
   "cell_type": "code",
   "execution_count": 12,
   "id": "ca887e48",
   "metadata": {},
   "outputs": [
    {
     "data": {
      "application/vnd.plotly.v1+json": {
       "config": {
        "plotlyServerURL": "https://plot.ly"
       },
       "data": [
        {
         "alignmentgroup": "True",
         "hovertemplate": "metric=recall<br>model_name=%{x}<br>score=%{y}<extra></extra>",
         "legendgroup": "recall",
         "marker": {
          "color": "#636efa",
          "pattern": {
           "shape": ""
          }
         },
         "name": "recall",
         "offsetgroup": "recall",
         "orientation": "v",
         "showlegend": true,
         "textposition": "auto",
         "type": "bar",
         "x": [
          "Logistic Regression v0",
          "Logistic Regression v1",
          "Logistic Regression v2",
          "Linear SVC v0",
          "Linear SVC v1",
          "Linear SVC v2",
          "Random Forest v0",
          "Random Forest v1",
          "Random Forest v2",
          "SVC v0",
          "SVC v1",
          "SVC v2",
          "SVC v3",
          "KNN v0",
          "KNN v1",
          "KNN v2",
          "KNN v3",
          "Hard Voting Classifier v0",
          "Soft Voting Classifier v0"
         ],
         "xaxis": "x",
         "y": {
          "bdata": "EYqKCPFU7D8p0gL0clfsP3vOJ6w5YOw/tILUeH5m7D+tcPb93WXsP9HcKt+gaew/2aOH/4EX7D8BO8V5ejfsP4fZuIPlRew/3ee7tkxP7D/Mznuc0W/vP6zMRAaQxu4//+bU4Wrk7z+JzSvbcTHrPyAk0fEmxew/bE0M4ZgL7D/EHBtitNbsP3PVdE8ue+w/SYm4L/Wt7D8=",
          "dtype": "f8"
         },
         "yaxis": "y"
        },
        {
         "alignmentgroup": "True",
         "hovertemplate": "metric=precision<br>model_name=%{x}<br>score=%{y}<extra></extra>",
         "legendgroup": "precision",
         "marker": {
          "color": "#EF553B",
          "pattern": {
           "shape": ""
          }
         },
         "name": "precision",
         "offsetgroup": "precision",
         "orientation": "v",
         "showlegend": true,
         "textposition": "auto",
         "type": "bar",
         "x": [
          "Logistic Regression v0",
          "Logistic Regression v1",
          "Logistic Regression v2",
          "Linear SVC v0",
          "Linear SVC v1",
          "Linear SVC v2",
          "Random Forest v0",
          "Random Forest v1",
          "Random Forest v2",
          "SVC v0",
          "SVC v1",
          "SVC v2",
          "SVC v3",
          "KNN v0",
          "KNN v1",
          "KNN v2",
          "KNN v3",
          "Hard Voting Classifier v0",
          "Soft Voting Classifier v0"
         ],
         "xaxis": "x",
         "y": {
          "bdata": "EYqKCPFU7D9L1Myxcm3rPxS1rbgrb+s/tILUeH5m7D/fPIVxoWfrP6W1vWdGa+s/2aOH/4EX7D/w7ELBVyjrP8OXJ1x3Nus/3ee7tkxP7D/x73ffdzflP8QBnevTBOc/fTzYFwPY4j+JzSvbcTHrP0Ec17rhrek/3+DtdZ756T89VE/StL/pP3PVdE8ue+w/SYm4L/Wt7D8=",
          "dtype": "f8"
         },
         "yaxis": "y"
        },
        {
         "alignmentgroup": "True",
         "hovertemplate": "metric=f1<br>model_name=%{x}<br>score=%{y}<extra></extra>",
         "legendgroup": "f1",
         "marker": {
          "color": "#00cc96",
          "pattern": {
           "shape": ""
          }
         },
         "name": "f1",
         "offsetgroup": "f1",
         "orientation": "v",
         "showlegend": true,
         "textposition": "auto",
         "type": "bar",
         "x": [
          "Logistic Regression v0",
          "Logistic Regression v1",
          "Logistic Regression v2",
          "Linear SVC v0",
          "Linear SVC v1",
          "Linear SVC v2",
          "Random Forest v0",
          "Random Forest v1",
          "Random Forest v2",
          "SVC v0",
          "SVC v1",
          "SVC v2",
          "SVC v3",
          "KNN v0",
          "KNN v1",
          "KNN v2",
          "KNN v3",
          "Hard Voting Classifier v0",
          "Soft Voting Classifier v0"
         ],
         "xaxis": "x",
         "y": {
          "bdata": "fF3Mg7He6z/7tUEYYeDrPyBYat2A5es/uBJqB7Pk6z8FuA3TWeTrP9PCT3oL6Os/CDS/MD+d6z9LO6aSNK3rP8XIdldlu+s/F80qmXK96z/9wgIst1XpP7CC85N7Vuo/v+2N0qmw5z8xpZfAHD7qP5D/q5ziIus/q3EoAVv46j9JA7/DsDTrP/CyFrLe1+s/Fa2meq+76z8=",
          "dtype": "f8"
         },
         "yaxis": "y"
        }
       ],
       "layout": {
        "barmode": "group",
        "legend": {
         "title": {
          "text": "metric"
         },
         "tracegroupgap": 0
        },
        "margin": {
         "t": 60
        },
        "template": {
         "data": {
          "bar": [
           {
            "error_x": {
             "color": "#2a3f5f"
            },
            "error_y": {
             "color": "#2a3f5f"
            },
            "marker": {
             "line": {
              "color": "#E5ECF6",
              "width": 0.5
             },
             "pattern": {
              "fillmode": "overlay",
              "size": 10,
              "solidity": 0.2
             }
            },
            "type": "bar"
           }
          ],
          "barpolar": [
           {
            "marker": {
             "line": {
              "color": "#E5ECF6",
              "width": 0.5
             },
             "pattern": {
              "fillmode": "overlay",
              "size": 10,
              "solidity": 0.2
             }
            },
            "type": "barpolar"
           }
          ],
          "carpet": [
           {
            "aaxis": {
             "endlinecolor": "#2a3f5f",
             "gridcolor": "white",
             "linecolor": "white",
             "minorgridcolor": "white",
             "startlinecolor": "#2a3f5f"
            },
            "baxis": {
             "endlinecolor": "#2a3f5f",
             "gridcolor": "white",
             "linecolor": "white",
             "minorgridcolor": "white",
             "startlinecolor": "#2a3f5f"
            },
            "type": "carpet"
           }
          ],
          "choropleth": [
           {
            "colorbar": {
             "outlinewidth": 0,
             "ticks": ""
            },
            "type": "choropleth"
           }
          ],
          "contour": [
           {
            "colorbar": {
             "outlinewidth": 0,
             "ticks": ""
            },
            "colorscale": [
             [
              0,
              "#0d0887"
             ],
             [
              0.1111111111111111,
              "#46039f"
             ],
             [
              0.2222222222222222,
              "#7201a8"
             ],
             [
              0.3333333333333333,
              "#9c179e"
             ],
             [
              0.4444444444444444,
              "#bd3786"
             ],
             [
              0.5555555555555556,
              "#d8576b"
             ],
             [
              0.6666666666666666,
              "#ed7953"
             ],
             [
              0.7777777777777778,
              "#fb9f3a"
             ],
             [
              0.8888888888888888,
              "#fdca26"
             ],
             [
              1,
              "#f0f921"
             ]
            ],
            "type": "contour"
           }
          ],
          "contourcarpet": [
           {
            "colorbar": {
             "outlinewidth": 0,
             "ticks": ""
            },
            "type": "contourcarpet"
           }
          ],
          "heatmap": [
           {
            "colorbar": {
             "outlinewidth": 0,
             "ticks": ""
            },
            "colorscale": [
             [
              0,
              "#0d0887"
             ],
             [
              0.1111111111111111,
              "#46039f"
             ],
             [
              0.2222222222222222,
              "#7201a8"
             ],
             [
              0.3333333333333333,
              "#9c179e"
             ],
             [
              0.4444444444444444,
              "#bd3786"
             ],
             [
              0.5555555555555556,
              "#d8576b"
             ],
             [
              0.6666666666666666,
              "#ed7953"
             ],
             [
              0.7777777777777778,
              "#fb9f3a"
             ],
             [
              0.8888888888888888,
              "#fdca26"
             ],
             [
              1,
              "#f0f921"
             ]
            ],
            "type": "heatmap"
           }
          ],
          "histogram": [
           {
            "marker": {
             "pattern": {
              "fillmode": "overlay",
              "size": 10,
              "solidity": 0.2
             }
            },
            "type": "histogram"
           }
          ],
          "histogram2d": [
           {
            "colorbar": {
             "outlinewidth": 0,
             "ticks": ""
            },
            "colorscale": [
             [
              0,
              "#0d0887"
             ],
             [
              0.1111111111111111,
              "#46039f"
             ],
             [
              0.2222222222222222,
              "#7201a8"
             ],
             [
              0.3333333333333333,
              "#9c179e"
             ],
             [
              0.4444444444444444,
              "#bd3786"
             ],
             [
              0.5555555555555556,
              "#d8576b"
             ],
             [
              0.6666666666666666,
              "#ed7953"
             ],
             [
              0.7777777777777778,
              "#fb9f3a"
             ],
             [
              0.8888888888888888,
              "#fdca26"
             ],
             [
              1,
              "#f0f921"
             ]
            ],
            "type": "histogram2d"
           }
          ],
          "histogram2dcontour": [
           {
            "colorbar": {
             "outlinewidth": 0,
             "ticks": ""
            },
            "colorscale": [
             [
              0,
              "#0d0887"
             ],
             [
              0.1111111111111111,
              "#46039f"
             ],
             [
              0.2222222222222222,
              "#7201a8"
             ],
             [
              0.3333333333333333,
              "#9c179e"
             ],
             [
              0.4444444444444444,
              "#bd3786"
             ],
             [
              0.5555555555555556,
              "#d8576b"
             ],
             [
              0.6666666666666666,
              "#ed7953"
             ],
             [
              0.7777777777777778,
              "#fb9f3a"
             ],
             [
              0.8888888888888888,
              "#fdca26"
             ],
             [
              1,
              "#f0f921"
             ]
            ],
            "type": "histogram2dcontour"
           }
          ],
          "mesh3d": [
           {
            "colorbar": {
             "outlinewidth": 0,
             "ticks": ""
            },
            "type": "mesh3d"
           }
          ],
          "parcoords": [
           {
            "line": {
             "colorbar": {
              "outlinewidth": 0,
              "ticks": ""
             }
            },
            "type": "parcoords"
           }
          ],
          "pie": [
           {
            "automargin": true,
            "type": "pie"
           }
          ],
          "scatter": [
           {
            "fillpattern": {
             "fillmode": "overlay",
             "size": 10,
             "solidity": 0.2
            },
            "type": "scatter"
           }
          ],
          "scatter3d": [
           {
            "line": {
             "colorbar": {
              "outlinewidth": 0,
              "ticks": ""
             }
            },
            "marker": {
             "colorbar": {
              "outlinewidth": 0,
              "ticks": ""
             }
            },
            "type": "scatter3d"
           }
          ],
          "scattercarpet": [
           {
            "marker": {
             "colorbar": {
              "outlinewidth": 0,
              "ticks": ""
             }
            },
            "type": "scattercarpet"
           }
          ],
          "scattergeo": [
           {
            "marker": {
             "colorbar": {
              "outlinewidth": 0,
              "ticks": ""
             }
            },
            "type": "scattergeo"
           }
          ],
          "scattergl": [
           {
            "marker": {
             "colorbar": {
              "outlinewidth": 0,
              "ticks": ""
             }
            },
            "type": "scattergl"
           }
          ],
          "scattermap": [
           {
            "marker": {
             "colorbar": {
              "outlinewidth": 0,
              "ticks": ""
             }
            },
            "type": "scattermap"
           }
          ],
          "scattermapbox": [
           {
            "marker": {
             "colorbar": {
              "outlinewidth": 0,
              "ticks": ""
             }
            },
            "type": "scattermapbox"
           }
          ],
          "scatterpolar": [
           {
            "marker": {
             "colorbar": {
              "outlinewidth": 0,
              "ticks": ""
             }
            },
            "type": "scatterpolar"
           }
          ],
          "scatterpolargl": [
           {
            "marker": {
             "colorbar": {
              "outlinewidth": 0,
              "ticks": ""
             }
            },
            "type": "scatterpolargl"
           }
          ],
          "scatterternary": [
           {
            "marker": {
             "colorbar": {
              "outlinewidth": 0,
              "ticks": ""
             }
            },
            "type": "scatterternary"
           }
          ],
          "surface": [
           {
            "colorbar": {
             "outlinewidth": 0,
             "ticks": ""
            },
            "colorscale": [
             [
              0,
              "#0d0887"
             ],
             [
              0.1111111111111111,
              "#46039f"
             ],
             [
              0.2222222222222222,
              "#7201a8"
             ],
             [
              0.3333333333333333,
              "#9c179e"
             ],
             [
              0.4444444444444444,
              "#bd3786"
             ],
             [
              0.5555555555555556,
              "#d8576b"
             ],
             [
              0.6666666666666666,
              "#ed7953"
             ],
             [
              0.7777777777777778,
              "#fb9f3a"
             ],
             [
              0.8888888888888888,
              "#fdca26"
             ],
             [
              1,
              "#f0f921"
             ]
            ],
            "type": "surface"
           }
          ],
          "table": [
           {
            "cells": {
             "fill": {
              "color": "#EBF0F8"
             },
             "line": {
              "color": "white"
             }
            },
            "header": {
             "fill": {
              "color": "#C8D4E3"
             },
             "line": {
              "color": "white"
             }
            },
            "type": "table"
           }
          ]
         },
         "layout": {
          "annotationdefaults": {
           "arrowcolor": "#2a3f5f",
           "arrowhead": 0,
           "arrowwidth": 1
          },
          "autotypenumbers": "strict",
          "coloraxis": {
           "colorbar": {
            "outlinewidth": 0,
            "ticks": ""
           }
          },
          "colorscale": {
           "diverging": [
            [
             0,
             "#8e0152"
            ],
            [
             0.1,
             "#c51b7d"
            ],
            [
             0.2,
             "#de77ae"
            ],
            [
             0.3,
             "#f1b6da"
            ],
            [
             0.4,
             "#fde0ef"
            ],
            [
             0.5,
             "#f7f7f7"
            ],
            [
             0.6,
             "#e6f5d0"
            ],
            [
             0.7,
             "#b8e186"
            ],
            [
             0.8,
             "#7fbc41"
            ],
            [
             0.9,
             "#4d9221"
            ],
            [
             1,
             "#276419"
            ]
           ],
           "sequential": [
            [
             0,
             "#0d0887"
            ],
            [
             0.1111111111111111,
             "#46039f"
            ],
            [
             0.2222222222222222,
             "#7201a8"
            ],
            [
             0.3333333333333333,
             "#9c179e"
            ],
            [
             0.4444444444444444,
             "#bd3786"
            ],
            [
             0.5555555555555556,
             "#d8576b"
            ],
            [
             0.6666666666666666,
             "#ed7953"
            ],
            [
             0.7777777777777778,
             "#fb9f3a"
            ],
            [
             0.8888888888888888,
             "#fdca26"
            ],
            [
             1,
             "#f0f921"
            ]
           ],
           "sequentialminus": [
            [
             0,
             "#0d0887"
            ],
            [
             0.1111111111111111,
             "#46039f"
            ],
            [
             0.2222222222222222,
             "#7201a8"
            ],
            [
             0.3333333333333333,
             "#9c179e"
            ],
            [
             0.4444444444444444,
             "#bd3786"
            ],
            [
             0.5555555555555556,
             "#d8576b"
            ],
            [
             0.6666666666666666,
             "#ed7953"
            ],
            [
             0.7777777777777778,
             "#fb9f3a"
            ],
            [
             0.8888888888888888,
             "#fdca26"
            ],
            [
             1,
             "#f0f921"
            ]
           ]
          },
          "colorway": [
           "#636efa",
           "#EF553B",
           "#00cc96",
           "#ab63fa",
           "#FFA15A",
           "#19d3f3",
           "#FF6692",
           "#B6E880",
           "#FF97FF",
           "#FECB52"
          ],
          "font": {
           "color": "#2a3f5f"
          },
          "geo": {
           "bgcolor": "white",
           "lakecolor": "white",
           "landcolor": "#E5ECF6",
           "showlakes": true,
           "showland": true,
           "subunitcolor": "white"
          },
          "hoverlabel": {
           "align": "left"
          },
          "hovermode": "closest",
          "mapbox": {
           "style": "light"
          },
          "paper_bgcolor": "white",
          "plot_bgcolor": "#E5ECF6",
          "polar": {
           "angularaxis": {
            "gridcolor": "white",
            "linecolor": "white",
            "ticks": ""
           },
           "bgcolor": "#E5ECF6",
           "radialaxis": {
            "gridcolor": "white",
            "linecolor": "white",
            "ticks": ""
           }
          },
          "scene": {
           "xaxis": {
            "backgroundcolor": "#E5ECF6",
            "gridcolor": "white",
            "gridwidth": 2,
            "linecolor": "white",
            "showbackground": true,
            "ticks": "",
            "zerolinecolor": "white"
           },
           "yaxis": {
            "backgroundcolor": "#E5ECF6",
            "gridcolor": "white",
            "gridwidth": 2,
            "linecolor": "white",
            "showbackground": true,
            "ticks": "",
            "zerolinecolor": "white"
           },
           "zaxis": {
            "backgroundcolor": "#E5ECF6",
            "gridcolor": "white",
            "gridwidth": 2,
            "linecolor": "white",
            "showbackground": true,
            "ticks": "",
            "zerolinecolor": "white"
           }
          },
          "shapedefaults": {
           "line": {
            "color": "#2a3f5f"
           }
          },
          "ternary": {
           "aaxis": {
            "gridcolor": "white",
            "linecolor": "white",
            "ticks": ""
           },
           "baxis": {
            "gridcolor": "white",
            "linecolor": "white",
            "ticks": ""
           },
           "bgcolor": "#E5ECF6",
           "caxis": {
            "gridcolor": "white",
            "linecolor": "white",
            "ticks": ""
           }
          },
          "title": {
           "x": 0.05
          },
          "xaxis": {
           "automargin": true,
           "gridcolor": "white",
           "linecolor": "white",
           "ticks": "",
           "title": {
            "standoff": 15
           },
           "zerolinecolor": "white",
           "zerolinewidth": 2
          },
          "yaxis": {
           "automargin": true,
           "gridcolor": "white",
           "linecolor": "white",
           "ticks": "",
           "title": {
            "standoff": 15
           },
           "zerolinecolor": "white",
           "zerolinewidth": 2
          }
         }
        },
        "xaxis": {
         "anchor": "y",
         "domain": [
          0,
          1
         ],
         "title": {
          "text": "model_name"
         }
        },
        "yaxis": {
         "anchor": "x",
         "domain": [
          0,
          1
         ],
         "title": {
          "text": "score"
         }
        }
       }
      }
     },
     "metadata": {},
     "output_type": "display_data"
    }
   ],
   "source": [
    "import plotly.express as px\n",
    " \n",
    "fig = px.bar(melted_training_metrics, x=\"model_name\", y=\"score\",\n",
    "             color=\"metric\", hover_data=['score'],\n",
    "             barmode = 'group')\n",
    " \n",
    "fig.show()"
   ]
  },
  {
   "cell_type": "markdown",
   "id": "c1614005",
   "metadata": {},
   "source": [
    "Observations:\n",
    "* Considering we want to balance `recall` and `precision` our previous assumption was that `Voting Classifier` did better than most of the previously trained models was wrong\n",
    "* On looking at the visualization above it seems its just slightly better than default Logistic Regression. "
   ]
  },
  {
   "cell_type": "markdown",
   "id": "195de1be",
   "metadata": {},
   "source": [
    "## Testing Helper Functions"
   ]
  },
  {
   "cell_type": "code",
   "execution_count": 13,
   "id": "52b2f75f",
   "metadata": {},
   "outputs": [],
   "source": [
    "import joblib\n",
    "\n",
    "\n",
    "def create_estimator_mapping():\n",
    "    estimators = []\n",
    "    \n",
    "    for entry in os.scandir(models_root_dir):  \n",
    "        if entry.is_file():  # check if it's a file\n",
    "            estimator_name = os.path.splitext(entry.name)[0]\n",
    "            estimator = joblib.load(entry.path)\n",
    "            estimators.append((estimator_name,estimator))\n",
    "    \n",
    "    return estimators\n",
    "\n",
    "def run_tests(estimators, X_test,y_test):\n",
    "    test_results = []\n",
    "    for estimator_name, estimator in estimators:\n",
    "        print(f\"Classifying Data using {estimator_name}\")\n",
    "        predictions = estimator.predict(X_test)\n",
    "        test_results.append((estimator_name,predictions))\n",
    "        \n",
    "    return test_results\n",
    "\n",
    "def get_scores(predictions, true_values):\n",
    "    recall = recall_score(true_values, predictions)\n",
    "    precision = precision_score(true_values, predictions)\n",
    "    f1 = f1_score(true_values, predictions)\n",
    "    return recall,precision,f1\n"
   ]
  },
  {
   "cell_type": "markdown",
   "id": "8fb7c3df",
   "metadata": {},
   "source": [
    "## Run Tests"
   ]
  },
  {
   "cell_type": "code",
   "execution_count": 14,
   "id": "2e8f6324",
   "metadata": {},
   "outputs": [
    {
     "name": "stdout",
     "output_type": "stream",
     "text": [
      "Classifying Data using random_forest_v2\n",
      "Classifying Data using random_forest_v1\n",
      "Classifying Data using svc_v1\n",
      "Classifying Data using linear_svc_v2\n",
      "Classifying Data using knn_v2\n",
      "Classifying Data using knn_v1\n",
      "Classifying Data using linear_svc_v1\n",
      "Classifying Data using knn_v3\n",
      "Classifying Data using svc_v2\n",
      "Classifying Data using soft_voting_classifier_v0\n",
      "Classifying Data using logistic_regression_v1\n",
      "Classifying Data using logistic_regression_v2\n",
      "Classifying Data using svc_v3\n",
      "Classifying Data using hard_voting_classifier_v0\n"
     ]
    }
   ],
   "source": [
    "## load estimators\n",
    "estimators = create_estimator_mapping()\n",
    "\n",
    "## run tests\n",
    "test_results = run_tests(estimators=estimators,X_test=X_test,y_test=y_test)\n",
    "\n"
   ]
  },
  {
   "cell_type": "code",
   "execution_count": 15,
   "id": "6434d5c4",
   "metadata": {},
   "outputs": [
    {
     "name": "stdout",
     "output_type": "stream",
     "text": [
      "recall,precision,f1 for random_forest_v2 are (0.8791309669522643, 0.8440070505287897, 0.8612110311750599)\n",
      "recall,precision,f1 for random_forest_v1 are (0.883108935128519, 0.844847775175644, 0.8635547576301615)\n",
      "recall,precision,f1 for svc_v1 are (0.9703182374541004, 0.6998455087177223, 0.8131811770739839)\n",
      "recall,precision,f1 for linear_svc_v2 are (0.8828029375764994, 0.8548148148148148, 0.8685834713231974)\n",
      "recall,precision,f1 for knn_v2 are (0.8714810281517748, 0.8120901055032792, 0.8407380073800738)\n",
      "recall,precision,f1 for knn_v1 are (0.8876988984088128, 0.8018242122719734, 0.8425791460935231)\n",
      "recall,precision,f1 for linear_svc_v1 are (0.883108935128519, 0.8543516873889876, 0.8684923262112549)\n",
      "recall,precision,f1 for knn_v3 are (0.8910648714810282, 0.8033103448275862, 0.8449151312926158)\n",
      "recall,precision,f1 for svc_v2 are (0.9476744186046512, 0.7484291928467859, 0.8363489062921955)\n",
      "recall,precision,f1 for soft_voting_classifier_v0 are (0.8922888616891065, 0.8331428571428572, 0.8617021276595744)\n",
      "recall,precision,f1 for logistic_regression_v1 are (0.8828029375764994, 0.8548148148148148, 0.8685834713231974)\n",
      "recall,precision,f1 for logistic_regression_v2 are (0.8803549571603427, 0.8565049121762429, 0.8682661837935718)\n",
      "recall,precision,f1 for svc_v3 are (0.996328029375765, 0.5877256317689531, 0.7393278837420527)\n",
      "recall,precision,f1 for hard_voting_classifier_v0 are (0.883108935128519, 0.8485739488385768, 0.8654970760233918)\n"
     ]
    }
   ],
   "source": [
    "## get scores\n",
    "for estimator, predictions in test_results:\n",
    "    recall,precision,f1 = get_scores(predictions=predictions,true_values=y_test)\n",
    "    print(f\"recall,precision,f1 for {estimator} are {recall,precision,f1}\")\n",
    "    common.update_test_data_metrics(estimator,recall,precision,f1)"
   ]
  },
  {
   "cell_type": "markdown",
   "id": "2e3dba6d",
   "metadata": {},
   "source": [
    "## Visualize Results"
   ]
  },
  {
   "cell_type": "code",
   "execution_count": 16,
   "id": "ab4932d4",
   "metadata": {},
   "outputs": [
    {
     "data": {
      "application/vnd.microsoft.datawrangler.viewer.v0+json": {
       "columns": [
        {
         "name": "index",
         "rawType": "int64",
         "type": "integer"
        },
        {
         "name": "model",
         "rawType": "object",
         "type": "string"
        },
        {
         "name": "recall",
         "rawType": "float64",
         "type": "float"
        },
        {
         "name": "precision",
         "rawType": "float64",
         "type": "float"
        },
        {
         "name": "f1",
         "rawType": "float64",
         "type": "float"
        }
       ],
       "ref": "d5d0df17-8b2f-46ed-8153-e3728e310adc",
       "rows": [
        [
         "0",
         "random_forest_v2",
         "0.8791309669522643",
         "0.8440070505287897",
         "0.8612110311750599"
        ],
        [
         "1",
         "random_forest_v1",
         "0.883108935128519",
         "0.844847775175644",
         "0.8635547576301615"
        ],
        [
         "2",
         "svc_v1",
         "0.9703182374541004",
         "0.6998455087177223",
         "0.8131811770739839"
        ],
        [
         "3",
         "linear_svc_v2",
         "0.8828029375764994",
         "0.8548148148148148",
         "0.8685834713231974"
        ],
        [
         "4",
         "knn_v2",
         "0.8714810281517748",
         "0.8120901055032792",
         "0.8407380073800738"
        ],
        [
         "5",
         "knn_v1",
         "0.8876988984088128",
         "0.8018242122719734",
         "0.8425791460935231"
        ],
        [
         "6",
         "linear_svc_v1",
         "0.883108935128519",
         "0.8543516873889876",
         "0.8684923262112549"
        ],
        [
         "7",
         "knn_v3",
         "0.8910648714810282",
         "0.8033103448275862",
         "0.8449151312926158"
        ],
        [
         "8",
         "svc_v2",
         "0.9476744186046512",
         "0.7484291928467859",
         "0.8363489062921955"
        ],
        [
         "9",
         "soft_voting_classifier_v0",
         "0.8922888616891065",
         "0.8331428571428572",
         "0.8617021276595744"
        ],
        [
         "10",
         "logistic_regression_v1",
         "0.8828029375764994",
         "0.8548148148148148",
         "0.8685834713231974"
        ],
        [
         "11",
         "logistic_regression_v2",
         "0.8803549571603427",
         "0.8565049121762429",
         "0.8682661837935718"
        ],
        [
         "12",
         "svc_v3",
         "0.996328029375765",
         "0.5877256317689531",
         "0.7393278837420527"
        ],
        [
         "13",
         "hard_voting_classifier_v0",
         "0.883108935128519",
         "0.8485739488385768",
         "0.8654970760233918"
        ]
       ],
       "shape": {
        "columns": 4,
        "rows": 14
       }
      },
      "text/html": [
       "<div>\n",
       "<style scoped>\n",
       "    .dataframe tbody tr th:only-of-type {\n",
       "        vertical-align: middle;\n",
       "    }\n",
       "\n",
       "    .dataframe tbody tr th {\n",
       "        vertical-align: top;\n",
       "    }\n",
       "\n",
       "    .dataframe thead th {\n",
       "        text-align: right;\n",
       "    }\n",
       "</style>\n",
       "<table border=\"1\" class=\"dataframe\">\n",
       "  <thead>\n",
       "    <tr style=\"text-align: right;\">\n",
       "      <th></th>\n",
       "      <th>model</th>\n",
       "      <th>recall</th>\n",
       "      <th>precision</th>\n",
       "      <th>f1</th>\n",
       "    </tr>\n",
       "  </thead>\n",
       "  <tbody>\n",
       "    <tr>\n",
       "      <th>0</th>\n",
       "      <td>random_forest_v2</td>\n",
       "      <td>0.879131</td>\n",
       "      <td>0.844007</td>\n",
       "      <td>0.861211</td>\n",
       "    </tr>\n",
       "    <tr>\n",
       "      <th>1</th>\n",
       "      <td>random_forest_v1</td>\n",
       "      <td>0.883109</td>\n",
       "      <td>0.844848</td>\n",
       "      <td>0.863555</td>\n",
       "    </tr>\n",
       "    <tr>\n",
       "      <th>2</th>\n",
       "      <td>svc_v1</td>\n",
       "      <td>0.970318</td>\n",
       "      <td>0.699846</td>\n",
       "      <td>0.813181</td>\n",
       "    </tr>\n",
       "    <tr>\n",
       "      <th>3</th>\n",
       "      <td>linear_svc_v2</td>\n",
       "      <td>0.882803</td>\n",
       "      <td>0.854815</td>\n",
       "      <td>0.868583</td>\n",
       "    </tr>\n",
       "    <tr>\n",
       "      <th>4</th>\n",
       "      <td>knn_v2</td>\n",
       "      <td>0.871481</td>\n",
       "      <td>0.812090</td>\n",
       "      <td>0.840738</td>\n",
       "    </tr>\n",
       "    <tr>\n",
       "      <th>5</th>\n",
       "      <td>knn_v1</td>\n",
       "      <td>0.887699</td>\n",
       "      <td>0.801824</td>\n",
       "      <td>0.842579</td>\n",
       "    </tr>\n",
       "    <tr>\n",
       "      <th>6</th>\n",
       "      <td>linear_svc_v1</td>\n",
       "      <td>0.883109</td>\n",
       "      <td>0.854352</td>\n",
       "      <td>0.868492</td>\n",
       "    </tr>\n",
       "    <tr>\n",
       "      <th>7</th>\n",
       "      <td>knn_v3</td>\n",
       "      <td>0.891065</td>\n",
       "      <td>0.803310</td>\n",
       "      <td>0.844915</td>\n",
       "    </tr>\n",
       "    <tr>\n",
       "      <th>8</th>\n",
       "      <td>svc_v2</td>\n",
       "      <td>0.947674</td>\n",
       "      <td>0.748429</td>\n",
       "      <td>0.836349</td>\n",
       "    </tr>\n",
       "    <tr>\n",
       "      <th>9</th>\n",
       "      <td>soft_voting_classifier_v0</td>\n",
       "      <td>0.892289</td>\n",
       "      <td>0.833143</td>\n",
       "      <td>0.861702</td>\n",
       "    </tr>\n",
       "    <tr>\n",
       "      <th>10</th>\n",
       "      <td>logistic_regression_v1</td>\n",
       "      <td>0.882803</td>\n",
       "      <td>0.854815</td>\n",
       "      <td>0.868583</td>\n",
       "    </tr>\n",
       "    <tr>\n",
       "      <th>11</th>\n",
       "      <td>logistic_regression_v2</td>\n",
       "      <td>0.880355</td>\n",
       "      <td>0.856505</td>\n",
       "      <td>0.868266</td>\n",
       "    </tr>\n",
       "    <tr>\n",
       "      <th>12</th>\n",
       "      <td>svc_v3</td>\n",
       "      <td>0.996328</td>\n",
       "      <td>0.587726</td>\n",
       "      <td>0.739328</td>\n",
       "    </tr>\n",
       "    <tr>\n",
       "      <th>13</th>\n",
       "      <td>hard_voting_classifier_v0</td>\n",
       "      <td>0.883109</td>\n",
       "      <td>0.848574</td>\n",
       "      <td>0.865497</td>\n",
       "    </tr>\n",
       "  </tbody>\n",
       "</table>\n",
       "</div>"
      ],
      "text/plain": [
       "                        model    recall  precision        f1\n",
       "0            random_forest_v2  0.879131   0.844007  0.861211\n",
       "1            random_forest_v1  0.883109   0.844848  0.863555\n",
       "2                      svc_v1  0.970318   0.699846  0.813181\n",
       "3               linear_svc_v2  0.882803   0.854815  0.868583\n",
       "4                      knn_v2  0.871481   0.812090  0.840738\n",
       "5                      knn_v1  0.887699   0.801824  0.842579\n",
       "6               linear_svc_v1  0.883109   0.854352  0.868492\n",
       "7                      knn_v3  0.891065   0.803310  0.844915\n",
       "8                      svc_v2  0.947674   0.748429  0.836349\n",
       "9   soft_voting_classifier_v0  0.892289   0.833143  0.861702\n",
       "10     logistic_regression_v1  0.882803   0.854815  0.868583\n",
       "11     logistic_regression_v2  0.880355   0.856505  0.868266\n",
       "12                     svc_v3  0.996328   0.587726  0.739328\n",
       "13  hard_voting_classifier_v0  0.883109   0.848574  0.865497"
      ]
     },
     "execution_count": 16,
     "metadata": {},
     "output_type": "execute_result"
    }
   ],
   "source": [
    "test_data_metrics = pd.read_csv(Path(data_root_dir,\"test_data_metrics.csv\"))\n",
    "test_data_metrics"
   ]
  },
  {
   "cell_type": "code",
   "execution_count": 17,
   "id": "2158360d",
   "metadata": {},
   "outputs": [
    {
     "data": {
      "application/vnd.microsoft.datawrangler.viewer.v0+json": {
       "columns": [
        {
         "name": "index",
         "rawType": "int64",
         "type": "integer"
        },
        {
         "name": "model",
         "rawType": "object",
         "type": "string"
        },
        {
         "name": "recall",
         "rawType": "float64",
         "type": "float"
        },
        {
         "name": "precision",
         "rawType": "float64",
         "type": "float"
        },
        {
         "name": "f1",
         "rawType": "float64",
         "type": "float"
        },
        {
         "name": "id",
         "rawType": "int64",
         "type": "integer"
        }
       ],
       "ref": "dfe9559a-5d88-4dbc-99c3-095dbedc3ed4",
       "rows": [
        [
         "0",
         "random_forest_v2",
         "0.8791309669522643",
         "0.8440070505287897",
         "0.8612110311750599",
         "0"
        ],
        [
         "1",
         "random_forest_v1",
         "0.883108935128519",
         "0.844847775175644",
         "0.8635547576301615",
         "1"
        ],
        [
         "2",
         "svc_v1",
         "0.9703182374541004",
         "0.6998455087177223",
         "0.8131811770739839",
         "2"
        ],
        [
         "3",
         "linear_svc_v2",
         "0.8828029375764994",
         "0.8548148148148148",
         "0.8685834713231974",
         "3"
        ],
        [
         "4",
         "knn_v2",
         "0.8714810281517748",
         "0.8120901055032792",
         "0.8407380073800738",
         "4"
        ]
       ],
       "shape": {
        "columns": 5,
        "rows": 5
       }
      },
      "text/html": [
       "<div>\n",
       "<style scoped>\n",
       "    .dataframe tbody tr th:only-of-type {\n",
       "        vertical-align: middle;\n",
       "    }\n",
       "\n",
       "    .dataframe tbody tr th {\n",
       "        vertical-align: top;\n",
       "    }\n",
       "\n",
       "    .dataframe thead th {\n",
       "        text-align: right;\n",
       "    }\n",
       "</style>\n",
       "<table border=\"1\" class=\"dataframe\">\n",
       "  <thead>\n",
       "    <tr style=\"text-align: right;\">\n",
       "      <th></th>\n",
       "      <th>model</th>\n",
       "      <th>recall</th>\n",
       "      <th>precision</th>\n",
       "      <th>f1</th>\n",
       "      <th>id</th>\n",
       "    </tr>\n",
       "  </thead>\n",
       "  <tbody>\n",
       "    <tr>\n",
       "      <th>0</th>\n",
       "      <td>random_forest_v2</td>\n",
       "      <td>0.879131</td>\n",
       "      <td>0.844007</td>\n",
       "      <td>0.861211</td>\n",
       "      <td>0</td>\n",
       "    </tr>\n",
       "    <tr>\n",
       "      <th>1</th>\n",
       "      <td>random_forest_v1</td>\n",
       "      <td>0.883109</td>\n",
       "      <td>0.844848</td>\n",
       "      <td>0.863555</td>\n",
       "      <td>1</td>\n",
       "    </tr>\n",
       "    <tr>\n",
       "      <th>2</th>\n",
       "      <td>svc_v1</td>\n",
       "      <td>0.970318</td>\n",
       "      <td>0.699846</td>\n",
       "      <td>0.813181</td>\n",
       "      <td>2</td>\n",
       "    </tr>\n",
       "    <tr>\n",
       "      <th>3</th>\n",
       "      <td>linear_svc_v2</td>\n",
       "      <td>0.882803</td>\n",
       "      <td>0.854815</td>\n",
       "      <td>0.868583</td>\n",
       "      <td>3</td>\n",
       "    </tr>\n",
       "    <tr>\n",
       "      <th>4</th>\n",
       "      <td>knn_v2</td>\n",
       "      <td>0.871481</td>\n",
       "      <td>0.812090</td>\n",
       "      <td>0.840738</td>\n",
       "      <td>4</td>\n",
       "    </tr>\n",
       "  </tbody>\n",
       "</table>\n",
       "</div>"
      ],
      "text/plain": [
       "              model    recall  precision        f1  id\n",
       "0  random_forest_v2  0.879131   0.844007  0.861211   0\n",
       "1  random_forest_v1  0.883109   0.844848  0.863555   1\n",
       "2            svc_v1  0.970318   0.699846  0.813181   2\n",
       "3     linear_svc_v2  0.882803   0.854815  0.868583   3\n",
       "4            knn_v2  0.871481   0.812090  0.840738   4"
      ]
     },
     "execution_count": 17,
     "metadata": {},
     "output_type": "execute_result"
    }
   ],
   "source": [
    "test_data_metrics[\"id\"] = test_data_metrics.index\n",
    "test_data_metrics.head()"
   ]
  },
  {
   "cell_type": "code",
   "execution_count": 18,
   "id": "6023fed3",
   "metadata": {},
   "outputs": [
    {
     "data": {
      "application/vnd.microsoft.datawrangler.viewer.v0+json": {
       "columns": [
        {
         "name": "index",
         "rawType": "int64",
         "type": "integer"
        },
        {
         "name": "id",
         "rawType": "int64",
         "type": "integer"
        },
        {
         "name": "model",
         "rawType": "object",
         "type": "string"
        },
        {
         "name": "metric",
         "rawType": "object",
         "type": "string"
        },
        {
         "name": "score",
         "rawType": "float64",
         "type": "float"
        }
       ],
       "ref": "b79e9dab-bba8-4ed4-a4d1-ae15c9bd2663",
       "rows": [
        [
         "0",
         "0",
         "random_forest_v2",
         "recall",
         "0.8791309669522643"
        ],
        [
         "1",
         "1",
         "random_forest_v1",
         "recall",
         "0.883108935128519"
        ],
        [
         "2",
         "2",
         "svc_v1",
         "recall",
         "0.9703182374541004"
        ],
        [
         "3",
         "3",
         "linear_svc_v2",
         "recall",
         "0.8828029375764994"
        ],
        [
         "4",
         "4",
         "knn_v2",
         "recall",
         "0.8714810281517748"
        ],
        [
         "5",
         "5",
         "knn_v1",
         "recall",
         "0.8876988984088128"
        ],
        [
         "6",
         "6",
         "linear_svc_v1",
         "recall",
         "0.883108935128519"
        ],
        [
         "7",
         "7",
         "knn_v3",
         "recall",
         "0.8910648714810282"
        ],
        [
         "8",
         "8",
         "svc_v2",
         "recall",
         "0.9476744186046512"
        ],
        [
         "9",
         "9",
         "soft_voting_classifier_v0",
         "recall",
         "0.8922888616891065"
        ],
        [
         "10",
         "10",
         "logistic_regression_v1",
         "recall",
         "0.8828029375764994"
        ],
        [
         "11",
         "11",
         "logistic_regression_v2",
         "recall",
         "0.8803549571603427"
        ],
        [
         "12",
         "12",
         "svc_v3",
         "recall",
         "0.996328029375765"
        ],
        [
         "13",
         "13",
         "hard_voting_classifier_v0",
         "recall",
         "0.883108935128519"
        ],
        [
         "14",
         "0",
         "random_forest_v2",
         "precision",
         "0.8440070505287897"
        ],
        [
         "15",
         "1",
         "random_forest_v1",
         "precision",
         "0.844847775175644"
        ],
        [
         "16",
         "2",
         "svc_v1",
         "precision",
         "0.6998455087177223"
        ],
        [
         "17",
         "3",
         "linear_svc_v2",
         "precision",
         "0.8548148148148148"
        ],
        [
         "18",
         "4",
         "knn_v2",
         "precision",
         "0.8120901055032792"
        ],
        [
         "19",
         "5",
         "knn_v1",
         "precision",
         "0.8018242122719734"
        ],
        [
         "20",
         "6",
         "linear_svc_v1",
         "precision",
         "0.8543516873889876"
        ],
        [
         "21",
         "7",
         "knn_v3",
         "precision",
         "0.8033103448275862"
        ],
        [
         "22",
         "8",
         "svc_v2",
         "precision",
         "0.7484291928467859"
        ],
        [
         "23",
         "9",
         "soft_voting_classifier_v0",
         "precision",
         "0.8331428571428572"
        ],
        [
         "24",
         "10",
         "logistic_regression_v1",
         "precision",
         "0.8548148148148148"
        ],
        [
         "25",
         "11",
         "logistic_regression_v2",
         "precision",
         "0.8565049121762429"
        ],
        [
         "26",
         "12",
         "svc_v3",
         "precision",
         "0.5877256317689531"
        ],
        [
         "27",
         "13",
         "hard_voting_classifier_v0",
         "precision",
         "0.8485739488385768"
        ],
        [
         "28",
         "0",
         "random_forest_v2",
         "f1",
         "0.8612110311750599"
        ],
        [
         "29",
         "1",
         "random_forest_v1",
         "f1",
         "0.8635547576301615"
        ],
        [
         "30",
         "2",
         "svc_v1",
         "f1",
         "0.8131811770739839"
        ],
        [
         "31",
         "3",
         "linear_svc_v2",
         "f1",
         "0.8685834713231974"
        ],
        [
         "32",
         "4",
         "knn_v2",
         "f1",
         "0.8407380073800738"
        ],
        [
         "33",
         "5",
         "knn_v1",
         "f1",
         "0.8425791460935231"
        ],
        [
         "34",
         "6",
         "linear_svc_v1",
         "f1",
         "0.8684923262112549"
        ],
        [
         "35",
         "7",
         "knn_v3",
         "f1",
         "0.8449151312926158"
        ],
        [
         "36",
         "8",
         "svc_v2",
         "f1",
         "0.8363489062921955"
        ],
        [
         "37",
         "9",
         "soft_voting_classifier_v0",
         "f1",
         "0.8617021276595744"
        ],
        [
         "38",
         "10",
         "logistic_regression_v1",
         "f1",
         "0.8685834713231974"
        ],
        [
         "39",
         "11",
         "logistic_regression_v2",
         "f1",
         "0.8682661837935718"
        ],
        [
         "40",
         "12",
         "svc_v3",
         "f1",
         "0.7393278837420527"
        ],
        [
         "41",
         "13",
         "hard_voting_classifier_v0",
         "f1",
         "0.8654970760233918"
        ]
       ],
       "shape": {
        "columns": 4,
        "rows": 42
       }
      },
      "text/html": [
       "<div>\n",
       "<style scoped>\n",
       "    .dataframe tbody tr th:only-of-type {\n",
       "        vertical-align: middle;\n",
       "    }\n",
       "\n",
       "    .dataframe tbody tr th {\n",
       "        vertical-align: top;\n",
       "    }\n",
       "\n",
       "    .dataframe thead th {\n",
       "        text-align: right;\n",
       "    }\n",
       "</style>\n",
       "<table border=\"1\" class=\"dataframe\">\n",
       "  <thead>\n",
       "    <tr style=\"text-align: right;\">\n",
       "      <th></th>\n",
       "      <th>id</th>\n",
       "      <th>model</th>\n",
       "      <th>metric</th>\n",
       "      <th>score</th>\n",
       "    </tr>\n",
       "  </thead>\n",
       "  <tbody>\n",
       "    <tr>\n",
       "      <th>0</th>\n",
       "      <td>0</td>\n",
       "      <td>random_forest_v2</td>\n",
       "      <td>recall</td>\n",
       "      <td>0.879131</td>\n",
       "    </tr>\n",
       "    <tr>\n",
       "      <th>1</th>\n",
       "      <td>1</td>\n",
       "      <td>random_forest_v1</td>\n",
       "      <td>recall</td>\n",
       "      <td>0.883109</td>\n",
       "    </tr>\n",
       "    <tr>\n",
       "      <th>2</th>\n",
       "      <td>2</td>\n",
       "      <td>svc_v1</td>\n",
       "      <td>recall</td>\n",
       "      <td>0.970318</td>\n",
       "    </tr>\n",
       "    <tr>\n",
       "      <th>3</th>\n",
       "      <td>3</td>\n",
       "      <td>linear_svc_v2</td>\n",
       "      <td>recall</td>\n",
       "      <td>0.882803</td>\n",
       "    </tr>\n",
       "    <tr>\n",
       "      <th>4</th>\n",
       "      <td>4</td>\n",
       "      <td>knn_v2</td>\n",
       "      <td>recall</td>\n",
       "      <td>0.871481</td>\n",
       "    </tr>\n",
       "    <tr>\n",
       "      <th>5</th>\n",
       "      <td>5</td>\n",
       "      <td>knn_v1</td>\n",
       "      <td>recall</td>\n",
       "      <td>0.887699</td>\n",
       "    </tr>\n",
       "    <tr>\n",
       "      <th>6</th>\n",
       "      <td>6</td>\n",
       "      <td>linear_svc_v1</td>\n",
       "      <td>recall</td>\n",
       "      <td>0.883109</td>\n",
       "    </tr>\n",
       "    <tr>\n",
       "      <th>7</th>\n",
       "      <td>7</td>\n",
       "      <td>knn_v3</td>\n",
       "      <td>recall</td>\n",
       "      <td>0.891065</td>\n",
       "    </tr>\n",
       "    <tr>\n",
       "      <th>8</th>\n",
       "      <td>8</td>\n",
       "      <td>svc_v2</td>\n",
       "      <td>recall</td>\n",
       "      <td>0.947674</td>\n",
       "    </tr>\n",
       "    <tr>\n",
       "      <th>9</th>\n",
       "      <td>9</td>\n",
       "      <td>soft_voting_classifier_v0</td>\n",
       "      <td>recall</td>\n",
       "      <td>0.892289</td>\n",
       "    </tr>\n",
       "    <tr>\n",
       "      <th>10</th>\n",
       "      <td>10</td>\n",
       "      <td>logistic_regression_v1</td>\n",
       "      <td>recall</td>\n",
       "      <td>0.882803</td>\n",
       "    </tr>\n",
       "    <tr>\n",
       "      <th>11</th>\n",
       "      <td>11</td>\n",
       "      <td>logistic_regression_v2</td>\n",
       "      <td>recall</td>\n",
       "      <td>0.880355</td>\n",
       "    </tr>\n",
       "    <tr>\n",
       "      <th>12</th>\n",
       "      <td>12</td>\n",
       "      <td>svc_v3</td>\n",
       "      <td>recall</td>\n",
       "      <td>0.996328</td>\n",
       "    </tr>\n",
       "    <tr>\n",
       "      <th>13</th>\n",
       "      <td>13</td>\n",
       "      <td>hard_voting_classifier_v0</td>\n",
       "      <td>recall</td>\n",
       "      <td>0.883109</td>\n",
       "    </tr>\n",
       "    <tr>\n",
       "      <th>14</th>\n",
       "      <td>0</td>\n",
       "      <td>random_forest_v2</td>\n",
       "      <td>precision</td>\n",
       "      <td>0.844007</td>\n",
       "    </tr>\n",
       "    <tr>\n",
       "      <th>15</th>\n",
       "      <td>1</td>\n",
       "      <td>random_forest_v1</td>\n",
       "      <td>precision</td>\n",
       "      <td>0.844848</td>\n",
       "    </tr>\n",
       "    <tr>\n",
       "      <th>16</th>\n",
       "      <td>2</td>\n",
       "      <td>svc_v1</td>\n",
       "      <td>precision</td>\n",
       "      <td>0.699846</td>\n",
       "    </tr>\n",
       "    <tr>\n",
       "      <th>17</th>\n",
       "      <td>3</td>\n",
       "      <td>linear_svc_v2</td>\n",
       "      <td>precision</td>\n",
       "      <td>0.854815</td>\n",
       "    </tr>\n",
       "    <tr>\n",
       "      <th>18</th>\n",
       "      <td>4</td>\n",
       "      <td>knn_v2</td>\n",
       "      <td>precision</td>\n",
       "      <td>0.812090</td>\n",
       "    </tr>\n",
       "    <tr>\n",
       "      <th>19</th>\n",
       "      <td>5</td>\n",
       "      <td>knn_v1</td>\n",
       "      <td>precision</td>\n",
       "      <td>0.801824</td>\n",
       "    </tr>\n",
       "    <tr>\n",
       "      <th>20</th>\n",
       "      <td>6</td>\n",
       "      <td>linear_svc_v1</td>\n",
       "      <td>precision</td>\n",
       "      <td>0.854352</td>\n",
       "    </tr>\n",
       "    <tr>\n",
       "      <th>21</th>\n",
       "      <td>7</td>\n",
       "      <td>knn_v3</td>\n",
       "      <td>precision</td>\n",
       "      <td>0.803310</td>\n",
       "    </tr>\n",
       "    <tr>\n",
       "      <th>22</th>\n",
       "      <td>8</td>\n",
       "      <td>svc_v2</td>\n",
       "      <td>precision</td>\n",
       "      <td>0.748429</td>\n",
       "    </tr>\n",
       "    <tr>\n",
       "      <th>23</th>\n",
       "      <td>9</td>\n",
       "      <td>soft_voting_classifier_v0</td>\n",
       "      <td>precision</td>\n",
       "      <td>0.833143</td>\n",
       "    </tr>\n",
       "    <tr>\n",
       "      <th>24</th>\n",
       "      <td>10</td>\n",
       "      <td>logistic_regression_v1</td>\n",
       "      <td>precision</td>\n",
       "      <td>0.854815</td>\n",
       "    </tr>\n",
       "    <tr>\n",
       "      <th>25</th>\n",
       "      <td>11</td>\n",
       "      <td>logistic_regression_v2</td>\n",
       "      <td>precision</td>\n",
       "      <td>0.856505</td>\n",
       "    </tr>\n",
       "    <tr>\n",
       "      <th>26</th>\n",
       "      <td>12</td>\n",
       "      <td>svc_v3</td>\n",
       "      <td>precision</td>\n",
       "      <td>0.587726</td>\n",
       "    </tr>\n",
       "    <tr>\n",
       "      <th>27</th>\n",
       "      <td>13</td>\n",
       "      <td>hard_voting_classifier_v0</td>\n",
       "      <td>precision</td>\n",
       "      <td>0.848574</td>\n",
       "    </tr>\n",
       "    <tr>\n",
       "      <th>28</th>\n",
       "      <td>0</td>\n",
       "      <td>random_forest_v2</td>\n",
       "      <td>f1</td>\n",
       "      <td>0.861211</td>\n",
       "    </tr>\n",
       "    <tr>\n",
       "      <th>29</th>\n",
       "      <td>1</td>\n",
       "      <td>random_forest_v1</td>\n",
       "      <td>f1</td>\n",
       "      <td>0.863555</td>\n",
       "    </tr>\n",
       "    <tr>\n",
       "      <th>30</th>\n",
       "      <td>2</td>\n",
       "      <td>svc_v1</td>\n",
       "      <td>f1</td>\n",
       "      <td>0.813181</td>\n",
       "    </tr>\n",
       "    <tr>\n",
       "      <th>31</th>\n",
       "      <td>3</td>\n",
       "      <td>linear_svc_v2</td>\n",
       "      <td>f1</td>\n",
       "      <td>0.868583</td>\n",
       "    </tr>\n",
       "    <tr>\n",
       "      <th>32</th>\n",
       "      <td>4</td>\n",
       "      <td>knn_v2</td>\n",
       "      <td>f1</td>\n",
       "      <td>0.840738</td>\n",
       "    </tr>\n",
       "    <tr>\n",
       "      <th>33</th>\n",
       "      <td>5</td>\n",
       "      <td>knn_v1</td>\n",
       "      <td>f1</td>\n",
       "      <td>0.842579</td>\n",
       "    </tr>\n",
       "    <tr>\n",
       "      <th>34</th>\n",
       "      <td>6</td>\n",
       "      <td>linear_svc_v1</td>\n",
       "      <td>f1</td>\n",
       "      <td>0.868492</td>\n",
       "    </tr>\n",
       "    <tr>\n",
       "      <th>35</th>\n",
       "      <td>7</td>\n",
       "      <td>knn_v3</td>\n",
       "      <td>f1</td>\n",
       "      <td>0.844915</td>\n",
       "    </tr>\n",
       "    <tr>\n",
       "      <th>36</th>\n",
       "      <td>8</td>\n",
       "      <td>svc_v2</td>\n",
       "      <td>f1</td>\n",
       "      <td>0.836349</td>\n",
       "    </tr>\n",
       "    <tr>\n",
       "      <th>37</th>\n",
       "      <td>9</td>\n",
       "      <td>soft_voting_classifier_v0</td>\n",
       "      <td>f1</td>\n",
       "      <td>0.861702</td>\n",
       "    </tr>\n",
       "    <tr>\n",
       "      <th>38</th>\n",
       "      <td>10</td>\n",
       "      <td>logistic_regression_v1</td>\n",
       "      <td>f1</td>\n",
       "      <td>0.868583</td>\n",
       "    </tr>\n",
       "    <tr>\n",
       "      <th>39</th>\n",
       "      <td>11</td>\n",
       "      <td>logistic_regression_v2</td>\n",
       "      <td>f1</td>\n",
       "      <td>0.868266</td>\n",
       "    </tr>\n",
       "    <tr>\n",
       "      <th>40</th>\n",
       "      <td>12</td>\n",
       "      <td>svc_v3</td>\n",
       "      <td>f1</td>\n",
       "      <td>0.739328</td>\n",
       "    </tr>\n",
       "    <tr>\n",
       "      <th>41</th>\n",
       "      <td>13</td>\n",
       "      <td>hard_voting_classifier_v0</td>\n",
       "      <td>f1</td>\n",
       "      <td>0.865497</td>\n",
       "    </tr>\n",
       "  </tbody>\n",
       "</table>\n",
       "</div>"
      ],
      "text/plain": [
       "    id                      model     metric     score\n",
       "0    0           random_forest_v2     recall  0.879131\n",
       "1    1           random_forest_v1     recall  0.883109\n",
       "2    2                     svc_v1     recall  0.970318\n",
       "3    3              linear_svc_v2     recall  0.882803\n",
       "4    4                     knn_v2     recall  0.871481\n",
       "5    5                     knn_v1     recall  0.887699\n",
       "6    6              linear_svc_v1     recall  0.883109\n",
       "7    7                     knn_v3     recall  0.891065\n",
       "8    8                     svc_v2     recall  0.947674\n",
       "9    9  soft_voting_classifier_v0     recall  0.892289\n",
       "10  10     logistic_regression_v1     recall  0.882803\n",
       "11  11     logistic_regression_v2     recall  0.880355\n",
       "12  12                     svc_v3     recall  0.996328\n",
       "13  13  hard_voting_classifier_v0     recall  0.883109\n",
       "14   0           random_forest_v2  precision  0.844007\n",
       "15   1           random_forest_v1  precision  0.844848\n",
       "16   2                     svc_v1  precision  0.699846\n",
       "17   3              linear_svc_v2  precision  0.854815\n",
       "18   4                     knn_v2  precision  0.812090\n",
       "19   5                     knn_v1  precision  0.801824\n",
       "20   6              linear_svc_v1  precision  0.854352\n",
       "21   7                     knn_v3  precision  0.803310\n",
       "22   8                     svc_v2  precision  0.748429\n",
       "23   9  soft_voting_classifier_v0  precision  0.833143\n",
       "24  10     logistic_regression_v1  precision  0.854815\n",
       "25  11     logistic_regression_v2  precision  0.856505\n",
       "26  12                     svc_v3  precision  0.587726\n",
       "27  13  hard_voting_classifier_v0  precision  0.848574\n",
       "28   0           random_forest_v2         f1  0.861211\n",
       "29   1           random_forest_v1         f1  0.863555\n",
       "30   2                     svc_v1         f1  0.813181\n",
       "31   3              linear_svc_v2         f1  0.868583\n",
       "32   4                     knn_v2         f1  0.840738\n",
       "33   5                     knn_v1         f1  0.842579\n",
       "34   6              linear_svc_v1         f1  0.868492\n",
       "35   7                     knn_v3         f1  0.844915\n",
       "36   8                     svc_v2         f1  0.836349\n",
       "37   9  soft_voting_classifier_v0         f1  0.861702\n",
       "38  10     logistic_regression_v1         f1  0.868583\n",
       "39  11     logistic_regression_v2         f1  0.868266\n",
       "40  12                     svc_v3         f1  0.739328\n",
       "41  13  hard_voting_classifier_v0         f1  0.865497"
      ]
     },
     "execution_count": 18,
     "metadata": {},
     "output_type": "execute_result"
    }
   ],
   "source": [
    "melted_test_data_metrics = pd.melt(test_data_metrics,id_vars=[\"id\",\"model\"],value_vars=[\"recall\",\"precision\",\"f1\"], var_name=\"metric\", value_name=\"score\")\n",
    "melted_test_data_metrics"
   ]
  },
  {
   "cell_type": "code",
   "execution_count": 20,
   "id": "1419149f",
   "metadata": {},
   "outputs": [
    {
     "data": {
      "application/vnd.plotly.v1+json": {
       "config": {
        "plotlyServerURL": "https://plot.ly"
       },
       "data": [
        {
         "alignmentgroup": "True",
         "hovertemplate": "metric=recall<br>model=%{x}<br>score=%{y}<extra></extra>",
         "legendgroup": "recall",
         "marker": {
          "color": "#636efa",
          "pattern": {
           "shape": ""
          }
         },
         "name": "recall",
         "offsetgroup": "recall",
         "orientation": "v",
         "showlegend": true,
         "textposition": "auto",
         "type": "bar",
         "x": [
          "random_forest_v2",
          "random_forest_v1",
          "svc_v1",
          "linear_svc_v2",
          "knn_v2",
          "knn_v1",
          "linear_svc_v1",
          "knn_v3",
          "svc_v2",
          "soft_voting_classifier_v0",
          "logistic_regression_v1",
          "logistic_regression_v2",
          "svc_v3",
          "hard_voting_classifier_v0"
         ],
         "xaxis": "x",
         "y": {
          "bdata": "I7/+Q9ch7D8D1mWrbULsP7Z8EtXYDO8/fIU28us/7D/r4V8uLOPrP/KNK4UHaOw/A9Zlq21C7D/DAzR6moPsP5U1ZU1ZU+4/4EXxXqGN7D98hTby6z/sP0EBvCjeK+w/qDnIUevh7z8D1mWrbULsPw==",
          "dtype": "f8"
         },
         "yaxis": "y"
        },
        {
         "alignmentgroup": "True",
         "hovertemplate": "metric=precision<br>model=%{x}<br>score=%{y}<extra></extra>",
         "legendgroup": "precision",
         "marker": {
          "color": "#EF553B",
          "pattern": {
           "shape": ""
          }
         },
         "name": "precision",
         "offsetgroup": "precision",
         "orientation": "v",
         "showlegend": true,
         "textposition": "auto",
         "type": "bar",
         "x": [
          "random_forest_v2",
          "random_forest_v1",
          "svc_v1",
          "linear_svc_v2",
          "knn_v2",
          "knn_v1",
          "linear_svc_v1",
          "knn_v3",
          "svc_v2",
          "soft_voting_classifier_v0",
          "logistic_regression_v1",
          "logistic_regression_v2",
          "svc_v3",
          "hard_voting_classifier_v0"
         ],
         "xaxis": "x",
         "y": {
          "bdata": "karzEhsC6z++SY8z/gjrP0M+hmgiZeY/d4I4maRa6z82VpFjpPzpP7orG0CLqOk/nseTWdlW6z+8VXLlt7TpP4TBVMch8+c/5GKKNRup6j93gjiZpFrrP04hVf18aOs/tf7u+6XO4j/6+c+NhCfrPw==",
          "dtype": "f8"
         },
         "yaxis": "y"
        },
        {
         "alignmentgroup": "True",
         "hovertemplate": "metric=f1<br>model=%{x}<br>score=%{y}<extra></extra>",
         "legendgroup": "f1",
         "marker": {
          "color": "#00cc96",
          "pattern": {
           "shape": ""
          }
         },
         "name": "f1",
         "offsetgroup": "f1",
         "orientation": "v",
         "showlegend": true,
         "textposition": "auto",
         "type": "bar",
         "x": [
          "random_forest_v2",
          "random_forest_v1",
          "svc_v1",
          "linear_svc_v2",
          "knn_v2",
          "knn_v1",
          "linear_svc_v1",
          "knn_v3",
          "svc_v2",
          "soft_voting_classifier_v0",
          "logistic_regression_v1",
          "logistic_regression_v2",
          "svc_v3",
          "hard_voting_classifier_v0"
         ],
         "xaxis": "x",
         "y": {
          "bdata": "AT67bwqP6z+9dEqWPaLrP24tKIiUBeo/t7xlkG/L6z+zc8ZkU+fqP9tsmIpo9uo/DvA8a7DK6z+8gxl1iwnrP0tAEshew+o/riAmVxCT6z+3vGWQb8vrPzm38ynWyOs/HC0285Ko5z8iu4nsJrLrPw==",
          "dtype": "f8"
         },
         "yaxis": "y"
        }
       ],
       "layout": {
        "barmode": "group",
        "legend": {
         "title": {
          "text": "metric"
         },
         "tracegroupgap": 0
        },
        "margin": {
         "t": 60
        },
        "template": {
         "data": {
          "bar": [
           {
            "error_x": {
             "color": "#2a3f5f"
            },
            "error_y": {
             "color": "#2a3f5f"
            },
            "marker": {
             "line": {
              "color": "#E5ECF6",
              "width": 0.5
             },
             "pattern": {
              "fillmode": "overlay",
              "size": 10,
              "solidity": 0.2
             }
            },
            "type": "bar"
           }
          ],
          "barpolar": [
           {
            "marker": {
             "line": {
              "color": "#E5ECF6",
              "width": 0.5
             },
             "pattern": {
              "fillmode": "overlay",
              "size": 10,
              "solidity": 0.2
             }
            },
            "type": "barpolar"
           }
          ],
          "carpet": [
           {
            "aaxis": {
             "endlinecolor": "#2a3f5f",
             "gridcolor": "white",
             "linecolor": "white",
             "minorgridcolor": "white",
             "startlinecolor": "#2a3f5f"
            },
            "baxis": {
             "endlinecolor": "#2a3f5f",
             "gridcolor": "white",
             "linecolor": "white",
             "minorgridcolor": "white",
             "startlinecolor": "#2a3f5f"
            },
            "type": "carpet"
           }
          ],
          "choropleth": [
           {
            "colorbar": {
             "outlinewidth": 0,
             "ticks": ""
            },
            "type": "choropleth"
           }
          ],
          "contour": [
           {
            "colorbar": {
             "outlinewidth": 0,
             "ticks": ""
            },
            "colorscale": [
             [
              0,
              "#0d0887"
             ],
             [
              0.1111111111111111,
              "#46039f"
             ],
             [
              0.2222222222222222,
              "#7201a8"
             ],
             [
              0.3333333333333333,
              "#9c179e"
             ],
             [
              0.4444444444444444,
              "#bd3786"
             ],
             [
              0.5555555555555556,
              "#d8576b"
             ],
             [
              0.6666666666666666,
              "#ed7953"
             ],
             [
              0.7777777777777778,
              "#fb9f3a"
             ],
             [
              0.8888888888888888,
              "#fdca26"
             ],
             [
              1,
              "#f0f921"
             ]
            ],
            "type": "contour"
           }
          ],
          "contourcarpet": [
           {
            "colorbar": {
             "outlinewidth": 0,
             "ticks": ""
            },
            "type": "contourcarpet"
           }
          ],
          "heatmap": [
           {
            "colorbar": {
             "outlinewidth": 0,
             "ticks": ""
            },
            "colorscale": [
             [
              0,
              "#0d0887"
             ],
             [
              0.1111111111111111,
              "#46039f"
             ],
             [
              0.2222222222222222,
              "#7201a8"
             ],
             [
              0.3333333333333333,
              "#9c179e"
             ],
             [
              0.4444444444444444,
              "#bd3786"
             ],
             [
              0.5555555555555556,
              "#d8576b"
             ],
             [
              0.6666666666666666,
              "#ed7953"
             ],
             [
              0.7777777777777778,
              "#fb9f3a"
             ],
             [
              0.8888888888888888,
              "#fdca26"
             ],
             [
              1,
              "#f0f921"
             ]
            ],
            "type": "heatmap"
           }
          ],
          "histogram": [
           {
            "marker": {
             "pattern": {
              "fillmode": "overlay",
              "size": 10,
              "solidity": 0.2
             }
            },
            "type": "histogram"
           }
          ],
          "histogram2d": [
           {
            "colorbar": {
             "outlinewidth": 0,
             "ticks": ""
            },
            "colorscale": [
             [
              0,
              "#0d0887"
             ],
             [
              0.1111111111111111,
              "#46039f"
             ],
             [
              0.2222222222222222,
              "#7201a8"
             ],
             [
              0.3333333333333333,
              "#9c179e"
             ],
             [
              0.4444444444444444,
              "#bd3786"
             ],
             [
              0.5555555555555556,
              "#d8576b"
             ],
             [
              0.6666666666666666,
              "#ed7953"
             ],
             [
              0.7777777777777778,
              "#fb9f3a"
             ],
             [
              0.8888888888888888,
              "#fdca26"
             ],
             [
              1,
              "#f0f921"
             ]
            ],
            "type": "histogram2d"
           }
          ],
          "histogram2dcontour": [
           {
            "colorbar": {
             "outlinewidth": 0,
             "ticks": ""
            },
            "colorscale": [
             [
              0,
              "#0d0887"
             ],
             [
              0.1111111111111111,
              "#46039f"
             ],
             [
              0.2222222222222222,
              "#7201a8"
             ],
             [
              0.3333333333333333,
              "#9c179e"
             ],
             [
              0.4444444444444444,
              "#bd3786"
             ],
             [
              0.5555555555555556,
              "#d8576b"
             ],
             [
              0.6666666666666666,
              "#ed7953"
             ],
             [
              0.7777777777777778,
              "#fb9f3a"
             ],
             [
              0.8888888888888888,
              "#fdca26"
             ],
             [
              1,
              "#f0f921"
             ]
            ],
            "type": "histogram2dcontour"
           }
          ],
          "mesh3d": [
           {
            "colorbar": {
             "outlinewidth": 0,
             "ticks": ""
            },
            "type": "mesh3d"
           }
          ],
          "parcoords": [
           {
            "line": {
             "colorbar": {
              "outlinewidth": 0,
              "ticks": ""
             }
            },
            "type": "parcoords"
           }
          ],
          "pie": [
           {
            "automargin": true,
            "type": "pie"
           }
          ],
          "scatter": [
           {
            "fillpattern": {
             "fillmode": "overlay",
             "size": 10,
             "solidity": 0.2
            },
            "type": "scatter"
           }
          ],
          "scatter3d": [
           {
            "line": {
             "colorbar": {
              "outlinewidth": 0,
              "ticks": ""
             }
            },
            "marker": {
             "colorbar": {
              "outlinewidth": 0,
              "ticks": ""
             }
            },
            "type": "scatter3d"
           }
          ],
          "scattercarpet": [
           {
            "marker": {
             "colorbar": {
              "outlinewidth": 0,
              "ticks": ""
             }
            },
            "type": "scattercarpet"
           }
          ],
          "scattergeo": [
           {
            "marker": {
             "colorbar": {
              "outlinewidth": 0,
              "ticks": ""
             }
            },
            "type": "scattergeo"
           }
          ],
          "scattergl": [
           {
            "marker": {
             "colorbar": {
              "outlinewidth": 0,
              "ticks": ""
             }
            },
            "type": "scattergl"
           }
          ],
          "scattermap": [
           {
            "marker": {
             "colorbar": {
              "outlinewidth": 0,
              "ticks": ""
             }
            },
            "type": "scattermap"
           }
          ],
          "scattermapbox": [
           {
            "marker": {
             "colorbar": {
              "outlinewidth": 0,
              "ticks": ""
             }
            },
            "type": "scattermapbox"
           }
          ],
          "scatterpolar": [
           {
            "marker": {
             "colorbar": {
              "outlinewidth": 0,
              "ticks": ""
             }
            },
            "type": "scatterpolar"
           }
          ],
          "scatterpolargl": [
           {
            "marker": {
             "colorbar": {
              "outlinewidth": 0,
              "ticks": ""
             }
            },
            "type": "scatterpolargl"
           }
          ],
          "scatterternary": [
           {
            "marker": {
             "colorbar": {
              "outlinewidth": 0,
              "ticks": ""
             }
            },
            "type": "scatterternary"
           }
          ],
          "surface": [
           {
            "colorbar": {
             "outlinewidth": 0,
             "ticks": ""
            },
            "colorscale": [
             [
              0,
              "#0d0887"
             ],
             [
              0.1111111111111111,
              "#46039f"
             ],
             [
              0.2222222222222222,
              "#7201a8"
             ],
             [
              0.3333333333333333,
              "#9c179e"
             ],
             [
              0.4444444444444444,
              "#bd3786"
             ],
             [
              0.5555555555555556,
              "#d8576b"
             ],
             [
              0.6666666666666666,
              "#ed7953"
             ],
             [
              0.7777777777777778,
              "#fb9f3a"
             ],
             [
              0.8888888888888888,
              "#fdca26"
             ],
             [
              1,
              "#f0f921"
             ]
            ],
            "type": "surface"
           }
          ],
          "table": [
           {
            "cells": {
             "fill": {
              "color": "#EBF0F8"
             },
             "line": {
              "color": "white"
             }
            },
            "header": {
             "fill": {
              "color": "#C8D4E3"
             },
             "line": {
              "color": "white"
             }
            },
            "type": "table"
           }
          ]
         },
         "layout": {
          "annotationdefaults": {
           "arrowcolor": "#2a3f5f",
           "arrowhead": 0,
           "arrowwidth": 1
          },
          "autotypenumbers": "strict",
          "coloraxis": {
           "colorbar": {
            "outlinewidth": 0,
            "ticks": ""
           }
          },
          "colorscale": {
           "diverging": [
            [
             0,
             "#8e0152"
            ],
            [
             0.1,
             "#c51b7d"
            ],
            [
             0.2,
             "#de77ae"
            ],
            [
             0.3,
             "#f1b6da"
            ],
            [
             0.4,
             "#fde0ef"
            ],
            [
             0.5,
             "#f7f7f7"
            ],
            [
             0.6,
             "#e6f5d0"
            ],
            [
             0.7,
             "#b8e186"
            ],
            [
             0.8,
             "#7fbc41"
            ],
            [
             0.9,
             "#4d9221"
            ],
            [
             1,
             "#276419"
            ]
           ],
           "sequential": [
            [
             0,
             "#0d0887"
            ],
            [
             0.1111111111111111,
             "#46039f"
            ],
            [
             0.2222222222222222,
             "#7201a8"
            ],
            [
             0.3333333333333333,
             "#9c179e"
            ],
            [
             0.4444444444444444,
             "#bd3786"
            ],
            [
             0.5555555555555556,
             "#d8576b"
            ],
            [
             0.6666666666666666,
             "#ed7953"
            ],
            [
             0.7777777777777778,
             "#fb9f3a"
            ],
            [
             0.8888888888888888,
             "#fdca26"
            ],
            [
             1,
             "#f0f921"
            ]
           ],
           "sequentialminus": [
            [
             0,
             "#0d0887"
            ],
            [
             0.1111111111111111,
             "#46039f"
            ],
            [
             0.2222222222222222,
             "#7201a8"
            ],
            [
             0.3333333333333333,
             "#9c179e"
            ],
            [
             0.4444444444444444,
             "#bd3786"
            ],
            [
             0.5555555555555556,
             "#d8576b"
            ],
            [
             0.6666666666666666,
             "#ed7953"
            ],
            [
             0.7777777777777778,
             "#fb9f3a"
            ],
            [
             0.8888888888888888,
             "#fdca26"
            ],
            [
             1,
             "#f0f921"
            ]
           ]
          },
          "colorway": [
           "#636efa",
           "#EF553B",
           "#00cc96",
           "#ab63fa",
           "#FFA15A",
           "#19d3f3",
           "#FF6692",
           "#B6E880",
           "#FF97FF",
           "#FECB52"
          ],
          "font": {
           "color": "#2a3f5f"
          },
          "geo": {
           "bgcolor": "white",
           "lakecolor": "white",
           "landcolor": "#E5ECF6",
           "showlakes": true,
           "showland": true,
           "subunitcolor": "white"
          },
          "hoverlabel": {
           "align": "left"
          },
          "hovermode": "closest",
          "mapbox": {
           "style": "light"
          },
          "paper_bgcolor": "white",
          "plot_bgcolor": "#E5ECF6",
          "polar": {
           "angularaxis": {
            "gridcolor": "white",
            "linecolor": "white",
            "ticks": ""
           },
           "bgcolor": "#E5ECF6",
           "radialaxis": {
            "gridcolor": "white",
            "linecolor": "white",
            "ticks": ""
           }
          },
          "scene": {
           "xaxis": {
            "backgroundcolor": "#E5ECF6",
            "gridcolor": "white",
            "gridwidth": 2,
            "linecolor": "white",
            "showbackground": true,
            "ticks": "",
            "zerolinecolor": "white"
           },
           "yaxis": {
            "backgroundcolor": "#E5ECF6",
            "gridcolor": "white",
            "gridwidth": 2,
            "linecolor": "white",
            "showbackground": true,
            "ticks": "",
            "zerolinecolor": "white"
           },
           "zaxis": {
            "backgroundcolor": "#E5ECF6",
            "gridcolor": "white",
            "gridwidth": 2,
            "linecolor": "white",
            "showbackground": true,
            "ticks": "",
            "zerolinecolor": "white"
           }
          },
          "shapedefaults": {
           "line": {
            "color": "#2a3f5f"
           }
          },
          "ternary": {
           "aaxis": {
            "gridcolor": "white",
            "linecolor": "white",
            "ticks": ""
           },
           "baxis": {
            "gridcolor": "white",
            "linecolor": "white",
            "ticks": ""
           },
           "bgcolor": "#E5ECF6",
           "caxis": {
            "gridcolor": "white",
            "linecolor": "white",
            "ticks": ""
           }
          },
          "title": {
           "x": 0.05
          },
          "xaxis": {
           "automargin": true,
           "gridcolor": "white",
           "linecolor": "white",
           "ticks": "",
           "title": {
            "standoff": 15
           },
           "zerolinecolor": "white",
           "zerolinewidth": 2
          },
          "yaxis": {
           "automargin": true,
           "gridcolor": "white",
           "linecolor": "white",
           "ticks": "",
           "title": {
            "standoff": 15
           },
           "zerolinecolor": "white",
           "zerolinewidth": 2
          }
         }
        },
        "xaxis": {
         "anchor": "y",
         "domain": [
          0,
          1
         ],
         "title": {
          "text": "model"
         }
        },
        "yaxis": {
         "anchor": "x",
         "domain": [
          0,
          1
         ],
         "title": {
          "text": "score"
         }
        }
       }
      }
     },
     "metadata": {},
     "output_type": "display_data"
    }
   ],
   "source": [
    "import plotly.express as px\n",
    " \n",
    "fig = px.bar(melted_test_data_metrics, x=\"model\", y=\"score\",\n",
    "             color=\"metric\", hover_data=['score'],\n",
    "             barmode = 'group')\n",
    " \n",
    "fig.show()"
   ]
  },
  {
   "cell_type": "code",
   "execution_count": 22,
   "id": "4efa22b2",
   "metadata": {},
   "outputs": [
    {
     "data": {
      "application/vnd.microsoft.datawrangler.viewer.v0+json": {
       "columns": [
        {
         "name": "index",
         "rawType": "int64",
         "type": "integer"
        },
        {
         "name": "model",
         "rawType": "object",
         "type": "string"
        },
        {
         "name": "recall",
         "rawType": "float64",
         "type": "float"
        },
        {
         "name": "precision",
         "rawType": "float64",
         "type": "float"
        },
        {
         "name": "f1",
         "rawType": "float64",
         "type": "float"
        },
        {
         "name": "id",
         "rawType": "int64",
         "type": "integer"
        }
       ],
       "ref": "095acc0a-7455-4903-a3bf-a667c864fa37",
       "rows": [
        [
         "12",
         "svc_v3",
         "0.996328029375765",
         "0.5877256317689531",
         "0.7393278837420527",
         "12"
        ],
        [
         "2",
         "svc_v1",
         "0.9703182374541004",
         "0.6998455087177223",
         "0.8131811770739839",
         "2"
        ],
        [
         "8",
         "svc_v2",
         "0.9476744186046512",
         "0.7484291928467859",
         "0.8363489062921955",
         "8"
        ],
        [
         "9",
         "soft_voting_classifier_v0",
         "0.8922888616891065",
         "0.8331428571428572",
         "0.8617021276595744",
         "9"
        ],
        [
         "7",
         "knn_v3",
         "0.8910648714810282",
         "0.8033103448275862",
         "0.8449151312926158",
         "7"
        ],
        [
         "5",
         "knn_v1",
         "0.8876988984088128",
         "0.8018242122719734",
         "0.8425791460935231",
         "5"
        ],
        [
         "6",
         "linear_svc_v1",
         "0.883108935128519",
         "0.8543516873889876",
         "0.8684923262112549",
         "6"
        ],
        [
         "13",
         "hard_voting_classifier_v0",
         "0.883108935128519",
         "0.8485739488385768",
         "0.8654970760233918",
         "13"
        ],
        [
         "1",
         "random_forest_v1",
         "0.883108935128519",
         "0.844847775175644",
         "0.8635547576301615",
         "1"
        ],
        [
         "3",
         "linear_svc_v2",
         "0.8828029375764994",
         "0.8548148148148148",
         "0.8685834713231974",
         "3"
        ],
        [
         "10",
         "logistic_regression_v1",
         "0.8828029375764994",
         "0.8548148148148148",
         "0.8685834713231974",
         "10"
        ],
        [
         "11",
         "logistic_regression_v2",
         "0.8803549571603427",
         "0.8565049121762429",
         "0.8682661837935718",
         "11"
        ],
        [
         "0",
         "random_forest_v2",
         "0.8791309669522643",
         "0.8440070505287897",
         "0.8612110311750599",
         "0"
        ],
        [
         "4",
         "knn_v2",
         "0.8714810281517748",
         "0.8120901055032792",
         "0.8407380073800738",
         "4"
        ]
       ],
       "shape": {
        "columns": 5,
        "rows": 14
       }
      },
      "text/html": [
       "<div>\n",
       "<style scoped>\n",
       "    .dataframe tbody tr th:only-of-type {\n",
       "        vertical-align: middle;\n",
       "    }\n",
       "\n",
       "    .dataframe tbody tr th {\n",
       "        vertical-align: top;\n",
       "    }\n",
       "\n",
       "    .dataframe thead th {\n",
       "        text-align: right;\n",
       "    }\n",
       "</style>\n",
       "<table border=\"1\" class=\"dataframe\">\n",
       "  <thead>\n",
       "    <tr style=\"text-align: right;\">\n",
       "      <th></th>\n",
       "      <th>model</th>\n",
       "      <th>recall</th>\n",
       "      <th>precision</th>\n",
       "      <th>f1</th>\n",
       "      <th>id</th>\n",
       "    </tr>\n",
       "  </thead>\n",
       "  <tbody>\n",
       "    <tr>\n",
       "      <th>12</th>\n",
       "      <td>svc_v3</td>\n",
       "      <td>0.996328</td>\n",
       "      <td>0.587726</td>\n",
       "      <td>0.739328</td>\n",
       "      <td>12</td>\n",
       "    </tr>\n",
       "    <tr>\n",
       "      <th>2</th>\n",
       "      <td>svc_v1</td>\n",
       "      <td>0.970318</td>\n",
       "      <td>0.699846</td>\n",
       "      <td>0.813181</td>\n",
       "      <td>2</td>\n",
       "    </tr>\n",
       "    <tr>\n",
       "      <th>8</th>\n",
       "      <td>svc_v2</td>\n",
       "      <td>0.947674</td>\n",
       "      <td>0.748429</td>\n",
       "      <td>0.836349</td>\n",
       "      <td>8</td>\n",
       "    </tr>\n",
       "    <tr>\n",
       "      <th>9</th>\n",
       "      <td>soft_voting_classifier_v0</td>\n",
       "      <td>0.892289</td>\n",
       "      <td>0.833143</td>\n",
       "      <td>0.861702</td>\n",
       "      <td>9</td>\n",
       "    </tr>\n",
       "    <tr>\n",
       "      <th>7</th>\n",
       "      <td>knn_v3</td>\n",
       "      <td>0.891065</td>\n",
       "      <td>0.803310</td>\n",
       "      <td>0.844915</td>\n",
       "      <td>7</td>\n",
       "    </tr>\n",
       "    <tr>\n",
       "      <th>5</th>\n",
       "      <td>knn_v1</td>\n",
       "      <td>0.887699</td>\n",
       "      <td>0.801824</td>\n",
       "      <td>0.842579</td>\n",
       "      <td>5</td>\n",
       "    </tr>\n",
       "    <tr>\n",
       "      <th>6</th>\n",
       "      <td>linear_svc_v1</td>\n",
       "      <td>0.883109</td>\n",
       "      <td>0.854352</td>\n",
       "      <td>0.868492</td>\n",
       "      <td>6</td>\n",
       "    </tr>\n",
       "    <tr>\n",
       "      <th>13</th>\n",
       "      <td>hard_voting_classifier_v0</td>\n",
       "      <td>0.883109</td>\n",
       "      <td>0.848574</td>\n",
       "      <td>0.865497</td>\n",
       "      <td>13</td>\n",
       "    </tr>\n",
       "    <tr>\n",
       "      <th>1</th>\n",
       "      <td>random_forest_v1</td>\n",
       "      <td>0.883109</td>\n",
       "      <td>0.844848</td>\n",
       "      <td>0.863555</td>\n",
       "      <td>1</td>\n",
       "    </tr>\n",
       "    <tr>\n",
       "      <th>3</th>\n",
       "      <td>linear_svc_v2</td>\n",
       "      <td>0.882803</td>\n",
       "      <td>0.854815</td>\n",
       "      <td>0.868583</td>\n",
       "      <td>3</td>\n",
       "    </tr>\n",
       "    <tr>\n",
       "      <th>10</th>\n",
       "      <td>logistic_regression_v1</td>\n",
       "      <td>0.882803</td>\n",
       "      <td>0.854815</td>\n",
       "      <td>0.868583</td>\n",
       "      <td>10</td>\n",
       "    </tr>\n",
       "    <tr>\n",
       "      <th>11</th>\n",
       "      <td>logistic_regression_v2</td>\n",
       "      <td>0.880355</td>\n",
       "      <td>0.856505</td>\n",
       "      <td>0.868266</td>\n",
       "      <td>11</td>\n",
       "    </tr>\n",
       "    <tr>\n",
       "      <th>0</th>\n",
       "      <td>random_forest_v2</td>\n",
       "      <td>0.879131</td>\n",
       "      <td>0.844007</td>\n",
       "      <td>0.861211</td>\n",
       "      <td>0</td>\n",
       "    </tr>\n",
       "    <tr>\n",
       "      <th>4</th>\n",
       "      <td>knn_v2</td>\n",
       "      <td>0.871481</td>\n",
       "      <td>0.812090</td>\n",
       "      <td>0.840738</td>\n",
       "      <td>4</td>\n",
       "    </tr>\n",
       "  </tbody>\n",
       "</table>\n",
       "</div>"
      ],
      "text/plain": [
       "                        model    recall  precision        f1  id\n",
       "12                     svc_v3  0.996328   0.587726  0.739328  12\n",
       "2                      svc_v1  0.970318   0.699846  0.813181   2\n",
       "8                      svc_v2  0.947674   0.748429  0.836349   8\n",
       "9   soft_voting_classifier_v0  0.892289   0.833143  0.861702   9\n",
       "7                      knn_v3  0.891065   0.803310  0.844915   7\n",
       "5                      knn_v1  0.887699   0.801824  0.842579   5\n",
       "6               linear_svc_v1  0.883109   0.854352  0.868492   6\n",
       "13  hard_voting_classifier_v0  0.883109   0.848574  0.865497  13\n",
       "1            random_forest_v1  0.883109   0.844848  0.863555   1\n",
       "3               linear_svc_v2  0.882803   0.854815  0.868583   3\n",
       "10     logistic_regression_v1  0.882803   0.854815  0.868583  10\n",
       "11     logistic_regression_v2  0.880355   0.856505  0.868266  11\n",
       "0            random_forest_v2  0.879131   0.844007  0.861211   0\n",
       "4                      knn_v2  0.871481   0.812090  0.840738   4"
      ]
     },
     "execution_count": 22,
     "metadata": {},
     "output_type": "execute_result"
    }
   ],
   "source": [
    "test_data_metrics.sort_values(by=[\"recall\",\"precision\"],ascending=False)"
   ]
  },
  {
   "cell_type": "code",
   "execution_count": 28,
   "id": "4a30360d",
   "metadata": {},
   "outputs": [
    {
     "data": {
      "application/vnd.microsoft.datawrangler.viewer.v0+json": {
       "columns": [
        {
         "name": "index",
         "rawType": "int64",
         "type": "integer"
        },
        {
         "name": "model",
         "rawType": "object",
         "type": "string"
        },
        {
         "name": "recall",
         "rawType": "float64",
         "type": "float"
        },
        {
         "name": "precision",
         "rawType": "float64",
         "type": "float"
        },
        {
         "name": "f1",
         "rawType": "float64",
         "type": "float"
        },
        {
         "name": "id",
         "rawType": "int64",
         "type": "integer"
        }
       ],
       "ref": "97f17c61-447b-4809-861d-ab53b60fb7a0",
       "rows": [
        [
         "6",
         "linear_svc_v1",
         "0.883108935128519",
         "0.8543516873889876",
         "0.8684923262112549",
         "6"
        ],
        [
         "3",
         "linear_svc_v2",
         "0.8828029375764994",
         "0.8548148148148148",
         "0.8685834713231974",
         "3"
        ],
        [
         "10",
         "logistic_regression_v1",
         "0.8828029375764994",
         "0.8548148148148148",
         "0.8685834713231974",
         "10"
        ],
        [
         "11",
         "logistic_regression_v2",
         "0.8803549571603427",
         "0.8565049121762429",
         "0.8682661837935718",
         "11"
        ]
       ],
       "shape": {
        "columns": 5,
        "rows": 4
       }
      },
      "text/html": [
       "<div>\n",
       "<style scoped>\n",
       "    .dataframe tbody tr th:only-of-type {\n",
       "        vertical-align: middle;\n",
       "    }\n",
       "\n",
       "    .dataframe tbody tr th {\n",
       "        vertical-align: top;\n",
       "    }\n",
       "\n",
       "    .dataframe thead th {\n",
       "        text-align: right;\n",
       "    }\n",
       "</style>\n",
       "<table border=\"1\" class=\"dataframe\">\n",
       "  <thead>\n",
       "    <tr style=\"text-align: right;\">\n",
       "      <th></th>\n",
       "      <th>model</th>\n",
       "      <th>recall</th>\n",
       "      <th>precision</th>\n",
       "      <th>f1</th>\n",
       "      <th>id</th>\n",
       "    </tr>\n",
       "  </thead>\n",
       "  <tbody>\n",
       "    <tr>\n",
       "      <th>6</th>\n",
       "      <td>linear_svc_v1</td>\n",
       "      <td>0.883109</td>\n",
       "      <td>0.854352</td>\n",
       "      <td>0.868492</td>\n",
       "      <td>6</td>\n",
       "    </tr>\n",
       "    <tr>\n",
       "      <th>3</th>\n",
       "      <td>linear_svc_v2</td>\n",
       "      <td>0.882803</td>\n",
       "      <td>0.854815</td>\n",
       "      <td>0.868583</td>\n",
       "      <td>3</td>\n",
       "    </tr>\n",
       "    <tr>\n",
       "      <th>10</th>\n",
       "      <td>logistic_regression_v1</td>\n",
       "      <td>0.882803</td>\n",
       "      <td>0.854815</td>\n",
       "      <td>0.868583</td>\n",
       "      <td>10</td>\n",
       "    </tr>\n",
       "    <tr>\n",
       "      <th>11</th>\n",
       "      <td>logistic_regression_v2</td>\n",
       "      <td>0.880355</td>\n",
       "      <td>0.856505</td>\n",
       "      <td>0.868266</td>\n",
       "      <td>11</td>\n",
       "    </tr>\n",
       "  </tbody>\n",
       "</table>\n",
       "</div>"
      ],
      "text/plain": [
       "                     model    recall  precision        f1  id\n",
       "6            linear_svc_v1  0.883109   0.854352  0.868492   6\n",
       "3            linear_svc_v2  0.882803   0.854815  0.868583   3\n",
       "10  logistic_regression_v1  0.882803   0.854815  0.868583  10\n",
       "11  logistic_regression_v2  0.880355   0.856505  0.868266  11"
      ]
     },
     "execution_count": 28,
     "metadata": {},
     "output_type": "execute_result"
    }
   ],
   "source": [
    "recall_threshold = 0.85\n",
    "precision_threshold = 0.85\n",
    "test_data_metrics.loc[(test_data_metrics[\"recall\"] > recall_threshold) & (test_data_metrics[\"precision\"] > precision_threshold)].sort_values(by=[\"recall\",\"precision\"],ascending=False)"
   ]
  },
  {
   "cell_type": "markdown",
   "id": "ebe8d650",
   "metadata": {},
   "source": [
    "Observations:\n",
    "* The above visualization and table gives us a clear idea on which model to choose based on hypothetical threshold of `0.85`."
   ]
  }
 ],
 "metadata": {
  "kernelspec": {
   "display_name": "venv",
   "language": "python",
   "name": "python3"
  },
  "language_info": {
   "codemirror_mode": {
    "name": "ipython",
    "version": 3
   },
   "file_extension": ".py",
   "mimetype": "text/x-python",
   "name": "python",
   "nbconvert_exporter": "python",
   "pygments_lexer": "ipython3",
   "version": "3.12.2"
  }
 },
 "nbformat": 4,
 "nbformat_minor": 5
}
