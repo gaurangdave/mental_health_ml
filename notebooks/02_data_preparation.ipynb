{
 "cells": [
  {
   "cell_type": "markdown",
   "id": "62eaa3ff",
   "metadata": {},
   "source": [
    "# Data Exploration"
   ]
  },
  {
   "cell_type": "markdown",
   "id": "bfc4c3a2",
   "metadata": {},
   "source": [
    "## Plan\n",
    "\n",
    "* We'll start with Preprocessing categorical values and applying some standard data cleaning steps.\n",
    "    * Remove spaces.\n",
    "    * Convert to lower case.\n",
    "    * Unicode normalization.\n",
    "    * Handling missing/unknown categories.\n",
    "* We'll create `scikit-learn` pipelines that we can reusing during training. \n",
    "* We'll do the same for numerical data as well. \n",
    "* At the end of this notebook we'll have list of data preparation steps needed to train the model."
   ]
  },
  {
   "cell_type": "markdown",
   "id": "67a01634",
   "metadata": {},
   "source": [
    "## Import Libraries"
   ]
  },
  {
   "cell_type": "code",
   "execution_count": 1,
   "id": "85b6192f",
   "metadata": {},
   "outputs": [],
   "source": [
    "import pandas as pd\n",
    "import numpy as np\n",
    "import matplotlib as plt\n",
    "\n",
    "from pathlib import Path"
   ]
  },
  {
   "cell_type": "markdown",
   "id": "a161244a",
   "metadata": {},
   "source": [
    "## Read Training Data"
   ]
  },
  {
   "cell_type": "code",
   "execution_count": 2,
   "id": "216152c1",
   "metadata": {},
   "outputs": [],
   "source": [
    "## root directory for all data files\n",
    "data_dir = Path(\"..\", \"data\")"
   ]
  },
  {
   "cell_type": "code",
   "execution_count": 3,
   "id": "0f2cafb8",
   "metadata": {},
   "outputs": [],
   "source": [
    "X_train = pd.read_csv(Path(data_dir,\"X_train.csv\"))\n",
    "y_train = pd.read_csv(Path(data_dir,\"y_train.csv\"))"
   ]
  },
  {
   "cell_type": "code",
   "execution_count": 4,
   "id": "deeeb842",
   "metadata": {},
   "outputs": [
    {
     "data": {
      "text/plain": [
       "((22320, 16), (22320, 1))"
      ]
     },
     "execution_count": 4,
     "metadata": {},
     "output_type": "execute_result"
    }
   ],
   "source": [
    "X_train.shape,y_train.shape"
   ]
  },
  {
   "cell_type": "markdown",
   "id": "09cfd3f9",
   "metadata": {},
   "source": [
    "## Preprocessing Categorical Data"
   ]
  },
  {
   "cell_type": "code",
   "execution_count": 5,
   "id": "bcc37660",
   "metadata": {},
   "outputs": [
    {
     "data": {
      "application/vnd.microsoft.datawrangler.viewer.v0+json": {
       "columns": [
        {
         "name": "index",
         "rawType": "object",
         "type": "string"
        },
        {
         "name": "0",
         "rawType": "object",
         "type": "unknown"
        }
       ],
       "ref": "651cfce4-03c7-4dff-8a8f-c1dc6754c621",
       "rows": [
        [
         "gender",
         "object"
        ],
        [
         "city",
         "object"
        ],
        [
         "profession",
         "object"
        ],
        [
         "sleep_duration",
         "object"
        ],
        [
         "dietary_habits",
         "object"
        ],
        [
         "degree",
         "object"
        ],
        [
         "suicidal_thoughts",
         "object"
        ],
        [
         "family_history",
         "object"
        ]
       ],
       "shape": {
        "columns": 1,
        "rows": 8
       }
      },
      "text/plain": [
       "gender               object\n",
       "city                 object\n",
       "profession           object\n",
       "sleep_duration       object\n",
       "dietary_habits       object\n",
       "degree               object\n",
       "suicidal_thoughts    object\n",
       "family_history       object\n",
       "dtype: object"
      ]
     },
     "execution_count": 5,
     "metadata": {},
     "output_type": "execute_result"
    }
   ],
   "source": [
    "## lets list the categorical columns\n",
    "X_train.select_dtypes(include=[\"object\"]).dtypes"
   ]
  },
  {
   "cell_type": "code",
   "execution_count": 6,
   "id": "d0edfed0",
   "metadata": {},
   "outputs": [
    {
     "data": {
      "application/vnd.microsoft.datawrangler.viewer.v0+json": {
       "columns": [
        {
         "name": "index",
         "rawType": "int64",
         "type": "integer"
        },
        {
         "name": "gender",
         "rawType": "object",
         "type": "string"
        },
        {
         "name": "city",
         "rawType": "object",
         "type": "string"
        },
        {
         "name": "profession",
         "rawType": "object",
         "type": "string"
        },
        {
         "name": "sleep_duration",
         "rawType": "object",
         "type": "string"
        },
        {
         "name": "dietary_habits",
         "rawType": "object",
         "type": "string"
        },
        {
         "name": "degree",
         "rawType": "object",
         "type": "string"
        },
        {
         "name": "suicidal_thoughts",
         "rawType": "object",
         "type": "string"
        },
        {
         "name": "family_history",
         "rawType": "object",
         "type": "string"
        }
       ],
       "ref": "013c5b67-d925-4893-8ee3-32772b89094a",
       "rows": [
        [
         "0",
         "Male",
         "Jaipur",
         "Student",
         "'7-8 hours'",
         "Moderate",
         "'Class 12'",
         "Yes",
         "No"
        ],
        [
         "1",
         "Male",
         "Vadodara",
         "Student",
         "'7-8 hours'",
         "Moderate",
         "B.Arch",
         "No",
         "Yes"
        ],
        [
         "2",
         "Male",
         "Ahmedabad",
         "Student",
         "'7-8 hours'",
         "Unhealthy",
         "M.Ed",
         "Yes",
         "Yes"
        ],
        [
         "3",
         "Male",
         "Bhopal",
         "Student",
         "'7-8 hours'",
         "Moderate",
         "B.Com",
         "Yes",
         "No"
        ],
        [
         "4",
         "Male",
         "Patna",
         "Student",
         "'5-6 hours'",
         "Unhealthy",
         "B.Com",
         "No",
         "No"
        ]
       ],
       "shape": {
        "columns": 8,
        "rows": 5
       }
      },
      "text/html": [
       "<div>\n",
       "<style scoped>\n",
       "    .dataframe tbody tr th:only-of-type {\n",
       "        vertical-align: middle;\n",
       "    }\n",
       "\n",
       "    .dataframe tbody tr th {\n",
       "        vertical-align: top;\n",
       "    }\n",
       "\n",
       "    .dataframe thead th {\n",
       "        text-align: right;\n",
       "    }\n",
       "</style>\n",
       "<table border=\"1\" class=\"dataframe\">\n",
       "  <thead>\n",
       "    <tr style=\"text-align: right;\">\n",
       "      <th></th>\n",
       "      <th>gender</th>\n",
       "      <th>city</th>\n",
       "      <th>profession</th>\n",
       "      <th>sleep_duration</th>\n",
       "      <th>dietary_habits</th>\n",
       "      <th>degree</th>\n",
       "      <th>suicidal_thoughts</th>\n",
       "      <th>family_history</th>\n",
       "    </tr>\n",
       "  </thead>\n",
       "  <tbody>\n",
       "    <tr>\n",
       "      <th>0</th>\n",
       "      <td>Male</td>\n",
       "      <td>Jaipur</td>\n",
       "      <td>Student</td>\n",
       "      <td>'7-8 hours'</td>\n",
       "      <td>Moderate</td>\n",
       "      <td>'Class 12'</td>\n",
       "      <td>Yes</td>\n",
       "      <td>No</td>\n",
       "    </tr>\n",
       "    <tr>\n",
       "      <th>1</th>\n",
       "      <td>Male</td>\n",
       "      <td>Vadodara</td>\n",
       "      <td>Student</td>\n",
       "      <td>'7-8 hours'</td>\n",
       "      <td>Moderate</td>\n",
       "      <td>B.Arch</td>\n",
       "      <td>No</td>\n",
       "      <td>Yes</td>\n",
       "    </tr>\n",
       "    <tr>\n",
       "      <th>2</th>\n",
       "      <td>Male</td>\n",
       "      <td>Ahmedabad</td>\n",
       "      <td>Student</td>\n",
       "      <td>'7-8 hours'</td>\n",
       "      <td>Unhealthy</td>\n",
       "      <td>M.Ed</td>\n",
       "      <td>Yes</td>\n",
       "      <td>Yes</td>\n",
       "    </tr>\n",
       "    <tr>\n",
       "      <th>3</th>\n",
       "      <td>Male</td>\n",
       "      <td>Bhopal</td>\n",
       "      <td>Student</td>\n",
       "      <td>'7-8 hours'</td>\n",
       "      <td>Moderate</td>\n",
       "      <td>B.Com</td>\n",
       "      <td>Yes</td>\n",
       "      <td>No</td>\n",
       "    </tr>\n",
       "    <tr>\n",
       "      <th>4</th>\n",
       "      <td>Male</td>\n",
       "      <td>Patna</td>\n",
       "      <td>Student</td>\n",
       "      <td>'5-6 hours'</td>\n",
       "      <td>Unhealthy</td>\n",
       "      <td>B.Com</td>\n",
       "      <td>No</td>\n",
       "      <td>No</td>\n",
       "    </tr>\n",
       "  </tbody>\n",
       "</table>\n",
       "</div>"
      ],
      "text/plain": [
       "  gender       city profession sleep_duration dietary_habits      degree  \\\n",
       "0   Male     Jaipur    Student    '7-8 hours'       Moderate  'Class 12'   \n",
       "1   Male   Vadodara    Student    '7-8 hours'       Moderate      B.Arch   \n",
       "2   Male  Ahmedabad    Student    '7-8 hours'      Unhealthy        M.Ed   \n",
       "3   Male     Bhopal    Student    '7-8 hours'       Moderate       B.Com   \n",
       "4   Male      Patna    Student    '5-6 hours'      Unhealthy       B.Com   \n",
       "\n",
       "  suicidal_thoughts family_history  \n",
       "0               Yes             No  \n",
       "1                No            Yes  \n",
       "2               Yes            Yes  \n",
       "3               Yes             No  \n",
       "4                No             No  "
      ]
     },
     "execution_count": 6,
     "metadata": {},
     "output_type": "execute_result"
    }
   ],
   "source": [
    "## lets look at the data to make sure they are correctly typed as object\n",
    "X_train.select_dtypes(include=[\"object\"]).head(5)"
   ]
  },
  {
   "cell_type": "code",
   "execution_count": 7,
   "id": "e3022bfb",
   "metadata": {},
   "outputs": [
    {
     "data": {
      "text/plain": [
       "['gender',\n",
       " 'city',\n",
       " 'profession',\n",
       " 'sleep_duration',\n",
       " 'dietary_habits',\n",
       " 'degree',\n",
       " 'suicidal_thoughts',\n",
       " 'family_history']"
      ]
     },
     "execution_count": 7,
     "metadata": {},
     "output_type": "execute_result"
    }
   ],
   "source": [
    "## creating column list for easier access\n",
    "category_columns = X_train.select_dtypes(include=[\"object\"]).dtypes.index.tolist()\n",
    "category_columns"
   ]
  },
  {
   "cell_type": "markdown",
   "id": "cf9f1017",
   "metadata": {},
   "source": [
    "### Default Changes\n",
    "* This section applies all the default changes to categorical data like, \n",
    "    * removing spaces, \n",
    "    * replacing empty string with unknown (we can use some kind of prediction algorithm here but for now unknown is good since there are no empty values. )\n",
    "    * lower case the values.\n",
    "    * Unicode normalizer "
   ]
  },
  {
   "cell_type": "code",
   "execution_count": 8,
   "id": "ed7fccf0",
   "metadata": {},
   "outputs": [
    {
     "data": {
      "application/vnd.microsoft.datawrangler.viewer.v0+json": {
       "columns": [
        {
         "name": "index",
         "rawType": "object",
         "type": "string"
        },
        {
         "name": "0",
         "rawType": "int64",
         "type": "integer"
        }
       ],
       "ref": "8d3f3c9c-b97c-4475-9e36-ccf2b59f449a",
       "rows": [
        [
         "gender",
         "0"
        ],
        [
         "city",
         "0"
        ],
        [
         "profession",
         "0"
        ],
        [
         "sleep_duration",
         "0"
        ],
        [
         "dietary_habits",
         "0"
        ],
        [
         "degree",
         "0"
        ],
        [
         "suicidal_thoughts",
         "0"
        ],
        [
         "family_history",
         "0"
        ]
       ],
       "shape": {
        "columns": 1,
        "rows": 8
       }
      },
      "text/plain": [
       "gender               0\n",
       "city                 0\n",
       "profession           0\n",
       "sleep_duration       0\n",
       "dietary_habits       0\n",
       "degree               0\n",
       "suicidal_thoughts    0\n",
       "family_history       0\n",
       "dtype: int64"
      ]
     },
     "execution_count": 8,
     "metadata": {},
     "output_type": "execute_result"
    }
   ],
   "source": [
    "## lets check for missing values\n",
    "X_train.select_dtypes(include=[\"object\"]).isnull().sum()"
   ]
  },
  {
   "cell_type": "markdown",
   "id": "9019f154",
   "metadata": {},
   "source": [
    "Luckily there are no missing values but our training pipeline should have a step to fill missing values with \"unkonwn\" in case production data or test data has missing values. "
   ]
  },
  {
   "cell_type": "code",
   "execution_count": 9,
   "id": "d1f4a11d",
   "metadata": {},
   "outputs": [],
   "source": [
    "## TODO Add this to pipeline\n",
    "X_train.select_dtypes(include=[\"object\"]).fillna(\"unknown\", inplace=True)"
   ]
  },
  {
   "cell_type": "markdown",
   "id": "9ebefd93",
   "metadata": {},
   "source": [
    "Lets create pipelines to transform the data for easy exploration."
   ]
  },
  {
   "cell_type": "code",
   "execution_count": 10,
   "id": "6ce9e467",
   "metadata": {},
   "outputs": [],
   "source": [
    "import unicodedata\n",
    "from sklearn.preprocessing import FunctionTransformer\n",
    "from sklearn.pipeline import Pipeline\n",
    "from pandas.api.types import is_string_dtype\n",
    "\n",
    "## creating functional transformers\n",
    "\n",
    "## fill na with Unknown\n",
    "def fill_empty_strings_fn(df, columns=None):\n",
    "    if not isinstance(df, pd.DataFrame):\n",
    "        raise ValueError(\"Input must be a pandas DataFrame\")\n",
    "    df_copy = df.copy()\n",
    "    for col in df_copy.columns:\n",
    "        ## TODO : Confirm if comparing with type object is correct. \n",
    "        if is_string_dtype(df_copy[col]):\n",
    "            df_copy[col] = df_copy[col].fillna(\"unknown\")\n",
    "    return df_copy\n",
    "\n",
    "## remove spaces\n",
    "def strip_spaces_fn(df, colmns=None):\n",
    "    if not isinstance(df, pd.DataFrame):\n",
    "        raise ValueError(\"Input must be a pandas DataFrame\")\n",
    "    df_copy = df.copy()\n",
    "    for col in df_copy.columns:\n",
    "        ## TODO : Confirm if comparing with type object is correct. \n",
    "        if is_string_dtype(df_copy[col]):\n",
    "            df_copy[col] = df_copy[col].str.strip()\n",
    "    return df_copy\n",
    "\n",
    "\n",
    "\n",
    "def to_lower_case_fn(df):\n",
    "    if not isinstance(df, pd.DataFrame):\n",
    "        raise ValueError(\"Input must be a pandas DataFrame\")\n",
    "    df_copy = df.copy()\n",
    "    for col in df_copy.columns:\n",
    "        ## TODO : Confirm if comparing with type object is correct. \n",
    "        if is_string_dtype(df_copy[col]):\n",
    "            df_copy[col] = df_copy[col].str.lower()\n",
    "    return df_copy\n",
    "\n",
    "def normalize_unicode_fn(df):\n",
    "    if not isinstance(df, pd.DataFrame):\n",
    "        raise ValueError(\"Input must be a pandas DataFrame\")\n",
    "    df_copy = df.copy()\n",
    "    for col in df_copy.columns:\n",
    "        ## TODO : Confirm if comparing with type object is correct. \n",
    "        if is_string_dtype(df_copy[col]):\n",
    "            df_copy[col] = df_copy[col].map(lambda ct: unicodedata.normalize(\"NFKD\",ct).encode(\"ascii\",\"ignore\").decode())\n",
    "    return df_copy\n",
    "\n",
    "\n",
    "fill_empty_strings = FunctionTransformer(fill_empty_strings_fn,feature_names_out=\"one-to-one\")\n",
    "strip_spaces = FunctionTransformer(strip_spaces_fn,feature_names_out=\"one-to-one\")\n",
    "to_lower_case = FunctionTransformer(to_lower_case_fn,feature_names_out=\"one-to-one\")\n",
    "normalize_unicode = FunctionTransformer(normalize_unicode_fn, feature_names_out=\"one-to-one\")"
   ]
  },
  {
   "cell_type": "code",
   "execution_count": 11,
   "id": "ece7c7af",
   "metadata": {},
   "outputs": [
    {
     "data": {
      "application/vnd.microsoft.datawrangler.viewer.v0+json": {
       "columns": [
        {
         "name": "index",
         "rawType": "int64",
         "type": "integer"
        },
        {
         "name": "gender",
         "rawType": "object",
         "type": "string"
        },
        {
         "name": "city",
         "rawType": "object",
         "type": "string"
        },
        {
         "name": "profession",
         "rawType": "object",
         "type": "string"
        },
        {
         "name": "sleep_duration",
         "rawType": "object",
         "type": "string"
        },
        {
         "name": "dietary_habits",
         "rawType": "object",
         "type": "string"
        },
        {
         "name": "degree",
         "rawType": "object",
         "type": "string"
        },
        {
         "name": "suicidal_thoughts",
         "rawType": "object",
         "type": "string"
        },
        {
         "name": "family_history",
         "rawType": "object",
         "type": "string"
        }
       ],
       "ref": "b6f6e8ce-66a3-40e4-b8eb-738e76a270e3",
       "rows": [
        [
         "0",
         "male",
         "jaipur",
         "student",
         "'7-8 hours'",
         "moderate",
         "'class 12'",
         "yes",
         "no"
        ],
        [
         "1",
         "male",
         "vadodara",
         "student",
         "'7-8 hours'",
         "moderate",
         "b.arch",
         "no",
         "yes"
        ],
        [
         "2",
         "male",
         "ahmedabad",
         "student",
         "'7-8 hours'",
         "unhealthy",
         "m.ed",
         "yes",
         "yes"
        ],
        [
         "3",
         "male",
         "bhopal",
         "student",
         "'7-8 hours'",
         "moderate",
         "b.com",
         "yes",
         "no"
        ],
        [
         "4",
         "male",
         "patna",
         "student",
         "'5-6 hours'",
         "unhealthy",
         "b.com",
         "no",
         "no"
        ]
       ],
       "shape": {
        "columns": 8,
        "rows": 5
       }
      },
      "text/html": [
       "<div>\n",
       "<style scoped>\n",
       "    .dataframe tbody tr th:only-of-type {\n",
       "        vertical-align: middle;\n",
       "    }\n",
       "\n",
       "    .dataframe tbody tr th {\n",
       "        vertical-align: top;\n",
       "    }\n",
       "\n",
       "    .dataframe thead th {\n",
       "        text-align: right;\n",
       "    }\n",
       "</style>\n",
       "<table border=\"1\" class=\"dataframe\">\n",
       "  <thead>\n",
       "    <tr style=\"text-align: right;\">\n",
       "      <th></th>\n",
       "      <th>gender</th>\n",
       "      <th>city</th>\n",
       "      <th>profession</th>\n",
       "      <th>sleep_duration</th>\n",
       "      <th>dietary_habits</th>\n",
       "      <th>degree</th>\n",
       "      <th>suicidal_thoughts</th>\n",
       "      <th>family_history</th>\n",
       "    </tr>\n",
       "  </thead>\n",
       "  <tbody>\n",
       "    <tr>\n",
       "      <th>0</th>\n",
       "      <td>male</td>\n",
       "      <td>jaipur</td>\n",
       "      <td>student</td>\n",
       "      <td>'7-8 hours'</td>\n",
       "      <td>moderate</td>\n",
       "      <td>'class 12'</td>\n",
       "      <td>yes</td>\n",
       "      <td>no</td>\n",
       "    </tr>\n",
       "    <tr>\n",
       "      <th>1</th>\n",
       "      <td>male</td>\n",
       "      <td>vadodara</td>\n",
       "      <td>student</td>\n",
       "      <td>'7-8 hours'</td>\n",
       "      <td>moderate</td>\n",
       "      <td>b.arch</td>\n",
       "      <td>no</td>\n",
       "      <td>yes</td>\n",
       "    </tr>\n",
       "    <tr>\n",
       "      <th>2</th>\n",
       "      <td>male</td>\n",
       "      <td>ahmedabad</td>\n",
       "      <td>student</td>\n",
       "      <td>'7-8 hours'</td>\n",
       "      <td>unhealthy</td>\n",
       "      <td>m.ed</td>\n",
       "      <td>yes</td>\n",
       "      <td>yes</td>\n",
       "    </tr>\n",
       "    <tr>\n",
       "      <th>3</th>\n",
       "      <td>male</td>\n",
       "      <td>bhopal</td>\n",
       "      <td>student</td>\n",
       "      <td>'7-8 hours'</td>\n",
       "      <td>moderate</td>\n",
       "      <td>b.com</td>\n",
       "      <td>yes</td>\n",
       "      <td>no</td>\n",
       "    </tr>\n",
       "    <tr>\n",
       "      <th>4</th>\n",
       "      <td>male</td>\n",
       "      <td>patna</td>\n",
       "      <td>student</td>\n",
       "      <td>'5-6 hours'</td>\n",
       "      <td>unhealthy</td>\n",
       "      <td>b.com</td>\n",
       "      <td>no</td>\n",
       "      <td>no</td>\n",
       "    </tr>\n",
       "  </tbody>\n",
       "</table>\n",
       "</div>"
      ],
      "text/plain": [
       "  gender       city profession sleep_duration dietary_habits      degree  \\\n",
       "0   male     jaipur    student    '7-8 hours'       moderate  'class 12'   \n",
       "1   male   vadodara    student    '7-8 hours'       moderate      b.arch   \n",
       "2   male  ahmedabad    student    '7-8 hours'      unhealthy        m.ed   \n",
       "3   male     bhopal    student    '7-8 hours'       moderate       b.com   \n",
       "4   male      patna    student    '5-6 hours'      unhealthy       b.com   \n",
       "\n",
       "  suicidal_thoughts family_history  \n",
       "0               yes             no  \n",
       "1                no            yes  \n",
       "2               yes            yes  \n",
       "3               yes             no  \n",
       "4                no             no  "
      ]
     },
     "execution_count": 11,
     "metadata": {},
     "output_type": "execute_result"
    }
   ],
   "source": [
    "## in our use case pipeline would make more sense as we need to use output of one transformer in another. \n",
    "default_cat_pipeline = Pipeline([\n",
    "    (\"fill_empty_strings\", fill_empty_strings),\n",
    "    (\"strip_spaces\", strip_spaces),\n",
    "    (\"to_lower_case\", to_lower_case),\n",
    "    (\"normalize_unicode\", normalize_unicode)    \n",
    "], )\n",
    "\n",
    "## only run the pipeline on categorical data\n",
    "updated_categories = default_cat_pipeline.fit_transform(X_train.select_dtypes(include=[\"object\", \"string\"]))\n",
    "updated_categories.head()"
   ]
  },
  {
   "cell_type": "markdown",
   "id": "de9f5e2c",
   "metadata": {},
   "source": [
    "### Preprocessing Gender Column"
   ]
  },
  {
   "cell_type": "code",
   "execution_count": 12,
   "id": "4322eb78",
   "metadata": {},
   "outputs": [
    {
     "data": {
      "application/vnd.microsoft.datawrangler.viewer.v0+json": {
       "columns": [
        {
         "name": "gender",
         "rawType": "object",
         "type": "string"
        },
        {
         "name": "count",
         "rawType": "int64",
         "type": "integer"
        }
       ],
       "ref": "1c59e916-945a-4688-9226-3175f131b6c4",
       "rows": [
        [
         "male",
         "12437"
        ],
        [
         "female",
         "9883"
        ]
       ],
       "shape": {
        "columns": 1,
        "rows": 2
       }
      },
      "text/plain": [
       "gender\n",
       "male      12437\n",
       "female     9883\n",
       "Name: count, dtype: int64"
      ]
     },
     "execution_count": 12,
     "metadata": {},
     "output_type": "execute_result"
    }
   ],
   "source": [
    "updated_categories[\"gender\"].value_counts()"
   ]
  },
  {
   "cell_type": "markdown",
   "id": "a93c317d",
   "metadata": {},
   "source": [
    "* Since the data is distributed between just 2 genders we can use `OneHotEncoder` to encode the data.\n",
    "* Lets also use this to explore how we'll design our design our data transformation implementation. We'll need a combination of Pipelines and ColumnTransformers to make it efficient. "
   ]
  },
  {
   "cell_type": "code",
   "execution_count": 13,
   "id": "a264e83c",
   "metadata": {},
   "outputs": [
    {
     "data": {
      "text/plain": [
       "array(['preprocess_gender__gender_female',\n",
       "       'preprocess_gender__gender_male'], dtype=object)"
      ]
     },
     "execution_count": 13,
     "metadata": {},
     "output_type": "execute_result"
    }
   ],
   "source": [
    "from sklearn.compose import ColumnTransformer\n",
    "from sklearn.preprocessing import OneHotEncoder\n",
    "\n",
    "\n",
    "gender_pipeline = Pipeline([\n",
    "    (\"default_cat_pipeline\", default_cat_pipeline),\n",
    "    (\"encode_gender\", OneHotEncoder(sparse_output=False, handle_unknown=\"ignore\"))\n",
    "])\n",
    "\n",
    "preprocess_gender = ColumnTransformer([\n",
    "    (\"preprocess_gender\", gender_pipeline, [\"gender\"])\n",
    "])\n",
    "\n",
    "preprocess_gender.fit_transform(X_train)\n",
    "preprocess_gender.get_feature_names_out()"
   ]
  },
  {
   "cell_type": "markdown",
   "id": "7700b12b",
   "metadata": {},
   "source": [
    "* So this will be our plan going forward, we'll create column specific pipelines which will be a combination of default pipeline and column specific transformations and finally combine all pipeline into one clean \"preprocess_pipeline\" column transformer. \n",
    "* For now we'll keep gender as it is for easier data exploration in next section. "
   ]
  },
  {
   "cell_type": "markdown",
   "id": "41fd7a74",
   "metadata": {},
   "source": [
    "### Preprocessing Profession Column"
   ]
  },
  {
   "cell_type": "code",
   "execution_count": 14,
   "id": "592d236a",
   "metadata": {},
   "outputs": [
    {
     "data": {
      "application/vnd.microsoft.datawrangler.viewer.v0+json": {
       "columns": [
        {
         "name": "profession",
         "rawType": "object",
         "type": "string"
        },
        {
         "name": "count",
         "rawType": "int64",
         "type": "integer"
        }
       ],
       "ref": "b9e3852a-978b-4a89-8f34-93cb6f2ab6f6",
       "rows": [
        [
         "student",
         "22294"
        ],
        [
         "architect",
         "6"
        ],
        [
         "teacher",
         "4"
        ],
        [
         "'digital marketer'",
         "3"
        ],
        [
         "'content writer'",
         "2"
        ],
        [
         "chef",
         "2"
        ],
        [
         "doctor",
         "2"
        ],
        [
         "pharmacist",
         "2"
        ],
        [
         "manager",
         "1"
        ],
        [
         "'educational consultant'",
         "1"
        ],
        [
         "lawyer",
         "1"
        ],
        [
         "entrepreneur",
         "1"
        ],
        [
         "'civil engineer'",
         "1"
        ]
       ],
       "shape": {
        "columns": 1,
        "rows": 13
       }
      },
      "text/plain": [
       "profession\n",
       "student                     22294\n",
       "architect                       6\n",
       "teacher                         4\n",
       "'digital marketer'              3\n",
       "'content writer'                2\n",
       "chef                            2\n",
       "doctor                          2\n",
       "pharmacist                      2\n",
       "manager                         1\n",
       "'educational consultant'        1\n",
       "lawyer                          1\n",
       "entrepreneur                    1\n",
       "'civil engineer'                1\n",
       "Name: count, dtype: int64"
      ]
     },
     "execution_count": 14,
     "metadata": {},
     "output_type": "execute_result"
    }
   ],
   "source": [
    "updated_categories[\"profession\"].value_counts()"
   ]
  },
  {
   "cell_type": "code",
   "execution_count": 15,
   "id": "bf58af40",
   "metadata": {},
   "outputs": [
    {
     "data": {
      "text/plain": [
       "0.11648745519713263"
      ]
     },
     "execution_count": 15,
     "metadata": {},
     "output_type": "execute_result"
    }
   ],
   "source": [
    "(updated_categories[updated_categories[\"profession\"] != 'student'].shape[0] / updated_categories.shape[0] ) * 100"
   ]
  },
  {
   "cell_type": "markdown",
   "id": "43ef8a09",
   "metadata": {},
   "source": [
    "* So majority of the profession are students, and we have less than 1% of non student instances.\n",
    "* Although this lack of variance will contribute very little to our classification, for now we'll create a pipeline to change value of every non-student to 'working' and then one-hot encode them. \n",
    "* This assumption might be wrong in test data or in production, but we'll handle it when we see new information. "
   ]
  },
  {
   "cell_type": "code",
   "execution_count": 16,
   "id": "899bb9a7",
   "metadata": {},
   "outputs": [
    {
     "data": {
      "text/plain": [
       "array(['preprocess_profession__profession_student',\n",
       "       'preprocess_profession__profession_working'], dtype=object)"
      ]
     },
     "execution_count": 16,
     "metadata": {},
     "output_type": "execute_result"
    }
   ],
   "source": [
    "# function to map \"profession\" column values to 'student' and 'working'\n",
    "def map_working_profession_fn(df):\n",
    "    if not isinstance(df, pd.DataFrame):\n",
    "        raise ValueError(\"Input must be a pandas DataFrame\")\n",
    "    df_copy = df.copy()\n",
    "    df_copy.loc[df_copy[\"profession\"] != 'student'] = 'working'\n",
    "    return df_copy\n",
    "\n",
    "map_working_profession = FunctionTransformer(map_working_profession_fn, feature_names_out=\"one-to-one\")\n",
    "\n",
    "profession_pipeline = Pipeline([\n",
    "    (\"default_cat_pipeline\", default_cat_pipeline),\n",
    "    (\"map_profession\", map_working_profession),\n",
    "    (\"encode_profession\", OneHotEncoder(sparse_output=False, handle_unknown=\"ignore\"))\n",
    "])\n",
    "\n",
    "preprocess_profession = ColumnTransformer([\n",
    "    (\"preprocess_profession\", profession_pipeline, [\"profession\"])\n",
    "])\n",
    "\n",
    "# we can uncomment this if we need pandas as output\n",
    "# preprocess_profession.set_output(transform=\"pandas\")\n",
    "\n",
    "temp = preprocess_profession.fit_transform(X_train)\n",
    "preprocess_profession.get_feature_names_out()\n"
   ]
  },
  {
   "cell_type": "markdown",
   "id": "de084ebd",
   "metadata": {},
   "source": [
    "* Lets also update the train set for now, to help with data exploration"
   ]
  },
  {
   "cell_type": "code",
   "execution_count": 17,
   "id": "d5535023",
   "metadata": {},
   "outputs": [],
   "source": [
    "updated_categories.loc[updated_categories[\"profession\"] != 'student','profession'] = \"working\""
   ]
  },
  {
   "cell_type": "code",
   "execution_count": 18,
   "id": "852e5435",
   "metadata": {},
   "outputs": [
    {
     "data": {
      "application/vnd.microsoft.datawrangler.viewer.v0+json": {
       "columns": [
        {
         "name": "profession",
         "rawType": "object",
         "type": "string"
        },
        {
         "name": "count",
         "rawType": "int64",
         "type": "integer"
        }
       ],
       "ref": "f8fa445f-e72e-4f2a-ab2e-cf6d5cd0b1a7",
       "rows": [
        [
         "student",
         "22294"
        ],
        [
         "working",
         "26"
        ]
       ],
       "shape": {
        "columns": 1,
        "rows": 2
       }
      },
      "text/plain": [
       "profession\n",
       "student    22294\n",
       "working       26\n",
       "Name: count, dtype: int64"
      ]
     },
     "execution_count": 18,
     "metadata": {},
     "output_type": "execute_result"
    }
   ],
   "source": [
    "updated_categories[\"profession\"].value_counts()"
   ]
  },
  {
   "cell_type": "markdown",
   "id": "e077fa23",
   "metadata": {},
   "source": [
    "### Preprocessing Sleep Duration"
   ]
  },
  {
   "cell_type": "code",
   "execution_count": 19,
   "id": "17280fd8",
   "metadata": {},
   "outputs": [
    {
     "data": {
      "application/vnd.microsoft.datawrangler.viewer.v0+json": {
       "columns": [
        {
         "name": "sleep_duration",
         "rawType": "object",
         "type": "string"
        },
        {
         "name": "count",
         "rawType": "int64",
         "type": "integer"
        }
       ],
       "ref": "e23bbddf-740c-4df4-88e7-9ce1f6fcfab9",
       "rows": [
        [
         "'less than 5 hours'",
         "6646"
        ],
        [
         "'7-8 hours'",
         "5871"
        ],
        [
         "'5-6 hours'",
         "4963"
        ],
        [
         "'more than 8 hours'",
         "4825"
        ],
        [
         "others",
         "15"
        ]
       ],
       "shape": {
        "columns": 1,
        "rows": 5
       }
      },
      "text/plain": [
       "sleep_duration\n",
       "'less than 5 hours'    6646\n",
       "'7-8 hours'            5871\n",
       "'5-6 hours'            4963\n",
       "'more than 8 hours'    4825\n",
       "others                   15\n",
       "Name: count, dtype: int64"
      ]
     },
     "execution_count": 19,
     "metadata": {},
     "output_type": "execute_result"
    }
   ],
   "source": [
    "updated_categories[\"sleep_duration\"].value_counts()"
   ]
  },
  {
   "cell_type": "code",
   "execution_count": 20,
   "id": "c3fa7037",
   "metadata": {},
   "outputs": [
    {
     "data": {
      "text/plain": [
       "0.06720430107526883"
      ]
     },
     "execution_count": 20,
     "metadata": {},
     "output_type": "execute_result"
    }
   ],
   "source": [
    "(updated_categories[updated_categories[\"sleep_duration\"] == 'others'].shape[0] / updated_categories.shape[0]) * 100"
   ]
  },
  {
   "cell_type": "markdown",
   "id": "0c9aa7ef",
   "metadata": {},
   "source": [
    "* Looking at the data I think its safe to merge 'others' with 'more than 8 hours'. \n",
    "* Here is the plan,\n",
    "    * We'll change the values to `lt_5`, `bt_7_8` and `gt_8` so less verbose values and column names. We might find more values in test or prod, but for now we'll assume these are the possible values. \n",
    "    * We'll merge `others` to `gt_8` since the sample size is very small.\n",
    "    * We'll either one hot encode the data or ordinal encoding depending on the algorithm we want to use\n",
    "* One more interesting thing that we missed earlier is that these strings have single quote in them, we'll need to strip them before processing anything\n"
   ]
  },
  {
   "cell_type": "code",
   "execution_count": 21,
   "id": "da4277e3",
   "metadata": {},
   "outputs": [
    {
     "data": {
      "text/plain": [
       "array(['sleep_duration_pipeline__sleep_duration'], dtype=object)"
      ]
     },
     "execution_count": 21,
     "metadata": {},
     "output_type": "execute_result"
    }
   ],
   "source": [
    "# helper function to rename and map the sleep duration category\n",
    "from sklearn.preprocessing import OrdinalEncoder\n",
    "\n",
    "\n",
    "def clean_sleep_duration_fn(df):\n",
    "    if not isinstance(df, pd.DataFrame):\n",
    "        raise ValueError(\"Input must be a pandas DataFrame\")\n",
    "    df_copy = df.copy()\n",
    "    df_copy[\"sleep_duration\"] = df[\"sleep_duration\"].str.strip(\"'\")\n",
    "    return df_copy\n",
    "\n",
    "\n",
    "clean_sleep_duration = FunctionTransformer(\n",
    "    clean_sleep_duration_fn, feature_names_out=\"one-to-one\")\n",
    "\n",
    "\n",
    "def map_sleep_duration_fn(df):\n",
    "    if not isinstance(df, pd.DataFrame):\n",
    "        raise ValueError(\"Input must be a pandas DataFrame\")\n",
    "    df_copy = df.copy()\n",
    "    # map 'less than 5 hours' to lt_5\n",
    "    df_copy.loc[df_copy[\"sleep_duration\"] ==\n",
    "                'less than 5 hours', 'sleep_duration'] = 'lt_5'\n",
    "    # map '5-6 hours' to bt_5_6\n",
    "    df_copy.loc[df_copy[\"sleep_duration\"] ==\n",
    "                '5-6 hours', 'sleep_duration'] = 'bt_5_6'\n",
    "    # map '7-8 hours' to bt_7_8\n",
    "    df_copy.loc[df_copy[\"sleep_duration\"] ==\n",
    "                '7-8 hours', 'sleep_duration'] = 'bt_7_8'\n",
    "    # more than 8 hours to gt_8\n",
    "    df_copy.loc[df_copy[\"sleep_duration\"] ==\n",
    "                'more than 8 hours', 'sleep_duration'] = 'gt_8'\n",
    "    # more than others to gt_8\n",
    "    df_copy.loc[df_copy[\"sleep_duration\"] ==\n",
    "                'others', 'sleep_duration'] = 'gt_8'\n",
    "    return df_copy\n",
    "\n",
    "\n",
    "map_sleep_duration = FunctionTransformer(\n",
    "    map_sleep_duration_fn, feature_names_out=\"one-to-one\")\n",
    "\n",
    "\n",
    "def make_sleep_duration_pipeline_fn(encoding=\"onehot\"):\n",
    "    steps = [(\"default_cat_pipeline\", default_cat_pipeline),\n",
    "             (\"sleep_duration_clean\", clean_sleep_duration),\n",
    "             (\"sleep_duration_mapping\", map_sleep_duration)]\n",
    "\n",
    "    if encoding == \"onehot\":\n",
    "        steps.append((\"encoder\", OneHotEncoder(\n",
    "            sparse_output=False, handle_unknown=\"ignore\")))\n",
    "    elif encoding == \"ordinal\":\n",
    "        steps.append((\"encoder\", OrdinalEncoder(categories=[[\n",
    "            \"lt_5\", \"bt_5_6\", \"bt_7_8\", \"gt_8\"\n",
    "        ]], handle_unknown=\"use_encoded_value\", unknown_value=-1)))\n",
    "    else:\n",
    "        raise ValueError(\"Invalid encoding type: choose 'onehot' or 'ordinal'\")\n",
    "    return Pipeline(steps=steps)\n",
    "\n",
    "\n",
    "preprocess_sleep_duration = ColumnTransformer([(\n",
    "    \"sleep_duration_pipeline\", make_sleep_duration_pipeline_fn(encoding=\"ordinal\"), [\n",
    "        \"sleep_duration\"]\n",
    ")])\n",
    "\n",
    "temp = preprocess_sleep_duration.fit_transform(X_train)\n",
    "preprocess_sleep_duration.get_feature_names_out()"
   ]
  },
  {
   "cell_type": "markdown",
   "id": "61cbcf96",
   "metadata": {},
   "source": [
    "* Lets update our dataset with cleaned categorical values for easier data exploration later"
   ]
  },
  {
   "cell_type": "code",
   "execution_count": 22,
   "id": "0beef8e4",
   "metadata": {},
   "outputs": [
    {
     "data": {
      "application/vnd.microsoft.datawrangler.viewer.v0+json": {
       "columns": [
        {
         "name": "index",
         "rawType": "int64",
         "type": "integer"
        },
        {
         "name": "gender",
         "rawType": "object",
         "type": "string"
        },
        {
         "name": "city",
         "rawType": "object",
         "type": "string"
        },
        {
         "name": "profession",
         "rawType": "object",
         "type": "string"
        },
        {
         "name": "sleep_duration",
         "rawType": "object",
         "type": "string"
        },
        {
         "name": "dietary_habits",
         "rawType": "object",
         "type": "string"
        },
        {
         "name": "degree",
         "rawType": "object",
         "type": "string"
        },
        {
         "name": "suicidal_thoughts",
         "rawType": "object",
         "type": "string"
        },
        {
         "name": "family_history",
         "rawType": "object",
         "type": "string"
        }
       ],
       "ref": "8cdf4fd0-ca2e-474d-8a53-4a6dd5075803",
       "rows": [
        [
         "0",
         "male",
         "jaipur",
         "student",
         "bt_7_8",
         "moderate",
         "'class 12'",
         "yes",
         "no"
        ],
        [
         "1",
         "male",
         "vadodara",
         "student",
         "bt_7_8",
         "moderate",
         "b.arch",
         "no",
         "yes"
        ],
        [
         "2",
         "male",
         "ahmedabad",
         "student",
         "bt_7_8",
         "unhealthy",
         "m.ed",
         "yes",
         "yes"
        ],
        [
         "3",
         "male",
         "bhopal",
         "student",
         "bt_7_8",
         "moderate",
         "b.com",
         "yes",
         "no"
        ],
        [
         "4",
         "male",
         "patna",
         "student",
         "bt_5_6",
         "unhealthy",
         "b.com",
         "no",
         "no"
        ],
        [
         "5",
         "female",
         "kolkata",
         "student",
         "lt_5",
         "healthy",
         "m.ed",
         "no",
         "no"
        ],
        [
         "6",
         "male",
         "kanpur",
         "student",
         "bt_5_6",
         "healthy",
         "llb",
         "yes",
         "no"
        ],
        [
         "7",
         "male",
         "patna",
         "student",
         "gt_8",
         "unhealthy",
         "bca",
         "yes",
         "no"
        ],
        [
         "8",
         "male",
         "ghaziabad",
         "student",
         "bt_7_8",
         "unhealthy",
         "llb",
         "no",
         "no"
        ],
        [
         "9",
         "male",
         "bhopal",
         "student",
         "gt_8",
         "unhealthy",
         "b.arch",
         "no",
         "no"
        ],
        [
         "10",
         "male",
         "kalyan",
         "student",
         "gt_8",
         "unhealthy",
         "msc",
         "no",
         "no"
        ],
        [
         "11",
         "male",
         "pune",
         "student",
         "lt_5",
         "moderate",
         "mca",
         "yes",
         "no"
        ],
        [
         "12",
         "female",
         "jaipur",
         "student",
         "bt_5_6",
         "unhealthy",
         "b.arch",
         "no",
         "yes"
        ],
        [
         "13",
         "male",
         "pune",
         "student",
         "gt_8",
         "healthy",
         "b.pharm",
         "yes",
         "yes"
        ],
        [
         "14",
         "male",
         "srinagar",
         "student",
         "bt_5_6",
         "moderate",
         "'class 12'",
         "no",
         "yes"
        ],
        [
         "15",
         "male",
         "kalyan",
         "student",
         "gt_8",
         "healthy",
         "'class 12'",
         "yes",
         "yes"
        ],
        [
         "16",
         "female",
         "srinagar",
         "student",
         "bt_7_8",
         "moderate",
         "be",
         "yes",
         "no"
        ],
        [
         "17",
         "male",
         "chennai",
         "student",
         "gt_8",
         "unhealthy",
         "bca",
         "no",
         "no"
        ],
        [
         "18",
         "female",
         "ludhiana",
         "student",
         "lt_5",
         "moderate",
         "'class 12'",
         "yes",
         "no"
        ],
        [
         "19",
         "female",
         "meerut",
         "student",
         "bt_7_8",
         "moderate",
         "m.ed",
         "yes",
         "yes"
        ],
        [
         "20",
         "female",
         "bhopal",
         "student",
         "bt_5_6",
         "moderate",
         "'class 12'",
         "yes",
         "yes"
        ],
        [
         "21",
         "female",
         "lucknow",
         "student",
         "gt_8",
         "unhealthy",
         "md",
         "yes",
         "yes"
        ],
        [
         "22",
         "male",
         "pune",
         "student",
         "gt_8",
         "unhealthy",
         "b.tech",
         "no",
         "no"
        ],
        [
         "23",
         "female",
         "surat",
         "student",
         "lt_5",
         "moderate",
         "llb",
         "no",
         "yes"
        ],
        [
         "24",
         "male",
         "ghaziabad",
         "student",
         "bt_5_6",
         "moderate",
         "bsc",
         "no",
         "no"
        ],
        [
         "25",
         "female",
         "chennai",
         "student",
         "lt_5",
         "unhealthy",
         "'class 12'",
         "yes",
         "no"
        ],
        [
         "26",
         "male",
         "kolkata",
         "student",
         "gt_8",
         "unhealthy",
         "m.pharm",
         "yes",
         "no"
        ],
        [
         "27",
         "female",
         "vasai-virar",
         "student",
         "bt_5_6",
         "moderate",
         "b.arch",
         "no",
         "yes"
        ],
        [
         "28",
         "female",
         "kanpur",
         "student",
         "lt_5",
         "moderate",
         "m.tech",
         "yes",
         "no"
        ],
        [
         "29",
         "male",
         "varanasi",
         "student",
         "gt_8",
         "unhealthy",
         "b.arch",
         "yes",
         "yes"
        ],
        [
         "30",
         "male",
         "varanasi",
         "student",
         "bt_7_8",
         "unhealthy",
         "b.com",
         "yes",
         "no"
        ],
        [
         "31",
         "male",
         "jaipur",
         "student",
         "bt_5_6",
         "healthy",
         "b.pharm",
         "yes",
         "yes"
        ],
        [
         "32",
         "male",
         "ghaziabad",
         "student",
         "bt_5_6",
         "unhealthy",
         "'class 12'",
         "no",
         "yes"
        ],
        [
         "33",
         "male",
         "agra",
         "student",
         "lt_5",
         "moderate",
         "mbbs",
         "yes",
         "yes"
        ],
        [
         "34",
         "male",
         "srinagar",
         "student",
         "lt_5",
         "healthy",
         "llm",
         "yes",
         "yes"
        ],
        [
         "35",
         "male",
         "vasai-virar",
         "student",
         "bt_5_6",
         "moderate",
         "ma",
         "no",
         "yes"
        ],
        [
         "36",
         "male",
         "srinagar",
         "student",
         "lt_5",
         "moderate",
         "'class 12'",
         "yes",
         "no"
        ],
        [
         "37",
         "male",
         "surat",
         "student",
         "lt_5",
         "healthy",
         "mbbs",
         "yes",
         "yes"
        ],
        [
         "38",
         "female",
         "nagpur",
         "student",
         "bt_5_6",
         "healthy",
         "msc",
         "yes",
         "no"
        ],
        [
         "39",
         "female",
         "kanpur",
         "student",
         "lt_5",
         "unhealthy",
         "'class 12'",
         "yes",
         "no"
        ],
        [
         "40",
         "male",
         "vasai-virar",
         "student",
         "gt_8",
         "healthy",
         "b.tech",
         "yes",
         "no"
        ],
        [
         "41",
         "male",
         "visakhapatnam",
         "student",
         "lt_5",
         "unhealthy",
         "mba",
         "yes",
         "no"
        ],
        [
         "42",
         "female",
         "vasai-virar",
         "student",
         "lt_5",
         "moderate",
         "bca",
         "yes",
         "yes"
        ],
        [
         "43",
         "female",
         "bangalore",
         "student",
         "bt_5_6",
         "healthy",
         "b.tech",
         "yes",
         "no"
        ],
        [
         "44",
         "female",
         "kalyan",
         "student",
         "lt_5",
         "moderate",
         "bsc",
         "no",
         "no"
        ],
        [
         "45",
         "male",
         "mumbai",
         "student",
         "gt_8",
         "moderate",
         "llb",
         "yes",
         "yes"
        ],
        [
         "46",
         "male",
         "vadodara",
         "student",
         "bt_7_8",
         "healthy",
         "b.arch",
         "yes",
         "yes"
        ],
        [
         "47",
         "female",
         "bhopal",
         "student",
         "lt_5",
         "unhealthy",
         "ma",
         "yes",
         "no"
        ],
        [
         "48",
         "female",
         "rajkot",
         "student",
         "bt_7_8",
         "healthy",
         "bca",
         "yes",
         "yes"
        ],
        [
         "49",
         "female",
         "ghaziabad",
         "student",
         "gt_8",
         "moderate",
         "b.arch",
         "yes",
         "no"
        ]
       ],
       "shape": {
        "columns": 8,
        "rows": 22320
       }
      },
      "text/html": [
       "<div>\n",
       "<style scoped>\n",
       "    .dataframe tbody tr th:only-of-type {\n",
       "        vertical-align: middle;\n",
       "    }\n",
       "\n",
       "    .dataframe tbody tr th {\n",
       "        vertical-align: top;\n",
       "    }\n",
       "\n",
       "    .dataframe thead th {\n",
       "        text-align: right;\n",
       "    }\n",
       "</style>\n",
       "<table border=\"1\" class=\"dataframe\">\n",
       "  <thead>\n",
       "    <tr style=\"text-align: right;\">\n",
       "      <th></th>\n",
       "      <th>gender</th>\n",
       "      <th>city</th>\n",
       "      <th>profession</th>\n",
       "      <th>sleep_duration</th>\n",
       "      <th>dietary_habits</th>\n",
       "      <th>degree</th>\n",
       "      <th>suicidal_thoughts</th>\n",
       "      <th>family_history</th>\n",
       "    </tr>\n",
       "  </thead>\n",
       "  <tbody>\n",
       "    <tr>\n",
       "      <th>0</th>\n",
       "      <td>male</td>\n",
       "      <td>jaipur</td>\n",
       "      <td>student</td>\n",
       "      <td>bt_7_8</td>\n",
       "      <td>moderate</td>\n",
       "      <td>'class 12'</td>\n",
       "      <td>yes</td>\n",
       "      <td>no</td>\n",
       "    </tr>\n",
       "    <tr>\n",
       "      <th>1</th>\n",
       "      <td>male</td>\n",
       "      <td>vadodara</td>\n",
       "      <td>student</td>\n",
       "      <td>bt_7_8</td>\n",
       "      <td>moderate</td>\n",
       "      <td>b.arch</td>\n",
       "      <td>no</td>\n",
       "      <td>yes</td>\n",
       "    </tr>\n",
       "    <tr>\n",
       "      <th>2</th>\n",
       "      <td>male</td>\n",
       "      <td>ahmedabad</td>\n",
       "      <td>student</td>\n",
       "      <td>bt_7_8</td>\n",
       "      <td>unhealthy</td>\n",
       "      <td>m.ed</td>\n",
       "      <td>yes</td>\n",
       "      <td>yes</td>\n",
       "    </tr>\n",
       "    <tr>\n",
       "      <th>3</th>\n",
       "      <td>male</td>\n",
       "      <td>bhopal</td>\n",
       "      <td>student</td>\n",
       "      <td>bt_7_8</td>\n",
       "      <td>moderate</td>\n",
       "      <td>b.com</td>\n",
       "      <td>yes</td>\n",
       "      <td>no</td>\n",
       "    </tr>\n",
       "    <tr>\n",
       "      <th>4</th>\n",
       "      <td>male</td>\n",
       "      <td>patna</td>\n",
       "      <td>student</td>\n",
       "      <td>bt_5_6</td>\n",
       "      <td>unhealthy</td>\n",
       "      <td>b.com</td>\n",
       "      <td>no</td>\n",
       "      <td>no</td>\n",
       "    </tr>\n",
       "    <tr>\n",
       "      <th>...</th>\n",
       "      <td>...</td>\n",
       "      <td>...</td>\n",
       "      <td>...</td>\n",
       "      <td>...</td>\n",
       "      <td>...</td>\n",
       "      <td>...</td>\n",
       "      <td>...</td>\n",
       "      <td>...</td>\n",
       "    </tr>\n",
       "    <tr>\n",
       "      <th>22315</th>\n",
       "      <td>male</td>\n",
       "      <td>kolkata</td>\n",
       "      <td>student</td>\n",
       "      <td>bt_7_8</td>\n",
       "      <td>unhealthy</td>\n",
       "      <td>b.com</td>\n",
       "      <td>yes</td>\n",
       "      <td>no</td>\n",
       "    </tr>\n",
       "    <tr>\n",
       "      <th>22316</th>\n",
       "      <td>female</td>\n",
       "      <td>patna</td>\n",
       "      <td>student</td>\n",
       "      <td>lt_5</td>\n",
       "      <td>unhealthy</td>\n",
       "      <td>msc</td>\n",
       "      <td>yes</td>\n",
       "      <td>yes</td>\n",
       "    </tr>\n",
       "    <tr>\n",
       "      <th>22317</th>\n",
       "      <td>male</td>\n",
       "      <td>lucknow</td>\n",
       "      <td>student</td>\n",
       "      <td>bt_7_8</td>\n",
       "      <td>healthy</td>\n",
       "      <td>b.arch</td>\n",
       "      <td>yes</td>\n",
       "      <td>yes</td>\n",
       "    </tr>\n",
       "    <tr>\n",
       "      <th>22318</th>\n",
       "      <td>female</td>\n",
       "      <td>kolkata</td>\n",
       "      <td>student</td>\n",
       "      <td>bt_5_6</td>\n",
       "      <td>unhealthy</td>\n",
       "      <td>md</td>\n",
       "      <td>yes</td>\n",
       "      <td>no</td>\n",
       "    </tr>\n",
       "    <tr>\n",
       "      <th>22319</th>\n",
       "      <td>female</td>\n",
       "      <td>thane</td>\n",
       "      <td>student</td>\n",
       "      <td>bt_5_6</td>\n",
       "      <td>healthy</td>\n",
       "      <td>b.ed</td>\n",
       "      <td>no</td>\n",
       "      <td>yes</td>\n",
       "    </tr>\n",
       "  </tbody>\n",
       "</table>\n",
       "<p>22320 rows × 8 columns</p>\n",
       "</div>"
      ],
      "text/plain": [
       "       gender       city profession sleep_duration dietary_habits      degree  \\\n",
       "0        male     jaipur    student         bt_7_8       moderate  'class 12'   \n",
       "1        male   vadodara    student         bt_7_8       moderate      b.arch   \n",
       "2        male  ahmedabad    student         bt_7_8      unhealthy        m.ed   \n",
       "3        male     bhopal    student         bt_7_8       moderate       b.com   \n",
       "4        male      patna    student         bt_5_6      unhealthy       b.com   \n",
       "...       ...        ...        ...            ...            ...         ...   \n",
       "22315    male    kolkata    student         bt_7_8      unhealthy       b.com   \n",
       "22316  female      patna    student           lt_5      unhealthy         msc   \n",
       "22317    male    lucknow    student         bt_7_8        healthy      b.arch   \n",
       "22318  female    kolkata    student         bt_5_6      unhealthy          md   \n",
       "22319  female      thane    student         bt_5_6        healthy        b.ed   \n",
       "\n",
       "      suicidal_thoughts family_history  \n",
       "0                   yes             no  \n",
       "1                    no            yes  \n",
       "2                   yes            yes  \n",
       "3                   yes             no  \n",
       "4                    no             no  \n",
       "...                 ...            ...  \n",
       "22315               yes             no  \n",
       "22316               yes            yes  \n",
       "22317               yes            yes  \n",
       "22318               yes             no  \n",
       "22319                no            yes  \n",
       "\n",
       "[22320 rows x 8 columns]"
      ]
     },
     "execution_count": 22,
     "metadata": {},
     "output_type": "execute_result"
    }
   ],
   "source": [
    "updated_categories = clean_sleep_duration_fn(updated_categories)\n",
    "updated_categories = map_sleep_duration_fn(updated_categories)\n",
    "updated_categories"
   ]
  },
  {
   "cell_type": "markdown",
   "id": "fb34c76a",
   "metadata": {},
   "source": [
    "### Preprocessing Dietary Habits"
   ]
  },
  {
   "cell_type": "code",
   "execution_count": 23,
   "id": "e75d8a4f",
   "metadata": {},
   "outputs": [
    {
     "data": {
      "application/vnd.microsoft.datawrangler.viewer.v0+json": {
       "columns": [
        {
         "name": "dietary_habits",
         "rawType": "object",
         "type": "string"
        },
        {
         "name": "count",
         "rawType": "int64",
         "type": "integer"
        }
       ],
       "ref": "5693957e-e22d-4206-966b-d6d0aa50319b",
       "rows": [
        [
         "unhealthy",
         "8265"
        ],
        [
         "moderate",
         "7898"
        ],
        [
         "healthy",
         "6149"
        ],
        [
         "others",
         "8"
        ]
       ],
       "shape": {
        "columns": 1,
        "rows": 4
       }
      },
      "text/plain": [
       "dietary_habits\n",
       "unhealthy    8265\n",
       "moderate     7898\n",
       "healthy      6149\n",
       "others          8\n",
       "Name: count, dtype: int64"
      ]
     },
     "execution_count": 23,
     "metadata": {},
     "output_type": "execute_result"
    }
   ],
   "source": [
    "updated_categories[\"dietary_habits\"].value_counts()"
   ]
  },
  {
   "cell_type": "markdown",
   "id": "6b6a79ca",
   "metadata": {},
   "source": [
    "* This looks straight forward, we can OneHot/Ordinal encoder to encode them \n",
    "* Even here we can merge `other` with `unhealthy` since the sample size is very small"
   ]
  },
  {
   "cell_type": "code",
   "execution_count": 24,
   "id": "fbf04e06",
   "metadata": {},
   "outputs": [
    {
     "data": {
      "text/plain": [
       "array(['dietary_habits_pipeline__dietary_habits_healthy',\n",
       "       'dietary_habits_pipeline__dietary_habits_moderate',\n",
       "       'dietary_habits_pipeline__dietary_habits_unhealthy'], dtype=object)"
      ]
     },
     "execution_count": 24,
     "metadata": {},
     "output_type": "execute_result"
    }
   ],
   "source": [
    "# helper function to map dietary habits 'other' value to unhealthy\n",
    "def map_dietary_habits_fn(df):\n",
    "    if not isinstance(df, pd.DataFrame):\n",
    "        raise ValueError(\"Input must be a pandas DataFrame\")\n",
    "    df_copy = df.copy()\n",
    "    df_copy.loc[df_copy[\"dietary_habits\"] == \"others\",\"dietary_habits\"] = \"unhealthy\"\n",
    "    return df_copy\n",
    "\n",
    "\n",
    "map_dietary_habits = FunctionTransformer(\n",
    "    map_dietary_habits_fn, feature_names_out=\"one-to-one\")\n",
    "\n",
    "\n",
    "def make_dietary_habits_pipeline_fn(encoding='onehot'):\n",
    "    steps = [\n",
    "        (\"default_cat_pipeline\", default_cat_pipeline),\n",
    "        (\"dietary_habits_mapping\", map_dietary_habits)\n",
    "    ]\n",
    "\n",
    "    if encoding == \"onehot\":\n",
    "        steps.append((\"encoder\", OneHotEncoder(\n",
    "            sparse_output=False, handle_unknown=\"ignore\")))\n",
    "    elif encoding == \"ordinal\":\n",
    "        steps.append((\"encoder\", OrdinalEncoder(categories=[[\n",
    "            \"unhealthy\", \"moderate\", \"healthy\"\n",
    "        ]], handle_unknown=\"use_encoded_value\", unknown_value=-1)))\n",
    "    else:\n",
    "        raise ValueError(\"Invalid encoding type: choose 'onehot' or 'ordinal'\")\n",
    "    return Pipeline(steps=steps)\n",
    "\n",
    "preprocess_dietary_habits = ColumnTransformer([(\n",
    "    \"dietary_habits_pipeline\", make_dietary_habits_pipeline_fn(encoding=\"onehot\"), [\n",
    "        \"dietary_habits\"]\n",
    ")])\n",
    "\n",
    "temp = preprocess_dietary_habits.fit_transform(X_train)\n",
    "preprocess_dietary_habits.get_feature_names_out()"
   ]
  },
  {
   "cell_type": "markdown",
   "id": "fbe9a2d5",
   "metadata": {},
   "source": [
    "* Lets update the category values for exploration"
   ]
  },
  {
   "cell_type": "code",
   "execution_count": 25,
   "id": "dfe6ee64",
   "metadata": {},
   "outputs": [
    {
     "data": {
      "application/vnd.microsoft.datawrangler.viewer.v0+json": {
       "columns": [
        {
         "name": "dietary_habits",
         "rawType": "object",
         "type": "string"
        },
        {
         "name": "count",
         "rawType": "int64",
         "type": "integer"
        }
       ],
       "ref": "b69960f2-da12-4611-b701-38672f1d7334",
       "rows": [
        [
         "unhealthy",
         "8273"
        ],
        [
         "moderate",
         "7898"
        ],
        [
         "healthy",
         "6149"
        ]
       ],
       "shape": {
        "columns": 1,
        "rows": 3
       }
      },
      "text/plain": [
       "dietary_habits\n",
       "unhealthy    8273\n",
       "moderate     7898\n",
       "healthy      6149\n",
       "Name: count, dtype: int64"
      ]
     },
     "execution_count": 25,
     "metadata": {},
     "output_type": "execute_result"
    }
   ],
   "source": [
    "updated_categories = map_dietary_habits_fn(updated_categories)\n",
    "updated_categories[\"dietary_habits\"].value_counts()"
   ]
  },
  {
   "cell_type": "markdown",
   "id": "471fa596",
   "metadata": {},
   "source": [
    "### Preprocessing Degree "
   ]
  },
  {
   "cell_type": "code",
   "execution_count": 26,
   "id": "2fa4534e",
   "metadata": {},
   "outputs": [
    {
     "data": {
      "application/vnd.microsoft.datawrangler.viewer.v0+json": {
       "columns": [
        {
         "name": "degree",
         "rawType": "object",
         "type": "string"
        },
        {
         "name": "count",
         "rawType": "int64",
         "type": "integer"
        }
       ],
       "ref": "455ed78e-8cf1-4382-921b-55538c6d3106",
       "rows": [
        [
         "'class 12'",
         "4808"
        ],
        [
         "b.ed",
         "1487"
        ],
        [
         "b.com",
         "1193"
        ],
        [
         "b.arch",
         "1183"
        ],
        [
         "bca",
         "1132"
        ],
        [
         "msc",
         "968"
        ],
        [
         "b.tech",
         "931"
        ],
        [
         "mca",
         "830"
        ],
        [
         "m.tech",
         "816"
        ],
        [
         "bhm",
         "743"
        ],
        [
         "bsc",
         "719"
        ],
        [
         "m.ed",
         "672"
        ],
        [
         "b.pharm",
         "654"
        ],
        [
         "m.com",
         "590"
        ],
        [
         "bba",
         "563"
        ],
        [
         "mbbs",
         "562"
        ],
        [
         "llb",
         "529"
        ],
        [
         "be",
         "485"
        ],
        [
         "m.pharm",
         "478"
        ],
        [
         "ba",
         "477"
        ],
        [
         "md",
         "473"
        ],
        [
         "mba",
         "455"
        ],
        [
         "ma",
         "445"
        ],
        [
         "phd",
         "432"
        ],
        [
         "llm",
         "380"
        ],
        [
         "me",
         "143"
        ],
        [
         "mhm",
         "142"
        ],
        [
         "others",
         "30"
        ]
       ],
       "shape": {
        "columns": 1,
        "rows": 28
       }
      },
      "text/plain": [
       "degree\n",
       "'class 12'    4808\n",
       "b.ed          1487\n",
       "b.com         1193\n",
       "b.arch        1183\n",
       "bca           1132\n",
       "msc            968\n",
       "b.tech         931\n",
       "mca            830\n",
       "m.tech         816\n",
       "bhm            743\n",
       "bsc            719\n",
       "m.ed           672\n",
       "b.pharm        654\n",
       "m.com          590\n",
       "bba            563\n",
       "mbbs           562\n",
       "llb            529\n",
       "be             485\n",
       "m.pharm        478\n",
       "ba             477\n",
       "md             473\n",
       "mba            455\n",
       "ma             445\n",
       "phd            432\n",
       "llm            380\n",
       "me             143\n",
       "mhm            142\n",
       "others          30\n",
       "Name: count, dtype: int64"
      ]
     },
     "execution_count": 26,
     "metadata": {},
     "output_type": "execute_result"
    }
   ],
   "source": [
    "updated_categories[\"degree\"].value_counts()"
   ]
  },
  {
   "cell_type": "markdown",
   "id": "67944d60",
   "metadata": {},
   "source": [
    "* This is going to be a tricky one, but thanks to ChatGPT we have a dictionary mapping degree to field and level. \n",
    "* Here is the plan for the pipeline,\n",
    "    * Step 1: Clean the values which might have \"'\" around them .\n",
    "    * Step 2: Create two new fields degree_field and degree_level and update the values based on dictionary mapping below. We'll also use this for data exploration\n",
    "    * Step 3: Create a one hot encoding function degree_field\n",
    "    * Step 4: Create a generic encoding function (one hot or ordinal) for degree level (unknown < high_school < bachelor < master < doctorate). Anything else is -1"
   ]
  },
  {
   "cell_type": "code",
   "execution_count": 27,
   "id": "33946f9a",
   "metadata": {},
   "outputs": [],
   "source": [
    "degree_mapping_dict = {\n",
    "    \"class 12\":     {\"field\": \"school\",      \"level\": \"high_school\"},\n",
    "\n",
    "    # Commerce & Business\n",
    "    \"b.com\":        {\"field\": \"commerce\",    \"level\": \"bachelor\"},\n",
    "    \"m.com\":        {\"field\": \"commerce\",    \"level\": \"master\"},\n",
    "    \"bba\":          {\"field\": \"business\",    \"level\": \"bachelor\"},\n",
    "    \"mba\":          {\"field\": \"business\",    \"level\": \"master\"},\n",
    "\n",
    "    # Engineering & Tech\n",
    "    \"b.tech\":       {\"field\": \"engineering\", \"level\": \"bachelor\"},\n",
    "    \"be\":           {\"field\": \"engineering\", \"level\": \"bachelor\"},\n",
    "    \"b.arch\":       {\"field\": \"architecture\",\"level\": \"bachelor\"},\n",
    "    \"me\":           {\"field\": \"engineering\", \"level\": \"master\"},\n",
    "    \"m.tech\":       {\"field\": \"engineering\", \"level\": \"master\"},\n",
    "\n",
    "    # Science & CS\n",
    "    \"bsc\":          {\"field\": \"science\",     \"level\": \"bachelor\"},\n",
    "    \"msc\":          {\"field\": \"science\",     \"level\": \"master\"},\n",
    "    \"bca\":          {\"field\": \"computer_app\",\"level\": \"bachelor\"},\n",
    "    \"mca\":          {\"field\": \"computer_app\",\"level\": \"master\"},\n",
    "\n",
    "    # Education\n",
    "    \"b.ed\":         {\"field\": \"education\",   \"level\": \"bachelor\"},\n",
    "    \"m.ed\":         {\"field\": \"education\",   \"level\": \"master\"},\n",
    "\n",
    "    # Medical\n",
    "    \"mbbs\":         {\"field\": \"medical\",     \"level\": \"bachelor\"},\n",
    "    \"md\":           {\"field\": \"medical\",     \"level\": \"master\"},  # Technically PG, but aligned here\n",
    "    \"b.pharm\":      {\"field\": \"pharmacy\",    \"level\": \"bachelor\"},\n",
    "    \"m.pharm\":      {\"field\": \"pharmacy\",    \"level\": \"master\"},\n",
    "\n",
    "    # Law\n",
    "    \"llb\":          {\"field\": \"law\",         \"level\": \"bachelor\"},\n",
    "    \"llm\":          {\"field\": \"law\",         \"level\": \"master\"},\n",
    "\n",
    "    # Hospitality\n",
    "    \"bhm\":          {\"field\": \"hospitality\", \"level\": \"bachelor\"},\n",
    "    \"mhm\":          {\"field\": \"hospitality\", \"level\": \"master\"},\n",
    "\n",
    "    # Arts\n",
    "    \"ba\":           {\"field\": \"arts\",        \"level\": \"bachelor\"},\n",
    "    \"ma\":           {\"field\": \"arts\",        \"level\": \"master\"},\n",
    "\n",
    "    # Research\n",
    "    \"phd\":          {\"field\": \"research\",    \"level\": \"doctorate\"},\n",
    "\n",
    "    # Other\n",
    "    \"others\":       {\"field\": \"unknown\",     \"level\": \"unknown\"}\n",
    "}"
   ]
  },
  {
   "cell_type": "code",
   "execution_count": 28,
   "id": "f894df73",
   "metadata": {},
   "outputs": [
    {
     "data": {
      "text/plain": [
       "array(['degree_pipeline__encode_degree_field__degree_field_architecture',\n",
       "       'degree_pipeline__encode_degree_field__degree_field_arts',\n",
       "       'degree_pipeline__encode_degree_field__degree_field_business',\n",
       "       'degree_pipeline__encode_degree_field__degree_field_commerce',\n",
       "       'degree_pipeline__encode_degree_field__degree_field_computer_app',\n",
       "       'degree_pipeline__encode_degree_field__degree_field_education',\n",
       "       'degree_pipeline__encode_degree_field__degree_field_engineering',\n",
       "       'degree_pipeline__encode_degree_field__degree_field_hospitality',\n",
       "       'degree_pipeline__encode_degree_field__degree_field_law',\n",
       "       'degree_pipeline__encode_degree_field__degree_field_medical',\n",
       "       'degree_pipeline__encode_degree_field__degree_field_pharmacy',\n",
       "       'degree_pipeline__encode_degree_field__degree_field_research',\n",
       "       'degree_pipeline__encode_degree_field__degree_field_school',\n",
       "       'degree_pipeline__encode_degree_field__degree_field_science',\n",
       "       'degree_pipeline__encode_degree_field__degree_field_unknown',\n",
       "       'degree_pipeline__encode_degree_level__degree_level_bachelor',\n",
       "       'degree_pipeline__encode_degree_level__degree_level_doctorate',\n",
       "       'degree_pipeline__encode_degree_level__degree_level_high_school',\n",
       "       'degree_pipeline__encode_degree_level__degree_level_master',\n",
       "       'degree_pipeline__encode_degree_level__degree_level_unknown'],\n",
       "      dtype=object)"
      ]
     },
     "execution_count": 28,
     "metadata": {},
     "output_type": "execute_result"
    }
   ],
   "source": [
    "# helper function to clean up degree column\n",
    "def clean_degree_fn(df):\n",
    "    if not isinstance(df, pd.DataFrame):\n",
    "        raise ValueError(\n",
    "            \"degree_clean_fn : Input must be a pandas DataFrame\")\n",
    "    df_copy = df.copy()\n",
    "    df_copy[\"degree\"] = df_copy[\"degree\"].str.strip(\"'\")\n",
    "    return df_copy\n",
    "\n",
    "\n",
    "clean_degree = FunctionTransformer(\n",
    "    clean_degree_fn, feature_names_out=\"one-to-one\")\n",
    "\n",
    "\n",
    "def map_degree_feature_names(function_transformer, feature_names_in):\n",
    "    features_out = feature_names_in.tolist()\n",
    "    features_out.extend([\"degree_field\", \"degree_level\"])\n",
    "    return features_out\n",
    "\n",
    "# helper funtion to map degree to degree_field and degree_level\n",
    "def map_field(val):\n",
    "    return degree_mapping_dict.get(val, {}).get(\"field\", \"unknown\")\n",
    "\n",
    "def map_level(val):\n",
    "    return degree_mapping_dict.get(val, {}).get(\"level\", \"unknown\")\n",
    "\n",
    "\n",
    "def map_degree_fn(df):\n",
    "    if not isinstance(df, pd.DataFrame):\n",
    "        raise ValueError(\"degree_mapping_fn: Input must be a pandas DataFrame\")\n",
    "    df_copy = df.copy()\n",
    "    df_copy[\"degree_field\"] = df_copy[\"degree\"].map(map_field)\n",
    "    df_copy[\"degree_level\"] = df_copy[\"degree\"].map(map_level)\n",
    "    return df_copy\n",
    "\n",
    "\n",
    "map_degree = FunctionTransformer(\n",
    "    map_degree_fn, feature_names_out=map_degree_feature_names)\n",
    "\n",
    "# helper function to create a column transformer to encode degree_field and degree_level fields.\n",
    "\n",
    "\n",
    "def make_degree_encoder(encoding=\"onehot\"):\n",
    "    degree_level_encoder = OneHotEncoder(\n",
    "        handle_unknown=\"ignore\", sparse_output=False)\n",
    "    \n",
    "    if encoding == \"ordinal\":\n",
    "        degree_level_encoder = OrdinalEncoder(categories=[[\n",
    "            \"unknown\", \"high_school\", \"bachelor\", \"master\", \"doctorate\"\n",
    "        ]], handle_unknown=\"use_encoded_value\", unknown_value=-1)\n",
    "\n",
    "    return ColumnTransformer([\n",
    "        (\"encode_degree_field\", OneHotEncoder(handle_unknown=\"ignore\", sparse_output=False), [\"degree_field\"]),\n",
    "        (\"encode_degree_level\", degree_level_encoder, [\"degree_level\"])\n",
    "    ])\n",
    "\n",
    "\n",
    "# testing basic pipeline\n",
    "degree_pipeline = Pipeline([\n",
    "    (\"default_cat_pipeline\", default_cat_pipeline),\n",
    "    (\"clean\", clean_degree),\n",
    "    (\"mapping\", map_degree),\n",
    "    (\"encode_degree\",make_degree_encoder())\n",
    "])\n",
    "\n",
    "preprocess_degree = ColumnTransformer([\n",
    "    (\"degree_pipeline\", degree_pipeline, [\"degree\"])\n",
    "])\n",
    "temp = preprocess_degree.fit_transform(X_train)\n",
    "preprocess_degree.get_feature_names_out()"
   ]
  },
  {
   "cell_type": "markdown",
   "id": "dc53150f",
   "metadata": {},
   "source": [
    "* Lets clean and create the degree mapping columns for data exploration"
   ]
  },
  {
   "cell_type": "code",
   "execution_count": 29,
   "id": "4bd0ac00",
   "metadata": {},
   "outputs": [
    {
     "data": {
      "application/vnd.microsoft.datawrangler.viewer.v0+json": {
       "columns": [
        {
         "name": "index",
         "rawType": "int64",
         "type": "integer"
        },
        {
         "name": "gender",
         "rawType": "object",
         "type": "string"
        },
        {
         "name": "city",
         "rawType": "object",
         "type": "string"
        },
        {
         "name": "profession",
         "rawType": "object",
         "type": "string"
        },
        {
         "name": "sleep_duration",
         "rawType": "object",
         "type": "string"
        },
        {
         "name": "dietary_habits",
         "rawType": "object",
         "type": "string"
        },
        {
         "name": "degree",
         "rawType": "object",
         "type": "string"
        },
        {
         "name": "suicidal_thoughts",
         "rawType": "object",
         "type": "string"
        },
        {
         "name": "family_history",
         "rawType": "object",
         "type": "string"
        },
        {
         "name": "degree_field",
         "rawType": "object",
         "type": "string"
        },
        {
         "name": "degree_level",
         "rawType": "object",
         "type": "string"
        }
       ],
       "ref": "343f9e5b-c0c7-4bf3-8be3-c75a7d2599aa",
       "rows": [
        [
         "0",
         "male",
         "jaipur",
         "student",
         "bt_7_8",
         "moderate",
         "class 12",
         "yes",
         "no",
         "school",
         "high_school"
        ],
        [
         "1",
         "male",
         "vadodara",
         "student",
         "bt_7_8",
         "moderate",
         "b.arch",
         "no",
         "yes",
         "architecture",
         "bachelor"
        ],
        [
         "2",
         "male",
         "ahmedabad",
         "student",
         "bt_7_8",
         "unhealthy",
         "m.ed",
         "yes",
         "yes",
         "education",
         "master"
        ],
        [
         "3",
         "male",
         "bhopal",
         "student",
         "bt_7_8",
         "moderate",
         "b.com",
         "yes",
         "no",
         "commerce",
         "bachelor"
        ],
        [
         "4",
         "male",
         "patna",
         "student",
         "bt_5_6",
         "unhealthy",
         "b.com",
         "no",
         "no",
         "commerce",
         "bachelor"
        ]
       ],
       "shape": {
        "columns": 10,
        "rows": 5
       }
      },
      "text/html": [
       "<div>\n",
       "<style scoped>\n",
       "    .dataframe tbody tr th:only-of-type {\n",
       "        vertical-align: middle;\n",
       "    }\n",
       "\n",
       "    .dataframe tbody tr th {\n",
       "        vertical-align: top;\n",
       "    }\n",
       "\n",
       "    .dataframe thead th {\n",
       "        text-align: right;\n",
       "    }\n",
       "</style>\n",
       "<table border=\"1\" class=\"dataframe\">\n",
       "  <thead>\n",
       "    <tr style=\"text-align: right;\">\n",
       "      <th></th>\n",
       "      <th>gender</th>\n",
       "      <th>city</th>\n",
       "      <th>profession</th>\n",
       "      <th>sleep_duration</th>\n",
       "      <th>dietary_habits</th>\n",
       "      <th>degree</th>\n",
       "      <th>suicidal_thoughts</th>\n",
       "      <th>family_history</th>\n",
       "      <th>degree_field</th>\n",
       "      <th>degree_level</th>\n",
       "    </tr>\n",
       "  </thead>\n",
       "  <tbody>\n",
       "    <tr>\n",
       "      <th>0</th>\n",
       "      <td>male</td>\n",
       "      <td>jaipur</td>\n",
       "      <td>student</td>\n",
       "      <td>bt_7_8</td>\n",
       "      <td>moderate</td>\n",
       "      <td>class 12</td>\n",
       "      <td>yes</td>\n",
       "      <td>no</td>\n",
       "      <td>school</td>\n",
       "      <td>high_school</td>\n",
       "    </tr>\n",
       "    <tr>\n",
       "      <th>1</th>\n",
       "      <td>male</td>\n",
       "      <td>vadodara</td>\n",
       "      <td>student</td>\n",
       "      <td>bt_7_8</td>\n",
       "      <td>moderate</td>\n",
       "      <td>b.arch</td>\n",
       "      <td>no</td>\n",
       "      <td>yes</td>\n",
       "      <td>architecture</td>\n",
       "      <td>bachelor</td>\n",
       "    </tr>\n",
       "    <tr>\n",
       "      <th>2</th>\n",
       "      <td>male</td>\n",
       "      <td>ahmedabad</td>\n",
       "      <td>student</td>\n",
       "      <td>bt_7_8</td>\n",
       "      <td>unhealthy</td>\n",
       "      <td>m.ed</td>\n",
       "      <td>yes</td>\n",
       "      <td>yes</td>\n",
       "      <td>education</td>\n",
       "      <td>master</td>\n",
       "    </tr>\n",
       "    <tr>\n",
       "      <th>3</th>\n",
       "      <td>male</td>\n",
       "      <td>bhopal</td>\n",
       "      <td>student</td>\n",
       "      <td>bt_7_8</td>\n",
       "      <td>moderate</td>\n",
       "      <td>b.com</td>\n",
       "      <td>yes</td>\n",
       "      <td>no</td>\n",
       "      <td>commerce</td>\n",
       "      <td>bachelor</td>\n",
       "    </tr>\n",
       "    <tr>\n",
       "      <th>4</th>\n",
       "      <td>male</td>\n",
       "      <td>patna</td>\n",
       "      <td>student</td>\n",
       "      <td>bt_5_6</td>\n",
       "      <td>unhealthy</td>\n",
       "      <td>b.com</td>\n",
       "      <td>no</td>\n",
       "      <td>no</td>\n",
       "      <td>commerce</td>\n",
       "      <td>bachelor</td>\n",
       "    </tr>\n",
       "  </tbody>\n",
       "</table>\n",
       "</div>"
      ],
      "text/plain": [
       "  gender       city profession sleep_duration dietary_habits    degree  \\\n",
       "0   male     jaipur    student         bt_7_8       moderate  class 12   \n",
       "1   male   vadodara    student         bt_7_8       moderate    b.arch   \n",
       "2   male  ahmedabad    student         bt_7_8      unhealthy      m.ed   \n",
       "3   male     bhopal    student         bt_7_8       moderate     b.com   \n",
       "4   male      patna    student         bt_5_6      unhealthy     b.com   \n",
       "\n",
       "  suicidal_thoughts family_history  degree_field degree_level  \n",
       "0               yes             no        school  high_school  \n",
       "1                no            yes  architecture     bachelor  \n",
       "2               yes            yes     education       master  \n",
       "3               yes             no      commerce     bachelor  \n",
       "4                no             no      commerce     bachelor  "
      ]
     },
     "execution_count": 29,
     "metadata": {},
     "output_type": "execute_result"
    }
   ],
   "source": [
    "updated_categories = clean_degree_fn(updated_categories)\n",
    "updated_categories = map_degree_fn(updated_categories)\n",
    "updated_categories.head()"
   ]
  },
  {
   "cell_type": "markdown",
   "id": "ad2171e1",
   "metadata": {},
   "source": [
    "### Preprocessing Suicidal Thoughts Column"
   ]
  },
  {
   "cell_type": "code",
   "execution_count": 30,
   "id": "83a6d0bb",
   "metadata": {},
   "outputs": [
    {
     "data": {
      "application/vnd.microsoft.datawrangler.viewer.v0+json": {
       "columns": [
        {
         "name": "suicidal_thoughts",
         "rawType": "object",
         "type": "string"
        },
        {
         "name": "count",
         "rawType": "int64",
         "type": "integer"
        }
       ],
       "ref": "a6446f8c-371a-49c8-9db4-af74fe4eb060",
       "rows": [
        [
         "yes",
         "14133"
        ],
        [
         "no",
         "8187"
        ]
       ],
       "shape": {
        "columns": 1,
        "rows": 2
       }
      },
      "text/plain": [
       "suicidal_thoughts\n",
       "yes    14133\n",
       "no      8187\n",
       "Name: count, dtype: int64"
      ]
     },
     "execution_count": 30,
     "metadata": {},
     "output_type": "execute_result"
    }
   ],
   "source": [
    "updated_categories[\"suicidal_thoughts\"].value_counts()"
   ]
  },
  {
   "cell_type": "markdown",
   "id": "720286f6",
   "metadata": {},
   "source": [
    "* This seems straight forward, and data seems clean enough. We can simply one hot encode this column"
   ]
  },
  {
   "cell_type": "code",
   "execution_count": 31,
   "id": "2f4e3c47",
   "metadata": {},
   "outputs": [
    {
     "data": {
      "text/plain": [
       "array(['suicidal_thoughts_pipeline__suicidal_thoughts_no',\n",
       "       'suicidal_thoughts_pipeline__suicidal_thoughts_yes'], dtype=object)"
      ]
     },
     "execution_count": 31,
     "metadata": {},
     "output_type": "execute_result"
    }
   ],
   "source": [
    "suicidal_thoughts_pipeline = Pipeline([\n",
    "    (\"default_cat_pipeline\", default_cat_pipeline),\n",
    "    (\"suididal_thoughts_encoding\", OneHotEncoder(\n",
    "        handle_unknown=\"ignore\", sparse_output=False))\n",
    "])\n",
    "\n",
    "preprocess_suicidal_thoughts = ColumnTransformer(\n",
    "    [(\n",
    "        \"suicidal_thoughts_pipeline\", suicidal_thoughts_pipeline,[\"suicidal_thoughts\"]\n",
    "    )]\n",
    ")\n",
    "\n",
    "temp = preprocess_suicidal_thoughts.fit_transform(X_train)\n",
    "preprocess_suicidal_thoughts.get_feature_names_out()"
   ]
  },
  {
   "cell_type": "markdown",
   "id": "a83ffb60",
   "metadata": {},
   "source": [
    "### Preprocessing Family History Column"
   ]
  },
  {
   "cell_type": "code",
   "execution_count": 32,
   "id": "5cfe3370",
   "metadata": {},
   "outputs": [
    {
     "data": {
      "application/vnd.microsoft.datawrangler.viewer.v0+json": {
       "columns": [
        {
         "name": "family_history",
         "rawType": "object",
         "type": "string"
        },
        {
         "name": "count",
         "rawType": "int64",
         "type": "integer"
        }
       ],
       "ref": "0244cded-1963-4501-840e-8fc54e78bc42",
       "rows": [
        [
         "no",
         "11517"
        ],
        [
         "yes",
         "10803"
        ]
       ],
       "shape": {
        "columns": 1,
        "rows": 2
       }
      },
      "text/plain": [
       "family_history\n",
       "no     11517\n",
       "yes    10803\n",
       "Name: count, dtype: int64"
      ]
     },
     "execution_count": 32,
     "metadata": {},
     "output_type": "execute_result"
    }
   ],
   "source": [
    "updated_categories[\"family_history\"].value_counts()"
   ]
  },
  {
   "cell_type": "markdown",
   "id": "8b1de7fb",
   "metadata": {},
   "source": [
    "* Even this seems straight forward a simple one hot encoding should make this column ready for training. "
   ]
  },
  {
   "cell_type": "code",
   "execution_count": 33,
   "id": "b64d6cf8",
   "metadata": {},
   "outputs": [
    {
     "data": {
      "text/plain": [
       "array(['family_history_pipeline__family_history_no',\n",
       "       'family_history_pipeline__family_history_yes'], dtype=object)"
      ]
     },
     "execution_count": 33,
     "metadata": {},
     "output_type": "execute_result"
    }
   ],
   "source": [
    "family_history_pipeline = Pipeline([\n",
    "    (\"default_cat_pipeline\", default_cat_pipeline),\n",
    "    (\"family_history_encoding\", OneHotEncoder(\n",
    "        handle_unknown=\"ignore\", sparse_output=False))\n",
    "])\n",
    "\n",
    "preprocess_family_history = ColumnTransformer(\n",
    "    [(\n",
    "        \"family_history_pipeline\", family_history_pipeline,[\"family_history\"]\n",
    "    )]\n",
    ")\n",
    "\n",
    "temp = preprocess_family_history.fit_transform(X_train)\n",
    "preprocess_family_history.get_feature_names_out()"
   ]
  },
  {
   "cell_type": "markdown",
   "id": "5fad6047",
   "metadata": {},
   "source": [
    "### Preprocessing City column"
   ]
  },
  {
   "cell_type": "code",
   "execution_count": 34,
   "id": "78dc2fe1",
   "metadata": {},
   "outputs": [
    {
     "data": {
      "application/vnd.microsoft.datawrangler.viewer.v0+json": {
       "columns": [
        {
         "name": "city",
         "rawType": "object",
         "type": "string"
        },
        {
         "name": "count",
         "rawType": "int64",
         "type": "integer"
        }
       ],
       "ref": "6a8f2489-c364-47ee-8864-3c4bbdc21781",
       "rows": [
        [
         "kalyan",
         "1284"
        ],
        [
         "srinagar",
         "1073"
        ],
        [
         "hyderabad",
         "1063"
        ],
        [
         "vasai-virar",
         "1042"
        ],
        [
         "lucknow",
         "943"
        ],
        [
         "thane",
         "910"
        ],
        [
         "kolkata",
         "890"
        ],
        [
         "agra",
         "864"
        ],
        [
         "ludhiana",
         "848"
        ],
        [
         "surat",
         "842"
        ],
        [
         "jaipur",
         "840"
        ],
        [
         "patna",
         "823"
        ],
        [
         "visakhapatnam",
         "763"
        ],
        [
         "pune",
         "751"
        ],
        [
         "bhopal",
         "748"
        ],
        [
         "ahmedabad",
         "748"
        ],
        [
         "chennai",
         "707"
        ],
        [
         "meerut",
         "660"
        ],
        [
         "rajkot",
         "633"
        ],
        [
         "bangalore",
         "625"
        ],
        [
         "delhi",
         "602"
        ],
        [
         "ghaziabad",
         "588"
        ],
        [
         "mumbai",
         "563"
        ],
        [
         "vadodara",
         "561"
        ],
        [
         "varanasi",
         "550"
        ],
        [
         "nagpur",
         "533"
        ],
        [
         "indore",
         "519"
        ],
        [
         "kanpur",
         "493"
        ],
        [
         "nashik",
         "452"
        ],
        [
         "faridabad",
         "381"
        ],
        [
         "harsha",
         "2"
        ],
        [
         "bhavna",
         "2"
        ],
        [
         "saanvi",
         "2"
        ],
        [
         "city",
         "2"
        ],
        [
         "khaziabad",
         "1"
        ],
        [
         "m.com",
         "1"
        ],
        [
         "3.0",
         "1"
        ],
        [
         "harsh",
         "1"
        ],
        [
         "mihir",
         "1"
        ],
        [
         "'less delhi'",
         "1"
        ],
        [
         "gaurav",
         "1"
        ],
        [
         "nalyan",
         "1"
        ],
        [
         "nandini",
         "1"
        ],
        [
         "'less than 5 kalyan'",
         "1"
        ],
        [
         "reyansh",
         "1"
        ],
        [
         "m.tech",
         "1"
        ],
        [
         "mira",
         "1"
        ]
       ],
       "shape": {
        "columns": 1,
        "rows": 47
       }
      },
      "text/plain": [
       "city\n",
       "kalyan                  1284\n",
       "srinagar                1073\n",
       "hyderabad               1063\n",
       "vasai-virar             1042\n",
       "lucknow                  943\n",
       "thane                    910\n",
       "kolkata                  890\n",
       "agra                     864\n",
       "ludhiana                 848\n",
       "surat                    842\n",
       "jaipur                   840\n",
       "patna                    823\n",
       "visakhapatnam            763\n",
       "pune                     751\n",
       "bhopal                   748\n",
       "ahmedabad                748\n",
       "chennai                  707\n",
       "meerut                   660\n",
       "rajkot                   633\n",
       "bangalore                625\n",
       "delhi                    602\n",
       "ghaziabad                588\n",
       "mumbai                   563\n",
       "vadodara                 561\n",
       "varanasi                 550\n",
       "nagpur                   533\n",
       "indore                   519\n",
       "kanpur                   493\n",
       "nashik                   452\n",
       "faridabad                381\n",
       "harsha                     2\n",
       "bhavna                     2\n",
       "saanvi                     2\n",
       "city                       2\n",
       "khaziabad                  1\n",
       "m.com                      1\n",
       "3.0                        1\n",
       "harsh                      1\n",
       "mihir                      1\n",
       "'less delhi'               1\n",
       "gaurav                     1\n",
       "nalyan                     1\n",
       "nandini                    1\n",
       "'less than 5 kalyan'       1\n",
       "reyansh                    1\n",
       "m.tech                     1\n",
       "mira                       1\n",
       "Name: count, dtype: int64"
      ]
     },
     "execution_count": 34,
     "metadata": {},
     "output_type": "execute_result"
    }
   ],
   "source": [
    "updated_categories[\"city\"].value_counts()"
   ]
  },
  {
   "cell_type": "markdown",
   "id": "19dc5304",
   "metadata": {},
   "source": [
    "* So city column needs some clearning, \n",
    "    * There might be cities with special characters \"'\" that needs to be cleaned up.\n",
    "    * There are some values which are obviously not a city but rather distances, person names and education degree names. To fix this we'll use the master city dataset that has verified city names and lat/long info that we'll add as additional columns\n",
    "    * We'll also add a `is_valid_city` flag and for in valid city names we'll use `Nagpur` as default name and default lat/long as it is considered to be the geographical center of India. \n",
    "    * We don't need encoding for the city but rather we'll use cluster similarity to find the similarity between clusters. We **might** do that after some data exploration.  \n"
   ]
  },
  {
   "cell_type": "code",
   "execution_count": 35,
   "id": "6fde8593",
   "metadata": {},
   "outputs": [
    {
     "data": {
      "application/vnd.microsoft.datawrangler.viewer.v0+json": {
       "columns": [
        {
         "name": "index",
         "rawType": "int64",
         "type": "integer"
        },
        {
         "name": "name",
         "rawType": "object",
         "type": "string"
        },
        {
         "name": "ascii_name",
         "rawType": "object",
         "type": "string"
        },
        {
         "name": "lat",
         "rawType": "float64",
         "type": "float"
        },
        {
         "name": "long",
         "rawType": "float64",
         "type": "float"
        }
       ],
       "ref": "97624ba8-6802-43dd-aebf-c3d79d3cc8f2",
       "rows": [
        [
         "0",
         "#100 bed and breakfast",
         "#100 bed and breakfast",
         "12.98332",
         "77.58427"
        ],
        [
         "1",
         "10 calangute",
         "10 calangute",
         "15.54244",
         "73.76279"
        ],
        [
         "2",
         "100 feet hospital",
         "100 feet hospital",
         "19.38609",
         "72.82558"
        ],
        [
         "3",
         "12th avenue hotel",
         "12th avenue hotel",
         "12.97044",
         "77.64617"
        ],
        [
         "4",
         "1589 city mark hotel",
         "1589 city mark hotel",
         "28.46348",
         "77.03176"
        ]
       ],
       "shape": {
        "columns": 4,
        "rows": 5
       }
      },
      "text/html": [
       "<div>\n",
       "<style scoped>\n",
       "    .dataframe tbody tr th:only-of-type {\n",
       "        vertical-align: middle;\n",
       "    }\n",
       "\n",
       "    .dataframe tbody tr th {\n",
       "        vertical-align: top;\n",
       "    }\n",
       "\n",
       "    .dataframe thead th {\n",
       "        text-align: right;\n",
       "    }\n",
       "</style>\n",
       "<table border=\"1\" class=\"dataframe\">\n",
       "  <thead>\n",
       "    <tr style=\"text-align: right;\">\n",
       "      <th></th>\n",
       "      <th>name</th>\n",
       "      <th>ascii_name</th>\n",
       "      <th>lat</th>\n",
       "      <th>long</th>\n",
       "    </tr>\n",
       "  </thead>\n",
       "  <tbody>\n",
       "    <tr>\n",
       "      <th>0</th>\n",
       "      <td>#100 bed and breakfast</td>\n",
       "      <td>#100 bed and breakfast</td>\n",
       "      <td>12.98332</td>\n",
       "      <td>77.58427</td>\n",
       "    </tr>\n",
       "    <tr>\n",
       "      <th>1</th>\n",
       "      <td>10 calangute</td>\n",
       "      <td>10 calangute</td>\n",
       "      <td>15.54244</td>\n",
       "      <td>73.76279</td>\n",
       "    </tr>\n",
       "    <tr>\n",
       "      <th>2</th>\n",
       "      <td>100 feet hospital</td>\n",
       "      <td>100 feet hospital</td>\n",
       "      <td>19.38609</td>\n",
       "      <td>72.82558</td>\n",
       "    </tr>\n",
       "    <tr>\n",
       "      <th>3</th>\n",
       "      <td>12th avenue hotel</td>\n",
       "      <td>12th avenue hotel</td>\n",
       "      <td>12.97044</td>\n",
       "      <td>77.64617</td>\n",
       "    </tr>\n",
       "    <tr>\n",
       "      <th>4</th>\n",
       "      <td>1589 city mark hotel</td>\n",
       "      <td>1589 city mark hotel</td>\n",
       "      <td>28.46348</td>\n",
       "      <td>77.03176</td>\n",
       "    </tr>\n",
       "  </tbody>\n",
       "</table>\n",
       "</div>"
      ],
      "text/plain": [
       "                     name              ascii_name       lat      long\n",
       "0  #100 bed and breakfast  #100 bed and breakfast  12.98332  77.58427\n",
       "1            10 calangute            10 calangute  15.54244  73.76279\n",
       "2       100 feet hospital       100 feet hospital  19.38609  72.82558\n",
       "3       12th avenue hotel       12th avenue hotel  12.97044  77.64617\n",
       "4    1589 city mark hotel    1589 city mark hotel  28.46348  77.03176"
      ]
     },
     "execution_count": 35,
     "metadata": {},
     "output_type": "execute_result"
    }
   ],
   "source": [
    "## load the master city data\n",
    "## read master city list\n",
    "master_city_list = pd.read_csv(Path(data_dir,\"detailed_in.csv\"))\n",
    "\n",
    "\n",
    "## convert the city names to lower case\n",
    "# master_city_list[\"name\"] = master_city_list[\"name\"].str.strip().str.lower()\n",
    "# master_city_list[\"ascii_name\"] = master_city_list[\"ascii_name\"].str.strip().str.lower()\n",
    "\n",
    "# ## unicode normalization\n",
    "# master_city_list[\"name\"] = master_city_list[\"name\"].map(lambda ct: unicodedata.normalize(\"NFKD\",ct).encode(\"ascii\",\"ignore\").decode())\n",
    "# master_city_list[\"ascii_name\"] = master_city_list[\"ascii_name\"].map(lambda ct: unicodedata.normalize(\"NFKD\",ct).encode(\"ascii\",\"ignore\").decode())\n",
    "\n",
    "# X_train[\"city\"].map(lambda ct: unicodedata.normalize(\"NFKD\",ct).encode(\"ascii\",\"ignore\").decode())\n",
    "# master_cities = master_city_list[\"ascii_name\"].str.strip().str.lower().to_list()\n",
    "# master_cities[:5]\n",
    "master_city_list.head()"
   ]
  },
  {
   "cell_type": "code",
   "execution_count": 36,
   "id": "1bd90b19",
   "metadata": {},
   "outputs": [
    {
     "data": {
      "application/vnd.microsoft.datawrangler.viewer.v0+json": {
       "columns": [
        {
         "name": "ascii_name",
         "rawType": "object",
         "type": "string"
        },
        {
         "name": "count",
         "rawType": "int64",
         "type": "integer"
        }
       ],
       "ref": "044ec979-75bf-4fd3-8834-f26d59f70f67",
       "rows": [
        [
         "#100 bed and breakfast",
         "1"
        ],
        [
         "narayanpur mardan",
         "1"
        ],
        [
         "narayanpur majhari",
         "1"
        ],
        [
         "narayanpur main canal",
         "1"
        ],
        [
         "narayanpur mafi",
         "1"
        ],
        [
         "narayanpur lalak chaube",
         "1"
        ],
        [
         "narayanpur kola",
         "1"
        ],
        [
         "narayanpur khurd",
         "1"
        ],
        [
         "narayanpur khairi",
         "1"
        ],
        [
         "narayanpur katia",
         "1"
        ],
        [
         "narayanpur kalan",
         "1"
        ],
        [
         "narayanpur jungle",
         "1"
        ],
        [
         "narayanpur jai singh",
         "1"
        ],
        [
         "narayanpur inchha",
         "1"
        ],
        [
         "narayanpur hardo patti",
         "1"
        ],
        [
         "narayanpur har",
         "1"
        ],
        [
         "narayanpur grant",
         "1"
        ],
        [
         "narayanpur drain",
         "1"
        ],
        [
         "narayanpur distributary",
         "1"
        ],
        [
         "narayanpur dih",
         "1"
        ],
        [
         "narayanpur darhia",
         "1"
        ],
        [
         "narayanpur buzurg",
         "1"
        ],
        [
         "narayanpur block protected forest",
         "1"
        ],
        [
         "narayanpur manjha",
         "1"
        ],
        [
         "narayanpur minor",
         "1"
        ],
        [
         "narayanpur bhanupur",
         "1"
        ],
        [
         "narayanpur mustakli",
         "1"
        ],
        [
         "narayanpursal",
         "1"
        ],
        [
         "narayanpurpara",
         "1"
        ],
        [
         "narayanpuridha",
         "1"
        ],
        [
         "narayanpuri",
         "1"
        ],
        [
         "narayanpuram",
         "1"
        ],
        [
         "narayanpura reserved forest",
         "1"
        ],
        [
         "narayanpura",
         "1"
        ],
        [
         "narayanpur wali",
         "1"
        ],
        [
         "narayanpur tatwara reserved forest",
         "1"
        ],
        [
         "narayanpur tatwara railroad station",
         "1"
        ],
        [
         "narayanpur subdistributary",
         "1"
        ],
        [
         "narayanpur sahar",
         "1"
        ],
        [
         "narayanpur reserved forest",
         "1"
        ],
        [
         "narayanpur ratan",
         "1"
        ],
        [
         "narayanpur ramji",
         "1"
        ],
        [
         "narayanpur railroad station",
         "1"
        ],
        [
         "narayanpur pump canal",
         "1"
        ],
        [
         "narayanpur pande",
         "1"
        ],
        [
         "narayanpur pakaria",
         "1"
        ],
        [
         "narayanpur pahar",
         "1"
        ],
        [
         "narayanpur nankar",
         "1"
        ],
        [
         "narayanpur bisen",
         "1"
        ],
        [
         "narayanpur baska",
         "1"
        ]
       ],
       "shape": {
        "columns": 1,
        "rows": 407781
       }
      },
      "text/plain": [
       "ascii_name\n",
       "#100 bed and breakfast    1\n",
       "narayanpur mardan         1\n",
       "narayanpur majhari        1\n",
       "narayanpur main canal     1\n",
       "narayanpur mafi           1\n",
       "                         ..\n",
       "gyadal gondi              1\n",
       "gya                       1\n",
       "gwinai                    1\n",
       "gwilani                   1\n",
       "zuvvigunta                1\n",
       "Name: count, Length: 407781, dtype: int64"
      ]
     },
     "execution_count": 36,
     "metadata": {},
     "output_type": "execute_result"
    }
   ],
   "source": [
    "master_city_list[\"ascii_name\"].value_counts()"
   ]
  },
  {
   "cell_type": "code",
   "execution_count": 55,
   "id": "afcbfba5",
   "metadata": {},
   "outputs": [],
   "source": [
    "# helper function to clean up city column and remove special characters\n",
    "def clean_city_fn(df):\n",
    "    if not isinstance(df, pd.DataFrame):\n",
    "        raise ValueError(\n",
    "            \"degree_clean_fn : Input must be a pandas DataFrame\")\n",
    "    df_copy = df.copy()\n",
    "    df_copy[\"city\"] = df_copy[\"city\"].str.strip(\"'\")\n",
    "    return df_copy\n",
    "\n",
    "clean_city = FunctionTransformer(clean_city_fn, feature_names_out=\"one-to-one\")\n",
    "\n",
    "## helper function to rename old city names to new ones\n",
    "def rename_city_fn(df):\n",
    "    if not isinstance(df, pd.DataFrame):\n",
    "        raise ValueError(\n",
    "            \"degree_clean_fn : Input must be a pandas DataFrame\")\n",
    "    df_copy = df.copy()\n",
    "    df_copy.loc[df_copy[\"city\"] == \"vasai-virar\",\"city\"] = \"virar\"\n",
    "    df_copy.loc[df_copy[\"city\"] == \"bangalore\",\"city\"] = \"bengaluru\"\n",
    "    return df_copy\n",
    "\n",
    "rename_city = FunctionTransformer(rename_city_fn, feature_names_out=\"one-to-one\")\n",
    "\n",
    "# helper function that maps city names to default values of is_valid_city = 0, lat/long of Nagpur\n",
    "def map_city_feature_names(function_transformer, feature_names_in):\n",
    "    features_out = feature_names_in.tolist()\n",
    "    features_out.extend([\"is_valid_city\",\"lat\", \"long\"])\n",
    "    return features_out\n",
    "\n",
    "def map_city_fn(df):\n",
    "    if not isinstance(df, pd.DataFrame):\n",
    "        raise ValueError(\n",
    "            \"degree_clean_fn : Input must be a pandas DataFrame\")\n",
    "    df_copy = df.copy()\n",
    "    df_copy[\"is_valid_city\"] = 0\n",
    "    df_copy[\"lat\"] = 21.122615\n",
    "    df_copy[\"long\"] = 79.041124\n",
    "    return df_copy\n",
    "\n",
    "map_city = FunctionTransformer(map_city_fn, feature_names_out=map_city_feature_names)\n",
    "\n",
    "# helper function that compares and verifies the city name and if its a valid city then updates the lat/long value\n",
    "def map_city_data(city_name):\n",
    "    ## search for city name in master city lsit\n",
    "    city_data = master_city_list.loc[master_city_list[\"name\"] == city_name]\n",
    "    ## if city exists then return valid info\n",
    "    if city_data.shape[0] > 0:\n",
    "        return (1, city_data[\"lat\"].values[0],city_data[\"long\"].values[0])\n",
    "    ## if city doesn't exist the mark it as invalid and return default info\n",
    "    return 0,21.122615,79.041124\n",
    "\n",
    "def map_verify_city_feature_names(function_transformer, feature_names_in):\n",
    "    features_out = [\"is_valid_city\",\"lat\", \"long\"]\n",
    "    return features_out\n",
    "\n",
    "    \n",
    "def verify_city_fn(df):\n",
    "    if not isinstance(df, pd.DataFrame):\n",
    "        raise ValueError(\n",
    "            \"degree_clean_fn : Input must be a pandas DataFrame\")\n",
    "    df_copy = df.copy()\n",
    "    unique_cities = df_copy[\"city\"].unique()\n",
    "    for unique_city in unique_cities:\n",
    "        is_valid_city,lat,long = map_city_data(unique_city)\n",
    "        df_copy.loc[df_copy[\"city\"] == unique_city, \"is_valid_city\"] = is_valid_city\n",
    "        df_copy.loc[df_copy[\"city\"] == unique_city, \"lat\"] = lat\n",
    "        df_copy.loc[df_copy[\"city\"] == unique_city, \"long\"] = long\n",
    "    return df_copy.loc[:,[\"is_valid_city\",\"lat\",\"long\"]]\n",
    "\n",
    "verify_city = FunctionTransformer(verify_city_fn, feature_names_out=\"one-to-one\")\n",
    "\n",
    "# function to fuzzy match invalid cities to master city list.\n",
    "# from rapidfuzz import process, fuzz,utils\n",
    "\n",
    "# unique_master_cites = master_city_list[\"name\"].values\n",
    "# def map_fuzzy_matched_city(city_name):\n",
    "#     matched_list = process.extract(city_name, unique_master_cites, scorer=fuzz.QRatio,limit=1)\n",
    "#     match,score,_ = matched_list[0]\n",
    "#     print(city_name, match,score)\n",
    "\n",
    "# def fuzzy_city_mapper_fn(df):\n",
    "#     if not isinstance(df, pd.DataFrame):\n",
    "#         raise ValueError(\n",
    "#             \"degree_clean_fn : Input must be a pandas DataFrame\")\n",
    "#     df_copy = df.copy()\n",
    "#     ## only focuses on invalid city\n",
    "#     unique_cities = df_copy.loc[df_copy[\"is_valid_city\"] == 0,\"city\"].unique()\n",
    "#     for unique_city in unique_cities:\n",
    "#         map_fuzzy_matched_city(unique_city)\n",
    "#     return df_copy\n",
    "\n",
    "# fuzzy_city_mapping = FunctionTransformer(fuzzy_city_mapper_fn, feature_names_out=\"one-to-one\")"
   ]
  },
  {
   "cell_type": "code",
   "execution_count": 38,
   "id": "8c05a669",
   "metadata": {},
   "outputs": [],
   "source": [
    "city_pipeline = Pipeline([\n",
    "    (\"default_cat_pipeline\", default_cat_pipeline),\n",
    "    (\"city_clean\", clean_city),\n",
    "    (\"rename_city\", rename_city),\n",
    "    (\"city_mapping\", map_city),\n",
    "    (\"city_verification\", verify_city),\n",
    "    # (\"fuzzy_city_mapping\", fuzzy_city_mapping)\n",
    "])\n",
    "\n",
    "preprocess_city = ColumnTransformer([\n",
    "    (\"city_pipeline\", city_pipeline, [\"city\"])\n",
    "])\n",
    "\n",
    "\n",
    "temp = preprocess_city.fit_transform(X_train)"
   ]
  },
  {
   "cell_type": "code",
   "execution_count": 39,
   "id": "33e250bd",
   "metadata": {},
   "outputs": [
    {
     "data": {
      "application/vnd.microsoft.datawrangler.viewer.v0+json": {
       "columns": [
        {
         "name": "city_pipeline__is_valid_city",
         "rawType": "float64",
         "type": "float"
        },
        {
         "name": "count",
         "rawType": "int64",
         "type": "integer"
        }
       ],
       "ref": "d880a05b-cd82-4a25-b59b-27345246b1ef",
       "rows": [
        [
         "1.0",
         "22301"
        ],
        [
         "0.0",
         "19"
        ]
       ],
       "shape": {
        "columns": 1,
        "rows": 2
       }
      },
      "text/plain": [
       "city_pipeline__is_valid_city\n",
       "1.0    22301\n",
       "0.0       19\n",
       "Name: count, dtype: int64"
      ]
     },
     "execution_count": 39,
     "metadata": {},
     "output_type": "execute_result"
    }
   ],
   "source": [
    "temp_df = pd.DataFrame(temp, columns=preprocess_city.get_feature_names_out())\n",
    "temp_df[\"city_pipeline__is_valid_city\"].value_counts()\n"
   ]
  },
  {
   "cell_type": "code",
   "execution_count": 40,
   "id": "c7da134a",
   "metadata": {},
   "outputs": [
    {
     "data": {
      "text/plain": [
       "0.08519797318505896"
      ]
     },
     "execution_count": 40,
     "metadata": {},
     "output_type": "execute_result"
    }
   ],
   "source": [
    "(temp_df.loc[temp_df[\"city_pipeline__is_valid_city\"] == 0].shape[0]/temp_df.loc[temp_df[\"city_pipeline__is_valid_city\"] == 1].shape[0])*100"
   ]
  },
  {
   "cell_type": "markdown",
   "id": "046ec9e9",
   "metadata": {},
   "source": [
    "* So we still have less than 1% of data with invalid cities. For now we've decided to keep it as it is and experiment with ML models to see how this affects the training.\n",
    "* For invalid cities we have a flag indicating whether the cities are valid or invalid, and we have lat/long defaulting to Nagpur. "
   ]
  },
  {
   "cell_type": "code",
   "execution_count": 41,
   "id": "cfdfd365",
   "metadata": {},
   "outputs": [
    {
     "data": {
      "application/vnd.microsoft.datawrangler.viewer.v0+json": {
       "columns": [
        {
         "name": "index",
         "rawType": "int64",
         "type": "integer"
        },
        {
         "name": "is_valid_city",
         "rawType": "int64",
         "type": "integer"
        },
        {
         "name": "lat",
         "rawType": "float64",
         "type": "float"
        },
        {
         "name": "long",
         "rawType": "float64",
         "type": "float"
        }
       ],
       "ref": "17583337-f98a-46c5-8015-d0ab585303b9",
       "rows": [
        [
         "0",
         "1",
         "24.24446471698113",
         "83.04408339622641"
        ],
        [
         "1",
         "1",
         "22.239705",
         "73.16406"
        ],
        [
         "2",
         "1",
         "25.95781",
         "75.79308"
        ],
        [
         "3",
         "1",
         "24.6083575",
         "78.2747625"
        ],
        [
         "4",
         "1",
         "24.78272691588785",
         "81.02966046728972"
        ]
       ],
       "shape": {
        "columns": 3,
        "rows": 5
       }
      },
      "text/html": [
       "<div>\n",
       "<style scoped>\n",
       "    .dataframe tbody tr th:only-of-type {\n",
       "        vertical-align: middle;\n",
       "    }\n",
       "\n",
       "    .dataframe tbody tr th {\n",
       "        vertical-align: top;\n",
       "    }\n",
       "\n",
       "    .dataframe thead th {\n",
       "        text-align: right;\n",
       "    }\n",
       "</style>\n",
       "<table border=\"1\" class=\"dataframe\">\n",
       "  <thead>\n",
       "    <tr style=\"text-align: right;\">\n",
       "      <th></th>\n",
       "      <th>is_valid_city</th>\n",
       "      <th>lat</th>\n",
       "      <th>long</th>\n",
       "    </tr>\n",
       "  </thead>\n",
       "  <tbody>\n",
       "    <tr>\n",
       "      <th>0</th>\n",
       "      <td>1</td>\n",
       "      <td>24.244465</td>\n",
       "      <td>83.044083</td>\n",
       "    </tr>\n",
       "    <tr>\n",
       "      <th>1</th>\n",
       "      <td>1</td>\n",
       "      <td>22.239705</td>\n",
       "      <td>73.164060</td>\n",
       "    </tr>\n",
       "    <tr>\n",
       "      <th>2</th>\n",
       "      <td>1</td>\n",
       "      <td>25.957810</td>\n",
       "      <td>75.793080</td>\n",
       "    </tr>\n",
       "    <tr>\n",
       "      <th>3</th>\n",
       "      <td>1</td>\n",
       "      <td>24.608358</td>\n",
       "      <td>78.274762</td>\n",
       "    </tr>\n",
       "    <tr>\n",
       "      <th>4</th>\n",
       "      <td>1</td>\n",
       "      <td>24.782727</td>\n",
       "      <td>81.029660</td>\n",
       "    </tr>\n",
       "  </tbody>\n",
       "</table>\n",
       "</div>"
      ],
      "text/plain": [
       "   is_valid_city        lat       long\n",
       "0              1  24.244465  83.044083\n",
       "1              1  22.239705  73.164060\n",
       "2              1  25.957810  75.793080\n",
       "3              1  24.608358  78.274762\n",
       "4              1  24.782727  81.029660"
      ]
     },
     "execution_count": 41,
     "metadata": {},
     "output_type": "execute_result"
    }
   ],
   "source": [
    "## lets update the dataset for future analysis. \n",
    "updated_cities = clean_city_fn(updated_categories)\n",
    "updated_cities = rename_city_fn(updated_cities)\n",
    "updated_cities = map_city_fn(updated_cities)\n",
    "updated_cities = verify_city_fn(updated_cities)\n",
    "updated_cities.head()"
   ]
  },
  {
   "cell_type": "code",
   "execution_count": 42,
   "id": "bc03050b",
   "metadata": {},
   "outputs": [],
   "source": [
    "## for now lets concatenate this to updated cities for simplier processing\n",
    "updated_categories = pd.concat([updated_categories,updated_cities], axis=1)"
   ]
  },
  {
   "cell_type": "code",
   "execution_count": 43,
   "id": "a97c6a15",
   "metadata": {},
   "outputs": [
    {
     "data": {
      "application/vnd.microsoft.datawrangler.viewer.v0+json": {
       "columns": [
        {
         "name": "city",
         "rawType": "object",
         "type": "string"
        },
        {
         "name": "count",
         "rawType": "int64",
         "type": "integer"
        }
       ],
       "ref": "74ee9132-9e20-4ae2-83c4-bde5c9a7b4a2",
       "rows": [
        [
         "harsha",
         "2"
        ],
        [
         "bhavna",
         "2"
        ],
        [
         "city",
         "2"
        ],
        [
         "saanvi",
         "2"
        ],
        [
         "m.tech",
         "1"
        ],
        [
         "'less delhi'",
         "1"
        ],
        [
         "reyansh",
         "1"
        ],
        [
         "'less than 5 kalyan'",
         "1"
        ],
        [
         "nalyan",
         "1"
        ],
        [
         "gaurav",
         "1"
        ],
        [
         "khaziabad",
         "1"
        ],
        [
         "mihir",
         "1"
        ],
        [
         "harsh",
         "1"
        ],
        [
         "3.0",
         "1"
        ],
        [
         "m.com",
         "1"
        ]
       ],
       "shape": {
        "columns": 1,
        "rows": 15
       }
      },
      "text/plain": [
       "city\n",
       "harsha                  2\n",
       "bhavna                  2\n",
       "city                    2\n",
       "saanvi                  2\n",
       "m.tech                  1\n",
       "'less delhi'            1\n",
       "reyansh                 1\n",
       "'less than 5 kalyan'    1\n",
       "nalyan                  1\n",
       "gaurav                  1\n",
       "khaziabad               1\n",
       "mihir                   1\n",
       "harsh                   1\n",
       "3.0                     1\n",
       "m.com                   1\n",
       "Name: count, dtype: int64"
      ]
     },
     "execution_count": 43,
     "metadata": {},
     "output_type": "execute_result"
    }
   ],
   "source": [
    "updated_categories[updated_categories[\"is_valid_city\"] == 0][\"city\"].value_counts()"
   ]
  },
  {
   "cell_type": "markdown",
   "id": "78b44559",
   "metadata": {},
   "source": [
    "* In the above list, `vasai-virar` is not technically a city virar is a city and vasai is a historical place. Its part of the same munciple councils. We can rename vasai virar to virar\n",
    "* For banglore, the new name for the city is Bengaluru we'll add a manual step in the pipeline to map these 2 cities."
   ]
  },
  {
   "cell_type": "markdown",
   "id": "17a93d1b",
   "metadata": {},
   "source": [
    "### Feature Engineering Geo Similarity\n",
    "* In this section we'll use the city data that we just compiled and try to engineer new features based on how the cities are similar to,\n",
    "1. Clusters of city in the dataset\n",
    "2. Metro cities of India. "
   ]
  },
  {
   "cell_type": "markdown",
   "id": "67ede06e",
   "metadata": {},
   "source": [
    "#### Visualizing City Clusters."
   ]
  },
  {
   "cell_type": "code",
   "execution_count": 44,
   "id": "b04479cc",
   "metadata": {},
   "outputs": [
    {
     "data": {
      "application/vnd.microsoft.datawrangler.viewer.v0+json": {
       "columns": [
        {
         "name": "index",
         "rawType": "int64",
         "type": "integer"
        },
        {
         "name": "city",
         "rawType": "object",
         "type": "string"
        },
        {
         "name": "count",
         "rawType": "int64",
         "type": "integer"
        }
       ],
       "ref": "4d49facf-b0f8-4c8c-a976-d00e5dc4ce5c",
       "rows": [
        [
         "0",
         "kalyan",
         "1284"
        ],
        [
         "1",
         "srinagar",
         "1073"
        ],
        [
         "2",
         "hyderabad",
         "1063"
        ],
        [
         "3",
         "vasai-virar",
         "1042"
        ],
        [
         "4",
         "lucknow",
         "943"
        ],
        [
         "5",
         "thane",
         "910"
        ],
        [
         "6",
         "kolkata",
         "890"
        ],
        [
         "7",
         "agra",
         "864"
        ],
        [
         "8",
         "ludhiana",
         "848"
        ],
        [
         "9",
         "surat",
         "842"
        ],
        [
         "10",
         "jaipur",
         "840"
        ],
        [
         "11",
         "patna",
         "823"
        ],
        [
         "12",
         "visakhapatnam",
         "763"
        ],
        [
         "13",
         "pune",
         "751"
        ],
        [
         "14",
         "bhopal",
         "748"
        ],
        [
         "15",
         "ahmedabad",
         "748"
        ],
        [
         "16",
         "chennai",
         "707"
        ],
        [
         "17",
         "meerut",
         "660"
        ],
        [
         "18",
         "rajkot",
         "633"
        ],
        [
         "19",
         "bangalore",
         "625"
        ]
       ],
       "shape": {
        "columns": 2,
        "rows": 20
       }
      },
      "text/html": [
       "<div>\n",
       "<style scoped>\n",
       "    .dataframe tbody tr th:only-of-type {\n",
       "        vertical-align: middle;\n",
       "    }\n",
       "\n",
       "    .dataframe tbody tr th {\n",
       "        vertical-align: top;\n",
       "    }\n",
       "\n",
       "    .dataframe thead th {\n",
       "        text-align: right;\n",
       "    }\n",
       "</style>\n",
       "<table border=\"1\" class=\"dataframe\">\n",
       "  <thead>\n",
       "    <tr style=\"text-align: right;\">\n",
       "      <th></th>\n",
       "      <th>city</th>\n",
       "      <th>count</th>\n",
       "    </tr>\n",
       "  </thead>\n",
       "  <tbody>\n",
       "    <tr>\n",
       "      <th>0</th>\n",
       "      <td>kalyan</td>\n",
       "      <td>1284</td>\n",
       "    </tr>\n",
       "    <tr>\n",
       "      <th>1</th>\n",
       "      <td>srinagar</td>\n",
       "      <td>1073</td>\n",
       "    </tr>\n",
       "    <tr>\n",
       "      <th>2</th>\n",
       "      <td>hyderabad</td>\n",
       "      <td>1063</td>\n",
       "    </tr>\n",
       "    <tr>\n",
       "      <th>3</th>\n",
       "      <td>vasai-virar</td>\n",
       "      <td>1042</td>\n",
       "    </tr>\n",
       "    <tr>\n",
       "      <th>4</th>\n",
       "      <td>lucknow</td>\n",
       "      <td>943</td>\n",
       "    </tr>\n",
       "    <tr>\n",
       "      <th>5</th>\n",
       "      <td>thane</td>\n",
       "      <td>910</td>\n",
       "    </tr>\n",
       "    <tr>\n",
       "      <th>6</th>\n",
       "      <td>kolkata</td>\n",
       "      <td>890</td>\n",
       "    </tr>\n",
       "    <tr>\n",
       "      <th>7</th>\n",
       "      <td>agra</td>\n",
       "      <td>864</td>\n",
       "    </tr>\n",
       "    <tr>\n",
       "      <th>8</th>\n",
       "      <td>ludhiana</td>\n",
       "      <td>848</td>\n",
       "    </tr>\n",
       "    <tr>\n",
       "      <th>9</th>\n",
       "      <td>surat</td>\n",
       "      <td>842</td>\n",
       "    </tr>\n",
       "    <tr>\n",
       "      <th>10</th>\n",
       "      <td>jaipur</td>\n",
       "      <td>840</td>\n",
       "    </tr>\n",
       "    <tr>\n",
       "      <th>11</th>\n",
       "      <td>patna</td>\n",
       "      <td>823</td>\n",
       "    </tr>\n",
       "    <tr>\n",
       "      <th>12</th>\n",
       "      <td>visakhapatnam</td>\n",
       "      <td>763</td>\n",
       "    </tr>\n",
       "    <tr>\n",
       "      <th>13</th>\n",
       "      <td>pune</td>\n",
       "      <td>751</td>\n",
       "    </tr>\n",
       "    <tr>\n",
       "      <th>14</th>\n",
       "      <td>bhopal</td>\n",
       "      <td>748</td>\n",
       "    </tr>\n",
       "    <tr>\n",
       "      <th>15</th>\n",
       "      <td>ahmedabad</td>\n",
       "      <td>748</td>\n",
       "    </tr>\n",
       "    <tr>\n",
       "      <th>16</th>\n",
       "      <td>chennai</td>\n",
       "      <td>707</td>\n",
       "    </tr>\n",
       "    <tr>\n",
       "      <th>17</th>\n",
       "      <td>meerut</td>\n",
       "      <td>660</td>\n",
       "    </tr>\n",
       "    <tr>\n",
       "      <th>18</th>\n",
       "      <td>rajkot</td>\n",
       "      <td>633</td>\n",
       "    </tr>\n",
       "    <tr>\n",
       "      <th>19</th>\n",
       "      <td>bangalore</td>\n",
       "      <td>625</td>\n",
       "    </tr>\n",
       "  </tbody>\n",
       "</table>\n",
       "</div>"
      ],
      "text/plain": [
       "             city  count\n",
       "0          kalyan   1284\n",
       "1        srinagar   1073\n",
       "2       hyderabad   1063\n",
       "3     vasai-virar   1042\n",
       "4         lucknow    943\n",
       "5           thane    910\n",
       "6         kolkata    890\n",
       "7            agra    864\n",
       "8        ludhiana    848\n",
       "9           surat    842\n",
       "10         jaipur    840\n",
       "11          patna    823\n",
       "12  visakhapatnam    763\n",
       "13           pune    751\n",
       "14         bhopal    748\n",
       "15      ahmedabad    748\n",
       "16        chennai    707\n",
       "17         meerut    660\n",
       "18         rajkot    633\n",
       "19      bangalore    625"
      ]
     },
     "execution_count": 44,
     "metadata": {},
     "output_type": "execute_result"
    }
   ],
   "source": [
    "## lets get value counts for the cities\n",
    "city_counts = pd.DataFrame(updated_categories[\"city\"].value_counts().reset_index(), columns=[\"city\", \"count\"])\n",
    "city_counts.sort_values(by=\"count\",ascending=False).head(20)"
   ]
  },
  {
   "cell_type": "code",
   "execution_count": 45,
   "id": "a42e9eb3",
   "metadata": {},
   "outputs": [
    {
     "data": {
      "text/plain": [
       "[]"
      ]
     },
     "execution_count": 45,
     "metadata": {},
     "output_type": "execute_result"
    },
    {
     "data": {
      "image/png": "[encoded data removed]",
      "text/plain": [
       "<Figure size 640x480 with 1 Axes>"
      ]
     },
     "metadata": {},
     "output_type": "display_data"
    }
   ],
   "source": [
    "# lets create a simple bar chart of to 20 cities\n",
    "import seaborn as sns\n",
    "\n",
    "top_20_cities = city_counts.sort_values(by=\"count\", ascending=False).head(20)\n",
    "sns.set_theme(style=\"darkgrid\")\n",
    "plt = sns.barplot(\n",
    "    data=top_20_cities, x=\"city\", y=\"count\")\n",
    "plt.set_xticks(labels=top_20_cities[\"city\"], ticks=range(top_20_cities.shape[0]))\n",
    "plt.set_xticklabels(labels=top_20_cities[\"city\"],rotation=90)\n",
    "plt.plot(scalex=True)"
   ]
  },
  {
   "cell_type": "markdown",
   "id": "c8cef2a9",
   "metadata": {},
   "source": [
    "* Interesting to note that a lot of cities from top 20 are from maharastra and from Mumbai/Pune area.\n",
    "* Lets plot these clusters on map to get better visualization. "
   ]
  },
  {
   "cell_type": "code",
   "execution_count": 46,
   "id": "40a447e1",
   "metadata": {},
   "outputs": [
    {
     "data": {
      "application/vnd.plotly.v1+json": {
       "config": {
        "plotlyServerURL": "https://plot.ly"
       },
       "data": [
        {
         "geo": "geo",
         "hovertemplate": "Number of Instances=%{marker.size}<br>lat=%{lat}<br>long=%{lon}<extra></extra>",
         "lat": {
          "bdata": "NlmjHqLxKUBoke18Py0qQFt8CoDxzCpAqmVrfZFkMUAuVtRgGq4xQJT7HYoChTJAidojwUEAM0CPLkl4VTozQIZyol2FdDNAGvonuFj9M0DB/1ayYx81QLjpz36kMDZADLCPTl09NkCwj05d+Yw2QPx6mNA3tDZA6CDVnRQrN0A5oCeioP43QEJg5dAiGzhAuXVcPZU+OEAknBa86FM4QIVNd7FDlzhAvcYuUb2bOECJ4Mz8t784QPBvicpgyDhAxNpTlR8kOUCRuMfSh6o5QCHIQQkz9TlAYPVUEJlJOkDFt9hkZnQ6QNcv2A3b1jpAHwHJYR20PEAp0CfyJPE8QNUuk86tMT5A",
          "dtype": "f8"
         },
         "legendgroup": "",
         "lon": {
          "bdata": "lX1XBP9lU0BWfa62YhFUQJnwS/28y1JA7kJznUaeU0D7IqEt58xUQI0o7Q2+dlJA8RExJZI2UkAZexzzJ0VSQGdEaW/wM1JAF9S3zOlxUkAqxY7GocJTQCQO2UC6mlJAPKWD9X9KUkCFJR5QNhdWQHGPpQ9d9FJAS8XZh8/SVECdQixe61RSQKJo4XHPGVRAs0UqQ9LCVEDPoKF/ggZUQBzjnVbkkFJAs+pztZWRU0C3cLrGyKdTQJQ/BPXlQVRAakFjSSKFU0DYKsHicBtUQCbHndLB8lJAHMDk3EUDVEAXthdv729UQDf92Y8UO1RAKQ0iPwhcU0BsJt9sc2tTQIUgByXM+lJA",
          "dtype": "f8"
         },
         "marker": {
          "color": "#636efa",
          "size": {
           "bdata": "cQLDAgEAJwT7Au8CMwKOAxIExAETAAQFMQJ6AwcCJgJ5AhUCSAMBAEoD7AJgAzcD7QFaAuwCfQExBK8DTAKUAlAD",
           "dtype": "i2"
          },
          "sizemode": "area",
          "sizeref": 3.21,
          "symbol": "circle"
         },
         "mode": "markers",
         "name": "",
         "showlegend": false,
         "type": "scattergeo"
        }
       ],
       "layout": {
        "geo": {
         "center": {},
         "domain": {
          "x": [
           0,
           1
          ],
          "y": [
           0,
           1
          ]
         },
         "fitbounds": "locations",
         "scope": "asia"
        },
        "legend": {
         "itemsizing": "constant",
         "tracegroupgap": 0
        },
        "template": {
         "data": {
          "bar": [
           {
            "error_x": {
             "color": "#2a3f5f"
            },
            "error_y": {
             "color": "#2a3f5f"
            },
            "marker": {
             "line": {
              "color": "#E5ECF6",
              "width": 0.5
             },
             "pattern": {
              "fillmode": "overlay",
              "size": 10,
              "solidity": 0.2
             }
            },
            "type": "bar"
           }
          ],
          "barpolar": [
           {
            "marker": {
             "line": {
              "color": "#E5ECF6",
              "width": 0.5
             },
             "pattern": {
              "fillmode": "overlay",
              "size": 10,
              "solidity": 0.2
             }
            },
            "type": "barpolar"
           }
          ],
          "carpet": [
           {
            "aaxis": {
             "endlinecolor": "#2a3f5f",
             "gridcolor": "white",
             "linecolor": "white",
             "minorgridcolor": "white",
             "startlinecolor": "#2a3f5f"
            },
            "baxis": {
             "endlinecolor": "#2a3f5f",
             "gridcolor": "white",
             "linecolor": "white",
             "minorgridcolor": "white",
             "startlinecolor": "#2a3f5f"
            },
            "type": "carpet"
           }
          ],
          "choropleth": [
           {
            "colorbar": {
             "outlinewidth": 0,
             "ticks": ""
            },
            "type": "choropleth"
           }
          ],
          "contour": [
           {
            "colorbar": {
             "outlinewidth": 0,
             "ticks": ""
            },
            "colorscale": [
             [
              0,
              "#0d0887"
             ],
             [
              0.1111111111111111,
              "#46039f"
             ],
             [
              0.2222222222222222,
              "#7201a8"
             ],
             [
              0.3333333333333333,
              "#9c179e"
             ],
             [
              0.4444444444444444,
              "#bd3786"
             ],
             [
              0.5555555555555556,
              "#d8576b"
             ],
             [
              0.6666666666666666,
              "#ed7953"
             ],
             [
              0.7777777777777778,
              "#fb9f3a"
             ],
             [
              0.8888888888888888,
              "#fdca26"
             ],
             [
              1,
              "#f0f921"
             ]
            ],
            "type": "contour"
           }
          ],
          "contourcarpet": [
           {
            "colorbar": {
             "outlinewidth": 0,
             "ticks": ""
            },
            "type": "contourcarpet"
           }
          ],
          "heatmap": [
           {
            "colorbar": {
             "outlinewidth": 0,
             "ticks": ""
            },
            "colorscale": [
             [
              0,
              "#0d0887"
             ],
             [
              0.1111111111111111,
              "#46039f"
             ],
             [
              0.2222222222222222,
              "#7201a8"
             ],
             [
              0.3333333333333333,
              "#9c179e"
             ],
             [
              0.4444444444444444,
              "#bd3786"
             ],
             [
              0.5555555555555556,
              "#d8576b"
             ],
             [
              0.6666666666666666,
              "#ed7953"
             ],
             [
              0.7777777777777778,
              "#fb9f3a"
             ],
             [
              0.8888888888888888,
              "#fdca26"
             ],
             [
              1,
              "#f0f921"
             ]
            ],
            "type": "heatmap"
           }
          ],
          "histogram": [
           {
            "marker": {
             "pattern": {
              "fillmode": "overlay",
              "size": 10,
              "solidity": 0.2
             }
            },
            "type": "histogram"
           }
          ],
          "histogram2d": [
           {
            "colorbar": {
             "outlinewidth": 0,
             "ticks": ""
            },
            "colorscale": [
             [
              0,
              "#0d0887"
             ],
             [
              0.1111111111111111,
              "#46039f"
             ],
             [
              0.2222222222222222,
              "#7201a8"
             ],
             [
              0.3333333333333333,
              "#9c179e"
             ],
             [
              0.4444444444444444,
              "#bd3786"
             ],
             [
              0.5555555555555556,
              "#d8576b"
             ],
             [
              0.6666666666666666,
              "#ed7953"
             ],
             [
              0.7777777777777778,
              "#fb9f3a"
             ],
             [
              0.8888888888888888,
              "#fdca26"
             ],
             [
              1,
              "#f0f921"
             ]
            ],
            "type": "histogram2d"
           }
          ],
          "histogram2dcontour": [
           {
            "colorbar": {
             "outlinewidth": 0,
             "ticks": ""
            },
            "colorscale": [
             [
              0,
              "#0d0887"
             ],
             [
              0.1111111111111111,
              "#46039f"
             ],
             [
              0.2222222222222222,
              "#7201a8"
             ],
             [
              0.3333333333333333,
              "#9c179e"
             ],
             [
              0.4444444444444444,
              "#bd3786"
             ],
             [
              0.5555555555555556,
              "#d8576b"
             ],
             [
              0.6666666666666666,
              "#ed7953"
             ],
             [
              0.7777777777777778,
              "#fb9f3a"
             ],
             [
              0.8888888888888888,
              "#fdca26"
             ],
             [
              1,
              "#f0f921"
             ]
            ],
            "type": "histogram2dcontour"
           }
          ],
          "mesh3d": [
           {
            "colorbar": {
             "outlinewidth": 0,
             "ticks": ""
            },
            "type": "mesh3d"
           }
          ],
          "parcoords": [
           {
            "line": {
             "colorbar": {
              "outlinewidth": 0,
              "ticks": ""
             }
            },
            "type": "parcoords"
           }
          ],
          "pie": [
           {
            "automargin": true,
            "type": "pie"
           }
          ],
          "scatter": [
           {
            "fillpattern": {
             "fillmode": "overlay",
             "size": 10,
             "solidity": 0.2
            },
            "type": "scatter"
           }
          ],
          "scatter3d": [
           {
            "line": {
             "colorbar": {
              "outlinewidth": 0,
              "ticks": ""
             }
            },
            "marker": {
             "colorbar": {
              "outlinewidth": 0,
              "ticks": ""
             }
            },
            "type": "scatter3d"
           }
          ],
          "scattercarpet": [
           {
            "marker": {
             "colorbar": {
              "outlinewidth": 0,
              "ticks": ""
             }
            },
            "type": "scattercarpet"
           }
          ],
          "scattergeo": [
           {
            "marker": {
             "colorbar": {
              "outlinewidth": 0,
              "ticks": ""
             }
            },
            "type": "scattergeo"
           }
          ],
          "scattergl": [
           {
            "marker": {
             "colorbar": {
              "outlinewidth": 0,
              "ticks": ""
             }
            },
            "type": "scattergl"
           }
          ],
          "scattermap": [
           {
            "marker": {
             "colorbar": {
              "outlinewidth": 0,
              "ticks": ""
             }
            },
            "type": "scattermap"
           }
          ],
          "scattermapbox": [
           {
            "marker": {
             "colorbar": {
              "outlinewidth": 0,
              "ticks": ""
             }
            },
            "type": "scattermapbox"
           }
          ],
          "scatterpolar": [
           {
            "marker": {
             "colorbar": {
              "outlinewidth": 0,
              "ticks": ""
             }
            },
            "type": "scatterpolar"
           }
          ],
          "scatterpolargl": [
           {
            "marker": {
             "colorbar": {
              "outlinewidth": 0,
              "ticks": ""
             }
            },
            "type": "scatterpolargl"
           }
          ],
          "scatterternary": [
           {
            "marker": {
             "colorbar": {
              "outlinewidth": 0,
              "ticks": ""
             }
            },
            "type": "scatterternary"
           }
          ],
          "surface": [
           {
            "colorbar": {
             "outlinewidth": 0,
             "ticks": ""
            },
            "colorscale": [
             [
              0,
              "#0d0887"
             ],
             [
              0.1111111111111111,
              "#46039f"
             ],
             [
              0.2222222222222222,
              "#7201a8"
             ],
             [
              0.3333333333333333,
              "#9c179e"
             ],
             [
              0.4444444444444444,
              "#bd3786"
             ],
             [
              0.5555555555555556,
              "#d8576b"
             ],
             [
              0.6666666666666666,
              "#ed7953"
             ],
             [
              0.7777777777777778,
              "#fb9f3a"
             ],
             [
              0.8888888888888888,
              "#fdca26"
             ],
             [
              1,
              "#f0f921"
             ]
            ],
            "type": "surface"
           }
          ],
          "table": [
           {
            "cells": {
             "fill": {
              "color": "#EBF0F8"
             },
             "line": {
              "color": "white"
             }
            },
            "header": {
             "fill": {
              "color": "#C8D4E3"
             },
             "line": {
              "color": "white"
             }
            },
            "type": "table"
           }
          ]
         },
         "layout": {
          "annotationdefaults": {
           "arrowcolor": "#2a3f5f",
           "arrowhead": 0,
           "arrowwidth": 1
          },
          "autotypenumbers": "strict",
          "coloraxis": {
           "colorbar": {
            "outlinewidth": 0,
            "ticks": ""
           }
          },
          "colorscale": {
           "diverging": [
            [
             0,
             "#8e0152"
            ],
            [
             0.1,
             "#c51b7d"
            ],
            [
             0.2,
             "#de77ae"
            ],
            [
             0.3,
             "#f1b6da"
            ],
            [
             0.4,
             "#fde0ef"
            ],
            [
             0.5,
             "#f7f7f7"
            ],
            [
             0.6,
             "#e6f5d0"
            ],
            [
             0.7,
             "#b8e186"
            ],
            [
             0.8,
             "#7fbc41"
            ],
            [
             0.9,
             "#4d9221"
            ],
            [
             1,
             "#276419"
            ]
           ],
           "sequential": [
            [
             0,
             "#0d0887"
            ],
            [
             0.1111111111111111,
             "#46039f"
            ],
            [
             0.2222222222222222,
             "#7201a8"
            ],
            [
             0.3333333333333333,
             "#9c179e"
            ],
            [
             0.4444444444444444,
             "#bd3786"
            ],
            [
             0.5555555555555556,
             "#d8576b"
            ],
            [
             0.6666666666666666,
             "#ed7953"
            ],
            [
             0.7777777777777778,
             "#fb9f3a"
            ],
            [
             0.8888888888888888,
             "#fdca26"
            ],
            [
             1,
             "#f0f921"
            ]
           ],
           "sequentialminus": [
            [
             0,
             "#0d0887"
            ],
            [
             0.1111111111111111,
             "#46039f"
            ],
            [
             0.2222222222222222,
             "#7201a8"
            ],
            [
             0.3333333333333333,
             "#9c179e"
            ],
            [
             0.4444444444444444,
             "#bd3786"
            ],
            [
             0.5555555555555556,
             "#d8576b"
            ],
            [
             0.6666666666666666,
             "#ed7953"
            ],
            [
             0.7777777777777778,
             "#fb9f3a"
            ],
            [
             0.8888888888888888,
             "#fdca26"
            ],
            [
             1,
             "#f0f921"
            ]
           ]
          },
          "colorway": [
           "#636efa",
           "#EF553B",
           "#00cc96",
           "#ab63fa",
           "#FFA15A",
           "#19d3f3",
           "#FF6692",
           "#B6E880",
           "#FF97FF",
           "#FECB52"
          ],
          "font": {
           "color": "#2a3f5f"
          },
          "geo": {
           "bgcolor": "white",
           "lakecolor": "white",
           "landcolor": "#E5ECF6",
           "showlakes": true,
           "showland": true,
           "subunitcolor": "white"
          },
          "hoverlabel": {
           "align": "left"
          },
          "hovermode": "closest",
          "mapbox": {
           "style": "light"
          },
          "paper_bgcolor": "white",
          "plot_bgcolor": "#E5ECF6",
          "polar": {
           "angularaxis": {
            "gridcolor": "white",
            "linecolor": "white",
            "ticks": ""
           },
           "bgcolor": "#E5ECF6",
           "radialaxis": {
            "gridcolor": "white",
            "linecolor": "white",
            "ticks": ""
           }
          },
          "scene": {
           "xaxis": {
            "backgroundcolor": "#E5ECF6",
            "gridcolor": "white",
            "gridwidth": 2,
            "linecolor": "white",
            "showbackground": true,
            "ticks": "",
            "zerolinecolor": "white"
           },
           "yaxis": {
            "backgroundcolor": "#E5ECF6",
            "gridcolor": "white",
            "gridwidth": 2,
            "linecolor": "white",
            "showbackground": true,
            "ticks": "",
            "zerolinecolor": "white"
           },
           "zaxis": {
            "backgroundcolor": "#E5ECF6",
            "gridcolor": "white",
            "gridwidth": 2,
            "linecolor": "white",
            "showbackground": true,
            "ticks": "",
            "zerolinecolor": "white"
           }
          },
          "shapedefaults": {
           "line": {
            "color": "#2a3f5f"
           }
          },
          "ternary": {
           "aaxis": {
            "gridcolor": "white",
            "linecolor": "white",
            "ticks": ""
           },
           "baxis": {
            "gridcolor": "white",
            "linecolor": "white",
            "ticks": ""
           },
           "bgcolor": "#E5ECF6",
           "caxis": {
            "gridcolor": "white",
            "linecolor": "white",
            "ticks": ""
           }
          },
          "title": {
           "x": 0.05
          },
          "xaxis": {
           "automargin": true,
           "gridcolor": "white",
           "linecolor": "white",
           "ticks": "",
           "title": {
            "standoff": 15
           },
           "zerolinecolor": "white",
           "zerolinewidth": 2
          },
          "yaxis": {
           "automargin": true,
           "gridcolor": "white",
           "linecolor": "white",
           "ticks": "",
           "title": {
            "standoff": 15
           },
           "zerolinecolor": "white",
           "zerolinewidth": 2
          }
         }
        },
        "title": {
         "text": "Number of records per city"
        }
       }
      }
     },
     "metadata": {},
     "output_type": "display_data"
    }
   ],
   "source": [
    "import plotly.express as px\n",
    "\n",
    "## lets prepare the data to plot on the map.\n",
    "## step 1: lets group by lat,long and count the city\n",
    "geo_data = updated_categories.groupby([\"lat\",\"long\"], as_index=False)[\"city\"].count()\n",
    "\n",
    "\n",
    "\n",
    "fig = px.scatter_geo(geo_data, lat=\"lat\", lon=\"long\", size=\"city\", title=\"Number of records per city\", labels={\"city\": \"Number of Instances\"})\n",
    "fig.update_layout(geo_scope = 'asia')\n",
    "fig.update_geos(fitbounds=\"locations\")\n",
    "fig.show()\n",
    "# # fig.write_image(Path(report_images_path, f\"geo_mapping.webp\"))"
   ]
  },
  {
   "cell_type": "markdown",
   "id": "2a41ff23",
   "metadata": {},
   "source": [
    "* So looks like the data is majorly from North western cities.\n",
    "* Lets combine this data with depression data and see if there are any patterns. "
   ]
  },
  {
   "cell_type": "code",
   "execution_count": 47,
   "id": "0bbab4e8",
   "metadata": {},
   "outputs": [
    {
     "data": {
      "text/plain": [
       "(22320, 14)"
      ]
     },
     "execution_count": 47,
     "metadata": {},
     "output_type": "execute_result"
    }
   ],
   "source": [
    "combined_data = pd.concat([updated_categories, y_train], axis=1)\n",
    "combined_data.shape\n",
    "# combined_data.groupby([\"lat\",\"long\",\"city\"], as_index=False)[\"depression\"].count()"
   ]
  },
  {
   "cell_type": "code",
   "execution_count": 48,
   "id": "2bc578d5",
   "metadata": {},
   "outputs": [
    {
     "name": "stdout",
     "output_type": "stream",
     "text": [
      "0 0\n",
      "Missing Cities : 0.08512544802867383\n",
      "(22320, 14)\n"
     ]
    }
   ],
   "source": [
    "print(combined_data[\"lat\"].isna().sum(),combined_data[\"long\"].isna().sum())\n",
    "invalid_city_ratio = (combined_data[combined_data['is_valid_city'] == 0].shape[0] / combined_data.shape[0]) * 100\n",
    "print(f\"Missing Cities : {invalid_city_ratio}\")\n",
    "print(combined_data.shape)"
   ]
  },
  {
   "cell_type": "code",
   "execution_count": 49,
   "id": "c4ebd138",
   "metadata": {},
   "outputs": [
    {
     "data": {
      "application/vnd.plotly.v1+json": {
       "config": {
        "plotlyServerURL": "https://plot.ly"
       },
       "data": [
        {
         "hovertemplate": "depression=%{marker.size}<br>lat=%{lat}<br>long=%{lon}<extra></extra>",
         "lat": {
          "bdata": "uXVcPZU+OEAMsI9OXT02QCHIQQkz9TlAvcYuUb2bOEDwb4nKYMg4QLCPTl35jDZAxNpTlR8kOUDwb4nKYMg4QB8ByWEdtDxAvcYuUb2bOEC46c9+pDA2QJT7HYoChTJAuXVcPZU+OECU+x2KAoUyQMW32GRmdDpAuOnPfqQwNkDFt9hkZnQ6QGiR7Xw/LSpA1S6Tzq0xPkAp0CfyJPE8QL3GLlG9mzhA1y/YDdvWOkCU+x2KAoUyQIVNd7FDlzhAHwHJYR20PEBoke18Py0qQLCPTl35jDZAhnKiXYV0M0DE2lOVHyQ5QOgg1Z0UKzdA6CDVnRQrN0C5dVw9lT44QB8ByWEdtDxAieDM/Le/OEDFt9hkZnQ6QIZyol2FdDNAxbfYZGZ0OkCFTXexQ5c4QEJg5dAiGzhAxNpTlR8kOUCGcqJdhXQzQC5W1GAarjFAhnKiXYV0M0A2WaMeovEpQLjpz36kMDZAidojwUEAM0AMsI9OXT02QL3GLlG9mzhAOaAnoqD+N0AfAclhHbQ8QC5W1GAarjFAaJHtfD8tKkDE2lOVHyQ5QAywj05dPTZAxbfYZGZ0OkCFTXexQ5c4QKpla32RZDFAuOnPfqQwNkDwb4nKYMg4QPBvicpgyDhAOaAnoqD+N0AhyEEJM/U5QB8ByWEdtDxAuOnPfqQwNkDoINWdFCs3QDmgJ6Kg/jdAaJHtfD8tKkCJ4Mz8t784QLl1XD2VPjhA8G+JymDIOEBg9VQQmUk6QJG4x9KHqjlAhU13sUOXOEA2WaMeovEpQKpla32RZDFAOaAnoqD+N0CqZWt9kWQxQNUuk86tMT5AqmVrfZFkMUBCYOXQIhs4QPBvicpgyDhAIchBCTP1OUDXL9gN29Y6QDZZox6i8SlAqmVrfZFkMUDFt9hkZnQ6QIZyol2FdDNALlbUYBquMUCFTXexQ5c4QLl1XD2VPjhAhU13sUOXOEDoINWdFCs3QI8uSXhVOjNAjy5JeFU6M0C9xi5RvZs4QMTaU5UfJDlAQmDl0CIbOEC5dVw9lT44QIngzPy3vzhALlbUYBquMUCJ4Mz8t784QPBvicpgyDhAaJHtfD8tKkCGcqJdhXQzQLl1XD2VPjhAvcYuUb2bOEDXL9gN29Y6QMW32GRmdDpAxbfYZGZ0OkDFt9hkZnQ6QJG4x9KHqjlAsI9OXfmMNkC46c9+pDA2QNUuk86tMT5A6CDVnRQrN0AMsI9OXT02QEJg5dAiGzhAsI9OXfmMNkCqZWt9kWQxQGiR7Xw/LSpAxbfYZGZ0OkAMsI9OXT02QBr6J7hY/TNAvcYuUb2bOECRuMfSh6o5QAywj05dPTZA1S6Tzq0xPkCGcqJdhXQzQLl1XD2VPjhAhU13sUOXOEDXL9gN29Y6QIngzPy3vzhAuXVcPZU+OEAuVtRgGq4xQGiR7Xw/LSpAaJHtfD8tKkC46c9+pDA2QJG4x9KHqjlAsI9OXfmMNkAfAclhHbQ8QNUuk86tMT5AsI9OXfmMNkC46c9+pDA2QInaI8FBADNA1y/YDdvWOkCU+x2KAoUyQGD1VBCZSTpAIchBCTP1OUC5dVw9lT44QIVNd7FDlzhAaJHtfD8tKkCGcqJdhXQzQGiR7Xw/LSpAxbfYZGZ0OkAfAclhHbQ8QJG4x9KHqjlA1y/YDdvWOkDFt9hkZnQ6QJT7HYoChTJAvcYuUb2bOEDVLpPOrTE+QNUuk86tMT5A1S6Tzq0xPkCGcqJdhXQzQCnQJ/Ik8TxAsI9OXfmMNkAfAclhHbQ8QJT7HYoChTJAaJHtfD8tKkCU+x2KAoUyQL3GLlG9mzhAuXVcPZU+OECPLkl4VTozQAywj05dPTZAqmVrfZFkMUDFt9hkZnQ6QL3GLlG9mzhAqmVrfZFkMUCFTXexQ5c4QLCPTl35jDZAjy5JeFU6M0C46c9+pDA2QLjpz36kMDZAYPVUEJlJOkDE2lOVHyQ5QL3GLlG9mzhAhnKiXYV0M0C9xi5RvZs4QLjpz36kMDZAjy5JeFU6M0CRuMfSh6o5QPx6mNA3tDZAxbfYZGZ0OkAfAclhHbQ8QEJg5dAiGzhAKdAn8iTxPECU+x2KAoUyQLCPTl35jDZAsI9OXfmMNkC46c9+pDA2QDmgJ6Kg/jdAxbfYZGZ0OkD8epjQN7Q2QMW32GRmdDpAOaAnoqD+N0DE2lOVHyQ5QIZyol2FdDNAvcYuUb2bOEC9xi5RvZs4QIZyol2FdDNAxbfYZGZ0OkAuVtRgGq4xQLCPTl35jDZAvcYuUb2bOED8epjQN7Q2QB8ByWEdtDxAQmDl0CIbOEC5dVw9lT44QKpla32RZDFA8G+JymDIOECJ2iPBQQAzQBr6J7hY/TNAhnKiXYV0M0DVLpPOrTE+QI8uSXhVOjNAqmVrfZFkMUCqZWt9kWQxQLCPTl35jDZAIchBCTP1OUDXL9gN29Y6QC5W1GAarjFAsI9OXfmMNkBCYOXQIhs4QC5W1GAarjFAKdAn8iTxPEDXL9gN29Y6QLCPTl35jDZAuOnPfqQwNkCqZWt9kWQxQIngzPy3vzhAxNpTlR8kOUCU+x2KAoUyQCnQJ/Ik8TxAxbfYZGZ0OkCFTXexQ5c4QMTaU5UfJDlAsI9OXfmMNkCJ4Mz8t784QLl1XD2VPjhAxbfYZGZ0OkCPLkl4VTozQC5W1GAarjFAsI9OXfmMNkDFt9hkZnQ6QMTaU5UfJDlAuOnPfqQwNkCJ2iPBQQAzQGiR7Xw/LSpA1S6Tzq0xPkC9xi5RvZs4QAywj05dPTZAieDM/Le/OECPLkl4VTozQNUuk86tMT5A6CDVnRQrN0CRuMfSh6o5QKpla32RZDFAjy5JeFU6M0C46c9+pDA2QI8uSXhVOjNAvcYuUb2bOECGcqJdhXQzQI8uSXhVOjNAuOnPfqQwNkBoke18Py0qQC5W1GAarjFA8G+JymDIOEAuVtRgGq4xQLCPTl35jDZAuXVcPZU+OEDwb4nKYMg4QAywj05dPTZAHwHJYR20PEAa+ie4WP0zQLCPTl35jDZA1y/YDdvWOkCqZWt9kWQxQNUuk86tMT5AxbfYZGZ0OkC46c9+pDA2QOgg1Z0UKzdAKdAn8iTxPECPLkl4VTozQL3GLlG9mzhAIchBCTP1OUBoke18Py0qQGiR7Xw/LSpAjy5JeFU6M0AuVtRgGq4xQIZyol2FdDNAieDM/Le/OEDXL9gN29Y6QIZyol2FdDNAieDM/Le/OEDFt9hkZnQ6QC5W1GAarjFAkbjH0oeqOUC5dVw9lT44QGiR7Xw/LSpAOaAnoqD+N0Dwb4nKYMg4QLl1XD2VPjhA1y/YDdvWOkDVLpPOrTE+QBr6J7hY/TNAkbjH0oeqOUAfAclhHbQ8QL3GLlG9mzhAjy5JeFU6M0CJ2iPBQQAzQGiR7Xw/LSpA1y/YDdvWOkA5oCeioP43QNUuk86tMT5AsI9OXfmMNkDwb4nKYMg4QIngzPy3vzhAKdAn8iTxPEDwb4nKYMg4QAywj05dPTZAjy5JeFU6M0CGcqJdhXQzQCnQJ/Ik8TxAidojwUEAM0A5oCeioP43QC5W1GAarjFA1S6Tzq0xPkCFTXexQ5c4QLCPTl35jDZAlPsdigKFMkC9xi5RvZs4QDmgJ6Kg/jdA1y/YDdvWOkAuVtRgGq4xQKpla32RZDFALlbUYBquMUDwb4nKYMg4QCHIQQkz9TlAuXVcPZU+OECJ4Mz8t784QMTaU5UfJDlA8G+JymDIOECRuMfSh6o5QPBvicpgyDhAhnKiXYV0M0CRuMfSh6o5QPBvicpgyDhAsI9OXfmMNkBoke18Py0qQIngzPy3vzhAkbjH0oeqOUA5oCeioP43QNUuk86tMT5Ajy5JeFU6M0C46c9+pDA2QNcv2A3b1jpAQmDl0CIbOEBg9VQQmUk6QIZyol2FdDNAvcYuUb2bOECU+x2KAoUyQMW32GRmdDpAlPsdigKFMkCFTXexQ5c4QCnQJ/Ik8TxAuOnPfqQwNkDoINWdFCs3QBr6J7hY/TNAhnKiXYV0M0CU+x2KAoUyQLjpz36kMDZAQmDl0CIbOECRuMfSh6o5QI8uSXhVOjNAxNpTlR8kOUCwj05d+Yw2QGD1VBCZSTpAidojwUEAM0CqZWt9kWQxQInaI8FBADNAjy5JeFU6M0CGcqJdhXQzQC5W1GAarjFAjy5JeFU6M0CRuMfSh6o5QDZZox6i8SlAieDM/Le/OEAuVtRgGq4xQGD1VBCZSTpAkbjH0oeqOUD8epjQN7Q2QLCPTl35jDZAKdAn8iTxPECGcqJdhXQzQLjpz36kMDZA1y/YDdvWOkBoke18Py0qQOgg1Z0UKzdAlPsdigKFMkCJ4Mz8t784QPBvicpgyDhAuXVcPZU+OEAa+ie4WP0zQIngzPy3vzhA1S6Tzq0xPkC9xi5RvZs4QJG4x9KHqjlAsI9OXfmMNkBCYOXQIhs4QJT7HYoChTJALlbUYBquMUCqZWt9kWQxQIZyol2FdDNAhU13sUOXOEAhyEEJM/U5QBr6J7hY/TNAieDM/Le/OEC46c9+pDA2QKpla32RZDFAGvonuFj9M0DoINWdFCs3QJT7HYoChTJAIchBCTP1OUAfAclhHbQ8QEJg5dAiGzhAsI9OXfmMNkCwj05d+Yw2QPx6mNA3tDZAvcYuUb2bOEC46c9+pDA2QLl1XD2VPjhAaJHtfD8tKkCGcqJdhXQzQNcv2A3b1jpA8G+JymDIOECwj05d+Yw2QMW32GRmdDpAlPsdigKFMkAMsI9OXT02QKpla32RZDFAhnKiXYV0M0A5oCeioP43QAywj05dPTZAxNpTlR8kOUDXL9gN29Y6QL3GLlG9mzhANlmjHqLxKUDXL9gN29Y6QPx6mNA3tDZALlbUYBquMUC9xi5RvZs4QGiR7Xw/LSpAGvonuFj9M0CqZWt9kWQxQBr6J7hY/TNAqmVrfZFkMUDVLpPOrTE+QLl1XD2VPjhAqmVrfZFkMUDE2lOVHyQ5QPBvicpgyDhA1y/YDdvWOkDFt9hkZnQ6QMTaU5UfJDlAhnKiXYV0M0CRuMfSh6o5QJT7HYoChTJADLCPTl09NkCRuMfSh6o5QBr6J7hY/TNAhU13sUOXOEC9xi5RvZs4QInaI8FBADNAvcYuUb2bOECwj05d+Yw2QDmgJ6Kg/jdAlPsdigKFMkAfAclhHbQ8QNcv2A3b1jpAieDM/Le/OECqZWt9kWQxQNUuk86tMT5AuOnPfqQwNkAuVtRgGq4xQBr6J7hY/TNA1y/YDdvWOkA2WaMeovEpQNcv2A3b1jpALlbUYBquMUAp0CfyJPE8QGD1VBCZSTpAIchBCTP1OUCqZWt9kWQxQOgg1Z0UKzdAuOnPfqQwNkDXL9gN29Y6QDmgJ6Kg/jdAhnKiXYV0M0BCYOXQIhs4QAywj05dPTZAhnKiXYV0M0DFt9hkZnQ6QMW32GRmdDpAxbfYZGZ0OkCRuMfSh6o5QIngzPy3vzhAxbfYZGZ0OkC9xi5RvZs4QMW32GRmdDpAuOnPfqQwNkC46c9+pDA2QIngzPy3vzhAlPsdigKFMkDwb4nKYMg4QOgg1Z0UKzdAsI9OXfmMNkBoke18Py0qQOgg1Z0UKzdA1y/YDdvWOkAuVtRgGq4xQLCPTl35jDZAuXVcPZU+OEAfAclhHbQ8QLl1XD2VPjhAuOnPfqQwNkC46c9+pDA2QPx6mNA3tDZAGvonuFj9M0CqZWt9kWQxQCHIQQkz9TlA1S6Tzq0xPkCGcqJdhXQzQPx6mNA3tDZAkbjH0oeqOUA5oCeioP43QIZyol2FdDNAidojwUEAM0Aa+ie4WP0zQC5W1GAarjFAhnKiXYV0M0CPLkl4VTozQJG4x9KHqjlAuOnPfqQwNkCFTXexQ5c4QPBvicpgyDhAaJHtfD8tKkDFt9hkZnQ6QJT7HYoChTJAYPVUEJlJOkCFTXexQ5c4QNcv2A3b1jpAxbfYZGZ0OkCRuMfSh6o5QCHIQQkz9TlAsI9OXfmMNkAuVtRgGq4xQInaI8FBADNAuOnPfqQwNkAa+ie4WP0zQAywj05dPTZAjy5JeFU6M0C46c9+pDA2QEJg5dAiGzhAqmVrfZFkMUD8epjQN7Q2QAywj05dPTZAHwHJYR20PECwj05d+Yw2QIngzPy3vzhAuOnPfqQwNkBCYOXQIhs4QIZyol2FdDNAsI9OXfmMNkCJ4Mz8t784QMW32GRmdDpAxbfYZGZ0OkDwb4nKYMg4QI8uSXhVOjNANlmjHqLxKUCGcqJdhXQzQMTaU5UfJDlALlbUYBquMUC46c9+pDA2QMTaU5UfJDlA6CDVnRQrN0AfAclhHbQ8QB8ByWEdtDxAhU13sUOXOECPLkl4VTozQNcv2A3b1jpAvcYuUb2bOEBoke18Py0qQGiR7Xw/LSpAhU13sUOXOEC46c9+pDA2QIVNd7FDlzhAuXVcPZU+OEAp0CfyJPE8QPBvicpgyDhAxbfYZGZ0OkCqZWt9kWQxQDZZox6i8SlALlbUYBquMUBoke18Py0qQPBvicpgyDhAqmVrfZFkMUDFt9hkZnQ6QJT7HYoChTJAhnKiXYV0M0CGcqJdhXQzQLl1XD2VPjhAlPsdigKFMkCqZWt9kWQxQLl1XD2VPjhAhnKiXYV0M0Aa+ie4WP0zQPBvicpgyDhAhU13sUOXOECRuMfSh6o5QMW32GRmdDpA1y/YDdvWOkCGcqJdhXQzQNUuk86tMT5AieDM/Le/OEAp0CfyJPE8QIVNd7FDlzhAvcYuUb2bOEC5dVw9lT44QJG4x9KHqjlANlmjHqLxKUC5dVw9lT44QLCPTl35jDZAqmVrfZFkMUDFt9hkZnQ6QGiR7Xw/LSpAuXVcPZU+OEAp0CfyJPE8QGiR7Xw/LSpAlPsdigKFMkCqZWt9kWQxQLCPTl35jDZAQmDl0CIbOEDwb4nKYMg4QDZZox6i8SlALlbUYBquMUDE2lOVHyQ5QLl1XD2VPjhAvcYuUb2bOEDFt9hkZnQ6QJT7HYoChTJAQmDl0CIbOEC5dVw9lT44QKpla32RZDFA8G+JymDIOEDwb4nKYMg4QC5W1GAarjFAvcYuUb2bOEBg9VQQmUk6QLl1XD2VPjhAuXVcPZU+OECGcqJdhXQzQEJg5dAiGzhAvcYuUb2bOECRuMfSh6o5QBr6J7hY/TNAsI9OXfmMNkBCYOXQIhs4QLl1XD2VPjhAqmVrfZFkMUCGcqJdhXQzQAywj05dPTZAkbjH0oeqOUAa+ie4WP0zQCnQJ/Ik8TxAjy5JeFU6M0D8epjQN7Q2QKpla32RZDFAjy5JeFU6M0CPLkl4VTozQPBvicpgyDhAuXVcPZU+OECGcqJdhXQzQPx6mNA3tDZAqmVrfZFkMUCFTXexQ5c4QLCPTl35jDZAIchBCTP1OUDwb4nKYMg4QGD1VBCZSTpA1S6Tzq0xPkDwb4nKYMg4QDZZox6i8SlAieDM/Le/OECRuMfSh6o5QNcv2A3b1jpAkbjH0oeqOUCJ2iPBQQAzQIZyol2FdDNAOaAnoqD+N0DFt9hkZnQ6QPBvicpgyDhAuOnPfqQwNkCwj05d+Yw2QIngzPy3vzhAIchBCTP1OUCJ4Mz8t784QJT7HYoChTJAOaAnoqD+N0C46c9+pDA2QLl1XD2VPjhAsI9OXfmMNkAa+ie4WP0zQIngzPy3vzhAGvonuFj9M0DXL9gN29Y6QMW32GRmdDpAkbjH0oeqOUC9xi5RvZs4QL3GLlG9mzhAqmVrfZFkMUCFTXexQ5c4QIZyol2FdDNADLCPTl09NkCRuMfSh6o5QLl1XD2VPjhAkbjH0oeqOUCqZWt9kWQxQBr6J7hY/TNAieDM/Le/OEDoINWdFCs3QPBvicpgyDhAjy5JeFU6M0A2WaMeovEpQJT7HYoChTJAxNpTlR8kOUCFTXexQ5c4QLjpz36kMDZAGvonuFj9M0CPLkl4VTozQPBvicpgyDhAxbfYZGZ0OkAuVtRgGq4xQInaI8FBADNAhnKiXYV0M0CPLkl4VTozQMW32GRmdDpAxNpTlR8kOUC5dVw9lT44QLjpz36kMDZAIchBCTP1OUDwb4nKYMg4QIngzPy3vzhAxNpTlR8kOUCwj05d+Yw2QCHIQQkz9TlA1y/YDdvWOkBoke18Py0qQGiR7Xw/LSpAhU13sUOXOEAMsI9OXT02QI8uSXhVOjNAuXVcPZU+OECJ4Mz8t784QC5W1GAarjFAlPsdigKFMkCJ4Mz8t784QDmgJ6Kg/jdAkbjH0oeqOUDwb4nKYMg4QB8ByWEdtDxAuXVcPZU+OEC5dVw9lT44QBr6J7hY/TNA6CDVnRQrN0C5dVw9lT44QAywj05dPTZAKdAn8iTxPEC9xi5RvZs4QMW32GRmdDpAuXVcPZU+OEBCYOXQIhs4QEJg5dAiGzhA6CDVnRQrN0CJ4Mz8t784QNUuk86tMT5AidojwUEAM0C5dVw9lT44QMW32GRmdDpAqmVrfZFkMUBg9VQQmUk6QOgg1Z0UKzdAjy5JeFU6M0AMsI9OXT02QGD1VBCZSTpAxbfYZGZ0OkCGcqJdhXQzQEJg5dAiGzhAuOnPfqQwNkCJ4Mz8t784QKpla32RZDFAHwHJYR20PECGcqJdhXQzQMTaU5UfJDlA8G+JymDIOECRuMfSh6o5QLl1XD2VPjhA6CDVnRQrN0CqZWt9kWQxQCnQJ/Ik8TxAxNpTlR8kOUC46c9+pDA2QPBvicpgyDhAaJHtfD8tKkCwj05d+Yw2QL3GLlG9mzhAjy5JeFU6M0A2WaMeovEpQLjpz36kMDZAYPVUEJlJOkDXL9gN29Y6QGiR7Xw/LSpA/HqY0De0NkCJ4Mz8t784QCHIQQkz9TlA8G+JymDIOECPLkl4VTozQL3GLlG9mzhAsI9OXfmMNkC9xi5RvZs4QDZZox6i8SlAYPVUEJlJOkCJ4Mz8t784QIVNd7FDlzhAYPVUEJlJOkCqZWt9kWQxQLl1XD2VPjhAsI9OXfmMNkAuVtRgGq4xQInaI8FBADNAjy5JeFU6M0DXL9gN29Y6QPx6mNA3tDZAsI9OXfmMNkAuVtRgGq4xQNcv2A3b1jpAHwHJYR20PEDoINWdFCs3QMTaU5UfJDlAqmVrfZFkMUBoke18Py0qQKpla32RZDFAOaAnoqD+N0CFTXexQ5c4QB8ByWEdtDxAvcYuUb2bOECqZWt9kWQxQPBvicpgyDhA1S6Tzq0xPkBCYOXQIhs4QIZyol2FdDNA1y/YDdvWOkCGcqJdhXQzQEJg5dAiGzhA1S6Tzq0xPkAfAclhHbQ8QMW32GRmdDpA8G+JymDIOECwj05d+Yw2QMTaU5UfJDlAjy5JeFU6M0C5dVw9lT44QLjpz36kMDZAKdAn8iTxPEA5oCeioP43QB8ByWEdtDxADLCPTl09NkCJ4Mz8t784QCnQJ/Ik8TxAlPsdigKFMkC5dVw9lT44QIVNd7FDlzhAsI9OXfmMNkDVLpPOrTE+QPBvicpgyDhAlPsdigKFMkCqZWt9kWQxQCHIQQkz9TlAieDM/Le/OECJ4Mz8t784QB8ByWEdtDxAGvonuFj9M0AMsI9OXT02QDmgJ6Kg/jdAkbjH0oeqOUDVLpPOrTE+QIngzPy3vzhAuOnPfqQwNkCRuMfSh6o5QCnQJ/Ik8TxAxbfYZGZ0OkAMsI9OXT02QGiR7Xw/LSpALlbUYBquMUC46c9+pDA2QLl1XD2VPjhA/HqY0De0NkD8epjQN7Q2QJT7HYoChTJAkbjH0oeqOUCqZWt9kWQxQCHIQQkz9TlAlPsdigKFMkCU+x2KAoUyQIVNd7FDlzhALlbUYBquMUC46c9+pDA2QIVNd7FDlzhAxbfYZGZ0OkC46c9+pDA2QKpla32RZDFAIchBCTP1OUC9xi5RvZs4QOgg1Z0UKzdAhnKiXYV0M0CU+x2KAoUyQPBvicpgyDhA1y/YDdvWOkCPLkl4VTozQB8ByWEdtDxAqmVrfZFkMUCGcqJdhXQzQL3GLlG9mzhAKdAn8iTxPEDwb4nKYMg4QLjpz36kMDZAjy5JeFU6M0AuVtRgGq4xQLl1XD2VPjhAuOnPfqQwNkCPLkl4VTozQDZZox6i8SlAIchBCTP1OUA5oCeioP43QIngzPy3vzhAlPsdigKFMkA5oCeioP43QDmgJ6Kg/jdAieDM/Le/OECRuMfSh6o5QCnQJ/Ik8TxAlPsdigKFMkCGcqJdhXQzQCHIQQkz9TlAhU13sUOXOECPLkl4VTozQAywj05dPTZAhnKiXYV0M0CGcqJdhXQzQB8ByWEdtDxAhnKiXYV0M0DXL9gN29Y6QB8ByWEdtDxAsI9OXfmMNkDVLpPOrTE+QCnQJ/Ik8TxAhnKiXYV0M0BCYOXQIhs4QC5W1GAarjFAkbjH0oeqOUDFt9hkZnQ6QI8uSXhVOjNAieDM/Le/OEDVLpPOrTE+QL3GLlG9mzhAvcYuUb2bOEBoke18Py0qQDmgJ6Kg/jdA8G+JymDIOECGcqJdhXQzQI8uSXhVOjNAOaAnoqD+N0C46c9+pDA2QJG4x9KHqjlAxbfYZGZ0OkCRuMfSh6o5QCHIQQkz9TlA6CDVnRQrN0AfAclhHbQ8QDZZox6i8SlAidojwUEAM0Aa+ie4WP0zQJG4x9KHqjlAKdAn8iTxPECPLkl4VTozQIngzPy3vzhAKdAn8iTxPEDwb4nKYMg4QAywj05dPTZA1y/YDdvWOkA5oCeioP43QIZyol2FdDNAaJHtfD8tKkBCYOXQIhs4QMW32GRmdDpAGvonuFj9M0Dwb4nKYMg4QKpla32RZDFAxbfYZGZ0OkAhyEEJM/U5QL3GLlG9mzhAhnKiXYV0M0CGcqJdhXQzQLl1XD2VPjhAxNpTlR8kOUAp0CfyJPE8QIZyol2FdDNAuOnPfqQwNkAhyEEJM/U5QNUuk86tMT5A1S6Tzq0xPkBCYOXQIhs4QGiR7Xw/LSpA1S6Tzq0xPkCqZWt9kWQxQIZyol2FdDNAvcYuUb2bOEAMsI9OXT02QPBvicpgyDhAuOnPfqQwNkDVLpPOrTE+QPBvicpgyDhAOaAnoqD+N0AuVtRgGq4xQGD1VBCZSTpAxbfYZGZ0OkAuVtRgGq4xQB8ByWEdtDxA1y/YDdvWOkAa+ie4WP0zQL3GLlG9mzhAqmVrfZFkMUA2WaMeovEpQEJg5dAiGzhAIchBCTP1OUCJ4Mz8t784QLjpz36kMDZALlbUYBquMUCU+x2KAoUyQCHIQQkz9TlA6CDVnRQrN0AuVtRgGq4xQLl1XD2VPjhAKdAn8iTxPEDwb4nKYMg4QC5W1GAarjFAieDM/Le/OECFTXexQ5c4QIZyol2FdDNA8G+JymDIOECU+x2KAoUyQB8ByWEdtDxADLCPTl09NkAuVtRgGq4xQJG4x9KHqjlAhnKiXYV0M0CFTXexQ5c4QLjpz36kMDZAkbjH0oeqOUCqZWt9kWQxQLCPTl35jDZA/HqY0De0NkDFt9hkZnQ6QMW32GRmdDpAuXVcPZU+OECGcqJdhXQzQIZyol2FdDNAYPVUEJlJOkAuVtRgGq4xQI8uSXhVOjNANlmjHqLxKUCU+x2KAoUyQLjpz36kMDZA8G+JymDIOECPLkl4VTozQPBvicpgyDhA/HqY0De0NkDFt9hkZnQ6QDZZox6i8SlAhnKiXYV0M0CPLkl4VTozQInaI8FBADNAlPsdigKFMkDwb4nKYMg4QKpla32RZDFAuOnPfqQwNkCFTXexQ5c4QC5W1GAarjFAxNpTlR8kOUCwj05d+Yw2QGD1VBCZSTpAHwHJYR20PEDwb4nKYMg4QLl1XD2VPjhAHwHJYR20PED8epjQN7Q2QLl1XD2VPjhAsI9OXfmMNkCPLkl4VTozQNcv2A3b1jpAidojwUEAM0DVLpPOrTE+QNcv2A3b1jpAhU13sUOXOEC46c9+pDA2QL3GLlG9mzhAvcYuUb2bOEAa+ie4WP0zQI8uSXhVOjNANlmjHqLxKUCJ4Mz8t784QAywj05dPTZAjy5JeFU6M0DXL9gN29Y6QJG4x9KHqjlAaJHtfD8tKkDwb4nKYMg4QCHIQQkz9TlAOaAnoqD+N0AhyEEJM/U5QJT7HYoChTJAsI9OXfmMNkA2WaMeovEpQMTaU5UfJDlANlmjHqLxKUCJ4Mz8t784QIngzPy3vzhA/HqY0De0NkC46c9+pDA2QC5W1GAarjFAqmVrfZFkMUC5dVw9lT44QI8uSXhVOjNAQmDl0CIbOEDoINWdFCs3QDZZox6i8SlAYPVUEJlJOkDoINWdFCs3QJT7HYoChTJAjy5JeFU6M0CPLkl4VTozQB8ByWEdtDxAxbfYZGZ0OkDoINWdFCs3QLjpz36kMDZAhnKiXYV0M0AhyEEJM/U5QMW32GRmdDpAHwHJYR20PECRuMfSh6o5QNcv2A3b1jpALlbUYBquMUBoke18Py0qQDmgJ6Kg/jdAxbfYZGZ0OkCRuMfSh6o5QIZyol2FdDNAQmDl0CIbOECwj05d+Yw2QKpla32RZDFAaJHtfD8tKkDwb4nKYMg4QC5W1GAarjFA1y/YDdvWOkDVLpPOrTE+QLl1XD2VPjhA1y/YDdvWOkCJ2iPBQQAzQPx6mNA3tDZAuOnPfqQwNkAa+ie4WP0zQNUuk86tMT5A/HqY0De0NkDoINWdFCs3QJG4x9KHqjlAQmDl0CIbOED8epjQN7Q2QL3GLlG9mzhAsI9OXfmMNkCFTXexQ5c4QIZyol2FdDNAuOnPfqQwNkBoke18Py0qQNcv2A3b1jpAuOnPfqQwNkA5oCeioP43QI8uSXhVOjNAaJHtfD8tKkCRuMfSh6o5QGiR7Xw/LSpAKdAn8iTxPEAhyEEJM/U5QMTaU5UfJDlAxNpTlR8kOUC46c9+pDA2QJG4x9KHqjlAhU13sUOXOEC9xi5RvZs4QPBvicpgyDhA6CDVnRQrN0C9xi5RvZs4QI8uSXhVOjNAOaAnoqD+N0A2WaMeovEpQCHIQQkz9TlAidojwUEAM0DE2lOVHyQ5QKpla32RZDFAkbjH0oeqOUA5oCeioP43QLl1XD2VPjhAaJHtfD8tKkDVLpPOrTE+QMW32GRmdDpAieDM/Le/OEC46c9+pDA2QIVNd7FDlzhAhU13sUOXOEA2WaMeovEpQNcv2A3b1jpA1y/YDdvWOkCGcqJdhXQzQIZyol2FdDNAGvonuFj9M0A5oCeioP43QKpla32RZDFANlmjHqLxKUC46c9+pDA2QNcv2A3b1jpAuXVcPZU+OEDE2lOVHyQ5QLl1XD2VPjhAuXVcPZU+OEAfAclhHbQ8QPBvicpgyDhAxbfYZGZ0OkCJ4Mz8t784QJG4x9KHqjlAhnKiXYV0M0DXL9gN29Y6QJT7HYoChTJAhU13sUOXOEA5oCeioP43QNcv2A3b1jpAlPsdigKFMkDoINWdFCs3QB8ByWEdtDxADLCPTl09NkBCYOXQIhs4QDmgJ6Kg/jdAieDM/Le/OEDwb4nKYMg4QLjpz36kMDZAxbfYZGZ0OkCqZWt9kWQxQC5W1GAarjFAxbfYZGZ0OkAhyEEJM/U5QI8uSXhVOjNAhnKiXYV0M0CPLkl4VTozQPBvicpgyDhAuXVcPZU+OEAa+ie4WP0zQInaI8FBADNAuXVcPZU+OEC5dVw9lT44QLjpz36kMDZAIchBCTP1OUD8epjQN7Q2QBr6J7hY/TNAHwHJYR20PEC5dVw9lT44QKpla32RZDFANlmjHqLxKUD8epjQN7Q2QL3GLlG9mzhA1S6Tzq0xPkCJ2iPBQQAzQGD1VBCZSTpANlmjHqLxKUDXL9gN29Y6QPBvicpgyDhAhU13sUOXOEAp0CfyJPE8QC5W1GAarjFAuXVcPZU+OEC9xi5RvZs4QB8ByWEdtDxAieDM/Le/OECPLkl4VTozQPBvicpgyDhAOaAnoqD+N0CPLkl4VTozQAywj05dPTZAKdAn8iTxPECU+x2KAoUyQKpla32RZDFA8G+JymDIOEAMsI9OXT02QKpla32RZDFAxbfYZGZ0OkAhyEEJM/U5QL3GLlG9mzhAhU13sUOXOECU+x2KAoUyQJG4x9KHqjlAIchBCTP1OUA5oCeioP43QJT7HYoChTJAuOnPfqQwNkCJ4Mz8t784QIngzPy3vzhAHwHJYR20PEA5oCeioP43QMW32GRmdDpAhnKiXYV0M0DFt9hkZnQ6QIZyol2FdDNAjy5JeFU6M0DXL9gN29Y6QCnQJ/Ik8TxAKdAn8iTxPEBCYOXQIhs4QLl1XD2VPjhAidojwUEAM0Dwb4nKYMg4QIngzPy3vzhADLCPTl09NkCwj05d+Yw2QLjpz36kMDZAIchBCTP1OUAfAclhHbQ8QDmgJ6Kg/jdAxbfYZGZ0OkDwb4nKYMg4QOgg1Z0UKzdAaJHtfD8tKkC5dVw9lT44QC5W1GAarjFALlbUYBquMUA5oCeioP43QMW32GRmdDpANlmjHqLxKUCJ2iPBQQAzQCnQJ/Ik8TxAqmVrfZFkMUCPLkl4VTozQAywj05dPTZAuOnPfqQwNkBoke18Py0qQIVNd7FDlzhAjy5JeFU6M0Bg9VQQmUk6QGiR7Xw/LSpAqmVrfZFkMUAhyEEJM/U5QGD1VBCZSTpADLCPTl09NkBoke18Py0qQGiR7Xw/LSpAOaAnoqD+N0CFTXexQ5c4QLl1XD2VPjhAxbfYZGZ0OkC46c9+pDA2QDmgJ6Kg/jdAlPsdigKFMkC46c9+pDA2QPx6mNA3tDZAIchBCTP1OUAuVtRgGq4xQKpla32RZDFAYPVUEJlJOkDE2lOVHyQ5QMW32GRmdDpANlmjHqLxKUAfAclhHbQ8QDZZox6i8SlAIchBCTP1OUAfAclhHbQ8QGiR7Xw/LSpAuXVcPZU+OEDE2lOVHyQ5QIngzPy3vzhAsI9OXfmMNkA5oCeioP43QDmgJ6Kg/jdAhU13sUOXOEBoke18Py0qQIZyol2FdDNA1S6Tzq0xPkC5dVw9lT44QB8ByWEdtDxAxbfYZGZ0OkC5dVw9lT44QKpla32RZDFAvcYuUb2bOEC9xi5RvZs4QDmgJ6Kg/jdAxbfYZGZ0OkDFt9hkZnQ6QIVNd7FDlzhAuXVcPZU+OECwj05d+Yw2QCHIQQkz9TlAxNpTlR8kOUCPLkl4VTozQKpla32RZDFAhnKiXYV0M0A2WaMeovEpQNUuk86tMT5ANlmjHqLxKUCwj05d+Yw2QLCPTl35jDZA8G+JymDIOEA2WaMeovEpQMTaU5UfJDlAsI9OXfmMNkC5dVw9lT44QNcv2A3b1jpADLCPTl09NkBCYOXQIhs4QCHIQQkz9TlAkbjH0oeqOUC46c9+pDA2QKpla32RZDFAGvonuFj9M0CFTXexQ5c4QIVNd7FDlzhAYPVUEJlJOkCFTXexQ5c4QMTaU5UfJDlAIchBCTP1OUCFTXexQ5c4QIngzPy3vzhAkbjH0oeqOUCU+x2KAoUyQNUuk86tMT5AsI9OXfmMNkCPLkl4VTozQNUuk86tMT5AuOnPfqQwNkCJ4Mz8t784QBr6J7hY/TNAidojwUEAM0CJ4Mz8t784QLjpz36kMDZAuOnPfqQwNkC5dVw9lT44QJT7HYoChTJAuOnPfqQwNkDFt9hkZnQ6QCHIQQkz9TlAjy5JeFU6M0BCYOXQIhs4QIVNd7FDlzhAOaAnoqD+N0BCYOXQIhs4QL3GLlG9mzhAHwHJYR20PEC9xi5RvZs4QIngzPy3vzhAieDM/Le/OEBCYOXQIhs4QJG4x9KHqjlAjy5JeFU6M0BCYOXQIhs4QJT7HYoChTJAhU13sUOXOECwj05d+Yw2QAywj05dPTZAOaAnoqD+N0CFTXexQ5c4QDZZox6i8SlAOaAnoqD+N0CU+x2KAoUyQJT7HYoChTJAieDM/Le/OEC9xi5RvZs4QNcv2A3b1jpAxNpTlR8kOUC5dVw9lT44QOgg1Z0UKzdAQmDl0CIbOECGcqJdhXQzQDmgJ6Kg/jdAieDM/Le/OEAp0CfyJPE8QBr6J7hY/TNA1y/YDdvWOkCGcqJdhXQzQLjpz36kMDZAsI9OXfmMNkAuVtRgGq4xQAywj05dPTZAieDM/Le/OEAp0CfyJPE8QLl1XD2VPjhAhnKiXYV0M0CU+x2KAoUyQCHIQQkz9TlAuOnPfqQwNkDVLpPOrTE+QNUuk86tMT5AIchBCTP1OUCJ4Mz8t784QInaI8FBADNANlmjHqLxKUAMsI9OXT02QI8uSXhVOjNAuOnPfqQwNkCGcqJdhXQzQC5W1GAarjFALlbUYBquMUDXL9gN29Y6QI8uSXhVOjNA1y/YDdvWOkCqZWt9kWQxQNUuk86tMT5AvcYuUb2bOEDFt9hkZnQ6QOgg1Z0UKzdALlbUYBquMUDXL9gN29Y6QMW32GRmdDpA8G+JymDIOECFTXexQ5c4QMTaU5UfJDlA1y/YDdvWOkAMsI9OXT02QLjpz36kMDZAHwHJYR20PEA5oCeioP43QBr6J7hY/TNA1y/YDdvWOkDwb4nKYMg4QL3GLlG9mzhA/HqY0De0NkCFTXexQ5c4QBr6J7hY/TNAsI9OXfmMNkC9xi5RvZs4QAywj05dPTZAhU13sUOXOEDoINWdFCs3QIVNd7FDlzhA1y/YDdvWOkCwj05d+Yw2QGiR7Xw/LSpA6CDVnRQrN0A2WaMeovEpQLCPTl35jDZAQmDl0CIbOECJ4Mz8t784QDZZox6i8SlAuOnPfqQwNkCJ2iPBQQAzQMW32GRmdDpAIchBCTP1OUCPLkl4VTozQLl1XD2VPjhANlmjHqLxKUAfAclhHbQ8QI8uSXhVOjNAjy5JeFU6M0Cwj05d+Yw2QIZyol2FdDNAaJHtfD8tKkAMsI9OXT02QIZyol2FdDNAjy5JeFU6M0Cwj05d+Yw2QB8ByWEdtDxADLCPTl09NkCJ4Mz8t784QL3GLlG9mzhAIchBCTP1OUCJ4Mz8t784QIZyol2FdDNA/HqY0De0NkAhyEEJM/U5QDmgJ6Kg/jdA8G+JymDIOEDVLpPOrTE+QJG4x9KHqjlAjy5JeFU6M0D8epjQN7Q2QEJg5dAiGzhAhnKiXYV0M0Aa+ie4WP0zQGiR7Xw/LSpALlbUYBquMUCFTXexQ5c4QPBvicpgyDhAGvonuFj9M0Dwb4nKYMg4QBr6J7hY/TNA/HqY0De0NkCFTXexQ5c4QMW32GRmdDpAxNpTlR8kOUBCYOXQIhs4QMW32GRmdDpAlPsdigKFMkAp0CfyJPE8QPBvicpgyDhAkbjH0oeqOUCJ2iPBQQAzQKpla32RZDFAieDM/Le/OECJ2iPBQQAzQI8uSXhVOjNAHwHJYR20PEA2WaMeovEpQMW32GRmdDpAuXVcPZU+OEDFt9hkZnQ6QInaI8FBADNAuOnPfqQwNkDwb4nKYMg4QEJg5dAiGzhA6CDVnRQrN0DVLpPOrTE+QDZZox6i8SlAQmDl0CIbOEC46c9+pDA2QB8ByWEdtDxAjy5JeFU6M0DFt9hkZnQ6QMW32GRmdDpAhnKiXYV0M0CJ4Mz8t784QIVNd7FDlzhAHwHJYR20PEDVLpPOrTE+QOgg1Z0UKzdAhnKiXYV0M0Bg9VQQmUk6QIZyol2FdDNAvcYuUb2bOECGcqJdhXQzQCnQJ/Ik8TxAqmVrfZFkMUC5dVw9lT44QMW32GRmdDpAKdAn8iTxPEDFt9hkZnQ6QGD1VBCZSTpAOaAnoqD+N0AuVtRgGq4xQDmgJ6Kg/jdAxbfYZGZ0OkBg9VQQmUk6QPBvicpgyDhAvcYuUb2bOEAhyEEJM/U5QPBvicpgyDhAkbjH0oeqOUBg9VQQmUk6QC5W1GAarjFAHwHJYR20PEAuVtRgGq4xQDmgJ6Kg/jdAuOnPfqQwNkAMsI9OXT02QGiR7Xw/LSpAvcYuUb2bOECJ4Mz8t784QL3GLlG9mzhAqmVrfZFkMUBCYOXQIhs4QNUuk86tMT5AuXVcPZU+OECU+x2KAoUyQAywj05dPTZAIchBCTP1OUAuVtRgGq4xQLCPTl35jDZAQmDl0CIbOEAp0CfyJPE8QDmgJ6Kg/jdAqmVrfZFkMUC46c9+pDA2QPx6mNA3tDZAjy5JeFU6M0C46c9+pDA2QKpla32RZDFAIchBCTP1OUAuVtRgGq4xQLjpz36kMDZAlPsdigKFMkCGcqJdhXQzQDZZox6i8SlAYPVUEJlJOkCRuMfSh6o5QPBvicpgyDhAhnKiXYV0M0DXL9gN29Y6QLjpz36kMDZAhU13sUOXOECGcqJdhXQzQDZZox6i8SlA/HqY0De0NkCPLkl4VTozQLjpz36kMDZANlmjHqLxKUAp0CfyJPE8QNUuk86tMT5AQmDl0CIbOEAp0CfyJPE8QIVNd7FDlzhAKdAn8iTxPEAMsI9OXT02QIVNd7FDlzhAaJHtfD8tKkCJ4Mz8t784QLl1XD2VPjhAvcYuUb2bOEAp0CfyJPE8QMW32GRmdDpALlbUYBquMUDE2lOVHyQ5QInaI8FBADNAqmVrfZFkMUCGcqJdhXQzQPx6mNA3tDZAOaAnoqD+N0CPLkl4VTozQIVNd7FDlzhAOaAnoqD+N0AfAclhHbQ8QCHIQQkz9TlAvcYuUb2bOECU+x2KAoUyQPBvicpgyDhAaJHtfD8tKkDVLpPOrTE+QNcv2A3b1jpAIchBCTP1OUCwj05d+Yw2QInaI8FBADNA1S6Tzq0xPkCJ4Mz8t784QInaI8FBADNAOaAnoqD+N0CGcqJdhXQzQDmgJ6Kg/jdAQmDl0CIbOECFTXexQ5c4QPBvicpgyDhAIchBCTP1OUCJ2iPBQQAzQJG4x9KHqjlAQmDl0CIbOEDoINWdFCs3QEJg5dAiGzhAOaAnoqD+N0Aa+ie4WP0zQNUuk86tMT5AxbfYZGZ0OkCPLkl4VTozQLCPTl35jDZAvcYuUb2bOEDE2lOVHyQ5QNUuk86tMT5AxbfYZGZ0OkDFt9hkZnQ6QNUuk86tMT5AuXVcPZU+OEDwb4nKYMg4QNcv2A3b1jpALlbUYBquMUCqZWt9kWQxQNUuk86tMT5AHwHJYR20PEDFt9hkZnQ6QLjpz36kMDZAhnKiXYV0M0CGcqJdhXQzQPBvicpgyDhAOaAnoqD+N0DoINWdFCs3QC5W1GAarjFAaJHtfD8tKkCwj05d+Yw2QLCPTl35jDZAidojwUEAM0DFt9hkZnQ6QNcv2A3b1jpAsI9OXfmMNkC5dVw9lT44QI8uSXhVOjNA8G+JymDIOECPLkl4VTozQPx6mNA3tDZA/HqY0De0NkC46c9+pDA2QNUuk86tMT5AsI9OXfmMNkBCYOXQIhs4QCHIQQkz9TlAIchBCTP1OUA5oCeioP43QI8uSXhVOjNAHwHJYR20PECFTXexQ5c4QMTaU5UfJDlA1S6Tzq0xPkC9xi5RvZs4QAywj05dPTZAhnKiXYV0M0DXL9gN29Y6QB8ByWEdtDxAYPVUEJlJOkCJ4Mz8t784QLCPTl35jDZA8G+JymDIOEAuVtRgGq4xQL3GLlG9mzhAOaAnoqD+N0C5dVw9lT44QI8uSXhVOjNA1y/YDdvWOkC5dVw9lT44QLCPTl35jDZAaJHtfD8tKkCqZWt9kWQxQInaI8FBADNAieDM/Le/OECFTXexQ5c4QIVNd7FDlzhAxbfYZGZ0OkDXL9gN29Y6QNUuk86tMT5AIchBCTP1OUC46c9+pDA2QNUuk86tMT5AvcYuUb2bOEAuVtRgGq4xQCnQJ/Ik8TxAlPsdigKFMkC5dVw9lT44QDZZox6i8SlAqmVrfZFkMUDoINWdFCs3QLCPTl35jDZAuOnPfqQwNkCqZWt9kWQxQI8uSXhVOjNAlPsdigKFMkAp0CfyJPE8QEJg5dAiGzhAjy5JeFU6M0CU+x2KAoUyQC5W1GAarjFAKdAn8iTxPECGcqJdhXQzQBr6J7hY/TNAaJHtfD8tKkBCYOXQIhs4QLCPTl35jDZAKdAn8iTxPEDXL9gN29Y6QIZyol2FdDNAxNpTlR8kOUAhyEEJM/U5QDmgJ6Kg/jdALlbUYBquMUDwb4nKYMg4QDZZox6i8SlAsI9OXfmMNkCwj05d+Yw2QGiR7Xw/LSpAlPsdigKFMkA5oCeioP43QJG4x9KHqjlAuOnPfqQwNkCJ2iPBQQAzQLjpz36kMDZAvcYuUb2bOEA5oCeioP43QJT7HYoChTJAYPVUEJlJOkBCYOXQIhs4QIZyol2FdDNA/HqY0De0NkAp0CfyJPE8QNUuk86tMT5Ajy5JeFU6M0C9xi5RvZs4QLjpz36kMDZAhnKiXYV0M0Boke18Py0qQC5W1GAarjFAHwHJYR20PECJ4Mz8t784QKpla32RZDFAidojwUEAM0CGcqJdhXQzQIZyol2FdDNAkbjH0oeqOUA5oCeioP43QPBvicpgyDhAvcYuUb2bOEAMsI9OXT02QKpla32RZDFAqmVrfZFkMUDFt9hkZnQ6QI8uSXhVOjNA1S6Tzq0xPkAa+ie4WP0zQNcv2A3b1jpAhnKiXYV0M0DXL9gN29Y6QPx6mNA3tDZAlPsdigKFMkCU+x2KAoUyQC5W1GAarjFAqmVrfZFkMUCJ4Mz8t784QLjpz36kMDZA8G+JymDIOECqZWt9kWQxQMW32GRmdDpAhnKiXYV0M0CU+x2KAoUyQMW32GRmdDpAOaAnoqD+N0DXL9gN29Y6QEJg5dAiGzhAuOnPfqQwNkCRuMfSh6o5QEJg5dAiGzhAaJHtfD8tKkCqZWt9kWQxQDmgJ6Kg/jdAaJHtfD8tKkCRuMfSh6o5QIZyol2FdDNAuOnPfqQwNkDFt9hkZnQ6QI8uSXhVOjNANlmjHqLxKUCFTXexQ5c4QJG4x9KHqjlAuOnPfqQwNkCU+x2KAoUyQIngzPy3vzhAwf9WsmMfNUDVLpPOrTE+QMTaU5UfJDlA1y/YDdvWOkCJ4Mz8t784QGiR7Xw/LSpAuOnPfqQwNkC9xi5RvZs4QDZZox6i8SlA1y/YDdvWOkAhyEEJM/U5QPx6mNA3tDZAhnKiXYV0M0DE2lOVHyQ5QGiR7Xw/LSpAQmDl0CIbOEAMsI9OXT02QLjpz36kMDZAHwHJYR20PECFTXexQ5c4QLjpz36kMDZAYPVUEJlJOkD8epjQN7Q2QMTaU5UfJDlAuOnPfqQwNkDFt9hkZnQ6QInaI8FBADNAYPVUEJlJOkCJ4Mz8t784QJT7HYoChTJAieDM/Le/OECPLkl4VTozQIVNd7FDlzhAGvonuFj9M0Boke18Py0qQGD1VBCZSTpAuOnPfqQwNkBoke18Py0qQKpla32RZDFALlbUYBquMUDVLpPOrTE+QL3GLlG9mzhAxbfYZGZ0OkCFTXexQ5c4QIngzPy3vzhAsI9OXfmMNkCJ2iPBQQAzQIngzPy3vzhA8G+JymDIOECGcqJdhXQzQGiR7Xw/LSpAhnKiXYV0M0CRuMfSh6o5QPBvicpgyDhAuXVcPZU+OECRuMfSh6o5QPBvicpgyDhAidojwUEAM0CFTXexQ5c4QMW32GRmdDpAuXVcPZU+OECwj05d+Yw2QCnQJ/Ik8TxAkbjH0oeqOUDXL9gN29Y6QBr6J7hY/TNAjy5JeFU6M0D8epjQN7Q2QIZyol2FdDNAHwHJYR20PEC46c9+pDA2QCHIQQkz9TlAjy5JeFU6M0CPLkl4VTozQMTaU5UfJDlAlPsdigKFMkCGcqJdhXQzQL3GLlG9mzhAQmDl0CIbOECU+x2KAoUyQAywj05dPTZAxNpTlR8kOUCJ2iPBQQAzQBr6J7hY/TNAqmVrfZFkMUDVLpPOrTE+QOgg1Z0UKzdANlmjHqLxKUCGcqJdhXQzQEJg5dAiGzhALlbUYBquMUDwb4nKYMg4QJG4x9KHqjlA8G+JymDIOECFTXexQ5c4QIngzPy3vzhAsI9OXfmMNkC46c9+pDA2QKpla32RZDFAlPsdigKFMkDwb4nKYMg4QL3GLlG9mzhAidojwUEAM0CJ2iPBQQAzQJT7HYoChTJAKdAn8iTxPEC46c9+pDA2QCHIQQkz9TlAqmVrfZFkMUCwj05d+Yw2QB8ByWEdtDxA8G+JymDIOEC46c9+pDA2QKpla32RZDFA6CDVnRQrN0CGcqJdhXQzQDZZox6i8SlAOaAnoqD+N0DFt9hkZnQ6QEJg5dAiGzhADLCPTl09NkD8epjQN7Q2QEJg5dAiGzhAGvonuFj9M0Aa+ie4WP0zQI8uSXhVOjNANlmjHqLxKUDVLpPOrTE+QGD1VBCZSTpAxbfYZGZ0OkBoke18Py0qQNUuk86tMT5A1y/YDdvWOkDFt9hkZnQ6QC5W1GAarjFA6CDVnRQrN0Boke18Py0qQLl1XD2VPjhAIchBCTP1OUCqZWt9kWQxQNUuk86tMT5ANlmjHqLxKUAhyEEJM/U5QJT7HYoChTJA1y/YDdvWOkD8epjQN7Q2QDZZox6i8SlADLCPTl09NkC9xi5RvZs4QGiR7Xw/LSpAvcYuUb2bOEA2WaMeovEpQDmgJ6Kg/jdAhU13sUOXOECqZWt9kWQxQNcv2A3b1jpAHwHJYR20PEDXL9gN29Y6QL3GLlG9mzhAQmDl0CIbOECqZWt9kWQxQLCPTl35jDZAieDM/Le/OECJ4Mz8t784QJT7HYoChTJADLCPTl09NkDFt9hkZnQ6QIVNd7FDlzhAqmVrfZFkMUDoINWdFCs3QI8uSXhVOjNAuXVcPZU+OECGcqJdhXQzQLjpz36kMDZAvcYuUb2bOECJ4Mz8t784QL3GLlG9mzhAKdAn8iTxPEDVLpPOrTE+QPBvicpgyDhAOaAnoqD+N0CJ2iPBQQAzQJG4x9KHqjlA1y/YDdvWOkD8epjQN7Q2QL3GLlG9mzhAkbjH0oeqOUAp0CfyJPE8QIVNd7FDlzhAqmVrfZFkMUBg9VQQmUk6QOgg1Z0UKzdAuOnPfqQwNkA2WaMeovEpQCnQJ/Ik8TxAHwHJYR20PEBCYOXQIhs4QInaI8FBADNAYPVUEJlJOkCU+x2KAoUyQPx6mNA3tDZAHwHJYR20PEC5dVw9lT44QJT7HYoChTJAuXVcPZU+OEDXL9gN29Y6QLCPTl35jDZAsI9OXfmMNkAMsI9OXT02QI8uSXhVOjNAkbjH0oeqOUCGcqJdhXQzQIngzPy3vzhAuOnPfqQwNkA2WaMeovEpQCnQJ/Ik8TxAqmVrfZFkMUCPLkl4VTozQL3GLlG9mzhAuXVcPZU+OEA5oCeioP43QBr6J7hY/TNAieDM/Le/OEDoINWdFCs3QAywj05dPTZAvcYuUb2bOECU+x2KAoUyQIZyol2FdDNAHwHJYR20PEDwb4nKYMg4QNUuk86tMT5AaJHtfD8tKkCFTXexQ5c4QPx6mNA3tDZADLCPTl09NkCGcqJdhXQzQI8uSXhVOjNAaJHtfD8tKkD8epjQN7Q2QC5W1GAarjFAaJHtfD8tKkCJ4Mz8t784QOgg1Z0UKzdAIchBCTP1OUCRuMfSh6o5QNcv2A3b1jpA8G+JymDIOEDoINWdFCs3QIZyol2FdDNAuOnPfqQwNkBCYOXQIhs4QNUuk86tMT5ANlmjHqLxKUC9xi5RvZs4QDZZox6i8SlAjy5JeFU6M0Bg9VQQmUk6QCHIQQkz9TlAxNpTlR8kOUAp0CfyJPE8QOgg1Z0UKzdAuXVcPZU+OECU+x2KAoUyQJG4x9KHqjlAqmVrfZFkMUDwb4nKYMg4QNcv2A3b1jpAxbfYZGZ0OkCFTXexQ5c4QLjpz36kMDZA/HqY0De0NkDoINWdFCs3QC5W1GAarjFAlPsdigKFMkCPLkl4VTozQNUuk86tMT5AaJHtfD8tKkDFt9hkZnQ6QMW32GRmdDpAOaAnoqD+N0C46c9+pDA2QIZyol2FdDNAieDM/Le/OEAfAclhHbQ8QMW32GRmdDpAKdAn8iTxPEA2WaMeovEpQLjpz36kMDZAxbfYZGZ0OkAfAclhHbQ8QKpla32RZDFAsI9OXfmMNkCPLkl4VTozQCHIQQkz9TlAieDM/Le/OECqZWt9kWQxQIVNd7FDlzhAQmDl0CIbOEDFt9hkZnQ6QNcv2A3b1jpAQmDl0CIbOEC5dVw9lT44QLCPTl35jDZA1y/YDdvWOkDFt9hkZnQ6QOgg1Z0UKzdAsI9OXfmMNkCwj05d+Yw2QLCPTl35jDZAYPVUEJlJOkCwj05d+Yw2QMTaU5UfJDlAuOnPfqQwNkDVLpPOrTE+QBr6J7hY/TNAxbfYZGZ0OkDXL9gN29Y6QIZyol2FdDNA/HqY0De0NkDVLpPOrTE+QLjpz36kMDZA6CDVnRQrN0CqZWt9kWQxQL3GLlG9mzhA8G+JymDIOEAhyEEJM/U5QCnQJ/Ik8TxA6CDVnRQrN0Dwb4nKYMg4QGiR7Xw/LSpA/HqY0De0NkAhyEEJM/U5QKpla32RZDFAIchBCTP1OUCPLkl4VTozQIVNd7FDlzhA6CDVnRQrN0DXL9gN29Y6QNcv2A3b1jpAvcYuUb2bOEA5oCeioP43QLjpz36kMDZA/HqY0De0NkC5dVw9lT44QL3GLlG9mzhAuXVcPZU+OECJ4Mz8t784QDmgJ6Kg/jdAaJHtfD8tKkCwj05d+Yw2QIngzPy3vzhAGvonuFj9M0AfAclhHbQ8QPBvicpgyDhAhU13sUOXOEAhyEEJM/U5QKpla32RZDFA8G+JymDIOEC9xi5RvZs4QNUuk86tMT5AIchBCTP1OUC9xi5RvZs4QPBvicpgyDhAIchBCTP1OUCJ2iPBQQAzQLCPTl35jDZA8G+JymDIOEC9xi5RvZs4QMW32GRmdDpAuOnPfqQwNkDE2lOVHyQ5QDZZox6i8SlAaJHtfD8tKkCwj05d+Yw2QIZyol2FdDNAIchBCTP1OUA2WaMeovEpQIngzPy3vzhAKdAn8iTxPECwj05d+Yw2QCnQJ/Ik8TxAuXVcPZU+OECwj05d+Yw2QCHIQQkz9TlAIchBCTP1OUDwb4nKYMg4QIVNd7FDlzhAQmDl0CIbOEAhyEEJM/U5QPBvicpgyDhAYPVUEJlJOkCGcqJdhXQzQJG4x9KHqjlAaJHtfD8tKkDE2lOVHyQ5QKpla32RZDFA1S6Tzq0xPkDFt9hkZnQ6QIZyol2FdDNAlPsdigKFMkCGcqJdhXQzQB8ByWEdtDxAQmDl0CIbOECqZWt9kWQxQCHIQQkz9TlA1y/YDdvWOkCPLkl4VTozQNUuk86tMT5A1S6Tzq0xPkAfAclhHbQ8QKpla32RZDFA1S6Tzq0xPkA2WaMeovEpQGiR7Xw/LSpALlbUYBquMUDoINWdFCs3QNcv2A3b1jpAsI9OXfmMNkAhyEEJM/U5QNcv2A3b1jpAHwHJYR20PECJ2iPBQQAzQJT7HYoChTJANlmjHqLxKUDwb4nKYMg4QIZyol2FdDNAidojwUEAM0CRuMfSh6o5QMW32GRmdDpAvcYuUb2bOECqZWt9kWQxQCHIQQkz9TlAqmVrfZFkMUA2WaMeovEpQKpla32RZDFAxbfYZGZ0OkDE2lOVHyQ5QPBvicpgyDhAKdAn8iTxPEC46c9+pDA2QInaI8FBADNAOaAnoqD+N0C46c9+pDA2QLjpz36kMDZAKdAn8iTxPEC46c9+pDA2QDZZox6i8SlA1S6Tzq0xPkDFt9hkZnQ6QOgg1Z0UKzdA1y/YDdvWOkDwb4nKYMg4QLl1XD2VPjhAqmVrfZFkMUAhyEEJM/U5QLl1XD2VPjhAxbfYZGZ0OkDoINWdFCs3QAywj05dPTZAQmDl0CIbOEBoke18Py0qQInaI8FBADNAkbjH0oeqOUC46c9+pDA2QMW32GRmdDpAuXVcPZU+OEC5dVw9lT44QCHIQQkz9TlAxbfYZGZ0OkAuVtRgGq4xQKpla32RZDFADLCPTl09NkC46c9+pDA2QEJg5dAiGzhAqmVrfZFkMUC9xi5RvZs4QKpla32RZDFAuXVcPZU+OEAfAclhHbQ8QIVNd7FDlzhAuOnPfqQwNkDXL9gN29Y6QPx6mNA3tDZAuOnPfqQwNkD8epjQN7Q2QNcv2A3b1jpAqmVrfZFkMUC46c9+pDA2QIngzPy3vzhA/HqY0De0NkDVLpPOrTE+QMW32GRmdDpAhU13sUOXOEDFt9hkZnQ6QPx6mNA3tDZAOaAnoqD+N0CRuMfSh6o5QIngzPy3vzhAidojwUEAM0AfAclhHbQ8QPx6mNA3tDZAuXVcPZU+OEAuVtRgGq4xQDmgJ6Kg/jdAhU13sUOXOEAfAclhHbQ8QInaI8FBADNALlbUYBquMUCPLkl4VTozQI8uSXhVOjNAGvonuFj9M0CU+x2KAoUyQNcv2A3b1jpAqmVrfZFkMUCU+x2KAoUyQCnQJ/Ik8TxAqmVrfZFkMUCJ4Mz8t784QNcv2A3b1jpAhU13sUOXOECGcqJdhXQzQCHIQQkz9TlAhnKiXYV0M0CU+x2KAoUyQGiR7Xw/LSpAKdAn8iTxPEBoke18Py0qQL3GLlG9mzhA8G+JymDIOEC46c9+pDA2QLjpz36kMDZAuOnPfqQwNkAhyEEJM/U5QL3GLlG9mzhA8G+JymDIOEC46c9+pDA2QJT7HYoChTJAhnKiXYV0M0DVLpPOrTE+QIVNd7FDlzhAhU13sUOXOEDE2lOVHyQ5QIZyol2FdDNA1y/YDdvWOkC5dVw9lT44QLCPTl35jDZAKdAn8iTxPEDFt9hkZnQ6QGD1VBCZSTpALlbUYBquMUA2WaMeovEpQNcv2A3b1jpAOaAnoqD+N0Boke18Py0qQLl1XD2VPjhAidojwUEAM0CPLkl4VTozQDmgJ6Kg/jdAuXVcPZU+OECGcqJdhXQzQNUuk86tMT5AOaAnoqD+N0DXL9gN29Y6QMW32GRmdDpA8G+JymDIOECwj05d+Yw2QKpla32RZDFAGvonuFj9M0Cwj05d+Yw2QMW32GRmdDpAxbfYZGZ0OkDFt9hkZnQ6QNcv2A3b1jpAieDM/Le/OEDFt9hkZnQ6QCHIQQkz9TlA1S6Tzq0xPkCqZWt9kWQxQI8uSXhVOjNAuXVcPZU+OEA5oCeioP43QI8uSXhVOjNA8G+JymDIOECPLkl4VTozQGiR7Xw/LSpAOaAnoqD+N0AfAclhHbQ8QNUuk86tMT5A6CDVnRQrN0DE2lOVHyQ5QNcv2A3b1jpADLCPTl09NkDXL9gN29Y6QI8uSXhVOjNAieDM/Le/OEAp0CfyJPE8QLCPTl35jDZAxbfYZGZ0OkCqZWt9kWQxQIngzPy3vzhAuOnPfqQwNkC9xi5RvZs4QKpla32RZDFAqmVrfZFkMUCU+x2KAoUyQLjpz36kMDZA8G+JymDIOEBg9VQQmUk6QJG4x9KHqjlAuXVcPZU+OEDoINWdFCs3QGD1VBCZSTpAxbfYZGZ0OkA5oCeioP43QOgg1Z0UKzdAxNpTlR8kOUCPLkl4VTozQMW32GRmdDpA8G+JymDIOEAa+ie4WP0zQEJg5dAiGzhAKdAn8iTxPECU+x2KAoUyQB8ByWEdtDxALlbUYBquMUCPLkl4VTozQLCPTl35jDZAuXVcPZU+OECRuMfSh6o5QGD1VBCZSTpAqmVrfZFkMUCFTXexQ5c4QGiR7Xw/LSpAvcYuUb2bOECGcqJdhXQzQLl1XD2VPjhAHwHJYR20PEDFt9hkZnQ6QL3GLlG9mzhA1y/YDdvWOkCqZWt9kWQxQIZyol2FdDNAsI9OXfmMNkDE2lOVHyQ5QLl1XD2VPjhANlmjHqLxKUCPLkl4VTozQMW32GRmdDpAIchBCTP1OUA5oCeioP43QIngzPy3vzhAxNpTlR8kOUAhyEEJM/U5QL3GLlG9mzhAlPsdigKFMkC46c9+pDA2QC5W1GAarjFAhU13sUOXOEDE2lOVHyQ5QB8ByWEdtDxAxbfYZGZ0OkCFTXexQ5c4QGiR7Xw/LSpA1S6Tzq0xPkAp0CfyJPE8QIngzPy3vzhAhnKiXYV0M0CJ2iPBQQAzQIZyol2FdDNA1y/YDdvWOkCGcqJdhXQzQCHIQQkz9TlAidojwUEAM0DE2lOVHyQ5QNUuk86tMT5AvcYuUb2bOEAfAclhHbQ8QGiR7Xw/LSpA1S6Tzq0xPkA2WaMeovEpQCnQJ/Ik8TxAqmVrfZFkMUCFTXexQ5c4QAywj05dPTZAieDM/Le/OEDVLpPOrTE+QPx6mNA3tDZAhU13sUOXOEBoke18Py0qQMW32GRmdDpAieDM/Le/OEDXL9gN29Y6QLCPTl35jDZAidojwUEAM0AMsI9OXT02QNcv2A3b1jpAxbfYZGZ0OkCFTXexQ5c4QC5W1GAarjFAlPsdigKFMkCJ4Mz8t784QB8ByWEdtDxAuOnPfqQwNkAuVtRgGq4xQNUuk86tMT5AHwHJYR20PECqZWt9kWQxQCHIQQkz9TlAuOnPfqQwNkDoINWdFCs3QIngzPy3vzhAqmVrfZFkMUDXL9gN29Y6QC5W1GAarjFA1S6Tzq0xPkCRuMfSh6o5QIngzPy3vzhAjy5JeFU6M0DFt9hkZnQ6QOgg1Z0UKzdANlmjHqLxKUDwb4nKYMg4QL3GLlG9mzhAxbfYZGZ0OkDwb4nKYMg4QJT7HYoChTJA1S6Tzq0xPkCwj05d+Yw2QCnQJ/Ik8TxAvcYuUb2bOEA2WaMeovEpQLjpz36kMDZA1S6Tzq0xPkDwb4nKYMg4QLCPTl35jDZA6CDVnRQrN0AfAclhHbQ8QKpla32RZDFAuOnPfqQwNkCqZWt9kWQxQB8ByWEdtDxA1S6Tzq0xPkAuVtRgGq4xQNUuk86tMT5A1S6Tzq0xPkCwj05d+Yw2QB8ByWEdtDxAhnKiXYV0M0CJ4Mz8t784QDZZox6i8SlAQmDl0CIbOEDFt9hkZnQ6QLCPTl35jDZAIchBCTP1OUA2WaMeovEpQC5W1GAarjFAqmVrfZFkMUAfAclhHbQ8QNcv2A3b1jpAsI9OXfmMNkC5dVw9lT44QJG4x9KHqjlAIchBCTP1OUAa+ie4WP0zQMTaU5UfJDlAhU13sUOXOECqZWt9kWQxQC5W1GAarjFAGvonuFj9M0DVLpPOrTE+QI8uSXhVOjNA1S6Tzq0xPkA2WaMeovEpQInaI8FBADNAaJHtfD8tKkC9xi5RvZs4QLl1XD2VPjhAhnKiXYV0M0DXL9gN29Y6QMW32GRmdDpAidojwUEAM0AhyEEJM/U5QBr6J7hY/TNAhU13sUOXOECRuMfSh6o5QPBvicpgyDhAIchBCTP1OUBoke18Py0qQLl1XD2VPjhA1y/YDdvWOkCJ4Mz8t784QLl1XD2VPjhAieDM/Le/OEBg9VQQmUk6QPBvicpgyDhA6CDVnRQrN0D8epjQN7Q2QDZZox6i8SlAxbfYZGZ0OkDXL9gN29Y6QL3GLlG9mzhAGvonuFj9M0CGcqJdhXQzQOgg1Z0UKzdAIchBCTP1OUCRuMfSh6o5QKpla32RZDFAuOnPfqQwNkDFt9hkZnQ6QInaI8FBADNAqmVrfZFkMUAuVtRgGq4xQDZZox6i8SlAlPsdigKFMkDFt9hkZnQ6QC5W1GAarjFAQmDl0CIbOEAa+ie4WP0zQLl1XD2VPjhAqmVrfZFkMUC46c9+pDA2QIZyol2FdDNAlPsdigKFMkCPLkl4VTozQPBvicpgyDhAuXVcPZU+OECRuMfSh6o5QKpla32RZDFAjy5JeFU6M0C46c9+pDA2QB8ByWEdtDxAIchBCTP1OUCPLkl4VTozQC5W1GAarjFAIchBCTP1OUDXL9gN29Y6QC5W1GAarjFA1y/YDdvWOkDwb4nKYMg4QOgg1Z0UKzdAhU13sUOXOEA5oCeioP43QDZZox6i8SlAHwHJYR20PECPLkl4VTozQIVNd7FDlzhAxbfYZGZ0OkCwj05d+Yw2QLjpz36kMDZAsI9OXfmMNkDFt9hkZnQ6QNcv2A3b1jpAsI9OXfmMNkCRuMfSh6o5QGD1VBCZSTpAKdAn8iTxPEBg9VQQmUk6QInaI8FBADNAuXVcPZU+OEDFt9hkZnQ6QNcv2A3b1jpAhnKiXYV0M0CRuMfSh6o5QIZyol2FdDNAqmVrfZFkMUAMsI9OXT02QIngzPy3vzhALlbUYBquMUCJ4Mz8t784QIZyol2FdDNAuOnPfqQwNkBCYOXQIhs4QPx6mNA3tDZA1y/YDdvWOkD8epjQN7Q2QPBvicpgyDhA/HqY0De0NkBg9VQQmUk6QIZyol2FdDNAuXVcPZU+OEC9xi5RvZs4QLCPTl35jDZAOaAnoqD+N0DoINWdFCs3QNcv2A3b1jpAGvonuFj9M0CU+x2KAoUyQLjpz36kMDZADLCPTl09NkCPLkl4VTozQMW32GRmdDpAGvonuFj9M0CPLkl4VTozQI8uSXhVOjNAOaAnoqD+N0AhyEEJM/U5QKpla32RZDFAsI9OXfmMNkBg9VQQmUk6QJT7HYoChTJAuOnPfqQwNkDXL9gN29Y6QPBvicpgyDhAkbjH0oeqOUA2WaMeovEpQCnQJ/Ik8TxAlPsdigKFMkCwj05d+Yw2QDZZox6i8SlAxbfYZGZ0OkAp0CfyJPE8QI8uSXhVOjNAjy5JeFU6M0C46c9+pDA2QIVNd7FDlzhA8G+JymDIOEDFt9hkZnQ6QC5W1GAarjFAHwHJYR20PECGcqJdhXQzQIngzPy3vzhA/HqY0De0NkCGcqJdhXQzQIZyol2FdDNAsI9OXfmMNkDFt9hkZnQ6QLl1XD2VPjhAQmDl0CIbOECRuMfSh6o5QKpla32RZDFAieDM/Le/OECPLkl4VTozQNUuk86tMT5ADLCPTl09NkC5dVw9lT44QKpla32RZDFAlPsdigKFMkCPLkl4VTozQDZZox6i8SlAaJHtfD8tKkBoke18Py0qQGiR7Xw/LSpANlmjHqLxKUCU+x2KAoUyQDmgJ6Kg/jdAhnKiXYV0M0CGcqJdhXQzQEJg5dAiGzhAaJHtfD8tKkAuVtRgGq4xQOgg1Z0UKzdA1S6Tzq0xPkDoINWdFCs3QKpla32RZDFAkbjH0oeqOUCU+x2KAoUyQL3GLlG9mzhAYPVUEJlJOkAMsI9OXT02QNcv2A3b1jpAOaAnoqD+N0Dwb4nKYMg4QIZyol2FdDNAsI9OXfmMNkCFTXexQ5c4QInaI8FBADNAieDM/Le/OECJ4Mz8t784QDZZox6i8SlAxNpTlR8kOUAfAclhHbQ8QLCPTl35jDZAaJHtfD8tKkCwj05d+Yw2QC5W1GAarjFALlbUYBquMUAp0CfyJPE8QIVNd7FDlzhA1y/YDdvWOkAfAclhHbQ8QMTaU5UfJDlAKdAn8iTxPECwj05d+Yw2QMTaU5UfJDlAuXVcPZU+OEAhyEEJM/U5QEJg5dAiGzhADLCPTl09NkC9xi5RvZs4QMW32GRmdDpAkbjH0oeqOUCU+x2KAoUyQLjpz36kMDZAvcYuUb2bOEAhyEEJM/U5QI8uSXhVOjNAidojwUEAM0Boke18Py0qQI8uSXhVOjNANlmjHqLxKUC5dVw9lT44QPx6mNA3tDZA8G+JymDIOEC46c9+pDA2QDmgJ6Kg/jdAsI9OXfmMNkCwj05d+Yw2QB8ByWEdtDxAYPVUEJlJOkCJ4Mz8t784QIVNd7FDlzhAxbfYZGZ0OkDXL9gN29Y6QKpla32RZDFAidojwUEAM0AuVtRgGq4xQAywj05dPTZAsI9OXfmMNkBCYOXQIhs4QEJg5dAiGzhAhnKiXYV0M0DXL9gN29Y6QI8uSXhVOjNAlPsdigKFMkAhyEEJM/U5QLl1XD2VPjhAxbfYZGZ0OkBg9VQQmUk6QGiR7Xw/LSpA1y/YDdvWOkDVLpPOrTE+QIVNd7FDlzhAOaAnoqD+N0Dwb4nKYMg4QNcv2A3b1jpAqmVrfZFkMUC9xi5RvZs4QNcv2A3b1jpAIchBCTP1OUA2WaMeovEpQGD1VBCZSTpAxbfYZGZ0OkCwj05d+Yw2QB8ByWEdtDxAhnKiXYV0M0C9xi5RvZs4QI8uSXhVOjNAidojwUEAM0DFt9hkZnQ6QKpla32RZDFAidojwUEAM0CJ4Mz8t784QLCPTl35jDZAQmDl0CIbOEBCYOXQIhs4QGiR7Xw/LSpA/HqY0De0NkC46c9+pDA2QLl1XD2VPjhAhU13sUOXOECJ4Mz8t784QNcv2A3b1jpAxNpTlR8kOUAhyEEJM/U5QPBvicpgyDhAxbfYZGZ0OkBCYOXQIhs4QLjpz36kMDZAuOnPfqQwNkCFTXexQ5c4QInaI8FBADNAhnKiXYV0M0Aa+ie4WP0zQI8uSXhVOjNAvcYuUb2bOEAfAclhHbQ8QDZZox6i8SlAIchBCTP1OUAfAclhHbQ8QNcv2A3b1jpANlmjHqLxKUDFt9hkZnQ6QAywj05dPTZAQmDl0CIbOEDFt9hkZnQ6QCHIQQkz9TlAqmVrfZFkMUAp0CfyJPE8QCHIQQkz9TlAhnKiXYV0M0CJ2iPBQQAzQLjpz36kMDZAidojwUEAM0CqZWt9kWQxQOgg1Z0UKzdA1y/YDdvWOkDVLpPOrTE+QJG4x9KHqjlAieDM/Le/OEDFt9hkZnQ6QNcv2A3b1jpAxbfYZGZ0OkBoke18Py0qQC5W1GAarjFA1y/YDdvWOkCU+x2KAoUyQNcv2A3b1jpAuXVcPZU+OECqZWt9kWQxQGiR7Xw/LSpALlbUYBquMUDFt9hkZnQ6QEJg5dAiGzhAYPVUEJlJOkBoke18Py0qQLjpz36kMDZAhU13sUOXOECJ2iPBQQAzQIZyol2FdDNA1S6Tzq0xPkCqZWt9kWQxQCHIQQkz9TlAKdAn8iTxPEA2WaMeovEpQCHIQQkz9TlAjy5JeFU6M0AhyEEJM/U5QIngzPy3vzhAhU13sUOXOECPLkl4VTozQAywj05dPTZAlPsdigKFMkC5dVw9lT44QC5W1GAarjFA6CDVnRQrN0CRuMfSh6o5QL3GLlG9mzhALlbUYBquMUDFt9hkZnQ6QI8uSXhVOjNAhU13sUOXOECqZWt9kWQxQNUuk86tMT5A6CDVnRQrN0C5dVw9lT44QOgg1Z0UKzdAxbfYZGZ0OkC46c9+pDA2QJT7HYoChTJA8G+JymDIOEBoke18Py0qQJT7HYoChTJANlmjHqLxKUC46c9+pDA2QNcv2A3b1jpA1S6Tzq0xPkCwj05d+Yw2QMTaU5UfJDlAjy5JeFU6M0Cwj05d+Yw2QIngzPy3vzhAkbjH0oeqOUC46c9+pDA2QLjpz36kMDZAhnKiXYV0M0C46c9+pDA2QIngzPy3vzhAieDM/Le/OECqZWt9kWQxQLjpz36kMDZA8G+JymDIOEA2WaMeovEpQIngzPy3vzhA6CDVnRQrN0C5dVw9lT44QKpla32RZDFAxNpTlR8kOUDXL9gN29Y6QKpla32RZDFAieDM/Le/OECRuMfSh6o5QKpla32RZDFAYPVUEJlJOkDoINWdFCs3QLjpz36kMDZAkbjH0oeqOUAhyEEJM/U5QL3GLlG9mzhAaJHtfD8tKkDoINWdFCs3QLjpz36kMDZAqmVrfZFkMUCwj05d+Yw2QIZyol2FdDNAuXVcPZU+OEDXL9gN29Y6QDmgJ6Kg/jdAqmVrfZFkMUCqZWt9kWQxQLl1XD2VPjhAHwHJYR20PEDXL9gN29Y6QIZyol2FdDNAOaAnoqD+N0C46c9+pDA2QLjpz36kMDZAvcYuUb2bOEC5dVw9lT44QLl1XD2VPjhAuXVcPZU+OECJ4Mz8t784QJT7HYoChTJA8G+JymDIOECwj05d+Yw2QI8uSXhVOjNAqmVrfZFkMUC46c9+pDA2QDZZox6i8SlAieDM/Le/OEAfAclhHbQ8QDZZox6i8SlANlmjHqLxKUCRuMfSh6o5QIVNd7FDlzhAOaAnoqD+N0Cwj05d+Yw2QOgg1Z0UKzdAjy5JeFU6M0Boke18Py0qQIVNd7FDlzhAieDM/Le/OEBCYOXQIhs4QL3GLlG9mzhAGvonuFj9M0DVLpPOrTE+QLCPTl35jDZA/HqY0De0NkAfAclhHbQ8QI8uSXhVOjNAxbfYZGZ0OkCPLkl4VTozQB8ByWEdtDxAsI9OXfmMNkDXL9gN29Y6QLCPTl35jDZAOaAnoqD+N0C46c9+pDA2QInaI8FBADNAidojwUEAM0A2WaMeovEpQLl1XD2VPjhAQmDl0CIbOEDE2lOVHyQ5QNcv2A3b1jpADLCPTl09NkDE2lOVHyQ5QDmgJ6Kg/jdAhnKiXYV0M0BCYOXQIhs4QIVNd7FDlzhAkbjH0oeqOUCPLkl4VTozQNcv2A3b1jpAIchBCTP1OUCGcqJdhXQzQJG4x9KHqjlADLCPTl09NkAMsI9OXT02QB8ByWEdtDxAxNpTlR8kOUDE2lOVHyQ5QCHIQQkz9TlAsI9OXfmMNkCqZWt9kWQxQKpla32RZDFAQmDl0CIbOECRuMfSh6o5QDZZox6i8SlAxbfYZGZ0OkDFt9hkZnQ6QI8uSXhVOjNAIchBCTP1OUDXL9gN29Y6QLjpz36kMDZAkbjH0oeqOUA5oCeioP43QLjpz36kMDZAxNpTlR8kOUAMsI9OXT02QCnQJ/Ik8TxAqmVrfZFkMUCGcqJdhXQzQC5W1GAarjFAaJHtfD8tKkDE2lOVHyQ5QOgg1Z0UKzdA8G+JymDIOEA5oCeioP43QPBvicpgyDhAidojwUEAM0AuVtRgGq4xQMTaU5UfJDlAkbjH0oeqOUDwb4nKYMg4QGD1VBCZSTpA1y/YDdvWOkCFTXexQ5c4QOgg1Z0UKzdAOaAnoqD+N0A2WaMeovEpQIVNd7FDlzhAuOnPfqQwNkDXL9gN29Y6QLCPTl35jDZAQmDl0CIbOEC46c9+pDA2QCHIQQkz9TlAaJHtfD8tKkCRuMfSh6o5QPx6mNA3tDZAvcYuUb2bOECRuMfSh6o5QIZyol2FdDNAvcYuUb2bOEA5oCeioP43QPBvicpgyDhAjy5JeFU6M0AMsI9OXT02QCHIQQkz9TlAqmVrfZFkMUCqZWt9kWQxQIngzPy3vzhAjy5JeFU6M0Aa+ie4WP0zQMTaU5UfJDlAqmVrfZFkMUDE2lOVHyQ5QLCPTl35jDZAIchBCTP1OUC9xi5RvZs4QKpla32RZDFAqmVrfZFkMUBCYOXQIhs4QLl1XD2VPjhAieDM/Le/OEDFt9hkZnQ6QLjpz36kMDZA1y/YDdvWOkC9xi5RvZs4QLl1XD2VPjhAuOnPfqQwNkCqZWt9kWQxQNUuk86tMT5A1y/YDdvWOkDwb4nKYMg4QPx6mNA3tDZAuOnPfqQwNkCwj05d+Yw2QNcv2A3b1jpA1S6Tzq0xPkDVLpPOrTE+QMW32GRmdDpAIchBCTP1OUCFTXexQ5c4QGD1VBCZSTpAhnKiXYV0M0A5oCeioP43QJG4x9KHqjlAkbjH0oeqOUDFt9hkZnQ6QDZZox6i8SlAsI9OXfmMNkCRuMfSh6o5QPBvicpgyDhAuOnPfqQwNkDwb4nKYMg4QDmgJ6Kg/jdA/HqY0De0NkCFTXexQ5c4QLl1XD2VPjhAQmDl0CIbOEDXL9gN29Y6QOgg1Z0UKzdAjy5JeFU6M0DXL9gN29Y6QInaI8FBADNAKdAn8iTxPECwj05d+Yw2QIngzPy3vzhAjy5JeFU6M0DFt9hkZnQ6QGiR7Xw/LSpALlbUYBquMUCFTXexQ5c4QDmgJ6Kg/jdAOaAnoqD+N0A5oCeioP43QIngzPy3vzhAuOnPfqQwNkC46c9+pDA2QLjpz36kMDZAKdAn8iTxPECJ2iPBQQAzQGiR7Xw/LSpAjy5JeFU6M0CGcqJdhXQzQC5W1GAarjFAieDM/Le/OEC5dVw9lT44QIZyol2FdDNAOaAnoqD+N0Boke18Py0qQDZZox6i8SlANlmjHqLxKUAa+ie4WP0zQI8uSXhVOjNA1S6Tzq0xPkDXL9gN29Y6QJG4x9KHqjlAuXVcPZU+OEDE2lOVHyQ5QJT7HYoChTJAuOnPfqQwNkCqZWt9kWQxQIZyol2FdDNADLCPTl09NkCGcqJdhXQzQCnQJ/Ik8TxAaJHtfD8tKkDXL9gN29Y6QGD1VBCZSTpAuOnPfqQwNkC5dVw9lT44QBr6J7hY/TNAOaAnoqD+N0CRuMfSh6o5QLl1XD2VPjhAvcYuUb2bOECwj05d+Yw2QLjpz36kMDZAQmDl0CIbOECwj05d+Yw2QEJg5dAiGzhAuOnPfqQwNkCGcqJdhXQzQLl1XD2VPjhADLCPTl09NkCqZWt9kWQxQInaI8FBADNAqmVrfZFkMUCJ4Mz8t784QIngzPy3vzhALlbUYBquMUCFTXexQ5c4QGiR7Xw/LSpA8G+JymDIOECU+x2KAoUyQKpla32RZDFAsI9OXfmMNkAhyEEJM/U5QLl1XD2VPjhA6CDVnRQrN0CqZWt9kWQxQIZyol2FdDNAOaAnoqD+N0CGcqJdhXQzQKpla32RZDFAGvonuFj9M0DFt9hkZnQ6QBr6J7hY/TNAuXVcPZU+OECGcqJdhXQzQMW32GRmdDpAjy5JeFU6M0AMsI9OXT02QKpla32RZDFAGvonuFj9M0DFt9hkZnQ6QIZyol2FdDNAuXVcPZU+OECJ4Mz8t784QPx6mNA3tDZAhnKiXYV0M0BCYOXQIhs4QIngzPy3vzhA1y/YDdvWOkCGcqJdhXQzQLjpz36kMDZA6CDVnRQrN0Ap0CfyJPE8QOgg1Z0UKzdAhnKiXYV0M0C5dVw9lT44QIZyol2FdDNAaJHtfD8tKkC46c9+pDA2QBr6J7hY/TNAieDM/Le/OEC9xi5RvZs4QDmgJ6Kg/jdALlbUYBquMUCRuMfSh6o5QIZyol2FdDNAkbjH0oeqOUBCYOXQIhs4QAywj05dPTZAqmVrfZFkMUDE2lOVHyQ5QIVNd7FDlzhA8G+JymDIOEA5oCeioP43QIVNd7FDlzhAKdAn8iTxPECGcqJdhXQzQIZyol2FdDNAvcYuUb2bOEC5dVw9lT44QLCPTl35jDZAxbfYZGZ0OkCqZWt9kWQxQNUuk86tMT5A6CDVnRQrN0CFTXexQ5c4QI8uSXhVOjNANlmjHqLxKUAuVtRgGq4xQJG4x9KHqjlAhU13sUOXOEC5dVw9lT44QOgg1Z0UKzdALlbUYBquMUDE2lOVHyQ5QOgg1Z0UKzdA6CDVnRQrN0C9xi5RvZs4QNcv2A3b1jpAuOnPfqQwNkCPLkl4VTozQIngzPy3vzhAqmVrfZFkMUCPLkl4VTozQInaI8FBADNAieDM/Le/OEDwb4nKYMg4QDmgJ6Kg/jdAkbjH0oeqOUCGcqJdhXQzQGiR7Xw/LSpAqmVrfZFkMUAfAclhHbQ8QNcv2A3b1jpA1S6Tzq0xPkAMsI9OXT02QMTaU5UfJDlA1y/YDdvWOkDE2lOVHyQ5QCnQJ/Ik8TxAxNpTlR8kOUDoINWdFCs3QMW32GRmdDpAuOnPfqQwNkCPLkl4VTozQMW32GRmdDpAsI9OXfmMNkC5dVw9lT44QL3GLlG9mzhAxbfYZGZ0OkDFt9hkZnQ6QGiR7Xw/LSpAKdAn8iTxPEAp0CfyJPE8QNUuk86tMT5Ajy5JeFU6M0CGcqJdhXQzQLl1XD2VPjhANlmjHqLxKUDE2lOVHyQ5QMTaU5UfJDlAaJHtfD8tKkCwj05d+Yw2QIZyol2FdDNAaJHtfD8tKkDwb4nKYMg4QNcv2A3b1jpA1y/YDdvWOkCwj05d+Yw2QKpla32RZDFAqmVrfZFkMUDFt9hkZnQ6QLl1XD2VPjhA1S6Tzq0xPkDwb4nKYMg4QCnQJ/Ik8TxAieDM/Le/OEC5dVw9lT44QInaI8FBADNAIchBCTP1OUDwb4nKYMg4QJG4x9KHqjlADLCPTl09NkAfAclhHbQ8QOgg1Z0UKzdAqmVrfZFkMUAMsI9OXT02QNUuk86tMT5AieDM/Le/OEDoINWdFCs3QKpla32RZDFA1S6Tzq0xPkCJ4Mz8t784QJT7HYoChTJANlmjHqLxKUCGcqJdhXQzQBr6J7hY/TNAjy5JeFU6M0C46c9+pDA2QPBvicpgyDhAuOnPfqQwNkCFTXexQ5c4QKpla32RZDFA1S6Tzq0xPkAuVtRgGq4xQGiR7Xw/LSpAuXVcPZU+OEAuVtRgGq4xQMW32GRmdDpAsI9OXfmMNkC9xi5RvZs4QNcv2A3b1jpAIchBCTP1OUC5dVw9lT44QL3GLlG9mzhADLCPTl09NkAp0CfyJPE8QMTaU5UfJDlAhnKiXYV0M0CFTXexQ5c4QGD1VBCZSTpAqmVrfZFkMUDXL9gN29Y6QJT7HYoChTJAqmVrfZFkMUDXL9gN29Y6QEJg5dAiGzhAQmDl0CIbOEDVLpPOrTE+QL3GLlG9mzhAieDM/Le/OEDVLpPOrTE+QJG4x9KHqjlAxbfYZGZ0OkDE2lOVHyQ5QIZyol2FdDNAaJHtfD8tKkBg9VQQmUk6QPBvicpgyDhAqmVrfZFkMUDoINWdFCs3QKpla32RZDFANlmjHqLxKUCRuMfSh6o5QI8uSXhVOjNAsI9OXfmMNkA2WaMeovEpQC5W1GAarjFAxbfYZGZ0OkC5dVw9lT44QC5W1GAarjFAhnKiXYV0M0CJ4Mz8t784QKpla32RZDFALlbUYBquMUDFt9hkZnQ6QMTaU5UfJDlALlbUYBquMUCRuMfSh6o5QCHIQQkz9TlAuXVcPZU+OECwj05d+Yw2QLjpz36kMDZADLCPTl09NkCJ2iPBQQAzQC5W1GAarjFAuXVcPZU+OEDE2lOVHyQ5QNcv2A3b1jpAQmDl0CIbOEC5dVw9lT44QIZyol2FdDNAuXVcPZU+OEAhyEEJM/U5QLjpz36kMDZA/HqY0De0NkAp0CfyJPE8QMW32GRmdDpAhnKiXYV0M0DFt9hkZnQ6QLCPTl35jDZAKdAn8iTxPEDFt9hkZnQ6QIVNd7FDlzhAlPsdigKFMkAMsI9OXT02QIZyol2FdDNAuOnPfqQwNkCwj05d+Yw2QIngzPy3vzhAjy5JeFU6M0AuVtRgGq4xQJG4x9KHqjlAOaAnoqD+N0AuVtRgGq4xQJT7HYoChTJAqmVrfZFkMUBCYOXQIhs4QPx6mNA3tDZAIchBCTP1OUCGcqJdhXQzQJG4x9KHqjlA1y/YDdvWOkA5oCeioP43QIZyol2FdDNADLCPTl09NkCqZWt9kWQxQNcv2A3b1jpANlmjHqLxKUC5dVw9lT44QKpla32RZDFA1S6Tzq0xPkCwj05d+Yw2QNUuk86tMT5AvcYuUb2bOECJ2iPBQQAzQEJg5dAiGzhAGvonuFj9M0Dwb4nKYMg4QLCPTl35jDZAqmVrfZFkMUDwb4nKYMg4QNcv2A3b1jpADLCPTl09NkCwj05d+Yw2QKpla32RZDFAhnKiXYV0M0AuVtRgGq4xQDmgJ6Kg/jdANlmjHqLxKUDXL9gN29Y6QIngzPy3vzhAuOnPfqQwNkCPLkl4VTozQC5W1GAarjFAhU13sUOXOEAhyEEJM/U5QPBvicpgyDhAKdAn8iTxPECPLkl4VTozQIZyol2FdDNAxNpTlR8kOUCGcqJdhXQzQLjpz36kMDZA6CDVnRQrN0Bg9VQQmUk6QNUuk86tMT5AuOnPfqQwNkCJ2iPBQQAzQIZyol2FdDNAxbfYZGZ0OkCqZWt9kWQxQBr6J7hY/TNAOaAnoqD+N0DXL9gN29Y6QJT7HYoChTJAhU13sUOXOEAhyEEJM/U5QMTaU5UfJDlAieDM/Le/OECwj05d+Yw2QLCPTl35jDZADLCPTl09NkDXL9gN29Y6QOgg1Z0UKzdAvcYuUb2bOEAhyEEJM/U5QEJg5dAiGzhAjy5JeFU6M0CPLkl4VTozQL3GLlG9mzhAhnKiXYV0M0CGcqJdhXQzQGD1VBCZSTpAieDM/Le/OEAfAclhHbQ8QKpla32RZDFAIchBCTP1OUCPLkl4VTozQC5W1GAarjFAqmVrfZFkMUA2WaMeovEpQOgg1Z0UKzdAxNpTlR8kOUCFTXexQ5c4QMW32GRmdDpA6CDVnRQrN0CGcqJdhXQzQJG4x9KHqjlAxbfYZGZ0OkCJ2iPBQQAzQAywj05dPTZAieDM/Le/OEDXL9gN29Y6QLjpz36kMDZALlbUYBquMUCPLkl4VTozQNcv2A3b1jpAhU13sUOXOEDoINWdFCs3QLl1XD2VPjhAOaAnoqD+N0CGcqJdhXQzQLjpz36kMDZAieDM/Le/OEBCYOXQIhs4QLjpz36kMDZADLCPTl09NkDoINWdFCs3QCHIQQkz9TlAlPsdigKFMkC46c9+pDA2QIZyol2FdDNA/HqY0De0NkCFTXexQ5c4QPx6mNA3tDZAIchBCTP1OUCJ4Mz8t784QJG4x9KHqjlAuOnPfqQwNkC46c9+pDA2QEJg5dAiGzhAuXVcPZU+OED8epjQN7Q2QJT7HYoChTJAhnKiXYV0M0AMsI9OXT02QNUuk86tMT5AhnKiXYV0M0DFt9hkZnQ6QDZZox6i8SlA8G+JymDIOECRuMfSh6o5QJT7HYoChTJAhU13sUOXOECU+x2KAoUyQMW32GRmdDpAuXVcPZU+OEDVLpPOrTE+QInaI8FBADNAKdAn8iTxPEBg9VQQmUk6QNUuk86tMT5Ajy5JeFU6M0CPLkl4VTozQLl1XD2VPjhAKdAn8iTxPEDFt9hkZnQ6QMW32GRmdDpANlmjHqLxKUDoINWdFCs3QNUuk86tMT5AHwHJYR20PEDXL9gN29Y6QCHIQQkz9TlAkbjH0oeqOUCGcqJdhXQzQLCPTl35jDZAuXVcPZU+OEDXL9gN29Y6QMTaU5UfJDlANlmjHqLxKUCwj05d+Yw2QDZZox6i8SlAxbfYZGZ0OkCJ2iPBQQAzQCHIQQkz9TlAGvonuFj9M0CqZWt9kWQxQDZZox6i8SlA1S6Tzq0xPkCGcqJdhXQzQMW32GRmdDpAHwHJYR20PECqZWt9kWQxQLjpz36kMDZAQmDl0CIbOEDVLpPOrTE+QJT7HYoChTJAHwHJYR20PEDwb4nKYMg4QNcv2A3b1jpA/HqY0De0NkDXL9gN29Y6QJG4x9KHqjlAlPsdigKFMkDVLpPOrTE+QIngzPy3vzhAieDM/Le/OECGcqJdhXQzQCHIQQkz9TlAIchBCTP1OUCPLkl4VTozQCHIQQkz9TlA/HqY0De0NkCRuMfSh6o5QIVNd7FDlzhAHwHJYR20PECFTXexQ5c4QJG4x9KHqjlAieDM/Le/OECPLkl4VTozQKpla32RZDFALlbUYBquMUA2WaMeovEpQMTaU5UfJDlAhU13sUOXOEAuVtRgGq4xQLCPTl35jDZALlbUYBquMUBoke18Py0qQLjpz36kMDZADLCPTl09NkDE2lOVHyQ5QPx6mNA3tDZAvcYuUb2bOEAp0CfyJPE8QLjpz36kMDZAjy5JeFU6M0C9xi5RvZs4QLl1XD2VPjhAjy5JeFU6M0DoINWdFCs3QDmgJ6Kg/jdAOaAnoqD+N0A2WaMeovEpQKpla32RZDFAuOnPfqQwNkBCYOXQIhs4QNcv2A3b1jpAjy5JeFU6M0C46c9+pDA2QCnQJ/Ik8TxAqmVrfZFkMUCJ4Mz8t784QJT7HYoChTJAvcYuUb2bOEAMsI9OXT02QIZyol2FdDNALlbUYBquMUBCYOXQIhs4QNUuk86tMT5AqmVrfZFkMUDwb4nKYMg4QPx6mNA3tDZAjy5JeFU6M0AhyEEJM/U5QNcv2A3b1jpAieDM/Le/OECGcqJdhXQzQKpla32RZDFAkbjH0oeqOUAfAclhHbQ8QCnQJ/Ik8TxAOaAnoqD+N0DoINWdFCs3QMW32GRmdDpAOaAnoqD+N0CJ2iPBQQAzQDZZox6i8SlAuOnPfqQwNkCPLkl4VTozQI8uSXhVOjNAsI9OXfmMNkDXL9gN29Y6QMW32GRmdDpAvcYuUb2bOECGcqJdhXQzQL3GLlG9mzhAieDM/Le/OEDE2lOVHyQ5QI8uSXhVOjNA1y/YDdvWOkC46c9+pDA2QEJg5dAiGzhA8G+JymDIOECGcqJdhXQzQIZyol2FdDNANlmjHqLxKUBCYOXQIhs4QI8uSXhVOjNA8G+JymDIOECJ2iPBQQAzQNcv2A3b1jpAQmDl0CIbOEAhyEEJM/U5QAywj05dPTZA1y/YDdvWOkDVLpPOrTE+QCnQJ/Ik8TxAaJHtfD8tKkCFTXexQ5c4QB8ByWEdtDxAYPVUEJlJOkCU+x2KAoUyQAywj05dPTZAieDM/Le/OEDE2lOVHyQ5QLCPTl35jDZAxbfYZGZ0OkAuVtRgGq4xQOgg1Z0UKzdAlPsdigKFMkAhyEEJM/U5QPx6mNA3tDZAvcYuUb2bOEA5oCeioP43QEJg5dAiGzhAHwHJYR20PEDwb4nKYMg4QLl1XD2VPjhAuXVcPZU+OECU+x2KAoUyQJT7HYoChTJA1y/YDdvWOkAfAclhHbQ8QIVNd7FDlzhAaJHtfD8tKkC9xi5RvZs4QBr6J7hY/TNAjy5JeFU6M0Ap0CfyJPE8QIZyol2FdDNAYPVUEJlJOkCU+x2KAoUyQLjpz36kMDZAuOnPfqQwNkAfAclhHbQ8QCHIQQkz9TlAuOnPfqQwNkDVLpPOrTE+QLCPTl35jDZAhnKiXYV0M0DFt9hkZnQ6QAywj05dPTZAHwHJYR20PEA2WaMeovEpQMW32GRmdDpA1S6Tzq0xPkCJ2iPBQQAzQPx6mNA3tDZAlPsdigKFMkC9xi5RvZs4QMW32GRmdDpAuXVcPZU+OEC5dVw9lT44QInaI8FBADNANlmjHqLxKUAfAclhHbQ8QCnQJ/Ik8TxA8G+JymDIOEA2WaMeovEpQAywj05dPTZAlPsdigKFMkC46c9+pDA2QI8uSXhVOjNA8G+JymDIOEA2WaMeovEpQJG4x9KHqjlAjy5JeFU6M0Cwj05d+Yw2QKpla32RZDFAhnKiXYV0M0A2WaMeovEpQIngzPy3vzhAvcYuUb2bOEC5dVw9lT44QBr6J7hY/TNAqmVrfZFkMUCqZWt9kWQxQPx6mNA3tDZAIchBCTP1OUDXL9gN29Y6QMTaU5UfJDlALlbUYBquMUAhyEEJM/U5QNcv2A3b1jpALlbUYBquMUDFt9hkZnQ6QB8ByWEdtDxAaJHtfD8tKkCqZWt9kWQxQPBvicpgyDhA1S6Tzq0xPkAhyEEJM/U5QC5W1GAarjFAxbfYZGZ0OkDXL9gN29Y6QI8uSXhVOjNAjy5JeFU6M0A5oCeioP43QAywj05dPTZAjy5JeFU6M0AhyEEJM/U5QCHIQQkz9TlAqmVrfZFkMUC9xi5RvZs4QLjpz36kMDZAuOnPfqQwNkCPLkl4VTozQDZZox6i8SlAkbjH0oeqOUCPLkl4VTozQLl1XD2VPjhAHwHJYR20PEAfAclhHbQ8QI8uSXhVOjNANlmjHqLxKUCqZWt9kWQxQDmgJ6Kg/jdAuOnPfqQwNkDoINWdFCs3QLl1XD2VPjhAuXVcPZU+OECGcqJdhXQzQIVNd7FDlzhAsI9OXfmMNkDE2lOVHyQ5QLjpz36kMDZAIchBCTP1OUCJ2iPBQQAzQOgg1Z0UKzdAIchBCTP1OUAuVtRgGq4xQGiR7Xw/LSpAGvonuFj9M0A5oCeioP43QDZZox6i8SlAhU13sUOXOECqZWt9kWQxQEJg5dAiGzhAlPsdigKFMkCwj05d+Yw2QLl1XD2VPjhAhnKiXYV0M0DE2lOVHyQ5QI8uSXhVOjNAKdAn8iTxPECRuMfSh6o5QB8ByWEdtDxA1y/YDdvWOkCJ2iPBQQAzQPx6mNA3tDZAIchBCTP1OUA5oCeioP43QAywj05dPTZAHwHJYR20PEDFt9hkZnQ6QI8uSXhVOjNADLCPTl09NkCqZWt9kWQxQInaI8FBADNAIchBCTP1OUAa+ie4WP0zQGD1VBCZSTpADLCPTl09NkCqZWt9kWQxQIZyol2FdDNAvcYuUb2bOECqZWt9kWQxQPx6mNA3tDZAHwHJYR20PECFTXexQ5c4QMTaU5UfJDlA8G+JymDIOECFTXexQ5c4QOgg1Z0UKzdAIchBCTP1OUCGcqJdhXQzQIngzPy3vzhA8G+JymDIOEAp0CfyJPE8QIZyol2FdDNAxbfYZGZ0OkAuVtRgGq4xQI8uSXhVOjNAqmVrfZFkMUAfAclhHbQ8QLCPTl35jDZAOaAnoqD+N0AhyEEJM/U5QDZZox6i8SlAxbfYZGZ0OkCU+x2KAoUyQDmgJ6Kg/jdAqmVrfZFkMUC5dVw9lT44QNcv2A3b1jpAsI9OXfmMNkBCYOXQIhs4QPBvicpgyDhAuXVcPZU+OEA5oCeioP43QMW32GRmdDpADLCPTl09NkCGcqJdhXQzQLCPTl35jDZA/HqY0De0NkCJ2iPBQQAzQPBvicpgyDhA1y/YDdvWOkCGcqJdhXQzQGD1VBCZSTpAOaAnoqD+N0A5oCeioP43QAywj05dPTZAsI9OXfmMNkCU+x2KAoUyQMW32GRmdDpAqmVrfZFkMUCRuMfSh6o5QLl1XD2VPjhAjy5JeFU6M0CJ4Mz8t784QLjpz36kMDZAuXVcPZU+OEA2WaMeovEpQGiR7Xw/LSpA1S6Tzq0xPkC5dVw9lT44QI8uSXhVOjNAYPVUEJlJOkC46c9+pDA2QKpla32RZDFAieDM/Le/OECwj05d+Yw2QAywj05dPTZA/HqY0De0NkCFTXexQ5c4QIngzPy3vzhAaJHtfD8tKkCGcqJdhXQzQNUuk86tMT5AHwHJYR20PECqZWt9kWQxQPBvicpgyDhA8G+JymDIOED8epjQN7Q2QI8uSXhVOjNAjy5JeFU6M0DFt9hkZnQ6QLl1XD2VPjhAwf9WsmMfNUD8epjQN7Q2QLjpz36kMDZAIchBCTP1OUAa+ie4WP0zQEJg5dAiGzhAsI9OXfmMNkC46c9+pDA2QLl1XD2VPjhAqmVrfZFkMUCqZWt9kWQxQJT7HYoChTJAlPsdigKFMkCJ4Mz8t784QLl1XD2VPjhAsI9OXfmMNkCwj05d+Yw2QB8ByWEdtDxAjy5JeFU6M0CGcqJdhXQzQPBvicpgyDhAjy5JeFU6M0Boke18Py0qQCnQJ/Ik8TxAhnKiXYV0M0CGcqJdhXQzQKpla32RZDFAGvonuFj9M0CRuMfSh6o5QIVNd7FDlzhAuOnPfqQwNkDFt9hkZnQ6QJT7HYoChTJAxbfYZGZ0OkBoke18Py0qQLl1XD2VPjhADLCPTl09NkBoke18Py0qQCnQJ/Ik8TxAuOnPfqQwNkAfAclhHbQ8QIVNd7FDlzhAqmVrfZFkMUCFTXexQ5c4QLl1XD2VPjhAuOnPfqQwNkA5oCeioP43QDmgJ6Kg/jdAIchBCTP1OUBoke18Py0qQMW32GRmdDpA/HqY0De0NkDXL9gN29Y6QJT7HYoChTJA8G+JymDIOEBoke18Py0qQLCPTl35jDZAsI9OXfmMNkC46c9+pDA2QDZZox6i8SlAIchBCTP1OUDVLpPOrTE+QNUuk86tMT5AsI9OXfmMNkCqZWt9kWQxQIZyol2FdDNAxbfYZGZ0OkCU+x2KAoUyQMW32GRmdDpAOaAnoqD+N0AfAclhHbQ8QKpla32RZDFAsI9OXfmMNkA2WaMeovEpQIZyol2FdDNA1y/YDdvWOkCU+x2KAoUyQGD1VBCZSTpAqmVrfZFkMUBoke18Py0qQI8uSXhVOjNAhU13sUOXOEDFt9hkZnQ6QLCPTl35jDZAjy5JeFU6M0CqZWt9kWQxQMW32GRmdDpAIchBCTP1OUA2WaMeovEpQIngzPy3vzhAuOnPfqQwNkCJ4Mz8t784QPx6mNA3tDZAhU13sUOXOEAMsI9OXT02QPBvicpgyDhAxNpTlR8kOUC9xi5RvZs4QKpla32RZDFAKdAn8iTxPEBg9VQQmUk6QDmgJ6Kg/jdAieDM/Le/OECwj05d+Yw2QIZyol2FdDNAqmVrfZFkMUDE2lOVHyQ5QPx6mNA3tDZAHwHJYR20PECqZWt9kWQxQAywj05dPTZAqmVrfZFkMUDXL9gN29Y6QDmgJ6Kg/jdAlPsdigKFMkCJ4Mz8t784QDmgJ6Kg/jdAuOnPfqQwNkCFTXexQ5c4QLCPTl35jDZAieDM/Le/OED8epjQN7Q2QKpla32RZDFAxbfYZGZ0OkCPLkl4VTozQLCPTl35jDZAGvonuFj9M0CGcqJdhXQzQLCPTl35jDZA8G+JymDIOECqZWt9kWQxQJT7HYoChTJAhU13sUOXOECJ4Mz8t784QJG4x9KHqjlAhU13sUOXOEDFt9hkZnQ6QInaI8FBADNAxbfYZGZ0OkBg9VQQmUk6QEJg5dAiGzhAKdAn8iTxPEC9xi5RvZs4QJT7HYoChTJAaJHtfD8tKkDFt9hkZnQ6QCnQJ/Ik8TxA1y/YDdvWOkCFTXexQ5c4QMW32GRmdDpAYPVUEJlJOkBoke18Py0qQEJg5dAiGzhAvcYuUb2bOECFTXexQ5c4QJG4x9KHqjlAYPVUEJlJOkCqZWt9kWQxQIVNd7FDlzhAxbfYZGZ0OkAfAclhHbQ8QPBvicpgyDhAhU13sUOXOEDXL9gN29Y6QLjpz36kMDZAuOnPfqQwNkCU+x2KAoUyQL3GLlG9mzhAjy5JeFU6M0Ap0CfyJPE8QIVNd7FDlzhAhnKiXYV0M0Ap0CfyJPE8QCnQJ/Ik8TxAuXVcPZU+OEA2WaMeovEpQIngzPy3vzhAQmDl0CIbOEBg9VQQmUk6QJG4x9KHqjlAuOnPfqQwNkDXL9gN29Y6QC5W1GAarjFAlPsdigKFMkCJ4Mz8t784QMW32GRmdDpA1S6Tzq0xPkC5dVw9lT44QPBvicpgyDhAidojwUEAM0C46c9+pDA2QAywj05dPTZAieDM/Le/OEC5dVw9lT44QCHIQQkz9TlAxbfYZGZ0OkC46c9+pDA2QI8uSXhVOjNAuOnPfqQwNkCJ4Mz8t784QIngzPy3vzhA8G+JymDIOED8epjQN7Q2QJT7HYoChTJAidojwUEAM0Aa+ie4WP0zQCHIQQkz9TlAhnKiXYV0M0DVLpPOrTE+QOgg1Z0UKzdAvcYuUb2bOEDXL9gN29Y6QNcv2A3b1jpAhU13sUOXOEDE2lOVHyQ5QPx6mNA3tDZAuOnPfqQwNkC5dVw9lT44QL3GLlG9mzhAhU13sUOXOECFTXexQ5c4QBr6J7hY/TNA6CDVnRQrN0CPLkl4VTozQAywj05dPTZA8G+JymDIOECPLkl4VTozQLl1XD2VPjhAxbfYZGZ0OkDoINWdFCs3QKpla32RZDFAOaAnoqD+N0A5oCeioP43QI8uSXhVOjNAvcYuUb2bOEDoINWdFCs3QJT7HYoChTJAjy5JeFU6M0CGcqJdhXQzQMTaU5UfJDlAaJHtfD8tKkCwj05d+Yw2QIZyol2FdDNAieDM/Le/OEDVLpPOrTE+QIVNd7FDlzhAieDM/Le/OECGcqJdhXQzQDmgJ6Kg/jdA8G+JymDIOECJ2iPBQQAzQEJg5dAiGzhAjy5JeFU6M0CJ2iPBQQAzQCHIQQkz9TlAuOnPfqQwNkA2WaMeovEpQLCPTl35jDZAIchBCTP1OUCwj05d+Yw2QC5W1GAarjFANlmjHqLxKUCwj05d+Yw2QKpla32RZDFAjy5JeFU6M0Cwj05d+Yw2QJT7HYoChTJAjy5JeFU6M0CPLkl4VTozQMTaU5UfJDlAhnKiXYV0M0Cwj05d+Yw2QI8uSXhVOjNALlbUYBquMUAhyEEJM/U5QLjpz36kMDZA1y/YDdvWOkD8epjQN7Q2QAywj05dPTZAqmVrfZFkMUDVLpPOrTE+QCHIQQkz9TlAKdAn8iTxPEDwb4nKYMg4QInaI8FBADNA6CDVnRQrN0AfAclhHbQ8QDZZox6i8SlAQmDl0CIbOEDoINWdFCs3QMTaU5UfJDlAkbjH0oeqOUCwj05d+Yw2QKpla32RZDFAvcYuUb2bOEC46c9+pDA2QNUuk86tMT5AQmDl0CIbOEC9xi5RvZs4QOgg1Z0UKzdAuXVcPZU+OEDE2lOVHyQ5QEJg5dAiGzhALlbUYBquMUAuVtRgGq4xQDmgJ6Kg/jdAhU13sUOXOEDoINWdFCs3QNUuk86tMT5AqmVrfZFkMUDVLpPOrTE+QJT7HYoChTJANlmjHqLxKUCJ4Mz8t784QL3GLlG9mzhA1y/YDdvWOkCU+x2KAoUyQMW32GRmdDpA1S6Tzq0xPkCGcqJdhXQzQJT7HYoChTJAhU13sUOXOEAfAclhHbQ8QPBvicpgyDhA1S6Tzq0xPkCFTXexQ5c4QCnQJ/Ik8TxAlPsdigKFMkDFt9hkZnQ6QGD1VBCZSTpAQmDl0CIbOECU+x2KAoUyQKpla32RZDFAkbjH0oeqOUAuVtRgGq4xQL3GLlG9mzhAidojwUEAM0CPLkl4VTozQMW32GRmdDpAYPVUEJlJOkCqZWt9kWQxQBr6J7hY/TNAqmVrfZFkMUC46c9+pDA2QL3GLlG9mzhAhU13sUOXOEDoINWdFCs3QJT7HYoChTJAhU13sUOXOED8epjQN7Q2QInaI8FBADNA1S6Tzq0xPkCRuMfSh6o5QNcv2A3b1jpAuXVcPZU+OEAMsI9OXT02QI8uSXhVOjNALlbUYBquMUCGcqJdhXQzQOgg1Z0UKzdAkbjH0oeqOUC46c9+pDA2QIngzPy3vzhAqmVrfZFkMUBCYOXQIhs4QNcv2A3b1jpAjy5JeFU6M0C46c9+pDA2QNUuk86tMT5A6CDVnRQrN0A2WaMeovEpQCnQJ/Ik8TxAKdAn8iTxPECqZWt9kWQxQInaI8FBADNAlPsdigKFMkDE2lOVHyQ5QCHIQQkz9TlA/HqY0De0NkDwb4nKYMg4QNUuk86tMT5AQmDl0CIbOEAhyEEJM/U5QKpla32RZDFAkbjH0oeqOUCwj05d+Yw2QC5W1GAarjFAIchBCTP1OUDFt9hkZnQ6QGiR7Xw/LSpAidojwUEAM0DFt9hkZnQ6QMW32GRmdDpALlbUYBquMUCFTXexQ5c4QNUuk86tMT5AxNpTlR8kOUAa+ie4WP0zQIZyol2FdDNAGvonuFj9M0C9xi5RvZs4QLCPTl35jDZAjy5JeFU6M0Aa+ie4WP0zQI8uSXhVOjNAuOnPfqQwNkBg9VQQmUk6QIZyol2FdDNAvcYuUb2bOECFTXexQ5c4QCHIQQkz9TlAxbfYZGZ0OkCGcqJdhXQzQB8ByWEdtDxAKdAn8iTxPEDFt9hkZnQ6QPx6mNA3tDZAHwHJYR20PECJ2iPBQQAzQMTaU5UfJDlAuOnPfqQwNkBg9VQQmUk6QCnQJ/Ik8TxAqmVrfZFkMUCGcqJdhXQzQOgg1Z0UKzdAYPVUEJlJOkCwj05d+Yw2QEJg5dAiGzhAKdAn8iTxPEAp0CfyJPE8QGiR7Xw/LSpAaJHtfD8tKkCU+x2KAoUyQL3GLlG9mzhA8G+JymDIOEAhyEEJM/U5QC5W1GAarjFAlPsdigKFMkBCYOXQIhs4QNcv2A3b1jpADLCPTl09NkA5oCeioP43QBr6J7hY/TNA8G+JymDIOEDFt9hkZnQ6QLCPTl35jDZAkbjH0oeqOUDE2lOVHyQ5QPBvicpgyDhADLCPTl09NkCPLkl4VTozQLl1XD2VPjhAidojwUEAM0C5dVw9lT44QIngzPy3vzhA/HqY0De0NkCPLkl4VTozQC5W1GAarjFA1S6Tzq0xPkCwj05d+Yw2QJT7HYoChTJAvcYuUb2bOECqZWt9kWQxQOgg1Z0UKzdAhU13sUOXOEC5dVw9lT44QInaI8FBADNAqmVrfZFkMUCqZWt9kWQxQNcv2A3b1jpAKdAn8iTxPECRuMfSh6o5QGiR7Xw/LSpAhnKiXYV0M0DE2lOVHyQ5QMW32GRmdDpAxNpTlR8kOUAp0CfyJPE8QBr6J7hY/TNAxNpTlR8kOUCwj05d+Yw2QGiR7Xw/LSpAaJHtfD8tKkCPLkl4VTozQMTaU5UfJDlAIchBCTP1OUCqZWt9kWQxQMW32GRmdDpAidojwUEAM0AuVtRgGq4xQCnQJ/Ik8TxAieDM/Le/OEBg9VQQmUk6QInaI8FBADNAIchBCTP1OUBCYOXQIhs4QLCPTl35jDZAhU13sUOXOECqZWt9kWQxQNUuk86tMT5AuXVcPZU+OECqZWt9kWQxQMTaU5UfJDlAqmVrfZFkMUBCYOXQIhs4QIZyol2FdDNAqmVrfZFkMUDXL9gN29Y6QBr6J7hY/TNANlmjHqLxKUAMsI9OXT02QNUuk86tMT5A1y/YDdvWOkCFTXexQ5c4QNcv2A3b1jpA1S6Tzq0xPkC46c9+pDA2QL3GLlG9mzhAHwHJYR20PECqZWt9kWQxQMW32GRmdDpAaJHtfD8tKkDXL9gN29Y6QBr6J7hY/TNAQmDl0CIbOEA2WaMeovEpQGiR7Xw/LSpAqmVrfZFkMUAfAclhHbQ8QDZZox6i8SlAuXVcPZU+OEAuVtRgGq4xQNUuk86tMT5Ajy5JeFU6M0AMsI9OXT02QKpla32RZDFAlPsdigKFMkC9xi5RvZs4QLjpz36kMDZAhU13sUOXOEA5oCeioP43QB8ByWEdtDxA1S6Tzq0xPkCGcqJdhXQzQMTaU5UfJDlAuXVcPZU+OEC9xi5RvZs4QLCPTl35jDZAsI9OXfmMNkCJ2iPBQQAzQLjpz36kMDZAidojwUEAM0CJ2iPBQQAzQLl1XD2VPjhA1S6Tzq0xPkCJ2iPBQQAzQKpla32RZDFAlPsdigKFMkC5dVw9lT44QInaI8FBADNAuXVcPZU+OEC5dVw9lT44QNcv2A3b1jpAuOnPfqQwNkAp0CfyJPE8QKpla32RZDFAjy5JeFU6M0C46c9+pDA2QGiR7Xw/LSpAxbfYZGZ0OkCGcqJdhXQzQNUuk86tMT5AsI9OXfmMNkCFTXexQ5c4QCnQJ/Ik8TxAieDM/Le/OEAuVtRgGq4xQNcv2A3b1jpAaJHtfD8tKkCqZWt9kWQxQIZyol2FdDNAxNpTlR8kOUA5oCeioP43QB8ByWEdtDxAqmVrfZFkMUAuVtRgGq4xQI8uSXhVOjNAlPsdigKFMkCPLkl4VTozQNcv2A3b1jpAkbjH0oeqOUDFt9hkZnQ6QIVNd7FDlzhAhU13sUOXOECwj05d+Yw2QLjpz36kMDZAhU13sUOXOEAuVtRgGq4xQKpla32RZDFAuXVcPZU+OEC46c9+pDA2QNUuk86tMT5AKdAn8iTxPECJ4Mz8t784QNcv2A3b1jpAGvonuFj9M0C46c9+pDA2QI8uSXhVOjNA/HqY0De0NkBoke18Py0qQMTaU5UfJDlAxbfYZGZ0OkA2WaMeovEpQDmgJ6Kg/jdAHwHJYR20PECJ4Mz8t784QPx6mNA3tDZAxbfYZGZ0OkC5dVw9lT44QLCPTl35jDZAieDM/Le/OEC46c9+pDA2QLjpz36kMDZAIchBCTP1OUCPLkl4VTozQOgg1Z0UKzdAaJHtfD8tKkCqZWt9kWQxQOgg1Z0UKzdAxbfYZGZ0OkBoke18Py0qQIZyol2FdDNAvcYuUb2bOECwj05d+Yw2QNUuk86tMT5A6CDVnRQrN0Bg9VQQmUk6QIVNd7FDlzhAxbfYZGZ0OkCGcqJdhXQzQLl1XD2VPjhAjy5JeFU6M0D8epjQN7Q2QCHIQQkz9TlAhnKiXYV0M0CqZWt9kWQxQIZyol2FdDNA1y/YDdvWOkCwj05d+Yw2QB8ByWEdtDxA1y/YDdvWOkCGcqJdhXQzQNcv2A3b1jpAIchBCTP1OUA5oCeioP43QLCPTl35jDZA/HqY0De0NkCwj05d+Yw2QOgg1Z0UKzdAuOnPfqQwNkCRuMfSh6o5QIVNd7FDlzhAuOnPfqQwNkA2WaMeovEpQIZyol2FdDNAIchBCTP1OUCJ4Mz8t784QDmgJ6Kg/jdAhnKiXYV0M0AMsI9OXT02QIVNd7FDlzhAHwHJYR20PECJ2iPBQQAzQLl1XD2VPjhAHwHJYR20PEAMsI9OXT02QMTaU5UfJDlAqmVrfZFkMUBCYOXQIhs4QNUuk86tMT5AuOnPfqQwNkCwj05d+Yw2QB8ByWEdtDxAieDM/Le/OEBg9VQQmUk6QLjpz36kMDZAieDM/Le/OECGcqJdhXQzQOgg1Z0UKzdAlPsdigKFMkDVLpPOrTE+QIngzPy3vzhA8G+JymDIOEBoke18Py0qQInaI8FBADNAxNpTlR8kOUC9xi5RvZs4QNcv2A3b1jpAhnKiXYV0M0BCYOXQIhs4QL3GLlG9mzhAieDM/Le/OEA2WaMeovEpQLjpz36kMDZALlbUYBquMUDoINWdFCs3QIZyol2FdDNAKdAn8iTxPECqZWt9kWQxQIZyol2FdDNAuOnPfqQwNkDVLpPOrTE+QLjpz36kMDZAieDM/Le/OEC5dVw9lT44QL3GLlG9mzhAkbjH0oeqOUCRuMfSh6o5QNUuk86tMT5AQmDl0CIbOEAp0CfyJPE8QLjpz36kMDZAxNpTlR8kOUAhyEEJM/U5QGiR7Xw/LSpAlPsdigKFMkCqZWt9kWQxQLjpz36kMDZAkbjH0oeqOUC46c9+pDA2QKpla32RZDFAsI9OXfmMNkAa+ie4WP0zQKpla32RZDFAQmDl0CIbOEC46c9+pDA2QIVNd7FDlzhAsI9OXfmMNkCJ4Mz8t784QDmgJ6Kg/jdAsI9OXfmMNkAMsI9OXT02QNUuk86tMT5AxbfYZGZ0OkA2WaMeovEpQNUuk86tMT5AxNpTlR8kOUC46c9+pDA2QAywj05dPTZAvcYuUb2bOEC5dVw9lT44QOgg1Z0UKzdA/HqY0De0NkCPLkl4VTozQL3GLlG9mzhAxbfYZGZ0OkDoINWdFCs3QCHIQQkz9TlALlbUYBquMUDFt9hkZnQ6QMW32GRmdDpAHwHJYR20PECwj05d+Yw2QCHIQQkz9TlAhnKiXYV0M0AMsI9OXT02QIZyol2FdDNAhnKiXYV0M0AuVtRgGq4xQOgg1Z0UKzdAQmDl0CIbOECqZWt9kWQxQNUuk86tMT5ADLCPTl09NkCJ2iPBQQAzQGD1VBCZSTpAsI9OXfmMNkA2WaMeovEpQOgg1Z0UKzdADLCPTl09NkA5oCeioP43QBr6J7hY/TNAhnKiXYV0M0AuVtRgGq4xQL3GLlG9mzhAYPVUEJlJOkCPLkl4VTozQIZyol2FdDNAlPsdigKFMkDVLpPOrTE+QNUuk86tMT5A1S6Tzq0xPkCGcqJdhXQzQEJg5dAiGzhAHwHJYR20PECwj05d+Yw2QPBvicpgyDhAjy5JeFU6M0DFt9hkZnQ6QJT7HYoChTJAGvonuFj9M0C9xi5RvZs4QIZyol2FdDNA1S6Tzq0xPkAMsI9OXT02QL3GLlG9mzhAidojwUEAM0CPLkl4VTozQMW32GRmdDpAOaAnoqD+N0CqZWt9kWQxQBr6J7hY/TNAxNpTlR8kOUD8epjQN7Q2QIZyol2FdDNAsI9OXfmMNkDXL9gN29Y6QDZZox6i8SlAlPsdigKFMkAMsI9OXT02QIVNd7FDlzhALlbUYBquMUAp0CfyJPE8QL3GLlG9mzhAqmVrfZFkMUCJ4Mz8t784QBr6J7hY/TNAlPsdigKFMkDwb4nKYMg4QAywj05dPTZAOaAnoqD+N0DXL9gN29Y6QGiR7Xw/LSpAaJHtfD8tKkC9xi5RvZs4QB8ByWEdtDxAkbjH0oeqOUC5dVw9lT44QJT7HYoChTJAidojwUEAM0CJ4Mz8t784QMW32GRmdDpAHwHJYR20PEBCYOXQIhs4QI8uSXhVOjNAqmVrfZFkMUC46c9+pDA2QLCPTl35jDZAQmDl0CIbOEAuVtRgGq4xQCnQJ/Ik8TxAuXVcPZU+OEC46c9+pDA2QPBvicpgyDhAHwHJYR20PEDoINWdFCs3QLjpz36kMDZAxbfYZGZ0OkCwj05d+Yw2QI8uSXhVOjNAuOnPfqQwNkCqZWt9kWQxQIZyol2FdDNAKdAn8iTxPEC5dVw9lT44QLCPTl35jDZAKdAn8iTxPECFTXexQ5c4QKpla32RZDFANlmjHqLxKUCPLkl4VTozQPBvicpgyDhAqmVrfZFkMUC9xi5RvZs4QGiR7Xw/LSpAidojwUEAM0AuVtRgGq4xQLjpz36kMDZAuOnPfqQwNkC9xi5RvZs4QB8ByWEdtDxA6CDVnRQrN0DE2lOVHyQ5QCnQJ/Ik8TxAsI9OXfmMNkCGcqJdhXQzQNUuk86tMT5AuXVcPZU+OECJ2iPBQQAzQCHIQQkz9TlAhU13sUOXOEBoke18Py0qQB8ByWEdtDxA1y/YDdvWOkCFTXexQ5c4QKpla32RZDFAhnKiXYV0M0CPLkl4VTozQKpla32RZDFA1S6Tzq0xPkDFt9hkZnQ6QMW32GRmdDpAuXVcPZU+OEAfAclhHbQ8QCnQJ/Ik8TxAuOnPfqQwNkCqZWt9kWQxQJG4x9KHqjlA1y/YDdvWOkCJ2iPBQQAzQAywj05dPTZAxbfYZGZ0OkBoke18Py0qQIVNd7FDlzhAqmVrfZFkMUDwb4nKYMg4QPBvicpgyDhAvcYuUb2bOEDFt9hkZnQ6QGD1VBCZSTpAuOnPfqQwNkC46c9+pDA2QIngzPy3vzhANlmjHqLxKUDwb4nKYMg4QInaI8FBADNAieDM/Le/OECJ2iPBQQAzQEJg5dAiGzhAaJHtfD8tKkCwj05d+Yw2QC5W1GAarjFAhU13sUOXOEA5oCeioP43QCHIQQkz9TlAvcYuUb2bOEDFt9hkZnQ6QLCPTl35jDZAidojwUEAM0Cwj05d+Yw2QCnQJ/Ik8TxAIchBCTP1OUAuVtRgGq4xQLl1XD2VPjhA1y/YDdvWOkCPLkl4VTozQGiR7Xw/LSpAxbfYZGZ0OkAp0CfyJPE8QCnQJ/Ik8TxA1y/YDdvWOkCwj05d+Yw2QNUuk86tMT5AGvonuFj9M0Ap0CfyJPE8QIngzPy3vzhA1y/YDdvWOkAa+ie4WP0zQLjpz36kMDZAYPVUEJlJOkCPLkl4VTozQMTaU5UfJDlA8G+JymDIOEAa+ie4WP0zQC5W1GAarjFAuXVcPZU+OEC5dVw9lT44QIZyol2FdDNAHwHJYR20PECRuMfSh6o5QIZyol2FdDNAhnKiXYV0M0A5oCeioP43QI8uSXhVOjNAsI9OXfmMNkCGcqJdhXQzQInaI8FBADNAIchBCTP1OUCRuMfSh6o5QLCPTl35jDZAxNpTlR8kOUBoke18Py0qQL3GLlG9mzhAsI9OXfmMNkDVLpPOrTE+QC5W1GAarjFALlbUYBquMUDE2lOVHyQ5QIngzPy3vzhA8G+JymDIOECqZWt9kWQxQIZyol2FdDNALlbUYBquMUAfAclhHbQ8QAywj05dPTZAIchBCTP1OUCJ4Mz8t784QMW32GRmdDpAvcYuUb2bOECPLkl4VTozQKpla32RZDFAhnKiXYV0M0C9xi5RvZs4QOgg1Z0UKzdA1S6Tzq0xPkCqZWt9kWQxQLCPTl35jDZAGvonuFj9M0AhyEEJM/U5QI8uSXhVOjNANlmjHqLxKUC5dVw9lT44QI8uSXhVOjNAuOnPfqQwNkDE2lOVHyQ5QLl1XD2VPjhA1S6Tzq0xPkCwj05d+Yw2QBr6J7hY/TNAuXVcPZU+OEC9xi5RvZs4QLCPTl35jDZAuOnPfqQwNkA5oCeioP43QCHIQQkz9TlAlPsdigKFMkAuVtRgGq4xQLCPTl35jDZAsI9OXfmMNkA2WaMeovEpQIZyol2FdDNAGvonuFj9M0C46c9+pDA2QIZyol2FdDNAIchBCTP1OUBCYOXQIhs4QLCPTl35jDZAlPsdigKFMkCwj05d+Yw2QI8uSXhVOjNAOaAnoqD+N0CPLkl4VTozQIngzPy3vzhA/HqY0De0NkC9xi5RvZs4QLl1XD2VPjhA8G+JymDIOEC46c9+pDA2QKpla32RZDFAaJHtfD8tKkDXL9gN29Y6QDmgJ6Kg/jdAkbjH0oeqOUDVLpPOrTE+QLl1XD2VPjhAlPsdigKFMkDE2lOVHyQ5QL3GLlG9mzhA1S6Tzq0xPkCFTXexQ5c4QI8uSXhVOjNAlPsdigKFMkBoke18Py0qQMW32GRmdDpAQmDl0CIbOEBCYOXQIhs4QIngzPy3vzhAqmVrfZFkMUC46c9+pDA2QLCPTl35jDZAxbfYZGZ0OkCPLkl4VTozQPx6mNA3tDZAxbfYZGZ0OkCGcqJdhXQzQCHIQQkz9TlAYPVUEJlJOkA5oCeioP43QInaI8FBADNAhU13sUOXOEBoke18Py0qQB8ByWEdtDxAIchBCTP1OUDFt9hkZnQ6QL3GLlG9mzhAhnKiXYV0M0CPLkl4VTozQGD1VBCZSTpAjy5JeFU6M0Ap0CfyJPE8QGiR7Xw/LSpA1S6Tzq0xPkC9xi5RvZs4QNcv2A3b1jpAxNpTlR8kOUDE2lOVHyQ5QInaI8FBADNAGvonuFj9M0Bg9VQQmUk6QC5W1GAarjFAHwHJYR20PEDFt9hkZnQ6QB8ByWEdtDxA8G+JymDIOED8epjQN7Q2QPBvicpgyDhAlPsdigKFMkA5oCeioP43QIZyol2FdDNAidojwUEAM0A5oCeioP43QAywj05dPTZA8G+JymDIOECwj05d+Yw2QCnQJ/Ik8TxAGvonuFj9M0AMsI9OXT02QL3GLlG9mzhAsI9OXfmMNkCFTXexQ5c4QKpla32RZDFAjy5JeFU6M0CGcqJdhXQzQIZyol2FdDNAhnKiXYV0M0CJ4Mz8t784QKpla32RZDFAuOnPfqQwNkDoINWdFCs3QIZyol2FdDNAhnKiXYV0M0CGcqJdhXQzQPBvicpgyDhAuXVcPZU+OEC46c9+pDA2QIVNd7FDlzhAjy5JeFU6M0CGcqJdhXQzQMW32GRmdDpAhU13sUOXOECGcqJdhXQzQBr6J7hY/TNAhU13sUOXOEAhyEEJM/U5QIZyol2FdDNAlPsdigKFMkBoke18Py0qQIVNd7FDlzhAqmVrfZFkMUCGcqJdhXQzQNcv2A3b1jpAjy5JeFU6M0C46c9+pDA2QPBvicpgyDhA6CDVnRQrN0CqZWt9kWQxQI8uSXhVOjNAuOnPfqQwNkAMsI9OXT02QEJg5dAiGzhA8G+JymDIOEDFt9hkZnQ6QPBvicpgyDhALlbUYBquMUC5dVw9lT44QCHIQQkz9TlAieDM/Le/OEDVLpPOrTE+QIZyol2FdDNAjy5JeFU6M0CJ2iPBQQAzQLCPTl35jDZAlPsdigKFMkAuVtRgGq4xQLCPTl35jDZAjy5JeFU6M0DFt9hkZnQ6QKpla32RZDFAjy5JeFU6M0CGcqJdhXQzQGiR7Xw/LSpANlmjHqLxKUCJ4Mz8t784QDmgJ6Kg/jdAxbfYZGZ0OkCFTXexQ5c4QIZyol2FdDNA1S6Tzq0xPkCFTXexQ5c4QDZZox6i8SlAQmDl0CIbOEDE2lOVHyQ5QB8ByWEdtDxAIchBCTP1OUCJ2iPBQQAzQLjpz36kMDZA1S6Tzq0xPkDXL9gN29Y6QIZyol2FdDNAxbfYZGZ0OkAuVtRgGq4xQCHIQQkz9TlA/HqY0De0NkCGcqJdhXQzQIVNd7FDlzhAHwHJYR20PEC5dVw9lT44QMW32GRmdDpAYPVUEJlJOkC46c9+pDA2QDZZox6i8SlALlbUYBquMUCPLkl4VTozQNUuk86tMT5AxbfYZGZ0OkCJ4Mz8t784QMW32GRmdDpAIchBCTP1OUDwb4nKYMg4QNUuk86tMT5AuOnPfqQwNkDE2lOVHyQ5QNcv2A3b1jpALlbUYBquMUCFTXexQ5c4QNcv2A3b1jpAsI9OXfmMNkDE2lOVHyQ5QPBvicpgyDhANlmjHqLxKUDVLpPOrTE+QLl1XD2VPjhA8G+JymDIOEDE2lOVHyQ5QKpla32RZDFAaJHtfD8tKkDXL9gN29Y6QKpla32RZDFAjy5JeFU6M0DFt9hkZnQ6QNUuk86tMT5AlPsdigKFMkCJ4Mz8t784QDmgJ6Kg/jdAYPVUEJlJOkCwj05d+Yw2QAywj05dPTZAkbjH0oeqOUDFt9hkZnQ6QMW32GRmdDpAGvonuFj9M0AuVtRgGq4xQDZZox6i8SlAQmDl0CIbOEAfAclhHbQ8QB8ByWEdtDxAuOnPfqQwNkCqZWt9kWQxQNUuk86tMT5A6CDVnRQrN0DVLpPOrTE+QC5W1GAarjFA8G+JymDIOEC5dVw9lT44QDmgJ6Kg/jdAjy5JeFU6M0CFTXexQ5c4QNUuk86tMT5AsI9OXfmMNkCFTXexQ5c4QBr6J7hY/TNAvcYuUb2bOECJ4Mz8t784QLCPTl35jDZAOaAnoqD+N0DVLpPOrTE+QIngzPy3vzhADLCPTl09NkAfAclhHbQ8QJG4x9KHqjlA1y/YDdvWOkDwb4nKYMg4QPBvicpgyDhA1S6Tzq0xPkAp0CfyJPE8QLCPTl35jDZAHwHJYR20PEBoke18Py0qQNUuk86tMT5AQmDl0CIbOECqZWt9kWQxQNcv2A3b1jpA1y/YDdvWOkDE2lOVHyQ5QIngzPy3vzhAQmDl0CIbOEDFt9hkZnQ6QNcv2A3b1jpAhU13sUOXOEAp0CfyJPE8QC5W1GAarjFA6CDVnRQrN0Dwb4nKYMg4QPx6mNA3tDZAsI9OXfmMNkAuVtRgGq4xQLCPTl35jDZAjy5JeFU6M0Boke18Py0qQJG4x9KHqjlAsI9OXfmMNkBCYOXQIhs4QC5W1GAarjFA6CDVnRQrN0Boke18Py0qQNUuk86tMT5AQmDl0CIbOECJ4Mz8t784QIVNd7FDlzhA1S6Tzq0xPkDoINWdFCs3QLCPTl35jDZALlbUYBquMUDXL9gN29Y6QIVNd7FDlzhA/HqY0De0NkC9xi5RvZs4QL3GLlG9mzhAqmVrfZFkMUDXL9gN29Y6QIZyol2FdDNAidojwUEAM0C9xi5RvZs4QMW32GRmdDpAieDM/Le/OECGcqJdhXQzQLCPTl35jDZAhU13sUOXOECGcqJdhXQzQC5W1GAarjFAieDM/Le/OEAhyEEJM/U5QIngzPy3vzhAuXVcPZU+OEDFt9hkZnQ6QAywj05dPTZAOaAnoqD+N0Ap0CfyJPE8QL3GLlG9mzhAuXVcPZU+OECU+x2KAoUyQIngzPy3vzhAQmDl0CIbOEBoke18Py0qQLjpz36kMDZAGvonuFj9M0CJ4Mz8t784QIVNd7FDlzhAieDM/Le/OECJ4Mz8t784QB8ByWEdtDxAsI9OXfmMNkDwb4nKYMg4QNUuk86tMT5AQmDl0CIbOECwj05d+Yw2QKpla32RZDFAqmVrfZFkMUAfAclhHbQ8QMTaU5UfJDlAxbfYZGZ0OkCJ4Mz8t784QLCPTl35jDZAjy5JeFU6M0AuVtRgGq4xQNcv2A3b1jpALlbUYBquMUDXL9gN29Y6QInaI8FBADNA1S6Tzq0xPkCGcqJdhXQzQKpla32RZDFA1S6Tzq0xPkCPLkl4VTozQLjpz36kMDZAIchBCTP1OUBoke18Py0qQMW32GRmdDpAIchBCTP1OUAMsI9OXT02QCHIQQkz9TlAlPsdigKFMkCPLkl4VTozQBr6J7hY/TNA1y/YDdvWOkDVLpPOrTE+QIngzPy3vzhALlbUYBquMUCqZWt9kWQxQLjpz36kMDZAxNpTlR8kOUDE2lOVHyQ5QMW32GRmdDpA8G+JymDIOEC9xi5RvZs4QCHIQQkz9TlAlPsdigKFMkDFt9hkZnQ6QAywj05dPTZAuOnPfqQwNkCGcqJdhXQzQMW32GRmdDpA/HqY0De0NkDVLpPOrTE+QEJg5dAiGzhAIchBCTP1OUBoke18Py0qQEJg5dAiGzhAxbfYZGZ0OkDwb4nKYMg4QAywj05dPTZAuXVcPZU+OECqZWt9kWQxQLjpz36kMDZAsI9OXfmMNkA2WaMeovEpQJT7HYoChTJA1y/YDdvWOkC5dVw9lT44QIngzPy3vzhAqmVrfZFkMUA5oCeioP43QLl1XD2VPjhA8G+JymDIOEBoke18Py0qQB8ByWEdtDxAuOnPfqQwNkC9xi5RvZs4QGiR7Xw/LSpAidojwUEAM0A5oCeioP43QI8uSXhVOjNAxbfYZGZ0OkCJ2iPBQQAzQI8uSXhVOjNAidojwUEAM0Cwj05d+Yw2QGiR7Xw/LSpAhnKiXYV0M0DoINWdFCs3QLl1XD2VPjhALlbUYBquMUCGcqJdhXQzQPBvicpgyDhAhnKiXYV0M0CJ4Mz8t784QLCPTl35jDZAQmDl0CIbOECJ4Mz8t784QCHIQQkz9TlAxbfYZGZ0OkCFTXexQ5c4QNUuk86tMT5AxNpTlR8kOUDE2lOVHyQ5QEJg5dAiGzhA1S6Tzq0xPkCqZWt9kWQxQLCPTl35jDZA1y/YDdvWOkAfAclhHbQ8QPx6mNA3tDZAhnKiXYV0M0C5dVw9lT44QPx6mNA3tDZANlmjHqLxKUCFTXexQ5c4QLl1XD2VPjhAuOnPfqQwNkCU+x2KAoUyQJG4x9KHqjlAOaAnoqD+N0A5oCeioP43QEJg5dAiGzhA1S6Tzq0xPkCqZWt9kWQxQL3GLlG9mzhAsI9OXfmMNkA2WaMeovEpQIZyol2FdDNAGvonuFj9M0DFt9hkZnQ6QDmgJ6Kg/jdAidojwUEAM0DFt9hkZnQ6QL3GLlG9mzhAuXVcPZU+OEA2WaMeovEpQIngzPy3vzhAGvonuFj9M0Cwj05d+Yw2QCHIQQkz9TlAhU13sUOXOEC46c9+pDA2QB8ByWEdtDxANlmjHqLxKUCqZWt9kWQxQCHIQQkz9TlAuXVcPZU+OECqZWt9kWQxQDmgJ6Kg/jdAxNpTlR8kOUDoINWdFCs3QCnQJ/Ik8TxAieDM/Le/OECU+x2KAoUyQKpla32RZDFAIchBCTP1OUBg9VQQmUk6QMW32GRmdDpAqmVrfZFkMUCPLkl4VTozQNcv2A3b1jpAuOnPfqQwNkDVLpPOrTE+QInaI8FBADNAxbfYZGZ0OkA5oCeioP43QCHIQQkz9TlAsI9OXfmMNkDFt9hkZnQ6QB8ByWEdtDxAIchBCTP1OUDVLpPOrTE+QLl1XD2VPjhAGvonuFj9M0Boke18Py0qQLl1XD2VPjhAieDM/Le/OECU+x2KAoUyQKpla32RZDFAxbfYZGZ0OkCFTXexQ5c4QMTaU5UfJDlAieDM/Le/OECFTXexQ5c4QJT7HYoChTJAvcYuUb2bOEC46c9+pDA2QLjpz36kMDZA8G+JymDIOECGcqJdhXQzQLl1XD2VPjhAsI9OXfmMNkA5oCeioP43QL3GLlG9mzhAhU13sUOXOEAMsI9OXT02QLCPTl35jDZAGvonuFj9M0DXL9gN29Y6QLjpz36kMDZADLCPTl09NkAuVtRgGq4xQMW32GRmdDpADLCPTl09NkCJ4Mz8t784QGiR7Xw/LSpAsI9OXfmMNkC46c9+pDA2QNUuk86tMT5AaJHtfD8tKkAuVtRgGq4xQLCPTl35jDZAqmVrfZFkMUCqZWt9kWQxQPx6mNA3tDZA1S6Tzq0xPkAMsI9OXT02QIVNd7FDlzhAuXVcPZU+OEC9xi5RvZs4QCHIQQkz9TlA1S6Tzq0xPkDXL9gN29Y6QEJg5dAiGzhAhU13sUOXOECPLkl4VTozQPx6mNA3tDZAxbfYZGZ0OkA2WaMeovEpQIngzPy3vzhAxbfYZGZ0OkDwb4nKYMg4QLjpz36kMDZAKdAn8iTxPEC46c9+pDA2QInaI8FBADNAxNpTlR8kOUDVLpPOrTE+QPBvicpgyDhAhU13sUOXOEC46c9+pDA2QC5W1GAarjFANlmjHqLxKUC46c9+pDA2QPBvicpgyDhAQmDl0CIbOEBCYOXQIhs4QKpla32RZDFA1y/YDdvWOkCGcqJdhXQzQNcv2A3b1jpAsI9OXfmMNkD8epjQN7Q2QL3GLlG9mzhAidojwUEAM0CFTXexQ5c4QLjpz36kMDZAjy5JeFU6M0Ap0CfyJPE8QDZZox6i8SlAQmDl0CIbOED8epjQN7Q2QB8ByWEdtDxAKdAn8iTxPECGcqJdhXQzQIZyol2FdDNAxbfYZGZ0OkCPLkl4VTozQDZZox6i8SlAxbfYZGZ0OkAp0CfyJPE8QLjpz36kMDZAQmDl0CIbOED8epjQN7Q2QEJg5dAiGzhAuOnPfqQwNkA5oCeioP43QLjpz36kMDZALlbUYBquMUAMsI9OXT02QIVNd7FDlzhAuXVcPZU+OEBoke18Py0qQIZyol2FdDNAIchBCTP1OUC9xi5RvZs4QCnQJ/Ik8TxAIchBCTP1OUCPLkl4VTozQIngzPy3vzhA1S6Tzq0xPkC46c9+pDA2QNUuk86tMT5ALlbUYBquMUCGcqJdhXQzQLjpz36kMDZAGvonuFj9M0BCYOXQIhs4QIngzPy3vzhAsI9OXfmMNkAhyEEJM/U5QL3GLlG9mzhAIchBCTP1OUC5dVw9lT44QCnQJ/Ik8TxAkbjH0oeqOUAa+ie4WP0zQIVNd7FDlzhAqmVrfZFkMUAuVtRgGq4xQC5W1GAarjFAuOnPfqQwNkCU+x2KAoUyQIZyol2FdDNAuXVcPZU+OECJ4Mz8t784QL3GLlG9mzhAhU13sUOXOECFTXexQ5c4QJT7HYoChTJAidojwUEAM0C46c9+pDA2QDZZox6i8SlAxbfYZGZ0OkDXL9gN29Y6QGiR7Xw/LSpAQmDl0CIbOEC9xi5RvZs4QIZyol2FdDNAuOnPfqQwNkDFt9hkZnQ6QIngzPy3vzhAsI9OXfmMNkA2WaMeovEpQOgg1Z0UKzdAlPsdigKFMkDVLpPOrTE+QCnQJ/Ik8TxAhnKiXYV0M0BCYOXQIhs4QDmgJ6Kg/jdAhU13sUOXOECwj05d+Yw2QBr6J7hY/TNAsI9OXfmMNkDXL9gN29Y6QEJg5dAiGzhAqmVrfZFkMUCJ4Mz8t784QLjpz36kMDZAjy5JeFU6M0AMsI9OXT02QKpla32RZDFAQmDl0CIbOECRuMfSh6o5QGiR7Xw/LSpAjy5JeFU6M0DFt9hkZnQ6QAywj05dPTZAlPsdigKFMkDXL9gN29Y6QJT7HYoChTJAHwHJYR20PECFTXexQ5c4QJT7HYoChTJAidojwUEAM0AfAclhHbQ8QLCPTl35jDZAieDM/Le/OECFTXexQ5c4QI8uSXhVOjNAjy5JeFU6M0A5oCeioP43QPBvicpgyDhALlbUYBquMUDVLpPOrTE+QIZyol2FdDNAsI9OXfmMNkDoINWdFCs3QPBvicpgyDhAhU13sUOXOECRuMfSh6o5QBr6J7hY/TNAKdAn8iTxPEC5dVw9lT44QNcv2A3b1jpAjy5JeFU6M0DFt9hkZnQ6QL3GLlG9mzhAYPVUEJlJOkCqZWt9kWQxQDmgJ6Kg/jdA8G+JymDIOECqZWt9kWQxQPx6mNA3tDZA8G+JymDIOECU+x2KAoUyQI8uSXhVOjNAlPsdigKFMkDE2lOVHyQ5QIZyol2FdDNAieDM/Le/OEDFt9hkZnQ6QPx6mNA3tDZAaJHtfD8tKkDFt9hkZnQ6QLl1XD2VPjhA1S6Tzq0xPkA5oCeioP43QAywj05dPTZAHwHJYR20PECU+x2KAoUyQJG4x9KHqjlANlmjHqLxKUDXL9gN29Y6QLjpz36kMDZA1S6Tzq0xPkA5oCeioP43QI8uSXhVOjNAjy5JeFU6M0C5dVw9lT44QPx6mNA3tDZAHwHJYR20PEC5dVw9lT44QJG4x9KHqjlANlmjHqLxKUAp0CfyJPE8QOgg1Z0UKzdAlPsdigKFMkCJ2iPBQQAzQDmgJ6Kg/jdAlPsdigKFMkBCYOXQIhs4QLl1XD2VPjhAjy5JeFU6M0BCYOXQIhs4QKpla32RZDFA1S6Tzq0xPkCJ4Mz8t784QAywj05dPTZAieDM/Le/OEAp0CfyJPE8QDZZox6i8SlAxbfYZGZ0OkC46c9+pDA2QI8uSXhVOjNAxNpTlR8kOUCqZWt9kWQxQI8uSXhVOjNANlmjHqLxKUCJ4Mz8t784QIngzPy3vzhANlmjHqLxKUDwb4nKYMg4QIngzPy3vzhAYPVUEJlJOkCGcqJdhXQzQNcv2A3b1jpADLCPTl09NkAuVtRgGq4xQGiR7Xw/LSpAqmVrfZFkMUAuVtRgGq4xQI8uSXhVOjNA8G+JymDIOECFTXexQ5c4QLjpz36kMDZA1S6Tzq0xPkCJ4Mz8t784QCHIQQkz9TlANlmjHqLxKUC46c9+pDA2QI8uSXhVOjNAuOnPfqQwNkDFt9hkZnQ6QIZyol2FdDNAhU13sUOXOECRuMfSh6o5QBr6J7hY/TNALlbUYBquMUDoINWdFCs3QNcv2A3b1jpA1S6Tzq0xPkDVLpPOrTE+QLjpz36kMDZAOaAnoqD+N0Boke18Py0qQIVNd7FDlzhAGvonuFj9M0CJ2iPBQQAzQJG4x9KHqjlAieDM/Le/OEC5dVw9lT44QBr6J7hY/TNAxNpTlR8kOUAuVtRgGq4xQBr6J7hY/TNAjy5JeFU6M0C46c9+pDA2QMTaU5UfJDlAkbjH0oeqOUDXL9gN29Y6QB8ByWEdtDxAkbjH0oeqOUC5dVw9lT44QIngzPy3vzhA6CDVnRQrN0AfAclhHbQ8QLCPTl35jDZAGvonuFj9M0DVLpPOrTE+QB8ByWEdtDxALlbUYBquMUC46c9+pDA2QI8uSXhVOjNALlbUYBquMUCwj05d+Yw2QBr6J7hY/TNAGvonuFj9M0DXL9gN29Y6QNcv2A3b1jpAuOnPfqQwNkCJ4Mz8t784QDZZox6i8SlAuOnPfqQwNkD8epjQN7Q2QNcv2A3b1jpAQmDl0CIbOECqZWt9kWQxQLCPTl35jDZAQmDl0CIbOEC9xi5RvZs4QLCPTl35jDZAaJHtfD8tKkDE2lOVHyQ5QIZyol2FdDNAsI9OXfmMNkAuVtRgGq4xQI8uSXhVOjNAjy5JeFU6M0AfAclhHbQ8QMW32GRmdDpAqmVrfZFkMUAMsI9OXT02QPBvicpgyDhAsI9OXfmMNkDE2lOVHyQ5QMW32GRmdDpAIchBCTP1OUBoke18Py0qQB8ByWEdtDxA8G+JymDIOEDFt9hkZnQ6QIZyol2FdDNAlPsdigKFMkDE2lOVHyQ5QInaI8FBADNAqmVrfZFkMUC9xi5RvZs4QInaI8FBADNA8G+JymDIOEBCYOXQIhs4QIVNd7FDlzhAuOnPfqQwNkCqZWt9kWQxQCnQJ/Ik8TxAkbjH0oeqOUD8epjQN7Q2QGiR7Xw/LSpA1S6Tzq0xPkDXL9gN29Y6QLjpz36kMDZAuOnPfqQwNkDVLpPOrTE+QJT7HYoChTJA6CDVnRQrN0C9xi5RvZs4QMW32GRmdDpAieDM/Le/OEBoke18Py0qQMW32GRmdDpAlPsdigKFMkBoke18Py0qQNUuk86tMT5Ajy5JeFU6M0CJ2iPBQQAzQPBvicpgyDhA1y/YDdvWOkDoINWdFCs3QLjpz36kMDZAHwHJYR20PECJ4Mz8t784QMW32GRmdDpAIchBCTP1OUAhyEEJM/U5QLjpz36kMDZAuOnPfqQwNkDFt9hkZnQ6QL3GLlG9mzhAxbfYZGZ0OkDFt9hkZnQ6QPBvicpgyDhA1S6Tzq0xPkCwj05d+Yw2QDmgJ6Kg/jdAlPsdigKFMkA5oCeioP43QIZyol2FdDNALlbUYBquMUAp0CfyJPE8QC5W1GAarjFAlPsdigKFMkC9xi5RvZs4QBr6J7hY/TNADLCPTl09NkCqZWt9kWQxQI8uSXhVOjNAhnKiXYV0M0CU+x2KAoUyQIngzPy3vzhAOaAnoqD+N0DFt9hkZnQ6QLCPTl35jDZAieDM/Le/OED8epjQN7Q2QIVNd7FDlzhAaJHtfD8tKkCJ4Mz8t784QJT7HYoChTJAlPsdigKFMkCU+x2KAoUyQPBvicpgyDhAHwHJYR20PEA5oCeioP43QCHIQQkz9TlANlmjHqLxKUCFTXexQ5c4QNUuk86tMT5ADLCPTl09NkAp0CfyJPE8QPx6mNA3tDZAvcYuUb2bOECU+x2KAoUyQPBvicpgyDhAaJHtfD8tKkAfAclhHbQ8QCHIQQkz9TlAvcYuUb2bOEC46c9+pDA2QB8ByWEdtDxAuXVcPZU+OEDoINWdFCs3QPx6mNA3tDZAsI9OXfmMNkCwj05d+Yw2QIZyol2FdDNAuXVcPZU+OEC46c9+pDA2QBr6J7hY/TNAuXVcPZU+OEDXL9gN29Y6QDmgJ6Kg/jdAHwHJYR20PEAhyEEJM/U5QI8uSXhVOjNAHwHJYR20PEAuVtRgGq4xQIngzPy3vzhAaJHtfD8tKkCRuMfSh6o5QJT7HYoChTJAsI9OXfmMNkAhyEEJM/U5QI8uSXhVOjNA1S6Tzq0xPkAhyEEJM/U5QCHIQQkz9TlALlbUYBquMUAMsI9OXT02QNUuk86tMT5AuXVcPZU+OEDFt9hkZnQ6QInaI8FBADNA1S6Tzq0xPkAuVtRgGq4xQLl1XD2VPjhANlmjHqLxKUAuVtRgGq4xQJT7HYoChTJA8G+JymDIOEA5oCeioP43QL3GLlG9mzhAQmDl0CIbOEAa+ie4WP0zQLCPTl35jDZAsI9OXfmMNkCGcqJdhXQzQCHIQQkz9TlAIchBCTP1OUDXL9gN29Y6QLjpz36kMDZAkbjH0oeqOUCJ4Mz8t784QIngzPy3vzhAuXVcPZU+OEA2WaMeovEpQCnQJ/Ik8TxAxbfYZGZ0OkD8epjQN7Q2QIngzPy3vzhA/HqY0De0NkAa+ie4WP0zQIVNd7FDlzhAIchBCTP1OUA5oCeioP43QLCPTl35jDZA1S6Tzq0xPkCJ2iPBQQAzQPx6mNA3tDZA8G+JymDIOEDoINWdFCs3QEJg5dAiGzhAGvonuFj9M0C46c9+pDA2QCHIQQkz9TlAOaAnoqD+N0CqZWt9kWQxQL3GLlG9mzhAuXVcPZU+OEDXL9gN29Y6QLjpz36kMDZAjy5JeFU6M0CqZWt9kWQxQCHIQQkz9TlAOaAnoqD+N0CU+x2KAoUyQGD1VBCZSTpAlPsdigKFMkD8epjQN7Q2QDmgJ6Kg/jdAIchBCTP1OUDE2lOVHyQ5QCnQJ/Ik8TxAhnKiXYV0M0DXL9gN29Y6QIVNd7FDlzhAHwHJYR20PEDFt9hkZnQ6QNcv2A3b1jpAhnKiXYV0M0AhyEEJM/U5QMH/VrJjHzVAKdAn8iTxPEC46c9+pDA2QIngzPy3vzhAieDM/Le/OEC46c9+pDA2QI8uSXhVOjNANlmjHqLxKUC46c9+pDA2QInaI8FBADNA8G+JymDIOEAhyEEJM/U5QDmgJ6Kg/jdAhnKiXYV0M0DXL9gN29Y6QMW32GRmdDpA/HqY0De0NkCFTXexQ5c4QIVNd7FDlzhAhU13sUOXOEAuVtRgGq4xQIVNd7FDlzhA1S6Tzq0xPkDXL9gN29Y6QOgg1Z0UKzdAsI9OXfmMNkDwb4nKYMg4QKpla32RZDFAOaAnoqD+N0AhyEEJM/U5QIngzPy3vzhAKdAn8iTxPED8epjQN7Q2QLCPTl35jDZAaJHtfD8tKkC46c9+pDA2QI8uSXhVOjNA8G+JymDIOEDVLpPOrTE+QPBvicpgyDhAKdAn8iTxPECwj05d+Yw2QCnQJ/Ik8TxA1S6Tzq0xPkC5dVw9lT44QBr6J7hY/TNA1S6Tzq0xPkCJ4Mz8t784QIZyol2FdDNAYPVUEJlJOkCJ2iPBQQAzQIVNd7FDlzhAaJHtfD8tKkCJ2iPBQQAzQPBvicpgyDhAhU13sUOXOEC5dVw9lT44QOgg1Z0UKzdAGvonuFj9M0AuVtRgGq4xQIngzPy3vzhA/HqY0De0NkBCYOXQIhs4QGiR7Xw/LSpAKdAn8iTxPED8epjQN7Q2QIZyol2FdDNAxbfYZGZ0OkCqZWt9kWQxQLCPTl35jDZAxbfYZGZ0OkCJ2iPBQQAzQMW32GRmdDpAlPsdigKFMkC5dVw9lT44QLl1XD2VPjhAqmVrfZFkMUCwj05d+Yw2QNcv2A3b1jpA6CDVnRQrN0AuVtRgGq4xQNUuk86tMT5A1y/YDdvWOkCJ2iPBQQAzQIVNd7FDlzhAuOnPfqQwNkC46c9+pDA2QBr6J7hY/TNAjy5JeFU6M0CJ4Mz8t784QNcv2A3b1jpAqmVrfZFkMUAhyEEJM/U5QKpla32RZDFAOaAnoqD+N0Dwb4nKYMg4QIngzPy3vzhAhnKiXYV0M0Boke18Py0qQJT7HYoChTJAQmDl0CIbOEDwb4nKYMg4QJT7HYoChTJAHwHJYR20PEAp0CfyJPE8QLCPTl35jDZA6CDVnRQrN0CRuMfSh6o5QPx6mNA3tDZA1y/YDdvWOkCJ4Mz8t784QPx6mNA3tDZA1y/YDdvWOkCRuMfSh6o5QCnQJ/Ik8TxA1S6Tzq0xPkCFTXexQ5c4QC5W1GAarjFAOaAnoqD+N0DXL9gN29Y6QIngzPy3vzhAieDM/Le/OED8epjQN7Q2QInaI8FBADNAlPsdigKFMkCwj05d+Yw2QIngzPy3vzhAHwHJYR20PED8epjQN7Q2QIZyol2FdDNAieDM/Le/OEAuVtRgGq4xQC5W1GAarjFAhnKiXYV0M0CGcqJdhXQzQPx6mNA3tDZA1y/YDdvWOkCU+x2KAoUyQMW32GRmdDpAsI9OXfmMNkDwb4nKYMg4QLl1XD2VPjhAIchBCTP1OUAp0CfyJPE8QNUuk86tMT5AhU13sUOXOECJ4Mz8t784QBr6J7hY/TNAuOnPfqQwNkC5dVw9lT44QIVNd7FDlzhAHwHJYR20PEDoINWdFCs3QC5W1GAarjFAHwHJYR20PEC5dVw9lT44QPx6mNA3tDZAhnKiXYV0M0CFTXexQ5c4QNUuk86tMT5A6CDVnRQrN0CGcqJdhXQzQLCPTl35jDZAIchBCTP1OUDFt9hkZnQ6QLl1XD2VPjhALlbUYBquMUA5oCeioP43QLjpz36kMDZAjy5JeFU6M0Dwb4nKYMg4QMW32GRmdDpAxbfYZGZ0OkAp0CfyJPE8QI8uSXhVOjNAuOnPfqQwNkC46c9+pDA2QInaI8FBADNAKdAn8iTxPECJ4Mz8t784QLjpz36kMDZALlbUYBquMUC46c9+pDA2QNcv2A3b1jpA1S6Tzq0xPkCU+x2KAoUyQMW32GRmdDpAuXVcPZU+OEDXL9gN29Y6QIngzPy3vzhAlPsdigKFMkDoINWdFCs3QIZyol2FdDNAIchBCTP1OUCJ4Mz8t784QMW32GRmdDpAQmDl0CIbOEAhyEEJM/U5QPBvicpgyDhAuOnPfqQwNkCqZWt9kWQxQMW32GRmdDpAqmVrfZFkMUBg9VQQmUk6QDmgJ6Kg/jdA/HqY0De0NkAuVtRgGq4xQCHIQQkz9TlAlPsdigKFMkAuVtRgGq4xQPx6mNA3tDZAhU13sUOXOEBCYOXQIhs4QJT7HYoChTJAIchBCTP1OUC5dVw9lT44QGiR7Xw/LSpA8G+JymDIOEAuVtRgGq4xQC5W1GAarjFAkbjH0oeqOUCqZWt9kWQxQKpla32RZDFAsI9OXfmMNkCwj05d+Yw2QNcv2A3b1jpA8G+JymDIOEDwb4nKYMg4QMW32GRmdDpAuOnPfqQwNkDXL9gN29Y6QJG4x9KHqjlAqmVrfZFkMUCRuMfSh6o5QL3GLlG9mzhAjy5JeFU6M0CFTXexQ5c4QCnQJ/Ik8TxAqmVrfZFkMUDXL9gN29Y6QIngzPy3vzhAaJHtfD8tKkA5oCeioP43QNUuk86tMT5AxNpTlR8kOUCU+x2KAoUyQC5W1GAarjFA8G+JymDIOEBg9VQQmUk6QIZyol2FdDNAieDM/Le/OECwj05d+Yw2QL3GLlG9mzhA1S6Tzq0xPkD8epjQN7Q2QAywj05dPTZAhnKiXYV0M0DFt9hkZnQ6QPx6mNA3tDZAxbfYZGZ0OkA5oCeioP43QGiR7Xw/LSpALlbUYBquMUCJ4Mz8t784QJT7HYoChTJAGvonuFj9M0Boke18Py0qQGD1VBCZSTpA6CDVnRQrN0AMsI9OXT02QKpla32RZDFALlbUYBquMUBoke18Py0qQLjpz36kMDZAuXVcPZU+OECJ2iPBQQAzQNcv2A3b1jpAhnKiXYV0M0Dwb4nKYMg4QI8uSXhVOjNANlmjHqLxKUA2WaMeovEpQI8uSXhVOjNA8G+JymDIOECGcqJdhXQzQPBvicpgyDhAsI9OXfmMNkC46c9+pDA2QKpla32RZDFADLCPTl09NkCU+x2KAoUyQLjpz36kMDZA1y/YDdvWOkAMsI9OXT02QPx6mNA3tDZAhnKiXYV0M0A5oCeioP43QI8uSXhVOjNADLCPTl09NkDE2lOVHyQ5QPBvicpgyDhAhnKiXYV0M0Ap0CfyJPE8QLjpz36kMDZAxNpTlR8kOUCU+x2KAoUyQI8uSXhVOjNAIchBCTP1OUCGcqJdhXQzQGiR7Xw/LSpAkbjH0oeqOUCJ4Mz8t784QIZyol2FdDNAqmVrfZFkMUCqZWt9kWQxQCHIQQkz9TlAqmVrfZFkMUCqZWt9kWQxQJT7HYoChTJANlmjHqLxKUA5oCeioP43QDZZox6i8SlAuOnPfqQwNkCRuMfSh6o5QPx6mNA3tDZAHwHJYR20PEBoke18Py0qQIVNd7FDlzhAGvonuFj9M0AfAclhHbQ8QGD1VBCZSTpALlbUYBquMUCqZWt9kWQxQLCPTl35jDZAYPVUEJlJOkCJ4Mz8t784QGiR7Xw/LSpAaJHtfD8tKkDXL9gN29Y6QMW32GRmdDpAxbfYZGZ0OkD8epjQN7Q2QCHIQQkz9TlAGvonuFj9M0CGcqJdhXQzQKpla32RZDFAKdAn8iTxPECFTXexQ5c4QIZyol2FdDNADLCPTl09NkC46c9+pDA2QAywj05dPTZA8G+JymDIOEDoINWdFCs3QKpla32RZDFAKdAn8iTxPECqZWt9kWQxQIngzPy3vzhAuOnPfqQwNkCPLkl4VTozQAywj05dPTZAjy5JeFU6M0AMsI9OXT02QMTaU5UfJDlAHwHJYR20PEDFt9hkZnQ6QIngzPy3vzhA6CDVnRQrN0DXL9gN29Y6QIZyol2FdDNAxbfYZGZ0OkC5dVw9lT44QJT7HYoChTJAhnKiXYV0M0AfAclhHbQ8QLl1XD2VPjhAhU13sUOXOECJ2iPBQQAzQL3GLlG9mzhALlbUYBquMUCGcqJdhXQzQCHIQQkz9TlA/HqY0De0NkD8epjQN7Q2QB8ByWEdtDxAieDM/Le/OEBCYOXQIhs4QLl1XD2VPjhADLCPTl09NkDE2lOVHyQ5QMW32GRmdDpA8G+JymDIOECU+x2KAoUyQL3GLlG9mzhAvcYuUb2bOEC46c9+pDA2QLjpz36kMDZAvcYuUb2bOEAuVtRgGq4xQL3GLlG9mzhA1y/YDdvWOkAp0CfyJPE8QLl1XD2VPjhAvcYuUb2bOEC9xi5RvZs4QIVNd7FDlzhAuXVcPZU+OECJ4Mz8t784QGD1VBCZSTpA1y/YDdvWOkBCYOXQIhs4QIngzPy3vzhAjy5JeFU6M0CU+x2KAoUyQJG4x9KHqjlAuXVcPZU+OEC5dVw9lT44QBr6J7hY/TNALlbUYBquMUDwb4nKYMg4QPBvicpgyDhAhnKiXYV0M0CU+x2KAoUyQC5W1GAarjFAuXVcPZU+OEDXL9gN29Y6QKpla32RZDFAsI9OXfmMNkCPLkl4VTozQCnQJ/Ik8TxAsI9OXfmMNkDE2lOVHyQ5QLjpz36kMDZA8G+JymDIOECPLkl4VTozQLCPTl35jDZAYPVUEJlJOkDoINWdFCs3QNUuk86tMT5AkbjH0oeqOUCRuMfSh6o5QI8uSXhVOjNAuXVcPZU+OECGcqJdhXQzQInaI8FBADNAkbjH0oeqOUCPLkl4VTozQAywj05dPTZAvcYuUb2bOEBoke18Py0qQCnQJ/Ik8TxAaJHtfD8tKkCJ2iPBQQAzQMW32GRmdDpAqmVrfZFkMUCwj05d+Yw2QIngzPy3vzhAHwHJYR20PECPLkl4VTozQIVNd7FDlzhAhU13sUOXOECJ4Mz8t784QNUuk86tMT5AuOnPfqQwNkC5dVw9lT44QLjpz36kMDZAuOnPfqQwNkCqZWt9kWQxQCnQJ/Ik8TxA1y/YDdvWOkDVLpPOrTE+QIVNd7FDlzhAhU13sUOXOECwj05d+Yw2QIVNd7FDlzhA8G+JymDIOEAp0CfyJPE8QInaI8FBADNAkbjH0oeqOUAuVtRgGq4xQI8uSXhVOjNAlPsdigKFMkDVLpPOrTE+QCHIQQkz9TlAjy5JeFU6M0CJ2iPBQQAzQMW32GRmdDpAaJHtfD8tKkCwj05d+Yw2QLCPTl35jDZAvcYuUb2bOECPLkl4VTozQOgg1Z0UKzdAqmVrfZFkMUCGcqJdhXQzQIZyol2FdDNAuOnPfqQwNkBoke18Py0qQC5W1GAarjFA8G+JymDIOECGcqJdhXQzQNUuk86tMT5AlPsdigKFMkC46c9+pDA2QGiR7Xw/LSpALlbUYBquMUDwb4nKYMg4QI8uSXhVOjNA1S6Tzq0xPkBCYOXQIhs4QLl1XD2VPjhAhU13sUOXOEAp0CfyJPE8QMTaU5UfJDlAxbfYZGZ0OkDoINWdFCs3QEJg5dAiGzhAqmVrfZFkMUCJ2iPBQQAzQIZyol2FdDNANlmjHqLxKUCqZWt9kWQxQGD1VBCZSTpAsI9OXfmMNkDwb4nKYMg4QDmgJ6Kg/jdAieDM/Le/OEBoke18Py0qQGiR7Xw/LSpAKdAn8iTxPEDVLpPOrTE+QCHIQQkz9TlAIchBCTP1OUAfAclhHbQ8QIngzPy3vzhAvcYuUb2bOEAfAclhHbQ8QI8uSXhVOjNAsI9OXfmMNkC46c9+pDA2QLjpz36kMDZA/HqY0De0NkBg9VQQmUk6QPx6mNA3tDZALlbUYBquMUBCYOXQIhs4QL3GLlG9mzhAhU13sUOXOEAfAclhHbQ8QMW32GRmdDpAhU13sUOXOEAhyEEJM/U5QLjpz36kMDZA/HqY0De0NkC46c9+pDA2QMTaU5UfJDlADLCPTl09NkDVLpPOrTE+QDmgJ6Kg/jdAidojwUEAM0Dwb4nKYMg4QMW32GRmdDpAaJHtfD8tKkA2WaMeovEpQGiR7Xw/LSpAqmVrfZFkMUC46c9+pDA2QLCPTl35jDZAKdAn8iTxPEBoke18Py0qQL3GLlG9mzhAuOnPfqQwNkCGcqJdhXQzQLjpz36kMDZAhU13sUOXOECwj05d+Yw2QGiR7Xw/LSpAxNpTlR8kOUA5oCeioP43QC5W1GAarjFAieDM/Le/OEDXL9gN29Y6QMW32GRmdDpAxNpTlR8kOUBoke18Py0qQOgg1Z0UKzdAvcYuUb2bOEAa+ie4WP0zQLjpz36kMDZAxNpTlR8kOUCFTXexQ5c4QIngzPy3vzhAuOnPfqQwNkDFt9hkZnQ6QIZyol2FdDNAieDM/Le/OEBg9VQQmUk6QJG4x9KHqjlAuXVcPZU+OEC46c9+pDA2QGiR7Xw/LSpAqmVrfZFkMUAuVtRgGq4xQPBvicpgyDhAxbfYZGZ0OkBCYOXQIhs4QPBvicpgyDhAuXVcPZU+OECqZWt9kWQxQInaI8FBADNA1y/YDdvWOkCPLkl4VTozQL3GLlG9mzhAOaAnoqD+N0C5dVw9lT44QNcv2A3b1jpAkbjH0oeqOUBCYOXQIhs4QPBvicpgyDhAOaAnoqD+N0A2WaMeovEpQOgg1Z0UKzdA8G+JymDIOEDFt9hkZnQ6QNcv2A3b1jpAjy5JeFU6M0AfAclhHbQ8QC5W1GAarjFAsI9OXfmMNkCRuMfSh6o5QIngzPy3vzhAQmDl0CIbOEA5oCeioP43QDZZox6i8SlAvcYuUb2bOEAhyEEJM/U5QJG4x9KHqjlAqmVrfZFkMUD8epjQN7Q2QCnQJ/Ik8TxA1S6Tzq0xPkAuVtRgGq4xQPx6mNA3tDZAhnKiXYV0M0AMsI9OXT02QNcv2A3b1jpA8G+JymDIOEBCYOXQIhs4QAywj05dPTZAjy5JeFU6M0C46c9+pDA2QPx6mNA3tDZAjy5JeFU6M0CJ2iPBQQAzQL3GLlG9mzhAuOnPfqQwNkAa+ie4WP0zQMW32GRmdDpAHwHJYR20PECGcqJdhXQzQBr6J7hY/TNAieDM/Le/OECPLkl4VTozQKpla32RZDFAsI9OXfmMNkBoke18Py0qQMW32GRmdDpADLCPTl09NkCqZWt9kWQxQIngzPy3vzhAsI9OXfmMNkAp0CfyJPE8QAywj05dPTZAkbjH0oeqOUDE2lOVHyQ5QL3GLlG9mzhAkbjH0oeqOUCGcqJdhXQzQCHIQQkz9TlA1S6Tzq0xPkAp0CfyJPE8QCnQJ/Ik8TxAvcYuUb2bOEDwb4nKYMg4QCnQJ/Ik8TxAhU13sUOXOECGcqJdhXQzQNUuk86tMT5Ajy5JeFU6M0C46c9+pDA2QMW32GRmdDpAqmVrfZFkMUC5dVw9lT44QI8uSXhVOjNA1y/YDdvWOkCqZWt9kWQxQNUuk86tMT5AOaAnoqD+N0Aa+ie4WP0zQInaI8FBADNAGvonuFj9M0C46c9+pDA2QCnQJ/Ik8TxAaJHtfD8tKkAfAclhHbQ8QDZZox6i8SlAhnKiXYV0M0DoINWdFCs3QC5W1GAarjFANlmjHqLxKUCU+x2KAoUyQJT7HYoChTJA1S6Tzq0xPkA2WaMeovEpQMW32GRmdDpA8G+JymDIOEC46c9+pDA2QLCPTl35jDZAuXVcPZU+OEDFt9hkZnQ6QNcv2A3b1jpA1y/YDdvWOkC5dVw9lT44QPBvicpgyDhAxbfYZGZ0OkBoke18Py0qQNUuk86tMT5AxbfYZGZ0OkCqZWt9kWQxQI8uSXhVOjNAuOnPfqQwNkCRuMfSh6o5QL3GLlG9mzhAIchBCTP1OUCJ4Mz8t784QNUuk86tMT5AGvonuFj9M0DVLpPOrTE+QDZZox6i8SlAxNpTlR8kOUC46c9+pDA2QNUuk86tMT5AuOnPfqQwNkAMsI9OXT02QLCPTl35jDZAieDM/Le/OECqZWt9kWQxQNUuk86tMT5A1y/YDdvWOkDE2lOVHyQ5QLl1XD2VPjhA1S6Tzq0xPkDFt9hkZnQ6QOgg1Z0UKzdA/HqY0De0NkCGcqJdhXQzQNUuk86tMT5AhnKiXYV0M0A2WaMeovEpQAywj05dPTZA1S6Tzq0xPkC9xi5RvZs4QMTaU5UfJDlAxNpTlR8kOUDwb4nKYMg4QJT7HYoChTJAOaAnoqD+N0AMsI9OXT02QIZyol2FdDNAOaAnoqD+N0C46c9+pDA2QLjpz36kMDZAsI9OXfmMNkC5dVw9lT44QIZyol2FdDNA1S6Tzq0xPkAfAclhHbQ8QJG4x9KHqjlANlmjHqLxKUAa+ie4WP0zQB8ByWEdtDxAhnKiXYV0M0Cwj05d+Yw2QPx6mNA3tDZAaJHtfD8tKkBoke18Py0qQNcv2A3b1jpAhU13sUOXOEBoke18Py0qQLCPTl35jDZA6CDVnRQrN0CqZWt9kWQxQJG4x9KHqjlAhnKiXYV0M0CGcqJdhXQzQC5W1GAarjFAxbfYZGZ0OkCGcqJdhXQzQC5W1GAarjFA8G+JymDIOEAMsI9OXT02QI8uSXhVOjNAkbjH0oeqOUCU+x2KAoUyQC5W1GAarjFA1S6Tzq0xPkDFt9hkZnQ6QGD1VBCZSTpAhU13sUOXOEAa+ie4WP0zQLl1XD2VPjhA1S6Tzq0xPkC9xi5RvZs4QPBvicpgyDhAQmDl0CIbOEAMsI9OXT02QNUuk86tMT5AaJHtfD8tKkDXL9gN29Y6QLCPTl35jDZALlbUYBquMUBoke18Py0qQIVNd7FDlzhAGvonuFj9M0C46c9+pDA2QNcv2A3b1jpANlmjHqLxKUCU+x2KAoUyQLjpz36kMDZAuOnPfqQwNkCU+x2KAoUyQGiR7Xw/LSpA6CDVnRQrN0CPLkl4VTozQB8ByWEdtDxAhU13sUOXOEDwb4nKYMg4QPBvicpgyDhAieDM/Le/OEA5oCeioP43QLjpz36kMDZAidojwUEAM0Dwb4nKYMg4QPx6mNA3tDZAQmDl0CIbOEAuVtRgGq4xQB8ByWEdtDxADLCPTl09NkCRuMfSh6o5QMW32GRmdDpAsI9OXfmMNkBg9VQQmUk6QDmgJ6Kg/jdAjy5JeFU6M0AuVtRgGq4xQIZyol2FdDNAjy5JeFU6M0CPLkl4VTozQI8uSXhVOjNAaJHtfD8tKkCFTXexQ5c4QIZyol2FdDNAidojwUEAM0Cwj05d+Yw2QDmgJ6Kg/jdAHwHJYR20PEAa+ie4WP0zQJT7HYoChTJAieDM/Le/OEDE2lOVHyQ5QPx6mNA3tDZAOaAnoqD+N0CqZWt9kWQxQBr6J7hY/TNAkbjH0oeqOUDwb4nKYMg4QNUuk86tMT5A8G+JymDIOEDVLpPOrTE+QMW32GRmdDpAqmVrfZFkMUAhyEEJM/U5QIVNd7FDlzhA8G+JymDIOECU+x2KAoUyQGiR7Xw/LSpALlbUYBquMUBoke18Py0qQNUuk86tMT5Ajy5JeFU6M0CJ4Mz8t784QCHIQQkz9TlA1y/YDdvWOkBCYOXQIhs4QDmgJ6Kg/jdA1y/YDdvWOkCRuMfSh6o5QKpla32RZDFAIchBCTP1OUDE2lOVHyQ5QOgg1Z0UKzdA1S6Tzq0xPkBCYOXQIhs4QPBvicpgyDhAuOnPfqQwNkCwj05d+Yw2QC5W1GAarjFALlbUYBquMUCFTXexQ5c4QI8uSXhVOjNAxNpTlR8kOUDXL9gN29Y6QDmgJ6Kg/jdAaJHtfD8tKkCRuMfSh6o5QGD1VBCZSTpADLCPTl09NkCGcqJdhXQzQB8ByWEdtDxA1S6Tzq0xPkBoke18Py0qQIngzPy3vzhAxbfYZGZ0OkDwb4nKYMg4QDZZox6i8SlA1S6Tzq0xPkAp0CfyJPE8QBr6J7hY/TNAhnKiXYV0M0DoINWdFCs3QPBvicpgyDhAuOnPfqQwNkAp0CfyJPE8QLjpz36kMDZAhU13sUOXOECFTXexQ5c4QIZyol2FdDNAhnKiXYV0M0AuVtRgGq4xQDZZox6i8SlAuOnPfqQwNkD8epjQN7Q2QGiR7Xw/LSpAYPVUEJlJOkCGcqJdhXQzQDZZox6i8SlAHwHJYR20PEAp0CfyJPE8QEJg5dAiGzhAsI9OXfmMNkC9xi5RvZs4QB8ByWEdtDxAqmVrfZFkMUAuVtRgGq4xQIngzPy3vzhALlbUYBquMUC46c9+pDA2QC5W1GAarjFAjy5JeFU6M0DXL9gN29Y6QJG4x9KHqjlALlbUYBquMUAhyEEJM/U5QB8ByWEdtDxALlbUYBquMUA5oCeioP43QMW32GRmdDpAvcYuUb2bOECRuMfSh6o5QEJg5dAiGzhAsI9OXfmMNkCqZWt9kWQxQJG4x9KHqjlALlbUYBquMUCwj05d+Yw2QPBvicpgyDhA/HqY0De0NkC46c9+pDA2QGiR7Xw/LSpAHwHJYR20PECGcqJdhXQzQIngzPy3vzhA8G+JymDIOECJ4Mz8t784QJG4x9KHqjlAuXVcPZU+OECGcqJdhXQzQNcv2A3b1jpAxNpTlR8kOUCGcqJdhXQzQMW32GRmdDpAlPsdigKFMkCRuMfSh6o5QGiR7Xw/LSpA8G+JymDIOEBCYOXQIhs4QI8uSXhVOjNAhnKiXYV0M0CJ2iPBQQAzQLCPTl35jDZAjy5JeFU6M0AuVtRgGq4xQGiR7Xw/LSpAieDM/Le/OEBg9VQQmUk6QIZyol2FdDNANlmjHqLxKUC5dVw9lT44QIZyol2FdDNA8G+JymDIOEA2WaMeovEpQI8uSXhVOjNAHwHJYR20PEAa+ie4WP0zQJT7HYoChTJA8G+JymDIOEC9xi5RvZs4QOgg1Z0UKzdAKdAn8iTxPECJ4Mz8t784QL3GLlG9mzhAxNpTlR8kOUAuVtRgGq4xQBr6J7hY/TNALlbUYBquMUDwb4nKYMg4QLjpz36kMDZADLCPTl09NkDVLpPOrTE+QKpla32RZDFAKdAn8iTxPEDVLpPOrTE+QLjpz36kMDZA8G+JymDIOEBoke18Py0qQLjpz36kMDZAkbjH0oeqOUDoINWdFCs3QIVNd7FDlzhAKdAn8iTxPEAMsI9OXT02QLl1XD2VPjhAieDM/Le/OEDXL9gN29Y6QNcv2A3b1jpAsI9OXfmMNkDVLpPOrTE+QNcv2A3b1jpALlbUYBquMUCRuMfSh6o5QI8uSXhVOjNAqmVrfZFkMUCGcqJdhXQzQLjpz36kMDZAvcYuUb2bOECU+x2KAoUyQKpla32RZDFAuOnPfqQwNkCJ4Mz8t784QB8ByWEdtDxAQmDl0CIbOEDwb4nKYMg4QIVNd7FDlzhAqmVrfZFkMUC9xi5RvZs4QPBvicpgyDhAkbjH0oeqOUAhyEEJM/U5QDmgJ6Kg/jdAkbjH0oeqOUDXL9gN29Y6QMW32GRmdDpAsI9OXfmMNkC46c9+pDA2QB8ByWEdtDxAuXVcPZU+OEAhyEEJM/U5QNcv2A3b1jpAhU13sUOXOECGcqJdhXQzQAywj05dPTZAGvonuFj9M0A5oCeioP43QLjpz36kMDZA6CDVnRQrN0C46c9+pDA2QI8uSXhVOjNAuOnPfqQwNkCqZWt9kWQxQDZZox6i8SlAsI9OXfmMNkC9xi5RvZs4QMW32GRmdDpAhU13sUOXOEC5dVw9lT44QLjpz36kMDZA8G+JymDIOEDXL9gN29Y6QI8uSXhVOjNAuOnPfqQwNkD8epjQN7Q2QMTaU5UfJDlAlPsdigKFMkDFt9hkZnQ6QAywj05dPTZANlmjHqLxKUAhyEEJM/U5QAywj05dPTZAieDM/Le/OEBg9VQQmUk6QDmgJ6Kg/jdA1S6Tzq0xPkD8epjQN7Q2QLCPTl35jDZAIchBCTP1OUDoINWdFCs3QLCPTl35jDZANlmjHqLxKUDwb4nKYMg4QLCPTl35jDZADLCPTl09NkBCYOXQIhs4QIZyol2FdDNAYPVUEJlJOkDE2lOVHyQ5QIZyol2FdDNAHwHJYR20PEC9xi5RvZs4QNUuk86tMT5AxbfYZGZ0OkCRuMfSh6o5QMW32GRmdDpAxbfYZGZ0OkBg9VQQmUk6QMW32GRmdDpAuOnPfqQwNkDoINWdFCs3QC5W1GAarjFAhnKiXYV0M0CGcqJdhXQzQLCPTl35jDZA1y/YDdvWOkDwb4nKYMg4QCnQJ/Ik8TxA1y/YDdvWOkD8epjQN7Q2QLCPTl35jDZAxbfYZGZ0OkC5dVw9lT44QNUuk86tMT5AuXVcPZU+OEDVLpPOrTE+QLCPTl35jDZA1y/YDdvWOkCGcqJdhXQzQCnQJ/Ik8TxAieDM/Le/OEBoke18Py0qQMW32GRmdDpAKdAn8iTxPEAp0CfyJPE8QPBvicpgyDhAOaAnoqD+N0Dwb4nKYMg4QLCPTl35jDZAxbfYZGZ0OkDFt9hkZnQ6QLjpz36kMDZAQmDl0CIbOEAfAclhHbQ8QIZyol2FdDNAvcYuUb2bOEBCYOXQIhs4QIngzPy3vzhAKdAn8iTxPECwj05d+Yw2QJG4x9KHqjlAqmVrfZFkMUAuVtRgGq4xQDmgJ6Kg/jdAsI9OXfmMNkC46c9+pDA2QIVNd7FDlzhAQmDl0CIbOECJ2iPBQQAzQLjpz36kMDZAuXVcPZU+OEDwb4nKYMg4QL3GLlG9mzhAieDM/Le/OEDwb4nKYMg4QLl1XD2VPjhAqmVrfZFkMUDwb4nKYMg4QKpla32RZDFA1S6Tzq0xPkDE2lOVHyQ5QBr6J7hY/TNAuXVcPZU+OEAp0CfyJPE8QB8ByWEdtDxANlmjHqLxKUC46c9+pDA2QNcv2A3b1jpAidojwUEAM0C46c9+pDA2QIZyol2FdDNA/HqY0De0NkA2WaMeovEpQGD1VBCZSTpAkbjH0oeqOUBCYOXQIhs4QDmgJ6Kg/jdAuXVcPZU+OECRuMfSh6o5QB8ByWEdtDxANlmjHqLxKUAMsI9OXT02QIZyol2FdDNAaJHtfD8tKkBCYOXQIhs4QPx6mNA3tDZA6CDVnRQrN0CGcqJdhXQzQLCPTl35jDZAIchBCTP1OUCJ2iPBQQAzQJG4x9KHqjlAidojwUEAM0CGcqJdhXQzQJT7HYoChTJAqmVrfZFkMUDFt9hkZnQ6QL3GLlG9mzhAxbfYZGZ0OkCGcqJdhXQzQNUuk86tMT5AIchBCTP1OUBg9VQQmUk6QNcv2A3b1jpAhnKiXYV0M0CFTXexQ5c4QB8ByWEdtDxAjy5JeFU6M0AfAclhHbQ8QLjpz36kMDZAuOnPfqQwNkCqZWt9kWQxQCHIQQkz9TlAvcYuUb2bOEC9xi5RvZs4QDZZox6i8SlAuOnPfqQwNkCJ4Mz8t784QJG4x9KHqjlAaJHtfD8tKkA2WaMeovEpQLCPTl35jDZAuXVcPZU+OEC9xi5RvZs4QB8ByWEdtDxAieDM/Le/OECGcqJdhXQzQLjpz36kMDZAvcYuUb2bOEDE2lOVHyQ5QGD1VBCZSTpAjy5JeFU6M0CJ4Mz8t784QNcv2A3b1jpADLCPTl09NkDFt9hkZnQ6QDmgJ6Kg/jdAvcYuUb2bOEAuVtRgGq4xQJT7HYoChTJALlbUYBquMUAfAclhHbQ8QB8ByWEdtDxA6CDVnRQrN0CRuMfSh6o5QOgg1Z0UKzdAQmDl0CIbOEC5dVw9lT44QMW32GRmdDpAOaAnoqD+N0AuVtRgGq4xQMW32GRmdDpAhnKiXYV0M0DVLpPOrTE+QL3GLlG9mzhAqmVrfZFkMUBCYOXQIhs4QKpla32RZDFAsI9OXfmMNkCPLkl4VTozQIVNd7FDlzhANlmjHqLxKUA2WaMeovEpQJT7HYoChTJA1S6Tzq0xPkAa+ie4WP0zQCHIQQkz9TlA8G+JymDIOEC5dVw9lT44QIVNd7FDlzhAjy5JeFU6M0C9xi5RvZs4QCHIQQkz9TlADLCPTl09NkDVLpPOrTE+QKpla32RZDFA1y/YDdvWOkC5dVw9lT44QPx6mNA3tDZA1S6Tzq0xPkAuVtRgGq4xQDmgJ6Kg/jdAhnKiXYV0M0CJ2iPBQQAzQLjpz36kMDZAuOnPfqQwNkDFt9hkZnQ6QInaI8FBADNAuOnPfqQwNkAhyEEJM/U5QMTaU5UfJDlAieDM/Le/OECRuMfSh6o5QMW32GRmdDpAKdAn8iTxPEAMsI9OXT02QLjpz36kMDZAYPVUEJlJOkDwb4nKYMg4QLjpz36kMDZAqmVrfZFkMUCGcqJdhXQzQLl1XD2VPjhAjy5JeFU6M0DXL9gN29Y6QC5W1GAarjFAKdAn8iTxPEAfAclhHbQ8QL3GLlG9mzhAhU13sUOXOECqZWt9kWQxQDmgJ6Kg/jdAjy5JeFU6M0DVLpPOrTE+QLl1XD2VPjhAvcYuUb2bOED8epjQN7Q2QDZZox6i8SlAQmDl0CIbOEDFt9hkZnQ6QLl1XD2VPjhAxNpTlR8kOUCU+x2KAoUyQGD1VBCZSTpAYPVUEJlJOkCPLkl4VTozQCHIQQkz9TlA1y/YDdvWOkAhyEEJM/U5QAywj05dPTZAhU13sUOXOECRuMfSh6o5QKpla32RZDFAuOnPfqQwNkCqZWt9kWQxQMW32GRmdDpAjy5JeFU6M0DFt9hkZnQ6QNUuk86tMT5AsI9OXfmMNkCwj05d+Yw2QKpla32RZDFAYPVUEJlJOkBoke18Py0qQBr6J7hY/TNA/HqY0De0NkC9xi5RvZs4QNcv2A3b1jpAaJHtfD8tKkDVLpPOrTE+QDmgJ6Kg/jdANlmjHqLxKUCwj05d+Yw2QCHIQQkz9TlAuOnPfqQwNkDXL9gN29Y6QDmgJ6Kg/jdAlPsdigKFMkCqZWt9kWQxQJG4x9KHqjlAieDM/Le/OEDFt9hkZnQ6QDZZox6i8SlAxbfYZGZ0OkDwb4nKYMg4QJG4x9KHqjlAjy5JeFU6M0CqZWt9kWQxQDZZox6i8SlA6CDVnRQrN0A2WaMeovEpQLCPTl35jDZAHwHJYR20PECJ2iPBQQAzQPx6mNA3tDZAsI9OXfmMNkAfAclhHbQ8QNUuk86tMT5AKdAn8iTxPEAuVtRgGq4xQIVNd7FDlzhANlmjHqLxKUDFt9hkZnQ6QLl1XD2VPjhAKdAn8iTxPEAMsI9OXT02QNUuk86tMT5AvcYuUb2bOEA5oCeioP43QJG4x9KHqjlAHwHJYR20PEC46c9+pDA2QPBvicpgyDhA1y/YDdvWOkDwb4nKYMg4QC5W1GAarjFAGvonuFj9M0DXL9gN29Y6QC5W1GAarjFAOaAnoqD+N0AhyEEJM/U5QNcv2A3b1jpAuOnPfqQwNkC9xi5RvZs4QIVNd7FDlzhADLCPTl09NkCFTXexQ5c4QGD1VBCZSTpALlbUYBquMUDwb4nKYMg4QNUuk86tMT5AhnKiXYV0M0C9xi5RvZs4QCHIQQkz9TlAuOnPfqQwNkAuVtRgGq4xQGD1VBCZSTpAvcYuUb2bOEDVLpPOrTE+QNcv2A3b1jpAKdAn8iTxPEA5oCeioP43QCHIQQkz9TlA1y/YDdvWOkCqZWt9kWQxQIVNd7FDlzhAqmVrfZFkMUCPLkl4VTozQNUuk86tMT5ALlbUYBquMUC9xi5RvZs4QAywj05dPTZAhU13sUOXOECU+x2KAoUyQInaI8FBADNA1y/YDdvWOkAa+ie4WP0zQCnQJ/Ik8TxAIchBCTP1OUCJ4Mz8t784QInaI8FBADNAsI9OXfmMNkC9xi5RvZs4QAywj05dPTZAidojwUEAM0CJ4Mz8t784QCHIQQkz9TlAlPsdigKFMkBCYOXQIhs4QPx6mNA3tDZADLCPTl09NkDXL9gN29Y6QB8ByWEdtDxAxbfYZGZ0OkCqZWt9kWQxQCHIQQkz9TlAsI9OXfmMNkAp0CfyJPE8QC5W1GAarjFAjy5JeFU6M0A2WaMeovEpQIVNd7FDlzhAYPVUEJlJOkC9xi5RvZs4QNUuk86tMT5A6CDVnRQrN0C46c9+pDA2QJG4x9KHqjlAKdAn8iTxPEAuVtRgGq4xQKpla32RZDFAqmVrfZFkMUCwj05d+Yw2QMTaU5UfJDlAuOnPfqQwNkC9xi5RvZs4QI8uSXhVOjNAjy5JeFU6M0DVLpPOrTE+QGiR7Xw/LSpAsI9OXfmMNkA5oCeioP43QDmgJ6Kg/jdAieDM/Le/OECRuMfSh6o5QC5W1GAarjFA8G+JymDIOECGcqJdhXQzQIZyol2FdDNAhnKiXYV0M0A2WaMeovEpQMH/VrJjHzVAqmVrfZFkMUCGcqJdhXQzQCnQJ/Ik8TxA1y/YDdvWOkD8epjQN7Q2QLjpz36kMDZAYPVUEJlJOkBCYOXQIhs4QMH/VrJjHzVAYPVUEJlJOkA5oCeioP43QInaI8FBADNA1y/YDdvWOkCGcqJdhXQzQC5W1GAarjFANlmjHqLxKUAfAclhHbQ8QCnQJ/Ik8TxAhU13sUOXOEDE2lOVHyQ5QNUuk86tMT5AhnKiXYV0M0AMsI9OXT02QPBvicpgyDhAieDM/Le/OEDwb4nKYMg4QLCPTl35jDZAqmVrfZFkMUAp0CfyJPE8QCHIQQkz9TlAqmVrfZFkMUA5oCeioP43QI8uSXhVOjNAuXVcPZU+OEDFt9hkZnQ6QLCPTl35jDZAqmVrfZFkMUAfAclhHbQ8QIVNd7FDlzhAuOnPfqQwNkAp0CfyJPE8QC5W1GAarjFA6CDVnRQrN0D8epjQN7Q2QNUuk86tMT5AsI9OXfmMNkCJ4Mz8t784QJT7HYoChTJA8G+JymDIOEAuVtRgGq4xQAywj05dPTZAKdAn8iTxPECqZWt9kWQxQGD1VBCZSTpAKdAn8iTxPEC5dVw9lT44QDZZox6i8SlAHwHJYR20PECFTXexQ5c4QIZyol2FdDNAqmVrfZFkMUCGcqJdhXQzQJT7HYoChTJAQmDl0CIbOEBg9VQQmUk6QNcv2A3b1jpAHwHJYR20PEAhyEEJM/U5QNUuk86tMT5AKdAn8iTxPECJ4Mz8t784QNcv2A3b1jpA1y/YDdvWOkCwj05d+Yw2QKpla32RZDFAieDM/Le/OEAfAclhHbQ8QIVNd7FDlzhAidojwUEAM0AhyEEJM/U5QMW32GRmdDpAuOnPfqQwNkDFt9hkZnQ6QLjpz36kMDZALlbUYBquMUCGcqJdhXQzQLjpz36kMDZALlbUYBquMUAp0CfyJPE8QPx6mNA3tDZAYPVUEJlJOkDXL9gN29Y6QGD1VBCZSTpAidojwUEAM0Ap0CfyJPE8QLCPTl35jDZAieDM/Le/OECwj05d+Yw2QLCPTl35jDZAxNpTlR8kOUBg9VQQmUk6QGD1VBCZSTpAieDM/Le/OECJ2iPBQQAzQC5W1GAarjFAQmDl0CIbOEAhyEEJM/U5QIZyol2FdDNA1S6Tzq0xPkAa+ie4WP0zQEJg5dAiGzhAhnKiXYV0M0CRuMfSh6o5QIZyol2FdDNA/HqY0De0NkA2WaMeovEpQIZyol2FdDNAieDM/Le/OEBCYOXQIhs4QB8ByWEdtDxAlPsdigKFMkDE2lOVHyQ5QJT7HYoChTJAjy5JeFU6M0CRuMfSh6o5QLjpz36kMDZAjy5JeFU6M0AhyEEJM/U5QMW32GRmdDpA1S6Tzq0xPkDVLpPOrTE+QJG4x9KHqjlAxbfYZGZ0OkCqZWt9kWQxQNcv2A3b1jpAuXVcPZU+OEC9xi5RvZs4QLjpz36kMDZA1y/YDdvWOkDVLpPOrTE+QNcv2A3b1jpAqmVrfZFkMUCU+x2KAoUyQCnQJ/Ik8TxAuOnPfqQwNkDFt9hkZnQ6QIZyol2FdDNAvcYuUb2bOEAp0CfyJPE8QJT7HYoChTJA1y/YDdvWOkAp0CfyJPE8QL3GLlG9mzhAsI9OXfmMNkBoke18Py0qQLjpz36kMDZAieDM/Le/OEAhyEEJM/U5QPBvicpgyDhANlmjHqLxKUCU+x2KAoUyQJT7HYoChTJAxNpTlR8kOUCPLkl4VTozQNUuk86tMT5AKdAn8iTxPEC46c9+pDA2QJT7HYoChTJAKdAn8iTxPEC46c9+pDA2QOgg1Z0UKzdAidojwUEAM0AuVtRgGq4xQJT7HYoChTJAqmVrfZFkMUBg9VQQmUk6QLjpz36kMDZALlbUYBquMUDoINWdFCs3QIVNd7FDlzhAHwHJYR20PECJ4Mz8t784QJT7HYoChTJAhnKiXYV0M0A5oCeioP43QBr6J7hY/TNAuXVcPZU+OEDE2lOVHyQ5QLl1XD2VPjhAOaAnoqD+N0BCYOXQIhs4QCHIQQkz9TlAieDM/Le/OECU+x2KAoUyQLCPTl35jDZAuOnPfqQwNkAp0CfyJPE8QMW32GRmdDpA8G+JymDIOED8epjQN7Q2QMW32GRmdDpAGvonuFj9M0Dwb4nKYMg4QCHIQQkz9TlAaJHtfD8tKkDoINWdFCs3QJT7HYoChTJA6CDVnRQrN0CU+x2KAoUyQInaI8FBADNALlbUYBquMUDFt9hkZnQ6QPBvicpgyDhAhU13sUOXOECGcqJdhXQzQNcv2A3b1jpAxNpTlR8kOUCGcqJdhXQzQLjpz36kMDZAGvonuFj9M0C5dVw9lT44QGiR7Xw/LSpAHwHJYR20PECFTXexQ5c4QI8uSXhVOjNA6CDVnRQrN0CPLkl4VTozQIZyol2FdDNAjy5JeFU6M0CPLkl4VTozQNcv2A3b1jpAuXVcPZU+OECJ4Mz8t784QMW32GRmdDpAxbfYZGZ0OkAhyEEJM/U5QGiR7Xw/LSpAHwHJYR20PEC46c9+pDA2QCnQJ/Ik8TxAHwHJYR20PEA2WaMeovEpQJT7HYoChTJA1y/YDdvWOkA2WaMeovEpQNcv2A3b1jpA1S6Tzq0xPkCqZWt9kWQxQIZyol2FdDNAHwHJYR20PECJ4Mz8t784QOgg1Z0UKzdAxNpTlR8kOUC9xi5RvZs4QB8ByWEdtDxAxbfYZGZ0OkCJ4Mz8t784QCHIQQkz9TlAkbjH0oeqOUC46c9+pDA2QJT7HYoChTJAxNpTlR8kOUCFTXexQ5c4QMW32GRmdDpAlPsdigKFMkCJ4Mz8t784QIngzPy3vzhAGvonuFj9M0BCYOXQIhs4QInaI8FBADNAkbjH0oeqOUCqZWt9kWQxQCHIQQkz9TlALlbUYBquMUC5dVw9lT44QGD1VBCZSTpAuOnPfqQwNkCwj05d+Yw2QCnQJ/Ik8TxA1S6Tzq0xPkAMsI9OXT02QKpla32RZDFAYPVUEJlJOkAp0CfyJPE8QIVNd7FDlzhA1y/YDdvWOkC46c9+pDA2QIZyol2FdDNAlPsdigKFMkAuVtRgGq4xQLl1XD2VPjhAsI9OXfmMNkDVLpPOrTE+QDZZox6i8SlAHwHJYR20PEC46c9+pDA2QIZyol2FdDNAKdAn8iTxPEA2WaMeovEpQBr6J7hY/TNA6CDVnRQrN0Aa+ie4WP0zQDZZox6i8SlAYPVUEJlJOkDXL9gN29Y6QJT7HYoChTJAYPVUEJlJOkCqZWt9kWQxQNUuk86tMT5A1S6Tzq0xPkCFTXexQ5c4QJT7HYoChTJAkbjH0oeqOUDwb4nKYMg4QB8ByWEdtDxAuOnPfqQwNkCU+x2KAoUyQL3GLlG9mzhAuXVcPZU+OEDVLpPOrTE+QNcv2A3b1jpAidojwUEAM0AfAclhHbQ8QDmgJ6Kg/jdAQmDl0CIbOECFTXexQ5c4QOgg1Z0UKzdALlbUYBquMUCPLkl4VTozQCnQJ/Ik8TxAxNpTlR8kOUCFTXexQ5c4QIZyol2FdDNA1S6Tzq0xPkDFt9hkZnQ6QL3GLlG9mzhAhnKiXYV0M0DFt9hkZnQ6QI8uSXhVOjNAxbfYZGZ0OkCwj05d+Yw2QIVNd7FDlzhAidojwUEAM0CPLkl4VTozQAywj05dPTZANlmjHqLxKUCJ2iPBQQAzQBr6J7hY/TNAuOnPfqQwNkCJ4Mz8t784QMW32GRmdDpAIchBCTP1OUCwj05d+Yw2QBr6J7hY/TNA6CDVnRQrN0AhyEEJM/U5QOgg1Z0UKzdAvcYuUb2bOECJ2iPBQQAzQCnQJ/Ik8TxAxbfYZGZ0OkCGcqJdhXQzQInaI8FBADNAhU13sUOXOEDFt9hkZnQ6QInaI8FBADNA8G+JymDIOEDFt9hkZnQ6QInaI8FBADNALlbUYBquMUC9xi5RvZs4QDmgJ6Kg/jdAGvonuFj9M0DE2lOVHyQ5QJG4x9KHqjlAIchBCTP1OUBoke18Py0qQI8uSXhVOjNAQmDl0CIbOEDXL9gN29Y6QNcv2A3b1jpAqmVrfZFkMUCPLkl4VTozQNUuk86tMT5ADLCPTl09NkD8epjQN7Q2QL3GLlG9mzhAKdAn8iTxPEDVLpPOrTE+QBr6J7hY/TNAOaAnoqD+N0DXL9gN29Y6QBr6J7hY/TNA1y/YDdvWOkAfAclhHbQ8QNUuk86tMT5AOaAnoqD+N0A5oCeioP43QInaI8FBADNA8G+JymDIOEAp0CfyJPE8QDZZox6i8SlAOaAnoqD+N0A5oCeioP43QLl1XD2VPjhAhnKiXYV0M0DFt9hkZnQ6QLjpz36kMDZA/HqY0De0NkAhyEEJM/U5QCHIQQkz9TlAqmVrfZFkMUBoke18Py0qQDZZox6i8SlADLCPTl09NkC46c9+pDA2QDmgJ6Kg/jdAGvonuFj9M0Dwb4nKYMg4QDmgJ6Kg/jdAOaAnoqD+N0Cwj05d+Yw2QLjpz36kMDZAGvonuFj9M0CFTXexQ5c4QMTaU5UfJDlAuOnPfqQwNkCRuMfSh6o5QCHIQQkz9TlAuXVcPZU+OEC5dVw9lT44QDZZox6i8SlA8G+JymDIOEBg9VQQmUk6QInaI8FBADNANlmjHqLxKUDXL9gN29Y6QI8uSXhVOjNA1S6Tzq0xPkDoINWdFCs3QLCPTl35jDZAHwHJYR20PEC5dVw9lT44QPBvicpgyDhAhnKiXYV0M0CPLkl4VTozQIZyol2FdDNAsI9OXfmMNkDXL9gN29Y6QKpla32RZDFAqmVrfZFkMUDFt9hkZnQ6QC5W1GAarjFA1y/YDdvWOkAuVtRgGq4xQPBvicpgyDhAsI9OXfmMNkDwb4nKYMg4QB8ByWEdtDxANlmjHqLxKUAa+ie4WP0zQAywj05dPTZAKdAn8iTxPEDE2lOVHyQ5QOgg1Z0UKzdAjy5JeFU6M0AMsI9OXT02QLjpz36kMDZAhU13sUOXOEDXL9gN29Y6QGD1VBCZSTpA1y/YDdvWOkCGcqJdhXQzQDmgJ6Kg/jdAGvonuFj9M0AfAclhHbQ8QCnQJ/Ik8TxAxNpTlR8kOUBoke18Py0qQDZZox6i8SlAQmDl0CIbOEDFt9hkZnQ6QPx6mNA3tDZAjy5JeFU6M0BCYOXQIhs4QLl1XD2VPjhAKdAn8iTxPEBg9VQQmUk6QLl1XD2VPjhAlPsdigKFMkCU+x2KAoUyQCnQJ/Ik8TxA/HqY0De0NkDXL9gN29Y6QLl1XD2VPjhAieDM/Le/OECU+x2KAoUyQKpla32RZDFAieDM/Le/OEDVLpPOrTE+QEJg5dAiGzhA6CDVnRQrN0CPLkl4VTozQLjpz36kMDZALlbUYBquMUAMsI9OXT02QPx6mNA3tDZAHwHJYR20PECPLkl4VTozQOgg1Z0UKzdAsI9OXfmMNkC46c9+pDA2QCnQJ/Ik8TxAhU13sUOXOEC9xi5RvZs4QMTaU5UfJDlAvcYuUb2bOEDVLpPOrTE+QDZZox6i8SlAxbfYZGZ0OkBoke18Py0qQNcv2A3b1jpAxNpTlR8kOUA5oCeioP43QIVNd7FDlzhAhnKiXYV0M0AfAclhHbQ8QLl1XD2VPjhAhU13sUOXOEDVLpPOrTE+QInaI8FBADNA8G+JymDIOEC46c9+pDA2QL3GLlG9mzhAjy5JeFU6M0AfAclhHbQ8QB8ByWEdtDxAqmVrfZFkMUCJ4Mz8t784QPBvicpgyDhANlmjHqLxKUCJ2iPBQQAzQC5W1GAarjFAKdAn8iTxPEAhyEEJM/U5QLjpz36kMDZAvcYuUb2bOEBoke18Py0qQC5W1GAarjFAsI9OXfmMNkDFt9hkZnQ6QC5W1GAarjFAuOnPfqQwNkAp0CfyJPE8QGD1VBCZSTpAhU13sUOXOECJ4Mz8t784QNcv2A3b1jpAsI9OXfmMNkCJ4Mz8t784QDZZox6i8SlAwf9WsmMfNUDFt9hkZnQ6QLCPTl35jDZAidojwUEAM0C46c9+pDA2QMW32GRmdDpAjy5JeFU6M0AfAclhHbQ8QIngzPy3vzhAidojwUEAM0A5oCeioP43QJT7HYoChTJAQmDl0CIbOECU+x2KAoUyQCnQJ/Ik8TxAhU13sUOXOEAMsI9OXT02QKpla32RZDFAhU13sUOXOEDFt9hkZnQ6QPx6mNA3tDZAjy5JeFU6M0DoINWdFCs3QJG4x9KHqjlALlbUYBquMUBCYOXQIhs4QIZyol2FdDNA1S6Tzq0xPkDXL9gN29Y6QIZyol2FdDNAuOnPfqQwNkDFt9hkZnQ6QLl1XD2VPjhA1S6Tzq0xPkBg9VQQmUk6QAywj05dPTZAuXVcPZU+OECGcqJdhXQzQJT7HYoChTJAqmVrfZFkMUA5oCeioP43QInaI8FBADNAsI9OXfmMNkC5dVw9lT44QGD1VBCZSTpAhU13sUOXOECqZWt9kWQxQMTaU5UfJDlAhU13sUOXOECPLkl4VTozQGD1VBCZSTpA1y/YDdvWOkAa+ie4WP0zQIZyol2FdDNAhnKiXYV0M0AuVtRgGq4xQNcv2A3b1jpAOaAnoqD+N0Dwb4nKYMg4QKpla32RZDFAieDM/Le/OECJ2iPBQQAzQKpla32RZDFAkbjH0oeqOUC46c9+pDA2QNcv2A3b1jpA8G+JymDIOEC5dVw9lT44QPx6mNA3tDZAhnKiXYV0M0CGcqJdhXQzQGD1VBCZSTpA1S6Tzq0xPkCqZWt9kWQxQDmgJ6Kg/jdANlmjHqLxKUC46c9+pDA2QNUuk86tMT5AKdAn8iTxPECqZWt9kWQxQPBvicpgyDhAIchBCTP1OUA5oCeioP43QMW32GRmdDpAjy5JeFU6M0CJ2iPBQQAzQJG4x9KHqjlAuXVcPZU+OEAuVtRgGq4xQIVNd7FDlzhAHwHJYR20PEAp0CfyJPE8QMW32GRmdDpAjy5JeFU6M0A5oCeioP43QCnQJ/Ik8TxAaJHtfD8tKkCJ2iPBQQAzQCHIQQkz9TlAxbfYZGZ0OkDwb4nKYMg4QCnQJ/Ik8TxAaJHtfD8tKkCFTXexQ5c4QLCPTl35jDZAhnKiXYV0M0Dwb4nKYMg4QI8uSXhVOjNA/HqY0De0NkAuVtRgGq4xQNcv2A3b1jpA1S6Tzq0xPkCFTXexQ5c4QIVNd7FDlzhA8G+JymDIOECU+x2KAoUyQInaI8FBADNAGvonuFj9M0Ap0CfyJPE8QL3GLlG9mzhAlPsdigKFMkCPLkl4VTozQMTaU5UfJDlAuOnPfqQwNkC9xi5RvZs4QLCPTl35jDZAieDM/Le/OECJ4Mz8t784QLjpz36kMDZAQmDl0CIbOECGcqJdhXQzQLjpz36kMDZAIchBCTP1OUBoke18Py0qQDmgJ6Kg/jdALlbUYBquMUAhyEEJM/U5QAywj05dPTZAieDM/Le/OECJ2iPBQQAzQI8uSXhVOjNAKdAn8iTxPEAhyEEJM/U5QIZyol2FdDNAlPsdigKFMkBoke18Py0qQLl1XD2VPjhAuXVcPZU+OEDwb4nKYMg4QInaI8FBADNALlbUYBquMUAhyEEJM/U5QGiR7Xw/LSpAieDM/Le/OECwj05d+Yw2QIVNd7FDlzhA1S6Tzq0xPkAp0CfyJPE8QCnQJ/Ik8TxAqmVrfZFkMUCwj05d+Yw2QPBvicpgyDhA1S6Tzq0xPkBoke18Py0qQDmgJ6Kg/jdAsI9OXfmMNkCFTXexQ5c4QIZyol2FdDNAqmVrfZFkMUDXL9gN29Y6QIVNd7FDlzhAvcYuUb2bOEDE2lOVHyQ5QEJg5dAiGzhAjy5JeFU6M0C5dVw9lT44QI8uSXhVOjNANlmjHqLxKUA2WaMeovEpQCnQJ/Ik8TxAvcYuUb2bOEDoINWdFCs3QCnQJ/Ik8TxAxbfYZGZ0OkDVLpPOrTE+QIVNd7FDlzhAKdAn8iTxPEAMsI9OXT02QInaI8FBADNALlbUYBquMUCFTXexQ5c4QNUuk86tMT5AuOnPfqQwNkCJ4Mz8t784QDmgJ6Kg/jdANlmjHqLxKUC9xi5RvZs4QEJg5dAiGzhAKdAn8iTxPEAa+ie4WP0zQDmgJ6Kg/jdAHwHJYR20PEC9xi5RvZs4QJT7HYoChTJAkbjH0oeqOUC46c9+pDA2QMW32GRmdDpAlPsdigKFMkCFTXexQ5c4QInaI8FBADNANlmjHqLxKUDFt9hkZnQ6QBr6J7hY/TNA1y/YDdvWOkAMsI9OXT02QI8uSXhVOjNAOaAnoqD+N0CU+x2KAoUyQDmgJ6Kg/jdAieDM/Le/OEAuVtRgGq4xQI8uSXhVOjNAhnKiXYV0M0D8epjQN7Q2QLCPTl35jDZAieDM/Le/OEAa+ie4WP0zQLjpz36kMDZAvcYuUb2bOECU+x2KAoUyQNUuk86tMT5AidojwUEAM0A2WaMeovEpQJT7HYoChTJA1S6Tzq0xPkAp0CfyJPE8QIZyol2FdDNAjy5JeFU6M0AMsI9OXT02QGiR7Xw/LSpAieDM/Le/OEDXL9gN29Y6QLCPTl35jDZADLCPTl09NkAa+ie4WP0zQInaI8FBADNA1y/YDdvWOkDXL9gN29Y6QMTaU5UfJDlA/HqY0De0NkCwj05d+Yw2QJG4x9KHqjlAqmVrfZFkMUDwb4nKYMg4QC5W1GAarjFAsI9OXfmMNkBoke18Py0qQI8uSXhVOjNAuOnPfqQwNkD8epjQN7Q2QIZyol2FdDNAhU13sUOXOEC46c9+pDA2QPBvicpgyDhAlPsdigKFMkDFt9hkZnQ6QInaI8FBADNAuOnPfqQwNkDwb4nKYMg4QJT7HYoChTJADLCPTl09NkDVLpPOrTE+QDZZox6i8SlA1y/YDdvWOkCGcqJdhXQzQIVNd7FDlzhAsI9OXfmMNkDwb4nKYMg4QOgg1Z0UKzdAhnKiXYV0M0DXL9gN29Y6QMW32GRmdDpAhnKiXYV0M0Aa+ie4WP0zQLl1XD2VPjhANlmjHqLxKUCJ4Mz8t784QLl1XD2VPjhA1y/YDdvWOkDVLpPOrTE+QCHIQQkz9TlAuXVcPZU+OED8epjQN7Q2QOgg1Z0UKzdAhU13sUOXOECJ2iPBQQAzQInaI8FBADNADLCPTl09NkCqZWt9kWQxQLCPTl35jDZAaJHtfD8tKkC9xi5RvZs4QPBvicpgyDhAaJHtfD8tKkC9xi5RvZs4QDZZox6i8SlAjy5JeFU6M0Aa+ie4WP0zQIngzPy3vzhAKdAn8iTxPEAa+ie4WP0zQLjpz36kMDZAuXVcPZU+OEAhyEEJM/U5QB8ByWEdtDxAuOnPfqQwNkAa+ie4WP0zQI8uSXhVOjNA8G+JymDIOECGcqJdhXQzQLjpz36kMDZAGvonuFj9M0CRuMfSh6o5QIVNd7FDlzhAqmVrfZFkMUAa+ie4WP0zQB8ByWEdtDxA8G+JymDIOED8epjQN7Q2QGiR7Xw/LSpANlmjHqLxKUDXL9gN29Y6QCHIQQkz9TlAaJHtfD8tKkDXL9gN29Y6QJT7HYoChTJAxbfYZGZ0OkCFTXexQ5c4QLCPTl35jDZAxbfYZGZ0OkC5dVw9lT44QB8ByWEdtDxAhnKiXYV0M0AMsI9OXT02QJG4x9KHqjlAqmVrfZFkMUDwb4nKYMg4QB8ByWEdtDxAxNpTlR8kOUCJ4Mz8t784QAywj05dPTZAuOnPfqQwNkCU+x2KAoUyQGD1VBCZSTpAvcYuUb2bOEDFt9hkZnQ6QEJg5dAiGzhA/HqY0De0NkDVLpPOrTE+QIZyol2FdDNAqmVrfZFkMUDoINWdFCs3QKpla32RZDFAvcYuUb2bOECJ2iPBQQAzQPx6mNA3tDZAidojwUEAM0CJ4Mz8t784QMW32GRmdDpAieDM/Le/OECFTXexQ5c4QL3GLlG9mzhAkbjH0oeqOUC9xi5RvZs4QLCPTl35jDZAuOnPfqQwNkDoINWdFCs3QJG4x9KHqjlA1S6Tzq0xPkA2WaMeovEpQCHIQQkz9TlALlbUYBquMUC5dVw9lT44QMW32GRmdDpAieDM/Le/OECPLkl4VTozQIngzPy3vzhAQmDl0CIbOECwj05d+Yw2QI8uSXhVOjNA1S6Tzq0xPkDVLpPOrTE+QIZyol2FdDNA1y/YDdvWOkCU+x2KAoUyQDZZox6i8SlAxbfYZGZ0OkDwb4nKYMg4QMTaU5UfJDlAqmVrfZFkMUAuVtRgGq4xQOgg1Z0UKzdAkbjH0oeqOUCPLkl4VTozQMTaU5UfJDlAxbfYZGZ0OkCRuMfSh6o5QGiR7Xw/LSpANlmjHqLxKUA2WaMeovEpQEJg5dAiGzhAOaAnoqD+N0C46c9+pDA2QBr6J7hY/TNAhnKiXYV0M0CqZWt9kWQxQNcv2A3b1jpANlmjHqLxKUCJ4Mz8t784QNcv2A3b1jpALlbUYBquMUCRuMfSh6o5QCHIQQkz9TlAGvonuFj9M0DFt9hkZnQ6QEJg5dAiGzhAGvonuFj9M0AMsI9OXT02QLjpz36kMDZAOaAnoqD+N0DXL9gN29Y6QLjpz36kMDZAhnKiXYV0M0Boke18Py0qQLjpz36kMDZAuOnPfqQwNkCGcqJdhXQzQCnQJ/Ik8TxAjy5JeFU6M0CJ4Mz8t784QC5W1GAarjFAuOnPfqQwNkC5dVw9lT44QIngzPy3vzhAuXVcPZU+OECU+x2KAoUyQPx6mNA3tDZAuXVcPZU+OEDVLpPOrTE+QIVNd7FDlzhAjy5JeFU6M0C46c9+pDA2QC5W1GAarjFA8G+JymDIOEAMsI9OXT02QAywj05dPTZAieDM/Le/OEDwb4nKYMg4QMW32GRmdDpALlbUYBquMUCGcqJdhXQzQKpla32RZDFAaJHtfD8tKkDoINWdFCs3QJG4x9KHqjlAKdAn8iTxPEBCYOXQIhs4QPx6mNA3tDZAIchBCTP1OUCGcqJdhXQzQPBvicpgyDhAaJHtfD8tKkBg9VQQmUk6QJT7HYoChTJALlbUYBquMUCJ2iPBQQAzQC5W1GAarjFAjy5JeFU6M0AMsI9OXT02QNcv2A3b1jpA8G+JymDIOECU+x2KAoUyQInaI8FBADNAkbjH0oeqOUDVLpPOrTE+QDmgJ6Kg/jdAxNpTlR8kOUAhyEEJM/U5QIngzPy3vzhAjy5JeFU6M0CGcqJdhXQzQB8ByWEdtDxAKdAn8iTxPECGcqJdhXQzQDmgJ6Kg/jdA6CDVnRQrN0CFTXexQ5c4QPx6mNA3tDZAQmDl0CIbOEBCYOXQIhs4QMW32GRmdDpAQmDl0CIbOECU+x2KAoUyQPx6mNA3tDZA1S6Tzq0xPkDVLpPOrTE+QPx6mNA3tDZAieDM/Le/OECU+x2KAoUyQIngzPy3vzhAuOnPfqQwNkDFt9hkZnQ6QIngzPy3vzhAOaAnoqD+N0DE2lOVHyQ5QB8ByWEdtDxAieDM/Le/OECU+x2KAoUyQInaI8FBADNAuOnPfqQwNkCU+x2KAoUyQC5W1GAarjFA/HqY0De0NkCqZWt9kWQxQLCPTl35jDZAuXVcPZU+OEAuVtRgGq4xQKpla32RZDFAieDM/Le/OECU+x2KAoUyQGiR7Xw/LSpAYPVUEJlJOkDE2lOVHyQ5QGiR7Xw/LSpAieDM/Le/OEAp0CfyJPE8QAywj05dPTZA1y/YDdvWOkCJ2iPBQQAzQInaI8FBADNANlmjHqLxKUBCYOXQIhs4QL3GLlG9mzhAsI9OXfmMNkDFt9hkZnQ6QIVNd7FDlzhAqmVrfZFkMUCqZWt9kWQxQMW32GRmdDpAqmVrfZFkMUCJ4Mz8t784QI8uSXhVOjNAHwHJYR20PEDVLpPOrTE+QNcv2A3b1jpAieDM/Le/OEDoINWdFCs3QJT7HYoChTJAvcYuUb2bOECwj05d+Yw2QKpla32RZDFAieDM/Le/OECJ2iPBQQAzQL3GLlG9mzhAHwHJYR20PEDE2lOVHyQ5QJT7HYoChTJAhU13sUOXOECJ4Mz8t784QMW32GRmdDpAxbfYZGZ0OkCU+x2KAoUyQOgg1Z0UKzdAhnKiXYV0M0C46c9+pDA2QCHIQQkz9TlAuOnPfqQwNkDVLpPOrTE+QAywj05dPTZAhnKiXYV0M0CqZWt9kWQxQKpla32RZDFAKdAn8iTxPEDFt9hkZnQ6QMW32GRmdDpA1y/YDdvWOkC46c9+pDA2QIngzPy3vzhA8G+JymDIOEDXL9gN29Y6QGD1VBCZSTpAIchBCTP1OUBg9VQQmUk6QNcv2A3b1jpA6CDVnRQrN0CGcqJdhXQzQDmgJ6Kg/jdA6CDVnRQrN0CFTXexQ5c4QLCPTl35jDZAvcYuUb2bOECJ4Mz8t784QMW32GRmdDpAqmVrfZFkMUC46c9+pDA2QIZyol2FdDNAYPVUEJlJOkCqZWt9kWQxQDmgJ6Kg/jdAidojwUEAM0CGcqJdhXQzQNcv2A3b1jpAsI9OXfmMNkCqZWt9kWQxQDmgJ6Kg/jdAuOnPfqQwNkCJ4Mz8t784QMW32GRmdDpA1y/YDdvWOkAp0CfyJPE8QAywj05dPTZAaJHtfD8tKkC5dVw9lT44QL3GLlG9mzhAieDM/Le/OEC5dVw9lT44QPBvicpgyDhAHwHJYR20PECU+x2KAoUyQGiR7Xw/LSpAieDM/Le/OEDXL9gN29Y6QKpla32RZDFAxbfYZGZ0OkC5dVw9lT44QGiR7Xw/LSpAlPsdigKFMkC5dVw9lT44QGD1VBCZSTpAGvonuFj9M0DoINWdFCs3QNcv2A3b1jpAieDM/Le/OECwj05d+Yw2QJT7HYoChTJAjy5JeFU6M0DVLpPOrTE+QPx6mNA3tDZAKdAn8iTxPECU+x2KAoUyQDmgJ6Kg/jdAxbfYZGZ0OkDVLpPOrTE+QJG4x9KHqjlAhU13sUOXOEC46c9+pDA2QCnQJ/Ik8TxADLCPTl09NkCU+x2KAoUyQGiR7Xw/LSpA/HqY0De0NkC46c9+pDA2QPBvicpgyDhAkbjH0oeqOUA2WaMeovEpQLl1XD2VPjhAQmDl0CIbOECJ4Mz8t784QDmgJ6Kg/jdAsI9OXfmMNkAa+ie4WP0zQIVNd7FDlzhAhnKiXYV0M0CqZWt9kWQxQKpla32RZDFAhnKiXYV0M0DFt9hkZnQ6QGD1VBCZSTpAvcYuUb2bOEAMsI9OXT02QJG4x9KHqjlAieDM/Le/OED8epjQN7Q2QCnQJ/Ik8TxAuOnPfqQwNkCRuMfSh6o5QJG4x9KHqjlAidojwUEAM0DVLpPOrTE+QLCPTl35jDZAkbjH0oeqOUC46c9+pDA2QCnQJ/Ik8TxANlmjHqLxKUCqZWt9kWQxQNcv2A3b1jpAaJHtfD8tKkAfAclhHbQ8QNUuk86tMT5AuXVcPZU+OEC9xi5RvZs4QGiR7Xw/LSpA6CDVnRQrN0AfAclhHbQ8QAywj05dPTZAIchBCTP1OUCwj05d+Yw2QMW32GRmdDpAhU13sUOXOEBoke18Py0qQC5W1GAarjFA8G+JymDIOEAuVtRgGq4xQGD1VBCZSTpAxNpTlR8kOUDVLpPOrTE+QLjpz36kMDZALlbUYBquMUCRuMfSh6o5QNcv2A3b1jpAqmVrfZFkMUC5dVw9lT44QKpla32RZDFAOaAnoqD+N0AuVtRgGq4xQIVNd7FDlzhAIchBCTP1OUAuVtRgGq4xQNcv2A3b1jpAIchBCTP1OUAa+ie4WP0zQIZyol2FdDNAvcYuUb2bOEAfAclhHbQ8QPBvicpgyDhA1y/YDdvWOkCPLkl4VTozQCHIQQkz9TlAGvonuFj9M0Boke18Py0qQIngzPy3vzhAhnKiXYV0M0Boke18Py0qQLl1XD2VPjhAvcYuUb2bOEAhyEEJM/U5QIZyol2FdDNAsI9OXfmMNkAuVtRgGq4xQGiR7Xw/LSpAOaAnoqD+N0AuVtRgGq4xQMW32GRmdDpAuOnPfqQwNkCGcqJdhXQzQPx6mNA3tDZAqmVrfZFkMUAa+ie4WP0zQIVNd7FDlzhAxbfYZGZ0OkC9xi5RvZs4QIZyol2FdDNA8G+JymDIOEBg9VQQmUk6QI8uSXhVOjNAIchBCTP1OUCwj05d+Yw2QOgg1Z0UKzdAGvonuFj9M0CRuMfSh6o5QGD1VBCZSTpAuXVcPZU+OECwj05d+Yw2QNUuk86tMT5Ajy5JeFU6M0Aa+ie4WP0zQLjpz36kMDZAqmVrfZFkMUC5dVw9lT44QLjpz36kMDZAGvonuFj9M0Boke18Py0qQGiR7Xw/LSpAKdAn8iTxPEC46c9+pDA2QBr6J7hY/TNAkbjH0oeqOUC5dVw9lT44QOgg1Z0UKzdAkbjH0oeqOUBCYOXQIhs4QI8uSXhVOjNAuXVcPZU+OEDVLpPOrTE+QKpla32RZDFA1S6Tzq0xPkDwb4nKYMg4QMW32GRmdDpAhU13sUOXOEBoke18Py0qQC5W1GAarjFAuXVcPZU+OED8epjQN7Q2QInaI8FBADNAjy5JeFU6M0Cwj05d+Yw2QInaI8FBADNAYPVUEJlJOkD8epjQN7Q2QEJg5dAiGzhAQmDl0CIbOEAhyEEJM/U5QC5W1GAarjFAuXVcPZU+OEAhyEEJM/U5QDZZox6i8SlAuOnPfqQwNkDwb4nKYMg4QNcv2A3b1jpAieDM/Le/OEAhyEEJM/U5QNUuk86tMT5AvcYuUb2bOEC46c9+pDA2QI8uSXhVOjNAaJHtfD8tKkBg9VQQmUk6QBr6J7hY/TNAOaAnoqD+N0Cwj05d+Yw2QGiR7Xw/LSpA1y/YDdvWOkA5oCeioP43QL3GLlG9mzhAuOnPfqQwNkC5dVw9lT44QKpla32RZDFA/HqY0De0NkCPLkl4VTozQBr6J7hY/TNA1y/YDdvWOkDXL9gN29Y6QIZyol2FdDNAsI9OXfmMNkAhyEEJM/U5QLjpz36kMDZAxbfYZGZ0OkDFt9hkZnQ6QBr6J7hY/TNAQmDl0CIbOECJ2iPBQQAzQPBvicpgyDhADLCPTl09NkDXL9gN29Y6QMW32GRmdDpA1S6Tzq0xPkCRuMfSh6o5QPBvicpgyDhAuOnPfqQwNkCRuMfSh6o5QLjpz36kMDZAhU13sUOXOECqZWt9kWQxQKpla32RZDFAKdAn8iTxPEC9xi5RvZs4QInaI8FBADNAuOnPfqQwNkCqZWt9kWQxQPBvicpgyDhAQmDl0CIbOECRuMfSh6o5QDZZox6i8SlAIchBCTP1OUA2WaMeovEpQNUuk86tMT5AIchBCTP1OUDXL9gN29Y6QGiR7Xw/LSpAhU13sUOXOEAuVtRgGq4xQLjpz36kMDZAIchBCTP1OUC46c9+pDA2QIngzPy3vzhAqmVrfZFkMUCJ2iPBQQAzQI8uSXhVOjNAuXVcPZU+OECU+x2KAoUyQInaI8FBADNA8G+JymDIOECFTXexQ5c4QJT7HYoChTJAsI9OXfmMNkAuVtRgGq4xQLjpz36kMDZA1y/YDdvWOkDVLpPOrTE+QIVNd7FDlzhANlmjHqLxKUBg9VQQmUk6QI8uSXhVOjNAsI9OXfmMNkDoINWdFCs3QL3GLlG9mzhAsI9OXfmMNkCqZWt9kWQxQGiR7Xw/LSpANlmjHqLxKUDVLpPOrTE+QKpla32RZDFAsI9OXfmMNkAa+ie4WP0zQI8uSXhVOjNA6CDVnRQrN0AuVtRgGq4xQI8uSXhVOjNAjy5JeFU6M0CGcqJdhXQzQDmgJ6Kg/jdAidojwUEAM0CJ4Mz8t784QL3GLlG9mzhAsI9OXfmMNkCwj05d+Yw2QI8uSXhVOjNAidojwUEAM0C9xi5RvZs4QOgg1Z0UKzdAOaAnoqD+N0DXL9gN29Y6QCnQJ/Ik8TxANlmjHqLxKUD8epjQN7Q2QLjpz36kMDZAhnKiXYV0M0CU+x2KAoUyQDZZox6i8SlAjy5JeFU6M0Dwb4nKYMg4QMW32GRmdDpAidojwUEAM0Bg9VQQmUk6QDZZox6i8SlAKdAn8iTxPEDoINWdFCs3QCHIQQkz9TlAvcYuUb2bOECqZWt9kWQxQJT7HYoChTJAQmDl0CIbOEAp0CfyJPE8QBr6J7hY/TNAYPVUEJlJOkCRuMfSh6o5QLl1XD2VPjhAuXVcPZU+OEC9xi5RvZs4QIZyol2FdDNAlPsdigKFMkCFTXexQ5c4QL3GLlG9mzhAQmDl0CIbOEC46c9+pDA2QNcv2A3b1jpA1S6Tzq0xPkCGcqJdhXQzQKpla32RZDFA1y/YDdvWOkCqZWt9kWQxQDZZox6i8SlAsI9OXfmMNkCFTXexQ5c4QJG4x9KHqjlAOaAnoqD+N0DB/1ayYx81QLjpz36kMDZAjy5JeFU6M0CqZWt9kWQxQAywj05dPTZAaJHtfD8tKkA2WaMeovEpQIVNd7FDlzhA6CDVnRQrN0Bg9VQQmUk6QDZZox6i8SlAjy5JeFU6M0CqZWt9kWQxQGD1VBCZSTpAhnKiXYV0M0Cwj05d+Yw2QNcv2A3b1jpAuXVcPZU+OEDFt9hkZnQ6QIngzPy3vzhAIchBCTP1OUAp0CfyJPE8QDmgJ6Kg/jdAQmDl0CIbOEC9xi5RvZs4QIZyol2FdDNALlbUYBquMUC9xi5RvZs4QGD1VBCZSTpA1y/YDdvWOkCPLkl4VTozQCHIQQkz9TlAkbjH0oeqOUAMsI9OXT02QLjpz36kMDZAkbjH0oeqOUAuVtRgGq4xQNUuk86tMT5AhU13sUOXOEC9xi5RvZs4QJT7HYoChTJA1S6Tzq0xPkAMsI9OXT02QPBvicpgyDhAqmVrfZFkMUAfAclhHbQ8QDZZox6i8SlAidojwUEAM0Aa+ie4WP0zQLCPTl35jDZA1y/YDdvWOkCRuMfSh6o5QOgg1Z0UKzdAHwHJYR20PEAfAclhHbQ8QDZZox6i8SlAuOnPfqQwNkCGcqJdhXQzQIVNd7FDlzhAHwHJYR20PECU+x2KAoUyQDZZox6i8SlAsI9OXfmMNkCqZWt9kWQxQPBvicpgyDhAvcYuUb2bOECPLkl4VTozQC5W1GAarjFAqmVrfZFkMUA5oCeioP43QIngzPy3vzhAqmVrfZFkMUCPLkl4VTozQLjpz36kMDZAQmDl0CIbOEAfAclhHbQ8QNUuk86tMT5ALlbUYBquMUC46c9+pDA2QOgg1Z0UKzdA1y/YDdvWOkCJ2iPBQQAzQLl1XD2VPjhAKdAn8iTxPECJ4Mz8t784QDmgJ6Kg/jdAuOnPfqQwNkDXL9gN29Y6QJT7HYoChTJAHwHJYR20PECGcqJdhXQzQAywj05dPTZAsI9OXfmMNkCFTXexQ5c4QCHIQQkz9TlAuOnPfqQwNkDoINWdFCs3QNcv2A3b1jpAuXVcPZU+OEDVLpPOrTE+QDmgJ6Kg/jdAuOnPfqQwNkC5dVw9lT44QJT7HYoChTJADLCPTl09NkCRuMfSh6o5QMTaU5UfJDlA1y/YDdvWOkAhyEEJM/U5QIZyol2FdDNAieDM/Le/OEC46c9+pDA2QGiR7Xw/LSpAhnKiXYV0M0Aa+ie4WP0zQB8ByWEdtDxAqmVrfZFkMUDVLpPOrTE+QLCPTl35jDZA1S6Tzq0xPkCGcqJdhXQzQLl1XD2VPjhAxbfYZGZ0OkAuVtRgGq4xQJG4x9KHqjlAlPsdigKFMkD8epjQN7Q2QLl1XD2VPjhA/HqY0De0NkCwj05d+Yw2QIVNd7FDlzhAjy5JeFU6M0C9xi5RvZs4QCHIQQkz9TlAHwHJYR20PEC46c9+pDA2QMW32GRmdDpAhU13sUOXOECJ4Mz8t784QC5W1GAarjFAvcYuUb2bOEAa+ie4WP0zQLCPTl35jDZAQmDl0CIbOECqZWt9kWQxQJT7HYoChTJA8G+JymDIOEDwb4nKYMg4QMW32GRmdDpAuOnPfqQwNkDoINWdFCs3QDmgJ6Kg/jdALlbUYBquMUCqZWt9kWQxQPBvicpgyDhAsI9OXfmMNkDXL9gN29Y6QLjpz36kMDZAhnKiXYV0M0CqZWt9kWQxQMW32GRmdDpAGvonuFj9M0AhyEEJM/U5QOgg1Z0UKzdAqmVrfZFkMUCFTXexQ5c4QIngzPy3vzhAvcYuUb2bOECPLkl4VTozQIngzPy3vzhAkbjH0oeqOUCwj05d+Yw2QBr6J7hY/TNAHwHJYR20PEBCYOXQIhs4QCnQJ/Ik8TxAidojwUEAM0AhyEEJM/U5QJT7HYoChTJAuXVcPZU+OECU+x2KAoUyQLjpz36kMDZA/HqY0De0NkCqZWt9kWQxQPBvicpgyDhAKdAn8iTxPEAp0CfyJPE8QLjpz36kMDZAqmVrfZFkMUBCYOXQIhs4QKpla32RZDFA6CDVnRQrN0CqZWt9kWQxQLCPTl35jDZAKdAn8iTxPEA5oCeioP43QEJg5dAiGzhALlbUYBquMUBoke18Py0qQKpla32RZDFA6CDVnRQrN0CU+x2KAoUyQIZyol2FdDNAaJHtfD8tKkCGcqJdhXQzQLjpz36kMDZAKdAn8iTxPEA2WaMeovEpQLl1XD2VPjhAuOnPfqQwNkDE2lOVHyQ5QPBvicpgyDhALlbUYBquMUDXL9gN29Y6QB8ByWEdtDxAvcYuUb2bOECPLkl4VTozQIngzPy3vzhAhnKiXYV0M0CJ4Mz8t784QJT7HYoChTJAIchBCTP1OUDwb4nKYMg4QKpla32RZDFADLCPTl09NkAhyEEJM/U5QLjpz36kMDZAhU13sUOXOEDFt9hkZnQ6QEJg5dAiGzhAsI9OXfmMNkCqZWt9kWQxQPx6mNA3tDZAieDM/Le/OEDoINWdFCs3QB8ByWEdtDxAieDM/Le/OEA2WaMeovEpQIZyol2FdDNAsI9OXfmMNkCwj05d+Yw2QIZyol2FdDNAuOnPfqQwNkC46c9+pDA2QInaI8FBADNAhU13sUOXOEC5dVw9lT44QLjpz36kMDZA1y/YDdvWOkAfAclhHbQ8QIngzPy3vzhADLCPTl09NkCU+x2KAoUyQLjpz36kMDZA8G+JymDIOEC46c9+pDA2QNcv2A3b1jpAhnKiXYV0M0C46c9+pDA2QAywj05dPTZA1y/YDdvWOkAp0CfyJPE8QLl1XD2VPjhA1S6Tzq0xPkC46c9+pDA2QInaI8FBADNAGvonuFj9M0CPLkl4VTozQI8uSXhVOjNAuOnPfqQwNkDwb4nKYMg4QCnQJ/Ik8TxAxNpTlR8kOUCJ4Mz8t784QKpla32RZDFADLCPTl09NkCFTXexQ5c4QMW32GRmdDpAIchBCTP1OUAMsI9OXT02QPBvicpgyDhADLCPTl09NkCGcqJdhXQzQNUuk86tMT5AYPVUEJlJOkCwj05d+Yw2QJT7HYoChTJAlPsdigKFMkCGcqJdhXQzQC5W1GAarjFAhnKiXYV0M0CPLkl4VTozQLjpz36kMDZA/HqY0De0NkDE2lOVHyQ5QIZyol2FdDNA1y/YDdvWOkC46c9+pDA2QMW32GRmdDpAYPVUEJlJOkAp0CfyJPE8QLCPTl35jDZAYPVUEJlJOkAp0CfyJPE8QKpla32RZDFA6CDVnRQrN0CGcqJdhXQzQIZyol2FdDNAHwHJYR20PEDFt9hkZnQ6QJG4x9KHqjlA6CDVnRQrN0C9xi5RvZs4QC5W1GAarjFAuOnPfqQwNkDoINWdFCs3QCnQJ/Ik8TxA1y/YDdvWOkDVLpPOrTE+QInaI8FBADNAhU13sUOXOEC9xi5RvZs4QLjpz36kMDZAuOnPfqQwNkCPLkl4VTozQGiR7Xw/LSpAkbjH0oeqOUDwb4nKYMg4QIZyol2FdDNAvcYuUb2bOECPLkl4VTozQNcv2A3b1jpAhU13sUOXOEAuVtRgGq4xQMW32GRmdDpA6CDVnRQrN0Boke18Py0qQLjpz36kMDZAuXVcPZU+OEA2WaMeovEpQI8uSXhVOjNAaJHtfD8tKkAa+ie4WP0zQPBvicpgyDhA1S6Tzq0xPkAp0CfyJPE8QJG4x9KHqjlA6CDVnRQrN0CU+x2KAoUyQPx6mNA3tDZAsI9OXfmMNkBCYOXQIhs4QDmgJ6Kg/jdALlbUYBquMUCU+x2KAoUyQI8uSXhVOjNALlbUYBquMUA5oCeioP43QIngzPy3vzhAuXVcPZU+OEC46c9+pDA2QC5W1GAarjFA1y/YDdvWOkBg9VQQmUk6QIVNd7FDlzhAjy5JeFU6M0CqZWt9kWQxQJT7HYoChTJA6CDVnRQrN0Cwj05d+Yw2QNcv2A3b1jpAGvonuFj9M0A2WaMeovEpQLjpz36kMDZAuOnPfqQwNkCRuMfSh6o5QLl1XD2VPjhAqmVrfZFkMUA2WaMeovEpQDmgJ6Kg/jdAGvonuFj9M0DoINWdFCs3QLjpz36kMDZAHwHJYR20PECwj05d+Yw2QEJg5dAiGzhAieDM/Le/OECPLkl4VTozQC5W1GAarjFAjy5JeFU6M0CPLkl4VTozQIZyol2FdDNAlPsdigKFMkAfAclhHbQ8QIZyol2FdDNAqmVrfZFkMUDXL9gN29Y6QLCPTl35jDZAOaAnoqD+N0C46c9+pDA2QPBvicpgyDhAlPsdigKFMkCqZWt9kWQxQDmgJ6Kg/jdADLCPTl09NkDXL9gN29Y6QOgg1Z0UKzdAYPVUEJlJOkAMsI9OXT02QL3GLlG9mzhA6CDVnRQrN0CqZWt9kWQxQIZyol2FdDNAaJHtfD8tKkCJ4Mz8t784QGD1VBCZSTpAkbjH0oeqOUCJ4Mz8t784QJG4x9KHqjlAkbjH0oeqOUC5dVw9lT44QLjpz36kMDZAuOnPfqQwNkC46c9+pDA2QL3GLlG9mzhAHwHJYR20PEA5oCeioP43QMTaU5UfJDlAYPVUEJlJOkCJ2iPBQQAzQIngzPy3vzhAuOnPfqQwNkDXL9gN29Y6QGiR7Xw/LSpAhU13sUOXOEC46c9+pDA2QPBvicpgyDhAhU13sUOXOECJ4Mz8t784QLCPTl35jDZA8G+JymDIOECqZWt9kWQxQAywj05dPTZA1S6Tzq0xPkA2WaMeovEpQNUuk86tMT5ALlbUYBquMUAMsI9OXT02QDmgJ6Kg/jdAidojwUEAM0A5oCeioP43QIZyol2FdDNAOaAnoqD+N0DXL9gN29Y6QGiR7Xw/LSpAxNpTlR8kOUCqZWt9kWQxQLjpz36kMDZALlbUYBquMUBoke18Py0qQCHIQQkz9TlAKdAn8iTxPEDXL9gN29Y6QL3GLlG9mzhA1y/YDdvWOkCwj05d+Yw2QI8uSXhVOjNAQmDl0CIbOEDVLpPOrTE+QGD1VBCZSTpAhnKiXYV0M0CqZWt9kWQxQGiR7Xw/LSpAxbfYZGZ0OkC46c9+pDA2QGiR7Xw/LSpAKdAn8iTxPECwj05d+Yw2QKpla32RZDFAQmDl0CIbOECJ2iPBQQAzQI8uSXhVOjNA8G+JymDIOECwj05d+Yw2QCHIQQkz9TlAhnKiXYV0M0C46c9+pDA2QMW32GRmdDpAsI9OXfmMNkDXL9gN29Y6QLjpz36kMDZAQmDl0CIbOEDFt9hkZnQ6QDZZox6i8SlAOaAnoqD+N0CqZWt9kWQxQOgg1Z0UKzdAqmVrfZFkMUA5oCeioP43QKpla32RZDFA1S6Tzq0xPkA5oCeioP43QCnQJ/Ik8TxAuXVcPZU+OEDE2lOVHyQ5QKpla32RZDFAuXVcPZU+OED8epjQN7Q2QI8uSXhVOjNAjy5JeFU6M0DFt9hkZnQ6QPBvicpgyDhA1S6Tzq0xPkC5dVw9lT44QMTaU5UfJDlAuOnPfqQwNkDXL9gN29Y6QJT7HYoChTJAKdAn8iTxPECPLkl4VTozQIngzPy3vzhAlPsdigKFMkDVLpPOrTE+QNUuk86tMT5AxbfYZGZ0OkAuVtRgGq4xQIZyol2FdDNAvcYuUb2bOEBg9VQQmUk6QJG4x9KHqjlA/HqY0De0NkDE2lOVHyQ5QMW32GRmdDpAYPVUEJlJOkAp0CfyJPE8QEJg5dAiGzhAaJHtfD8tKkDFt9hkZnQ6QJT7HYoChTJALlbUYBquMUAfAclhHbQ8QCnQJ/Ik8TxAsI9OXfmMNkBoke18Py0qQBr6J7hY/TNAxbfYZGZ0OkC9xi5RvZs4QIVNd7FDlzhAsI9OXfmMNkDFt9hkZnQ6QLjpz36kMDZAxNpTlR8kOUCGcqJdhXQzQLl1XD2VPjhA8G+JymDIOEDXL9gN29Y6QLCPTl35jDZAxNpTlR8kOUAfAclhHbQ8QKpla32RZDFA8G+JymDIOEDFt9hkZnQ6QLl1XD2VPjhAsI9OXfmMNkA2WaMeovEpQLCPTl35jDZA1S6Tzq0xPkA5oCeioP43QPBvicpgyDhA/HqY0De0NkC5dVw9lT44QGiR7Xw/LSpAHwHJYR20PEDVLpPOrTE+QIngzPy3vzhANlmjHqLxKUCwj05d+Yw2QDmgJ6Kg/jdANlmjHqLxKUAhyEEJM/U5QLjpz36kMDZAHwHJYR20PECqZWt9kWQxQDZZox6i8SlA1S6Tzq0xPkCU+x2KAoUyQLjpz36kMDZAIchBCTP1OUC46c9+pDA2QEJg5dAiGzhAIchBCTP1OUA5oCeioP43QMW32GRmdDpAsI9OXfmMNkBg9VQQmUk6QOgg1Z0UKzdADLCPTl09NkAuVtRgGq4xQNcv2A3b1jpAkbjH0oeqOUC46c9+pDA2QOgg1Z0UKzdAuXVcPZU+OECRuMfSh6o5QOgg1Z0UKzdAqmVrfZFkMUDVLpPOrTE+QLCPTl35jDZAIchBCTP1OUC5dVw9lT44QAywj05dPTZA6CDVnRQrN0C46c9+pDA2QLl1XD2VPjhAvcYuUb2bOEBbfAqA8cwqQCHIQQkz9TlAaJHtfD8tKkDwb4nKYMg4QNUuk86tMT5AvcYuUb2bOECRuMfSh6o5QAywj05dPTZAvcYuUb2bOEA5oCeioP43QJT7HYoChTJAvcYuUb2bOEDwb4nKYMg4QI8uSXhVOjNAjy5JeFU6M0DFt9hkZnQ6QMTaU5UfJDlAIchBCTP1OUBg9VQQmUk6QLCPTl35jDZAHwHJYR20PEAhyEEJM/U5QKpla32RZDFAhnKiXYV0M0C9xi5RvZs4QL3GLlG9mzhAlPsdigKFMkC9xi5RvZs4QLl1XD2VPjhAOaAnoqD+N0D8epjQN7Q2QC5W1GAarjFAHwHJYR20PEA2WaMeovEpQCHIQQkz9TlAjy5JeFU6M0C46c9+pDA2QIngzPy3vzhA1y/YDdvWOkC46c9+pDA2QIZyol2FdDNAqmVrfZFkMUCGcqJdhXQzQMTaU5UfJDlAuOnPfqQwNkCwj05d+Yw2QIngzPy3vzhAKdAn8iTxPED8epjQN7Q2QL3GLlG9mzhAKdAn8iTxPEC5dVw9lT44QLCPTl35jDZA1y/YDdvWOkBCYOXQIhs4QLl1XD2VPjhAuXVcPZU+OEC5dVw9lT44QNUuk86tMT5AhnKiXYV0M0DoINWdFCs3QCnQJ/Ik8TxA6CDVnRQrN0DVLpPOrTE+QIZyol2FdDNALlbUYBquMUCqZWt9kWQxQPBvicpgyDhA8G+JymDIOEAp0CfyJPE8QLjpz36kMDZAidojwUEAM0DFt9hkZnQ6QMW32GRmdDpA1S6Tzq0xPkCGcqJdhXQzQL3GLlG9mzhA1y/YDdvWOkDVLpPOrTE+QIZyol2FdDNADLCPTl09NkCU+x2KAoUyQCnQJ/Ik8TxAqmVrfZFkMUBg9VQQmUk6QB8ByWEdtDxAhU13sUOXOEBCYOXQIhs4QGiR7Xw/LSpAsI9OXfmMNkCqZWt9kWQxQIVNd7FDlzhAOaAnoqD+N0D8epjQN7Q2QI8uSXhVOjNAjy5JeFU6M0CRuMfSh6o5QEJg5dAiGzhANlmjHqLxKUCGcqJdhXQzQIngzPy3vzhA/HqY0De0NkCJ2iPBQQAzQOgg1Z0UKzdAxbfYZGZ0OkAhyEEJM/U5QMW32GRmdDpAieDM/Le/OEAuVtRgGq4xQInaI8FBADNAqmVrfZFkMUCJ4Mz8t784QLl1XD2VPjhAaJHtfD8tKkC46c9+pDA2QC5W1GAarjFAxbfYZGZ0OkCJ4Mz8t784QC5W1GAarjFAlPsdigKFMkCqZWt9kWQxQI8uSXhVOjNAkbjH0oeqOUDFt9hkZnQ6QEJg5dAiGzhAYPVUEJlJOkCGcqJdhXQzQLjpz36kMDZAHwHJYR20PECFTXexQ5c4QCnQJ/Ik8TxAIchBCTP1OUCwj05d+Yw2QMW32GRmdDpAkbjH0oeqOUBoke18Py0qQIZyol2FdDNADLCPTl09NkC5dVw9lT44QBr6J7hY/TNA1y/YDdvWOkBCYOXQIhs4QKpla32RZDFAqmVrfZFkMUDoINWdFCs3QLl1XD2VPjhA1S6Tzq0xPkDoINWdFCs3QPx6mNA3tDZAieDM/Le/OEBoke18Py0qQLjpz36kMDZAOaAnoqD+N0CPLkl4VTozQDZZox6i8SlAhU13sUOXOEC46c9+pDA2QNUuk86tMT5AIchBCTP1OUCJ2iPBQQAzQOgg1Z0UKzdAkbjH0oeqOUAMsI9OXT02QMTaU5UfJDlA8G+JymDIOECwj05d+Yw2QKpla32RZDFAqmVrfZFkMUBg9VQQmUk6QPBvicpgyDhAuOnPfqQwNkC5dVw9lT44QCHIQQkz9TlAHwHJYR20PECGcqJdhXQzQInaI8FBADNAxbfYZGZ0OkAp0CfyJPE8QMW32GRmdDpAuOnPfqQwNkDE2lOVHyQ5QLCPTl35jDZAQmDl0CIbOECFTXexQ5c4QIVNd7FDlzhANlmjHqLxKUAfAclhHbQ8QPBvicpgyDhAwf9WsmMfNUBoke18Py0qQIngzPy3vzhAxNpTlR8kOUC46c9+pDA2QL3GLlG9mzhAKdAn8iTxPECFTXexQ5c4QGiR7Xw/LSpAaJHtfD8tKkAhyEEJM/U5QIVNd7FDlzhA1S6Tzq0xPkC9xi5RvZs4QIVNd7FDlzhAYPVUEJlJOkAuVtRgGq4xQNcv2A3b1jpAjy5JeFU6M0DFt9hkZnQ6QAywj05dPTZALlbUYBquMUDFt9hkZnQ6QL3GLlG9mzhAuXVcPZU+OECwj05d+Yw2QJG4x9KHqjlAvcYuUb2bOEAMsI9OXT02QMTaU5UfJDlAOaAnoqD+N0C9xi5RvZs4QIngzPy3vzhADLCPTl09NkBoke18Py0qQNcv2A3b1jpAuOnPfqQwNkDVLpPOrTE+QDmgJ6Kg/jdA1S6Tzq0xPkCJ4Mz8t784QIZyol2FdDNAqmVrfZFkMUDVLpPOrTE+QCnQJ/Ik8TxAjy5JeFU6M0AhyEEJM/U5QIVNd7FDlzhAhnKiXYV0M0C46c9+pDA2QLCPTl35jDZANlmjHqLxKUDFt9hkZnQ6QEJg5dAiGzhA1y/YDdvWOkCRuMfSh6o5QGiR7Xw/LSpA1S6Tzq0xPkCGcqJdhXQzQPBvicpgyDhAGvonuFj9M0Dwb4nKYMg4QGiR7Xw/LSpAKdAn8iTxPEDXL9gN29Y6QDmgJ6Kg/jdAxbfYZGZ0OkCJ2iPBQQAzQAywj05dPTZAuOnPfqQwNkCPLkl4VTozQLl1XD2VPjhAuXVcPZU+OEC9xi5RvZs4QGiR7Xw/LSpAvcYuUb2bOECFTXexQ5c4QMW32GRmdDpAaJHtfD8tKkBoke18Py0qQMW32GRmdDpANlmjHqLxKUDoINWdFCs3QLl1XD2VPjhA8G+JymDIOEDwb4nKYMg4QLl1XD2VPjhAOaAnoqD+N0BCYOXQIhs4QB8ByWEdtDxAhnKiXYV0M0A2WaMeovEpQLCPTl35jDZAhnKiXYV0M0Bg9VQQmUk6QIVNd7FDlzhA8G+JymDIOEBoke18Py0qQMW32GRmdDpAYPVUEJlJOkDFt9hkZnQ6QLjpz36kMDZAGvonuFj9M0CqZWt9kWQxQInaI8FBADNAIchBCTP1OUA2WaMeovEpQKpla32RZDFAOaAnoqD+N0BCYOXQIhs4QNUuk86tMT5AsI9OXfmMNkCJ4Mz8t784QMW32GRmdDpAaJHtfD8tKkCGcqJdhXQzQLl1XD2VPjhAuXVcPZU+OECGcqJdhXQzQGiR7Xw/LSpAsI9OXfmMNkCU+x2KAoUyQBr6J7hY/TNALlbUYBquMUCqZWt9kWQxQJT7HYoChTJAhU13sUOXOECqZWt9kWQxQMTaU5UfJDlAxbfYZGZ0OkBoke18Py0qQInaI8FBADNAKdAn8iTxPEDXL9gN29Y6QNcv2A3b1jpAhU13sUOXOEDXL9gN29Y6QGD1VBCZSTpA8G+JymDIOEDVLpPOrTE+QLCPTl35jDZAqmVrfZFkMUCU+x2KAoUyQLCPTl35jDZAuOnPfqQwNkD8epjQN7Q2QIngzPy3vzhAkbjH0oeqOUDVLpPOrTE+QEJg5dAiGzhAjy5JeFU6M0A2WaMeovEpQEJg5dAiGzhAhnKiXYV0M0CPLkl4VTozQDZZox6i8SlAkbjH0oeqOUC9xi5RvZs4QCHIQQkz9TlAaJHtfD8tKkAa+ie4WP0zQJG4x9KHqjlALlbUYBquMUCFTXexQ5c4QJT7HYoChTJAlPsdigKFMkDE2lOVHyQ5QB8ByWEdtDxA/HqY0De0NkAhyEEJM/U5QAywj05dPTZAuXVcPZU+OEC46c9+pDA2QLCPTl35jDZAhnKiXYV0M0Dwb4nKYMg4QDmgJ6Kg/jdAjy5JeFU6M0Dwb4nKYMg4QIVNd7FDlzhAqmVrfZFkMUAMsI9OXT02QLl1XD2VPjhA8G+JymDIOEDFt9hkZnQ6QInaI8FBADNAjy5JeFU6M0A5oCeioP43QOgg1Z0UKzdAlPsdigKFMkDB/1ayYx81QIngzPy3vzhAhnKiXYV0M0CFTXexQ5c4QPBvicpgyDhA1y/YDdvWOkDFt9hkZnQ6QL3GLlG9mzhA8G+JymDIOEA2WaMeovEpQL3GLlG9mzhAOaAnoqD+N0CPLkl4VTozQJG4x9KHqjlAuOnPfqQwNkBg9VQQmUk6QMW32GRmdDpA1y/YDdvWOkAfAclhHbQ8QLjpz36kMDZAuOnPfqQwNkDFt9hkZnQ6QMW32GRmdDpAqmVrfZFkMUCGcqJdhXQzQGD1VBCZSTpANlmjHqLxKUCGcqJdhXQzQCnQJ/Ik8TxAIchBCTP1OUDXL9gN29Y6QBr6J7hY/TNAaJHtfD8tKkCFTXexQ5c4QLjpz36kMDZAhnKiXYV0M0AuVtRgGq4xQLCPTl35jDZAYPVUEJlJOkCU+x2KAoUyQIVNd7FDlzhAvcYuUb2bOEAuVtRgGq4xQCHIQQkz9TlALlbUYBquMUCRuMfSh6o5QInaI8FBADNAsI9OXfmMNkCJ4Mz8t784QLCPTl35jDZADLCPTl09NkCJ4Mz8t784QCHIQQkz9TlAuXVcPZU+OEAMsI9OXT02QIngzPy3vzhAuOnPfqQwNkDFt9hkZnQ6QLjpz36kMDZANlmjHqLxKUC9xi5RvZs4QNcv2A3b1jpA1y/YDdvWOkDVLpPOrTE+QNcv2A3b1jpA1y/YDdvWOkCJ4Mz8t784QGiR7Xw/LSpAOaAnoqD+N0CGcqJdhXQzQLjpz36kMDZAlPsdigKFMkC9xi5RvZs4QC5W1GAarjFA/HqY0De0NkC46c9+pDA2QNUuk86tMT5AxbfYZGZ0OkA2WaMeovEpQIZyol2FdDNAlPsdigKFMkC5dVw9lT44QLjpz36kMDZAaJHtfD8tKkBoke18Py0qQIVNd7FDlzhALlbUYBquMUD8epjQN7Q2QMW32GRmdDpA6CDVnRQrN0Ap0CfyJPE8QIVNd7FDlzhAhnKiXYV0M0AfAclhHbQ8QL3GLlG9mzhANlmjHqLxKUAp0CfyJPE8QDZZox6i8SlAaJHtfD8tKkCPLkl4VTozQPBvicpgyDhA1S6Tzq0xPkD8epjQN7Q2QCnQJ/Ik8TxAxNpTlR8kOUCJ4Mz8t784QI8uSXhVOjNA6CDVnRQrN0A2WaMeovEpQIngzPy3vzhAsI9OXfmMNkCwj05d+Yw2QB8ByWEdtDxAuXVcPZU+OECPLkl4VTozQMTaU5UfJDlAGvonuFj9M0AuVtRgGq4xQC5W1GAarjFANlmjHqLxKUDVLpPOrTE+QMW32GRmdDpA1y/YDdvWOkCFTXexQ5c4QMW32GRmdDpA1y/YDdvWOkAhyEEJM/U5QIngzPy3vzhA1S6Tzq0xPkCGcqJdhXQzQL3GLlG9mzhALlbUYBquMUC9xi5RvZs4QL3GLlG9mzhA/HqY0De0NkC46c9+pDA2QOgg1Z0UKzdAuOnPfqQwNkA2WaMeovEpQJT7HYoChTJAxbfYZGZ0OkAhyEEJM/U5QPx6mNA3tDZA8G+JymDIOEDVLpPOrTE+QDZZox6i8SlAxbfYZGZ0OkBg9VQQmUk6QC5W1GAarjFAqmVrfZFkMUCU+x2KAoUyQDmgJ6Kg/jdAIchBCTP1OUC9xi5RvZs4QBr6J7hY/TNA1y/YDdvWOkAhyEEJM/U5QGiR7Xw/LSpAuOnPfqQwNkAp0CfyJPE8QC5W1GAarjFAlPsdigKFMkDwb4nKYMg4QPBvicpgyDhA1y/YDdvWOkDwb4nKYMg4QIVNd7FDlzhANlmjHqLxKUCqZWt9kWQxQDmgJ6Kg/jdA/HqY0De0NkDwb4nKYMg4QLjpz36kMDZA6CDVnRQrN0Aa+ie4WP0zQMW32GRmdDpAhnKiXYV0M0DXL9gN29Y6QI8uSXhVOjNAsI9OXfmMNkAp0CfyJPE8QDmgJ6Kg/jdAaJHtfD8tKkC46c9+pDA2QLCPTl35jDZAieDM/Le/OECqZWt9kWQxQPx6mNA3tDZAidojwUEAM0BCYOXQIhs4QLCPTl35jDZAhnKiXYV0M0C5dVw9lT44QPBvicpgyDhAGvonuFj9M0CGcqJdhXQzQIVNd7FDlzhAuXVcPZU+OEC5dVw9lT44QJT7HYoChTJAlPsdigKFMkC46c9+pDA2QPBvicpgyDhAvcYuUb2bOEAuVtRgGq4xQPBvicpgyDhAhU13sUOXOEBg9VQQmUk6QGD1VBCZSTpALlbUYBquMUDFt9hkZnQ6QC5W1GAarjFAlPsdigKFMkCJ4Mz8t784QMW32GRmdDpAHwHJYR20PEC9xi5RvZs4QPBvicpgyDhAvcYuUb2bOEBCYOXQIhs4QLjpz36kMDZAlPsdigKFMkCwj05d+Yw2QMW32GRmdDpA6CDVnRQrN0A2WaMeovEpQMW32GRmdDpAqmVrfZFkMUD8epjQN7Q2QLl1XD2VPjhAieDM/Le/OEDXL9gN29Y6QJG4x9KHqjlA8G+JymDIOEAuVtRgGq4xQC5W1GAarjFAKdAn8iTxPECFTXexQ5c4QB8ByWEdtDxAieDM/Le/OECGcqJdhXQzQB8ByWEdtDxAqmVrfZFkMUDVLpPOrTE+QKpla32RZDFAvcYuUb2bOECJ2iPBQQAzQMTaU5UfJDlALlbUYBquMUC9xi5RvZs4QInaI8FBADNA6CDVnRQrN0CqZWt9kWQxQIZyol2FdDNA/HqY0De0NkA2WaMeovEpQIZyol2FdDNAvcYuUb2bOECPLkl4VTozQPBvicpgyDhA1S6Tzq0xPkC5dVw9lT44QJT7HYoChTJAxNpTlR8kOUCU+x2KAoUyQDZZox6i8SlAvcYuUb2bOECqZWt9kWQxQIVNd7FDlzhAaJHtfD8tKkDFt9hkZnQ6QCHIQQkz9TlAkbjH0oeqOUA5oCeioP43QMW32GRmdDpA6CDVnRQrN0AhyEEJM/U5QOgg1Z0UKzdAxbfYZGZ0OkA2WaMeovEpQDZZox6i8SlAuOnPfqQwNkCPLkl4VTozQI8uSXhVOjNAvcYuUb2bOECqZWt9kWQxQBr6J7hY/TNAieDM/Le/OEDoINWdFCs3QLCPTl35jDZAuXVcPZU+OEAuVtRgGq4xQGiR7Xw/LSpA/HqY0De0NkAfAclhHbQ8QDmgJ6Kg/jdA8G+JymDIOECGcqJdhXQzQMW32GRmdDpA1y/YDdvWOkDXL9gN29Y6QPBvicpgyDhAxNpTlR8kOUCPLkl4VTozQC5W1GAarjFAlPsdigKFMkCPLkl4VTozQLjpz36kMDZAjy5JeFU6M0C46c9+pDA2QB8ByWEdtDxA1y/YDdvWOkAMsI9OXT02QPx6mNA3tDZAKdAn8iTxPECJ4Mz8t784QMW32GRmdDpAxNpTlR8kOUDE2lOVHyQ5QIVNd7FDlzhAhnKiXYV0M0AMsI9OXT02QJT7HYoChTJADLCPTl09NkC46c9+pDA2QNcv2A3b1jpAQmDl0CIbOEDFt9hkZnQ6QLCPTl35jDZAhnKiXYV0M0DXL9gN29Y6QCHIQQkz9TlAHwHJYR20PEC9xi5RvZs4QNUuk86tMT5AuOnPfqQwNkCFTXexQ5c4QIngzPy3vzhAuXVcPZU+OEA5oCeioP43QGiR7Xw/LSpA/HqY0De0NkC46c9+pDA2QPBvicpgyDhAhU13sUOXOED8epjQN7Q2QPx6mNA3tDZAhU13sUOXOECPLkl4VTozQNcv2A3b1jpAxbfYZGZ0OkCPLkl4VTozQNUuk86tMT5AuOnPfqQwNkCFTXexQ5c4QGD1VBCZSTpAxNpTlR8kOUAp0CfyJPE8QL3GLlG9mzhAuXVcPZU+OECRuMfSh6o5QGiR7Xw/LSpAxNpTlR8kOUAuVtRgGq4xQL3GLlG9mzhADLCPTl09NkC46c9+pDA2QLl1XD2VPjhADLCPTl09NkDwb4nKYMg4QPBvicpgyDhA1y/YDdvWOkCRuMfSh6o5QLl1XD2VPjhAaJHtfD8tKkCU+x2KAoUyQMTaU5UfJDlA6CDVnRQrN0CFTXexQ5c4QDZZox6i8SlAhnKiXYV0M0AhyEEJM/U5QNcv2A3b1jpADLCPTl09NkDXL9gN29Y6QCHIQQkz9TlAHwHJYR20PEDwb4nKYMg4QL3GLlG9mzhADLCPTl09NkAfAclhHbQ8QMW32GRmdDpAhU13sUOXOEAMsI9OXT02QPx6mNA3tDZAieDM/Le/OEC5dVw9lT44QLl1XD2VPjhAieDM/Le/OECwj05d+Yw2QC5W1GAarjFAQmDl0CIbOECJ2iPBQQAzQPBvicpgyDhAKdAn8iTxPEDE2lOVHyQ5QB8ByWEdtDxANlmjHqLxKUDVLpPOrTE+QKpla32RZDFAhnKiXYV0M0AuVtRgGq4xQMW32GRmdDpAHwHJYR20PECU+x2KAoUyQPx6mNA3tDZAqmVrfZFkMUAa+ie4WP0zQNcv2A3b1jpAidojwUEAM0C46c9+pDA2QMW32GRmdDpA6CDVnRQrN0D8epjQN7Q2QB8ByWEdtDxAieDM/Le/OEC46c9+pDA2QI8uSXhVOjNAhnKiXYV0M0CU+x2KAoUyQLjpz36kMDZA8G+JymDIOEDVLpPOrTE+QI8uSXhVOjNAIchBCTP1OUC5dVw9lT44QJT7HYoChTJAidojwUEAM0Aa+ie4WP0zQIngzPy3vzhA8G+JymDIOEAp0CfyJPE8QNcv2A3b1jpAuXVcPZU+OECU+x2KAoUyQB8ByWEdtDxAKdAn8iTxPECJ4Mz8t784QDmgJ6Kg/jdAHwHJYR20PECU+x2KAoUyQL3GLlG9mzhAhnKiXYV0M0Aa+ie4WP0zQDmgJ6Kg/jdA6CDVnRQrN0Boke18Py0qQLCPTl35jDZAGvonuFj9M0DoINWdFCs3QIZyol2FdDNA6CDVnRQrN0Bg9VQQmUk6QPx6mNA3tDZAhnKiXYV0M0DFt9hkZnQ6QIZyol2FdDNAQmDl0CIbOEAfAclhHbQ8QCHIQQkz9TlAieDM/Le/OECU+x2KAoUyQC5W1GAarjFA8G+JymDIOECqZWt9kWQxQIngzPy3vzhAhnKiXYV0M0C5dVw9lT44QCnQJ/Ik8TxAHwHJYR20PEDVLpPOrTE+QPx6mNA3tDZAYPVUEJlJOkDwb4nKYMg4QEJg5dAiGzhAHwHJYR20PEC46c9+pDA2QLl1XD2VPjhA6CDVnRQrN0AMsI9OXT02QIVNd7FDlzhAhU13sUOXOECFTXexQ5c4QPBvicpgyDhAieDM/Le/OEBCYOXQIhs4QLjpz36kMDZAuXVcPZU+OECwj05d+Yw2QLjpz36kMDZA8G+JymDIOECU+x2KAoUyQEJg5dAiGzhA1S6Tzq0xPkAp0CfyJPE8QJT7HYoChTJAqmVrfZFkMUCqZWt9kWQxQIngzPy3vzhAlPsdigKFMkDXL9gN29Y6QGiR7Xw/LSpAHwHJYR20PECGcqJdhXQzQGiR7Xw/LSpAQmDl0CIbOECwj05d+Yw2QInaI8FBADNAOaAnoqD+N0Boke18Py0qQOgg1Z0UKzdAlPsdigKFMkDwb4nKYMg4QKpla32RZDFA6CDVnRQrN0C5dVw9lT44QInaI8FBADNAuOnPfqQwNkC5dVw9lT44QMW32GRmdDpAIchBCTP1OUCRuMfSh6o5QDmgJ6Kg/jdAuOnPfqQwNkCwj05d+Yw2QInaI8FBADNALlbUYBquMUBoke18Py0qQDZZox6i8SlAuOnPfqQwNkA2WaMeovEpQCnQJ/Ik8TxAHwHJYR20PED8epjQN7Q2QEJg5dAiGzhALlbUYBquMUC5dVw9lT44QNcv2A3b1jpAYPVUEJlJOkC5dVw9lT44QInaI8FBADNAxbfYZGZ0OkCGcqJdhXQzQLl1XD2VPjhAOaAnoqD+N0C46c9+pDA2QGiR7Xw/LSpAKdAn8iTxPEDXL9gN29Y6QAywj05dPTZAkbjH0oeqOUCqZWt9kWQxQDZZox6i8SlALlbUYBquMUAp0CfyJPE8QIngzPy3vzhA1y/YDdvWOkC46c9+pDA2QGiR7Xw/LSpAIchBCTP1OUC46c9+pDA2QI8uSXhVOjNA8G+JymDIOECJ2iPBQQAzQCnQJ/Ik8TxAuXVcPZU+OEA5oCeioP43QIngzPy3vzhAsI9OXfmMNkCU+x2KAoUyQEJg5dAiGzhAHwHJYR20PEDFt9hkZnQ6QMTaU5UfJDlANlmjHqLxKUBoke18Py0qQMW32GRmdDpAuOnPfqQwNkDoINWdFCs3QCHIQQkz9TlAhU13sUOXOEDwb4nKYMg4QIZyol2FdDNAIchBCTP1OUDXL9gN29Y6QInaI8FBADNAhnKiXYV0M0CU+x2KAoUyQI8uSXhVOjNAIchBCTP1OUCqZWt9kWQxQMW32GRmdDpAuOnPfqQwNkDoINWdFCs3QInaI8FBADNA8G+JymDIOECPLkl4VTozQBr6J7hY/TNAuXVcPZU+OEAMsI9OXT02QLCPTl35jDZAsI9OXfmMNkCJ2iPBQQAzQNcv2A3b1jpAxNpTlR8kOUC46c9+pDA2QC5W1GAarjFAuXVcPZU+OEAa+ie4WP0zQIVNd7FDlzhA6CDVnRQrN0AhyEEJM/U5QDZZox6i8SlA1y/YDdvWOkCJ2iPBQQAzQCHIQQkz9TlAieDM/Le/OECJ4Mz8t784QMTaU5UfJDlAieDM/Le/OEBCYOXQIhs4QPBvicpgyDhA1y/YDdvWOkCFTXexQ5c4QI8uSXhVOjNANlmjHqLxKUD8epjQN7Q2QKpla32RZDFADLCPTl09NkAa+ie4WP0zQGD1VBCZSTpAlPsdigKFMkDVLpPOrTE+QIVNd7FDlzhA6CDVnRQrN0C9xi5RvZs4QJG4x9KHqjlA1y/YDdvWOkCJ4Mz8t784QPBvicpgyDhAGvonuFj9M0Ap0CfyJPE8QAywj05dPTZAuOnPfqQwNkCqZWt9kWQxQDZZox6i8SlAxbfYZGZ0OkCGcqJdhXQzQJT7HYoChTJALlbUYBquMUCJ4Mz8t784QOgg1Z0UKzdAjy5JeFU6M0DFt9hkZnQ6QMW32GRmdDpANlmjHqLxKUCGcqJdhXQzQLl1XD2VPjhAuXVcPZU+OEA5oCeioP43QMW32GRmdDpAqmVrfZFkMUAuVtRgGq4xQLjpz36kMDZAjy5JeFU6M0A2WaMeovEpQC5W1GAarjFADLCPTl09NkAa+ie4WP0zQJT7HYoChTJAQmDl0CIbOEDVLpPOrTE+QIVNd7FDlzhAvcYuUb2bOECPLkl4VTozQI8uSXhVOjNAGvonuFj9M0Ap0CfyJPE8QAywj05dPTZAOaAnoqD+N0CRuMfSh6o5QLCPTl35jDZAQmDl0CIbOEBg9VQQmUk6QC5W1GAarjFADLCPTl09NkCqZWt9kWQxQMW32GRmdDpAsI9OXfmMNkCwj05d+Yw2QBr6J7hY/TNAieDM/Le/OECJ4Mz8t784QMTaU5UfJDlAlPsdigKFMkBoke18Py0qQJT7HYoChTJANlmjHqLxKUDwb4nKYMg4QBr6J7hY/TNAuXVcPZU+OECqZWt9kWQxQL3GLlG9mzhANlmjHqLxKUCRuMfSh6o5QIZyol2FdDNAjy5JeFU6M0CGcqJdhXQzQCnQJ/Ik8TxA/HqY0De0NkDoINWdFCs3QNcv2A3b1jpAjy5JeFU6M0AMsI9OXT02QJT7HYoChTJAjy5JeFU6M0C5dVw9lT44QDmgJ6Kg/jdAHwHJYR20PEDE2lOVHyQ5QI8uSXhVOjNAGvonuFj9M0AMsI9OXT02QKpla32RZDFAkbjH0oeqOUDXL9gN29Y6QIZyol2FdDNAaJHtfD8tKkDXL9gN29Y6QI8uSXhVOjNAjy5JeFU6M0AhyEEJM/U5QGiR7Xw/LSpAjy5JeFU6M0Cwj05d+Yw2QI8uSXhVOjNAqmVrfZFkMUDwb4nKYMg4QNcv2A3b1jpAjy5JeFU6M0CJ4Mz8t784QNcv2A3b1jpA8G+JymDIOECFTXexQ5c4QIngzPy3vzhADLCPTl09NkBCYOXQIhs4QI8uSXhVOjNAxNpTlR8kOUCqZWt9kWQxQEJg5dAiGzhAieDM/Le/OED8epjQN7Q2QIngzPy3vzhAlPsdigKFMkDFt9hkZnQ6QI8uSXhVOjNAaJHtfD8tKkDFt9hkZnQ6QJG4x9KHqjlAOaAnoqD+N0CU+x2KAoUyQIngzPy3vzhAuOnPfqQwNkDFt9hkZnQ6QGD1VBCZSTpAhU13sUOXOECqZWt9kWQxQEJg5dAiGzhAHwHJYR20PECqZWt9kWQxQL3GLlG9mzhA1y/YDdvWOkCFTXexQ5c4QEJg5dAiGzhAhU13sUOXOEBoke18Py0qQMTaU5UfJDlAuXVcPZU+OEDoINWdFCs3QJT7HYoChTJAqmVrfZFkMUBCYOXQIhs4QPx6mNA3tDZAieDM/Le/OECGcqJdhXQzQIVNd7FDlzhALlbUYBquMUCFTXexQ5c4QNcv2A3b1jpA1y/YDdvWOkD8epjQN7Q2QL3GLlG9mzhAxNpTlR8kOUDVLpPOrTE+QNUuk86tMT5AieDM/Le/OECqZWt9kWQxQCnQJ/Ik8TxAuXVcPZU+OEC46c9+pDA2QGD1VBCZSTpA1S6Tzq0xPkCGcqJdhXQzQJT7HYoChTJAsI9OXfmMNkDVLpPOrTE+QIVNd7FDlzhAlPsdigKFMkCJ2iPBQQAzQI8uSXhVOjNAxbfYZGZ0OkAuVtRgGq4xQIVNd7FDlzhA1y/YDdvWOkAuVtRgGq4xQLCPTl35jDZAkbjH0oeqOUAhyEEJM/U5QLjpz36kMDZAieDM/Le/OEAa+ie4WP0zQNUuk86tMT5AhnKiXYV0M0C46c9+pDA2QB8ByWEdtDxAsI9OXfmMNkC5dVw9lT44QInaI8FBADNAsI9OXfmMNkCqZWt9kWQxQLCPTl35jDZAxbfYZGZ0OkAfAclhHbQ8QJG4x9KHqjlAvcYuUb2bOEDVLpPOrTE+QJT7HYoChTJAvcYuUb2bOEDXL9gN29Y6QI8uSXhVOjNA6CDVnRQrN0Cwj05d+Yw2QLCPTl35jDZAidojwUEAM0CRuMfSh6o5QGD1VBCZSTpAqmVrfZFkMUC9xi5RvZs4QNUuk86tMT5AKdAn8iTxPECPLkl4VTozQAywj05dPTZAHwHJYR20PECJ4Mz8t784QPx6mNA3tDZAhU13sUOXOEDVLpPOrTE+QPBvicpgyDhAlPsdigKFMkAuVtRgGq4xQBr6J7hY/TNAIchBCTP1OUC9xi5RvZs4QIVNd7FDlzhAhnKiXYV0M0DFt9hkZnQ6QB8ByWEdtDxAuOnPfqQwNkCqZWt9kWQxQLl1XD2VPjhAGvonuFj9M0DE2lOVHyQ5QMTaU5UfJDlAKdAn8iTxPEC5dVw9lT44QNcv2A3b1jpAuOnPfqQwNkDVLpPOrTE+QI8uSXhVOjNAqmVrfZFkMUDwb4nKYMg4QDZZox6i8SlAHwHJYR20PEC5dVw9lT44QKpla32RZDFAxbfYZGZ0OkA5oCeioP43QB8ByWEdtDxAqmVrfZFkMUDwb4nKYMg4QNUuk86tMT5AqmVrfZFkMUCqZWt9kWQxQC5W1GAarjFAkbjH0oeqOUDVLpPOrTE+QAywj05dPTZAhU13sUOXOECGcqJdhXQzQIZyol2FdDNAjy5JeFU6M0AfAclhHbQ8QPBvicpgyDhAYPVUEJlJOkDFt9hkZnQ6QBr6J7hY/TNAOaAnoqD+N0DVLpPOrTE+QGiR7Xw/LSpAvcYuUb2bOECU+x2KAoUyQGiR7Xw/LSpAjy5JeFU6M0C46c9+pDA2QKpla32RZDFA/HqY0De0NkAp0CfyJPE8QI8uSXhVOjNA1S6Tzq0xPkAp0CfyJPE8QKpla32RZDFAHwHJYR20PEA5oCeioP43QPBvicpgyDhAlPsdigKFMkCGcqJdhXQzQIngzPy3vzhAIchBCTP1OUAp0CfyJPE8QEJg5dAiGzhAidojwUEAM0CGcqJdhXQzQL3GLlG9mzhAuXVcPZU+OECwj05d+Yw2QMW32GRmdDpAGvonuFj9M0BCYOXQIhs4QAywj05dPTZA/HqY0De0NkCqZWt9kWQxQKpla32RZDFAhnKiXYV0M0Ap0CfyJPE8QJT7HYoChTJAvcYuUb2bOEDwb4nKYMg4QMW32GRmdDpAsI9OXfmMNkAhyEEJM/U5QIVNd7FDlzhAxbfYZGZ0OkAMsI9OXT02QOgg1Z0UKzdA/HqY0De0NkC46c9+pDA2QI8uSXhVOjNA/HqY0De0NkCGcqJdhXQzQIVNd7FDlzhAlPsdigKFMkCJ2iPBQQAzQPx6mNA3tDZAxbfYZGZ0OkBg9VQQmUk6QAywj05dPTZAvcYuUb2bOEDoINWdFCs3QLjpz36kMDZAKdAn8iTxPEAMsI9OXT02QJT7HYoChTJAuOnPfqQwNkDwb4nKYMg4QLCPTl35jDZAuOnPfqQwNkA5oCeioP43QMW32GRmdDpAxNpTlR8kOUAuVtRgGq4xQI8uSXhVOjNA8G+JymDIOECqZWt9kWQxQB8ByWEdtDxAhnKiXYV0M0CJ2iPBQQAzQC5W1GAarjFAqmVrfZFkMUCJ4Mz8t784QLl1XD2VPjhAieDM/Le/OECqZWt9kWQxQCHIQQkz9TlANlmjHqLxKUD8epjQN7Q2QJT7HYoChTJAqmVrfZFkMUCqZWt9kWQxQPx6mNA3tDZAqmVrfZFkMUCJ2iPBQQAzQIVNd7FDlzhAGvonuFj9M0DXL9gN29Y6QLjpz36kMDZA1S6Tzq0xPkCU+x2KAoUyQNUuk86tMT5A1y/YDdvWOkAfAclhHbQ8QC5W1GAarjFAlPsdigKFMkC46c9+pDA2QIngzPy3vzhAGvonuFj9M0C46c9+pDA2QLjpz36kMDZAOaAnoqD+N0CGcqJdhXQzQKpla32RZDFAieDM/Le/OEC46c9+pDA2QIZyol2FdDNAhU13sUOXOECJ2iPBQQAzQLjpz36kMDZAQmDl0CIbOEDXL9gN29Y6QCHIQQkz9TlAsI9OXfmMNkCJ4Mz8t784QKpla32RZDFAGvonuFj9M0CJ2iPBQQAzQNcv2A3b1jpA8G+JymDIOEDVLpPOrTE+QNcv2A3b1jpA8G+JymDIOECPLkl4VTozQInaI8FBADNAHwHJYR20PEBoke18Py0qQLl1XD2VPjhAuOnPfqQwNkCPLkl4VTozQAywj05dPTZAhnKiXYV0M0CFTXexQ5c4QDmgJ6Kg/jdAOaAnoqD+N0DFt9hkZnQ6QCnQJ/Ik8TxAjy5JeFU6M0D8epjQN7Q2QIZyol2FdDNAhU13sUOXOEC9xi5RvZs4QInaI8FBADNAKdAn8iTxPECqZWt9kWQxQCnQJ/Ik8TxAuXVcPZU+OEAhyEEJM/U5QLCPTl35jDZAKdAn8iTxPEAfAclhHbQ8QIngzPy3vzhAieDM/Le/OEBoke18Py0qQIngzPy3vzhA6CDVnRQrN0C46c9+pDA2QL3GLlG9mzhAxNpTlR8kOUA5oCeioP43QIVNd7FDlzhAKdAn8iTxPEDE2lOVHyQ5QInaI8FBADNAhnKiXYV0M0CPLkl4VTozQB8ByWEdtDxAHwHJYR20PEDFt9hkZnQ6QDmgJ6Kg/jdALlbUYBquMUCJ2iPBQQAzQEJg5dAiGzhAlPsdigKFMkCJ4Mz8t784QB8ByWEdtDxAIchBCTP1OUCqZWt9kWQxQIngzPy3vzhAhU13sUOXOEDwb4nKYMg4QKpla32RZDFALlbUYBquMUDwb4nKYMg4QL3GLlG9mzhALlbUYBquMUAhyEEJM/U5QKpla32RZDFAYPVUEJlJOkCwj05d+Yw2QIngzPy3vzhAqmVrfZFkMUCU+x2KAoUyQLl1XD2VPjhAYPVUEJlJOkC9xi5RvZs4QI8uSXhVOjNA1S6Tzq0xPkAuVtRgGq4xQNcv2A3b1jpA8G+JymDIOEAhyEEJM/U5QLjpz36kMDZAuOnPfqQwNkAuVtRgGq4xQNcv2A3b1jpAIchBCTP1OUCqZWt9kWQxQDZZox6i8SlAaJHtfD8tKkAuVtRgGq4xQI8uSXhVOjNAhnKiXYV0M0C46c9+pDA2QDmgJ6Kg/jdAxbfYZGZ0OkCGcqJdhXQzQMW32GRmdDpAsI9OXfmMNkCwj05d+Yw2QIZyol2FdDNAuOnPfqQwNkBg9VQQmUk6QCHIQQkz9TlAOaAnoqD+N0C46c9+pDA2QL3GLlG9mzhAvcYuUb2bOEBoke18Py0qQAywj05dPTZA/HqY0De0NkCJ4Mz8t784QIVNd7FDlzhAuXVcPZU+OECJ2iPBQQAzQLjpz36kMDZAjy5JeFU6M0A5oCeioP43QNcv2A3b1jpAKdAn8iTxPEA2WaMeovEpQJT7HYoChTJAlPsdigKFMkCGcqJdhXQzQNUuk86tMT5AlPsdigKFMkDFt9hkZnQ6QJT7HYoChTJAqmVrfZFkMUDXL9gN29Y6QL3GLlG9mzhAIchBCTP1OUBg9VQQmUk6QPBvicpgyDhAhnKiXYV0M0CJ2iPBQQAzQDZZox6i8SlAQmDl0CIbOEC9xi5RvZs4QB8ByWEdtDxA1S6Tzq0xPkAuVtRgGq4xQPBvicpgyDhAhnKiXYV0M0Dwb4nKYMg4QMW32GRmdDpALlbUYBquMUC9xi5RvZs4QIngzPy3vzhALlbUYBquMUDXL9gN29Y6QI8uSXhVOjNAjy5JeFU6M0CPLkl4VTozQB8ByWEdtDxAlPsdigKFMkA2WaMeovEpQLjpz36kMDZALlbUYBquMUCPLkl4VTozQPx6mNA3tDZAieDM/Le/OEAuVtRgGq4xQIVNd7FDlzhAkbjH0oeqOUA5oCeioP43QLCPTl35jDZAxNpTlR8kOUAhyEEJM/U5QL3GLlG9mzhAqmVrfZFkMUBg9VQQmUk6QPx6mNA3tDZAvcYuUb2bOEAhyEEJM/U5QI8uSXhVOjNAaJHtfD8tKkA5oCeioP43QJT7HYoChTJAvcYuUb2bOECFTXexQ5c4QGiR7Xw/LSpA1y/YDdvWOkCGcqJdhXQzQB8ByWEdtDxAuXVcPZU+OEAp0CfyJPE8QLjpz36kMDZA1S6Tzq0xPkDFt9hkZnQ6QI8uSXhVOjNAhnKiXYV0M0C46c9+pDA2QOgg1Z0UKzdAxbfYZGZ0OkC5dVw9lT44QI8uSXhVOjNAaJHtfD8tKkDVLpPOrTE+QKpla32RZDFAxbfYZGZ0OkAa+ie4WP0zQI8uSXhVOjNAuOnPfqQwNkC5dVw9lT44QBr6J7hY/TNAYPVUEJlJOkAfAclhHbQ8QL3GLlG9mzhAhnKiXYV0M0A2WaMeovEpQC5W1GAarjFA1y/YDdvWOkC46c9+pDA2QLjpz36kMDZAGvonuFj9M0DE2lOVHyQ5QPx6mNA3tDZA6CDVnRQrN0DFt9hkZnQ6QOgg1Z0UKzdAsI9OXfmMNkAfAclhHbQ8QIVNd7FDlzhAuXVcPZU+OEDE2lOVHyQ5QJG4x9KHqjlAxbfYZGZ0OkDFt9hkZnQ6QIngzPy3vzhA6CDVnRQrN0Dwb4nKYMg4QMTaU5UfJDlALlbUYBquMUDFt9hkZnQ6QKpla32RZDFAQmDl0CIbOECU+x2KAoUyQEJg5dAiGzhAvcYuUb2bOEAuVtRgGq4xQI8uSXhVOjNA1y/YDdvWOkAuVtRgGq4xQKpla32RZDFADLCPTl09NkAMsI9OXT02QLjpz36kMDZAidojwUEAM0CRuMfSh6o5QKpla32RZDFALlbUYBquMUA2WaMeovEpQL3GLlG9mzhAaJHtfD8tKkDwb4nKYMg4QEJg5dAiGzhAuOnPfqQwNkCqZWt9kWQxQMW32GRmdDpAvcYuUb2bOECJ4Mz8t784QCnQJ/Ik8TxAQmDl0CIbOECRuMfSh6o5QKpla32RZDFALlbUYBquMUC5dVw9lT44QKpla32RZDFAxNpTlR8kOUCU+x2KAoUyQDmgJ6Kg/jdAqmVrfZFkMUA5oCeioP43QMW32GRmdDpAqmVrfZFkMUDE2lOVHyQ5QJG4x9KHqjlADLCPTl09NkDoINWdFCs3QCnQJ/Ik8TxANlmjHqLxKUDoINWdFCs3QMW32GRmdDpAKdAn8iTxPECFTXexQ5c4QKpla32RZDFAIchBCTP1OUCU+x2KAoUyQDZZox6i8SlAidojwUEAM0A2WaMeovEpQI8uSXhVOjNAsI9OXfmMNkCGcqJdhXQzQKpla32RZDFAIchBCTP1OUBoke18Py0qQCHIQQkz9TlALlbUYBquMUAa+ie4WP0zQCHIQQkz9TlA6CDVnRQrN0AuVtRgGq4xQCHIQQkz9TlAYPVUEJlJOkDXL9gN29Y6QGD1VBCZSTpAqmVrfZFkMUDFt9hkZnQ6QCnQJ/Ik8TxAieDM/Le/OECU+x2KAoUyQIZyol2FdDNAkbjH0oeqOUDXL9gN29Y6QDmgJ6Kg/jdAieDM/Le/OEAp0CfyJPE8QCnQJ/Ik8TxAQmDl0CIbOED8epjQN7Q2QJG4x9KHqjlAhnKiXYV0M0CJ4Mz8t784QLCPTl35jDZAYPVUEJlJOkCGcqJdhXQzQNcv2A3b1jpAjy5JeFU6M0CPLkl4VTozQGiR7Xw/LSpAhU13sUOXOEBoke18Py0qQInaI8FBADNAjy5JeFU6M0CFTXexQ5c4QLl1XD2VPjhAKdAn8iTxPECJ4Mz8t784QNUuk86tMT5Ajy5JeFU6M0C46c9+pDA2QL3GLlG9mzhA6CDVnRQrN0C46c9+pDA2QPBvicpgyDhAxbfYZGZ0OkCwj05d+Yw2QIVNd7FDlzhAxNpTlR8kOUAp0CfyJPE8QAywj05dPTZAuXVcPZU+OEAuVtRgGq4xQGiR7Xw/LSpADLCPTl09NkDoINWdFCs3QLjpz36kMDZAxNpTlR8kOUDFt9hkZnQ6QCnQJ/Ik8TxAYPVUEJlJOkAuVtRgGq4xQIZyol2FdDNAsI9OXfmMNkBoke18Py0qQMTaU5UfJDlAOaAnoqD+N0DVLpPOrTE+QLl1XD2VPjhAjy5JeFU6M0DVLpPOrTE+QPx6mNA3tDZAaJHtfD8tKkBg9VQQmUk6QLjpz36kMDZAhnKiXYV0M0C5dVw9lT44QMTaU5UfJDlAHwHJYR20PEDFt9hkZnQ6QDZZox6i8SlADLCPTl09NkCGcqJdhXQzQL3GLlG9mzhAYPVUEJlJOkC9xi5RvZs4QL3GLlG9mzhAqmVrfZFkMUCqZWt9kWQxQLCPTl35jDZAhnKiXYV0M0CFTXexQ5c4QLjpz36kMDZAxbfYZGZ0OkDXL9gN29Y6QInaI8FBADNAxNpTlR8kOUCRuMfSh6o5QLl1XD2VPjhAhnKiXYV0M0A2WaMeovEpQB8ByWEdtDxALlbUYBquMUC9xi5RvZs4QOgg1Z0UKzdAuOnPfqQwNkCJ2iPBQQAzQGD1VBCZSTpADLCPTl09NkAp0CfyJPE8QOgg1Z0UKzdAhU13sUOXOEDXL9gN29Y6QIZyol2FdDNAhU13sUOXOECqZWt9kWQxQC5W1GAarjFAhU13sUOXOEC9xi5RvZs4QGiR7Xw/LSpAqmVrfZFkMUDXL9gN29Y6QCHIQQkz9TlA6CDVnRQrN0AMsI9OXT02QLjpz36kMDZALlbUYBquMUAfAclhHbQ8QIZyol2FdDNA6CDVnRQrN0C5dVw9lT44QIVNd7FDlzhAvcYuUb2bOECRuMfSh6o5QKpla32RZDFAidojwUEAM0AuVtRgGq4xQJT7HYoChTJA1S6Tzq0xPkA2WaMeovEpQPBvicpgyDhAhnKiXYV0M0CqZWt9kWQxQIngzPy3vzhAQmDl0CIbOEC46c9+pDA2QNUuk86tMT5AxbfYZGZ0OkA5oCeioP43QPBvicpgyDhA1y/YDdvWOkCFTXexQ5c4QLjpz36kMDZAHwHJYR20PEC9xi5RvZs4QI8uSXhVOjNA8G+JymDIOECGcqJdhXQzQDmgJ6Kg/jdAieDM/Le/OEAhyEEJM/U5QI8uSXhVOjNAieDM/Le/OEDwb4nKYMg4QPBvicpgyDhAIchBCTP1OUD8epjQN7Q2QLjpz36kMDZADLCPTl09NkCRuMfSh6o5QNcv2A3b1jpAKdAn8iTxPEBCYOXQIhs4QIZyol2FdDNAaJHtfD8tKkCqZWt9kWQxQEJg5dAiGzhAHwHJYR20PEDwb4nKYMg4QLCPTl35jDZAaJHtfD8tKkAhyEEJM/U5QGD1VBCZSTpANlmjHqLxKUCqZWt9kWQxQMTaU5UfJDlAxbfYZGZ0OkCFTXexQ5c4QKpla32RZDFAIchBCTP1OUA2WaMeovEpQMW32GRmdDpAIchBCTP1OUCqZWt9kWQxQJG4x9KHqjlAxbfYZGZ0OkDFt9hkZnQ6QC5W1GAarjFA8G+JymDIOECwj05d+Yw2QC5W1GAarjFAIchBCTP1OUCPLkl4VTozQMW32GRmdDpAhU13sUOXOECGcqJdhXQzQI8uSXhVOjNAkbjH0oeqOUCwj05d+Yw2QIZyol2FdDNAQmDl0CIbOEBoke18Py0qQNcv2A3b1jpAOaAnoqD+N0CU+x2KAoUyQGiR7Xw/LSpAqmVrfZFkMUAp0CfyJPE8QPx6mNA3tDZAuXVcPZU+OEAhyEEJM/U5QCHIQQkz9TlAieDM/Le/OEDFt9hkZnQ6QB8ByWEdtDxAIchBCTP1OUC9xi5RvZs4QGD1VBCZSTpAaJHtfD8tKkAp0CfyJPE8QLjpz36kMDZAidojwUEAM0Cwj05d+Yw2QJT7HYoChTJADLCPTl09NkCPLkl4VTozQCHIQQkz9TlA1y/YDdvWOkC46c9+pDA2QB8ByWEdtDxAuXVcPZU+OEC46c9+pDA2QLjpz36kMDZAieDM/Le/OEBoke18Py0qQI8uSXhVOjNAhnKiXYV0M0DXL9gN29Y6QLl1XD2VPjhAlPsdigKFMkAa+ie4WP0zQI8uSXhVOjNAieDM/Le/OECFTXexQ5c4QLl1XD2VPjhAsI9OXfmMNkC9xi5RvZs4QB8ByWEdtDxAIchBCTP1OUAhyEEJM/U5QCHIQQkz9TlA8G+JymDIOEBoke18Py0qQDmgJ6Kg/jdAjy5JeFU6M0DVLpPOrTE+QPBvicpgyDhAIchBCTP1OUBoke18Py0qQJT7HYoChTJA6CDVnRQrN0AfAclhHbQ8QPx6mNA3tDZALlbUYBquMUCRuMfSh6o5QIVNd7FDlzhAkbjH0oeqOUDFt9hkZnQ6QL3GLlG9mzhADLCPTl09NkAuVtRgGq4xQIngzPy3vzhAxNpTlR8kOUDVLpPOrTE+QAywj05dPTZAxbfYZGZ0OkCRuMfSh6o5QIZyol2FdDNAIchBCTP1OUD8epjQN7Q2QBr6J7hY/TNAjy5JeFU6M0D8epjQN7Q2QMW32GRmdDpAxbfYZGZ0OkDVLpPOrTE+QCHIQQkz9TlAQmDl0CIbOEA5oCeioP43QAywj05dPTZALlbUYBquMUCJ4Mz8t784QGiR7Xw/LSpAuOnPfqQwNkDFt9hkZnQ6QCHIQQkz9TlAqmVrfZFkMUC9xi5RvZs4QKpla32RZDFAKdAn8iTxPEDwb4nKYMg4QNUuk86tMT5ALlbUYBquMUCqZWt9kWQxQDZZox6i8SlAqmVrfZFkMUA2WaMeovEpQNcv2A3b1jpAIchBCTP1OUAhyEEJM/U5QDZZox6i8SlAieDM/Le/OEAMsI9OXT02QCnQJ/Ik8TxAQmDl0CIbOECqZWt9kWQxQJT7HYoChTJAOaAnoqD+N0BCYOXQIhs4QIngzPy3vzhAkbjH0oeqOUAhyEEJM/U5QCHIQQkz9TlAhnKiXYV0M0CJ4Mz8t784QB8ByWEdtDxAqmVrfZFkMUCwj05d+Yw2QOgg1Z0UKzdAhU13sUOXOECJ4Mz8t784QLCPTl35jDZA8G+JymDIOECFTXexQ5c4QKpla32RZDFANlmjHqLxKUC46c9+pDA2QIngzPy3vzhAhnKiXYV0M0AuVtRgGq4xQGiR7Xw/LSpAhnKiXYV0M0CU+x2KAoUyQPx6mNA3tDZAvcYuUb2bOEAMsI9OXT02QCnQJ/Ik8TxADLCPTl09NkCJ2iPBQQAzQPBvicpgyDhAhU13sUOXOECJ2iPBQQAzQKpla32RZDFAvcYuUb2bOECGcqJdhXQzQIngzPy3vzhAaJHtfD8tKkCwj05d+Yw2QC5W1GAarjFAIchBCTP1OUDXL9gN29Y6QCHIQQkz9TlAuOnPfqQwNkBCYOXQIhs4QLl1XD2VPjhAqmVrfZFkMUAMsI9OXT02QCnQJ/Ik8TxA1S6Tzq0xPkCFTXexQ5c4QPx6mNA3tDZAkbjH0oeqOUAa+ie4WP0zQPBvicpgyDhAsI9OXfmMNkDVLpPOrTE+QPBvicpgyDhAkbjH0oeqOUC46c9+pDA2QNUuk86tMT5AhnKiXYV0M0Bg9VQQmUk6QDmgJ6Kg/jdADLCPTl09NkCJ2iPBQQAzQCnQJ/Ik8TxAqmVrfZFkMUC9xi5RvZs4QJT7HYoChTJAIchBCTP1OUA5oCeioP43QLjpz36kMDZAuOnPfqQwNkBg9VQQmUk6QPx6mNA3tDZALlbUYBquMUC46c9+pDA2QI8uSXhVOjNAjy5JeFU6M0C46c9+pDA2QC5W1GAarjFAsI9OXfmMNkCJ4Mz8t784QCnQJ/Ik8TxAuXVcPZU+OECJ4Mz8t784QI8uSXhVOjNAhnKiXYV0M0DE2lOVHyQ5QI8uSXhVOjNA8G+JymDIOEAhyEEJM/U5QI8uSXhVOjNAkbjH0oeqOUDVLpPOrTE+QI8uSXhVOjNA1S6Tzq0xPkBoke18Py0qQIZyol2FdDNAqmVrfZFkMUCPLkl4VTozQLCPTl35jDZAHwHJYR20PECqZWt9kWQxQCHIQQkz9TlAkbjH0oeqOUDXL9gN29Y6QLjpz36kMDZAhnKiXYV0M0DXL9gN29Y6QOgg1Z0UKzdAqmVrfZFkMUCqZWt9kWQxQMW32GRmdDpAxbfYZGZ0OkA2WaMeovEpQOgg1Z0UKzdAjy5JeFU6M0C46c9+pDA2QIVNd7FDlzhA8G+JymDIOEAp0CfyJPE8QPx6mNA3tDZAHwHJYR20PEC46c9+pDA2QPBvicpgyDhAqmVrfZFkMUC5dVw9lT44QAywj05dPTZAuOnPfqQwNkCJ2iPBQQAzQMW32GRmdDpAxNpTlR8kOUD8epjQN7Q2QNcv2A3b1jpANlmjHqLxKUDwb4nKYMg4QI8uSXhVOjNAKdAn8iTxPECGcqJdhXQzQJT7HYoChTJAuXVcPZU+OECJ4Mz8t784QNcv2A3b1jpAsI9OXfmMNkAa+ie4WP0zQB8ByWEdtDxAhU13sUOXOECGcqJdhXQzQLjpz36kMDZAhnKiXYV0M0Cwj05d+Yw2QCnQJ/Ik8TxA8G+JymDIOECPLkl4VTozQNcv2A3b1jpANlmjHqLxKUDE2lOVHyQ5QI8uSXhVOjNAQmDl0CIbOECJ4Mz8t784QInaI8FBADNAxbfYZGZ0OkAMsI9OXT02QInaI8FBADNA/HqY0De0NkAhyEEJM/U5QC5W1GAarjFAGvonuFj9M0CJ4Mz8t784QBr6J7hY/TNAvcYuUb2bOEA5oCeioP43QGiR7Xw/LSpA8G+JymDIOECJ2iPBQQAzQKpla32RZDFAhnKiXYV0M0CqZWt9kWQxQPBvicpgyDhAjy5JeFU6M0Boke18Py0qQGiR7Xw/LSpAsI9OXfmMNkAa+ie4WP0zQIVNd7FDlzhAYPVUEJlJOkDE2lOVHyQ5QKpla32RZDFAIchBCTP1OUAuVtRgGq4xQDmgJ6Kg/jdAhU13sUOXOECwj05d+Yw2QJT7HYoChTJALlbUYBquMUCPLkl4VTozQNcv2A3b1jpAuOnPfqQwNkDwb4nKYMg4QIVNd7FDlzhAjy5JeFU6M0DE2lOVHyQ5QLCPTl35jDZAYPVUEJlJOkCRuMfSh6o5QIngzPy3vzhA/HqY0De0NkDoINWdFCs3QNUuk86tMT5AuOnPfqQwNkC46c9+pDA2QLl1XD2VPjhA/HqY0De0NkAhyEEJM/U5QIVNd7FDlzhAHwHJYR20PEDFt9hkZnQ6QDZZox6i8SlAwf9WsmMfNUAuVtRgGq4xQAywj05dPTZA6CDVnRQrN0AuVtRgGq4xQAywj05dPTZA/HqY0De0NkBg9VQQmUk6QLl1XD2VPjhAidojwUEAM0DXL9gN29Y6QNUuk86tMT5AieDM/Le/OEAp0CfyJPE8QGiR7Xw/LSpAieDM/Le/OECU+x2KAoUyQL3GLlG9mzhA6CDVnRQrN0DVLpPOrTE+QLCPTl35jDZAlPsdigKFMkC46c9+pDA2QIZyol2FdDNAHwHJYR20PEAp0CfyJPE8QLl1XD2VPjhAIchBCTP1OUCGcqJdhXQzQAywj05dPTZAuOnPfqQwNkCU+x2KAoUyQGiR7Xw/LSpAsI9OXfmMNkDFt9hkZnQ6QIZyol2FdDNALlbUYBquMUDwb4nKYMg4QJT7HYoChTJAjy5JeFU6M0AMsI9OXT02QNcv2A3b1jpAxbfYZGZ0OkCJ4Mz8t784QLl1XD2VPjhA1y/YDdvWOkCqZWt9kWQxQMW32GRmdDpAHwHJYR20PEDFt9hkZnQ6QIVNd7FDlzhAxbfYZGZ0OkC9xi5RvZs4QGiR7Xw/LSpAlPsdigKFMkCJ4Mz8t784QKpla32RZDFAOaAnoqD+N0C46c9+pDA2QBr6J7hY/TNAuOnPfqQwNkCJ4Mz8t784QPBvicpgyDhAqmVrfZFkMUAhyEEJM/U5QMW32GRmdDpAkbjH0oeqOUDE2lOVHyQ5QLl1XD2VPjhA1y/YDdvWOkA2WaMeovEpQIngzPy3vzhAhnKiXYV0M0A2WaMeovEpQNcv2A3b1jpAkbjH0oeqOUCRuMfSh6o5QKpla32RZDFAieDM/Le/OEAuVtRgGq4xQMTaU5UfJDlAKdAn8iTxPECJ2iPBQQAzQC5W1GAarjFA1S6Tzq0xPkAp0CfyJPE8QC5W1GAarjFAsI9OXfmMNkA5oCeioP43QIVNd7FDlzhAhU13sUOXOECwj05d+Yw2QLl1XD2VPjhAlPsdigKFMkD8epjQN7Q2QJG4x9KHqjlANlmjHqLxKUCFTXexQ5c4QMW32GRmdDpAvcYuUb2bOECRuMfSh6o5QMW32GRmdDpANlmjHqLxKUCqZWt9kWQxQNUuk86tMT5AYPVUEJlJOkAa+ie4WP0zQPBvicpgyDhALlbUYBquMUC46c9+pDA2QC5W1GAarjFAYPVUEJlJOkCwj05d+Yw2QLl1XD2VPjhAqmVrfZFkMUC46c9+pDA2QNcv2A3b1jpAkbjH0oeqOUBg9VQQmUk6QDZZox6i8SlAidojwUEAM0Boke18Py0qQDmgJ6Kg/jdAHwHJYR20PECJ4Mz8t784QLCPTl35jDZAjy5JeFU6M0DFt9hkZnQ6QKpla32RZDFAYPVUEJlJOkCU+x2KAoUyQCHIQQkz9TlAhnKiXYV0M0AuVtRgGq4xQBr6J7hY/TNAaJHtfD8tKkBoke18Py0qQL3GLlG9mzhAuOnPfqQwNkCJ2iPBQQAzQCnQJ/Ik8TxAhU13sUOXOEAMsI9OXT02QPBvicpgyDhAuXVcPZU+OEDXL9gN29Y6QC5W1GAarjFAieDM/Le/OEC46c9+pDA2QMW32GRmdDpA1S6Tzq0xPkC46c9+pDA2QPBvicpgyDhAkbjH0oeqOUAp0CfyJPE8QGD1VBCZSTpAOaAnoqD+N0DFt9hkZnQ6QKpla32RZDFAYPVUEJlJOkCwj05d+Yw2QLjpz36kMDZAIchBCTP1OUAhyEEJM/U5QOgg1Z0UKzdAkbjH0oeqOUDoINWdFCs3QNcv2A3b1jpA1S6Tzq0xPkCqZWt9kWQxQMW32GRmdDpAQmDl0CIbOECJ4Mz8t784QC5W1GAarjFAieDM/Le/OEC5dVw9lT44QIngzPy3vzhA1y/YDdvWOkDXL9gN29Y6QCHIQQkz9TlAhnKiXYV0M0A5oCeioP43QPBvicpgyDhAIchBCTP1OUDFt9hkZnQ6QNUuk86tMT5AhnKiXYV0M0CPLkl4VTozQInaI8FBADNAlPsdigKFMkC46c9+pDA2QJT7HYoChTJAHwHJYR20PEDwb4nKYMg4QIngzPy3vzhAuXVcPZU+OEA5oCeioP43QLCPTl35jDZAHwHJYR20PEDVLpPOrTE+QJG4x9KHqjlA1S6Tzq0xPkC46c9+pDA2QNUuk86tMT5AidojwUEAM0Cwj05d+Yw2QOgg1Z0UKzdAKdAn8iTxPEAa+ie4WP0zQMTaU5UfJDlA6CDVnRQrN0D8epjQN7Q2QJT7HYoChTJA1S6Tzq0xPkAp0CfyJPE8QLCPTl35jDZAqmVrfZFkMUCqZWt9kWQxQAywj05dPTZADLCPTl09NkC46c9+pDA2QGiR7Xw/LSpAsI9OXfmMNkDoINWdFCs3QPx6mNA3tDZA1y/YDdvWOkCRuMfSh6o5QCnQJ/Ik8TxAhnKiXYV0M0AhyEEJM/U5QPBvicpgyDhALlbUYBquMUBg9VQQmUk6QMW32GRmdDpAlPsdigKFMkCJ4Mz8t784QI8uSXhVOjNA8G+JymDIOEDE2lOVHyQ5QPBvicpgyDhADLCPTl09NkBg9VQQmUk6QLjpz36kMDZAieDM/Le/OEAp0CfyJPE8QLjpz36kMDZA1y/YDdvWOkCwj05d+Yw2QNcv2A3b1jpANlmjHqLxKUCJ2iPBQQAzQIZyol2FdDNAIchBCTP1OUCFTXexQ5c4QDZZox6i8SlAuXVcPZU+OEA5oCeioP43QOgg1Z0UKzdA6CDVnRQrN0DVLpPOrTE+QLjpz36kMDZAhnKiXYV0M0C9xi5RvZs4QC5W1GAarjFA8G+JymDIOEDoINWdFCs3QOgg1Z0UKzdAGvonuFj9M0Aa+ie4WP0zQDmgJ6Kg/jdAqmVrfZFkMUC46c9+pDA2QLl1XD2VPjhAKdAn8iTxPED8epjQN7Q2QDZZox6i8SlAjy5JeFU6M0CGcqJdhXQzQDmgJ6Kg/jdA1S6Tzq0xPkCGcqJdhXQzQIVNd7FDlzhAsI9OXfmMNkCJ2iPBQQAzQCHIQQkz9TlA/HqY0De0NkAa+ie4WP0zQNUuk86tMT5AlPsdigKFMkCFTXexQ5c4QIngzPy3vzhA1S6Tzq0xPkC46c9+pDA2QI8uSXhVOjNAxNpTlR8kOUDwb4nKYMg4QC5W1GAarjFAhnKiXYV0M0Dwb4nKYMg4QMW32GRmdDpAuXVcPZU+OEAp0CfyJPE8QKpla32RZDFAKdAn8iTxPEDwb4nKYMg4QLjpz36kMDZAuOnPfqQwNkBCYOXQIhs4QPx6mNA3tDZA1S6Tzq0xPkBoke18Py0qQIZyol2FdDNAIchBCTP1OUDVLpPOrTE+QCnQJ/Ik8TxAlPsdigKFMkCPLkl4VTozQIVNd7FDlzhAhU13sUOXOECqZWt9kWQxQI8uSXhVOjNAqmVrfZFkMUBoke18Py0qQEJg5dAiGzhAsI9OXfmMNkD8epjQN7Q2QLCPTl35jDZAsI9OXfmMNkDoINWdFCs3QNUuk86tMT5A8G+JymDIOEBoke18Py0qQNcv2A3b1jpA1y/YDdvWOkCGcqJdhXQzQDZZox6i8SlAqmVrfZFkMUCGcqJdhXQzQLjpz36kMDZAieDM/Le/OECRuMfSh6o5QKpla32RZDFADLCPTl09NkC9xi5RvZs4QMTaU5UfJDlAuXVcPZU+OECwj05d+Yw2QLl1XD2VPjhAHwHJYR20PEBg9VQQmUk6QCHIQQkz9TlAKdAn8iTxPEDE2lOVHyQ5QIZyol2FdDNAaJHtfD8tKkCqZWt9kWQxQCHIQQkz9TlAidojwUEAM0Dwb4nKYMg4QNcv2A3b1jpALlbUYBquMUAhyEEJM/U5QC5W1GAarjFA8G+JymDIOEA2WaMeovEpQMW32GRmdDpAhnKiXYV0M0DXL9gN29Y6QMW32GRmdDpAGvonuFj9M0DVLpPOrTE+QLl1XD2VPjhAYPVUEJlJOkA2WaMeovEpQLCPTl35jDZAlPsdigKFMkA5oCeioP43QGiR7Xw/LSpAIchBCTP1OUBoke18Py0qQNUuk86tMT5Ajy5JeFU6M0DXL9gN29Y6QNUuk86tMT5AOaAnoqD+N0CRuMfSh6o5QJT7HYoChTJA/HqY0De0NkDVLpPOrTE+QL3GLlG9mzhAuXVcPZU+OECqZWt9kWQxQNUuk86tMT5AhU13sUOXOEBCYOXQIhs4QNcv2A3b1jpADLCPTl09NkCU+x2KAoUyQNcv2A3b1jpA1S6Tzq0xPkBoke18Py0qQNcv2A3b1jpALlbUYBquMUCJ2iPBQQAzQKpla32RZDFAvcYuUb2bOEDwb4nKYMg4QKpla32RZDFAhnKiXYV0M0A2WaMeovEpQPBvicpgyDhADLCPTl09NkDXL9gN29Y6QOgg1Z0UKzdA1y/YDdvWOkCGcqJdhXQzQKpla32RZDFANlmjHqLxKUDE2lOVHyQ5QEJg5dAiGzhAQmDl0CIbOEAMsI9OXT02QCnQJ/Ik8TxAieDM/Le/OEAuVtRgGq4xQNcv2A3b1jpAKdAn8iTxPEC5dVw9lT44QEJg5dAiGzhAqmVrfZFkMUCqZWt9kWQxQIVNd7FDlzhAKdAn8iTxPEAMsI9OXT02QJG4x9KHqjlAKdAn8iTxPEDFt9hkZnQ6QNUuk86tMT5AieDM/Le/OECPLkl4VTozQCnQJ/Ik8TxAHwHJYR20PEC9xi5RvZs4QGiR7Xw/LSpAIchBCTP1OUBg9VQQmUk6QMW32GRmdDpAuOnPfqQwNkDFt9hkZnQ6QNUuk86tMT5AqmVrfZFkMUBCYOXQIhs4QKpla32RZDFAKdAn8iTxPECPLkl4VTozQEJg5dAiGzhAuXVcPZU+OECU+x2KAoUyQPx6mNA3tDZAuXVcPZU+OEAfAclhHbQ8QLCPTl35jDZA6CDVnRQrN0Ap0CfyJPE8QGiR7Xw/LSpAaJHtfD8tKkCJ4Mz8t784QIVNd7FDlzhA8G+JymDIOEA5oCeioP43QC5W1GAarjFA8G+JymDIOECRuMfSh6o5QJG4x9KHqjlANlmjHqLxKUCFTXexQ5c4QC5W1GAarjFANlmjHqLxKUC46c9+pDA2QI8uSXhVOjNALlbUYBquMUBoke18Py0qQNUuk86tMT5AIchBCTP1OUCRuMfSh6o5QMTaU5UfJDlALlbUYBquMUCwj05d+Yw2QLjpz36kMDZAuXVcPZU+OEC46c9+pDA2QGD1VBCZSTpAhU13sUOXOECU+x2KAoUyQCnQJ/Ik8TxAjy5JeFU6M0DFt9hkZnQ6QJT7HYoChTJAqmVrfZFkMUAfAclhHbQ8QCnQJ/Ik8TxAaJHtfD8tKkCqZWt9kWQxQIZyol2FdDNAqmVrfZFkMUAfAclhHbQ8QNUuk86tMT5AOaAnoqD+N0CJ4Mz8t784QPBvicpgyDhAieDM/Le/OEAMsI9OXT02QGiR7Xw/LSpANlmjHqLxKUCU+x2KAoUyQDZZox6i8SlAQmDl0CIbOEAhyEEJM/U5QAywj05dPTZAvcYuUb2bOEC5dVw9lT44QLCPTl35jDZAuXVcPZU+OEDVLpPOrTE+QDZZox6i8SlA8G+JymDIOEDoINWdFCs3QCnQJ/Ik8TxA/HqY0De0NkAuVtRgGq4xQGD1VBCZSTpA1y/YDdvWOkC9xi5RvZs4QDmgJ6Kg/jdALlbUYBquMUC5dVw9lT44QIVNd7FDlzhAuOnPfqQwNkC46c9+pDA2QDmgJ6Kg/jdANlmjHqLxKUDwb4nKYMg4QCHIQQkz9TlAhU13sUOXOEBCYOXQIhs4QIngzPy3vzhAaJHtfD8tKkCJ2iPBQQAzQI8uSXhVOjNA8G+JymDIOECGcqJdhXQzQJG4x9KHqjlAjy5JeFU6M0Dwb4nKYMg4QLl1XD2VPjhAHwHJYR20PEDE2lOVHyQ5QLjpz36kMDZAhnKiXYV0M0C9xi5RvZs4QMW32GRmdDpAuOnPfqQwNkCJ4Mz8t784QI8uSXhVOjNALlbUYBquMUAhyEEJM/U5QInaI8FBADNAGvonuFj9M0C9xi5RvZs4QB8ByWEdtDxALlbUYBquMUD8epjQN7Q2QIngzPy3vzhAkbjH0oeqOUCwj05d+Yw2QNUuk86tMT5A6CDVnRQrN0A2WaMeovEpQIZyol2FdDNAhU13sUOXOECRuMfSh6o5QIVNd7FDlzhA6CDVnRQrN0DXL9gN29Y6QOgg1Z0UKzdAaJHtfD8tKkDXL9gN29Y6QCnQJ/Ik8TxAhnKiXYV0M0DVLpPOrTE+QNcv2A3b1jpAlPsdigKFMkC5dVw9lT44QNUuk86tMT5AsI9OXfmMNkDFt9hkZnQ6QNcv2A3b1jpAsI9OXfmMNkBg9VQQmUk6QLjpz36kMDZAhU13sUOXOECFTXexQ5c4QLjpz36kMDZA1S6Tzq0xPkCPLkl4VTozQB8ByWEdtDxALlbUYBquMUC46c9+pDA2QAywj05dPTZAhnKiXYV0M0DVLpPOrTE+QJT7HYoChTJAqmVrfZFkMUDVLpPOrTE+QKpla32RZDFAvcYuUb2bOEBoke18Py0qQDmgJ6Kg/jdA1S6Tzq0xPkDwb4nKYMg4QKpla32RZDFAaJHtfD8tKkC9xi5RvZs4QCnQJ/Ik8TxAIchBCTP1OUDwb4nKYMg4QLjpz36kMDZADLCPTl09NkAfAclhHbQ8QC5W1GAarjFAvcYuUb2bOEAfAclhHbQ8QC5W1GAarjFAxbfYZGZ0OkA2WaMeovEpQNcv2A3b1jpA1y/YDdvWOkAuVtRgGq4xQC5W1GAarjFAkbjH0oeqOUDFt9hkZnQ6QCnQJ/Ik8TxAkbjH0oeqOUCqZWt9kWQxQNcv2A3b1jpAieDM/Le/OEAhyEEJM/U5QKpla32RZDFANlmjHqLxKUDoINWdFCs3QIngzPy3vzhALlbUYBquMUC46c9+pDA2QIVNd7FDlzhAIchBCTP1OUCJ4Mz8t784QIVNd7FDlzhAhnKiXYV0M0CJ2iPBQQAzQJG4x9KHqjlAHwHJYR20PEAa+ie4WP0zQGD1VBCZSTpAieDM/Le/OECwj05d+Yw2QCnQJ/Ik8TxAjy5JeFU6M0DFt9hkZnQ6QMW32GRmdDpAvcYuUb2bOEDwb4nKYMg4QB8ByWEdtDxAOaAnoqD+N0CRuMfSh6o5QPBvicpgyDhAuOnPfqQwNkAuVtRgGq4xQDZZox6i8SlAuXVcPZU+OEDVLpPOrTE+QGiR7Xw/LSpAaJHtfD8tKkBoke18Py0qQL3GLlG9mzhAjy5JeFU6M0A2WaMeovEpQKpla32RZDFAaJHtfD8tKkDVLpPOrTE+QPx6mNA3tDZAKdAn8iTxPEC9xi5RvZs4QIngzPy3vzhAsI9OXfmMNkDoINWdFCs3QAywj05dPTZAHwHJYR20PEBCYOXQIhs4QNUuk86tMT5AxNpTlR8kOUC46c9+pDA2QLCPTl35jDZA1S6Tzq0xPkCPLkl4VTozQJG4x9KHqjlAidojwUEAM0DXL9gN29Y6QJG4x9KHqjlA1y/YDdvWOkAuVtRgGq4xQJT7HYoChTJAidojwUEAM0DXL9gN29Y6QMW32GRmdDpAsI9OXfmMNkCGcqJdhXQzQB8ByWEdtDxA1S6Tzq0xPkCwj05d+Yw2QKpla32RZDFA6CDVnRQrN0Ap0CfyJPE8QPx6mNA3tDZAieDM/Le/OECqZWt9kWQxQDmgJ6Kg/jdAaJHtfD8tKkC9xi5RvZs4QLl1XD2VPjhAaJHtfD8tKkDoINWdFCs3QIVNd7FDlzhAhU13sUOXOEC9xi5RvZs4QIZyol2FdDNAlPsdigKFMkDwb4nKYMg4QKpla32RZDFA1y/YDdvWOkC46c9+pDA2QL3GLlG9mzhA8G+JymDIOEDVLpPOrTE+QCnQJ/Ik8TxAOaAnoqD+N0Boke18Py0qQI8uSXhVOjNAhU13sUOXOEA5oCeioP43QIngzPy3vzhAxbfYZGZ0OkDwb4nKYMg4QOgg1Z0UKzdAQmDl0CIbOECwj05d+Yw2QNcv2A3b1jpAuXVcPZU+OECJ2iPBQQAzQLl1XD2VPjhAkbjH0oeqOUCFTXexQ5c4QKpla32RZDFAxbfYZGZ0OkDXL9gN29Y6QMW32GRmdDpAsI9OXfmMNkA2WaMeovEpQPBvicpgyDhAIchBCTP1OUAMsI9OXT02QGD1VBCZSTpAHwHJYR20PECPLkl4VTozQPx6mNA3tDZAhnKiXYV0M0AMsI9OXT02QCHIQQkz9TlAvcYuUb2bOECU+x2KAoUyQLCPTl35jDZA1y/YDdvWOkDXL9gN29Y6QPx6mNA3tDZAhU13sUOXOEDVLpPOrTE+QAywj05dPTZALlbUYBquMUDVLpPOrTE+QJG4x9KHqjlAuOnPfqQwNkAp0CfyJPE8QNcv2A3b1jpAuOnPfqQwNkDVLpPOrTE+QMW32GRmdDpAuOnPfqQwNkC46c9+pDA2QIVNd7FDlzhANlmjHqLxKUC46c9+pDA2QGiR7Xw/LSpAuOnPfqQwNkCqZWt9kWQxQJT7HYoChTJA1y/YDdvWOkCwj05d+Yw2QLCPTl35jDZAlPsdigKFMkDFt9hkZnQ6QEJg5dAiGzhAaJHtfD8tKkCPLkl4VTozQDZZox6i8SlAkbjH0oeqOUCqZWt9kWQxQNUuk86tMT5AhU13sUOXOECqZWt9kWQxQL3GLlG9mzhAhnKiXYV0M0A5oCeioP43QCHIQQkz9TlAlPsdigKFMkDVLpPOrTE+QJT7HYoChTJAaJHtfD8tKkAp0CfyJPE8QDmgJ6Kg/jdA8G+JymDIOEBCYOXQIhs4QIZyol2FdDNAhnKiXYV0M0AMsI9OXT02QLjpz36kMDZAIchBCTP1OUAa+ie4WP0zQGiR7Xw/LSpA6CDVnRQrN0CqZWt9kWQxQCHIQQkz9TlAjy5JeFU6M0CqZWt9kWQxQIZyol2FdDNAidojwUEAM0C9xi5RvZs4QAywj05dPTZA1y/YDdvWOkCGcqJdhXQzQL3GLlG9mzhAuOnPfqQwNkCqZWt9kWQxQLl1XD2VPjhA8G+JymDIOEC46c9+pDA2QC5W1GAarjFA8G+JymDIOEC9xi5RvZs4QMTaU5UfJDlAjy5JeFU6M0CFTXexQ5c4QCHIQQkz9TlAvcYuUb2bOECJ2iPBQQAzQNUuk86tMT5AhU13sUOXOEDFt9hkZnQ6QIngzPy3vzhAieDM/Le/OEA2WaMeovEpQC5W1GAarjFAOaAnoqD+N0Boke18Py0qQGD1VBCZSTpAidojwUEAM0DoINWdFCs3QLl1XD2VPjhAieDM/Le/OECwj05d+Yw2QLCPTl35jDZA1S6Tzq0xPkDVLpPOrTE+QBr6J7hY/TNAuOnPfqQwNkCU+x2KAoUyQIVNd7FDlzhAjy5JeFU6M0Ap0CfyJPE8QC5W1GAarjFAsI9OXfmMNkC46c9+pDA2QPBvicpgyDhAOaAnoqD+N0DFt9hkZnQ6QPx6mNA3tDZAHwHJYR20PED8epjQN7Q2QJT7HYoChTJA1y/YDdvWOkCU+x2KAoUyQGiR7Xw/LSpAhU13sUOXOEBoke18Py0qQPx6mNA3tDZAxbfYZGZ0OkCqZWt9kWQxQIVNd7FDlzhA1S6Tzq0xPkCwj05d+Yw2QIngzPy3vzhA1S6Tzq0xPkBoke18Py0qQJT7HYoChTJAaJHtfD8tKkCRuMfSh6o5QNUuk86tMT5AqmVrfZFkMUC9xi5RvZs4QKpla32RZDFAGvonuFj9M0CU+x2KAoUyQCnQJ/Ik8TxAkbjH0oeqOUCPLkl4VTozQPBvicpgyDhAidojwUEAM0CGcqJdhXQzQKpla32RZDFAGvonuFj9M0DVLpPOrTE+QKpla32RZDFA8G+JymDIOEA2WaMeovEpQGD1VBCZSTpAqmVrfZFkMUAMsI9OXT02QL3GLlG9mzhAhU13sUOXOEC9xi5RvZs4QAywj05dPTZAaJHtfD8tKkDVLpPOrTE+QCHIQQkz9TlAKdAn8iTxPEDoINWdFCs3QC5W1GAarjFA1y/YDdvWOkC9xi5RvZs4QDmgJ6Kg/jdA8G+JymDIOEAfAclhHbQ8QDZZox6i8SlAsI9OXfmMNkAp0CfyJPE8QLjpz36kMDZA1S6Tzq0xPkDoINWdFCs3QOgg1Z0UKzdAIchBCTP1OUDXL9gN29Y6QPBvicpgyDhAxNpTlR8kOUCGcqJdhXQzQMW32GRmdDpA8G+JymDIOEAMsI9OXT02QMW32GRmdDpAuXVcPZU+OECGcqJdhXQzQNUuk86tMT5AvcYuUb2bOEAuVtRgGq4xQDmgJ6Kg/jdAidojwUEAM0CqZWt9kWQxQKpla32RZDFAieDM/Le/OECFTXexQ5c4QIZyol2FdDNAidojwUEAM0CGcqJdhXQzQNUuk86tMT5AQmDl0CIbOEDFt9hkZnQ6QIVNd7FDlzhAhU13sUOXOEC46c9+pDA2QC5W1GAarjFAuOnPfqQwNkCGcqJdhXQzQI8uSXhVOjNALlbUYBquMUCqZWt9kWQxQIngzPy3vzhAaJHtfD8tKkD8epjQN7Q2QPx6mNA3tDZANlmjHqLxKUCqZWt9kWQxQMTaU5UfJDlA/HqY0De0NkCJ2iPBQQAzQLjpz36kMDZAieDM/Le/OEAp0CfyJPE8QC5W1GAarjFAqmVrfZFkMUCU+x2KAoUyQNUuk86tMT5AlPsdigKFMkDwb4nKYMg4QCnQJ/Ik8TxA/HqY0De0NkCwj05d+Yw2QEJg5dAiGzhAhU13sUOXOECFTXexQ5c4QLjpz36kMDZAidojwUEAM0CqZWt9kWQxQNUuk86tMT5ANlmjHqLxKUC5dVw9lT44QCnQJ/Ik8TxA1y/YDdvWOkBoke18Py0qQIngzPy3vzhA1y/YDdvWOkC46c9+pDA2QCHIQQkz9TlAGvonuFj9M0AMsI9OXT02QC5W1GAarjFAhU13sUOXOECJ4Mz8t784QMW32GRmdDpAlPsdigKFMkD8epjQN7Q2QNcv2A3b1jpAhU13sUOXOEBg9VQQmUk6QPx6mNA3tDZAieDM/Le/OEBoke18Py0qQGD1VBCZSTpAjy5JeFU6M0Ap0CfyJPE8QLjpz36kMDZAjy5JeFU6M0DB/1ayYx81QIZyol2FdDNAuXVcPZU+OECGcqJdhXQzQNcv2A3b1jpA6CDVnRQrN0BCYOXQIhs4QPBvicpgyDhAhU13sUOXOEDFt9hkZnQ6QInaI8FBADNAidojwUEAM0DVLpPOrTE+QInaI8FBADNAGvonuFj9M0CGcqJdhXQzQJT7HYoChTJAHwHJYR20PEC46c9+pDA2QOgg1Z0UKzdA1y/YDdvWOkCRuMfSh6o5QLjpz36kMDZAieDM/Le/OECU+x2KAoUyQI8uSXhVOjNAieDM/Le/OECPLkl4VTozQNcv2A3b1jpAHwHJYR20PEDXL9gN29Y6QIngzPy3vzhAOaAnoqD+N0CFTXexQ5c4QIVNd7FDlzhAieDM/Le/OEDwb4nKYMg4QLCPTl35jDZAaJHtfD8tKkC5dVw9lT44QLl1XD2VPjhAQmDl0CIbOEA2WaMeovEpQJG4x9KHqjlAKdAn8iTxPECJ4Mz8t784QPx6mNA3tDZAhnKiXYV0M0C5dVw9lT44QOgg1Z0UKzdA1S6Tzq0xPkC46c9+pDA2QGiR7Xw/LSpA1y/YDdvWOkA5oCeioP43QBr6J7hY/TNAxNpTlR8kOUDwb4nKYMg4QC5W1GAarjFAidojwUEAM0AMsI9OXT02QGiR7Xw/LSpAxbfYZGZ0OkDFt9hkZnQ6QEJg5dAiGzhA1S6Tzq0xPkCJ4Mz8t784QCnQJ/Ik8TxAuOnPfqQwNkC9xi5RvZs4QI8uSXhVOjNA8G+JymDIOECJ2iPBQQAzQI8uSXhVOjNA1S6Tzq0xPkAfAclhHbQ8QMW32GRmdDpAjy5JeFU6M0C46c9+pDA2QCnQJ/Ik8TxA6CDVnRQrN0AfAclhHbQ8QC5W1GAarjFAkbjH0oeqOUDE2lOVHyQ5QBr6J7hY/TNAlPsdigKFMkCqZWt9kWQxQC5W1GAarjFAvcYuUb2bOEDwb4nKYMg4QC5W1GAarjFAsI9OXfmMNkC46c9+pDA2QNUuk86tMT5AGvonuFj9M0BCYOXQIhs4QIVNd7FDlzhAxNpTlR8kOUCFTXexQ5c4QDmgJ6Kg/jdADLCPTl09NkDFt9hkZnQ6QMTaU5UfJDlA8G+JymDIOED8epjQN7Q2QInaI8FBADNAhnKiXYV0M0C5dVw9lT44QCnQJ/Ik8TxAxbfYZGZ0OkDwb4nKYMg4QIZyol2FdDNA1S6Tzq0xPkCqZWt9kWQxQMW32GRmdDpAjy5JeFU6M0Cwj05d+Yw2QGiR7Xw/LSpAhnKiXYV0M0DFt9hkZnQ6QMW32GRmdDpAjy5JeFU6M0DXL9gN29Y6QNcv2A3b1jpA8G+JymDIOED8epjQN7Q2QJT7HYoChTJAuXVcPZU+OEDXL9gN29Y6QPx6mNA3tDZA/HqY0De0NkCGcqJdhXQzQLl1XD2VPjhAaJHtfD8tKkCRuMfSh6o5QC5W1GAarjFAuOnPfqQwNkCGcqJdhXQzQDmgJ6Kg/jdADLCPTl09NkC9xi5RvZs4QNcv2A3b1jpAIchBCTP1OUDVLpPOrTE+QLjpz36kMDZAuOnPfqQwNkCU+x2KAoUyQAywj05dPTZAIchBCTP1OUAhyEEJM/U5QOgg1Z0UKzdAKdAn8iTxPEDE2lOVHyQ5QB8ByWEdtDxA1S6Tzq0xPkDwb4nKYMg4QInaI8FBADNAieDM/Le/OECRuMfSh6o5QJT7HYoChTJAvcYuUb2bOECGcqJdhXQzQIngzPy3vzhAxbfYZGZ0OkCFTXexQ5c4QLjpz36kMDZAKdAn8iTxPECqZWt9kWQxQAywj05dPTZAOaAnoqD+N0DE2lOVHyQ5QB8ByWEdtDxADLCPTl09NkCGcqJdhXQzQIZyol2FdDNAhU13sUOXOEDFt9hkZnQ6QOgg1Z0UKzdANlmjHqLxKUCqZWt9kWQxQEJg5dAiGzhAKdAn8iTxPECRuMfSh6o5QOgg1Z0UKzdAsI9OXfmMNkDVLpPOrTE+QLl1XD2VPjhA/HqY0De0NkDE2lOVHyQ5QBr6J7hY/TNAuOnPfqQwNkCPLkl4VTozQIngzPy3vzhAGvonuFj9M0CPLkl4VTozQLjpz36kMDZA1S6Tzq0xPkCJ4Mz8t784QC5W1GAarjFALlbUYBquMUAa+ie4WP0zQJG4x9KHqjlAjy5JeFU6M0DXL9gN29Y6QIngzPy3vzhANlmjHqLxKUAa+ie4WP0zQI8uSXhVOjNAuXVcPZU+OEDwb4nKYMg4QJG4x9KHqjlAIchBCTP1OUAa+ie4WP0zQKpla32RZDFAQmDl0CIbOEA2WaMeovEpQGiR7Xw/LSpAKdAn8iTxPEDVLpPOrTE+QEJg5dAiGzhA1S6Tzq0xPkCJ2iPBQQAzQIZyol2FdDNAuOnPfqQwNkD8epjQN7Q2QPBvicpgyDhAhU13sUOXOEBg9VQQmUk6QLCPTl35jDZAsI9OXfmMNkAa+ie4WP0zQMW32GRmdDpANlmjHqLxKUCJ4Mz8t784QLl1XD2VPjhAkbjH0oeqOUA5oCeioP43QI8uSXhVOjNAlPsdigKFMkDoINWdFCs3QI8uSXhVOjNAjy5JeFU6M0A5oCeioP43QJT7HYoChTJAHwHJYR20PECqZWt9kWQxQCHIQQkz9TlA1S6Tzq0xPkD8epjQN7Q2QIngzPy3vzhAaJHtfD8tKkCwj05d+Yw2QMW32GRmdDpAieDM/Le/OEC46c9+pDA2QAywj05dPTZAuOnPfqQwNkA2WaMeovEpQDZZox6i8SlAGvonuFj9M0CFTXexQ5c4QDZZox6i8SlAqmVrfZFkMUDXL9gN29Y6QIZyol2FdDNAsI9OXfmMNkCJ2iPBQQAzQB8ByWEdtDxAhnKiXYV0M0DXL9gN29Y6QLjpz36kMDZA/HqY0De0NkCU+x2KAoUyQLCPTl35jDZAsI9OXfmMNkC5dVw9lT44QCnQJ/Ik8TxAuOnPfqQwNkC5dVw9lT44QJT7HYoChTJAxNpTlR8kOUDVLpPOrTE+QIVNd7FDlzhA1y/YDdvWOkCGcqJdhXQzQInaI8FBADNA6CDVnRQrN0CJ4Mz8t784QGiR7Xw/LSpAuXVcPZU+OEA2WaMeovEpQInaI8FBADNA/HqY0De0NkAp0CfyJPE8QJG4x9KHqjlAvcYuUb2bOEDwb4nKYMg4QMTaU5UfJDlAuXVcPZU+OEDwb4nKYMg4QDZZox6i8SlA/HqY0De0NkDXL9gN29Y6QDmgJ6Kg/jdAqmVrfZFkMUAfAclhHbQ8QGiR7Xw/LSpAlPsdigKFMkCFTXexQ5c4QLCPTl35jDZAieDM/Le/OEDXL9gN29Y6QDZZox6i8SlAidojwUEAM0D8epjQN7Q2QPBvicpgyDhAKdAn8iTxPECGcqJdhXQzQBr6J7hY/TNANlmjHqLxKUCGcqJdhXQzQCnQJ/Ik8TxANlmjHqLxKUCwj05d+Yw2QDmgJ6Kg/jdAqmVrfZFkMUC9xi5RvZs4QEJg5dAiGzhA1S6Tzq0xPkA5oCeioP43QKpla32RZDFAsI9OXfmMNkA5oCeioP43QDmgJ6Kg/jdAKdAn8iTxPEAhyEEJM/U5QMW32GRmdDpAuOnPfqQwNkC5dVw9lT44QLl1XD2VPjhA6CDVnRQrN0DE2lOVHyQ5QLjpz36kMDZAHwHJYR20PEC46c9+pDA2QC5W1GAarjFAqmVrfZFkMUBg9VQQmUk6QLjpz36kMDZAqmVrfZFkMUCPLkl4VTozQNUuk86tMT5AhU13sUOXOED8epjQN7Q2QKpla32RZDFA/HqY0De0NkCGcqJdhXQzQLjpz36kMDZAieDM/Le/OECqZWt9kWQxQPBvicpgyDhAvcYuUb2bOED8epjQN7Q2QPBvicpgyDhA6CDVnRQrN0CRuMfSh6o5QIVNd7FDlzhAxbfYZGZ0OkDFt9hkZnQ6QGiR7Xw/LSpAieDM/Le/OEDFt9hkZnQ6QL3GLlG9mzhAhU13sUOXOECqZWt9kWQxQPx6mNA3tDZAxbfYZGZ0OkDXL9gN29Y6QCHIQQkz9TlAKdAn8iTxPEC9xi5RvZs4QJG4x9KHqjlAqmVrfZFkMUA2WaMeovEpQI8uSXhVOjNAxbfYZGZ0OkCRuMfSh6o5QC5W1GAarjFALlbUYBquMUCwj05d+Yw2QBr6J7hY/TNA6CDVnRQrN0C9xi5RvZs4QKpla32RZDFAjy5JeFU6M0Boke18Py0qQPx6mNA3tDZAidojwUEAM0BCYOXQIhs4QDZZox6i8SlAvcYuUb2bOEDE2lOVHyQ5QMW32GRmdDpA1S6Tzq0xPkCJ2iPBQQAzQNUuk86tMT5AuOnPfqQwNkC9xi5RvZs4QPBvicpgyDhAieDM/Le/OEDwb4nKYMg4QKpla32RZDFAqmVrfZFkMUC46c9+pDA2QIngzPy3vzhAxbfYZGZ0OkDVLpPOrTE+QBr6J7hY/TNAxNpTlR8kOUCFTXexQ5c4QIVNd7FDlzhAaJHtfD8tKkAp0CfyJPE8QIZyol2FdDNAsI9OXfmMNkCPLkl4VTozQGD1VBCZSTpAkbjH0oeqOUAMsI9OXT02QNcv2A3b1jpAjy5JeFU6M0Aa+ie4WP0zQPx6mNA3tDZAjy5JeFU6M0CGcqJdhXQzQLjpz36kMDZA1S6Tzq0xPkDFt9hkZnQ6QLjpz36kMDZAuXVcPZU+OECqZWt9kWQxQLCPTl35jDZAxbfYZGZ0OkAMsI9OXT02QGiR7Xw/LSpAxNpTlR8kOUA2WaMeovEpQLCPTl35jDZALlbUYBquMUAfAclhHbQ8QB8ByWEdtDxAuOnPfqQwNkCqZWt9kWQxQCnQJ/Ik8TxAKdAn8iTxPECRuMfSh6o5QOgg1Z0UKzdANlmjHqLxKUAuVtRgGq4xQCnQJ/Ik8TxA/HqY0De0NkA2WaMeovEpQKpla32RZDFAvcYuUb2bOEAp0CfyJPE8QIVNd7FDlzhANlmjHqLxKUCFTXexQ5c4QDZZox6i8SlAqmVrfZFkMUCJ4Mz8t784QIngzPy3vzhA1y/YDdvWOkAuVtRgGq4xQIZyol2FdDNAlPsdigKFMkCPLkl4VTozQOgg1Z0UKzdAxbfYZGZ0OkBoke18Py0qQKpla32RZDFAKdAn8iTxPEDVLpPOrTE+QBr6J7hY/TNAuOnPfqQwNkA2WaMeovEpQIngzPy3vzhA1y/YDdvWOkAuVtRgGq4xQI8uSXhVOjNA1y/YDdvWOkCJ4Mz8t784QEJg5dAiGzhAsI9OXfmMNkA2WaMeovEpQPx6mNA3tDZALlbUYBquMUAfAclhHbQ8QJT7HYoChTJAhU13sUOXOEC46c9+pDA2QIVNd7FDlzhAqmVrfZFkMUCGcqJdhXQzQOgg1Z0UKzdAhnKiXYV0M0DFt9hkZnQ6QI8uSXhVOjNA1S6Tzq0xPkAhyEEJM/U5QPx6mNA3tDZA8G+JymDIOECGcqJdhXQzQDZZox6i8SlAkbjH0oeqOUD8epjQN7Q2QLjpz36kMDZAIchBCTP1OUAhyEEJM/U5QMW32GRmdDpA6CDVnRQrN0CGcqJdhXQzQGiR7Xw/LSpAuXVcPZU+OEAp0CfyJPE8QNUuk86tMT5AQmDl0CIbOECqZWt9kWQxQLjpz36kMDZALlbUYBquMUCJ2iPBQQAzQLjpz36kMDZAsI9OXfmMNkCJ4Mz8t784QIZyol2FdDNAYPVUEJlJOkBg9VQQmUk6QLjpz36kMDZAieDM/Le/OECPLkl4VTozQI8uSXhVOjNAuOnPfqQwNkAfAclhHbQ8QLl1XD2VPjhAsI9OXfmMNkDE2lOVHyQ5QInaI8FBADNA1S6Tzq0xPkCFTXexQ5c4QI8uSXhVOjNAKdAn8iTxPEAuVtRgGq4xQLjpz36kMDZAjy5JeFU6M0CU+x2KAoUyQI8uSXhVOjNAGvonuFj9M0Cwj05d+Yw2QLCPTl35jDZAuOnPfqQwNkC9xi5RvZs4QNcv2A3b1jpAhU13sUOXOEAfAclhHbQ8QI8uSXhVOjNAieDM/Le/OEC9xi5RvZs4QDmgJ6Kg/jdAIchBCTP1OUCFTXexQ5c4QDmgJ6Kg/jdAxbfYZGZ0OkDwb4nKYMg4QPBvicpgyDhAhnKiXYV0M0Aa+ie4WP0zQLjpz36kMDZA1y/YDdvWOkDE2lOVHyQ5QOgg1Z0UKzdA8G+JymDIOECwj05d+Yw2QLjpz36kMDZA1y/YDdvWOkCGcqJdhXQzQLjpz36kMDZADLCPTl09NkCFTXexQ5c4QLCPTl35jDZAjy5JeFU6M0C9xi5RvZs4QCnQJ/Ik8TxAGvonuFj9M0CqZWt9kWQxQNcv2A3b1jpAidojwUEAM0DXL9gN29Y6QPx6mNA3tDZA1y/YDdvWOkC46c9+pDA2QIZyol2FdDNALlbUYBquMUDVLpPOrTE+QL3GLlG9mzhAIchBCTP1OUAfAclhHbQ8QOgg1Z0UKzdAxNpTlR8kOUC5dVw9lT44QNUuk86tMT5AKdAn8iTxPECqZWt9kWQxQDZZox6i8SlALlbUYBquMUBg9VQQmUk6QPx6mNA3tDZAhnKiXYV0M0D8epjQN7Q2QNcv2A3b1jpADLCPTl09NkDwb4nKYMg4QCHIQQkz9TlAxNpTlR8kOUAfAclhHbQ8QPBvicpgyDhAhU13sUOXOECRuMfSh6o5QPBvicpgyDhAxbfYZGZ0OkCqZWt9kWQxQPx6mNA3tDZADLCPTl09NkAfAclhHbQ8QJT7HYoChTJADLCPTl09NkBCYOXQIhs4QI8uSXhVOjNAxNpTlR8kOUCRuMfSh6o5QBr6J7hY/TNANlmjHqLxKUDoINWdFCs3QIngzPy3vzhAhU13sUOXOECqZWt9kWQxQBr6J7hY/TNAxNpTlR8kOUCU+x2KAoUyQDZZox6i8SlAuXVcPZU+OECJ4Mz8t784QInaI8FBADNAjy5JeFU6M0DFt9hkZnQ6QB8ByWEdtDxAkbjH0oeqOUC9xi5RvZs4QI8uSXhVOjNANlmjHqLxKUAuVtRgGq4xQJT7HYoChTJAuXVcPZU+OEC9xi5RvZs4QCHIQQkz9TlAQmDl0CIbOEAp0CfyJPE8QInaI8FBADNAOaAnoqD+N0C46c9+pDA2QIVNd7FDlzhALlbUYBquMUCGcqJdhXQzQPBvicpgyDhA1y/YDdvWOkCJ2iPBQQAzQB8ByWEdtDxAIchBCTP1OUC9xi5RvZs4QCnQJ/Ik8TxAaJHtfD8tKkCPLkl4VTozQDZZox6i8SlA6CDVnRQrN0AuVtRgGq4xQI8uSXhVOjNAqmVrfZFkMUD8epjQN7Q2QDZZox6i8SlAhnKiXYV0M0C5dVw9lT44QKpla32RZDFAqmVrfZFkMUCFTXexQ5c4QNcv2A3b1jpA1y/YDdvWOkAuVtRgGq4xQLjpz36kMDZAvcYuUb2bOEC46c9+pDA2QMW32GRmdDpAuXVcPZU+OECJ2iPBQQAzQMW32GRmdDpAuOnPfqQwNkCwj05d+Yw2QKpla32RZDFAIchBCTP1OUDVLpPOrTE+QIVNd7FDlzhAlPsdigKFMkAfAclhHbQ8QInaI8FBADNAhnKiXYV0M0CPLkl4VTozQI8uSXhVOjNAhU13sUOXOECwj05d+Yw2QKpla32RZDFAqmVrfZFkMUC46c9+pDA2QGD1VBCZSTpAhnKiXYV0M0DoINWdFCs3QAywj05dPTZADLCPTl09NkBoke18Py0qQIVNd7FDlzhAjy5JeFU6M0DVLpPOrTE+QPBvicpgyDhAjy5JeFU6M0C5dVw9lT44QLjpz36kMDZAxbfYZGZ0OkC46c9+pDA2QAywj05dPTZAvcYuUb2bOEDFt9hkZnQ6QDmgJ6Kg/jdAxbfYZGZ0OkDFt9hkZnQ6QPBvicpgyDhA1y/YDdvWOkDFt9hkZnQ6QLl1XD2VPjhAidojwUEAM0CFTXexQ5c4QCHIQQkz9TlAuOnPfqQwNkAuVtRgGq4xQNcv2A3b1jpAidojwUEAM0CRuMfSh6o5QLjpz36kMDZAQmDl0CIbOECGcqJdhXQzQNUuk86tMT5ALlbUYBquMUC46c9+pDA2QNcv2A3b1jpADLCPTl09NkCqZWt9kWQxQGiR7Xw/LSpADLCPTl09NkDE2lOVHyQ5QLCPTl35jDZAsI9OXfmMNkDwb4nKYMg4QCHIQQkz9TlALlbUYBquMUCPLkl4VTozQIVNd7FDlzhAxbfYZGZ0OkCwj05d+Yw2QKpla32RZDFA6CDVnRQrN0Ap0CfyJPE8QGiR7Xw/LSpA8G+JymDIOEAuVtRgGq4xQOgg1Z0UKzdAxbfYZGZ0OkC5dVw9lT44QLCPTl35jDZAxbfYZGZ0OkCJ4Mz8t784QEJg5dAiGzhAkbjH0oeqOUAuVtRgGq4xQDZZox6i8SlA1S6Tzq0xPkAhyEEJM/U5QCnQJ/Ik8TxAvcYuUb2bOEDoINWdFCs3QNUuk86tMT5AsI9OXfmMNkCJ2iPBQQAzQJT7HYoChTJAQmDl0CIbOEDVLpPOrTE+QDZZox6i8SlAKdAn8iTxPECFTXexQ5c4QBr6J7hY/TNAhU13sUOXOECFTXexQ5c4QIVNd7FDlzhAhU13sUOXOEC46c9+pDA2QOgg1Z0UKzdA8G+JymDIOECqZWt9kWQxQIVNd7FDlzhA1S6Tzq0xPkAMsI9OXT02QLjpz36kMDZA6CDVnRQrN0DVLpPOrTE+QDmgJ6Kg/jdAuOnPfqQwNkDFt9hkZnQ6QEJg5dAiGzhAjy5JeFU6M0CRuMfSh6o5QCnQJ/Ik8TxA8G+JymDIOECJ4Mz8t784QIVNd7FDlzhAuOnPfqQwNkCwj05d+Yw2QGiR7Xw/LSpAjy5JeFU6M0CFTXexQ5c4QAywj05dPTZAuOnPfqQwNkBCYOXQIhs4QMW32GRmdDpAxbfYZGZ0OkC9xi5RvZs4QIngzPy3vzhA6CDVnRQrN0C46c9+pDA2QC5W1GAarjFAlPsdigKFMkCqZWt9kWQxQIZyol2FdDNAieDM/Le/OEAuVtRgGq4xQLjpz36kMDZAuOnPfqQwNkBCYOXQIhs4QGD1VBCZSTpANlmjHqLxKUDoINWdFCs3QI8uSXhVOjNA8G+JymDIOEAfAclhHbQ8QGiR7Xw/LSpA1S6Tzq0xPkAMsI9OXT02QOgg1Z0UKzdAidojwUEAM0Boke18Py0qQI8uSXhVOjNAieDM/Le/OEAuVtRgGq4xQDmgJ6Kg/jdA/HqY0De0NkBoke18Py0qQIngzPy3vzhAqmVrfZFkMUA5oCeioP43QNcv2A3b1jpAuOnPfqQwNkDwb4nKYMg4QMW32GRmdDpAkbjH0oeqOUAhyEEJM/U5QIngzPy3vzhAhnKiXYV0M0C9xi5RvZs4QMW32GRmdDpAxbfYZGZ0OkC9xi5RvZs4QCnQJ/Ik8TxAhnKiXYV0M0CqZWt9kWQxQC5W1GAarjFAvcYuUb2bOEA5oCeioP43QGiR7Xw/LSpAhnKiXYV0M0DE2lOVHyQ5QLl1XD2VPjhAIchBCTP1OUCPLkl4VTozQPx6mNA3tDZAKdAn8iTxPECFTXexQ5c4QKpla32RZDFA6CDVnRQrN0CFTXexQ5c4QPBvicpgyDhANlmjHqLxKUC46c9+pDA2QB8ByWEdtDxAsI9OXfmMNkCFTXexQ5c4QPx6mNA3tDZAieDM/Le/OECGcqJdhXQzQDZZox6i8SlAuOnPfqQwNkBCYOXQIhs4QMW32GRmdDpAuXVcPZU+OEBoke18Py0qQLCPTl35jDZAuXVcPZU+OEC5dVw9lT44QIZyol2FdDNA/HqY0De0NkDXL9gN29Y6QCHIQQkz9TlALlbUYBquMUCwj05d+Yw2QIngzPy3vzhAxbfYZGZ0OkAuVtRgGq4xQLl1XD2VPjhAaJHtfD8tKkCwj05d+Yw2QInaI8FBADNAhnKiXYV0M0C46c9+pDA2QNUuk86tMT5AaJHtfD8tKkC46c9+pDA2QAywj05dPTZAieDM/Le/OEBoke18Py0qQPx6mNA3tDZAxbfYZGZ0OkC46c9+pDA2QLCPTl35jDZALlbUYBquMUCqZWt9kWQxQLCPTl35jDZAHwHJYR20PEC46c9+pDA2QLCPTl35jDZAuXVcPZU+OECRuMfSh6o5QDZZox6i8SlA1S6Tzq0xPkDVLpPOrTE+QI8uSXhVOjNA8G+JymDIOECJ4Mz8t784QKpla32RZDFAqmVrfZFkMUA2WaMeovEpQIZyol2FdDNA6CDVnRQrN0Cwj05d+Yw2QEJg5dAiGzhA1S6Tzq0xPkCU+x2KAoUyQCnQJ/Ik8TxAuXVcPZU+OEAMsI9OXT02QLjpz36kMDZAhnKiXYV0M0CJ2iPBQQAzQC5W1GAarjFAidojwUEAM0CU+x2KAoUyQEJg5dAiGzhA8G+JymDIOED8epjQN7Q2QIngzPy3vzhAqmVrfZFkMUDFt9hkZnQ6QL3GLlG9mzhAOaAnoqD+N0AuVtRgGq4xQNUuk86tMT5AidojwUEAM0Dwb4nKYMg4QNcv2A3b1jpADLCPTl09NkDVLpPOrTE+QB8ByWEdtDxANlmjHqLxKUA5oCeioP43QIVNd7FDlzhAieDM/Le/OEDwb4nKYMg4QNcv2A3b1jpAqmVrfZFkMUDVLpPOrTE+QLCPTl35jDZA1S6Tzq0xPkCPLkl4VTozQBr6J7hY/TNAqmVrfZFkMUDXL9gN29Y6QMW32GRmdDpAYPVUEJlJOkBoke18Py0qQBr6J7hY/TNAjy5JeFU6M0DE2lOVHyQ5QB8ByWEdtDxAqmVrfZFkMUC5dVw9lT44QI8uSXhVOjNALlbUYBquMUDE2lOVHyQ5QNUuk86tMT5AvcYuUb2bOEDVLpPOrTE+QLl1XD2VPjhAYPVUEJlJOkCPLkl4VTozQDmgJ6Kg/jdAqmVrfZFkMUCGcqJdhXQzQDmgJ6Kg/jdAlPsdigKFMkDVLpPOrTE+QCHIQQkz9TlAxNpTlR8kOUDVLpPOrTE+QDZZox6i8SlAuXVcPZU+OEC46c9+pDA2QAywj05dPTZAsI9OXfmMNkCJ2iPBQQAzQOgg1Z0UKzdAxbfYZGZ0OkCU+x2KAoUyQNcv2A3b1jpAidojwUEAM0CJ4Mz8t784QDmgJ6Kg/jdAsI9OXfmMNkCRuMfSh6o5QI8uSXhVOjNAkbjH0oeqOUDwb4nKYMg4QKpla32RZDFAKdAn8iTxPEAhyEEJM/U5QEJg5dAiGzhA8G+JymDIOECPLkl4VTozQInaI8FBADNAuOnPfqQwNkCJ2iPBQQAzQLjpz36kMDZAvcYuUb2bOECFTXexQ5c4QLCPTl35jDZAjy5JeFU6M0AhyEEJM/U5QPBvicpgyDhAieDM/Le/OECU+x2KAoUyQDmgJ6Kg/jdAkbjH0oeqOUCGcqJdhXQzQNcv2A3b1jpAhnKiXYV0M0Cwj05d+Yw2QIngzPy3vzhA/HqY0De0NkCFTXexQ5c4QC5W1GAarjFAKdAn8iTxPEAfAclhHbQ8QB8ByWEdtDxAuOnPfqQwNkC5dVw9lT44QPBvicpgyDhAhnKiXYV0M0CJ4Mz8t784QInaI8FBADNAxbfYZGZ0OkDVLpPOrTE+QDZZox6i8SlAhU13sUOXOEC46c9+pDA2QJG4x9KHqjlAsI9OXfmMNkAuVtRgGq4xQDZZox6i8SlAxbfYZGZ0OkAuVtRgGq4xQIngzPy3vzhAHwHJYR20PECRuMfSh6o5QNcv2A3b1jpAQmDl0CIbOEDwb4nKYMg4QGD1VBCZSTpAuXVcPZU+OEDFt9hkZnQ6QGD1VBCZSTpA1S6Tzq0xPkCJ4Mz8t784QB8ByWEdtDxAHwHJYR20PEBg9VQQmUk6QMTaU5UfJDlA8G+JymDIOEDwb4nKYMg4QBr6J7hY/TNAGvonuFj9M0DE2lOVHyQ5QDZZox6i8SlAqmVrfZFkMUBCYOXQIhs4QDmgJ6Kg/jdAjy5JeFU6M0Cwj05d+Yw2QGiR7Xw/LSpAxbfYZGZ0OkDoINWdFCs3QKpla32RZDFA6CDVnRQrN0DXL9gN29Y6QPx6mNA3tDZAhU13sUOXOEC5dVw9lT44QCHIQQkz9TlAsI9OXfmMNkCPLkl4VTozQOgg1Z0UKzdAIchBCTP1OUCwj05d+Yw2QKpla32RZDFAxbfYZGZ0OkAp0CfyJPE8QOgg1Z0UKzdA1y/YDdvWOkDXL9gN29Y6QPx6mNA3tDZAidojwUEAM0CJ4Mz8t784QL3GLlG9mzhA8G+JymDIOECU+x2KAoUyQJG4x9KHqjlAieDM/Le/OEBg9VQQmUk6QLjpz36kMDZALlbUYBquMUDVLpPOrTE+QGD1VBCZSTpAuOnPfqQwNkC46c9+pDA2QMW32GRmdDpAkbjH0oeqOUDwb4nKYMg4QDZZox6i8SlAjy5JeFU6M0AMsI9OXT02QInaI8FBADNA/HqY0De0NkDFt9hkZnQ6QInaI8FBADNA/HqY0De0NkCPLkl4VTozQNUuk86tMT5AhnKiXYV0M0AhyEEJM/U5QMTaU5UfJDlA/HqY0De0NkA5oCeioP43QPBvicpgyDhA1y/YDdvWOkCU+x2KAoUyQIngzPy3vzhA8G+JymDIOEBoke18Py0qQLjpz36kMDZAGvonuFj9M0DVLpPOrTE+QIZyol2FdDNALlbUYBquMUCRuMfSh6o5QNcv2A3b1jpAkbjH0oeqOUD8epjQN7Q2QKpla32RZDFA1y/YDdvWOkCwj05d+Yw2QB8ByWEdtDxAhnKiXYV0M0Ap0CfyJPE8QLCPTl35jDZAYPVUEJlJOkA2WaMeovEpQCnQJ/Ik8TxAQmDl0CIbOEA2WaMeovEpQMTaU5UfJDlANlmjHqLxKUDFt9hkZnQ6QNcv2A3b1jpA8G+JymDIOECFTXexQ5c4QCHIQQkz9TlAqmVrfZFkMUCJ4Mz8t784QJG4x9KHqjlAuOnPfqQwNkD8epjQN7Q2QNcv2A3b1jpAlPsdigKFMkCqZWt9kWQxQCnQJ/Ik8TxAhnKiXYV0M0C46c9+pDA2QNcv2A3b1jpAieDM/Le/OECPLkl4VTozQAywj05dPTZAqmVrfZFkMUCRuMfSh6o5QIngzPy3vzhAvcYuUb2bOEC46c9+pDA2QKpla32RZDFAxNpTlR8kOUCqZWt9kWQxQCHIQQkz9TlAxbfYZGZ0OkAa+ie4WP0zQOgg1Z0UKzdAxbfYZGZ0OkCFTXexQ5c4QNcv2A3b1jpAIchBCTP1OUBCYOXQIhs4QI8uSXhVOjNAhnKiXYV0M0D8epjQN7Q2QPx6mNA3tDZAhU13sUOXOECPLkl4VTozQIZyol2FdDNAkbjH0oeqOUAp0CfyJPE8QB8ByWEdtDxAlPsdigKFMkDVLpPOrTE+QC5W1GAarjFAqmVrfZFkMUCPLkl4VTozQIVNd7FDlzhAhU13sUOXOEC46c9+pDA2QPBvicpgyDhAuOnPfqQwNkAhyEEJM/U5QInaI8FBADNAqmVrfZFkMUAfAclhHbQ8QLl1XD2VPjhAieDM/Le/OEDVLpPOrTE+QDmgJ6Kg/jdA8G+JymDIOEDXL9gN29Y6QLjpz36kMDZAaJHtfD8tKkAhyEEJM/U5QLjpz36kMDZAieDM/Le/OEDFt9hkZnQ6QNcv2A3b1jpAxbfYZGZ0OkAp0CfyJPE8QJT7HYoChTJAOaAnoqD+N0CPLkl4VTozQIVNd7FDlzhAuOnPfqQwNkAfAclhHbQ8QLjpz36kMDZAxbfYZGZ0OkAuVtRgGq4xQAywj05dPTZAhnKiXYV0M0CFTXexQ5c4QNUuk86tMT5AidojwUEAM0DVLpPOrTE+QGiR7Xw/LSpAidojwUEAM0DFt9hkZnQ6QAywj05dPTZAuOnPfqQwNkC9xi5RvZs4QPx6mNA3tDZAuXVcPZU+OEAuVtRgGq4xQLjpz36kMDZA/HqY0De0NkCwj05d+Yw2QAywj05dPTZAuOnPfqQwNkAuVtRgGq4xQMW32GRmdDpAYPVUEJlJOkBCYOXQIhs4QLCPTl35jDZAxbfYZGZ0OkD8epjQN7Q2QDmgJ6Kg/jdAHwHJYR20PEBoke18Py0qQNcv2A3b1jpAGvonuFj9M0C5dVw9lT44QMW32GRmdDpA8G+JymDIOECPLkl4VTozQMW32GRmdDpAHwHJYR20PEC46c9+pDA2QLCPTl35jDZAuXVcPZU+OEDwb4nKYMg4QNcv2A3b1jpAuOnPfqQwNkA2WaMeovEpQLCPTl35jDZAxbfYZGZ0OkA2WaMeovEpQInaI8FBADNAsI9OXfmMNkAhyEEJM/U5QMW32GRmdDpANlmjHqLxKUA5oCeioP43QLjpz36kMDZA1y/YDdvWOkDFt9hkZnQ6QKpla32RZDFAIchBCTP1OUDoINWdFCs3QCnQJ/Ik8TxAuOnPfqQwNkBCYOXQIhs4QLjpz36kMDZAkbjH0oeqOUDwb4nKYMg4QLjpz36kMDZAhU13sUOXOECU+x2KAoUyQIZyol2FdDNA/HqY0De0NkDFt9hkZnQ6QCnQJ/Ik8TxAhnKiXYV0M0CqZWt9kWQxQKpla32RZDFAidojwUEAM0CGcqJdhXQzQKpla32RZDFAuXVcPZU+OEBg9VQQmUk6QKpla32RZDFAOaAnoqD+N0Cwj05d+Yw2QIngzPy3vzhA1y/YDdvWOkD8epjQN7Q2QIngzPy3vzhA1S6Tzq0xPkBoke18Py0qQMW32GRmdDpAuOnPfqQwNkCRuMfSh6o5QLCPTl35jDZAOaAnoqD+N0AfAclhHbQ8QMTaU5UfJDlAsI9OXfmMNkC46c9+pDA2QI8uSXhVOjNANlmjHqLxKUCwj05d+Yw2QJG4x9KHqjlA1S6Tzq0xPkCGcqJdhXQzQBr6J7hY/TNAHwHJYR20PEBCYOXQIhs4QAywj05dPTZALlbUYBquMUC46c9+pDA2QMW32GRmdDpAjy5JeFU6M0AMsI9OXT02QLl1XD2VPjhAsI9OXfmMNkC9xi5RvZs4QI8uSXhVOjNA1y/YDdvWOkCFTXexQ5c4QNcv2A3b1jpAQmDl0CIbOEAp0CfyJPE8QMW32GRmdDpAIchBCTP1OUBoke18Py0qQNcv2A3b1jpAxbfYZGZ0OkAhyEEJM/U5QNUuk86tMT5AvcYuUb2bOEBoke18Py0qQLjpz36kMDZAjy5JeFU6M0CqZWt9kWQxQKpla32RZDFALlbUYBquMUDXL9gN29Y6QNUuk86tMT5ALlbUYBquMUC9xi5RvZs4QPBvicpgyDhAieDM/Le/OECGcqJdhXQzQGD1VBCZSTpAidojwUEAM0CJ2iPBQQAzQIVNd7FDlzhAQmDl0CIbOECGcqJdhXQzQJG4x9KHqjlAxNpTlR8kOUC46c9+pDA2QIngzPy3vzhAxbfYZGZ0OkCPLkl4VTozQMTaU5UfJDlAjy5JeFU6M0C5dVw9lT44QLjpz36kMDZAqmVrfZFkMUBCYOXQIhs4QGiR7Xw/LSpADLCPTl09NkAuVtRgGq4xQJT7HYoChTJAjy5JeFU6M0DVLpPOrTE+QNcv2A3b1jpA1S6Tzq0xPkCqZWt9kWQxQC5W1GAarjFAuXVcPZU+OEDXL9gN29Y6QDmgJ6Kg/jdA6CDVnRQrN0CRuMfSh6o5QDmgJ6Kg/jdAxbfYZGZ0OkD8epjQN7Q2QNUuk86tMT5A8G+JymDIOEDXL9gN29Y6QJT7HYoChTJAhnKiXYV0M0CFTXexQ5c4QIVNd7FDlzhAxbfYZGZ0OkCqZWt9kWQxQIVNd7FDlzhAuOnPfqQwNkCFTXexQ5c4QL3GLlG9mzhAuXVcPZU+OEC9xi5RvZs4QBr6J7hY/TNAsI9OXfmMNkDXL9gN29Y6QDmgJ6Kg/jdAuOnPfqQwNkCqZWt9kWQxQMW32GRmdDpAOaAnoqD+N0C46c9+pDA2QCHIQQkz9TlANlmjHqLxKUCRuMfSh6o5QI8uSXhVOjNAlPsdigKFMkDE2lOVHyQ5QLjpz36kMDZAHwHJYR20PEAMsI9OXT02QL3GLlG9mzhANlmjHqLxKUCwj05d+Yw2QIZyol2FdDNAsI9OXfmMNkDFt9hkZnQ6QLl1XD2VPjhAGvonuFj9M0DVLpPOrTE+QDZZox6i8SlAvcYuUb2bOEDwb4nKYMg4QNUuk86tMT5AxbfYZGZ0OkDwb4nKYMg4QNUuk86tMT5AsI9OXfmMNkCRuMfSh6o5QDZZox6i8SlAhnKiXYV0M0DXL9gN29Y6QNUuk86tMT5A1y/YDdvWOkCJ2iPBQQAzQC5W1GAarjFA6CDVnRQrN0Ap0CfyJPE8QInaI8FBADNA/HqY0De0NkAp0CfyJPE8QLjpz36kMDZAhnKiXYV0M0DE2lOVHyQ5QMW32GRmdDpAhnKiXYV0M0C46c9+pDA2QNUuk86tMT5A8G+JymDIOEAMsI9OXT02QGiR7Xw/LSpAvcYuUb2bOECU+x2KAoUyQIZyol2FdDNALlbUYBquMUDFt9hkZnQ6QOgg1Z0UKzdA8G+JymDIOEAuVtRgGq4xQIVNd7FDlzhA8G+JymDIOECGcqJdhXQzQL3GLlG9mzhAvcYuUb2bOECwj05d+Yw2QOgg1Z0UKzdADLCPTl09NkAMsI9OXT02QC5W1GAarjFAGvonuFj9M0CPLkl4VTozQDZZox6i8SlA1y/YDdvWOkC9xi5RvZs4QNcv2A3b1jpAkbjH0oeqOUC5dVw9lT44QOgg1Z0UKzdAhnKiXYV0M0AuVtRgGq4xQOgg1Z0UKzdAqmVrfZFkMUC5dVw9lT44QGiR7Xw/LSpAGvonuFj9M0DoINWdFCs3QMTaU5UfJDlALlbUYBquMUAMsI9OXT02QGiR7Xw/LSpADLCPTl09NkAfAclhHbQ8QNcv2A3b1jpAieDM/Le/OECwj05d+Yw2QKpla32RZDFAxbfYZGZ0OkAa+ie4WP0zQC5W1GAarjFAYPVUEJlJOkC46c9+pDA2QMW32GRmdDpAsI9OXfmMNkD8epjQN7Q2QKpla32RZDFAuXVcPZU+OEAa+ie4WP0zQPBvicpgyDhAaJHtfD8tKkCFTXexQ5c4QIngzPy3vzhA1S6Tzq0xPkCJ2iPBQQAzQIVNd7FDlzhA1S6Tzq0xPkBg9VQQmUk6QLl1XD2VPjhAjy5JeFU6M0Dwb4nKYMg4QI8uSXhVOjNAuXVcPZU+OECU+x2KAoUyQC5W1GAarjFAuXVcPZU+OEDFt9hkZnQ6QInaI8FBADNAqmVrfZFkMUAa+ie4WP0zQGiR7Xw/LSpAxbfYZGZ0OkCPLkl4VTozQOgg1Z0UKzdAhnKiXYV0M0A2WaMeovEpQLl1XD2VPjhAqmVrfZFkMUBoke18Py0qQLjpz36kMDZAhU13sUOXOEDE2lOVHyQ5QC5W1GAarjFALlbUYBquMUCJ2iPBQQAzQLjpz36kMDZAvcYuUb2bOEAhyEEJM/U5QIZyol2FdDNAuOnPfqQwNkDXL9gN29Y6QIVNd7FDlzhAhU13sUOXOEDE2lOVHyQ5QOgg1Z0UKzdAkbjH0oeqOUDXL9gN29Y6QNUuk86tMT5AlPsdigKFMkCqZWt9kWQxQMTaU5UfJDlALlbUYBquMUC9xi5RvZs4QI8uSXhVOjNAxNpTlR8kOUCwj05d+Yw2QNUuk86tMT5AGvonuFj9M0DVLpPOrTE+QGD1VBCZSTpAhU13sUOXOECqZWt9kWQxQPx6mNA3tDZAQmDl0CIbOEDVLpPOrTE+QPx6mNA3tDZA8G+JymDIOEC9xi5RvZs4QPx6mNA3tDZAhnKiXYV0M0AuVtRgGq4xQAywj05dPTZAOaAnoqD+N0Bg9VQQmUk6QNcv2A3b1jpAhnKiXYV0M0CPLkl4VTozQIVNd7FDlzhAsI9OXfmMNkC5dVw9lT44QBr6J7hY/TNAkbjH0oeqOUDE2lOVHyQ5QC5W1GAarjFA8G+JymDIOEAfAclhHbQ8QNcv2A3b1jpAqmVrfZFkMUC46c9+pDA2QCnQJ/Ik8TxA1S6Tzq0xPkAfAclhHbQ8QKpla32RZDFAaJHtfD8tKkAa+ie4WP0zQGD1VBCZSTpAaJHtfD8tKkDXL9gN29Y6QI8uSXhVOjNA8G+JymDIOECJ4Mz8t784QGiR7Xw/LSpAIchBCTP1OUCJ2iPBQQAzQMW32GRmdDpA1y/YDdvWOkC5dVw9lT44QJG4x9KHqjlA1y/YDdvWOkAp0CfyJPE8QC5W1GAarjFAuOnPfqQwNkAa+ie4WP0zQMW32GRmdDpAhnKiXYV0M0CFTXexQ5c4QCnQJ/Ik8TxAuXVcPZU+OEAhyEEJM/U5QIVNd7FDlzhA8G+JymDIOECRuMfSh6o5QGiR7Xw/LSpAOaAnoqD+N0Aa+ie4WP0zQCnQJ/Ik8TxAGvonuFj9M0AfAclhHbQ8QIVNd7FDlzhAvcYuUb2bOEDwb4nKYMg4QKpla32RZDFAkbjH0oeqOUAfAclhHbQ8QPx6mNA3tDZA1y/YDdvWOkDXL9gN29Y6QIngzPy3vzhAqmVrfZFkMUDXL9gN29Y6QOgg1Z0UKzdAsI9OXfmMNkCwj05d+Yw2QI8uSXhVOjNAuXVcPZU+OEC5dVw9lT44QKpla32RZDFAYPVUEJlJOkCJ4Mz8t784QGiR7Xw/LSpAKdAn8iTxPEBoke18Py0qQJG4x9KHqjlAidojwUEAM0CqZWt9kWQxQBr6J7hY/TNAjy5JeFU6M0A2WaMeovEpQJG4x9KHqjlAjy5JeFU6M0A5oCeioP43QAywj05dPTZAhnKiXYV0M0Ap0CfyJPE8QNcv2A3b1jpAKdAn8iTxPEBoke18Py0qQLCPTl35jDZAIchBCTP1OUC9xi5RvZs4QL3GLlG9mzhAhnKiXYV0M0DFt9hkZnQ6QGiR7Xw/LSpAhnKiXYV0M0AfAclhHbQ8QDmgJ6Kg/jdAxbfYZGZ0OkAp0CfyJPE8QMW32GRmdDpAOaAnoqD+N0A5oCeioP43QLjpz36kMDZAOaAnoqD+N0Ap0CfyJPE8QInaI8FBADNAidojwUEAM0Dwb4nKYMg4QCHIQQkz9TlA6CDVnRQrN0D8epjQN7Q2QKpla32RZDFA1y/YDdvWOkAhyEEJM/U5QMTaU5UfJDlAHwHJYR20PECGcqJdhXQzQGD1VBCZSTpA1y/YDdvWOkCU+x2KAoUyQLCPTl35jDZAkbjH0oeqOUCJ4Mz8t784QKpla32RZDFAKdAn8iTxPECFTXexQ5c4QMTaU5UfJDlAxNpTlR8kOUA2WaMeovEpQBr6J7hY/TNANlmjHqLxKUA2WaMeovEpQLjpz36kMDZAsI9OXfmMNkC46c9+pDA2QNUuk86tMT5A/HqY0De0NkAhyEEJM/U5QAywj05dPTZAuOnPfqQwNkAhyEEJM/U5QMTaU5UfJDlAqmVrfZFkMUC46c9+pDA2QPBvicpgyDhAxbfYZGZ0OkCwj05d+Yw2QAywj05dPTZAuXVcPZU+OECwj05d+Yw2QLjpz36kMDZA1y/YDdvWOkCJ2iPBQQAzQPx6mNA3tDZA1S6Tzq0xPkAMsI9OXT02QMW32GRmdDpAOaAnoqD+N0DXL9gN29Y6QLCPTl35jDZAhnKiXYV0M0DVLpPOrTE+QDmgJ6Kg/jdAhnKiXYV0M0C5dVw9lT44QLjpz36kMDZAieDM/Le/OECFTXexQ5c4QPx6mNA3tDZAhU13sUOXOEAuVtRgGq4xQI8uSXhVOjNAuXVcPZU+OEA2WaMeovEpQIVNd7FDlzhA6CDVnRQrN0AfAclhHbQ8QJG4x9KHqjlAvcYuUb2bOEAp0CfyJPE8QKpla32RZDFA6CDVnRQrN0C5dVw9lT44QCHIQQkz9TlAOaAnoqD+N0A5oCeioP43QPBvicpgyDhAIchBCTP1OUDwb4nKYMg4QMW32GRmdDpAsI9OXfmMNkC9xi5RvZs4QLjpz36kMDZAIchBCTP1OUAhyEEJM/U5QLCPTl35jDZANlmjHqLxKUCPLkl4VTozQPBvicpgyDhA6CDVnRQrN0C46c9+pDA2QC5W1GAarjFAhU13sUOXOEDFt9hkZnQ6QInaI8FBADNAieDM/Le/OECPLkl4VTozQIZyol2FdDNAjy5JeFU6M0CGcqJdhXQzQIVNd7FDlzhAxbfYZGZ0OkCRuMfSh6o5QLjpz36kMDZAhU13sUOXOEAfAclhHbQ8QI8uSXhVOjNAGvonuFj9M0DVLpPOrTE+QIZyol2FdDNAGvonuFj9M0CU+x2KAoUyQGiR7Xw/LSpA8G+JymDIOEA2WaMeovEpQIZyol2FdDNA1y/YDdvWOkC9xi5RvZs4QI8uSXhVOjNAuOnPfqQwNkA2WaMeovEpQMW32GRmdDpAidojwUEAM0CJ4Mz8t784QCnQJ/Ik8TxA6CDVnRQrN0AfAclhHbQ8QL3GLlG9mzhAjy5JeFU6M0AfAclhHbQ8QLjpz36kMDZAqmVrfZFkMUC9xi5RvZs4QNUuk86tMT5AvcYuUb2bOEDFt9hkZnQ6QL3GLlG9mzhAqmVrfZFkMUC9xi5RvZs4QMTaU5UfJDlAjy5JeFU6M0Aa+ie4WP0zQL3GLlG9mzhAOaAnoqD+N0AMsI9OXT02QGD1VBCZSTpALlbUYBquMUCJ4Mz8t784QLjpz36kMDZAidojwUEAM0CFTXexQ5c4QPBvicpgyDhAvcYuUb2bOECFTXexQ5c4QCHIQQkz9TlAqmVrfZFkMUDFt9hkZnQ6QC5W1GAarjFA8G+JymDIOECFTXexQ5c4QPx6mNA3tDZAkbjH0oeqOUCU+x2KAoUyQAywj05dPTZAjy5JeFU6M0AhyEEJM/U5QMW32GRmdDpA8G+JymDIOEAfAclhHbQ8QLl1XD2VPjhAkbjH0oeqOUDFt9hkZnQ6QKpla32RZDFA/HqY0De0NkAp0CfyJPE8QNUuk86tMT5AKdAn8iTxPECwj05d+Yw2QNUuk86tMT5AvcYuUb2bOECU+x2KAoUyQMTaU5UfJDlA1S6Tzq0xPkAa+ie4WP0zQJG4x9KHqjlAHwHJYR20PECJ2iPBQQAzQIZyol2FdDNA1y/YDdvWOkCFTXexQ5c4QLCPTl35jDZA1S6Tzq0xPkCPLkl4VTozQC5W1GAarjFAidojwUEAM0DoINWdFCs3QIVNd7FDlzhAxbfYZGZ0OkCGcqJdhXQzQNUuk86tMT5AkbjH0oeqOUCPLkl4VTozQInaI8FBADNADLCPTl09NkC5dVw9lT44QGiR7Xw/LSpAQmDl0CIbOEA5oCeioP43QIngzPy3vzhAuXVcPZU+OEAhyEEJM/U5QOgg1Z0UKzdAKdAn8iTxPECU+x2KAoUyQDmgJ6Kg/jdAIchBCTP1OUAfAclhHbQ8QI8uSXhVOjNALlbUYBquMUC5dVw9lT44QKpla32RZDFAxbfYZGZ0OkBCYOXQIhs4QI8uSXhVOjNAhnKiXYV0M0AuVtRgGq4xQCHIQQkz9TlAHwHJYR20PEAa+ie4WP0zQGiR7Xw/LSpANlmjHqLxKUCU+x2KAoUyQNUuk86tMT5AGvonuFj9M0A2WaMeovEpQBr6J7hY/TNAxNpTlR8kOUCJ4Mz8t784QI8uSXhVOjNAieDM/Le/OEC9xi5RvZs4QIZyol2FdDNAuOnPfqQwNkCRuMfSh6o5QLjpz36kMDZANlmjHqLxKUDXL9gN29Y6QNcv2A3b1jpAaJHtfD8tKkAfAclhHbQ8QJG4x9KHqjlA1S6Tzq0xPkCGcqJdhXQzQIZyol2FdDNAieDM/Le/OECGcqJdhXQzQIZyol2FdDNA8G+JymDIOEBCYOXQIhs4QIVNd7FDlzhAaJHtfD8tKkAMsI9OXT02QCnQJ/Ik8TxAuOnPfqQwNkC5dVw9lT44QJG4x9KHqjlAOaAnoqD+N0C5dVw9lT44QIngzPy3vzhAkbjH0oeqOUC46c9+pDA2QLl1XD2VPjhA1y/YDdvWOkCU+x2KAoUyQGiR7Xw/LSpA1y/YDdvWOkCJ2iPBQQAzQGiR7Xw/LSpAidojwUEAM0DoINWdFCs3QLjpz36kMDZAuXVcPZU+OEBg9VQQmUk6QPx6mNA3tDZAlPsdigKFMkAuVtRgGq4xQAywj05dPTZA8G+JymDIOEDwb4nKYMg4QJT7HYoChTJALlbUYBquMUCRuMfSh6o5QLjpz36kMDZAKdAn8iTxPEAuVtRgGq4xQCnQJ/Ik8TxAhU13sUOXOECFTXexQ5c4QC5W1GAarjFA1y/YDdvWOkCRuMfSh6o5QNUuk86tMT5A1y/YDdvWOkCPLkl4VTozQCHIQQkz9TlAQmDl0CIbOEDwb4nKYMg4QMW32GRmdDpAieDM/Le/OEC9xi5RvZs4QLjpz36kMDZAGvonuFj9M0CRuMfSh6o5QOgg1Z0UKzdAuOnPfqQwNkC46c9+pDA2QIVNd7FDlzhAlPsdigKFMkDFt9hkZnQ6QJT7HYoChTJAxNpTlR8kOUA5oCeioP43QAywj05dPTZAqmVrfZFkMUC46c9+pDA2QEJg5dAiGzhA8G+JymDIOEDwb4nKYMg4QNcv2A3b1jpAvcYuUb2bOEC46c9+pDA2QLl1XD2VPjhAuOnPfqQwNkAuVtRgGq4xQCHIQQkz9TlA1S6Tzq0xPkA5oCeioP43QLCPTl35jDZAhnKiXYV0M0DFt9hkZnQ6QIZyol2FdDNAqmVrfZFkMUBCYOXQIhs4QLjpz36kMDZAxbfYZGZ0OkCPLkl4VTozQLCPTl35jDZAOaAnoqD+N0AuVtRgGq4xQJT7HYoChTJA/HqY0De0NkCPLkl4VTozQIVNd7FDlzhAQmDl0CIbOECRuMfSh6o5QIZyol2FdDNA1S6Tzq0xPkBg9VQQmUk6QInaI8FBADNAuOnPfqQwNkC5dVw9lT44QLCPTl35jDZAGvonuFj9M0Dwb4nKYMg4QDZZox6i8SlAQmDl0CIbOEA2WaMeovEpQL3GLlG9mzhAieDM/Le/OEAuVtRgGq4xQC5W1GAarjFAqmVrfZFkMUAhyEEJM/U5QC5W1GAarjFAxbfYZGZ0OkCPLkl4VTozQKpla32RZDFAqmVrfZFkMUC46c9+pDA2QKpla32RZDFAieDM/Le/OECJ2iPBQQAzQPx6mNA3tDZANlmjHqLxKUCJ4Mz8t784QL3GLlG9mzhAhU13sUOXOECJ4Mz8t784QCHIQQkz9TlAkbjH0oeqOUA2WaMeovEpQBr6J7hY/TNAIchBCTP1OUCFTXexQ5c4QDZZox6i8SlAsI9OXfmMNkCPLkl4VTozQLjpz36kMDZAYPVUEJlJOkDXL9gN29Y6QEJg5dAiGzhAhU13sUOXOECFTXexQ5c4QLl1XD2VPjhAieDM/Le/OECqZWt9kWQxQIngzPy3vzhAieDM/Le/OECFTXexQ5c4QNUuk86tMT5AieDM/Le/OEBCYOXQIhs4QGiR7Xw/LSpAkbjH0oeqOUA2WaMeovEpQMW32GRmdDpAsI9OXfmMNkC5dVw9lT44QGiR7Xw/LSpAuXVcPZU+OECU+x2KAoUyQDZZox6i8SlAYPVUEJlJOkDXL9gN29Y6QInaI8FBADNAjy5JeFU6M0DXL9gN29Y6QC5W1GAarjFAjy5JeFU6M0CJ2iPBQQAzQC5W1GAarjFAxbfYZGZ0OkAuVtRgGq4xQKpla32RZDFAhnKiXYV0M0BCYOXQIhs4QJT7HYoChTJAaJHtfD8tKkC46c9+pDA2QLl1XD2VPjhAuXVcPZU+OEAuVtRgGq4xQGiR7Xw/LSpAYPVUEJlJOkCU+x2KAoUyQOgg1Z0UKzdAaJHtfD8tKkDVLpPOrTE+QIZyol2FdDNAuXVcPZU+OEDE2lOVHyQ5QGD1VBCZSTpAIchBCTP1OUCJ4Mz8t784QPBvicpgyDhAlPsdigKFMkCwj05d+Yw2QLl1XD2VPjhAKdAn8iTxPEDFt9hkZnQ6QLjpz36kMDZAvcYuUb2bOEDE2lOVHyQ5QIVNd7FDlzhAGvonuFj9M0CqZWt9kWQxQMTaU5UfJDlAYPVUEJlJOkC46c9+pDA2QB8ByWEdtDxAQmDl0CIbOEDoINWdFCs3QKpla32RZDFA1y/YDdvWOkD8epjQN7Q2QLjpz36kMDZAOaAnoqD+N0C5dVw9lT44QOgg1Z0UKzdAjy5JeFU6M0CqZWt9kWQxQB8ByWEdtDxAIchBCTP1OUAuVtRgGq4xQL3GLlG9mzhA1y/YDdvWOkCPLkl4VTozQIVNd7FDlzhAQmDl0CIbOEDwb4nKYMg4QI8uSXhVOjNADLCPTl09NkCqZWt9kWQxQInaI8FBADNAlPsdigKFMkAhyEEJM/U5QLjpz36kMDZAqmVrfZFkMUCqZWt9kWQxQLl1XD2VPjhAhU13sUOXOECPLkl4VTozQDmgJ6Kg/jdAYPVUEJlJOkC46c9+pDA2QNcv2A3b1jpAqmVrfZFkMUC46c9+pDA2QLjpz36kMDZAvcYuUb2bOEDXL9gN29Y6QIVNd7FDlzhAjy5JeFU6M0Cwj05d+Yw2QLjpz36kMDZAuOnPfqQwNkC9xi5RvZs4QJG4x9KHqjlAuOnPfqQwNkA2WaMeovEpQIVNd7FDlzhAIchBCTP1OUAMsI9OXT02QDmgJ6Kg/jdAqmVrfZFkMUDXL9gN29Y6QIVNd7FDlzhA1y/YDdvWOkDVLpPOrTE+QC5W1GAarjFAidojwUEAM0D8epjQN7Q2QLl1XD2VPjhAIchBCTP1OUC46c9+pDA2QCnQJ/Ik8TxAlPsdigKFMkCU+x2KAoUyQOgg1Z0UKzdAsI9OXfmMNkC9xi5RvZs4QIngzPy3vzhAKdAn8iTxPEA2WaMeovEpQInaI8FBADNAaJHtfD8tKkDE2lOVHyQ5QLjpz36kMDZAlPsdigKFMkDoINWdFCs3QI8uSXhVOjNAjy5JeFU6M0Aa+ie4WP0zQB8ByWEdtDxAxbfYZGZ0OkDXL9gN29Y6QLCPTl35jDZAxbfYZGZ0OkC9xi5RvZs4QI8uSXhVOjNAYPVUEJlJOkDE2lOVHyQ5QLjpz36kMDZAqmVrfZFkMUC46c9+pDA2QLjpz36kMDZA/HqY0De0NkCJ4Mz8t784QMW32GRmdDpAvcYuUb2bOEAuVtRgGq4xQNcv2A3b1jpAGvonuFj9M0CU+x2KAoUyQEJg5dAiGzhADLCPTl09NkCqZWt9kWQxQPBvicpgyDhAKdAn8iTxPEC9xi5RvZs4QJT7HYoChTJA1S6Tzq0xPkDXL9gN29Y6QGD1VBCZSTpAuOnPfqQwNkD8epjQN7Q2QNUuk86tMT5A1y/YDdvWOkCJ4Mz8t784QDmgJ6Kg/jdAQmDl0CIbOEDFt9hkZnQ6QPx6mNA3tDZAKdAn8iTxPEDwb4nKYMg4QIZyol2FdDNA/HqY0De0NkC9xi5RvZs4QLjpz36kMDZAIchBCTP1OUA2WaMeovEpQI8uSXhVOjNAxNpTlR8kOUDXL9gN29Y6QJT7HYoChTJAuOnPfqQwNkBCYOXQIhs4QIVNd7FDlzhAieDM/Le/OEA2WaMeovEpQNUuk86tMT5AidojwUEAM0CJ4Mz8t784QOgg1Z0UKzdAuOnPfqQwNkAMsI9OXT02QIZyol2FdDNAlPsdigKFMkDFt9hkZnQ6QBr6J7hY/TNAhnKiXYV0M0C46c9+pDA2QL3GLlG9mzhAIchBCTP1OUBg9VQQmUk6QLjpz36kMDZAsI9OXfmMNkCGcqJdhXQzQOgg1Z0UKzdAKdAn8iTxPEA2WaMeovEpQCHIQQkz9TlAieDM/Le/OEDwb4nKYMg4QPx6mNA3tDZAQmDl0CIbOECFTXexQ5c4QNUuk86tMT5AaJHtfD8tKkBoke18Py0qQIVNd7FDlzhAsI9OXfmMNkAa+ie4WP0zQEJg5dAiGzhAsI9OXfmMNkAhyEEJM/U5QDmgJ6Kg/jdAQmDl0CIbOECGcqJdhXQzQOgg1Z0UKzdAvcYuUb2bOEDwb4nKYMg4QIngzPy3vzhAhnKiXYV0M0C46c9+pDA2QGiR7Xw/LSpAhnKiXYV0M0CU+x2KAoUyQLjpz36kMDZA8G+JymDIOEDwb4nKYMg4QJG4x9KHqjlAIchBCTP1OUCqZWt9kWQxQIVNd7FDlzhALlbUYBquMUCU+x2KAoUyQIVNd7FDlzhA1y/YDdvWOkC9xi5RvZs4QLjpz36kMDZAuOnPfqQwNkAuVtRgGq4xQLjpz36kMDZAlPsdigKFMkC5dVw9lT44QNcv2A3b1jpA1S6Tzq0xPkCU+x2KAoUyQInaI8FBADNAYPVUEJlJOkCFTXexQ5c4QIVNd7FDlzhAuOnPfqQwNkC9xi5RvZs4QMTaU5UfJDlA1y/YDdvWOkCwj05d+Yw2QEJg5dAiGzhAjy5JeFU6M0DVLpPOrTE+QGiR7Xw/LSpAaJHtfD8tKkCJ2iPBQQAzQCHIQQkz9TlAkbjH0oeqOUCJ4Mz8t784QL3GLlG9mzhA/HqY0De0NkCqZWt9kWQxQLjpz36kMDZAuXVcPZU+OEDXL9gN29Y6QKpla32RZDFAlPsdigKFMkDE2lOVHyQ5QNcv2A3b1jpAIchBCTP1OUCGcqJdhXQzQMTaU5UfJDlAuOnPfqQwNkDXL9gN29Y6QAywj05dPTZAuOnPfqQwNkCJ4Mz8t784QKpla32RZDFAhnKiXYV0M0C5dVw9lT44QOgg1Z0UKzdAxbfYZGZ0OkC5dVw9lT44QLjpz36kMDZAxbfYZGZ0OkC9xi5RvZs4QC5W1GAarjFAieDM/Le/OEBg9VQQmUk6QLjpz36kMDZAuOnPfqQwNkCU+x2KAoUyQGiR7Xw/LSpA1y/YDdvWOkDwb4nKYMg4QDmgJ6Kg/jdAKdAn8iTxPEA2WaMeovEpQC5W1GAarjFAvcYuUb2bOEDoINWdFCs3QLjpz36kMDZAQmDl0CIbOEBoke18Py0qQKpla32RZDFAjy5JeFU6M0CJ4Mz8t784QGiR7Xw/LSpAuOnPfqQwNkCFTXexQ5c4QMW32GRmdDpA1y/YDdvWOkA2WaMeovEpQPBvicpgyDhAuOnPfqQwNkDE2lOVHyQ5QPBvicpgyDhAkbjH0oeqOUC46c9+pDA2QNcv2A3b1jpAhU13sUOXOEA5oCeioP43QDZZox6i8SlAieDM/Le/OEAMsI9OXT02QNcv2A3b1jpAuXVcPZU+OECPLkl4VTozQIVNd7FDlzhAhU13sUOXOEAp0CfyJPE8QC5W1GAarjFAxbfYZGZ0OkDFt9hkZnQ6QIZyol2FdDNAkbjH0oeqOUDoINWdFCs3QMW32GRmdDpA1S6Tzq0xPkDXL9gN29Y6QDZZox6i8SlAjy5JeFU6M0Dwb4nKYMg4QCnQJ/Ik8TxAKdAn8iTxPEDE2lOVHyQ5QL3GLlG9mzhAlPsdigKFMkDXL9gN29Y6QLjpz36kMDZAsI9OXfmMNkCU+x2KAoUyQNcv2A3b1jpA6CDVnRQrN0DVLpPOrTE+QBr6J7hY/TNAhnKiXYV0M0AMsI9OXT02QPBvicpgyDhA6CDVnRQrN0DFt9hkZnQ6QGD1VBCZSTpANlmjHqLxKUDwb4nKYMg4QBr6J7hY/TNA1y/YDdvWOkBoke18Py0qQLCPTl35jDZAuXVcPZU+OEAMsI9OXT02QIVNd7FDlzhAxNpTlR8kOUCGcqJdhXQzQNcv2A3b1jpAxNpTlR8kOUA2WaMeovEpQIVNd7FDlzhAxNpTlR8kOUCGcqJdhXQzQMTaU5UfJDlANlmjHqLxKUDFt9hkZnQ6QMW32GRmdDpA1y/YDdvWOkDFt9hkZnQ6QL3GLlG9mzhALlbUYBquMUCRuMfSh6o5QJT7HYoChTJAsI9OXfmMNkAMsI9OXT02QIngzPy3vzhAKdAn8iTxPECRuMfSh6o5QJG4x9KHqjlAuXVcPZU+OEC5dVw9lT44QEJg5dAiGzhAIchBCTP1OUCqZWt9kWQxQDZZox6i8SlAqmVrfZFkMUDE2lOVHyQ5QL3GLlG9mzhA1S6Tzq0xPkAhyEEJM/U5QMTaU5UfJDlAGvonuFj9M0D8epjQN7Q2QPx6mNA3tDZAxbfYZGZ0OkCU+x2KAoUyQJT7HYoChTJAlPsdigKFMkAuVtRgGq4xQAywj05dPTZAuXVcPZU+OEDFt9hkZnQ6QLjpz36kMDZAuXVcPZU+OECPLkl4VTozQIVNd7FDlzhAuOnPfqQwNkCJ2iPBQQAzQAywj05dPTZAjy5JeFU6M0D8epjQN7Q2QCHIQQkz9TlALlbUYBquMUC46c9+pDA2QL3GLlG9mzhAqmVrfZFkMUBoke18Py0qQLCPTl35jDZAYPVUEJlJOkAuVtRgGq4xQInaI8FBADNAsI9OXfmMNkBg9VQQmUk6QMTaU5UfJDlAhnKiXYV0M0CJ4Mz8t784QInaI8FBADNAaJHtfD8tKkBoke18Py0qQIVNd7FDlzhA1S6Tzq0xPkCGcqJdhXQzQL3GLlG9mzhAhU13sUOXOEC9xi5RvZs4QIZyol2FdDNA/HqY0De0NkC46c9+pDA2QLCPTl35jDZAKdAn8iTxPEDVLpPOrTE+QIVNd7FDlzhAxbfYZGZ0OkCwj05d+Yw2QJG4x9KHqjlAxbfYZGZ0OkAuVtRgGq4xQCHIQQkz9TlAuXVcPZU+OECPLkl4VTozQAywj05dPTZAidojwUEAM0CGcqJdhXQzQLCPTl35jDZAqmVrfZFkMUC46c9+pDA2QJT7HYoChTJA/HqY0De0NkDwb4nKYMg4QDmgJ6Kg/jdAieDM/Le/OEAMsI9OXT02QMW32GRmdDpAieDM/Le/OEAMsI9OXT02QJT7HYoChTJAidojwUEAM0AuVtRgGq4xQI8uSXhVOjNAhnKiXYV0M0Cwj05d+Yw2QKpla32RZDFALlbUYBquMUDwb4nKYMg4QLl1XD2VPjhANlmjHqLxKUDXL9gN29Y6QCHIQQkz9TlAuOnPfqQwNkC9xi5RvZs4QPx6mNA3tDZAsI9OXfmMNkCPLkl4VTozQDZZox6i8SlAxbfYZGZ0OkDoINWdFCs3QJT7HYoChTJAYPVUEJlJOkCPLkl4VTozQI8uSXhVOjNAieDM/Le/OED8epjQN7Q2QL3GLlG9mzhAuOnPfqQwNkCJ4Mz8t784QBr6J7hY/TNAaJHtfD8tKkBg9VQQmUk6QCnQJ/Ik8TxAuOnPfqQwNkCJ2iPBQQAzQLjpz36kMDZAxbfYZGZ0OkCqZWt9kWQxQInaI8FBADNAlPsdigKFMkCRuMfSh6o5QIZyol2FdDNAjy5JeFU6M0D8epjQN7Q2QOgg1Z0UKzdAaJHtfD8tKkC46c9+pDA2QMW32GRmdDpA1y/YDdvWOkC9xi5RvZs4QIZyol2FdDNAjy5JeFU6M0AuVtRgGq4xQCnQJ/Ik8TxA1S6Tzq0xPkA2WaMeovEpQMW32GRmdDpAqmVrfZFkMUAMsI9OXT02QAywj05dPTZA1y/YDdvWOkCFTXexQ5c4QNUuk86tMT5AKdAn8iTxPEA2WaMeovEpQDZZox6i8SlAqmVrfZFkMUCqZWt9kWQxQI8uSXhVOjNALlbUYBquMUDXL9gN29Y6QJG4x9KHqjlAhnKiXYV0M0CU+x2KAoUyQIVNd7FDlzhA8G+JymDIOECJ4Mz8t784QDmgJ6Kg/jdAxbfYZGZ0OkAhyEEJM/U5QKpla32RZDFAuXVcPZU+OECqZWt9kWQxQEJg5dAiGzhAOaAnoqD+N0CPLkl4VTozQCHIQQkz9TlAieDM/Le/OECU+x2KAoUyQB8ByWEdtDxAjy5JeFU6M0Ap0CfyJPE8QIZyol2FdDNAuOnPfqQwNkCJ4Mz8t784QB8ByWEdtDxA/HqY0De0NkCPLkl4VTozQL3GLlG9mzhAxbfYZGZ0OkCU+x2KAoUyQI8uSXhVOjNAQmDl0CIbOECwj05d+Yw2QNUuk86tMT5AvcYuUb2bOEDXL9gN29Y6QLl1XD2VPjhAqmVrfZFkMUCPLkl4VTozQNcv2A3b1jpAIchBCTP1OUAuVtRgGq4xQJT7HYoChTJAOaAnoqD+N0C9xi5RvZs4QIVNd7FDlzhAqmVrfZFkMUDwb4nKYMg4QNcv2A3b1jpAqmVrfZFkMUA5oCeioP43QMW32GRmdDpANlmjHqLxKUCJ4Mz8t784QLCPTl35jDZAQmDl0CIbOECwj05d+Yw2QNcv2A3b1jpAuXVcPZU+OEAMsI9OXT02QB8ByWEdtDxALlbUYBquMUCwj05d+Yw2QOgg1Z0UKzdAqmVrfZFkMUCFTXexQ5c4QJT7HYoChTJANlmjHqLxKUC46c9+pDA2QInaI8FBADNAjy5JeFU6M0CRuMfSh6o5QEJg5dAiGzhAQmDl0CIbOEBCYOXQIhs4QEJg5dAiGzhA/HqY0De0NkDoINWdFCs3QDmgJ6Kg/jdAieDM/Le/OEC9xi5RvZs4QLl1XD2VPjhAxbfYZGZ0OkCwj05d+Yw2QPBvicpgyDhAIchBCTP1OUA2WaMeovEpQJG4x9KHqjlAKdAn8iTxPECFTXexQ5c4QNUuk86tMT5A1S6Tzq0xPkBg9VQQmUk6QCnQJ/Ik8TxAxbfYZGZ0OkDE2lOVHyQ5QNcv2A3b1jpAYPVUEJlJOkC5dVw9lT44QJT7HYoChTJAhU13sUOXOED8epjQN7Q2QCHIQQkz9TlALlbUYBquMUAhyEEJM/U5QKpla32RZDFADLCPTl09NkAp0CfyJPE8QLjpz36kMDZAkbjH0oeqOUBCYOXQIhs4QEJg5dAiGzhA1S6Tzq0xPkDVLpPOrTE+QMTaU5UfJDlAieDM/Le/OECU+x2KAoUyQIngzPy3vzhADLCPTl09NkCqZWt9kWQxQPBvicpgyDhAqmVrfZFkMUDVLpPOrTE+QIVNd7FDlzhAHwHJYR20PEAhyEEJM/U5QPx6mNA3tDZAkbjH0oeqOUDVLpPOrTE+QKpla32RZDFAQmDl0CIbOECJ4Mz8t784QJT7HYoChTJAHwHJYR20PEDwb4nKYMg4QDZZox6i8SlAvcYuUb2bOEC46c9+pDA2QKpla32RZDFA1S6Tzq0xPkC5dVw9lT44QEJg5dAiGzhANlmjHqLxKUC46c9+pDA2QMW32GRmdDpA1S6Tzq0xPkDE2lOVHyQ5QPx6mNA3tDZAKdAn8iTxPEA5oCeioP43QIngzPy3vzhAsI9OXfmMNkDFt9hkZnQ6QI8uSXhVOjNAvcYuUb2bOECwj05d+Yw2QGiR7Xw/LSpAhU13sUOXOEAa+ie4WP0zQKpla32RZDFA1y/YDdvWOkBg9VQQmUk6QCnQJ/Ik8TxAuOnPfqQwNkCFTXexQ5c4QLjpz36kMDZAOaAnoqD+N0A5oCeioP43QPBvicpgyDhA1S6Tzq0xPkC46c9+pDA2QNcv2A3b1jpAaJHtfD8tKkDE2lOVHyQ5QIZyol2FdDNAidojwUEAM0Cwj05d+Yw2QBr6J7hY/TNAaJHtfD8tKkAuVtRgGq4xQL3GLlG9mzhAidojwUEAM0CU+x2KAoUyQMW32GRmdDpAuOnPfqQwNkCU+x2KAoUyQLCPTl35jDZAhnKiXYV0M0DFt9hkZnQ6QAywj05dPTZAidojwUEAM0AfAclhHbQ8QLjpz36kMDZAieDM/Le/OECPLkl4VTozQDZZox6i8SlAuOnPfqQwNkCFTXexQ5c4QMW32GRmdDpA1S6Tzq0xPkBoke18Py0qQCnQJ/Ik8TxAqmVrfZFkMUAhyEEJM/U5QLl1XD2VPjhA/HqY0De0NkDE2lOVHyQ5QC5W1GAarjFAhnKiXYV0M0DE2lOVHyQ5QLl1XD2VPjhAhU13sUOXOECFTXexQ5c4QJT7HYoChTJAvcYuUb2bOEAp0CfyJPE8QIZyol2FdDNA8G+JymDIOEDFt9hkZnQ6QGD1VBCZSTpAuOnPfqQwNkC9xi5RvZs4QCHIQQkz9TlAqmVrfZFkMUCJ2iPBQQAzQJG4x9KHqjlAHwHJYR20PEC5dVw9lT44QNcv2A3b1jpAxbfYZGZ0OkD8epjQN7Q2QNcv2A3b1jpAqmVrfZFkMUBCYOXQIhs4QMW32GRmdDpAhU13sUOXOECRuMfSh6o5QCHIQQkz9TlA1y/YDdvWOkCGcqJdhXQzQMTaU5UfJDlAOaAnoqD+N0Cwj05d+Yw2QJT7HYoChTJALlbUYBquMUC9xi5RvZs4QNcv2A3b1jpAhnKiXYV0M0DVLpPOrTE+QNUuk86tMT5ADLCPTl09NkCwj05d+Yw2QLjpz36kMDZAvcYuUb2bOEDXL9gN29Y6QAywj05dPTZANlmjHqLxKUCqZWt9kWQxQDZZox6i8SlAuXVcPZU+OEDVLpPOrTE+QIZyol2FdDNAvcYuUb2bOEBoke18Py0qQL3GLlG9mzhAYPVUEJlJOkCFTXexQ5c4QI8uSXhVOjNAkbjH0oeqOUAhyEEJM/U5QLCPTl35jDZAqmVrfZFkMUCwj05d+Yw2QJG4x9KHqjlAxbfYZGZ0OkCJ4Mz8t784QLl1XD2VPjhAuOnPfqQwNkD8epjQN7Q2QDZZox6i8SlA8G+JymDIOEDFt9hkZnQ6QInaI8FBADNAHwHJYR20PEBoke18Py0qQOgg1Z0UKzdAaJHtfD8tKkCU+x2KAoUyQGiR7Xw/LSpADLCPTl09NkAMsI9OXT02QAywj05dPTZAuXVcPZU+OEAfAclhHbQ8QDmgJ6Kg/jdAhU13sUOXOEAp0CfyJPE8QLjpz36kMDZADLCPTl09NkA2WaMeovEpQIZyol2FdDNA1S6Tzq0xPkCGcqJdhXQzQNcv2A3b1jpAhnKiXYV0M0Bg9VQQmUk6QLjpz36kMDZAxbfYZGZ0OkDXL9gN29Y6QKpla32RZDFAjy5JeFU6M0DFt9hkZnQ6QB8ByWEdtDxALlbUYBquMUCFTXexQ5c4QIVNd7FDlzhA6CDVnRQrN0CJ4Mz8t784QMW32GRmdDpAvcYuUb2bOEC5dVw9lT44QPBvicpgyDhAuOnPfqQwNkBoke18Py0qQInaI8FBADNADLCPTl09NkDwb4nKYMg4QMW32GRmdDpALlbUYBquMUAuVtRgGq4xQIVNd7FDlzhAkbjH0oeqOUCFTXexQ5c4QIngzPy3vzhAidojwUEAM0CU+x2KAoUyQC5W1GAarjFAieDM/Le/OEDVLpPOrTE+QLjpz36kMDZAidojwUEAM0CU+x2KAoUyQOgg1Z0UKzdAidojwUEAM0Dwb4nKYMg4QJT7HYoChTJAKdAn8iTxPEC5dVw9lT44QL3GLlG9mzhAxbfYZGZ0OkA5oCeioP43QAywj05dPTZA1S6Tzq0xPkAfAclhHbQ8QCHIQQkz9TlAxNpTlR8kOUAp0CfyJPE8QIZyol2FdDNAsI9OXfmMNkAp0CfyJPE8QJT7HYoChTJAOaAnoqD+N0CJ2iPBQQAzQJG4x9KHqjlA8G+JymDIOEDFt9hkZnQ6QLjpz36kMDZAKdAn8iTxPEAa+ie4WP0zQEJg5dAiGzhAqmVrfZFkMUCU+x2KAoUyQNcv2A3b1jpA8G+JymDIOECJ2iPBQQAzQLCPTl35jDZAqmVrfZFkMUCqZWt9kWQxQKpla32RZDFAkbjH0oeqOUCGcqJdhXQzQCnQJ/Ik8TxAKdAn8iTxPEAuVtRgGq4xQI8uSXhVOjNANlmjHqLxKUCwj05d+Yw2QNcv2A3b1jpALlbUYBquMUC46c9+pDA2QLl1XD2VPjhAhnKiXYV0M0C9xi5RvZs4QInaI8FBADNAKdAn8iTxPEDXL9gN29Y6QKpla32RZDFAIchBCTP1OUCFTXexQ5c4QI8uSXhVOjNA1S6Tzq0xPkCqZWt9kWQxQPx6mNA3tDZAOaAnoqD+N0BCYOXQIhs4QBr6J7hY/TNAhnKiXYV0M0CPLkl4VTozQL3GLlG9mzhAqmVrfZFkMUC9xi5RvZs4QIVNd7FDlzhAuOnPfqQwNkCPLkl4VTozQDZZox6i8SlAKdAn8iTxPEBoke18Py0qQCHIQQkz9TlAHwHJYR20PEDFt9hkZnQ6QGiR7Xw/LSpAieDM/Le/OECJ2iPBQQAzQKpla32RZDFAkbjH0oeqOUCFTXexQ5c4QPBvicpgyDhAQmDl0CIbOEBg9VQQmUk6QNUuk86tMT5AqmVrfZFkMUCPLkl4VTozQLjpz36kMDZANlmjHqLxKUC46c9+pDA2QIVNd7FDlzhA1S6Tzq0xPkDoINWdFCs3QIVNd7FDlzhAQmDl0CIbOEC46c9+pDA2QNUuk86tMT5AYPVUEJlJOkA5oCeioP43QLCPTl35jDZAxbfYZGZ0OkCFTXexQ5c4QGiR7Xw/LSpAvcYuUb2bOEAuVtRgGq4xQPBvicpgyDhAqmVrfZFkMUC46c9+pDA2QLl1XD2VPjhAjy5JeFU6M0DXL9gN29Y6QLCPTl35jDZAlPsdigKFMkDVLpPOrTE+QNUuk86tMT5AxbfYZGZ0OkC9xi5RvZs4QLl1XD2VPjhAvcYuUb2bOEC5dVw9lT44QNcv2A3b1jpAYPVUEJlJOkC5dVw9lT44QMW32GRmdDpAxbfYZGZ0OkA5oCeioP43QKpla32RZDFAOaAnoqD+N0CGcqJdhXQzQDmgJ6Kg/jdAhU13sUOXOEBg9VQQmUk6QInaI8FBADNA6CDVnRQrN0DFt9hkZnQ6QBr6J7hY/TNA8G+JymDIOEAa+ie4WP0zQLCPTl35jDZAaJHtfD8tKkCwj05d+Yw2QL3GLlG9mzhADLCPTl09NkAMsI9OXT02QInaI8FBADNAHwHJYR20PECJ2iPBQQAzQKpla32RZDFAhU13sUOXOEAuVtRgGq4xQMH/VrJjHzVAhU13sUOXOECwj05d+Yw2QKpla32RZDFAuOnPfqQwNkCJ4Mz8t784QAywj05dPTZADLCPTl09NkDoINWdFCs3QPBvicpgyDhAlPsdigKFMkDXL9gN29Y6QEJg5dAiGzhA6CDVnRQrN0C5dVw9lT44QDZZox6i8SlA8G+JymDIOEDoINWdFCs3QJG4x9KHqjlAidojwUEAM0DXL9gN29Y6QL3GLlG9mzhAuXVcPZU+OEBoke18Py0qQNcv2A3b1jpAvcYuUb2bOEDXL9gN29Y6QKpla32RZDFAaJHtfD8tKkDFt9hkZnQ6QGD1VBCZSTpAGvonuFj9M0AuVtRgGq4xQLjpz36kMDZANlmjHqLxKUA5oCeioP43QLjpz36kMDZAYPVUEJlJOkC9xi5RvZs4QLl1XD2VPjhAhU13sUOXOECJ2iPBQQAzQDmgJ6Kg/jdAHwHJYR20PECGcqJdhXQzQB8ByWEdtDxAxNpTlR8kOUBoke18Py0qQC5W1GAarjFAHwHJYR20PEAp0CfyJPE8QNcv2A3b1jpAidojwUEAM0CPLkl4VTozQIZyol2FdDNAuOnPfqQwNkCRuMfSh6o5QMW32GRmdDpALlbUYBquMUAMsI9OXT02QEJg5dAiGzhAxbfYZGZ0OkAfAclhHbQ8QMTaU5UfJDlAhU13sUOXOECGcqJdhXQzQCnQJ/Ik8TxAGvonuFj9M0D8epjQN7Q2QB8ByWEdtDxAaJHtfD8tKkBg9VQQmUk6QEJg5dAiGzhA8G+JymDIOEDoINWdFCs3QIVNd7FDlzhAqmVrfZFkMUAuVtRgGq4xQGD1VBCZSTpAuXVcPZU+OECRuMfSh6o5QLCPTl35jDZAGvonuFj9M0CPLkl4VTozQGiR7Xw/LSpAsI9OXfmMNkCJ4Mz8t784QI8uSXhVOjNAieDM/Le/OEAhyEEJM/U5QL3GLlG9mzhA/HqY0De0NkCJ4Mz8t784QI8uSXhVOjNA/HqY0De0NkC46c9+pDA2QEJg5dAiGzhAIchBCTP1OUAfAclhHbQ8QLl1XD2VPjhAlPsdigKFMkDXL9gN29Y6QLl1XD2VPjhAuXVcPZU+OEAfAclhHbQ8QLjpz36kMDZAhnKiXYV0M0AfAclhHbQ8QDZZox6i8SlAjy5JeFU6M0C9xi5RvZs4QI8uSXhVOjNADLCPTl09NkCRuMfSh6o5QIZyol2FdDNAxbfYZGZ0OkCU+x2KAoUyQCHIQQkz9TlAlPsdigKFMkDFt9hkZnQ6QLjpz36kMDZAsI9OXfmMNkC9xi5RvZs4QJG4x9KHqjlAuXVcPZU+OEBCYOXQIhs4QPBvicpgyDhAxbfYZGZ0OkCFTXexQ5c4QNcv2A3b1jpAqmVrfZFkMUDVLpPOrTE+QNcv2A3b1jpANlmjHqLxKUBoke18Py0qQNUuk86tMT5ALlbUYBquMUAuVtRgGq4xQIVNd7FDlzhADLCPTl09NkAa+ie4WP0zQPx6mNA3tDZAsI9OXfmMNkC46c9+pDA2QPBvicpgyDhAqmVrfZFkMUDwb4nKYMg4QKpla32RZDFAYPVUEJlJOkC9xi5RvZs4QPx6mNA3tDZAhnKiXYV0M0CJ4Mz8t784QIZyol2FdDNA1y/YDdvWOkCFTXexQ5c4QGiR7Xw/LSpAhU13sUOXOEAhyEEJM/U5QCHIQQkz9TlAhnKiXYV0M0CGcqJdhXQzQI8uSXhVOjNA1y/YDdvWOkAuVtRgGq4xQJG4x9KHqjlAGvonuFj9M0DFt9hkZnQ6QC5W1GAarjFAKdAn8iTxPEBg9VQQmUk6QNcv2A3b1jpAHwHJYR20PEC5dVw9lT44QIngzPy3vzhAhnKiXYV0M0AuVtRgGq4xQIngzPy3vzhAvcYuUb2bOECU+x2KAoUyQL3GLlG9mzhAxbfYZGZ0OkCU+x2KAoUyQMW32GRmdDpAOaAnoqD+N0CqZWt9kWQxQLjpz36kMDZAOaAnoqD+N0C5dVw9lT44QLCPTl35jDZAGvonuFj9M0AfAclhHbQ8QC5W1GAarjFAqmVrfZFkMUAMsI9OXT02QEJg5dAiGzhADLCPTl09NkAp0CfyJPE8QMTaU5UfJDlAlPsdigKFMkDVLpPOrTE+QLjpz36kMDZA6CDVnRQrN0AfAclhHbQ8QPBvicpgyDhAjy5JeFU6M0AhyEEJM/U5QL3GLlG9mzhALlbUYBquMUAuVtRgGq4xQIngzPy3vzhAidojwUEAM0DVLpPOrTE+QAywj05dPTZAIchBCTP1OUC46c9+pDA2QAywj05dPTZAuOnPfqQwNkCqZWt9kWQxQNUuk86tMT5A1S6Tzq0xPkCJ2iPBQQAzQC5W1GAarjFAYPVUEJlJOkC5dVw9lT44QI8uSXhVOjNAjy5JeFU6M0Cwj05d+Yw2QC5W1GAarjFA/HqY0De0NkDE2lOVHyQ5QNcv2A3b1jpAKdAn8iTxPEA2WaMeovEpQLjpz36kMDZAsI9OXfmMNkBg9VQQmUk6QIngzPy3vzhAuOnPfqQwNkBg9VQQmUk6QLjpz36kMDZAQmDl0CIbOEDVLpPOrTE+QAywj05dPTZA8G+JymDIOED8epjQN7Q2QDZZox6i8SlAaJHtfD8tKkCqZWt9kWQxQL3GLlG9mzhA1y/YDdvWOkDVLpPOrTE+QDZZox6i8SlA1S6Tzq0xPkCqZWt9kWQxQLjpz36kMDZAIchBCTP1OUAhyEEJM/U5QIVNd7FDlzhA8G+JymDIOECJ2iPBQQAzQLCPTl35jDZA1y/YDdvWOkCJ2iPBQQAzQB8ByWEdtDxA8G+JymDIOEAuVtRgGq4xQL3GLlG9mzhAhU13sUOXOEBCYOXQIhs4QLjpz36kMDZAYPVUEJlJOkAhyEEJM/U5QLjpz36kMDZA6CDVnRQrN0AuVtRgGq4xQOgg1Z0UKzdAuOnPfqQwNkCRuMfSh6o5QKpla32RZDFAGvonuFj9M0AhyEEJM/U5QMTaU5UfJDlAjy5JeFU6M0A2WaMeovEpQMTaU5UfJDlA1S6Tzq0xPkAp0CfyJPE8QEJg5dAiGzhAqmVrfZFkMUCqZWt9kWQxQC5W1GAarjFA1S6Tzq0xPkAfAclhHbQ8QDmgJ6Kg/jdAuOnPfqQwNkCwj05d+Yw2QMW32GRmdDpAxbfYZGZ0OkD8epjQN7Q2QInaI8FBADNAuXVcPZU+OEA5oCeioP43QKpla32RZDFAuOnPfqQwNkDXL9gN29Y6QAywj05dPTZAOaAnoqD+N0DoINWdFCs3QLCPTl35jDZAjy5JeFU6M0Dwb4nKYMg4QLjpz36kMDZAieDM/Le/OEBCYOXQIhs4QLjpz36kMDZAhnKiXYV0M0Aa+ie4WP0zQIngzPy3vzhAIchBCTP1OUDwb4nKYMg4QB8ByWEdtDxAieDM/Le/OEAp0CfyJPE8QJT7HYoChTJAidojwUEAM0C46c9+pDA2QCnQJ/Ik8TxAlPsdigKFMkCU+x2KAoUyQJG4x9KHqjlAuOnPfqQwNkCJ4Mz8t784QL3GLlG9mzhA1y/YDdvWOkCFTXexQ5c4QPx6mNA3tDZAkbjH0oeqOUCGcqJdhXQzQLCPTl35jDZAhU13sUOXOEAuVtRgGq4xQGiR7Xw/LSpA8G+JymDIOECJ2iPBQQAzQMW32GRmdDpAGvonuFj9M0CJ4Mz8t784QNcv2A3b1jpAOaAnoqD+N0AuVtRgGq4xQI8uSXhVOjNAieDM/Le/OEA2WaMeovEpQIZyol2FdDNAieDM/Le/OEAfAclhHbQ8QEJg5dAiGzhAIchBCTP1OUCU+x2KAoUyQCnQJ/Ik8TxALlbUYBquMUC9xi5RvZs4QIZyol2FdDNA1y/YDdvWOkDFt9hkZnQ6QAywj05dPTZAuOnPfqQwNkD8epjQN7Q2QKpla32RZDFAvcYuUb2bOEDVLpPOrTE+QNcv2A3b1jpALlbUYBquMUAp0CfyJPE8QIZyol2FdDNADLCPTl09NkAhyEEJM/U5QGiR7Xw/LSpANlmjHqLxKUAp0CfyJPE8QNcv2A3b1jpAvcYuUb2bOECRuMfSh6o5QL3GLlG9mzhAhnKiXYV0M0CqZWt9kWQxQIZyol2FdDNAGvonuFj9M0A2WaMeovEpQLl1XD2VPjhALlbUYBquMUCFTXexQ5c4QCHIQQkz9TlA8G+JymDIOEBCYOXQIhs4QIngzPy3vzhAhU13sUOXOEDFt9hkZnQ6QLl1XD2VPjhAuXVcPZU+OECFTXexQ5c4QJT7HYoChTJAhnKiXYV0M0A5oCeioP43QI8uSXhVOjNAaJHtfD8tKkCqZWt9kWQxQLCPTl35jDZAjy5JeFU6M0C46c9+pDA2QIVNd7FDlzhAaJHtfD8tKkCFTXexQ5c4QDmgJ6Kg/jdAqmVrfZFkMUDVLpPOrTE+QLjpz36kMDZA1y/YDdvWOkDE2lOVHyQ5QBr6J7hY/TNAxbfYZGZ0OkDoINWdFCs3QIVNd7FDlzhAidojwUEAM0Boke18Py0qQC5W1GAarjFAuOnPfqQwNkC9xi5RvZs4QIZyol2FdDNAuOnPfqQwNkA5oCeioP43QAywj05dPTZAieDM/Le/OECU+x2KAoUyQNcv2A3b1jpAuOnPfqQwNkDwb4nKYMg4QGD1VBCZSTpAidojwUEAM0C5dVw9lT44QNUuk86tMT5AHwHJYR20PEC9xi5RvZs4QCHIQQkz9TlAvcYuUb2bOEAp0CfyJPE8QL3GLlG9mzhAuXVcPZU+OECRuMfSh6o5QL3GLlG9mzhAaJHtfD8tKkDoINWdFCs3QJG4x9KHqjlAQmDl0CIbOEC46c9+pDA2QIVNd7FDlzhAOaAnoqD+N0DXL9gN29Y6QL3GLlG9mzhAHwHJYR20PEDFt9hkZnQ6QLl1XD2VPjhALlbUYBquMUDE2lOVHyQ5QCHIQQkz9TlALlbUYBquMUCU+x2KAoUyQGiR7Xw/LSpAjy5JeFU6M0AMsI9OXT02QEJg5dAiGzhA8G+JymDIOECGcqJdhXQzQDZZox6i8SlA1y/YDdvWOkCwj05d+Yw2QDmgJ6Kg/jdAxbfYZGZ0OkCGcqJdhXQzQIVNd7FDlzhALlbUYBquMUAa+ie4WP0zQEJg5dAiGzhA1y/YDdvWOkDVLpPOrTE+QGiR7Xw/LSpAQmDl0CIbOEAp0CfyJPE8QC5W1GAarjFAkbjH0oeqOUAhyEEJM/U5QLl1XD2VPjhAhnKiXYV0M0Aa+ie4WP0zQCHIQQkz9TlAIchBCTP1OUBoke18Py0qQLjpz36kMDZAqmVrfZFkMUCqZWt9kWQxQOgg1Z0UKzdAxbfYZGZ0OkC5dVw9lT44QCHIQQkz9TlAHwHJYR20PEAfAclhHbQ8QInaI8FBADNAOaAnoqD+N0DXL9gN29Y6QB8ByWEdtDxAqmVrfZFkMUCRuMfSh6o5QNUuk86tMT5A1y/YDdvWOkCU+x2KAoUyQNcv2A3b1jpAuXVcPZU+OECGcqJdhXQzQLjpz36kMDZAxNpTlR8kOUAp0CfyJPE8QL3GLlG9mzhALlbUYBquMUCGcqJdhXQzQCHIQQkz9TlAaJHtfD8tKkCGcqJdhXQzQIngzPy3vzhALlbUYBquMUC5dVw9lT44QJG4x9KHqjlA1y/YDdvWOkCJ4Mz8t784QOgg1Z0UKzdAIchBCTP1OUA5oCeioP43QNUuk86tMT5AxbfYZGZ0OkCJ4Mz8t784QLjpz36kMDZAsI9OXfmMNkAp0CfyJPE8QJG4x9KHqjlAhU13sUOXOEC5dVw9lT44QI8uSXhVOjNAGvonuFj9M0CFTXexQ5c4QPBvicpgyDhAhU13sUOXOECPLkl4VTozQLjpz36kMDZAuOnPfqQwNkCJ4Mz8t784QNcv2A3b1jpA8G+JymDIOEC9xi5RvZs4QNcv2A3b1jpAhnKiXYV0M0AMsI9OXT02QIVNd7FDlzhAIchBCTP1OUAMsI9OXT02QLl1XD2VPjhAjy5JeFU6M0CGcqJdhXQzQC5W1GAarjFAhU13sUOXOECqZWt9kWQxQEJg5dAiGzhAQmDl0CIbOEAp0CfyJPE8QNUuk86tMT5AqmVrfZFkMUAp0CfyJPE8QInaI8FBADNADLCPTl09NkCFTXexQ5c4QOgg1Z0UKzdAlPsdigKFMkBCYOXQIhs4QNUuk86tMT5A1y/YDdvWOkA5oCeioP43QCnQJ/Ik8TxAhU13sUOXOEDVLpPOrTE+QDmgJ6Kg/jdAuOnPfqQwNkAhyEEJM/U5QInaI8FBADNAsI9OXfmMNkAhyEEJM/U5QIngzPy3vzhA8G+JymDIOECwj05d+Yw2QNcv2A3b1jpAjy5JeFU6M0A2WaMeovEpQOgg1Z0UKzdA6CDVnRQrN0DFt9hkZnQ6QIngzPy3vzhAhU13sUOXOEA2WaMeovEpQC5W1GAarjFAxbfYZGZ0OkCRuMfSh6o5QGiR7Xw/LSpAQmDl0CIbOEA2WaMeovEpQI8uSXhVOjNAjy5JeFU6M0CqZWt9kWQxQIZyol2FdDNAuXVcPZU+OEC46c9+pDA2QCHIQQkz9TlAvcYuUb2bOEDE2lOVHyQ5QIVNd7FDlzhALlbUYBquMUC46c9+pDA2QI8uSXhVOjNA1y/YDdvWOkAfAclhHbQ8QAywj05dPTZAKdAn8iTxPEAfAclhHbQ8QMW32GRmdDpANlmjHqLxKUAMsI9OXT02QLCPTl35jDZAuOnPfqQwNkDoINWdFCs3QPBvicpgyDhAxNpTlR8kOUDFt9hkZnQ6QPBvicpgyDhAuOnPfqQwNkDwb4nKYMg4QIZyol2FdDNAKdAn8iTxPECwj05d+Yw2QMTaU5UfJDlAidojwUEAM0CPLkl4VTozQLjpz36kMDZAKdAn8iTxPEC46c9+pDA2QKpla32RZDFAuOnPfqQwNkDVLpPOrTE+QLl1XD2VPjhAidojwUEAM0DXL9gN29Y6QDZZox6i8SlAkbjH0oeqOUDFt9hkZnQ6QJT7HYoChTJAlPsdigKFMkCwj05d+Yw2QGD1VBCZSTpA1S6Tzq0xPkAuVtRgGq4xQDZZox6i8SlAQmDl0CIbOEDoINWdFCs3QIngzPy3vzhAxNpTlR8kOUC46c9+pDA2QMW32GRmdDpAhU13sUOXOECGcqJdhXQzQC5W1GAarjFAuOnPfqQwNkDFt9hkZnQ6QKpla32RZDFAuOnPfqQwNkDoINWdFCs3QNcv2A3b1jpAjy5JeFU6M0CRuMfSh6o5QJG4x9KHqjlAlPsdigKFMkDwb4nKYMg4QCnQJ/Ik8TxAhnKiXYV0M0C46c9+pDA2QGiR7Xw/LSpAsI9OXfmMNkCGcqJdhXQzQAywj05dPTZA8G+JymDIOEBg9VQQmUk6QCHIQQkz9TlAxbfYZGZ0OkDoINWdFCs3QNcv2A3b1jpAxNpTlR8kOUDVLpPOrTE+QPBvicpgyDhAieDM/Le/OEDXL9gN29Y6QAywj05dPTZAuOnPfqQwNkAMsI9OXT02QKpla32RZDFAjy5JeFU6M0A5oCeioP43QEJg5dAiGzhAIchBCTP1OUCJ2iPBQQAzQPBvicpgyDhAlPsdigKFMkDVLpPOrTE+QMW32GRmdDpAjy5JeFU6M0CqZWt9kWQxQPBvicpgyDhAjy5JeFU6M0C46c9+pDA2QL3GLlG9mzhAuOnPfqQwNkDE2lOVHyQ5QNcv2A3b1jpAuOnPfqQwNkC9xi5RvZs4QDZZox6i8SlAvcYuUb2bOEC46c9+pDA2QAywj05dPTZAIchBCTP1OUCU+x2KAoUyQEJg5dAiGzhAKdAn8iTxPECU+x2KAoUyQIngzPy3vzhAsI9OXfmMNkC9xi5RvZs4QPBvicpgyDhAGvonuFj9M0C9xi5RvZs4QPBvicpgyDhANlmjHqLxKUCFTXexQ5c4QLjpz36kMDZAGvonuFj9M0CPLkl4VTozQDZZox6i8SlAaJHtfD8tKkCwj05d+Yw2QLl1XD2VPjhAqmVrfZFkMUC9xi5RvZs4QLCPTl35jDZAjy5JeFU6M0Boke18Py0qQDmgJ6Kg/jdAqmVrfZFkMUCPLkl4VTozQIVNd7FDlzhAaJHtfD8tKkA5oCeioP43QOgg1Z0UKzdAkbjH0oeqOUC5dVw9lT44QNUuk86tMT5AhU13sUOXOEC46c9+pDA2QMTaU5UfJDlA1y/YDdvWOkCJ4Mz8t784QLjpz36kMDZAhnKiXYV0M0C9xi5RvZs4QJT7HYoChTJAhU13sUOXOEBCYOXQIhs4QC5W1GAarjFAHwHJYR20PEA2WaMeovEpQMW32GRmdDpAQmDl0CIbOECFTXexQ5c4QMW32GRmdDpAaJHtfD8tKkDE2lOVHyQ5QCHIQQkz9TlANlmjHqLxKUAhyEEJM/U5QLjpz36kMDZA6CDVnRQrN0DE2lOVHyQ5QL3GLlG9mzhAxNpTlR8kOUBoke18Py0qQDmgJ6Kg/jdAaJHtfD8tKkCqZWt9kWQxQLCPTl35jDZAvcYuUb2bOEBoke18Py0qQKpla32RZDFAhU13sUOXOECPLkl4VTozQLl1XD2VPjhAxbfYZGZ0OkDXL9gN29Y6QCHIQQkz9TlAsI9OXfmMNkCqZWt9kWQxQNUuk86tMT5AieDM/Le/OECU+x2KAoUyQB8ByWEdtDxAqmVrfZFkMUCJ4Mz8t784QL3GLlG9mzhAOaAnoqD+N0AuVtRgGq4xQB8ByWEdtDxAieDM/Le/OEC46c9+pDA2QL3GLlG9mzhAhU13sUOXOECGcqJdhXQzQIZyol2FdDNAxNpTlR8kOUCRuMfSh6o5QLjpz36kMDZAieDM/Le/OECJ4Mz8t784QJT7HYoChTJAQmDl0CIbOEAuVtRgGq4xQIZyol2FdDNAqmVrfZFkMUDoINWdFCs3QLjpz36kMDZAieDM/Le/OEC9xi5RvZs4QJG4x9KHqjlANlmjHqLxKUA5oCeioP43QB8ByWEdtDxAvcYuUb2bOECJ2iPBQQAzQL3GLlG9mzhALlbUYBquMUBoke18Py0qQNcv2A3b1jpAGvonuFj9M0DXL9gN29Y6QLjpz36kMDZA8G+JymDIOEC5dVw9lT44QNcv2A3b1jpAGvonuFj9M0Aa+ie4WP0zQIZyol2FdDNAhnKiXYV0M0A2WaMeovEpQIZyol2FdDNAOaAnoqD+N0C46c9+pDA2QNcv2A3b1jpAxbfYZGZ0OkDwb4nKYMg4QJT7HYoChTJAhnKiXYV0M0DVLpPOrTE+QMTaU5UfJDlAhU13sUOXOEC46c9+pDA2QGD1VBCZSTpAhU13sUOXOEA5oCeioP43QLCPTl35jDZAhU13sUOXOEA2WaMeovEpQI8uSXhVOjNAaJHtfD8tKkCFTXexQ5c4QNUuk86tMT5A8G+JymDIOECJ2iPBQQAzQInaI8FBADNA1y/YDdvWOkAfAclhHbQ8QI8uSXhVOjNAsI9OXfmMNkC46c9+pDA2QOgg1Z0UKzdAqmVrfZFkMUBCYOXQIhs4QPBvicpgyDhA1y/YDdvWOkCJ2iPBQQAzQKpla32RZDFAqmVrfZFkMUC46c9+pDA2QJT7HYoChTJAxbfYZGZ0OkCU+x2KAoUyQCHIQQkz9TlALlbUYBquMUDwb4nKYMg4QLl1XD2VPjhAhU13sUOXOEAuVtRgGq4xQMTaU5UfJDlAOaAnoqD+N0CqZWt9kWQxQIZyol2FdDNAqmVrfZFkMUDVLpPOrTE+QJT7HYoChTJAIchBCTP1OUBoke18Py0qQBr6J7hY/TNA/HqY0De0NkDVLpPOrTE+QNUuk86tMT5AaJHtfD8tKkCPLkl4VTozQDZZox6i8SlAhnKiXYV0M0C5dVw9lT44QAywj05dPTZANlmjHqLxKUA5oCeioP43QInaI8FBADNAqmVrfZFkMUAfAclhHbQ8QLCPTl35jDZAsI9OXfmMNkAfAclhHbQ8QMW32GRmdDpADLCPTl09NkBCYOXQIhs4QMTaU5UfJDlA1y/YDdvWOkBoke18Py0qQLl1XD2VPjhA/HqY0De0NkAfAclhHbQ8QPBvicpgyDhAYPVUEJlJOkDVLpPOrTE+QIngzPy3vzhAGvonuFj9M0CJ2iPBQQAzQI8uSXhVOjNAlPsdigKFMkC46c9+pDA2QIVNd7FDlzhADLCPTl09NkCJ2iPBQQAzQLl1XD2VPjhAieDM/Le/OEA5oCeioP43QLjpz36kMDZAuXVcPZU+OECJ4Mz8t784QKpla32RZDFA8G+JymDIOEC46c9+pDA2QBr6J7hY/TNAuOnPfqQwNkAa+ie4WP0zQGiR7Xw/LSpA1y/YDdvWOkAhyEEJM/U5QBr6J7hY/TNAxbfYZGZ0OkAa+ie4WP0zQInaI8FBADNAOaAnoqD+N0C46c9+pDA2QInaI8FBADNAuOnPfqQwNkCU+x2KAoUyQIVNd7FDlzhANlmjHqLxKUCqZWt9kWQxQLl1XD2VPjhAuXVcPZU+OECFTXexQ5c4QPBvicpgyDhAuXVcPZU+OEAa+ie4WP0zQLjpz36kMDZAxbfYZGZ0OkDVLpPOrTE+QNcv2A3b1jpAieDM/Le/OEC46c9+pDA2QI8uSXhVOjNAlPsdigKFMkCwj05d+Yw2QC5W1GAarjFAQmDl0CIbOEA2WaMeovEpQGD1VBCZSTpAqmVrfZFkMUC9xi5RvZs4QC5W1GAarjFAqmVrfZFkMUCFTXexQ5c4QIZyol2FdDNAhU13sUOXOECFTXexQ5c4QLjpz36kMDZAidojwUEAM0Dwb4nKYMg4QKpla32RZDFAOaAnoqD+N0CqZWt9kWQxQIVNd7FDlzhA/HqY0De0NkDwb4nKYMg4QLCPTl35jDZAjy5JeFU6M0C46c9+pDA2QKpla32RZDFA8G+JymDIOEAhyEEJM/U5QPBvicpgyDhAlPsdigKFMkCJ4Mz8t784QC5W1GAarjFAKdAn8iTxPECU+x2KAoUyQIngzPy3vzhAOaAnoqD+N0DFt9hkZnQ6QCHIQQkz9TlAxbfYZGZ0OkCRuMfSh6o5QIZyol2FdDNANlmjHqLxKUDwb4nKYMg4QJT7HYoChTJA1y/YDdvWOkDoINWdFCs3QC5W1GAarjFAqmVrfZFkMUAMsI9OXT02QC5W1GAarjFAhU13sUOXOECwj05d+Yw2QOgg1Z0UKzdAhnKiXYV0M0CGcqJdhXQzQEJg5dAiGzhAIchBCTP1OUC46c9+pDA2QIZyol2FdDNAxbfYZGZ0OkBoke18Py0qQMTaU5UfJDlAaJHtfD8tKkDwb4nKYMg4QCnQJ/Ik8TxA6CDVnRQrN0DoINWdFCs3QPBvicpgyDhAKdAn8iTxPEDFt9hkZnQ6QNcv2A3b1jpAQmDl0CIbOEA5oCeioP43QLjpz36kMDZA8G+JymDIOEDwb4nKYMg4QIZyol2FdDNAqmVrfZFkMUAp0CfyJPE8QB8ByWEdtDxAuXVcPZU+OEAuVtRgGq4xQMTaU5UfJDlAjy5JeFU6M0DXL9gN29Y6QOgg1Z0UKzdAsI9OXfmMNkDoINWdFCs3QGD1VBCZSTpAuXVcPZU+OED8epjQN7Q2QLjpz36kMDZADLCPTl09NkCJ2iPBQQAzQCHIQQkz9TlAxNpTlR8kOUBCYOXQIhs4QC5W1GAarjFAhU13sUOXOECRuMfSh6o5QLjpz36kMDZAlPsdigKFMkC9xi5RvZs4QCnQJ/Ik8TxAIchBCTP1OUDXL9gN29Y6QPBvicpgyDhA/HqY0De0NkBCYOXQIhs4QPx6mNA3tDZAQmDl0CIbOEBg9VQQmUk6QGiR7Xw/LSpAhU13sUOXOECGcqJdhXQzQJT7HYoChTJAjy5JeFU6M0Dwb4nKYMg4QCnQJ/Ik8TxAjy5JeFU6M0DFt9hkZnQ6QGiR7Xw/LSpA1S6Tzq0xPkCPLkl4VTozQIngzPy3vzhAaJHtfD8tKkC9xi5RvZs4QLl1XD2VPjhAqmVrfZFkMUCGcqJdhXQzQGD1VBCZSTpAidojwUEAM0CU+x2KAoUyQAywj05dPTZAxNpTlR8kOUAhyEEJM/U5QB8ByWEdtDxAxbfYZGZ0OkDFt9hkZnQ6QBr6J7hY/TNAOaAnoqD+N0CU+x2KAoUyQPx6mNA3tDZAxNpTlR8kOUDFt9hkZnQ6QGiR7Xw/LSpAqmVrfZFkMUC46c9+pDA2QIZyol2FdDNAieDM/Le/OECPLkl4VTozQLl1XD2VPjhA/HqY0De0NkAhyEEJM/U5QGD1VBCZSTpA1S6Tzq0xPkCU+x2KAoUyQIZyol2FdDNAuXVcPZU+OEC5dVw9lT44QLjpz36kMDZAuOnPfqQwNkAuVtRgGq4xQJT7HYoChTJAxNpTlR8kOUCGcqJdhXQzQC5W1GAarjFAxbfYZGZ0OkC46c9+pDA2QI8uSXhVOjNAieDM/Le/OEC46c9+pDA2QIZyol2FdDNA1y/YDdvWOkCqZWt9kWQxQLl1XD2VPjhAqmVrfZFkMUC46c9+pDA2QBr6J7hY/TNAIchBCTP1OUCqZWt9kWQxQEJg5dAiGzhAsI9OXfmMNkDFt9hkZnQ6QOgg1Z0UKzdAGvonuFj9M0Dwb4nKYMg4QIngzPy3vzhAYPVUEJlJOkDVLpPOrTE+QJG4x9KHqjlAieDM/Le/OEDFt9hkZnQ6QGD1VBCZSTpA6CDVnRQrN0CGcqJdhXQzQPBvicpgyDhAhU13sUOXOECJ4Mz8t784QBr6J7hY/TNAsI9OXfmMNkDXL9gN29Y6QEJg5dAiGzhAqmVrfZFkMUC46c9+pDA2QCHIQQkz9TlAQmDl0CIbOECJ2iPBQQAzQNcv2A3b1jpAqmVrfZFkMUDFt9hkZnQ6QNcv2A3b1jpAxbfYZGZ0OkDXL9gN29Y6QLl1XD2VPjhAuOnPfqQwNkDFt9hkZnQ6QNUuk86tMT5AuOnPfqQwNkA2WaMeovEpQJT7HYoChTJAjy5JeFU6M0BCYOXQIhs4QMH/VrJjHzVA/HqY0De0NkCGcqJdhXQzQNUuk86tMT5A1S6Tzq0xPkDoINWdFCs3QNUuk86tMT5AuOnPfqQwNkC5dVw9lT44QMW32GRmdDpAuOnPfqQwNkDXL9gN29Y6QB8ByWEdtDxA1y/YDdvWOkD8epjQN7Q2QJG4x9KHqjlANlmjHqLxKUBoke18Py0qQLl1XD2VPjhAxbfYZGZ0OkC5dVw9lT44QAywj05dPTZAOaAnoqD+N0DVLpPOrTE+QIZyol2FdDNAieDM/Le/OECwj05d+Yw2QJG4x9KHqjlAHwHJYR20PECGcqJdhXQzQEJg5dAiGzhAaJHtfD8tKkBCYOXQIhs4QNcv2A3b1jpAhnKiXYV0M0CRuMfSh6o5QL3GLlG9mzhAxbfYZGZ0OkCFTXexQ5c4QIngzPy3vzhAidojwUEAM0Dwb4nKYMg4QGiR7Xw/LSpAIchBCTP1OUC5dVw9lT44QPBvicpgyDhAqmVrfZFkMUAa+ie4WP0zQL3GLlG9mzhAqmVrfZFkMUDoINWdFCs3QB8ByWEdtDxAqmVrfZFkMUDE2lOVHyQ5QNcv2A3b1jpAxNpTlR8kOUDoINWdFCs3QMTaU5UfJDlAjy5JeFU6M0C9xi5RvZs4QMW32GRmdDpAGvonuFj9M0DE2lOVHyQ5QI8uSXhVOjNAxbfYZGZ0OkC5dVw9lT44QJT7HYoChTJAaJHtfD8tKkDVLpPOrTE+QMW32GRmdDpA1y/YDdvWOkBg9VQQmUk6QLCPTl35jDZADLCPTl09NkDwb4nKYMg4QIVNd7FDlzhAaJHtfD8tKkCwj05d+Yw2QMTaU5UfJDlAHwHJYR20PEDFt9hkZnQ6QLCPTl35jDZAxbfYZGZ0OkDoINWdFCs3QJT7HYoChTJAqmVrfZFkMUCwj05d+Yw2QPBvicpgyDhAkbjH0oeqOUCGcqJdhXQzQC5W1GAarjFAHwHJYR20PECwj05d+Yw2QLjpz36kMDZA1y/YDdvWOkDVLpPOrTE+QGiR7Xw/LSpAuXVcPZU+OEDXL9gN29Y6QIZyol2FdDNAxbfYZGZ0OkBg9VQQmUk6QCHIQQkz9TlAuXVcPZU+OEDE2lOVHyQ5QI8uSXhVOjNAhU13sUOXOEA5oCeioP43QIngzPy3vzhAlPsdigKFMkCJ4Mz8t784QInaI8FBADNAlPsdigKFMkAfAclhHbQ8QPBvicpgyDhA1S6Tzq0xPkCJ4Mz8t784QNUuk86tMT5AidojwUEAM0C46c9+pDA2QPBvicpgyDhAidojwUEAM0DFt9hkZnQ6QLCPTl35jDZAidojwUEAM0CJ2iPBQQAzQCnQJ/Ik8TxAIchBCTP1OUDXL9gN29Y6QIZyol2FdDNAHwHJYR20PEC5dVw9lT44QIngzPy3vzhA1S6Tzq0xPkAuVtRgGq4xQDZZox6i8SlAaJHtfD8tKkAuVtRgGq4xQL3GLlG9mzhAOaAnoqD+N0C9xi5RvZs4QNUuk86tMT5AidojwUEAM0CU+x2KAoUyQPx6mNA3tDZAsI9OXfmMNkAhyEEJM/U5QLjpz36kMDZAuXVcPZU+OED8epjQN7Q2QAywj05dPTZAvcYuUb2bOECU+x2KAoUyQLl1XD2VPjhAjy5JeFU6M0DE2lOVHyQ5QPBvicpgyDhAHwHJYR20PEAMsI9OXT02QNUuk86tMT5AGvonuFj9M0CJ4Mz8t784QMTaU5UfJDlANlmjHqLxKUA2WaMeovEpQL3GLlG9mzhAhnKiXYV0M0CPLkl4VTozQOgg1Z0UKzdAIchBCTP1OUAhyEEJM/U5QC5W1GAarjFAsI9OXfmMNkDVLpPOrTE+QIVNd7FDlzhAidojwUEAM0CU+x2KAoUyQCnQJ/Ik8TxAvcYuUb2bOEDE2lOVHyQ5QLjpz36kMDZAjy5JeFU6M0AuVtRgGq4xQL3GLlG9mzhA6CDVnRQrN0CJ2iPBQQAzQAywj05dPTZAaJHtfD8tKkCqZWt9kWQxQMW32GRmdDpAKdAn8iTxPEAa+ie4WP0zQI8uSXhVOjNAuOnPfqQwNkCqZWt9kWQxQCHIQQkz9TlAaJHtfD8tKkCJ4Mz8t784QIZyol2FdDNAGvonuFj9M0AhyEEJM/U5QJT7HYoChTJA8G+JymDIOECJ2iPBQQAzQDmgJ6Kg/jdAlPsdigKFMkAp0CfyJPE8QDZZox6i8SlAqmVrfZFkMUBCYOXQIhs4QNUuk86tMT5AhnKiXYV0M0CPLkl4VTozQLjpz36kMDZAHwHJYR20PEDVLpPOrTE+QCHIQQkz9TlAYPVUEJlJOkAa+ie4WP0zQCHIQQkz9TlAOaAnoqD+N0Cwj05d+Yw2QLCPTl35jDZA6CDVnRQrN0CPLkl4VTozQOgg1Z0UKzdA8G+JymDIOECRuMfSh6o5QLl1XD2VPjhAuOnPfqQwNkDwb4nKYMg4QDmgJ6Kg/jdA1y/YDdvWOkCGcqJdhXQzQMW32GRmdDpA/HqY0De0NkDE2lOVHyQ5QJT7HYoChTJAxbfYZGZ0OkAuVtRgGq4xQLjpz36kMDZA1S6Tzq0xPkBoke18Py0qQLCPTl35jDZAieDM/Le/OEC5dVw9lT44QB8ByWEdtDxAqmVrfZFkMUC5dVw9lT44QGD1VBCZSTpAjy5JeFU6M0AhyEEJM/U5QPx6mNA3tDZAhU13sUOXOEA5oCeioP43QIZyol2FdDNA1y/YDdvWOkDoINWdFCs3QLl1XD2VPjhAsI9OXfmMNkCGcqJdhXQzQOgg1Z0UKzdAjy5JeFU6M0Aa+ie4WP0zQI8uSXhVOjNAHwHJYR20PEDXL9gN29Y6QLjpz36kMDZAkbjH0oeqOUCwj05d+Yw2QLjpz36kMDZAxbfYZGZ0OkAuVtRgGq4xQDmgJ6Kg/jdAxbfYZGZ0OkA5oCeioP43QKpla32RZDFAuOnPfqQwNkAp0CfyJPE8QCnQJ/Ik8TxAqmVrfZFkMUDFt9hkZnQ6QIVNd7FDlzhAYPVUEJlJOkD8epjQN7Q2QCHIQQkz9TlA8G+JymDIOECwj05d+Yw2QLCPTl35jDZAGvonuFj9M0C46c9+pDA2QDmgJ6Kg/jdAxbfYZGZ0OkDE2lOVHyQ5QOgg1Z0UKzdAKdAn8iTxPECFTXexQ5c4QLjpz36kMDZAuXVcPZU+OEAp0CfyJPE8QGD1VBCZSTpAIchBCTP1OUA5oCeioP43QMW32GRmdDpAxNpTlR8kOUAMsI9OXT02QI8uSXhVOjNADLCPTl09NkCqZWt9kWQxQDmgJ6Kg/jdAxbfYZGZ0OkDwb4nKYMg4QC5W1GAarjFAkbjH0oeqOUCU+x2KAoUyQB8ByWEdtDxAOaAnoqD+N0A5oCeioP43QJT7HYoChTJAaJHtfD8tKkDE2lOVHyQ5QI8uSXhVOjNAuXVcPZU+OEC9xi5RvZs4QCnQJ/Ik8TxAkbjH0oeqOUDE2lOVHyQ5QLjpz36kMDZAhU13sUOXOEAp0CfyJPE8QDZZox6i8SlAhnKiXYV0M0CFTXexQ5c4QGD1VBCZSTpAieDM/Le/OEC46c9+pDA2QBr6J7hY/TNAjy5JeFU6M0AfAclhHbQ8QIZyol2FdDNAhnKiXYV0M0CJ4Mz8t784QIZyol2FdDNALlbUYBquMUCwj05d+Yw2QC5W1GAarjFAjy5JeFU6M0AuVtRgGq4xQIngzPy3vzhAIchBCTP1OUCwj05d+Yw2QNUuk86tMT5AOaAnoqD+N0Cwj05d+Yw2QInaI8FBADNA1y/YDdvWOkCqZWt9kWQxQPx6mNA3tDZAuXVcPZU+OECJ2iPBQQAzQL3GLlG9mzhADLCPTl09NkAp0CfyJPE8QLl1XD2VPjhAsI9OXfmMNkA5oCeioP43QMW32GRmdDpAjy5JeFU6M0DXL9gN29Y6QLl1XD2VPjhAsI9OXfmMNkCGcqJdhXQzQJT7HYoChTJAxNpTlR8kOUC46c9+pDA2QIZyol2FdDNAlPsdigKFMkCqZWt9kWQxQDZZox6i8SlAqmVrfZFkMUC46c9+pDA2QLjpz36kMDZA6CDVnRQrN0CFTXexQ5c4QCnQJ/Ik8TxAaJHtfD8tKkBoke18Py0qQAywj05dPTZAIchBCTP1OUAp0CfyJPE8QLl1XD2VPjhAKdAn8iTxPEAhyEEJM/U5QAywj05dPTZA6CDVnRQrN0CFTXexQ5c4QBr6J7hY/TNA1y/YDdvWOkCU+x2KAoUyQNcv2A3b1jpANlmjHqLxKUCwj05d+Yw2QLCPTl35jDZAvcYuUb2bOECU+x2KAoUyQLjpz36kMDZAjy5JeFU6M0CJ2iPBQQAzQDZZox6i8SlAIchBCTP1OUC46c9+pDA2QLjpz36kMDZAxbfYZGZ0OkDoINWdFCs3QGiR7Xw/LSpAieDM/Le/OEA5oCeioP43QIVNd7FDlzhAieDM/Le/OEDFt9hkZnQ6QGD1VBCZSTpA/HqY0De0NkD8epjQN7Q2QLCPTl35jDZAxbfYZGZ0OkDFt9hkZnQ6QB8ByWEdtDxA/HqY0De0NkC5dVw9lT44QEJg5dAiGzhAHwHJYR20PEBCYOXQIhs4QI8uSXhVOjNANlmjHqLxKUAfAclhHbQ8QIZyol2FdDNAIchBCTP1OUAa+ie4WP0zQJG4x9KHqjlAxbfYZGZ0OkCRuMfSh6o5QCHIQQkz9TlAsI9OXfmMNkAfAclhHbQ8QLjpz36kMDZAuXVcPZU+OEAMsI9OXT02QCHIQQkz9TlAsI9OXfmMNkAa+ie4WP0zQPBvicpgyDhAsI9OXfmMNkAp0CfyJPE8QL3GLlG9mzhAKdAn8iTxPEAhyEEJM/U5QIZyol2FdDNALlbUYBquMUDwb4nKYMg4QIngzPy3vzhA/HqY0De0NkDoINWdFCs3QInaI8FBADNA6CDVnRQrN0AMsI9OXT02QNUuk86tMT5AkbjH0oeqOUCqZWt9kWQxQCnQJ/Ik8TxAxbfYZGZ0OkD8epjQN7Q2QMW32GRmdDpANlmjHqLxKUDE2lOVHyQ5QIVNd7FDlzhAsI9OXfmMNkDXL9gN29Y6QLjpz36kMDZAuOnPfqQwNkAa+ie4WP0zQPBvicpgyDhAieDM/Le/OEC46c9+pDA2QEJg5dAiGzhA8G+JymDIOEA5oCeioP43QPBvicpgyDhAsI9OXfmMNkCU+x2KAoUyQIVNd7FDlzhA1S6Tzq0xPkA5oCeioP43QJT7HYoChTJAYPVUEJlJOkAhyEEJM/U5QDZZox6i8SlAuXVcPZU+OEAhyEEJM/U5QEJg5dAiGzhA/HqY0De0NkC9xi5RvZs4QCHIQQkz9TlAhnKiXYV0M0CRuMfSh6o5QLjpz36kMDZA6CDVnRQrN0C5dVw9lT44QDZZox6i8SlAidojwUEAM0Dwb4nKYMg4QJG4x9KHqjlAvcYuUb2bOEAp0CfyJPE8QNcv2A3b1jpAuOnPfqQwNkCPLkl4VTozQLjpz36kMDZA/HqY0De0NkAuVtRgGq4xQL3GLlG9mzhAieDM/Le/OEBCYOXQIhs4QJG4x9KHqjlAKdAn8iTxPECJ4Mz8t784QC5W1GAarjFAxNpTlR8kOUDwb4nKYMg4QLl1XD2VPjhA/HqY0De0NkCU+x2KAoUyQInaI8FBADNAuOnPfqQwNkBoke18Py0qQIngzPy3vzhAIchBCTP1OUCPLkl4VTozQLCPTl35jDZANlmjHqLxKUCqZWt9kWQxQMW32GRmdDpAkbjH0oeqOUCGcqJdhXQzQKpla32RZDFAvcYuUb2bOEBoke18Py0qQIVNd7FDlzhAidojwUEAM0DFt9hkZnQ6QOgg1Z0UKzdAYPVUEJlJOkDFt9hkZnQ6QInaI8FBADNALlbUYBquMUCJ4Mz8t784QC5W1GAarjFAuXVcPZU+OEAuVtRgGq4xQMTaU5UfJDlAvcYuUb2bOECwj05d+Yw2QPx6mNA3tDZAxbfYZGZ0OkAuVtRgGq4xQIZyol2FdDNAOaAnoqD+N0CGcqJdhXQzQMW32GRmdDpALlbUYBquMUCJ2iPBQQAzQLl1XD2VPjhA1y/YDdvWOkA2WaMeovEpQIVNd7FDlzhADLCPTl09NkAMsI9OXT02QC5W1GAarjFA8G+JymDIOEAfAclhHbQ8QNcv2A3b1jpAsI9OXfmMNkC46c9+pDA2QIZyol2FdDNA6CDVnRQrN0C5dVw9lT44QIVNd7FDlzhAidojwUEAM0C9xi5RvZs4QJT7HYoChTJAIchBCTP1OUCU+x2KAoUyQNUuk86tMT5ANlmjHqLxKUD8epjQN7Q2QAywj05dPTZAhU13sUOXOEC5dVw9lT44QMW32GRmdDpAsI9OXfmMNkAMsI9OXT02QPBvicpgyDhAlPsdigKFMkDXL9gN29Y6QCHIQQkz9TlAlPsdigKFMkC5dVw9lT44QIZyol2FdDNAaJHtfD8tKkD8epjQN7Q2QI8uSXhVOjNAsI9OXfmMNkAp0CfyJPE8QLjpz36kMDZAhnKiXYV0M0DVLpPOrTE+QJT7HYoChTJAqmVrfZFkMUDE2lOVHyQ5QLjpz36kMDZAidojwUEAM0Ap0CfyJPE8QDmgJ6Kg/jdAhU13sUOXOEC9xi5RvZs4QIZyol2FdDNA1S6Tzq0xPkCwj05d+Yw2QL3GLlG9mzhAkbjH0oeqOUCwj05d+Yw2QNUuk86tMT5AIchBCTP1OUDFt9hkZnQ6QOgg1Z0UKzdAsI9OXfmMNkC5dVw9lT44QB8ByWEdtDxAqmVrfZFkMUDVLpPOrTE+QI8uSXhVOjNAkbjH0oeqOUCJ2iPBQQAzQNcv2A3b1jpAGvonuFj9M0Cwj05d+Yw2QJT7HYoChTJAieDM/Le/OECFTXexQ5c4QOgg1Z0UKzdAaJHtfD8tKkBg9VQQmUk6QPBvicpgyDhAkbjH0oeqOUCwj05d+Yw2QIVNd7FDlzhAsI9OXfmMNkCqZWt9kWQxQAywj05dPTZA1S6Tzq0xPkDFt9hkZnQ6QGD1VBCZSTpAhU13sUOXOEAfAclhHbQ8QDmgJ6Kg/jdAlPsdigKFMkAhyEEJM/U5QIVNd7FDlzhAuXVcPZU+OEDXL9gN29Y6QMTaU5UfJDlAuOnPfqQwNkDFt9hkZnQ6QCnQJ/Ik8TxA1y/YDdvWOkDXL9gN29Y6QLCPTl35jDZAvcYuUb2bOECPLkl4VTozQEJg5dAiGzhAsI9OXfmMNkCwj05d+Yw2QOgg1Z0UKzdAuOnPfqQwNkC46c9+pDA2QC5W1GAarjFAjy5JeFU6M0Bg9VQQmUk6QCnQJ/Ik8TxA6CDVnRQrN0AuVtRgGq4xQI8uSXhVOjNAsI9OXfmMNkA5oCeioP43QKpla32RZDFAqmVrfZFkMUBoke18Py0qQLjpz36kMDZAieDM/Le/OECPLkl4VTozQIngzPy3vzhA1S6Tzq0xPkDB/1ayYx81QC5W1GAarjFAhU13sUOXOECPLkl4VTozQLl1XD2VPjhAuXVcPZU+OEDFt9hkZnQ6QJT7HYoChTJA1S6Tzq0xPkC46c9+pDA2QBr6J7hY/TNAlPsdigKFMkCU+x2KAoUyQLl1XD2VPjhA1y/YDdvWOkAuVtRgGq4xQIZyol2FdDNAaJHtfD8tKkCwj05d+Yw2QB8ByWEdtDxA1S6Tzq0xPkDoINWdFCs3QJT7HYoChTJAIchBCTP1OUCqZWt9kWQxQMW32GRmdDpA1S6Tzq0xPkCqZWt9kWQxQDmgJ6Kg/jdAhnKiXYV0M0CqZWt9kWQxQMW32GRmdDpAieDM/Le/OECwj05d+Yw2QB8ByWEdtDxA6CDVnRQrN0C46c9+pDA2QDmgJ6Kg/jdAhU13sUOXOEC46c9+pDA2QJG4x9KHqjlALlbUYBquMUDVLpPOrTE+QPx6mNA3tDZAsI9OXfmMNkBoke18Py0qQLCPTl35jDZADLCPTl09NkDFt9hkZnQ6QEJg5dAiGzhAxbfYZGZ0OkAfAclhHbQ8QPBvicpgyDhA1S6Tzq0xPkC5dVw9lT44QPBvicpgyDhAqmVrfZFkMUCU+x2KAoUyQLjpz36kMDZAqmVrfZFkMUAp0CfyJPE8QCnQJ/Ik8TxAxbfYZGZ0OkAfAclhHbQ8QAywj05dPTZA/HqY0De0NkDoINWdFCs3QJT7HYoChTJAqmVrfZFkMUBoke18Py0qQB8ByWEdtDxA1S6Tzq0xPkAhyEEJM/U5QGiR7Xw/LSpAOaAnoqD+N0DFt9hkZnQ6QKpla32RZDFAIchBCTP1OUAhyEEJM/U5QJT7HYoChTJAHwHJYR20PEAuVtRgGq4xQCnQJ/Ik8TxAxbfYZGZ0OkCPLkl4VTozQLl1XD2VPjhAieDM/Le/OEC5dVw9lT44QB8ByWEdtDxAvcYuUb2bOEAa+ie4WP0zQPx6mNA3tDZA6CDVnRQrN0BCYOXQIhs4QMW32GRmdDpAhnKiXYV0M0CJ2iPBQQAzQPx6mNA3tDZAIchBCTP1OUAMsI9OXT02QC5W1GAarjFAlPsdigKFMkC5dVw9lT44QNcv2A3b1jpA1y/YDdvWOkDoINWdFCs3QEJg5dAiGzhAxbfYZGZ0OkDFt9hkZnQ6QAywj05dPTZAaJHtfD8tKkCGcqJdhXQzQDmgJ6Kg/jdAqmVrfZFkMUBoke18Py0qQLjpz36kMDZAieDM/Le/OECU+x2KAoUyQCHIQQkz9TlAhnKiXYV0M0C46c9+pDA2QEJg5dAiGzhAidojwUEAM0CFTXexQ5c4QLl1XD2VPjhA1S6Tzq0xPkC9xi5RvZs4QAywj05dPTZAsI9OXfmMNkDoINWdFCs3QJT7HYoChTJA/HqY0De0NkCU+x2KAoUyQLCPTl35jDZA1S6Tzq0xPkCqZWt9kWQxQCnQJ/Ik8TxAlPsdigKFMkCJ2iPBQQAzQCHIQQkz9TlAOaAnoqD+N0CU+x2KAoUyQJT7HYoChTJAjy5JeFU6M0CJ4Mz8t784QOgg1Z0UKzdAieDM/Le/OEBCYOXQIhs4QLl1XD2VPjhA1y/YDdvWOkAp0CfyJPE8QI8uSXhVOjNAuOnPfqQwNkAuVtRgGq4xQL3GLlG9mzhAxbfYZGZ0OkCRuMfSh6o5QOgg1Z0UKzdA8G+JymDIOECqZWt9kWQxQIngzPy3vzhAIchBCTP1OUAp0CfyJPE8QLl1XD2VPjhAxbfYZGZ0OkAuVtRgGq4xQDZZox6i8SlAkbjH0oeqOUAfAclhHbQ8QIngzPy3vzhAGvonuFj9M0DE2lOVHyQ5QJT7HYoChTJADLCPTl09NkAuVtRgGq4xQC5W1GAarjFAxNpTlR8kOUCJ4Mz8t784QNcv2A3b1jpAqmVrfZFkMUD8epjQN7Q2QLjpz36kMDZAHwHJYR20PEDwb4nKYMg4QDmgJ6Kg/jdAidojwUEAM0DoINWdFCs3QGD1VBCZSTpA1S6Tzq0xPkA2WaMeovEpQLjpz36kMDZA6CDVnRQrN0DoINWdFCs3QNUuk86tMT5AieDM/Le/OEAhyEEJM/U5QLl1XD2VPjhALlbUYBquMUC5dVw9lT44QCnQJ/Ik8TxALlbUYBquMUCFTXexQ5c4QLl1XD2VPjhAjy5JeFU6M0CFTXexQ5c4QJG4x9KHqjlADLCPTl09NkAp0CfyJPE8QEJg5dAiGzhAuXVcPZU+OECPLkl4VTozQIVNd7FDlzhAsI9OXfmMNkDFt9hkZnQ6QIVNd7FDlzhAlPsdigKFMkC9xi5RvZs4QJG4x9KHqjlAuOnPfqQwNkCJ2iPBQQAzQAywj05dPTZAvcYuUb2bOEBCYOXQIhs4QB8ByWEdtDxAaJHtfD8tKkDwb4nKYMg4QMW32GRmdDpADLCPTl09NkC46c9+pDA2QMW32GRmdDpAidojwUEAM0Dwb4nKYMg4QMW32GRmdDpALlbUYBquMUCGcqJdhXQzQIVNd7FDlzhADLCPTl09NkC9xi5RvZs4QLCPTl35jDZAxbfYZGZ0OkCqZWt9kWQxQPBvicpgyDhAxbfYZGZ0OkDE2lOVHyQ5QIVNd7FDlzhAuOnPfqQwNkCGcqJdhXQzQI8uSXhVOjNA8G+JymDIOECqZWt9kWQxQIngzPy3vzhAuOnPfqQwNkDVLpPOrTE+QLCPTl35jDZA1y/YDdvWOkC46c9+pDA2QIngzPy3vzhAieDM/Le/OEDoINWdFCs3QJT7HYoChTJAuOnPfqQwNkCqZWt9kWQxQMW32GRmdDpANlmjHqLxKUC46c9+pDA2QMW32GRmdDpAhU13sUOXOECFTXexQ5c4QL3GLlG9mzhAOaAnoqD+N0CGcqJdhXQzQIZyol2FdDNAqmVrfZFkMUA2WaMeovEpQGiR7Xw/LSpAidojwUEAM0C46c9+pDA2QLl1XD2VPjhAxbfYZGZ0OkDVLpPOrTE+QCHIQQkz9TlAqmVrfZFkMUC5dVw9lT44QPx6mNA3tDZA6CDVnRQrN0AhyEEJM/U5QJG4x9KHqjlAQmDl0CIbOEDwb4nKYMg4QL3GLlG9mzhAHwHJYR20PEA2WaMeovEpQB8ByWEdtDxAjy5JeFU6M0AfAclhHbQ8QNcv2A3b1jpAuOnPfqQwNkDwb4nKYMg4QIZyol2FdDNAsI9OXfmMNkAhyEEJM/U5QI8uSXhVOjNAieDM/Le/OEDE2lOVHyQ5QMW32GRmdDpAYPVUEJlJOkC5dVw9lT44QEJg5dAiGzhADLCPTl09NkC5dVw9lT44QNUuk86tMT5AieDM/Le/OED8epjQN7Q2QB8ByWEdtDxAKdAn8iTxPECRuMfSh6o5QNUuk86tMT5AIchBCTP1OUC5dVw9lT44QIZyol2FdDNAaJHtfD8tKkCRuMfSh6o5QLl1XD2VPjhA1y/YDdvWOkAp0CfyJPE8QCnQJ/Ik8TxAvcYuUb2bOEC46c9+pDA2QEJg5dAiGzhAidojwUEAM0BCYOXQIhs4QMW32GRmdDpAIchBCTP1OUCwj05d+Yw2QPBvicpgyDhAjy5JeFU6M0CGcqJdhXQzQMW32GRmdDpAieDM/Le/OEC46c9+pDA2QAywj05dPTZAuXVcPZU+OEA2WaMeovEpQPx6mNA3tDZAuXVcPZU+OEDoINWdFCs3QBr6J7hY/TNA6CDVnRQrN0CJ2iPBQQAzQIngzPy3vzhADLCPTl09NkC5dVw9lT44QDmgJ6Kg/jdA8G+JymDIOEDFt9hkZnQ6QLjpz36kMDZANlmjHqLxKUDwb4nKYMg4QAywj05dPTZADLCPTl09NkAuVtRgGq4xQJT7HYoChTJAhnKiXYV0M0C9xi5RvZs4QIngzPy3vzhAjy5JeFU6M0C5dVw9lT44QBr6J7hY/TNAaJHtfD8tKkCU+x2KAoUyQNUuk86tMT5AxbfYZGZ0OkBCYOXQIhs4QAywj05dPTZAqmVrfZFkMUCFTXexQ5c4QInaI8FBADNAjy5JeFU6M0C5dVw9lT44QDZZox6i8SlAxbfYZGZ0OkCwj05d+Yw2QPx6mNA3tDZAaJHtfD8tKkAa+ie4WP0zQC5W1GAarjFA1S6Tzq0xPkBoke18Py0qQInaI8FBADNAwf9WsmMfNUCqZWt9kWQxQInaI8FBADNAxbfYZGZ0OkAp0CfyJPE8QOgg1Z0UKzdA1S6Tzq0xPkCPLkl4VTozQAywj05dPTZAOaAnoqD+N0A5oCeioP43QLCPTl35jDZAHwHJYR20PECPLkl4VTozQIZyol2FdDNAQmDl0CIbOECqZWt9kWQxQDZZox6i8SlAKdAn8iTxPEC5dVw9lT44QGiR7Xw/LSpAqmVrfZFkMUCJ2iPBQQAzQIZyol2FdDNAwf9WsmMfNUDE2lOVHyQ5QMTaU5UfJDlAYPVUEJlJOkCRuMfSh6o5QMW32GRmdDpAHwHJYR20PEC46c9+pDA2QAywj05dPTZA1y/YDdvWOkBoke18Py0qQPBvicpgyDhAhnKiXYV0M0CPLkl4VTozQIVNd7FDlzhAuXVcPZU+OEAa+ie4WP0zQDZZox6i8SlAjy5JeFU6M0DVLpPOrTE+QL3GLlG9mzhA1S6Tzq0xPkCPLkl4VTozQDZZox6i8SlAhnKiXYV0M0DVLpPOrTE+QL3GLlG9mzhALlbUYBquMUAhyEEJM/U5QIngzPy3vzhAaJHtfD8tKkD8epjQN7Q2QI8uSXhVOjNAqmVrfZFkMUC5dVw9lT44QNcv2A3b1jpAGvonuFj9M0CU+x2KAoUyQLjpz36kMDZAhU13sUOXOEDoINWdFCs3QC5W1GAarjFA8G+JymDIOECFTXexQ5c4QLjpz36kMDZA6CDVnRQrN0CPLkl4VTozQPx6mNA3tDZAhU13sUOXOEA2WaMeovEpQMTaU5UfJDlA1S6Tzq0xPkAp0CfyJPE8QLjpz36kMDZAxbfYZGZ0OkDXL9gN29Y6QGiR7Xw/LSpAuOnPfqQwNkC46c9+pDA2QIngzPy3vzhAkbjH0oeqOUBoke18Py0qQGD1VBCZSTpA1S6Tzq0xPkAMsI9OXT02QCHIQQkz9TlAKdAn8iTxPEC5dVw9lT44QJG4x9KHqjlAxbfYZGZ0OkCGcqJdhXQzQPx6mNA3tDZAuXVcPZU+OEAuVtRgGq4xQKpla32RZDFAOaAnoqD+N0CFTXexQ5c4QIngzPy3vzhAhnKiXYV0M0AfAclhHbQ8QNcv2A3b1jpAaJHtfD8tKkCJ4Mz8t784QLjpz36kMDZAuXVcPZU+OEDE2lOVHyQ5QAywj05dPTZA8G+JymDIOEC9xi5RvZs4QL3GLlG9mzhAIchBCTP1OUCFTXexQ5c4QCnQJ/Ik8TxAaJHtfD8tKkCGcqJdhXQzQMTaU5UfJDlAkbjH0oeqOUCGcqJdhXQzQKpla32RZDFAjy5JeFU6M0DE2lOVHyQ5QDmgJ6Kg/jdAQmDl0CIbOEA5oCeioP43QJG4x9KHqjlAhnKiXYV0M0DVLpPOrTE+QMW32GRmdDpAsI9OXfmMNkBCYOXQIhs4QLjpz36kMDZA8G+JymDIOEDwb4nKYMg4QKpla32RZDFAxNpTlR8kOUCqZWt9kWQxQInaI8FBADNAOaAnoqD+N0BCYOXQIhs4QJG4x9KHqjlALlbUYBquMUCwj05d+Yw2QI8uSXhVOjNAHwHJYR20PECFTXexQ5c4QGiR7Xw/LSpAuOnPfqQwNkBoke18Py0qQGD1VBCZSTpA1y/YDdvWOkDFt9hkZnQ6QNcv2A3b1jpAieDM/Le/OEDVLpPOrTE+QKpla32RZDFAGvonuFj9M0CU+x2KAoUyQJG4x9KHqjlAuOnPfqQwNkDwb4nKYMg4QIVNd7FDlzhA6CDVnRQrN0CRuMfSh6o5QNcv2A3b1jpAidojwUEAM0A2WaMeovEpQNcv2A3b1jpA8G+JymDIOEDFt9hkZnQ6QIVNd7FDlzhA8G+JymDIOEAMsI9OXT02QOgg1Z0UKzdAlPsdigKFMkDFt9hkZnQ6QNUuk86tMT5AQmDl0CIbOECPLkl4VTozQInaI8FBADNAjy5JeFU6M0CFTXexQ5c4QMTaU5UfJDlAjy5JeFU6M0A2WaMeovEpQIngzPy3vzhAqmVrfZFkMUCFTXexQ5c4QKpla32RZDFAxbfYZGZ0OkA5oCeioP43QB8ByWEdtDxA1y/YDdvWOkD8epjQN7Q2QCHIQQkz9TlAsI9OXfmMNkDE2lOVHyQ5QLjpz36kMDZAKdAn8iTxPEA5oCeioP43QCHIQQkz9TlAuOnPfqQwNkD8epjQN7Q2QCnQJ/Ik8TxAhnKiXYV0M0DXL9gN29Y6QPBvicpgyDhAaJHtfD8tKkA2WaMeovEpQCnQJ/Ik8TxAYPVUEJlJOkAhyEEJM/U5QIVNd7FDlzhAkbjH0oeqOUBCYOXQIhs4QLjpz36kMDZADLCPTl09NkBoke18Py0qQLCPTl35jDZAqmVrfZFkMUCqZWt9kWQxQCHIQQkz9TlAxNpTlR8kOUC46c9+pDA2QIZyol2FdDNAKdAn8iTxPECGcqJdhXQzQIZyol2FdDNANlmjHqLxKUA2WaMeovEpQNcv2A3b1jpAYPVUEJlJOkAMsI9OXT02QBr6J7hY/TNAuOnPfqQwNkA5oCeioP43QL3GLlG9mzhA/HqY0De0NkCFTXexQ5c4QL3GLlG9mzhAxNpTlR8kOUA2WaMeovEpQMW32GRmdDpA/HqY0De0NkC5dVw9lT44QPx6mNA3tDZAIchBCTP1OUAMsI9OXT02QJG4x9KHqjlAlPsdigKFMkAhyEEJM/U5QMW32GRmdDpA8G+JymDIOEBCYOXQIhs4QLl1XD2VPjhAhU13sUOXOEC5dVw9lT44QCHIQQkz9TlAuXVcPZU+OEA2WaMeovEpQBr6J7hY/TNAqmVrfZFkMUDVLpPOrTE+QPx6mNA3tDZA8G+JymDIOECJ4Mz8t784QLCPTl35jDZAhnKiXYV0M0CqZWt9kWQxQPBvicpgyDhAYPVUEJlJOkCPLkl4VTozQDZZox6i8SlADLCPTl09NkC46c9+pDA2QBr6J7hY/TNAuOnPfqQwNkDXL9gN29Y6QDZZox6i8SlAGvonuFj9M0CGcqJdhXQzQNcv2A3b1jpA1y/YDdvWOkCJ2iPBQQAzQCHIQQkz9TlAKdAn8iTxPECU+x2KAoUyQInaI8FBADNA6CDVnRQrN0CGcqJdhXQzQJT7HYoChTJAIchBCTP1OUAp0CfyJPE8QIVNd7FDlzhA6CDVnRQrN0DoINWdFCs3QJT7HYoChTJAsI9OXfmMNkCJ2iPBQQAzQJT7HYoChTJAYPVUEJlJOkAp0CfyJPE8QJT7HYoChTJAaJHtfD8tKkC5dVw9lT44QNUuk86tMT5AqmVrfZFkMUCU+x2KAoUyQDmgJ6Kg/jdAxNpTlR8kOUCJ4Mz8t784QDmgJ6Kg/jdAqmVrfZFkMUAhyEEJM/U5QJT7HYoChTJA8G+JymDIOECGcqJdhXQzQNUuk86tMT5AuOnPfqQwNkDwb4nKYMg4QInaI8FBADNAuOnPfqQwNkAhyEEJM/U5QL3GLlG9mzhAhnKiXYV0M0Aa+ie4WP0zQCHIQQkz9TlANlmjHqLxKUDVLpPOrTE+QKpla32RZDFAuXVcPZU+OECwj05d+Yw2QJG4x9KHqjlAuOnPfqQwNkCFTXexQ5c4QC5W1GAarjFA1S6Tzq0xPkCqZWt9kWQxQL3GLlG9mzhAsI9OXfmMNkC46c9+pDA2QCnQJ/Ik8TxA6CDVnRQrN0CJ2iPBQQAzQPx6mNA3tDZAQmDl0CIbOEAMsI9OXT02QNUuk86tMT5AaJHtfD8tKkAfAclhHbQ8QIngzPy3vzhA1S6Tzq0xPkDE2lOVHyQ5QLjpz36kMDZA1S6Tzq0xPkCRuMfSh6o5QNUuk86tMT5AuXVcPZU+OEC46c9+pDA2QLCPTl35jDZAqmVrfZFkMUCJ4Mz8t784QJG4x9KHqjlAOaAnoqD+N0C5dVw9lT44QAywj05dPTZAHwHJYR20PEC46c9+pDA2QC5W1GAarjFAlPsdigKFMkD8epjQN7Q2QB8ByWEdtDxAhU13sUOXOEAhyEEJM/U5QIngzPy3vzhAGvonuFj9M0A5oCeioP43QNUuk86tMT5AhU13sUOXOEDXL9gN29Y6QKpla32RZDFAxbfYZGZ0OkAhyEEJM/U5QPx6mNA3tDZAjy5JeFU6M0C9xi5RvZs4QL3GLlG9mzhAvcYuUb2bOECRuMfSh6o5QLl1XD2VPjhAkbjH0oeqOUDVLpPOrTE+QBr6J7hY/TNAhnKiXYV0M0CqZWt9kWQxQBr6J7hY/TNAhU13sUOXOECFTXexQ5c4QInaI8FBADNAjy5JeFU6M0A2WaMeovEpQPx6mNA3tDZA6CDVnRQrN0DE2lOVHyQ5QOgg1Z0UKzdAHwHJYR20PECqZWt9kWQxQJT7HYoChTJAIchBCTP1OUDoINWdFCs3QMW32GRmdDpAsI9OXfmMNkCRuMfSh6o5QKpla32RZDFAvcYuUb2bOEAhyEEJM/U5QMW32GRmdDpAhnKiXYV0M0CFTXexQ5c4QMW32GRmdDpAsI9OXfmMNkAMsI9OXT02QNUuk86tMT5AkbjH0oeqOUC5dVw9lT44QIngzPy3vzhANlmjHqLxKUCGcqJdhXQzQPx6mNA3tDZAjy5JeFU6M0DVLpPOrTE+QNcv2A3b1jpAxNpTlR8kOUCJ4Mz8t784QJT7HYoChTJAQmDl0CIbOEDFt9hkZnQ6QGiR7Xw/LSpAuOnPfqQwNkDFt9hkZnQ6QLjpz36kMDZAqmVrfZFkMUAp0CfyJPE8QCHIQQkz9TlA/HqY0De0NkCwj05d+Yw2QJT7HYoChTJA/HqY0De0NkA5oCeioP43QLCPTl35jDZAGvonuFj9M0AhyEEJM/U5QIngzPy3vzhANlmjHqLxKUDwb4nKYMg4QLjpz36kMDZAuOnPfqQwNkBoke18Py0qQI8uSXhVOjNAGvonuFj9M0A2WaMeovEpQLjpz36kMDZA1y/YDdvWOkCU+x2KAoUyQPx6mNA3tDZAsI9OXfmMNkCqZWt9kWQxQJT7HYoChTJAlPsdigKFMkAhyEEJM/U5QMW32GRmdDpAkbjH0oeqOUAMsI9OXT02QJT7HYoChTJA1S6Tzq0xPkDE2lOVHyQ5QJG4x9KHqjlALlbUYBquMUD8epjQN7Q2QAywj05dPTZAKdAn8iTxPEC9xi5RvZs4QLCPTl35jDZAhU13sUOXOEDE2lOVHyQ5QNcv2A3b1jpAjy5JeFU6M0Cwj05d+Yw2QLl1XD2VPjhAjy5JeFU6M0DoINWdFCs3QNcv2A3b1jpA1S6Tzq0xPkCGcqJdhXQzQJG4x9KHqjlAjy5JeFU6M0CJ4Mz8t784QDmgJ6Kg/jdAKdAn8iTxPECGcqJdhXQzQGiR7Xw/LSpAHwHJYR20PEAMsI9OXT02QKpla32RZDFAhnKiXYV0M0BCYOXQIhs4QJT7HYoChTJAqmVrfZFkMUCJ2iPBQQAzQL3GLlG9mzhAaJHtfD8tKkAhyEEJM/U5QIZyol2FdDNAsI9OXfmMNkDFt9hkZnQ6QLjpz36kMDZAieDM/Le/OECJ4Mz8t784QNcv2A3b1jpAhnKiXYV0M0Boke18Py0qQLjpz36kMDZAvcYuUb2bOEAp0CfyJPE8QPBvicpgyDhADLCPTl09NkCwj05d+Yw2QLjpz36kMDZAuOnPfqQwNkCGcqJdhXQzQPx6mNA3tDZAuXVcPZU+OEAp0CfyJPE8QL3GLlG9mzhAaJHtfD8tKkDXL9gN29Y6QGiR7Xw/LSpAxbfYZGZ0OkCPLkl4VTozQJG4x9KHqjlA/HqY0De0NkCqZWt9kWQxQKpla32RZDFAhnKiXYV0M0AuVtRgGq4xQJG4x9KHqjlAidojwUEAM0CPLkl4VTozQIngzPy3vzhAIchBCTP1OUDwb4nKYMg4QIVNd7FDlzhA1S6Tzq0xPkAuVtRgGq4xQC5W1GAarjFALlbUYBquMUC9xi5RvZs4QIZyol2FdDNAqmVrfZFkMUDwb4nKYMg4QInaI8FBADNAaJHtfD8tKkAp0CfyJPE8QAywj05dPTZAIchBCTP1OUAfAclhHbQ8QL3GLlG9mzhAIchBCTP1OUCFTXexQ5c4QLjpz36kMDZAxbfYZGZ0OkDoINWdFCs3QIVNd7FDlzhAIchBCTP1OUCPLkl4VTozQCHIQQkz9TlAkbjH0oeqOUDwb4nKYMg4QLCPTl35jDZAhnKiXYV0M0CJ4Mz8t784QMH/VrJjHzVAxNpTlR8kOUCPLkl4VTozQDmgJ6Kg/jdAIchBCTP1OUCwj05d+Yw2QCnQJ/Ik8TxAuXVcPZU+OECRuMfSh6o5QEJg5dAiGzhAKdAn8iTxPEAa+ie4WP0zQLjpz36kMDZAsI9OXfmMNkDFt9hkZnQ6QI8uSXhVOjNAkbjH0oeqOUCFTXexQ5c4QEJg5dAiGzhAidojwUEAM0BCYOXQIhs4QKpla32RZDFA1S6Tzq0xPkC46c9+pDA2QLl1XD2VPjhAuOnPfqQwNkD8epjQN7Q2QLjpz36kMDZAkbjH0oeqOUAuVtRgGq4xQIVNd7FDlzhAieDM/Le/OEC9xi5RvZs4QI8uSXhVOjNA/HqY0De0NkC46c9+pDA2QB8ByWEdtDxAqmVrfZFkMUC46c9+pDA2QGiR7Xw/LSpAKdAn8iTxPEA5oCeioP43QOgg1Z0UKzdA/HqY0De0NkDFt9hkZnQ6QC5W1GAarjFANlmjHqLxKUCPLkl4VTozQLl1XD2VPjhA1S6Tzq0xPkCRuMfSh6o5QEJg5dAiGzhAsI9OXfmMNkDE2lOVHyQ5QPx6mNA3tDZAkbjH0oeqOUDwb4nKYMg4QGiR7Xw/LSpA/HqY0De0NkC46c9+pDA2QMW32GRmdDpAjy5JeFU6M0AMsI9OXT02QB8ByWEdtDxALlbUYBquMUAhyEEJM/U5QAywj05dPTZAhnKiXYV0M0CGcqJdhXQzQPx6mNA3tDZAKdAn8iTxPECRuMfSh6o5QOgg1Z0UKzdAOaAnoqD+N0C46c9+pDA2QInaI8FBADNAuOnPfqQwNkC9xi5RvZs4QLl1XD2VPjhAhU13sUOXOEAp0CfyJPE8QLjpz36kMDZAieDM/Le/OEDXL9gN29Y6QIngzPy3vzhAsI9OXfmMNkAMsI9OXT02QGiR7Xw/LSpAuXVcPZU+OEAhyEEJM/U5QCHIQQkz9TlADLCPTl09NkC46c9+pDA2QLjpz36kMDZAuOnPfqQwNkDVLpPOrTE+QInaI8FBADNAidojwUEAM0Cwj05d+Yw2QGD1VBCZSTpAKdAn8iTxPECGcqJdhXQzQIVNd7FDlzhAvcYuUb2bOEDoINWdFCs3QCnQJ/Ik8TxAaJHtfD8tKkDVLpPOrTE+QIngzPy3vzhAQmDl0CIbOEAuVtRgGq4xQLjpz36kMDZANlmjHqLxKUC5dVw9lT44QDmgJ6Kg/jdAxNpTlR8kOUAfAclhHbQ8QLCPTl35jDZAlPsdigKFMkDFt9hkZnQ6QL3GLlG9mzhAjy5JeFU6M0C9xi5RvZs4QIVNd7FDlzhALlbUYBquMUCFTXexQ5c4QNcv2A3b1jpAhU13sUOXOEAa+ie4WP0zQI8uSXhVOjNAhnKiXYV0M0C46c9+pDA2QNcv2A3b1jpAxNpTlR8kOUCqZWt9kWQxQC5W1GAarjFAxNpTlR8kOUBCYOXQIhs4QMW32GRmdDpAidojwUEAM0DFt9hkZnQ6QNUuk86tMT5AxbfYZGZ0OkAfAclhHbQ8QMW32GRmdDpAieDM/Le/OEC46c9+pDA2QOgg1Z0UKzdAhnKiXYV0M0CFTXexQ5c4QIZyol2FdDNAqmVrfZFkMUCJ4Mz8t784QKpla32RZDFAKdAn8iTxPECGcqJdhXQzQIZyol2FdDNADLCPTl09NkCqZWt9kWQxQL3GLlG9mzhAvcYuUb2bOEBCYOXQIhs4QCHIQQkz9TlAlPsdigKFMkCqZWt9kWQxQNUuk86tMT5AsI9OXfmMNkCJ2iPBQQAzQLl1XD2VPjhAsI9OXfmMNkAa+ie4WP0zQNcv2A3b1jpAuOnPfqQwNkDwb4nKYMg4QKpla32RZDFAjy5JeFU6M0AuVtRgGq4xQIngzPy3vzhA6CDVnRQrN0CqZWt9kWQxQNcv2A3b1jpAvcYuUb2bOEC46c9+pDA2QKpla32RZDFA1S6Tzq0xPkDE2lOVHyQ5QEJg5dAiGzhAuXVcPZU+OEDoINWdFCs3QMTaU5UfJDlA1y/YDdvWOkBg9VQQmUk6QKpla32RZDFAvcYuUb2bOECqZWt9kWQxQLl1XD2VPjhAhnKiXYV0M0Bg9VQQmUk6QMW32GRmdDpAaJHtfD8tKkCGcqJdhXQzQCnQJ/Ik8TxAjy5JeFU6M0CGcqJdhXQzQMW32GRmdDpAvcYuUb2bOECPLkl4VTozQCHIQQkz9TlAIchBCTP1OUDFt9hkZnQ6QMTaU5UfJDlA1S6Tzq0xPkCqZWt9kWQxQNUuk86tMT5A1S6Tzq0xPkCFTXexQ5c4QMW32GRmdDpAuXVcPZU+OEC9xi5RvZs4QKpla32RZDFAkbjH0oeqOUCU+x2KAoUyQBr6J7hY/TNAuXVcPZU+OECJ4Mz8t784QNcv2A3b1jpAhU13sUOXOEA5oCeioP43QDmgJ6Kg/jdAIchBCTP1OUCJ4Mz8t784QCnQJ/Ik8TxAjy5JeFU6M0AhyEEJM/U5QNcv2A3b1jpAjy5JeFU6M0CPLkl4VTozQInaI8FBADNAieDM/Le/OEC5dVw9lT44QKpla32RZDFAhnKiXYV0M0CJ4Mz8t784QJT7HYoChTJAIchBCTP1OUAhyEEJM/U5QJT7HYoChTJAhnKiXYV0M0AuVtRgGq4xQLCPTl35jDZAKdAn8iTxPEDwb4nKYMg4QOgg1Z0UKzdAhU13sUOXOEAfAclhHbQ8QIZyol2FdDNALlbUYBquMUCPLkl4VTozQKpla32RZDFA1y/YDdvWOkCFTXexQ5c4QB8ByWEdtDxAjy5JeFU6M0DXL9gN29Y6QB8ByWEdtDxAKdAn8iTxPECU+x2KAoUyQLjpz36kMDZAsI9OXfmMNkCU+x2KAoUyQMW32GRmdDpAqmVrfZFkMUC5dVw9lT44QCHIQQkz9TlAjy5JeFU6M0DE2lOVHyQ5QMW32GRmdDpAkbjH0oeqOUBCYOXQIhs4QIZyol2FdDNA/HqY0De0NkDE2lOVHyQ5QMW32GRmdDpAQmDl0CIbOECGcqJdhXQzQC5W1GAarjFAuXVcPZU+OEAMsI9OXT02QAywj05dPTZAkbjH0oeqOUCqZWt9kWQxQNcv2A3b1jpA1y/YDdvWOkCJ4Mz8t784QEJg5dAiGzhAlPsdigKFMkDE2lOVHyQ5QIVNd7FDlzhA1S6Tzq0xPkCRuMfSh6o5QDZZox6i8SlAuXVcPZU+OECU+x2KAoUyQC5W1GAarjFAuXVcPZU+OEAp0CfyJPE8QJG4x9KHqjlAidojwUEAM0AhyEEJM/U5QMW32GRmdDpAaJHtfD8tKkCGcqJdhXQzQL3GLlG9mzhAOaAnoqD+N0Dwb4nKYMg4QAywj05dPTZAuOnPfqQwNkAfAclhHbQ8QMTaU5UfJDlA1y/YDdvWOkC46c9+pDA2QIngzPy3vzhA8G+JymDIOEC46c9+pDA2QMW32GRmdDpA1y/YDdvWOkC46c9+pDA2QPx6mNA3tDZAkbjH0oeqOUA2WaMeovEpQIVNd7FDlzhA6CDVnRQrN0AhyEEJM/U5QNcv2A3b1jpAkbjH0oeqOUD8epjQN7Q2QNUuk86tMT5A1y/YDdvWOkCRuMfSh6o5QEJg5dAiGzhA8G+JymDIOECqZWt9kWQxQOgg1Z0UKzdAIchBCTP1OUCJ4Mz8t784QAywj05dPTZADLCPTl09NkAfAclhHbQ8QLCPTl35jDZAYPVUEJlJOkAfAclhHbQ8QDZZox6i8SlAqmVrfZFkMUDVLpPOrTE+QMTaU5UfJDlAuOnPfqQwNkCqZWt9kWQxQJT7HYoChTJA1y/YDdvWOkA5oCeioP43QLCPTl35jDZAOaAnoqD+N0Bg9VQQmUk6QCHIQQkz9TlA1S6Tzq0xPkDE2lOVHyQ5QIZyol2FdDNAxbfYZGZ0OkDXL9gN29Y6QCHIQQkz9TlA/HqY0De0NkCJ4Mz8t784QJG4x9KHqjlAvcYuUb2bOEDwb4nKYMg4QGiR7Xw/LSpALlbUYBquMUAMsI9OXT02QGiR7Xw/LSpA1S6Tzq0xPkDoINWdFCs3QLjpz36kMDZA/HqY0De0NkDwb4nKYMg4QGD1VBCZSTpA/HqY0De0NkDVLpPOrTE+QMW32GRmdDpA/HqY0De0NkCU+x2KAoUyQDmgJ6Kg/jdAjy5JeFU6M0CJ2iPBQQAzQKpla32RZDFAjy5JeFU6M0CU+x2KAoUyQOgg1Z0UKzdALlbUYBquMUDE2lOVHyQ5QJT7HYoChTJAKdAn8iTxPEAp0CfyJPE8QCHIQQkz9TlADLCPTl09NkCwj05d+Yw2QLjpz36kMDZAhU13sUOXOEBoke18Py0qQKpla32RZDFAhU13sUOXOECU+x2KAoUyQEJg5dAiGzhAuXVcPZU+OEBoke18Py0qQIVNd7FDlzhAHwHJYR20PEAhyEEJM/U5QMW32GRmdDpAjy5JeFU6M0Boke18Py0qQIVNd7FDlzhA8G+JymDIOEDE2lOVHyQ5QBr6J7hY/TNAuXVcPZU+OEBoke18Py0qQJG4x9KHqjlAjy5JeFU6M0CGcqJdhXQzQI8uSXhVOjNADLCPTl09NkCGcqJdhXQzQLjpz36kMDZA8G+JymDIOECJ2iPBQQAzQLjpz36kMDZAIchBCTP1OUAuVtRgGq4xQLCPTl35jDZA1y/YDdvWOkAp0CfyJPE8QCHIQQkz9TlAxbfYZGZ0OkDoINWdFCs3QC5W1GAarjFA1y/YDdvWOkCFTXexQ5c4QDmgJ6Kg/jdAkbjH0oeqOUDwb4nKYMg4QCHIQQkz9TlA/HqY0De0NkDwb4nKYMg4QEJg5dAiGzhAOaAnoqD+N0C5dVw9lT44QC5W1GAarjFAuOnPfqQwNkC9xi5RvZs4QCnQJ/Ik8TxAaJHtfD8tKkAfAclhHbQ8QLl1XD2VPjhAieDM/Le/OEDwb4nKYMg4QIVNd7FDlzhADLCPTl09NkDFt9hkZnQ6QCHIQQkz9TlALlbUYBquMUDwb4nKYMg4QNUuk86tMT5AhnKiXYV0M0Aa+ie4WP0zQNUuk86tMT5AuOnPfqQwNkC46c9+pDA2QGD1VBCZSTpALlbUYBquMUAfAclhHbQ8QPx6mNA3tDZAxbfYZGZ0OkD8epjQN7Q2QPx6mNA3tDZAhU13sUOXOECPLkl4VTozQLl1XD2VPjhA1S6Tzq0xPkA2WaMeovEpQLl1XD2VPjhAOaAnoqD+N0DVLpPOrTE+QCnQJ/Ik8TxAuOnPfqQwNkCU+x2KAoUyQPBvicpgyDhA1S6Tzq0xPkA5oCeioP43QNUuk86tMT5AuOnPfqQwNkCGcqJdhXQzQNcv2A3b1jpAQmDl0CIbOEC5dVw9lT44QIZyol2FdDNAkbjH0oeqOUCGcqJdhXQzQI8uSXhVOjNAlPsdigKFMkAfAclhHbQ8QIVNd7FDlzhAuOnPfqQwNkAp0CfyJPE8QJG4x9KHqjlAKdAn8iTxPEAfAclhHbQ8QInaI8FBADNAQmDl0CIbOEDXL9gN29Y6QLCPTl35jDZAsI9OXfmMNkA2WaMeovEpQLCPTl35jDZAuOnPfqQwNkA5oCeioP43QMTaU5UfJDlAKdAn8iTxPEDwb4nKYMg4QNcv2A3b1jpAlPsdigKFMkCqZWt9kWQxQCnQJ/Ik8TxAxbfYZGZ0OkA2WaMeovEpQLCPTl35jDZAYPVUEJlJOkCJ2iPBQQAzQI8uSXhVOjNAQmDl0CIbOEAhyEEJM/U5QLjpz36kMDZA/HqY0De0NkAp0CfyJPE8QGiR7Xw/LSpAuXVcPZU+OEC5dVw9lT44QBr6J7hY/TNA1y/YDdvWOkAMsI9OXT02QLl1XD2VPjhA1S6Tzq0xPkCFTXexQ5c4QLjpz36kMDZAvcYuUb2bOEC46c9+pDA2QLjpz36kMDZAGvonuFj9M0Dwb4nKYMg4QNUuk86tMT5A/HqY0De0NkCqZWt9kWQxQIZyol2FdDNAxNpTlR8kOUDoINWdFCs3QJT7HYoChTJAxbfYZGZ0OkDVLpPOrTE+QAywj05dPTZA1S6Tzq0xPkAp0CfyJPE8QAywj05dPTZAGvonuFj9M0DVLpPOrTE+QInaI8FBADNA1S6Tzq0xPkAp0CfyJPE8QBr6J7hY/TNA6CDVnRQrN0AfAclhHbQ8QJG4x9KHqjlAOaAnoqD+N0C5dVw9lT44QJG4x9KHqjlAjy5JeFU6M0AfAclhHbQ8QPx6mNA3tDZAxbfYZGZ0OkCqZWt9kWQxQGD1VBCZSTpAQmDl0CIbOEBg9VQQmUk6QNcv2A3b1jpAKdAn8iTxPEC5dVw9lT44QIZyol2FdDNANlmjHqLxKUCwj05d+Yw2QIZyol2FdDNAOaAnoqD+N0CqZWt9kWQxQMW32GRmdDpA8G+JymDIOEAuVtRgGq4xQPBvicpgyDhAvcYuUb2bOEDXL9gN29Y6QIngzPy3vzhANlmjHqLxKUC46c9+pDA2QBr6J7hY/TNAsI9OXfmMNkCJ4Mz8t784QGD1VBCZSTpA1y/YDdvWOkCFTXexQ5c4QGiR7Xw/LSpAieDM/Le/OECFTXexQ5c4QAywj05dPTZA8G+JymDIOECqZWt9kWQxQIVNd7FDlzhA1S6Tzq0xPkDoINWdFCs3QGD1VBCZSTpAqmVrfZFkMUDXL9gN29Y6QGiR7Xw/LSpALlbUYBquMUDFt9hkZnQ6QLjpz36kMDZAhnKiXYV0M0DXL9gN29Y6QEJg5dAiGzhAIchBCTP1OUDwb4nKYMg4QLl1XD2VPjhAxbfYZGZ0OkAp0CfyJPE8QL3GLlG9mzhAhU13sUOXOEAp0CfyJPE8QLjpz36kMDZAuXVcPZU+OEC5dVw9lT44QNUuk86tMT5AaJHtfD8tKkBCYOXQIhs4QMW32GRmdDpAqmVrfZFkMUCRuMfSh6o5QDmgJ6Kg/jdAqmVrfZFkMUC9xi5RvZs4QGD1VBCZSTpAieDM/Le/OECGcqJdhXQzQLCPTl35jDZALlbUYBquMUDFt9hkZnQ6QLjpz36kMDZAxbfYZGZ0OkDwb4nKYMg4QLjpz36kMDZAvcYuUb2bOEDFt9hkZnQ6QJG4x9KHqjlAuXVcPZU+OEDFt9hkZnQ6QDmgJ6Kg/jdAlPsdigKFMkC46c9+pDA2QL3GLlG9mzhAuOnPfqQwNkCGcqJdhXQzQInaI8FBADNAOaAnoqD+N0Dwb4nKYMg4QMW32GRmdDpAqmVrfZFkMUCU+x2KAoUyQI8uSXhVOjNAOaAnoqD+N0CGcqJdhXQzQMTaU5UfJDlAvcYuUb2bOEDE2lOVHyQ5QC5W1GAarjFANlmjHqLxKUC9xi5RvZs4QKpla32RZDFAsI9OXfmMNkCGcqJdhXQzQLCPTl35jDZAkbjH0oeqOUCJ4Mz8t784QMTaU5UfJDlAaJHtfD8tKkDoINWdFCs3QNUuk86tMT5AxNpTlR8kOUC46c9+pDA2QJT7HYoChTJAaJHtfD8tKkCwj05d+Yw2QC5W1GAarjFA6CDVnRQrN0CqZWt9kWQxQNUuk86tMT5AlPsdigKFMkAuVtRgGq4xQLl1XD2VPjhAhU13sUOXOECqZWt9kWQxQBr6J7hY/TNAuOnPfqQwNkBCYOXQIhs4QCnQJ/Ik8TxAqmVrfZFkMUDVLpPOrTE+QMTaU5UfJDlAqmVrfZFkMUDFt9hkZnQ6QNUuk86tMT5ADLCPTl09NkCU+x2KAoUyQLjpz36kMDZAidojwUEAM0Boke18Py0qQGD1VBCZSTpA1y/YDdvWOkDXL9gN29Y6QNUuk86tMT5AuOnPfqQwNkA5oCeioP43QNcv2A3b1jpAaJHtfD8tKkCU+x2KAoUyQC5W1GAarjFAxNpTlR8kOUAfAclhHbQ8QL3GLlG9mzhAjy5JeFU6M0DE2lOVHyQ5QMTaU5UfJDlAIchBCTP1OUCFTXexQ5c4QIngzPy3vzhAhU13sUOXOEDFt9hkZnQ6QBr6J7hY/TNAQmDl0CIbOECFTXexQ5c4QIVNd7FDlzhA/HqY0De0NkBoke18Py0qQJT7HYoChTJAuOnPfqQwNkAfAclhHbQ8QCHIQQkz9TlAjy5JeFU6M0DXL9gN29Y6QKpla32RZDFAsI9OXfmMNkBCYOXQIhs4QDZZox6i8SlAsI9OXfmMNkCRuMfSh6o5QIngzPy3vzhAhnKiXYV0M0CJ4Mz8t784QInaI8FBADNAlPsdigKFMkDFt9hkZnQ6QNcv2A3b1jpA1y/YDdvWOkC5dVw9lT44QCnQJ/Ik8TxAQmDl0CIbOEC46c9+pDA2QInaI8FBADNAYPVUEJlJOkBg9VQQmUk6QB8ByWEdtDxANlmjHqLxKUCPLkl4VTozQB8ByWEdtDxAhnKiXYV0M0C46c9+pDA2QGiR7Xw/LSpAieDM/Le/OECGcqJdhXQzQGiR7Xw/LSpAlPsdigKFMkCJ2iPBQQAzQLCPTl35jDZAhnKiXYV0M0AuVtRgGq4xQKpla32RZDFAxbfYZGZ0OkCPLkl4VTozQDmgJ6Kg/jdAqmVrfZFkMUDwb4nKYMg4QDZZox6i8SlA8G+JymDIOECJ4Mz8t784QMTaU5UfJDlAidojwUEAM0CJ2iPBQQAzQCHIQQkz9TlAhU13sUOXOEDE2lOVHyQ5QJT7HYoChTJA1S6Tzq0xPkAMsI9OXT02QLCPTl35jDZAuXVcPZU+OEAhyEEJM/U5QCHIQQkz9TlAieDM/Le/OEBCYOXQIhs4QI8uSXhVOjNANlmjHqLxKUCwj05d+Yw2QC5W1GAarjFAidojwUEAM0CJ4Mz8t784QCHIQQkz9TlAieDM/Le/OED8epjQN7Q2QGiR7Xw/LSpA6CDVnRQrN0DXL9gN29Y6QMW32GRmdDpANlmjHqLxKUDFt9hkZnQ6QLjpz36kMDZAOaAnoqD+N0AhyEEJM/U5QCHIQQkz9TlAGvonuFj9M0AMsI9OXT02QDmgJ6Kg/jdAsI9OXfmMNkCRuMfSh6o5QI8uSXhVOjNAhnKiXYV0M0DoINWdFCs3QNUuk86tMT5AKdAn8iTxPECwj05d+Yw2QMW32GRmdDpAsI9OXfmMNkDFt9hkZnQ6QDZZox6i8SlAqmVrfZFkMUC9xi5RvZs4QB8ByWEdtDxA6CDVnRQrN0CRuMfSh6o5QGiR7Xw/LSpAsI9OXfmMNkDVLpPOrTE+QJG4x9KHqjlAxNpTlR8kOUCJ2iPBQQAzQLl1XD2VPjhANlmjHqLxKUBoke18Py0qQIVNd7FDlzhAhU13sUOXOEAhyEEJM/U5QPBvicpgyDhANlmjHqLxKUCqZWt9kWQxQIZyol2FdDNA1S6Tzq0xPkC9xi5RvZs4QGD1VBCZSTpAjy5JeFU6M0BCYOXQIhs4QCnQJ/Ik8TxAQmDl0CIbOEAhyEEJM/U5QAywj05dPTZAkbjH0oeqOUAhyEEJM/U5QAywj05dPTZAuXVcPZU+OEA5oCeioP43QMW32GRmdDpADLCPTl09NkA2WaMeovEpQGD1VBCZSTpAaJHtfD8tKkCGcqJdhXQzQL3GLlG9mzhAkbjH0oeqOUDFt9hkZnQ6QMW32GRmdDpAhU13sUOXOECPLkl4VTozQDZZox6i8SlA1y/YDdvWOkAa+ie4WP0zQC5W1GAarjFA/HqY0De0NkCqZWt9kWQxQDmgJ6Kg/jdAaJHtfD8tKkA5oCeioP43QPx6mNA3tDZAHwHJYR20PED8epjQN7Q2QJT7HYoChTJAhnKiXYV0M0AMsI9OXT02QLl1XD2VPjhAieDM/Le/OEBoke18Py0qQOgg1Z0UKzdAlPsdigKFMkAhyEEJM/U5QLjpz36kMDZAhnKiXYV0M0BCYOXQIhs4QB8ByWEdtDxAuXVcPZU+OEC46c9+pDA2QIVNd7FDlzhA8G+JymDIOEBg9VQQmUk6QBr6J7hY/TNADLCPTl09NkDoINWdFCs3QLjpz36kMDZAhnKiXYV0M0C9xi5RvZs4QNUuk86tMT5AYPVUEJlJOkA2WaMeovEpQDZZox6i8SlA1S6Tzq0xPkCPLkl4VTozQDZZox6i8SlAjy5JeFU6M0C46c9+pDA2QGiR7Xw/LSpA8G+JymDIOEDFt9hkZnQ6QNcv2A3b1jpAhnKiXYV0M0AhyEEJM/U5QKpla32RZDFAsI9OXfmMNkCJ4Mz8t784QDmgJ6Kg/jdA8G+JymDIOEA5oCeioP43QJT7HYoChTJAxbfYZGZ0OkDE2lOVHyQ5QInaI8FBADNAOaAnoqD+N0A2WaMeovEpQC5W1GAarjFAieDM/Le/OEDXL9gN29Y6QGiR7Xw/LSpANlmjHqLxKUC46c9+pDA2QLCPTl35jDZAKdAn8iTxPEC46c9+pDA2QNUuk86tMT5AlPsdigKFMkAa+ie4WP0zQCHIQQkz9TlAlPsdigKFMkDFt9hkZnQ6QNcv2A3b1jpAidojwUEAM0BCYOXQIhs4QEJg5dAiGzhAidojwUEAM0CFTXexQ5c4QEJg5dAiGzhANlmjHqLxKUDVLpPOrTE+QNUuk86tMT5Ajy5JeFU6M0Aa+ie4WP0zQAywj05dPTZADLCPTl09NkA2WaMeovEpQLjpz36kMDZA1y/YDdvWOkAfAclhHbQ8QInaI8FBADNAhU13sUOXOEC46c9+pDA2QNUuk86tMT5AuXVcPZU+OEC46c9+pDA2QKpla32RZDFAlPsdigKFMkDXL9gN29Y6QJG4x9KHqjlAjy5JeFU6M0AhyEEJM/U5QMW32GRmdDpA/HqY0De0NkDwb4nKYMg4QCHIQQkz9TlANlmjHqLxKUAhyEEJM/U5QGiR7Xw/LSpA6CDVnRQrN0CqZWt9kWQxQNUuk86tMT5AlPsdigKFMkC5dVw9lT44QDZZox6i8SlAQmDl0CIbOEAhyEEJM/U5QNcv2A3b1jpAidojwUEAM0CFTXexQ5c4QCHIQQkz9TlAidojwUEAM0Ap0CfyJPE8QMW32GRmdDpA8G+JymDIOEC5dVw9lT44QDmgJ6Kg/jdAhU13sUOXOEA5oCeioP43QNUuk86tMT5AuOnPfqQwNkDFt9hkZnQ6QAywj05dPTZAuXVcPZU+OEDE2lOVHyQ5QL3GLlG9mzhAHwHJYR20PEAMsI9OXT02QOgg1Z0UKzdAhU13sUOXOECPLkl4VTozQNcv2A3b1jpAhU13sUOXOEAhyEEJM/U5QNcv2A3b1jpAYPVUEJlJOkDFt9hkZnQ6QIZyol2FdDNAxbfYZGZ0OkBg9VQQmUk6QC5W1GAarjFAIchBCTP1OUAfAclhHbQ8QC5W1GAarjFAuXVcPZU+OEA2WaMeovEpQAywj05dPTZAidojwUEAM0DE2lOVHyQ5QIZyol2FdDNAOaAnoqD+N0Boke18Py0qQGD1VBCZSTpAuXVcPZU+OEDFt9hkZnQ6QIZyol2FdDNAhnKiXYV0M0AhyEEJM/U5QLjpz36kMDZA1y/YDdvWOkC5dVw9lT44QDZZox6i8SlADLCPTl09NkBCYOXQIhs4QCHIQQkz9TlADLCPTl09NkCRuMfSh6o5QIZyol2FdDNAkbjH0oeqOUCFTXexQ5c4QNcv2A3b1jpA8G+JymDIOECwj05d+Yw2QKpla32RZDFAuXVcPZU+OEDFt9hkZnQ6QMTaU5UfJDlAxbfYZGZ0OkDXL9gN29Y6QKpla32RZDFAOaAnoqD+N0D8epjQN7Q2QMW32GRmdDpAlPsdigKFMkDXL9gN29Y6QDmgJ6Kg/jdAQmDl0CIbOEDFt9hkZnQ6QLCPTl35jDZAkbjH0oeqOUC46c9+pDA2QNcv2A3b1jpAxNpTlR8kOUDoINWdFCs3QOgg1Z0UKzdAqmVrfZFkMUC5dVw9lT44QIVNd7FDlzhAqmVrfZFkMUAuVtRgGq4xQIZyol2FdDNAsI9OXfmMNkAuVtRgGq4xQBr6J7hY/TNAieDM/Le/OEAuVtRgGq4xQJT7HYoChTJAQmDl0CIbOECRuMfSh6o5QKpla32RZDFA8G+JymDIOEC5dVw9lT44QGiR7Xw/LSpAhnKiXYV0M0Cwj05d+Yw2QIZyol2FdDNAuOnPfqQwNkAp0CfyJPE8QKpla32RZDFAGvonuFj9M0DE2lOVHyQ5QNUuk86tMT5A/HqY0De0NkDXL9gN29Y6QEJg5dAiGzhAHwHJYR20PEC46c9+pDA2QJT7HYoChTJAhU13sUOXOEC46c9+pDA2QL3GLlG9mzhAQmDl0CIbOECU+x2KAoUyQL3GLlG9mzhAvcYuUb2bOECRuMfSh6o5QIngzPy3vzhAxbfYZGZ0OkCFTXexQ5c4QIZyol2FdDNAhU13sUOXOECJ4Mz8t784QB8ByWEdtDxA1y/YDdvWOkCGcqJdhXQzQGD1VBCZSTpAhnKiXYV0M0Boke18Py0qQBr6J7hY/TNAlPsdigKFMkDwb4nKYMg4QJT7HYoChTJAhU13sUOXOECPLkl4VTozQIVNd7FDlzhAOaAnoqD+N0AMsI9OXT02QCHIQQkz9TlAOaAnoqD+N0A2WaMeovEpQIZyol2FdDNADLCPTl09NkCGcqJdhXQzQPx6mNA3tDZAqmVrfZFkMUAp0CfyJPE8QJT7HYoChTJAOaAnoqD+N0DVLpPOrTE+QIVNd7FDlzhAHwHJYR20PEDXL9gN29Y6QIVNd7FDlzhA/HqY0De0NkCPLkl4VTozQKpla32RZDFAvcYuUb2bOECJ4Mz8t784QDmgJ6Kg/jdAidojwUEAM0DXL9gN29Y6QLl1XD2VPjhAjy5JeFU6M0DoINWdFCs3QL3GLlG9mzhAuOnPfqQwNkD8epjQN7Q2QEJg5dAiGzhAhnKiXYV0M0Ap0CfyJPE8QAywj05dPTZAhnKiXYV0M0DXL9gN29Y6QInaI8FBADNAaJHtfD8tKkCJ4Mz8t784QGD1VBCZSTpAqmVrfZFkMUDVLpPOrTE+QNUuk86tMT5AaJHtfD8tKkCJ4Mz8t784QLCPTl35jDZA8G+JymDIOEDXL9gN29Y6QPx6mNA3tDZAxbfYZGZ0OkDFt9hkZnQ6QPBvicpgyDhAieDM/Le/OEC9xi5RvZs4QCnQJ/Ik8TxAuXVcPZU+OECRuMfSh6o5QMTaU5UfJDlAYPVUEJlJOkCRuMfSh6o5QNcv2A3b1jpAhnKiXYV0M0CFTXexQ5c4QLl1XD2VPjhALlbUYBquMUDXL9gN29Y6QC5W1GAarjFAxbfYZGZ0OkDoINWdFCs3QIVNd7FDlzhA6CDVnRQrN0CRuMfSh6o5QEJg5dAiGzhAxNpTlR8kOUC9xi5RvZs4QCnQJ/Ik8TxAIchBCTP1OUD8epjQN7Q2QJG4x9KHqjlAKdAn8iTxPEDwb4nKYMg4QCnQJ/Ik8TxANlmjHqLxKUBCYOXQIhs4QPBvicpgyDhA6CDVnRQrN0C46c9+pDA2QIZyol2FdDNA1y/YDdvWOkDXL9gN29Y6QB8ByWEdtDxAuXVcPZU+OEDXL9gN29Y6QMTaU5UfJDlAaJHtfD8tKkC46c9+pDA2QJT7HYoChTJAkbjH0oeqOUC5dVw9lT44QMW32GRmdDpAsI9OXfmMNkDVLpPOrTE+QOgg1Z0UKzdAxbfYZGZ0OkCU+x2KAoUyQGiR7Xw/LSpADLCPTl09NkBoke18Py0qQKpla32RZDFA8G+JymDIOECGcqJdhXQzQKpla32RZDFAIchBCTP1OUC9xi5RvZs4QDmgJ6Kg/jdANlmjHqLxKUCPLkl4VTozQIVNd7FDlzhAkbjH0oeqOUAMsI9OXT02QLCPTl35jDZAlPsdigKFMkCJ2iPBQQAzQNUuk86tMT5A6CDVnRQrN0Boke18Py0qQGiR7Xw/LSpA6CDVnRQrN0Cwj05d+Yw2QKpla32RZDFAhnKiXYV0M0AhyEEJM/U5QAywj05dPTZAvcYuUb2bOEDVLpPOrTE+QDmgJ6Kg/jdAsI9OXfmMNkC46c9+pDA2QLCPTl35jDZAQmDl0CIbOEAp0CfyJPE8QInaI8FBADNAqmVrfZFkMUDoINWdFCs3QLl1XD2VPjhA1y/YDdvWOkCU+x2KAoUyQNcv2A3b1jpANlmjHqLxKUDFt9hkZnQ6QLjpz36kMDZAkbjH0oeqOUDXL9gN29Y6QIngzPy3vzhA6CDVnRQrN0C46c9+pDA2QC5W1GAarjFAlPsdigKFMkCRuMfSh6o5QKpla32RZDFALlbUYBquMUCqZWt9kWQxQB8ByWEdtDxAKdAn8iTxPECRuMfSh6o5QIVNd7FDlzhAqmVrfZFkMUBoke18Py0qQGiR7Xw/LSpAieDM/Le/OECGcqJdhXQzQDmgJ6Kg/jdAuOnPfqQwNkAMsI9OXT02QMW32GRmdDpAxNpTlR8kOUDXL9gN29Y6QAywj05dPTZA8G+JymDIOECJ2iPBQQAzQPBvicpgyDhAuOnPfqQwNkDFt9hkZnQ6QIVNd7FDlzhAHwHJYR20PEAa+ie4WP0zQLjpz36kMDZAuOnPfqQwNkA2WaMeovEpQCHIQQkz9TlAQmDl0CIbOEBoke18Py0qQPx6mNA3tDZAIchBCTP1OUDE2lOVHyQ5QI8uSXhVOjNAvcYuUb2bOECRuMfSh6o5QJG4x9KHqjlAlPsdigKFMkAhyEEJM/U5QLCPTl35jDZAkbjH0oeqOUCqZWt9kWQxQB8ByWEdtDxA1y/YDdvWOkCJ4Mz8t784QBr6J7hY/TNAaJHtfD8tKkDFt9hkZnQ6QLCPTl35jDZAieDM/Le/OEDFt9hkZnQ6QL3GLlG9mzhA/HqY0De0NkCFTXexQ5c4QC5W1GAarjFAuXVcPZU+OED8epjQN7Q2QLjpz36kMDZAxbfYZGZ0OkC9xi5RvZs4QInaI8FBADNANlmjHqLxKUCqZWt9kWQxQMW32GRmdDpAQmDl0CIbOECGcqJdhXQzQCHIQQkz9TlAieDM/Le/OEDwb4nKYMg4QIngzPy3vzhAhU13sUOXOEBoke18Py0qQLCPTl35jDZAhnKiXYV0M0Dwb4nKYMg4QOgg1Z0UKzdAlPsdigKFMkCJ4Mz8t784QLjpz36kMDZANlmjHqLxKUCJ2iPBQQAzQGiR7Xw/LSpANlmjHqLxKUCJ2iPBQQAzQLCPTl35jDZA8G+JymDIOECwj05d+Yw2QPBvicpgyDhA1y/YDdvWOkAuVtRgGq4xQAywj05dPTZAsI9OXfmMNkC46c9+pDA2QNUuk86tMT5AaJHtfD8tKkC5dVw9lT44QInaI8FBADNAQmDl0CIbOEC46c9+pDA2QNcv2A3b1jpAhnKiXYV0M0DXL9gN29Y6QLjpz36kMDZA8G+JymDIOECPLkl4VTozQIZyol2FdDNAOaAnoqD+N0DFt9hkZnQ6QLjpz36kMDZAvcYuUb2bOECRuMfSh6o5QNcv2A3b1jpAlPsdigKFMkCGcqJdhXQzQIngzPy3vzhAxbfYZGZ0OkAhyEEJM/U5QCnQJ/Ik8TxAsI9OXfmMNkDVLpPOrTE+QMW32GRmdDpAvcYuUb2bOEDVLpPOrTE+QIVNd7FDlzhADLCPTl09NkCPLkl4VTozQOgg1Z0UKzdAHwHJYR20PEC46c9+pDA2QL3GLlG9mzhAaJHtfD8tKkCPLkl4VTozQMTaU5UfJDlAqmVrfZFkMUDoINWdFCs3QIVNd7FDlzhANlmjHqLxKUC5dVw9lT44QIZyol2FdDNAieDM/Le/OECU+x2KAoUyQIZyol2FdDNAsI9OXfmMNkAMsI9OXT02QPx6mNA3tDZA8G+JymDIOECJ2iPBQQAzQDmgJ6Kg/jdAuOnPfqQwNkDXL9gN29Y6QInaI8FBADNADLCPTl09NkC9xi5RvZs4QJT7HYoChTJAGvonuFj9M0CPLkl4VTozQKpla32RZDFAvcYuUb2bOEC5dVw9lT44QAywj05dPTZAOaAnoqD+N0C9xi5RvZs4QGiR7Xw/LSpAQmDl0CIbOEAfAclhHbQ8QAywj05dPTZAhU13sUOXOEDXL9gN29Y6QNUuk86tMT5A6CDVnRQrN0C5dVw9lT44QCHIQQkz9TlA6CDVnRQrN0CPLkl4VTozQIngzPy3vzhAuOnPfqQwNkCqZWt9kWQxQEJg5dAiGzhAidojwUEAM0Boke18Py0qQLl1XD2VPjhA1y/YDdvWOkAp0CfyJPE8QIZyol2FdDNAaJHtfD8tKkBCYOXQIhs4QB8ByWEdtDxAidojwUEAM0C46c9+pDA2QNUuk86tMT5A1S6Tzq0xPkC9xi5RvZs4QEJg5dAiGzhAuOnPfqQwNkAMsI9OXT02QIZyol2FdDNAhU13sUOXOEC46c9+pDA2QI8uSXhVOjNA6CDVnRQrN0DVLpPOrTE+QCnQJ/Ik8TxAOaAnoqD+N0CPLkl4VTozQIZyol2FdDNAhU13sUOXOEC5dVw9lT44QEJg5dAiGzhAQmDl0CIbOED8epjQN7Q2QIZyol2FdDNAqmVrfZFkMUC46c9+pDA2QGD1VBCZSTpAjy5JeFU6M0A2WaMeovEpQJT7HYoChTJAxbfYZGZ0OkCRuMfSh6o5QMW32GRmdDpAvcYuUb2bOEDXL9gN29Y6QIngzPy3vzhAlPsdigKFMkC9xi5RvZs4QCnQJ/Ik8TxALlbUYBquMUCwj05d+Yw2QBr6J7hY/TNA1y/YDdvWOkAa+ie4WP0zQIVNd7FDlzhAqmVrfZFkMUC46c9+pDA2QNUuk86tMT5AuOnPfqQwNkCFTXexQ5c4QGiR7Xw/LSpAQmDl0CIbOEDFt9hkZnQ6QIZyol2FdDNAKdAn8iTxPECGcqJdhXQzQJT7HYoChTJAxbfYZGZ0OkCRuMfSh6o5QIngzPy3vzhAqmVrfZFkMUCPLkl4VTozQDZZox6i8SlAsI9OXfmMNkAa+ie4WP0zQLCPTl35jDZALlbUYBquMUCU+x2KAoUyQEJg5dAiGzhANlmjHqLxKUCU+x2KAoUyQJT7HYoChTJAHwHJYR20PEC5dVw9lT44QIngzPy3vzhAhU13sUOXOEDVLpPOrTE+QNUuk86tMT5AxbfYZGZ0OkCFTXexQ5c4QInaI8FBADNALlbUYBquMUCqZWt9kWQxQJT7HYoChTJAvcYuUb2bOEDwb4nKYMg4QIZyol2FdDNAxbfYZGZ0OkCwj05d+Yw2QCnQJ/Ik8TxAjy5JeFU6M0C5dVw9lT44QCnQJ/Ik8TxAlPsdigKFMkDwb4nKYMg4QNcv2A3b1jpAaJHtfD8tKkC9xi5RvZs4QMW32GRmdDpAhnKiXYV0M0DFt9hkZnQ6QJT7HYoChTJAsI9OXfmMNkAhyEEJM/U5QDmgJ6Kg/jdAuXVcPZU+OEDVLpPOrTE+QIVNd7FDlzhAaJHtfD8tKkBCYOXQIhs4QLjpz36kMDZADLCPTl09NkBoke18Py0qQCHIQQkz9TlAxNpTlR8kOUCJ2iPBQQAzQDmgJ6Kg/jdAhnKiXYV0M0Bg9VQQmUk6QGiR7Xw/LSpAOaAnoqD+N0CJ2iPBQQAzQL3GLlG9mzhALlbUYBquMUCqZWt9kWQxQGiR7Xw/LSpAOaAnoqD+N0A5oCeioP43QIZyol2FdDNA1y/YDdvWOkCRuMfSh6o5QLCPTl35jDZAxbfYZGZ0OkDFt9hkZnQ6QIngzPy3vzhA/HqY0De0NkC9xi5RvZs4QMW32GRmdDpAvcYuUb2bOEDE2lOVHyQ5QNcv2A3b1jpAieDM/Le/OEC46c9+pDA2QNcv2A3b1jpAvcYuUb2bOEDXL9gN29Y6QAywj05dPTZAQmDl0CIbOEAp0CfyJPE8QB8ByWEdtDxAxbfYZGZ0OkCqZWt9kWQxQC5W1GAarjFAvcYuUb2bOECqZWt9kWQxQNcv2A3b1jpA6CDVnRQrN0DXL9gN29Y6QNcv2A3b1jpALlbUYBquMUC5dVw9lT44QKpla32RZDFAQmDl0CIbOEDVLpPOrTE+QC5W1GAarjFAxbfYZGZ0OkDXL9gN29Y6QCnQJ/Ik8TxADLCPTl09NkA2WaMeovEpQNUuk86tMT5Ajy5JeFU6M0A5oCeioP43QPx6mNA3tDZAxNpTlR8kOUDwb4nKYMg4QPx6mNA3tDZAjy5JeFU6M0DVLpPOrTE+QMTaU5UfJDlAuXVcPZU+OEA5oCeioP43QGiR7Xw/LSpA1S6Tzq0xPkAa+ie4WP0zQCnQJ/Ik8TxAsI9OXfmMNkC5dVw9lT44QEJg5dAiGzhAidojwUEAM0C46c9+pDA2QIZyol2FdDNA8G+JymDIOEDwb4nKYMg4QJT7HYoChTJAjy5JeFU6M0CGcqJdhXQzQCnQJ/Ik8TxAKdAn8iTxPECPLkl4VTozQAywj05dPTZAkbjH0oeqOUCPLkl4VTozQIngzPy3vzhAIchBCTP1OUAhyEEJM/U5QMW32GRmdDpA1y/YDdvWOkAuVtRgGq4xQDZZox6i8SlAkbjH0oeqOUC46c9+pDA2QOgg1Z0UKzdA/HqY0De0NkDVLpPOrTE+QPBvicpgyDhA8G+JymDIOECqZWt9kWQxQMW32GRmdDpAvcYuUb2bOECJ4Mz8t784QIngzPy3vzhAxNpTlR8kOUDoINWdFCs3QIZyol2FdDNAuOnPfqQwNkDE2lOVHyQ5QGD1VBCZSTpANlmjHqLxKUDVLpPOrTE+QI8uSXhVOjNAjy5JeFU6M0Boke18Py0qQJG4x9KHqjlA8G+JymDIOEDFt9hkZnQ6QMW32GRmdDpAkbjH0oeqOUCwj05d+Yw2QIZyol2FdDNAuOnPfqQwNkCFTXexQ5c4QMW32GRmdDpAjy5JeFU6M0Boke18Py0qQMTaU5UfJDlAvcYuUb2bOED8epjQN7Q2QLjpz36kMDZAaJHtfD8tKkBoke18Py0qQB8ByWEdtDxA/HqY0De0NkBCYOXQIhs4QMW32GRmdDpAOaAnoqD+N0DE2lOVHyQ5QLCPTl35jDZA1y/YDdvWOkCJ2iPBQQAzQIVNd7FDlzhAKdAn8iTxPEAp0CfyJPE8QDZZox6i8SlALlbUYBquMUDVLpPOrTE+QCnQJ/Ik8TxAuOnPfqQwNkC46c9+pDA2QLjpz36kMDZAlPsdigKFMkBCYOXQIhs4QCHIQQkz9TlANlmjHqLxKUCqZWt9kWQxQMTaU5UfJDlANlmjHqLxKUDwb4nKYMg4QJT7HYoChTJAHwHJYR20PEA2WaMeovEpQC5W1GAarjFAidojwUEAM0DFt9hkZnQ6QLl1XD2VPjhAKdAn8iTxPEC46c9+pDA2QIVNd7FDlzhAieDM/Le/OEAMsI9OXT02QPx6mNA3tDZAieDM/Le/OECU+x2KAoUyQInaI8FBADNAuXVcPZU+OECPLkl4VTozQGiR7Xw/LSpA1y/YDdvWOkCqZWt9kWQxQJG4x9KHqjlAxNpTlR8kOUDoINWdFCs3QNcv2A3b1jpAHwHJYR20PECU+x2KAoUyQC5W1GAarjFAxbfYZGZ0OkBCYOXQIhs4QIZyol2FdDNAKdAn8iTxPEA5oCeioP43QEJg5dAiGzhAlPsdigKFMkCPLkl4VTozQCnQJ/Ik8TxAxbfYZGZ0OkAMsI9OXT02QKpla32RZDFAlPsdigKFMkDwb4nKYMg4QLl1XD2VPjhAxNpTlR8kOUA2WaMeovEpQGiR7Xw/LSpAQmDl0CIbOEA5oCeioP43QJT7HYoChTJAIchBCTP1OUCwj05d+Yw2QL3GLlG9mzhA1y/YDdvWOkDoINWdFCs3QPx6mNA3tDZAieDM/Le/OEAhyEEJM/U5QI8uSXhVOjNAuOnPfqQwNkAp0CfyJPE8QCHIQQkz9TlAhnKiXYV0M0C9xi5RvZs4QEJg5dAiGzhAvcYuUb2bOEDFt9hkZnQ6QBr6J7hY/TNAlPsdigKFMkC46c9+pDA2QGD1VBCZSTpADLCPTl09NkDXL9gN29Y6QAywj05dPTZAvcYuUb2bOECU+x2KAoUyQDZZox6i8SlAvcYuUb2bOEDFt9hkZnQ6QJG4x9KHqjlAsI9OXfmMNkA2WaMeovEpQMW32GRmdDpAaJHtfD8tKkCwj05d+Yw2QCnQJ/Ik8TxAlPsdigKFMkCqZWt9kWQxQDZZox6i8SlAkbjH0oeqOUDoINWdFCs3QLl1XD2VPjhAhU13sUOXOEDE2lOVHyQ5QDmgJ6Kg/jdAxbfYZGZ0OkAMsI9OXT02QPx6mNA3tDZAieDM/Le/OECwj05d+Yw2QI8uSXhVOjNA1S6Tzq0xPkCGcqJdhXQzQLCPTl35jDZAKdAn8iTxPEC9xi5RvZs4QOgg1Z0UKzdAsI9OXfmMNkCRuMfSh6o5QL3GLlG9mzhAuXVcPZU+OEDwb4nKYMg4QIngzPy3vzhAKdAn8iTxPEAMsI9OXT02QNcv2A3b1jpAGvonuFj9M0CRuMfSh6o5QI8uSXhVOjNAuXVcPZU+OED8epjQN7Q2QNUuk86tMT5AIchBCTP1OUCPLkl4VTozQIVNd7FDlzhAieDM/Le/OEAp0CfyJPE8QCHIQQkz9TlAYPVUEJlJOkC5dVw9lT44QPBvicpgyDhAlPsdigKFMkDFt9hkZnQ6QLjpz36kMDZA6CDVnRQrN0DXL9gN29Y6QLjpz36kMDZA1y/YDdvWOkDwb4nKYMg4QJT7HYoChTJA6CDVnRQrN0CFTXexQ5c4QGiR7Xw/LSpAwf9WsmMfNUAuVtRgGq4xQJG4x9KHqjlAGvonuFj9M0DXL9gN29Y6QIZyol2FdDNAqmVrfZFkMUCFTXexQ5c4QPx6mNA3tDZAOaAnoqD+N0CqZWt9kWQxQKpla32RZDFAjy5JeFU6M0AhyEEJM/U5QMW32GRmdDpAOaAnoqD+N0CqZWt9kWQxQCHIQQkz9TlAlPsdigKFMkAfAclhHbQ8QL3GLlG9mzhAieDM/Le/OEAuVtRgGq4xQIZyol2FdDNA8G+JymDIOEDFt9hkZnQ6QB8ByWEdtDxAieDM/Le/OEDwb4nKYMg4QIngzPy3vzhA1S6Tzq0xPkDwb4nKYMg4QC5W1GAarjFAxbfYZGZ0OkCwj05d+Yw2QKpla32RZDFAuOnPfqQwNkD8epjQN7Q2QJG4x9KHqjlAieDM/Le/OECwj05d+Yw2QOgg1Z0UKzdA6CDVnRQrN0A2WaMeovEpQLjpz36kMDZA1y/YDdvWOkDFt9hkZnQ6QI8uSXhVOjNA6CDVnRQrN0AuVtRgGq4xQLl1XD2VPjhAvcYuUb2bOECPLkl4VTozQL3GLlG9mzhAaJHtfD8tKkAhyEEJM/U5QDmgJ6Kg/jdA8G+JymDIOEBoke18Py0qQAywj05dPTZAxbfYZGZ0OkAMsI9OXT02QMW32GRmdDpA1y/YDdvWOkDXL9gN29Y6QLjpz36kMDZAjy5JeFU6M0A5oCeioP43QI8uSXhVOjNAaJHtfD8tKkDVLpPOrTE+QJT7HYoChTJA6CDVnRQrN0Ap0CfyJPE8QC5W1GAarjFAxbfYZGZ0OkCPLkl4VTozQCHIQQkz9TlAQmDl0CIbOEA2WaMeovEpQDZZox6i8SlAidojwUEAM0C9xi5RvZs4QEJg5dAiGzhAHwHJYR20PECPLkl4VTozQJT7HYoChTJAYPVUEJlJOkC5dVw9lT44QC5W1GAarjFAkbjH0oeqOUBCYOXQIhs4QC5W1GAarjFAieDM/Le/OECqZWt9kWQxQI8uSXhVOjNADLCPTl09NkC5dVw9lT44QMTaU5UfJDlAQmDl0CIbOEAa+ie4WP0zQLl1XD2VPjhAvcYuUb2bOEBoke18Py0qQJG4x9KHqjlAOaAnoqD+N0Dwb4nKYMg4QDZZox6i8SlA1S6Tzq0xPkC5dVw9lT44QLCPTl35jDZAaJHtfD8tKkC9xi5RvZs4QNcv2A3b1jpAuXVcPZU+OECwj05d+Yw2QLl1XD2VPjhAxNpTlR8kOUAa+ie4WP0zQLl1XD2VPjhANlmjHqLxKUCFTXexQ5c4QC5W1GAarjFADLCPTl09NkAp0CfyJPE8QNcv2A3b1jpAhU13sUOXOEC46c9+pDA2QBr6J7hY/TNAuOnPfqQwNkDFt9hkZnQ6QLjpz36kMDZAhU13sUOXOEA5oCeioP43QIngzPy3vzhA/HqY0De0NkCFTXexQ5c4QJG4x9KHqjlA1S6Tzq0xPkBoke18Py0qQDmgJ6Kg/jdAidojwUEAM0A5oCeioP43QLCPTl35jDZA6CDVnRQrN0Ap0CfyJPE8QDmgJ6Kg/jdAjy5JeFU6M0Cwj05d+Yw2QInaI8FBADNAKdAn8iTxPEC9xi5RvZs4QIVNd7FDlzhAhnKiXYV0M0DFt9hkZnQ6QCnQJ/Ik8TxAuOnPfqQwNkBoke18Py0qQLjpz36kMDZAjy5JeFU6M0A2WaMeovEpQIngzPy3vzhAkbjH0oeqOUAp0CfyJPE8QIngzPy3vzhAuXVcPZU+OEA5oCeioP43QIngzPy3vzhAIchBCTP1OUCGcqJdhXQzQLCPTl35jDZAkbjH0oeqOUDXL9gN29Y6QMW32GRmdDpAjy5JeFU6M0BCYOXQIhs4QC5W1GAarjFAjy5JeFU6M0C46c9+pDA2QLl1XD2VPjhAaJHtfD8tKkA5oCeioP43QLjpz36kMDZAIchBCTP1OUC46c9+pDA2QEJg5dAiGzhAaJHtfD8tKkDVLpPOrTE+QNcv2A3b1jpA/HqY0De0NkCGcqJdhXQzQEJg5dAiGzhA1S6Tzq0xPkCRuMfSh6o5QIZyol2FdDNAjy5JeFU6M0DXL9gN29Y6QIZyol2FdDNAlPsdigKFMkCRuMfSh6o5QNcv2A3b1jpADLCPTl09NkDFt9hkZnQ6QNUuk86tMT5AuOnPfqQwNkC5dVw9lT44QIVNd7FDlzhAkbjH0oeqOUCJ4Mz8t784QKpla32RZDFAxbfYZGZ0OkDwb4nKYMg4QB8ByWEdtDxAvcYuUb2bOEBoke18Py0qQMW32GRmdDpAidojwUEAM0DVLpPOrTE+QL3GLlG9mzhAuOnPfqQwNkAfAclhHbQ8QIVNd7FDlzhAuXVcPZU+OECqZWt9kWQxQI8uSXhVOjNA/HqY0De0NkDVLpPOrTE+QDZZox6i8SlALlbUYBquMUDVLpPOrTE+QKpla32RZDFAxNpTlR8kOUAuVtRgGq4xQNUuk86tMT5A1S6Tzq0xPkAa+ie4WP0zQGD1VBCZSTpA8G+JymDIOEAMsI9OXT02QBr6J7hY/TNAuXVcPZU+OECFTXexQ5c4QB8ByWEdtDxAlPsdigKFMkAfAclhHbQ8QMW32GRmdDpAuOnPfqQwNkAhyEEJM/U5QCHIQQkz9TlA1S6Tzq0xPkCJ2iPBQQAzQIZyol2FdDNAIchBCTP1OUCGcqJdhXQzQJT7HYoChTJAOaAnoqD+N0DFt9hkZnQ6QB8ByWEdtDxAKdAn8iTxPEBoke18Py0qQI8uSXhVOjNAhnKiXYV0M0Dwb4nKYMg4QDZZox6i8SlAOaAnoqD+N0CGcqJdhXQzQNcv2A3b1jpA8G+JymDIOECU+x2KAoUyQAywj05dPTZAIchBCTP1OUDVLpPOrTE+QKpla32RZDFAsI9OXfmMNkCPLkl4VTozQGiR7Xw/LSpA1y/YDdvWOkCwj05d+Yw2QLjpz36kMDZAqmVrfZFkMUCFTXexQ5c4QMW32GRmdDpAidojwUEAM0Boke18Py0qQJG4x9KHqjlAhnKiXYV0M0AfAclhHbQ8QI8uSXhVOjNAuOnPfqQwNkCU+x2KAoUyQNUuk86tMT5AlPsdigKFMkDwb4nKYMg4QLCPTl35jDZA/HqY0De0NkC9xi5RvZs4QGiR7Xw/LSpAOaAnoqD+N0CU+x2KAoUyQPBvicpgyDhAIchBCTP1OUDVLpPOrTE+QJG4x9KHqjlAuXVcPZU+OEC46c9+pDA2QB8ByWEdtDxAKdAn8iTxPECPLkl4VTozQMW32GRmdDpAhU13sUOXOEBoke18Py0qQInaI8FBADNAsI9OXfmMNkAuVtRgGq4xQJG4x9KHqjlADLCPTl09NkDoINWdFCs3QC5W1GAarjFA6CDVnRQrN0CPLkl4VTozQC5W1GAarjFAKdAn8iTxPECqZWt9kWQxQMW32GRmdDpAaJHtfD8tKkCU+x2KAoUyQNcv2A3b1jpAOaAnoqD+N0Aa+ie4WP0zQI8uSXhVOjNAlPsdigKFMkDoINWdFCs3QIZyol2FdDNALlbUYBquMUCJ4Mz8t784QOgg1Z0UKzdA6CDVnRQrN0DFt9hkZnQ6QNUuk86tMT5A8G+JymDIOECqZWt9kWQxQJT7HYoChTJA1y/YDdvWOkC46c9+pDA2QInaI8FBADNAhU13sUOXOEC5dVw9lT44QInaI8FBADNAYPVUEJlJOkCJ2iPBQQAzQCnQJ/Ik8TxAsI9OXfmMNkC46c9+pDA2QIZyol2FdDNADLCPTl09NkCwj05d+Yw2QPx6mNA3tDZA1S6Tzq0xPkDXL9gN29Y6QI8uSXhVOjNAxbfYZGZ0OkAuVtRgGq4xQBr6J7hY/TNAuOnPfqQwNkAfAclhHbQ8QDmgJ6Kg/jdAsI9OXfmMNkCFTXexQ5c4QPBvicpgyDhAqmVrfZFkMUBg9VQQmUk6QLCPTl35jDZAxbfYZGZ0OkAp0CfyJPE8QOgg1Z0UKzdAaJHtfD8tKkDVLpPOrTE+QInaI8FBADNAqmVrfZFkMUD8epjQN7Q2QB8ByWEdtDxA/HqY0De0NkCqZWt9kWQxQMW32GRmdDpAjy5JeFU6M0CJ4Mz8t784QBr6J7hY/TNAkbjH0oeqOUCRuMfSh6o5QInaI8FBADNAxbfYZGZ0OkA5oCeioP43QGD1VBCZSTpAKdAn8iTxPEDFt9hkZnQ6QDZZox6i8SlA8G+JymDIOEAuVtRgGq4xQIZyol2FdDNAieDM/Le/OEBCYOXQIhs4QIZyol2FdDNADLCPTl09NkCPLkl4VTozQLjpz36kMDZAaJHtfD8tKkA2WaMeovEpQLCPTl35jDZAidojwUEAM0DFt9hkZnQ6QLCPTl35jDZAhnKiXYV0M0C9xi5RvZs4QLjpz36kMDZAOaAnoqD+N0Ap0CfyJPE8QIZyol2FdDNAxNpTlR8kOUC9xi5RvZs4QNcv2A3b1jpALlbUYBquMUCJ4Mz8t784QMTaU5UfJDlAjy5JeFU6M0A5oCeioP43QJG4x9KHqjlAhnKiXYV0M0C9xi5RvZs4QCHIQQkz9TlAhnKiXYV0M0A2WaMeovEpQDmgJ6Kg/jdAxbfYZGZ0OkDoINWdFCs3QNcv2A3b1jpALlbUYBquMUA5oCeioP43QNcv2A3b1jpAKdAn8iTxPEC46c9+pDA2QPx6mNA3tDZAHwHJYR20PEA2WaMeovEpQNcv2A3b1jpAlPsdigKFMkCPLkl4VTozQL3GLlG9mzhAhnKiXYV0M0CGcqJdhXQzQCScFrzoUzhA1y/YDdvWOkAMsI9OXT02QGiR7Xw/LSpANlmjHqLxKUC5dVw9lT44QJT7HYoChTJAxbfYZGZ0OkDFt9hkZnQ6QLl1XD2VPjhAieDM/Le/OEBoke18Py0qQGD1VBCZSTpAlPsdigKFMkCJ4Mz8t784QJG4x9KHqjlAieDM/Le/OEDwb4nKYMg4QMTaU5UfJDlAvcYuUb2bOEDwb4nKYMg4QIVNd7FDlzhAwf9WsmMfNUC9xi5RvZs4QIVNd7FDlzhAlPsdigKFMkCPLkl4VTozQCnQJ/Ik8TxAjy5JeFU6M0Aa+ie4WP0zQJT7HYoChTJAQmDl0CIbOEAp0CfyJPE8QAywj05dPTZAIchBCTP1OUBg9VQQmUk6QL3GLlG9mzhAHwHJYR20PECU+x2KAoUyQPBvicpgyDhAuOnPfqQwNkDVLpPOrTE+QNcv2A3b1jpA8G+JymDIOECU+x2KAoUyQEJg5dAiGzhAKdAn8iTxPEAMsI9OXT02QNUuk86tMT5AxbfYZGZ0OkCGcqJdhXQzQKpla32RZDFAsI9OXfmMNkCJ2iPBQQAzQI8uSXhVOjNAkbjH0oeqOUAMsI9OXT02QIZyol2FdDNAKdAn8iTxPECwj05d+Yw2QIZyol2FdDNA8G+JymDIOEA5oCeioP43QIngzPy3vzhALlbUYBquMUAfAclhHbQ8QMW32GRmdDpAOaAnoqD+N0CJ2iPBQQAzQIZyol2FdDNAieDM/Le/OEAhyEEJM/U5QIVNd7FDlzhAhnKiXYV0M0AfAclhHbQ8QIVNd7FDlzhAqmVrfZFkMUA5oCeioP43QIngzPy3vzhAieDM/Le/OECGcqJdhXQzQL3GLlG9mzhA1y/YDdvWOkDXL9gN29Y6QCHIQQkz9TlAuOnPfqQwNkDoINWdFCs3QOgg1Z0UKzdAxNpTlR8kOUCPLkl4VTozQC5W1GAarjFAOaAnoqD+N0AhyEEJM/U5QDmgJ6Kg/jdAxbfYZGZ0OkA5oCeioP43QCnQJ/Ik8TxA/HqY0De0NkBoke18Py0qQMW32GRmdDpAqmVrfZFkMUDVLpPOrTE+QBr6J7hY/TNAIchBCTP1OUC46c9+pDA2QPBvicpgyDhAlPsdigKFMkDFt9hkZnQ6QPBvicpgyDhAxbfYZGZ0OkCwj05d+Yw2QMW32GRmdDpAhnKiXYV0M0C9xi5RvZs4QL3GLlG9mzhANlmjHqLxKUDXL9gN29Y6QC5W1GAarjFAIchBCTP1OUCJ4Mz8t784QCHIQQkz9TlA/HqY0De0NkDE2lOVHyQ5QLl1XD2VPjhAHwHJYR20PEC9xi5RvZs4QPBvicpgyDhAxbfYZGZ0OkAfAclhHbQ8QIngzPy3vzhAhnKiXYV0M0AfAclhHbQ8QI8uSXhVOjNA1S6Tzq0xPkBg9VQQmUk6QNUuk86tMT5A8G+JymDIOECJ4Mz8t784QLCPTl35jDZAqmVrfZFkMUDFt9hkZnQ6QDmgJ6Kg/jdAGvonuFj9M0DVLpPOrTE+QLl1XD2VPjhAYPVUEJlJOkDXL9gN29Y6QLjpz36kMDZAxNpTlR8kOUA2WaMeovEpQNUuk86tMT5ADLCPTl09NkC5dVw9lT44QNcv2A3b1jpA1y/YDdvWOkBoke18Py0qQGiR7Xw/LSpA1S6Tzq0xPkCPLkl4VTozQLCPTl35jDZAlPsdigKFMkCwj05d+Yw2QEJg5dAiGzhA1S6Tzq0xPkAuVtRgGq4xQNcv2A3b1jpAIchBCTP1OUDFt9hkZnQ6QJT7HYoChTJAOaAnoqD+N0AMsI9OXT02QAywj05dPTZAidojwUEAM0CqZWt9kWQxQCHIQQkz9TlAuOnPfqQwNkAuVtRgGq4xQAywj05dPTZANlmjHqLxKUAfAclhHbQ8QL3GLlG9mzhAidojwUEAM0CU+x2KAoUyQDZZox6i8SlAYPVUEJlJOkBoke18Py0qQNcv2A3b1jpA6CDVnRQrN0C5dVw9lT44QOgg1Z0UKzdAhnKiXYV0M0C5dVw9lT44QL3GLlG9mzhAieDM/Le/OECRuMfSh6o5QEJg5dAiGzhAjy5JeFU6M0DFt9hkZnQ6QInaI8FBADNAjy5JeFU6M0C46c9+pDA2QGiR7Xw/LSpAuXVcPZU+OECGcqJdhXQzQCHIQQkz9TlAjy5JeFU6M0AhyEEJM/U5QIngzPy3vzhAQmDl0CIbOECqZWt9kWQxQL3GLlG9mzhAuOnPfqQwNkC46c9+pDA2QJT7HYoChTJAjy5JeFU6M0CFTXexQ5c4QOgg1Z0UKzdAGvonuFj9M0CJ4Mz8t784QLjpz36kMDZAhnKiXYV0M0Boke18Py0qQLjpz36kMDZAxNpTlR8kOUCFTXexQ5c4QB8ByWEdtDxAKdAn8iTxPEBoke18Py0qQPBvicpgyDhAIchBCTP1OUCRuMfSh6o5QJT7HYoChTJA1y/YDdvWOkCJ4Mz8t784QB8ByWEdtDxA6CDVnRQrN0CqZWt9kWQxQNcv2A3b1jpAvcYuUb2bOECFTXexQ5c4QBr6J7hY/TNAGvonuFj9M0C46c9+pDA2QNUuk86tMT5AuOnPfqQwNkDFt9hkZnQ6QPx6mNA3tDZAieDM/Le/OEC46c9+pDA2QCnQJ/Ik8TxAlPsdigKFMkAuVtRgGq4xQKpla32RZDFANlmjHqLxKUCJ2iPBQQAzQCHIQQkz9TlAxbfYZGZ0OkDFt9hkZnQ6QNUuk86tMT5AlPsdigKFMkCqZWt9kWQxQJG4x9KHqjlAieDM/Le/OEDVLpPOrTE+QMW32GRmdDpA1y/YDdvWOkAa+ie4WP0zQIVNd7FDlzhAqmVrfZFkMUDoINWdFCs3QNUuk86tMT5ADLCPTl09NkC46c9+pDA2QC5W1GAarjFA8G+JymDIOEA2WaMeovEpQDZZox6i8SlALlbUYBquMUAfAclhHbQ8QMTaU5UfJDlAIchBCTP1OUAfAclhHbQ8QCHIQQkz9TlAaJHtfD8tKkAp0CfyJPE8QLjpz36kMDZAqmVrfZFkMUDXL9gN29Y6QJT7HYoChTJAIchBCTP1OUCJ4Mz8t784QB8ByWEdtDxADLCPTl09NkCRuMfSh6o5QDmgJ6Kg/jdAxbfYZGZ0OkC46c9+pDA2QPBvicpgyDhAkbjH0oeqOUCqZWt9kWQxQGiR7Xw/LSpAkbjH0oeqOUDFt9hkZnQ6QGD1VBCZSTpAHwHJYR20PEAfAclhHbQ8QIZyol2FdDNANlmjHqLxKUAuVtRgGq4xQL3GLlG9mzhAkbjH0oeqOUBoke18Py0qQIVNd7FDlzhA8G+JymDIOECRuMfSh6o5QLCPTl35jDZAieDM/Le/OEBoke18Py0qQNcv2A3b1jpA/HqY0De0NkDVLpPOrTE+QNUuk86tMT5AsI9OXfmMNkC9xi5RvZs4QLl1XD2VPjhAhnKiXYV0M0AuVtRgGq4xQJT7HYoChTJAQmDl0CIbOEDFt9hkZnQ6QAywj05dPTZAvcYuUb2bOECwj05d+Yw2QPBvicpgyDhAsI9OXfmMNkCPLkl4VTozQNUuk86tMT5ALlbUYBquMUD8epjQN7Q2QNUuk86tMT5AGvonuFj9M0Dwb4nKYMg4QL3GLlG9mzhA/HqY0De0NkDoINWdFCs3QIZyol2FdDNAxNpTlR8kOUCJ2iPBQQAzQIngzPy3vzhAieDM/Le/OEDVLpPOrTE+QNcv2A3b1jpA1S6Tzq0xPkC5dVw9lT44QNUuk86tMT5AaJHtfD8tKkCGcqJdhXQzQMW32GRmdDpAieDM/Le/OEAfAclhHbQ8QNUuk86tMT5AvcYuUb2bOEA2WaMeovEpQI8uSXhVOjNAsI9OXfmMNkCRuMfSh6o5QLjpz36kMDZAhnKiXYV0M0CU+x2KAoUyQDZZox6i8SlAjy5JeFU6M0CqZWt9kWQxQCHIQQkz9TlAqmVrfZFkMUD8epjQN7Q2QCnQJ/Ik8TxAhnKiXYV0M0C5dVw9lT44QIZyol2FdDNAieDM/Le/OED8epjQN7Q2QInaI8FBADNAsI9OXfmMNkA2WaMeovEpQMW32GRmdDpAhnKiXYV0M0Aa+ie4WP0zQKpla32RZDFAuOnPfqQwNkCFTXexQ5c4QIngzPy3vzhA8G+JymDIOECGcqJdhXQzQIngzPy3vzhAOaAnoqD+N0Cwj05d+Yw2QPBvicpgyDhA1y/YDdvWOkCwj05d+Yw2QI8uSXhVOjNA",
          "dtype": "f8"
         },
         "legendgroup": "",
         "lon": {
          "bdata": "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",
          "dtype": "f8"
         },
         "marker": {
          "color": "#636efa",
          "size": {
           "bdata": "AQABAAAAAQEBAAABAAAAAQABAQEAAQAAAQEAAQAAAQAAAAAAAQEBAQEBAAEAAQEBAQEAAAAAAQABAQEBAAAAAQEBAQABAAABAQAAAQABAQABAQEAAQEBAAEAAQABAAEAAQEBAAEBAAAAAQAAAQABAAEBAAEBAAEAAQAAAAAAAQABAAABAAEBAAEAAQEBAAEAAAEAAQEBAQEAAQABAAEBAQABAAAAAAEBAQABAAEBAQEAAQEAAQEBAQABAQABAQEBAQAAAQEBAAAAAQEBAAEAAAABAQEAAQEBAQEBAQAAAQEBAAEBAQABAQEAAQABAQEBAQAAAAEAAQEAAQEBAAABAQAAAAAAAAEAAAEBAAABAQAAAQEAAQEBAQAAAAEAAAAAAAEAAAEBAQEBAQABAAAAAQAAAQABAQEAAQABAQAAAAEBAQABAAEAAAEBAAABAQEBAQEAAAEBAQEBAQABAAEAAAEAAAEBAQEAAQEBAAABAAAAAAABAAABAAEBAQEBAQABAQAAAQEAAQEAAQEAAAEBAQEBAAEBAQAAAAEAAQEAAQAAAAEAAAEBAQABAAABAQABAAEAAQAAAAEBAAABAAAAAAEBAAEAAAEAAQEBAQEBAQEBAQABAQAAAQABAAEBAQEBAAEBAQABAAEBAQEAAAABAAEAAAEBAAEAAAABAAEBAAEBAQABAAEBAAABAAEBAQAAAQAAAQEBAQEAAQEAAQEBAAABAQEBAAEBAAEBAQABAAEAAQEBAAAAAQEBAQEBAAABAQABAQAAAAEAAQEAAQEBAAABAAEAAAEAAQABAQEBAAEBAAEAAAEAAQEAAQAAAAEBAQEBAAABAQEAAAEAAAAAAAEAAQAAAAEAAAEAAQABAAABAQABAAEAAQEAAAABAAABAAABAQAAAAEAAQABAQEBAAABAAEAAAEAAAABAAAAAAEAAQEAAAEBAAEAAQEAAAABAAEAAQAAAQABAAEBAQABAQEAAAEAAAEBAQABAAEBAQEBAQEAAAEAAAEBAQEAAAABAAAAAAAAAAAAAAEBAQABAQABAQAAAAABAAEBAAEBAAAAAQABAQEAAQABAAEBAQEBAQEBAQEBAAEBAQEBAQEAAQEAAAABAQEBAAAAAAABAAEAAQEAAQEBAQEBAQEBAQAAAQEAAQEAAQAAAQEBAQABAQEAAAEAAAABAQEBAAAAAQEAAQEAAAAAAQEBAQABAQEAAQEBAQEAAAEBAAEBAAEBAAABAAEBAQAAAAEAAAEBAAEBAQEBAQEBAQABAQABAQEBAQEBAAEAAQABAQAAAQABAQEBAQABAAEBAQEAAQEBAAEAAQEBAQABAQAAAAAAAQABAQEAAAAAAQEAAQABAAAAAAAAAQABAQABAAEAAAEAAQAAAQAAAQEBAQEAAQEBAQABAAABAAAAAAEAAAEAAQAAAQEBAQEBAQABAQEBAQAAAQEBAQABAQEBAAEBAAEAAAEBAQABAAEAAQEBAAEAAQABAAABAQAAAQEAAAEBAAABAQEBAQEBAQEBAQABAAEAAQEAAQEBAQABAQABAQEAAQEAAQABAQEAAQEBAQABAQEAAAEBAAABAQABAAEBAQEBAQABAQEBAQEAAAEAAQAAAQEAAAEAAAAAAQEAAAABAAEAAQABAAEBAAEBAQABAQEBAQEAAQABAAEAAAAAAAEBAQABAQABAQEAAAAAAAABAAEBAAEAAAABAAABAAABAAEAAAEBAQAAAQABAQAAAAEAAQABAQEAAQEBAQAAAQABAQEBAQEBAAEAAAAAAQEBAQABAQAAAAAAAAABAQEBAAEBAQABAQABAAEAAQAAAAEBAQEBAQEAAQABAAEAAAAAAQEBAQAAAAAAAQAAAAEAAAABAQEBAQABAAABAAABAQABAQEBAAEBAAABAQAAAQEBAQEBAQEBAQABAQEBAAEAAQABAAABAQABAAEAAQAAAQAAAAAAAQEBAAAAAAABAQEBAQEBAQAAAQEBAQEAAAEBAAEBAQAAAQEBAAEBAQEAAQAAAQEAAQABAQAAAQABAQEBAQEBAQABAAEBAQEBAAEBAAABAQEBAAEAAQABAQABAAAAAAAAAQAAAQABAAABAAAAAQEBAQABAQEBAQAAAQEBAQEAAQEAAAEAAQEBAAEBAQEBAQAAAQAAAQAAAQAAAAABAQABAAABAAEBAQAAAAAAAAEAAQABAQEAAQABAQEBAAEBAQEBAQAAAAEBAQEBAQABAAEBAQABAAEBAQABAAABAAEAAAEBAQEBAQEBAQAAAQABAQEAAQEBAQAAAQEBAAEAAAEBAAEAAAEAAAEAAQEBAQEAAAEAAAEAAQEAAQEAAQEBAAAAAQEAAQAAAQABAAEAAQEAAAEAAAABAQEAAQEBAAAAAAEBAQEAAQABAQEBAAEAAAABAAEBAAEAAAAAAAEAAAABAQEBAAABAAEBAAAAAAABAQAAAQABAAAAAAEBAAEBAAAAAQAAAQEAAAAAAQEBAQEBAAEAAAAAAQABAQAAAQAAAQEBAQEBAAEBAQEAAQAAAQEBAAEAAQAAAQEBAQAAAAEBAQABAQAAAQEAAQAAAQAAAQABAAEBAQEAAAEAAQAAAAABAAEAAQAAAQEAAQAAAQABAAEAAAABAQABAQABAAEBAQABAQEBAQABAAEBAQEAAQEAAAEBAQEAAQAAAQEBAAEAAQABAQEBAQEBAAEBAAEAAAAAAQABAAAAAQABAQABAQEBAQEAAQEBAQEBAAEBAAABAAEBAQABAQABAQEBAQABAQABAQABAQAAAAAAAQEBAQABAQEBAQABAAEBAQEAAAEAAQEBAAEBAAAAAQEAAAEBAQEBAAEBAQAAAAEBAQAAAQEBAQEBAQAAAQEAAQEBAQEBAQAAAQEBAQEAAAEBAQEBAQAAAAAAAAEBAAAAAQEAAAEBAAEBAQEAAQEBAAEBAQEBAQEBAAEAAQAAAQEAAAABAAEBAQEAAQEAAAEAAQEAAQAAAAEBAQABAAABAQEBAAABAQEAAQAAAQABAQEBAQAAAQEAAAEAAQEBAAEBAAEBAQABAQABAAAAAQAAAQABAQAAAAEBAAEBAQEAAQEBAAEAAQEBAQEAAQAAAAEBAQEBAQAAAQAAAAEBAQEBAQABAAEBAAEAAAABAQEBAQEBAQEBAQABAAEAAQABAQEBAQEBAAEBAQABAAABAQAAAAEBAAEBAQEBAAAAAQEBAQABAAABAQEBAQEBAAEBAAEAAQABAQEAAAABAQEAAQEBAAAAAQEAAQEAAQEBAAEAAAABAAEAAQEBAQEAAAEAAAAAAAEBAAAAAAAAAQEBAQABAQABAQABAQABAAEBAQEAAQEBAQEAAQEAAAEAAAEBAQABAAEBAAEBAAAAAQABAQEAAAEAAQABAAABAAEBAQEBAQAAAAAAAQEAAQABAAEBAAEAAQABAAAAAQEBAQABAAEAAQEAAQEBAQABAQEBAQEBAQABAAAAAQABAQEBAQEAAQEAAAAAAAABAQEBAAEAAQABAAEAAQEAAQEBAAEBAQABAAEBAQAAAAEBAAAAAAABAAABAQABAAAAAAAAAAEAAAEAAQEBAAABAQABAAEAAAABAAAAAQEAAQEBAQEBAQEBAQABAQEBAQEAAQABAQABAQEAAQABAAEBAAEBAAAAAAEAAQEBAQEBAAEAAAEBAQAAAAAAAQEBAQEAAQEBAAAAAQAAAQAAAAEBAQEBAQAAAQEBAAAAAAEBAQEAAQEBAQABAAEAAQEAAQAAAAEAAQEBAQEBAQEAAAABAQAAAQEBAQEBAAEBAQEBAAEBAQABAAABAQEBAQAAAAEBAQEBAQEBAQEBAAABAQAAAQEBAQEAAQEBAQABAQABAQAAAQABAAABAAEAAAAAAQEBAAEAAQAAAQAAAAEBAAEBAQEBAAEBAQEBAQEAAQABAQEBAQEAAQAAAQAAAQABAAEAAAEAAQAAAQEBAQEBAQABAAAAAQEBAQABAQEBAQEBAQABAQEAAQABAAEAAAABAQABAQABAAEAAQEAAAABAQEBAAABAQEAAQAAAAABAQABAAAAAQEAAQEBAAEBAQEAAQEAAQEBAAEBAAEAAAEAAAABAAAAAAEAAQABAAEBAAEBAQEAAAEAAAEAAQABAQAAAAEBAQAAAAABAQEBAQABAAEAAQAAAAEAAAABAQABAQAAAAEAAQAAAAEBAAEBAAABAQABAQABAQABAQEBAQEBAQABAAEBAQEBAQABAQEAAAEBAAEAAAEBAQAAAQAAAQAAAAEBAAAAAAEBAAEBAAEAAQEAAAEAAQEAAQAAAAEBAQABAQEBAAEBAAAAAQEBAAEBAAABAQABAAABAAEBAQAAAQAAAQEAAQEBAQEBAAAAAAEBAAABAAEAAAEBAQAAAQEBAAEAAQEAAAAAAQEAAQEBAQEAAQEBAQABAAABAQEAAQABAQAAAQEAAQABAQEAAAEBAQEAAAEBAAEBAQAAAAEAAAABAQEAAAABAQEBAAEBAAEBAQEAAAEBAQABAQABAQEAAAEAAQAAAAAAAAABAAAAAQABAQABAQEAAAEBAQEBAAABAQABAQEBAAEAAQABAAABAQEBAAEAAQABAQAAAAAAAQEAAQABAQEAAQEAAQEAAQEBAQEBAQABAQEBAQEBAAEBAQEBAQEBAAEBAQABAAEAAAABAQABAAEBAAEAAQEAAQABAQEBAAEAAQAAAQABAQEAAQEBAAAAAQABAQABAAABAAABAAEBAAEAAQABAQABAQAAAQEBAQAAAQAAAAEBAQAAAQEAAQEBAQAAAQAAAAAAAAEAAQEBAQEAAQAAAQEAAAABAQABAAEBAAEAAAABAQEAAQEBAAAAAAEBAAEAAAEAAQABAQEBAQEBAQEAAAABAAABAAAAAQABAQEAAAEBAQEBAAEBAAABAAABAQABAAEBAQEAAQEAAQAAAAAAAAEBAQEBAAAAAAABAAEBAAAAAQEBAAABAQAAAQABAAAAAAEAAQEAAQEBAAABAQABAQEAAQEBAQABAQABAQAAAQEBAQEAAAAAAAAAAQEBAAABAQEBAQABAQEAAAEAAQEBAAEAAQABAQEAAQEBAAEBAQABAAAAAQEBAQEBAAEBAQEBAAABAQAAAQEBAQABAQEAAQAAAQABAAEBAAABAQEAAQEAAQEBAAABAAABAQEBAAEBAQAAAQEBAQABAQAAAAEBAAAAAQAAAAAAAQEAAAEAAQEBAAAAAQAAAAABAQEBAQEAAQEAAAEBAQAAAAEBAQEBAAABAAEBAAAAAQEAAQEAAAAAAAEAAQEBAQABAAABAAEAAQEBAAAAAAEBAQAAAQEBAAAAAAEBAQEBAAEBAQEBAQAAAAEAAAABAQEBAQAAAAEBAQEBAQAAAQABAQEAAQEBAQABAQABAQEAAQEBAAAAAQAAAQEAAQEBAAEAAAEBAQEAAAEBAQEAAQEAAQAAAAEAAQABAAEAAAEAAQAAAQAAAQEAAAEBAQEBAQEBAQEAAAEAAAABAAAAAAAAAAABAAEBAAEBAQEAAQEAAQAAAAEBAAABAQEBAAEBAAEAAQEAAQEBAAABAQAAAAEBAAEAAQABAAEBAAEBAQAAAAEBAQEBAQABAAAAAQEBAAEBAAABAQABAAEAAQEBAQAAAAAAAAEAAQABAAABAQABAQABAAAAAAEAAQEBAQABAQEBAAAAAAEAAAAAAQAAAAEAAQEAAQEBAQEBAQABAQEAAAEAAAEBAQEBAAEAAAEBAAEAAQEAAAAAAAEBAAEAAAAAAAABAQEBAAABAAEAAQEBAAABAQEBAAABAQABAQEAAQABAAABAAABAQEAAQEBAQEAAAABAQEAAQABAQEAAQEAAQEAAAABAQABAQEBAAEAAQEBAQEBAQABAAEAAQAAAAEBAAAAAQABAQEAAQABAQAAAAABAAABAQABAQAAAAABAQABAQEAAQABAQEBAQAAAAABAAAAAQEBAQEAAAEBAQAAAQABAQEBAAEBAAEBAQEBAQAAAQEAAAAAAQEBAQEBAAEBAQAAAQEBAAABAAAAAAEBAAAAAAAAAQEAAQEBAQEAAQAAAQABAQEBAQEAAAABAQEBAQABAAABAQEAAAEAAQEBAQAAAAEAAAAAAQEAAQABAQEBAQEAAAEBAQEAAQEBAAEBAAEAAQEBAQEAAQEBAQABAQAAAAAAAQABAQEBAAEBAQABAAABAQEBAQABAQEAAAEAAQABAQABAQEBAQEAAAEAAQEBAQEBAQEAAQAAAQAAAQEAAAEAAQABAQEBAAEBAQEBAAEAAAEBAAEAAQEAAQEBAQEBAAEBAAEAAAAAAQEBAAEAAQABAQABAQAAAQEAAQAAAQABAQEBAQEBAQABAQEBAAEBAAABAQEBAQEAAAEBAQEBAQAAAQAAAQAAAQABAAEBAAEAAAEBAQEAAQEAAQEBAQEAAAABAQEBAQEBAQEBAAEBAQABAAEBAQABAQEBAQEBAQABAQAAAQABAQAAAAAAAAAAAQEBAQABAQEBAAEBAQABAAEBAQAAAQEBAQEBAQAAAQAAAAEBAQEAAAEBAAEBAQAAAAABAQEAAQEBAQAAAAEAAAEAAQEBAAEBAAAAAAAAAAEBAQABAQEBAAABAQEBAQEBAAEBAQEBAAAAAAAAAQAAAQEAAQAAAAEAAAEBAAEBAAEAAQAAAAEBAQEBAQAAAAAAAQABAAEBAAEAAQEAAAABAQEAAQABAAEBAQAAAQEAAQEAAQEBAAABAQEBAQEBAAEBAAABAAEAAAABAAEAAAEAAQABAQEBAQEBAAEAAQEBAQEBAQEAAQABAAABAQEAAAEBAQEBAQEAAQEAAQEAAQEBAQEBAAEBAAABAAEAAAABAAAAAQABAAABAAABAAEBAQABAQEAAAEBAQEBAAABAAABAQEBAAEAAQABAQAAAQAAAQABAQEAAQABAQEAAAEAAAEAAQAAAQAAAQABAQABAAEBAQEBAQAAAQABAQABAQEBAQEAAQEBAAEBAQEAAQEAAQEAAAAAAAEBAQEBAQAAAAEBAQEAAQABAQAAAQABAAEAAQEBAAEBAQEBAAEAAQEAAQEAAAEAAQEBAQABAQEAAQEBAQABAQEBAQEBAQABAAABAQABAQEBAQABAQEBAQABAQABAQABAQEBAQEAAAAAAAEBAAEBAAEBAQEBAQEBAQAAAQEBAAABAQABAQAAAQABAQEAAQEAAQABAQEBAQEBAQAAAQEAAAABAAEBAQABAQEAAQAAAAEBAQAAAAEBAAABAQEBAAEBAQEAAAEBAAAAAAEBAQEAAAABAQABAQEAAAEAAQABAQEBAQABAAEBAAEBAQABAQEBAQEAAAEBAQEAAQEBAQABAQEBAAEBAQAAAAAAAQEAAQABAQABAQEBAAEAAQEAAQEAAQEAAAEBAQABAQEBAQAAAAAAAQEAAAAAAAABAAABAQAAAAAAAAEAAQEBAQEBAQEAAQEAAAEAAQEAAQEBAAEBAQEAAQEBAAEBAAEAAAAAAQEBAAABAAEBAAEBAQABAQEBAAEAAQABAAEBAAEBAQAAAQAAAAABAAAAAQABAQABAAAAAQEBAAABAQABAQEBAAEBAAEBAQEBAAEBAQABAAEAAAABAAEAAQABAAABAAABAQAAAAAAAQEAAQAAAQEAAAEBAAEAAQAAAAEBAQAAAQEAAQEBAQAAAQEBAQEBAQEBAQEAAAEBAAABAAEBAAEBAAEAAQABAAEBAAABAQEAAQEBAQEBAQAAAQEBAQEBAAEBAQAAAAABAQEAAAEBAAEAAQABAAABAAABAQABAAEAAAABAAABAQEAAAAAAQEBAAABAQABAQAAAAEBAQEBAAABAQEBAAEAAAABAQABAAABAQEBAQABAAEBAQABAAAAAAEBAQEAAAEBAQEAAQABAQABAAEBAQABAQEBAAABAQABAQEBAQEBAQEAAQEBAQAAAQEBAAAAAQEAAQAAAAEAAQABAQEBAAABAQEBAQEBAAEBAAAAAQABAAEAAAEAAQABAQAAAQEBAAEAAQEBAAEBAQEAAAAAAQAAAQEBAQABAQEAAAABAQEBAAAAAQEAAAEBAAEBAAAAAQEAAQEAAAEBAQABAQEBAAEBAAEBAQEAAAEAAAEBAAEBAQEBAAABAAEBAAEBAQAAAAAAAQAAAQABAAABAQEAAAABAQEBAAEAAQABAAEAAAEBAAEAAQABAQEAAQEAAQEBAQEBAQAAAAAAAAEBAQEAAAABAQEAAQAAAQEBAAEAAQABAQEBAQABAQABAQEBAQEAAAABAAEBAQEAAAAAAAABAQABAQEAAQEAAQEBAQEBAAABAQEBAQEBAQEAAAEBAQAAAAABAQEAAQEAAQEAAAABAQAAAAAAAAAAAAEAAQEAAAEBAQEAAAEAAAABAQAAAAEBAAABAQABAAAAAQEBAQAAAQEAAAEBAQABAQEBAQEAAQEAAAABAAABAQEBAQEAAQEBAAEBAQABAQAAAQEAAQEAAAEBAQABAQEBAQABAQAAAAABAQEBAQABAQEBAQEAAQAAAAABAAEAAQAAAQEAAQAAAQEBAAABAAABAQEAAQEBAAEAAQEAAAEBAQEAAAEBAQEAAQAAAQEBAAEAAAABAQABAAEAAAEAAQEAAAEBAQAAAQEBAAEAAQABAQABAQEAAQAAAQAAAQABAQEAAQAAAAEBAQEBAAEAAAEBAQEAAQABAQEBAQAAAAEBAAEAAQEAAQABAQABAAEBAQEAAAEBAAAAAAEBAAEAAQABAQEAAQEAAAABAQABAAABAQABAQEAAAEAAAEBAAABAQABAAEBAQEAAQEAAQABAAABAAAAAQABAQABAQEBAQEBAQEBAQEBAAEAAAABAAAAAAEAAAAAAQAAAAAAAQEBAAAAAAEBAAAAAQEBAQABAQEBAQEAAAEBAQABAQEAAQEAAQABAQAAAAEBAQAAAAABAQEAAQEBAQEBAQEBAAAAAQEBAQEBAAEAAQABAAEAAQEBAQABAAAAAQABAQEBAQEBAQABAAABAAABAAABAAEBAQEBAAABAAEAAQAAAAEAAAAAAAEBAAABAQAAAAAAAQAAAAEBAQABAQEAAAEAAQEAAAEAAQEBAAEBAQAAAAEBAAEAAQABAAAAAQABAQABAAAAAQEAAQEBAQABAQEAAQEBAQEAAAEBAQEBAQEAAQABAQEAAQEAAQAAAAEBAAEAAAABAQABAAEAAQEBAAABAAAAAQAAAAEBAQEBAQEBAAEBAAEBAQABAQEAAQEBAAEBAAABAQAAAAABAQEBAQEBAAEBAAABAQAAAAAAAQEBAQEBAAEBAAABAAEBAQEBAQAAAAAAAQABAQABAQABAQABAAEAAQEAAAABAQEBAQABAQEBAAAAAAABAAABAAEBAQEAAQABAQEAAAABAQEBAQABAQEBAAABAQEBAQABAQAAAQAAAQABAAABAQEAAAABAQABAAAAAAEAAAEAAAEBAAAAAQEBAQABAQEAAQEBAAEBAQEAAQAAAAEBAQEAAAEBAAEAAAEBAQEAAQABAAABAQABAQEBAQEBAQEBAQEAAQAAAQABAQEBAAABAQEBAQABAAEBAQEBAQABAQEAAAEAAAEBAQABAQEBAAEBAAAAAQEBAAABAQEBAQEBAQEBAQEAAAEBAAEBAAEAAAEBAQEBAQAAAQAAAQEBAAAAAQAAAAABAAABAQEAAAEAAQABAAABAQABAAEBAAEAAAABAQAAAAEAAQEAAQABAQEAAQAAAAEBAQABAAEBAAAAAQEAAQAAAQEAAQEAAAEBAQEAAAEAAAABAAAAAQABAQEAAAABAQABAQABAAEBAQABAQABAQEBAAEAAAEAAQEAAAABAQEBAQABAAABAAEAAQEAAAABAQABAAABAAABAQEBAQEAAQEAAAEBAQEBAQEAAAABAAABAAEBAQEAAQEBAAABAQAAAQEAAQEAAQEBAAAAAAEBAAABAAAAAQAAAQAAAQEBAQABAQABAAEBAAABAQEBAQEAAAEBAQABAAEBAQAAAAEBAAABAQEBAAABAQEAAAABAAEBAAAAAQEAAQEAAQAAAQABAAEAAQEAAQABAAAAAQAAAAEAAQEBAAEBAAEBAQEBAQAAAQAAAAABAAAAAQAAAQEBAQEAAQEAAQEBAAABAAEBAAAAAQAAAAEAAQEBAQEAAAABAAAAAQAAAQEBAQEBAQEBAQAAAAEAAQEAAQABAQEBAAABAQABAAEBAAEBAQEBAAEBAQABAQEBAAEBAQEAAQAAAQEBAAEBAAEAAQABAAAAAQEAAAABAQAAAQAAAAAAAQABAQEBAQAAAQEBAQABAAEAAAABAAEBAAEBAQEAAAAAAAEBAQEBAAEAAQEBAQEBAQEAAQEBAAABAAAAAQAAAQEAAAABAAABAQAAAAEAAAEBAQABAAEBAQAAAAABAAEAAQABAAAAAAAAAQEBAAEBAQEAAQEAAAABAAEBAQABAQEAAQEAAQEAAAABAQEAAQEAAAEBAQAAAAABAQEAAQAAAAEBAQEBAAEBAAAAAAEAAQEBAAAAAAAAAQABAAEBAAABAAEBAQEBAQAAAAABAAEBAQEBAQEBAAEAAQEBAAEBAQEAAQEAAQABAQEBAQAAAQABAQEBAAEBAQEBAAEBAAEBAQEBAAABAQAAAQAAAAABAQAAAAABAQEBAQEAAAEAAQAAAAEBAAABAAEAAQEAAQEBAAAAAAEBAQEBAAEAAQABAQEBAAAAAAAAAAEBAQABAQAAAAAAAQAAAAEAAQEAAAEAAAEAAQEBAQEAAQABAQAAAQEAAQEBAAEBAQAAAQAAAAABAQAAAQEBAQEAAAEAAAAAAQABAAAAAQEBAAAAAAAAAAEAAAABAAABAAEAAAABAAEAAAEAAAEBAQABAAEAAAABAAABAQAAAQEBAQEAAQEAAQEBAQAAAAEBAAEBAAEBAQAAAAABAQAAAQEAAQEAAQEAAAEAAQABAAABAAEAAQEAAAEAAQABAQEAAQAAAQAAAAEBAAEBAAEBAAEBAQEBAQEBAQEBAQEBAAABAQABAAEAAAAAAAAAAAAAAQEAAAEBAQEAAQEAAQEAAQEBAAEAAQEBAAEAAQEAAQAAAAEAAQEBAQEBAQEBAQABAAAAAAEAAQAAAAEAAQAAAQEBAQEBAAAAAQAAAQEAAAEBAQABAQEBAAEBAAAAAQEBAAABAQEAAQABAQEAAQAAAQEBAAABAQABAAABAQABAQABAQEBAQABAAEAAAEAAQEBAAEBAAEBAAABAAABAAEAAAEAAQEBAQABAQEAAAEBAAABAQEAAQAAAAAAAQEBAAABAQEBAAEAAAABAQEAAQABAQEBAAAAAQEBAQEAAAAAAQEAAQABAAEBAQEBAQABAQEAAAEAAAEAAAEBAAABAQEBAQEAAQABAQEBAQEBAAEBAQEBAAEAAQAAAAEAAQEAAQAAAAEBAAEBAQEBAAABAQEBAQAAAQEBAQEAAQABAQEBAQEBAQEBAAEAAQEBAAEBAAEBAAEBAAABAAEBAQEAAQEBAQAAAAEBAAABAQAAAAEAAQEBAQEBAQEAAQABAAEBAAEBAQABAQABAQEAAQEBAQAAAAEBAQEAAQEAAAEAAAEAAAABAQEAAQABAAEBAQEAAAAAAQEAAQABAQEAAAEBAAABAQAAAAAAAQAAAAABAQAAAAEBAAEBAQEBAQEAAAEAAQEBAQEBAAEAAAABAQEBAQEBAQAAAAABAQEBAQABAQABAQABAAABAQEAAQABAQEAAAABAAEBAQABAAABAQABAQEBAQEAAQEBAQEAAQABAQAAAQAAAQEAAQEBAAABAAABAQEBAQABAQABAAABAQABAAEAAQABAAEBAAEBAQABAQEBAAEAAAAAAAABAQAAAAEBAAAAAQEBAQABAQEBAQEAAAABAQEBAQABAAAAAAABAAEBAQAAAQABAAAAAQAAAAABAAEBAAEBAAEBAAEBAQABAQEAAAABAAEAAQABAQABAQEBAQABAAEBAAAAAQEBAAEBAQEAAQEAAAEAAQABAQABAQABAQEBAQEAAAABAQEBAAABAQEBAAEAAQEBAQEBAAABAQEAAQABAAAAAAEBAQAAAQABAQABAQEBAAEAAAEAAQEAAQEAAQEBAQEAAAABAAEBAQABAAABAQAAAQEAAAEAAAAAAAEBAQABAQAAAAEBAQEBAQEBAAEBAAEAAQEAAQEBAAAAAAAAAAAAAQABAQAAAQEBAAEBAAEBAAABAQABAQEBAAAAAQAAAQAAAQEBAQAAAQABAAEAAQEAAAEBAAEAAQABAAEBAQEBAQABAAABAQEBAAEBAQAAAQEAAAEAAAABAAEBAQEAAQEBAAEAAAEBAAABAAEBAAEBAQEAAQABAQAAAAAAAAEBAAAAAQEBAAABAQEAAQABAAEBAQABAQEBAQABAQABAQEBAQEBAQEAAAABAQAAAAEAAQEAAQEBAAEAAAAAAQAAAQABAQAAAQEAAQEBAQEBAQEBAQEBAAEAAAEBAAABAQEBAQABAQEBAAABAAABAAEBAAEBAAAAAQABAAEAAQABAQEAAQAAAQAAAAABAQABAQEAAAEBAQEAAQABAAAAAQEAAAEAAAEBAQAAAQEAAAEAAAEBAAEBAAAAAAABAQEBAQEBAQEBAAEAAAABAAABAAEAAAEBAQEBAQEBAQABAQEBAQEBAQAAAQEAAQABAAEBAAEAAQEAAQEBAQEAAQEAAQABAQAAAQABAAEBAAEBAAEBAQEBAQABAQEBAQEBAQAAAQABAQEAAAEBAQABAQEAAAEBAQABAQABAAEAAQABAAEAAAEBAQABAAEAAQEBAQEAAQABAAABAQEBAAEBAAEAAQEBAQABAQABAQEBAQABAQABAQEAAQEBAQEBAQEBAQABAQEBAQEBAQEAAQABAQEAAQAAAQEBAQABAAEAAQABAAABAQEAAAEAAAABAQEAAQEAAAAAAQEAAAEBAAEBAAEBAAAAAQEBAQAAAQABAQEAAQEBAQEBAAEBAAEAAAEAAQAAAAAAAQABAQEAAQABAAEAAAEAAQABAQEBAQEBAQEBAQEBAAABAQEAAAEAAQAAAQEAAQAAAAABAQAAAAEBAAEBAAAAAAEBAAEBAQEBAAEBAQEBAQAAAAABAAAAAAABAAEBAQEAAAEBAQEBAQEBAAEBAQAAAQABAAAAAQEBAQAAAAEBAQAAAAEAAAABAAABAQABAQAAAQAAAAEBAQABAQEBAQABAQAAAQEAAAEAAAABAQAAAAABAQEBAQABAAEBAAEAAAABAQEAAAEBAQEBAQEBAAAAAQAAAQEAAQEAAQEAAAABAAEAAAEAAAEBAAABAQABAQAAAQAAAQEAAAAAAAEBAAEBAQEBAQEBAAEAAQABAQABAAAAAQEBAAABAAEAAAABAQEAAQEAAQABAQAAAQEBAAEBAQEBAAEAAQEBAAEAAQAAAAEAAAEBAQAAAQEAAAAAAQAAAQABAAEBAQEAAAEAAAAAAAEBAQAAAQEAAAEBAQEBAQEBAAEBAAEBAAABAAEAAAEAAAABAAEAAAABAQEAAAABAQABAQEAAAEBAAABAQEBAQEBAQEBAAAAAQAAAAEAAAEAAQEBAQEBAAABAQABAQEBAAEAAQEBAAEBAQABAQABAQEBAQEBAQAAAAEBAQABAAEBAQEBAAEAAAEBAAABAQABAAEAAAAAAAABAAAAAQEAAQEAAAEBAAEBAAEAAQEBAQEBAQAAAAAAAQABAQABAQABAQEBAQABAAEBAAEBAQABAQABAQABAAAAAQEAAQEBAQEAAQABAQABAAAAAAEBAQEAAAEBAAABAQEBAAEBAAABAAEBAQEBAAAAAAEBAAEBAQABAAEBAQEAAQAAAAEBAQAAAAABAAAAAAABAQABAAEAAQABAQAAAQABAAEBAQEBAQEAAAAAAQEBAAAAAAABAQABAQEBAAEBAAEBAAEAAQEAAAABAQEBAQEAAQEBAQAAAQAAAAABAAEBAQEAAQAAAQABAAEBAQEAAQEAAQAAAAEBAAEAAAEBAQEBAAEBAQABAAAAAQEAAAEAAAEAAAEBAQABAQEAAAEBAAEAAQEBAQABAAEBAQABAQABAQEBAAEBAQABAAABAQAAAAEBAQEAAAEAAAEAAQEAAQEBAAEAAQEBAAAAAAEAAAAAAAEAAQAAAQABAAEBAAEBAAEBAQEAAQEBAAEAAQEBAQABAQABAQEAAAEBAQABAQABAQEBAQABAAEAAQEAAQEBAAEBAAEBAAEBAQEBAAABAAEBAQABAQEAAAEBAQEAAAEBAQEBAQAAAAABAAEBAQEAAAEAAAABAQEBAAEBAAEAAQABAQEBAQEAAAABAQABAAEBAAABAQAAAAABAQEBAAAAAQEBAAABAQABAAAAAQEBAQEBAAEBAAEBAQEBAAEBAQEBAQEAAQEBAAAAAQAAAQAAAQABAAEAAAEAAQEBAQEBAAEBAAEBAQAAAQEBAQAAAQEAAAEAAQEAAAABAQAAAAABAQABAQABAQAAAAEBAAABAAEBAAEAAQEBAAABAAEAAAEBAQEAAQAAAAEBAAAAAAEBAQAAAAABAQEBAQAAAAABAQAAAAEBAAEBAAABAQEAAQEAAQEBAAEBAQABAQABAAEBAAAAAAEBAAABAQABAAAAAAEAAAEBAQEBAQAAAQEBAQEAAAAAAAEBAAABAQEBAQEAAAABAAEBAAEBAQEBAQEAAAEBAAEBAQABAAEBAQEBAQEAAAEBAQEBAAEAAAABAQABAAAAAQEBAAEBAQEAAAAAAQAAAQEAAAABAAEBAQAAAQEBAQEBAAAAAQEAAQEAAQAAAQAAAQEBAQABAQEBAAEAAQABAAAAAAABAAABAQEBAQEAAAEBAQABAQABAAABAQABAQAAAAABAQEAAQAAAQEBAQAAAQEBAAEBAQEBAAEAAAEBAQEBAAABAQEBAAEAAQEAAAAAAQEBAAAAAQAAAQAAAQEBAQABAAEAAQAAAQEBAQEBAQAAAQABAQEAAQEAAQEAAQEBAAABAAEAAAEBAQABAAABAQEBAAAAAAEAAQEAAAEBAAEBAAABAAEBAQABAAEAAAEBAQEBAQEBAQAAAQAAAAEBAQAAAAEAAAAAAQEBAQEBAQEBAQAAAAABAQABAAEBAAAAAAEBAQEBAAABAQAAAAABAQEBAQABAQEAAAABAAABAQEAAQEBAAEAAAAAAAABAQAAAQEBAAEBAAAAAQABAAEAAQEAAAABAQEAAAABAQEAAAEBAAEBAQAAAQEBAAABAQEAAQEBAQAAAQEAAAABAQABAQEAAAEAAQEBAAEBAAEBAAEBAQAAAAEBAAABAQEBAQEBAQEBAQABAAEAAAEBAQEAAQEBAQABAAEAAQABAAAAAAAAAQABAQEBAAEAAAEBAAEBAAEBAQEAAAEBAAEBAAEBAAABAQAAAQABAAAAAQABAAABAAEAAQEBAAEAAAEAAQABAQAAAQEAAAEAAAEAAQAAAQEAAAAAAQABAAEAAQAAAAEBAQABAQAAAQEBAQEBAQEAAAABAQEAAQEAAQABAAABAAEBAAABAQABAAAAAAEAAQEBAQAAAQEBAQEBAQEBAQABAQEBAAEAAQABAAABAAABAQABAQAAAQEAAQEBAQEBAAEBAQEBAAAAAQEBAQEBAQEBAQABAQEBAQEBAAEBAQAAAAEBAQEBAQEBAQEBAQEBAAEAAAAAAAEBAAAAAQEAAQAAAQEAAQEAAQABAAEBAQABAAEAAQABAAAAAAEBAQABAQEAAAEBAAEAAQABAQABAAEBAQEBAQEBAAABAAEAAQEBAAEAAQAAAAEBAQEAAAEAAQAAAQEBAQEBAAEAAAABAAABAQABAQEBAAEBAQAAAQEAAAEBAAAAAQABAQEBAQAAAAAAAAAAAQAAAAAAAQEAAAEBAQABAQEBAQEAAAABAAEAAAEBAAEAAAEAAQABAQEBAAABAQEAAQABAAEAAAEBAAABAQABAQAAAQABAQABAQABAAABAAABAAEBAAEBAQABAAEBAAABAAABAQEBAQEBAQAAAAEBAQEAAQAAAQEAAAEAAQEAAQEBAQEBAAEBAAEBAQEBAQEBAQEAAQEBAAEBAQABAQABAQEBAQEBAQEAAAAAAQEBAAABAQABAQABAAEAAAABAQEBAAEAAAEBAQABAQABAQEBAQEBAQEBAAAAAAAAAAABAQABAQEBAAAAAQEAAAEBAAEAAQEBAAEAAQEBAAEBAAAAAQEAAAEBAAEBAQABAAABAQEBAQABAAEBAAEBAAABAAEAAAABAQEBAQABAQABAAEAAAEAAAAAAAEAAQAAAQEAAAAAAAABAQEBAQAAAQEAAAEBAAEAAQABAQEAAQEBAQEBAAABAQEBAQEBAAAAAAEAAQAAAAABAAEAAAEAAAEAAAAAAQAAAQEBAQEBAAEAAQEBAAAAAAEBAAABAAEBAAABAQEAAQAAAAABAQEBAAABAQEAAAAAAAEAAAEAAAEAAAEBAQAAAAEBAQEBAQEAAAEAAQAAAQEAAQEAAAABAAEAAAEBAAEAAQEBAAEAAQABAQEBAQEBAQAAAQEBAQABAAABAQABAQABAAEAAQEAAQABAAEAAAEBAAEAAAEAAAABAAEBAAAAAQABAAEAAAEBAAEAAQEBAQABAAABAQABAAEBAQABAAEBAAEBAQABAQEBAQABAQAAAQAAAQEAAQEBAQABAAEBAAEAAQEBAQEAAAEBAQEAAQEBAAABAAEAAQEAAQABAAEBAAABAQEBAQABAQEBAQABAAABAAEAAQEBAAAAAQABAAABAQAAAAEBAQEBAAEAAAAAAAEAAAEAAQAAAAEBAQEAAQEBAQABAAABAQABAAEBAAABAQAAAAEBAQABAQAAAAEBAQABAQAAAQEBAQABAQABAAEAAAEBAQAAAQEBAAEBAQEBAAEBAAEBAQAAAQAAAQABAAAAAQABAQEBAQABAQEBAQEBAAEAAQAAAQABAQEBAQEAAAEBAQEBAQEAAQEAAQABAAABAQEBAQEBAAABAQEAAQEBAAABAQABAAEBAQAAAQAAAAEAAQEBAQEAAAEBAQEAAQEBAQEBAQEBAAEAAQAAAAEBAAAAAQABAQAAAQEBAAAAAQABAQEBAQEAAQEBAAAAAQEBAQEAAQEBAQEAAQABAQABAQEAAAEBAAEBAQABAQEBAQAAAQEAAQEBAQABAQEAAQEBAQEBAQEAAQEBAAABAAEAAQAAAAEAAQEAAQEBAAABAAABAQEBAAEAAQEBAQEBAAEBAAEBAQABAAEAAAABAQABAQAAAQAAAAAAAAAAAAEAAAEBAAEBAAABAQEBAAEBAQEAAAAAAQABAQEBAAAAAQEBAAEBAQEBAQEAAAEBAAEBAQAAAQEAAQABAQEBAAEBAQABAQABAQAAAQEAAQEAAQEAAQABAAEAAQEBAQEAAQEBAQEBAAABAQEBAAEAAAABAQEBAQABAAEBAAABAAAAAAEAAAABAAEAAAABAQAAAQABAAABAAABAAEAAQAAAQEBAQEAAAEBAQEAAAEBAQABAQEAAAEBAAEAAAEAAQEBAAABAAABAQEBAQEBAQEBAQAAAAEBAQAAAAEBAAEBAQABAAEAAQABAQEBAAAAAQEBAQEBAAEAAAABAQABAQEAAAEBAAABAQABAQABAAABAAEBAAABAQEBAAABAQEBAAEAAQEBAAEBAQEAAQEBAQABAQABAQEAAQABAQEBAQAAAAEAAAEBAAEAAQAAAQABAAEAAAEAAQEAAQABAQAAAAEAAAABAAEAAQEAAQABAAEAAQEBAQAAAAEBAAEBAAAAAQABAQEAAQABAAEAAQEBAQEAAQEBAAEBAAEAAAEBAAEAAQAAAQABAQEAAAEBAAABAAEBAAEBAAABAQABAAEBAAEAAQEBAQAAAQAAAQEBAQEBAQABAAEAAQEBAAAAAQEBAQEBAQEBAQABAQEBAQEBAQEBAQEAAQEAAQEBAQAAAQAAAQAAAQEBAQEBAQABAAAAAQABAQABAQABAQEBAQEBAQABAQEBAQEBAAAAAQEBAAABAAEBAQEAAAEAAQAAAQEBAQABAQEAAQAAAAEBAQEAAAEAAQABAQEBAQEBAAAAAAEBAQABAQEAAQAAAAEAAQEAAQEAAAAAAQEBAAEAAQABAAABAAEBAQEBAAEAAQEAAAABAQEBAQEBAQABAQABAQEBAAABAQEBAQEAAQEAAQAAAQAAAAEBAAABAQEAAAEBAQAAAQAAAQEBAQEBAAEBAAABAAEAAQEAAAEBAAEAAQEAAAABAQAAAAEAAAABAQABAAAAAQEBAAABAAEBAQABAAAAAAABAAEBAQEBAAEAAQEBAAAAAQAAAQEBAQEBAQABAQEBAAEBAQEBAQEBAQABAQAAAAEBAAABAQEAAAABAAEBAAEAAQEAAQABAAEAAQEBAQEBAAEBAAAAAAEBAAABAQABAQABAAEBAQEAAAEAAQEAAQABAAAAAAEBAQABAAAAAAEBAAABAQAAAAEAAQAAAQABAAABAQEBAAAAAQAAAQEAAAEAAQEBAAABAQEBAAAAAAABAAAAAQABAAAAAQABAQABAAEAAQEBAQEAAQEBAQEBAQEBAQAAAAAAAQABAAEAAQEAAAEBAQEAAQEAAAEBAAEAAAEBAQEAAAABAQAAAQAAAQAAAQABAAEBAQEBAQABAQAAAQABAQEBAQEBAQAAAAABAAABAAEAAAABAQEAAAEAAQABAAABAQAAAAEBAQABAQABAQEAAQAAAAEBAQABAQEBAAEAAQEBAQABAAEBAQABAQEBAQEAAQABAQEBAQABAAEBAQABAQEAAAAAAQEBAQEBAQEBAAEAAQAAAAAAAQEAAAEBAQEBAQABAAEAAQEBAQEBAAEBAQEBAQEBAAEAAAEBAAABAQABAQEAAQEAAAEBAAEAAQEAAAEBAQEBAAEAAQABAQEBAQEAAQAAAQEBAAEBAQEAAAEBAQEBAQEBAQEAAAEBAAEBAQEBAQABAAAAAQEAAQABAQAAAAEBAQEBAAABAQAAAQABAAEBAAABAQEAAQEBAAAAAAEAAQEBAAEBAAEBAQEAAQEBAAABAQEAAQEBAQABAQEBAQEBAAABAAEBAAABAQEBAAAAAQEBAQABAAEBAAABAQEBAQABAQAAAQEAAQABAAEAAQEBAQAAAQABAQABAQEBAQEAAAAAAQEBAQEAAAABAAEBAAAAAQEAAQEBAQEBAAABAQEBAAEBAAAAAQEBAQEBAAEBAAABAAABAAEAAAEAAQABAQAAAAAAAQEBAAEAAQEBAQEAAAEBAQAAAQEBAAABAAEBAQEBAQAAAQEBAQAAAAAAAAEBAQEAAAEBAAEAAQEBAAEBAQABAAAAAQEBAAABAQAAAQEAAAEBAAABAAEBAQAAAAEAAQEBAAABAQEAAAEAAQEAAQABAQEAAQEAAQAAAQAAAQEAAQEAAAAAAAABAAABAQEBAQEBAAABAQAAAAEAAQEBAQAAAAEBAAEBAQEAAQEBAAABAQEAAAEAAQABAQEAAAEBAAEBAQAAAAABAAEBAQABAAEAAQAAAQEBAQEAAAEBAAEAAAEBAQEBAAABAQEAAQEAAAEAAQEAAQABAQEBAQAAAQABAQEBAQEBAQEBAAEBAAABAAEBAQAAAQEBAAAAAQEBAAAAAQABAAEBAQEBAAAAAAEBAAEBAAEAAQEBAAABAAEBAAEAAQEBAAEBAAABAQABAAEAAQABAAAAAAEBAAABAQAAAQEAAAEBAQAAAAEAAAABAQABAAEAAQAAAQABAQEBAAEBAAEAAQEBAAABAAEAAQEBAAEAAAEBAAAAAQEAAAABAAABAAEAAAAAAQABAAEAAAEAAQAAAAEAAQEBAQEBAAEBAQAAAQEAAQEBAQAAAAABAAEAAQEAAQEBAAABAQEAAQAAAQABAQEAAQAAAAEAAAEBAQEBAAABAQEBAAEBAQABAQABAAAAAQEBAQAAAQEBAQEAAQEAAQABAQEBAQEBAQAAAQEAAQEBAAEAAAABAQEBAQAAAAEAAQEBAQABAAAAAAEBAAAAAQABAAAAAQEAAQABAQEAAQEAAQEAAAEBAQABAAABAQABAAABAQEBAQEAAQEAAQEBAAEBAQABAQEBAQEBAAAAAAABAQEBAQABAAEBAAEBAAEBAAABAQEBAQABAQAAAQABAQEAAQEBAQEBAAEBAAEBAQEAAQEAAAABAQEBAQEBAAAAAAAAAQAAAQABAQEBAQEBAQEAAQABAQABAQABAAABAQEBAAEBAQEBAAEBAAEAAQAAAAEBAAEBAQEBAQABAQEBAQEBAQABAQAAAAEBAAABAQABAQEBAQEBAQEAAAEBAAEAAAEBAAEAAAEAAAEBAAEBAQEBAQEAAQEBAQEAAQEBAAEBAQAAAAAAAQABAQEBAQEAAAAAAQEAAQABAAEAAAEAAAEAAQABAQABAQEBAQEAAQEBAQEBAAEAAQAAAAEAAAEBAAEBAQEBAAAAAQEBAQABAAEBAQABAQEBAQEBAQEBAQEAAQABAQEAAQEAAQEAAQEBAQEAAAABAQEBAQAAAQABAAEAAQAAAQEBAQEBAQAAAAEAAQAAAQEAAAEAAAEBAQAAAQEBAAEBAAABAAABAQEBAQAAAQEBAQEAAQEBAQEAAAAAAAEBAQEAAQAAAQAAAAEAAQEBAQEAAAEAAQEAAAEBAAAAAAEAAQABAQEAAAEBAQEBAQAAAQABAAABAQEAAQEAAAEBAAAAAAEBAAABAQEBAQEBAQEBAQEBAQAAAAEAAQAAAQEBAQEBAQEAAQEBAAABAAEBAQEBAAEBAQEBAAAAAQEAAAABAAEBAQEAAAEBAQEBAAEAAQEBAAABAQEAAAEAAQAAAAEBAQEBAQABAAAAAQAAAAEAAAAAAAEBAQEAAAEBAQAAAQAAAAAAAAABAQEBAQEBAAEBAAAAAAEAAQAAAQABAQEAAAEAAQEAAAEBAQEBAQEAAAEBAQEAAAEAAQABAQEAAAEBAAAAAQAAAAAAAQEAAAEBAAABAQEBAQEBAQEBAAEAAQEAAQEBAQEAAQAAAQABAAEAAQEBAAABAAEBAAEAAQABAAEBAQAAAAAAAQABAAABAAABAQEAAAAAAAEBAAEAAAAAAQEBAQEBAQEBAQEAAQEBAQABAQABAAEBAAAAAAEBAQEAAQABAAEBAQEBAAEBAQEAAQABAAEBAQEBAAABAQAAAQEBAQEBAAEAAQEBAQEBAQEAAAEAAAEBAQABAQEAAAEAAAAAAAEBAQAAAQABAAAAAAEAAQABAQEBAAEBAAABAQABAQEBAQAAAQEAAAAAAQABAAEAAAABAAEBAAEBAQABAQEBAQABAQEBAAEBAQEBAQEBAQEAAAEBAAEAAAABAAEAAAEBAAEBAQABAQEBAAEBAAEAAQEAAAABAAEBAQEAAQABAQEAAQABAQAAAQEBAAAAAAEBAQEBAAEAAAAAAQEAAAABAQEBAQEBAQAAAAEAAQABAAABAQEAAQEBAQABAAEAAQEBAQEBAQABAAEBAQEAAAABAAEBAQEAAQABAQAAAAAAAQABAAABAAEAAQAAAQAAAAEBAQEBAQEBAAAAAAEAAAEBAQEBAAEBAQEBAAEAAAAAAAAAAQABAQEBAQEAAAEBAAABAAEBAAABAQEAAAEBAAAAAAEBAQAAAQEBAAABAQEAAQEAAAAAAAAAAQABAAEAAQAAAAEBAQEAAQAAAQEAAQABAAAAAQABAQEBAAEBAQAAAQABAAAAAAABAAEBAQEAAQEBAQEBAQABAQEAAAABAAEBAQEBAQAAAQEAAQABAQEAAAEAAAABAQEBAAAAAAEAAQABAQEAAQAAAAAAAAAAAAAAAQABAQEBAAABAAAAAAEBAQEBAQEBAQABAQABAQEBAQEBAAABAQEBAAEBAQAAAAABAQEAAQEAAAEAAAEAAQEAAQAAAAEBAQEAAQEAAAEBAQABAAAAAAEBAQABAAEAAAEBAAAAAQABAQEBAQABAAEBAQEBAAEAAQABAQABAQEAAQEAAQEBAQAAAQEAAQEBAAEAAQAAAQAAAAEBAQAAAQABAAEAAQEAAQAAAAABAAAAAQEBAAABAAEAAQEBAAABAQAAAQEBAQEBAQEAAQEBAQEBAAAAAAEBAQEAAQEAAQABAAEAAQEBAQEAAAEAAQEAAQEBAAABAAABAQEAAAEBAAAAAAEAAAEBAAEAAQAAAAEAAAABAQABAAAAAQEBAAAAAAABAAEBAQEAAAEAAAABAAEAAAABAAEAAQEBAQABAQEBAQEBAAEBAQEBAAEAAQEBAAABAQEAAQEAAQAAAAEAAQAAAAEBAQABAQAAAQABAQEBAAEBAAEBAQABAQAAAQABAAEAAQABAAEAAQEBAQEAAAAAAQEBAQEBAQEBAQEAAQEAAQEAAAABAAEBAAABAQABAQEAAQEBAAABAAEAAQEAAQABAAABAAEBAQEAAQAAAQABAAEAAQEAAQAAAQABAAEAAQABAQAAAAABAQEAAQEAAQEAAQEBAQEBAQABAAEBAQEBAQAAAAEBAAEBAAEBAQABAAEBAAEBAQABAQEBAQEBAQABAQEBAAEBAQABAAABAQEBAQABAQEAAAEBAAEAAQEBAQEAAQABAAEAAQEAAQABAQEAAAEBAQABAAABAQEBAQEBAAABAAABAAAAAAEBAQEBAAEBAAEAAQEBAQABAQEBAAEBAAABAQEBAAAAAQAAAAEBAAEBAQAAAQEAAAAAAAABAQABAAABAAABAQAAAQEBAAEBAAEAAQEAAAABAAEAAQEBAAEBAAEBAQEAAAABAAABAQEBAAABAQEAAQAAAQEBAQAAAQAAAQEBAAEBAAABAQABAQEBAQEAAQEBAQABAQAAAQEBAQEBAAAAAAEBAAEBAQEBAQEAAQEBAQEAAQAAAAABAQEAAQAAAAAAAQEAAQEBAAEAAAEAAAEAAQEBAAABAQABAQEBAQEBAQEAAQEAAQEAAAEBAQEAAAEBAAABAAEBAAEAAQEBAQAAAAEAAAEBAQAAAAAAAQEBAAABAAEBAQEBAQABAQABAQAAAAABAQEBAQABAQABAQEBAQEBAQEAAQEBAQEBAQABAAEBAAEAAQEBAQABAQAAAQAAAAAAAAABAAEBAQEBAAEBAAEBAQABAQAAAQEBAQEAAAEAAAABAAEBAQABAAAAAQEBAQABAQAAAAABAQEBAAEBAQABAAEAAAAAAQABAAAAAAAAAQEBAQABAAEBAQEAAQEBAAABAQEAAAEAAQABAQEAAQAAAQABAQEAAQEAAQEBAQEBAAEAAAAAAQEAAAEBAQEBAQABAQAAAQAAAAAAAQEBAQABAQABAAEBAAEBAQAAAAABAAABAQEBAQAAAAEAAQEBAQABAQEBAAEAAAEBAQEBAQEAAQABAQABAQABAQEAAQAAAAAAAAAAAAAAAQAAAQEBAQABAAEAAQEAAQEBAAABAQABAQEBAQEBAQABAQEBAQEBAQABAQEBAQEBAAEBAAAAAQEBAAEAAQEBAQEBAAAAAQEAAAEBAQEBAAABAQAAAAAAAQEAAAAAAQEBAAABAAABAAEBAAEBAAAAAQEAAQEBAQAAAAAAAAAAAAAAAAEAAAEBAAEBAQABAQAAAAABAAABAAABAQABAQEBAAEAAQABAQEBAAEBAQEAAAEAAQAAAQABAQEBAQAAAAEBAAEAAQEAAQAAAAEBAQEBAQABAAABAQAAAQEAAAAAAAEAAQEBAAEAAAABAQEBAAEBAQEBAQEAAAEAAQEAAAEBAQEBAQABAQABAQEBAQABAQAAAQEAAAEAAQABAQEBAQABAAABAAEBAQEBAQEAAQEBAQEAAAABAQEBAQAAAQEBAAEAAAAAAAEAAQEAAQEAAQABAAEAAQEBAAEBAQAAAAAAAQEBAQAAAQEBAQABAAAAAQEAAQEAAQABAQEBAQABAQABAQEBAQEBAAABAQEBAAEAAAEAAQEBAAEAAQABAQEAAAEAAAEBAAEAAQEAAQEBAQEAAQEAAAEAAQAAAAEBAQEBAAEAAQEBAAAAAAEAAAEAAQAAAAAAAQABAQEAAAABAAEBAQAAAQEAAAABAAEBAQEAAQEAAAABAAEBAQEBAAEBAQEBAQABAQABAQAAAQEAAQABAAABAQEAAAEAAAEBAAABAQEBAQEBAQEAAQEBAAABAAEBAAEBAAEAAQABAQAAAAABAQAAAAEAAAABAQAAAAEBAAABAAABAAABAAEBAQABAQEAAAABAQEBAAABAQABAQEBAAEBAAAAAAEAAQEAAQEBAAEBAQABAAEBAAABAQAAAQAAAQEBAAABAQAAAQABAAEBAAEAAAEAAAAAAAAAAQABAQABAQEAAAEBAQEBAAAAAQEAAQABAAEBAQABAAEBAQEAAQEBAQAAAAEBAAEBAQABAQEBAQEBAQAAAQEBAAABAAEBAQEAAQABAQEBAAEBAQEAAQEAAQAAAAEAAQEAAQEAAAEBAQEBAAABAQEBAQAAAQAAAAEBAQABAQAAAQAAAQABAAABAQEBAQEBAQAAAAEAAAAAAAEAAAABAQAAAQEBAQABAQABAQEBAQABAQABAAABAQEBAQEBAQEBAQEAAQABAQAAAAAAAAABAQEAAAEAAQEBAQABAQEBAQAAAQEBAAAAAAABAQEBAQEBAQEAAAEBAAEBAQEAAQEBAAEBAQABAAEBAQAAAQABAAEAAAAAAQAAAAEBAQABAAEBAQAAAQAAAQEBAQEBAQEBAQEAAAEBAAEAAQEBAQEAAAEAAAABAQABAQEAAQEBAAEBAQABAQAAAQEAAQABAAEAAQEBAQABAAEAAAEBAAABAAABAQEAAQAAAQEBAQEAAQEBAAEAAAEAAQABAAEAAQEAAQEAAAEAAQEBAAAAAQEBAAEBAQABAQABAQEBAQEBAQABAAEAAAEBAQEBAQEBAAEBAQABAQABAQAAAQEBAAEAAAEAAQEAAQEBAQEAAQAAAAEAAAEBAAEBAQEBAAEAAAEBAQEAAQABAQEAAQEBAQAAAAABAQEBAQABAQABAQABAQAAAAABAAEBAQEAAQEBAQABAQABAQABAAEBAQEAAQAAAQEAAQEBAAEBAAEBAQABAQAAAQABAQAAAAEBAAEBAQABAQAAAQEBAAEAAQEAAAABAQAAAAABAAABAQEBAQEBAAABAAABAQEBAAEAAAABAQEBAQEAAAABAAEAAQEBAAABAAEBAQAAAQABAQEBAQEBAQAAAAEAAAEAAQEBAAEAAAAAAAABAAEBAQEBAAEBAQABAAABAQABAAEBAAAAAAEBAQEAAQEAAQEBAQEBAQEAAQEBAAEAAQEBAQEAAQABAAEBAAABAAEBAQEBAQEAAAEBAQAAAQEBAAAAAQEBAQAAAAABAQEBAQAAAAEBAAABAAAAAQEBAQABAQEAAQEBAQEAAQEAAQEBAQEAAAEBAQABAAEAAQEBAQABAQEAAQEAAQAAAAABAAAAAQEBAQEAAAAAAAEBAQEBAQAAAAABAQEAAQABAAAAAQABAQEAAQEBAAEAAQEAAAAAAQEAAAAAAQEBAAEBAAEBAQEAAQEBAQABAAABAQEBAQEAAQEBAQEBAAEAAQEBAQABAAABAQABAQEAAQEAAAEBAAAAAQEBAAAAAQABAAABAAEBAQABAQEAAQEBAAEAAQAAAQEAAQABAAEBAAABAQEAAQABAAABAAEAAQEBAAEBAQEAAQABAQABAQEAAQEBAAEAAQAAAQABAQEAAAAAAQABAAABAQABAAEAAAEAAAEBAAEBAQABAQAAAQABAQAAAQABAQEAAAEBAQAAAQEBAQABAQEBAAABAQEAAAEAAQEAAQABAAEAAQEBAQAAAAEBAQEBAQEAAQEBAAEAAQEBAAABAQABAQABAQEBAAEBAQEAAQEAAQABAAEAAQEBAQAAAQAAAAAAAAEBAQABAQEBAAEAAQABAAAAAQABAAEBAAEAAAEBAAEBAQABAQABAQAAAAABAQEBAAEBAAEBAQEAAAEAAAEAAQABAQEAAQABAQABAQEBAQEBAQEAAQABAAEAAQEAAAEBAAEBAAEBAQAAAAEAAAEBAAEAAQAAAQEBAAEAAQABAAEAAAEBAQEBAQEBAQAAAAEAAAABAAEAAAEBAQEAAAABAQAAAQEBAAEAAAAAAQABAAEAAQEAAAEAAQEBAQAAAQAAAQAAAQEAAQABAAAAAAEBAQAAAAABAQEBAAABAQABAQEBAAABAQEBAQEAAAEAAQEBAAABAQEAAQEBAQEBAAAAAQEAAAEAAAEBAAABAAEBAAEBAAEAAQEAAAEBAQEAAQEBAAAAAAEBAQEAAQAAAAEBAQEBAQABAQEBAQEBAAEBAQEAAAABAQAAAAABAAEAAQABAQEBAQEBAAAAAAABAQAAAAAAAQEBAQEBAQABAQABAQAAAQEBAQEBAQEBAAABAAEAAAEBAQEBAAEAAQEAAQEBAAEAAAEBAQEBAAAAAQEBAAEAAAEAAQABAAEAAQEBAAABAQAAAQABAQEBAQEBAQABAQAAAQAAAQABAAEBAQAAAQEAAAABAAABAAAAAQEAAQEBAQABAAEAAAAAAQEAAQEAAQEBAAAAAQEBAAEBAQAAAQABAAEBAQABAQABAAAAAAEAAAABAQABAAAAAQAAAQAAAQAAAAEAAQEBAQABAQABAAABAQAAAAABAAEAAQEAAQEBAAAAAQEBAQEBAQEAAAABAAABAAAAAQABAQAAAQAAAQABAAABAQEBAQEAAAABAQEAAQEBAAEBAQABAAABAAABAQEBAAEAAQEBAQEAAQEAAQAAAQEBAQEBAQEAAQEBAQAAAQEAAQAAAAABAAABAQAAAQEBAQAAAQEAAQEBAQEAAQAAAQEBAQEBAQEAAAEBAAEBAQAAAAABAQABAQEBAAAAAAABAAEBAQABAAAAAQABAQEAAAEBAAEBAAEBAQAAAQABAQEBAAEAAQAAAQEBAQABAQABAAABAQABAAABAQAAAQABAQEAAQABAQAAAAEBAAABAAABAAAAAQEBAAAAAQEBAQEBAQEAAQEAAQAAAQEAAAABAQAAAQEBAAABAQAAAAEAAAAAAAEBAQEAAAEBAQEAAAEBAQEAAAEAAQEAAQEAAAAAAQEBAQABAQABAAABAAEBAAEBAAEAAAEBAQABAQEBAAABAQEAAQEAAAEAAAABAQAAAAEBAQEBAQEAAAEAAQEAAAEAAQABAQABAAEAAQABAQEBAAEBAQEBAQABAAABAAEBAAEAAAEBAQABAAEAAQEBAQEBAQEBAQABAQABAAEBAAAAAQAAAQEBAQEBAAABAAEBAAEBAAEAAQEBAQEBAAEBAQABAQEAAQAAAAAAAQEAAAABAAEAAQABAQEAAQAAAQABAQAAAAAAAAEBAQEBAAEAAQEBAQEBAQAAAAABAQEAAQEBAQABAAAAAAABAQEBAQEBAQEAAAEAAQAAAAAAAQEBAAAAAAEAAQEAAQEBAQEAAQEBAAABAQEBAAEAAQAAAQAAAQEAAQABAQABAQABAAEAAAEAAQEBAAEAAAABAQEAAQAAAQEBAQEBAAEBAQEAAQABAAEAAQEBAAEBAQEAAQABAQEAAAABAAAAAQEBAAABAQEBAQABAQEAAQABAQEBAQEAAQABAQAAAAEAAQEAAQABAQEAAQAAAQEBAQAAAQABAQABAAEBAAEAAQEBAAABAAEAAQEAAQEBAQAAAQEBAQABAAEAAQABAQEAAAAAAQEBAQABAAAAAAEBAQEAAAABAQEBAQEBAQEBAAEAAQEBAQEAAAEBAQAAAAAAAAABAAEBAAABAAEAAQEBAQEAAAEBAQEAAAEAAAEBAAEBAAABAAEBAQEBAAEBAAAAAQEAAAAAAAEBAQEAAQEBAAEAAAEAAQEBAQEBAQEBAQEAAQEAAAEBAAABAQEBAQEBAQEBAQABAAEAAQEAAAAAAAAAAAEAAAAAAAEAAAEBAAEAAQEBAQEAAQEAAAEBAQABAQEAAQABAAEBAQABAAABAQEBAAEBAAEAAQABAQEAAQEBAAAAAQEAAQEBAAEBAQEAAQEBAQEBAQEBAQEBAAEAAQEAAQAAAQEAAQABAQEBAQABAQEAAAEBAQAAAQABAQEBAAEAAQAAAQAAAQEAAQAAAQABAQEBAAEAAAEAAQEAAQEBAQEAAAEBAAEBAQEAAAEBAAEBAQEAAQEBAQEAAQABAQABAQAAAAABAQEBAAEAAQABAAABAAAAAQABAAEBAAEBAAEAAQEBAQABAQEBAQAAAQABAQAAAQABAAEAAQEBAAEAAQAAAQABAAAAAAAAAAEBAAEAAAAAAQEAAQAAAAABAAEBAQABAQEBAQEBAQEAAAEAAQABAQEAAQEAAAEAAAAAAAEAAQABAQABAQEBAAABAQEBAAABAAAAAQEBAQEBAQEAAQEBAAEAAQABAAEBAAEAAAABAQAAAQAAAQEAAAAAAQEAAAEBAQEAAQAAAQEAAAAAAQEAAQEAAAABAAEBAQEBAAAAAAEBAQAAAQEBAQEBAQAAAAABAQABAQEAAAEAAQABAQAAAQEBAQEAAAEBAAABAQAAAAAAAQAAAQABAQEBAQEBAAEAAQEAAQABAAABAAEBAAEAAQEBAQEBAAABAQEBAAEAAQEAAQAAAAEAAQABAQEAAAEAAAEAAAEBAQAAAQAAAQEBAAEAAAEAAQABAAEAAQEBAQEAAQEBAQABAQEAAAABAAEAAQABAAAAAQABAAEAAQAAAQEAAAABAAAAAQEBAQEBAAEBAAEAAAEBAAEAAAEAAAABAQEBAQEAAQEBAQABAQABAQAAAAABAAEBAQEBAQEBAQEBAQAAAQAAAAAAAAABAQEAAQAAAQAAAQEBAQAAAQEBAAEBAAEAAAAAAQABAAEBAAAAAQEBAQAAAAABAAEBAQEBAQAAAAEBAQEAAQEBAQAAAAAAAAABAAAAAAABAAABAQEAAQEAAAEAAQEBAAABAQEBAQEBAAAAAQABAAEBAQAAAQEBAAEBAAEAAQEBAQEBAQAAAAEAAAEBAAAAAQEBAQEAAAAAAQAAAQEBAQABAQEBAAEBAQEBAAEBAQEAAQABAAABAQAAAAEBAQEAAAEAAAEBAQABAQEBAAEAAAEAAQEBAAEBAAEAAQEBAQEBAQEBAQEBAAABAAEBAAEBAQAAAQABAQEAAQEBAAEBAQEAAQABAAEBAQEBAQABAQAAAQABAQEBAAEAAAABAAABAQEBAQABAQABAAABAQEBAQEAAQEBAAEAAQEBAQEBAQABAQEBAAABAAABAQEBAAEBAQEBAQABAAABAAEBAQEBAQAAAAEAAQABAQABAAAAAQEAAAEBAQABAAEAAAEAAAAAAAEAAAABAAEAAQAAAQEBAQEAAAEBAAABAQEBAAEAAQABAQEAAAEAAQABAQEBAQABAQEBAQABAQABAAEBAQABAQEAAQEBAQABAAEAAAABAQABAQEBAAEAAQABAQAAAQAAAAAAAAAAAQAAAQAAAAEBAQEBAQEBAAABAQEBAAEBAQABAAEAAQEAAQABAAEAAAABAQEBAQEAAQAAAQEAAQEBAAEBAQAAAQEAAQEAAQEBAQEBAQEBAQEAAAABAQEAAQEBAQEAAAEAAAEBAQEBAQEAAQEAAQEBAAEBAQEAAQEBAQEBAAEAAAAAAAEBAQABAAAAAQABAAAAAQEBAAABAQEAAQEBAAAAAAEBAQAAAAEAAAEBAQAAAAEAAQEAAQEAAAEBAAABAQEBAAEBAAABAAAAAQEAAAEBAQEA",
           "dtype": "i1"
          },
          "sizemode": "area",
          "sizeref": 0.0025
         },
         "mode": "markers",
         "name": "",
         "showlegend": false,
         "subplot": "map",
         "type": "scattermap"
        }
       ],
       "layout": {
        "geo": {
         "fitbounds": "locations"
        },
        "legend": {
         "itemsizing": "constant",
         "tracegroupgap": 0
        },
        "map": {
         "center": {
          "lat": 22.786952802725978,
          "lon": 77.97694827028678
         },
         "domain": {
          "x": [
           0,
           1
          ],
          "y": [
           0,
           1
          ]
         },
         "zoom": 8
        },
        "mapbox": {
         "center": {
          "lat": 22.786952802725978,
          "lon": 77.97694827028678
         },
         "zoom": 8
        },
        "template": {
         "data": {
          "bar": [
           {
            "error_x": {
             "color": "#2a3f5f"
            },
            "error_y": {
             "color": "#2a3f5f"
            },
            "marker": {
             "line": {
              "color": "#E5ECF6",
              "width": 0.5
             },
             "pattern": {
              "fillmode": "overlay",
              "size": 10,
              "solidity": 0.2
             }
            },
            "type": "bar"
           }
          ],
          "barpolar": [
           {
            "marker": {
             "line": {
              "color": "#E5ECF6",
              "width": 0.5
             },
             "pattern": {
              "fillmode": "overlay",
              "size": 10,
              "solidity": 0.2
             }
            },
            "type": "barpolar"
           }
          ],
          "carpet": [
           {
            "aaxis": {
             "endlinecolor": "#2a3f5f",
             "gridcolor": "white",
             "linecolor": "white",
             "minorgridcolor": "white",
             "startlinecolor": "#2a3f5f"
            },
            "baxis": {
             "endlinecolor": "#2a3f5f",
             "gridcolor": "white",
             "linecolor": "white",
             "minorgridcolor": "white",
             "startlinecolor": "#2a3f5f"
            },
            "type": "carpet"
           }
          ],
          "choropleth": [
           {
            "colorbar": {
             "outlinewidth": 0,
             "ticks": ""
            },
            "type": "choropleth"
           }
          ],
          "contour": [
           {
            "colorbar": {
             "outlinewidth": 0,
             "ticks": ""
            },
            "colorscale": [
             [
              0,
              "#0d0887"
             ],
             [
              0.1111111111111111,
              "#46039f"
             ],
             [
              0.2222222222222222,
              "#7201a8"
             ],
             [
              0.3333333333333333,
              "#9c179e"
             ],
             [
              0.4444444444444444,
              "#bd3786"
             ],
             [
              0.5555555555555556,
              "#d8576b"
             ],
             [
              0.6666666666666666,
              "#ed7953"
             ],
             [
              0.7777777777777778,
              "#fb9f3a"
             ],
             [
              0.8888888888888888,
              "#fdca26"
             ],
             [
              1,
              "#f0f921"
             ]
            ],
            "type": "contour"
           }
          ],
          "contourcarpet": [
           {
            "colorbar": {
             "outlinewidth": 0,
             "ticks": ""
            },
            "type": "contourcarpet"
           }
          ],
          "heatmap": [
           {
            "colorbar": {
             "outlinewidth": 0,
             "ticks": ""
            },
            "colorscale": [
             [
              0,
              "#0d0887"
             ],
             [
              0.1111111111111111,
              "#46039f"
             ],
             [
              0.2222222222222222,
              "#7201a8"
             ],
             [
              0.3333333333333333,
              "#9c179e"
             ],
             [
              0.4444444444444444,
              "#bd3786"
             ],
             [
              0.5555555555555556,
              "#d8576b"
             ],
             [
              0.6666666666666666,
              "#ed7953"
             ],
             [
              0.7777777777777778,
              "#fb9f3a"
             ],
             [
              0.8888888888888888,
              "#fdca26"
             ],
             [
              1,
              "#f0f921"
             ]
            ],
            "type": "heatmap"
           }
          ],
          "histogram": [
           {
            "marker": {
             "pattern": {
              "fillmode": "overlay",
              "size": 10,
              "solidity": 0.2
             }
            },
            "type": "histogram"
           }
          ],
          "histogram2d": [
           {
            "colorbar": {
             "outlinewidth": 0,
             "ticks": ""
            },
            "colorscale": [
             [
              0,
              "#0d0887"
             ],
             [
              0.1111111111111111,
              "#46039f"
             ],
             [
              0.2222222222222222,
              "#7201a8"
             ],
             [
              0.3333333333333333,
              "#9c179e"
             ],
             [
              0.4444444444444444,
              "#bd3786"
             ],
             [
              0.5555555555555556,
              "#d8576b"
             ],
             [
              0.6666666666666666,
              "#ed7953"
             ],
             [
              0.7777777777777778,
              "#fb9f3a"
             ],
             [
              0.8888888888888888,
              "#fdca26"
             ],
             [
              1,
              "#f0f921"
             ]
            ],
            "type": "histogram2d"
           }
          ],
          "histogram2dcontour": [
           {
            "colorbar": {
             "outlinewidth": 0,
             "ticks": ""
            },
            "colorscale": [
             [
              0,
              "#0d0887"
             ],
             [
              0.1111111111111111,
              "#46039f"
             ],
             [
              0.2222222222222222,
              "#7201a8"
             ],
             [
              0.3333333333333333,
              "#9c179e"
             ],
             [
              0.4444444444444444,
              "#bd3786"
             ],
             [
              0.5555555555555556,
              "#d8576b"
             ],
             [
              0.6666666666666666,
              "#ed7953"
             ],
             [
              0.7777777777777778,
              "#fb9f3a"
             ],
             [
              0.8888888888888888,
              "#fdca26"
             ],
             [
              1,
              "#f0f921"
             ]
            ],
            "type": "histogram2dcontour"
           }
          ],
          "mesh3d": [
           {
            "colorbar": {
             "outlinewidth": 0,
             "ticks": ""
            },
            "type": "mesh3d"
           }
          ],
          "parcoords": [
           {
            "line": {
             "colorbar": {
              "outlinewidth": 0,
              "ticks": ""
             }
            },
            "type": "parcoords"
           }
          ],
          "pie": [
           {
            "automargin": true,
            "type": "pie"
           }
          ],
          "scatter": [
           {
            "fillpattern": {
             "fillmode": "overlay",
             "size": 10,
             "solidity": 0.2
            },
            "type": "scatter"
           }
          ],
          "scatter3d": [
           {
            "line": {
             "colorbar": {
              "outlinewidth": 0,
              "ticks": ""
             }
            },
            "marker": {
             "colorbar": {
              "outlinewidth": 0,
              "ticks": ""
             }
            },
            "type": "scatter3d"
           }
          ],
          "scattercarpet": [
           {
            "marker": {
             "colorbar": {
              "outlinewidth": 0,
              "ticks": ""
             }
            },
            "type": "scattercarpet"
           }
          ],
          "scattergeo": [
           {
            "marker": {
             "colorbar": {
              "outlinewidth": 0,
              "ticks": ""
             }
            },
            "type": "scattergeo"
           }
          ],
          "scattergl": [
           {
            "marker": {
             "colorbar": {
              "outlinewidth": 0,
              "ticks": ""
             }
            },
            "type": "scattergl"
           }
          ],
          "scattermap": [
           {
            "marker": {
             "colorbar": {
              "outlinewidth": 0,
              "ticks": ""
             }
            },
            "type": "scattermap"
           }
          ],
          "scattermapbox": [
           {
            "marker": {
             "colorbar": {
              "outlinewidth": 0,
              "ticks": ""
             }
            },
            "type": "scattermapbox"
           }
          ],
          "scatterpolar": [
           {
            "marker": {
             "colorbar": {
              "outlinewidth": 0,
              "ticks": ""
             }
            },
            "type": "scatterpolar"
           }
          ],
          "scatterpolargl": [
           {
            "marker": {
             "colorbar": {
              "outlinewidth": 0,
              "ticks": ""
             }
            },
            "type": "scatterpolargl"
           }
          ],
          "scatterternary": [
           {
            "marker": {
             "colorbar": {
              "outlinewidth": 0,
              "ticks": ""
             }
            },
            "type": "scatterternary"
           }
          ],
          "surface": [
           {
            "colorbar": {
             "outlinewidth": 0,
             "ticks": ""
            },
            "colorscale": [
             [
              0,
              "#0d0887"
             ],
             [
              0.1111111111111111,
              "#46039f"
             ],
             [
              0.2222222222222222,
              "#7201a8"
             ],
             [
              0.3333333333333333,
              "#9c179e"
             ],
             [
              0.4444444444444444,
              "#bd3786"
             ],
             [
              0.5555555555555556,
              "#d8576b"
             ],
             [
              0.6666666666666666,
              "#ed7953"
             ],
             [
              0.7777777777777778,
              "#fb9f3a"
             ],
             [
              0.8888888888888888,
              "#fdca26"
             ],
             [
              1,
              "#f0f921"
             ]
            ],
            "type": "surface"
           }
          ],
          "table": [
           {
            "cells": {
             "fill": {
              "color": "#EBF0F8"
             },
             "line": {
              "color": "white"
             }
            },
            "header": {
             "fill": {
              "color": "#C8D4E3"
             },
             "line": {
              "color": "white"
             }
            },
            "type": "table"
           }
          ]
         },
         "layout": {
          "annotationdefaults": {
           "arrowcolor": "#2a3f5f",
           "arrowhead": 0,
           "arrowwidth": 1
          },
          "autotypenumbers": "strict",
          "coloraxis": {
           "colorbar": {
            "outlinewidth": 0,
            "ticks": ""
           }
          },
          "colorscale": {
           "diverging": [
            [
             0,
             "#8e0152"
            ],
            [
             0.1,
             "#c51b7d"
            ],
            [
             0.2,
             "#de77ae"
            ],
            [
             0.3,
             "#f1b6da"
            ],
            [
             0.4,
             "#fde0ef"
            ],
            [
             0.5,
             "#f7f7f7"
            ],
            [
             0.6,
             "#e6f5d0"
            ],
            [
             0.7,
             "#b8e186"
            ],
            [
             0.8,
             "#7fbc41"
            ],
            [
             0.9,
             "#4d9221"
            ],
            [
             1,
             "#276419"
            ]
           ],
           "sequential": [
            [
             0,
             "#0d0887"
            ],
            [
             0.1111111111111111,
             "#46039f"
            ],
            [
             0.2222222222222222,
             "#7201a8"
            ],
            [
             0.3333333333333333,
             "#9c179e"
            ],
            [
             0.4444444444444444,
             "#bd3786"
            ],
            [
             0.5555555555555556,
             "#d8576b"
            ],
            [
             0.6666666666666666,
             "#ed7953"
            ],
            [
             0.7777777777777778,
             "#fb9f3a"
            ],
            [
             0.8888888888888888,
             "#fdca26"
            ],
            [
             1,
             "#f0f921"
            ]
           ],
           "sequentialminus": [
            [
             0,
             "#0d0887"
            ],
            [
             0.1111111111111111,
             "#46039f"
            ],
            [
             0.2222222222222222,
             "#7201a8"
            ],
            [
             0.3333333333333333,
             "#9c179e"
            ],
            [
             0.4444444444444444,
             "#bd3786"
            ],
            [
             0.5555555555555556,
             "#d8576b"
            ],
            [
             0.6666666666666666,
             "#ed7953"
            ],
            [
             0.7777777777777778,
             "#fb9f3a"
            ],
            [
             0.8888888888888888,
             "#fdca26"
            ],
            [
             1,
             "#f0f921"
            ]
           ]
          },
          "colorway": [
           "#636efa",
           "#EF553B",
           "#00cc96",
           "#ab63fa",
           "#FFA15A",
           "#19d3f3",
           "#FF6692",
           "#B6E880",
           "#FF97FF",
           "#FECB52"
          ],
          "font": {
           "color": "#2a3f5f"
          },
          "geo": {
           "bgcolor": "white",
           "lakecolor": "white",
           "landcolor": "#E5ECF6",
           "showlakes": true,
           "showland": true,
           "subunitcolor": "white"
          },
          "hoverlabel": {
           "align": "left"
          },
          "hovermode": "closest",
          "mapbox": {
           "style": "light"
          },
          "paper_bgcolor": "white",
          "plot_bgcolor": "#E5ECF6",
          "polar": {
           "angularaxis": {
            "gridcolor": "white",
            "linecolor": "white",
            "ticks": ""
           },
           "bgcolor": "#E5ECF6",
           "radialaxis": {
            "gridcolor": "white",
            "linecolor": "white",
            "ticks": ""
           }
          },
          "scene": {
           "xaxis": {
            "backgroundcolor": "#E5ECF6",
            "gridcolor": "white",
            "gridwidth": 2,
            "linecolor": "white",
            "showbackground": true,
            "ticks": "",
            "zerolinecolor": "white"
           },
           "yaxis": {
            "backgroundcolor": "#E5ECF6",
            "gridcolor": "white",
            "gridwidth": 2,
            "linecolor": "white",
            "showbackground": true,
            "ticks": "",
            "zerolinecolor": "white"
           },
           "zaxis": {
            "backgroundcolor": "#E5ECF6",
            "gridcolor": "white",
            "gridwidth": 2,
            "linecolor": "white",
            "showbackground": true,
            "ticks": "",
            "zerolinecolor": "white"
           }
          },
          "shapedefaults": {
           "line": {
            "color": "#2a3f5f"
           }
          },
          "ternary": {
           "aaxis": {
            "gridcolor": "white",
            "linecolor": "white",
            "ticks": ""
           },
           "baxis": {
            "gridcolor": "white",
            "linecolor": "white",
            "ticks": ""
           },
           "bgcolor": "#E5ECF6",
           "caxis": {
            "gridcolor": "white",
            "linecolor": "white",
            "ticks": ""
           }
          },
          "title": {
           "x": 0.05
          },
          "xaxis": {
           "automargin": true,
           "gridcolor": "white",
           "linecolor": "white",
           "ticks": "",
           "title": {
            "standoff": 15
           },
           "zerolinecolor": "white",
           "zerolinewidth": 2
          },
          "yaxis": {
           "automargin": true,
           "gridcolor": "white",
           "linecolor": "white",
           "ticks": "",
           "title": {
            "standoff": 15
           },
           "zerolinecolor": "white",
           "zerolinewidth": 2
          }
         }
        },
        "title": {
         "text": "Number of records per city"
        }
       }
      }
     },
     "metadata": {},
     "output_type": "display_data"
    }
   ],
   "source": [
    "fig = px.scatter_map(combined_data, lat=\"lat\", lon=\"long\",size=\"depression\",title=\"Number of records per city\")\n",
    "# fig.update_layout(geo_scope = 'asia')\n",
    "fig.update_geos(fitbounds=\"locations\")\n",
    "fig.show()\n"
   ]
  },
  {
   "cell_type": "markdown",
   "id": "f67e6841",
   "metadata": {},
   "source": [
    "* The above maps are not giving us enough insight because we are using the same lat/long for cities. \n",
    "* We need to create a aggregated dataset which has latlong, city, number of instances, number of depressed instances, number of un depressed instances and its ratio.\n",
    "* Plotting this data should give us some helpful insight."
   ]
  },
  {
   "cell_type": "code",
   "execution_count": 50,
   "id": "a6eaf2c2",
   "metadata": {},
   "outputs": [
    {
     "name": "stdout",
     "output_type": "stream",
     "text": [
      "(32, 7)\n"
     ]
    },
    {
     "data": {
      "application/vnd.microsoft.datawrangler.viewer.v0+json": {
       "columns": [
        {
         "name": "index",
         "rawType": "int64",
         "type": "integer"
        },
        {
         "name": "lat",
         "rawType": "float64",
         "type": "float"
        },
        {
         "name": "long",
         "rawType": "float64",
         "type": "float"
        },
        {
         "name": "city",
         "rawType": "object",
         "type": "string"
        },
        {
         "name": "total_instances",
         "rawType": "int64",
         "type": "integer"
        },
        {
         "name": "total_depression_count",
         "rawType": "int64",
         "type": "integer"
        },
        {
         "name": "total_non_depression_count",
         "rawType": "int64",
         "type": "integer"
        },
        {
         "name": "depression_ratio",
         "rawType": "float64",
         "type": "float"
        }
       ],
       "ref": "e29b07c2-31d1-4dc2-89ea-c613e8fc2642",
       "rows": [
        [
         "0",
         "12.97194",
         "77.59369",
         "bangalore",
         "625",
         "382",
         "243",
         "0.6112"
        ],
        [
         "1",
         "13.088375",
         "80.27165",
         "chennai",
         "707",
         "416",
         "291",
         "0.5884016973125884"
        ],
        [
         "2",
         "13.40028",
         "75.18341",
         "nandini",
         "1",
         "0",
         "1",
         "0.0"
        ],
        [
         "3",
         "17.392845",
         "78.47306",
         "hyderabad",
         "1063",
         "703",
         "360",
         "0.6613358419567262"
        ],
        [
         "4",
         "17.68009",
         "83.20161",
         "visakhapatnam",
         "763",
         "428",
         "335",
         "0.5609436435124509"
        ]
       ],
       "shape": {
        "columns": 7,
        "rows": 5
       }
      },
      "text/html": [
       "<div>\n",
       "<style scoped>\n",
       "    .dataframe tbody tr th:only-of-type {\n",
       "        vertical-align: middle;\n",
       "    }\n",
       "\n",
       "    .dataframe tbody tr th {\n",
       "        vertical-align: top;\n",
       "    }\n",
       "\n",
       "    .dataframe thead th {\n",
       "        text-align: right;\n",
       "    }\n",
       "</style>\n",
       "<table border=\"1\" class=\"dataframe\">\n",
       "  <thead>\n",
       "    <tr style=\"text-align: right;\">\n",
       "      <th></th>\n",
       "      <th>lat</th>\n",
       "      <th>long</th>\n",
       "      <th>city</th>\n",
       "      <th>total_instances</th>\n",
       "      <th>total_depression_count</th>\n",
       "      <th>total_non_depression_count</th>\n",
       "      <th>depression_ratio</th>\n",
       "    </tr>\n",
       "  </thead>\n",
       "  <tbody>\n",
       "    <tr>\n",
       "      <th>0</th>\n",
       "      <td>12.971940</td>\n",
       "      <td>77.59369</td>\n",
       "      <td>bangalore</td>\n",
       "      <td>625</td>\n",
       "      <td>382</td>\n",
       "      <td>243</td>\n",
       "      <td>0.611200</td>\n",
       "    </tr>\n",
       "    <tr>\n",
       "      <th>1</th>\n",
       "      <td>13.088375</td>\n",
       "      <td>80.27165</td>\n",
       "      <td>chennai</td>\n",
       "      <td>707</td>\n",
       "      <td>416</td>\n",
       "      <td>291</td>\n",
       "      <td>0.588402</td>\n",
       "    </tr>\n",
       "    <tr>\n",
       "      <th>2</th>\n",
       "      <td>13.400280</td>\n",
       "      <td>75.18341</td>\n",
       "      <td>nandini</td>\n",
       "      <td>1</td>\n",
       "      <td>0</td>\n",
       "      <td>1</td>\n",
       "      <td>0.000000</td>\n",
       "    </tr>\n",
       "    <tr>\n",
       "      <th>3</th>\n",
       "      <td>17.392845</td>\n",
       "      <td>78.47306</td>\n",
       "      <td>hyderabad</td>\n",
       "      <td>1063</td>\n",
       "      <td>703</td>\n",
       "      <td>360</td>\n",
       "      <td>0.661336</td>\n",
       "    </tr>\n",
       "    <tr>\n",
       "      <th>4</th>\n",
       "      <td>17.680090</td>\n",
       "      <td>83.20161</td>\n",
       "      <td>visakhapatnam</td>\n",
       "      <td>763</td>\n",
       "      <td>428</td>\n",
       "      <td>335</td>\n",
       "      <td>0.560944</td>\n",
       "    </tr>\n",
       "  </tbody>\n",
       "</table>\n",
       "</div>"
      ],
      "text/plain": [
       "         lat      long           city  total_instances  \\\n",
       "0  12.971940  77.59369      bangalore              625   \n",
       "1  13.088375  80.27165        chennai              707   \n",
       "2  13.400280  75.18341        nandini                1   \n",
       "3  17.392845  78.47306      hyderabad             1063   \n",
       "4  17.680090  83.20161  visakhapatnam              763   \n",
       "\n",
       "   total_depression_count  total_non_depression_count  depression_ratio  \n",
       "0                     382                         243          0.611200  \n",
       "1                     416                         291          0.588402  \n",
       "2                       0                           1          0.000000  \n",
       "3                     703                         360          0.661336  \n",
       "4                     428                         335          0.560944  "
      ]
     },
     "execution_count": 50,
     "metadata": {},
     "output_type": "execute_result"
    }
   ],
   "source": [
    "combined_aggregation = combined_data.loc[combined_data[\"is_valid_city\"] == 1].groupby([\"lat\", \"long\",\"city\"],as_index=False).agg(\n",
    "    total_instances=(\"city\",\"count\"),\n",
    "    total_depression_count=(\"depression\", \"sum\")\n",
    ")\n",
    "combined_aggregation[\"total_non_depression_count\"] = combined_aggregation[\"total_instances\"] - combined_aggregation[\"total_depression_count\"] \n",
    "combined_aggregation[\"depression_ratio\"] = combined_aggregation[\"total_depression_count\"] / combined_aggregation[\"total_instances\"]\n",
    "print(combined_aggregation.shape)\n",
    "combined_aggregation.head()"
   ]
  },
  {
   "cell_type": "code",
   "execution_count": 51,
   "id": "faf72750",
   "metadata": {},
   "outputs": [
    {
     "data": {
      "application/vnd.plotly.v1+json": {
       "config": {
        "plotlyServerURL": "https://plot.ly"
       },
       "data": [
        {
         "hovertemplate": "total_instances=%{marker.size}<br>lat=%{lat}<br>long=%{lon}<br>depression_ratio=%{marker.color}<extra></extra>",
         "lat": {
          "bdata": "NlmjHqLxKUBoke18Py0qQFt8CoDxzCpAqmVrfZFkMUAuVtRgGq4xQJT7HYoChTJAidojwUEAM0CPLkl4VTozQIZyol2FdDNAGvonuFj9M0C46c9+pDA2QAywj05dPTZAsI9OXfmMNkD8epjQN7Q2QOgg1Z0UKzdAOaAnoqD+N0BCYOXQIhs4QLl1XD2VPjhAJJwWvOhTOECFTXexQ5c4QL3GLlG9mzhAieDM/Le/OEDwb4nKYMg4QMTaU5UfJDlAkbjH0oeqOUAhyEEJM/U5QGD1VBCZSTpAxbfYZGZ0OkDXL9gN29Y6QB8ByWEdtDxAKdAn8iTxPEDVLpPOrTE+QA==",
          "dtype": "f8"
         },
         "legendgroup": "",
         "lon": {
          "bdata": "lX1XBP9lU0BWfa62YhFUQJnwS/28y1JA7kJznUaeU0D7IqEt58xUQI0o7Q2+dlJA8RExJZI2UkAZexzzJ0VSQGdEaW/wM1JAF9S3zOlxUkAkDtlAuppSQDylg/V/SlJAhSUeUDYXVkBxj6UPXfRSQEvF2YfP0lRAnUIsXutUUkCiaOFxzxlUQLNFKkPSwlRAz6Chf4IGVEAc451W5JBSQLPqc7WVkVNAt3C6xsinU0CUPwT15UFUQGpBY0kihVNA2CrB4nAbVEAmx53SwfJSQBzA5NxFA1RAF7YXb+9vVEA3/dmPFDtUQCkNIj8IXFNAbCbfbHNrU0CFIAclzPpSQA==",
          "dtype": "f8"
         },
         "marker": {
          "color": {
           "bdata": "HhZqTfOO4z9pytvLL9TiPwAAAAAAAAAAcw6cyKkp5T80H3kVQPPhP8Uxcl+Yz+E/vzl7Sz6t4T+zLuuyLuviP9DR7TxklOI/01MLKz214D/+gR0bXgrjP8wRKYb6y+E/OjcgaKeh4z8SRFovYJvjP2WBVxZ4ZeE/0rgvWun34z/HHTorjnjhP2mN1miN1uA/AAAAAAAA8D+++zrzsNniP9qTfB+r2eM/VVVVVVVV4T+BJwff5UvkPxkrwTxXuOE/7og74o644z8XXXTRRRflP7lcLpfL5eI/0u7H2luv4T8v7IahY7/hP6fg5RS8nOI/DmvfsPYN4z8Yb2WfQ2riPw==",
           "dtype": "f8"
          },
          "coloraxis": "coloraxis",
          "size": {
           "bdata": "cQLDAgEAJwT7Au8CMwKOAxIExAEEBTECegMHAiYCeQIVAkgDAQBKA+wCYAM3A+0BWgLsAn0BMQSvA0wClAJQAw==",
           "dtype": "i2"
          },
          "sizemode": "area",
          "sizeref": 3.21
         },
         "mode": "markers",
         "name": "",
         "showlegend": false,
         "subplot": "map",
         "type": "scattermap"
        }
       ],
       "layout": {
        "coloraxis": {
         "colorbar": {
          "title": {
           "text": "depression_ratio"
          }
         },
         "colorscale": [
          [
           0,
           "rgb(0,0,255)"
          ],
          [
           1,
           "rgb(255,0,0)"
          ]
         ]
        },
        "geo": {
         "fitbounds": "locations"
        },
        "legend": {
         "itemsizing": "constant",
         "tracegroupgap": 0
        },
        "map": {
         "center": {
          "lat": 22.59903963633649,
          "lon": 77.91521270594511
         },
         "domain": {
          "x": [
           0,
           1
          ],
          "y": [
           0,
           1
          ]
         },
         "zoom": 8
        },
        "mapbox": {
         "center": {
          "lat": 22.59903963633649,
          "lon": 77.91521270594511
         },
         "zoom": 8
        },
        "template": {
         "data": {
          "bar": [
           {
            "error_x": {
             "color": "#2a3f5f"
            },
            "error_y": {
             "color": "#2a3f5f"
            },
            "marker": {
             "line": {
              "color": "#E5ECF6",
              "width": 0.5
             },
             "pattern": {
              "fillmode": "overlay",
              "size": 10,
              "solidity": 0.2
             }
            },
            "type": "bar"
           }
          ],
          "barpolar": [
           {
            "marker": {
             "line": {
              "color": "#E5ECF6",
              "width": 0.5
             },
             "pattern": {
              "fillmode": "overlay",
              "size": 10,
              "solidity": 0.2
             }
            },
            "type": "barpolar"
           }
          ],
          "carpet": [
           {
            "aaxis": {
             "endlinecolor": "#2a3f5f",
             "gridcolor": "white",
             "linecolor": "white",
             "minorgridcolor": "white",
             "startlinecolor": "#2a3f5f"
            },
            "baxis": {
             "endlinecolor": "#2a3f5f",
             "gridcolor": "white",
             "linecolor": "white",
             "minorgridcolor": "white",
             "startlinecolor": "#2a3f5f"
            },
            "type": "carpet"
           }
          ],
          "choropleth": [
           {
            "colorbar": {
             "outlinewidth": 0,
             "ticks": ""
            },
            "type": "choropleth"
           }
          ],
          "contour": [
           {
            "colorbar": {
             "outlinewidth": 0,
             "ticks": ""
            },
            "colorscale": [
             [
              0,
              "#0d0887"
             ],
             [
              0.1111111111111111,
              "#46039f"
             ],
             [
              0.2222222222222222,
              "#7201a8"
             ],
             [
              0.3333333333333333,
              "#9c179e"
             ],
             [
              0.4444444444444444,
              "#bd3786"
             ],
             [
              0.5555555555555556,
              "#d8576b"
             ],
             [
              0.6666666666666666,
              "#ed7953"
             ],
             [
              0.7777777777777778,
              "#fb9f3a"
             ],
             [
              0.8888888888888888,
              "#fdca26"
             ],
             [
              1,
              "#f0f921"
             ]
            ],
            "type": "contour"
           }
          ],
          "contourcarpet": [
           {
            "colorbar": {
             "outlinewidth": 0,
             "ticks": ""
            },
            "type": "contourcarpet"
           }
          ],
          "heatmap": [
           {
            "colorbar": {
             "outlinewidth": 0,
             "ticks": ""
            },
            "colorscale": [
             [
              0,
              "#0d0887"
             ],
             [
              0.1111111111111111,
              "#46039f"
             ],
             [
              0.2222222222222222,
              "#7201a8"
             ],
             [
              0.3333333333333333,
              "#9c179e"
             ],
             [
              0.4444444444444444,
              "#bd3786"
             ],
             [
              0.5555555555555556,
              "#d8576b"
             ],
             [
              0.6666666666666666,
              "#ed7953"
             ],
             [
              0.7777777777777778,
              "#fb9f3a"
             ],
             [
              0.8888888888888888,
              "#fdca26"
             ],
             [
              1,
              "#f0f921"
             ]
            ],
            "type": "heatmap"
           }
          ],
          "histogram": [
           {
            "marker": {
             "pattern": {
              "fillmode": "overlay",
              "size": 10,
              "solidity": 0.2
             }
            },
            "type": "histogram"
           }
          ],
          "histogram2d": [
           {
            "colorbar": {
             "outlinewidth": 0,
             "ticks": ""
            },
            "colorscale": [
             [
              0,
              "#0d0887"
             ],
             [
              0.1111111111111111,
              "#46039f"
             ],
             [
              0.2222222222222222,
              "#7201a8"
             ],
             [
              0.3333333333333333,
              "#9c179e"
             ],
             [
              0.4444444444444444,
              "#bd3786"
             ],
             [
              0.5555555555555556,
              "#d8576b"
             ],
             [
              0.6666666666666666,
              "#ed7953"
             ],
             [
              0.7777777777777778,
              "#fb9f3a"
             ],
             [
              0.8888888888888888,
              "#fdca26"
             ],
             [
              1,
              "#f0f921"
             ]
            ],
            "type": "histogram2d"
           }
          ],
          "histogram2dcontour": [
           {
            "colorbar": {
             "outlinewidth": 0,
             "ticks": ""
            },
            "colorscale": [
             [
              0,
              "#0d0887"
             ],
             [
              0.1111111111111111,
              "#46039f"
             ],
             [
              0.2222222222222222,
              "#7201a8"
             ],
             [
              0.3333333333333333,
              "#9c179e"
             ],
             [
              0.4444444444444444,
              "#bd3786"
             ],
             [
              0.5555555555555556,
              "#d8576b"
             ],
             [
              0.6666666666666666,
              "#ed7953"
             ],
             [
              0.7777777777777778,
              "#fb9f3a"
             ],
             [
              0.8888888888888888,
              "#fdca26"
             ],
             [
              1,
              "#f0f921"
             ]
            ],
            "type": "histogram2dcontour"
           }
          ],
          "mesh3d": [
           {
            "colorbar": {
             "outlinewidth": 0,
             "ticks": ""
            },
            "type": "mesh3d"
           }
          ],
          "parcoords": [
           {
            "line": {
             "colorbar": {
              "outlinewidth": 0,
              "ticks": ""
             }
            },
            "type": "parcoords"
           }
          ],
          "pie": [
           {
            "automargin": true,
            "type": "pie"
           }
          ],
          "scatter": [
           {
            "fillpattern": {
             "fillmode": "overlay",
             "size": 10,
             "solidity": 0.2
            },
            "type": "scatter"
           }
          ],
          "scatter3d": [
           {
            "line": {
             "colorbar": {
              "outlinewidth": 0,
              "ticks": ""
             }
            },
            "marker": {
             "colorbar": {
              "outlinewidth": 0,
              "ticks": ""
             }
            },
            "type": "scatter3d"
           }
          ],
          "scattercarpet": [
           {
            "marker": {
             "colorbar": {
              "outlinewidth": 0,
              "ticks": ""
             }
            },
            "type": "scattercarpet"
           }
          ],
          "scattergeo": [
           {
            "marker": {
             "colorbar": {
              "outlinewidth": 0,
              "ticks": ""
             }
            },
            "type": "scattergeo"
           }
          ],
          "scattergl": [
           {
            "marker": {
             "colorbar": {
              "outlinewidth": 0,
              "ticks": ""
             }
            },
            "type": "scattergl"
           }
          ],
          "scattermap": [
           {
            "marker": {
             "colorbar": {
              "outlinewidth": 0,
              "ticks": ""
             }
            },
            "type": "scattermap"
           }
          ],
          "scattermapbox": [
           {
            "marker": {
             "colorbar": {
              "outlinewidth": 0,
              "ticks": ""
             }
            },
            "type": "scattermapbox"
           }
          ],
          "scatterpolar": [
           {
            "marker": {
             "colorbar": {
              "outlinewidth": 0,
              "ticks": ""
             }
            },
            "type": "scatterpolar"
           }
          ],
          "scatterpolargl": [
           {
            "marker": {
             "colorbar": {
              "outlinewidth": 0,
              "ticks": ""
             }
            },
            "type": "scatterpolargl"
           }
          ],
          "scatterternary": [
           {
            "marker": {
             "colorbar": {
              "outlinewidth": 0,
              "ticks": ""
             }
            },
            "type": "scatterternary"
           }
          ],
          "surface": [
           {
            "colorbar": {
             "outlinewidth": 0,
             "ticks": ""
            },
            "colorscale": [
             [
              0,
              "#0d0887"
             ],
             [
              0.1111111111111111,
              "#46039f"
             ],
             [
              0.2222222222222222,
              "#7201a8"
             ],
             [
              0.3333333333333333,
              "#9c179e"
             ],
             [
              0.4444444444444444,
              "#bd3786"
             ],
             [
              0.5555555555555556,
              "#d8576b"
             ],
             [
              0.6666666666666666,
              "#ed7953"
             ],
             [
              0.7777777777777778,
              "#fb9f3a"
             ],
             [
              0.8888888888888888,
              "#fdca26"
             ],
             [
              1,
              "#f0f921"
             ]
            ],
            "type": "surface"
           }
          ],
          "table": [
           {
            "cells": {
             "fill": {
              "color": "#EBF0F8"
             },
             "line": {
              "color": "white"
             }
            },
            "header": {
             "fill": {
              "color": "#C8D4E3"
             },
             "line": {
              "color": "white"
             }
            },
            "type": "table"
           }
          ]
         },
         "layout": {
          "annotationdefaults": {
           "arrowcolor": "#2a3f5f",
           "arrowhead": 0,
           "arrowwidth": 1
          },
          "autotypenumbers": "strict",
          "coloraxis": {
           "colorbar": {
            "outlinewidth": 0,
            "ticks": ""
           }
          },
          "colorscale": {
           "diverging": [
            [
             0,
             "#8e0152"
            ],
            [
             0.1,
             "#c51b7d"
            ],
            [
             0.2,
             "#de77ae"
            ],
            [
             0.3,
             "#f1b6da"
            ],
            [
             0.4,
             "#fde0ef"
            ],
            [
             0.5,
             "#f7f7f7"
            ],
            [
             0.6,
             "#e6f5d0"
            ],
            [
             0.7,
             "#b8e186"
            ],
            [
             0.8,
             "#7fbc41"
            ],
            [
             0.9,
             "#4d9221"
            ],
            [
             1,
             "#276419"
            ]
           ],
           "sequential": [
            [
             0,
             "#0d0887"
            ],
            [
             0.1111111111111111,
             "#46039f"
            ],
            [
             0.2222222222222222,
             "#7201a8"
            ],
            [
             0.3333333333333333,
             "#9c179e"
            ],
            [
             0.4444444444444444,
             "#bd3786"
            ],
            [
             0.5555555555555556,
             "#d8576b"
            ],
            [
             0.6666666666666666,
             "#ed7953"
            ],
            [
             0.7777777777777778,
             "#fb9f3a"
            ],
            [
             0.8888888888888888,
             "#fdca26"
            ],
            [
             1,
             "#f0f921"
            ]
           ],
           "sequentialminus": [
            [
             0,
             "#0d0887"
            ],
            [
             0.1111111111111111,
             "#46039f"
            ],
            [
             0.2222222222222222,
             "#7201a8"
            ],
            [
             0.3333333333333333,
             "#9c179e"
            ],
            [
             0.4444444444444444,
             "#bd3786"
            ],
            [
             0.5555555555555556,
             "#d8576b"
            ],
            [
             0.6666666666666666,
             "#ed7953"
            ],
            [
             0.7777777777777778,
             "#fb9f3a"
            ],
            [
             0.8888888888888888,
             "#fdca26"
            ],
            [
             1,
             "#f0f921"
            ]
           ]
          },
          "colorway": [
           "#636efa",
           "#EF553B",
           "#00cc96",
           "#ab63fa",
           "#FFA15A",
           "#19d3f3",
           "#FF6692",
           "#B6E880",
           "#FF97FF",
           "#FECB52"
          ],
          "font": {
           "color": "#2a3f5f"
          },
          "geo": {
           "bgcolor": "white",
           "lakecolor": "white",
           "landcolor": "#E5ECF6",
           "showlakes": true,
           "showland": true,
           "subunitcolor": "white"
          },
          "hoverlabel": {
           "align": "left"
          },
          "hovermode": "closest",
          "mapbox": {
           "style": "light"
          },
          "paper_bgcolor": "white",
          "plot_bgcolor": "#E5ECF6",
          "polar": {
           "angularaxis": {
            "gridcolor": "white",
            "linecolor": "white",
            "ticks": ""
           },
           "bgcolor": "#E5ECF6",
           "radialaxis": {
            "gridcolor": "white",
            "linecolor": "white",
            "ticks": ""
           }
          },
          "scene": {
           "xaxis": {
            "backgroundcolor": "#E5ECF6",
            "gridcolor": "white",
            "gridwidth": 2,
            "linecolor": "white",
            "showbackground": true,
            "ticks": "",
            "zerolinecolor": "white"
           },
           "yaxis": {
            "backgroundcolor": "#E5ECF6",
            "gridcolor": "white",
            "gridwidth": 2,
            "linecolor": "white",
            "showbackground": true,
            "ticks": "",
            "zerolinecolor": "white"
           },
           "zaxis": {
            "backgroundcolor": "#E5ECF6",
            "gridcolor": "white",
            "gridwidth": 2,
            "linecolor": "white",
            "showbackground": true,
            "ticks": "",
            "zerolinecolor": "white"
           }
          },
          "shapedefaults": {
           "line": {
            "color": "#2a3f5f"
           }
          },
          "ternary": {
           "aaxis": {
            "gridcolor": "white",
            "linecolor": "white",
            "ticks": ""
           },
           "baxis": {
            "gridcolor": "white",
            "linecolor": "white",
            "ticks": ""
           },
           "bgcolor": "#E5ECF6",
           "caxis": {
            "gridcolor": "white",
            "linecolor": "white",
            "ticks": ""
           }
          },
          "title": {
           "x": 0.05
          },
          "xaxis": {
           "automargin": true,
           "gridcolor": "white",
           "linecolor": "white",
           "ticks": "",
           "title": {
            "standoff": 15
           },
           "zerolinecolor": "white",
           "zerolinewidth": 2
          },
          "yaxis": {
           "automargin": true,
           "gridcolor": "white",
           "linecolor": "white",
           "ticks": "",
           "title": {
            "standoff": 15
           },
           "zerolinecolor": "white",
           "zerolinewidth": 2
          }
         }
        },
        "title": {
         "text": "Depression Rations and Total Instances"
        }
       }
      }
     },
     "metadata": {},
     "output_type": "display_data"
    }
   ],
   "source": [
    "fig = px.scatter_map(combined_aggregation, lat=\"lat\", lon=\"long\", size=\"total_instances\",\n",
    "                     color=\"depression_ratio\", title=\"Depression Rations and Total Instances\", labels={\"city\":\"City\"}, color_continuous_scale=\"Bluered\")\n",
    "fig.update_geos(fitbounds=\"locations\")\n",
    "fig.show()"
   ]
  },
  {
   "cell_type": "markdown",
   "id": "583280a5",
   "metadata": {},
   "source": [
    "* So visually we don't see any significant cluster,lets check the measures of central tendancy to identify any patterns. "
   ]
  },
  {
   "cell_type": "code",
   "execution_count": 52,
   "id": "16514481",
   "metadata": {},
   "outputs": [
    {
     "data": {
      "application/vnd.microsoft.datawrangler.viewer.v0+json": {
       "columns": [
        {
         "name": "index",
         "rawType": "object",
         "type": "string"
        },
        {
         "name": "depression_ratio",
         "rawType": "float64",
         "type": "float"
        }
       ],
       "ref": "4fd78d02-0ed7-4ece-a09c-95a021da2cb7",
       "rows": [
        [
         "count",
         "32.0"
        ],
        [
         "mean",
         "0.5783379922329055"
        ],
        [
         "std",
         "0.1334368324152911"
        ],
        [
         "min",
         "0.0"
        ],
        [
         "25%",
         "0.5534784277177786"
        ],
        [
         "50%",
         "0.5850171751869064"
        ],
        [
         "75%",
         "0.6129083587711892"
        ],
        [
         "max",
         "1.0"
        ]
       ],
       "shape": {
        "columns": 1,
        "rows": 8
       }
      },
      "text/plain": [
       "count    32.000000\n",
       "mean      0.578338\n",
       "std       0.133437\n",
       "min       0.000000\n",
       "25%       0.553478\n",
       "50%       0.585017\n",
       "75%       0.612908\n",
       "max       1.000000\n",
       "Name: depression_ratio, dtype: float64"
      ]
     },
     "execution_count": 52,
     "metadata": {},
     "output_type": "execute_result"
    }
   ],
   "source": [
    "combined_aggregation[\"depression_ratio\"].describe()"
   ]
  },
  {
   "cell_type": "code",
   "execution_count": 53,
   "id": "a151ab88",
   "metadata": {},
   "outputs": [
    {
     "data": {
      "application/vnd.plotly.v1+json": {
       "config": {
        "plotlyServerURL": "https://plot.ly"
       },
       "data": [
        {
         "customdata": {
          "bdata": "BAUxBCcEEgSvA44DegNgA1ADSgNIAzcD+wLvAuwC7ALDApQCeQJxAloCTAIzAjECJgIVAgcC7QHEAX0BAQABAA==",
          "dtype": "i2",
          "shape": "32, 1"
         },
         "hovertemplate": "city=%{x}<br>depression_ratio=%{y}<br>total_instances=%{customdata[0]}<extra></extra>",
         "legendgroup": "",
         "marker": {
          "color": "#636efa",
          "pattern": {
           "shape": ""
          }
         },
         "name": "",
         "orientation": "v",
         "showlegend": false,
         "textposition": "auto",
         "type": "bar",
         "x": [
          "kalyan",
          "srinagar",
          "hyderabad",
          "vasai-virar",
          "lucknow",
          "thane",
          "kolkata",
          "agra",
          "ludhiana",
          "surat",
          "jaipur",
          "patna",
          "visakhapatnam",
          "pune",
          "ahmedabad",
          "bhopal",
          "chennai",
          "meerut",
          "rajkot",
          "bangalore",
          "delhi",
          "ghaziabad",
          "mumbai",
          "vadodara",
          "varanasi",
          "nagpur",
          "indore",
          "kanpur",
          "nashik",
          "faridabad",
          "mira",
          "nandini"
         ],
         "xaxis": "x",
         "y": {
          "bdata": "/oEdG14K4z/S7sfaW6/hP3MOnMipKeU/0NHtPGSU4j8v7IahY7/hP7Mu67Iu6+I/OjcgaKeh4z9VVVVVVVXhPxhvZZ9DauI/vvs687DZ4j9pjdZojdbgP4EnB9/lS+Q/NB95FUDz4T/FMXJfmM/hPxdddNFFF+U/2pN8H6vZ4z9pytvLL9TiPw5r37D2DeM/0rgvWun34z8eFmpN847jP+6IO+KOuOM/p+DlFLyc4j+/OXtLPq3hP8wRKYb6y+E/ZYFXFnhl4T/HHTorjnjhPxJEWi9gm+M/GSvBPFe44T/TUwsrPbXgP7lcLpfL5eI/AAAAAAAA8D8AAAAAAAAAAA==",
          "dtype": "f8"
         },
         "yaxis": "y"
        }
       ],
       "layout": {
        "barmode": "relative",
        "legend": {
         "tracegroupgap": 0
        },
        "margin": {
         "t": 60
        },
        "template": {
         "data": {
          "bar": [
           {
            "error_x": {
             "color": "#2a3f5f"
            },
            "error_y": {
             "color": "#2a3f5f"
            },
            "marker": {
             "line": {
              "color": "#E5ECF6",
              "width": 0.5
             },
             "pattern": {
              "fillmode": "overlay",
              "size": 10,
              "solidity": 0.2
             }
            },
            "type": "bar"
           }
          ],
          "barpolar": [
           {
            "marker": {
             "line": {
              "color": "#E5ECF6",
              "width": 0.5
             },
             "pattern": {
              "fillmode": "overlay",
              "size": 10,
              "solidity": 0.2
             }
            },
            "type": "barpolar"
           }
          ],
          "carpet": [
           {
            "aaxis": {
             "endlinecolor": "#2a3f5f",
             "gridcolor": "white",
             "linecolor": "white",
             "minorgridcolor": "white",
             "startlinecolor": "#2a3f5f"
            },
            "baxis": {
             "endlinecolor": "#2a3f5f",
             "gridcolor": "white",
             "linecolor": "white",
             "minorgridcolor": "white",
             "startlinecolor": "#2a3f5f"
            },
            "type": "carpet"
           }
          ],
          "choropleth": [
           {
            "colorbar": {
             "outlinewidth": 0,
             "ticks": ""
            },
            "type": "choropleth"
           }
          ],
          "contour": [
           {
            "colorbar": {
             "outlinewidth": 0,
             "ticks": ""
            },
            "colorscale": [
             [
              0,
              "#0d0887"
             ],
             [
              0.1111111111111111,
              "#46039f"
             ],
             [
              0.2222222222222222,
              "#7201a8"
             ],
             [
              0.3333333333333333,
              "#9c179e"
             ],
             [
              0.4444444444444444,
              "#bd3786"
             ],
             [
              0.5555555555555556,
              "#d8576b"
             ],
             [
              0.6666666666666666,
              "#ed7953"
             ],
             [
              0.7777777777777778,
              "#fb9f3a"
             ],
             [
              0.8888888888888888,
              "#fdca26"
             ],
             [
              1,
              "#f0f921"
             ]
            ],
            "type": "contour"
           }
          ],
          "contourcarpet": [
           {
            "colorbar": {
             "outlinewidth": 0,
             "ticks": ""
            },
            "type": "contourcarpet"
           }
          ],
          "heatmap": [
           {
            "colorbar": {
             "outlinewidth": 0,
             "ticks": ""
            },
            "colorscale": [
             [
              0,
              "#0d0887"
             ],
             [
              0.1111111111111111,
              "#46039f"
             ],
             [
              0.2222222222222222,
              "#7201a8"
             ],
             [
              0.3333333333333333,
              "#9c179e"
             ],
             [
              0.4444444444444444,
              "#bd3786"
             ],
             [
              0.5555555555555556,
              "#d8576b"
             ],
             [
              0.6666666666666666,
              "#ed7953"
             ],
             [
              0.7777777777777778,
              "#fb9f3a"
             ],
             [
              0.8888888888888888,
              "#fdca26"
             ],
             [
              1,
              "#f0f921"
             ]
            ],
            "type": "heatmap"
           }
          ],
          "histogram": [
           {
            "marker": {
             "pattern": {
              "fillmode": "overlay",
              "size": 10,
              "solidity": 0.2
             }
            },
            "type": "histogram"
           }
          ],
          "histogram2d": [
           {
            "colorbar": {
             "outlinewidth": 0,
             "ticks": ""
            },
            "colorscale": [
             [
              0,
              "#0d0887"
             ],
             [
              0.1111111111111111,
              "#46039f"
             ],
             [
              0.2222222222222222,
              "#7201a8"
             ],
             [
              0.3333333333333333,
              "#9c179e"
             ],
             [
              0.4444444444444444,
              "#bd3786"
             ],
             [
              0.5555555555555556,
              "#d8576b"
             ],
             [
              0.6666666666666666,
              "#ed7953"
             ],
             [
              0.7777777777777778,
              "#fb9f3a"
             ],
             [
              0.8888888888888888,
              "#fdca26"
             ],
             [
              1,
              "#f0f921"
             ]
            ],
            "type": "histogram2d"
           }
          ],
          "histogram2dcontour": [
           {
            "colorbar": {
             "outlinewidth": 0,
             "ticks": ""
            },
            "colorscale": [
             [
              0,
              "#0d0887"
             ],
             [
              0.1111111111111111,
              "#46039f"
             ],
             [
              0.2222222222222222,
              "#7201a8"
             ],
             [
              0.3333333333333333,
              "#9c179e"
             ],
             [
              0.4444444444444444,
              "#bd3786"
             ],
             [
              0.5555555555555556,
              "#d8576b"
             ],
             [
              0.6666666666666666,
              "#ed7953"
             ],
             [
              0.7777777777777778,
              "#fb9f3a"
             ],
             [
              0.8888888888888888,
              "#fdca26"
             ],
             [
              1,
              "#f0f921"
             ]
            ],
            "type": "histogram2dcontour"
           }
          ],
          "mesh3d": [
           {
            "colorbar": {
             "outlinewidth": 0,
             "ticks": ""
            },
            "type": "mesh3d"
           }
          ],
          "parcoords": [
           {
            "line": {
             "colorbar": {
              "outlinewidth": 0,
              "ticks": ""
             }
            },
            "type": "parcoords"
           }
          ],
          "pie": [
           {
            "automargin": true,
            "type": "pie"
           }
          ],
          "scatter": [
           {
            "fillpattern": {
             "fillmode": "overlay",
             "size": 10,
             "solidity": 0.2
            },
            "type": "scatter"
           }
          ],
          "scatter3d": [
           {
            "line": {
             "colorbar": {
              "outlinewidth": 0,
              "ticks": ""
             }
            },
            "marker": {
             "colorbar": {
              "outlinewidth": 0,
              "ticks": ""
             }
            },
            "type": "scatter3d"
           }
          ],
          "scattercarpet": [
           {
            "marker": {
             "colorbar": {
              "outlinewidth": 0,
              "ticks": ""
             }
            },
            "type": "scattercarpet"
           }
          ],
          "scattergeo": [
           {
            "marker": {
             "colorbar": {
              "outlinewidth": 0,
              "ticks": ""
             }
            },
            "type": "scattergeo"
           }
          ],
          "scattergl": [
           {
            "marker": {
             "colorbar": {
              "outlinewidth": 0,
              "ticks": ""
             }
            },
            "type": "scattergl"
           }
          ],
          "scattermap": [
           {
            "marker": {
             "colorbar": {
              "outlinewidth": 0,
              "ticks": ""
             }
            },
            "type": "scattermap"
           }
          ],
          "scattermapbox": [
           {
            "marker": {
             "colorbar": {
              "outlinewidth": 0,
              "ticks": ""
             }
            },
            "type": "scattermapbox"
           }
          ],
          "scatterpolar": [
           {
            "marker": {
             "colorbar": {
              "outlinewidth": 0,
              "ticks": ""
             }
            },
            "type": "scatterpolar"
           }
          ],
          "scatterpolargl": [
           {
            "marker": {
             "colorbar": {
              "outlinewidth": 0,
              "ticks": ""
             }
            },
            "type": "scatterpolargl"
           }
          ],
          "scatterternary": [
           {
            "marker": {
             "colorbar": {
              "outlinewidth": 0,
              "ticks": ""
             }
            },
            "type": "scatterternary"
           }
          ],
          "surface": [
           {
            "colorbar": {
             "outlinewidth": 0,
             "ticks": ""
            },
            "colorscale": [
             [
              0,
              "#0d0887"
             ],
             [
              0.1111111111111111,
              "#46039f"
             ],
             [
              0.2222222222222222,
              "#7201a8"
             ],
             [
              0.3333333333333333,
              "#9c179e"
             ],
             [
              0.4444444444444444,
              "#bd3786"
             ],
             [
              0.5555555555555556,
              "#d8576b"
             ],
             [
              0.6666666666666666,
              "#ed7953"
             ],
             [
              0.7777777777777778,
              "#fb9f3a"
             ],
             [
              0.8888888888888888,
              "#fdca26"
             ],
             [
              1,
              "#f0f921"
             ]
            ],
            "type": "surface"
           }
          ],
          "table": [
           {
            "cells": {
             "fill": {
              "color": "#EBF0F8"
             },
             "line": {
              "color": "white"
             }
            },
            "header": {
             "fill": {
              "color": "#C8D4E3"
             },
             "line": {
              "color": "white"
             }
            },
            "type": "table"
           }
          ]
         },
         "layout": {
          "annotationdefaults": {
           "arrowcolor": "#2a3f5f",
           "arrowhead": 0,
           "arrowwidth": 1
          },
          "autotypenumbers": "strict",
          "coloraxis": {
           "colorbar": {
            "outlinewidth": 0,
            "ticks": ""
           }
          },
          "colorscale": {
           "diverging": [
            [
             0,
             "#8e0152"
            ],
            [
             0.1,
             "#c51b7d"
            ],
            [
             0.2,
             "#de77ae"
            ],
            [
             0.3,
             "#f1b6da"
            ],
            [
             0.4,
             "#fde0ef"
            ],
            [
             0.5,
             "#f7f7f7"
            ],
            [
             0.6,
             "#e6f5d0"
            ],
            [
             0.7,
             "#b8e186"
            ],
            [
             0.8,
             "#7fbc41"
            ],
            [
             0.9,
             "#4d9221"
            ],
            [
             1,
             "#276419"
            ]
           ],
           "sequential": [
            [
             0,
             "#0d0887"
            ],
            [
             0.1111111111111111,
             "#46039f"
            ],
            [
             0.2222222222222222,
             "#7201a8"
            ],
            [
             0.3333333333333333,
             "#9c179e"
            ],
            [
             0.4444444444444444,
             "#bd3786"
            ],
            [
             0.5555555555555556,
             "#d8576b"
            ],
            [
             0.6666666666666666,
             "#ed7953"
            ],
            [
             0.7777777777777778,
             "#fb9f3a"
            ],
            [
             0.8888888888888888,
             "#fdca26"
            ],
            [
             1,
             "#f0f921"
            ]
           ],
           "sequentialminus": [
            [
             0,
             "#0d0887"
            ],
            [
             0.1111111111111111,
             "#46039f"
            ],
            [
             0.2222222222222222,
             "#7201a8"
            ],
            [
             0.3333333333333333,
             "#9c179e"
            ],
            [
             0.4444444444444444,
             "#bd3786"
            ],
            [
             0.5555555555555556,
             "#d8576b"
            ],
            [
             0.6666666666666666,
             "#ed7953"
            ],
            [
             0.7777777777777778,
             "#fb9f3a"
            ],
            [
             0.8888888888888888,
             "#fdca26"
            ],
            [
             1,
             "#f0f921"
            ]
           ]
          },
          "colorway": [
           "#636efa",
           "#EF553B",
           "#00cc96",
           "#ab63fa",
           "#FFA15A",
           "#19d3f3",
           "#FF6692",
           "#B6E880",
           "#FF97FF",
           "#FECB52"
          ],
          "font": {
           "color": "#2a3f5f"
          },
          "geo": {
           "bgcolor": "white",
           "lakecolor": "white",
           "landcolor": "#E5ECF6",
           "showlakes": true,
           "showland": true,
           "subunitcolor": "white"
          },
          "hoverlabel": {
           "align": "left"
          },
          "hovermode": "closest",
          "mapbox": {
           "style": "light"
          },
          "paper_bgcolor": "white",
          "plot_bgcolor": "#E5ECF6",
          "polar": {
           "angularaxis": {
            "gridcolor": "white",
            "linecolor": "white",
            "ticks": ""
           },
           "bgcolor": "#E5ECF6",
           "radialaxis": {
            "gridcolor": "white",
            "linecolor": "white",
            "ticks": ""
           }
          },
          "scene": {
           "xaxis": {
            "backgroundcolor": "#E5ECF6",
            "gridcolor": "white",
            "gridwidth": 2,
            "linecolor": "white",
            "showbackground": true,
            "ticks": "",
            "zerolinecolor": "white"
           },
           "yaxis": {
            "backgroundcolor": "#E5ECF6",
            "gridcolor": "white",
            "gridwidth": 2,
            "linecolor": "white",
            "showbackground": true,
            "ticks": "",
            "zerolinecolor": "white"
           },
           "zaxis": {
            "backgroundcolor": "#E5ECF6",
            "gridcolor": "white",
            "gridwidth": 2,
            "linecolor": "white",
            "showbackground": true,
            "ticks": "",
            "zerolinecolor": "white"
           }
          },
          "shapedefaults": {
           "line": {
            "color": "#2a3f5f"
           }
          },
          "ternary": {
           "aaxis": {
            "gridcolor": "white",
            "linecolor": "white",
            "ticks": ""
           },
           "baxis": {
            "gridcolor": "white",
            "linecolor": "white",
            "ticks": ""
           },
           "bgcolor": "#E5ECF6",
           "caxis": {
            "gridcolor": "white",
            "linecolor": "white",
            "ticks": ""
           }
          },
          "title": {
           "x": 0.05
          },
          "xaxis": {
           "automargin": true,
           "gridcolor": "white",
           "linecolor": "white",
           "ticks": "",
           "title": {
            "standoff": 15
           },
           "zerolinecolor": "white",
           "zerolinewidth": 2
          },
          "yaxis": {
           "automargin": true,
           "gridcolor": "white",
           "linecolor": "white",
           "ticks": "",
           "title": {
            "standoff": 15
           },
           "zerolinecolor": "white",
           "zerolinewidth": 2
          }
         }
        },
        "xaxis": {
         "anchor": "y",
         "domain": [
          0,
          1
         ],
         "title": {
          "text": "city"
         }
        },
        "yaxis": {
         "anchor": "x",
         "domain": [
          0,
          1
         ],
         "title": {
          "text": "depression_ratio"
         }
        }
       }
      }
     },
     "metadata": {},
     "output_type": "display_data"
    }
   ],
   "source": [
    "fig = px.bar(combined_aggregation.sort_values(by=\"total_instances\", ascending=False),x=\"city\",y=\"depression_ratio\", hover_data=[\"total_instances\"])\n",
    "fig.show()"
   ]
  },
  {
   "cell_type": "markdown",
   "id": "e2e88b79",
   "metadata": {},
   "source": [
    "* As suspected, more or less the ratio is same for all the cities. The locations where the value is 1, are mostly invalid cities or cities with 1 or 2 instances. \n",
    "* The city depression ratio has very less variance so it might not contribute to the ML training, but we'll experiment with the feature to confirm. \n",
    "* We'll create the following 2 new features,\n",
    "    * `city_depression_ratio` which we'll map to each instance of dataset and will set it to the median value for in valid cities or any cities we can't verify. \n",
    "    * `cluster_similarity` we'll use KMeans and RBF Kernel to create n clusters and add correnponding `cluster_similarity` features to each instance of dataset. For invalid cities we'll be using `Nagpur` for similarity."
   ]
  },
  {
   "cell_type": "markdown",
   "id": "d5424736",
   "metadata": {},
   "source": [
    "#### Feature Engineering `city_depression_ratio` "
   ]
  },
  {
   "cell_type": "markdown",
   "id": "01010a4c",
   "metadata": {},
   "source": [
    "Observations:\n",
    "* So after playing around with the code below, there are few considerations we overlooked. \n",
    "    * We'll need to combine this with the `city` column pipeline since we either need the `lat`,`long` feature to calculate the aggregation, or we need the clean city list to calculate the same. \n",
    "    * We can pre-calculate the city depression ratio map, but we'll still need either clean city names or `lat`, `long` to help map the values. \n",
    "* We'll need to refactor our `city` column preprocessor and combine all the preprocessing in one class."
   ]
  },
  {
   "cell_type": "markdown",
   "id": "bc79d660",
   "metadata": {},
   "source": [
    "### Refactoring City Column Pipeline\n",
    "* We are going to split the pipeline into following parts,\n",
    "    * Default categorical cleanup\n",
    "    * Default functions : clean city values, rename old city names\n",
    "    * City transformation class `ComprehensiveCityProcessor` : map city names to is_valid_city, lat,long, city_depression_ratio\n",
    "    * Class for clustering and similarity calculation."
   ]
  },
  {
   "cell_type": "markdown",
   "id": "3d16ca42",
   "metadata": {},
   "source": [
    "#### ComprehensiveCityProcessor"
   ]
  },
  {
   "cell_type": "code",
   "execution_count": 57,
   "id": "6be5ab83",
   "metadata": {},
   "outputs": [],
   "source": [
    "# helper function to clean up city column and remove special characters\n",
    "def clean_city_fn(df):\n",
    "    if not isinstance(df, pd.DataFrame):\n",
    "        raise ValueError(\n",
    "            \"degree_clean_fn : Input must be a pandas DataFrame\")\n",
    "    df_copy = df.copy()\n",
    "    df_copy[\"city\"] = df_copy[\"city\"].str.strip(\"'\")\n",
    "    return df_copy\n",
    "\n",
    "clean_city = FunctionTransformer(clean_city_fn, feature_names_out=\"one-to-one\")\n",
    "\n",
    "## helper function to rename old city names to new ones\n",
    "def rename_city_fn(df):\n",
    "    if not isinstance(df, pd.DataFrame):\n",
    "        raise ValueError(\n",
    "            \"degree_clean_fn : Input must be a pandas DataFrame\")\n",
    "    df_copy = df.copy()\n",
    "    df_copy.loc[df_copy[\"city\"] == \"vasai-virar\",\"city\"] = \"virar\"\n",
    "    df_copy.loc[df_copy[\"city\"] == \"bangalore\",\"city\"] = \"bengaluru\"\n",
    "    return df_copy\n",
    "\n",
    "rename_city = FunctionTransformer(rename_city_fn, feature_names_out=\"one-to-one\")\n",
    "\n",
    "# helper function that maps city names to default values of is_valid_city = 0, lat/long of Nagpur\n",
    "def map_city_feature_names(function_transformer, feature_names_in):\n",
    "    features_out = feature_names_in.tolist()\n",
    "    features_out.extend([\"is_valid_city\",\"lat\", \"long\"])\n",
    "    return features_out\n",
    "\n",
    "def map_city_fn(df):\n",
    "    if not isinstance(df, pd.DataFrame):\n",
    "        raise ValueError(\n",
    "            \"degree_clean_fn : Input must be a pandas DataFrame\")\n",
    "    df_copy = df.copy()\n",
    "    df_copy[\"is_valid_city\"] = 0\n",
    "    df_copy[\"lat\"] = 21.122615\n",
    "    df_copy[\"long\"] = 79.041124\n",
    "    return df_copy\n",
    "\n",
    "map_city = FunctionTransformer(map_city_fn, feature_names_out=map_city_feature_names)\n",
    "\n",
    "# helper function that compares and verifies the city name and if its a valid city then updates the lat/long value\n",
    "def map_city_data(city_name):\n",
    "    ## search for city name in master city lsit\n",
    "    city_data = master_city_list.loc[master_city_list[\"name\"] == city_name]\n",
    "    ## if city exists then return valid info\n",
    "    if city_data.shape[0] > 0:\n",
    "        return (1, city_data[\"lat\"].values[0],city_data[\"long\"].values[0])\n",
    "    ## if city doesn't exist the mark it as invalid and return default info\n",
    "    return 0,21.122615,79.041124\n",
    "    \n",
    "\n",
    "def verify_city_fn(df):\n",
    "    if not isinstance(df, pd.DataFrame):\n",
    "        raise ValueError(\n",
    "            \"degree_clean_fn : Input must be a pandas DataFrame\")\n",
    "    df_copy = df.copy()\n",
    "    unique_cities = df_copy[\"city\"].unique()\n",
    "    for unique_city in unique_cities:\n",
    "        is_valid_city,lat,long = map_city_data(unique_city)\n",
    "        df_copy.loc[df_copy[\"city\"] == unique_city, \"is_valid_city\"] = is_valid_city\n",
    "        df_copy.loc[df_copy[\"city\"] == unique_city, \"lat\"] = lat\n",
    "        df_copy.loc[df_copy[\"city\"] == unique_city, \"long\"] = long\n",
    "    return df_copy\n",
    "\n",
    "verify_city = FunctionTransformer(verify_city_fn, feature_names_out=\"one-to-one\")"
   ]
  },
  {
   "cell_type": "code",
   "execution_count": 58,
   "id": "197fa715",
   "metadata": {},
   "outputs": [
    {
     "data": {
      "application/vnd.microsoft.datawrangler.viewer.v0+json": {
       "columns": [
        {
         "name": "index",
         "rawType": "int64",
         "type": "integer"
        },
        {
         "name": "preprocessing_ccp__city",
         "rawType": "object",
         "type": "string"
        },
        {
         "name": "preprocessing_ccp__is_valid_city",
         "rawType": "int64",
         "type": "integer"
        },
        {
         "name": "preprocessing_ccp__lat",
         "rawType": "float64",
         "type": "float"
        },
        {
         "name": "preprocessing_ccp__long",
         "rawType": "float64",
         "type": "float"
        },
        {
         "name": "preprocessing_ccp__city_depression_ratio",
         "rawType": "float64",
         "type": "float"
        }
       ],
       "ref": "4ff1bc95-758e-4ec4-9231-dc774f88b192",
       "rows": [
        [
         "0",
         "jaipur",
         "1",
         "24.24446471698113",
         "83.04408339622641",
         "0.5261904761904762"
        ],
        [
         "1",
         "vadodara",
         "1",
         "22.239705",
         "73.16406",
         "0.5561497326203209"
        ],
        [
         "2",
         "ahmedabad",
         "1",
         "25.95781",
         "75.79308",
         "0.6590909090909091"
        ],
        [
         "3",
         "bhopal",
         "1",
         "24.6083575",
         "78.2747625",
         "0.6203208556149733"
        ],
        [
         "4",
         "patna",
         "1",
         "24.78272691588785",
         "81.02966046728972",
         "0.6342648845686513"
        ],
        [
         "5",
         "kolkata",
         "1",
         "22.55068",
         "88.36269",
         "0.6134831460674157"
        ],
        [
         "6",
         "kanpur",
         "1",
         "25.14110692307692",
         "78.08021769230768",
         "0.5537525354969574"
        ],
        [
         "7",
         "patna",
         "1",
         "24.78272691588785",
         "81.02966046728972",
         "0.6342648845686513"
        ],
        [
         "8",
         "ghaziabad",
         "1",
         "28.703573333333335",
         "77.43800333333333",
         "0.5816326530612245"
        ],
        [
         "9",
         "bhopal",
         "1",
         "24.6083575",
         "78.2747625",
         "0.6203208556149733"
        ],
        [
         "10",
         "kalyan",
         "1",
         "22.19001",
         "74.417618",
         "0.5950155763239875"
        ],
        [
         "11",
         "pune",
         "1",
         "18.51957",
         "73.85535",
         "0.5565912117177098"
        ],
        [
         "12",
         "jaipur",
         "1",
         "24.24446471698113",
         "83.04408339622641",
         "0.5261904761904762"
        ],
        [
         "13",
         "pune",
         "1",
         "18.51957",
         "73.85535",
         "0.5565912117177098"
        ],
        [
         "14",
         "srinagar",
         "1",
         "26.45468740740741",
         "81.74898888888889",
         "0.5526561043802423"
        ],
        [
         "15",
         "kalyan",
         "1",
         "22.19001",
         "74.417618",
         "0.5950155763239875"
        ],
        [
         "16",
         "srinagar",
         "1",
         "26.45468740740741",
         "81.74898888888889",
         "0.5526561043802423"
        ],
        [
         "17",
         "chennai",
         "1",
         "13.088375",
         "80.27165",
         "0.5884016973125884"
        ],
        [
         "18",
         "ludhiana",
         "1",
         "30.194058333333334",
         "75.91870999999999",
         "0.5754716981132075"
        ],
        [
         "19",
         "meerut",
         "1",
         "28.94197",
         "77.67892",
         "0.5954545454545455"
        ],
        [
         "20",
         "bhopal",
         "1",
         "24.6083575",
         "78.2747625",
         "0.6203208556149733"
        ],
        [
         "21",
         "lucknow",
         "1",
         "26.83928",
         "80.92313",
         "0.5546129374337222"
        ],
        [
         "22",
         "pune",
         "1",
         "18.51957",
         "73.85535",
         "0.5565912117177098"
        ],
        [
         "23",
         "surat",
         "1",
         "24.590876666666663",
         "74.26393666666667",
         "0.5890736342042755"
        ],
        [
         "24",
         "ghaziabad",
         "1",
         "28.703573333333335",
         "77.43800333333333",
         "0.5816326530612245"
        ],
        [
         "25",
         "chennai",
         "1",
         "13.088375",
         "80.27165",
         "0.5884016973125884"
        ],
        [
         "26",
         "kolkata",
         "1",
         "22.55068",
         "88.36269",
         "0.6134831460674157"
        ],
        [
         "27",
         "virar",
         "1",
         "19.45516",
         "72.81155",
         "0.5806142034548945"
        ],
        [
         "28",
         "kanpur",
         "1",
         "25.14110692307692",
         "78.08021769230768",
         "0.5537525354969574"
        ],
        [
         "29",
         "varanasi",
         "1",
         "23.168283333333335",
         "83.29391666666668",
         "0.5436363636363636"
        ],
        [
         "30",
         "varanasi",
         "1",
         "23.168283333333335",
         "83.29391666666668",
         "0.5436363636363636"
        ],
        [
         "31",
         "jaipur",
         "1",
         "24.24446471698113",
         "83.04408339622641",
         "0.5261904761904762"
        ],
        [
         "32",
         "ghaziabad",
         "1",
         "28.703573333333335",
         "77.43800333333333",
         "0.5816326530612245"
        ],
        [
         "33",
         "agra",
         "1",
         "24.748901176470586",
         "78.62162941176472",
         "0.5416666666666666"
        ],
        [
         "34",
         "srinagar",
         "1",
         "26.45468740740741",
         "81.74898888888889",
         "0.5526561043802423"
        ],
        [
         "35",
         "virar",
         "1",
         "19.45516",
         "72.81155",
         "0.5806142034548945"
        ],
        [
         "36",
         "srinagar",
         "1",
         "26.45468740740741",
         "81.74898888888889",
         "0.5526561043802423"
        ],
        [
         "37",
         "surat",
         "1",
         "24.590876666666663",
         "74.26393666666667",
         "0.5890736342042755"
        ],
        [
         "38",
         "nagpur",
         "1",
         "24.106",
         "80.40328642857142",
         "0.5459662288930581"
        ],
        [
         "39",
         "kanpur",
         "1",
         "25.14110692307692",
         "78.08021769230768",
         "0.5537525354969574"
        ],
        [
         "40",
         "virar",
         "1",
         "19.45516",
         "72.81155",
         "0.5806142034548945"
        ],
        [
         "41",
         "visakhapatnam",
         "1",
         "17.68009",
         "83.20161",
         "0.5609436435124509"
        ],
        [
         "42",
         "virar",
         "1",
         "19.45516",
         "72.81155",
         "0.5806142034548945"
        ],
        [
         "43",
         "bengaluru",
         "1",
         "12.97194",
         "77.59369",
         "0.6112"
        ],
        [
         "44",
         "kalyan",
         "1",
         "22.19001",
         "74.417618",
         "0.5950155763239875"
        ],
        [
         "45",
         "mumbai",
         "1",
         "19.001003333333333",
         "72.85267",
         "0.5523978685612788"
        ],
        [
         "46",
         "vadodara",
         "1",
         "22.239705",
         "73.16406",
         "0.5561497326203209"
        ],
        [
         "47",
         "bhopal",
         "1",
         "24.6083575",
         "78.2747625",
         "0.6203208556149733"
        ],
        [
         "48",
         "rajkot",
         "1",
         "23.99463857142857",
         "73.32686571428572",
         "0.6240126382306477"
        ],
        [
         "49",
         "ghaziabad",
         "1",
         "28.703573333333335",
         "77.43800333333333",
         "0.5816326530612245"
        ]
       ],
       "shape": {
        "columns": 5,
        "rows": 22320
       }
      },
      "text/html": [
       "<div>\n",
       "<style scoped>\n",
       "    .dataframe tbody tr th:only-of-type {\n",
       "        vertical-align: middle;\n",
       "    }\n",
       "\n",
       "    .dataframe tbody tr th {\n",
       "        vertical-align: top;\n",
       "    }\n",
       "\n",
       "    .dataframe thead th {\n",
       "        text-align: right;\n",
       "    }\n",
       "</style>\n",
       "<table border=\"1\" class=\"dataframe\">\n",
       "  <thead>\n",
       "    <tr style=\"text-align: right;\">\n",
       "      <th></th>\n",
       "      <th>preprocessing_ccp__city</th>\n",
       "      <th>preprocessing_ccp__is_valid_city</th>\n",
       "      <th>preprocessing_ccp__lat</th>\n",
       "      <th>preprocessing_ccp__long</th>\n",
       "      <th>preprocessing_ccp__city_depression_ratio</th>\n",
       "    </tr>\n",
       "  </thead>\n",
       "  <tbody>\n",
       "    <tr>\n",
       "      <th>0</th>\n",
       "      <td>jaipur</td>\n",
       "      <td>1</td>\n",
       "      <td>24.244465</td>\n",
       "      <td>83.044083</td>\n",
       "      <td>0.526190</td>\n",
       "    </tr>\n",
       "    <tr>\n",
       "      <th>1</th>\n",
       "      <td>vadodara</td>\n",
       "      <td>1</td>\n",
       "      <td>22.239705</td>\n",
       "      <td>73.164060</td>\n",
       "      <td>0.556150</td>\n",
       "    </tr>\n",
       "    <tr>\n",
       "      <th>2</th>\n",
       "      <td>ahmedabad</td>\n",
       "      <td>1</td>\n",
       "      <td>25.957810</td>\n",
       "      <td>75.793080</td>\n",
       "      <td>0.659091</td>\n",
       "    </tr>\n",
       "    <tr>\n",
       "      <th>3</th>\n",
       "      <td>bhopal</td>\n",
       "      <td>1</td>\n",
       "      <td>24.608358</td>\n",
       "      <td>78.274762</td>\n",
       "      <td>0.620321</td>\n",
       "    </tr>\n",
       "    <tr>\n",
       "      <th>4</th>\n",
       "      <td>patna</td>\n",
       "      <td>1</td>\n",
       "      <td>24.782727</td>\n",
       "      <td>81.029660</td>\n",
       "      <td>0.634265</td>\n",
       "    </tr>\n",
       "    <tr>\n",
       "      <th>...</th>\n",
       "      <td>...</td>\n",
       "      <td>...</td>\n",
       "      <td>...</td>\n",
       "      <td>...</td>\n",
       "      <td>...</td>\n",
       "    </tr>\n",
       "    <tr>\n",
       "      <th>22315</th>\n",
       "      <td>kolkata</td>\n",
       "      <td>1</td>\n",
       "      <td>22.550680</td>\n",
       "      <td>88.362690</td>\n",
       "      <td>0.613483</td>\n",
       "    </tr>\n",
       "    <tr>\n",
       "      <th>22316</th>\n",
       "      <td>patna</td>\n",
       "      <td>1</td>\n",
       "      <td>24.782727</td>\n",
       "      <td>81.029660</td>\n",
       "      <td>0.634265</td>\n",
       "    </tr>\n",
       "    <tr>\n",
       "      <th>22317</th>\n",
       "      <td>lucknow</td>\n",
       "      <td>1</td>\n",
       "      <td>26.839280</td>\n",
       "      <td>80.923130</td>\n",
       "      <td>0.554613</td>\n",
       "    </tr>\n",
       "    <tr>\n",
       "      <th>22318</th>\n",
       "      <td>kolkata</td>\n",
       "      <td>1</td>\n",
       "      <td>22.550680</td>\n",
       "      <td>88.362690</td>\n",
       "      <td>0.613483</td>\n",
       "    </tr>\n",
       "    <tr>\n",
       "      <th>22319</th>\n",
       "      <td>thane</td>\n",
       "      <td>1</td>\n",
       "      <td>19.227867</td>\n",
       "      <td>73.080563</td>\n",
       "      <td>0.591209</td>\n",
       "    </tr>\n",
       "  </tbody>\n",
       "</table>\n",
       "<p>22320 rows × 5 columns</p>\n",
       "</div>"
      ],
      "text/plain": [
       "      preprocessing_ccp__city  preprocessing_ccp__is_valid_city  \\\n",
       "0                      jaipur                                 1   \n",
       "1                    vadodara                                 1   \n",
       "2                   ahmedabad                                 1   \n",
       "3                      bhopal                                 1   \n",
       "4                       patna                                 1   \n",
       "...                       ...                               ...   \n",
       "22315                 kolkata                                 1   \n",
       "22316                   patna                                 1   \n",
       "22317                 lucknow                                 1   \n",
       "22318                 kolkata                                 1   \n",
       "22319                   thane                                 1   \n",
       "\n",
       "       preprocessing_ccp__lat  preprocessing_ccp__long  \\\n",
       "0                   24.244465                83.044083   \n",
       "1                   22.239705                73.164060   \n",
       "2                   25.957810                75.793080   \n",
       "3                   24.608358                78.274762   \n",
       "4                   24.782727                81.029660   \n",
       "...                       ...                      ...   \n",
       "22315               22.550680                88.362690   \n",
       "22316               24.782727                81.029660   \n",
       "22317               26.839280                80.923130   \n",
       "22318               22.550680                88.362690   \n",
       "22319               19.227867                73.080563   \n",
       "\n",
       "       preprocessing_ccp__city_depression_ratio  \n",
       "0                                      0.526190  \n",
       "1                                      0.556150  \n",
       "2                                      0.659091  \n",
       "3                                      0.620321  \n",
       "4                                      0.634265  \n",
       "...                                         ...  \n",
       "22315                                  0.613483  \n",
       "22316                                  0.634265  \n",
       "22317                                  0.554613  \n",
       "22318                                  0.613483  \n",
       "22319                                  0.591209  \n",
       "\n",
       "[22320 rows x 5 columns]"
      ]
     },
     "execution_count": 58,
     "metadata": {},
     "output_type": "execute_result"
    }
   ],
   "source": [
    "from sklearn.base import BaseEstimator, TransformerMixin\n",
    "\n",
    "\"\"\"\n",
    "For this transformer we'll assume that we'll get clean city names\n",
    "\"\"\"\n",
    "\n",
    "\n",
    "class ComprehensiveCityProcessor(BaseEstimator, TransformerMixin):\n",
    "    def __init__(self):\n",
    "        self.output_colums = [\"city_depression_ratio\"]\n",
    "        pass\n",
    "\n",
    "    \"\"\"\n",
    "        In the fit method, group by city names and create a city depression ratio map.\n",
    "        see implementation below\n",
    "    \"\"\"\n",
    "\n",
    "    def fit(self, X, y=None):\n",
    "        ## calculate the city depression ratios\n",
    "        combined_data = pd.concat([X, y], axis=1)\n",
    "        ## only  calculate the depression ratios for valid cities.\n",
    "        combined_aggregation = combined_data.loc[combined_data[\"is_valid_city\"] == 1].groupby([\"lat\",\"long\",\"city\"], as_index=False).agg(\n",
    "            # temp workaround to avoid using `city` column.\n",
    "            total_instances=(\"city\", \"count\"),\n",
    "            # ideally we should drop this column in previous step of the pipeline.\n",
    "            total_depression_count=(\"depression\", \"sum\")\n",
    "        )\n",
    "        combined_aggregation[\"total_non_depression_count\"] = combined_aggregation[\"total_instances\"] - \\\n",
    "            combined_aggregation[\"total_depression_count\"]\n",
    "        combined_aggregation[\"depression_ratio\"] = combined_aggregation[\"total_depression_count\"] / \\\n",
    "            combined_aggregation[\"total_instances\"]\n",
    "        ## set the mapping to use it during transformation\n",
    "        self.city_depression_ratio_map = combined_aggregation.set_index(\"city\")[\n",
    "            \"depression_ratio\"]\n",
    "        \n",
    "        ## save the median value to imputing\n",
    "        ## TODO: set it as parameter for future experimentation\n",
    "        self.city_depression_ratio_median = combined_aggregation[\"depression_ratio\"].median()\n",
    "        return self\n",
    "\n",
    "    \"\"\"\n",
    "        create following fields in X_copy\n",
    "        is_valid_city = default it to 0\n",
    "        lat = default it to nagpur lat\n",
    "        long = default it to nagpur long\n",
    "        city_depression_ratio\n",
    "        \n",
    "        After the values are set, fill in the values with median for now.         \n",
    "    \"\"\"\n",
    "\n",
    "    def transform(self, X, y=None):\n",
    "        X_copy = X.copy()\n",
    "        X_copy[\"city_depression_ratio\"] = np.nan\n",
    "        X_copy[\"city_depression_ratio\"] = X_copy[\"city\"].map(self.city_depression_ratio_map)\n",
    "        ## fill the city depression ration missing values with median\n",
    "        X_copy[\"city_depression_ratio\"] = X_copy[\"city_depression_ratio\"].fillna(self.city_depression_ratio_median)\n",
    "        return pd.DataFrame(X_copy)\n",
    "\n",
    "    def get_feature_names_out(self, input_features=None):\n",
    "        return input_features.extend(self.output_colums)\n",
    "\n",
    "\n",
    "ccp = ComprehensiveCityProcessor()\n",
    "\n",
    "\n",
    "ccp_pipeline = Pipeline([(\"default_cat_pipeline\", default_cat_pipeline),\n",
    "                         (\"city_clean\", clean_city),\n",
    "                         (\"rename_city\", rename_city),  (\"city_mapping\", map_city),\n",
    "                         (\"city_verification\", verify_city), (\"ccp_pipeline\", ccp)])\n",
    "\n",
    "\n",
    "preprocessing_ccp = ColumnTransformer([\n",
    "    (\"preprocessing_ccp\", ccp_pipeline, [\"city\"])\n",
    "])\n",
    "\n",
    "preprocessing_ccp.set_output(transform=\"pandas\")\n",
    "\n",
    "temp = preprocessing_ccp.fit_transform(X_train, y_train)\n",
    "temp"
   ]
  },
  {
   "cell_type": "code",
   "execution_count": 59,
   "id": "fa740fac",
   "metadata": {},
   "outputs": [
    {
     "data": {
      "application/vnd.microsoft.datawrangler.viewer.v0+json": {
       "columns": [
        {
         "name": "index",
         "rawType": "object",
         "type": "string"
        },
        {
         "name": "0",
         "rawType": "int64",
         "type": "integer"
        }
       ],
       "ref": "c88c6a7b-80c0-4cce-b83c-6e6209fef76c",
       "rows": [
        [
         "preprocessing_ccp__city",
         "0"
        ],
        [
         "preprocessing_ccp__is_valid_city",
         "0"
        ],
        [
         "preprocessing_ccp__lat",
         "0"
        ],
        [
         "preprocessing_ccp__long",
         "0"
        ],
        [
         "preprocessing_ccp__city_depression_ratio",
         "0"
        ]
       ],
       "shape": {
        "columns": 1,
        "rows": 5
       }
      },
      "text/plain": [
       "preprocessing_ccp__city                     0\n",
       "preprocessing_ccp__is_valid_city            0\n",
       "preprocessing_ccp__lat                      0\n",
       "preprocessing_ccp__long                     0\n",
       "preprocessing_ccp__city_depression_ratio    0\n",
       "dtype: int64"
      ]
     },
     "execution_count": 59,
     "metadata": {},
     "output_type": "execute_result"
    }
   ],
   "source": [
    "temp.isna().sum()\n"
   ]
  },
  {
   "cell_type": "code",
   "execution_count": null,
   "id": "ff687f90",
   "metadata": {},
   "outputs": [],
   "source": [
    "## pre-calculating the city_depression_ratio map, city => depression_ration. We need this to simplify the pipeline implementation for now. \n",
    "combined_data = pd.concat([updated_categories, y_train], axis=1)\n",
    "combined_aggregation = combined_data.loc[combined_data[\"is_valid_city\"] == 1].groupby([\"lat\", \"long\"],as_index=False).agg(\n",
    "    total_instances=(\"depression\",\"count\"), ## temp workaround to avoid using `city` column. \n",
    "    ## ideally we should drop this column in previous step of the pipeline. \n",
    "    total_depression_count=(\"depression\", \"sum\")\n",
    ")\n",
    "combined_aggregation[\"total_non_depression_count\"] = combined_aggregation[\"total_instances\"] - combined_aggregation[\"total_depression_count\"] \n",
    "combined_aggregation[\"depression_ratio\"] = combined_aggregation[\"total_depression_count\"] / combined_aggregation[\"total_instances\"]\n",
    "city_depression_ratio_map = combined_aggregation.set_index(\"city\")[\"depression_ratio\"]\n",
    "\n",
    "\n",
    "def map_city_depression_ratio_feature_names(function_transformer, feature_names_in):\n",
    "    features_out = feature_names_in.tolist()\n",
    "    features_out.extend([\"city_depression_ratio\"])\n",
    "    return features_out\n",
    "\n",
    "\n",
    "def calculate_city_depression_ratio_fn(df):\n",
    "    if not isinstance(df, pd.DataFrame):\n",
    "        raise ValueError(\"degree_mapping_fn: Input must be a pandas DataFrame\")\n",
    "    df_copy = df.copy()\n",
    "    ## default the city_depression_ratio to nan\n",
    "    df_copy[\"city_depression_ratio\"] = df_copy[\"city\"].map(city_depression_ratio_map)    \n",
    "    return df_copy\n",
    "\n",
    "calculate_city_depression_ratio = FunctionTransformer(calculate_city_depression_ratio_fn,feature_names_out=map_city_depression_ratio_feature_names)\n",
    "\n",
    "city_depression_ratio_pipeline = Pipeline([(\"calculate_city_depression_ratio\", calculate_city_depression_ratio)])\n",
    "\n",
    "preprocesss_city_depression = ColumnTransformer([\n",
    "    (\"city_depression_pipeline\", city_depression_ratio_pipeline, [\"city\",\"lat\",\"long\", \"is_valid_city\"])\n",
    "])\n"
   ]
  },
  {
   "cell_type": "code",
   "execution_count": null,
   "id": "d3cadab7",
   "metadata": {},
   "outputs": [],
   "source": [
    "temp = combined_aggregation.set_index([\"lat\",\"long\"])[\"depression_ratio\"]\n",
    "temp[(24.24446471698113, 83.04408339622641)]"
   ]
  },
  {
   "cell_type": "code",
   "execution_count": null,
   "id": "62fb26ff",
   "metadata": {},
   "outputs": [],
   "source": [
    "combined_data.loc[combined_data[\"is_valid_city\"] == 1].groupby([\"lat\", \"long\"],as_index=False).aggregate(\"count\")"
   ]
  },
  {
   "cell_type": "code",
   "execution_count": null,
   "id": "6caeb63d",
   "metadata": {},
   "outputs": [],
   "source": [
    "temp = preprocesss_city_depression.fit_transform(updated_categories)\n",
    "temp"
   ]
  },
  {
   "cell_type": "markdown",
   "id": "ea6ad0d4",
   "metadata": {},
   "source": [
    "## Preprocessing Numerical Data"
   ]
  },
  {
   "cell_type": "markdown",
   "id": "671989de",
   "metadata": {},
   "source": [
    "* In this section lets explore numerical data and create a list of preprocessing required."
   ]
  },
  {
   "cell_type": "code",
   "execution_count": null,
   "id": "0fac969f",
   "metadata": {},
   "outputs": [],
   "source": [
    "X_train.head()"
   ]
  },
  {
   "cell_type": "code",
   "execution_count": null,
   "id": "b8789d84",
   "metadata": {},
   "outputs": [],
   "source": [
    "X_train.select_dtypes(include=[\"float64\"])"
   ]
  },
  {
   "cell_type": "code",
   "execution_count": null,
   "id": "875baa33",
   "metadata": {},
   "outputs": [],
   "source": [
    "numerical_data = X_train.select_dtypes(include=[\"float64\"])\n",
    "numerical_data"
   ]
  },
  {
   "cell_type": "code",
   "execution_count": null,
   "id": "7196c7d3",
   "metadata": {},
   "outputs": [],
   "source": [
    "numerical_data.describe()"
   ]
  },
  {
   "cell_type": "markdown",
   "id": "6df83a32",
   "metadata": {},
   "source": [
    "* Almost all of the columns have similar `mean` and `median` so data is not skewed\n",
    "* The mean of `work_pressure` and `job_satisfaction` tells me that majority of the values are 0 or close to 0.  I think it would be safe to drop these columns since there is no variance and will not contribute to the ML learning. \n",
    "* `financial_stress` has 2 missing values, I think we can impute the data with mean or median. \n",
    "* Other than `age`, `cgpa` and `work_study_hours` rest of the columns are satisfaction ratings and I think we should create bins for these columns instead of using the discreet values. Lets check the visualizations and value counts. "
   ]
  },
  {
   "cell_type": "code",
   "execution_count": null,
   "id": "06bc00b6",
   "metadata": {},
   "outputs": [],
   "source": [
    "import seaborn as sns\n",
    "import matplotlib.pyplot as pyt\n",
    "\n",
    "\n",
    "for col in numerical_data.columns:\n",
    "    pyt.figure()\n",
    "    sns.histplot(numerical_data[col], kde=True)"
   ]
  },
  {
   "cell_type": "markdown",
   "id": "ca16450b",
   "metadata": {},
   "source": [
    "* The visualizations confirm our earlier assumptions,\n",
    "    * Safe to drop job satisfaction and work pressure columns as they add no values. \n",
    "* We will converting `age`, `cgpa` and `work_study_hours` into categorical bins\n",
    "* We will scale and use `academic_pressure`, `study_satisfaction` and `finalcial_stress` as it is. "
   ]
  },
  {
   "cell_type": "markdown",
   "id": "e7e07fd5",
   "metadata": {},
   "source": [
    "#### Default Changes\n",
    "* The training data doesn't seem to have any null or missing value, but to make sure test or production data doesn't break, lets add default median imputer for all the columns. \n",
    "* Since our data is not skewed using median shouldn't affect the overall variance. \n"
   ]
  },
  {
   "cell_type": "code",
   "execution_count": null,
   "id": "5fe98f47",
   "metadata": {},
   "outputs": [],
   "source": [
    "from sklearn.discriminant_analysis import StandardScaler\n",
    "from sklearn.impute import SimpleImputer\n",
    "\n",
    "default_num_pipeline = Pipeline([\n",
    "    (\"imputer\", SimpleImputer(strategy=\"median\"))\n",
    "])\n",
    "\n",
    "default_num_pipeline.set_output(transform=\"pandas\")"
   ]
  },
  {
   "cell_type": "markdown",
   "id": "80536b7a",
   "metadata": {},
   "source": [
    "### Preprocessing Age"
   ]
  },
  {
   "cell_type": "code",
   "execution_count": null,
   "id": "0bd45a9f",
   "metadata": {},
   "outputs": [],
   "source": [
    "numerical_data[\"age\"].describe()"
   ]
  },
  {
   "cell_type": "code",
   "execution_count": null,
   "id": "5afb0d31",
   "metadata": {},
   "outputs": [],
   "source": [
    "numerical_data[\"age\"].isnull().sum()"
   ]
  },
  {
   "cell_type": "markdown",
   "id": "ed53b2d3",
   "metadata": {},
   "source": [
    "* Lets create 5 year bins from 18 to 30 and last bin would greater than 30.\n",
    "    * 18_to_23\n",
    "    * 23_to_28\n",
    "    * 28_to_33\n",
    "    * gte_33\n",
    "* Then we'll encode this with parameter to choose between onehot or ordinal\n"
   ]
  },
  {
   "cell_type": "code",
   "execution_count": null,
   "id": "3755e88b",
   "metadata": {},
   "outputs": [],
   "source": [
    "# helper function to map and create age bins\n",
    "def map_age_bins_feature_names(function_transformer, feature_names_in):\n",
    "    features_out = feature_names_in.tolist()\n",
    "    features_out.extend([\"age_range\"])\n",
    "    return features_out\n",
    "\n",
    "\n",
    "def map_age_bins_fn(df):\n",
    "    if not isinstance(df, pd.DataFrame):\n",
    "        raise ValueError(\"map_age_bins_fn : Input must be a pandas DataFrame\")\n",
    "    df_copy = df.copy()\n",
    "    # default value\n",
    "    df_copy[\"age_range\"] = \"gte_33\"\n",
    "    df_copy.loc[df_copy[\"age\"].between(\n",
    "        18, 23, \"left\"), \"age_range\"] = \"18_to_23\"\n",
    "    df_copy.loc[df_copy[\"age\"].between(\n",
    "        23, 28, \"left\"), \"age_range\"] = \"23_to_28\"\n",
    "    df_copy.loc[df_copy[\"age\"].between(\n",
    "        28, 33, \"left\"), \"age_range\"] = \"28_to_33\"\n",
    "    return df_copy\n",
    "\n",
    "\n",
    "map_age_bins = FunctionTransformer(\n",
    "    map_age_bins_fn, feature_names_out=map_age_bins_feature_names)\n",
    "\n",
    "\n",
    "def make_age_encoder_fn(encoding=\"onehot\"):\n",
    "    encoder = OneHotEncoder(\n",
    "        sparse_output=False, handle_unknown=\"ignore\")\n",
    "\n",
    "    if encoding == \"ordinal\":\n",
    "        encoder = OrdinalEncoder(categories=[[\n",
    "            \"18_to_23\", \"23_to_28\", \"28_to_33\", \"gte_33\"\n",
    "        ]], handle_unknown=\"use_encoded_value\", unknown_value=-1)\n",
    "\n",
    "    return ColumnTransformer(\n",
    "        [(\"encode_age_range\", encoder, [\"age_range\"])]\n",
    "    )\n",
    "\n",
    "\n",
    "age_pipeline = Pipeline(\n",
    "    [(\"default_num_pipeline\", default_num_pipeline),\n",
    "     (\"map_age_bins\", map_age_bins),\n",
    "     (\"encode_age\", make_age_encoder_fn(encoding=\"onehot\"))]\n",
    ")\n",
    "\n",
    "preprocess_age = ColumnTransformer(\n",
    "    [\n",
    "        (\"age_pipeline\", age_pipeline, [\"age\"]),\n",
    "    ]\n",
    ")\n",
    "\n",
    "\n",
    "temp = preprocess_age.fit_transform(X_train)\n",
    "preprocess_age.get_feature_names_out()"
   ]
  },
  {
   "cell_type": "code",
   "execution_count": null,
   "id": "6295c43f",
   "metadata": {},
   "outputs": [],
   "source": [
    "temp"
   ]
  },
  {
   "cell_type": "markdown",
   "id": "c27eefa2",
   "metadata": {},
   "source": [
    "* lets update numerical data with bins for future use"
   ]
  },
  {
   "cell_type": "code",
   "execution_count": null,
   "id": "98ba9916",
   "metadata": {},
   "outputs": [],
   "source": [
    "numerical_data = map_age_bins_fn(numerical_data)"
   ]
  },
  {
   "cell_type": "markdown",
   "id": "a835cbed",
   "metadata": {},
   "source": [
    "### Preprocesing CGPA"
   ]
  },
  {
   "cell_type": "code",
   "execution_count": null,
   "id": "39609cda",
   "metadata": {},
   "outputs": [],
   "source": [
    "numerical_data[\"cgpa\"].describe()"
   ]
  },
  {
   "cell_type": "markdown",
   "id": "2636d220",
   "metadata": {},
   "source": [
    "* For CGPA lets create the following bins\n",
    "    * Less than 4 \"lt_4\"\n",
    "    * 4 to 7 \"4_to_7\"\n",
    "    * 7 and above \"gt_7\""
   ]
  },
  {
   "cell_type": "code",
   "execution_count": null,
   "id": "9762688f",
   "metadata": {},
   "outputs": [],
   "source": [
    "# helper function to map and create cgpa bins\n",
    "def map_cgpa_bins_feature_names(function_transformer, feature_names_in):\n",
    "    features_out = feature_names_in.tolist()\n",
    "    features_out.extend([\"cgpa_range\"])\n",
    "    return features_out\n",
    "\n",
    "\n",
    "def map_cgpa_bins_fn(df):\n",
    "    if not isinstance(df, pd.DataFrame):\n",
    "        raise ValueError(\"map_cgpa_bins_fn : Input must be a pandas DataFrame\")\n",
    "    df_copy = df.copy()\n",
    "    # default value\n",
    "    df_copy[\"cgpa_range\"] = \"gte_7\"\n",
    "    df_copy.loc[df_copy[\"cgpa\"].between(\n",
    "        0, 4, \"left\"), \"cgpa_range\"] = \"lt_4\"\n",
    "    df_copy.loc[df_copy[\"cgpa\"].between(\n",
    "        4, 7, \"left\"), \"cgpa_range\"] = \"4_to_7\"\n",
    "    return df_copy\n",
    "\n",
    "\n",
    "map_cgpa_bins = FunctionTransformer(\n",
    "    map_cgpa_bins_fn, feature_names_out=map_cgpa_bins_feature_names)\n",
    "\n",
    "\n",
    "def make_cgpa_encoder_fn(encoding=\"onehot\"):\n",
    "    encoder = OneHotEncoder(\n",
    "        sparse_output=False, handle_unknown=\"ignore\")\n",
    "\n",
    "    if encoding == \"ordinal\":\n",
    "        encoder = OrdinalEncoder(categories=[[\n",
    "            \"lt_4\", \"4_to_7\", \"gte_7\"\n",
    "        ]], handle_unknown=\"use_encoded_value\", unknown_value=-1)\n",
    "\n",
    "    return ColumnTransformer(\n",
    "        [(\"encode_cgpa_range\", encoder, [\"cgpa_range\"])]\n",
    "    )\n",
    "\n",
    "\n",
    "cgpa_pipeline = Pipeline(\n",
    "    [(\"default_num_pipeline\", default_num_pipeline),\n",
    "     (\"map_cgpa_bins\", map_cgpa_bins),\n",
    "     (\"encode_cgpa\", make_cgpa_encoder_fn(encoding=\"onehot\"))]\n",
    ")\n",
    "\n",
    "preprocess_cgpa = ColumnTransformer(\n",
    "    [\n",
    "        (\"cgpa_pipeline\", cgpa_pipeline, [\"cgpa\"]),\n",
    "    ]\n",
    ")\n",
    "\n",
    "\n",
    "temp = preprocess_cgpa.fit_transform(X_train)\n",
    "preprocess_cgpa.get_feature_names_out()"
   ]
  },
  {
   "cell_type": "code",
   "execution_count": null,
   "id": "07898cc0",
   "metadata": {},
   "outputs": [],
   "source": [
    "temp"
   ]
  },
  {
   "cell_type": "code",
   "execution_count": null,
   "id": "af641af9",
   "metadata": {},
   "outputs": [],
   "source": [
    "## updating numerical data with cgpa bins\n",
    "numerical_data = map_cgpa_bins_fn(numerical_data)\n",
    "numerical_data.head()"
   ]
  },
  {
   "cell_type": "markdown",
   "id": "31ee5d8a",
   "metadata": {},
   "source": [
    "### Preprocessing Work Study Hours"
   ]
  },
  {
   "cell_type": "code",
   "execution_count": null,
   "id": "9cc65a15",
   "metadata": {},
   "outputs": [],
   "source": [
    "numerical_data[\"work_study_hours\"].describe()"
   ]
  },
  {
   "cell_type": "code",
   "execution_count": null,
   "id": "7362af32",
   "metadata": {},
   "outputs": [],
   "source": [
    "numerical_data[\"work_study_hours\"].value_counts()"
   ]
  },
  {
   "cell_type": "markdown",
   "id": "477e8557",
   "metadata": {},
   "source": [
    "* We'll create following bins for work_study_hours\n",
    "    * Less than 4 hours - lt_4\n",
    "    * 4 to 8 hours - 4_to_8\n",
    "    * greater than or equal to 8 hours - gte_8"
   ]
  },
  {
   "cell_type": "code",
   "execution_count": null,
   "id": "e177b75a",
   "metadata": {},
   "outputs": [],
   "source": [
    "# helper function to map and create hours bins\n",
    "def map_hours_bins_feature_names(function_transformer, feature_names_in):\n",
    "    features_out = feature_names_in.tolist()\n",
    "    features_out.extend([\"hours_range\"])\n",
    "    return features_out\n",
    "\n",
    "def map_hours_bins_fn(df):\n",
    "    if not isinstance(df, pd.DataFrame):\n",
    "        raise ValueError(\"map_hours_bins_fn : Input must be a pandas DataFrame\")\n",
    "    df_copy = df.copy()\n",
    "    # default value\n",
    "    df_copy[\"hours_range\"] = \"gte_8\"\n",
    "    df_copy.loc[df_copy[\"work_study_hours\"].between(\n",
    "        0, 4, \"left\"), \"hours_range\"] = \"lt_4\"\n",
    "    df_copy.loc[df_copy[\"work_study_hours\"].between(\n",
    "        4, 8, \"left\"), \"hours_range\"] = \"4_to_8\"\n",
    "    return df_copy\n",
    "\n",
    "\n",
    "map_hours_bins = FunctionTransformer(\n",
    "    map_hours_bins_fn, feature_names_out=map_hours_bins_feature_names)\n",
    "\n",
    "\n",
    "def make_hours_encoder_fn(encoding=\"onehot\"):\n",
    "    encoder = OneHotEncoder(\n",
    "        sparse_output=False, handle_unknown=\"ignore\")\n",
    "\n",
    "    if encoding == \"ordinal\":\n",
    "        encoder = OrdinalEncoder(categories=[[\n",
    "            \"lt_4\", \"4_to_8\", \"gte_8\"\n",
    "        ]], handle_unknown=\"use_encoded_value\", unknown_value=-1)\n",
    "\n",
    "    return ColumnTransformer(\n",
    "        [(\"encode_hours_range\", encoder, [\"hours_range\"])]\n",
    "    )\n",
    "\n",
    "\n",
    "hours_pipeline = Pipeline(\n",
    "    [(\"default_num_pipeline\", default_num_pipeline),\n",
    "     (\"map_hours_bins\", map_hours_bins),\n",
    "     (\"encode_hours\", make_hours_encoder_fn(encoding=\"onehot\"))]\n",
    ")\n",
    "\n",
    "preprocess_hours = ColumnTransformer(\n",
    "    [\n",
    "        (\"hours_pipeline\", hours_pipeline, [\"work_study_hours\"]),\n",
    "    ]\n",
    ")\n",
    "\n",
    "\n",
    "temp = preprocess_hours.fit_transform(X_train)\n",
    "preprocess_hours.get_feature_names_out()"
   ]
  },
  {
   "cell_type": "code",
   "execution_count": null,
   "id": "ba7efca6",
   "metadata": {},
   "outputs": [],
   "source": [
    "numerical_data = map_hours_bins_fn(numerical_data)\n",
    "numerical_data.head()"
   ]
  },
  {
   "cell_type": "markdown",
   "id": "e86698a1",
   "metadata": {},
   "source": [
    "### Preprocessing Rating Columns\n",
    "* `academic_pressure`, `study_satisfaction` and `financial_stress` are ratings form 1 to 5, so we can group the preprocessing of these columns togather. "
   ]
  },
  {
   "cell_type": "code",
   "execution_count": null,
   "id": "1617439e",
   "metadata": {},
   "outputs": [],
   "source": [
    "numerical_data[\"academic_pressure\"].value_counts()"
   ]
  },
  {
   "cell_type": "code",
   "execution_count": null,
   "id": "0b0f15bd",
   "metadata": {},
   "outputs": [],
   "source": [
    "numerical_data[\"academic_pressure\"].describe()"
   ]
  },
  {
   "cell_type": "code",
   "execution_count": null,
   "id": "abe14162",
   "metadata": {},
   "outputs": [],
   "source": [
    "numerical_data[\"study_satisfaction\"].value_counts(\n",
    ")"
   ]
  },
  {
   "cell_type": "code",
   "execution_count": null,
   "id": "f08e07f4",
   "metadata": {},
   "outputs": [],
   "source": [
    "numerical_data[\"study_satisfaction\"].describe()"
   ]
  },
  {
   "cell_type": "code",
   "execution_count": null,
   "id": "993ed0ab",
   "metadata": {},
   "outputs": [],
   "source": [
    "numerical_data[\"financial_stress\"].value_counts()"
   ]
  },
  {
   "cell_type": "code",
   "execution_count": null,
   "id": "794a150e",
   "metadata": {},
   "outputs": [],
   "source": [
    "numerical_data[\"financial_stress\"].describe()"
   ]
  },
  {
   "cell_type": "markdown",
   "id": "5ef3980e",
   "metadata": {},
   "source": [
    "* For academic pressure, we'll simply impute the values and scale them.\n",
    "* We can actually combine `academic_pressure`, `study_satisfaction` and `financial_pressure` into a single pipeline, since the transformers needed for all three are same. "
   ]
  },
  {
   "cell_type": "code",
   "execution_count": null,
   "id": "1e197007",
   "metadata": {},
   "outputs": [],
   "source": [
    "rating_columns_pipeline = Pipeline([\n",
    "    (\"default_num_pipeline\", default_num_pipeline),\n",
    "    (\"scale_rating_columns\", StandardScaler())\n",
    "])\n",
    "\n",
    "rating_columns_pipeline.set_output(transform=\"pandas\")\n",
    "\n",
    "preprocess_rating_coluns = ColumnTransformer([\n",
    "    (\"ratings_column_pipeline\", rating_columns_pipeline, [\"academic_pressure\",\"study_satisfaction\",\"financial_stress\"])    \n",
    "])\n",
    "\n",
    "temp = preprocess_rating_coluns.fit_transform(X_train)\n",
    "preprocess_rating_coluns.get_feature_names_out()"
   ]
  },
  {
   "cell_type": "code",
   "execution_count": null,
   "id": "fd3868b9",
   "metadata": {},
   "outputs": [],
   "source": [
    "temp"
   ]
  },
  {
   "cell_type": "markdown",
   "id": "18e4ab11",
   "metadata": {},
   "source": [
    "### Dropping Work pressure and job satisfaction"
   ]
  },
  {
   "cell_type": "code",
   "execution_count": null,
   "id": "34b26caa",
   "metadata": {},
   "outputs": [],
   "source": [
    "from sklearn.base import BaseEstimator, TransformerMixin\n",
    "\n",
    "class DropColumns(BaseEstimator, TransformerMixin):\n",
    "    def __init__(self, columns_to_drop=None):\n",
    "        self.columns_to_drop = columns_to_drop\n",
    "\n",
    "    def fit(self, X, y=None):\n",
    "        return self\n",
    "\n",
    "    def transform(self, X):\n",
    "        return X.drop(columns=self.columns_to_drop)\n",
    "    \n",
    "    def get_feature_names_out(self, input_features=None):\n",
    "        input_features = (\n",
    "            input_features if input_features is not None\n",
    "            else getattr(self, \"feature_names_in_\", None)\n",
    "        )\n",
    "        if input_features is None:\n",
    "            raise ValueError(\"Input features not available for get_feature_names_out\")\n",
    "\n",
    "        return [col for col in input_features if col not in self.columns_to_drop]\n",
    "\n",
    "# Use inside your top-level pipeline\n",
    "drop_useless_cols = DropColumns(columns_to_drop=[\"work_pressure\", \"job_satisfaction\"])\n",
    "\n",
    "drop_column_pipeline = Pipeline([\n",
    "    (\"drop_useless\", drop_useless_cols)\n",
    "])\n",
    "\n",
    "# temp = drop_column_pipeline.fit_transform(X_train)\n",
    "# temp\n",
    "\n"
   ]
  },
  {
   "cell_type": "markdown",
   "id": "3a25d5c4",
   "metadata": {},
   "source": [
    "## Combining Pipelines"
   ]
  },
  {
   "cell_type": "markdown",
   "id": "b27338b1",
   "metadata": {},
   "source": [
    "* Lets combine the pipelines and create 2 column transformers one for categories and one for numerical data. "
   ]
  },
  {
   "cell_type": "code",
   "execution_count": null,
   "id": "7eba3055",
   "metadata": {},
   "outputs": [],
   "source": [
    "preprocessed_data = ColumnTransformer([(\"preprocess_gender\", gender_pipeline, [\"gender\"]),\n",
    "                                       (\"preprocess_profession\",\n",
    "                                        profession_pipeline, [\"profession\"]),\n",
    "                                       (\"sleep_duration_pipeline\", make_sleep_duration_pipeline_fn(\n",
    "                                           encoding=\"ordinal\"), [\"sleep_duration\"]),\n",
    "                                       (\"dietary_habits_pipeline\", make_dietary_habits_pipeline_fn(\n",
    "                                           encoding=\"onehot\"), [\"dietary_habits\"]),\n",
    "                                       (\"degree_pipeline\",\n",
    "                                        degree_pipeline, [\"degree\"]),\n",
    "                                       (\n",
    "    \"suicidal_thoughts_pipeline\", suicidal_thoughts_pipeline, [\n",
    "        \"suicidal_thoughts\"]\n",
    "),\n",
    "    (\n",
    "    \"family_history_pipeline\", family_history_pipeline, [\"family_history\"]\n",
    "),\n",
    "    (\"city_pipeline\", city_pipeline, [\"city\"]),\n",
    "    (\"age_pipeline\", age_pipeline, [\"age\"]),\n",
    "    (\"cgpa_pipeline\", cgpa_pipeline, [\"cgpa\"]),\n",
    "    (\"hours_pipeline\", hours_pipeline, [\"work_study_hours\"]),\n",
    "    (\"ratings_column_pipeline\", rating_columns_pipeline, [\n",
    "        \"academic_pressure\", \"study_satisfaction\", \"financial_stress\"])\n",
    "])\n",
    "\n",
    "preprocessed_data_df = pd.DataFrame(preprocessed_data.fit_transform(\n",
    "    X_train), columns=preprocessed_data.get_feature_names_out())\n",
    "preprocessed_data_df.head()"
   ]
  }
 ],
 "metadata": {
  "kernelspec": {
   "display_name": "venv",
   "language": "python",
   "name": "python3"
  },
  "language_info": {
   "codemirror_mode": {
    "name": "ipython",
    "version": 3
   },
   "file_extension": ".py",
   "mimetype": "text/x-python",
   "name": "python",
   "nbconvert_exporter": "python",
   "pygments_lexer": "ipython3",
   "version": "3.12.9"
  }
 },
 "nbformat": 4,
 "nbformat_minor": 5
}
