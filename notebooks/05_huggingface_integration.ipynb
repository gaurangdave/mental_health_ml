{
 "cells": [
  {
   "cell_type": "markdown",
   "id": "f6b5ac57",
   "metadata": {},
   "source": [
    "# Hugging Face Integration\n",
    "* In this notebook we are integrating HuggingFace into the repository, mainly to share the datasets and models easily.\n",
    "* This notebook is used simply to upload all the datasets and models to HuggingFace and we'll run it occasionally to keep the datasets updated."
   ]
  },
  {
   "cell_type": "code",
   "execution_count": 2,
   "id": "9055f609",
   "metadata": {},
   "outputs": [],
   "source": [
    "from huggingface_hub import login, HfApi\n",
    "import os\n",
    "import sys\n",
    "import dotenv\n",
    "from pathlib import Path"
   ]
  },
  {
   "cell_type": "code",
   "execution_count": 3,
   "id": "1e91a2ef",
   "metadata": {},
   "outputs": [
    {
     "name": "stderr",
     "output_type": "stream",
     "text": [
      "Note: Environment variable`HF_TOKEN` is set and is the current active token independently from the token you've just configured.\n"
     ]
    },
    {
     "name": "stdout",
     "output_type": "stream",
     "text": [
      "Logging in...\n"
     ]
    }
   ],
   "source": [
    "\n",
    "dotenv.load_dotenv()\n",
    "HF_TOKEN = os.getenv(\"HF_TOKEN\")\n",
    "\n",
    "## login huggingface user\n",
    "if HF_TOKEN is None:\n",
    "    print(\"Please set the HF_TOKEN environment variable. This is you hugging face token\")\n",
    "else:\n",
    "    print(\"Logging in...\")\n",
    "    login(HF_TOKEN)"
   ]
  },
  {
   "cell_type": "code",
   "execution_count": 4,
   "id": "331ffe76",
   "metadata": {},
   "outputs": [
    {
     "name": "stdout",
     "output_type": "stream",
     "text": [
      "Logged in as gaurangdave\n"
     ]
    }
   ],
   "source": [
    "## verify login\n",
    "api = HfApi()\n",
    "user = api.whoami()\n",
    "user_name = user['name']\n",
    "print(f\"Logged in as {user_name}\")"
   ]
  },
  {
   "cell_type": "code",
   "execution_count": 5,
   "id": "943e1972",
   "metadata": {},
   "outputs": [
    {
     "name": "stdout",
     "output_type": "stream",
     "text": [
      "Created repository: https://huggingface.co/gaurangdave/mental_health_ml\n",
      "Created repository: https://huggingface.co/datasets/gaurangdave/mental_health_ml\n"
     ]
    }
   ],
   "source": [
    "## create a model repository on huggingface\n",
    "model_name = \"mental_health_ml\"\n",
    "repo_id = f\"{user_name}/{model_name}\"\n",
    "\n",
    "## create a model repository\n",
    "model_repo = api.create_repo(repo_id=repo_id, repo_type=\"model\", exist_ok=True)\n",
    "print(f\"Created repository: {model_repo}\")\n",
    "\n",
    "## create a data repository\n",
    "model_repo = api.create_repo(repo_id=repo_id, repo_type=\"dataset\", exist_ok=True)\n",
    "print(f\"Created repository: {model_repo}\")"
   ]
  },
  {
   "cell_type": "code",
   "execution_count": 6,
   "id": "9c5718c2",
   "metadata": {},
   "outputs": [],
   "source": [
    "## upload all the models to the repository\n",
    "models_root_dir = Path(\"..\", \"models\")\n",
    "\n",
    "def upload_models_in_dir(model_dir):\n",
    "    for model in model_dir.iterdir():\n",
    "        if model.is_dir():\n",
    "            upload_models_in_dir(model)\n",
    "        else: \n",
    "            filename = model.name\n",
    "            ## read path relative to the models directory\n",
    "            path = model.relative_to(models_root_dir)\n",
    "            path_in_repo = f\"{path}\"\n",
    "            api = HfApi()\n",
    "            api.upload_file(path_or_fileobj=model, repo_id=repo_id, path_in_repo=path_in_repo, repo_type=\"model\")\n",
    "            print(f\"Uploaded {filename} to {path}\")"
   ]
  },
  {
   "cell_type": "code",
   "execution_count": 7,
   "id": "de23a421",
   "metadata": {},
   "outputs": [],
   "source": [
    "upload_models_in_dir(models_root_dir)"
   ]
  },
  {
   "cell_type": "code",
   "execution_count": 8,
   "id": "ff286193",
   "metadata": {},
   "outputs": [],
   "source": [
    "## upload all the datasets to the repository\n",
    "data_root_dir = Path(\"..\", \"data\")\n",
    "\n",
    "def upload_data_in_dir(data_dir):\n",
    "    for dataset in data_dir.iterdir():\n",
    "        if dataset.is_dir():\n",
    "            upload_data_in_dir(dataset)\n",
    "        else: \n",
    "            filename = dataset.name\n",
    "            ## read path relative to the models directory\n",
    "            path = dataset.relative_to(data_root_dir)\n",
    "            path_in_repo = f\"{path}\"\n",
    "            api = HfApi()\n",
    "            api.upload_file(path_or_fileobj=dataset, repo_id=repo_id, path_in_repo=path_in_repo, repo_type=\"dataset\")\n",
    "            print(f\"Uploaded {filename} to {path}\")"
   ]
  },
  {
   "cell_type": "code",
   "execution_count": 9,
   "id": "5e2ba0e0",
   "metadata": {},
   "outputs": [
    {
     "name": "stderr",
     "output_type": "stream",
     "text": [
      "IN.txt: 100%|██████████| 69.3M/69.3M [00:04<00:00, 16.1MB/s]\n"
     ]
    },
    {
     "name": "stdout",
     "output_type": "stream",
     "text": [
      "Uploaded IN.txt to IN.txt\n"
     ]
    },
    {
     "name": "stderr",
     "output_type": "stream",
     "text": [
      "detailed_in.csv: 100%|██████████| 17.6M/17.6M [00:01<00:00, 17.3MB/s]\n"
     ]
    },
    {
     "name": "stdout",
     "output_type": "stream",
     "text": [
      "Uploaded detailed_in.csv to detailed_in.csv\n",
      "Uploaded student_depression_dataset.csv to student_depression_dataset.csv\n",
      "Uploaded in.csv to in.csv\n",
      "Uploaded X_train.csv to X_train.csv\n",
      "Uploaded y_train.csv to y_train.csv\n",
      "Uploaded y_test.csv to y_test.csv\n",
      "Uploaded X_test.csv to X_test.csv\n",
      "Uploaded processed_column_names.csv to processed_column_names.csv\n"
     ]
    }
   ],
   "source": [
    "upload_data_in_dir(data_root_dir)"
   ]
  },
  {
   "cell_type": "code",
   "execution_count": null,
   "id": "55472e22",
   "metadata": {},
   "outputs": [],
   "source": []
  }
 ],
 "metadata": {
  "kernelspec": {
   "display_name": "venv",
   "language": "python",
   "name": "python3"
  },
  "language_info": {
   "codemirror_mode": {
    "name": "ipython",
    "version": 3
   },
   "file_extension": ".py",
   "mimetype": "text/x-python",
   "name": "python",
   "nbconvert_exporter": "python",
   "pygments_lexer": "ipython3",
   "version": "3.12.9"
  }
 },
 "nbformat": 4,
 "nbformat_minor": 5
}
