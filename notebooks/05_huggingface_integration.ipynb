{
 "cells": [
  {
   "cell_type": "markdown",
   "id": "f6b5ac57",
   "metadata": {},
   "source": [
    "# Hugging Face Integration\n",
    "* In this notebook we are integrating HuggingFace into the repository, mainly to share the datasets and models easily.\n",
    "* This notebook is used simply to upload all the datasets and models to HuggingFace and we'll run it occasionally to keep the datasets updated."
   ]
  },
  {
   "cell_type": "markdown",
   "id": "1cb5f9f5",
   "metadata": {},
   "source": [
    "## Install Dependencies\n"
   ]
  },
  {
   "cell_type": "code",
   "execution_count": 1,
   "id": "05629114",
   "metadata": {},
   "outputs": [
    {
     "name": "stdout",
     "output_type": "stream",
     "text": [
      "Requirement already satisfied: huggingface_hub in /home/gaurangdave/workspace/mental_health_ml/venv/lib/python3.12/site-packages (0.32.4)\n",
      "Requirement already satisfied: filelock in /home/gaurangdave/workspace/mental_health_ml/venv/lib/python3.12/site-packages (from huggingface_hub) (3.18.0)\n",
      "Requirement already satisfied: fsspec>=2023.5.0 in /home/gaurangdave/workspace/mental_health_ml/venv/lib/python3.12/site-packages (from huggingface_hub) (2025.5.1)\n",
      "Requirement already satisfied: packaging>=20.9 in /home/gaurangdave/workspace/mental_health_ml/venv/lib/python3.12/site-packages (from huggingface_hub) (25.0)\n",
      "Requirement already satisfied: pyyaml>=5.1 in /home/gaurangdave/workspace/mental_health_ml/venv/lib/python3.12/site-packages (from huggingface_hub) (6.0.2)\n",
      "Requirement already satisfied: requests in /home/gaurangdave/workspace/mental_health_ml/venv/lib/python3.12/site-packages (from huggingface_hub) (2.32.3)\n",
      "Requirement already satisfied: tqdm>=4.42.1 in /home/gaurangdave/workspace/mental_health_ml/venv/lib/python3.12/site-packages (from huggingface_hub) (4.67.1)\n",
      "Requirement already satisfied: typing-extensions>=3.7.4.3 in /home/gaurangdave/workspace/mental_health_ml/venv/lib/python3.12/site-packages (from huggingface_hub) (4.14.0)\n",
      "Requirement already satisfied: hf-xet<2.0.0,>=1.1.2 in /home/gaurangdave/workspace/mental_health_ml/venv/lib/python3.12/site-packages (from huggingface_hub) (1.1.2)\n",
      "Requirement already satisfied: charset-normalizer<4,>=2 in /home/gaurangdave/workspace/mental_health_ml/venv/lib/python3.12/site-packages (from requests->huggingface_hub) (3.4.2)\n",
      "Requirement already satisfied: idna<4,>=2.5 in /home/gaurangdave/workspace/mental_health_ml/venv/lib/python3.12/site-packages (from requests->huggingface_hub) (3.10)\n",
      "Requirement already satisfied: urllib3<3,>=1.21.1 in /home/gaurangdave/workspace/mental_health_ml/venv/lib/python3.12/site-packages (from requests->huggingface_hub) (2.4.0)\n",
      "Requirement already satisfied: certifi>=2017.4.17 in /home/gaurangdave/workspace/mental_health_ml/venv/lib/python3.12/site-packages (from requests->huggingface_hub) (2025.4.26)\n",
      "Note: you may need to restart the kernel to use updated packages.\n",
      "Requirement already satisfied: python-dotenv in /home/gaurangdave/workspace/mental_health_ml/venv/lib/python3.12/site-packages (1.1.0)\n",
      "Note: you may need to restart the kernel to use updated packages.\n"
     ]
    }
   ],
   "source": [
    "%pip install huggingface_hub\n",
    "%pip install python-dotenv"
   ]
  },
  {
   "cell_type": "code",
   "execution_count": 2,
   "id": "9055f609",
   "metadata": {},
   "outputs": [
    {
     "name": "stderr",
     "output_type": "stream",
     "text": [
      "/home/gaurangdave/workspace/mental_health_ml/venv/lib/python3.12/site-packages/tqdm/auto.py:21: TqdmWarning: IProgress not found. Please update jupyter and ipywidgets. See https://ipywidgets.readthedocs.io/en/stable/user_install.html\n",
      "  from .autonotebook import tqdm as notebook_tqdm\n"
     ]
    }
   ],
   "source": [
    "from huggingface_hub import login, HfApi\n",
    "import os\n",
    "import sys\n",
    "import dotenv\n",
    "from pathlib import Path"
   ]
  },
  {
   "cell_type": "code",
   "execution_count": 3,
   "id": "1e91a2ef",
   "metadata": {},
   "outputs": [
    {
     "name": "stdout",
     "output_type": "stream",
     "text": [
      "Logging in...\n"
     ]
    },
    {
     "name": "stderr",
     "output_type": "stream",
     "text": [
      "Note: Environment variable`HF_TOKEN` is set and is the current active token independently from the token you've just configured.\n"
     ]
    }
   ],
   "source": [
    "\n",
    "dotenv.load_dotenv()\n",
    "HF_TOKEN = os.getenv(\"HF_TOKEN\")\n",
    "\n",
    "## login huggingface user\n",
    "if HF_TOKEN is None:\n",
    "    print(\"Please set the HF_TOKEN environment variable. This is you hugging face token\")\n",
    "else:\n",
    "    print(\"Logging in...\")\n",
    "    login(HF_TOKEN)"
   ]
  },
  {
   "cell_type": "code",
   "execution_count": 4,
   "id": "331ffe76",
   "metadata": {},
   "outputs": [
    {
     "name": "stdout",
     "output_type": "stream",
     "text": [
      "Logged in as gaurangdave\n"
     ]
    }
   ],
   "source": [
    "## verify login\n",
    "api = HfApi()\n",
    "user = api.whoami()\n",
    "user_name = user['name']\n",
    "print(f\"Logged in as {user_name}\")"
   ]
  },
  {
   "cell_type": "code",
   "execution_count": 5,
   "id": "943e1972",
   "metadata": {},
   "outputs": [
    {
     "name": "stdout",
     "output_type": "stream",
     "text": [
      "Created repository: https://huggingface.co/gaurangdave/mental_health_ml\n",
      "Created repository: https://huggingface.co/datasets/gaurangdave/mental_health_ml\n"
     ]
    }
   ],
   "source": [
    "## create a model repository on huggingface\n",
    "model_name = \"mental_health_ml\"\n",
    "repo_id = f\"{user_name}/{model_name}\"\n",
    "\n",
    "## create a model repository\n",
    "model_repo = api.create_repo(repo_id=repo_id, repo_type=\"model\", exist_ok=True)\n",
    "print(f\"Created repository: {model_repo}\")\n",
    "\n",
    "## create a data repository\n",
    "data_repo = api.create_repo(repo_id=repo_id, repo_type=\"dataset\", exist_ok=True)\n",
    "print(f\"Created repository: {data_repo}\")"
   ]
  },
  {
   "cell_type": "code",
   "execution_count": 6,
   "id": "f05898a5",
   "metadata": {},
   "outputs": [],
   "source": [
    "data_root_dir = Path(\"..\", \"data\")\n",
    "models_root_dir = Path(\"..\", \"models\")\n"
   ]
  },
  {
   "cell_type": "markdown",
   "id": "edbc037d",
   "metadata": {},
   "source": [
    "## Upload Models"
   ]
  },
  {
   "cell_type": "code",
   "execution_count": 7,
   "id": "9c5718c2",
   "metadata": {},
   "outputs": [],
   "source": [
    "## upload all the models to the repository\n",
    "\n",
    "def upload_models_in_dir(model_dir):\n",
    "    for model in model_dir.iterdir():\n",
    "        if model.is_dir():\n",
    "            upload_models_in_dir(model)\n",
    "        else: \n",
    "            filename = model.name\n",
    "            ## read path relative to the models directory\n",
    "            path = model.relative_to(models_root_dir)\n",
    "            path_in_repo = f\"{path}\"\n",
    "            api = HfApi()\n",
    "            api.upload_file(path_or_fileobj=model, repo_id=repo_id, path_in_repo=path_in_repo, repo_type=\"model\")\n",
    "            print(f\"Uploaded {filename} to {path}\")"
   ]
  },
  {
   "cell_type": "code",
   "execution_count": 8,
   "id": "de23a421",
   "metadata": {},
   "outputs": [
    {
     "name": "stderr",
     "output_type": "stream",
     "text": [
      "No files have been modified since last commit. Skipping to prevent empty commit.\n"
     ]
    },
    {
     "name": "stdout",
     "output_type": "stream",
     "text": [
      "Uploaded random_forest_v2.joblib to random_forest_v2.joblib\n"
     ]
    },
    {
     "name": "stderr",
     "output_type": "stream",
     "text": [
      "No files have been modified since last commit. Skipping to prevent empty commit.\n"
     ]
    },
    {
     "name": "stdout",
     "output_type": "stream",
     "text": [
      "Uploaded random_forest_v1.joblib to random_forest_v1.joblib\n"
     ]
    },
    {
     "name": "stderr",
     "output_type": "stream",
     "text": [
      "No files have been modified since last commit. Skipping to prevent empty commit.\n"
     ]
    },
    {
     "name": "stdout",
     "output_type": "stream",
     "text": [
      "Uploaded svc_v1.joblib to svc_v1.joblib\n"
     ]
    },
    {
     "name": "stderr",
     "output_type": "stream",
     "text": [
      "No files have been modified since last commit. Skipping to prevent empty commit.\n"
     ]
    },
    {
     "name": "stdout",
     "output_type": "stream",
     "text": [
      "Uploaded linear_svc_v2.joblib to linear_svc_v2.joblib\n"
     ]
    },
    {
     "name": "stderr",
     "output_type": "stream",
     "text": [
      "No files have been modified since last commit. Skipping to prevent empty commit.\n"
     ]
    },
    {
     "name": "stdout",
     "output_type": "stream",
     "text": [
      "Uploaded knn_v2.joblib to knn_v2.joblib\n"
     ]
    },
    {
     "name": "stderr",
     "output_type": "stream",
     "text": [
      "No files have been modified since last commit. Skipping to prevent empty commit.\n"
     ]
    },
    {
     "name": "stdout",
     "output_type": "stream",
     "text": [
      "Uploaded knn_v1.joblib to knn_v1.joblib\n"
     ]
    },
    {
     "name": "stderr",
     "output_type": "stream",
     "text": [
      "No files have been modified since last commit. Skipping to prevent empty commit.\n"
     ]
    },
    {
     "name": "stdout",
     "output_type": "stream",
     "text": [
      "Uploaded linear_svc_v1.joblib to linear_svc_v1.joblib\n"
     ]
    },
    {
     "name": "stderr",
     "output_type": "stream",
     "text": [
      "No files have been modified since last commit. Skipping to prevent empty commit.\n"
     ]
    },
    {
     "name": "stdout",
     "output_type": "stream",
     "text": [
      "Uploaded knn_v3.joblib to knn_v3.joblib\n"
     ]
    },
    {
     "name": "stderr",
     "output_type": "stream",
     "text": [
      "No files have been modified since last commit. Skipping to prevent empty commit.\n"
     ]
    },
    {
     "name": "stdout",
     "output_type": "stream",
     "text": [
      "Uploaded svc_v2.joblib to svc_v2.joblib\n"
     ]
    },
    {
     "name": "stderr",
     "output_type": "stream",
     "text": [
      "soft_voting_classifier_v0.joblib: 100%|██████████| 318M/318M [00:16<00:00, 19.9MB/s] \n"
     ]
    },
    {
     "name": "stdout",
     "output_type": "stream",
     "text": [
      "Uploaded soft_voting_classifier_v0.joblib to soft_voting_classifier_v0.joblib\n"
     ]
    },
    {
     "name": "stderr",
     "output_type": "stream",
     "text": [
      "No files have been modified since last commit. Skipping to prevent empty commit.\n"
     ]
    },
    {
     "name": "stdout",
     "output_type": "stream",
     "text": [
      "Uploaded logistic_regression_v1.joblib to logistic_regression_v1.joblib\n"
     ]
    },
    {
     "name": "stderr",
     "output_type": "stream",
     "text": [
      "No files have been modified since last commit. Skipping to prevent empty commit.\n"
     ]
    },
    {
     "name": "stdout",
     "output_type": "stream",
     "text": [
      "Uploaded logistic_regression_v2.joblib to logistic_regression_v2.joblib\n"
     ]
    },
    {
     "name": "stderr",
     "output_type": "stream",
     "text": [
      "No files have been modified since last commit. Skipping to prevent empty commit.\n"
     ]
    },
    {
     "name": "stdout",
     "output_type": "stream",
     "text": [
      "Uploaded svc_v3.joblib to svc_v3.joblib\n"
     ]
    },
    {
     "name": "stderr",
     "output_type": "stream",
     "text": [
      "hard_voting_classifier_v0.joblib: 100%|██████████| 641M/641M [00:22<00:00, 28.2MB/s] \n"
     ]
    },
    {
     "name": "stdout",
     "output_type": "stream",
     "text": [
      "Uploaded hard_voting_classifier_v0.joblib to hard_voting_classifier_v0.joblib\n"
     ]
    }
   ],
   "source": [
    "upload_models_in_dir(models_root_dir)"
   ]
  },
  {
   "cell_type": "markdown",
   "id": "6bf9e089",
   "metadata": {},
   "source": [
    "## Upload Data"
   ]
  },
  {
   "cell_type": "code",
   "execution_count": 9,
   "id": "ff286193",
   "metadata": {},
   "outputs": [],
   "source": [
    "## upload all the datasets to the repository\n",
    "\n",
    "def upload_data_in_dir(data_dir):\n",
    "    for dataset in data_dir.iterdir():\n",
    "        if dataset.is_dir():\n",
    "            upload_data_in_dir(dataset)\n",
    "        else: \n",
    "            filename = dataset.name\n",
    "            ## read path relative to the models directory\n",
    "            path = dataset.relative_to(data_root_dir)\n",
    "            path_in_repo = f\"{path}\"\n",
    "            if \".cache\" not in path_in_repo:\n",
    "                api = HfApi()\n",
    "                api.upload_file(path_or_fileobj=dataset, repo_id=repo_id, path_in_repo=path_in_repo, repo_type=\"dataset\")\n",
    "                print(f\"Uploaded {filename} to {path}\")"
   ]
  },
  {
   "cell_type": "code",
   "execution_count": 10,
   "id": "5e2ba0e0",
   "metadata": {},
   "outputs": [
    {
     "name": "stdout",
     "output_type": "stream",
     "text": [
      "Uploaded model_metrics.csv to model_metrics.csv\n"
     ]
    },
    {
     "name": "stderr",
     "output_type": "stream",
     "text": [
      "No files have been modified since last commit. Skipping to prevent empty commit.\n"
     ]
    },
    {
     "name": "stdout",
     "output_type": "stream",
     "text": [
      "Uploaded in.csv to in.csv\n"
     ]
    },
    {
     "name": "stderr",
     "output_type": "stream",
     "text": [
      "No files have been modified since last commit. Skipping to prevent empty commit.\n"
     ]
    },
    {
     "name": "stdout",
     "output_type": "stream",
     "text": [
      "Uploaded .gitattributes to .gitattributes\n"
     ]
    },
    {
     "name": "stderr",
     "output_type": "stream",
     "text": [
      "No files have been modified since last commit. Skipping to prevent empty commit.\n"
     ]
    },
    {
     "name": "stdout",
     "output_type": "stream",
     "text": [
      "Uploaded detailed_in.csv to detailed_in.csv\n"
     ]
    },
    {
     "name": "stderr",
     "output_type": "stream",
     "text": [
      "No files have been modified since last commit. Skipping to prevent empty commit.\n"
     ]
    },
    {
     "name": "stdout",
     "output_type": "stream",
     "text": [
      "Uploaded X_test.csv to X_test.csv\n",
      "Uploaded model_params.json to model_params.json\n"
     ]
    },
    {
     "name": "stderr",
     "output_type": "stream",
     "text": [
      "No files have been modified since last commit. Skipping to prevent empty commit.\n"
     ]
    },
    {
     "name": "stdout",
     "output_type": "stream",
     "text": [
      "Uploaded y_test.csv to y_test.csv\n"
     ]
    },
    {
     "name": "stderr",
     "output_type": "stream",
     "text": [
      "No files have been modified since last commit. Skipping to prevent empty commit.\n"
     ]
    },
    {
     "name": "stdout",
     "output_type": "stream",
     "text": [
      "Uploaded IN.txt to IN.txt\n"
     ]
    },
    {
     "name": "stderr",
     "output_type": "stream",
     "text": [
      "No files have been modified since last commit. Skipping to prevent empty commit.\n"
     ]
    },
    {
     "name": "stdout",
     "output_type": "stream",
     "text": [
      "Uploaded X_train.csv to X_train.csv\n"
     ]
    },
    {
     "name": "stderr",
     "output_type": "stream",
     "text": [
      "No files have been modified since last commit. Skipping to prevent empty commit.\n"
     ]
    },
    {
     "name": "stdout",
     "output_type": "stream",
     "text": [
      "Uploaded student_depression_dataset.csv to student_depression_dataset.csv\n"
     ]
    },
    {
     "name": "stderr",
     "output_type": "stream",
     "text": [
      "No files have been modified since last commit. Skipping to prevent empty commit.\n"
     ]
    },
    {
     "name": "stdout",
     "output_type": "stream",
     "text": [
      "Uploaded processed_column_names.csv to processed_column_names.csv\n"
     ]
    },
    {
     "name": "stderr",
     "output_type": "stream",
     "text": [
      "No files have been modified since last commit. Skipping to prevent empty commit.\n"
     ]
    },
    {
     "name": "stdout",
     "output_type": "stream",
     "text": [
      "Uploaded y_train.csv to y_train.csv\n"
     ]
    }
   ],
   "source": [
    "upload_data_in_dir(data_root_dir)"
   ]
  },
  {
   "cell_type": "markdown",
   "id": "7a8b4cf0",
   "metadata": {},
   "source": [
    "## Download Data"
   ]
  },
  {
   "cell_type": "code",
   "execution_count": 22,
   "id": "55472e22",
   "metadata": {},
   "outputs": [
    {
     "name": "stderr",
     "output_type": "stream",
     "text": [
      "/home/gaurangdave/workspace/mental_health_ml/venv/lib/python3.12/site-packages/huggingface_hub/file_download.py:980: UserWarning: `local_dir_use_symlinks` parameter is deprecated and will be ignored. The process to download files to a local folder has been updated and do not rely on symlinks anymore. You only need to pass a destination folder as`local_dir`.\n",
      "For more details, check out https://huggingface.co/docs/huggingface_hub/main/en/guides/download#download-files-to-local-folder.\n",
      "  warnings.warn(\n"
     ]
    },
    {
     "name": "stdout",
     "output_type": "stream",
     "text": [
      "Downloaded .gitattributes to ../data/.gitattributes\n",
      "Downloaded IN.txt to ../data/IN.txt\n",
      "Downloaded IN.txt to ../data/IN.txt\n",
      "Downloaded X_test.csv to ../data/X_test.csv\n",
      "Downloaded X_test.csv to ../data/X_test.csv\n",
      "Downloaded X_train.csv to ../data/X_train.csv\n",
      "Downloaded detailed_in.csv to ../data/detailed_in.csv\n",
      "Downloaded X_train.csv to ../data/X_train.csv\n",
      "Downloaded detailed_in.csv to ../data/detailed_in.csv\n",
      "Downloaded in.csv to ../data/in.csv\n",
      "Downloaded in.csv to ../data/in.csv\n",
      "Downloaded processed_column_names.csv to ../data/processed_column_names.csv\n",
      "Downloaded processed_column_names.csv to ../data/processed_column_names.csv\n",
      "Downloaded student_depression_dataset.csv to ../data/student_depression_dataset.csv\n",
      "Downloaded student_depression_dataset.csv to ../data/student_depression_dataset.csv\n",
      "Downloaded y_test.csv to ../data/y_test.csv\n",
      "Downloaded y_train.csv to ../data/y_train.csv\n",
      "Downloaded y_test.csv to ../data/y_test.csv\n",
      "Downloaded y_train.csv to ../data/y_train.csv\n"
     ]
    }
   ],
   "source": [
    "os.makedirs(data_root_dir, exist_ok=True)\n",
    "\n",
    "from huggingface_hub import list_repo_files, hf_hub_download\n",
    "\n",
    "# List all files in the dataset repo\n",
    "dataset_files = list_repo_files(repo_id=repo_id, repo_type=\"dataset\")\n",
    "\n",
    "# Download each file into the data_root_dir, preserving subdirectories\n",
    "for file_path in dataset_files:\n",
    "    local_path = data_root_dir / file_path\n",
    "    local_path.parent.mkdir(parents=True, exist_ok=True)\n",
    "    hf_hub_download(\n",
    "        repo_id=repo_id,\n",
    "        repo_type=\"dataset\",\n",
    "        filename=file_path,\n",
    "        local_dir=str(local_path.parent),\n",
    "        local_dir_use_symlinks=False\n",
    "    )\n",
    "    print(f\"Downloaded {file_path} to {local_path}\")"
   ]
  },
  {
   "cell_type": "code",
   "execution_count": null,
   "id": "f1c24cb6",
   "metadata": {},
   "outputs": [],
   "source": []
  }
 ],
 "metadata": {
  "kernelspec": {
   "display_name": "venv",
   "language": "python",
   "name": "python3"
  },
  "language_info": {
   "codemirror_mode": {
    "name": "ipython",
    "version": 3
   },
   "file_extension": ".py",
   "mimetype": "text/x-python",
   "name": "python",
   "nbconvert_exporter": "python",
   "pygments_lexer": "ipython3",
   "version": "3.12.2"
  }
 },
 "nbformat": 4,
 "nbformat_minor": 5
}
