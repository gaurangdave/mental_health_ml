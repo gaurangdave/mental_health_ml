{
 "cells": [
  {
   "cell_type": "markdown",
   "id": "254fab10",
   "metadata": {},
   "source": [
    "# Data Exploration\n",
    "* This notebook focuses on followin tasks,\n",
    "    * Create train/test dataset.\n",
    "    * EDA.\n",
    "    * Feature Engineering.\n",
    "    * Planning next steps to create a prediction model and data analysis."
   ]
  },
  {
   "cell_type": "markdown",
   "id": "0d02e2c2",
   "metadata": {},
   "source": [
    "## Import Libraries"
   ]
  },
  {
   "cell_type": "code",
   "execution_count": 2,
   "id": "8bde266d",
   "metadata": {},
   "outputs": [],
   "source": [
    "import pandas as pd\n",
    "import numpy as np\n",
    "import matplotlib as plt\n",
    "\n",
    "from pathlib import Path"
   ]
  },
  {
   "cell_type": "markdown",
   "id": "592615b4",
   "metadata": {},
   "source": [
    "## Initialize Helper Functions & Constants"
   ]
  },
  {
   "cell_type": "code",
   "execution_count": 5,
   "id": "98cb9a5a",
   "metadata": {},
   "outputs": [],
   "source": [
    "## root directory for all data files\n",
    "data_dir = Path(\"..\", \"data\")\n",
    "raw_data_file = Path(data_dir, \"student_depression_dataset.csv\")"
   ]
  },
  {
   "cell_type": "markdown",
   "id": "0771bda1",
   "metadata": {},
   "source": [
    "## Read Data"
   ]
  },
  {
   "cell_type": "code",
   "execution_count": 9,
   "id": "00d11431",
   "metadata": {},
   "outputs": [],
   "source": [
    "## read data from csv file\n",
    "data = pd.read_csv(raw_data_file)"
   ]
  },
  {
   "cell_type": "code",
   "execution_count": 10,
   "id": "65ac326e",
   "metadata": {},
   "outputs": [
    {
     "data": {
      "text/plain": [
       "(27901, 18)"
      ]
     },
     "execution_count": 10,
     "metadata": {},
     "output_type": "execute_result"
    }
   ],
   "source": [
    "## verify the data \n",
    "data.shape"
   ]
  },
  {
   "cell_type": "markdown",
   "id": "32a864e7",
   "metadata": {},
   "source": [
    "## Data Exploration"
   ]
  },
  {
   "cell_type": "markdown",
   "id": "d44b241e",
   "metadata": {},
   "source": [
    "* Lets explore the data to,\n",
    "    * Check for missing data.\n",
    "    * Identify the column names and types.\n",
    "    * Identify the targer variable. "
   ]
  },
  {
   "cell_type": "markdown",
   "id": "a5c0652d",
   "metadata": {},
   "source": [
    "### Exploring Data Columns"
   ]
  },
  {
   "cell_type": "code",
   "execution_count": 12,
   "id": "12afa8db",
   "metadata": {},
   "outputs": [
    {
     "data": {
      "text/plain": [
       "id                                         int64\n",
       "Gender                                    object\n",
       "Age                                      float64\n",
       "City                                      object\n",
       "Profession                                object\n",
       "Academic Pressure                        float64\n",
       "Work Pressure                            float64\n",
       "CGPA                                     float64\n",
       "Study Satisfaction                       float64\n",
       "Job Satisfaction                         float64\n",
       "Sleep Duration                            object\n",
       "Dietary Habits                            object\n",
       "Degree                                    object\n",
       "Have you ever had suicidal thoughts ?     object\n",
       "Work/Study Hours                         float64\n",
       "Financial Stress                          object\n",
       "Family History of Mental Illness          object\n",
       "Depression                                 int64\n",
       "dtype: object"
      ]
     },
     "execution_count": 12,
     "metadata": {},
     "output_type": "execute_result"
    }
   ],
   "source": [
    "data.dtypes"
   ]
  },
  {
   "cell_type": "markdown",
   "id": "79bf72ff",
   "metadata": {},
   "source": [
    "* Looks like the `Depression` column is the target variable. \n",
    "* Before we confirm that lets change the column names to lower case and remove spaces for simplify management. "
   ]
  },
  {
   "cell_type": "markdown",
   "id": "24cc6cf9",
   "metadata": {},
   "source": [
    "#### Changing Column Names"
   ]
  },
  {
   "cell_type": "code",
   "execution_count": null,
   "id": "54e14865",
   "metadata": {},
   "outputs": [
    {
     "data": {
      "text/plain": [
       "{'id': 'id',\n",
       " 'Gender': 'gender',\n",
       " 'Age': 'age',\n",
       " 'City': 'city',\n",
       " 'Profession': 'profession',\n",
       " 'Academic Pressure': 'academic_pressure',\n",
       " 'Work Pressure': 'work_pressure',\n",
       " 'CGPA': 'cgpa',\n",
       " 'Study Satisfaction': 'study_satisfaction',\n",
       " 'Job Satisfaction': 'job_satisfaction',\n",
       " 'Sleep Duration': 'sleep_duration',\n",
       " 'Dietary Habits': 'dietary_habits',\n",
       " 'Degree': 'degree',\n",
       " 'Have you ever had suicidal thoughts ?': 'have_you_ever_had_suicidal_thoughts_?',\n",
       " 'Work/Study Hours': 'work/study_hours',\n",
       " 'Financial Stress': 'financial_stress',\n",
       " 'Family History of Mental Illness': 'family_history_of_mental_illness',\n",
       " 'Depression': 'depression'}"
      ]
     },
     "execution_count": 16,
     "metadata": {},
     "output_type": "execute_result"
    }
   ],
   "source": [
    "column_mapping = {}\n",
    "\n",
    "for col in data.columns:\n",
    "    column_mapping[col] = \"_\".join(col.split(\" \")).lower()\n",
    "\n",
    "column_mapping"
   ]
  },
  {
   "cell_type": "code",
   "execution_count": 19,
   "id": "73433e74",
   "metadata": {},
   "outputs": [],
   "source": [
    "data.rename(columns={'id': 'id',\n",
    "                     'Gender': 'gender',\n",
    "                     'Age': 'age',\n",
    "                     'City': 'city',\n",
    "                     'Profession': 'profession',\n",
    "                     'Academic Pressure': 'academic_pressure',\n",
    "                     'Work Pressure': 'work_pressure',\n",
    "                     'CGPA': 'cgpa',\n",
    "                     'Study Satisfaction': 'study_satisfaction',\n",
    "                     'Job Satisfaction': 'job_satisfaction',\n",
    "                     'Sleep Duration': 'sleep_duration',\n",
    "                     'Dietary Habits': 'dietary_habits',\n",
    "                     'Degree': 'degree',\n",
    "                     'Have you ever had suicidal thoughts ?': 'suicidal_thoughts',\n",
    "                     'Work/Study Hours': 'work_study_hours',\n",
    "                     'Financial Stress': 'financial_stress',\n",
    "                     'Family History of Mental Illness': 'family_history',\n",
    "                     'Depression': 'depression'}, inplace=True)"
   ]
  },
  {
   "cell_type": "code",
   "execution_count": 20,
   "id": "6ea9125a",
   "metadata": {},
   "outputs": [
    {
     "data": {
      "application/vnd.microsoft.datawrangler.viewer.v0+json": {
       "columns": [
        {
         "name": "index",
         "rawType": "int64",
         "type": "integer"
        },
        {
         "name": "id",
         "rawType": "int64",
         "type": "integer"
        },
        {
         "name": "gender",
         "rawType": "object",
         "type": "string"
        },
        {
         "name": "age",
         "rawType": "float64",
         "type": "float"
        },
        {
         "name": "city",
         "rawType": "object",
         "type": "string"
        },
        {
         "name": "profession",
         "rawType": "object",
         "type": "string"
        },
        {
         "name": "academic_pressure",
         "rawType": "float64",
         "type": "float"
        },
        {
         "name": "work_pressure",
         "rawType": "float64",
         "type": "float"
        },
        {
         "name": "cgpa",
         "rawType": "float64",
         "type": "float"
        },
        {
         "name": "study_satisfaction",
         "rawType": "float64",
         "type": "float"
        },
        {
         "name": "job_satisfaction",
         "rawType": "float64",
         "type": "float"
        },
        {
         "name": "sleep_duration",
         "rawType": "object",
         "type": "string"
        },
        {
         "name": "dietary_habits",
         "rawType": "object",
         "type": "string"
        },
        {
         "name": "degree",
         "rawType": "object",
         "type": "string"
        },
        {
         "name": "suicidal_thoughts",
         "rawType": "object",
         "type": "string"
        },
        {
         "name": "work_study_hours",
         "rawType": "float64",
         "type": "float"
        },
        {
         "name": "financial_stress",
         "rawType": "object",
         "type": "string"
        },
        {
         "name": "family_history",
         "rawType": "object",
         "type": "string"
        },
        {
         "name": "depression",
         "rawType": "int64",
         "type": "integer"
        }
       ],
       "conversionMethod": "pd.DataFrame",
       "ref": "f196dc0d-7fb7-4781-86f6-6790792c7cbe",
       "rows": [
        [
         "0",
         "2",
         "Male",
         "33.0",
         "Visakhapatnam",
         "Student",
         "5.0",
         "0.0",
         "8.97",
         "2.0",
         "0.0",
         "'5-6 hours'",
         "Healthy",
         "B.Pharm",
         "Yes",
         "3.0",
         "1.0",
         "No",
         "1"
        ],
        [
         "1",
         "8",
         "Female",
         "24.0",
         "Bangalore",
         "Student",
         "2.0",
         "0.0",
         "5.9",
         "5.0",
         "0.0",
         "'5-6 hours'",
         "Moderate",
         "BSc",
         "No",
         "3.0",
         "2.0",
         "Yes",
         "0"
        ],
        [
         "2",
         "26",
         "Male",
         "31.0",
         "Srinagar",
         "Student",
         "3.0",
         "0.0",
         "7.03",
         "5.0",
         "0.0",
         "'Less than 5 hours'",
         "Healthy",
         "BA",
         "No",
         "9.0",
         "1.0",
         "Yes",
         "0"
        ],
        [
         "3",
         "30",
         "Female",
         "28.0",
         "Varanasi",
         "Student",
         "3.0",
         "0.0",
         "5.59",
         "2.0",
         "0.0",
         "'7-8 hours'",
         "Moderate",
         "BCA",
         "Yes",
         "4.0",
         "5.0",
         "Yes",
         "1"
        ],
        [
         "4",
         "32",
         "Female",
         "25.0",
         "Jaipur",
         "Student",
         "4.0",
         "0.0",
         "8.13",
         "3.0",
         "0.0",
         "'5-6 hours'",
         "Moderate",
         "M.Tech",
         "Yes",
         "1.0",
         "1.0",
         "No",
         "0"
        ]
       ],
       "shape": {
        "columns": 18,
        "rows": 5
       }
      },
      "text/html": [
       "<div>\n",
       "<style scoped>\n",
       "    .dataframe tbody tr th:only-of-type {\n",
       "        vertical-align: middle;\n",
       "    }\n",
       "\n",
       "    .dataframe tbody tr th {\n",
       "        vertical-align: top;\n",
       "    }\n",
       "\n",
       "    .dataframe thead th {\n",
       "        text-align: right;\n",
       "    }\n",
       "</style>\n",
       "<table border=\"1\" class=\"dataframe\">\n",
       "  <thead>\n",
       "    <tr style=\"text-align: right;\">\n",
       "      <th></th>\n",
       "      <th>id</th>\n",
       "      <th>gender</th>\n",
       "      <th>age</th>\n",
       "      <th>city</th>\n",
       "      <th>profession</th>\n",
       "      <th>academic_pressure</th>\n",
       "      <th>work_pressure</th>\n",
       "      <th>cgpa</th>\n",
       "      <th>study_satisfaction</th>\n",
       "      <th>job_satisfaction</th>\n",
       "      <th>sleep_duration</th>\n",
       "      <th>dietary_habits</th>\n",
       "      <th>degree</th>\n",
       "      <th>suicidal_thoughts</th>\n",
       "      <th>work_study_hours</th>\n",
       "      <th>financial_stress</th>\n",
       "      <th>family_history</th>\n",
       "      <th>depression</th>\n",
       "    </tr>\n",
       "  </thead>\n",
       "  <tbody>\n",
       "    <tr>\n",
       "      <th>0</th>\n",
       "      <td>2</td>\n",
       "      <td>Male</td>\n",
       "      <td>33.0</td>\n",
       "      <td>Visakhapatnam</td>\n",
       "      <td>Student</td>\n",
       "      <td>5.0</td>\n",
       "      <td>0.0</td>\n",
       "      <td>8.97</td>\n",
       "      <td>2.0</td>\n",
       "      <td>0.0</td>\n",
       "      <td>'5-6 hours'</td>\n",
       "      <td>Healthy</td>\n",
       "      <td>B.Pharm</td>\n",
       "      <td>Yes</td>\n",
       "      <td>3.0</td>\n",
       "      <td>1.0</td>\n",
       "      <td>No</td>\n",
       "      <td>1</td>\n",
       "    </tr>\n",
       "    <tr>\n",
       "      <th>1</th>\n",
       "      <td>8</td>\n",
       "      <td>Female</td>\n",
       "      <td>24.0</td>\n",
       "      <td>Bangalore</td>\n",
       "      <td>Student</td>\n",
       "      <td>2.0</td>\n",
       "      <td>0.0</td>\n",
       "      <td>5.90</td>\n",
       "      <td>5.0</td>\n",
       "      <td>0.0</td>\n",
       "      <td>'5-6 hours'</td>\n",
       "      <td>Moderate</td>\n",
       "      <td>BSc</td>\n",
       "      <td>No</td>\n",
       "      <td>3.0</td>\n",
       "      <td>2.0</td>\n",
       "      <td>Yes</td>\n",
       "      <td>0</td>\n",
       "    </tr>\n",
       "    <tr>\n",
       "      <th>2</th>\n",
       "      <td>26</td>\n",
       "      <td>Male</td>\n",
       "      <td>31.0</td>\n",
       "      <td>Srinagar</td>\n",
       "      <td>Student</td>\n",
       "      <td>3.0</td>\n",
       "      <td>0.0</td>\n",
       "      <td>7.03</td>\n",
       "      <td>5.0</td>\n",
       "      <td>0.0</td>\n",
       "      <td>'Less than 5 hours'</td>\n",
       "      <td>Healthy</td>\n",
       "      <td>BA</td>\n",
       "      <td>No</td>\n",
       "      <td>9.0</td>\n",
       "      <td>1.0</td>\n",
       "      <td>Yes</td>\n",
       "      <td>0</td>\n",
       "    </tr>\n",
       "    <tr>\n",
       "      <th>3</th>\n",
       "      <td>30</td>\n",
       "      <td>Female</td>\n",
       "      <td>28.0</td>\n",
       "      <td>Varanasi</td>\n",
       "      <td>Student</td>\n",
       "      <td>3.0</td>\n",
       "      <td>0.0</td>\n",
       "      <td>5.59</td>\n",
       "      <td>2.0</td>\n",
       "      <td>0.0</td>\n",
       "      <td>'7-8 hours'</td>\n",
       "      <td>Moderate</td>\n",
       "      <td>BCA</td>\n",
       "      <td>Yes</td>\n",
       "      <td>4.0</td>\n",
       "      <td>5.0</td>\n",
       "      <td>Yes</td>\n",
       "      <td>1</td>\n",
       "    </tr>\n",
       "    <tr>\n",
       "      <th>4</th>\n",
       "      <td>32</td>\n",
       "      <td>Female</td>\n",
       "      <td>25.0</td>\n",
       "      <td>Jaipur</td>\n",
       "      <td>Student</td>\n",
       "      <td>4.0</td>\n",
       "      <td>0.0</td>\n",
       "      <td>8.13</td>\n",
       "      <td>3.0</td>\n",
       "      <td>0.0</td>\n",
       "      <td>'5-6 hours'</td>\n",
       "      <td>Moderate</td>\n",
       "      <td>M.Tech</td>\n",
       "      <td>Yes</td>\n",
       "      <td>1.0</td>\n",
       "      <td>1.0</td>\n",
       "      <td>No</td>\n",
       "      <td>0</td>\n",
       "    </tr>\n",
       "  </tbody>\n",
       "</table>\n",
       "</div>"
      ],
      "text/plain": [
       "   id  gender   age           city profession  academic_pressure  \\\n",
       "0   2    Male  33.0  Visakhapatnam    Student                5.0   \n",
       "1   8  Female  24.0      Bangalore    Student                2.0   \n",
       "2  26    Male  31.0       Srinagar    Student                3.0   \n",
       "3  30  Female  28.0       Varanasi    Student                3.0   \n",
       "4  32  Female  25.0         Jaipur    Student                4.0   \n",
       "\n",
       "   work_pressure  cgpa  study_satisfaction  job_satisfaction  \\\n",
       "0            0.0  8.97                 2.0               0.0   \n",
       "1            0.0  5.90                 5.0               0.0   \n",
       "2            0.0  7.03                 5.0               0.0   \n",
       "3            0.0  5.59                 2.0               0.0   \n",
       "4            0.0  8.13                 3.0               0.0   \n",
       "\n",
       "        sleep_duration dietary_habits   degree suicidal_thoughts  \\\n",
       "0          '5-6 hours'        Healthy  B.Pharm               Yes   \n",
       "1          '5-6 hours'       Moderate      BSc                No   \n",
       "2  'Less than 5 hours'        Healthy       BA                No   \n",
       "3          '7-8 hours'       Moderate      BCA               Yes   \n",
       "4          '5-6 hours'       Moderate   M.Tech               Yes   \n",
       "\n",
       "   work_study_hours financial_stress family_history  depression  \n",
       "0               3.0              1.0             No           1  \n",
       "1               3.0              2.0            Yes           0  \n",
       "2               9.0              1.0            Yes           0  \n",
       "3               4.0              5.0            Yes           1  \n",
       "4               1.0              1.0             No           0  "
      ]
     },
     "execution_count": 20,
     "metadata": {},
     "output_type": "execute_result"
    }
   ],
   "source": [
    "data.head()"
   ]
  },
  {
   "cell_type": "markdown",
   "id": "b7fd0f91",
   "metadata": {},
   "source": [
    "#### Deleting Columns"
   ]
  },
  {
   "cell_type": "code",
   "execution_count": 22,
   "id": "d273e81b",
   "metadata": {},
   "outputs": [],
   "source": [
    "## Lets delete the Id column since that won't be useful for analysis or prediction. \n",
    "data.drop(columns=[\"id\"],inplace=True)"
   ]
  },
  {
   "cell_type": "code",
   "execution_count": 23,
   "id": "ee1bd7b0",
   "metadata": {},
   "outputs": [
    {
     "data": {
      "application/vnd.microsoft.datawrangler.viewer.v0+json": {
       "columns": [
        {
         "name": "index",
         "rawType": "int64",
         "type": "integer"
        },
        {
         "name": "gender",
         "rawType": "object",
         "type": "string"
        },
        {
         "name": "age",
         "rawType": "float64",
         "type": "float"
        },
        {
         "name": "city",
         "rawType": "object",
         "type": "string"
        },
        {
         "name": "profession",
         "rawType": "object",
         "type": "string"
        },
        {
         "name": "academic_pressure",
         "rawType": "float64",
         "type": "float"
        },
        {
         "name": "work_pressure",
         "rawType": "float64",
         "type": "float"
        },
        {
         "name": "cgpa",
         "rawType": "float64",
         "type": "float"
        },
        {
         "name": "study_satisfaction",
         "rawType": "float64",
         "type": "float"
        },
        {
         "name": "job_satisfaction",
         "rawType": "float64",
         "type": "float"
        },
        {
         "name": "sleep_duration",
         "rawType": "object",
         "type": "string"
        },
        {
         "name": "dietary_habits",
         "rawType": "object",
         "type": "string"
        },
        {
         "name": "degree",
         "rawType": "object",
         "type": "string"
        },
        {
         "name": "suicidal_thoughts",
         "rawType": "object",
         "type": "string"
        },
        {
         "name": "work_study_hours",
         "rawType": "float64",
         "type": "float"
        },
        {
         "name": "financial_stress",
         "rawType": "object",
         "type": "string"
        },
        {
         "name": "family_history",
         "rawType": "object",
         "type": "string"
        },
        {
         "name": "depression",
         "rawType": "int64",
         "type": "integer"
        }
       ],
       "conversionMethod": "pd.DataFrame",
       "ref": "7f6b6347-2384-43d9-b760-3e97ef18da50",
       "rows": [
        [
         "0",
         "Male",
         "33.0",
         "Visakhapatnam",
         "Student",
         "5.0",
         "0.0",
         "8.97",
         "2.0",
         "0.0",
         "'5-6 hours'",
         "Healthy",
         "B.Pharm",
         "Yes",
         "3.0",
         "1.0",
         "No",
         "1"
        ],
        [
         "1",
         "Female",
         "24.0",
         "Bangalore",
         "Student",
         "2.0",
         "0.0",
         "5.9",
         "5.0",
         "0.0",
         "'5-6 hours'",
         "Moderate",
         "BSc",
         "No",
         "3.0",
         "2.0",
         "Yes",
         "0"
        ],
        [
         "2",
         "Male",
         "31.0",
         "Srinagar",
         "Student",
         "3.0",
         "0.0",
         "7.03",
         "5.0",
         "0.0",
         "'Less than 5 hours'",
         "Healthy",
         "BA",
         "No",
         "9.0",
         "1.0",
         "Yes",
         "0"
        ],
        [
         "3",
         "Female",
         "28.0",
         "Varanasi",
         "Student",
         "3.0",
         "0.0",
         "5.59",
         "2.0",
         "0.0",
         "'7-8 hours'",
         "Moderate",
         "BCA",
         "Yes",
         "4.0",
         "5.0",
         "Yes",
         "1"
        ],
        [
         "4",
         "Female",
         "25.0",
         "Jaipur",
         "Student",
         "4.0",
         "0.0",
         "8.13",
         "3.0",
         "0.0",
         "'5-6 hours'",
         "Moderate",
         "M.Tech",
         "Yes",
         "1.0",
         "1.0",
         "No",
         "0"
        ]
       ],
       "shape": {
        "columns": 17,
        "rows": 5
       }
      },
      "text/html": [
       "<div>\n",
       "<style scoped>\n",
       "    .dataframe tbody tr th:only-of-type {\n",
       "        vertical-align: middle;\n",
       "    }\n",
       "\n",
       "    .dataframe tbody tr th {\n",
       "        vertical-align: top;\n",
       "    }\n",
       "\n",
       "    .dataframe thead th {\n",
       "        text-align: right;\n",
       "    }\n",
       "</style>\n",
       "<table border=\"1\" class=\"dataframe\">\n",
       "  <thead>\n",
       "    <tr style=\"text-align: right;\">\n",
       "      <th></th>\n",
       "      <th>gender</th>\n",
       "      <th>age</th>\n",
       "      <th>city</th>\n",
       "      <th>profession</th>\n",
       "      <th>academic_pressure</th>\n",
       "      <th>work_pressure</th>\n",
       "      <th>cgpa</th>\n",
       "      <th>study_satisfaction</th>\n",
       "      <th>job_satisfaction</th>\n",
       "      <th>sleep_duration</th>\n",
       "      <th>dietary_habits</th>\n",
       "      <th>degree</th>\n",
       "      <th>suicidal_thoughts</th>\n",
       "      <th>work_study_hours</th>\n",
       "      <th>financial_stress</th>\n",
       "      <th>family_history</th>\n",
       "      <th>depression</th>\n",
       "    </tr>\n",
       "  </thead>\n",
       "  <tbody>\n",
       "    <tr>\n",
       "      <th>0</th>\n",
       "      <td>Male</td>\n",
       "      <td>33.0</td>\n",
       "      <td>Visakhapatnam</td>\n",
       "      <td>Student</td>\n",
       "      <td>5.0</td>\n",
       "      <td>0.0</td>\n",
       "      <td>8.97</td>\n",
       "      <td>2.0</td>\n",
       "      <td>0.0</td>\n",
       "      <td>'5-6 hours'</td>\n",
       "      <td>Healthy</td>\n",
       "      <td>B.Pharm</td>\n",
       "      <td>Yes</td>\n",
       "      <td>3.0</td>\n",
       "      <td>1.0</td>\n",
       "      <td>No</td>\n",
       "      <td>1</td>\n",
       "    </tr>\n",
       "    <tr>\n",
       "      <th>1</th>\n",
       "      <td>Female</td>\n",
       "      <td>24.0</td>\n",
       "      <td>Bangalore</td>\n",
       "      <td>Student</td>\n",
       "      <td>2.0</td>\n",
       "      <td>0.0</td>\n",
       "      <td>5.90</td>\n",
       "      <td>5.0</td>\n",
       "      <td>0.0</td>\n",
       "      <td>'5-6 hours'</td>\n",
       "      <td>Moderate</td>\n",
       "      <td>BSc</td>\n",
       "      <td>No</td>\n",
       "      <td>3.0</td>\n",
       "      <td>2.0</td>\n",
       "      <td>Yes</td>\n",
       "      <td>0</td>\n",
       "    </tr>\n",
       "    <tr>\n",
       "      <th>2</th>\n",
       "      <td>Male</td>\n",
       "      <td>31.0</td>\n",
       "      <td>Srinagar</td>\n",
       "      <td>Student</td>\n",
       "      <td>3.0</td>\n",
       "      <td>0.0</td>\n",
       "      <td>7.03</td>\n",
       "      <td>5.0</td>\n",
       "      <td>0.0</td>\n",
       "      <td>'Less than 5 hours'</td>\n",
       "      <td>Healthy</td>\n",
       "      <td>BA</td>\n",
       "      <td>No</td>\n",
       "      <td>9.0</td>\n",
       "      <td>1.0</td>\n",
       "      <td>Yes</td>\n",
       "      <td>0</td>\n",
       "    </tr>\n",
       "    <tr>\n",
       "      <th>3</th>\n",
       "      <td>Female</td>\n",
       "      <td>28.0</td>\n",
       "      <td>Varanasi</td>\n",
       "      <td>Student</td>\n",
       "      <td>3.0</td>\n",
       "      <td>0.0</td>\n",
       "      <td>5.59</td>\n",
       "      <td>2.0</td>\n",
       "      <td>0.0</td>\n",
       "      <td>'7-8 hours'</td>\n",
       "      <td>Moderate</td>\n",
       "      <td>BCA</td>\n",
       "      <td>Yes</td>\n",
       "      <td>4.0</td>\n",
       "      <td>5.0</td>\n",
       "      <td>Yes</td>\n",
       "      <td>1</td>\n",
       "    </tr>\n",
       "    <tr>\n",
       "      <th>4</th>\n",
       "      <td>Female</td>\n",
       "      <td>25.0</td>\n",
       "      <td>Jaipur</td>\n",
       "      <td>Student</td>\n",
       "      <td>4.0</td>\n",
       "      <td>0.0</td>\n",
       "      <td>8.13</td>\n",
       "      <td>3.0</td>\n",
       "      <td>0.0</td>\n",
       "      <td>'5-6 hours'</td>\n",
       "      <td>Moderate</td>\n",
       "      <td>M.Tech</td>\n",
       "      <td>Yes</td>\n",
       "      <td>1.0</td>\n",
       "      <td>1.0</td>\n",
       "      <td>No</td>\n",
       "      <td>0</td>\n",
       "    </tr>\n",
       "  </tbody>\n",
       "</table>\n",
       "</div>"
      ],
      "text/plain": [
       "   gender   age           city profession  academic_pressure  work_pressure  \\\n",
       "0    Male  33.0  Visakhapatnam    Student                5.0            0.0   \n",
       "1  Female  24.0      Bangalore    Student                2.0            0.0   \n",
       "2    Male  31.0       Srinagar    Student                3.0            0.0   \n",
       "3  Female  28.0       Varanasi    Student                3.0            0.0   \n",
       "4  Female  25.0         Jaipur    Student                4.0            0.0   \n",
       "\n",
       "   cgpa  study_satisfaction  job_satisfaction       sleep_duration  \\\n",
       "0  8.97                 2.0               0.0          '5-6 hours'   \n",
       "1  5.90                 5.0               0.0          '5-6 hours'   \n",
       "2  7.03                 5.0               0.0  'Less than 5 hours'   \n",
       "3  5.59                 2.0               0.0          '7-8 hours'   \n",
       "4  8.13                 3.0               0.0          '5-6 hours'   \n",
       "\n",
       "  dietary_habits   degree suicidal_thoughts  work_study_hours  \\\n",
       "0        Healthy  B.Pharm               Yes               3.0   \n",
       "1       Moderate      BSc                No               3.0   \n",
       "2        Healthy       BA                No               9.0   \n",
       "3       Moderate      BCA               Yes               4.0   \n",
       "4       Moderate   M.Tech               Yes               1.0   \n",
       "\n",
       "  financial_stress family_history  depression  \n",
       "0              1.0             No           1  \n",
       "1              2.0            Yes           0  \n",
       "2              1.0            Yes           0  \n",
       "3              5.0            Yes           1  \n",
       "4              1.0             No           0  "
      ]
     },
     "execution_count": 23,
     "metadata": {},
     "output_type": "execute_result"
    }
   ],
   "source": [
    "data.head()"
   ]
  },
  {
   "cell_type": "markdown",
   "id": "210c0c66",
   "metadata": {},
   "source": [
    "#### Saving the Data\n"
   ]
  },
  {
   "cell_type": "code",
   "execution_count": 25,
   "id": "1b6ebf87",
   "metadata": {},
   "outputs": [],
   "source": [
    "## lets save the dataset for future use.\n",
    "data.to_csv(Path(data_dir,\"processed_column_names.csv\"),index=False)"
   ]
  },
  {
   "cell_type": "code",
   "execution_count": null,
   "id": "5e79f9eb",
   "metadata": {},
   "outputs": [],
   "source": []
  }
 ],
 "metadata": {
  "kernelspec": {
   "display_name": "venv",
   "language": "python",
   "name": "python3"
  },
  "language_info": {
   "codemirror_mode": {
    "name": "ipython",
    "version": 3
   },
   "file_extension": ".py",
   "mimetype": "text/x-python",
   "name": "python",
   "nbconvert_exporter": "python",
   "pygments_lexer": "ipython3",
   "version": "3.12.9"
  }
 },
 "nbformat": 4,
 "nbformat_minor": 5
}
