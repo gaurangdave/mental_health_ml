{
 "cells": [
  {
   "cell_type": "markdown",
   "id": "62eaa3ff",
   "metadata": {},
   "source": [
    "# Data Exploration"
   ]
  },
  {
   "cell_type": "markdown",
   "id": "bfc4c3a2",
   "metadata": {},
   "source": [
    "## Plan\n",
    "\n",
    "* We'll start with exploring categorical values and applying some standard data cleaning steps.\n",
    "    * Remove spaces.\n",
    "    * Convert to lower case.\n",
    "    * Unicode normalization.\n",
    "    * Handling missing/unknown categories.\n",
    "* We'll create `scikit-learn` pipelines that we can reusing during training. \n",
    "* We'll do the same for numerical data as well. \n",
    "* At the end of this notebook we'll have list of data preparation steps needed to train the model."
   ]
  },
  {
   "cell_type": "markdown",
   "id": "67a01634",
   "metadata": {},
   "source": [
    "## Import Libraries"
   ]
  },
  {
   "cell_type": "code",
   "execution_count": 12,
   "id": "85b6192f",
   "metadata": {},
   "outputs": [],
   "source": [
    "import pandas as pd\n",
    "import numpy as np\n",
    "import matplotlib as plt\n",
    "\n",
    "from pathlib import Path"
   ]
  },
  {
   "cell_type": "markdown",
   "id": "a161244a",
   "metadata": {},
   "source": [
    "## Read Training Data"
   ]
  },
  {
   "cell_type": "code",
   "execution_count": 13,
   "id": "216152c1",
   "metadata": {},
   "outputs": [],
   "source": [
    "## root directory for all data files\n",
    "data_dir = Path(\"..\", \"data\")"
   ]
  },
  {
   "cell_type": "code",
   "execution_count": 14,
   "id": "0f2cafb8",
   "metadata": {},
   "outputs": [],
   "source": [
    "X_train = pd.read_csv(Path(data_dir,\"X_train.csv\"))\n",
    "y_train = pd.read_csv(Path(data_dir,\"y_train.csv\"))"
   ]
  },
  {
   "cell_type": "code",
   "execution_count": 15,
   "id": "deeeb842",
   "metadata": {},
   "outputs": [
    {
     "data": {
      "text/plain": [
       "((22320, 16), (22320, 1))"
      ]
     },
     "execution_count": 15,
     "metadata": {},
     "output_type": "execute_result"
    }
   ],
   "source": [
    "X_train.shape,y_train.shape"
   ]
  },
  {
   "cell_type": "markdown",
   "id": "09cfd3f9",
   "metadata": {},
   "source": [
    "## Exploring Categorical Data"
   ]
  },
  {
   "cell_type": "code",
   "execution_count": 16,
   "id": "bcc37660",
   "metadata": {},
   "outputs": [
    {
     "data": {
      "text/plain": [
       "gender               object\n",
       "city                 object\n",
       "profession           object\n",
       "sleep_duration       object\n",
       "dietary_habits       object\n",
       "degree               object\n",
       "suicidal_thoughts    object\n",
       "family_history       object\n",
       "dtype: object"
      ]
     },
     "execution_count": 16,
     "metadata": {},
     "output_type": "execute_result"
    }
   ],
   "source": [
    "## lets list the categorical columns\n",
    "X_train.select_dtypes(include=[\"object\"]).dtypes"
   ]
  },
  {
   "cell_type": "code",
   "execution_count": 17,
   "id": "d0edfed0",
   "metadata": {},
   "outputs": [
    {
     "data": {
      "application/vnd.microsoft.datawrangler.viewer.v0+json": {
       "columns": [
        {
         "name": "index",
         "rawType": "int64",
         "type": "integer"
        },
        {
         "name": "gender",
         "rawType": "object",
         "type": "string"
        },
        {
         "name": "city",
         "rawType": "object",
         "type": "string"
        },
        {
         "name": "profession",
         "rawType": "object",
         "type": "string"
        },
        {
         "name": "sleep_duration",
         "rawType": "object",
         "type": "string"
        },
        {
         "name": "dietary_habits",
         "rawType": "object",
         "type": "string"
        },
        {
         "name": "degree",
         "rawType": "object",
         "type": "string"
        },
        {
         "name": "suicidal_thoughts",
         "rawType": "object",
         "type": "string"
        },
        {
         "name": "family_history",
         "rawType": "object",
         "type": "string"
        }
       ],
       "conversionMethod": "pd.DataFrame",
       "ref": "6e86ad98-7620-4aba-838a-440840c4b0ab",
       "rows": [
        [
         "0",
         "Male",
         "Jaipur",
         "Student",
         "'7-8 hours'",
         "Moderate",
         "'Class 12'",
         "Yes",
         "No"
        ],
        [
         "1",
         "Male",
         "Vadodara",
         "Student",
         "'7-8 hours'",
         "Moderate",
         "B.Arch",
         "No",
         "Yes"
        ],
        [
         "2",
         "Male",
         "Ahmedabad",
         "Student",
         "'7-8 hours'",
         "Unhealthy",
         "M.Ed",
         "Yes",
         "Yes"
        ],
        [
         "3",
         "Male",
         "Bhopal",
         "Student",
         "'7-8 hours'",
         "Moderate",
         "B.Com",
         "Yes",
         "No"
        ],
        [
         "4",
         "Male",
         "Patna",
         "Student",
         "'5-6 hours'",
         "Unhealthy",
         "B.Com",
         "No",
         "No"
        ]
       ],
       "shape": {
        "columns": 8,
        "rows": 5
       }
      },
      "text/html": [
       "<div>\n",
       "<style scoped>\n",
       "    .dataframe tbody tr th:only-of-type {\n",
       "        vertical-align: middle;\n",
       "    }\n",
       "\n",
       "    .dataframe tbody tr th {\n",
       "        vertical-align: top;\n",
       "    }\n",
       "\n",
       "    .dataframe thead th {\n",
       "        text-align: right;\n",
       "    }\n",
       "</style>\n",
       "<table border=\"1\" class=\"dataframe\">\n",
       "  <thead>\n",
       "    <tr style=\"text-align: right;\">\n",
       "      <th></th>\n",
       "      <th>gender</th>\n",
       "      <th>city</th>\n",
       "      <th>profession</th>\n",
       "      <th>sleep_duration</th>\n",
       "      <th>dietary_habits</th>\n",
       "      <th>degree</th>\n",
       "      <th>suicidal_thoughts</th>\n",
       "      <th>family_history</th>\n",
       "    </tr>\n",
       "  </thead>\n",
       "  <tbody>\n",
       "    <tr>\n",
       "      <th>0</th>\n",
       "      <td>Male</td>\n",
       "      <td>Jaipur</td>\n",
       "      <td>Student</td>\n",
       "      <td>'7-8 hours'</td>\n",
       "      <td>Moderate</td>\n",
       "      <td>'Class 12'</td>\n",
       "      <td>Yes</td>\n",
       "      <td>No</td>\n",
       "    </tr>\n",
       "    <tr>\n",
       "      <th>1</th>\n",
       "      <td>Male</td>\n",
       "      <td>Vadodara</td>\n",
       "      <td>Student</td>\n",
       "      <td>'7-8 hours'</td>\n",
       "      <td>Moderate</td>\n",
       "      <td>B.Arch</td>\n",
       "      <td>No</td>\n",
       "      <td>Yes</td>\n",
       "    </tr>\n",
       "    <tr>\n",
       "      <th>2</th>\n",
       "      <td>Male</td>\n",
       "      <td>Ahmedabad</td>\n",
       "      <td>Student</td>\n",
       "      <td>'7-8 hours'</td>\n",
       "      <td>Unhealthy</td>\n",
       "      <td>M.Ed</td>\n",
       "      <td>Yes</td>\n",
       "      <td>Yes</td>\n",
       "    </tr>\n",
       "    <tr>\n",
       "      <th>3</th>\n",
       "      <td>Male</td>\n",
       "      <td>Bhopal</td>\n",
       "      <td>Student</td>\n",
       "      <td>'7-8 hours'</td>\n",
       "      <td>Moderate</td>\n",
       "      <td>B.Com</td>\n",
       "      <td>Yes</td>\n",
       "      <td>No</td>\n",
       "    </tr>\n",
       "    <tr>\n",
       "      <th>4</th>\n",
       "      <td>Male</td>\n",
       "      <td>Patna</td>\n",
       "      <td>Student</td>\n",
       "      <td>'5-6 hours'</td>\n",
       "      <td>Unhealthy</td>\n",
       "      <td>B.Com</td>\n",
       "      <td>No</td>\n",
       "      <td>No</td>\n",
       "    </tr>\n",
       "  </tbody>\n",
       "</table>\n",
       "</div>"
      ],
      "text/plain": [
       "  gender       city profession sleep_duration dietary_habits      degree  \\\n",
       "0   Male     Jaipur    Student    '7-8 hours'       Moderate  'Class 12'   \n",
       "1   Male   Vadodara    Student    '7-8 hours'       Moderate      B.Arch   \n",
       "2   Male  Ahmedabad    Student    '7-8 hours'      Unhealthy        M.Ed   \n",
       "3   Male     Bhopal    Student    '7-8 hours'       Moderate       B.Com   \n",
       "4   Male      Patna    Student    '5-6 hours'      Unhealthy       B.Com   \n",
       "\n",
       "  suicidal_thoughts family_history  \n",
       "0               Yes             No  \n",
       "1                No            Yes  \n",
       "2               Yes            Yes  \n",
       "3               Yes             No  \n",
       "4                No             No  "
      ]
     },
     "execution_count": 17,
     "metadata": {},
     "output_type": "execute_result"
    }
   ],
   "source": [
    "## lets look at the data to make sure they are correctly typed as object\n",
    "X_train.select_dtypes(include=[\"object\"]).head(5)"
   ]
  },
  {
   "cell_type": "code",
   "execution_count": 18,
   "id": "e3022bfb",
   "metadata": {},
   "outputs": [
    {
     "data": {
      "text/plain": [
       "['gender',\n",
       " 'city',\n",
       " 'profession',\n",
       " 'sleep_duration',\n",
       " 'dietary_habits',\n",
       " 'degree',\n",
       " 'suicidal_thoughts',\n",
       " 'family_history']"
      ]
     },
     "execution_count": 18,
     "metadata": {},
     "output_type": "execute_result"
    }
   ],
   "source": [
    "## creating column list for easier access\n",
    "category_columns = X_train.select_dtypes(include=[\"object\"]).dtypes.index.tolist()\n",
    "category_columns"
   ]
  },
  {
   "cell_type": "markdown",
   "id": "cf9f1017",
   "metadata": {},
   "source": [
    "### Handling Missing Values"
   ]
  },
  {
   "cell_type": "code",
   "execution_count": 19,
   "id": "ed7fccf0",
   "metadata": {},
   "outputs": [
    {
     "data": {
      "text/plain": [
       "gender               0\n",
       "city                 0\n",
       "profession           0\n",
       "sleep_duration       0\n",
       "dietary_habits       0\n",
       "degree               0\n",
       "suicidal_thoughts    0\n",
       "family_history       0\n",
       "dtype: int64"
      ]
     },
     "execution_count": 19,
     "metadata": {},
     "output_type": "execute_result"
    }
   ],
   "source": [
    "## lets check for missing values\n",
    "X_train.select_dtypes(include=[\"object\"]).isnull().sum()"
   ]
  },
  {
   "cell_type": "markdown",
   "id": "9019f154",
   "metadata": {},
   "source": [
    "Luckily there are no missing values but our training pipeline should have a step to fill missing values with \"unkonwn\" in case production data or test data has missing values. "
   ]
  },
  {
   "cell_type": "code",
   "execution_count": 20,
   "id": "d1f4a11d",
   "metadata": {},
   "outputs": [],
   "source": [
    "## TODO Add this to pipeline\n",
    "X_train.select_dtypes(include=[\"object\"]).fillna(\"unknown\", inplace=True)"
   ]
  },
  {
   "cell_type": "markdown",
   "id": "9ebefd93",
   "metadata": {},
   "source": [
    "Lets create Column Transformer to transform the data for easy exploration"
   ]
  },
  {
   "cell_type": "code",
   "execution_count": null,
   "id": "14f8c4af",
   "metadata": {},
   "outputs": [],
   "source": []
  },
  {
   "cell_type": "code",
   "execution_count": null,
   "id": "b4fdfaec",
   "metadata": {},
   "outputs": [],
   "source": []
  },
  {
   "cell_type": "code",
   "execution_count": 46,
   "id": "6ce9e467",
   "metadata": {},
   "outputs": [],
   "source": [
    "from sklearn.preprocessing import FunctionTransformer\n",
    "## creating functional transformers\n",
    "\n",
    "def to_lower_case(df, columns=None):\n",
    "    print(columns)\n",
    "    if not isinstance(df, pd.DataFrame):\n",
    "        raise ValueError(\"Input must be a pandas DataFrame\")\n",
    "    df_copy = df.copy()\n",
    "    if columns is None:\n",
    "        columns = df_copy.select_dtypes(include=[\"object\"]).columns\n",
    "    for col in columns:\n",
    "        df_copy[col] = df_copy[col].str.lower()\n",
    "    return df_copy\n",
    "\n",
    "case_transformer = FunctionTransformer(to_lower_case)"
   ]
  },
  {
   "cell_type": "code",
   "execution_count": null,
   "id": "ece7c7af",
   "metadata": {},
   "outputs": [
    {
     "name": "stdout",
     "output_type": "stream",
     "text": [
      "None\n"
     ]
    },
    {
     "data": {
      "application/vnd.microsoft.datawrangler.viewer.v0+json": {
       "columns": [
        {
         "name": "index",
         "rawType": "int64",
         "type": "integer"
        },
        {
         "name": "case_transformer__gender",
         "rawType": "object",
         "type": "string"
        },
        {
         "name": "case_transformer__city",
         "rawType": "object",
         "type": "string"
        },
        {
         "name": "case_transformer__profession",
         "rawType": "object",
         "type": "string"
        },
        {
         "name": "case_transformer__sleep_duration",
         "rawType": "object",
         "type": "string"
        },
        {
         "name": "case_transformer__dietary_habits",
         "rawType": "object",
         "type": "string"
        },
        {
         "name": "case_transformer__degree",
         "rawType": "object",
         "type": "string"
        },
        {
         "name": "case_transformer__suicidal_thoughts",
         "rawType": "object",
         "type": "string"
        },
        {
         "name": "case_transformer__family_history",
         "rawType": "object",
         "type": "string"
        }
       ],
       "conversionMethod": "pd.DataFrame",
       "ref": "806a834c-a802-48a6-83a1-812b4ab2fd5e",
       "rows": [
        [
         "0",
         "male",
         "jaipur",
         "student",
         "'7-8 hours'",
         "moderate",
         "'class 12'",
         "yes",
         "no"
        ],
        [
         "1",
         "male",
         "vadodara",
         "student",
         "'7-8 hours'",
         "moderate",
         "b.arch",
         "no",
         "yes"
        ],
        [
         "2",
         "male",
         "ahmedabad",
         "student",
         "'7-8 hours'",
         "unhealthy",
         "m.ed",
         "yes",
         "yes"
        ],
        [
         "3",
         "male",
         "bhopal",
         "student",
         "'7-8 hours'",
         "moderate",
         "b.com",
         "yes",
         "no"
        ],
        [
         "4",
         "male",
         "patna",
         "student",
         "'5-6 hours'",
         "unhealthy",
         "b.com",
         "no",
         "no"
        ],
        [
         "5",
         "female",
         "kolkata",
         "student",
         "'less than 5 hours'",
         "healthy",
         "m.ed",
         "no",
         "no"
        ],
        [
         "6",
         "male",
         "kanpur",
         "student",
         "'5-6 hours'",
         "healthy",
         "llb",
         "yes",
         "no"
        ],
        [
         "7",
         "male",
         "patna",
         "student",
         "'more than 8 hours'",
         "unhealthy",
         "bca",
         "yes",
         "no"
        ],
        [
         "8",
         "male",
         "ghaziabad",
         "student",
         "'7-8 hours'",
         "unhealthy",
         "llb",
         "no",
         "no"
        ],
        [
         "9",
         "male",
         "bhopal",
         "student",
         "'more than 8 hours'",
         "unhealthy",
         "b.arch",
         "no",
         "no"
        ],
        [
         "10",
         "male",
         "kalyan",
         "student",
         "'more than 8 hours'",
         "unhealthy",
         "msc",
         "no",
         "no"
        ],
        [
         "11",
         "male",
         "pune",
         "student",
         "'less than 5 hours'",
         "moderate",
         "mca",
         "yes",
         "no"
        ],
        [
         "12",
         "female",
         "jaipur",
         "student",
         "'5-6 hours'",
         "unhealthy",
         "b.arch",
         "no",
         "yes"
        ],
        [
         "13",
         "male",
         "pune",
         "student",
         "'more than 8 hours'",
         "healthy",
         "b.pharm",
         "yes",
         "yes"
        ],
        [
         "14",
         "male",
         "srinagar",
         "student",
         "'5-6 hours'",
         "moderate",
         "'class 12'",
         "no",
         "yes"
        ],
        [
         "15",
         "male",
         "kalyan",
         "student",
         "'more than 8 hours'",
         "healthy",
         "'class 12'",
         "yes",
         "yes"
        ],
        [
         "16",
         "female",
         "srinagar",
         "student",
         "'7-8 hours'",
         "moderate",
         "be",
         "yes",
         "no"
        ],
        [
         "17",
         "male",
         "chennai",
         "student",
         "'more than 8 hours'",
         "unhealthy",
         "bca",
         "no",
         "no"
        ],
        [
         "18",
         "female",
         "ludhiana",
         "student",
         "'less than 5 hours'",
         "moderate",
         "'class 12'",
         "yes",
         "no"
        ],
        [
         "19",
         "female",
         "meerut",
         "student",
         "'7-8 hours'",
         "moderate",
         "m.ed",
         "yes",
         "yes"
        ],
        [
         "20",
         "female",
         "bhopal",
         "student",
         "'5-6 hours'",
         "moderate",
         "'class 12'",
         "yes",
         "yes"
        ],
        [
         "21",
         "female",
         "lucknow",
         "student",
         "'more than 8 hours'",
         "unhealthy",
         "md",
         "yes",
         "yes"
        ],
        [
         "22",
         "male",
         "pune",
         "student",
         "'more than 8 hours'",
         "unhealthy",
         "b.tech",
         "no",
         "no"
        ],
        [
         "23",
         "female",
         "surat",
         "student",
         "'less than 5 hours'",
         "moderate",
         "llb",
         "no",
         "yes"
        ],
        [
         "24",
         "male",
         "ghaziabad",
         "student",
         "'5-6 hours'",
         "moderate",
         "bsc",
         "no",
         "no"
        ],
        [
         "25",
         "female",
         "chennai",
         "student",
         "'less than 5 hours'",
         "unhealthy",
         "'class 12'",
         "yes",
         "no"
        ],
        [
         "26",
         "male",
         "kolkata",
         "student",
         "'more than 8 hours'",
         "unhealthy",
         "m.pharm",
         "yes",
         "no"
        ],
        [
         "27",
         "female",
         "vasai-virar",
         "student",
         "'5-6 hours'",
         "moderate",
         "b.arch",
         "no",
         "yes"
        ],
        [
         "28",
         "female",
         "kanpur",
         "student",
         "'less than 5 hours'",
         "moderate",
         "m.tech",
         "yes",
         "no"
        ],
        [
         "29",
         "male",
         "varanasi",
         "student",
         "'more than 8 hours'",
         "unhealthy",
         "b.arch",
         "yes",
         "yes"
        ],
        [
         "30",
         "male",
         "varanasi",
         "student",
         "'7-8 hours'",
         "unhealthy",
         "b.com",
         "yes",
         "no"
        ],
        [
         "31",
         "male",
         "jaipur",
         "student",
         "'5-6 hours'",
         "healthy",
         "b.pharm",
         "yes",
         "yes"
        ],
        [
         "32",
         "male",
         "ghaziabad",
         "student",
         "'5-6 hours'",
         "unhealthy",
         "'class 12'",
         "no",
         "yes"
        ],
        [
         "33",
         "male",
         "agra",
         "student",
         "'less than 5 hours'",
         "moderate",
         "mbbs",
         "yes",
         "yes"
        ],
        [
         "34",
         "male",
         "srinagar",
         "student",
         "'less than 5 hours'",
         "healthy",
         "llm",
         "yes",
         "yes"
        ],
        [
         "35",
         "male",
         "vasai-virar",
         "student",
         "'5-6 hours'",
         "moderate",
         "ma",
         "no",
         "yes"
        ],
        [
         "36",
         "male",
         "srinagar",
         "student",
         "'less than 5 hours'",
         "moderate",
         "'class 12'",
         "yes",
         "no"
        ],
        [
         "37",
         "male",
         "surat",
         "student",
         "'less than 5 hours'",
         "healthy",
         "mbbs",
         "yes",
         "yes"
        ],
        [
         "38",
         "female",
         "nagpur",
         "student",
         "'5-6 hours'",
         "healthy",
         "msc",
         "yes",
         "no"
        ],
        [
         "39",
         "female",
         "kanpur",
         "student",
         "'less than 5 hours'",
         "unhealthy",
         "'class 12'",
         "yes",
         "no"
        ],
        [
         "40",
         "male",
         "vasai-virar",
         "student",
         "'more than 8 hours'",
         "healthy",
         "b.tech",
         "yes",
         "no"
        ],
        [
         "41",
         "male",
         "visakhapatnam",
         "student",
         "'less than 5 hours'",
         "unhealthy",
         "mba",
         "yes",
         "no"
        ],
        [
         "42",
         "female",
         "vasai-virar",
         "student",
         "'less than 5 hours'",
         "moderate",
         "bca",
         "yes",
         "yes"
        ],
        [
         "43",
         "female",
         "bangalore",
         "student",
         "'5-6 hours'",
         "healthy",
         "b.tech",
         "yes",
         "no"
        ],
        [
         "44",
         "female",
         "kalyan",
         "student",
         "'less than 5 hours'",
         "moderate",
         "bsc",
         "no",
         "no"
        ],
        [
         "45",
         "male",
         "mumbai",
         "student",
         "'more than 8 hours'",
         "moderate",
         "llb",
         "yes",
         "yes"
        ],
        [
         "46",
         "male",
         "vadodara",
         "student",
         "'7-8 hours'",
         "healthy",
         "b.arch",
         "yes",
         "yes"
        ],
        [
         "47",
         "female",
         "bhopal",
         "student",
         "'less than 5 hours'",
         "unhealthy",
         "ma",
         "yes",
         "no"
        ],
        [
         "48",
         "female",
         "rajkot",
         "student",
         "'7-8 hours'",
         "healthy",
         "bca",
         "yes",
         "yes"
        ],
        [
         "49",
         "female",
         "ghaziabad",
         "student",
         "'more than 8 hours'",
         "moderate",
         "b.arch",
         "yes",
         "no"
        ]
       ],
       "shape": {
        "columns": 8,
        "rows": 22320
       }
      },
      "text/html": [
       "<div>\n",
       "<style scoped>\n",
       "    .dataframe tbody tr th:only-of-type {\n",
       "        vertical-align: middle;\n",
       "    }\n",
       "\n",
       "    .dataframe tbody tr th {\n",
       "        vertical-align: top;\n",
       "    }\n",
       "\n",
       "    .dataframe thead th {\n",
       "        text-align: right;\n",
       "    }\n",
       "</style>\n",
       "<table border=\"1\" class=\"dataframe\">\n",
       "  <thead>\n",
       "    <tr style=\"text-align: right;\">\n",
       "      <th></th>\n",
       "      <th>case_transformer__gender</th>\n",
       "      <th>case_transformer__city</th>\n",
       "      <th>case_transformer__profession</th>\n",
       "      <th>case_transformer__sleep_duration</th>\n",
       "      <th>case_transformer__dietary_habits</th>\n",
       "      <th>case_transformer__degree</th>\n",
       "      <th>case_transformer__suicidal_thoughts</th>\n",
       "      <th>case_transformer__family_history</th>\n",
       "    </tr>\n",
       "  </thead>\n",
       "  <tbody>\n",
       "    <tr>\n",
       "      <th>0</th>\n",
       "      <td>male</td>\n",
       "      <td>jaipur</td>\n",
       "      <td>student</td>\n",
       "      <td>'7-8 hours'</td>\n",
       "      <td>moderate</td>\n",
       "      <td>'class 12'</td>\n",
       "      <td>yes</td>\n",
       "      <td>no</td>\n",
       "    </tr>\n",
       "    <tr>\n",
       "      <th>1</th>\n",
       "      <td>male</td>\n",
       "      <td>vadodara</td>\n",
       "      <td>student</td>\n",
       "      <td>'7-8 hours'</td>\n",
       "      <td>moderate</td>\n",
       "      <td>b.arch</td>\n",
       "      <td>no</td>\n",
       "      <td>yes</td>\n",
       "    </tr>\n",
       "    <tr>\n",
       "      <th>2</th>\n",
       "      <td>male</td>\n",
       "      <td>ahmedabad</td>\n",
       "      <td>student</td>\n",
       "      <td>'7-8 hours'</td>\n",
       "      <td>unhealthy</td>\n",
       "      <td>m.ed</td>\n",
       "      <td>yes</td>\n",
       "      <td>yes</td>\n",
       "    </tr>\n",
       "    <tr>\n",
       "      <th>3</th>\n",
       "      <td>male</td>\n",
       "      <td>bhopal</td>\n",
       "      <td>student</td>\n",
       "      <td>'7-8 hours'</td>\n",
       "      <td>moderate</td>\n",
       "      <td>b.com</td>\n",
       "      <td>yes</td>\n",
       "      <td>no</td>\n",
       "    </tr>\n",
       "    <tr>\n",
       "      <th>4</th>\n",
       "      <td>male</td>\n",
       "      <td>patna</td>\n",
       "      <td>student</td>\n",
       "      <td>'5-6 hours'</td>\n",
       "      <td>unhealthy</td>\n",
       "      <td>b.com</td>\n",
       "      <td>no</td>\n",
       "      <td>no</td>\n",
       "    </tr>\n",
       "    <tr>\n",
       "      <th>...</th>\n",
       "      <td>...</td>\n",
       "      <td>...</td>\n",
       "      <td>...</td>\n",
       "      <td>...</td>\n",
       "      <td>...</td>\n",
       "      <td>...</td>\n",
       "      <td>...</td>\n",
       "      <td>...</td>\n",
       "    </tr>\n",
       "    <tr>\n",
       "      <th>22315</th>\n",
       "      <td>male</td>\n",
       "      <td>kolkata</td>\n",
       "      <td>student</td>\n",
       "      <td>'7-8 hours'</td>\n",
       "      <td>unhealthy</td>\n",
       "      <td>b.com</td>\n",
       "      <td>yes</td>\n",
       "      <td>no</td>\n",
       "    </tr>\n",
       "    <tr>\n",
       "      <th>22316</th>\n",
       "      <td>female</td>\n",
       "      <td>patna</td>\n",
       "      <td>student</td>\n",
       "      <td>'less than 5 hours'</td>\n",
       "      <td>unhealthy</td>\n",
       "      <td>msc</td>\n",
       "      <td>yes</td>\n",
       "      <td>yes</td>\n",
       "    </tr>\n",
       "    <tr>\n",
       "      <th>22317</th>\n",
       "      <td>male</td>\n",
       "      <td>lucknow</td>\n",
       "      <td>student</td>\n",
       "      <td>'7-8 hours'</td>\n",
       "      <td>healthy</td>\n",
       "      <td>b.arch</td>\n",
       "      <td>yes</td>\n",
       "      <td>yes</td>\n",
       "    </tr>\n",
       "    <tr>\n",
       "      <th>22318</th>\n",
       "      <td>female</td>\n",
       "      <td>kolkata</td>\n",
       "      <td>student</td>\n",
       "      <td>'5-6 hours'</td>\n",
       "      <td>unhealthy</td>\n",
       "      <td>md</td>\n",
       "      <td>yes</td>\n",
       "      <td>no</td>\n",
       "    </tr>\n",
       "    <tr>\n",
       "      <th>22319</th>\n",
       "      <td>female</td>\n",
       "      <td>thane</td>\n",
       "      <td>student</td>\n",
       "      <td>'5-6 hours'</td>\n",
       "      <td>healthy</td>\n",
       "      <td>b.ed</td>\n",
       "      <td>no</td>\n",
       "      <td>yes</td>\n",
       "    </tr>\n",
       "  </tbody>\n",
       "</table>\n",
       "<p>22320 rows × 8 columns</p>\n",
       "</div>"
      ],
      "text/plain": [
       "      case_transformer__gender case_transformer__city  \\\n",
       "0                         male                 jaipur   \n",
       "1                         male               vadodara   \n",
       "2                         male              ahmedabad   \n",
       "3                         male                 bhopal   \n",
       "4                         male                  patna   \n",
       "...                        ...                    ...   \n",
       "22315                     male                kolkata   \n",
       "22316                   female                  patna   \n",
       "22317                     male                lucknow   \n",
       "22318                   female                kolkata   \n",
       "22319                   female                  thane   \n",
       "\n",
       "      case_transformer__profession case_transformer__sleep_duration  \\\n",
       "0                          student                      '7-8 hours'   \n",
       "1                          student                      '7-8 hours'   \n",
       "2                          student                      '7-8 hours'   \n",
       "3                          student                      '7-8 hours'   \n",
       "4                          student                      '5-6 hours'   \n",
       "...                            ...                              ...   \n",
       "22315                      student                      '7-8 hours'   \n",
       "22316                      student              'less than 5 hours'   \n",
       "22317                      student                      '7-8 hours'   \n",
       "22318                      student                      '5-6 hours'   \n",
       "22319                      student                      '5-6 hours'   \n",
       "\n",
       "      case_transformer__dietary_habits case_transformer__degree  \\\n",
       "0                             moderate               'class 12'   \n",
       "1                             moderate                   b.arch   \n",
       "2                            unhealthy                     m.ed   \n",
       "3                             moderate                    b.com   \n",
       "4                            unhealthy                    b.com   \n",
       "...                                ...                      ...   \n",
       "22315                        unhealthy                    b.com   \n",
       "22316                        unhealthy                      msc   \n",
       "22317                          healthy                   b.arch   \n",
       "22318                        unhealthy                       md   \n",
       "22319                          healthy                     b.ed   \n",
       "\n",
       "      case_transformer__suicidal_thoughts case_transformer__family_history  \n",
       "0                                     yes                               no  \n",
       "1                                      no                              yes  \n",
       "2                                     yes                              yes  \n",
       "3                                     yes                               no  \n",
       "4                                      no                               no  \n",
       "...                                   ...                              ...  \n",
       "22315                                 yes                               no  \n",
       "22316                                 yes                              yes  \n",
       "22317                                 yes                              yes  \n",
       "22318                                 yes                               no  \n",
       "22319                                  no                              yes  \n",
       "\n",
       "[22320 rows x 8 columns]"
      ]
     },
     "execution_count": 47,
     "metadata": {},
     "output_type": "execute_result"
    }
   ],
   "source": [
    "from sklearn.compose import ColumnTransformer\n",
    "from sklearn.pipeline import make_pipeline\n",
    "# ## Creating column transfomer\n",
    "\n",
    "ct = ColumnTransformer([(\n",
    "    \"case_transformer\", case_transformer,category_columns\n",
    ")])\n",
    "\n",
    "ct.set_output(transform=\"pandas\")\n",
    "\n",
    "ct.fit_transform(X=X_train)\n",
    "\n",
    "# cat_pipeline = make_pipeline(case_transformer)\n",
    "\n",
    "# temp = cat_pipeline.fit_transform(X_train,y_train)"
   ]
  },
  {
   "cell_type": "code",
   "execution_count": 45,
   "id": "6329b791",
   "metadata": {},
   "outputs": [
    {
     "data": {
      "application/vnd.microsoft.datawrangler.viewer.v0+json": {
       "columns": [
        {
         "name": "index",
         "rawType": "int64",
         "type": "integer"
        },
        {
         "name": "gender",
         "rawType": "object",
         "type": "string"
        },
        {
         "name": "age",
         "rawType": "float64",
         "type": "float"
        },
        {
         "name": "city",
         "rawType": "object",
         "type": "string"
        },
        {
         "name": "profession",
         "rawType": "object",
         "type": "string"
        },
        {
         "name": "academic_pressure",
         "rawType": "float64",
         "type": "float"
        },
        {
         "name": "work_pressure",
         "rawType": "float64",
         "type": "float"
        },
        {
         "name": "cgpa",
         "rawType": "float64",
         "type": "float"
        },
        {
         "name": "study_satisfaction",
         "rawType": "float64",
         "type": "float"
        },
        {
         "name": "job_satisfaction",
         "rawType": "float64",
         "type": "float"
        },
        {
         "name": "sleep_duration",
         "rawType": "object",
         "type": "string"
        },
        {
         "name": "dietary_habits",
         "rawType": "object",
         "type": "string"
        },
        {
         "name": "degree",
         "rawType": "object",
         "type": "string"
        },
        {
         "name": "suicidal_thoughts",
         "rawType": "object",
         "type": "string"
        },
        {
         "name": "work_study_hours",
         "rawType": "float64",
         "type": "float"
        },
        {
         "name": "financial_stress",
         "rawType": "float64",
         "type": "float"
        },
        {
         "name": "family_history",
         "rawType": "object",
         "type": "string"
        }
       ],
       "conversionMethod": "pd.DataFrame",
       "ref": "81c68730-5236-46c6-9bde-b6967492523b",
       "rows": [
        [
         "0",
         "Male",
         "18.0",
         "Jaipur",
         "Student",
         "4.0",
         "0.0",
         "6.02",
         "1.0",
         "0.0",
         "'7-8 hours'",
         "Moderate",
         "'Class 12'",
         "Yes",
         "3.0",
         "5.0",
         "No"
        ],
        [
         "1",
         "Male",
         "25.0",
         "Vadodara",
         "Student",
         "3.0",
         "0.0",
         "6.37",
         "2.0",
         "0.0",
         "'7-8 hours'",
         "Moderate",
         "B.Arch",
         "No",
         "9.0",
         "1.0",
         "Yes"
        ],
        [
         "2",
         "Male",
         "30.0",
         "Ahmedabad",
         "Student",
         "3.0",
         "0.0",
         "9.24",
         "2.0",
         "0.0",
         "'7-8 hours'",
         "Unhealthy",
         "M.Ed",
         "Yes",
         "5.0",
         "5.0",
         "Yes"
        ],
        [
         "3",
         "Male",
         "34.0",
         "Bhopal",
         "Student",
         "3.0",
         "0.0",
         "7.37",
         "5.0",
         "0.0",
         "'7-8 hours'",
         "Moderate",
         "B.Com",
         "Yes",
         "12.0",
         "3.0",
         "No"
        ],
        [
         "4",
         "Male",
         "25.0",
         "Patna",
         "Student",
         "3.0",
         "0.0",
         "7.47",
         "4.0",
         "0.0",
         "'5-6 hours'",
         "Unhealthy",
         "B.Com",
         "No",
         "11.0",
         "5.0",
         "No"
        ]
       ],
       "shape": {
        "columns": 16,
        "rows": 5
       }
      },
      "text/html": [
       "<div>\n",
       "<style scoped>\n",
       "    .dataframe tbody tr th:only-of-type {\n",
       "        vertical-align: middle;\n",
       "    }\n",
       "\n",
       "    .dataframe tbody tr th {\n",
       "        vertical-align: top;\n",
       "    }\n",
       "\n",
       "    .dataframe thead th {\n",
       "        text-align: right;\n",
       "    }\n",
       "</style>\n",
       "<table border=\"1\" class=\"dataframe\">\n",
       "  <thead>\n",
       "    <tr style=\"text-align: right;\">\n",
       "      <th></th>\n",
       "      <th>gender</th>\n",
       "      <th>age</th>\n",
       "      <th>city</th>\n",
       "      <th>profession</th>\n",
       "      <th>academic_pressure</th>\n",
       "      <th>work_pressure</th>\n",
       "      <th>cgpa</th>\n",
       "      <th>study_satisfaction</th>\n",
       "      <th>job_satisfaction</th>\n",
       "      <th>sleep_duration</th>\n",
       "      <th>dietary_habits</th>\n",
       "      <th>degree</th>\n",
       "      <th>suicidal_thoughts</th>\n",
       "      <th>work_study_hours</th>\n",
       "      <th>financial_stress</th>\n",
       "      <th>family_history</th>\n",
       "    </tr>\n",
       "  </thead>\n",
       "  <tbody>\n",
       "    <tr>\n",
       "      <th>0</th>\n",
       "      <td>Male</td>\n",
       "      <td>18.0</td>\n",
       "      <td>Jaipur</td>\n",
       "      <td>Student</td>\n",
       "      <td>4.0</td>\n",
       "      <td>0.0</td>\n",
       "      <td>6.02</td>\n",
       "      <td>1.0</td>\n",
       "      <td>0.0</td>\n",
       "      <td>'7-8 hours'</td>\n",
       "      <td>Moderate</td>\n",
       "      <td>'Class 12'</td>\n",
       "      <td>Yes</td>\n",
       "      <td>3.0</td>\n",
       "      <td>5.0</td>\n",
       "      <td>No</td>\n",
       "    </tr>\n",
       "    <tr>\n",
       "      <th>1</th>\n",
       "      <td>Male</td>\n",
       "      <td>25.0</td>\n",
       "      <td>Vadodara</td>\n",
       "      <td>Student</td>\n",
       "      <td>3.0</td>\n",
       "      <td>0.0</td>\n",
       "      <td>6.37</td>\n",
       "      <td>2.0</td>\n",
       "      <td>0.0</td>\n",
       "      <td>'7-8 hours'</td>\n",
       "      <td>Moderate</td>\n",
       "      <td>B.Arch</td>\n",
       "      <td>No</td>\n",
       "      <td>9.0</td>\n",
       "      <td>1.0</td>\n",
       "      <td>Yes</td>\n",
       "    </tr>\n",
       "    <tr>\n",
       "      <th>2</th>\n",
       "      <td>Male</td>\n",
       "      <td>30.0</td>\n",
       "      <td>Ahmedabad</td>\n",
       "      <td>Student</td>\n",
       "      <td>3.0</td>\n",
       "      <td>0.0</td>\n",
       "      <td>9.24</td>\n",
       "      <td>2.0</td>\n",
       "      <td>0.0</td>\n",
       "      <td>'7-8 hours'</td>\n",
       "      <td>Unhealthy</td>\n",
       "      <td>M.Ed</td>\n",
       "      <td>Yes</td>\n",
       "      <td>5.0</td>\n",
       "      <td>5.0</td>\n",
       "      <td>Yes</td>\n",
       "    </tr>\n",
       "    <tr>\n",
       "      <th>3</th>\n",
       "      <td>Male</td>\n",
       "      <td>34.0</td>\n",
       "      <td>Bhopal</td>\n",
       "      <td>Student</td>\n",
       "      <td>3.0</td>\n",
       "      <td>0.0</td>\n",
       "      <td>7.37</td>\n",
       "      <td>5.0</td>\n",
       "      <td>0.0</td>\n",
       "      <td>'7-8 hours'</td>\n",
       "      <td>Moderate</td>\n",
       "      <td>B.Com</td>\n",
       "      <td>Yes</td>\n",
       "      <td>12.0</td>\n",
       "      <td>3.0</td>\n",
       "      <td>No</td>\n",
       "    </tr>\n",
       "    <tr>\n",
       "      <th>4</th>\n",
       "      <td>Male</td>\n",
       "      <td>25.0</td>\n",
       "      <td>Patna</td>\n",
       "      <td>Student</td>\n",
       "      <td>3.0</td>\n",
       "      <td>0.0</td>\n",
       "      <td>7.47</td>\n",
       "      <td>4.0</td>\n",
       "      <td>0.0</td>\n",
       "      <td>'5-6 hours'</td>\n",
       "      <td>Unhealthy</td>\n",
       "      <td>B.Com</td>\n",
       "      <td>No</td>\n",
       "      <td>11.0</td>\n",
       "      <td>5.0</td>\n",
       "      <td>No</td>\n",
       "    </tr>\n",
       "  </tbody>\n",
       "</table>\n",
       "</div>"
      ],
      "text/plain": [
       "  gender   age       city profession  academic_pressure  work_pressure  cgpa  \\\n",
       "0   Male  18.0     Jaipur    Student                4.0            0.0  6.02   \n",
       "1   Male  25.0   Vadodara    Student                3.0            0.0  6.37   \n",
       "2   Male  30.0  Ahmedabad    Student                3.0            0.0  9.24   \n",
       "3   Male  34.0     Bhopal    Student                3.0            0.0  7.37   \n",
       "4   Male  25.0      Patna    Student                3.0            0.0  7.47   \n",
       "\n",
       "   study_satisfaction  job_satisfaction sleep_duration dietary_habits  \\\n",
       "0                 1.0               0.0    '7-8 hours'       Moderate   \n",
       "1                 2.0               0.0    '7-8 hours'       Moderate   \n",
       "2                 2.0               0.0    '7-8 hours'      Unhealthy   \n",
       "3                 5.0               0.0    '7-8 hours'       Moderate   \n",
       "4                 4.0               0.0    '5-6 hours'      Unhealthy   \n",
       "\n",
       "       degree suicidal_thoughts  work_study_hours  financial_stress  \\\n",
       "0  'Class 12'               Yes               3.0               5.0   \n",
       "1      B.Arch                No               9.0               1.0   \n",
       "2        M.Ed               Yes               5.0               5.0   \n",
       "3       B.Com               Yes              12.0               3.0   \n",
       "4       B.Com                No              11.0               5.0   \n",
       "\n",
       "  family_history  \n",
       "0             No  \n",
       "1            Yes  \n",
       "2            Yes  \n",
       "3             No  \n",
       "4             No  "
      ]
     },
     "execution_count": 45,
     "metadata": {},
     "output_type": "execute_result"
    }
   ],
   "source": [
    "X_train.head()"
   ]
  },
  {
   "cell_type": "code",
   "execution_count": null,
   "id": "1419b5d8",
   "metadata": {},
   "outputs": [],
   "source": [
    "\n",
    "\n"
   ]
  },
  {
   "cell_type": "markdown",
   "id": "4b353596",
   "metadata": {},
   "source": [
    "### Handling Missing Values"
   ]
  },
  {
   "cell_type": "code",
   "execution_count": null,
   "id": "879277c5",
   "metadata": {},
   "outputs": [
    {
     "data": {
      "text/plain": [
       "gender                0\n",
       "age                   0\n",
       "city                  0\n",
       "profession            0\n",
       "academic_pressure     0\n",
       "work_pressure         0\n",
       "cgpa                  0\n",
       "study_satisfaction    0\n",
       "job_satisfaction      0\n",
       "sleep_duration        0\n",
       "dietary_habits        0\n",
       "degree                0\n",
       "suicidal_thoughts     0\n",
       "work_study_hours      0\n",
       "financial_stress      2\n",
       "family_history        0\n",
       "dtype: int64"
      ]
     },
     "metadata": {},
     "output_type": "display_data"
    }
   ],
   "source": [
    "X_train.isna().sum()"
   ]
  },
  {
   "cell_type": "code",
   "execution_count": null,
   "id": "c8c34a5d",
   "metadata": {},
   "outputs": [
    {
     "data": {
      "text/plain": [
       "gender                0\n",
       "age                   0\n",
       "city                  0\n",
       "profession            0\n",
       "academic_pressure     0\n",
       "work_pressure         0\n",
       "cgpa                  0\n",
       "study_satisfaction    0\n",
       "job_satisfaction      0\n",
       "sleep_duration        0\n",
       "dietary_habits        0\n",
       "degree                0\n",
       "suicidal_thoughts     0\n",
       "work_study_hours      0\n",
       "financial_stress      2\n",
       "family_history        0\n",
       "dtype: int64"
      ]
     },
     "metadata": {},
     "output_type": "display_data"
    }
   ],
   "source": [
    "X_train.isnull().sum()"
   ]
  },
  {
   "cell_type": "markdown",
   "id": "1b9e9f31",
   "metadata": {},
   "source": [
    "* So far we only have \"financial_stress\" with couple NaN values, we can fix this with a SimpleImputer or KNNImputer"
   ]
  },
  {
   "cell_type": "markdown",
   "id": "0ff22eb8",
   "metadata": {},
   "source": [
    "### Exploring Categorical Values"
   ]
  },
  {
   "cell_type": "code",
   "execution_count": null,
   "id": "1191ae5b",
   "metadata": {},
   "outputs": [
    {
     "data": {
      "text/plain": [
       "gender\n",
       "Male      12437\n",
       "Female     9883\n",
       "Name: count, dtype: int64"
      ]
     },
     "metadata": {},
     "output_type": "display_data"
    }
   ],
   "source": [
    "## lets explore the \"gender\" column\n",
    "X_train[\"gender\"].value_counts()"
   ]
  },
  {
   "cell_type": "markdown",
   "id": "b46d7de3",
   "metadata": {},
   "source": [
    "* Since the dataset has only 2 genders, we'll map them to 1 for \"Male\" and 0 for \"Female\"."
   ]
  },
  {
   "cell_type": "code",
   "execution_count": null,
   "id": "e476b5ee",
   "metadata": {},
   "outputs": [
    {
     "data": {
      "text/plain": [
       "city\n",
       "Kalyan                  1284\n",
       "Srinagar                1073\n",
       "Hyderabad               1063\n",
       "Vasai-Virar             1042\n",
       "Lucknow                  943\n",
       "Thane                    910\n",
       "Kolkata                  890\n",
       "Agra                     864\n",
       "Ludhiana                 848\n",
       "Surat                    842\n",
       "Jaipur                   840\n",
       "Patna                    823\n",
       "Visakhapatnam            763\n",
       "Pune                     751\n",
       "Bhopal                   748\n",
       "Ahmedabad                748\n",
       "Chennai                  707\n",
       "Meerut                   660\n",
       "Rajkot                   633\n",
       "Bangalore                625\n",
       "Delhi                    602\n",
       "Ghaziabad                588\n",
       "Mumbai                   563\n",
       "Vadodara                 561\n",
       "Varanasi                 550\n",
       "Nagpur                   533\n",
       "Indore                   519\n",
       "Kanpur                   493\n",
       "Nashik                   452\n",
       "Faridabad                381\n",
       "Harsha                     2\n",
       "Bhavna                     2\n",
       "Saanvi                     2\n",
       "City                       2\n",
       "Khaziabad                  1\n",
       "M.Com                      1\n",
       "3.0                        1\n",
       "Harsh                      1\n",
       "Mihir                      1\n",
       "'Less Delhi'               1\n",
       "Gaurav                     1\n",
       "Nalyan                     1\n",
       "Nandini                    1\n",
       "'Less than 5 Kalyan'       1\n",
       "Reyansh                    1\n",
       "M.Tech                     1\n",
       "Mira                       1\n",
       "Name: count, dtype: int64"
      ]
     },
     "metadata": {},
     "output_type": "display_data"
    }
   ],
   "source": [
    "## lets explore \"city\" column\n",
    "X_train[\"city\"].value_counts()"
   ]
  },
  {
   "cell_type": "markdown",
   "id": "19dc5304",
   "metadata": {},
   "source": [
    "* So city column needs some clearning, we can see there are some values which are obviously not a city but rather distances, person names and education degree names. \n",
    "* We also have access to a mapping between major Indian cities and their latlong in a different dataset.  We can use that dataset to validate the city names and map latlong to them. \n",
    "* Plan is to then use lat-long to create new features based on similarity. "
   ]
  },
  {
   "cell_type": "code",
   "execution_count": null,
   "id": "48f54b4e",
   "metadata": {},
   "outputs": [],
   "source": [
    "## lets add a temporary flag column is_city which will be set to 1 if its a valid city.\n",
    "## we'll also use this in test in case our test data cities are invalid.\n",
    "X_train[\"is_city\"] = 0"
   ]
  },
  {
   "cell_type": "code",
   "execution_count": null,
   "id": "8b788db5",
   "metadata": {},
   "outputs": [],
   "source": [
    "## we'll also add a default lat/long to all cities. \n",
    "## for now lets default it center of India\n",
    "## after searching I learnt that `Nagpur` is the geographical center of India so we'll set the default lat/long to that\n",
    "\n",
    "X_train[\"lat\"] = 21.122615\n",
    "X_train[\"long\"] = 79.041124"
   ]
  },
  {
   "cell_type": "code",
   "execution_count": null,
   "id": "78b0b742",
   "metadata": {},
   "outputs": [
    {
     "data": {
      "application/vnd.microsoft.datawrangler.viewer.v0+json": {
       "columns": [
        {
         "name": "index",
         "rawType": "int64",
         "type": "integer"
        },
        {
         "name": "gender",
         "rawType": "object",
         "type": "string"
        },
        {
         "name": "age",
         "rawType": "float64",
         "type": "float"
        },
        {
         "name": "city",
         "rawType": "object",
         "type": "string"
        },
        {
         "name": "profession",
         "rawType": "object",
         "type": "string"
        },
        {
         "name": "academic_pressure",
         "rawType": "float64",
         "type": "float"
        },
        {
         "name": "work_pressure",
         "rawType": "float64",
         "type": "float"
        },
        {
         "name": "cgpa",
         "rawType": "float64",
         "type": "float"
        },
        {
         "name": "study_satisfaction",
         "rawType": "float64",
         "type": "float"
        },
        {
         "name": "job_satisfaction",
         "rawType": "float64",
         "type": "float"
        },
        {
         "name": "sleep_duration",
         "rawType": "object",
         "type": "string"
        },
        {
         "name": "dietary_habits",
         "rawType": "object",
         "type": "string"
        },
        {
         "name": "degree",
         "rawType": "object",
         "type": "string"
        },
        {
         "name": "suicidal_thoughts",
         "rawType": "object",
         "type": "string"
        },
        {
         "name": "work_study_hours",
         "rawType": "float64",
         "type": "float"
        },
        {
         "name": "financial_stress",
         "rawType": "float64",
         "type": "float"
        },
        {
         "name": "family_history",
         "rawType": "object",
         "type": "string"
        },
        {
         "name": "is_city",
         "rawType": "int64",
         "type": "integer"
        },
        {
         "name": "lat",
         "rawType": "float64",
         "type": "float"
        },
        {
         "name": "long",
         "rawType": "float64",
         "type": "float"
        }
       ],
       "conversionMethod": "pd.DataFrame",
       "ref": "4774d0f4-0f0c-49f2-96af-71d1d19b093b",
       "rows": [
        [
         "1657",
         "Male",
         "18.0",
         "Jaipur",
         "Student",
         "4.0",
         "0.0",
         "6.02",
         "1.0",
         "0.0",
         "'7-8 hours'",
         "Moderate",
         "'Class 12'",
         "Yes",
         "3.0",
         "5.0",
         "No",
         "0",
         "21.122615",
         "79.041124"
        ],
        [
         "24995",
         "Male",
         "25.0",
         "Vadodara",
         "Student",
         "3.0",
         "0.0",
         "6.37",
         "2.0",
         "0.0",
         "'7-8 hours'",
         "Moderate",
         "B.Arch",
         "No",
         "9.0",
         "1.0",
         "Yes",
         "0",
         "21.122615",
         "79.041124"
        ],
        [
         "27613",
         "Male",
         "30.0",
         "Ahmedabad",
         "Student",
         "3.0",
         "0.0",
         "9.24",
         "2.0",
         "0.0",
         "'7-8 hours'",
         "Unhealthy",
         "M.Ed",
         "Yes",
         "5.0",
         "5.0",
         "Yes",
         "0",
         "21.122615",
         "79.041124"
        ],
        [
         "13512",
         "Male",
         "34.0",
         "Bhopal",
         "Student",
         "3.0",
         "0.0",
         "7.37",
         "5.0",
         "0.0",
         "'7-8 hours'",
         "Moderate",
         "B.Com",
         "Yes",
         "12.0",
         "3.0",
         "No",
         "0",
         "21.122615",
         "79.041124"
        ],
        [
         "27029",
         "Male",
         "25.0",
         "Patna",
         "Student",
         "3.0",
         "0.0",
         "7.47",
         "4.0",
         "0.0",
         "'5-6 hours'",
         "Unhealthy",
         "B.Com",
         "No",
         "11.0",
         "5.0",
         "No",
         "0",
         "21.122615",
         "79.041124"
        ]
       ],
       "shape": {
        "columns": 19,
        "rows": 5
       }
      },
      "text/html": [
       "<div>\n",
       "<style scoped>\n",
       "    .dataframe tbody tr th:only-of-type {\n",
       "        vertical-align: middle;\n",
       "    }\n",
       "\n",
       "    .dataframe tbody tr th {\n",
       "        vertical-align: top;\n",
       "    }\n",
       "\n",
       "    .dataframe thead th {\n",
       "        text-align: right;\n",
       "    }\n",
       "</style>\n",
       "<table border=\"1\" class=\"dataframe\">\n",
       "  <thead>\n",
       "    <tr style=\"text-align: right;\">\n",
       "      <th></th>\n",
       "      <th>gender</th>\n",
       "      <th>age</th>\n",
       "      <th>city</th>\n",
       "      <th>profession</th>\n",
       "      <th>academic_pressure</th>\n",
       "      <th>work_pressure</th>\n",
       "      <th>cgpa</th>\n",
       "      <th>study_satisfaction</th>\n",
       "      <th>job_satisfaction</th>\n",
       "      <th>sleep_duration</th>\n",
       "      <th>dietary_habits</th>\n",
       "      <th>degree</th>\n",
       "      <th>suicidal_thoughts</th>\n",
       "      <th>work_study_hours</th>\n",
       "      <th>financial_stress</th>\n",
       "      <th>family_history</th>\n",
       "      <th>is_city</th>\n",
       "      <th>lat</th>\n",
       "      <th>long</th>\n",
       "    </tr>\n",
       "  </thead>\n",
       "  <tbody>\n",
       "    <tr>\n",
       "      <th>1657</th>\n",
       "      <td>Male</td>\n",
       "      <td>18.0</td>\n",
       "      <td>Jaipur</td>\n",
       "      <td>Student</td>\n",
       "      <td>4.0</td>\n",
       "      <td>0.0</td>\n",
       "      <td>6.02</td>\n",
       "      <td>1.0</td>\n",
       "      <td>0.0</td>\n",
       "      <td>'7-8 hours'</td>\n",
       "      <td>Moderate</td>\n",
       "      <td>'Class 12'</td>\n",
       "      <td>Yes</td>\n",
       "      <td>3.0</td>\n",
       "      <td>5.0</td>\n",
       "      <td>No</td>\n",
       "      <td>0</td>\n",
       "      <td>21.122615</td>\n",
       "      <td>79.041124</td>\n",
       "    </tr>\n",
       "    <tr>\n",
       "      <th>24995</th>\n",
       "      <td>Male</td>\n",
       "      <td>25.0</td>\n",
       "      <td>Vadodara</td>\n",
       "      <td>Student</td>\n",
       "      <td>3.0</td>\n",
       "      <td>0.0</td>\n",
       "      <td>6.37</td>\n",
       "      <td>2.0</td>\n",
       "      <td>0.0</td>\n",
       "      <td>'7-8 hours'</td>\n",
       "      <td>Moderate</td>\n",
       "      <td>B.Arch</td>\n",
       "      <td>No</td>\n",
       "      <td>9.0</td>\n",
       "      <td>1.0</td>\n",
       "      <td>Yes</td>\n",
       "      <td>0</td>\n",
       "      <td>21.122615</td>\n",
       "      <td>79.041124</td>\n",
       "    </tr>\n",
       "    <tr>\n",
       "      <th>27613</th>\n",
       "      <td>Male</td>\n",
       "      <td>30.0</td>\n",
       "      <td>Ahmedabad</td>\n",
       "      <td>Student</td>\n",
       "      <td>3.0</td>\n",
       "      <td>0.0</td>\n",
       "      <td>9.24</td>\n",
       "      <td>2.0</td>\n",
       "      <td>0.0</td>\n",
       "      <td>'7-8 hours'</td>\n",
       "      <td>Unhealthy</td>\n",
       "      <td>M.Ed</td>\n",
       "      <td>Yes</td>\n",
       "      <td>5.0</td>\n",
       "      <td>5.0</td>\n",
       "      <td>Yes</td>\n",
       "      <td>0</td>\n",
       "      <td>21.122615</td>\n",
       "      <td>79.041124</td>\n",
       "    </tr>\n",
       "    <tr>\n",
       "      <th>13512</th>\n",
       "      <td>Male</td>\n",
       "      <td>34.0</td>\n",
       "      <td>Bhopal</td>\n",
       "      <td>Student</td>\n",
       "      <td>3.0</td>\n",
       "      <td>0.0</td>\n",
       "      <td>7.37</td>\n",
       "      <td>5.0</td>\n",
       "      <td>0.0</td>\n",
       "      <td>'7-8 hours'</td>\n",
       "      <td>Moderate</td>\n",
       "      <td>B.Com</td>\n",
       "      <td>Yes</td>\n",
       "      <td>12.0</td>\n",
       "      <td>3.0</td>\n",
       "      <td>No</td>\n",
       "      <td>0</td>\n",
       "      <td>21.122615</td>\n",
       "      <td>79.041124</td>\n",
       "    </tr>\n",
       "    <tr>\n",
       "      <th>27029</th>\n",
       "      <td>Male</td>\n",
       "      <td>25.0</td>\n",
       "      <td>Patna</td>\n",
       "      <td>Student</td>\n",
       "      <td>3.0</td>\n",
       "      <td>0.0</td>\n",
       "      <td>7.47</td>\n",
       "      <td>4.0</td>\n",
       "      <td>0.0</td>\n",
       "      <td>'5-6 hours'</td>\n",
       "      <td>Unhealthy</td>\n",
       "      <td>B.Com</td>\n",
       "      <td>No</td>\n",
       "      <td>11.0</td>\n",
       "      <td>5.0</td>\n",
       "      <td>No</td>\n",
       "      <td>0</td>\n",
       "      <td>21.122615</td>\n",
       "      <td>79.041124</td>\n",
       "    </tr>\n",
       "  </tbody>\n",
       "</table>\n",
       "</div>"
      ],
      "text/plain": [
       "      gender   age       city profession  academic_pressure  work_pressure  \\\n",
       "1657    Male  18.0     Jaipur    Student                4.0            0.0   \n",
       "24995   Male  25.0   Vadodara    Student                3.0            0.0   \n",
       "27613   Male  30.0  Ahmedabad    Student                3.0            0.0   \n",
       "13512   Male  34.0     Bhopal    Student                3.0            0.0   \n",
       "27029   Male  25.0      Patna    Student                3.0            0.0   \n",
       "\n",
       "       cgpa  study_satisfaction  job_satisfaction sleep_duration  \\\n",
       "1657   6.02                 1.0               0.0    '7-8 hours'   \n",
       "24995  6.37                 2.0               0.0    '7-8 hours'   \n",
       "27613  9.24                 2.0               0.0    '7-8 hours'   \n",
       "13512  7.37                 5.0               0.0    '7-8 hours'   \n",
       "27029  7.47                 4.0               0.0    '5-6 hours'   \n",
       "\n",
       "      dietary_habits      degree suicidal_thoughts  work_study_hours  \\\n",
       "1657        Moderate  'Class 12'               Yes               3.0   \n",
       "24995       Moderate      B.Arch                No               9.0   \n",
       "27613      Unhealthy        M.Ed               Yes               5.0   \n",
       "13512       Moderate       B.Com               Yes              12.0   \n",
       "27029      Unhealthy       B.Com                No              11.0   \n",
       "\n",
       "       financial_stress family_history  is_city        lat       long  \n",
       "1657                5.0             No        0  21.122615  79.041124  \n",
       "24995               1.0            Yes        0  21.122615  79.041124  \n",
       "27613               5.0            Yes        0  21.122615  79.041124  \n",
       "13512               3.0             No        0  21.122615  79.041124  \n",
       "27029               5.0             No        0  21.122615  79.041124  "
      ]
     },
     "metadata": {},
     "output_type": "display_data"
    }
   ],
   "source": [
    "X_train.head()"
   ]
  },
  {
   "cell_type": "markdown",
   "id": "6c62a49b",
   "metadata": {},
   "source": [
    "* Lets read the city list and try to clean up the cities column"
   ]
  },
  {
   "cell_type": "code",
   "execution_count": null,
   "id": "645007f9",
   "metadata": {},
   "outputs": [
    {
     "data": {
      "application/vnd.microsoft.datawrangler.viewer.v0+json": {
       "columns": [
        {
         "name": "index",
         "rawType": "int64",
         "type": "integer"
        },
        {
         "name": "city",
         "rawType": "object",
         "type": "string"
        },
        {
         "name": "lat",
         "rawType": "float64",
         "type": "float"
        },
        {
         "name": "lng",
         "rawType": "float64",
         "type": "float"
        },
        {
         "name": "country",
         "rawType": "object",
         "type": "string"
        },
        {
         "name": "iso2",
         "rawType": "object",
         "type": "string"
        },
        {
         "name": "admin_name",
         "rawType": "object",
         "type": "string"
        },
        {
         "name": "capital",
         "rawType": "object",
         "type": "string"
        },
        {
         "name": "population",
         "rawType": "int64",
         "type": "integer"
        },
        {
         "name": "population_proper",
         "rawType": "int64",
         "type": "integer"
        }
       ],
       "conversionMethod": "pd.DataFrame",
       "ref": "03523c54-92e1-4333-9fd1-bc77d2f4bd19",
       "rows": [
        [
         "0",
         "Delhi",
         "28.61",
         "77.23",
         "India",
         "IN",
         "Delhi",
         "admin",
         "32226000",
         "16753235"
        ],
        [
         "1",
         "Mumbai",
         "19.0761",
         "72.8775",
         "India",
         "IN",
         "Mahārāshtra",
         "admin",
         "24973000",
         "12478447"
        ],
        [
         "2",
         "Kolkāta",
         "22.5675",
         "88.37",
         "India",
         "IN",
         "West Bengal",
         "admin",
         "18502000",
         "4496694"
        ],
        [
         "3",
         "Bangalore",
         "12.9789",
         "77.5917",
         "India",
         "IN",
         "Karnātaka",
         "admin",
         "15386000",
         "8443675"
        ],
        [
         "4",
         "Chennai",
         "13.0825",
         "80.275",
         "India",
         "IN",
         "Tamil Nādu",
         "admin",
         "12395000",
         "6727000"
        ]
       ],
       "shape": {
        "columns": 9,
        "rows": 5
       }
      },
      "text/html": [
       "<div>\n",
       "<style scoped>\n",
       "    .dataframe tbody tr th:only-of-type {\n",
       "        vertical-align: middle;\n",
       "    }\n",
       "\n",
       "    .dataframe tbody tr th {\n",
       "        vertical-align: top;\n",
       "    }\n",
       "\n",
       "    .dataframe thead th {\n",
       "        text-align: right;\n",
       "    }\n",
       "</style>\n",
       "<table border=\"1\" class=\"dataframe\">\n",
       "  <thead>\n",
       "    <tr style=\"text-align: right;\">\n",
       "      <th></th>\n",
       "      <th>city</th>\n",
       "      <th>lat</th>\n",
       "      <th>lng</th>\n",
       "      <th>country</th>\n",
       "      <th>iso2</th>\n",
       "      <th>admin_name</th>\n",
       "      <th>capital</th>\n",
       "      <th>population</th>\n",
       "      <th>population_proper</th>\n",
       "    </tr>\n",
       "  </thead>\n",
       "  <tbody>\n",
       "    <tr>\n",
       "      <th>0</th>\n",
       "      <td>Delhi</td>\n",
       "      <td>28.6100</td>\n",
       "      <td>77.2300</td>\n",
       "      <td>India</td>\n",
       "      <td>IN</td>\n",
       "      <td>Delhi</td>\n",
       "      <td>admin</td>\n",
       "      <td>32226000</td>\n",
       "      <td>16753235</td>\n",
       "    </tr>\n",
       "    <tr>\n",
       "      <th>1</th>\n",
       "      <td>Mumbai</td>\n",
       "      <td>19.0761</td>\n",
       "      <td>72.8775</td>\n",
       "      <td>India</td>\n",
       "      <td>IN</td>\n",
       "      <td>Mahārāshtra</td>\n",
       "      <td>admin</td>\n",
       "      <td>24973000</td>\n",
       "      <td>12478447</td>\n",
       "    </tr>\n",
       "    <tr>\n",
       "      <th>2</th>\n",
       "      <td>Kolkāta</td>\n",
       "      <td>22.5675</td>\n",
       "      <td>88.3700</td>\n",
       "      <td>India</td>\n",
       "      <td>IN</td>\n",
       "      <td>West Bengal</td>\n",
       "      <td>admin</td>\n",
       "      <td>18502000</td>\n",
       "      <td>4496694</td>\n",
       "    </tr>\n",
       "    <tr>\n",
       "      <th>3</th>\n",
       "      <td>Bangalore</td>\n",
       "      <td>12.9789</td>\n",
       "      <td>77.5917</td>\n",
       "      <td>India</td>\n",
       "      <td>IN</td>\n",
       "      <td>Karnātaka</td>\n",
       "      <td>admin</td>\n",
       "      <td>15386000</td>\n",
       "      <td>8443675</td>\n",
       "    </tr>\n",
       "    <tr>\n",
       "      <th>4</th>\n",
       "      <td>Chennai</td>\n",
       "      <td>13.0825</td>\n",
       "      <td>80.2750</td>\n",
       "      <td>India</td>\n",
       "      <td>IN</td>\n",
       "      <td>Tamil Nādu</td>\n",
       "      <td>admin</td>\n",
       "      <td>12395000</td>\n",
       "      <td>6727000</td>\n",
       "    </tr>\n",
       "  </tbody>\n",
       "</table>\n",
       "</div>"
      ],
      "text/plain": [
       "        city      lat      lng country iso2   admin_name capital  population  \\\n",
       "0      Delhi  28.6100  77.2300   India   IN        Delhi   admin    32226000   \n",
       "1     Mumbai  19.0761  72.8775   India   IN  Mahārāshtra   admin    24973000   \n",
       "2    Kolkāta  22.5675  88.3700   India   IN  West Bengal   admin    18502000   \n",
       "3  Bangalore  12.9789  77.5917   India   IN    Karnātaka   admin    15386000   \n",
       "4    Chennai  13.0825  80.2750   India   IN   Tamil Nādu   admin    12395000   \n",
       "\n",
       "   population_proper  \n",
       "0           16753235  \n",
       "1           12478447  \n",
       "2            4496694  \n",
       "3            8443675  \n",
       "4            6727000  "
      ]
     },
     "metadata": {},
     "output_type": "display_data"
    }
   ],
   "source": [
    "## read master city list\n",
    "city_list = pd.read_csv(Path(data_dir,\"in.csv\"))\n",
    "city_list.head()"
   ]
  },
  {
   "cell_type": "code",
   "execution_count": null,
   "id": "3765ae7c",
   "metadata": {},
   "outputs": [
    {
     "data": {
      "text/plain": [
       "(162, 9)"
      ]
     },
     "metadata": {},
     "output_type": "display_data"
    }
   ],
   "source": [
    "city_list.shape"
   ]
  },
  {
   "cell_type": "markdown",
   "id": "48578c4c",
   "metadata": {},
   "source": [
    "* We only have ~162 cities, which means this might have just the major cities of India, lets see if its enough to cleanup our dataset."
   ]
  },
  {
   "cell_type": "code",
   "execution_count": null,
   "id": "607fe137",
   "metadata": {},
   "outputs": [
    {
     "data": {
      "text/plain": [
       "['delhi',\n",
       " 'mumbai',\n",
       " 'kolkāta',\n",
       " 'bangalore',\n",
       " 'chennai',\n",
       " 'hyderābād',\n",
       " 'pune',\n",
       " 'ahmedabad',\n",
       " 'sūrat',\n",
       " 'lucknow',\n",
       " 'jaipur',\n",
       " 'kanpur',\n",
       " 'mirzāpur',\n",
       " 'nāgpur',\n",
       " 'ghāziābād',\n",
       " 'supaul',\n",
       " 'vadodara',\n",
       " 'rājkot',\n",
       " 'vishākhapatnam',\n",
       " 'indore',\n",
       " 'thāne',\n",
       " 'bhopāl',\n",
       " 'pimpri-chinchwad',\n",
       " 'patna',\n",
       " 'bilāspur',\n",
       " 'ludhiāna',\n",
       " 'āgra',\n",
       " 'madurai',\n",
       " 'jamshedpur',\n",
       " 'prayagraj',\n",
       " 'nāsik',\n",
       " 'farīdābād',\n",
       " 'meerut',\n",
       " 'jabalpur',\n",
       " 'kalyān',\n",
       " 'vasai-virar',\n",
       " 'najafgarh',\n",
       " 'vārānasi',\n",
       " 'srīnagar',\n",
       " 'aurangābād',\n",
       " 'dhanbād',\n",
       " 'amritsar',\n",
       " 'alīgarh',\n",
       " 'guwāhāti',\n",
       " 'hāora',\n",
       " 'rānchi',\n",
       " 'gwalior',\n",
       " 'chandīgarh',\n",
       " 'haldwāni',\n",
       " 'vijayavāda',\n",
       " 'jodhpur',\n",
       " 'raipur',\n",
       " 'kota',\n",
       " 'bhayandar',\n",
       " 'loni',\n",
       " 'ambattūr',\n",
       " 'salt lake city',\n",
       " 'bhātpāra',\n",
       " 'kūkatpalli',\n",
       " 'dāsarhalli',\n",
       " 'muzaffarpur',\n",
       " 'oulgaret',\n",
       " 'new delhi',\n",
       " 'tiruvottiyūr',\n",
       " 'puducherry',\n",
       " 'byatarayanpur',\n",
       " 'pallāvaram',\n",
       " 'secunderābād',\n",
       " 'shimla',\n",
       " 'puri',\n",
       " 'murtazābād',\n",
       " 'shrīrāmpur',\n",
       " 'chandannagar',\n",
       " 'sultānpur mazra',\n",
       " 'krishnanagar',\n",
       " 'bārākpur',\n",
       " 'bhālswa jahangirpur',\n",
       " 'nāngloi jāt',\n",
       " 'balasore',\n",
       " 'dalūpura',\n",
       " 'yelahanka',\n",
       " 'titāgarh',\n",
       " 'dam dam',\n",
       " 'bānsbāria',\n",
       " 'madhavaram',\n",
       " 'abbigeri',\n",
       " 'baj baj',\n",
       " 'garhi',\n",
       " 'mīrpeta',\n",
       " 'nerkunram',\n",
       " 'kendrāparha',\n",
       " 'sijua',\n",
       " 'manali',\n",
       " 'kānkuria',\n",
       " 'chakapara',\n",
       " 'pāppākurichchi',\n",
       " 'herohalli',\n",
       " 'madipakkam',\n",
       " 'sabalpur',\n",
       " 'bāuria',\n",
       " 'salua',\n",
       " 'chik bānavar',\n",
       " 'jālhalli',\n",
       " 'chinnasekkadu',\n",
       " 'jethuli',\n",
       " 'nagtala',\n",
       " 'pakri',\n",
       " 'hunasamaranhalli',\n",
       " 'hesarghatta',\n",
       " 'bommayapālaiyam',\n",
       " 'gundūr',\n",
       " 'punādih',\n",
       " 'harilādih',\n",
       " 'alāwalpur',\n",
       " 'mādnāikanhalli',\n",
       " 'bāgalūr',\n",
       " 'kādiganahalli',\n",
       " 'khānpur zabti',\n",
       " 'mahuli',\n",
       " 'zeyādah kot',\n",
       " 'arshakunti',\n",
       " 'mirchi',\n",
       " 'sonudih',\n",
       " 'bayandhalli',\n",
       " 'sondekoppa',\n",
       " 'babura',\n",
       " 'mādavar',\n",
       " 'kadabgeri',\n",
       " 'nanmangalam',\n",
       " 'taliganja',\n",
       " 'tarchha',\n",
       " 'belgharia',\n",
       " 'kammanhalli',\n",
       " 'ambāpuram',\n",
       " 'sonnappanhalli',\n",
       " 'kedihāti',\n",
       " 'doddajīvanhalli',\n",
       " 'simli murārpur',\n",
       " 'sonāwān',\n",
       " 'devanandapur',\n",
       " 'tribeni',\n",
       " 'huttanhalli',\n",
       " 'nathupur',\n",
       " 'bāli',\n",
       " 'vājarhalli',\n",
       " 'alija kotla',\n",
       " 'saino',\n",
       " 'shekhpura',\n",
       " 'cāchohalli',\n",
       " 'andheri',\n",
       " 'nārāyanpur kola',\n",
       " 'gyan chak',\n",
       " 'kasgatpur',\n",
       " 'kitanelli',\n",
       " 'harchandi',\n",
       " 'santoshpur',\n",
       " 'bendravādi',\n",
       " 'kodagihalli',\n",
       " 'harna buzurg',\n",
       " 'mailanhalli',\n",
       " 'sultānpur',\n",
       " 'adakimāranhalli']"
      ]
     },
     "metadata": {},
     "output_type": "display_data"
    }
   ],
   "source": [
    "## lower and strip the city list for accurate comparison\n",
    "cities = city_list[\"city\"].str.strip().str.lower().tolist()\n",
    "cities "
   ]
  },
  {
   "cell_type": "code",
   "execution_count": null,
   "id": "2699beb9",
   "metadata": {},
   "outputs": [],
   "source": [
    "def is_valid_city(row):\n",
    "    row.is_city = int(row.city.strip().lower() in cities)\n",
    "    return row\n",
    "    \n",
    "\n",
    "X_train = X_train.apply(is_valid_city, axis=1)\n",
    "    "
   ]
  },
  {
   "cell_type": "markdown",
   "id": "57e8b036",
   "metadata": {},
   "source": [
    "* Lets check the number of valid vs invlid cities"
   ]
  },
  {
   "cell_type": "code",
   "execution_count": null,
   "id": "48ba994d",
   "metadata": {},
   "outputs": [
    {
     "data": {
      "text/plain": [
       "is_city\n",
       "0    12443\n",
       "1     9877\n",
       "Name: count, dtype: int64"
      ]
     },
     "metadata": {},
     "output_type": "display_data"
    }
   ],
   "source": [
    "X_train[\"is_city\"].value_counts()"
   ]
  },
  {
   "cell_type": "code",
   "execution_count": null,
   "id": "9ae83549",
   "metadata": {},
   "outputs": [
    {
     "data": {
      "text/plain": [
       "city\n",
       "Kalyan                  1284\n",
       "Srinagar                1073\n",
       "Hyderabad               1063\n",
       "Thane                    910\n",
       "Kolkata                  890\n",
       "Agra                     864\n",
       "Ludhiana                 848\n",
       "Surat                    842\n",
       "Visakhapatnam            763\n",
       "Bhopal                   748\n",
       "Rajkot                   633\n",
       "Ghaziabad                588\n",
       "Varanasi                 550\n",
       "Nagpur                   533\n",
       "Nashik                   452\n",
       "Faridabad                381\n",
       "Harsha                     2\n",
       "Bhavna                     2\n",
       "Saanvi                     2\n",
       "City                       2\n",
       "Khaziabad                  1\n",
       "M.Com                      1\n",
       "3.0                        1\n",
       "Harsh                      1\n",
       "Mihir                      1\n",
       "M.Tech                     1\n",
       "Gaurav                     1\n",
       "Nalyan                     1\n",
       "Nandini                    1\n",
       "'Less than 5 Kalyan'       1\n",
       "Reyansh                    1\n",
       "'Less Delhi'               1\n",
       "Mira                       1\n",
       "Name: count, dtype: int64"
      ]
     },
     "metadata": {},
     "output_type": "display_data"
    }
   ],
   "source": [
    "X_train.loc[X_train[\"is_city\"] == 0,\"city\"].value_counts()"
   ]
  },
  {
   "cell_type": "code",
   "execution_count": null,
   "id": "d20457ed",
   "metadata": {},
   "outputs": [
    {
     "data": {
      "text/plain": [
       "0        Delhi\n",
       "1       Mumbai\n",
       "2      Kolkāta\n",
       "3    Bangalore\n",
       "4      Chennai\n",
       "Name: city, dtype: object"
      ]
     },
     "metadata": {},
     "output_type": "display_data"
    }
   ],
   "source": [
    "city_list[\"city\"].head(5)"
   ]
  },
  {
   "cell_type": "markdown",
   "id": "ddab296a",
   "metadata": {},
   "source": [
    "* So visually it seems the master cities list that we have has \"ā\" in them instead of \"a\" thats why a lot of cities are not matching. \n",
    "* Lets fix that and then try to update the dataset again. "
   ]
  },
  {
   "cell_type": "code",
   "execution_count": null,
   "id": "6970fc96",
   "metadata": {},
   "outputs": [],
   "source": [
    "import unicodedata\n",
    "\n",
    "city_list[\"city\"] = city_list[\"city\"].map(lambda ct: unicodedata.normalize(\"NFKD\",ct).encode(\"ascii\",\"ignore\").decode())"
   ]
  },
  {
   "cell_type": "code",
   "execution_count": null,
   "id": "2b382699",
   "metadata": {},
   "outputs": [
    {
     "data": {
      "text/plain": [
       "0        Delhi\n",
       "1       Mumbai\n",
       "2      Kolkata\n",
       "3    Bangalore\n",
       "4      Chennai\n",
       "Name: city, dtype: object"
      ]
     },
     "metadata": {},
     "output_type": "display_data"
    }
   ],
   "source": [
    "city_list[\"city\"].head(5)"
   ]
  },
  {
   "cell_type": "markdown",
   "id": "57a05bd8",
   "metadata": {},
   "source": [
    "* Looks like this fixed it, lets do the same thing even for our dataset before we map the is_city flag"
   ]
  },
  {
   "cell_type": "code",
   "execution_count": null,
   "id": "a091a00d",
   "metadata": {},
   "outputs": [],
   "source": [
    "X_train[\"city\"] = X_train[\"city\"].map(lambda ct: unicodedata.normalize(\"NFKD\",ct).encode(\"ascii\",\"ignore\").decode())"
   ]
  },
  {
   "cell_type": "code",
   "execution_count": null,
   "id": "83a8aeb2",
   "metadata": {},
   "outputs": [],
   "source": [
    "## lower and strip the city list for accurate comparison\n",
    "cities = city_list[\"city\"].str.strip().str.lower().tolist()\n",
    "\n",
    "def is_valid_city(row):\n",
    "    row.is_city = int(row.city.strip().lower() in cities)\n",
    "    return row\n",
    "    \n",
    "\n",
    "X_train = X_train.apply(is_valid_city, axis=1)"
   ]
  },
  {
   "cell_type": "code",
   "execution_count": null,
   "id": "a2f76ef1",
   "metadata": {},
   "outputs": [
    {
     "data": {
      "text/plain": [
       "is_city\n",
       "1    21084\n",
       "0     1236\n",
       "Name: count, dtype: int64"
      ]
     },
     "metadata": {},
     "output_type": "display_data"
    }
   ],
   "source": [
    "X_train[\"is_city\"].value_counts()"
   ]
  },
  {
   "cell_type": "markdown",
   "id": "fdeccc47",
   "metadata": {},
   "source": [
    "This is much better now we have only 1236 invalid values. Lets take a look at them"
   ]
  },
  {
   "cell_type": "code",
   "execution_count": null,
   "id": "24f3cde3",
   "metadata": {},
   "outputs": [
    {
     "data": {
      "text/plain": [
       "city\n",
       "Visakhapatnam           763\n",
       "Nashik                  452\n",
       "Harsha                    2\n",
       "Bhavna                    2\n",
       "Saanvi                    2\n",
       "City                      2\n",
       "Khaziabad                 1\n",
       "M.Com                     1\n",
       "3.0                       1\n",
       "Harsh                     1\n",
       "Mihir                     1\n",
       "Nalyan                    1\n",
       "Gaurav                    1\n",
       "Nandini                   1\n",
       "'Less than 5 Kalyan'      1\n",
       "Reyansh                   1\n",
       "'Less Delhi'              1\n",
       "M.Tech                    1\n",
       "Mira                      1\n",
       "Name: count, dtype: int64"
      ]
     },
     "metadata": {},
     "output_type": "display_data"
    }
   ],
   "source": [
    "X_train.loc[X_train[\"is_city\"] == 0, \"city\"].value_counts()"
   ]
  },
  {
   "cell_type": "markdown",
   "id": "e65ade5c",
   "metadata": {},
   "source": [
    "* So apart from Visakhapatnam, Nashik and Khaziabad rest seem to be wrong values. \n",
    "* Its surprising that these cities are missing from our master city list, these are few of the larger cities in India. \n",
    "* Just to future proof this we'll explore another dataset with a more detailed list of cities that we can rely on. "
   ]
  },
  {
   "cell_type": "code",
   "execution_count": null,
   "id": "a75cb70e",
   "metadata": {},
   "outputs": [
    {
     "data": {
      "application/vnd.microsoft.datawrangler.viewer.v0+json": {
       "columns": [
        {
         "name": "index",
         "rawType": "int64",
         "type": "integer"
        },
        {
         "name": "name",
         "rawType": "object",
         "type": "string"
        },
        {
         "name": "ascii_name",
         "rawType": "object",
         "type": "string"
        },
        {
         "name": "lat",
         "rawType": "float64",
         "type": "float"
        },
        {
         "name": "long",
         "rawType": "float64",
         "type": "float"
        }
       ],
       "conversionMethod": "pd.DataFrame",
       "ref": "b26de432-b136-4863-842a-f3529670a532",
       "rows": [
        [
         "0",
         "Rāvi River",
         "Ravi River",
         "30.62123",
         "71.82683"
        ],
        [
         "1",
         "Punjab Plains",
         "Punjab Plains",
         "30.0",
         "75.0"
        ],
        [
         "2",
         "Jhelum River",
         "Jhelum River",
         "31.16853",
         "72.15066"
        ],
        [
         "3",
         "Hindustan",
         "Hindustan",
         "28.0",
         "76.0"
        ],
        [
         "4",
         "Basantar River",
         "Basantar River",
         "32.47452",
         "75.01449"
        ]
       ],
       "shape": {
        "columns": 4,
        "rows": 5
       }
      },
      "text/html": [
       "<div>\n",
       "<style scoped>\n",
       "    .dataframe tbody tr th:only-of-type {\n",
       "        vertical-align: middle;\n",
       "    }\n",
       "\n",
       "    .dataframe tbody tr th {\n",
       "        vertical-align: top;\n",
       "    }\n",
       "\n",
       "    .dataframe thead th {\n",
       "        text-align: right;\n",
       "    }\n",
       "</style>\n",
       "<table border=\"1\" class=\"dataframe\">\n",
       "  <thead>\n",
       "    <tr style=\"text-align: right;\">\n",
       "      <th></th>\n",
       "      <th>name</th>\n",
       "      <th>ascii_name</th>\n",
       "      <th>lat</th>\n",
       "      <th>long</th>\n",
       "    </tr>\n",
       "  </thead>\n",
       "  <tbody>\n",
       "    <tr>\n",
       "      <th>0</th>\n",
       "      <td>Rāvi River</td>\n",
       "      <td>Ravi River</td>\n",
       "      <td>30.62123</td>\n",
       "      <td>71.82683</td>\n",
       "    </tr>\n",
       "    <tr>\n",
       "      <th>1</th>\n",
       "      <td>Punjab Plains</td>\n",
       "      <td>Punjab Plains</td>\n",
       "      <td>30.00000</td>\n",
       "      <td>75.00000</td>\n",
       "    </tr>\n",
       "    <tr>\n",
       "      <th>2</th>\n",
       "      <td>Jhelum River</td>\n",
       "      <td>Jhelum River</td>\n",
       "      <td>31.16853</td>\n",
       "      <td>72.15066</td>\n",
       "    </tr>\n",
       "    <tr>\n",
       "      <th>3</th>\n",
       "      <td>Hindustan</td>\n",
       "      <td>Hindustan</td>\n",
       "      <td>28.00000</td>\n",
       "      <td>76.00000</td>\n",
       "    </tr>\n",
       "    <tr>\n",
       "      <th>4</th>\n",
       "      <td>Basantar River</td>\n",
       "      <td>Basantar River</td>\n",
       "      <td>32.47452</td>\n",
       "      <td>75.01449</td>\n",
       "    </tr>\n",
       "  </tbody>\n",
       "</table>\n",
       "</div>"
      ],
      "text/plain": [
       "             name      ascii_name       lat      long\n",
       "0      Rāvi River      Ravi River  30.62123  71.82683\n",
       "1   Punjab Plains   Punjab Plains  30.00000  75.00000\n",
       "2    Jhelum River    Jhelum River  31.16853  72.15066\n",
       "3       Hindustan       Hindustan  28.00000  76.00000\n",
       "4  Basantar River  Basantar River  32.47452  75.01449"
      ]
     },
     "metadata": {},
     "output_type": "display_data"
    }
   ],
   "source": [
    "## read master city list\n",
    "master_city_list = pd.read_csv(Path(data_dir,\"detailed_in.csv\"))\n",
    "master_city_list.head()"
   ]
  },
  {
   "cell_type": "code",
   "execution_count": null,
   "id": "5fb54df0",
   "metadata": {},
   "outputs": [
    {
     "data": {
      "text/plain": [
       "['ravi river', 'punjab plains', 'jhelum river', 'hindustan', 'basantar river']"
      ]
     },
     "metadata": {},
     "output_type": "display_data"
    }
   ],
   "source": [
    "## extract cities and prepare for comparison\n",
    "master_cities = master_city_list[\"ascii_name\"].str.strip().str.lower().to_list()\n",
    "master_cities[:5]"
   ]
  },
  {
   "cell_type": "code",
   "execution_count": null,
   "id": "d53cbc7f",
   "metadata": {},
   "outputs": [],
   "source": [
    "## lets reset is_valid_city to 0 \n",
    "X_train[\"is_city\"] = 0\n",
    "\n",
    "\n",
    "def is_valid_city(row):    \n",
    "    row.is_city = int(row.city.strip().lower() in master_cities)\n",
    "    return row\n",
    "    \n",
    "\n",
    "X_train = X_train.apply(is_valid_city, axis=1)"
   ]
  },
  {
   "cell_type": "code",
   "execution_count": null,
   "id": "4bd88bde",
   "metadata": {},
   "outputs": [
    {
     "data": {
      "text/plain": [
       "is_city\n",
       "1    20634\n",
       "0     1686\n",
       "Name: count, dtype: int64"
      ]
     },
     "metadata": {},
     "output_type": "display_data"
    }
   ],
   "source": [
    "X_train[\"is_city\"].value_counts()"
   ]
  },
  {
   "cell_type": "code",
   "execution_count": null,
   "id": "b8497c7e",
   "metadata": {},
   "outputs": [
    {
     "data": {
      "text/plain": [
       "city\n",
       "Vasai-Virar             1042\n",
       "Bangalore                625\n",
       "Harsha                     2\n",
       "Bhavna                     2\n",
       "Saanvi                     2\n",
       "City                       2\n",
       "Khaziabad                  1\n",
       "3.0                        1\n",
       "Harsh                      1\n",
       "Mihir                      1\n",
       "Nalyan                     1\n",
       "Gaurav                     1\n",
       "'Less than 5 Kalyan'       1\n",
       "Reyansh                    1\n",
       "'Less Delhi'               1\n",
       "M.Tech                     1\n",
       "M.Com                      1\n",
       "Name: count, dtype: int64"
      ]
     },
     "metadata": {},
     "output_type": "display_data"
    }
   ],
   "source": [
    "X_train.loc[X_train[\"is_city\"] == 0, \"city\"].value_counts()"
   ]
  },
  {
   "cell_type": "markdown",
   "id": "8a6e6880",
   "metadata": {},
   "source": [
    "* So in our master city list has Vasai and virar as separate cities and Banglore is divided into separate regions like banglore urban, banglore rural etc. \n",
    "* Lets try fuzzy match and see if gives us better results"
   ]
  },
  {
   "cell_type": "code",
   "execution_count": null,
   "id": "f55f47d9",
   "metadata": {},
   "outputs": [],
   "source": [
    "master_cities"
   ]
  }
 ],
 "metadata": {
  "kernelspec": {
   "display_name": "venv",
   "language": "python",
   "name": "python3"
  },
  "language_info": {
   "codemirror_mode": {
    "name": "ipython",
    "version": 3
   },
   "file_extension": ".py",
   "mimetype": "text/x-python",
   "name": "python",
   "nbconvert_exporter": "python",
   "pygments_lexer": "ipython3",
   "version": "3.12.9"
  }
 },
 "nbformat": 4,
 "nbformat_minor": 5
}
