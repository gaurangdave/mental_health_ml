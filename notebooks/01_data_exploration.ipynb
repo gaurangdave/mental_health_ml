{
 "cells": [
  {
   "cell_type": "markdown",
   "id": "62eaa3ff",
   "metadata": {},
   "source": [
    "# Data Exploration"
   ]
  },
  {
   "cell_type": "markdown",
   "id": "bfc4c3a2",
   "metadata": {},
   "source": [
    "## Plan\n",
    "\n",
    "* We'll start with Preprocessing categorical values and applying some standard data cleaning steps.\n",
    "    * Remove spaces.\n",
    "    * Convert to lower case.\n",
    "    * Unicode normalization.\n",
    "    * Handling missing/unknown categories.\n",
    "* We'll create `scikit-learn` pipelines that we can reusing during training. \n",
    "* We'll do the same for numerical data as well. \n",
    "* At the end of this notebook we'll have list of data preparation steps needed to train the model."
   ]
  },
  {
   "cell_type": "markdown",
   "id": "67a01634",
   "metadata": {},
   "source": [
    "## Import Libraries"
   ]
  },
  {
   "cell_type": "code",
   "execution_count": 198,
   "id": "85b6192f",
   "metadata": {},
   "outputs": [],
   "source": [
    "import pandas as pd\n",
    "import numpy as np\n",
    "import matplotlib as plt\n",
    "\n",
    "from pathlib import Path"
   ]
  },
  {
   "cell_type": "markdown",
   "id": "a161244a",
   "metadata": {},
   "source": [
    "## Read Training Data"
   ]
  },
  {
   "cell_type": "code",
   "execution_count": 199,
   "id": "216152c1",
   "metadata": {},
   "outputs": [],
   "source": [
    "## root directory for all data files\n",
    "data_dir = Path(\"..\", \"data\")"
   ]
  },
  {
   "cell_type": "code",
   "execution_count": 200,
   "id": "0f2cafb8",
   "metadata": {},
   "outputs": [],
   "source": [
    "X_train = pd.read_csv(Path(data_dir,\"X_train.csv\"))\n",
    "y_train = pd.read_csv(Path(data_dir,\"y_train.csv\"))"
   ]
  },
  {
   "cell_type": "code",
   "execution_count": 201,
   "id": "deeeb842",
   "metadata": {},
   "outputs": [
    {
     "data": {
      "text/plain": [
       "((22320, 16), (22320, 1))"
      ]
     },
     "execution_count": 201,
     "metadata": {},
     "output_type": "execute_result"
    }
   ],
   "source": [
    "X_train.shape,y_train.shape"
   ]
  },
  {
   "cell_type": "markdown",
   "id": "09cfd3f9",
   "metadata": {},
   "source": [
    "## Preprocessing Categorical Data"
   ]
  },
  {
   "cell_type": "code",
   "execution_count": 202,
   "id": "bcc37660",
   "metadata": {},
   "outputs": [
    {
     "data": {
      "text/plain": [
       "gender               object\n",
       "city                 object\n",
       "profession           object\n",
       "sleep_duration       object\n",
       "dietary_habits       object\n",
       "degree               object\n",
       "suicidal_thoughts    object\n",
       "family_history       object\n",
       "dtype: object"
      ]
     },
     "execution_count": 202,
     "metadata": {},
     "output_type": "execute_result"
    }
   ],
   "source": [
    "## lets list the categorical columns\n",
    "X_train.select_dtypes(include=[\"object\"]).dtypes"
   ]
  },
  {
   "cell_type": "code",
   "execution_count": 203,
   "id": "d0edfed0",
   "metadata": {},
   "outputs": [
    {
     "data": {
      "application/vnd.microsoft.datawrangler.viewer.v0+json": {
       "columns": [
        {
         "name": "index",
         "rawType": "int64",
         "type": "integer"
        },
        {
         "name": "gender",
         "rawType": "object",
         "type": "string"
        },
        {
         "name": "city",
         "rawType": "object",
         "type": "string"
        },
        {
         "name": "profession",
         "rawType": "object",
         "type": "string"
        },
        {
         "name": "sleep_duration",
         "rawType": "object",
         "type": "string"
        },
        {
         "name": "dietary_habits",
         "rawType": "object",
         "type": "string"
        },
        {
         "name": "degree",
         "rawType": "object",
         "type": "string"
        },
        {
         "name": "suicidal_thoughts",
         "rawType": "object",
         "type": "string"
        },
        {
         "name": "family_history",
         "rawType": "object",
         "type": "string"
        }
       ],
       "conversionMethod": "pd.DataFrame",
       "ref": "14d7264d-d95d-46fa-8d34-74ec3bc359dc",
       "rows": [
        [
         "0",
         "Male",
         "Jaipur",
         "Student",
         "'7-8 hours'",
         "Moderate",
         "'Class 12'",
         "Yes",
         "No"
        ],
        [
         "1",
         "Male",
         "Vadodara",
         "Student",
         "'7-8 hours'",
         "Moderate",
         "B.Arch",
         "No",
         "Yes"
        ],
        [
         "2",
         "Male",
         "Ahmedabad",
         "Student",
         "'7-8 hours'",
         "Unhealthy",
         "M.Ed",
         "Yes",
         "Yes"
        ],
        [
         "3",
         "Male",
         "Bhopal",
         "Student",
         "'7-8 hours'",
         "Moderate",
         "B.Com",
         "Yes",
         "No"
        ],
        [
         "4",
         "Male",
         "Patna",
         "Student",
         "'5-6 hours'",
         "Unhealthy",
         "B.Com",
         "No",
         "No"
        ]
       ],
       "shape": {
        "columns": 8,
        "rows": 5
       }
      },
      "text/html": [
       "<div>\n",
       "<style scoped>\n",
       "    .dataframe tbody tr th:only-of-type {\n",
       "        vertical-align: middle;\n",
       "    }\n",
       "\n",
       "    .dataframe tbody tr th {\n",
       "        vertical-align: top;\n",
       "    }\n",
       "\n",
       "    .dataframe thead th {\n",
       "        text-align: right;\n",
       "    }\n",
       "</style>\n",
       "<table border=\"1\" class=\"dataframe\">\n",
       "  <thead>\n",
       "    <tr style=\"text-align: right;\">\n",
       "      <th></th>\n",
       "      <th>gender</th>\n",
       "      <th>city</th>\n",
       "      <th>profession</th>\n",
       "      <th>sleep_duration</th>\n",
       "      <th>dietary_habits</th>\n",
       "      <th>degree</th>\n",
       "      <th>suicidal_thoughts</th>\n",
       "      <th>family_history</th>\n",
       "    </tr>\n",
       "  </thead>\n",
       "  <tbody>\n",
       "    <tr>\n",
       "      <th>0</th>\n",
       "      <td>Male</td>\n",
       "      <td>Jaipur</td>\n",
       "      <td>Student</td>\n",
       "      <td>'7-8 hours'</td>\n",
       "      <td>Moderate</td>\n",
       "      <td>'Class 12'</td>\n",
       "      <td>Yes</td>\n",
       "      <td>No</td>\n",
       "    </tr>\n",
       "    <tr>\n",
       "      <th>1</th>\n",
       "      <td>Male</td>\n",
       "      <td>Vadodara</td>\n",
       "      <td>Student</td>\n",
       "      <td>'7-8 hours'</td>\n",
       "      <td>Moderate</td>\n",
       "      <td>B.Arch</td>\n",
       "      <td>No</td>\n",
       "      <td>Yes</td>\n",
       "    </tr>\n",
       "    <tr>\n",
       "      <th>2</th>\n",
       "      <td>Male</td>\n",
       "      <td>Ahmedabad</td>\n",
       "      <td>Student</td>\n",
       "      <td>'7-8 hours'</td>\n",
       "      <td>Unhealthy</td>\n",
       "      <td>M.Ed</td>\n",
       "      <td>Yes</td>\n",
       "      <td>Yes</td>\n",
       "    </tr>\n",
       "    <tr>\n",
       "      <th>3</th>\n",
       "      <td>Male</td>\n",
       "      <td>Bhopal</td>\n",
       "      <td>Student</td>\n",
       "      <td>'7-8 hours'</td>\n",
       "      <td>Moderate</td>\n",
       "      <td>B.Com</td>\n",
       "      <td>Yes</td>\n",
       "      <td>No</td>\n",
       "    </tr>\n",
       "    <tr>\n",
       "      <th>4</th>\n",
       "      <td>Male</td>\n",
       "      <td>Patna</td>\n",
       "      <td>Student</td>\n",
       "      <td>'5-6 hours'</td>\n",
       "      <td>Unhealthy</td>\n",
       "      <td>B.Com</td>\n",
       "      <td>No</td>\n",
       "      <td>No</td>\n",
       "    </tr>\n",
       "  </tbody>\n",
       "</table>\n",
       "</div>"
      ],
      "text/plain": [
       "  gender       city profession sleep_duration dietary_habits      degree  \\\n",
       "0   Male     Jaipur    Student    '7-8 hours'       Moderate  'Class 12'   \n",
       "1   Male   Vadodara    Student    '7-8 hours'       Moderate      B.Arch   \n",
       "2   Male  Ahmedabad    Student    '7-8 hours'      Unhealthy        M.Ed   \n",
       "3   Male     Bhopal    Student    '7-8 hours'       Moderate       B.Com   \n",
       "4   Male      Patna    Student    '5-6 hours'      Unhealthy       B.Com   \n",
       "\n",
       "  suicidal_thoughts family_history  \n",
       "0               Yes             No  \n",
       "1                No            Yes  \n",
       "2               Yes            Yes  \n",
       "3               Yes             No  \n",
       "4                No             No  "
      ]
     },
     "execution_count": 203,
     "metadata": {},
     "output_type": "execute_result"
    }
   ],
   "source": [
    "## lets look at the data to make sure they are correctly typed as object\n",
    "X_train.select_dtypes(include=[\"object\"]).head(5)"
   ]
  },
  {
   "cell_type": "code",
   "execution_count": 204,
   "id": "e3022bfb",
   "metadata": {},
   "outputs": [
    {
     "data": {
      "text/plain": [
       "['gender',\n",
       " 'city',\n",
       " 'profession',\n",
       " 'sleep_duration',\n",
       " 'dietary_habits',\n",
       " 'degree',\n",
       " 'suicidal_thoughts',\n",
       " 'family_history']"
      ]
     },
     "execution_count": 204,
     "metadata": {},
     "output_type": "execute_result"
    }
   ],
   "source": [
    "## creating column list for easier access\n",
    "category_columns = X_train.select_dtypes(include=[\"object\"]).dtypes.index.tolist()\n",
    "category_columns"
   ]
  },
  {
   "cell_type": "markdown",
   "id": "cf9f1017",
   "metadata": {},
   "source": [
    "### Default Changes\n",
    "* This section applies all the default changes to categorical data like, \n",
    "    * removing spaces, \n",
    "    * replacing empty string with unknown (we can use some kind of prediction algorithm here but for now unknown is good since there are no empty values. )\n",
    "    * lower case the values.\n",
    "    * Unicode normalizer "
   ]
  },
  {
   "cell_type": "code",
   "execution_count": 205,
   "id": "ed7fccf0",
   "metadata": {},
   "outputs": [
    {
     "data": {
      "text/plain": [
       "gender               0\n",
       "city                 0\n",
       "profession           0\n",
       "sleep_duration       0\n",
       "dietary_habits       0\n",
       "degree               0\n",
       "suicidal_thoughts    0\n",
       "family_history       0\n",
       "dtype: int64"
      ]
     },
     "execution_count": 205,
     "metadata": {},
     "output_type": "execute_result"
    }
   ],
   "source": [
    "## lets check for missing values\n",
    "X_train.select_dtypes(include=[\"object\"]).isnull().sum()"
   ]
  },
  {
   "cell_type": "markdown",
   "id": "9019f154",
   "metadata": {},
   "source": [
    "Luckily there are no missing values but our training pipeline should have a step to fill missing values with \"unkonwn\" in case production data or test data has missing values. "
   ]
  },
  {
   "cell_type": "code",
   "execution_count": 206,
   "id": "d1f4a11d",
   "metadata": {},
   "outputs": [],
   "source": [
    "## TODO Add this to pipeline\n",
    "X_train.select_dtypes(include=[\"object\"]).fillna(\"unknown\", inplace=True)"
   ]
  },
  {
   "cell_type": "markdown",
   "id": "9ebefd93",
   "metadata": {},
   "source": [
    "Lets create pipelines to transform the data for easy exploration."
   ]
  },
  {
   "cell_type": "code",
   "execution_count": 207,
   "id": "6ce9e467",
   "metadata": {},
   "outputs": [],
   "source": [
    "import unicodedata\n",
    "from sklearn.preprocessing import FunctionTransformer\n",
    "from sklearn.pipeline import Pipeline\n",
    "from pandas.api.types import is_string_dtype\n",
    "\n",
    "## creating functional transformers\n",
    "\n",
    "## fill na with Unknown\n",
    "def fill_empty_strings_fn(df, columns=None):\n",
    "    if not isinstance(df, pd.DataFrame):\n",
    "        raise ValueError(\"Input must be a pandas DataFrame\")\n",
    "    df_copy = df.copy()\n",
    "    for col in df_copy.columns:\n",
    "        ## TODO : Confirm if comparing with type object is correct. \n",
    "        if is_string_dtype(df_copy[col]):\n",
    "            df_copy[col] = df_copy[col].fillna(\"unknown\")\n",
    "    return df_copy\n",
    "\n",
    "## remove spaces\n",
    "def strip_spaces_fn(df, colmns=None):\n",
    "    if not isinstance(df, pd.DataFrame):\n",
    "        raise ValueError(\"Input must be a pandas DataFrame\")\n",
    "    df_copy = df.copy()\n",
    "    for col in df_copy.columns:\n",
    "        ## TODO : Confirm if comparing with type object is correct. \n",
    "        if is_string_dtype(df_copy[col]):\n",
    "            df_copy[col] = df_copy[col].str.strip()\n",
    "    return df_copy\n",
    "\n",
    "\n",
    "\n",
    "def to_lower_case_fn(df):\n",
    "    if not isinstance(df, pd.DataFrame):\n",
    "        raise ValueError(\"Input must be a pandas DataFrame\")\n",
    "    df_copy = df.copy()\n",
    "    for col in df_copy.columns:\n",
    "        ## TODO : Confirm if comparing with type object is correct. \n",
    "        if is_string_dtype(df_copy[col]):\n",
    "            df_copy[col] = df_copy[col].str.lower()\n",
    "    return df_copy\n",
    "\n",
    "def normalize_unicode_fn(df):\n",
    "    if not isinstance(df, pd.DataFrame):\n",
    "        raise ValueError(\"Input must be a pandas DataFrame\")\n",
    "    df_copy = df.copy()\n",
    "    for col in df_copy.columns:\n",
    "        ## TODO : Confirm if comparing with type object is correct. \n",
    "        if is_string_dtype(df_copy[col]):\n",
    "            df_copy[col] = df_copy[col].map(lambda ct: unicodedata.normalize(\"NFKD\",ct).encode(\"ascii\",\"ignore\").decode())\n",
    "    return df_copy\n",
    "\n",
    "\n",
    "fill_empty_strings = FunctionTransformer(fill_empty_strings_fn,feature_names_out=\"one-to-one\")\n",
    "strip_spaces = FunctionTransformer(strip_spaces_fn,feature_names_out=\"one-to-one\")\n",
    "to_lower_case = FunctionTransformer(to_lower_case_fn,feature_names_out=\"one-to-one\")\n",
    "normalize_unicode = FunctionTransformer(normalize_unicode_fn, feature_names_out=\"one-to-one\")"
   ]
  },
  {
   "cell_type": "code",
   "execution_count": 208,
   "id": "ece7c7af",
   "metadata": {},
   "outputs": [
    {
     "data": {
      "application/vnd.microsoft.datawrangler.viewer.v0+json": {
       "columns": [
        {
         "name": "index",
         "rawType": "int64",
         "type": "integer"
        },
        {
         "name": "gender",
         "rawType": "object",
         "type": "string"
        },
        {
         "name": "city",
         "rawType": "object",
         "type": "string"
        },
        {
         "name": "profession",
         "rawType": "object",
         "type": "string"
        },
        {
         "name": "sleep_duration",
         "rawType": "object",
         "type": "string"
        },
        {
         "name": "dietary_habits",
         "rawType": "object",
         "type": "string"
        },
        {
         "name": "degree",
         "rawType": "object",
         "type": "string"
        },
        {
         "name": "suicidal_thoughts",
         "rawType": "object",
         "type": "string"
        },
        {
         "name": "family_history",
         "rawType": "object",
         "type": "string"
        }
       ],
       "conversionMethod": "pd.DataFrame",
       "ref": "fd760177-3558-4a9c-8a8f-c162d1d9db31",
       "rows": [
        [
         "0",
         "male",
         "jaipur",
         "student",
         "'7-8 hours'",
         "moderate",
         "'class 12'",
         "yes",
         "no"
        ],
        [
         "1",
         "male",
         "vadodara",
         "student",
         "'7-8 hours'",
         "moderate",
         "b.arch",
         "no",
         "yes"
        ],
        [
         "2",
         "male",
         "ahmedabad",
         "student",
         "'7-8 hours'",
         "unhealthy",
         "m.ed",
         "yes",
         "yes"
        ],
        [
         "3",
         "male",
         "bhopal",
         "student",
         "'7-8 hours'",
         "moderate",
         "b.com",
         "yes",
         "no"
        ],
        [
         "4",
         "male",
         "patna",
         "student",
         "'5-6 hours'",
         "unhealthy",
         "b.com",
         "no",
         "no"
        ]
       ],
       "shape": {
        "columns": 8,
        "rows": 5
       }
      },
      "text/html": [
       "<div>\n",
       "<style scoped>\n",
       "    .dataframe tbody tr th:only-of-type {\n",
       "        vertical-align: middle;\n",
       "    }\n",
       "\n",
       "    .dataframe tbody tr th {\n",
       "        vertical-align: top;\n",
       "    }\n",
       "\n",
       "    .dataframe thead th {\n",
       "        text-align: right;\n",
       "    }\n",
       "</style>\n",
       "<table border=\"1\" class=\"dataframe\">\n",
       "  <thead>\n",
       "    <tr style=\"text-align: right;\">\n",
       "      <th></th>\n",
       "      <th>gender</th>\n",
       "      <th>city</th>\n",
       "      <th>profession</th>\n",
       "      <th>sleep_duration</th>\n",
       "      <th>dietary_habits</th>\n",
       "      <th>degree</th>\n",
       "      <th>suicidal_thoughts</th>\n",
       "      <th>family_history</th>\n",
       "    </tr>\n",
       "  </thead>\n",
       "  <tbody>\n",
       "    <tr>\n",
       "      <th>0</th>\n",
       "      <td>male</td>\n",
       "      <td>jaipur</td>\n",
       "      <td>student</td>\n",
       "      <td>'7-8 hours'</td>\n",
       "      <td>moderate</td>\n",
       "      <td>'class 12'</td>\n",
       "      <td>yes</td>\n",
       "      <td>no</td>\n",
       "    </tr>\n",
       "    <tr>\n",
       "      <th>1</th>\n",
       "      <td>male</td>\n",
       "      <td>vadodara</td>\n",
       "      <td>student</td>\n",
       "      <td>'7-8 hours'</td>\n",
       "      <td>moderate</td>\n",
       "      <td>b.arch</td>\n",
       "      <td>no</td>\n",
       "      <td>yes</td>\n",
       "    </tr>\n",
       "    <tr>\n",
       "      <th>2</th>\n",
       "      <td>male</td>\n",
       "      <td>ahmedabad</td>\n",
       "      <td>student</td>\n",
       "      <td>'7-8 hours'</td>\n",
       "      <td>unhealthy</td>\n",
       "      <td>m.ed</td>\n",
       "      <td>yes</td>\n",
       "      <td>yes</td>\n",
       "    </tr>\n",
       "    <tr>\n",
       "      <th>3</th>\n",
       "      <td>male</td>\n",
       "      <td>bhopal</td>\n",
       "      <td>student</td>\n",
       "      <td>'7-8 hours'</td>\n",
       "      <td>moderate</td>\n",
       "      <td>b.com</td>\n",
       "      <td>yes</td>\n",
       "      <td>no</td>\n",
       "    </tr>\n",
       "    <tr>\n",
       "      <th>4</th>\n",
       "      <td>male</td>\n",
       "      <td>patna</td>\n",
       "      <td>student</td>\n",
       "      <td>'5-6 hours'</td>\n",
       "      <td>unhealthy</td>\n",
       "      <td>b.com</td>\n",
       "      <td>no</td>\n",
       "      <td>no</td>\n",
       "    </tr>\n",
       "  </tbody>\n",
       "</table>\n",
       "</div>"
      ],
      "text/plain": [
       "  gender       city profession sleep_duration dietary_habits      degree  \\\n",
       "0   male     jaipur    student    '7-8 hours'       moderate  'class 12'   \n",
       "1   male   vadodara    student    '7-8 hours'       moderate      b.arch   \n",
       "2   male  ahmedabad    student    '7-8 hours'      unhealthy        m.ed   \n",
       "3   male     bhopal    student    '7-8 hours'       moderate       b.com   \n",
       "4   male      patna    student    '5-6 hours'      unhealthy       b.com   \n",
       "\n",
       "  suicidal_thoughts family_history  \n",
       "0               yes             no  \n",
       "1                no            yes  \n",
       "2               yes            yes  \n",
       "3               yes             no  \n",
       "4                no             no  "
      ]
     },
     "execution_count": 208,
     "metadata": {},
     "output_type": "execute_result"
    }
   ],
   "source": [
    "## in our use case pipeline would make more sense as we need to use output of one transformer in another. \n",
    "default_cat_pipeline = Pipeline([\n",
    "    (\"fill_empty_strings\", fill_empty_strings),\n",
    "    (\"strip_spaces\", strip_spaces),\n",
    "    (\"to_lower_case\", to_lower_case),\n",
    "    (\"normalize_unicode\", normalize_unicode)    \n",
    "], )\n",
    "\n",
    "## only run the pipeline on categorical data\n",
    "updated_categories = default_cat_pipeline.fit_transform(X_train.select_dtypes(include=[\"object\", \"string\"]))\n",
    "updated_categories.head()"
   ]
  },
  {
   "cell_type": "markdown",
   "id": "de9f5e2c",
   "metadata": {},
   "source": [
    "### Preprocessing Gender Column"
   ]
  },
  {
   "cell_type": "code",
   "execution_count": 209,
   "id": "4322eb78",
   "metadata": {},
   "outputs": [
    {
     "data": {
      "text/plain": [
       "gender\n",
       "male      12437\n",
       "female     9883\n",
       "Name: count, dtype: int64"
      ]
     },
     "execution_count": 209,
     "metadata": {},
     "output_type": "execute_result"
    }
   ],
   "source": [
    "updated_categories[\"gender\"].value_counts()"
   ]
  },
  {
   "cell_type": "markdown",
   "id": "a93c317d",
   "metadata": {},
   "source": [
    "* Since the data is distributed between just 2 genders we can use `OneHotEncoder` to encode the data.\n",
    "* Lets also use this to explore how we'll design our design our data transformation implementation. We'll need a combination of Pipelines and ColumnTransformers to make it efficient. "
   ]
  },
  {
   "cell_type": "code",
   "execution_count": 210,
   "id": "a264e83c",
   "metadata": {},
   "outputs": [
    {
     "data": {
      "text/plain": [
       "array(['preprocess_gender__gender_female',\n",
       "       'preprocess_gender__gender_male'], dtype=object)"
      ]
     },
     "execution_count": 210,
     "metadata": {},
     "output_type": "execute_result"
    }
   ],
   "source": [
    "from sklearn.compose import ColumnTransformer\n",
    "from sklearn.preprocessing import OneHotEncoder\n",
    "\n",
    "\n",
    "gender_pipeline = Pipeline([\n",
    "    (\"default_cat_pipeline\", default_cat_pipeline),\n",
    "    (\"encode_gender\", OneHotEncoder(sparse_output=False, handle_unknown=\"ignore\"))\n",
    "])\n",
    "\n",
    "preprocess_gender = ColumnTransformer([\n",
    "    (\"preprocess_gender\", gender_pipeline, [\"gender\"])\n",
    "])\n",
    "\n",
    "preprocess_gender.fit_transform(X_train)\n",
    "preprocess_gender.get_feature_names_out()"
   ]
  },
  {
   "cell_type": "markdown",
   "id": "7700b12b",
   "metadata": {},
   "source": [
    "* So this will be our plan going forward, we'll create column specific pipelines which will be a combination of default pipeline and column specific transformations and finally combine all pipeline into one clean \"preprocess_pipeline\" column transformer. \n",
    "* For now we'll keep gender as it is for easier data exploration in next section. "
   ]
  },
  {
   "cell_type": "markdown",
   "id": "41fd7a74",
   "metadata": {},
   "source": [
    "### Preprocessing Profession Column"
   ]
  },
  {
   "cell_type": "code",
   "execution_count": 211,
   "id": "592d236a",
   "metadata": {},
   "outputs": [
    {
     "data": {
      "text/plain": [
       "profession\n",
       "student                     22294\n",
       "architect                       6\n",
       "teacher                         4\n",
       "'digital marketer'              3\n",
       "'content writer'                2\n",
       "chef                            2\n",
       "doctor                          2\n",
       "pharmacist                      2\n",
       "manager                         1\n",
       "'educational consultant'        1\n",
       "lawyer                          1\n",
       "entrepreneur                    1\n",
       "'civil engineer'                1\n",
       "Name: count, dtype: int64"
      ]
     },
     "execution_count": 211,
     "metadata": {},
     "output_type": "execute_result"
    }
   ],
   "source": [
    "updated_categories[\"profession\"].value_counts()"
   ]
  },
  {
   "cell_type": "code",
   "execution_count": 212,
   "id": "bf58af40",
   "metadata": {},
   "outputs": [
    {
     "data": {
      "text/plain": [
       "0.11648745519713263"
      ]
     },
     "execution_count": 212,
     "metadata": {},
     "output_type": "execute_result"
    }
   ],
   "source": [
    "(updated_categories[updated_categories[\"profession\"] != 'student'].shape[0] / updated_categories.shape[0] ) * 100"
   ]
  },
  {
   "cell_type": "markdown",
   "id": "43ef8a09",
   "metadata": {},
   "source": [
    "* So majority of the profession are students, and we have less than 1% of non student instances.\n",
    "* Although this lack of variance will contribute very little to our classification, for now we'll create a pipeline to change value of every non-student to 'working' and then one-hot encode them. \n",
    "* This assumption might be wrong in test data or in production, but we'll handle it when we see new information. "
   ]
  },
  {
   "cell_type": "code",
   "execution_count": 213,
   "id": "899bb9a7",
   "metadata": {},
   "outputs": [
    {
     "data": {
      "text/plain": [
       "array(['preprocess_profession__profession_student',\n",
       "       'preprocess_profession__profession_working'], dtype=object)"
      ]
     },
     "execution_count": 213,
     "metadata": {},
     "output_type": "execute_result"
    }
   ],
   "source": [
    "# function to map \"profession\" column values to 'student' and 'working'\n",
    "def map_working_profession_fn(df):\n",
    "    if not isinstance(df, pd.DataFrame):\n",
    "        raise ValueError(\"Input must be a pandas DataFrame\")\n",
    "    df_copy = df.copy()\n",
    "    df_copy.loc[df_copy[\"profession\"] != 'student'] = 'working'\n",
    "    return df_copy\n",
    "\n",
    "map_working_profession = FunctionTransformer(map_working_profession_fn, feature_names_out=\"one-to-one\")\n",
    "\n",
    "profession_pipeline = Pipeline([\n",
    "    (\"default_cat_pipeline\", default_cat_pipeline),\n",
    "    (\"map_profession\", map_working_profession),\n",
    "    (\"encode_profession\", OneHotEncoder(sparse_output=False, handle_unknown=\"ignore\"))\n",
    "])\n",
    "\n",
    "preprocess_profession = ColumnTransformer([\n",
    "    (\"preprocess_profession\", profession_pipeline, [\"profession\"])\n",
    "])\n",
    "\n",
    "# we can uncomment this if we need pandas as output\n",
    "# preprocess_profession.set_output(transform=\"pandas\")\n",
    "\n",
    "temp = preprocess_profession.fit_transform(X_train)\n",
    "preprocess_profession.get_feature_names_out()\n"
   ]
  },
  {
   "cell_type": "markdown",
   "id": "de084ebd",
   "metadata": {},
   "source": [
    "* Lets also update the train set for now, to help with data exploration"
   ]
  },
  {
   "cell_type": "code",
   "execution_count": 214,
   "id": "d5535023",
   "metadata": {},
   "outputs": [],
   "source": [
    "updated_categories.loc[updated_categories[\"profession\"] != 'student','profession'] = \"working\""
   ]
  },
  {
   "cell_type": "code",
   "execution_count": 215,
   "id": "852e5435",
   "metadata": {},
   "outputs": [
    {
     "data": {
      "text/plain": [
       "profession\n",
       "student    22294\n",
       "working       26\n",
       "Name: count, dtype: int64"
      ]
     },
     "execution_count": 215,
     "metadata": {},
     "output_type": "execute_result"
    }
   ],
   "source": [
    "updated_categories[\"profession\"].value_counts()"
   ]
  },
  {
   "cell_type": "markdown",
   "id": "e077fa23",
   "metadata": {},
   "source": [
    "### Preprocessing Sleep Duration"
   ]
  },
  {
   "cell_type": "code",
   "execution_count": 216,
   "id": "17280fd8",
   "metadata": {},
   "outputs": [
    {
     "data": {
      "text/plain": [
       "sleep_duration\n",
       "'less than 5 hours'    6646\n",
       "'7-8 hours'            5871\n",
       "'5-6 hours'            4963\n",
       "'more than 8 hours'    4825\n",
       "others                   15\n",
       "Name: count, dtype: int64"
      ]
     },
     "execution_count": 216,
     "metadata": {},
     "output_type": "execute_result"
    }
   ],
   "source": [
    "updated_categories[\"sleep_duration\"].value_counts()"
   ]
  },
  {
   "cell_type": "code",
   "execution_count": 217,
   "id": "c3fa7037",
   "metadata": {},
   "outputs": [
    {
     "data": {
      "text/plain": [
       "0.06720430107526883"
      ]
     },
     "execution_count": 217,
     "metadata": {},
     "output_type": "execute_result"
    }
   ],
   "source": [
    "(updated_categories[updated_categories[\"sleep_duration\"] == 'others'].shape[0] / updated_categories.shape[0]) * 100"
   ]
  },
  {
   "cell_type": "markdown",
   "id": "0c9aa7ef",
   "metadata": {},
   "source": [
    "* Looking at the data I think its safe to merge 'others' with 'more than 8 hours'. \n",
    "* Here is the plan,\n",
    "    * We'll change the values to `lt_5`, `bt_7_8` and `gt_8` so less verbose values and column names. We might find more values in test or prod, but for now we'll assume these are the possible values. \n",
    "    * We'll merge `others` to `gt_8` since the sample size is very small.\n",
    "    * We'll either one hot encode the data or ordinal encoding depending on the algorithm we want to use\n",
    "* One more interesting thing that we missed earlier is that these strings have single quote in them, we'll need to strip them before processing anything\n"
   ]
  },
  {
   "cell_type": "code",
   "execution_count": 218,
   "id": "da4277e3",
   "metadata": {},
   "outputs": [
    {
     "data": {
      "text/plain": [
       "array(['sleep_duration_pipeline__sleep_duration'], dtype=object)"
      ]
     },
     "execution_count": 218,
     "metadata": {},
     "output_type": "execute_result"
    }
   ],
   "source": [
    "# helper function to rename and map the sleep duration category\n",
    "from sklearn.preprocessing import OrdinalEncoder\n",
    "\n",
    "\n",
    "def clean_sleep_duration_fn(df):\n",
    "    if not isinstance(df, pd.DataFrame):\n",
    "        raise ValueError(\"Input must be a pandas DataFrame\")\n",
    "    df_copy = df.copy()\n",
    "    df_copy[\"sleep_duration\"] = df[\"sleep_duration\"].str.strip(\"'\")\n",
    "    return df_copy\n",
    "\n",
    "\n",
    "clean_sleep_duration = FunctionTransformer(\n",
    "    clean_sleep_duration_fn, feature_names_out=\"one-to-one\")\n",
    "\n",
    "\n",
    "def map_sleep_duration_fn(df):\n",
    "    if not isinstance(df, pd.DataFrame):\n",
    "        raise ValueError(\"Input must be a pandas DataFrame\")\n",
    "    df_copy = df.copy()\n",
    "    # map 'less than 5 hours' to lt_5\n",
    "    df_copy.loc[df_copy[\"sleep_duration\"] ==\n",
    "                'less than 5 hours', 'sleep_duration'] = 'lt_5'\n",
    "    # map '5-6 hours' to bt_5_6\n",
    "    df_copy.loc[df_copy[\"sleep_duration\"] ==\n",
    "                '5-6 hours', 'sleep_duration'] = 'bt_5_6'\n",
    "    # map '7-8 hours' to bt_7_8\n",
    "    df_copy.loc[df_copy[\"sleep_duration\"] ==\n",
    "                '7-8 hours', 'sleep_duration'] = 'bt_7_8'\n",
    "    # more than 8 hours to gt_8\n",
    "    df_copy.loc[df_copy[\"sleep_duration\"] ==\n",
    "                'more than 8 hours', 'sleep_duration'] = 'gt_8'\n",
    "    # more than others to gt_8\n",
    "    df_copy.loc[df_copy[\"sleep_duration\"] ==\n",
    "                'others', 'sleep_duration'] = 'gt_8'\n",
    "    return df_copy\n",
    "\n",
    "\n",
    "map_sleep_duration = FunctionTransformer(\n",
    "    map_sleep_duration_fn, feature_names_out=\"one-to-one\")\n",
    "\n",
    "\n",
    "def make_sleep_duration_pipeline_fn(encoding=\"onehot\"):\n",
    "    steps = [(\"default_cat_pipeline\", default_cat_pipeline),\n",
    "             (\"sleep_duration_clean\", clean_sleep_duration),\n",
    "             (\"sleep_duration_mapping\", map_sleep_duration)]\n",
    "\n",
    "    if encoding == \"onehot\":\n",
    "        steps.append((\"encoder\", OneHotEncoder(\n",
    "            sparse_output=False, handle_unknown=\"ignore\")))\n",
    "    elif encoding == \"ordinal\":\n",
    "        steps.append((\"encoder\", OrdinalEncoder(categories=[[\n",
    "            \"lt_5\", \"bt_5_6\", \"bt_7_8\", \"gt_8\"\n",
    "        ]], handle_unknown=\"use_encoded_value\", unknown_value=-1)))\n",
    "    else:\n",
    "        raise ValueError(\"Invalid encoding type: choose 'onehot' or 'ordinal'\")\n",
    "    return Pipeline(steps=steps)\n",
    "\n",
    "\n",
    "preprocess_sleep_duration = ColumnTransformer([(\n",
    "    \"sleep_duration_pipeline\", make_sleep_duration_pipeline_fn(encoding=\"ordinal\"), [\n",
    "        \"sleep_duration\"]\n",
    ")])\n",
    "\n",
    "temp = preprocess_sleep_duration.fit_transform(X_train)\n",
    "preprocess_sleep_duration.get_feature_names_out()"
   ]
  },
  {
   "cell_type": "markdown",
   "id": "61cbcf96",
   "metadata": {},
   "source": [
    "* Lets update our dataset with cleaned categorical values for easier data exploration later"
   ]
  },
  {
   "cell_type": "code",
   "execution_count": 219,
   "id": "0beef8e4",
   "metadata": {},
   "outputs": [
    {
     "data": {
      "application/vnd.microsoft.datawrangler.viewer.v0+json": {
       "columns": [
        {
         "name": "index",
         "rawType": "int64",
         "type": "integer"
        },
        {
         "name": "gender",
         "rawType": "object",
         "type": "string"
        },
        {
         "name": "city",
         "rawType": "object",
         "type": "string"
        },
        {
         "name": "profession",
         "rawType": "object",
         "type": "string"
        },
        {
         "name": "sleep_duration",
         "rawType": "object",
         "type": "string"
        },
        {
         "name": "dietary_habits",
         "rawType": "object",
         "type": "string"
        },
        {
         "name": "degree",
         "rawType": "object",
         "type": "string"
        },
        {
         "name": "suicidal_thoughts",
         "rawType": "object",
         "type": "string"
        },
        {
         "name": "family_history",
         "rawType": "object",
         "type": "string"
        }
       ],
       "conversionMethod": "pd.DataFrame",
       "ref": "ce3ae5b0-3acc-49c9-a64d-d82b0b8d574e",
       "rows": [
        [
         "0",
         "male",
         "jaipur",
         "student",
         "bt_7_8",
         "moderate",
         "'class 12'",
         "yes",
         "no"
        ],
        [
         "1",
         "male",
         "vadodara",
         "student",
         "bt_7_8",
         "moderate",
         "b.arch",
         "no",
         "yes"
        ],
        [
         "2",
         "male",
         "ahmedabad",
         "student",
         "bt_7_8",
         "unhealthy",
         "m.ed",
         "yes",
         "yes"
        ],
        [
         "3",
         "male",
         "bhopal",
         "student",
         "bt_7_8",
         "moderate",
         "b.com",
         "yes",
         "no"
        ],
        [
         "4",
         "male",
         "patna",
         "student",
         "bt_5_6",
         "unhealthy",
         "b.com",
         "no",
         "no"
        ],
        [
         "5",
         "female",
         "kolkata",
         "student",
         "lt_5",
         "healthy",
         "m.ed",
         "no",
         "no"
        ],
        [
         "6",
         "male",
         "kanpur",
         "student",
         "bt_5_6",
         "healthy",
         "llb",
         "yes",
         "no"
        ],
        [
         "7",
         "male",
         "patna",
         "student",
         "gt_8",
         "unhealthy",
         "bca",
         "yes",
         "no"
        ],
        [
         "8",
         "male",
         "ghaziabad",
         "student",
         "bt_7_8",
         "unhealthy",
         "llb",
         "no",
         "no"
        ],
        [
         "9",
         "male",
         "bhopal",
         "student",
         "gt_8",
         "unhealthy",
         "b.arch",
         "no",
         "no"
        ],
        [
         "10",
         "male",
         "kalyan",
         "student",
         "gt_8",
         "unhealthy",
         "msc",
         "no",
         "no"
        ],
        [
         "11",
         "male",
         "pune",
         "student",
         "lt_5",
         "moderate",
         "mca",
         "yes",
         "no"
        ],
        [
         "12",
         "female",
         "jaipur",
         "student",
         "bt_5_6",
         "unhealthy",
         "b.arch",
         "no",
         "yes"
        ],
        [
         "13",
         "male",
         "pune",
         "student",
         "gt_8",
         "healthy",
         "b.pharm",
         "yes",
         "yes"
        ],
        [
         "14",
         "male",
         "srinagar",
         "student",
         "bt_5_6",
         "moderate",
         "'class 12'",
         "no",
         "yes"
        ],
        [
         "15",
         "male",
         "kalyan",
         "student",
         "gt_8",
         "healthy",
         "'class 12'",
         "yes",
         "yes"
        ],
        [
         "16",
         "female",
         "srinagar",
         "student",
         "bt_7_8",
         "moderate",
         "be",
         "yes",
         "no"
        ],
        [
         "17",
         "male",
         "chennai",
         "student",
         "gt_8",
         "unhealthy",
         "bca",
         "no",
         "no"
        ],
        [
         "18",
         "female",
         "ludhiana",
         "student",
         "lt_5",
         "moderate",
         "'class 12'",
         "yes",
         "no"
        ],
        [
         "19",
         "female",
         "meerut",
         "student",
         "bt_7_8",
         "moderate",
         "m.ed",
         "yes",
         "yes"
        ],
        [
         "20",
         "female",
         "bhopal",
         "student",
         "bt_5_6",
         "moderate",
         "'class 12'",
         "yes",
         "yes"
        ],
        [
         "21",
         "female",
         "lucknow",
         "student",
         "gt_8",
         "unhealthy",
         "md",
         "yes",
         "yes"
        ],
        [
         "22",
         "male",
         "pune",
         "student",
         "gt_8",
         "unhealthy",
         "b.tech",
         "no",
         "no"
        ],
        [
         "23",
         "female",
         "surat",
         "student",
         "lt_5",
         "moderate",
         "llb",
         "no",
         "yes"
        ],
        [
         "24",
         "male",
         "ghaziabad",
         "student",
         "bt_5_6",
         "moderate",
         "bsc",
         "no",
         "no"
        ],
        [
         "25",
         "female",
         "chennai",
         "student",
         "lt_5",
         "unhealthy",
         "'class 12'",
         "yes",
         "no"
        ],
        [
         "26",
         "male",
         "kolkata",
         "student",
         "gt_8",
         "unhealthy",
         "m.pharm",
         "yes",
         "no"
        ],
        [
         "27",
         "female",
         "vasai-virar",
         "student",
         "bt_5_6",
         "moderate",
         "b.arch",
         "no",
         "yes"
        ],
        [
         "28",
         "female",
         "kanpur",
         "student",
         "lt_5",
         "moderate",
         "m.tech",
         "yes",
         "no"
        ],
        [
         "29",
         "male",
         "varanasi",
         "student",
         "gt_8",
         "unhealthy",
         "b.arch",
         "yes",
         "yes"
        ],
        [
         "30",
         "male",
         "varanasi",
         "student",
         "bt_7_8",
         "unhealthy",
         "b.com",
         "yes",
         "no"
        ],
        [
         "31",
         "male",
         "jaipur",
         "student",
         "bt_5_6",
         "healthy",
         "b.pharm",
         "yes",
         "yes"
        ],
        [
         "32",
         "male",
         "ghaziabad",
         "student",
         "bt_5_6",
         "unhealthy",
         "'class 12'",
         "no",
         "yes"
        ],
        [
         "33",
         "male",
         "agra",
         "student",
         "lt_5",
         "moderate",
         "mbbs",
         "yes",
         "yes"
        ],
        [
         "34",
         "male",
         "srinagar",
         "student",
         "lt_5",
         "healthy",
         "llm",
         "yes",
         "yes"
        ],
        [
         "35",
         "male",
         "vasai-virar",
         "student",
         "bt_5_6",
         "moderate",
         "ma",
         "no",
         "yes"
        ],
        [
         "36",
         "male",
         "srinagar",
         "student",
         "lt_5",
         "moderate",
         "'class 12'",
         "yes",
         "no"
        ],
        [
         "37",
         "male",
         "surat",
         "student",
         "lt_5",
         "healthy",
         "mbbs",
         "yes",
         "yes"
        ],
        [
         "38",
         "female",
         "nagpur",
         "student",
         "bt_5_6",
         "healthy",
         "msc",
         "yes",
         "no"
        ],
        [
         "39",
         "female",
         "kanpur",
         "student",
         "lt_5",
         "unhealthy",
         "'class 12'",
         "yes",
         "no"
        ],
        [
         "40",
         "male",
         "vasai-virar",
         "student",
         "gt_8",
         "healthy",
         "b.tech",
         "yes",
         "no"
        ],
        [
         "41",
         "male",
         "visakhapatnam",
         "student",
         "lt_5",
         "unhealthy",
         "mba",
         "yes",
         "no"
        ],
        [
         "42",
         "female",
         "vasai-virar",
         "student",
         "lt_5",
         "moderate",
         "bca",
         "yes",
         "yes"
        ],
        [
         "43",
         "female",
         "bangalore",
         "student",
         "bt_5_6",
         "healthy",
         "b.tech",
         "yes",
         "no"
        ],
        [
         "44",
         "female",
         "kalyan",
         "student",
         "lt_5",
         "moderate",
         "bsc",
         "no",
         "no"
        ],
        [
         "45",
         "male",
         "mumbai",
         "student",
         "gt_8",
         "moderate",
         "llb",
         "yes",
         "yes"
        ],
        [
         "46",
         "male",
         "vadodara",
         "student",
         "bt_7_8",
         "healthy",
         "b.arch",
         "yes",
         "yes"
        ],
        [
         "47",
         "female",
         "bhopal",
         "student",
         "lt_5",
         "unhealthy",
         "ma",
         "yes",
         "no"
        ],
        [
         "48",
         "female",
         "rajkot",
         "student",
         "bt_7_8",
         "healthy",
         "bca",
         "yes",
         "yes"
        ],
        [
         "49",
         "female",
         "ghaziabad",
         "student",
         "gt_8",
         "moderate",
         "b.arch",
         "yes",
         "no"
        ]
       ],
       "shape": {
        "columns": 8,
        "rows": 22320
       }
      },
      "text/html": [
       "<div>\n",
       "<style scoped>\n",
       "    .dataframe tbody tr th:only-of-type {\n",
       "        vertical-align: middle;\n",
       "    }\n",
       "\n",
       "    .dataframe tbody tr th {\n",
       "        vertical-align: top;\n",
       "    }\n",
       "\n",
       "    .dataframe thead th {\n",
       "        text-align: right;\n",
       "    }\n",
       "</style>\n",
       "<table border=\"1\" class=\"dataframe\">\n",
       "  <thead>\n",
       "    <tr style=\"text-align: right;\">\n",
       "      <th></th>\n",
       "      <th>gender</th>\n",
       "      <th>city</th>\n",
       "      <th>profession</th>\n",
       "      <th>sleep_duration</th>\n",
       "      <th>dietary_habits</th>\n",
       "      <th>degree</th>\n",
       "      <th>suicidal_thoughts</th>\n",
       "      <th>family_history</th>\n",
       "    </tr>\n",
       "  </thead>\n",
       "  <tbody>\n",
       "    <tr>\n",
       "      <th>0</th>\n",
       "      <td>male</td>\n",
       "      <td>jaipur</td>\n",
       "      <td>student</td>\n",
       "      <td>bt_7_8</td>\n",
       "      <td>moderate</td>\n",
       "      <td>'class 12'</td>\n",
       "      <td>yes</td>\n",
       "      <td>no</td>\n",
       "    </tr>\n",
       "    <tr>\n",
       "      <th>1</th>\n",
       "      <td>male</td>\n",
       "      <td>vadodara</td>\n",
       "      <td>student</td>\n",
       "      <td>bt_7_8</td>\n",
       "      <td>moderate</td>\n",
       "      <td>b.arch</td>\n",
       "      <td>no</td>\n",
       "      <td>yes</td>\n",
       "    </tr>\n",
       "    <tr>\n",
       "      <th>2</th>\n",
       "      <td>male</td>\n",
       "      <td>ahmedabad</td>\n",
       "      <td>student</td>\n",
       "      <td>bt_7_8</td>\n",
       "      <td>unhealthy</td>\n",
       "      <td>m.ed</td>\n",
       "      <td>yes</td>\n",
       "      <td>yes</td>\n",
       "    </tr>\n",
       "    <tr>\n",
       "      <th>3</th>\n",
       "      <td>male</td>\n",
       "      <td>bhopal</td>\n",
       "      <td>student</td>\n",
       "      <td>bt_7_8</td>\n",
       "      <td>moderate</td>\n",
       "      <td>b.com</td>\n",
       "      <td>yes</td>\n",
       "      <td>no</td>\n",
       "    </tr>\n",
       "    <tr>\n",
       "      <th>4</th>\n",
       "      <td>male</td>\n",
       "      <td>patna</td>\n",
       "      <td>student</td>\n",
       "      <td>bt_5_6</td>\n",
       "      <td>unhealthy</td>\n",
       "      <td>b.com</td>\n",
       "      <td>no</td>\n",
       "      <td>no</td>\n",
       "    </tr>\n",
       "    <tr>\n",
       "      <th>...</th>\n",
       "      <td>...</td>\n",
       "      <td>...</td>\n",
       "      <td>...</td>\n",
       "      <td>...</td>\n",
       "      <td>...</td>\n",
       "      <td>...</td>\n",
       "      <td>...</td>\n",
       "      <td>...</td>\n",
       "    </tr>\n",
       "    <tr>\n",
       "      <th>22315</th>\n",
       "      <td>male</td>\n",
       "      <td>kolkata</td>\n",
       "      <td>student</td>\n",
       "      <td>bt_7_8</td>\n",
       "      <td>unhealthy</td>\n",
       "      <td>b.com</td>\n",
       "      <td>yes</td>\n",
       "      <td>no</td>\n",
       "    </tr>\n",
       "    <tr>\n",
       "      <th>22316</th>\n",
       "      <td>female</td>\n",
       "      <td>patna</td>\n",
       "      <td>student</td>\n",
       "      <td>lt_5</td>\n",
       "      <td>unhealthy</td>\n",
       "      <td>msc</td>\n",
       "      <td>yes</td>\n",
       "      <td>yes</td>\n",
       "    </tr>\n",
       "    <tr>\n",
       "      <th>22317</th>\n",
       "      <td>male</td>\n",
       "      <td>lucknow</td>\n",
       "      <td>student</td>\n",
       "      <td>bt_7_8</td>\n",
       "      <td>healthy</td>\n",
       "      <td>b.arch</td>\n",
       "      <td>yes</td>\n",
       "      <td>yes</td>\n",
       "    </tr>\n",
       "    <tr>\n",
       "      <th>22318</th>\n",
       "      <td>female</td>\n",
       "      <td>kolkata</td>\n",
       "      <td>student</td>\n",
       "      <td>bt_5_6</td>\n",
       "      <td>unhealthy</td>\n",
       "      <td>md</td>\n",
       "      <td>yes</td>\n",
       "      <td>no</td>\n",
       "    </tr>\n",
       "    <tr>\n",
       "      <th>22319</th>\n",
       "      <td>female</td>\n",
       "      <td>thane</td>\n",
       "      <td>student</td>\n",
       "      <td>bt_5_6</td>\n",
       "      <td>healthy</td>\n",
       "      <td>b.ed</td>\n",
       "      <td>no</td>\n",
       "      <td>yes</td>\n",
       "    </tr>\n",
       "  </tbody>\n",
       "</table>\n",
       "<p>22320 rows × 8 columns</p>\n",
       "</div>"
      ],
      "text/plain": [
       "       gender       city profession sleep_duration dietary_habits      degree  \\\n",
       "0        male     jaipur    student         bt_7_8       moderate  'class 12'   \n",
       "1        male   vadodara    student         bt_7_8       moderate      b.arch   \n",
       "2        male  ahmedabad    student         bt_7_8      unhealthy        m.ed   \n",
       "3        male     bhopal    student         bt_7_8       moderate       b.com   \n",
       "4        male      patna    student         bt_5_6      unhealthy       b.com   \n",
       "...       ...        ...        ...            ...            ...         ...   \n",
       "22315    male    kolkata    student         bt_7_8      unhealthy       b.com   \n",
       "22316  female      patna    student           lt_5      unhealthy         msc   \n",
       "22317    male    lucknow    student         bt_7_8        healthy      b.arch   \n",
       "22318  female    kolkata    student         bt_5_6      unhealthy          md   \n",
       "22319  female      thane    student         bt_5_6        healthy        b.ed   \n",
       "\n",
       "      suicidal_thoughts family_history  \n",
       "0                   yes             no  \n",
       "1                    no            yes  \n",
       "2                   yes            yes  \n",
       "3                   yes             no  \n",
       "4                    no             no  \n",
       "...                 ...            ...  \n",
       "22315               yes             no  \n",
       "22316               yes            yes  \n",
       "22317               yes            yes  \n",
       "22318               yes             no  \n",
       "22319                no            yes  \n",
       "\n",
       "[22320 rows x 8 columns]"
      ]
     },
     "execution_count": 219,
     "metadata": {},
     "output_type": "execute_result"
    }
   ],
   "source": [
    "updated_categories = clean_sleep_duration_fn(updated_categories)\n",
    "updated_categories = map_sleep_duration_fn(updated_categories)\n",
    "updated_categories"
   ]
  },
  {
   "cell_type": "markdown",
   "id": "fb34c76a",
   "metadata": {},
   "source": [
    "### Preprocessing Dietary Habits"
   ]
  },
  {
   "cell_type": "code",
   "execution_count": 220,
   "id": "e75d8a4f",
   "metadata": {},
   "outputs": [
    {
     "data": {
      "text/plain": [
       "dietary_habits\n",
       "unhealthy    8265\n",
       "moderate     7898\n",
       "healthy      6149\n",
       "others          8\n",
       "Name: count, dtype: int64"
      ]
     },
     "execution_count": 220,
     "metadata": {},
     "output_type": "execute_result"
    }
   ],
   "source": [
    "updated_categories[\"dietary_habits\"].value_counts()"
   ]
  },
  {
   "cell_type": "markdown",
   "id": "6b6a79ca",
   "metadata": {},
   "source": [
    "* This looks straight forward, we can OneHot/Ordinal encoder to encode them \n",
    "* Even here we can merge `other` with `unhealthy` since the sample size is very small"
   ]
  },
  {
   "cell_type": "code",
   "execution_count": 221,
   "id": "fbf04e06",
   "metadata": {},
   "outputs": [
    {
     "data": {
      "text/plain": [
       "array(['dietary_habits_pipeline__dietary_habits_healthy',\n",
       "       'dietary_habits_pipeline__dietary_habits_moderate',\n",
       "       'dietary_habits_pipeline__dietary_habits_unhealthy'], dtype=object)"
      ]
     },
     "execution_count": 221,
     "metadata": {},
     "output_type": "execute_result"
    }
   ],
   "source": [
    "# helper function to map dietary habits 'other' value to unhealthy\n",
    "def map_dietary_habits_fn(df):\n",
    "    if not isinstance(df, pd.DataFrame):\n",
    "        raise ValueError(\"Input must be a pandas DataFrame\")\n",
    "    df_copy = df.copy()\n",
    "    df_copy.loc[df_copy[\"dietary_habits\"] == \"others\",\"dietary_habits\"] = \"unhealthy\"\n",
    "    return df_copy\n",
    "\n",
    "\n",
    "map_dietary_habits = FunctionTransformer(\n",
    "    map_dietary_habits_fn, feature_names_out=\"one-to-one\")\n",
    "\n",
    "\n",
    "def make_dietary_habits_pipeline_fn(encoding='onehot'):\n",
    "    steps = [\n",
    "        (\"default_cat_pipeline\", default_cat_pipeline),\n",
    "        (\"dietary_habits_mapping\", map_dietary_habits)\n",
    "    ]\n",
    "\n",
    "    if encoding == \"onehot\":\n",
    "        steps.append((\"encoder\", OneHotEncoder(\n",
    "            sparse_output=False, handle_unknown=\"ignore\")))\n",
    "    elif encoding == \"ordinal\":\n",
    "        steps.append((\"encoder\", OrdinalEncoder(categories=[[\n",
    "            \"unhealthy\", \"moderate\", \"healthy\"\n",
    "        ]], handle_unknown=\"use_encoded_value\", unknown_value=-1)))\n",
    "    else:\n",
    "        raise ValueError(\"Invalid encoding type: choose 'onehot' or 'ordinal'\")\n",
    "    return Pipeline(steps=steps)\n",
    "\n",
    "preprocess_dietary_habits = ColumnTransformer([(\n",
    "    \"dietary_habits_pipeline\", make_dietary_habits_pipeline_fn(encoding=\"onehot\"), [\n",
    "        \"dietary_habits\"]\n",
    ")])\n",
    "\n",
    "temp = preprocess_dietary_habits.fit_transform(X_train)\n",
    "preprocess_dietary_habits.get_feature_names_out()"
   ]
  },
  {
   "cell_type": "markdown",
   "id": "fbe9a2d5",
   "metadata": {},
   "source": [
    "* Lets update the category values for exploration"
   ]
  },
  {
   "cell_type": "code",
   "execution_count": 222,
   "id": "dfe6ee64",
   "metadata": {},
   "outputs": [
    {
     "data": {
      "text/plain": [
       "dietary_habits\n",
       "unhealthy    8273\n",
       "moderate     7898\n",
       "healthy      6149\n",
       "Name: count, dtype: int64"
      ]
     },
     "execution_count": 222,
     "metadata": {},
     "output_type": "execute_result"
    }
   ],
   "source": [
    "updated_categories = map_dietary_habits_fn(updated_categories)\n",
    "updated_categories[\"dietary_habits\"].value_counts()"
   ]
  },
  {
   "cell_type": "markdown",
   "id": "471fa596",
   "metadata": {},
   "source": [
    "### Preprocessing Degree "
   ]
  },
  {
   "cell_type": "code",
   "execution_count": 223,
   "id": "2fa4534e",
   "metadata": {},
   "outputs": [
    {
     "data": {
      "text/plain": [
       "degree\n",
       "'class 12'    4808\n",
       "b.ed          1487\n",
       "b.com         1193\n",
       "b.arch        1183\n",
       "bca           1132\n",
       "msc            968\n",
       "b.tech         931\n",
       "mca            830\n",
       "m.tech         816\n",
       "bhm            743\n",
       "bsc            719\n",
       "m.ed           672\n",
       "b.pharm        654\n",
       "m.com          590\n",
       "bba            563\n",
       "mbbs           562\n",
       "llb            529\n",
       "be             485\n",
       "m.pharm        478\n",
       "ba             477\n",
       "md             473\n",
       "mba            455\n",
       "ma             445\n",
       "phd            432\n",
       "llm            380\n",
       "me             143\n",
       "mhm            142\n",
       "others          30\n",
       "Name: count, dtype: int64"
      ]
     },
     "execution_count": 223,
     "metadata": {},
     "output_type": "execute_result"
    }
   ],
   "source": [
    "updated_categories[\"degree\"].value_counts()"
   ]
  },
  {
   "cell_type": "markdown",
   "id": "67944d60",
   "metadata": {},
   "source": [
    "* This is going to be a tricky one, but thanks to ChatGPT we have a dictionary mapping degree to field and level. \n",
    "* Here is the plan for the pipeline,\n",
    "    * Step 1: Clean the values which might have \"'\" around them .\n",
    "    * Step 2: Create two new fields degree_field and degree_level and update the values based on dictionary mapping below. We'll also use this for data exploration\n",
    "    * Step 3: Create a one hot encoding function degree_field\n",
    "    * Step 4: Create a generic encoding function (one hot or ordinal) for degree level (unknown < high_school < bachelor < master < doctorate). Anything else is -1"
   ]
  },
  {
   "cell_type": "code",
   "execution_count": 224,
   "id": "33946f9a",
   "metadata": {},
   "outputs": [],
   "source": [
    "degree_mapping_dict = {\n",
    "    \"class 12\":     {\"field\": \"school\",      \"level\": \"high_school\"},\n",
    "\n",
    "    # Commerce & Business\n",
    "    \"b.com\":        {\"field\": \"commerce\",    \"level\": \"bachelor\"},\n",
    "    \"m.com\":        {\"field\": \"commerce\",    \"level\": \"master\"},\n",
    "    \"bba\":          {\"field\": \"business\",    \"level\": \"bachelor\"},\n",
    "    \"mba\":          {\"field\": \"business\",    \"level\": \"master\"},\n",
    "\n",
    "    # Engineering & Tech\n",
    "    \"b.tech\":       {\"field\": \"engineering\", \"level\": \"bachelor\"},\n",
    "    \"be\":           {\"field\": \"engineering\", \"level\": \"bachelor\"},\n",
    "    \"b.arch\":       {\"field\": \"architecture\",\"level\": \"bachelor\"},\n",
    "    \"me\":           {\"field\": \"engineering\", \"level\": \"master\"},\n",
    "    \"m.tech\":       {\"field\": \"engineering\", \"level\": \"master\"},\n",
    "\n",
    "    # Science & CS\n",
    "    \"bsc\":          {\"field\": \"science\",     \"level\": \"bachelor\"},\n",
    "    \"msc\":          {\"field\": \"science\",     \"level\": \"master\"},\n",
    "    \"bca\":          {\"field\": \"computer_app\",\"level\": \"bachelor\"},\n",
    "    \"mca\":          {\"field\": \"computer_app\",\"level\": \"master\"},\n",
    "\n",
    "    # Education\n",
    "    \"b.ed\":         {\"field\": \"education\",   \"level\": \"bachelor\"},\n",
    "    \"m.ed\":         {\"field\": \"education\",   \"level\": \"master\"},\n",
    "\n",
    "    # Medical\n",
    "    \"mbbs\":         {\"field\": \"medical\",     \"level\": \"bachelor\"},\n",
    "    \"md\":           {\"field\": \"medical\",     \"level\": \"master\"},  # Technically PG, but aligned here\n",
    "    \"b.pharm\":      {\"field\": \"pharmacy\",    \"level\": \"bachelor\"},\n",
    "    \"m.pharm\":      {\"field\": \"pharmacy\",    \"level\": \"master\"},\n",
    "\n",
    "    # Law\n",
    "    \"llb\":          {\"field\": \"law\",         \"level\": \"bachelor\"},\n",
    "    \"llm\":          {\"field\": \"law\",         \"level\": \"master\"},\n",
    "\n",
    "    # Hospitality\n",
    "    \"bhm\":          {\"field\": \"hospitality\", \"level\": \"bachelor\"},\n",
    "    \"mhm\":          {\"field\": \"hospitality\", \"level\": \"master\"},\n",
    "\n",
    "    # Arts\n",
    "    \"ba\":           {\"field\": \"arts\",        \"level\": \"bachelor\"},\n",
    "    \"ma\":           {\"field\": \"arts\",        \"level\": \"master\"},\n",
    "\n",
    "    # Research\n",
    "    \"phd\":          {\"field\": \"research\",    \"level\": \"doctorate\"},\n",
    "\n",
    "    # Other\n",
    "    \"others\":       {\"field\": \"unknown\",     \"level\": \"unknown\"}\n",
    "}"
   ]
  },
  {
   "cell_type": "code",
   "execution_count": 225,
   "id": "f894df73",
   "metadata": {},
   "outputs": [
    {
     "data": {
      "text/plain": [
       "array(['degree_pipeline__encode_degree_field__degree_field_architecture',\n",
       "       'degree_pipeline__encode_degree_field__degree_field_arts',\n",
       "       'degree_pipeline__encode_degree_field__degree_field_business',\n",
       "       'degree_pipeline__encode_degree_field__degree_field_commerce',\n",
       "       'degree_pipeline__encode_degree_field__degree_field_computer_app',\n",
       "       'degree_pipeline__encode_degree_field__degree_field_education',\n",
       "       'degree_pipeline__encode_degree_field__degree_field_engineering',\n",
       "       'degree_pipeline__encode_degree_field__degree_field_hospitality',\n",
       "       'degree_pipeline__encode_degree_field__degree_field_law',\n",
       "       'degree_pipeline__encode_degree_field__degree_field_medical',\n",
       "       'degree_pipeline__encode_degree_field__degree_field_pharmacy',\n",
       "       'degree_pipeline__encode_degree_field__degree_field_research',\n",
       "       'degree_pipeline__encode_degree_field__degree_field_school',\n",
       "       'degree_pipeline__encode_degree_field__degree_field_science',\n",
       "       'degree_pipeline__encode_degree_field__degree_field_unknown',\n",
       "       'degree_pipeline__encode_degree_level__degree_level_bachelor',\n",
       "       'degree_pipeline__encode_degree_level__degree_level_doctorate',\n",
       "       'degree_pipeline__encode_degree_level__degree_level_high_school',\n",
       "       'degree_pipeline__encode_degree_level__degree_level_master',\n",
       "       'degree_pipeline__encode_degree_level__degree_level_unknown'],\n",
       "      dtype=object)"
      ]
     },
     "execution_count": 225,
     "metadata": {},
     "output_type": "execute_result"
    }
   ],
   "source": [
    "# helper function to clean up degree column\n",
    "def clean_degree_fn(df):\n",
    "    if not isinstance(df, pd.DataFrame):\n",
    "        raise ValueError(\n",
    "            \"degree_clean_fn : Input must be a pandas DataFrame\")\n",
    "    df_copy = df.copy()\n",
    "    df_copy[\"degree\"] = df_copy[\"degree\"].str.strip(\"'\")\n",
    "    return df_copy\n",
    "\n",
    "\n",
    "clean_degree = FunctionTransformer(\n",
    "    clean_degree_fn, feature_names_out=\"one-to-one\")\n",
    "\n",
    "\n",
    "def map_degree_feature_names(function_transformer, feature_names_in):\n",
    "    features_out = feature_names_in.tolist()\n",
    "    features_out.extend([\"degree_field\", \"degree_level\"])\n",
    "    return features_out\n",
    "\n",
    "# helper funtion to map degree to degree_field and degree_level\n",
    "def map_field(val):\n",
    "    return degree_mapping_dict.get(val, {}).get(\"field\", \"unknown\")\n",
    "\n",
    "def map_level(val):\n",
    "    return degree_mapping_dict.get(val, {}).get(\"level\", \"unknown\")\n",
    "\n",
    "\n",
    "def map_degree_fn(df):\n",
    "    if not isinstance(df, pd.DataFrame):\n",
    "        raise ValueError(\"degree_mapping_fn: Input must be a pandas DataFrame\")\n",
    "    df_copy = df.copy()\n",
    "    df_copy[\"degree_field\"] = df_copy[\"degree\"].map(map_field)\n",
    "    df_copy[\"degree_level\"] = df_copy[\"degree\"].map(map_level)\n",
    "    return df_copy\n",
    "\n",
    "\n",
    "map_degree = FunctionTransformer(\n",
    "    map_degree_fn, feature_names_out=map_degree_feature_names)\n",
    "\n",
    "# helper function to create a column transformer to encode degree_field and degree_level fields.\n",
    "\n",
    "\n",
    "def make_degree_encoder(encoding=\"onehot\"):\n",
    "    degree_level_encoder = OneHotEncoder(\n",
    "        handle_unknown=\"ignore\", sparse_output=False)\n",
    "    \n",
    "    if encoding == \"ordinal\":\n",
    "        degree_level_encoder = OrdinalEncoder(categories=[[\n",
    "            \"unknown\", \"high_school\", \"bachelor\", \"master\", \"doctorate\"\n",
    "        ]], handle_unknown=\"use_encoded_value\", unknown_value=-1)\n",
    "\n",
    "    return ColumnTransformer([\n",
    "        (\"encode_degree_field\", OneHotEncoder(handle_unknown=\"ignore\", sparse_output=False), [\"degree_field\"]),\n",
    "        (\"encode_degree_level\", degree_level_encoder, [\"degree_level\"])\n",
    "    ])\n",
    "\n",
    "\n",
    "# testing basic pipeline\n",
    "degree_pipeline = Pipeline([\n",
    "    (\"default_cat_pipeline\", default_cat_pipeline),\n",
    "    (\"clean\", clean_degree),\n",
    "    (\"mapping\", map_degree),\n",
    "    (\"encode_degree\",make_degree_encoder())\n",
    "])\n",
    "\n",
    "preprocess_degree = ColumnTransformer([\n",
    "    (\"degree_pipeline\", degree_pipeline, [\"degree\"])\n",
    "])\n",
    "temp = preprocess_degree.fit_transform(X_train)\n",
    "preprocess_degree.get_feature_names_out()"
   ]
  },
  {
   "cell_type": "markdown",
   "id": "dc53150f",
   "metadata": {},
   "source": [
    "* Lets clean and create the degree mapping columns for data exploration"
   ]
  },
  {
   "cell_type": "code",
   "execution_count": 226,
   "id": "4bd0ac00",
   "metadata": {},
   "outputs": [
    {
     "data": {
      "application/vnd.microsoft.datawrangler.viewer.v0+json": {
       "columns": [
        {
         "name": "index",
         "rawType": "int64",
         "type": "integer"
        },
        {
         "name": "gender",
         "rawType": "object",
         "type": "string"
        },
        {
         "name": "city",
         "rawType": "object",
         "type": "string"
        },
        {
         "name": "profession",
         "rawType": "object",
         "type": "string"
        },
        {
         "name": "sleep_duration",
         "rawType": "object",
         "type": "string"
        },
        {
         "name": "dietary_habits",
         "rawType": "object",
         "type": "string"
        },
        {
         "name": "degree",
         "rawType": "object",
         "type": "string"
        },
        {
         "name": "suicidal_thoughts",
         "rawType": "object",
         "type": "string"
        },
        {
         "name": "family_history",
         "rawType": "object",
         "type": "string"
        },
        {
         "name": "degree_field",
         "rawType": "object",
         "type": "string"
        },
        {
         "name": "degree_level",
         "rawType": "object",
         "type": "string"
        }
       ],
       "conversionMethod": "pd.DataFrame",
       "ref": "71af935b-2901-4d49-af3b-360f427e4dc0",
       "rows": [
        [
         "0",
         "male",
         "jaipur",
         "student",
         "bt_7_8",
         "moderate",
         "class 12",
         "yes",
         "no",
         "school",
         "high_school"
        ],
        [
         "1",
         "male",
         "vadodara",
         "student",
         "bt_7_8",
         "moderate",
         "b.arch",
         "no",
         "yes",
         "architecture",
         "bachelor"
        ],
        [
         "2",
         "male",
         "ahmedabad",
         "student",
         "bt_7_8",
         "unhealthy",
         "m.ed",
         "yes",
         "yes",
         "education",
         "master"
        ],
        [
         "3",
         "male",
         "bhopal",
         "student",
         "bt_7_8",
         "moderate",
         "b.com",
         "yes",
         "no",
         "commerce",
         "bachelor"
        ],
        [
         "4",
         "male",
         "patna",
         "student",
         "bt_5_6",
         "unhealthy",
         "b.com",
         "no",
         "no",
         "commerce",
         "bachelor"
        ]
       ],
       "shape": {
        "columns": 10,
        "rows": 5
       }
      },
      "text/html": [
       "<div>\n",
       "<style scoped>\n",
       "    .dataframe tbody tr th:only-of-type {\n",
       "        vertical-align: middle;\n",
       "    }\n",
       "\n",
       "    .dataframe tbody tr th {\n",
       "        vertical-align: top;\n",
       "    }\n",
       "\n",
       "    .dataframe thead th {\n",
       "        text-align: right;\n",
       "    }\n",
       "</style>\n",
       "<table border=\"1\" class=\"dataframe\">\n",
       "  <thead>\n",
       "    <tr style=\"text-align: right;\">\n",
       "      <th></th>\n",
       "      <th>gender</th>\n",
       "      <th>city</th>\n",
       "      <th>profession</th>\n",
       "      <th>sleep_duration</th>\n",
       "      <th>dietary_habits</th>\n",
       "      <th>degree</th>\n",
       "      <th>suicidal_thoughts</th>\n",
       "      <th>family_history</th>\n",
       "      <th>degree_field</th>\n",
       "      <th>degree_level</th>\n",
       "    </tr>\n",
       "  </thead>\n",
       "  <tbody>\n",
       "    <tr>\n",
       "      <th>0</th>\n",
       "      <td>male</td>\n",
       "      <td>jaipur</td>\n",
       "      <td>student</td>\n",
       "      <td>bt_7_8</td>\n",
       "      <td>moderate</td>\n",
       "      <td>class 12</td>\n",
       "      <td>yes</td>\n",
       "      <td>no</td>\n",
       "      <td>school</td>\n",
       "      <td>high_school</td>\n",
       "    </tr>\n",
       "    <tr>\n",
       "      <th>1</th>\n",
       "      <td>male</td>\n",
       "      <td>vadodara</td>\n",
       "      <td>student</td>\n",
       "      <td>bt_7_8</td>\n",
       "      <td>moderate</td>\n",
       "      <td>b.arch</td>\n",
       "      <td>no</td>\n",
       "      <td>yes</td>\n",
       "      <td>architecture</td>\n",
       "      <td>bachelor</td>\n",
       "    </tr>\n",
       "    <tr>\n",
       "      <th>2</th>\n",
       "      <td>male</td>\n",
       "      <td>ahmedabad</td>\n",
       "      <td>student</td>\n",
       "      <td>bt_7_8</td>\n",
       "      <td>unhealthy</td>\n",
       "      <td>m.ed</td>\n",
       "      <td>yes</td>\n",
       "      <td>yes</td>\n",
       "      <td>education</td>\n",
       "      <td>master</td>\n",
       "    </tr>\n",
       "    <tr>\n",
       "      <th>3</th>\n",
       "      <td>male</td>\n",
       "      <td>bhopal</td>\n",
       "      <td>student</td>\n",
       "      <td>bt_7_8</td>\n",
       "      <td>moderate</td>\n",
       "      <td>b.com</td>\n",
       "      <td>yes</td>\n",
       "      <td>no</td>\n",
       "      <td>commerce</td>\n",
       "      <td>bachelor</td>\n",
       "    </tr>\n",
       "    <tr>\n",
       "      <th>4</th>\n",
       "      <td>male</td>\n",
       "      <td>patna</td>\n",
       "      <td>student</td>\n",
       "      <td>bt_5_6</td>\n",
       "      <td>unhealthy</td>\n",
       "      <td>b.com</td>\n",
       "      <td>no</td>\n",
       "      <td>no</td>\n",
       "      <td>commerce</td>\n",
       "      <td>bachelor</td>\n",
       "    </tr>\n",
       "  </tbody>\n",
       "</table>\n",
       "</div>"
      ],
      "text/plain": [
       "  gender       city profession sleep_duration dietary_habits    degree  \\\n",
       "0   male     jaipur    student         bt_7_8       moderate  class 12   \n",
       "1   male   vadodara    student         bt_7_8       moderate    b.arch   \n",
       "2   male  ahmedabad    student         bt_7_8      unhealthy      m.ed   \n",
       "3   male     bhopal    student         bt_7_8       moderate     b.com   \n",
       "4   male      patna    student         bt_5_6      unhealthy     b.com   \n",
       "\n",
       "  suicidal_thoughts family_history  degree_field degree_level  \n",
       "0               yes             no        school  high_school  \n",
       "1                no            yes  architecture     bachelor  \n",
       "2               yes            yes     education       master  \n",
       "3               yes             no      commerce     bachelor  \n",
       "4                no             no      commerce     bachelor  "
      ]
     },
     "execution_count": 226,
     "metadata": {},
     "output_type": "execute_result"
    }
   ],
   "source": [
    "updated_categories = clean_degree_fn(updated_categories)\n",
    "updated_categories = map_degree_fn(updated_categories)\n",
    "updated_categories.head()"
   ]
  },
  {
   "cell_type": "markdown",
   "id": "ad2171e1",
   "metadata": {},
   "source": [
    "### Preprocessing Suicidal Thoughts Column"
   ]
  },
  {
   "cell_type": "code",
   "execution_count": 227,
   "id": "83a6d0bb",
   "metadata": {},
   "outputs": [
    {
     "data": {
      "text/plain": [
       "suicidal_thoughts\n",
       "yes    14133\n",
       "no      8187\n",
       "Name: count, dtype: int64"
      ]
     },
     "execution_count": 227,
     "metadata": {},
     "output_type": "execute_result"
    }
   ],
   "source": [
    "updated_categories[\"suicidal_thoughts\"].value_counts()"
   ]
  },
  {
   "cell_type": "markdown",
   "id": "720286f6",
   "metadata": {},
   "source": [
    "* This seems straight forward, and data seems clean enough. We can simply one hot encode this column"
   ]
  },
  {
   "cell_type": "code",
   "execution_count": 228,
   "id": "2f4e3c47",
   "metadata": {},
   "outputs": [
    {
     "data": {
      "text/plain": [
       "array(['suicidal_thoughts_pipeline__suicidal_thoughts_no',\n",
       "       'suicidal_thoughts_pipeline__suicidal_thoughts_yes'], dtype=object)"
      ]
     },
     "execution_count": 228,
     "metadata": {},
     "output_type": "execute_result"
    }
   ],
   "source": [
    "suicidal_thoughts_pipeline = Pipeline([\n",
    "    (\"default_cat_pipeline\", default_cat_pipeline),\n",
    "    (\"suididal_thoughts_encoding\", OneHotEncoder(\n",
    "        handle_unknown=\"ignore\", sparse_output=False))\n",
    "])\n",
    "\n",
    "preprocess_suicidal_thoughts = ColumnTransformer(\n",
    "    [(\n",
    "        \"suicidal_thoughts_pipeline\", suicidal_thoughts_pipeline,[\"suicidal_thoughts\"]\n",
    "    )]\n",
    ")\n",
    "\n",
    "temp = preprocess_suicidal_thoughts.fit_transform(X_train)\n",
    "preprocess_suicidal_thoughts.get_feature_names_out()"
   ]
  },
  {
   "cell_type": "markdown",
   "id": "a83ffb60",
   "metadata": {},
   "source": [
    "### Preprocessing Family History"
   ]
  },
  {
   "cell_type": "code",
   "execution_count": 229,
   "id": "5cfe3370",
   "metadata": {},
   "outputs": [
    {
     "data": {
      "text/plain": [
       "family_history\n",
       "no     11517\n",
       "yes    10803\n",
       "Name: count, dtype: int64"
      ]
     },
     "execution_count": 229,
     "metadata": {},
     "output_type": "execute_result"
    }
   ],
   "source": [
    "updated_categories[\"family_history\"].value_counts()"
   ]
  },
  {
   "cell_type": "markdown",
   "id": "8b1de7fb",
   "metadata": {},
   "source": [
    "* Even this seems straight forward a simple one hot encoding should make this column ready for training. "
   ]
  },
  {
   "cell_type": "code",
   "execution_count": 230,
   "id": "b64d6cf8",
   "metadata": {},
   "outputs": [
    {
     "data": {
      "text/plain": [
       "array(['family_history_pipeline__family_history_no',\n",
       "       'family_history_pipeline__family_history_yes'], dtype=object)"
      ]
     },
     "execution_count": 230,
     "metadata": {},
     "output_type": "execute_result"
    }
   ],
   "source": [
    "family_history_pipeline = Pipeline([\n",
    "    (\"default_cat_pipeline\", default_cat_pipeline),\n",
    "    (\"family_history_encoding\", OneHotEncoder(\n",
    "        handle_unknown=\"ignore\", sparse_output=False))\n",
    "])\n",
    "\n",
    "preprocess_family_history = ColumnTransformer(\n",
    "    [(\n",
    "        \"family_history_pipeline\", family_history_pipeline,[\"family_history\"]\n",
    "    )]\n",
    ")\n",
    "\n",
    "temp = preprocess_family_history.fit_transform(X_train)\n",
    "preprocess_family_history.get_feature_names_out()"
   ]
  },
  {
   "cell_type": "markdown",
   "id": "5fad6047",
   "metadata": {},
   "source": [
    "### Preprocessing 'city' column"
   ]
  },
  {
   "cell_type": "code",
   "execution_count": 231,
   "id": "78dc2fe1",
   "metadata": {},
   "outputs": [
    {
     "data": {
      "text/plain": [
       "city\n",
       "kalyan                  1284\n",
       "srinagar                1073\n",
       "hyderabad               1063\n",
       "vasai-virar             1042\n",
       "lucknow                  943\n",
       "thane                    910\n",
       "kolkata                  890\n",
       "agra                     864\n",
       "ludhiana                 848\n",
       "surat                    842\n",
       "jaipur                   840\n",
       "patna                    823\n",
       "visakhapatnam            763\n",
       "pune                     751\n",
       "bhopal                   748\n",
       "ahmedabad                748\n",
       "chennai                  707\n",
       "meerut                   660\n",
       "rajkot                   633\n",
       "bangalore                625\n",
       "delhi                    602\n",
       "ghaziabad                588\n",
       "mumbai                   563\n",
       "vadodara                 561\n",
       "varanasi                 550\n",
       "nagpur                   533\n",
       "indore                   519\n",
       "kanpur                   493\n",
       "nashik                   452\n",
       "faridabad                381\n",
       "harsha                     2\n",
       "bhavna                     2\n",
       "saanvi                     2\n",
       "city                       2\n",
       "khaziabad                  1\n",
       "m.com                      1\n",
       "3.0                        1\n",
       "harsh                      1\n",
       "mihir                      1\n",
       "'less delhi'               1\n",
       "gaurav                     1\n",
       "nalyan                     1\n",
       "nandini                    1\n",
       "'less than 5 kalyan'       1\n",
       "reyansh                    1\n",
       "m.tech                     1\n",
       "mira                       1\n",
       "Name: count, dtype: int64"
      ]
     },
     "execution_count": 231,
     "metadata": {},
     "output_type": "execute_result"
    }
   ],
   "source": [
    "updated_categories[\"city\"].value_counts()"
   ]
  },
  {
   "cell_type": "markdown",
   "id": "19dc5304",
   "metadata": {},
   "source": [
    "* So city column needs some clearning, \n",
    "    * There might be cities with special characters \"'\" that needs to be cleaned up.\n",
    "    * There are some values which are obviously not a city but rather distances, person names and education degree names. To fix this we'll use the master city dataset that has verified city names and lat/long info that we'll add as additional columns\n",
    "    * We'll also add a `is_valid_city` flag and for in valid city names we'll use `Nagpur` as default name and default lat/long as it is considered to be the geographical center of India. \n",
    "    * We don't need encoding for the city but rather we'll use cluster similarity to find the similarity between clusters. We **might** do that after some data exploration.  \n"
   ]
  },
  {
   "cell_type": "code",
   "execution_count": 232,
   "id": "6fde8593",
   "metadata": {},
   "outputs": [
    {
     "data": {
      "application/vnd.microsoft.datawrangler.viewer.v0+json": {
       "columns": [
        {
         "name": "index",
         "rawType": "int64",
         "type": "integer"
        },
        {
         "name": "name",
         "rawType": "object",
         "type": "string"
        },
        {
         "name": "ascii_name",
         "rawType": "object",
         "type": "string"
        },
        {
         "name": "lat",
         "rawType": "float64",
         "type": "float"
        },
        {
         "name": "long",
         "rawType": "float64",
         "type": "float"
        }
       ],
       "conversionMethod": "pd.DataFrame",
       "ref": "c8b9a9ba-a4bc-44f7-8c94-f2939fe69009",
       "rows": [
        [
         "0",
         "#100 bed and breakfast",
         "#100 bed and breakfast",
         "12.98332",
         "77.58427"
        ],
        [
         "1",
         "10 calangute",
         "10 calangute",
         "15.54244",
         "73.76279"
        ],
        [
         "2",
         "100 feet hospital",
         "100 feet hospital",
         "19.38609",
         "72.82558"
        ],
        [
         "3",
         "12th avenue hotel",
         "12th avenue hotel",
         "12.97044",
         "77.64617"
        ],
        [
         "4",
         "1589 city mark hotel",
         "1589 city mark hotel",
         "28.46348",
         "77.03176"
        ]
       ],
       "shape": {
        "columns": 4,
        "rows": 5
       }
      },
      "text/html": [
       "<div>\n",
       "<style scoped>\n",
       "    .dataframe tbody tr th:only-of-type {\n",
       "        vertical-align: middle;\n",
       "    }\n",
       "\n",
       "    .dataframe tbody tr th {\n",
       "        vertical-align: top;\n",
       "    }\n",
       "\n",
       "    .dataframe thead th {\n",
       "        text-align: right;\n",
       "    }\n",
       "</style>\n",
       "<table border=\"1\" class=\"dataframe\">\n",
       "  <thead>\n",
       "    <tr style=\"text-align: right;\">\n",
       "      <th></th>\n",
       "      <th>name</th>\n",
       "      <th>ascii_name</th>\n",
       "      <th>lat</th>\n",
       "      <th>long</th>\n",
       "    </tr>\n",
       "  </thead>\n",
       "  <tbody>\n",
       "    <tr>\n",
       "      <th>0</th>\n",
       "      <td>#100 bed and breakfast</td>\n",
       "      <td>#100 bed and breakfast</td>\n",
       "      <td>12.98332</td>\n",
       "      <td>77.58427</td>\n",
       "    </tr>\n",
       "    <tr>\n",
       "      <th>1</th>\n",
       "      <td>10 calangute</td>\n",
       "      <td>10 calangute</td>\n",
       "      <td>15.54244</td>\n",
       "      <td>73.76279</td>\n",
       "    </tr>\n",
       "    <tr>\n",
       "      <th>2</th>\n",
       "      <td>100 feet hospital</td>\n",
       "      <td>100 feet hospital</td>\n",
       "      <td>19.38609</td>\n",
       "      <td>72.82558</td>\n",
       "    </tr>\n",
       "    <tr>\n",
       "      <th>3</th>\n",
       "      <td>12th avenue hotel</td>\n",
       "      <td>12th avenue hotel</td>\n",
       "      <td>12.97044</td>\n",
       "      <td>77.64617</td>\n",
       "    </tr>\n",
       "    <tr>\n",
       "      <th>4</th>\n",
       "      <td>1589 city mark hotel</td>\n",
       "      <td>1589 city mark hotel</td>\n",
       "      <td>28.46348</td>\n",
       "      <td>77.03176</td>\n",
       "    </tr>\n",
       "  </tbody>\n",
       "</table>\n",
       "</div>"
      ],
      "text/plain": [
       "                     name              ascii_name       lat      long\n",
       "0  #100 bed and breakfast  #100 bed and breakfast  12.98332  77.58427\n",
       "1            10 calangute            10 calangute  15.54244  73.76279\n",
       "2       100 feet hospital       100 feet hospital  19.38609  72.82558\n",
       "3       12th avenue hotel       12th avenue hotel  12.97044  77.64617\n",
       "4    1589 city mark hotel    1589 city mark hotel  28.46348  77.03176"
      ]
     },
     "execution_count": 232,
     "metadata": {},
     "output_type": "execute_result"
    }
   ],
   "source": [
    "## load the master city data\n",
    "## read master city list\n",
    "master_city_list = pd.read_csv(Path(data_dir,\"detailed_in.csv\"))\n",
    "\n",
    "\n",
    "## convert the city names to lower case\n",
    "# master_city_list[\"name\"] = master_city_list[\"name\"].str.strip().str.lower()\n",
    "# master_city_list[\"ascii_name\"] = master_city_list[\"ascii_name\"].str.strip().str.lower()\n",
    "\n",
    "# ## unicode normalization\n",
    "# master_city_list[\"name\"] = master_city_list[\"name\"].map(lambda ct: unicodedata.normalize(\"NFKD\",ct).encode(\"ascii\",\"ignore\").decode())\n",
    "# master_city_list[\"ascii_name\"] = master_city_list[\"ascii_name\"].map(lambda ct: unicodedata.normalize(\"NFKD\",ct).encode(\"ascii\",\"ignore\").decode())\n",
    "\n",
    "# X_train[\"city\"].map(lambda ct: unicodedata.normalize(\"NFKD\",ct).encode(\"ascii\",\"ignore\").decode())\n",
    "# master_cities = master_city_list[\"ascii_name\"].str.strip().str.lower().to_list()\n",
    "# master_cities[:5]\n",
    "master_city_list.head()"
   ]
  },
  {
   "cell_type": "code",
   "execution_count": 233,
   "id": "1bd90b19",
   "metadata": {},
   "outputs": [
    {
     "data": {
      "text/plain": [
       "ascii_name\n",
       "#100 bed and breakfast    1\n",
       "narayanpur mardan         1\n",
       "narayanpur majhari        1\n",
       "narayanpur main canal     1\n",
       "narayanpur mafi           1\n",
       "                         ..\n",
       "gyadal gondi              1\n",
       "gya                       1\n",
       "gwinai                    1\n",
       "gwilani                   1\n",
       "zuvvigunta                1\n",
       "Name: count, Length: 407781, dtype: int64"
      ]
     },
     "execution_count": 233,
     "metadata": {},
     "output_type": "execute_result"
    }
   ],
   "source": [
    "master_city_list[\"ascii_name\"].value_counts()"
   ]
  },
  {
   "cell_type": "code",
   "execution_count": 234,
   "id": "afcbfba5",
   "metadata": {},
   "outputs": [],
   "source": [
    "# helper function to clean up city column and remove special characters\n",
    "def clean_city_fn(df):\n",
    "    if not isinstance(df, pd.DataFrame):\n",
    "        raise ValueError(\n",
    "            \"degree_clean_fn : Input must be a pandas DataFrame\")\n",
    "    df_copy = df.copy()\n",
    "    df_copy[\"city\"] = df_copy[\"city\"].str.strip(\"'\")\n",
    "    return df_copy\n",
    "\n",
    "clean_city = FunctionTransformer(clean_city_fn, feature_names_out=\"one-to-one\")\n",
    "\n",
    "# helper function that maps city names to default values of is_valid_city = 0, lat/long of Nagpur\n",
    "def map_city_feature_names(function_transformer, feature_names_in):\n",
    "    features_out = feature_names_in.tolist()\n",
    "    features_out.extend([\"is_valid_city\",\"lat\", \"long\"])\n",
    "    return features_out\n",
    "\n",
    "def map_city_fn(df):\n",
    "    if not isinstance(df, pd.DataFrame):\n",
    "        raise ValueError(\n",
    "            \"degree_clean_fn : Input must be a pandas DataFrame\")\n",
    "    df_copy = df.copy()\n",
    "    df_copy[\"is_valid_city\"] = 0\n",
    "    df_copy[\"lat\"] = 21.122615\n",
    "    df_copy[\"long\"] = 79.041124\n",
    "    return df_copy\n",
    "\n",
    "map_city = FunctionTransformer(map_city_fn, feature_names_out=map_city_feature_names)\n",
    "\n",
    "# helper function that compares and verifies the city name and if its a valid city then updates the lat/long value\n",
    "def map_city_data(city_name):\n",
    "    ## search for city name in master city lsit\n",
    "    city_data = master_city_list.loc[master_city_list[\"name\"] == city_name]\n",
    "    ## if city exists then return valid info\n",
    "    if city_data.shape[0] > 0:\n",
    "        return (1, city_data[\"lat\"].values[0],city_data[\"long\"].values[0])\n",
    "    ## if city doesn't exist the mark it as invalid and return default info\n",
    "    return 0,21.122615,79.041124\n",
    "    \n",
    "\n",
    "def verify_city_fn(df):\n",
    "    if not isinstance(df, pd.DataFrame):\n",
    "        raise ValueError(\n",
    "            \"degree_clean_fn : Input must be a pandas DataFrame\")\n",
    "    df_copy = df.copy()\n",
    "    unique_cities = df_copy[\"city\"].unique()\n",
    "    for unique_city in unique_cities:\n",
    "        is_valid_city,lat,long = map_city_data(unique_city)\n",
    "        df_copy.loc[df_copy[\"city\"] == unique_city, \"is_valid_city\"] = is_valid_city\n",
    "        df_copy.loc[df_copy[\"city\"] == unique_city, \"lat\"] = lat\n",
    "        df_copy.loc[df_copy[\"city\"] == unique_city, \"long\"] = long\n",
    "    return df_copy\n",
    "\n",
    "verify_city = FunctionTransformer(verify_city_fn, feature_names_out=\"one-to-one\")\n",
    "\n",
    "# function to fuzzy match invalid cities to master city list.\n",
    "# from rapidfuzz import process, fuzz,utils\n",
    "\n",
    "# unique_master_cites = master_city_list[\"name\"].values\n",
    "# def map_fuzzy_matched_city(city_name):\n",
    "#     matched_list = process.extract(city_name, unique_master_cites, scorer=fuzz.QRatio,limit=1)\n",
    "#     match,score,_ = matched_list[0]\n",
    "#     print(city_name, match,score)\n",
    "\n",
    "# def fuzzy_city_mapper_fn(df):\n",
    "#     if not isinstance(df, pd.DataFrame):\n",
    "#         raise ValueError(\n",
    "#             \"degree_clean_fn : Input must be a pandas DataFrame\")\n",
    "#     df_copy = df.copy()\n",
    "#     ## only focuses on invalid city\n",
    "#     unique_cities = df_copy.loc[df_copy[\"is_valid_city\"] == 0,\"city\"].unique()\n",
    "#     for unique_city in unique_cities:\n",
    "#         map_fuzzy_matched_city(unique_city)\n",
    "#     return df_copy\n",
    "\n",
    "# fuzzy_city_mapping = FunctionTransformer(fuzzy_city_mapper_fn, feature_names_out=\"one-to-one\")"
   ]
  },
  {
   "cell_type": "code",
   "execution_count": 235,
   "id": "8c05a669",
   "metadata": {},
   "outputs": [],
   "source": [
    "city_pipeline = Pipeline([\n",
    "    (\"default_cat_pipeline\", default_cat_pipeline),\n",
    "    (\"city_clean\", clean_city),\n",
    "    (\"city_mapping\", map_city),\n",
    "    (\"city_verification\", verify_city),\n",
    "    # (\"fuzzy_city_mapping\", fuzzy_city_mapping)\n",
    "])\n",
    "\n",
    "preprocess_city = ColumnTransformer([\n",
    "    (\"city_pipeline\", city_pipeline, [\"city\"])\n",
    "])\n",
    "\n",
    "\n",
    "temp = preprocess_city.fit_transform(X_train)"
   ]
  },
  {
   "cell_type": "code",
   "execution_count": 236,
   "id": "33e250bd",
   "metadata": {},
   "outputs": [
    {
     "data": {
      "text/plain": [
       "city_pipeline__is_valid_city\n",
       "1    20634\n",
       "0     1686\n",
       "Name: count, dtype: int64"
      ]
     },
     "execution_count": 236,
     "metadata": {},
     "output_type": "execute_result"
    }
   ],
   "source": [
    "temp_df = pd.DataFrame(temp, columns=preprocess_city.get_feature_names_out())\n",
    "temp_df[\"city_pipeline__is_valid_city\"].value_counts()\n"
   ]
  },
  {
   "cell_type": "code",
   "execution_count": 237,
   "id": "c7da134a",
   "metadata": {},
   "outputs": [
    {
     "data": {
      "text/plain": [
       "8.170979936027916"
      ]
     },
     "execution_count": 237,
     "metadata": {},
     "output_type": "execute_result"
    }
   ],
   "source": [
    "(temp_df.loc[temp_df[\"city_pipeline__is_valid_city\"] == 0].shape[0]/temp_df.loc[temp_df[\"city_pipeline__is_valid_city\"] == 1].shape[0])*100"
   ]
  },
  {
   "cell_type": "markdown",
   "id": "046ec9e9",
   "metadata": {},
   "source": [
    "* So we still have 8% of data with invalid cities. For now we've decided to keep it as it is and experiment with ML models to see how this affects the training.\n",
    "* For invalid cities we have a flag indicating whether the cities are valid or invalid, and we have lat/long defaulting to Nagpur. \n",
    "* Next step would be to explore non-categorical data."
   ]
  },
  {
   "cell_type": "markdown",
   "id": "ea6ad0d4",
   "metadata": {},
   "source": [
    "## Preprocessing Numerical Data"
   ]
  },
  {
   "cell_type": "markdown",
   "id": "671989de",
   "metadata": {},
   "source": [
    "* In this section lets explore numerical data and create a list of preprocessing required."
   ]
  },
  {
   "cell_type": "code",
   "execution_count": 238,
   "id": "0fac969f",
   "metadata": {},
   "outputs": [
    {
     "data": {
      "application/vnd.microsoft.datawrangler.viewer.v0+json": {
       "columns": [
        {
         "name": "index",
         "rawType": "int64",
         "type": "integer"
        },
        {
         "name": "gender",
         "rawType": "object",
         "type": "string"
        },
        {
         "name": "age",
         "rawType": "float64",
         "type": "float"
        },
        {
         "name": "city",
         "rawType": "object",
         "type": "string"
        },
        {
         "name": "profession",
         "rawType": "object",
         "type": "string"
        },
        {
         "name": "academic_pressure",
         "rawType": "float64",
         "type": "float"
        },
        {
         "name": "work_pressure",
         "rawType": "float64",
         "type": "float"
        },
        {
         "name": "cgpa",
         "rawType": "float64",
         "type": "float"
        },
        {
         "name": "study_satisfaction",
         "rawType": "float64",
         "type": "float"
        },
        {
         "name": "job_satisfaction",
         "rawType": "float64",
         "type": "float"
        },
        {
         "name": "sleep_duration",
         "rawType": "object",
         "type": "string"
        },
        {
         "name": "dietary_habits",
         "rawType": "object",
         "type": "string"
        },
        {
         "name": "degree",
         "rawType": "object",
         "type": "string"
        },
        {
         "name": "suicidal_thoughts",
         "rawType": "object",
         "type": "string"
        },
        {
         "name": "work_study_hours",
         "rawType": "float64",
         "type": "float"
        },
        {
         "name": "financial_stress",
         "rawType": "float64",
         "type": "float"
        },
        {
         "name": "family_history",
         "rawType": "object",
         "type": "string"
        }
       ],
       "conversionMethod": "pd.DataFrame",
       "ref": "f698675f-b126-4648-abc2-71f604afa679",
       "rows": [
        [
         "0",
         "Male",
         "18.0",
         "Jaipur",
         "Student",
         "4.0",
         "0.0",
         "6.02",
         "1.0",
         "0.0",
         "'7-8 hours'",
         "Moderate",
         "'Class 12'",
         "Yes",
         "3.0",
         "5.0",
         "No"
        ],
        [
         "1",
         "Male",
         "25.0",
         "Vadodara",
         "Student",
         "3.0",
         "0.0",
         "6.37",
         "2.0",
         "0.0",
         "'7-8 hours'",
         "Moderate",
         "B.Arch",
         "No",
         "9.0",
         "1.0",
         "Yes"
        ],
        [
         "2",
         "Male",
         "30.0",
         "Ahmedabad",
         "Student",
         "3.0",
         "0.0",
         "9.24",
         "2.0",
         "0.0",
         "'7-8 hours'",
         "Unhealthy",
         "M.Ed",
         "Yes",
         "5.0",
         "5.0",
         "Yes"
        ],
        [
         "3",
         "Male",
         "34.0",
         "Bhopal",
         "Student",
         "3.0",
         "0.0",
         "7.37",
         "5.0",
         "0.0",
         "'7-8 hours'",
         "Moderate",
         "B.Com",
         "Yes",
         "12.0",
         "3.0",
         "No"
        ],
        [
         "4",
         "Male",
         "25.0",
         "Patna",
         "Student",
         "3.0",
         "0.0",
         "7.47",
         "4.0",
         "0.0",
         "'5-6 hours'",
         "Unhealthy",
         "B.Com",
         "No",
         "11.0",
         "5.0",
         "No"
        ]
       ],
       "shape": {
        "columns": 16,
        "rows": 5
       }
      },
      "text/html": [
       "<div>\n",
       "<style scoped>\n",
       "    .dataframe tbody tr th:only-of-type {\n",
       "        vertical-align: middle;\n",
       "    }\n",
       "\n",
       "    .dataframe tbody tr th {\n",
       "        vertical-align: top;\n",
       "    }\n",
       "\n",
       "    .dataframe thead th {\n",
       "        text-align: right;\n",
       "    }\n",
       "</style>\n",
       "<table border=\"1\" class=\"dataframe\">\n",
       "  <thead>\n",
       "    <tr style=\"text-align: right;\">\n",
       "      <th></th>\n",
       "      <th>gender</th>\n",
       "      <th>age</th>\n",
       "      <th>city</th>\n",
       "      <th>profession</th>\n",
       "      <th>academic_pressure</th>\n",
       "      <th>work_pressure</th>\n",
       "      <th>cgpa</th>\n",
       "      <th>study_satisfaction</th>\n",
       "      <th>job_satisfaction</th>\n",
       "      <th>sleep_duration</th>\n",
       "      <th>dietary_habits</th>\n",
       "      <th>degree</th>\n",
       "      <th>suicidal_thoughts</th>\n",
       "      <th>work_study_hours</th>\n",
       "      <th>financial_stress</th>\n",
       "      <th>family_history</th>\n",
       "    </tr>\n",
       "  </thead>\n",
       "  <tbody>\n",
       "    <tr>\n",
       "      <th>0</th>\n",
       "      <td>Male</td>\n",
       "      <td>18.0</td>\n",
       "      <td>Jaipur</td>\n",
       "      <td>Student</td>\n",
       "      <td>4.0</td>\n",
       "      <td>0.0</td>\n",
       "      <td>6.02</td>\n",
       "      <td>1.0</td>\n",
       "      <td>0.0</td>\n",
       "      <td>'7-8 hours'</td>\n",
       "      <td>Moderate</td>\n",
       "      <td>'Class 12'</td>\n",
       "      <td>Yes</td>\n",
       "      <td>3.0</td>\n",
       "      <td>5.0</td>\n",
       "      <td>No</td>\n",
       "    </tr>\n",
       "    <tr>\n",
       "      <th>1</th>\n",
       "      <td>Male</td>\n",
       "      <td>25.0</td>\n",
       "      <td>Vadodara</td>\n",
       "      <td>Student</td>\n",
       "      <td>3.0</td>\n",
       "      <td>0.0</td>\n",
       "      <td>6.37</td>\n",
       "      <td>2.0</td>\n",
       "      <td>0.0</td>\n",
       "      <td>'7-8 hours'</td>\n",
       "      <td>Moderate</td>\n",
       "      <td>B.Arch</td>\n",
       "      <td>No</td>\n",
       "      <td>9.0</td>\n",
       "      <td>1.0</td>\n",
       "      <td>Yes</td>\n",
       "    </tr>\n",
       "    <tr>\n",
       "      <th>2</th>\n",
       "      <td>Male</td>\n",
       "      <td>30.0</td>\n",
       "      <td>Ahmedabad</td>\n",
       "      <td>Student</td>\n",
       "      <td>3.0</td>\n",
       "      <td>0.0</td>\n",
       "      <td>9.24</td>\n",
       "      <td>2.0</td>\n",
       "      <td>0.0</td>\n",
       "      <td>'7-8 hours'</td>\n",
       "      <td>Unhealthy</td>\n",
       "      <td>M.Ed</td>\n",
       "      <td>Yes</td>\n",
       "      <td>5.0</td>\n",
       "      <td>5.0</td>\n",
       "      <td>Yes</td>\n",
       "    </tr>\n",
       "    <tr>\n",
       "      <th>3</th>\n",
       "      <td>Male</td>\n",
       "      <td>34.0</td>\n",
       "      <td>Bhopal</td>\n",
       "      <td>Student</td>\n",
       "      <td>3.0</td>\n",
       "      <td>0.0</td>\n",
       "      <td>7.37</td>\n",
       "      <td>5.0</td>\n",
       "      <td>0.0</td>\n",
       "      <td>'7-8 hours'</td>\n",
       "      <td>Moderate</td>\n",
       "      <td>B.Com</td>\n",
       "      <td>Yes</td>\n",
       "      <td>12.0</td>\n",
       "      <td>3.0</td>\n",
       "      <td>No</td>\n",
       "    </tr>\n",
       "    <tr>\n",
       "      <th>4</th>\n",
       "      <td>Male</td>\n",
       "      <td>25.0</td>\n",
       "      <td>Patna</td>\n",
       "      <td>Student</td>\n",
       "      <td>3.0</td>\n",
       "      <td>0.0</td>\n",
       "      <td>7.47</td>\n",
       "      <td>4.0</td>\n",
       "      <td>0.0</td>\n",
       "      <td>'5-6 hours'</td>\n",
       "      <td>Unhealthy</td>\n",
       "      <td>B.Com</td>\n",
       "      <td>No</td>\n",
       "      <td>11.0</td>\n",
       "      <td>5.0</td>\n",
       "      <td>No</td>\n",
       "    </tr>\n",
       "  </tbody>\n",
       "</table>\n",
       "</div>"
      ],
      "text/plain": [
       "  gender   age       city profession  academic_pressure  work_pressure  cgpa  \\\n",
       "0   Male  18.0     Jaipur    Student                4.0            0.0  6.02   \n",
       "1   Male  25.0   Vadodara    Student                3.0            0.0  6.37   \n",
       "2   Male  30.0  Ahmedabad    Student                3.0            0.0  9.24   \n",
       "3   Male  34.0     Bhopal    Student                3.0            0.0  7.37   \n",
       "4   Male  25.0      Patna    Student                3.0            0.0  7.47   \n",
       "\n",
       "   study_satisfaction  job_satisfaction sleep_duration dietary_habits  \\\n",
       "0                 1.0               0.0    '7-8 hours'       Moderate   \n",
       "1                 2.0               0.0    '7-8 hours'       Moderate   \n",
       "2                 2.0               0.0    '7-8 hours'      Unhealthy   \n",
       "3                 5.0               0.0    '7-8 hours'       Moderate   \n",
       "4                 4.0               0.0    '5-6 hours'      Unhealthy   \n",
       "\n",
       "       degree suicidal_thoughts  work_study_hours  financial_stress  \\\n",
       "0  'Class 12'               Yes               3.0               5.0   \n",
       "1      B.Arch                No               9.0               1.0   \n",
       "2        M.Ed               Yes               5.0               5.0   \n",
       "3       B.Com               Yes              12.0               3.0   \n",
       "4       B.Com                No              11.0               5.0   \n",
       "\n",
       "  family_history  \n",
       "0             No  \n",
       "1            Yes  \n",
       "2            Yes  \n",
       "3             No  \n",
       "4             No  "
      ]
     },
     "execution_count": 238,
     "metadata": {},
     "output_type": "execute_result"
    }
   ],
   "source": [
    "X_train.head()"
   ]
  },
  {
   "cell_type": "code",
   "execution_count": 239,
   "id": "b8789d84",
   "metadata": {},
   "outputs": [
    {
     "data": {
      "application/vnd.microsoft.datawrangler.viewer.v0+json": {
       "columns": [
        {
         "name": "index",
         "rawType": "int64",
         "type": "integer"
        },
        {
         "name": "age",
         "rawType": "float64",
         "type": "float"
        },
        {
         "name": "academic_pressure",
         "rawType": "float64",
         "type": "float"
        },
        {
         "name": "work_pressure",
         "rawType": "float64",
         "type": "float"
        },
        {
         "name": "cgpa",
         "rawType": "float64",
         "type": "float"
        },
        {
         "name": "study_satisfaction",
         "rawType": "float64",
         "type": "float"
        },
        {
         "name": "job_satisfaction",
         "rawType": "float64",
         "type": "float"
        },
        {
         "name": "work_study_hours",
         "rawType": "float64",
         "type": "float"
        },
        {
         "name": "financial_stress",
         "rawType": "float64",
         "type": "float"
        }
       ],
       "conversionMethod": "pd.DataFrame",
       "ref": "da7829ae-f0de-4d2d-9062-3113fb87ed78",
       "rows": [
        [
         "0",
         "18.0",
         "4.0",
         "0.0",
         "6.02",
         "1.0",
         "0.0",
         "3.0",
         "5.0"
        ],
        [
         "1",
         "25.0",
         "3.0",
         "0.0",
         "6.37",
         "2.0",
         "0.0",
         "9.0",
         "1.0"
        ],
        [
         "2",
         "30.0",
         "3.0",
         "0.0",
         "9.24",
         "2.0",
         "0.0",
         "5.0",
         "5.0"
        ],
        [
         "3",
         "34.0",
         "3.0",
         "0.0",
         "7.37",
         "5.0",
         "0.0",
         "12.0",
         "3.0"
        ],
        [
         "4",
         "25.0",
         "3.0",
         "0.0",
         "7.47",
         "4.0",
         "0.0",
         "11.0",
         "5.0"
        ],
        [
         "5",
         "29.0",
         "1.0",
         "0.0",
         "9.93",
         "5.0",
         "0.0",
         "6.0",
         "2.0"
        ],
        [
         "6",
         "31.0",
         "3.0",
         "0.0",
         "5.24",
         "2.0",
         "0.0",
         "12.0",
         "4.0"
        ],
        [
         "7",
         "24.0",
         "4.0",
         "0.0",
         "8.39",
         "2.0",
         "0.0",
         "12.0",
         "2.0"
        ],
        [
         "8",
         "32.0",
         "3.0",
         "0.0",
         "9.41",
         "1.0",
         "0.0",
         "9.0",
         "4.0"
        ],
        [
         "9",
         "26.0",
         "1.0",
         "0.0",
         "7.09",
         "1.0",
         "0.0",
         "11.0",
         "1.0"
        ],
        [
         "10",
         "29.0",
         "1.0",
         "0.0",
         "5.71",
         "1.0",
         "0.0",
         "4.0",
         "3.0"
        ],
        [
         "11",
         "21.0",
         "5.0",
         "0.0",
         "7.72",
         "2.0",
         "0.0",
         "11.0",
         "4.0"
        ],
        [
         "12",
         "25.0",
         "3.0",
         "0.0",
         "7.13",
         "4.0",
         "0.0",
         "1.0",
         "2.0"
        ],
        [
         "13",
         "24.0",
         "3.0",
         "0.0",
         "5.66",
         "5.0",
         "0.0",
         "10.0",
         "4.0"
        ],
        [
         "14",
         "20.0",
         "1.0",
         "0.0",
         "6.69",
         "2.0",
         "0.0",
         "3.0",
         "2.0"
        ],
        [
         "15",
         "20.0",
         "2.0",
         "0.0",
         "9.93",
         "3.0",
         "0.0",
         "3.0",
         "4.0"
        ],
        [
         "16",
         "33.0",
         "3.0",
         "0.0",
         "5.48",
         "3.0",
         "0.0",
         "0.0",
         "2.0"
        ],
        [
         "17",
         "22.0",
         "1.0",
         "0.0",
         "9.41",
         "4.0",
         "0.0",
         "1.0",
         "5.0"
        ],
        [
         "18",
         "20.0",
         "3.0",
         "0.0",
         "9.88",
         "3.0",
         "0.0",
         "10.0",
         "4.0"
        ],
        [
         "19",
         "31.0",
         "3.0",
         "0.0",
         "9.42",
         "2.0",
         "0.0",
         "10.0",
         "3.0"
        ],
        [
         "20",
         "19.0",
         "1.0",
         "0.0",
         "7.09",
         "2.0",
         "0.0",
         "1.0",
         "1.0"
        ],
        [
         "21",
         "29.0",
         "5.0",
         "0.0",
         "8.62",
         "1.0",
         "0.0",
         "12.0",
         "5.0"
        ],
        [
         "22",
         "23.0",
         "2.0",
         "0.0",
         "5.74",
         "5.0",
         "0.0",
         "6.0",
         "1.0"
        ],
        [
         "23",
         "29.0",
         "2.0",
         "0.0",
         "7.53",
         "5.0",
         "0.0",
         "0.0",
         "1.0"
        ],
        [
         "24",
         "29.0",
         "5.0",
         "0.0",
         "7.94",
         "1.0",
         "0.0",
         "4.0",
         "3.0"
        ],
        [
         "25",
         "20.0",
         "2.0",
         "0.0",
         "9.17",
         "3.0",
         "0.0",
         "7.0",
         "5.0"
        ],
        [
         "26",
         "33.0",
         "3.0",
         "0.0",
         "5.88",
         "3.0",
         "0.0",
         "11.0",
         "1.0"
        ],
        [
         "27",
         "29.0",
         "5.0",
         "0.0",
         "9.6",
         "2.0",
         "0.0",
         "12.0",
         "3.0"
        ],
        [
         "28",
         "25.0",
         "2.0",
         "0.0",
         "6.05",
         "4.0",
         "0.0",
         "1.0",
         "2.0"
        ],
        [
         "29",
         "32.0",
         "3.0",
         "0.0",
         "5.16",
         "1.0",
         "0.0",
         "0.0",
         "4.0"
        ],
        [
         "30",
         "28.0",
         "5.0",
         "0.0",
         "9.96",
         "2.0",
         "0.0",
         "10.0",
         "5.0"
        ],
        [
         "31",
         "24.0",
         "1.0",
         "0.0",
         "9.93",
         "5.0",
         "0.0",
         "7.0",
         "3.0"
        ],
        [
         "32",
         "19.0",
         "2.0",
         "0.0",
         "8.5",
         "5.0",
         "0.0",
         "6.0",
         "2.0"
        ],
        [
         "33",
         "31.0",
         "5.0",
         "0.0",
         "8.61",
         "3.0",
         "0.0",
         "1.0",
         "4.0"
        ],
        [
         "34",
         "31.0",
         "1.0",
         "0.0",
         "7.52",
         "5.0",
         "0.0",
         "5.0",
         "1.0"
        ],
        [
         "35",
         "27.0",
         "1.0",
         "0.0",
         "9.24",
         "4.0",
         "0.0",
         "7.0",
         "2.0"
        ],
        [
         "36",
         "26.0",
         "3.0",
         "0.0",
         "8.5",
         "4.0",
         "0.0",
         "10.0",
         "5.0"
        ],
        [
         "37",
         "26.0",
         "4.0",
         "0.0",
         "6.75",
         "2.0",
         "0.0",
         "6.0",
         "3.0"
        ],
        [
         "38",
         "25.0",
         "3.0",
         "0.0",
         "9.94",
         "3.0",
         "0.0",
         "12.0",
         "4.0"
        ],
        [
         "39",
         "20.0",
         "4.0",
         "0.0",
         "5.08",
         "2.0",
         "0.0",
         "10.0",
         "2.0"
        ],
        [
         "40",
         "24.0",
         "3.0",
         "0.0",
         "9.19",
         "3.0",
         "0.0",
         "10.0",
         "4.0"
        ],
        [
         "41",
         "23.0",
         "5.0",
         "0.0",
         "5.59",
         "5.0",
         "0.0",
         "9.0",
         "4.0"
        ],
        [
         "42",
         "29.0",
         "2.0",
         "0.0",
         "8.14",
         "1.0",
         "0.0",
         "10.0",
         "1.0"
        ],
        [
         "43",
         "25.0",
         "3.0",
         "0.0",
         "6.21",
         "3.0",
         "0.0",
         "6.0",
         "3.0"
        ],
        [
         "44",
         "24.0",
         "4.0",
         "0.0",
         "5.16",
         "2.0",
         "0.0",
         "0.0",
         "1.0"
        ],
        [
         "45",
         "23.0",
         "4.0",
         "0.0",
         "10.0",
         "4.0",
         "0.0",
         "1.0",
         "5.0"
        ],
        [
         "46",
         "33.0",
         "3.0",
         "0.0",
         "9.41",
         "2.0",
         "0.0",
         "10.0",
         "4.0"
        ],
        [
         "47",
         "34.0",
         "3.0",
         "0.0",
         "9.96",
         "3.0",
         "0.0",
         "6.0",
         "4.0"
        ],
        [
         "48",
         "22.0",
         "3.0",
         "0.0",
         "9.5",
         "4.0",
         "0.0",
         "9.0",
         "3.0"
        ],
        [
         "49",
         "21.0",
         "5.0",
         "0.0",
         "7.09",
         "4.0",
         "0.0",
         "8.0",
         "3.0"
        ]
       ],
       "shape": {
        "columns": 8,
        "rows": 22320
       }
      },
      "text/html": [
       "<div>\n",
       "<style scoped>\n",
       "    .dataframe tbody tr th:only-of-type {\n",
       "        vertical-align: middle;\n",
       "    }\n",
       "\n",
       "    .dataframe tbody tr th {\n",
       "        vertical-align: top;\n",
       "    }\n",
       "\n",
       "    .dataframe thead th {\n",
       "        text-align: right;\n",
       "    }\n",
       "</style>\n",
       "<table border=\"1\" class=\"dataframe\">\n",
       "  <thead>\n",
       "    <tr style=\"text-align: right;\">\n",
       "      <th></th>\n",
       "      <th>age</th>\n",
       "      <th>academic_pressure</th>\n",
       "      <th>work_pressure</th>\n",
       "      <th>cgpa</th>\n",
       "      <th>study_satisfaction</th>\n",
       "      <th>job_satisfaction</th>\n",
       "      <th>work_study_hours</th>\n",
       "      <th>financial_stress</th>\n",
       "    </tr>\n",
       "  </thead>\n",
       "  <tbody>\n",
       "    <tr>\n",
       "      <th>0</th>\n",
       "      <td>18.0</td>\n",
       "      <td>4.0</td>\n",
       "      <td>0.0</td>\n",
       "      <td>6.02</td>\n",
       "      <td>1.0</td>\n",
       "      <td>0.0</td>\n",
       "      <td>3.0</td>\n",
       "      <td>5.0</td>\n",
       "    </tr>\n",
       "    <tr>\n",
       "      <th>1</th>\n",
       "      <td>25.0</td>\n",
       "      <td>3.0</td>\n",
       "      <td>0.0</td>\n",
       "      <td>6.37</td>\n",
       "      <td>2.0</td>\n",
       "      <td>0.0</td>\n",
       "      <td>9.0</td>\n",
       "      <td>1.0</td>\n",
       "    </tr>\n",
       "    <tr>\n",
       "      <th>2</th>\n",
       "      <td>30.0</td>\n",
       "      <td>3.0</td>\n",
       "      <td>0.0</td>\n",
       "      <td>9.24</td>\n",
       "      <td>2.0</td>\n",
       "      <td>0.0</td>\n",
       "      <td>5.0</td>\n",
       "      <td>5.0</td>\n",
       "    </tr>\n",
       "    <tr>\n",
       "      <th>3</th>\n",
       "      <td>34.0</td>\n",
       "      <td>3.0</td>\n",
       "      <td>0.0</td>\n",
       "      <td>7.37</td>\n",
       "      <td>5.0</td>\n",
       "      <td>0.0</td>\n",
       "      <td>12.0</td>\n",
       "      <td>3.0</td>\n",
       "    </tr>\n",
       "    <tr>\n",
       "      <th>4</th>\n",
       "      <td>25.0</td>\n",
       "      <td>3.0</td>\n",
       "      <td>0.0</td>\n",
       "      <td>7.47</td>\n",
       "      <td>4.0</td>\n",
       "      <td>0.0</td>\n",
       "      <td>11.0</td>\n",
       "      <td>5.0</td>\n",
       "    </tr>\n",
       "    <tr>\n",
       "      <th>...</th>\n",
       "      <td>...</td>\n",
       "      <td>...</td>\n",
       "      <td>...</td>\n",
       "      <td>...</td>\n",
       "      <td>...</td>\n",
       "      <td>...</td>\n",
       "      <td>...</td>\n",
       "      <td>...</td>\n",
       "    </tr>\n",
       "    <tr>\n",
       "      <th>22315</th>\n",
       "      <td>27.0</td>\n",
       "      <td>5.0</td>\n",
       "      <td>0.0</td>\n",
       "      <td>9.74</td>\n",
       "      <td>3.0</td>\n",
       "      <td>0.0</td>\n",
       "      <td>5.0</td>\n",
       "      <td>4.0</td>\n",
       "    </tr>\n",
       "    <tr>\n",
       "      <th>22316</th>\n",
       "      <td>34.0</td>\n",
       "      <td>5.0</td>\n",
       "      <td>0.0</td>\n",
       "      <td>6.39</td>\n",
       "      <td>3.0</td>\n",
       "      <td>0.0</td>\n",
       "      <td>8.0</td>\n",
       "      <td>3.0</td>\n",
       "    </tr>\n",
       "    <tr>\n",
       "      <th>22317</th>\n",
       "      <td>33.0</td>\n",
       "      <td>3.0</td>\n",
       "      <td>0.0</td>\n",
       "      <td>5.24</td>\n",
       "      <td>1.0</td>\n",
       "      <td>0.0</td>\n",
       "      <td>8.0</td>\n",
       "      <td>4.0</td>\n",
       "    </tr>\n",
       "    <tr>\n",
       "      <th>22318</th>\n",
       "      <td>29.0</td>\n",
       "      <td>4.0</td>\n",
       "      <td>0.0</td>\n",
       "      <td>7.15</td>\n",
       "      <td>2.0</td>\n",
       "      <td>0.0</td>\n",
       "      <td>1.0</td>\n",
       "      <td>3.0</td>\n",
       "    </tr>\n",
       "    <tr>\n",
       "      <th>22319</th>\n",
       "      <td>29.0</td>\n",
       "      <td>4.0</td>\n",
       "      <td>0.0</td>\n",
       "      <td>9.44</td>\n",
       "      <td>5.0</td>\n",
       "      <td>0.0</td>\n",
       "      <td>10.0</td>\n",
       "      <td>4.0</td>\n",
       "    </tr>\n",
       "  </tbody>\n",
       "</table>\n",
       "<p>22320 rows × 8 columns</p>\n",
       "</div>"
      ],
      "text/plain": [
       "        age  academic_pressure  work_pressure  cgpa  study_satisfaction  \\\n",
       "0      18.0                4.0            0.0  6.02                 1.0   \n",
       "1      25.0                3.0            0.0  6.37                 2.0   \n",
       "2      30.0                3.0            0.0  9.24                 2.0   \n",
       "3      34.0                3.0            0.0  7.37                 5.0   \n",
       "4      25.0                3.0            0.0  7.47                 4.0   \n",
       "...     ...                ...            ...   ...                 ...   \n",
       "22315  27.0                5.0            0.0  9.74                 3.0   \n",
       "22316  34.0                5.0            0.0  6.39                 3.0   \n",
       "22317  33.0                3.0            0.0  5.24                 1.0   \n",
       "22318  29.0                4.0            0.0  7.15                 2.0   \n",
       "22319  29.0                4.0            0.0  9.44                 5.0   \n",
       "\n",
       "       job_satisfaction  work_study_hours  financial_stress  \n",
       "0                   0.0               3.0               5.0  \n",
       "1                   0.0               9.0               1.0  \n",
       "2                   0.0               5.0               5.0  \n",
       "3                   0.0              12.0               3.0  \n",
       "4                   0.0              11.0               5.0  \n",
       "...                 ...               ...               ...  \n",
       "22315               0.0               5.0               4.0  \n",
       "22316               0.0               8.0               3.0  \n",
       "22317               0.0               8.0               4.0  \n",
       "22318               0.0               1.0               3.0  \n",
       "22319               0.0              10.0               4.0  \n",
       "\n",
       "[22320 rows x 8 columns]"
      ]
     },
     "execution_count": 239,
     "metadata": {},
     "output_type": "execute_result"
    }
   ],
   "source": [
    "X_train.select_dtypes(include=[\"float64\"])"
   ]
  },
  {
   "cell_type": "code",
   "execution_count": 240,
   "id": "875baa33",
   "metadata": {},
   "outputs": [
    {
     "data": {
      "application/vnd.microsoft.datawrangler.viewer.v0+json": {
       "columns": [
        {
         "name": "index",
         "rawType": "int64",
         "type": "integer"
        },
        {
         "name": "age",
         "rawType": "float64",
         "type": "float"
        },
        {
         "name": "academic_pressure",
         "rawType": "float64",
         "type": "float"
        },
        {
         "name": "work_pressure",
         "rawType": "float64",
         "type": "float"
        },
        {
         "name": "cgpa",
         "rawType": "float64",
         "type": "float"
        },
        {
         "name": "study_satisfaction",
         "rawType": "float64",
         "type": "float"
        },
        {
         "name": "job_satisfaction",
         "rawType": "float64",
         "type": "float"
        },
        {
         "name": "work_study_hours",
         "rawType": "float64",
         "type": "float"
        },
        {
         "name": "financial_stress",
         "rawType": "float64",
         "type": "float"
        }
       ],
       "conversionMethod": "pd.DataFrame",
       "ref": "3f6ebf6a-9614-4170-a2d4-1269cdd0e4e1",
       "rows": [
        [
         "0",
         "18.0",
         "4.0",
         "0.0",
         "6.02",
         "1.0",
         "0.0",
         "3.0",
         "5.0"
        ],
        [
         "1",
         "25.0",
         "3.0",
         "0.0",
         "6.37",
         "2.0",
         "0.0",
         "9.0",
         "1.0"
        ],
        [
         "2",
         "30.0",
         "3.0",
         "0.0",
         "9.24",
         "2.0",
         "0.0",
         "5.0",
         "5.0"
        ],
        [
         "3",
         "34.0",
         "3.0",
         "0.0",
         "7.37",
         "5.0",
         "0.0",
         "12.0",
         "3.0"
        ],
        [
         "4",
         "25.0",
         "3.0",
         "0.0",
         "7.47",
         "4.0",
         "0.0",
         "11.0",
         "5.0"
        ],
        [
         "5",
         "29.0",
         "1.0",
         "0.0",
         "9.93",
         "5.0",
         "0.0",
         "6.0",
         "2.0"
        ],
        [
         "6",
         "31.0",
         "3.0",
         "0.0",
         "5.24",
         "2.0",
         "0.0",
         "12.0",
         "4.0"
        ],
        [
         "7",
         "24.0",
         "4.0",
         "0.0",
         "8.39",
         "2.0",
         "0.0",
         "12.0",
         "2.0"
        ],
        [
         "8",
         "32.0",
         "3.0",
         "0.0",
         "9.41",
         "1.0",
         "0.0",
         "9.0",
         "4.0"
        ],
        [
         "9",
         "26.0",
         "1.0",
         "0.0",
         "7.09",
         "1.0",
         "0.0",
         "11.0",
         "1.0"
        ],
        [
         "10",
         "29.0",
         "1.0",
         "0.0",
         "5.71",
         "1.0",
         "0.0",
         "4.0",
         "3.0"
        ],
        [
         "11",
         "21.0",
         "5.0",
         "0.0",
         "7.72",
         "2.0",
         "0.0",
         "11.0",
         "4.0"
        ],
        [
         "12",
         "25.0",
         "3.0",
         "0.0",
         "7.13",
         "4.0",
         "0.0",
         "1.0",
         "2.0"
        ],
        [
         "13",
         "24.0",
         "3.0",
         "0.0",
         "5.66",
         "5.0",
         "0.0",
         "10.0",
         "4.0"
        ],
        [
         "14",
         "20.0",
         "1.0",
         "0.0",
         "6.69",
         "2.0",
         "0.0",
         "3.0",
         "2.0"
        ],
        [
         "15",
         "20.0",
         "2.0",
         "0.0",
         "9.93",
         "3.0",
         "0.0",
         "3.0",
         "4.0"
        ],
        [
         "16",
         "33.0",
         "3.0",
         "0.0",
         "5.48",
         "3.0",
         "0.0",
         "0.0",
         "2.0"
        ],
        [
         "17",
         "22.0",
         "1.0",
         "0.0",
         "9.41",
         "4.0",
         "0.0",
         "1.0",
         "5.0"
        ],
        [
         "18",
         "20.0",
         "3.0",
         "0.0",
         "9.88",
         "3.0",
         "0.0",
         "10.0",
         "4.0"
        ],
        [
         "19",
         "31.0",
         "3.0",
         "0.0",
         "9.42",
         "2.0",
         "0.0",
         "10.0",
         "3.0"
        ],
        [
         "20",
         "19.0",
         "1.0",
         "0.0",
         "7.09",
         "2.0",
         "0.0",
         "1.0",
         "1.0"
        ],
        [
         "21",
         "29.0",
         "5.0",
         "0.0",
         "8.62",
         "1.0",
         "0.0",
         "12.0",
         "5.0"
        ],
        [
         "22",
         "23.0",
         "2.0",
         "0.0",
         "5.74",
         "5.0",
         "0.0",
         "6.0",
         "1.0"
        ],
        [
         "23",
         "29.0",
         "2.0",
         "0.0",
         "7.53",
         "5.0",
         "0.0",
         "0.0",
         "1.0"
        ],
        [
         "24",
         "29.0",
         "5.0",
         "0.0",
         "7.94",
         "1.0",
         "0.0",
         "4.0",
         "3.0"
        ],
        [
         "25",
         "20.0",
         "2.0",
         "0.0",
         "9.17",
         "3.0",
         "0.0",
         "7.0",
         "5.0"
        ],
        [
         "26",
         "33.0",
         "3.0",
         "0.0",
         "5.88",
         "3.0",
         "0.0",
         "11.0",
         "1.0"
        ],
        [
         "27",
         "29.0",
         "5.0",
         "0.0",
         "9.6",
         "2.0",
         "0.0",
         "12.0",
         "3.0"
        ],
        [
         "28",
         "25.0",
         "2.0",
         "0.0",
         "6.05",
         "4.0",
         "0.0",
         "1.0",
         "2.0"
        ],
        [
         "29",
         "32.0",
         "3.0",
         "0.0",
         "5.16",
         "1.0",
         "0.0",
         "0.0",
         "4.0"
        ],
        [
         "30",
         "28.0",
         "5.0",
         "0.0",
         "9.96",
         "2.0",
         "0.0",
         "10.0",
         "5.0"
        ],
        [
         "31",
         "24.0",
         "1.0",
         "0.0",
         "9.93",
         "5.0",
         "0.0",
         "7.0",
         "3.0"
        ],
        [
         "32",
         "19.0",
         "2.0",
         "0.0",
         "8.5",
         "5.0",
         "0.0",
         "6.0",
         "2.0"
        ],
        [
         "33",
         "31.0",
         "5.0",
         "0.0",
         "8.61",
         "3.0",
         "0.0",
         "1.0",
         "4.0"
        ],
        [
         "34",
         "31.0",
         "1.0",
         "0.0",
         "7.52",
         "5.0",
         "0.0",
         "5.0",
         "1.0"
        ],
        [
         "35",
         "27.0",
         "1.0",
         "0.0",
         "9.24",
         "4.0",
         "0.0",
         "7.0",
         "2.0"
        ],
        [
         "36",
         "26.0",
         "3.0",
         "0.0",
         "8.5",
         "4.0",
         "0.0",
         "10.0",
         "5.0"
        ],
        [
         "37",
         "26.0",
         "4.0",
         "0.0",
         "6.75",
         "2.0",
         "0.0",
         "6.0",
         "3.0"
        ],
        [
         "38",
         "25.0",
         "3.0",
         "0.0",
         "9.94",
         "3.0",
         "0.0",
         "12.0",
         "4.0"
        ],
        [
         "39",
         "20.0",
         "4.0",
         "0.0",
         "5.08",
         "2.0",
         "0.0",
         "10.0",
         "2.0"
        ],
        [
         "40",
         "24.0",
         "3.0",
         "0.0",
         "9.19",
         "3.0",
         "0.0",
         "10.0",
         "4.0"
        ],
        [
         "41",
         "23.0",
         "5.0",
         "0.0",
         "5.59",
         "5.0",
         "0.0",
         "9.0",
         "4.0"
        ],
        [
         "42",
         "29.0",
         "2.0",
         "0.0",
         "8.14",
         "1.0",
         "0.0",
         "10.0",
         "1.0"
        ],
        [
         "43",
         "25.0",
         "3.0",
         "0.0",
         "6.21",
         "3.0",
         "0.0",
         "6.0",
         "3.0"
        ],
        [
         "44",
         "24.0",
         "4.0",
         "0.0",
         "5.16",
         "2.0",
         "0.0",
         "0.0",
         "1.0"
        ],
        [
         "45",
         "23.0",
         "4.0",
         "0.0",
         "10.0",
         "4.0",
         "0.0",
         "1.0",
         "5.0"
        ],
        [
         "46",
         "33.0",
         "3.0",
         "0.0",
         "9.41",
         "2.0",
         "0.0",
         "10.0",
         "4.0"
        ],
        [
         "47",
         "34.0",
         "3.0",
         "0.0",
         "9.96",
         "3.0",
         "0.0",
         "6.0",
         "4.0"
        ],
        [
         "48",
         "22.0",
         "3.0",
         "0.0",
         "9.5",
         "4.0",
         "0.0",
         "9.0",
         "3.0"
        ],
        [
         "49",
         "21.0",
         "5.0",
         "0.0",
         "7.09",
         "4.0",
         "0.0",
         "8.0",
         "3.0"
        ]
       ],
       "shape": {
        "columns": 8,
        "rows": 22320
       }
      },
      "text/html": [
       "<div>\n",
       "<style scoped>\n",
       "    .dataframe tbody tr th:only-of-type {\n",
       "        vertical-align: middle;\n",
       "    }\n",
       "\n",
       "    .dataframe tbody tr th {\n",
       "        vertical-align: top;\n",
       "    }\n",
       "\n",
       "    .dataframe thead th {\n",
       "        text-align: right;\n",
       "    }\n",
       "</style>\n",
       "<table border=\"1\" class=\"dataframe\">\n",
       "  <thead>\n",
       "    <tr style=\"text-align: right;\">\n",
       "      <th></th>\n",
       "      <th>age</th>\n",
       "      <th>academic_pressure</th>\n",
       "      <th>work_pressure</th>\n",
       "      <th>cgpa</th>\n",
       "      <th>study_satisfaction</th>\n",
       "      <th>job_satisfaction</th>\n",
       "      <th>work_study_hours</th>\n",
       "      <th>financial_stress</th>\n",
       "    </tr>\n",
       "  </thead>\n",
       "  <tbody>\n",
       "    <tr>\n",
       "      <th>0</th>\n",
       "      <td>18.0</td>\n",
       "      <td>4.0</td>\n",
       "      <td>0.0</td>\n",
       "      <td>6.02</td>\n",
       "      <td>1.0</td>\n",
       "      <td>0.0</td>\n",
       "      <td>3.0</td>\n",
       "      <td>5.0</td>\n",
       "    </tr>\n",
       "    <tr>\n",
       "      <th>1</th>\n",
       "      <td>25.0</td>\n",
       "      <td>3.0</td>\n",
       "      <td>0.0</td>\n",
       "      <td>6.37</td>\n",
       "      <td>2.0</td>\n",
       "      <td>0.0</td>\n",
       "      <td>9.0</td>\n",
       "      <td>1.0</td>\n",
       "    </tr>\n",
       "    <tr>\n",
       "      <th>2</th>\n",
       "      <td>30.0</td>\n",
       "      <td>3.0</td>\n",
       "      <td>0.0</td>\n",
       "      <td>9.24</td>\n",
       "      <td>2.0</td>\n",
       "      <td>0.0</td>\n",
       "      <td>5.0</td>\n",
       "      <td>5.0</td>\n",
       "    </tr>\n",
       "    <tr>\n",
       "      <th>3</th>\n",
       "      <td>34.0</td>\n",
       "      <td>3.0</td>\n",
       "      <td>0.0</td>\n",
       "      <td>7.37</td>\n",
       "      <td>5.0</td>\n",
       "      <td>0.0</td>\n",
       "      <td>12.0</td>\n",
       "      <td>3.0</td>\n",
       "    </tr>\n",
       "    <tr>\n",
       "      <th>4</th>\n",
       "      <td>25.0</td>\n",
       "      <td>3.0</td>\n",
       "      <td>0.0</td>\n",
       "      <td>7.47</td>\n",
       "      <td>4.0</td>\n",
       "      <td>0.0</td>\n",
       "      <td>11.0</td>\n",
       "      <td>5.0</td>\n",
       "    </tr>\n",
       "    <tr>\n",
       "      <th>...</th>\n",
       "      <td>...</td>\n",
       "      <td>...</td>\n",
       "      <td>...</td>\n",
       "      <td>...</td>\n",
       "      <td>...</td>\n",
       "      <td>...</td>\n",
       "      <td>...</td>\n",
       "      <td>...</td>\n",
       "    </tr>\n",
       "    <tr>\n",
       "      <th>22315</th>\n",
       "      <td>27.0</td>\n",
       "      <td>5.0</td>\n",
       "      <td>0.0</td>\n",
       "      <td>9.74</td>\n",
       "      <td>3.0</td>\n",
       "      <td>0.0</td>\n",
       "      <td>5.0</td>\n",
       "      <td>4.0</td>\n",
       "    </tr>\n",
       "    <tr>\n",
       "      <th>22316</th>\n",
       "      <td>34.0</td>\n",
       "      <td>5.0</td>\n",
       "      <td>0.0</td>\n",
       "      <td>6.39</td>\n",
       "      <td>3.0</td>\n",
       "      <td>0.0</td>\n",
       "      <td>8.0</td>\n",
       "      <td>3.0</td>\n",
       "    </tr>\n",
       "    <tr>\n",
       "      <th>22317</th>\n",
       "      <td>33.0</td>\n",
       "      <td>3.0</td>\n",
       "      <td>0.0</td>\n",
       "      <td>5.24</td>\n",
       "      <td>1.0</td>\n",
       "      <td>0.0</td>\n",
       "      <td>8.0</td>\n",
       "      <td>4.0</td>\n",
       "    </tr>\n",
       "    <tr>\n",
       "      <th>22318</th>\n",
       "      <td>29.0</td>\n",
       "      <td>4.0</td>\n",
       "      <td>0.0</td>\n",
       "      <td>7.15</td>\n",
       "      <td>2.0</td>\n",
       "      <td>0.0</td>\n",
       "      <td>1.0</td>\n",
       "      <td>3.0</td>\n",
       "    </tr>\n",
       "    <tr>\n",
       "      <th>22319</th>\n",
       "      <td>29.0</td>\n",
       "      <td>4.0</td>\n",
       "      <td>0.0</td>\n",
       "      <td>9.44</td>\n",
       "      <td>5.0</td>\n",
       "      <td>0.0</td>\n",
       "      <td>10.0</td>\n",
       "      <td>4.0</td>\n",
       "    </tr>\n",
       "  </tbody>\n",
       "</table>\n",
       "<p>22320 rows × 8 columns</p>\n",
       "</div>"
      ],
      "text/plain": [
       "        age  academic_pressure  work_pressure  cgpa  study_satisfaction  \\\n",
       "0      18.0                4.0            0.0  6.02                 1.0   \n",
       "1      25.0                3.0            0.0  6.37                 2.0   \n",
       "2      30.0                3.0            0.0  9.24                 2.0   \n",
       "3      34.0                3.0            0.0  7.37                 5.0   \n",
       "4      25.0                3.0            0.0  7.47                 4.0   \n",
       "...     ...                ...            ...   ...                 ...   \n",
       "22315  27.0                5.0            0.0  9.74                 3.0   \n",
       "22316  34.0                5.0            0.0  6.39                 3.0   \n",
       "22317  33.0                3.0            0.0  5.24                 1.0   \n",
       "22318  29.0                4.0            0.0  7.15                 2.0   \n",
       "22319  29.0                4.0            0.0  9.44                 5.0   \n",
       "\n",
       "       job_satisfaction  work_study_hours  financial_stress  \n",
       "0                   0.0               3.0               5.0  \n",
       "1                   0.0               9.0               1.0  \n",
       "2                   0.0               5.0               5.0  \n",
       "3                   0.0              12.0               3.0  \n",
       "4                   0.0              11.0               5.0  \n",
       "...                 ...               ...               ...  \n",
       "22315               0.0               5.0               4.0  \n",
       "22316               0.0               8.0               3.0  \n",
       "22317               0.0               8.0               4.0  \n",
       "22318               0.0               1.0               3.0  \n",
       "22319               0.0              10.0               4.0  \n",
       "\n",
       "[22320 rows x 8 columns]"
      ]
     },
     "execution_count": 240,
     "metadata": {},
     "output_type": "execute_result"
    }
   ],
   "source": [
    "numerical_data = X_train.select_dtypes(include=[\"float64\"])\n",
    "numerical_data"
   ]
  },
  {
   "cell_type": "code",
   "execution_count": 241,
   "id": "7196c7d3",
   "metadata": {},
   "outputs": [
    {
     "data": {
      "application/vnd.microsoft.datawrangler.viewer.v0+json": {
       "columns": [
        {
         "name": "index",
         "rawType": "object",
         "type": "string"
        },
        {
         "name": "age",
         "rawType": "float64",
         "type": "float"
        },
        {
         "name": "academic_pressure",
         "rawType": "float64",
         "type": "float"
        },
        {
         "name": "work_pressure",
         "rawType": "float64",
         "type": "float"
        },
        {
         "name": "cgpa",
         "rawType": "float64",
         "type": "float"
        },
        {
         "name": "study_satisfaction",
         "rawType": "float64",
         "type": "float"
        },
        {
         "name": "job_satisfaction",
         "rawType": "float64",
         "type": "float"
        },
        {
         "name": "work_study_hours",
         "rawType": "float64",
         "type": "float"
        },
        {
         "name": "financial_stress",
         "rawType": "float64",
         "type": "float"
        }
       ],
       "conversionMethod": "pd.DataFrame",
       "ref": "4e1fdc1d-9d0d-48d2-83b0-0e913b2b8b3e",
       "rows": [
        [
         "count",
         "22320.0",
         "22320.0",
         "22320.0",
         "22320.0",
         "22320.0",
         "22320.0",
         "22320.0",
         "22318.0"
        ],
        [
         "mean",
         "25.840770609318998",
         "3.144668458781362",
         "0.0003136200716845878",
         "7.66116274641577",
         "2.9416218637992833",
         "0.0006272401433691756",
         "7.161514336917563",
         "3.135137557128775"
        ],
        [
         "std",
         "4.905633529111843",
         "1.3779134040647973",
         "0.036045013613322636",
         "1.4701312789753311",
         "1.3606539756262896",
         "0.04125762709426229",
         "3.705938726659588",
         "1.4361658191369608"
        ],
        [
         "min",
         "18.0",
         "0.0",
         "0.0",
         "0.0",
         "0.0",
         "0.0",
         "0.0",
         "1.0"
        ],
        [
         "25%",
         "21.0",
         "2.0",
         "0.0",
         "6.29",
         "2.0",
         "0.0",
         "4.0",
         "2.0"
        ],
        [
         "50%",
         "26.0",
         "3.0",
         "0.0",
         "7.77",
         "3.0",
         "0.0",
         "8.0",
         "3.0"
        ],
        [
         "75%",
         "30.0",
         "4.0",
         "0.0",
         "8.92",
         "4.0",
         "0.0",
         "10.0",
         "4.0"
        ],
        [
         "max",
         "59.0",
         "5.0",
         "5.0",
         "10.0",
         "5.0",
         "4.0",
         "12.0",
         "5.0"
        ]
       ],
       "shape": {
        "columns": 8,
        "rows": 8
       }
      },
      "text/html": [
       "<div>\n",
       "<style scoped>\n",
       "    .dataframe tbody tr th:only-of-type {\n",
       "        vertical-align: middle;\n",
       "    }\n",
       "\n",
       "    .dataframe tbody tr th {\n",
       "        vertical-align: top;\n",
       "    }\n",
       "\n",
       "    .dataframe thead th {\n",
       "        text-align: right;\n",
       "    }\n",
       "</style>\n",
       "<table border=\"1\" class=\"dataframe\">\n",
       "  <thead>\n",
       "    <tr style=\"text-align: right;\">\n",
       "      <th></th>\n",
       "      <th>age</th>\n",
       "      <th>academic_pressure</th>\n",
       "      <th>work_pressure</th>\n",
       "      <th>cgpa</th>\n",
       "      <th>study_satisfaction</th>\n",
       "      <th>job_satisfaction</th>\n",
       "      <th>work_study_hours</th>\n",
       "      <th>financial_stress</th>\n",
       "    </tr>\n",
       "  </thead>\n",
       "  <tbody>\n",
       "    <tr>\n",
       "      <th>count</th>\n",
       "      <td>22320.000000</td>\n",
       "      <td>22320.000000</td>\n",
       "      <td>22320.000000</td>\n",
       "      <td>22320.000000</td>\n",
       "      <td>22320.000000</td>\n",
       "      <td>22320.000000</td>\n",
       "      <td>22320.000000</td>\n",
       "      <td>22318.000000</td>\n",
       "    </tr>\n",
       "    <tr>\n",
       "      <th>mean</th>\n",
       "      <td>25.840771</td>\n",
       "      <td>3.144668</td>\n",
       "      <td>0.000314</td>\n",
       "      <td>7.661163</td>\n",
       "      <td>2.941622</td>\n",
       "      <td>0.000627</td>\n",
       "      <td>7.161514</td>\n",
       "      <td>3.135138</td>\n",
       "    </tr>\n",
       "    <tr>\n",
       "      <th>std</th>\n",
       "      <td>4.905634</td>\n",
       "      <td>1.377913</td>\n",
       "      <td>0.036045</td>\n",
       "      <td>1.470131</td>\n",
       "      <td>1.360654</td>\n",
       "      <td>0.041258</td>\n",
       "      <td>3.705939</td>\n",
       "      <td>1.436166</td>\n",
       "    </tr>\n",
       "    <tr>\n",
       "      <th>min</th>\n",
       "      <td>18.000000</td>\n",
       "      <td>0.000000</td>\n",
       "      <td>0.000000</td>\n",
       "      <td>0.000000</td>\n",
       "      <td>0.000000</td>\n",
       "      <td>0.000000</td>\n",
       "      <td>0.000000</td>\n",
       "      <td>1.000000</td>\n",
       "    </tr>\n",
       "    <tr>\n",
       "      <th>25%</th>\n",
       "      <td>21.000000</td>\n",
       "      <td>2.000000</td>\n",
       "      <td>0.000000</td>\n",
       "      <td>6.290000</td>\n",
       "      <td>2.000000</td>\n",
       "      <td>0.000000</td>\n",
       "      <td>4.000000</td>\n",
       "      <td>2.000000</td>\n",
       "    </tr>\n",
       "    <tr>\n",
       "      <th>50%</th>\n",
       "      <td>26.000000</td>\n",
       "      <td>3.000000</td>\n",
       "      <td>0.000000</td>\n",
       "      <td>7.770000</td>\n",
       "      <td>3.000000</td>\n",
       "      <td>0.000000</td>\n",
       "      <td>8.000000</td>\n",
       "      <td>3.000000</td>\n",
       "    </tr>\n",
       "    <tr>\n",
       "      <th>75%</th>\n",
       "      <td>30.000000</td>\n",
       "      <td>4.000000</td>\n",
       "      <td>0.000000</td>\n",
       "      <td>8.920000</td>\n",
       "      <td>4.000000</td>\n",
       "      <td>0.000000</td>\n",
       "      <td>10.000000</td>\n",
       "      <td>4.000000</td>\n",
       "    </tr>\n",
       "    <tr>\n",
       "      <th>max</th>\n",
       "      <td>59.000000</td>\n",
       "      <td>5.000000</td>\n",
       "      <td>5.000000</td>\n",
       "      <td>10.000000</td>\n",
       "      <td>5.000000</td>\n",
       "      <td>4.000000</td>\n",
       "      <td>12.000000</td>\n",
       "      <td>5.000000</td>\n",
       "    </tr>\n",
       "  </tbody>\n",
       "</table>\n",
       "</div>"
      ],
      "text/plain": [
       "                age  academic_pressure  work_pressure          cgpa  \\\n",
       "count  22320.000000       22320.000000   22320.000000  22320.000000   \n",
       "mean      25.840771           3.144668       0.000314      7.661163   \n",
       "std        4.905634           1.377913       0.036045      1.470131   \n",
       "min       18.000000           0.000000       0.000000      0.000000   \n",
       "25%       21.000000           2.000000       0.000000      6.290000   \n",
       "50%       26.000000           3.000000       0.000000      7.770000   \n",
       "75%       30.000000           4.000000       0.000000      8.920000   \n",
       "max       59.000000           5.000000       5.000000     10.000000   \n",
       "\n",
       "       study_satisfaction  job_satisfaction  work_study_hours  \\\n",
       "count        22320.000000      22320.000000      22320.000000   \n",
       "mean             2.941622          0.000627          7.161514   \n",
       "std              1.360654          0.041258          3.705939   \n",
       "min              0.000000          0.000000          0.000000   \n",
       "25%              2.000000          0.000000          4.000000   \n",
       "50%              3.000000          0.000000          8.000000   \n",
       "75%              4.000000          0.000000         10.000000   \n",
       "max              5.000000          4.000000         12.000000   \n",
       "\n",
       "       financial_stress  \n",
       "count      22318.000000  \n",
       "mean           3.135138  \n",
       "std            1.436166  \n",
       "min            1.000000  \n",
       "25%            2.000000  \n",
       "50%            3.000000  \n",
       "75%            4.000000  \n",
       "max            5.000000  "
      ]
     },
     "execution_count": 241,
     "metadata": {},
     "output_type": "execute_result"
    }
   ],
   "source": [
    "numerical_data.describe()"
   ]
  },
  {
   "cell_type": "markdown",
   "id": "6df83a32",
   "metadata": {},
   "source": [
    "* Almost all of the columns have similar `mean` and `median` so data is not skewed\n",
    "* The mean of `work_pressure` and `job_satisfaction` tells me that majority of the values are 0 or close to 0.  I think it would be safe to drop these columns since there is no variance and will not contribute to the ML learning. \n",
    "* `financial_stress` has 2 missing values, I think we can impute the data with mean or median. \n",
    "* Other than `age`, `cgpa` and `work_study_hours` rest of the columns are satisfaction ratings and I think we should create bins for these columns instead of using the discreet values. Lets check the visualizations and value counts. "
   ]
  },
  {
   "cell_type": "code",
   "execution_count": 242,
   "id": "06bc00b6",
   "metadata": {},
   "outputs": [
    {
     "data": {
      "image/png": "[encoded data removed]",
      "text/plain": [
       "<Figure size 640x480 with 1 Axes>"
      ]
     },
     "metadata": {},
     "output_type": "display_data"
    },
    {
     "data": {
      "image/png": "[encoded data removed]",
      "text/plain": [
       "<Figure size 640x480 with 1 Axes>"
      ]
     },
     "metadata": {},
     "output_type": "display_data"
    },
    {
     "data": {
      "image/png": "[encoded data removed]",
      "text/plain": [
       "<Figure size 640x480 with 1 Axes>"
      ]
     },
     "metadata": {},
     "output_type": "display_data"
    },
    {
     "data": {
      "image/png": "[encoded data removed]",
      "text/plain": [
       "<Figure size 640x480 with 1 Axes>"
      ]
     },
     "metadata": {},
     "output_type": "display_data"
    },
    {
     "data": {
      "image/png": "[encoded data removed]",
      "text/plain": [
       "<Figure size 640x480 with 1 Axes>"
      ]
     },
     "metadata": {},
     "output_type": "display_data"
    },
    {
     "data": {
      "image/png": "[encoded data removed]",
      "text/plain": [
       "<Figure size 640x480 with 1 Axes>"
      ]
     },
     "metadata": {},
     "output_type": "display_data"
    },
    {
     "data": {
      "image/png": "[encoded data removed]",
      "text/plain": [
       "<Figure size 640x480 with 1 Axes>"
      ]
     },
     "metadata": {},
     "output_type": "display_data"
    },
    {
     "data": {
      "image/png": "[encoded data removed]",
      "text/plain": [
       "<Figure size 640x480 with 1 Axes>"
      ]
     },
     "metadata": {},
     "output_type": "display_data"
    }
   ],
   "source": [
    "import seaborn as sns\n",
    "import matplotlib.pyplot as pyt\n",
    "\n",
    "\n",
    "for col in numerical_data.columns:\n",
    "    pyt.figure()\n",
    "    sns.histplot(numerical_data[col], kde=True)"
   ]
  },
  {
   "cell_type": "markdown",
   "id": "ca16450b",
   "metadata": {},
   "source": [
    "* The visualizations confirm our earlier assumptions,\n",
    "    * Safe to drop job satisfaction and work pressure columns as they add no values. \n",
    "* We will converting `age`, `cgpa` and `work_study_hours` into categorical bins\n",
    "* We will scale and use `academic_pressure`, `study_satisfaction` and `finalcial_stress` as it is. "
   ]
  },
  {
   "cell_type": "markdown",
   "id": "e7e07fd5",
   "metadata": {},
   "source": [
    "#### Default Changes\n",
    "* The training data doesn't seem to have any null or missing value, but to make sure test or production data doesn't break, lets add default median imputer for all the columns. \n",
    "* Since our data is not skewed using median shouldn't affect the overall variance. \n"
   ]
  },
  {
   "cell_type": "code",
   "execution_count": 243,
   "id": "5fe98f47",
   "metadata": {},
   "outputs": [
    {
     "data": {
      "text/html": [
       "<style>#sk-container-id-2 {\n",
       "  /* Definition of color scheme common for light and dark mode */\n",
       "  --sklearn-color-text: #000;\n",
       "  --sklearn-color-text-muted: #666;\n",
       "  --sklearn-color-line: gray;\n",
       "  /* Definition of color scheme for unfitted estimators */\n",
       "  --sklearn-color-unfitted-level-0: #fff5e6;\n",
       "  --sklearn-color-unfitted-level-1: #f6e4d2;\n",
       "  --sklearn-color-unfitted-level-2: #ffe0b3;\n",
       "  --sklearn-color-unfitted-level-3: chocolate;\n",
       "  /* Definition of color scheme for fitted estimators */\n",
       "  --sklearn-color-fitted-level-0: #f0f8ff;\n",
       "  --sklearn-color-fitted-level-1: #d4ebff;\n",
       "  --sklearn-color-fitted-level-2: #b3dbfd;\n",
       "  --sklearn-color-fitted-level-3: cornflowerblue;\n",
       "\n",
       "  /* Specific color for light theme */\n",
       "  --sklearn-color-text-on-default-background: var(--sg-text-color, var(--theme-code-foreground, var(--jp-content-font-color1, black)));\n",
       "  --sklearn-color-background: var(--sg-background-color, var(--theme-background, var(--jp-layout-color0, white)));\n",
       "  --sklearn-color-border-box: var(--sg-text-color, var(--theme-code-foreground, var(--jp-content-font-color1, black)));\n",
       "  --sklearn-color-icon: #696969;\n",
       "\n",
       "  @media (prefers-color-scheme: dark) {\n",
       "    /* Redefinition of color scheme for dark theme */\n",
       "    --sklearn-color-text-on-default-background: var(--sg-text-color, var(--theme-code-foreground, var(--jp-content-font-color1, white)));\n",
       "    --sklearn-color-background: var(--sg-background-color, var(--theme-background, var(--jp-layout-color0, #111)));\n",
       "    --sklearn-color-border-box: var(--sg-text-color, var(--theme-code-foreground, var(--jp-content-font-color1, white)));\n",
       "    --sklearn-color-icon: #878787;\n",
       "  }\n",
       "}\n",
       "\n",
       "#sk-container-id-2 {\n",
       "  color: var(--sklearn-color-text);\n",
       "}\n",
       "\n",
       "#sk-container-id-2 pre {\n",
       "  padding: 0;\n",
       "}\n",
       "\n",
       "#sk-container-id-2 input.sk-hidden--visually {\n",
       "  border: 0;\n",
       "  clip: rect(1px 1px 1px 1px);\n",
       "  clip: rect(1px, 1px, 1px, 1px);\n",
       "  height: 1px;\n",
       "  margin: -1px;\n",
       "  overflow: hidden;\n",
       "  padding: 0;\n",
       "  position: absolute;\n",
       "  width: 1px;\n",
       "}\n",
       "\n",
       "#sk-container-id-2 div.sk-dashed-wrapped {\n",
       "  border: 1px dashed var(--sklearn-color-line);\n",
       "  margin: 0 0.4em 0.5em 0.4em;\n",
       "  box-sizing: border-box;\n",
       "  padding-bottom: 0.4em;\n",
       "  background-color: var(--sklearn-color-background);\n",
       "}\n",
       "\n",
       "#sk-container-id-2 div.sk-container {\n",
       "  /* jupyter's `normalize.less` sets `[hidden] { display: none; }`\n",
       "     but bootstrap.min.css set `[hidden] { display: none !important; }`\n",
       "     so we also need the `!important` here to be able to override the\n",
       "     default hidden behavior on the sphinx rendered scikit-learn.org.\n",
       "     See: https://github.com/scikit-learn/scikit-learn/issues/21755 */\n",
       "  display: inline-block !important;\n",
       "  position: relative;\n",
       "}\n",
       "\n",
       "#sk-container-id-2 div.sk-text-repr-fallback {\n",
       "  display: none;\n",
       "}\n",
       "\n",
       "div.sk-parallel-item,\n",
       "div.sk-serial,\n",
       "div.sk-item {\n",
       "  /* draw centered vertical line to link estimators */\n",
       "  background-image: linear-gradient(var(--sklearn-color-text-on-default-background), var(--sklearn-color-text-on-default-background));\n",
       "  background-size: 2px 100%;\n",
       "  background-repeat: no-repeat;\n",
       "  background-position: center center;\n",
       "}\n",
       "\n",
       "/* Parallel-specific style estimator block */\n",
       "\n",
       "#sk-container-id-2 div.sk-parallel-item::after {\n",
       "  content: \"\";\n",
       "  width: 100%;\n",
       "  border-bottom: 2px solid var(--sklearn-color-text-on-default-background);\n",
       "  flex-grow: 1;\n",
       "}\n",
       "\n",
       "#sk-container-id-2 div.sk-parallel {\n",
       "  display: flex;\n",
       "  align-items: stretch;\n",
       "  justify-content: center;\n",
       "  background-color: var(--sklearn-color-background);\n",
       "  position: relative;\n",
       "}\n",
       "\n",
       "#sk-container-id-2 div.sk-parallel-item {\n",
       "  display: flex;\n",
       "  flex-direction: column;\n",
       "}\n",
       "\n",
       "#sk-container-id-2 div.sk-parallel-item:first-child::after {\n",
       "  align-self: flex-end;\n",
       "  width: 50%;\n",
       "}\n",
       "\n",
       "#sk-container-id-2 div.sk-parallel-item:last-child::after {\n",
       "  align-self: flex-start;\n",
       "  width: 50%;\n",
       "}\n",
       "\n",
       "#sk-container-id-2 div.sk-parallel-item:only-child::after {\n",
       "  width: 0;\n",
       "}\n",
       "\n",
       "/* Serial-specific style estimator block */\n",
       "\n",
       "#sk-container-id-2 div.sk-serial {\n",
       "  display: flex;\n",
       "  flex-direction: column;\n",
       "  align-items: center;\n",
       "  background-color: var(--sklearn-color-background);\n",
       "  padding-right: 1em;\n",
       "  padding-left: 1em;\n",
       "}\n",
       "\n",
       "\n",
       "/* Toggleable style: style used for estimator/Pipeline/ColumnTransformer box that is\n",
       "clickable and can be expanded/collapsed.\n",
       "- Pipeline and ColumnTransformer use this feature and define the default style\n",
       "- Estimators will overwrite some part of the style using the `sk-estimator` class\n",
       "*/\n",
       "\n",
       "/* Pipeline and ColumnTransformer style (default) */\n",
       "\n",
       "#sk-container-id-2 div.sk-toggleable {\n",
       "  /* Default theme specific background. It is overwritten whether we have a\n",
       "  specific estimator or a Pipeline/ColumnTransformer */\n",
       "  background-color: var(--sklearn-color-background);\n",
       "}\n",
       "\n",
       "/* Toggleable label */\n",
       "#sk-container-id-2 label.sk-toggleable__label {\n",
       "  cursor: pointer;\n",
       "  display: flex;\n",
       "  width: 100%;\n",
       "  margin-bottom: 0;\n",
       "  padding: 0.5em;\n",
       "  box-sizing: border-box;\n",
       "  text-align: center;\n",
       "  align-items: start;\n",
       "  justify-content: space-between;\n",
       "  gap: 0.5em;\n",
       "}\n",
       "\n",
       "#sk-container-id-2 label.sk-toggleable__label .caption {\n",
       "  font-size: 0.6rem;\n",
       "  font-weight: lighter;\n",
       "  color: var(--sklearn-color-text-muted);\n",
       "}\n",
       "\n",
       "#sk-container-id-2 label.sk-toggleable__label-arrow:before {\n",
       "  /* Arrow on the left of the label */\n",
       "  content: \"▸\";\n",
       "  float: left;\n",
       "  margin-right: 0.25em;\n",
       "  color: var(--sklearn-color-icon);\n",
       "}\n",
       "\n",
       "#sk-container-id-2 label.sk-toggleable__label-arrow:hover:before {\n",
       "  color: var(--sklearn-color-text);\n",
       "}\n",
       "\n",
       "/* Toggleable content - dropdown */\n",
       "\n",
       "#sk-container-id-2 div.sk-toggleable__content {\n",
       "  max-height: 0;\n",
       "  max-width: 0;\n",
       "  overflow: hidden;\n",
       "  text-align: left;\n",
       "  /* unfitted */\n",
       "  background-color: var(--sklearn-color-unfitted-level-0);\n",
       "}\n",
       "\n",
       "#sk-container-id-2 div.sk-toggleable__content.fitted {\n",
       "  /* fitted */\n",
       "  background-color: var(--sklearn-color-fitted-level-0);\n",
       "}\n",
       "\n",
       "#sk-container-id-2 div.sk-toggleable__content pre {\n",
       "  margin: 0.2em;\n",
       "  border-radius: 0.25em;\n",
       "  color: var(--sklearn-color-text);\n",
       "  /* unfitted */\n",
       "  background-color: var(--sklearn-color-unfitted-level-0);\n",
       "}\n",
       "\n",
       "#sk-container-id-2 div.sk-toggleable__content.fitted pre {\n",
       "  /* unfitted */\n",
       "  background-color: var(--sklearn-color-fitted-level-0);\n",
       "}\n",
       "\n",
       "#sk-container-id-2 input.sk-toggleable__control:checked~div.sk-toggleable__content {\n",
       "  /* Expand drop-down */\n",
       "  max-height: 200px;\n",
       "  max-width: 100%;\n",
       "  overflow: auto;\n",
       "}\n",
       "\n",
       "#sk-container-id-2 input.sk-toggleable__control:checked~label.sk-toggleable__label-arrow:before {\n",
       "  content: \"▾\";\n",
       "}\n",
       "\n",
       "/* Pipeline/ColumnTransformer-specific style */\n",
       "\n",
       "#sk-container-id-2 div.sk-label input.sk-toggleable__control:checked~label.sk-toggleable__label {\n",
       "  color: var(--sklearn-color-text);\n",
       "  background-color: var(--sklearn-color-unfitted-level-2);\n",
       "}\n",
       "\n",
       "#sk-container-id-2 div.sk-label.fitted input.sk-toggleable__control:checked~label.sk-toggleable__label {\n",
       "  background-color: var(--sklearn-color-fitted-level-2);\n",
       "}\n",
       "\n",
       "/* Estimator-specific style */\n",
       "\n",
       "/* Colorize estimator box */\n",
       "#sk-container-id-2 div.sk-estimator input.sk-toggleable__control:checked~label.sk-toggleable__label {\n",
       "  /* unfitted */\n",
       "  background-color: var(--sklearn-color-unfitted-level-2);\n",
       "}\n",
       "\n",
       "#sk-container-id-2 div.sk-estimator.fitted input.sk-toggleable__control:checked~label.sk-toggleable__label {\n",
       "  /* fitted */\n",
       "  background-color: var(--sklearn-color-fitted-level-2);\n",
       "}\n",
       "\n",
       "#sk-container-id-2 div.sk-label label.sk-toggleable__label,\n",
       "#sk-container-id-2 div.sk-label label {\n",
       "  /* The background is the default theme color */\n",
       "  color: var(--sklearn-color-text-on-default-background);\n",
       "}\n",
       "\n",
       "/* On hover, darken the color of the background */\n",
       "#sk-container-id-2 div.sk-label:hover label.sk-toggleable__label {\n",
       "  color: var(--sklearn-color-text);\n",
       "  background-color: var(--sklearn-color-unfitted-level-2);\n",
       "}\n",
       "\n",
       "/* Label box, darken color on hover, fitted */\n",
       "#sk-container-id-2 div.sk-label.fitted:hover label.sk-toggleable__label.fitted {\n",
       "  color: var(--sklearn-color-text);\n",
       "  background-color: var(--sklearn-color-fitted-level-2);\n",
       "}\n",
       "\n",
       "/* Estimator label */\n",
       "\n",
       "#sk-container-id-2 div.sk-label label {\n",
       "  font-family: monospace;\n",
       "  font-weight: bold;\n",
       "  display: inline-block;\n",
       "  line-height: 1.2em;\n",
       "}\n",
       "\n",
       "#sk-container-id-2 div.sk-label-container {\n",
       "  text-align: center;\n",
       "}\n",
       "\n",
       "/* Estimator-specific */\n",
       "#sk-container-id-2 div.sk-estimator {\n",
       "  font-family: monospace;\n",
       "  border: 1px dotted var(--sklearn-color-border-box);\n",
       "  border-radius: 0.25em;\n",
       "  box-sizing: border-box;\n",
       "  margin-bottom: 0.5em;\n",
       "  /* unfitted */\n",
       "  background-color: var(--sklearn-color-unfitted-level-0);\n",
       "}\n",
       "\n",
       "#sk-container-id-2 div.sk-estimator.fitted {\n",
       "  /* fitted */\n",
       "  background-color: var(--sklearn-color-fitted-level-0);\n",
       "}\n",
       "\n",
       "/* on hover */\n",
       "#sk-container-id-2 div.sk-estimator:hover {\n",
       "  /* unfitted */\n",
       "  background-color: var(--sklearn-color-unfitted-level-2);\n",
       "}\n",
       "\n",
       "#sk-container-id-2 div.sk-estimator.fitted:hover {\n",
       "  /* fitted */\n",
       "  background-color: var(--sklearn-color-fitted-level-2);\n",
       "}\n",
       "\n",
       "/* Specification for estimator info (e.g. \"i\" and \"?\") */\n",
       "\n",
       "/* Common style for \"i\" and \"?\" */\n",
       "\n",
       ".sk-estimator-doc-link,\n",
       "a:link.sk-estimator-doc-link,\n",
       "a:visited.sk-estimator-doc-link {\n",
       "  float: right;\n",
       "  font-size: smaller;\n",
       "  line-height: 1em;\n",
       "  font-family: monospace;\n",
       "  background-color: var(--sklearn-color-background);\n",
       "  border-radius: 1em;\n",
       "  height: 1em;\n",
       "  width: 1em;\n",
       "  text-decoration: none !important;\n",
       "  margin-left: 0.5em;\n",
       "  text-align: center;\n",
       "  /* unfitted */\n",
       "  border: var(--sklearn-color-unfitted-level-1) 1pt solid;\n",
       "  color: var(--sklearn-color-unfitted-level-1);\n",
       "}\n",
       "\n",
       ".sk-estimator-doc-link.fitted,\n",
       "a:link.sk-estimator-doc-link.fitted,\n",
       "a:visited.sk-estimator-doc-link.fitted {\n",
       "  /* fitted */\n",
       "  border: var(--sklearn-color-fitted-level-1) 1pt solid;\n",
       "  color: var(--sklearn-color-fitted-level-1);\n",
       "}\n",
       "\n",
       "/* On hover */\n",
       "div.sk-estimator:hover .sk-estimator-doc-link:hover,\n",
       ".sk-estimator-doc-link:hover,\n",
       "div.sk-label-container:hover .sk-estimator-doc-link:hover,\n",
       ".sk-estimator-doc-link:hover {\n",
       "  /* unfitted */\n",
       "  background-color: var(--sklearn-color-unfitted-level-3);\n",
       "  color: var(--sklearn-color-background);\n",
       "  text-decoration: none;\n",
       "}\n",
       "\n",
       "div.sk-estimator.fitted:hover .sk-estimator-doc-link.fitted:hover,\n",
       ".sk-estimator-doc-link.fitted:hover,\n",
       "div.sk-label-container:hover .sk-estimator-doc-link.fitted:hover,\n",
       ".sk-estimator-doc-link.fitted:hover {\n",
       "  /* fitted */\n",
       "  background-color: var(--sklearn-color-fitted-level-3);\n",
       "  color: var(--sklearn-color-background);\n",
       "  text-decoration: none;\n",
       "}\n",
       "\n",
       "/* Span, style for the box shown on hovering the info icon */\n",
       ".sk-estimator-doc-link span {\n",
       "  display: none;\n",
       "  z-index: 9999;\n",
       "  position: relative;\n",
       "  font-weight: normal;\n",
       "  right: .2ex;\n",
       "  padding: .5ex;\n",
       "  margin: .5ex;\n",
       "  width: min-content;\n",
       "  min-width: 20ex;\n",
       "  max-width: 50ex;\n",
       "  color: var(--sklearn-color-text);\n",
       "  box-shadow: 2pt 2pt 4pt #999;\n",
       "  /* unfitted */\n",
       "  background: var(--sklearn-color-unfitted-level-0);\n",
       "  border: .5pt solid var(--sklearn-color-unfitted-level-3);\n",
       "}\n",
       "\n",
       ".sk-estimator-doc-link.fitted span {\n",
       "  /* fitted */\n",
       "  background: var(--sklearn-color-fitted-level-0);\n",
       "  border: var(--sklearn-color-fitted-level-3);\n",
       "}\n",
       "\n",
       ".sk-estimator-doc-link:hover span {\n",
       "  display: block;\n",
       "}\n",
       "\n",
       "/* \"?\"-specific style due to the `<a>` HTML tag */\n",
       "\n",
       "#sk-container-id-2 a.estimator_doc_link {\n",
       "  float: right;\n",
       "  font-size: 1rem;\n",
       "  line-height: 1em;\n",
       "  font-family: monospace;\n",
       "  background-color: var(--sklearn-color-background);\n",
       "  border-radius: 1rem;\n",
       "  height: 1rem;\n",
       "  width: 1rem;\n",
       "  text-decoration: none;\n",
       "  /* unfitted */\n",
       "  color: var(--sklearn-color-unfitted-level-1);\n",
       "  border: var(--sklearn-color-unfitted-level-1) 1pt solid;\n",
       "}\n",
       "\n",
       "#sk-container-id-2 a.estimator_doc_link.fitted {\n",
       "  /* fitted */\n",
       "  border: var(--sklearn-color-fitted-level-1) 1pt solid;\n",
       "  color: var(--sklearn-color-fitted-level-1);\n",
       "}\n",
       "\n",
       "/* On hover */\n",
       "#sk-container-id-2 a.estimator_doc_link:hover {\n",
       "  /* unfitted */\n",
       "  background-color: var(--sklearn-color-unfitted-level-3);\n",
       "  color: var(--sklearn-color-background);\n",
       "  text-decoration: none;\n",
       "}\n",
       "\n",
       "#sk-container-id-2 a.estimator_doc_link.fitted:hover {\n",
       "  /* fitted */\n",
       "  background-color: var(--sklearn-color-fitted-level-3);\n",
       "}\n",
       "</style><div id=\"sk-container-id-2\" class=\"sk-top-container\"><div class=\"sk-text-repr-fallback\"><pre>Pipeline(steps=[(&#x27;imputer&#x27;, SimpleImputer(strategy=&#x27;median&#x27;))])</pre><b>In a Jupyter environment, please rerun this cell to show the HTML representation or trust the notebook. <br />On GitHub, the HTML representation is unable to render, please try loading this page with nbviewer.org.</b></div><div class=\"sk-container\" hidden><div class=\"sk-item sk-dashed-wrapped\"><div class=\"sk-label-container\"><div class=\"sk-label  sk-toggleable\"><input class=\"sk-toggleable__control sk-hidden--visually\" id=\"sk-estimator-id-3\" type=\"checkbox\" ><label for=\"sk-estimator-id-3\" class=\"sk-toggleable__label  sk-toggleable__label-arrow\"><div><div>Pipeline</div></div><div><a class=\"sk-estimator-doc-link \" rel=\"noreferrer\" target=\"_blank\" href=\"https://scikit-learn.org/1.6/modules/generated/sklearn.pipeline.Pipeline.html\">?<span>Documentation for Pipeline</span></a><span class=\"sk-estimator-doc-link \">i<span>Not fitted</span></span></div></label><div class=\"sk-toggleable__content \"><pre>Pipeline(steps=[(&#x27;imputer&#x27;, SimpleImputer(strategy=&#x27;median&#x27;))])</pre></div> </div></div><div class=\"sk-serial\"><div class=\"sk-item\"><div class=\"sk-estimator  sk-toggleable\"><input class=\"sk-toggleable__control sk-hidden--visually\" id=\"sk-estimator-id-4\" type=\"checkbox\" ><label for=\"sk-estimator-id-4\" class=\"sk-toggleable__label  sk-toggleable__label-arrow\"><div><div>SimpleImputer</div></div><div><a class=\"sk-estimator-doc-link \" rel=\"noreferrer\" target=\"_blank\" href=\"https://scikit-learn.org/1.6/modules/generated/sklearn.impute.SimpleImputer.html\">?<span>Documentation for SimpleImputer</span></a></div></label><div class=\"sk-toggleable__content \"><pre>SimpleImputer(strategy=&#x27;median&#x27;)</pre></div> </div></div></div></div></div></div>"
      ],
      "text/plain": [
       "Pipeline(steps=[('imputer', SimpleImputer(strategy='median'))])"
      ]
     },
     "execution_count": 243,
     "metadata": {},
     "output_type": "execute_result"
    }
   ],
   "source": [
    "from sklearn.discriminant_analysis import StandardScaler\n",
    "from sklearn.impute import SimpleImputer\n",
    "\n",
    "default_num_pipeline = Pipeline([\n",
    "    (\"imputer\", SimpleImputer(strategy=\"median\"))\n",
    "])\n",
    "\n",
    "default_num_pipeline.set_output(transform=\"pandas\")"
   ]
  },
  {
   "cell_type": "markdown",
   "id": "80536b7a",
   "metadata": {},
   "source": [
    "### Preprocessing Age"
   ]
  },
  {
   "cell_type": "code",
   "execution_count": 244,
   "id": "0bd45a9f",
   "metadata": {},
   "outputs": [
    {
     "data": {
      "text/plain": [
       "count    22320.000000\n",
       "mean        25.840771\n",
       "std          4.905634\n",
       "min         18.000000\n",
       "25%         21.000000\n",
       "50%         26.000000\n",
       "75%         30.000000\n",
       "max         59.000000\n",
       "Name: age, dtype: float64"
      ]
     },
     "execution_count": 244,
     "metadata": {},
     "output_type": "execute_result"
    }
   ],
   "source": [
    "numerical_data[\"age\"].describe()"
   ]
  },
  {
   "cell_type": "code",
   "execution_count": 245,
   "id": "5afb0d31",
   "metadata": {},
   "outputs": [
    {
     "data": {
      "text/plain": [
       "np.int64(0)"
      ]
     },
     "execution_count": 245,
     "metadata": {},
     "output_type": "execute_result"
    }
   ],
   "source": [
    "numerical_data[\"age\"].isnull().sum()"
   ]
  },
  {
   "cell_type": "markdown",
   "id": "ed53b2d3",
   "metadata": {},
   "source": [
    "* Lets create 5 year bins from 18 to 30 and last bin would greater than 30.\n",
    "    * 18_to_23\n",
    "    * 23_to_28\n",
    "    * 28_to_33\n",
    "    * gte_33\n",
    "* Then we'll encode this with parameter to choose between onehot or ordinal\n"
   ]
  },
  {
   "cell_type": "code",
   "execution_count": 246,
   "id": "3755e88b",
   "metadata": {},
   "outputs": [
    {
     "data": {
      "text/plain": [
       "array(['age_pipeline__encode_age_range__age_range_18_to_23',\n",
       "       'age_pipeline__encode_age_range__age_range_23_to_28',\n",
       "       'age_pipeline__encode_age_range__age_range_28_to_33',\n",
       "       'age_pipeline__encode_age_range__age_range_gte_33'], dtype=object)"
      ]
     },
     "execution_count": 246,
     "metadata": {},
     "output_type": "execute_result"
    }
   ],
   "source": [
    "# helper function to map and create age bins\n",
    "def map_age_bins_feature_names(function_transformer, feature_names_in):\n",
    "    features_out = feature_names_in.tolist()\n",
    "    features_out.extend([\"age_range\"])\n",
    "    return features_out\n",
    "\n",
    "\n",
    "def map_age_bins_fn(df):\n",
    "    if not isinstance(df, pd.DataFrame):\n",
    "        raise ValueError(\"map_age_bins_fn : Input must be a pandas DataFrame\")\n",
    "    df_copy = df.copy()\n",
    "    # default value\n",
    "    df_copy[\"age_range\"] = \"gte_33\"\n",
    "    df_copy.loc[df_copy[\"age\"].between(\n",
    "        18, 23, \"left\"), \"age_range\"] = \"18_to_23\"\n",
    "    df_copy.loc[df_copy[\"age\"].between(\n",
    "        23, 28, \"left\"), \"age_range\"] = \"23_to_28\"\n",
    "    df_copy.loc[df_copy[\"age\"].between(\n",
    "        28, 33, \"left\"), \"age_range\"] = \"28_to_33\"\n",
    "    return df_copy\n",
    "\n",
    "\n",
    "map_age_bins = FunctionTransformer(\n",
    "    map_age_bins_fn, feature_names_out=map_age_bins_feature_names)\n",
    "\n",
    "\n",
    "def make_age_encoder_fn(encoding=\"onehot\"):\n",
    "    encoder = OneHotEncoder(\n",
    "        sparse_output=False, handle_unknown=\"ignore\")\n",
    "\n",
    "    if encoding == \"ordinal\":\n",
    "        encoder = OrdinalEncoder(categories=[[\n",
    "            \"18_to_23\", \"23_to_28\", \"28_to_33\", \"gte_33\"\n",
    "        ]], handle_unknown=\"use_encoded_value\", unknown_value=-1)\n",
    "\n",
    "    return ColumnTransformer(\n",
    "        [(\"encode_age_range\", encoder, [\"age_range\"])]\n",
    "    )\n",
    "\n",
    "\n",
    "age_pipeline = Pipeline(\n",
    "    [(\"default_num_pipeline\", default_num_pipeline),\n",
    "     (\"map_age_bins\", map_age_bins),\n",
    "     (\"encode_age\", make_age_encoder_fn(encoding=\"onehot\"))]\n",
    ")\n",
    "\n",
    "preprocess_age = ColumnTransformer(\n",
    "    [\n",
    "        (\"age_pipeline\", age_pipeline, [\"age\"]),\n",
    "    ]\n",
    ")\n",
    "\n",
    "\n",
    "temp = preprocess_age.fit_transform(X_train)\n",
    "preprocess_age.get_feature_names_out()"
   ]
  },
  {
   "cell_type": "code",
   "execution_count": 247,
   "id": "6295c43f",
   "metadata": {},
   "outputs": [
    {
     "data": {
      "text/plain": [
       "array([[1., 0., 0., 0.],\n",
       "       [0., 1., 0., 0.],\n",
       "       [0., 0., 1., 0.],\n",
       "       ...,\n",
       "       [0., 0., 0., 1.],\n",
       "       [0., 0., 1., 0.],\n",
       "       [0., 0., 1., 0.]], shape=(22320, 4))"
      ]
     },
     "execution_count": 247,
     "metadata": {},
     "output_type": "execute_result"
    }
   ],
   "source": [
    "temp"
   ]
  },
  {
   "cell_type": "markdown",
   "id": "c27eefa2",
   "metadata": {},
   "source": [
    "* lets update numerical data with bins for future use"
   ]
  },
  {
   "cell_type": "code",
   "execution_count": 248,
   "id": "98ba9916",
   "metadata": {},
   "outputs": [],
   "source": [
    "numerical_data = map_age_bins_fn(numerical_data)"
   ]
  },
  {
   "cell_type": "markdown",
   "id": "a835cbed",
   "metadata": {},
   "source": [
    "### Preprocesing CGPA"
   ]
  },
  {
   "cell_type": "code",
   "execution_count": 249,
   "id": "39609cda",
   "metadata": {},
   "outputs": [
    {
     "data": {
      "text/plain": [
       "count    22320.000000\n",
       "mean         7.661163\n",
       "std          1.470131\n",
       "min          0.000000\n",
       "25%          6.290000\n",
       "50%          7.770000\n",
       "75%          8.920000\n",
       "max         10.000000\n",
       "Name: cgpa, dtype: float64"
      ]
     },
     "execution_count": 249,
     "metadata": {},
     "output_type": "execute_result"
    }
   ],
   "source": [
    "numerical_data[\"cgpa\"].describe()"
   ]
  },
  {
   "cell_type": "markdown",
   "id": "2636d220",
   "metadata": {},
   "source": [
    "* For CGPA lets create the following bins\n",
    "    * Less than 4 \"lt_4\"\n",
    "    * 4 to 7 \"4_to_7\"\n",
    "    * 7 and above \"gt_7\""
   ]
  },
  {
   "cell_type": "code",
   "execution_count": 250,
   "id": "9762688f",
   "metadata": {},
   "outputs": [
    {
     "data": {
      "text/plain": [
       "array(['cgpa_pipeline__encode_cgpa_range__cgpa_range_4_to_7',\n",
       "       'cgpa_pipeline__encode_cgpa_range__cgpa_range_gte_7',\n",
       "       'cgpa_pipeline__encode_cgpa_range__cgpa_range_lt_4'], dtype=object)"
      ]
     },
     "execution_count": 250,
     "metadata": {},
     "output_type": "execute_result"
    }
   ],
   "source": [
    "# helper function to map and create cgpa bins\n",
    "def map_cgpa_bins_feature_names(function_transformer, feature_names_in):\n",
    "    features_out = feature_names_in.tolist()\n",
    "    features_out.extend([\"cgpa_range\"])\n",
    "    return features_out\n",
    "\n",
    "\n",
    "def map_cgpa_bins_fn(df):\n",
    "    if not isinstance(df, pd.DataFrame):\n",
    "        raise ValueError(\"map_cgpa_bins_fn : Input must be a pandas DataFrame\")\n",
    "    df_copy = df.copy()\n",
    "    # default value\n",
    "    df_copy[\"cgpa_range\"] = \"gte_7\"\n",
    "    df_copy.loc[df_copy[\"cgpa\"].between(\n",
    "        0, 4, \"left\"), \"cgpa_range\"] = \"lt_4\"\n",
    "    df_copy.loc[df_copy[\"cgpa\"].between(\n",
    "        4, 7, \"left\"), \"cgpa_range\"] = \"4_to_7\"\n",
    "    return df_copy\n",
    "\n",
    "\n",
    "map_cgpa_bins = FunctionTransformer(\n",
    "    map_cgpa_bins_fn, feature_names_out=map_cgpa_bins_feature_names)\n",
    "\n",
    "\n",
    "def make_cgpa_encoder_fn(encoding=\"onehot\"):\n",
    "    encoder = OneHotEncoder(\n",
    "        sparse_output=False, handle_unknown=\"ignore\")\n",
    "\n",
    "    if encoding == \"ordinal\":\n",
    "        encoder = OrdinalEncoder(categories=[[\n",
    "            \"lt_4\", \"4_to_7\", \"gte_7\"\n",
    "        ]], handle_unknown=\"use_encoded_value\", unknown_value=-1)\n",
    "\n",
    "    return ColumnTransformer(\n",
    "        [(\"encode_cgpa_range\", encoder, [\"cgpa_range\"])]\n",
    "    )\n",
    "\n",
    "\n",
    "cgpa_pipeline = Pipeline(\n",
    "    [(\"default_num_pipeline\", default_num_pipeline),\n",
    "     (\"map_cgpa_bins\", map_cgpa_bins),\n",
    "     (\"encode_cgpa\", make_cgpa_encoder_fn(encoding=\"onehot\"))]\n",
    ")\n",
    "\n",
    "preprocess_cgpa = ColumnTransformer(\n",
    "    [\n",
    "        (\"cgpa_pipeline\", cgpa_pipeline, [\"cgpa\"]),\n",
    "    ]\n",
    ")\n",
    "\n",
    "\n",
    "temp = preprocess_cgpa.fit_transform(X_train)\n",
    "preprocess_cgpa.get_feature_names_out()"
   ]
  },
  {
   "cell_type": "code",
   "execution_count": 251,
   "id": "07898cc0",
   "metadata": {},
   "outputs": [
    {
     "data": {
      "text/plain": [
       "array([[1., 0., 0.],\n",
       "       [1., 0., 0.],\n",
       "       [0., 1., 0.],\n",
       "       ...,\n",
       "       [1., 0., 0.],\n",
       "       [0., 1., 0.],\n",
       "       [0., 1., 0.]], shape=(22320, 3))"
      ]
     },
     "execution_count": 251,
     "metadata": {},
     "output_type": "execute_result"
    }
   ],
   "source": [
    "temp"
   ]
  },
  {
   "cell_type": "code",
   "execution_count": 252,
   "id": "af641af9",
   "metadata": {},
   "outputs": [
    {
     "data": {
      "application/vnd.microsoft.datawrangler.viewer.v0+json": {
       "columns": [
        {
         "name": "index",
         "rawType": "int64",
         "type": "integer"
        },
        {
         "name": "age",
         "rawType": "float64",
         "type": "float"
        },
        {
         "name": "academic_pressure",
         "rawType": "float64",
         "type": "float"
        },
        {
         "name": "work_pressure",
         "rawType": "float64",
         "type": "float"
        },
        {
         "name": "cgpa",
         "rawType": "float64",
         "type": "float"
        },
        {
         "name": "study_satisfaction",
         "rawType": "float64",
         "type": "float"
        },
        {
         "name": "job_satisfaction",
         "rawType": "float64",
         "type": "float"
        },
        {
         "name": "work_study_hours",
         "rawType": "float64",
         "type": "float"
        },
        {
         "name": "financial_stress",
         "rawType": "float64",
         "type": "float"
        },
        {
         "name": "age_range",
         "rawType": "object",
         "type": "string"
        },
        {
         "name": "cgpa_range",
         "rawType": "object",
         "type": "string"
        }
       ],
       "conversionMethod": "pd.DataFrame",
       "ref": "e2aba9a1-4f8a-4280-8259-44a05165b61d",
       "rows": [
        [
         "0",
         "18.0",
         "4.0",
         "0.0",
         "6.02",
         "1.0",
         "0.0",
         "3.0",
         "5.0",
         "18_to_23",
         "4_to_7"
        ],
        [
         "1",
         "25.0",
         "3.0",
         "0.0",
         "6.37",
         "2.0",
         "0.0",
         "9.0",
         "1.0",
         "23_to_28",
         "4_to_7"
        ],
        [
         "2",
         "30.0",
         "3.0",
         "0.0",
         "9.24",
         "2.0",
         "0.0",
         "5.0",
         "5.0",
         "28_to_33",
         "gte_7"
        ],
        [
         "3",
         "34.0",
         "3.0",
         "0.0",
         "7.37",
         "5.0",
         "0.0",
         "12.0",
         "3.0",
         "gte_33",
         "gte_7"
        ],
        [
         "4",
         "25.0",
         "3.0",
         "0.0",
         "7.47",
         "4.0",
         "0.0",
         "11.0",
         "5.0",
         "23_to_28",
         "gte_7"
        ]
       ],
       "shape": {
        "columns": 10,
        "rows": 5
       }
      },
      "text/html": [
       "<div>\n",
       "<style scoped>\n",
       "    .dataframe tbody tr th:only-of-type {\n",
       "        vertical-align: middle;\n",
       "    }\n",
       "\n",
       "    .dataframe tbody tr th {\n",
       "        vertical-align: top;\n",
       "    }\n",
       "\n",
       "    .dataframe thead th {\n",
       "        text-align: right;\n",
       "    }\n",
       "</style>\n",
       "<table border=\"1\" class=\"dataframe\">\n",
       "  <thead>\n",
       "    <tr style=\"text-align: right;\">\n",
       "      <th></th>\n",
       "      <th>age</th>\n",
       "      <th>academic_pressure</th>\n",
       "      <th>work_pressure</th>\n",
       "      <th>cgpa</th>\n",
       "      <th>study_satisfaction</th>\n",
       "      <th>job_satisfaction</th>\n",
       "      <th>work_study_hours</th>\n",
       "      <th>financial_stress</th>\n",
       "      <th>age_range</th>\n",
       "      <th>cgpa_range</th>\n",
       "    </tr>\n",
       "  </thead>\n",
       "  <tbody>\n",
       "    <tr>\n",
       "      <th>0</th>\n",
       "      <td>18.0</td>\n",
       "      <td>4.0</td>\n",
       "      <td>0.0</td>\n",
       "      <td>6.02</td>\n",
       "      <td>1.0</td>\n",
       "      <td>0.0</td>\n",
       "      <td>3.0</td>\n",
       "      <td>5.0</td>\n",
       "      <td>18_to_23</td>\n",
       "      <td>4_to_7</td>\n",
       "    </tr>\n",
       "    <tr>\n",
       "      <th>1</th>\n",
       "      <td>25.0</td>\n",
       "      <td>3.0</td>\n",
       "      <td>0.0</td>\n",
       "      <td>6.37</td>\n",
       "      <td>2.0</td>\n",
       "      <td>0.0</td>\n",
       "      <td>9.0</td>\n",
       "      <td>1.0</td>\n",
       "      <td>23_to_28</td>\n",
       "      <td>4_to_7</td>\n",
       "    </tr>\n",
       "    <tr>\n",
       "      <th>2</th>\n",
       "      <td>30.0</td>\n",
       "      <td>3.0</td>\n",
       "      <td>0.0</td>\n",
       "      <td>9.24</td>\n",
       "      <td>2.0</td>\n",
       "      <td>0.0</td>\n",
       "      <td>5.0</td>\n",
       "      <td>5.0</td>\n",
       "      <td>28_to_33</td>\n",
       "      <td>gte_7</td>\n",
       "    </tr>\n",
       "    <tr>\n",
       "      <th>3</th>\n",
       "      <td>34.0</td>\n",
       "      <td>3.0</td>\n",
       "      <td>0.0</td>\n",
       "      <td>7.37</td>\n",
       "      <td>5.0</td>\n",
       "      <td>0.0</td>\n",
       "      <td>12.0</td>\n",
       "      <td>3.0</td>\n",
       "      <td>gte_33</td>\n",
       "      <td>gte_7</td>\n",
       "    </tr>\n",
       "    <tr>\n",
       "      <th>4</th>\n",
       "      <td>25.0</td>\n",
       "      <td>3.0</td>\n",
       "      <td>0.0</td>\n",
       "      <td>7.47</td>\n",
       "      <td>4.0</td>\n",
       "      <td>0.0</td>\n",
       "      <td>11.0</td>\n",
       "      <td>5.0</td>\n",
       "      <td>23_to_28</td>\n",
       "      <td>gte_7</td>\n",
       "    </tr>\n",
       "  </tbody>\n",
       "</table>\n",
       "</div>"
      ],
      "text/plain": [
       "    age  academic_pressure  work_pressure  cgpa  study_satisfaction  \\\n",
       "0  18.0                4.0            0.0  6.02                 1.0   \n",
       "1  25.0                3.0            0.0  6.37                 2.0   \n",
       "2  30.0                3.0            0.0  9.24                 2.0   \n",
       "3  34.0                3.0            0.0  7.37                 5.0   \n",
       "4  25.0                3.0            0.0  7.47                 4.0   \n",
       "\n",
       "   job_satisfaction  work_study_hours  financial_stress age_range cgpa_range  \n",
       "0               0.0               3.0               5.0  18_to_23     4_to_7  \n",
       "1               0.0               9.0               1.0  23_to_28     4_to_7  \n",
       "2               0.0               5.0               5.0  28_to_33      gte_7  \n",
       "3               0.0              12.0               3.0    gte_33      gte_7  \n",
       "4               0.0              11.0               5.0  23_to_28      gte_7  "
      ]
     },
     "execution_count": 252,
     "metadata": {},
     "output_type": "execute_result"
    }
   ],
   "source": [
    "## updating numerical data with cgpa bins\n",
    "numerical_data = map_cgpa_bins_fn(numerical_data)\n",
    "numerical_data.head()"
   ]
  },
  {
   "cell_type": "markdown",
   "id": "31ee5d8a",
   "metadata": {},
   "source": [
    "### Preprocessing Work Study Hours"
   ]
  },
  {
   "cell_type": "code",
   "execution_count": 253,
   "id": "9cc65a15",
   "metadata": {},
   "outputs": [
    {
     "data": {
      "text/plain": [
       "count    22320.000000\n",
       "mean         7.161514\n",
       "std          3.705939\n",
       "min          0.000000\n",
       "25%          4.000000\n",
       "50%          8.000000\n",
       "75%         10.000000\n",
       "max         12.000000\n",
       "Name: work_study_hours, dtype: float64"
      ]
     },
     "execution_count": 253,
     "metadata": {},
     "output_type": "execute_result"
    }
   ],
   "source": [
    "numerical_data[\"work_study_hours\"].describe()"
   ]
  },
  {
   "cell_type": "code",
   "execution_count": 254,
   "id": "7362af32",
   "metadata": {},
   "outputs": [
    {
     "data": {
      "text/plain": [
       "work_study_hours\n",
       "10.0    3358\n",
       "12.0    2543\n",
       "11.0    2325\n",
       "8.0     2036\n",
       "6.0     1792\n",
       "9.0     1634\n",
       "7.0     1584\n",
       "0.0     1343\n",
       "4.0     1291\n",
       "2.0     1272\n",
       "3.0     1167\n",
       "5.0     1039\n",
       "1.0      936\n",
       "Name: count, dtype: int64"
      ]
     },
     "execution_count": 254,
     "metadata": {},
     "output_type": "execute_result"
    }
   ],
   "source": [
    "numerical_data[\"work_study_hours\"].value_counts()"
   ]
  },
  {
   "cell_type": "markdown",
   "id": "477e8557",
   "metadata": {},
   "source": [
    "* We'll create following bins for work_study_hours\n",
    "    * Less than 4 hours - lt_4\n",
    "    * 4 to 8 hours - 4_to_8\n",
    "    * greater than or equal to 8 hours - gte_8"
   ]
  },
  {
   "cell_type": "code",
   "execution_count": 256,
   "id": "e177b75a",
   "metadata": {},
   "outputs": [
    {
     "data": {
      "text/plain": [
       "array(['hours_pipeline__encode_hours_range__hours_range_4_to_8',\n",
       "       'hours_pipeline__encode_hours_range__hours_range_gte_8',\n",
       "       'hours_pipeline__encode_hours_range__hours_range_lt_4'],\n",
       "      dtype=object)"
      ]
     },
     "execution_count": 256,
     "metadata": {},
     "output_type": "execute_result"
    }
   ],
   "source": [
    "# helper function to map and create hours bins\n",
    "def map_hours_bins_feature_names(function_transformer, feature_names_in):\n",
    "    features_out = feature_names_in.tolist()\n",
    "    features_out.extend([\"hours_range\"])\n",
    "    return features_out\n",
    "\n",
    "def map_hours_bins_fn(df):\n",
    "    if not isinstance(df, pd.DataFrame):\n",
    "        raise ValueError(\"map_hours_bins_fn : Input must be a pandas DataFrame\")\n",
    "    df_copy = df.copy()\n",
    "    # default value\n",
    "    df_copy[\"hours_range\"] = \"gte_8\"\n",
    "    df_copy.loc[df_copy[\"work_study_hours\"].between(\n",
    "        0, 4, \"left\"), \"hours_range\"] = \"lt_4\"\n",
    "    df_copy.loc[df_copy[\"work_study_hours\"].between(\n",
    "        4, 8, \"left\"), \"hours_range\"] = \"4_to_8\"\n",
    "    return df_copy\n",
    "\n",
    "\n",
    "map_hours_bins = FunctionTransformer(\n",
    "    map_hours_bins_fn, feature_names_out=map_hours_bins_feature_names)\n",
    "\n",
    "\n",
    "def make_hours_encoder_fn(encoding=\"onehot\"):\n",
    "    encoder = OneHotEncoder(\n",
    "        sparse_output=False, handle_unknown=\"ignore\")\n",
    "\n",
    "    if encoding == \"ordinal\":\n",
    "        encoder = OrdinalEncoder(categories=[[\n",
    "            \"lt_4\", \"4_to_8\", \"gte_8\"\n",
    "        ]], handle_unknown=\"use_encoded_value\", unknown_value=-1)\n",
    "\n",
    "    return ColumnTransformer(\n",
    "        [(\"encode_hours_range\", encoder, [\"hours_range\"])]\n",
    "    )\n",
    "\n",
    "\n",
    "hours_pipeline = Pipeline(\n",
    "    [(\"default_num_pipeline\", default_num_pipeline),\n",
    "     (\"map_hours_bins\", map_hours_bins),\n",
    "     (\"encode_hours\", make_hours_encoder_fn(encoding=\"onehot\"))]\n",
    ")\n",
    "\n",
    "preprocess_hours = ColumnTransformer(\n",
    "    [\n",
    "        (\"hours_pipeline\", hours_pipeline, [\"work_study_hours\"]),\n",
    "    ]\n",
    ")\n",
    "\n",
    "\n",
    "temp = preprocess_hours.fit_transform(X_train)\n",
    "preprocess_hours.get_feature_names_out()"
   ]
  },
  {
   "cell_type": "code",
   "execution_count": 257,
   "id": "ba7efca6",
   "metadata": {},
   "outputs": [
    {
     "data": {
      "application/vnd.microsoft.datawrangler.viewer.v0+json": {
       "columns": [
        {
         "name": "index",
         "rawType": "int64",
         "type": "integer"
        },
        {
         "name": "age",
         "rawType": "float64",
         "type": "float"
        },
        {
         "name": "academic_pressure",
         "rawType": "float64",
         "type": "float"
        },
        {
         "name": "work_pressure",
         "rawType": "float64",
         "type": "float"
        },
        {
         "name": "cgpa",
         "rawType": "float64",
         "type": "float"
        },
        {
         "name": "study_satisfaction",
         "rawType": "float64",
         "type": "float"
        },
        {
         "name": "job_satisfaction",
         "rawType": "float64",
         "type": "float"
        },
        {
         "name": "work_study_hours",
         "rawType": "float64",
         "type": "float"
        },
        {
         "name": "financial_stress",
         "rawType": "float64",
         "type": "float"
        },
        {
         "name": "age_range",
         "rawType": "object",
         "type": "string"
        },
        {
         "name": "cgpa_range",
         "rawType": "object",
         "type": "string"
        },
        {
         "name": "hours_range",
         "rawType": "object",
         "type": "string"
        }
       ],
       "conversionMethod": "pd.DataFrame",
       "ref": "50153217-8acc-4246-9561-6ec610684d87",
       "rows": [
        [
         "0",
         "18.0",
         "4.0",
         "0.0",
         "6.02",
         "1.0",
         "0.0",
         "3.0",
         "5.0",
         "18_to_23",
         "4_to_7",
         "lt_4"
        ],
        [
         "1",
         "25.0",
         "3.0",
         "0.0",
         "6.37",
         "2.0",
         "0.0",
         "9.0",
         "1.0",
         "23_to_28",
         "4_to_7",
         "gte_8"
        ],
        [
         "2",
         "30.0",
         "3.0",
         "0.0",
         "9.24",
         "2.0",
         "0.0",
         "5.0",
         "5.0",
         "28_to_33",
         "gte_7",
         "4_to_8"
        ],
        [
         "3",
         "34.0",
         "3.0",
         "0.0",
         "7.37",
         "5.0",
         "0.0",
         "12.0",
         "3.0",
         "gte_33",
         "gte_7",
         "gte_8"
        ],
        [
         "4",
         "25.0",
         "3.0",
         "0.0",
         "7.47",
         "4.0",
         "0.0",
         "11.0",
         "5.0",
         "23_to_28",
         "gte_7",
         "gte_8"
        ]
       ],
       "shape": {
        "columns": 11,
        "rows": 5
       }
      },
      "text/html": [
       "<div>\n",
       "<style scoped>\n",
       "    .dataframe tbody tr th:only-of-type {\n",
       "        vertical-align: middle;\n",
       "    }\n",
       "\n",
       "    .dataframe tbody tr th {\n",
       "        vertical-align: top;\n",
       "    }\n",
       "\n",
       "    .dataframe thead th {\n",
       "        text-align: right;\n",
       "    }\n",
       "</style>\n",
       "<table border=\"1\" class=\"dataframe\">\n",
       "  <thead>\n",
       "    <tr style=\"text-align: right;\">\n",
       "      <th></th>\n",
       "      <th>age</th>\n",
       "      <th>academic_pressure</th>\n",
       "      <th>work_pressure</th>\n",
       "      <th>cgpa</th>\n",
       "      <th>study_satisfaction</th>\n",
       "      <th>job_satisfaction</th>\n",
       "      <th>work_study_hours</th>\n",
       "      <th>financial_stress</th>\n",
       "      <th>age_range</th>\n",
       "      <th>cgpa_range</th>\n",
       "      <th>hours_range</th>\n",
       "    </tr>\n",
       "  </thead>\n",
       "  <tbody>\n",
       "    <tr>\n",
       "      <th>0</th>\n",
       "      <td>18.0</td>\n",
       "      <td>4.0</td>\n",
       "      <td>0.0</td>\n",
       "      <td>6.02</td>\n",
       "      <td>1.0</td>\n",
       "      <td>0.0</td>\n",
       "      <td>3.0</td>\n",
       "      <td>5.0</td>\n",
       "      <td>18_to_23</td>\n",
       "      <td>4_to_7</td>\n",
       "      <td>lt_4</td>\n",
       "    </tr>\n",
       "    <tr>\n",
       "      <th>1</th>\n",
       "      <td>25.0</td>\n",
       "      <td>3.0</td>\n",
       "      <td>0.0</td>\n",
       "      <td>6.37</td>\n",
       "      <td>2.0</td>\n",
       "      <td>0.0</td>\n",
       "      <td>9.0</td>\n",
       "      <td>1.0</td>\n",
       "      <td>23_to_28</td>\n",
       "      <td>4_to_7</td>\n",
       "      <td>gte_8</td>\n",
       "    </tr>\n",
       "    <tr>\n",
       "      <th>2</th>\n",
       "      <td>30.0</td>\n",
       "      <td>3.0</td>\n",
       "      <td>0.0</td>\n",
       "      <td>9.24</td>\n",
       "      <td>2.0</td>\n",
       "      <td>0.0</td>\n",
       "      <td>5.0</td>\n",
       "      <td>5.0</td>\n",
       "      <td>28_to_33</td>\n",
       "      <td>gte_7</td>\n",
       "      <td>4_to_8</td>\n",
       "    </tr>\n",
       "    <tr>\n",
       "      <th>3</th>\n",
       "      <td>34.0</td>\n",
       "      <td>3.0</td>\n",
       "      <td>0.0</td>\n",
       "      <td>7.37</td>\n",
       "      <td>5.0</td>\n",
       "      <td>0.0</td>\n",
       "      <td>12.0</td>\n",
       "      <td>3.0</td>\n",
       "      <td>gte_33</td>\n",
       "      <td>gte_7</td>\n",
       "      <td>gte_8</td>\n",
       "    </tr>\n",
       "    <tr>\n",
       "      <th>4</th>\n",
       "      <td>25.0</td>\n",
       "      <td>3.0</td>\n",
       "      <td>0.0</td>\n",
       "      <td>7.47</td>\n",
       "      <td>4.0</td>\n",
       "      <td>0.0</td>\n",
       "      <td>11.0</td>\n",
       "      <td>5.0</td>\n",
       "      <td>23_to_28</td>\n",
       "      <td>gte_7</td>\n",
       "      <td>gte_8</td>\n",
       "    </tr>\n",
       "  </tbody>\n",
       "</table>\n",
       "</div>"
      ],
      "text/plain": [
       "    age  academic_pressure  work_pressure  cgpa  study_satisfaction  \\\n",
       "0  18.0                4.0            0.0  6.02                 1.0   \n",
       "1  25.0                3.0            0.0  6.37                 2.0   \n",
       "2  30.0                3.0            0.0  9.24                 2.0   \n",
       "3  34.0                3.0            0.0  7.37                 5.0   \n",
       "4  25.0                3.0            0.0  7.47                 4.0   \n",
       "\n",
       "   job_satisfaction  work_study_hours  financial_stress age_range cgpa_range  \\\n",
       "0               0.0               3.0               5.0  18_to_23     4_to_7   \n",
       "1               0.0               9.0               1.0  23_to_28     4_to_7   \n",
       "2               0.0               5.0               5.0  28_to_33      gte_7   \n",
       "3               0.0              12.0               3.0    gte_33      gte_7   \n",
       "4               0.0              11.0               5.0  23_to_28      gte_7   \n",
       "\n",
       "  hours_range  \n",
       "0        lt_4  \n",
       "1       gte_8  \n",
       "2      4_to_8  \n",
       "3       gte_8  \n",
       "4       gte_8  "
      ]
     },
     "execution_count": 257,
     "metadata": {},
     "output_type": "execute_result"
    }
   ],
   "source": [
    "numerical_data = map_hours_bins_fn(numerical_data)\n",
    "numerical_data.head()"
   ]
  },
  {
   "cell_type": "markdown",
   "id": "e86698a1",
   "metadata": {},
   "source": [
    "### Preprocessing Rating Columns\n",
    "* `academic_pressure`, `study_satisfaction` and `financial_stress` are ratings form 1 to 5, so we can group the preprocessing of these columns togather. "
   ]
  },
  {
   "cell_type": "code",
   "execution_count": 258,
   "id": "1617439e",
   "metadata": {},
   "outputs": [
    {
     "data": {
      "text/plain": [
       "academic_pressure\n",
       "3.0    5996\n",
       "5.0    5021\n",
       "4.0    4152\n",
       "1.0    3800\n",
       "2.0    3344\n",
       "0.0       7\n",
       "Name: count, dtype: int64"
      ]
     },
     "execution_count": 258,
     "metadata": {},
     "output_type": "execute_result"
    }
   ],
   "source": [
    "numerical_data[\"academic_pressure\"].value_counts()"
   ]
  },
  {
   "cell_type": "code",
   "execution_count": 259,
   "id": "0b0f15bd",
   "metadata": {},
   "outputs": [
    {
     "data": {
      "text/plain": [
       "count    22320.000000\n",
       "mean         3.144668\n",
       "std          1.377913\n",
       "min          0.000000\n",
       "25%          2.000000\n",
       "50%          3.000000\n",
       "75%          4.000000\n",
       "max          5.000000\n",
       "Name: academic_pressure, dtype: float64"
      ]
     },
     "execution_count": 259,
     "metadata": {},
     "output_type": "execute_result"
    }
   ],
   "source": [
    "numerical_data[\"academic_pressure\"].describe()"
   ]
  },
  {
   "cell_type": "code",
   "execution_count": 266,
   "id": "abe14162",
   "metadata": {},
   "outputs": [
    {
     "data": {
      "text/plain": [
       "study_satisfaction\n",
       "4.0    5053\n",
       "3.0    4705\n",
       "2.0    4648\n",
       "1.0    4374\n",
       "5.0    3532\n",
       "0.0       8\n",
       "Name: count, dtype: int64"
      ]
     },
     "execution_count": 266,
     "metadata": {},
     "output_type": "execute_result"
    }
   ],
   "source": [
    "numerical_data[\"study_satisfaction\"].value_counts(\n",
    ")"
   ]
  },
  {
   "cell_type": "code",
   "execution_count": 267,
   "id": "f08e07f4",
   "metadata": {},
   "outputs": [
    {
     "data": {
      "text/plain": [
       "count    22320.000000\n",
       "mean         2.941622\n",
       "std          1.360654\n",
       "min          0.000000\n",
       "25%          2.000000\n",
       "50%          3.000000\n",
       "75%          4.000000\n",
       "max          5.000000\n",
       "Name: study_satisfaction, dtype: float64"
      ]
     },
     "execution_count": 267,
     "metadata": {},
     "output_type": "execute_result"
    }
   ],
   "source": [
    "numerical_data[\"study_satisfaction\"].describe()"
   ]
  },
  {
   "cell_type": "code",
   "execution_count": 268,
   "id": "993ed0ab",
   "metadata": {},
   "outputs": [
    {
     "data": {
      "text/plain": [
       "financial_stress\n",
       "5.0    5321\n",
       "4.0    4645\n",
       "3.0    4200\n",
       "1.0    4119\n",
       "2.0    4033\n",
       "Name: count, dtype: int64"
      ]
     },
     "execution_count": 268,
     "metadata": {},
     "output_type": "execute_result"
    }
   ],
   "source": [
    "numerical_data[\"financial_stress\"].value_counts()"
   ]
  },
  {
   "cell_type": "code",
   "execution_count": 269,
   "id": "794a150e",
   "metadata": {},
   "outputs": [
    {
     "data": {
      "text/plain": [
       "count    22318.000000\n",
       "mean         3.135138\n",
       "std          1.436166\n",
       "min          1.000000\n",
       "25%          2.000000\n",
       "50%          3.000000\n",
       "75%          4.000000\n",
       "max          5.000000\n",
       "Name: financial_stress, dtype: float64"
      ]
     },
     "execution_count": 269,
     "metadata": {},
     "output_type": "execute_result"
    }
   ],
   "source": [
    "numerical_data[\"financial_stress\"].describe()"
   ]
  },
  {
   "cell_type": "markdown",
   "id": "5ef3980e",
   "metadata": {},
   "source": [
    "* For academic pressure, we'll simply impute the values and scale them.\n",
    "* We can actually combine `academic_pressure`, `study_satisfaction` and `financial_pressure` into a single pipeline, since the transformers needed for all three are same. "
   ]
  },
  {
   "cell_type": "code",
   "execution_count": 270,
   "id": "1e197007",
   "metadata": {},
   "outputs": [
    {
     "data": {
      "text/plain": [
       "array(['academic_pressure_pipeline__academic_pressure',\n",
       "       'academic_pressure_pipeline__study_satisfaction',\n",
       "       'academic_pressure_pipeline__financial_stress'], dtype=object)"
      ]
     },
     "execution_count": 270,
     "metadata": {},
     "output_type": "execute_result"
    }
   ],
   "source": [
    "rating_columns_pipeline = Pipeline([\n",
    "    (\"default_num_pipeline\", default_num_pipeline),\n",
    "    (\"scale_rating_columns\", StandardScaler())\n",
    "])\n",
    "\n",
    "rating_columns_pipeline.set_output(transform=\"pandas\")\n",
    "\n",
    "preprocess_rating_coluns = ColumnTransformer([\n",
    "    (\"academic_pressure_pipeline\", rating_columns_pipeline, [\"academic_pressure\",\"study_satisfaction\",\"financial_stress\"])    \n",
    "])\n",
    "\n",
    "temp = preprocess_rating_coluns.fit_transform(X_train)\n",
    "preprocess_rating_coluns.get_feature_names_out()"
   ]
  },
  {
   "cell_type": "code",
   "execution_count": 271,
   "id": "fd3868b9",
   "metadata": {},
   "outputs": [
    {
     "data": {
      "text/plain": [
       "array([[ 0.62075795, -1.42700892,  1.29859598],\n",
       "       [-0.10499332, -0.69205175, -1.48678382],\n",
       "       [-0.10499332, -0.69205175,  1.29859598],\n",
       "       ...,\n",
       "       [-0.10499332, -1.42700892,  0.60225103],\n",
       "       [ 0.62075795, -0.69205175, -0.09409392],\n",
       "       [ 0.62075795,  1.51281978,  0.60225103]], shape=(22320, 3))"
      ]
     },
     "execution_count": 271,
     "metadata": {},
     "output_type": "execute_result"
    }
   ],
   "source": [
    "temp"
   ]
  },
  {
   "cell_type": "code",
   "execution_count": null,
   "id": "3a25d5c4",
   "metadata": {},
   "outputs": [],
   "source": []
  }
 ],
 "metadata": {
  "kernelspec": {
   "display_name": "venv",
   "language": "python",
   "name": "python3"
  },
  "language_info": {
   "codemirror_mode": {
    "name": "ipython",
    "version": 3
   },
   "file_extension": ".py",
   "mimetype": "text/x-python",
   "name": "python",
   "nbconvert_exporter": "python",
   "pygments_lexer": "ipython3",
   "version": "3.12.9"
  }
 },
 "nbformat": 4,
 "nbformat_minor": 5
}
