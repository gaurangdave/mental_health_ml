{
 "cells": [
  {
   "cell_type": "markdown",
   "id": "254fab10",
   "metadata": {},
   "source": [
    "* This notebook focuses on following tasks,\n",
    "    * Create train/test dataset.\n",
    "    * EDA.\n",
    "    * Feature Engineering.\n",
    "    * Planning next steps to create a prediction model and data analysis."
   ]
  },
  {
   "cell_type": "markdown",
   "id": "e21370ca",
   "metadata": {},
   "source": [
    "## Install Libraries"
   ]
  },
  {
   "cell_type": "code",
   "execution_count": null,
   "id": "82cd6b09",
   "metadata": {},
   "outputs": [
    {
     "name": "stdout",
     "output_type": "stream",
     "text": [
      "Requirement already satisfied: pandas in /home/gaurangdave/workspace/mental_health_ml/venv/lib/python3.12/site-packages (2.2.3)\n",
      "Requirement already satisfied: numpy in /home/gaurangdave/workspace/mental_health_ml/venv/lib/python3.12/site-packages (2.2.6)\n",
      "Requirement already satisfied: matplotlib in /home/gaurangdave/workspace/mental_health_ml/venv/lib/python3.12/site-packages (3.10.3)\n",
      "Requirement already satisfied: scikit-learn in /home/gaurangdave/workspace/mental_health_ml/venv/lib/python3.12/site-packages (1.6.1)\n",
      "Collecting seaborn\n",
      "  Using cached seaborn-0.13.2-py3-none-any.whl.metadata (5.4 kB)\n",
      "Requirement already satisfied: python-dateutil>=2.8.2 in /home/gaurangdave/workspace/mental_health_ml/venv/lib/python3.12/site-packages (from pandas) (2.9.0.post0)\n",
      "Requirement already satisfied: pytz>=2020.1 in /home/gaurangdave/workspace/mental_health_ml/venv/lib/python3.12/site-packages (from pandas) (2025.2)\n",
      "Requirement already satisfied: tzdata>=2022.7 in /home/gaurangdave/workspace/mental_health_ml/venv/lib/python3.12/site-packages (from pandas) (2025.2)\n",
      "Requirement already satisfied: contourpy>=1.0.1 in /home/gaurangdave/workspace/mental_health_ml/venv/lib/python3.12/site-packages (from matplotlib) (1.3.2)\n",
      "Requirement already satisfied: cycler>=0.10 in /home/gaurangdave/workspace/mental_health_ml/venv/lib/python3.12/site-packages (from matplotlib) (0.12.1)\n",
      "Requirement already satisfied: fonttools>=4.22.0 in /home/gaurangdave/workspace/mental_health_ml/venv/lib/python3.12/site-packages (from matplotlib) (4.58.1)\n",
      "Requirement already satisfied: kiwisolver>=1.3.1 in /home/gaurangdave/workspace/mental_health_ml/venv/lib/python3.12/site-packages (from matplotlib) (1.4.8)\n",
      "Requirement already satisfied: packaging>=20.0 in /home/gaurangdave/workspace/mental_health_ml/venv/lib/python3.12/site-packages (from matplotlib) (25.0)\n",
      "Requirement already satisfied: pillow>=8 in /home/gaurangdave/workspace/mental_health_ml/venv/lib/python3.12/site-packages (from matplotlib) (11.2.1)\n",
      "Requirement already satisfied: pyparsing>=2.3.1 in /home/gaurangdave/workspace/mental_health_ml/venv/lib/python3.12/site-packages (from matplotlib) (3.2.3)\n",
      "Requirement already satisfied: scipy>=1.6.0 in /home/gaurangdave/workspace/mental_health_ml/venv/lib/python3.12/site-packages (from scikit-learn) (1.15.3)\n",
      "Requirement already satisfied: joblib>=1.2.0 in /home/gaurangdave/workspace/mental_health_ml/venv/lib/python3.12/site-packages (from scikit-learn) (1.5.1)\n",
      "Requirement already satisfied: threadpoolctl>=3.1.0 in /home/gaurangdave/workspace/mental_health_ml/venv/lib/python3.12/site-packages (from scikit-learn) (3.6.0)\n",
      "Requirement already satisfied: six>=1.5 in /home/gaurangdave/workspace/mental_health_ml/venv/lib/python3.12/site-packages (from python-dateutil>=2.8.2->pandas) (1.17.0)\n",
      "Downloading seaborn-0.13.2-py3-none-any.whl (294 kB)\n",
      "Installing collected packages: seaborn\n",
      "Successfully installed seaborn-0.13.2\n",
      "Note: you may need to restart the kernel to use updated packages.\n"
     ]
    }
   ],
   "source": [
    "%pip install pandas\n",
    "%pip install numpy\n",
    "%pip install matplotlib\n",
    "%pip install scikit-learn\n",
    "%pip install seaborn"
   ]
  },
  {
   "cell_type": "markdown",
   "id": "0d02e2c2",
   "metadata": {},
   "source": [
    "## Import Libraries"
   ]
  },
  {
   "cell_type": "code",
   "execution_count": 37,
   "id": "8bde266d",
   "metadata": {},
   "outputs": [],
   "source": [
    "import pandas as pd\n",
    "import numpy as np\n",
    "import matplotlib as plt\n",
    "\n",
    "from pathlib import Path"
   ]
  },
  {
   "cell_type": "markdown",
   "id": "592615b4",
   "metadata": {},
   "source": [
    "## Initialize Helper Functions & Constants"
   ]
  },
  {
   "cell_type": "code",
   "execution_count": 38,
   "id": "98cb9a5a",
   "metadata": {},
   "outputs": [],
   "source": [
    "## root directory for all data files\n",
    "data_dir = Path(\"..\", \"data\")\n",
    "raw_data_file = Path(data_dir, \"student_depression_dataset.csv\")"
   ]
  },
  {
   "cell_type": "markdown",
   "id": "0771bda1",
   "metadata": {},
   "source": [
    "## Read Data"
   ]
  },
  {
   "cell_type": "code",
   "execution_count": 39,
   "id": "00d11431",
   "metadata": {},
   "outputs": [],
   "source": [
    "## read data from csv file\n",
    "data = pd.read_csv(raw_data_file)"
   ]
  },
  {
   "cell_type": "code",
   "execution_count": 40,
   "id": "65ac326e",
   "metadata": {},
   "outputs": [
    {
     "data": {
      "text/plain": [
       "(27901, 18)"
      ]
     },
     "execution_count": 40,
     "metadata": {},
     "output_type": "execute_result"
    }
   ],
   "source": [
    "## verify the data \n",
    "data.shape"
   ]
  },
  {
   "cell_type": "markdown",
   "id": "32a864e7",
   "metadata": {},
   "source": [
    "## Quick Look"
   ]
  },
  {
   "cell_type": "markdown",
   "id": "d44b241e",
   "metadata": {},
   "source": [
    "* Lets explore the data to,\n",
    "    * Check for missing data.\n",
    "    * Identify the column names and types.\n",
    "    * Identify the targer variable. "
   ]
  },
  {
   "cell_type": "markdown",
   "id": "a5c0652d",
   "metadata": {},
   "source": [
    "### Exploring Data Columns"
   ]
  },
  {
   "cell_type": "code",
   "execution_count": 41,
   "id": "12afa8db",
   "metadata": {},
   "outputs": [
    {
     "data": {
      "application/vnd.microsoft.datawrangler.viewer.v0+json": {
       "columns": [
        {
         "name": "index",
         "rawType": "object",
         "type": "string"
        },
        {
         "name": "0",
         "rawType": "object",
         "type": "unknown"
        }
       ],
       "ref": "c95ca08d-fc20-48f5-bdce-e1238d1a22d9",
       "rows": [
        [
         "id",
         "int64"
        ],
        [
         "Gender",
         "object"
        ],
        [
         "Age",
         "float64"
        ],
        [
         "City",
         "object"
        ],
        [
         "Profession",
         "object"
        ],
        [
         "Academic Pressure",
         "float64"
        ],
        [
         "Work Pressure",
         "float64"
        ],
        [
         "CGPA",
         "float64"
        ],
        [
         "Study Satisfaction",
         "float64"
        ],
        [
         "Job Satisfaction",
         "float64"
        ],
        [
         "Sleep Duration",
         "object"
        ],
        [
         "Dietary Habits",
         "object"
        ],
        [
         "Degree",
         "object"
        ],
        [
         "Have you ever had suicidal thoughts ?",
         "object"
        ],
        [
         "Work/Study Hours",
         "float64"
        ],
        [
         "Financial Stress",
         "object"
        ],
        [
         "Family History of Mental Illness",
         "object"
        ],
        [
         "Depression",
         "int64"
        ]
       ],
       "shape": {
        "columns": 1,
        "rows": 18
       }
      },
      "text/plain": [
       "id                                         int64\n",
       "Gender                                    object\n",
       "Age                                      float64\n",
       "City                                      object\n",
       "Profession                                object\n",
       "Academic Pressure                        float64\n",
       "Work Pressure                            float64\n",
       "CGPA                                     float64\n",
       "Study Satisfaction                       float64\n",
       "Job Satisfaction                         float64\n",
       "Sleep Duration                            object\n",
       "Dietary Habits                            object\n",
       "Degree                                    object\n",
       "Have you ever had suicidal thoughts ?     object\n",
       "Work/Study Hours                         float64\n",
       "Financial Stress                          object\n",
       "Family History of Mental Illness          object\n",
       "Depression                                 int64\n",
       "dtype: object"
      ]
     },
     "execution_count": 41,
     "metadata": {},
     "output_type": "execute_result"
    }
   ],
   "source": [
    "data.dtypes"
   ]
  },
  {
   "cell_type": "markdown",
   "id": "79bf72ff",
   "metadata": {},
   "source": [
    "* Looks like the `Depression` column is the target variable. \n",
    "* Before we confirm that lets change the column names to lower case and remove spaces for simplify management. "
   ]
  },
  {
   "cell_type": "markdown",
   "id": "24cc6cf9",
   "metadata": {},
   "source": [
    "#### Changing Column Names"
   ]
  },
  {
   "cell_type": "code",
   "execution_count": 42,
   "id": "54e14865",
   "metadata": {},
   "outputs": [
    {
     "data": {
      "text/plain": [
       "{'id': 'id',\n",
       " 'Gender': 'gender',\n",
       " 'Age': 'age',\n",
       " 'City': 'city',\n",
       " 'Profession': 'profession',\n",
       " 'Academic Pressure': 'academic_pressure',\n",
       " 'Work Pressure': 'work_pressure',\n",
       " 'CGPA': 'cgpa',\n",
       " 'Study Satisfaction': 'study_satisfaction',\n",
       " 'Job Satisfaction': 'job_satisfaction',\n",
       " 'Sleep Duration': 'sleep_duration',\n",
       " 'Dietary Habits': 'dietary_habits',\n",
       " 'Degree': 'degree',\n",
       " 'Have you ever had suicidal thoughts ?': 'have_you_ever_had_suicidal_thoughts_?',\n",
       " 'Work/Study Hours': 'work/study_hours',\n",
       " 'Financial Stress': 'financial_stress',\n",
       " 'Family History of Mental Illness': 'family_history_of_mental_illness',\n",
       " 'Depression': 'depression'}"
      ]
     },
     "execution_count": 42,
     "metadata": {},
     "output_type": "execute_result"
    }
   ],
   "source": [
    "column_mapping = {}\n",
    "\n",
    "for col in data.columns:\n",
    "    column_mapping[col] = \"_\".join(col.split(\" \")).lower()\n",
    "\n",
    "column_mapping"
   ]
  },
  {
   "cell_type": "code",
   "execution_count": 43,
   "id": "73433e74",
   "metadata": {},
   "outputs": [],
   "source": [
    "data.rename(columns={'id': 'id',\n",
    "                     'Gender': 'gender',\n",
    "                     'Age': 'age',\n",
    "                     'City': 'city',\n",
    "                     'Profession': 'profession',\n",
    "                     'Academic Pressure': 'academic_pressure',\n",
    "                     'Work Pressure': 'work_pressure',\n",
    "                     'CGPA': 'cgpa',\n",
    "                     'Study Satisfaction': 'study_satisfaction',\n",
    "                     'Job Satisfaction': 'job_satisfaction',\n",
    "                     'Sleep Duration': 'sleep_duration',\n",
    "                     'Dietary Habits': 'dietary_habits',\n",
    "                     'Degree': 'degree',\n",
    "                     'Have you ever had suicidal thoughts ?': 'suicidal_thoughts',\n",
    "                     'Work/Study Hours': 'work_study_hours',\n",
    "                     'Financial Stress': 'financial_stress',\n",
    "                     'Family History of Mental Illness': 'family_history',\n",
    "                     'Depression': 'depression'}, inplace=True)"
   ]
  },
  {
   "cell_type": "code",
   "execution_count": 44,
   "id": "6ea9125a",
   "metadata": {},
   "outputs": [
    {
     "data": {
      "application/vnd.microsoft.datawrangler.viewer.v0+json": {
       "columns": [
        {
         "name": "index",
         "rawType": "int64",
         "type": "integer"
        },
        {
         "name": "id",
         "rawType": "int64",
         "type": "integer"
        },
        {
         "name": "gender",
         "rawType": "object",
         "type": "string"
        },
        {
         "name": "age",
         "rawType": "float64",
         "type": "float"
        },
        {
         "name": "city",
         "rawType": "object",
         "type": "string"
        },
        {
         "name": "profession",
         "rawType": "object",
         "type": "string"
        },
        {
         "name": "academic_pressure",
         "rawType": "float64",
         "type": "float"
        },
        {
         "name": "work_pressure",
         "rawType": "float64",
         "type": "float"
        },
        {
         "name": "cgpa",
         "rawType": "float64",
         "type": "float"
        },
        {
         "name": "study_satisfaction",
         "rawType": "float64",
         "type": "float"
        },
        {
         "name": "job_satisfaction",
         "rawType": "float64",
         "type": "float"
        },
        {
         "name": "sleep_duration",
         "rawType": "object",
         "type": "string"
        },
        {
         "name": "dietary_habits",
         "rawType": "object",
         "type": "string"
        },
        {
         "name": "degree",
         "rawType": "object",
         "type": "string"
        },
        {
         "name": "suicidal_thoughts",
         "rawType": "object",
         "type": "string"
        },
        {
         "name": "work_study_hours",
         "rawType": "float64",
         "type": "float"
        },
        {
         "name": "financial_stress",
         "rawType": "object",
         "type": "string"
        },
        {
         "name": "family_history",
         "rawType": "object",
         "type": "string"
        },
        {
         "name": "depression",
         "rawType": "int64",
         "type": "integer"
        }
       ],
       "ref": "96c28a03-32ce-4c03-a950-fb6fc0d3d0f2",
       "rows": [
        [
         "0",
         "2",
         "Male",
         "33.0",
         "Visakhapatnam",
         "Student",
         "5.0",
         "0.0",
         "8.97",
         "2.0",
         "0.0",
         "'5-6 hours'",
         "Healthy",
         "B.Pharm",
         "Yes",
         "3.0",
         "1.0",
         "No",
         "1"
        ],
        [
         "1",
         "8",
         "Female",
         "24.0",
         "Bangalore",
         "Student",
         "2.0",
         "0.0",
         "5.9",
         "5.0",
         "0.0",
         "'5-6 hours'",
         "Moderate",
         "BSc",
         "No",
         "3.0",
         "2.0",
         "Yes",
         "0"
        ],
        [
         "2",
         "26",
         "Male",
         "31.0",
         "Srinagar",
         "Student",
         "3.0",
         "0.0",
         "7.03",
         "5.0",
         "0.0",
         "'Less than 5 hours'",
         "Healthy",
         "BA",
         "No",
         "9.0",
         "1.0",
         "Yes",
         "0"
        ],
        [
         "3",
         "30",
         "Female",
         "28.0",
         "Varanasi",
         "Student",
         "3.0",
         "0.0",
         "5.59",
         "2.0",
         "0.0",
         "'7-8 hours'",
         "Moderate",
         "BCA",
         "Yes",
         "4.0",
         "5.0",
         "Yes",
         "1"
        ],
        [
         "4",
         "32",
         "Female",
         "25.0",
         "Jaipur",
         "Student",
         "4.0",
         "0.0",
         "8.13",
         "3.0",
         "0.0",
         "'5-6 hours'",
         "Moderate",
         "M.Tech",
         "Yes",
         "1.0",
         "1.0",
         "No",
         "0"
        ]
       ],
       "shape": {
        "columns": 18,
        "rows": 5
       }
      },
      "text/html": [
       "<div>\n",
       "<style scoped>\n",
       "    .dataframe tbody tr th:only-of-type {\n",
       "        vertical-align: middle;\n",
       "    }\n",
       "\n",
       "    .dataframe tbody tr th {\n",
       "        vertical-align: top;\n",
       "    }\n",
       "\n",
       "    .dataframe thead th {\n",
       "        text-align: right;\n",
       "    }\n",
       "</style>\n",
       "<table border=\"1\" class=\"dataframe\">\n",
       "  <thead>\n",
       "    <tr style=\"text-align: right;\">\n",
       "      <th></th>\n",
       "      <th>id</th>\n",
       "      <th>gender</th>\n",
       "      <th>age</th>\n",
       "      <th>city</th>\n",
       "      <th>profession</th>\n",
       "      <th>academic_pressure</th>\n",
       "      <th>work_pressure</th>\n",
       "      <th>cgpa</th>\n",
       "      <th>study_satisfaction</th>\n",
       "      <th>job_satisfaction</th>\n",
       "      <th>sleep_duration</th>\n",
       "      <th>dietary_habits</th>\n",
       "      <th>degree</th>\n",
       "      <th>suicidal_thoughts</th>\n",
       "      <th>work_study_hours</th>\n",
       "      <th>financial_stress</th>\n",
       "      <th>family_history</th>\n",
       "      <th>depression</th>\n",
       "    </tr>\n",
       "  </thead>\n",
       "  <tbody>\n",
       "    <tr>\n",
       "      <th>0</th>\n",
       "      <td>2</td>\n",
       "      <td>Male</td>\n",
       "      <td>33.0</td>\n",
       "      <td>Visakhapatnam</td>\n",
       "      <td>Student</td>\n",
       "      <td>5.0</td>\n",
       "      <td>0.0</td>\n",
       "      <td>8.97</td>\n",
       "      <td>2.0</td>\n",
       "      <td>0.0</td>\n",
       "      <td>'5-6 hours'</td>\n",
       "      <td>Healthy</td>\n",
       "      <td>B.Pharm</td>\n",
       "      <td>Yes</td>\n",
       "      <td>3.0</td>\n",
       "      <td>1.0</td>\n",
       "      <td>No</td>\n",
       "      <td>1</td>\n",
       "    </tr>\n",
       "    <tr>\n",
       "      <th>1</th>\n",
       "      <td>8</td>\n",
       "      <td>Female</td>\n",
       "      <td>24.0</td>\n",
       "      <td>Bangalore</td>\n",
       "      <td>Student</td>\n",
       "      <td>2.0</td>\n",
       "      <td>0.0</td>\n",
       "      <td>5.90</td>\n",
       "      <td>5.0</td>\n",
       "      <td>0.0</td>\n",
       "      <td>'5-6 hours'</td>\n",
       "      <td>Moderate</td>\n",
       "      <td>BSc</td>\n",
       "      <td>No</td>\n",
       "      <td>3.0</td>\n",
       "      <td>2.0</td>\n",
       "      <td>Yes</td>\n",
       "      <td>0</td>\n",
       "    </tr>\n",
       "    <tr>\n",
       "      <th>2</th>\n",
       "      <td>26</td>\n",
       "      <td>Male</td>\n",
       "      <td>31.0</td>\n",
       "      <td>Srinagar</td>\n",
       "      <td>Student</td>\n",
       "      <td>3.0</td>\n",
       "      <td>0.0</td>\n",
       "      <td>7.03</td>\n",
       "      <td>5.0</td>\n",
       "      <td>0.0</td>\n",
       "      <td>'Less than 5 hours'</td>\n",
       "      <td>Healthy</td>\n",
       "      <td>BA</td>\n",
       "      <td>No</td>\n",
       "      <td>9.0</td>\n",
       "      <td>1.0</td>\n",
       "      <td>Yes</td>\n",
       "      <td>0</td>\n",
       "    </tr>\n",
       "    <tr>\n",
       "      <th>3</th>\n",
       "      <td>30</td>\n",
       "      <td>Female</td>\n",
       "      <td>28.0</td>\n",
       "      <td>Varanasi</td>\n",
       "      <td>Student</td>\n",
       "      <td>3.0</td>\n",
       "      <td>0.0</td>\n",
       "      <td>5.59</td>\n",
       "      <td>2.0</td>\n",
       "      <td>0.0</td>\n",
       "      <td>'7-8 hours'</td>\n",
       "      <td>Moderate</td>\n",
       "      <td>BCA</td>\n",
       "      <td>Yes</td>\n",
       "      <td>4.0</td>\n",
       "      <td>5.0</td>\n",
       "      <td>Yes</td>\n",
       "      <td>1</td>\n",
       "    </tr>\n",
       "    <tr>\n",
       "      <th>4</th>\n",
       "      <td>32</td>\n",
       "      <td>Female</td>\n",
       "      <td>25.0</td>\n",
       "      <td>Jaipur</td>\n",
       "      <td>Student</td>\n",
       "      <td>4.0</td>\n",
       "      <td>0.0</td>\n",
       "      <td>8.13</td>\n",
       "      <td>3.0</td>\n",
       "      <td>0.0</td>\n",
       "      <td>'5-6 hours'</td>\n",
       "      <td>Moderate</td>\n",
       "      <td>M.Tech</td>\n",
       "      <td>Yes</td>\n",
       "      <td>1.0</td>\n",
       "      <td>1.0</td>\n",
       "      <td>No</td>\n",
       "      <td>0</td>\n",
       "    </tr>\n",
       "  </tbody>\n",
       "</table>\n",
       "</div>"
      ],
      "text/plain": [
       "   id  gender   age           city profession  academic_pressure  \\\n",
       "0   2    Male  33.0  Visakhapatnam    Student                5.0   \n",
       "1   8  Female  24.0      Bangalore    Student                2.0   \n",
       "2  26    Male  31.0       Srinagar    Student                3.0   \n",
       "3  30  Female  28.0       Varanasi    Student                3.0   \n",
       "4  32  Female  25.0         Jaipur    Student                4.0   \n",
       "\n",
       "   work_pressure  cgpa  study_satisfaction  job_satisfaction  \\\n",
       "0            0.0  8.97                 2.0               0.0   \n",
       "1            0.0  5.90                 5.0               0.0   \n",
       "2            0.0  7.03                 5.0               0.0   \n",
       "3            0.0  5.59                 2.0               0.0   \n",
       "4            0.0  8.13                 3.0               0.0   \n",
       "\n",
       "        sleep_duration dietary_habits   degree suicidal_thoughts  \\\n",
       "0          '5-6 hours'        Healthy  B.Pharm               Yes   \n",
       "1          '5-6 hours'       Moderate      BSc                No   \n",
       "2  'Less than 5 hours'        Healthy       BA                No   \n",
       "3          '7-8 hours'       Moderate      BCA               Yes   \n",
       "4          '5-6 hours'       Moderate   M.Tech               Yes   \n",
       "\n",
       "   work_study_hours financial_stress family_history  depression  \n",
       "0               3.0              1.0             No           1  \n",
       "1               3.0              2.0            Yes           0  \n",
       "2               9.0              1.0            Yes           0  \n",
       "3               4.0              5.0            Yes           1  \n",
       "4               1.0              1.0             No           0  "
      ]
     },
     "execution_count": 44,
     "metadata": {},
     "output_type": "execute_result"
    }
   ],
   "source": [
    "data.head()"
   ]
  },
  {
   "cell_type": "markdown",
   "id": "b7fd0f91",
   "metadata": {},
   "source": [
    "#### Deleting Columns"
   ]
  },
  {
   "cell_type": "code",
   "execution_count": 45,
   "id": "d273e81b",
   "metadata": {},
   "outputs": [],
   "source": [
    "## Lets delete the Id column since that won't be useful for analysis or prediction. \n",
    "data.drop(columns=[\"id\"],inplace=True)"
   ]
  },
  {
   "cell_type": "code",
   "execution_count": 46,
   "id": "ee1bd7b0",
   "metadata": {},
   "outputs": [
    {
     "data": {
      "application/vnd.microsoft.datawrangler.viewer.v0+json": {
       "columns": [
        {
         "name": "index",
         "rawType": "int64",
         "type": "integer"
        },
        {
         "name": "gender",
         "rawType": "object",
         "type": "string"
        },
        {
         "name": "age",
         "rawType": "float64",
         "type": "float"
        },
        {
         "name": "city",
         "rawType": "object",
         "type": "string"
        },
        {
         "name": "profession",
         "rawType": "object",
         "type": "string"
        },
        {
         "name": "academic_pressure",
         "rawType": "float64",
         "type": "float"
        },
        {
         "name": "work_pressure",
         "rawType": "float64",
         "type": "float"
        },
        {
         "name": "cgpa",
         "rawType": "float64",
         "type": "float"
        },
        {
         "name": "study_satisfaction",
         "rawType": "float64",
         "type": "float"
        },
        {
         "name": "job_satisfaction",
         "rawType": "float64",
         "type": "float"
        },
        {
         "name": "sleep_duration",
         "rawType": "object",
         "type": "string"
        },
        {
         "name": "dietary_habits",
         "rawType": "object",
         "type": "string"
        },
        {
         "name": "degree",
         "rawType": "object",
         "type": "string"
        },
        {
         "name": "suicidal_thoughts",
         "rawType": "object",
         "type": "string"
        },
        {
         "name": "work_study_hours",
         "rawType": "float64",
         "type": "float"
        },
        {
         "name": "financial_stress",
         "rawType": "object",
         "type": "string"
        },
        {
         "name": "family_history",
         "rawType": "object",
         "type": "string"
        },
        {
         "name": "depression",
         "rawType": "int64",
         "type": "integer"
        }
       ],
       "ref": "3fb0ea5f-729d-49db-907e-4de624296325",
       "rows": [
        [
         "0",
         "Male",
         "33.0",
         "Visakhapatnam",
         "Student",
         "5.0",
         "0.0",
         "8.97",
         "2.0",
         "0.0",
         "'5-6 hours'",
         "Healthy",
         "B.Pharm",
         "Yes",
         "3.0",
         "1.0",
         "No",
         "1"
        ],
        [
         "1",
         "Female",
         "24.0",
         "Bangalore",
         "Student",
         "2.0",
         "0.0",
         "5.9",
         "5.0",
         "0.0",
         "'5-6 hours'",
         "Moderate",
         "BSc",
         "No",
         "3.0",
         "2.0",
         "Yes",
         "0"
        ],
        [
         "2",
         "Male",
         "31.0",
         "Srinagar",
         "Student",
         "3.0",
         "0.0",
         "7.03",
         "5.0",
         "0.0",
         "'Less than 5 hours'",
         "Healthy",
         "BA",
         "No",
         "9.0",
         "1.0",
         "Yes",
         "0"
        ],
        [
         "3",
         "Female",
         "28.0",
         "Varanasi",
         "Student",
         "3.0",
         "0.0",
         "5.59",
         "2.0",
         "0.0",
         "'7-8 hours'",
         "Moderate",
         "BCA",
         "Yes",
         "4.0",
         "5.0",
         "Yes",
         "1"
        ],
        [
         "4",
         "Female",
         "25.0",
         "Jaipur",
         "Student",
         "4.0",
         "0.0",
         "8.13",
         "3.0",
         "0.0",
         "'5-6 hours'",
         "Moderate",
         "M.Tech",
         "Yes",
         "1.0",
         "1.0",
         "No",
         "0"
        ]
       ],
       "shape": {
        "columns": 17,
        "rows": 5
       }
      },
      "text/html": [
       "<div>\n",
       "<style scoped>\n",
       "    .dataframe tbody tr th:only-of-type {\n",
       "        vertical-align: middle;\n",
       "    }\n",
       "\n",
       "    .dataframe tbody tr th {\n",
       "        vertical-align: top;\n",
       "    }\n",
       "\n",
       "    .dataframe thead th {\n",
       "        text-align: right;\n",
       "    }\n",
       "</style>\n",
       "<table border=\"1\" class=\"dataframe\">\n",
       "  <thead>\n",
       "    <tr style=\"text-align: right;\">\n",
       "      <th></th>\n",
       "      <th>gender</th>\n",
       "      <th>age</th>\n",
       "      <th>city</th>\n",
       "      <th>profession</th>\n",
       "      <th>academic_pressure</th>\n",
       "      <th>work_pressure</th>\n",
       "      <th>cgpa</th>\n",
       "      <th>study_satisfaction</th>\n",
       "      <th>job_satisfaction</th>\n",
       "      <th>sleep_duration</th>\n",
       "      <th>dietary_habits</th>\n",
       "      <th>degree</th>\n",
       "      <th>suicidal_thoughts</th>\n",
       "      <th>work_study_hours</th>\n",
       "      <th>financial_stress</th>\n",
       "      <th>family_history</th>\n",
       "      <th>depression</th>\n",
       "    </tr>\n",
       "  </thead>\n",
       "  <tbody>\n",
       "    <tr>\n",
       "      <th>0</th>\n",
       "      <td>Male</td>\n",
       "      <td>33.0</td>\n",
       "      <td>Visakhapatnam</td>\n",
       "      <td>Student</td>\n",
       "      <td>5.0</td>\n",
       "      <td>0.0</td>\n",
       "      <td>8.97</td>\n",
       "      <td>2.0</td>\n",
       "      <td>0.0</td>\n",
       "      <td>'5-6 hours'</td>\n",
       "      <td>Healthy</td>\n",
       "      <td>B.Pharm</td>\n",
       "      <td>Yes</td>\n",
       "      <td>3.0</td>\n",
       "      <td>1.0</td>\n",
       "      <td>No</td>\n",
       "      <td>1</td>\n",
       "    </tr>\n",
       "    <tr>\n",
       "      <th>1</th>\n",
       "      <td>Female</td>\n",
       "      <td>24.0</td>\n",
       "      <td>Bangalore</td>\n",
       "      <td>Student</td>\n",
       "      <td>2.0</td>\n",
       "      <td>0.0</td>\n",
       "      <td>5.90</td>\n",
       "      <td>5.0</td>\n",
       "      <td>0.0</td>\n",
       "      <td>'5-6 hours'</td>\n",
       "      <td>Moderate</td>\n",
       "      <td>BSc</td>\n",
       "      <td>No</td>\n",
       "      <td>3.0</td>\n",
       "      <td>2.0</td>\n",
       "      <td>Yes</td>\n",
       "      <td>0</td>\n",
       "    </tr>\n",
       "    <tr>\n",
       "      <th>2</th>\n",
       "      <td>Male</td>\n",
       "      <td>31.0</td>\n",
       "      <td>Srinagar</td>\n",
       "      <td>Student</td>\n",
       "      <td>3.0</td>\n",
       "      <td>0.0</td>\n",
       "      <td>7.03</td>\n",
       "      <td>5.0</td>\n",
       "      <td>0.0</td>\n",
       "      <td>'Less than 5 hours'</td>\n",
       "      <td>Healthy</td>\n",
       "      <td>BA</td>\n",
       "      <td>No</td>\n",
       "      <td>9.0</td>\n",
       "      <td>1.0</td>\n",
       "      <td>Yes</td>\n",
       "      <td>0</td>\n",
       "    </tr>\n",
       "    <tr>\n",
       "      <th>3</th>\n",
       "      <td>Female</td>\n",
       "      <td>28.0</td>\n",
       "      <td>Varanasi</td>\n",
       "      <td>Student</td>\n",
       "      <td>3.0</td>\n",
       "      <td>0.0</td>\n",
       "      <td>5.59</td>\n",
       "      <td>2.0</td>\n",
       "      <td>0.0</td>\n",
       "      <td>'7-8 hours'</td>\n",
       "      <td>Moderate</td>\n",
       "      <td>BCA</td>\n",
       "      <td>Yes</td>\n",
       "      <td>4.0</td>\n",
       "      <td>5.0</td>\n",
       "      <td>Yes</td>\n",
       "      <td>1</td>\n",
       "    </tr>\n",
       "    <tr>\n",
       "      <th>4</th>\n",
       "      <td>Female</td>\n",
       "      <td>25.0</td>\n",
       "      <td>Jaipur</td>\n",
       "      <td>Student</td>\n",
       "      <td>4.0</td>\n",
       "      <td>0.0</td>\n",
       "      <td>8.13</td>\n",
       "      <td>3.0</td>\n",
       "      <td>0.0</td>\n",
       "      <td>'5-6 hours'</td>\n",
       "      <td>Moderate</td>\n",
       "      <td>M.Tech</td>\n",
       "      <td>Yes</td>\n",
       "      <td>1.0</td>\n",
       "      <td>1.0</td>\n",
       "      <td>No</td>\n",
       "      <td>0</td>\n",
       "    </tr>\n",
       "  </tbody>\n",
       "</table>\n",
       "</div>"
      ],
      "text/plain": [
       "   gender   age           city profession  academic_pressure  work_pressure  \\\n",
       "0    Male  33.0  Visakhapatnam    Student                5.0            0.0   \n",
       "1  Female  24.0      Bangalore    Student                2.0            0.0   \n",
       "2    Male  31.0       Srinagar    Student                3.0            0.0   \n",
       "3  Female  28.0       Varanasi    Student                3.0            0.0   \n",
       "4  Female  25.0         Jaipur    Student                4.0            0.0   \n",
       "\n",
       "   cgpa  study_satisfaction  job_satisfaction       sleep_duration  \\\n",
       "0  8.97                 2.0               0.0          '5-6 hours'   \n",
       "1  5.90                 5.0               0.0          '5-6 hours'   \n",
       "2  7.03                 5.0               0.0  'Less than 5 hours'   \n",
       "3  5.59                 2.0               0.0          '7-8 hours'   \n",
       "4  8.13                 3.0               0.0          '5-6 hours'   \n",
       "\n",
       "  dietary_habits   degree suicidal_thoughts  work_study_hours  \\\n",
       "0        Healthy  B.Pharm               Yes               3.0   \n",
       "1       Moderate      BSc                No               3.0   \n",
       "2        Healthy       BA                No               9.0   \n",
       "3       Moderate      BCA               Yes               4.0   \n",
       "4       Moderate   M.Tech               Yes               1.0   \n",
       "\n",
       "  financial_stress family_history  depression  \n",
       "0              1.0             No           1  \n",
       "1              2.0            Yes           0  \n",
       "2              1.0            Yes           0  \n",
       "3              5.0            Yes           1  \n",
       "4              1.0             No           0  "
      ]
     },
     "execution_count": 46,
     "metadata": {},
     "output_type": "execute_result"
    }
   ],
   "source": [
    "data.head()"
   ]
  },
  {
   "cell_type": "markdown",
   "id": "210c0c66",
   "metadata": {},
   "source": [
    "#### Saving the Data\n"
   ]
  },
  {
   "cell_type": "code",
   "execution_count": 47,
   "id": "1b6ebf87",
   "metadata": {},
   "outputs": [],
   "source": [
    "## lets save the dataset for future use.\n",
    "data.to_csv(Path(data_dir,\"processed_column_names.csv\"),index=False)"
   ]
  },
  {
   "cell_type": "code",
   "execution_count": 48,
   "id": "747f4823",
   "metadata": {},
   "outputs": [
    {
     "data": {
      "application/vnd.microsoft.datawrangler.viewer.v0+json": {
       "columns": [
        {
         "name": "index",
         "rawType": "int64",
         "type": "integer"
        },
        {
         "name": "gender",
         "rawType": "object",
         "type": "string"
        },
        {
         "name": "age",
         "rawType": "float64",
         "type": "float"
        },
        {
         "name": "city",
         "rawType": "object",
         "type": "string"
        },
        {
         "name": "profession",
         "rawType": "object",
         "type": "string"
        },
        {
         "name": "academic_pressure",
         "rawType": "float64",
         "type": "float"
        },
        {
         "name": "work_pressure",
         "rawType": "float64",
         "type": "float"
        },
        {
         "name": "cgpa",
         "rawType": "float64",
         "type": "float"
        },
        {
         "name": "study_satisfaction",
         "rawType": "float64",
         "type": "float"
        },
        {
         "name": "job_satisfaction",
         "rawType": "float64",
         "type": "float"
        },
        {
         "name": "sleep_duration",
         "rawType": "object",
         "type": "string"
        },
        {
         "name": "dietary_habits",
         "rawType": "object",
         "type": "string"
        },
        {
         "name": "degree",
         "rawType": "object",
         "type": "string"
        },
        {
         "name": "suicidal_thoughts",
         "rawType": "object",
         "type": "string"
        },
        {
         "name": "work_study_hours",
         "rawType": "float64",
         "type": "float"
        },
        {
         "name": "financial_stress",
         "rawType": "object",
         "type": "string"
        },
        {
         "name": "family_history",
         "rawType": "object",
         "type": "string"
        },
        {
         "name": "depression",
         "rawType": "int64",
         "type": "integer"
        }
       ],
       "ref": "50c1ee21-7c2b-4de2-a312-705d9ec5294e",
       "rows": [
        [
         "0",
         "Male",
         "33.0",
         "Visakhapatnam",
         "Student",
         "5.0",
         "0.0",
         "8.97",
         "2.0",
         "0.0",
         "'5-6 hours'",
         "Healthy",
         "B.Pharm",
         "Yes",
         "3.0",
         "1.0",
         "No",
         "1"
        ],
        [
         "1",
         "Female",
         "24.0",
         "Bangalore",
         "Student",
         "2.0",
         "0.0",
         "5.9",
         "5.0",
         "0.0",
         "'5-6 hours'",
         "Moderate",
         "BSc",
         "No",
         "3.0",
         "2.0",
         "Yes",
         "0"
        ],
        [
         "2",
         "Male",
         "31.0",
         "Srinagar",
         "Student",
         "3.0",
         "0.0",
         "7.03",
         "5.0",
         "0.0",
         "'Less than 5 hours'",
         "Healthy",
         "BA",
         "No",
         "9.0",
         "1.0",
         "Yes",
         "0"
        ],
        [
         "3",
         "Female",
         "28.0",
         "Varanasi",
         "Student",
         "3.0",
         "0.0",
         "5.59",
         "2.0",
         "0.0",
         "'7-8 hours'",
         "Moderate",
         "BCA",
         "Yes",
         "4.0",
         "5.0",
         "Yes",
         "1"
        ],
        [
         "4",
         "Female",
         "25.0",
         "Jaipur",
         "Student",
         "4.0",
         "0.0",
         "8.13",
         "3.0",
         "0.0",
         "'5-6 hours'",
         "Moderate",
         "M.Tech",
         "Yes",
         "1.0",
         "1.0",
         "No",
         "0"
        ]
       ],
       "shape": {
        "columns": 17,
        "rows": 5
       }
      },
      "text/html": [
       "<div>\n",
       "<style scoped>\n",
       "    .dataframe tbody tr th:only-of-type {\n",
       "        vertical-align: middle;\n",
       "    }\n",
       "\n",
       "    .dataframe tbody tr th {\n",
       "        vertical-align: top;\n",
       "    }\n",
       "\n",
       "    .dataframe thead th {\n",
       "        text-align: right;\n",
       "    }\n",
       "</style>\n",
       "<table border=\"1\" class=\"dataframe\">\n",
       "  <thead>\n",
       "    <tr style=\"text-align: right;\">\n",
       "      <th></th>\n",
       "      <th>gender</th>\n",
       "      <th>age</th>\n",
       "      <th>city</th>\n",
       "      <th>profession</th>\n",
       "      <th>academic_pressure</th>\n",
       "      <th>work_pressure</th>\n",
       "      <th>cgpa</th>\n",
       "      <th>study_satisfaction</th>\n",
       "      <th>job_satisfaction</th>\n",
       "      <th>sleep_duration</th>\n",
       "      <th>dietary_habits</th>\n",
       "      <th>degree</th>\n",
       "      <th>suicidal_thoughts</th>\n",
       "      <th>work_study_hours</th>\n",
       "      <th>financial_stress</th>\n",
       "      <th>family_history</th>\n",
       "      <th>depression</th>\n",
       "    </tr>\n",
       "  </thead>\n",
       "  <tbody>\n",
       "    <tr>\n",
       "      <th>0</th>\n",
       "      <td>Male</td>\n",
       "      <td>33.0</td>\n",
       "      <td>Visakhapatnam</td>\n",
       "      <td>Student</td>\n",
       "      <td>5.0</td>\n",
       "      <td>0.0</td>\n",
       "      <td>8.97</td>\n",
       "      <td>2.0</td>\n",
       "      <td>0.0</td>\n",
       "      <td>'5-6 hours'</td>\n",
       "      <td>Healthy</td>\n",
       "      <td>B.Pharm</td>\n",
       "      <td>Yes</td>\n",
       "      <td>3.0</td>\n",
       "      <td>1.0</td>\n",
       "      <td>No</td>\n",
       "      <td>1</td>\n",
       "    </tr>\n",
       "    <tr>\n",
       "      <th>1</th>\n",
       "      <td>Female</td>\n",
       "      <td>24.0</td>\n",
       "      <td>Bangalore</td>\n",
       "      <td>Student</td>\n",
       "      <td>2.0</td>\n",
       "      <td>0.0</td>\n",
       "      <td>5.90</td>\n",
       "      <td>5.0</td>\n",
       "      <td>0.0</td>\n",
       "      <td>'5-6 hours'</td>\n",
       "      <td>Moderate</td>\n",
       "      <td>BSc</td>\n",
       "      <td>No</td>\n",
       "      <td>3.0</td>\n",
       "      <td>2.0</td>\n",
       "      <td>Yes</td>\n",
       "      <td>0</td>\n",
       "    </tr>\n",
       "    <tr>\n",
       "      <th>2</th>\n",
       "      <td>Male</td>\n",
       "      <td>31.0</td>\n",
       "      <td>Srinagar</td>\n",
       "      <td>Student</td>\n",
       "      <td>3.0</td>\n",
       "      <td>0.0</td>\n",
       "      <td>7.03</td>\n",
       "      <td>5.0</td>\n",
       "      <td>0.0</td>\n",
       "      <td>'Less than 5 hours'</td>\n",
       "      <td>Healthy</td>\n",
       "      <td>BA</td>\n",
       "      <td>No</td>\n",
       "      <td>9.0</td>\n",
       "      <td>1.0</td>\n",
       "      <td>Yes</td>\n",
       "      <td>0</td>\n",
       "    </tr>\n",
       "    <tr>\n",
       "      <th>3</th>\n",
       "      <td>Female</td>\n",
       "      <td>28.0</td>\n",
       "      <td>Varanasi</td>\n",
       "      <td>Student</td>\n",
       "      <td>3.0</td>\n",
       "      <td>0.0</td>\n",
       "      <td>5.59</td>\n",
       "      <td>2.0</td>\n",
       "      <td>0.0</td>\n",
       "      <td>'7-8 hours'</td>\n",
       "      <td>Moderate</td>\n",
       "      <td>BCA</td>\n",
       "      <td>Yes</td>\n",
       "      <td>4.0</td>\n",
       "      <td>5.0</td>\n",
       "      <td>Yes</td>\n",
       "      <td>1</td>\n",
       "    </tr>\n",
       "    <tr>\n",
       "      <th>4</th>\n",
       "      <td>Female</td>\n",
       "      <td>25.0</td>\n",
       "      <td>Jaipur</td>\n",
       "      <td>Student</td>\n",
       "      <td>4.0</td>\n",
       "      <td>0.0</td>\n",
       "      <td>8.13</td>\n",
       "      <td>3.0</td>\n",
       "      <td>0.0</td>\n",
       "      <td>'5-6 hours'</td>\n",
       "      <td>Moderate</td>\n",
       "      <td>M.Tech</td>\n",
       "      <td>Yes</td>\n",
       "      <td>1.0</td>\n",
       "      <td>1.0</td>\n",
       "      <td>No</td>\n",
       "      <td>0</td>\n",
       "    </tr>\n",
       "  </tbody>\n",
       "</table>\n",
       "</div>"
      ],
      "text/plain": [
       "   gender   age           city profession  academic_pressure  work_pressure  \\\n",
       "0    Male  33.0  Visakhapatnam    Student                5.0            0.0   \n",
       "1  Female  24.0      Bangalore    Student                2.0            0.0   \n",
       "2    Male  31.0       Srinagar    Student                3.0            0.0   \n",
       "3  Female  28.0       Varanasi    Student                3.0            0.0   \n",
       "4  Female  25.0         Jaipur    Student                4.0            0.0   \n",
       "\n",
       "   cgpa  study_satisfaction  job_satisfaction       sleep_duration  \\\n",
       "0  8.97                 2.0               0.0          '5-6 hours'   \n",
       "1  5.90                 5.0               0.0          '5-6 hours'   \n",
       "2  7.03                 5.0               0.0  'Less than 5 hours'   \n",
       "3  5.59                 2.0               0.0          '7-8 hours'   \n",
       "4  8.13                 3.0               0.0          '5-6 hours'   \n",
       "\n",
       "  dietary_habits   degree suicidal_thoughts  work_study_hours  \\\n",
       "0        Healthy  B.Pharm               Yes               3.0   \n",
       "1       Moderate      BSc                No               3.0   \n",
       "2        Healthy       BA                No               9.0   \n",
       "3       Moderate      BCA               Yes               4.0   \n",
       "4       Moderate   M.Tech               Yes               1.0   \n",
       "\n",
       "  financial_stress family_history  depression  \n",
       "0              1.0             No           1  \n",
       "1              2.0            Yes           0  \n",
       "2              1.0            Yes           0  \n",
       "3              5.0            Yes           1  \n",
       "4              1.0             No           0  "
      ]
     },
     "execution_count": 48,
     "metadata": {},
     "output_type": "execute_result"
    }
   ],
   "source": [
    "data.head()"
   ]
  },
  {
   "cell_type": "code",
   "execution_count": 49,
   "id": "01767916",
   "metadata": {},
   "outputs": [
    {
     "data": {
      "application/vnd.microsoft.datawrangler.viewer.v0+json": {
       "columns": [
        {
         "name": "index",
         "rawType": "object",
         "type": "string"
        },
        {
         "name": "0",
         "rawType": "object",
         "type": "unknown"
        }
       ],
       "ref": "7cda1e55-06f1-4b25-9041-f1af1b9f5ad0",
       "rows": [
        [
         "gender",
         "object"
        ],
        [
         "age",
         "float64"
        ],
        [
         "city",
         "object"
        ],
        [
         "profession",
         "object"
        ],
        [
         "academic_pressure",
         "float64"
        ],
        [
         "work_pressure",
         "float64"
        ],
        [
         "cgpa",
         "float64"
        ],
        [
         "study_satisfaction",
         "float64"
        ],
        [
         "job_satisfaction",
         "float64"
        ],
        [
         "sleep_duration",
         "object"
        ],
        [
         "dietary_habits",
         "object"
        ],
        [
         "degree",
         "object"
        ],
        [
         "suicidal_thoughts",
         "object"
        ],
        [
         "work_study_hours",
         "float64"
        ],
        [
         "financial_stress",
         "object"
        ],
        [
         "family_history",
         "object"
        ],
        [
         "depression",
         "int64"
        ]
       ],
       "shape": {
        "columns": 1,
        "rows": 17
       }
      },
      "text/plain": [
       "gender                 object\n",
       "age                   float64\n",
       "city                   object\n",
       "profession             object\n",
       "academic_pressure     float64\n",
       "work_pressure         float64\n",
       "cgpa                  float64\n",
       "study_satisfaction    float64\n",
       "job_satisfaction      float64\n",
       "sleep_duration         object\n",
       "dietary_habits         object\n",
       "degree                 object\n",
       "suicidal_thoughts      object\n",
       "work_study_hours      float64\n",
       "financial_stress       object\n",
       "family_history         object\n",
       "depression              int64\n",
       "dtype: object"
      ]
     },
     "execution_count": 49,
     "metadata": {},
     "output_type": "execute_result"
    }
   ],
   "source": [
    "## lets check for column types and missing values\n",
    "data.dtypes"
   ]
  },
  {
   "cell_type": "markdown",
   "id": "89770db1",
   "metadata": {},
   "source": [
    "Observations:\n",
    "* So looks like financial stress needs to be `float` but is set to object, this could be because of some missing values. "
   ]
  },
  {
   "cell_type": "code",
   "execution_count": 50,
   "id": "f38b2e12",
   "metadata": {},
   "outputs": [
    {
     "data": {
      "application/vnd.microsoft.datawrangler.viewer.v0+json": {
       "columns": [
        {
         "name": "index",
         "rawType": "object",
         "type": "string"
        },
        {
         "name": "0",
         "rawType": "int64",
         "type": "integer"
        }
       ],
       "ref": "ab1d1498-c542-42f8-b3a8-ed01b097c187",
       "rows": [
        [
         "gender",
         "0"
        ],
        [
         "age",
         "0"
        ],
        [
         "city",
         "0"
        ],
        [
         "profession",
         "0"
        ],
        [
         "academic_pressure",
         "0"
        ],
        [
         "work_pressure",
         "0"
        ],
        [
         "cgpa",
         "0"
        ],
        [
         "study_satisfaction",
         "0"
        ],
        [
         "job_satisfaction",
         "0"
        ],
        [
         "sleep_duration",
         "0"
        ],
        [
         "dietary_habits",
         "0"
        ],
        [
         "degree",
         "0"
        ],
        [
         "suicidal_thoughts",
         "0"
        ],
        [
         "work_study_hours",
         "0"
        ],
        [
         "financial_stress",
         "0"
        ],
        [
         "family_history",
         "0"
        ],
        [
         "depression",
         "0"
        ]
       ],
       "shape": {
        "columns": 1,
        "rows": 17
       }
      },
      "text/plain": [
       "gender                0\n",
       "age                   0\n",
       "city                  0\n",
       "profession            0\n",
       "academic_pressure     0\n",
       "work_pressure         0\n",
       "cgpa                  0\n",
       "study_satisfaction    0\n",
       "job_satisfaction      0\n",
       "sleep_duration        0\n",
       "dietary_habits        0\n",
       "degree                0\n",
       "suicidal_thoughts     0\n",
       "work_study_hours      0\n",
       "financial_stress      0\n",
       "family_history        0\n",
       "depression            0\n",
       "dtype: int64"
      ]
     },
     "execution_count": 50,
     "metadata": {},
     "output_type": "execute_result"
    }
   ],
   "source": [
    "## lets check for missing values\n",
    "data.isnull().sum()"
   ]
  },
  {
   "cell_type": "code",
   "execution_count": 51,
   "id": "7626572f",
   "metadata": {},
   "outputs": [
    {
     "data": {
      "application/vnd.microsoft.datawrangler.viewer.v0+json": {
       "columns": [
        {
         "name": "index",
         "rawType": "object",
         "type": "string"
        },
        {
         "name": "0",
         "rawType": "int64",
         "type": "integer"
        }
       ],
       "ref": "36be84db-11e5-4400-bbd6-1bb352851f7f",
       "rows": [
        [
         "gender",
         "0"
        ],
        [
         "age",
         "0"
        ],
        [
         "city",
         "0"
        ],
        [
         "profession",
         "0"
        ],
        [
         "academic_pressure",
         "0"
        ],
        [
         "work_pressure",
         "0"
        ],
        [
         "cgpa",
         "0"
        ],
        [
         "study_satisfaction",
         "0"
        ],
        [
         "job_satisfaction",
         "0"
        ],
        [
         "sleep_duration",
         "0"
        ],
        [
         "dietary_habits",
         "0"
        ],
        [
         "degree",
         "0"
        ],
        [
         "suicidal_thoughts",
         "0"
        ],
        [
         "work_study_hours",
         "0"
        ],
        [
         "financial_stress",
         "0"
        ],
        [
         "family_history",
         "0"
        ],
        [
         "depression",
         "0"
        ]
       ],
       "shape": {
        "columns": 1,
        "rows": 17
       }
      },
      "text/plain": [
       "gender                0\n",
       "age                   0\n",
       "city                  0\n",
       "profession            0\n",
       "academic_pressure     0\n",
       "work_pressure         0\n",
       "cgpa                  0\n",
       "study_satisfaction    0\n",
       "job_satisfaction      0\n",
       "sleep_duration        0\n",
       "dietary_habits        0\n",
       "degree                0\n",
       "suicidal_thoughts     0\n",
       "work_study_hours      0\n",
       "financial_stress      0\n",
       "family_history        0\n",
       "depression            0\n",
       "dtype: int64"
      ]
     },
     "execution_count": 51,
     "metadata": {},
     "output_type": "execute_result"
    }
   ],
   "source": [
    "data.isna().sum()"
   ]
  },
  {
   "cell_type": "code",
   "execution_count": 52,
   "id": "58f874f4",
   "metadata": {},
   "outputs": [
    {
     "data": {
      "text/plain": [
       "array(['1.0', '2.0', '5.0', '3.0', '4.0', '?'], dtype=object)"
      ]
     },
     "execution_count": 52,
     "metadata": {},
     "output_type": "execute_result"
    }
   ],
   "source": [
    "data[\"financial_stress\"].unique()"
   ]
  },
  {
   "cell_type": "markdown",
   "id": "158321dc",
   "metadata": {},
   "source": [
    "* So looks like \"?\" is the only non numeric character in this field"
   ]
  },
  {
   "cell_type": "code",
   "execution_count": 53,
   "id": "0dd018e3",
   "metadata": {},
   "outputs": [
    {
     "data": {
      "application/vnd.microsoft.datawrangler.viewer.v0+json": {
       "columns": [
        {
         "name": "financial_stress",
         "rawType": "object",
         "type": "string"
        },
        {
         "name": "count",
         "rawType": "int64",
         "type": "integer"
        }
       ],
       "ref": "f8ae4ecf-83ed-4d13-90d2-26ec33e689a8",
       "rows": [
        [
         "5.0",
         "6715"
        ],
        [
         "4.0",
         "5775"
        ],
        [
         "3.0",
         "5226"
        ],
        [
         "1.0",
         "5121"
        ],
        [
         "2.0",
         "5061"
        ],
        [
         "?",
         "3"
        ]
       ],
       "shape": {
        "columns": 1,
        "rows": 6
       }
      },
      "text/plain": [
       "financial_stress\n",
       "5.0    6715\n",
       "4.0    5775\n",
       "3.0    5226\n",
       "1.0    5121\n",
       "2.0    5061\n",
       "?         3\n",
       "Name: count, dtype: int64"
      ]
     },
     "execution_count": 53,
     "metadata": {},
     "output_type": "execute_result"
    }
   ],
   "source": [
    "data[\"financial_stress\"].value_counts()"
   ]
  },
  {
   "cell_type": "code",
   "execution_count": 54,
   "id": "f37568d1",
   "metadata": {},
   "outputs": [],
   "source": [
    "data.loc[data[\"financial_stress\"] == \"?\",[\"financial_stress\"]] = np.nan"
   ]
  },
  {
   "cell_type": "code",
   "execution_count": 55,
   "id": "d091c6d2",
   "metadata": {},
   "outputs": [
    {
     "data": {
      "application/vnd.microsoft.datawrangler.viewer.v0+json": {
       "columns": [
        {
         "name": "financial_stress",
         "rawType": "object",
         "type": "string"
        },
        {
         "name": "count",
         "rawType": "int64",
         "type": "integer"
        }
       ],
       "ref": "be26b5d6-f481-4c31-932e-87b0bd310968",
       "rows": [
        [
         "5.0",
         "6715"
        ],
        [
         "4.0",
         "5775"
        ],
        [
         "3.0",
         "5226"
        ],
        [
         "1.0",
         "5121"
        ],
        [
         "2.0",
         "5061"
        ]
       ],
       "shape": {
        "columns": 1,
        "rows": 5
       }
      },
      "text/plain": [
       "financial_stress\n",
       "5.0    6715\n",
       "4.0    5775\n",
       "3.0    5226\n",
       "1.0    5121\n",
       "2.0    5061\n",
       "Name: count, dtype: int64"
      ]
     },
     "execution_count": 55,
     "metadata": {},
     "output_type": "execute_result"
    }
   ],
   "source": [
    "data[\"financial_stress\"].value_counts()"
   ]
  },
  {
   "cell_type": "code",
   "execution_count": 56,
   "id": "5d8b16a4",
   "metadata": {},
   "outputs": [
    {
     "data": {
      "application/vnd.microsoft.datawrangler.viewer.v0+json": {
       "columns": [
        {
         "name": "index",
         "rawType": "object",
         "type": "string"
        },
        {
         "name": "0",
         "rawType": "object",
         "type": "unknown"
        }
       ],
       "ref": "d5ec3241-c539-4929-ab99-4186ae100217",
       "rows": [
        [
         "gender",
         "object"
        ],
        [
         "age",
         "float64"
        ],
        [
         "city",
         "object"
        ],
        [
         "profession",
         "object"
        ],
        [
         "academic_pressure",
         "float64"
        ],
        [
         "work_pressure",
         "float64"
        ],
        [
         "cgpa",
         "float64"
        ],
        [
         "study_satisfaction",
         "float64"
        ],
        [
         "job_satisfaction",
         "float64"
        ],
        [
         "sleep_duration",
         "object"
        ],
        [
         "dietary_habits",
         "object"
        ],
        [
         "degree",
         "object"
        ],
        [
         "suicidal_thoughts",
         "object"
        ],
        [
         "work_study_hours",
         "float64"
        ],
        [
         "financial_stress",
         "object"
        ],
        [
         "family_history",
         "object"
        ],
        [
         "depression",
         "int64"
        ]
       ],
       "shape": {
        "columns": 1,
        "rows": 17
       }
      },
      "text/plain": [
       "gender                 object\n",
       "age                   float64\n",
       "city                   object\n",
       "profession             object\n",
       "academic_pressure     float64\n",
       "work_pressure         float64\n",
       "cgpa                  float64\n",
       "study_satisfaction    float64\n",
       "job_satisfaction      float64\n",
       "sleep_duration         object\n",
       "dietary_habits         object\n",
       "degree                 object\n",
       "suicidal_thoughts      object\n",
       "work_study_hours      float64\n",
       "financial_stress       object\n",
       "family_history         object\n",
       "depression              int64\n",
       "dtype: object"
      ]
     },
     "execution_count": 56,
     "metadata": {},
     "output_type": "execute_result"
    }
   ],
   "source": [
    "data.dtypes"
   ]
  },
  {
   "cell_type": "code",
   "execution_count": 57,
   "id": "a0dff7a7",
   "metadata": {},
   "outputs": [],
   "source": [
    "## converting to float\n",
    "data[\"financial_stress\"] = data[\"financial_stress\"].astype(\"float64\")"
   ]
  },
  {
   "cell_type": "code",
   "execution_count": 58,
   "id": "2c312f04",
   "metadata": {},
   "outputs": [
    {
     "data": {
      "application/vnd.microsoft.datawrangler.viewer.v0+json": {
       "columns": [
        {
         "name": "index",
         "rawType": "object",
         "type": "string"
        },
        {
         "name": "age",
         "rawType": "float64",
         "type": "float"
        },
        {
         "name": "academic_pressure",
         "rawType": "float64",
         "type": "float"
        },
        {
         "name": "work_pressure",
         "rawType": "float64",
         "type": "float"
        },
        {
         "name": "cgpa",
         "rawType": "float64",
         "type": "float"
        },
        {
         "name": "study_satisfaction",
         "rawType": "float64",
         "type": "float"
        },
        {
         "name": "job_satisfaction",
         "rawType": "float64",
         "type": "float"
        },
        {
         "name": "work_study_hours",
         "rawType": "float64",
         "type": "float"
        },
        {
         "name": "financial_stress",
         "rawType": "float64",
         "type": "float"
        },
        {
         "name": "depression",
         "rawType": "float64",
         "type": "float"
        }
       ],
       "ref": "f8988829-465c-4ad8-b3fe-0d8a80516e67",
       "rows": [
        [
         "count",
         "27901.0",
         "27901.0",
         "27901.0",
         "27901.0",
         "27901.0",
         "27901.0",
         "27901.0",
         "27898.0",
         "27901.0"
        ],
        [
         "mean",
         "25.82230027597577",
         "3.1412135765743163",
         "0.00043009211139385684",
         "7.65610417189348",
         "2.943837138453819",
         "0.0006809791763736067",
         "7.156983620658758",
         "3.1398666571080365",
         "0.5854987276441704"
        ],
        [
         "std",
         "4.905687448924321",
         "1.3814648413275932",
         "0.043992032063924706",
         "1.4707073462076152",
         "1.3611479552669856",
         "0.04439439621860686",
         "3.7076420727787673",
         "1.4373466968345736",
         "0.49264456369310916"
        ],
        [
         "min",
         "18.0",
         "0.0",
         "0.0",
         "0.0",
         "0.0",
         "0.0",
         "0.0",
         "1.0",
         "0.0"
        ],
        [
         "25%",
         "21.0",
         "2.0",
         "0.0",
         "6.29",
         "2.0",
         "0.0",
         "4.0",
         "2.0",
         "0.0"
        ],
        [
         "50%",
         "25.0",
         "3.0",
         "0.0",
         "7.77",
         "3.0",
         "0.0",
         "8.0",
         "3.0",
         "1.0"
        ],
        [
         "75%",
         "30.0",
         "4.0",
         "0.0",
         "8.92",
         "4.0",
         "0.0",
         "10.0",
         "4.0",
         "1.0"
        ],
        [
         "max",
         "59.0",
         "5.0",
         "5.0",
         "10.0",
         "5.0",
         "4.0",
         "12.0",
         "5.0",
         "1.0"
        ]
       ],
       "shape": {
        "columns": 9,
        "rows": 8
       }
      },
      "text/html": [
       "<div>\n",
       "<style scoped>\n",
       "    .dataframe tbody tr th:only-of-type {\n",
       "        vertical-align: middle;\n",
       "    }\n",
       "\n",
       "    .dataframe tbody tr th {\n",
       "        vertical-align: top;\n",
       "    }\n",
       "\n",
       "    .dataframe thead th {\n",
       "        text-align: right;\n",
       "    }\n",
       "</style>\n",
       "<table border=\"1\" class=\"dataframe\">\n",
       "  <thead>\n",
       "    <tr style=\"text-align: right;\">\n",
       "      <th></th>\n",
       "      <th>age</th>\n",
       "      <th>academic_pressure</th>\n",
       "      <th>work_pressure</th>\n",
       "      <th>cgpa</th>\n",
       "      <th>study_satisfaction</th>\n",
       "      <th>job_satisfaction</th>\n",
       "      <th>work_study_hours</th>\n",
       "      <th>financial_stress</th>\n",
       "      <th>depression</th>\n",
       "    </tr>\n",
       "  </thead>\n",
       "  <tbody>\n",
       "    <tr>\n",
       "      <th>count</th>\n",
       "      <td>27901.000000</td>\n",
       "      <td>27901.000000</td>\n",
       "      <td>27901.000000</td>\n",
       "      <td>27901.000000</td>\n",
       "      <td>27901.000000</td>\n",
       "      <td>27901.000000</td>\n",
       "      <td>27901.000000</td>\n",
       "      <td>27898.000000</td>\n",
       "      <td>27901.000000</td>\n",
       "    </tr>\n",
       "    <tr>\n",
       "      <th>mean</th>\n",
       "      <td>25.822300</td>\n",
       "      <td>3.141214</td>\n",
       "      <td>0.000430</td>\n",
       "      <td>7.656104</td>\n",
       "      <td>2.943837</td>\n",
       "      <td>0.000681</td>\n",
       "      <td>7.156984</td>\n",
       "      <td>3.139867</td>\n",
       "      <td>0.585499</td>\n",
       "    </tr>\n",
       "    <tr>\n",
       "      <th>std</th>\n",
       "      <td>4.905687</td>\n",
       "      <td>1.381465</td>\n",
       "      <td>0.043992</td>\n",
       "      <td>1.470707</td>\n",
       "      <td>1.361148</td>\n",
       "      <td>0.044394</td>\n",
       "      <td>3.707642</td>\n",
       "      <td>1.437347</td>\n",
       "      <td>0.492645</td>\n",
       "    </tr>\n",
       "    <tr>\n",
       "      <th>min</th>\n",
       "      <td>18.000000</td>\n",
       "      <td>0.000000</td>\n",
       "      <td>0.000000</td>\n",
       "      <td>0.000000</td>\n",
       "      <td>0.000000</td>\n",
       "      <td>0.000000</td>\n",
       "      <td>0.000000</td>\n",
       "      <td>1.000000</td>\n",
       "      <td>0.000000</td>\n",
       "    </tr>\n",
       "    <tr>\n",
       "      <th>25%</th>\n",
       "      <td>21.000000</td>\n",
       "      <td>2.000000</td>\n",
       "      <td>0.000000</td>\n",
       "      <td>6.290000</td>\n",
       "      <td>2.000000</td>\n",
       "      <td>0.000000</td>\n",
       "      <td>4.000000</td>\n",
       "      <td>2.000000</td>\n",
       "      <td>0.000000</td>\n",
       "    </tr>\n",
       "    <tr>\n",
       "      <th>50%</th>\n",
       "      <td>25.000000</td>\n",
       "      <td>3.000000</td>\n",
       "      <td>0.000000</td>\n",
       "      <td>7.770000</td>\n",
       "      <td>3.000000</td>\n",
       "      <td>0.000000</td>\n",
       "      <td>8.000000</td>\n",
       "      <td>3.000000</td>\n",
       "      <td>1.000000</td>\n",
       "    </tr>\n",
       "    <tr>\n",
       "      <th>75%</th>\n",
       "      <td>30.000000</td>\n",
       "      <td>4.000000</td>\n",
       "      <td>0.000000</td>\n",
       "      <td>8.920000</td>\n",
       "      <td>4.000000</td>\n",
       "      <td>0.000000</td>\n",
       "      <td>10.000000</td>\n",
       "      <td>4.000000</td>\n",
       "      <td>1.000000</td>\n",
       "    </tr>\n",
       "    <tr>\n",
       "      <th>max</th>\n",
       "      <td>59.000000</td>\n",
       "      <td>5.000000</td>\n",
       "      <td>5.000000</td>\n",
       "      <td>10.000000</td>\n",
       "      <td>5.000000</td>\n",
       "      <td>4.000000</td>\n",
       "      <td>12.000000</td>\n",
       "      <td>5.000000</td>\n",
       "      <td>1.000000</td>\n",
       "    </tr>\n",
       "  </tbody>\n",
       "</table>\n",
       "</div>"
      ],
      "text/plain": [
       "                age  academic_pressure  work_pressure          cgpa  \\\n",
       "count  27901.000000       27901.000000   27901.000000  27901.000000   \n",
       "mean      25.822300           3.141214       0.000430      7.656104   \n",
       "std        4.905687           1.381465       0.043992      1.470707   \n",
       "min       18.000000           0.000000       0.000000      0.000000   \n",
       "25%       21.000000           2.000000       0.000000      6.290000   \n",
       "50%       25.000000           3.000000       0.000000      7.770000   \n",
       "75%       30.000000           4.000000       0.000000      8.920000   \n",
       "max       59.000000           5.000000       5.000000     10.000000   \n",
       "\n",
       "       study_satisfaction  job_satisfaction  work_study_hours  \\\n",
       "count        27901.000000      27901.000000      27901.000000   \n",
       "mean             2.943837          0.000681          7.156984   \n",
       "std              1.361148          0.044394          3.707642   \n",
       "min              0.000000          0.000000          0.000000   \n",
       "25%              2.000000          0.000000          4.000000   \n",
       "50%              3.000000          0.000000          8.000000   \n",
       "75%              4.000000          0.000000         10.000000   \n",
       "max              5.000000          4.000000         12.000000   \n",
       "\n",
       "       financial_stress    depression  \n",
       "count      27898.000000  27901.000000  \n",
       "mean           3.139867      0.585499  \n",
       "std            1.437347      0.492645  \n",
       "min            1.000000      0.000000  \n",
       "25%            2.000000      0.000000  \n",
       "50%            3.000000      1.000000  \n",
       "75%            4.000000      1.000000  \n",
       "max            5.000000      1.000000  "
      ]
     },
     "execution_count": 58,
     "metadata": {},
     "output_type": "execute_result"
    }
   ],
   "source": [
    "data.describe()"
   ]
  },
  {
   "cell_type": "markdown",
   "id": "3306301e",
   "metadata": {},
   "source": [
    "Observations:\n",
    "* Most of the data is not skewed and seems to be centrally aligned.\n",
    "* `work_pressure` and `job_satisfaction` `mean` and `std` values tell us that majority of the data is student data and these 2 fields are mostly zero might be safe to drop them in future. Lets explroe these two columns more. "
   ]
  },
  {
   "cell_type": "markdown",
   "id": "713a4137",
   "metadata": {},
   "source": [
    "### Exploring work_pressure and job_satisfaction"
   ]
  },
  {
   "cell_type": "code",
   "execution_count": 59,
   "id": "2b1354bc",
   "metadata": {},
   "outputs": [
    {
     "data": {
      "application/vnd.microsoft.datawrangler.viewer.v0+json": {
       "columns": [
        {
         "name": "work_pressure",
         "rawType": "float64",
         "type": "float"
        },
        {
         "name": "count",
         "rawType": "int64",
         "type": "integer"
        }
       ],
       "ref": "08819a27-becc-4d2b-8e3d-4e19e920ac82",
       "rows": [
        [
         "0.0",
         "27898"
        ],
        [
         "5.0",
         "2"
        ],
        [
         "2.0",
         "1"
        ]
       ],
       "shape": {
        "columns": 1,
        "rows": 3
       }
      },
      "text/plain": [
       "work_pressure\n",
       "0.0    27898\n",
       "5.0        2\n",
       "2.0        1\n",
       "Name: count, dtype: int64"
      ]
     },
     "execution_count": 59,
     "metadata": {},
     "output_type": "execute_result"
    }
   ],
   "source": [
    "data[\"work_pressure\"].value_counts()"
   ]
  },
  {
   "cell_type": "code",
   "execution_count": 60,
   "id": "bfa08feb",
   "metadata": {},
   "outputs": [
    {
     "data": {
      "application/vnd.microsoft.datawrangler.viewer.v0+json": {
       "columns": [
        {
         "name": "index",
         "rawType": "int64",
         "type": "integer"
        },
        {
         "name": "age",
         "rawType": "float64",
         "type": "float"
        }
       ],
       "ref": "2d8d3f4c-0873-4447-b117-e4718f4d13c0",
       "rows": [
        [
         "4365",
         "38.0"
        ],
        [
         "25746",
         "18.0"
        ]
       ],
       "shape": {
        "columns": 1,
        "rows": 2
       }
      },
      "text/html": [
       "<div>\n",
       "<style scoped>\n",
       "    .dataframe tbody tr th:only-of-type {\n",
       "        vertical-align: middle;\n",
       "    }\n",
       "\n",
       "    .dataframe tbody tr th {\n",
       "        vertical-align: top;\n",
       "    }\n",
       "\n",
       "    .dataframe thead th {\n",
       "        text-align: right;\n",
       "    }\n",
       "</style>\n",
       "<table border=\"1\" class=\"dataframe\">\n",
       "  <thead>\n",
       "    <tr style=\"text-align: right;\">\n",
       "      <th></th>\n",
       "      <th>age</th>\n",
       "    </tr>\n",
       "  </thead>\n",
       "  <tbody>\n",
       "    <tr>\n",
       "      <th>4365</th>\n",
       "      <td>38.0</td>\n",
       "    </tr>\n",
       "    <tr>\n",
       "      <th>25746</th>\n",
       "      <td>18.0</td>\n",
       "    </tr>\n",
       "  </tbody>\n",
       "</table>\n",
       "</div>"
      ],
      "text/plain": [
       "        age\n",
       "4365   38.0\n",
       "25746  18.0"
      ]
     },
     "execution_count": 60,
     "metadata": {},
     "output_type": "execute_result"
    }
   ],
   "source": [
    "## lets explore the age of students with this work pressure\n",
    "data.loc[data[\"work_pressure\"] == 5.0,[\"age\"]]"
   ]
  },
  {
   "cell_type": "code",
   "execution_count": 61,
   "id": "b58e0852",
   "metadata": {},
   "outputs": [
    {
     "data": {
      "application/vnd.microsoft.datawrangler.viewer.v0+json": {
       "columns": [
        {
         "name": "index",
         "rawType": "int64",
         "type": "integer"
        },
        {
         "name": "age",
         "rawType": "float64",
         "type": "float"
        }
       ],
       "ref": "1b3efe62-bc7f-4903-9798-50d353fb14c7",
       "rows": [
        [
         "14855",
         "21.0"
        ]
       ],
       "shape": {
        "columns": 1,
        "rows": 1
       }
      },
      "text/html": [
       "<div>\n",
       "<style scoped>\n",
       "    .dataframe tbody tr th:only-of-type {\n",
       "        vertical-align: middle;\n",
       "    }\n",
       "\n",
       "    .dataframe tbody tr th {\n",
       "        vertical-align: top;\n",
       "    }\n",
       "\n",
       "    .dataframe thead th {\n",
       "        text-align: right;\n",
       "    }\n",
       "</style>\n",
       "<table border=\"1\" class=\"dataframe\">\n",
       "  <thead>\n",
       "    <tr style=\"text-align: right;\">\n",
       "      <th></th>\n",
       "      <th>age</th>\n",
       "    </tr>\n",
       "  </thead>\n",
       "  <tbody>\n",
       "    <tr>\n",
       "      <th>14855</th>\n",
       "      <td>21.0</td>\n",
       "    </tr>\n",
       "  </tbody>\n",
       "</table>\n",
       "</div>"
      ],
      "text/plain": [
       "        age\n",
       "14855  21.0"
      ]
     },
     "execution_count": 61,
     "metadata": {},
     "output_type": "execute_result"
    }
   ],
   "source": [
    "data.loc[data[\"work_pressure\"] == 2.0,[\"age\"]]"
   ]
  },
  {
   "cell_type": "markdown",
   "id": "3f452d41",
   "metadata": {},
   "source": [
    "Observations:\n",
    "* Based on my intuition these records do not make sense. The reason is in India students normally start working after the age of 26 27, normally after they graduate.  \n",
    "* Without additional context and source of dataset its hard to conclude. \n",
    "* But since there are just 3 such records we can safely ignore it for now. "
   ]
  },
  {
   "cell_type": "markdown",
   "id": "f5eecdaa",
   "metadata": {},
   "source": [
    "## Visualize Distributions"
   ]
  },
  {
   "cell_type": "code",
   "execution_count": 66,
   "id": "42ecb10a",
   "metadata": {},
   "outputs": [
    {
     "data": {
      "image/png": "[encoded data removed]",
      "text/plain": [
       "<Figure size 640x480 with 1 Axes>"
      ]
     },
     "metadata": {},
     "output_type": "display_data"
    },
    {
     "data": {
      "image/png": "[encoded data removed]",
      "text/plain": [
       "<Figure size 640x480 with 1 Axes>"
      ]
     },
     "metadata": {},
     "output_type": "display_data"
    },
    {
     "data": {
      "image/png": "[encoded data removed]",
      "text/plain": [
       "<Figure size 640x480 with 1 Axes>"
      ]
     },
     "metadata": {},
     "output_type": "display_data"
    },
    {
     "data": {
      "image/png": "[encoded data removed]",
      "text/plain": [
       "<Figure size 640x480 with 1 Axes>"
      ]
     },
     "metadata": {},
     "output_type": "display_data"
    },
    {
     "data": {
      "image/png": "[encoded data removed]",
      "text/plain": [
       "<Figure size 640x480 with 1 Axes>"
      ]
     },
     "metadata": {},
     "output_type": "display_data"
    },
    {
     "data": {
      "image/png": "[encoded data removed]",
      "text/plain": [
       "<Figure size 640x480 with 1 Axes>"
      ]
     },
     "metadata": {},
     "output_type": "display_data"
    },
    {
     "data": {
      "image/png": "[encoded data removed]",
      "text/plain": [
       "<Figure size 640x480 with 1 Axes>"
      ]
     },
     "metadata": {},
     "output_type": "display_data"
    },
    {
     "data": {
      "image/png": "[encoded data removed]",
      "text/plain": [
       "<Figure size 640x480 with 1 Axes>"
      ]
     },
     "metadata": {},
     "output_type": "display_data"
    },
    {
     "data": {
      "image/png": "[encoded data removed]",
      "text/plain": [
       "<Figure size 640x480 with 1 Axes>"
      ]
     },
     "metadata": {},
     "output_type": "display_data"
    }
   ],
   "source": [
    "import seaborn as sns\n",
    "import matplotlib.pyplot as pyt\n",
    "\n",
    "columns_to_visulize = [\"age\", \"academic_pressure\", \"work_pressure\", \"cgpa\",\"study_satisfaction\",\"job_satisfaction\",\"work_study_hours\", \"depression\", \"financial_stress\"]\n",
    "\n",
    "for col in columns_to_visulize:\n",
    "    pyt.figure()\n",
    "    sns.histplot(data[col], kde=True)"
   ]
  },
  {
   "cell_type": "markdown",
   "id": "2450713f",
   "metadata": {},
   "source": [
    "* So the visualizations align with our understanding of dataset,\n",
    "    * Negligible amout of instances have non-zero \"work_pressure\" and \"job_satisfaction\" values, indicating majority of the instances are of a student or unemployed graduates.\n",
    "    * We do have considerable amout of students above the age of 30 based on this I have a hypothesis there should be an older range of students with higher financial stress and younger range of students with higher academic pressure. \n",
    "* For now next step is to do a train/test split before detailed data exploration. We do this to avoid any data snooping. "
   ]
  },
  {
   "cell_type": "markdown",
   "id": "562ed68f",
   "metadata": {},
   "source": [
    "## Train/Test Split"
   ]
  },
  {
   "cell_type": "code",
   "execution_count": 28,
   "id": "3cd312d9",
   "metadata": {},
   "outputs": [
    {
     "data": {
      "text/plain": [
       "(27901, 17)"
      ]
     },
     "execution_count": 28,
     "metadata": {},
     "output_type": "execute_result"
    }
   ],
   "source": [
    "data.shape"
   ]
  },
  {
   "cell_type": "markdown",
   "id": "67642bbe",
   "metadata": {},
   "source": [
    "* Lets do a stratified 80/20 train test split, this will give us ~22K training data and 5K testing data. "
   ]
  },
  {
   "cell_type": "code",
   "execution_count": 29,
   "id": "21bac00a",
   "metadata": {},
   "outputs": [],
   "source": [
    "## split the dataset into features and target\n",
    "X = data.drop(columns=[\"depression\"])\n",
    "y = data[\"depression\"]"
   ]
  },
  {
   "cell_type": "code",
   "execution_count": 30,
   "id": "20a52db7",
   "metadata": {},
   "outputs": [
    {
     "data": {
      "text/plain": [
       "((27901, 16), (27901,))"
      ]
     },
     "execution_count": 30,
     "metadata": {},
     "output_type": "execute_result"
    }
   ],
   "source": [
    "X.shape,y.shape"
   ]
  },
  {
   "cell_type": "code",
   "execution_count": 31,
   "id": "a66f80bf",
   "metadata": {},
   "outputs": [
    {
     "data": {
      "application/vnd.microsoft.datawrangler.viewer.v0+json": {
       "columns": [
        {
         "name": "index",
         "rawType": "int64",
         "type": "integer"
        },
        {
         "name": "gender",
         "rawType": "object",
         "type": "string"
        },
        {
         "name": "age",
         "rawType": "float64",
         "type": "float"
        },
        {
         "name": "city",
         "rawType": "object",
         "type": "string"
        },
        {
         "name": "profession",
         "rawType": "object",
         "type": "string"
        },
        {
         "name": "academic_pressure",
         "rawType": "float64",
         "type": "float"
        },
        {
         "name": "work_pressure",
         "rawType": "float64",
         "type": "float"
        },
        {
         "name": "cgpa",
         "rawType": "float64",
         "type": "float"
        },
        {
         "name": "study_satisfaction",
         "rawType": "float64",
         "type": "float"
        },
        {
         "name": "job_satisfaction",
         "rawType": "float64",
         "type": "float"
        },
        {
         "name": "sleep_duration",
         "rawType": "object",
         "type": "string"
        },
        {
         "name": "dietary_habits",
         "rawType": "object",
         "type": "string"
        },
        {
         "name": "degree",
         "rawType": "object",
         "type": "string"
        },
        {
         "name": "suicidal_thoughts",
         "rawType": "object",
         "type": "string"
        },
        {
         "name": "work_study_hours",
         "rawType": "float64",
         "type": "float"
        },
        {
         "name": "financial_stress",
         "rawType": "float64",
         "type": "float"
        },
        {
         "name": "family_history",
         "rawType": "object",
         "type": "string"
        }
       ],
       "ref": "fac87324-256b-4b9a-ab85-04fd5b325e3f",
       "rows": [
        [
         "0",
         "Male",
         "33.0",
         "Visakhapatnam",
         "Student",
         "5.0",
         "0.0",
         "8.97",
         "2.0",
         "0.0",
         "'5-6 hours'",
         "Healthy",
         "B.Pharm",
         "Yes",
         "3.0",
         "1.0",
         "No"
        ],
        [
         "1",
         "Female",
         "24.0",
         "Bangalore",
         "Student",
         "2.0",
         "0.0",
         "5.9",
         "5.0",
         "0.0",
         "'5-6 hours'",
         "Moderate",
         "BSc",
         "No",
         "3.0",
         "2.0",
         "Yes"
        ],
        [
         "2",
         "Male",
         "31.0",
         "Srinagar",
         "Student",
         "3.0",
         "0.0",
         "7.03",
         "5.0",
         "0.0",
         "'Less than 5 hours'",
         "Healthy",
         "BA",
         "No",
         "9.0",
         "1.0",
         "Yes"
        ],
        [
         "3",
         "Female",
         "28.0",
         "Varanasi",
         "Student",
         "3.0",
         "0.0",
         "5.59",
         "2.0",
         "0.0",
         "'7-8 hours'",
         "Moderate",
         "BCA",
         "Yes",
         "4.0",
         "5.0",
         "Yes"
        ],
        [
         "4",
         "Female",
         "25.0",
         "Jaipur",
         "Student",
         "4.0",
         "0.0",
         "8.13",
         "3.0",
         "0.0",
         "'5-6 hours'",
         "Moderate",
         "M.Tech",
         "Yes",
         "1.0",
         "1.0",
         "No"
        ]
       ],
       "shape": {
        "columns": 16,
        "rows": 5
       }
      },
      "text/html": [
       "<div>\n",
       "<style scoped>\n",
       "    .dataframe tbody tr th:only-of-type {\n",
       "        vertical-align: middle;\n",
       "    }\n",
       "\n",
       "    .dataframe tbody tr th {\n",
       "        vertical-align: top;\n",
       "    }\n",
       "\n",
       "    .dataframe thead th {\n",
       "        text-align: right;\n",
       "    }\n",
       "</style>\n",
       "<table border=\"1\" class=\"dataframe\">\n",
       "  <thead>\n",
       "    <tr style=\"text-align: right;\">\n",
       "      <th></th>\n",
       "      <th>gender</th>\n",
       "      <th>age</th>\n",
       "      <th>city</th>\n",
       "      <th>profession</th>\n",
       "      <th>academic_pressure</th>\n",
       "      <th>work_pressure</th>\n",
       "      <th>cgpa</th>\n",
       "      <th>study_satisfaction</th>\n",
       "      <th>job_satisfaction</th>\n",
       "      <th>sleep_duration</th>\n",
       "      <th>dietary_habits</th>\n",
       "      <th>degree</th>\n",
       "      <th>suicidal_thoughts</th>\n",
       "      <th>work_study_hours</th>\n",
       "      <th>financial_stress</th>\n",
       "      <th>family_history</th>\n",
       "    </tr>\n",
       "  </thead>\n",
       "  <tbody>\n",
       "    <tr>\n",
       "      <th>0</th>\n",
       "      <td>Male</td>\n",
       "      <td>33.0</td>\n",
       "      <td>Visakhapatnam</td>\n",
       "      <td>Student</td>\n",
       "      <td>5.0</td>\n",
       "      <td>0.0</td>\n",
       "      <td>8.97</td>\n",
       "      <td>2.0</td>\n",
       "      <td>0.0</td>\n",
       "      <td>'5-6 hours'</td>\n",
       "      <td>Healthy</td>\n",
       "      <td>B.Pharm</td>\n",
       "      <td>Yes</td>\n",
       "      <td>3.0</td>\n",
       "      <td>1.0</td>\n",
       "      <td>No</td>\n",
       "    </tr>\n",
       "    <tr>\n",
       "      <th>1</th>\n",
       "      <td>Female</td>\n",
       "      <td>24.0</td>\n",
       "      <td>Bangalore</td>\n",
       "      <td>Student</td>\n",
       "      <td>2.0</td>\n",
       "      <td>0.0</td>\n",
       "      <td>5.90</td>\n",
       "      <td>5.0</td>\n",
       "      <td>0.0</td>\n",
       "      <td>'5-6 hours'</td>\n",
       "      <td>Moderate</td>\n",
       "      <td>BSc</td>\n",
       "      <td>No</td>\n",
       "      <td>3.0</td>\n",
       "      <td>2.0</td>\n",
       "      <td>Yes</td>\n",
       "    </tr>\n",
       "    <tr>\n",
       "      <th>2</th>\n",
       "      <td>Male</td>\n",
       "      <td>31.0</td>\n",
       "      <td>Srinagar</td>\n",
       "      <td>Student</td>\n",
       "      <td>3.0</td>\n",
       "      <td>0.0</td>\n",
       "      <td>7.03</td>\n",
       "      <td>5.0</td>\n",
       "      <td>0.0</td>\n",
       "      <td>'Less than 5 hours'</td>\n",
       "      <td>Healthy</td>\n",
       "      <td>BA</td>\n",
       "      <td>No</td>\n",
       "      <td>9.0</td>\n",
       "      <td>1.0</td>\n",
       "      <td>Yes</td>\n",
       "    </tr>\n",
       "    <tr>\n",
       "      <th>3</th>\n",
       "      <td>Female</td>\n",
       "      <td>28.0</td>\n",
       "      <td>Varanasi</td>\n",
       "      <td>Student</td>\n",
       "      <td>3.0</td>\n",
       "      <td>0.0</td>\n",
       "      <td>5.59</td>\n",
       "      <td>2.0</td>\n",
       "      <td>0.0</td>\n",
       "      <td>'7-8 hours'</td>\n",
       "      <td>Moderate</td>\n",
       "      <td>BCA</td>\n",
       "      <td>Yes</td>\n",
       "      <td>4.0</td>\n",
       "      <td>5.0</td>\n",
       "      <td>Yes</td>\n",
       "    </tr>\n",
       "    <tr>\n",
       "      <th>4</th>\n",
       "      <td>Female</td>\n",
       "      <td>25.0</td>\n",
       "      <td>Jaipur</td>\n",
       "      <td>Student</td>\n",
       "      <td>4.0</td>\n",
       "      <td>0.0</td>\n",
       "      <td>8.13</td>\n",
       "      <td>3.0</td>\n",
       "      <td>0.0</td>\n",
       "      <td>'5-6 hours'</td>\n",
       "      <td>Moderate</td>\n",
       "      <td>M.Tech</td>\n",
       "      <td>Yes</td>\n",
       "      <td>1.0</td>\n",
       "      <td>1.0</td>\n",
       "      <td>No</td>\n",
       "    </tr>\n",
       "  </tbody>\n",
       "</table>\n",
       "</div>"
      ],
      "text/plain": [
       "   gender   age           city profession  academic_pressure  work_pressure  \\\n",
       "0    Male  33.0  Visakhapatnam    Student                5.0            0.0   \n",
       "1  Female  24.0      Bangalore    Student                2.0            0.0   \n",
       "2    Male  31.0       Srinagar    Student                3.0            0.0   \n",
       "3  Female  28.0       Varanasi    Student                3.0            0.0   \n",
       "4  Female  25.0         Jaipur    Student                4.0            0.0   \n",
       "\n",
       "   cgpa  study_satisfaction  job_satisfaction       sleep_duration  \\\n",
       "0  8.97                 2.0               0.0          '5-6 hours'   \n",
       "1  5.90                 5.0               0.0          '5-6 hours'   \n",
       "2  7.03                 5.0               0.0  'Less than 5 hours'   \n",
       "3  5.59                 2.0               0.0          '7-8 hours'   \n",
       "4  8.13                 3.0               0.0          '5-6 hours'   \n",
       "\n",
       "  dietary_habits   degree suicidal_thoughts  work_study_hours  \\\n",
       "0        Healthy  B.Pharm               Yes               3.0   \n",
       "1       Moderate      BSc                No               3.0   \n",
       "2        Healthy       BA                No               9.0   \n",
       "3       Moderate      BCA               Yes               4.0   \n",
       "4       Moderate   M.Tech               Yes               1.0   \n",
       "\n",
       "   financial_stress family_history  \n",
       "0               1.0             No  \n",
       "1               2.0            Yes  \n",
       "2               1.0            Yes  \n",
       "3               5.0            Yes  \n",
       "4               1.0             No  "
      ]
     },
     "execution_count": 31,
     "metadata": {},
     "output_type": "execute_result"
    }
   ],
   "source": [
    "X.head()"
   ]
  },
  {
   "cell_type": "code",
   "execution_count": 32,
   "id": "507440f4",
   "metadata": {},
   "outputs": [
    {
     "data": {
      "application/vnd.microsoft.datawrangler.viewer.v0+json": {
       "columns": [
        {
         "name": "index",
         "rawType": "int64",
         "type": "integer"
        },
        {
         "name": "depression",
         "rawType": "int64",
         "type": "integer"
        }
       ],
       "ref": "02a867cc-aff6-4e5a-be29-2485a3a08e0c",
       "rows": [
        [
         "0",
         "1"
        ],
        [
         "1",
         "0"
        ],
        [
         "2",
         "0"
        ],
        [
         "3",
         "1"
        ],
        [
         "4",
         "0"
        ]
       ],
       "shape": {
        "columns": 1,
        "rows": 5
       }
      },
      "text/plain": [
       "0    1\n",
       "1    0\n",
       "2    0\n",
       "3    1\n",
       "4    0\n",
       "Name: depression, dtype: int64"
      ]
     },
     "execution_count": 32,
     "metadata": {},
     "output_type": "execute_result"
    }
   ],
   "source": [
    "y.head()"
   ]
  },
  {
   "cell_type": "code",
   "execution_count": 64,
   "id": "084dd6fe",
   "metadata": {},
   "outputs": [
    {
     "data": {
      "text/plain": [
       "((22320, 16), (22320,), (5581, 16), (5581,))"
      ]
     },
     "execution_count": 64,
     "metadata": {},
     "output_type": "execute_result"
    }
   ],
   "source": [
    "from sklearn.model_selection import StratifiedShuffleSplit\n",
    "\n",
    "sss = StratifiedShuffleSplit(n_splits=1, test_size=0.2, random_state=42)\n",
    "\n",
    "for i,(train_index,test_index) in enumerate(sss.split(X,y)):\n",
    "    X_train = X.loc[train_index]\n",
    "    y_train = y.loc[train_index]\n",
    "    X_test = X.loc[test_index]\n",
    "    y_test = y.loc[test_index]\n",
    "    \n",
    "\n",
    "X_train.shape,y_train.shape,X_test.shape,y_test.shape"
   ]
  },
  {
   "cell_type": "code",
   "execution_count": 65,
   "id": "3dce463b",
   "metadata": {},
   "outputs": [],
   "source": [
    "## saving the datasets to files for easier access\n",
    "\n",
    "X_train.to_csv(Path(data_dir,\"X_train.csv\"), index=False)\n",
    "y_train.to_csv(Path(data_dir, \"y_train.csv\"), index=False)\n",
    "X_test.to_csv(Path(data_dir,\"X_test.csv\"), index=False)\n",
    "y_test.to_csv(Path(data_dir, \"y_test.csv\"), index=False)"
   ]
  },
  {
   "cell_type": "code",
   "execution_count": null,
   "id": "371ac7d7",
   "metadata": {},
   "outputs": [],
   "source": []
  },
  {
   "cell_type": "code",
   "execution_count": null,
   "id": "0c84f257",
   "metadata": {},
   "outputs": [],
   "source": []
  }
 ],
 "metadata": {
  "kernelspec": {
   "display_name": "venv",
   "language": "python",
   "name": "python3"
  },
  "language_info": {
   "codemirror_mode": {
    "name": "ipython",
    "version": 3
   },
   "file_extension": ".py",
   "mimetype": "text/x-python",
   "name": "python",
   "nbconvert_exporter": "python",
   "pygments_lexer": "ipython3",
   "version": "3.12.2"
  }
 },
 "nbformat": 4,
 "nbformat_minor": 5
}
