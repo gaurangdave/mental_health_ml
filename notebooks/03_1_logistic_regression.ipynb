{
 "cells": [
  {
   "cell_type": "markdown",
   "id": "3e016feb",
   "metadata": {},
   "source": [
    "# Training & Evaluation\n",
    "* We are going to break down training and evaluation into multiple notebooks, one for each algorithm that we train and evalutate. \n",
    "* In this first notebook, we'll create baseline models to get the predictions based on `stratified` and `most frequent` classes"
   ]
  },
  {
   "cell_type": "markdown",
   "id": "354c8b09",
   "metadata": {},
   "source": [
    "## Install Libraries"
   ]
  },
  {
   "cell_type": "code",
   "execution_count": 1,
   "id": "0e6ab31e",
   "metadata": {},
   "outputs": [],
   "source": [
    "# %pip install scikit-learn"
   ]
  },
  {
   "cell_type": "markdown",
   "id": "d6bc0ffa",
   "metadata": {},
   "source": [
    "## Import Libraries"
   ]
  },
  {
   "cell_type": "code",
   "execution_count": 2,
   "id": "9dd4e325",
   "metadata": {},
   "outputs": [],
   "source": [
    "import os\n",
    "import sys\n",
    "import pandas as pd\n",
    "import numpy as np\n",
    "from sklearn.compose import ColumnTransformer\n",
    "from pathlib import Path\n",
    "import matplotlib.pyplot as plt\n",
    "from sklearn.linear_model import LogisticRegression\n",
    "from sklearn.metrics import f1_score,recall_score,precision_score,precision_recall_curve\n",
    "import seaborn as sns\n",
    "\n",
    "\n",
    "# Build an absolute path from this notebook's parent directory\n",
    "module_path = os.path.abspath(os.path.join('..'))\n",
    "\n",
    "# Add to sys.path if not already present\n",
    "if module_path not in sys.path:\n",
    "    sys.path.append(module_path)\n",
    "    \n",
    "from src.utils import preprocessing\n",
    "from src.utils import common"
   ]
  },
  {
   "cell_type": "markdown",
   "id": "99171561",
   "metadata": {},
   "source": [
    "## Initialize Directories"
   ]
  },
  {
   "cell_type": "code",
   "execution_count": 3,
   "id": "8866bde8",
   "metadata": {},
   "outputs": [],
   "source": [
    "data_root_dir = Path(\"..\", \"data/\")\n",
    "models_root_dir = Path(\"..\", \"models/\")"
   ]
  },
  {
   "cell_type": "markdown",
   "id": "6fd37b08",
   "metadata": {},
   "source": [
    "## Read Data"
   ]
  },
  {
   "cell_type": "code",
   "execution_count": 4,
   "id": "905ed441",
   "metadata": {},
   "outputs": [],
   "source": [
    "X_train = pd.read_csv(Path(data_root_dir,\"X_train.csv\"))\n",
    "y_train = pd.read_csv(Path(data_root_dir,\"y_train.csv\"))"
   ]
  },
  {
   "cell_type": "code",
   "execution_count": 5,
   "id": "9e71cc68",
   "metadata": {},
   "outputs": [],
   "source": [
    "# preprocessed_data_df = pd.DataFrame(preprocessing.pipeline.fit_transform(\n",
    "#     X_train,y_train), columns=preprocessing.pipeline.get_feature_names_out())\n",
    "# preprocessed_data_df.head()"
   ]
  },
  {
   "cell_type": "code",
   "execution_count": 6,
   "id": "1d12c534",
   "metadata": {},
   "outputs": [],
   "source": [
    "# preprocessed_data_df.isna().sum()"
   ]
  },
  {
   "cell_type": "markdown",
   "id": "6de090ae",
   "metadata": {},
   "source": [
    "## Training Default Model"
   ]
  },
  {
   "cell_type": "code",
   "execution_count": 7,
   "id": "14559c20",
   "metadata": {},
   "outputs": [],
   "source": [
    "# import sklearn\n",
    "\n",
    "\n",
    "# sklearn.metrics.get_scorer_names() "
   ]
  },
  {
   "cell_type": "code",
   "execution_count": 8,
   "id": "08aa40a2",
   "metadata": {},
   "outputs": [
    {
     "name": "stderr",
     "output_type": "stream",
     "text": [
      "[Parallel(n_jobs=-1)]: Using backend LokyBackend with 20 concurrent workers.\n"
     ]
    },
    {
     "name": "stdout",
     "output_type": "stream",
     "text": [
      "[CV] END .................................................... total time=   1.8s\n",
      "[CV] END .................................................... total time=   1.8s\n",
      "[CV] END .................................................... total time=   1.8s\n"
     ]
    },
    {
     "name": "stderr",
     "output_type": "stream",
     "text": [
      "[Parallel(n_jobs=-1)]: Done   3 out of   3 | elapsed:    3.2s finished\n"
     ]
    }
   ],
   "source": [
    "from sklearn.discriminant_analysis import StandardScaler\n",
    "from sklearn.model_selection import cross_val_score, cross_validate\n",
    "from sklearn.pipeline import Pipeline\n",
    "\n",
    "\n",
    "default_logistic_regression_model = LogisticRegression(max_iter=1000)\n",
    "\n",
    "model_pipeline = Pipeline([\n",
    "    (\"preprocessing\", preprocessing.pipeline),\n",
    "    (\"normalizing\", StandardScaler()),\n",
    "    (\"prediction\", default_logistic_regression_model)\n",
    "])\n",
    "\n",
    "scoring = [\"recall\", \"precision\", \"f1\"]\n",
    "\n",
    "default_logistic_regression_scores = cross_validate(\n",
    "    estimator=model_pipeline, \n",
    "    X=X_train, \n",
    "    y=y_train.values.ravel(), \n",
    "    cv=3, scoring=scoring,\n",
    "    n_jobs=-1, verbose=2)"
   ]
  },
  {
   "cell_type": "code",
   "execution_count": 9,
   "id": "1a65c77c",
   "metadata": {},
   "outputs": [
    {
     "data": {
      "text/plain": [
       "{'fit_time': array([1.13277888, 1.02969384, 1.03409982]),\n",
       " 'score_time': array([0.7023406 , 0.80733037, 0.78664589]),\n",
       " 'test_recall': array([0.89370983, 0.88337925, 0.87970615]),\n",
       " 'test_precision': array([0.85522847, 0.85283688, 0.86228623]),\n",
       " 'test_f1': array([0.8740458 , 0.86783942, 0.87090909])}"
      ]
     },
     "execution_count": 9,
     "metadata": {},
     "output_type": "execute_result"
    }
   ],
   "source": [
    "default_logistic_regression_scores"
   ]
  },
  {
   "cell_type": "code",
   "execution_count": 10,
   "id": "9e2f10cc",
   "metadata": {},
   "outputs": [],
   "source": [
    "average_recall = np.average(default_logistic_regression_scores[\"test_recall\"])\n",
    "average_precision = np.average(default_logistic_regression_scores[\"test_precision\"])\n",
    "average_f1 = np.average(default_logistic_regression_scores[\"test_f1\"])"
   ]
  },
  {
   "cell_type": "code",
   "execution_count": null,
   "id": "68f7ffd8",
   "metadata": {},
   "outputs": [
    {
     "data": {
      "application/vnd.microsoft.datawrangler.viewer.v0+json": {
       "columns": [
        {
         "name": "index",
         "rawType": "int64",
         "type": "integer"
        },
        {
         "name": "model",
         "rawType": "object",
         "type": "string"
        },
        {
         "name": "version",
         "rawType": "object",
         "type": "string"
        },
        {
         "name": "recall",
         "rawType": "float64",
         "type": "float"
        },
        {
         "name": "precision",
         "rawType": "float64",
         "type": "float"
        },
        {
         "name": "f1",
         "rawType": "float64",
         "type": "float"
        },
        {
         "name": "file",
         "rawType": "object",
         "type": "string"
        }
       ],
       "ref": "a5cce265-7fd8-44be-8e79-5db1b60efebb",
       "rows": [
        [
         "0",
         "Logistic Regression",
         "default",
         "0.885598408325681",
         "0.8567838596857479",
         "0.8709314383596732",
         "N/A"
        ]
       ],
       "shape": {
        "columns": 6,
        "rows": 1
       }
      },
      "text/html": [
       "<div>\n",
       "<style scoped>\n",
       "    .dataframe tbody tr th:only-of-type {\n",
       "        vertical-align: middle;\n",
       "    }\n",
       "\n",
       "    .dataframe tbody tr th {\n",
       "        vertical-align: top;\n",
       "    }\n",
       "\n",
       "    .dataframe thead th {\n",
       "        text-align: right;\n",
       "    }\n",
       "</style>\n",
       "<table border=\"1\" class=\"dataframe\">\n",
       "  <thead>\n",
       "    <tr style=\"text-align: right;\">\n",
       "      <th></th>\n",
       "      <th>model</th>\n",
       "      <th>version</th>\n",
       "      <th>recall</th>\n",
       "      <th>precision</th>\n",
       "      <th>f1</th>\n",
       "      <th>file</th>\n",
       "    </tr>\n",
       "  </thead>\n",
       "  <tbody>\n",
       "    <tr>\n",
       "      <th>0</th>\n",
       "      <td>Logistic Regression</td>\n",
       "      <td>default</td>\n",
       "      <td>0.885598</td>\n",
       "      <td>0.856784</td>\n",
       "      <td>0.870931</td>\n",
       "      <td>N/A</td>\n",
       "    </tr>\n",
       "  </tbody>\n",
       "</table>\n",
       "</div>"
      ],
      "text/plain": [
       "                 model  version    recall  precision        f1 file\n",
       "0  Logistic Regression  default  0.885598   0.856784  0.870931  N/A"
      ]
     },
     "execution_count": 12,
     "metadata": {},
     "output_type": "execute_result"
    }
   ],
   "source": [
    "## commenting this code out to avoid overwriting the metrics file. \n",
    "## common.update_models_metrics(\"Logistic Regression\", \"default\", average_recall,average_precision,average_f1)"
   ]
  },
  {
   "cell_type": "code",
   "execution_count": 13,
   "id": "a69bad09",
   "metadata": {},
   "outputs": [],
   "source": [
    "# X_train.isnull().sum()"
   ]
  },
  {
   "cell_type": "code",
   "execution_count": null,
   "id": "9510c74d",
   "metadata": {},
   "outputs": [],
   "source": []
  }
 ],
 "metadata": {
  "kernelspec": {
   "display_name": "venv",
   "language": "python",
   "name": "python3"
  },
  "language_info": {
   "codemirror_mode": {
    "name": "ipython",
    "version": 3
   },
   "file_extension": ".py",
   "mimetype": "text/x-python",
   "name": "python",
   "nbconvert_exporter": "python",
   "pygments_lexer": "ipython3",
   "version": "3.12.2"
  }
 },
 "nbformat": 4,
 "nbformat_minor": 5
}
