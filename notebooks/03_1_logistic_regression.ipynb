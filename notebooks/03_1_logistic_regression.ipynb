{
 "cells": [
  {
   "cell_type": "markdown",
   "id": "3e016feb",
   "metadata": {},
   "source": [
    "# Training & Evaluation\n",
    "* We are going to break down training and evaluation into multiple notebooks, one for each algorithm that we train and evalutate. \n",
    "* In this first notebook, we'll create baseline models to get the predictions based on `stratified` and `most frequent` classes"
   ]
  },
  {
   "cell_type": "markdown",
   "id": "354c8b09",
   "metadata": {},
   "source": [
    "## Install Libraries"
   ]
  },
  {
   "cell_type": "code",
   "execution_count": 1,
   "id": "0e6ab31e",
   "metadata": {},
   "outputs": [],
   "source": [
    "# %pip install scikit-learn"
   ]
  },
  {
   "cell_type": "markdown",
   "id": "d6bc0ffa",
   "metadata": {},
   "source": [
    "## Import Libraries"
   ]
  },
  {
   "cell_type": "code",
   "execution_count": 2,
   "id": "9dd4e325",
   "metadata": {},
   "outputs": [],
   "source": [
    "import os\n",
    "import sys\n",
    "import pandas as pd\n",
    "import numpy as np\n",
    "from sklearn.compose import ColumnTransformer\n",
    "from pathlib import Path\n",
    "import matplotlib.pyplot as plt\n",
    "from sklearn.linear_model import LogisticRegression\n",
    "from sklearn.metrics import f1_score,recall_score,precision_score,precision_recall_curve\n",
    "import seaborn as sns\n",
    "\n",
    "\n",
    "# Build an absolute path from this notebook's parent directory\n",
    "module_path = os.path.abspath(os.path.join('..'))\n",
    "\n",
    "# Add to sys.path if not already present\n",
    "if module_path not in sys.path:\n",
    "    sys.path.append(module_path)\n",
    "    \n",
    "from src.utils import preprocessing"
   ]
  },
  {
   "cell_type": "markdown",
   "id": "99171561",
   "metadata": {},
   "source": [
    "## Initialize Directories"
   ]
  },
  {
   "cell_type": "code",
   "execution_count": 3,
   "id": "8866bde8",
   "metadata": {},
   "outputs": [],
   "source": [
    "data_root_dir = Path(\"..\", \"data/\")\n",
    "models_root_dir = Path(\"..\", \"models/\")"
   ]
  },
  {
   "cell_type": "markdown",
   "id": "6fd37b08",
   "metadata": {},
   "source": [
    "## Read Data"
   ]
  },
  {
   "cell_type": "code",
   "execution_count": 4,
   "id": "905ed441",
   "metadata": {},
   "outputs": [],
   "source": [
    "X_train = pd.read_csv(Path(data_root_dir,\"X_train.csv\"))\n",
    "y_train = pd.read_csv(Path(data_root_dir,\"y_train.csv\"))"
   ]
  },
  {
   "cell_type": "code",
   "execution_count": 5,
   "id": "9e71cc68",
   "metadata": {},
   "outputs": [
    {
     "data": {
      "application/vnd.microsoft.datawrangler.viewer.v0+json": {
       "columns": [
        {
         "name": "index",
         "rawType": "int64",
         "type": "integer"
        },
        {
         "name": "preprocess_gender__gender_female",
         "rawType": "float64",
         "type": "float"
        },
        {
         "name": "preprocess_gender__gender_male",
         "rawType": "float64",
         "type": "float"
        },
        {
         "name": "preprocess_profession__profession_student",
         "rawType": "float64",
         "type": "float"
        },
        {
         "name": "preprocess_profession__profession_working",
         "rawType": "float64",
         "type": "float"
        },
        {
         "name": "sleep_duration_pipeline__sleep_duration_bt_5_6",
         "rawType": "float64",
         "type": "float"
        },
        {
         "name": "sleep_duration_pipeline__sleep_duration_bt_7_8",
         "rawType": "float64",
         "type": "float"
        },
        {
         "name": "sleep_duration_pipeline__sleep_duration_gt_8",
         "rawType": "float64",
         "type": "float"
        },
        {
         "name": "sleep_duration_pipeline__sleep_duration_lt_5",
         "rawType": "float64",
         "type": "float"
        },
        {
         "name": "dietary_habits_pipeline__dietary_habits_healthy",
         "rawType": "float64",
         "type": "float"
        },
        {
         "name": "dietary_habits_pipeline__dietary_habits_moderate",
         "rawType": "float64",
         "type": "float"
        },
        {
         "name": "dietary_habits_pipeline__dietary_habits_unhealthy",
         "rawType": "float64",
         "type": "float"
        },
        {
         "name": "degree_pipeline__encode_degree_field__degree_field_architecture",
         "rawType": "float64",
         "type": "float"
        },
        {
         "name": "degree_pipeline__encode_degree_field__degree_field_arts",
         "rawType": "float64",
         "type": "float"
        },
        {
         "name": "degree_pipeline__encode_degree_field__degree_field_business",
         "rawType": "float64",
         "type": "float"
        },
        {
         "name": "degree_pipeline__encode_degree_field__degree_field_commerce",
         "rawType": "float64",
         "type": "float"
        },
        {
         "name": "degree_pipeline__encode_degree_field__degree_field_computer_app",
         "rawType": "float64",
         "type": "float"
        },
        {
         "name": "degree_pipeline__encode_degree_field__degree_field_education",
         "rawType": "float64",
         "type": "float"
        },
        {
         "name": "degree_pipeline__encode_degree_field__degree_field_engineering",
         "rawType": "float64",
         "type": "float"
        },
        {
         "name": "degree_pipeline__encode_degree_field__degree_field_hospitality",
         "rawType": "float64",
         "type": "float"
        },
        {
         "name": "degree_pipeline__encode_degree_field__degree_field_law",
         "rawType": "float64",
         "type": "float"
        },
        {
         "name": "degree_pipeline__encode_degree_field__degree_field_medical",
         "rawType": "float64",
         "type": "float"
        },
        {
         "name": "degree_pipeline__encode_degree_field__degree_field_pharmacy",
         "rawType": "float64",
         "type": "float"
        },
        {
         "name": "degree_pipeline__encode_degree_field__degree_field_research",
         "rawType": "float64",
         "type": "float"
        },
        {
         "name": "degree_pipeline__encode_degree_field__degree_field_school",
         "rawType": "float64",
         "type": "float"
        },
        {
         "name": "degree_pipeline__encode_degree_field__degree_field_science",
         "rawType": "float64",
         "type": "float"
        },
        {
         "name": "degree_pipeline__encode_degree_field__degree_field_unknown",
         "rawType": "float64",
         "type": "float"
        },
        {
         "name": "degree_pipeline__encode_degree_level__degree_level_bachelor",
         "rawType": "float64",
         "type": "float"
        },
        {
         "name": "degree_pipeline__encode_degree_level__degree_level_doctorate",
         "rawType": "float64",
         "type": "float"
        },
        {
         "name": "degree_pipeline__encode_degree_level__degree_level_high_school",
         "rawType": "float64",
         "type": "float"
        },
        {
         "name": "degree_pipeline__encode_degree_level__degree_level_master",
         "rawType": "float64",
         "type": "float"
        },
        {
         "name": "degree_pipeline__encode_degree_level__degree_level_unknown",
         "rawType": "float64",
         "type": "float"
        },
        {
         "name": "suicidal_thoughts_pipeline__suicidal_thoughts_no",
         "rawType": "float64",
         "type": "float"
        },
        {
         "name": "suicidal_thoughts_pipeline__suicidal_thoughts_yes",
         "rawType": "float64",
         "type": "float"
        },
        {
         "name": "family_history_pipeline__family_history_no",
         "rawType": "float64",
         "type": "float"
        },
        {
         "name": "family_history_pipeline__family_history_yes",
         "rawType": "float64",
         "type": "float"
        },
        {
         "name": "city_pipeline__is_valid_city",
         "rawType": "float64",
         "type": "float"
        },
        {
         "name": "city_pipeline__city_depression_ratio",
         "rawType": "float64",
         "type": "float"
        },
        {
         "name": "city_pipeline__similarity_to_cluster_0",
         "rawType": "float64",
         "type": "float"
        },
        {
         "name": "city_pipeline__similarity_to_cluster_1",
         "rawType": "float64",
         "type": "float"
        },
        {
         "name": "city_pipeline__similarity_to_cluster_2",
         "rawType": "float64",
         "type": "float"
        },
        {
         "name": "city_pipeline__similarity_to_cluster_3",
         "rawType": "float64",
         "type": "float"
        },
        {
         "name": "city_pipeline__similarity_to_cluster_4",
         "rawType": "float64",
         "type": "float"
        },
        {
         "name": "age_pipeline__encode_age_range__age_range_18_to_23",
         "rawType": "float64",
         "type": "float"
        },
        {
         "name": "age_pipeline__encode_age_range__age_range_23_to_28",
         "rawType": "float64",
         "type": "float"
        },
        {
         "name": "age_pipeline__encode_age_range__age_range_28_to_33",
         "rawType": "float64",
         "type": "float"
        },
        {
         "name": "age_pipeline__encode_age_range__age_range_gte_33",
         "rawType": "float64",
         "type": "float"
        },
        {
         "name": "cgpa_pipeline__encode_cgpa_range__cgpa_range_4_to_7",
         "rawType": "float64",
         "type": "float"
        },
        {
         "name": "cgpa_pipeline__encode_cgpa_range__cgpa_range_gte_7",
         "rawType": "float64",
         "type": "float"
        },
        {
         "name": "cgpa_pipeline__encode_cgpa_range__cgpa_range_lt_4",
         "rawType": "float64",
         "type": "float"
        },
        {
         "name": "hours_pipeline__encode_hours_range__hours_range_4_to_8",
         "rawType": "float64",
         "type": "float"
        },
        {
         "name": "hours_pipeline__encode_hours_range__hours_range_gte_8",
         "rawType": "float64",
         "type": "float"
        },
        {
         "name": "hours_pipeline__encode_hours_range__hours_range_lt_4",
         "rawType": "float64",
         "type": "float"
        },
        {
         "name": "ratings_column_pipeline__academic_pressure",
         "rawType": "float64",
         "type": "float"
        },
        {
         "name": "ratings_column_pipeline__study_satisfaction",
         "rawType": "float64",
         "type": "float"
        },
        {
         "name": "ratings_column_pipeline__financial_stress",
         "rawType": "float64",
         "type": "float"
        }
       ],
       "ref": "45f3ae14-6abd-4532-ac03-31674a85e9ff",
       "rows": [
        [
         "0",
         "0.0",
         "1.0",
         "1.0",
         "0.0",
         "0.0",
         "1.0",
         "0.0",
         "0.0",
         "0.0",
         "1.0",
         "0.0",
         "0.0",
         "0.0",
         "0.0",
         "0.0",
         "0.0",
         "0.0",
         "0.0",
         "0.0",
         "0.0",
         "0.0",
         "0.0",
         "0.0",
         "1.0",
         "0.0",
         "0.0",
         "0.0",
         "0.0",
         "1.0",
         "0.0",
         "0.0",
         "0.0",
         "1.0",
         "1.0",
         "0.0",
         "1.0",
         "0.5261904761904762",
         "0.0012793572768172738",
         "1.8511094000031705e-37",
         "1.4383421273811648e-42",
         "1.6454085832518736e-26",
         "2.943821092272833e-14",
         "1.0",
         "0.0",
         "0.0",
         "0.0",
         "1.0",
         "0.0",
         "0.0",
         "0.0",
         "0.0",
         "1.0",
         "4.0",
         "1.0",
         "5.0"
        ],
        [
         "1",
         "0.0",
         "1.0",
         "1.0",
         "0.0",
         "0.0",
         "1.0",
         "0.0",
         "0.0",
         "0.0",
         "1.0",
         "0.0",
         "1.0",
         "0.0",
         "0.0",
         "0.0",
         "0.0",
         "0.0",
         "0.0",
         "0.0",
         "0.0",
         "0.0",
         "0.0",
         "0.0",
         "0.0",
         "0.0",
         "0.0",
         "1.0",
         "0.0",
         "0.0",
         "0.0",
         "0.0",
         "1.0",
         "0.0",
         "0.0",
         "1.0",
         "1.0",
         "0.5561497326203209",
         "1.019946743703393e-28",
         "4.117934022212395e-39",
         "0.23899435810352831",
         "8.509382979324835e-23",
         "4.3320248472719755e-101",
         "0.0",
         "1.0",
         "0.0",
         "0.0",
         "1.0",
         "0.0",
         "0.0",
         "0.0",
         "1.0",
         "0.0",
         "3.0",
         "2.0",
         "1.0"
        ],
        [
         "2",
         "0.0",
         "1.0",
         "1.0",
         "0.0",
         "0.0",
         "1.0",
         "0.0",
         "0.0",
         "0.0",
         "0.0",
         "1.0",
         "0.0",
         "0.0",
         "0.0",
         "0.0",
         "0.0",
         "1.0",
         "0.0",
         "0.0",
         "0.0",
         "0.0",
         "0.0",
         "0.0",
         "0.0",
         "0.0",
         "0.0",
         "0.0",
         "0.0",
         "0.0",
         "1.0",
         "0.0",
         "0.0",
         "1.0",
         "0.0",
         "1.0",
         "1.0",
         "0.6590909090909091",
         "3.510246646418399e-11",
         "3.0980133461365905e-54",
         "1.6516220138274772e-12",
         "0.0008833347821352651",
         "2.1982607786658752e-74",
         "0.0",
         "0.0",
         "1.0",
         "0.0",
         "0.0",
         "1.0",
         "0.0",
         "1.0",
         "0.0",
         "0.0",
         "3.0",
         "2.0",
         "5.0"
        ],
        [
         "3",
         "0.0",
         "1.0",
         "1.0",
         "0.0",
         "0.0",
         "1.0",
         "0.0",
         "0.0",
         "0.0",
         "1.0",
         "0.0",
         "0.0",
         "0.0",
         "0.0",
         "1.0",
         "0.0",
         "0.0",
         "0.0",
         "0.0",
         "0.0",
         "0.0",
         "0.0",
         "0.0",
         "0.0",
         "0.0",
         "0.0",
         "1.0",
         "0.0",
         "0.0",
         "0.0",
         "0.0",
         "0.0",
         "1.0",
         "1.0",
         "0.0",
         "1.0",
         "0.6203208556149733",
         "0.0027424651487432576",
         "7.385188552785237e-37",
         "7.624314506728511e-15",
         "1.9058482464188242e-08",
         "9.218215124428508e-47",
         "0.0",
         "0.0",
         "0.0",
         "1.0",
         "0.0",
         "1.0",
         "0.0",
         "0.0",
         "1.0",
         "0.0",
         "3.0",
         "5.0",
         "3.0"
        ],
        [
         "4",
         "0.0",
         "1.0",
         "1.0",
         "0.0",
         "1.0",
         "0.0",
         "0.0",
         "0.0",
         "0.0",
         "0.0",
         "1.0",
         "0.0",
         "0.0",
         "0.0",
         "1.0",
         "0.0",
         "0.0",
         "0.0",
         "0.0",
         "0.0",
         "0.0",
         "0.0",
         "0.0",
         "0.0",
         "0.0",
         "0.0",
         "1.0",
         "0.0",
         "0.0",
         "0.0",
         "0.0",
         "1.0",
         "0.0",
         "1.0",
         "0.0",
         "1.0",
         "0.6342648845686513",
         "0.7348076427398075",
         "8.912597486334565e-38",
         "1.421567467599185e-29",
         "3.712564158767781e-15",
         "3.0399979939098563e-26",
         "0.0",
         "1.0",
         "0.0",
         "0.0",
         "0.0",
         "1.0",
         "0.0",
         "0.0",
         "1.0",
         "0.0",
         "3.0",
         "4.0",
         "5.0"
        ]
       ],
       "shape": {
        "columns": 55,
        "rows": 5
       }
      },
      "text/html": [
       "<div>\n",
       "<style scoped>\n",
       "    .dataframe tbody tr th:only-of-type {\n",
       "        vertical-align: middle;\n",
       "    }\n",
       "\n",
       "    .dataframe tbody tr th {\n",
       "        vertical-align: top;\n",
       "    }\n",
       "\n",
       "    .dataframe thead th {\n",
       "        text-align: right;\n",
       "    }\n",
       "</style>\n",
       "<table border=\"1\" class=\"dataframe\">\n",
       "  <thead>\n",
       "    <tr style=\"text-align: right;\">\n",
       "      <th></th>\n",
       "      <th>preprocess_gender__gender_female</th>\n",
       "      <th>preprocess_gender__gender_male</th>\n",
       "      <th>preprocess_profession__profession_student</th>\n",
       "      <th>preprocess_profession__profession_working</th>\n",
       "      <th>sleep_duration_pipeline__sleep_duration_bt_5_6</th>\n",
       "      <th>sleep_duration_pipeline__sleep_duration_bt_7_8</th>\n",
       "      <th>sleep_duration_pipeline__sleep_duration_gt_8</th>\n",
       "      <th>sleep_duration_pipeline__sleep_duration_lt_5</th>\n",
       "      <th>dietary_habits_pipeline__dietary_habits_healthy</th>\n",
       "      <th>dietary_habits_pipeline__dietary_habits_moderate</th>\n",
       "      <th>...</th>\n",
       "      <th>age_pipeline__encode_age_range__age_range_gte_33</th>\n",
       "      <th>cgpa_pipeline__encode_cgpa_range__cgpa_range_4_to_7</th>\n",
       "      <th>cgpa_pipeline__encode_cgpa_range__cgpa_range_gte_7</th>\n",
       "      <th>cgpa_pipeline__encode_cgpa_range__cgpa_range_lt_4</th>\n",
       "      <th>hours_pipeline__encode_hours_range__hours_range_4_to_8</th>\n",
       "      <th>hours_pipeline__encode_hours_range__hours_range_gte_8</th>\n",
       "      <th>hours_pipeline__encode_hours_range__hours_range_lt_4</th>\n",
       "      <th>ratings_column_pipeline__academic_pressure</th>\n",
       "      <th>ratings_column_pipeline__study_satisfaction</th>\n",
       "      <th>ratings_column_pipeline__financial_stress</th>\n",
       "    </tr>\n",
       "  </thead>\n",
       "  <tbody>\n",
       "    <tr>\n",
       "      <th>0</th>\n",
       "      <td>0.0</td>\n",
       "      <td>1.0</td>\n",
       "      <td>1.0</td>\n",
       "      <td>0.0</td>\n",
       "      <td>0.0</td>\n",
       "      <td>1.0</td>\n",
       "      <td>0.0</td>\n",
       "      <td>0.0</td>\n",
       "      <td>0.0</td>\n",
       "      <td>1.0</td>\n",
       "      <td>...</td>\n",
       "      <td>0.0</td>\n",
       "      <td>1.0</td>\n",
       "      <td>0.0</td>\n",
       "      <td>0.0</td>\n",
       "      <td>0.0</td>\n",
       "      <td>0.0</td>\n",
       "      <td>1.0</td>\n",
       "      <td>4.0</td>\n",
       "      <td>1.0</td>\n",
       "      <td>5.0</td>\n",
       "    </tr>\n",
       "    <tr>\n",
       "      <th>1</th>\n",
       "      <td>0.0</td>\n",
       "      <td>1.0</td>\n",
       "      <td>1.0</td>\n",
       "      <td>0.0</td>\n",
       "      <td>0.0</td>\n",
       "      <td>1.0</td>\n",
       "      <td>0.0</td>\n",
       "      <td>0.0</td>\n",
       "      <td>0.0</td>\n",
       "      <td>1.0</td>\n",
       "      <td>...</td>\n",
       "      <td>0.0</td>\n",
       "      <td>1.0</td>\n",
       "      <td>0.0</td>\n",
       "      <td>0.0</td>\n",
       "      <td>0.0</td>\n",
       "      <td>1.0</td>\n",
       "      <td>0.0</td>\n",
       "      <td>3.0</td>\n",
       "      <td>2.0</td>\n",
       "      <td>1.0</td>\n",
       "    </tr>\n",
       "    <tr>\n",
       "      <th>2</th>\n",
       "      <td>0.0</td>\n",
       "      <td>1.0</td>\n",
       "      <td>1.0</td>\n",
       "      <td>0.0</td>\n",
       "      <td>0.0</td>\n",
       "      <td>1.0</td>\n",
       "      <td>0.0</td>\n",
       "      <td>0.0</td>\n",
       "      <td>0.0</td>\n",
       "      <td>0.0</td>\n",
       "      <td>...</td>\n",
       "      <td>0.0</td>\n",
       "      <td>0.0</td>\n",
       "      <td>1.0</td>\n",
       "      <td>0.0</td>\n",
       "      <td>1.0</td>\n",
       "      <td>0.0</td>\n",
       "      <td>0.0</td>\n",
       "      <td>3.0</td>\n",
       "      <td>2.0</td>\n",
       "      <td>5.0</td>\n",
       "    </tr>\n",
       "    <tr>\n",
       "      <th>3</th>\n",
       "      <td>0.0</td>\n",
       "      <td>1.0</td>\n",
       "      <td>1.0</td>\n",
       "      <td>0.0</td>\n",
       "      <td>0.0</td>\n",
       "      <td>1.0</td>\n",
       "      <td>0.0</td>\n",
       "      <td>0.0</td>\n",
       "      <td>0.0</td>\n",
       "      <td>1.0</td>\n",
       "      <td>...</td>\n",
       "      <td>1.0</td>\n",
       "      <td>0.0</td>\n",
       "      <td>1.0</td>\n",
       "      <td>0.0</td>\n",
       "      <td>0.0</td>\n",
       "      <td>1.0</td>\n",
       "      <td>0.0</td>\n",
       "      <td>3.0</td>\n",
       "      <td>5.0</td>\n",
       "      <td>3.0</td>\n",
       "    </tr>\n",
       "    <tr>\n",
       "      <th>4</th>\n",
       "      <td>0.0</td>\n",
       "      <td>1.0</td>\n",
       "      <td>1.0</td>\n",
       "      <td>0.0</td>\n",
       "      <td>1.0</td>\n",
       "      <td>0.0</td>\n",
       "      <td>0.0</td>\n",
       "      <td>0.0</td>\n",
       "      <td>0.0</td>\n",
       "      <td>0.0</td>\n",
       "      <td>...</td>\n",
       "      <td>0.0</td>\n",
       "      <td>0.0</td>\n",
       "      <td>1.0</td>\n",
       "      <td>0.0</td>\n",
       "      <td>0.0</td>\n",
       "      <td>1.0</td>\n",
       "      <td>0.0</td>\n",
       "      <td>3.0</td>\n",
       "      <td>4.0</td>\n",
       "      <td>5.0</td>\n",
       "    </tr>\n",
       "  </tbody>\n",
       "</table>\n",
       "<p>5 rows × 55 columns</p>\n",
       "</div>"
      ],
      "text/plain": [
       "   preprocess_gender__gender_female  preprocess_gender__gender_male  \\\n",
       "0                               0.0                             1.0   \n",
       "1                               0.0                             1.0   \n",
       "2                               0.0                             1.0   \n",
       "3                               0.0                             1.0   \n",
       "4                               0.0                             1.0   \n",
       "\n",
       "   preprocess_profession__profession_student  \\\n",
       "0                                        1.0   \n",
       "1                                        1.0   \n",
       "2                                        1.0   \n",
       "3                                        1.0   \n",
       "4                                        1.0   \n",
       "\n",
       "   preprocess_profession__profession_working  \\\n",
       "0                                        0.0   \n",
       "1                                        0.0   \n",
       "2                                        0.0   \n",
       "3                                        0.0   \n",
       "4                                        0.0   \n",
       "\n",
       "   sleep_duration_pipeline__sleep_duration_bt_5_6  \\\n",
       "0                                             0.0   \n",
       "1                                             0.0   \n",
       "2                                             0.0   \n",
       "3                                             0.0   \n",
       "4                                             1.0   \n",
       "\n",
       "   sleep_duration_pipeline__sleep_duration_bt_7_8  \\\n",
       "0                                             1.0   \n",
       "1                                             1.0   \n",
       "2                                             1.0   \n",
       "3                                             1.0   \n",
       "4                                             0.0   \n",
       "\n",
       "   sleep_duration_pipeline__sleep_duration_gt_8  \\\n",
       "0                                           0.0   \n",
       "1                                           0.0   \n",
       "2                                           0.0   \n",
       "3                                           0.0   \n",
       "4                                           0.0   \n",
       "\n",
       "   sleep_duration_pipeline__sleep_duration_lt_5  \\\n",
       "0                                           0.0   \n",
       "1                                           0.0   \n",
       "2                                           0.0   \n",
       "3                                           0.0   \n",
       "4                                           0.0   \n",
       "\n",
       "   dietary_habits_pipeline__dietary_habits_healthy  \\\n",
       "0                                              0.0   \n",
       "1                                              0.0   \n",
       "2                                              0.0   \n",
       "3                                              0.0   \n",
       "4                                              0.0   \n",
       "\n",
       "   dietary_habits_pipeline__dietary_habits_moderate  ...  \\\n",
       "0                                               1.0  ...   \n",
       "1                                               1.0  ...   \n",
       "2                                               0.0  ...   \n",
       "3                                               1.0  ...   \n",
       "4                                               0.0  ...   \n",
       "\n",
       "   age_pipeline__encode_age_range__age_range_gte_33  \\\n",
       "0                                               0.0   \n",
       "1                                               0.0   \n",
       "2                                               0.0   \n",
       "3                                               1.0   \n",
       "4                                               0.0   \n",
       "\n",
       "   cgpa_pipeline__encode_cgpa_range__cgpa_range_4_to_7  \\\n",
       "0                                                1.0     \n",
       "1                                                1.0     \n",
       "2                                                0.0     \n",
       "3                                                0.0     \n",
       "4                                                0.0     \n",
       "\n",
       "   cgpa_pipeline__encode_cgpa_range__cgpa_range_gte_7  \\\n",
       "0                                                0.0    \n",
       "1                                                0.0    \n",
       "2                                                1.0    \n",
       "3                                                1.0    \n",
       "4                                                1.0    \n",
       "\n",
       "   cgpa_pipeline__encode_cgpa_range__cgpa_range_lt_4  \\\n",
       "0                                                0.0   \n",
       "1                                                0.0   \n",
       "2                                                0.0   \n",
       "3                                                0.0   \n",
       "4                                                0.0   \n",
       "\n",
       "   hours_pipeline__encode_hours_range__hours_range_4_to_8  \\\n",
       "0                                                0.0        \n",
       "1                                                0.0        \n",
       "2                                                1.0        \n",
       "3                                                0.0        \n",
       "4                                                0.0        \n",
       "\n",
       "   hours_pipeline__encode_hours_range__hours_range_gte_8  \\\n",
       "0                                                0.0       \n",
       "1                                                1.0       \n",
       "2                                                0.0       \n",
       "3                                                1.0       \n",
       "4                                                1.0       \n",
       "\n",
       "   hours_pipeline__encode_hours_range__hours_range_lt_4  \\\n",
       "0                                                1.0      \n",
       "1                                                0.0      \n",
       "2                                                0.0      \n",
       "3                                                0.0      \n",
       "4                                                0.0      \n",
       "\n",
       "   ratings_column_pipeline__academic_pressure  \\\n",
       "0                                         4.0   \n",
       "1                                         3.0   \n",
       "2                                         3.0   \n",
       "3                                         3.0   \n",
       "4                                         3.0   \n",
       "\n",
       "   ratings_column_pipeline__study_satisfaction  \\\n",
       "0                                          1.0   \n",
       "1                                          2.0   \n",
       "2                                          2.0   \n",
       "3                                          5.0   \n",
       "4                                          4.0   \n",
       "\n",
       "   ratings_column_pipeline__financial_stress  \n",
       "0                                        5.0  \n",
       "1                                        1.0  \n",
       "2                                        5.0  \n",
       "3                                        3.0  \n",
       "4                                        5.0  \n",
       "\n",
       "[5 rows x 55 columns]"
      ]
     },
     "execution_count": 5,
     "metadata": {},
     "output_type": "execute_result"
    }
   ],
   "source": [
    "preprocessed_data_df = pd.DataFrame(preprocessing.pipeline.fit_transform(\n",
    "    X_train,y_train), columns=preprocessing.pipeline.get_feature_names_out())\n",
    "preprocessed_data_df.head()"
   ]
  },
  {
   "cell_type": "code",
   "execution_count": 6,
   "id": "1d12c534",
   "metadata": {},
   "outputs": [
    {
     "data": {
      "application/vnd.microsoft.datawrangler.viewer.v0+json": {
       "columns": [
        {
         "name": "index",
         "rawType": "object",
         "type": "string"
        },
        {
         "name": "0",
         "rawType": "int64",
         "type": "integer"
        }
       ],
       "ref": "69f565a2-ee09-4a99-b066-b827462638f7",
       "rows": [
        [
         "preprocess_gender__gender_female",
         "0"
        ],
        [
         "preprocess_gender__gender_male",
         "0"
        ],
        [
         "preprocess_profession__profession_student",
         "0"
        ],
        [
         "preprocess_profession__profession_working",
         "0"
        ],
        [
         "sleep_duration_pipeline__sleep_duration_bt_5_6",
         "0"
        ],
        [
         "sleep_duration_pipeline__sleep_duration_bt_7_8",
         "0"
        ],
        [
         "sleep_duration_pipeline__sleep_duration_gt_8",
         "0"
        ],
        [
         "sleep_duration_pipeline__sleep_duration_lt_5",
         "0"
        ],
        [
         "dietary_habits_pipeline__dietary_habits_healthy",
         "0"
        ],
        [
         "dietary_habits_pipeline__dietary_habits_moderate",
         "0"
        ],
        [
         "dietary_habits_pipeline__dietary_habits_unhealthy",
         "0"
        ],
        [
         "degree_pipeline__encode_degree_field__degree_field_architecture",
         "0"
        ],
        [
         "degree_pipeline__encode_degree_field__degree_field_arts",
         "0"
        ],
        [
         "degree_pipeline__encode_degree_field__degree_field_business",
         "0"
        ],
        [
         "degree_pipeline__encode_degree_field__degree_field_commerce",
         "0"
        ],
        [
         "degree_pipeline__encode_degree_field__degree_field_computer_app",
         "0"
        ],
        [
         "degree_pipeline__encode_degree_field__degree_field_education",
         "0"
        ],
        [
         "degree_pipeline__encode_degree_field__degree_field_engineering",
         "0"
        ],
        [
         "degree_pipeline__encode_degree_field__degree_field_hospitality",
         "0"
        ],
        [
         "degree_pipeline__encode_degree_field__degree_field_law",
         "0"
        ],
        [
         "degree_pipeline__encode_degree_field__degree_field_medical",
         "0"
        ],
        [
         "degree_pipeline__encode_degree_field__degree_field_pharmacy",
         "0"
        ],
        [
         "degree_pipeline__encode_degree_field__degree_field_research",
         "0"
        ],
        [
         "degree_pipeline__encode_degree_field__degree_field_school",
         "0"
        ],
        [
         "degree_pipeline__encode_degree_field__degree_field_science",
         "0"
        ],
        [
         "degree_pipeline__encode_degree_field__degree_field_unknown",
         "0"
        ],
        [
         "degree_pipeline__encode_degree_level__degree_level_bachelor",
         "0"
        ],
        [
         "degree_pipeline__encode_degree_level__degree_level_doctorate",
         "0"
        ],
        [
         "degree_pipeline__encode_degree_level__degree_level_high_school",
         "0"
        ],
        [
         "degree_pipeline__encode_degree_level__degree_level_master",
         "0"
        ],
        [
         "degree_pipeline__encode_degree_level__degree_level_unknown",
         "0"
        ],
        [
         "suicidal_thoughts_pipeline__suicidal_thoughts_no",
         "0"
        ],
        [
         "suicidal_thoughts_pipeline__suicidal_thoughts_yes",
         "0"
        ],
        [
         "family_history_pipeline__family_history_no",
         "0"
        ],
        [
         "family_history_pipeline__family_history_yes",
         "0"
        ],
        [
         "city_pipeline__is_valid_city",
         "0"
        ],
        [
         "city_pipeline__city_depression_ratio",
         "0"
        ],
        [
         "city_pipeline__similarity_to_cluster_0",
         "0"
        ],
        [
         "city_pipeline__similarity_to_cluster_1",
         "0"
        ],
        [
         "city_pipeline__similarity_to_cluster_2",
         "0"
        ],
        [
         "city_pipeline__similarity_to_cluster_3",
         "0"
        ],
        [
         "city_pipeline__similarity_to_cluster_4",
         "0"
        ],
        [
         "age_pipeline__encode_age_range__age_range_18_to_23",
         "0"
        ],
        [
         "age_pipeline__encode_age_range__age_range_23_to_28",
         "0"
        ],
        [
         "age_pipeline__encode_age_range__age_range_28_to_33",
         "0"
        ],
        [
         "age_pipeline__encode_age_range__age_range_gte_33",
         "0"
        ],
        [
         "cgpa_pipeline__encode_cgpa_range__cgpa_range_4_to_7",
         "0"
        ],
        [
         "cgpa_pipeline__encode_cgpa_range__cgpa_range_gte_7",
         "0"
        ],
        [
         "cgpa_pipeline__encode_cgpa_range__cgpa_range_lt_4",
         "0"
        ],
        [
         "hours_pipeline__encode_hours_range__hours_range_4_to_8",
         "0"
        ]
       ],
       "shape": {
        "columns": 1,
        "rows": 55
       }
      },
      "text/plain": [
       "preprocess_gender__gender_female                                   0\n",
       "preprocess_gender__gender_male                                     0\n",
       "preprocess_profession__profession_student                          0\n",
       "preprocess_profession__profession_working                          0\n",
       "sleep_duration_pipeline__sleep_duration_bt_5_6                     0\n",
       "sleep_duration_pipeline__sleep_duration_bt_7_8                     0\n",
       "sleep_duration_pipeline__sleep_duration_gt_8                       0\n",
       "sleep_duration_pipeline__sleep_duration_lt_5                       0\n",
       "dietary_habits_pipeline__dietary_habits_healthy                    0\n",
       "dietary_habits_pipeline__dietary_habits_moderate                   0\n",
       "dietary_habits_pipeline__dietary_habits_unhealthy                  0\n",
       "degree_pipeline__encode_degree_field__degree_field_architecture    0\n",
       "degree_pipeline__encode_degree_field__degree_field_arts            0\n",
       "degree_pipeline__encode_degree_field__degree_field_business        0\n",
       "degree_pipeline__encode_degree_field__degree_field_commerce        0\n",
       "degree_pipeline__encode_degree_field__degree_field_computer_app    0\n",
       "degree_pipeline__encode_degree_field__degree_field_education       0\n",
       "degree_pipeline__encode_degree_field__degree_field_engineering     0\n",
       "degree_pipeline__encode_degree_field__degree_field_hospitality     0\n",
       "degree_pipeline__encode_degree_field__degree_field_law             0\n",
       "degree_pipeline__encode_degree_field__degree_field_medical         0\n",
       "degree_pipeline__encode_degree_field__degree_field_pharmacy        0\n",
       "degree_pipeline__encode_degree_field__degree_field_research        0\n",
       "degree_pipeline__encode_degree_field__degree_field_school          0\n",
       "degree_pipeline__encode_degree_field__degree_field_science         0\n",
       "degree_pipeline__encode_degree_field__degree_field_unknown         0\n",
       "degree_pipeline__encode_degree_level__degree_level_bachelor        0\n",
       "degree_pipeline__encode_degree_level__degree_level_doctorate       0\n",
       "degree_pipeline__encode_degree_level__degree_level_high_school     0\n",
       "degree_pipeline__encode_degree_level__degree_level_master          0\n",
       "degree_pipeline__encode_degree_level__degree_level_unknown         0\n",
       "suicidal_thoughts_pipeline__suicidal_thoughts_no                   0\n",
       "suicidal_thoughts_pipeline__suicidal_thoughts_yes                  0\n",
       "family_history_pipeline__family_history_no                         0\n",
       "family_history_pipeline__family_history_yes                        0\n",
       "city_pipeline__is_valid_city                                       0\n",
       "city_pipeline__city_depression_ratio                               0\n",
       "city_pipeline__similarity_to_cluster_0                             0\n",
       "city_pipeline__similarity_to_cluster_1                             0\n",
       "city_pipeline__similarity_to_cluster_2                             0\n",
       "city_pipeline__similarity_to_cluster_3                             0\n",
       "city_pipeline__similarity_to_cluster_4                             0\n",
       "age_pipeline__encode_age_range__age_range_18_to_23                 0\n",
       "age_pipeline__encode_age_range__age_range_23_to_28                 0\n",
       "age_pipeline__encode_age_range__age_range_28_to_33                 0\n",
       "age_pipeline__encode_age_range__age_range_gte_33                   0\n",
       "cgpa_pipeline__encode_cgpa_range__cgpa_range_4_to_7                0\n",
       "cgpa_pipeline__encode_cgpa_range__cgpa_range_gte_7                 0\n",
       "cgpa_pipeline__encode_cgpa_range__cgpa_range_lt_4                  0\n",
       "hours_pipeline__encode_hours_range__hours_range_4_to_8             0\n",
       "hours_pipeline__encode_hours_range__hours_range_gte_8              0\n",
       "hours_pipeline__encode_hours_range__hours_range_lt_4               0\n",
       "ratings_column_pipeline__academic_pressure                         0\n",
       "ratings_column_pipeline__study_satisfaction                        0\n",
       "ratings_column_pipeline__financial_stress                          0\n",
       "dtype: int64"
      ]
     },
     "execution_count": 6,
     "metadata": {},
     "output_type": "execute_result"
    }
   ],
   "source": [
    "preprocessed_data_df.isna().sum()"
   ]
  },
  {
   "cell_type": "markdown",
   "id": "6de090ae",
   "metadata": {},
   "source": [
    "## Training Default Model"
   ]
  },
  {
   "cell_type": "code",
   "execution_count": 7,
   "id": "14559c20",
   "metadata": {},
   "outputs": [],
   "source": [
    "# import sklearn\n",
    "\n",
    "\n",
    "# sklearn.metrics.get_scorer_names() "
   ]
  },
  {
   "cell_type": "code",
   "execution_count": 8,
   "id": "08aa40a2",
   "metadata": {},
   "outputs": [
    {
     "name": "stderr",
     "output_type": "stream",
     "text": [
      "/home/gaurangdave/workspace/mental_health_ml/venv/lib/python3.12/site-packages/sklearn/utils/validation.py:1408: DataConversionWarning: A column-vector y was passed when a 1d array was expected. Please change the shape of y to (n_samples, ), for example using ravel().\n",
      "  y = column_or_1d(y, warn=True)\n",
      "/home/gaurangdave/workspace/mental_health_ml/venv/lib/python3.12/site-packages/sklearn/utils/validation.py:1408: DataConversionWarning: A column-vector y was passed when a 1d array was expected. Please change the shape of y to (n_samples, ), for example using ravel().\n",
      "  y = column_or_1d(y, warn=True)\n",
      "/home/gaurangdave/workspace/mental_health_ml/venv/lib/python3.12/site-packages/sklearn/utils/validation.py:1408: DataConversionWarning: A column-vector y was passed when a 1d array was expected. Please change the shape of y to (n_samples, ), for example using ravel().\n",
      "  y = column_or_1d(y, warn=True)\n",
      "/home/gaurangdave/workspace/mental_health_ml/venv/lib/python3.12/site-packages/sklearn/pipeline.py:62: FutureWarning: This Pipeline instance is not fitted yet. Call 'fit' with appropriate arguments before using other methods such as transform, predict, etc. This will raise an error in 1.8 instead of the current warning.\n",
      "  warnings.warn(\n",
      "/home/gaurangdave/workspace/mental_health_ml/venv/lib/python3.12/site-packages/sklearn/pipeline.py:62: FutureWarning: This Pipeline instance is not fitted yet. Call 'fit' with appropriate arguments before using other methods such as transform, predict, etc. This will raise an error in 1.8 instead of the current warning.\n",
      "  warnings.warn(\n",
      "/home/gaurangdave/workspace/mental_health_ml/venv/lib/python3.12/site-packages/sklearn/pipeline.py:62: FutureWarning: This Pipeline instance is not fitted yet. Call 'fit' with appropriate arguments before using other methods such as transform, predict, etc. This will raise an error in 1.8 instead of the current warning.\n",
      "  warnings.warn(\n"
     ]
    }
   ],
   "source": [
    "from sklearn.discriminant_analysis import StandardScaler\n",
    "from sklearn.model_selection import cross_val_score, cross_validate\n",
    "from sklearn.pipeline import Pipeline\n",
    "\n",
    "\n",
    "default_logistic_regression_model = LogisticRegression(max_iter=1000)\n",
    "\n",
    "model_pipeline = Pipeline([\n",
    "    (\"preprocessing\", preprocessing.pipeline),\n",
    "    (\"normalizing\", StandardScaler()),\n",
    "    (\"prediction\", default_logistic_regression_model)\n",
    "])\n",
    "\n",
    "scoring = [\"recall\", \"precision\", \"f1\"]\n",
    "\n",
    "default_logistic_regression_scores = cross_validate(estimator=model_pipeline,X=X_train,y=y_train,cv=3,scoring=scoring,n_jobs=-1)"
   ]
  },
  {
   "cell_type": "code",
   "execution_count": 9,
   "id": "1a65c77c",
   "metadata": {},
   "outputs": [
    {
     "data": {
      "text/plain": [
       "{'fit_time': array([1.13903427, 1.05161095, 1.03185582]),\n",
       " 'score_time': array([0.71297598, 0.8227787 , 0.80029511]),\n",
       " 'test_recall': array([0.89256198, 0.88567493, 0.87970615]),\n",
       " 'test_precision': array([0.85695393, 0.85335103, 0.86170452]),\n",
       " 'test_f1': array([0.87439559, 0.86921257, 0.87061229])}"
      ]
     },
     "execution_count": 9,
     "metadata": {},
     "output_type": "execute_result"
    }
   ],
   "source": [
    "default_logistic_regression_scores"
   ]
  },
  {
   "cell_type": "code",
   "execution_count": 10,
   "id": "d14f0e7e",
   "metadata": {},
   "outputs": [],
   "source": [
    "# model_pipeline = Pipeline([\n",
    "#     (\"preprocessing\", preprocessing.pipeline),\n",
    "#     (\"normalizing\", StandardScaler()),\n",
    "# ])\n",
    "\n",
    "# temp = model_pipeline.fit_transform(X_train,y_train)\n",
    "# temp"
   ]
  },
  {
   "cell_type": "code",
   "execution_count": 11,
   "id": "68f7ffd8",
   "metadata": {},
   "outputs": [],
   "source": [
    "# print(X_train.shape)\n",
    "# model_pipeline = Pipeline([\n",
    "#     (\"preprocessing\", preprocessing.pipeline),\n",
    "#     # (\"normalizing\", StandardScaler()),\n",
    "# ])\n",
    "\n",
    "# temp = model_pipeline.fit_transform(X_train,y_train)\n",
    "# print(temp.shape)"
   ]
  },
  {
   "cell_type": "code",
   "execution_count": 12,
   "id": "a69bad09",
   "metadata": {},
   "outputs": [],
   "source": [
    "# X_train.isnull().sum()"
   ]
  },
  {
   "cell_type": "code",
   "execution_count": null,
   "id": "9510c74d",
   "metadata": {},
   "outputs": [],
   "source": []
  }
 ],
 "metadata": {
  "kernelspec": {
   "display_name": "venv",
   "language": "python",
   "name": "python3"
  },
  "language_info": {
   "codemirror_mode": {
    "name": "ipython",
    "version": 3
   },
   "file_extension": ".py",
   "mimetype": "text/x-python",
   "name": "python",
   "nbconvert_exporter": "python",
   "pygments_lexer": "ipython3",
   "version": "3.12.2"
  }
 },
 "nbformat": 4,
 "nbformat_minor": 5
}
