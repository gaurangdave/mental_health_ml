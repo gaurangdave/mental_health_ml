{
 "cells": [
  {
   "cell_type": "markdown",
   "id": "885f744d",
   "metadata": {},
   "source": [
    "# Scratch Pad\n",
    "* This notebook is created to quickly experiment around with different code implementation before we add it to notebooks or production scripts.\n",
    "* Basically its a scratch pad intended to undersand how some apis or code behave."
   ]
  },
  {
   "cell_type": "code",
   "execution_count": 4,
   "id": "b23fce3c",
   "metadata": {},
   "outputs": [
    {
     "name": "stdout",
     "output_type": "stream",
     "text": [
      "Requirement already satisfied: scikit-learn in /home/gaurangdave/workspace/mental_health_ml/venv/lib/python3.12/site-packages (1.6.1)\n",
      "Requirement already satisfied: numpy>=1.19.5 in /home/gaurangdave/workspace/mental_health_ml/venv/lib/python3.12/site-packages (from scikit-learn) (2.2.6)\n",
      "Requirement already satisfied: scipy>=1.6.0 in /home/gaurangdave/workspace/mental_health_ml/venv/lib/python3.12/site-packages (from scikit-learn) (1.15.3)\n",
      "Requirement already satisfied: joblib>=1.2.0 in /home/gaurangdave/workspace/mental_health_ml/venv/lib/python3.12/site-packages (from scikit-learn) (1.5.1)\n",
      "Requirement already satisfied: threadpoolctl>=3.1.0 in /home/gaurangdave/workspace/mental_health_ml/venv/lib/python3.12/site-packages (from scikit-learn) (3.6.0)\n",
      "Note: you may need to restart the kernel to use updated packages.\n",
      "Requirement already satisfied: pandas in /home/gaurangdave/workspace/mental_health_ml/venv/lib/python3.12/site-packages (2.2.3)\n",
      "Requirement already satisfied: numpy>=1.26.0 in /home/gaurangdave/workspace/mental_health_ml/venv/lib/python3.12/site-packages (from pandas) (2.2.6)\n",
      "Requirement already satisfied: python-dateutil>=2.8.2 in /home/gaurangdave/workspace/mental_health_ml/venv/lib/python3.12/site-packages (from pandas) (2.9.0.post0)\n",
      "Requirement already satisfied: pytz>=2020.1 in /home/gaurangdave/workspace/mental_health_ml/venv/lib/python3.12/site-packages (from pandas) (2025.2)\n",
      "Requirement already satisfied: tzdata>=2022.7 in /home/gaurangdave/workspace/mental_health_ml/venv/lib/python3.12/site-packages (from pandas) (2025.2)\n",
      "Requirement already satisfied: six>=1.5 in /home/gaurangdave/workspace/mental_health_ml/venv/lib/python3.12/site-packages (from python-dateutil>=2.8.2->pandas) (1.17.0)\n",
      "Note: you may need to restart the kernel to use updated packages.\n",
      "Requirement already satisfied: numpy in /home/gaurangdave/workspace/mental_health_ml/venv/lib/python3.12/site-packages (2.2.6)\n",
      "Note: you may need to restart the kernel to use updated packages.\n"
     ]
    }
   ],
   "source": [
    "%pip install scikit-learn\n",
    "%pip install pandas\n",
    "%pip install numpy"
   ]
  },
  {
   "cell_type": "code",
   "execution_count": 23,
   "id": "46d201e2",
   "metadata": {},
   "outputs": [],
   "source": [
    "import os\n",
    "import sys\n",
    "import pandas as pd\n",
    "import numpy as np\n",
    "from sklearn.compose import ColumnTransformer\n",
    "from pathlib import Path\n",
    "\n",
    "# Build an absolute path from this notebook's parent directory\n",
    "module_path = os.path.abspath(os.path.join('..'))\n",
    "\n",
    "# Add to sys.path if not already present\n",
    "if module_path not in sys.path:\n",
    "    sys.path.append(module_path)\n",
    "    \n",
    "from src.utils import categorical_preprocessing, numerical_preprocessing,custom_encoder"
   ]
  },
  {
   "cell_type": "code",
   "execution_count": 24,
   "id": "ec20ec3f",
   "metadata": {},
   "outputs": [],
   "source": [
    "categories = [['Male','Female'],[1,2,3]]\n",
    "\n",
    "ce = custom_encoder.CustomEncoder(encoding=\"ordinal\", categories=categories)\n",
    "X = [['Male', 1.0], ['Female', 3.0], ['Female', 2.0]]\n",
    "\n",
    "temp = ce.fit_transform(X)"
   ]
  },
  {
   "cell_type": "code",
   "execution_count": 25,
   "id": "37a52a1e",
   "metadata": {},
   "outputs": [
    {
     "data": {
      "text/plain": [
       "array([[0., 0.],\n",
       "       [1., 2.],\n",
       "       [1., 1.]])"
      ]
     },
     "execution_count": 25,
     "metadata": {},
     "output_type": "execute_result"
    }
   ],
   "source": [
    "temp"
   ]
  },
  {
   "cell_type": "code",
   "execution_count": 26,
   "id": "a4d2e858",
   "metadata": {},
   "outputs": [
    {
     "data": {
      "text/plain": [
       "[['Male', 1.0], ['Female', 3.0], ['Female', 2.0]]"
      ]
     },
     "execution_count": 26,
     "metadata": {},
     "output_type": "execute_result"
    }
   ],
   "source": [
    "X"
   ]
  },
  {
   "cell_type": "markdown",
   "id": "434c02b8",
   "metadata": {},
   "source": [
    "## Mutation Experiment\n",
    "* We are trying to understand how mutation in a transformer affects other transformers in pipeline. "
   ]
  },
  {
   "cell_type": "code",
   "execution_count": 27,
   "id": "f0a185aa",
   "metadata": {},
   "outputs": [],
   "source": [
    "import pandas as pd\n",
    "from sklearn.pipeline import Pipeline\n",
    "from sklearn.base import BaseEstimator, TransformerMixin"
   ]
  },
  {
   "cell_type": "code",
   "execution_count": 81,
   "id": "17adc745",
   "metadata": {},
   "outputs": [],
   "source": [
    "# Sample DataFrame\n",
    "from sklearn.base import check_is_fitted\n",
    "\n",
    "\n",
    "X_df = pd.DataFrame({\n",
    "    \"col1\": [1, 4, 7],\n",
    "    \"col2\": [2, 5, 8],\n",
    "    \"col3\": [3, 6, 9]\n",
    "})\n",
    "\n",
    "\n",
    "class PandasMutatingTransformer(BaseEstimator, TransformerMixin):\n",
    "    def fit(self, X, y=None):\n",
    "        self.feature_names_in_ = np.array(X.columns, dtype=object)\n",
    "        return self\n",
    "\n",
    "    def transform(self, X, y=None):\n",
    "        print(\"Before mutation:\")\n",
    "        print(X)\n",
    "        # WARNING: Mutating original DataFrame\n",
    "        # X.drop(columns=[\"col2\"], inplace=True)\n",
    "        X[\"col2\"] = [\"a\",\"b\",\"c\"]\n",
    "        print(\"\\nAfter mutation:\")\n",
    "        print(X)\n",
    "        return X\n",
    "\n",
    "class PandasFailingTransformer(BaseEstimator, TransformerMixin):\n",
    "    def fit(self, X, y=None):\n",
    "        print(\"Fitting Pandas Failing Transformer\")\n",
    "        print(X)\n",
    "        return self\n",
    "\n",
    "    def transform(self, X, y=None):\n",
    "        # Try to access dropped column\n",
    "        print(\"\\nTrying to access col2:\", X[\"col2\"])\n",
    "        return X"
   ]
  },
  {
   "cell_type": "code",
   "execution_count": 82,
   "id": "0bbad010",
   "metadata": {},
   "outputs": [
    {
     "name": "stdout",
     "output_type": "stream",
     "text": [
      "Before mutation:\n",
      "   col1  col2  col3\n",
      "0     1     2     3\n",
      "1     4     5     6\n",
      "2     7     8     9\n",
      "\n",
      "After mutation:\n",
      "   col1 col2  col3\n",
      "0     1    a     3\n",
      "1     4    b     6\n",
      "2     7    c     9\n",
      "Fitting Pandas Failing Transformer\n",
      "   col1 col2  col3\n",
      "0     1    a     3\n",
      "1     4    b     6\n",
      "2     7    c     9\n",
      "\n",
      "Trying to access col2: 0    a\n",
      "1    b\n",
      "2    c\n",
      "Name: col2, dtype: object\n"
     ]
    },
    {
     "data": {
      "application/vnd.microsoft.datawrangler.viewer.v0+json": {
       "columns": [
        {
         "name": "index",
         "rawType": "int64",
         "type": "integer"
        },
        {
         "name": "col1",
         "rawType": "int64",
         "type": "integer"
        },
        {
         "name": "col2",
         "rawType": "object",
         "type": "string"
        },
        {
         "name": "col3",
         "rawType": "int64",
         "type": "integer"
        }
       ],
       "ref": "fd8a7d07-ad5e-40ca-9fe1-cee5c58d3e59",
       "rows": [
        [
         "0",
         "1",
         "a",
         "3"
        ],
        [
         "1",
         "4",
         "b",
         "6"
        ],
        [
         "2",
         "7",
         "c",
         "9"
        ]
       ],
       "shape": {
        "columns": 3,
        "rows": 3
       }
      },
      "text/html": [
       "<div>\n",
       "<style scoped>\n",
       "    .dataframe tbody tr th:only-of-type {\n",
       "        vertical-align: middle;\n",
       "    }\n",
       "\n",
       "    .dataframe tbody tr th {\n",
       "        vertical-align: top;\n",
       "    }\n",
       "\n",
       "    .dataframe thead th {\n",
       "        text-align: right;\n",
       "    }\n",
       "</style>\n",
       "<table border=\"1\" class=\"dataframe\">\n",
       "  <thead>\n",
       "    <tr style=\"text-align: right;\">\n",
       "      <th></th>\n",
       "      <th>col1</th>\n",
       "      <th>col2</th>\n",
       "      <th>col3</th>\n",
       "    </tr>\n",
       "  </thead>\n",
       "  <tbody>\n",
       "    <tr>\n",
       "      <th>0</th>\n",
       "      <td>1</td>\n",
       "      <td>a</td>\n",
       "      <td>3</td>\n",
       "    </tr>\n",
       "    <tr>\n",
       "      <th>1</th>\n",
       "      <td>4</td>\n",
       "      <td>b</td>\n",
       "      <td>6</td>\n",
       "    </tr>\n",
       "    <tr>\n",
       "      <th>2</th>\n",
       "      <td>7</td>\n",
       "      <td>c</td>\n",
       "      <td>9</td>\n",
       "    </tr>\n",
       "  </tbody>\n",
       "</table>\n",
       "</div>"
      ],
      "text/plain": [
       "   col1 col2  col3\n",
       "0     1    a     3\n",
       "1     4    b     6\n",
       "2     7    c     9"
      ]
     },
     "execution_count": 82,
     "metadata": {},
     "output_type": "execute_result"
    }
   ],
   "source": [
    "\n",
    "pipeline = Pipeline([\n",
    "    (\"mutator\", PandasMutatingTransformer()),\n",
    "    (\"failing\", PandasFailingTransformer())\n",
    "])\n",
    "\n",
    "temp = pipeline.fit_transform(X_df)\n",
    "temp"
   ]
  },
  {
   "cell_type": "code",
   "execution_count": 83,
   "id": "f34a247d",
   "metadata": {},
   "outputs": [
    {
     "data": {
      "application/vnd.microsoft.datawrangler.viewer.v0+json": {
       "columns": [
        {
         "name": "index",
         "rawType": "int64",
         "type": "integer"
        },
        {
         "name": "col1",
         "rawType": "int64",
         "type": "integer"
        },
        {
         "name": "col2",
         "rawType": "object",
         "type": "string"
        },
        {
         "name": "col3",
         "rawType": "int64",
         "type": "integer"
        }
       ],
       "ref": "81035bdb-8478-4121-8045-90e661ccdfd5",
       "rows": [
        [
         "0",
         "1",
         "a",
         "3"
        ],
        [
         "1",
         "4",
         "b",
         "6"
        ],
        [
         "2",
         "7",
         "c",
         "9"
        ]
       ],
       "shape": {
        "columns": 3,
        "rows": 3
       }
      },
      "text/html": [
       "<div>\n",
       "<style scoped>\n",
       "    .dataframe tbody tr th:only-of-type {\n",
       "        vertical-align: middle;\n",
       "    }\n",
       "\n",
       "    .dataframe tbody tr th {\n",
       "        vertical-align: top;\n",
       "    }\n",
       "\n",
       "    .dataframe thead th {\n",
       "        text-align: right;\n",
       "    }\n",
       "</style>\n",
       "<table border=\"1\" class=\"dataframe\">\n",
       "  <thead>\n",
       "    <tr style=\"text-align: right;\">\n",
       "      <th></th>\n",
       "      <th>col1</th>\n",
       "      <th>col2</th>\n",
       "      <th>col3</th>\n",
       "    </tr>\n",
       "  </thead>\n",
       "  <tbody>\n",
       "    <tr>\n",
       "      <th>0</th>\n",
       "      <td>1</td>\n",
       "      <td>a</td>\n",
       "      <td>3</td>\n",
       "    </tr>\n",
       "    <tr>\n",
       "      <th>1</th>\n",
       "      <td>4</td>\n",
       "      <td>b</td>\n",
       "      <td>6</td>\n",
       "    </tr>\n",
       "    <tr>\n",
       "      <th>2</th>\n",
       "      <td>7</td>\n",
       "      <td>c</td>\n",
       "      <td>9</td>\n",
       "    </tr>\n",
       "  </tbody>\n",
       "</table>\n",
       "</div>"
      ],
      "text/plain": [
       "   col1 col2  col3\n",
       "0     1    a     3\n",
       "1     4    b     6\n",
       "2     7    c     9"
      ]
     },
     "execution_count": 83,
     "metadata": {},
     "output_type": "execute_result"
    }
   ],
   "source": [
    "temp"
   ]
  },
  {
   "cell_type": "code",
   "execution_count": 84,
   "id": "e4f2c684",
   "metadata": {},
   "outputs": [
    {
     "data": {
      "application/vnd.microsoft.datawrangler.viewer.v0+json": {
       "columns": [
        {
         "name": "index",
         "rawType": "int64",
         "type": "integer"
        },
        {
         "name": "col1",
         "rawType": "int64",
         "type": "integer"
        },
        {
         "name": "col2",
         "rawType": "object",
         "type": "string"
        },
        {
         "name": "col3",
         "rawType": "int64",
         "type": "integer"
        }
       ],
       "ref": "322d0c39-278f-4341-97de-ba3c9f5b3fd4",
       "rows": [
        [
         "0",
         "1",
         "a",
         "3"
        ],
        [
         "1",
         "4",
         "b",
         "6"
        ],
        [
         "2",
         "7",
         "c",
         "9"
        ]
       ],
       "shape": {
        "columns": 3,
        "rows": 3
       }
      },
      "text/html": [
       "<div>\n",
       "<style scoped>\n",
       "    .dataframe tbody tr th:only-of-type {\n",
       "        vertical-align: middle;\n",
       "    }\n",
       "\n",
       "    .dataframe tbody tr th {\n",
       "        vertical-align: top;\n",
       "    }\n",
       "\n",
       "    .dataframe thead th {\n",
       "        text-align: right;\n",
       "    }\n",
       "</style>\n",
       "<table border=\"1\" class=\"dataframe\">\n",
       "  <thead>\n",
       "    <tr style=\"text-align: right;\">\n",
       "      <th></th>\n",
       "      <th>col1</th>\n",
       "      <th>col2</th>\n",
       "      <th>col3</th>\n",
       "    </tr>\n",
       "  </thead>\n",
       "  <tbody>\n",
       "    <tr>\n",
       "      <th>0</th>\n",
       "      <td>1</td>\n",
       "      <td>a</td>\n",
       "      <td>3</td>\n",
       "    </tr>\n",
       "    <tr>\n",
       "      <th>1</th>\n",
       "      <td>4</td>\n",
       "      <td>b</td>\n",
       "      <td>6</td>\n",
       "    </tr>\n",
       "    <tr>\n",
       "      <th>2</th>\n",
       "      <td>7</td>\n",
       "      <td>c</td>\n",
       "      <td>9</td>\n",
       "    </tr>\n",
       "  </tbody>\n",
       "</table>\n",
       "</div>"
      ],
      "text/plain": [
       "   col1 col2  col3\n",
       "0     1    a     3\n",
       "1     4    b     6\n",
       "2     7    c     9"
      ]
     },
     "execution_count": 84,
     "metadata": {},
     "output_type": "execute_result"
    }
   ],
   "source": [
    "X_df"
   ]
  },
  {
   "cell_type": "code",
   "execution_count": 88,
   "id": "85162021",
   "metadata": {},
   "outputs": [
    {
     "name": "stdout",
     "output_type": "stream",
     "text": [
      "Fitting Pandas Failing Transformer\n",
      "   col2\n",
      "0     2\n",
      "1     5\n",
      "2     8\n",
      "\n",
      "Trying to access col1: 0    2\n",
      "1    5\n",
      "2    8\n",
      "Name: col2, dtype: int64\n"
     ]
    }
   ],
   "source": [
    "\n",
    "X_df = pd.DataFrame({\n",
    "    \"col1\": [1, 4, 7],\n",
    "    \"col2\": [2, 5, 8],\n",
    "    \"col3\": [3, 6, 9]\n",
    "})\n",
    "\n",
    "class PandasAnotherMutatingTransformer(BaseEstimator, TransformerMixin):\n",
    "    def fit(self, X, y=None):\n",
    "        self.feature_names_in_ = np.array(X.columns, dtype=object)\n",
    "        return self\n",
    "\n",
    "    def transform(self, X, y=None):\n",
    "        print(\"Before mutation:\")\n",
    "        print(X)\n",
    "        # WARNING: Mutating original DataFrame\n",
    "        # X.drop(columns=[\"col1\"], inplace=True)\n",
    "        X[\"col2\"] = [\"a\",\"b\",\"c\"]\n",
    "        print(\"\\nAfter mutation:\")\n",
    "        print(X)\n",
    "        return X\n",
    "\n",
    "class PandasFailingTransformer(BaseEstimator, TransformerMixin):\n",
    "    def fit(self, X, y=None):\n",
    "        print(\"Fitting Pandas Failing Transformer\")\n",
    "        print(X)\n",
    "        return self\n",
    "\n",
    "    def transform(self, X, y=None):\n",
    "        # Try to access dropped column\n",
    "        print(\"\\nTrying to access col1:\", X[\"col2\"])\n",
    "        return X\n",
    "\n",
    "column_pipeline = ColumnTransformer([\n",
    "    (\"t1\", PandasAnotherMutatingTransformer(),[\"col1\",\"col2\"]),\n",
    "    (\"t2\", PandasFailingTransformer(), [\"col2\"])\n",
    "])\n",
    "\n",
    "temp = column_pipeline.fit_transform(X_df)"
   ]
  },
  {
   "cell_type": "code",
   "execution_count": 89,
   "id": "1b2853ff",
   "metadata": {},
   "outputs": [
    {
     "data": {
      "application/vnd.microsoft.datawrangler.viewer.v0+json": {
       "columns": [
        {
         "name": "index",
         "rawType": "int64",
         "type": "integer"
        },
        {
         "name": "col1",
         "rawType": "int64",
         "type": "integer"
        },
        {
         "name": "col2",
         "rawType": "int64",
         "type": "integer"
        },
        {
         "name": "col3",
         "rawType": "int64",
         "type": "integer"
        }
       ],
       "ref": "5f46d3da-daf3-44ce-b334-51aae38481cb",
       "rows": [
        [
         "0",
         "1",
         "2",
         "3"
        ],
        [
         "1",
         "4",
         "5",
         "6"
        ],
        [
         "2",
         "7",
         "8",
         "9"
        ]
       ],
       "shape": {
        "columns": 3,
        "rows": 3
       }
      },
      "text/html": [
       "<div>\n",
       "<style scoped>\n",
       "    .dataframe tbody tr th:only-of-type {\n",
       "        vertical-align: middle;\n",
       "    }\n",
       "\n",
       "    .dataframe tbody tr th {\n",
       "        vertical-align: top;\n",
       "    }\n",
       "\n",
       "    .dataframe thead th {\n",
       "        text-align: right;\n",
       "    }\n",
       "</style>\n",
       "<table border=\"1\" class=\"dataframe\">\n",
       "  <thead>\n",
       "    <tr style=\"text-align: right;\">\n",
       "      <th></th>\n",
       "      <th>col1</th>\n",
       "      <th>col2</th>\n",
       "      <th>col3</th>\n",
       "    </tr>\n",
       "  </thead>\n",
       "  <tbody>\n",
       "    <tr>\n",
       "      <th>0</th>\n",
       "      <td>1</td>\n",
       "      <td>2</td>\n",
       "      <td>3</td>\n",
       "    </tr>\n",
       "    <tr>\n",
       "      <th>1</th>\n",
       "      <td>4</td>\n",
       "      <td>5</td>\n",
       "      <td>6</td>\n",
       "    </tr>\n",
       "    <tr>\n",
       "      <th>2</th>\n",
       "      <td>7</td>\n",
       "      <td>8</td>\n",
       "      <td>9</td>\n",
       "    </tr>\n",
       "  </tbody>\n",
       "</table>\n",
       "</div>"
      ],
      "text/plain": [
       "   col1  col2  col3\n",
       "0     1     2     3\n",
       "1     4     5     6\n",
       "2     7     8     9"
      ]
     },
     "execution_count": 89,
     "metadata": {},
     "output_type": "execute_result"
    }
   ],
   "source": [
    "X_df"
   ]
  },
  {
   "cell_type": "markdown",
   "id": "a41c52c1",
   "metadata": {},
   "source": [
    "Observations:\n",
    "* So in case of pipeline same dataframe is passed from one transformer to another, so updating one column in dataframe without changes results into other transformers in pipeline getting same updated column.\n",
    "* In case of column transformers, each transformer gets its own copy of columns or dataset so updating dataset there doesn't affect the main dataset or rest of the column transformers. \n",
    "* Based on this some of the best practises could be,\n",
    "    * While editing the data always make a copy of the dataframe so as to avoid mutating the dataset.\n",
    "    * Always add transformed data a additional columns instead of updating existing columns. \n",
    "\n",
    "Questions:\n",
    "* Is there a pattern or practise regarding returning only transformed column vs returning original and transformed column?\n",
    "* How can we make the transformers robust so that we can use it in pipeline and or column transformer and they work as expected?"
   ]
  }
 ],
 "metadata": {
  "kernelspec": {
   "display_name": "venv",
   "language": "python",
   "name": "python3"
  },
  "language_info": {
   "codemirror_mode": {
    "name": "ipython",
    "version": 3
   },
   "file_extension": ".py",
   "mimetype": "text/x-python",
   "name": "python",
   "nbconvert_exporter": "python",
   "pygments_lexer": "ipython3",
   "version": "3.12.2"
  }
 },
 "nbformat": 4,
 "nbformat_minor": 5
}
